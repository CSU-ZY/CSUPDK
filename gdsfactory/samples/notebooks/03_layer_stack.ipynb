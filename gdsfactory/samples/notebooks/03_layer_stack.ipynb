{
 "cells": [
  {
   "cell_type": "markdown",
   "id": "e361ca33",
   "metadata": {},
   "source": [
    "# Generic_tech\n",
    "\n",
    "gdsfactory includes a generic Technology module in `gdsfactory.generic_tech` that you can use as an inspiration to create your own.\n",
    "\n",
    "## LayerMap\n",
    "\n",
    "A layer map maps layer names to a integer numbers pair  (GDSlayer, GDSpurpose)\n",
    "\n",
    "Each foundry uses different GDS layer numbers for different process steps.\n",
    "\n",
    "We follow the generic layer numbers from the book \"Silicon Photonics Design: From Devices to Systems Lukas Chrostowski, Michael Hochberg\".\n",
    "\n",
    "| GDS (layer, purpose) | layer_name | Description                                                 |\n",
    "| -------------------- | ---------- | ----------------------------------------------------------- |\n",
    "| 1 , 0                | WG         | 220 nm Silicon core                                         |\n",
    "| 2 , 0                | SLAB150    | 150nm Silicon slab (70nm shallow Etch for grating couplers) |\n",
    "| 3 , 0                | SLAB90     | 90nm Silicon slab (for modulators)                          |\n",
    "| 4, 0                 | DEEPTRENCH | Deep trench                                                 |\n",
    "| 47, 0                | MH         | heater                                                      |\n",
    "| 41, 0                | M1         | metal 1                                                     |\n",
    "| 45, 0                | M2         | metal 2                                                     |\n",
    "| 40, 0                | VIAC       | VIAC to contact Ge, NPP or PPP                              |\n",
    "| 44, 0                | VIA1       | VIA1                                                        |\n",
    "| 46, 0                | PADOPEN    | Bond pad opening                                            |\n",
    "| 51, 0                | UNDERCUT   | Undercut                                                    |\n",
    "| 66, 0                | TEXT       | Text markup                                                 |\n",
    "| 64, 0                | FLOORPLAN  | Mask floorplan                                              |\n"
   ]
  },
  {
   "cell_type": "code",
   "execution_count": null,
   "id": "2751a30d",
   "metadata": {},
   "outputs": [],
   "source": [
    "from pydantic import BaseModel\n",
    "from typing import Tuple\n",
    "\n",
    "import gdsfactory as gf\n",
    "from gdsfactory.generic_tech import LAYER, LAYER_STACK\n",
    "from gdsfactory.generic_tech.get_klayout_pyxs import get_klayout_pyxs\n",
    "from gdsfactory.technology import LayerLevel, LayerStack, LayerViews"
   ]
  },
  {
   "cell_type": "code",
   "execution_count": null,
   "id": "90a71568",
   "metadata": {},
   "outputs": [],
   "source": [
    "Layer = Tuple[int, int]\n",
    "\n",
    "gf.config.rich_output()\n",
    "PDK = gf.get_generic_pdk()\n",
    "PDK.activate()\n",
    "\n",
    "\n",
    "class GenericLayerMap(BaseModel):\n",
    "    \"\"\"Generic layermap based on book.\n",
    "\n",
    "    Lukas Chrostowski, Michael Hochberg, \"Silicon Photonics Design\",\n",
    "    Cambridge University Press 2015, page 353\n",
    "    You will need to create a new LayerMap with your specific foundry layers.\n",
    "    \"\"\"\n",
    "\n",
    "    WAFER: Layer = (99999, 0)\n",
    "\n",
    "    WG: Layer = (1, 0)\n",
    "    WGCLAD: Layer = (111, 0)\n",
    "    SLAB150: Layer = (2, 0)\n",
    "    SLAB90: Layer = (3, 0)\n",
    "    DEEPTRENCH: Layer = (4, 0)\n",
    "    GE: Layer = (5, 0)\n",
    "    UNDERCUT: Layer = (6, 0)\n",
    "    WGN: Layer = (34, 0)\n",
    "    WGN_CLAD: Layer = (36, 0)\n",
    "\n",
    "    N: Layer = (20, 0)\n",
    "    NP: Layer = (22, 0)\n",
    "    NPP: Layer = (24, 0)\n",
    "    P: Layer = (21, 0)\n",
    "    PP: Layer = (23, 0)\n",
    "    PPP: Layer = (25, 0)\n",
    "    GEN: Layer = (26, 0)\n",
    "    GEP: Layer = (27, 0)\n",
    "\n",
    "    HEATER: Layer = (47, 0)\n",
    "    M1: Layer = (41, 0)\n",
    "    M2: Layer = (45, 0)\n",
    "    M3: Layer = (49, 0)\n",
    "    VIAC: Layer = (40, 0)\n",
    "    VIA1: Layer = (44, 0)\n",
    "    VIA2: Layer = (43, 0)\n",
    "    PADOPEN: Layer = (46, 0)\n",
    "\n",
    "    DICING: Layer = (100, 0)\n",
    "    NO_TILE_SI: Layer = (71, 0)\n",
    "    PADDING: Layer = (67, 0)\n",
    "    DEVREC: Layer = (68, 0)\n",
    "    FLOORPLAN: Layer = (64, 0)\n",
    "    TEXT: Layer = (66, 0)\n",
    "    PORT: Layer = (1, 10)\n",
    "    PORTE: Layer = (1, 11)\n",
    "    PORTH: Layer = (70, 0)\n",
    "    SHOW_PORTS: Layer = (1, 12)\n",
    "    LABEL: Layer = (201, 0)\n",
    "    LABEL_SETTINGS: Layer = (202, 0)\n",
    "    TE: Layer = (203, 0)\n",
    "    TM: Layer = (204, 0)\n",
    "    DRC_MARKER: Layer = (205, 0)\n",
    "    LABEL_INSTANCE: Layer = (206, 0)\n",
    "    ERROR_MARKER: Layer = (207, 0)\n",
    "    ERROR_PATH: Layer = (208, 0)\n",
    "\n",
    "    SOURCE: Layer = (110, 0)\n",
    "    MONITOR: Layer = (101, 0)\n",
    "\n",
    "    class Config:\n",
    "        \"\"\"pydantic config.\"\"\"\n",
    "\n",
    "        frozen = True\n",
    "        extra = \"forbid\"\n",
    "\n",
    "\n",
    "LAYER = GenericLayerMap()\n",
    "LAYER"
   ]
  },
  {
   "cell_type": "code",
   "execution_count": null,
   "id": "f373abd2",
   "metadata": {},
   "outputs": [],
   "source": [
    "layer_wg = gf.LAYER.WG\n",
    "print(layer_wg)"
   ]
  },
  {
   "cell_type": "markdown",
   "id": "05239dd3",
   "metadata": {},
   "source": [
    "### Extract layers\n",
    "\n",
    "You can also extract layers using the `extract` function. This function returns a new flattened Component that contains the extracted layers.\n",
    "A flat Component does not have references, and all the polygons are absorbed into the top cell."
   ]
  },
  {
   "cell_type": "code",
   "execution_count": null,
   "id": "20c68946",
   "metadata": {},
   "outputs": [],
   "source": [
    "from gdsfactory.generic_tech import get_generic_pdk\n",
    "\n",
    "PDK = get_generic_pdk()\n",
    "PDK.activate()\n",
    "\n",
    "LAYER_VIEWS = PDK.layer_views\n",
    "c = LAYER_VIEWS.preview_layerset()\n",
    "c.plot()"
   ]
  },
  {
   "cell_type": "code",
   "execution_count": null,
   "id": "05e24abc",
   "metadata": {},
   "outputs": [],
   "source": [
    "extract = c.extract(layers=(gf.LAYER.M1, gf.LAYER.VIAC))\n",
    "extract"
   ]
  },
  {
   "cell_type": "markdown",
   "id": "eef19a82",
   "metadata": {},
   "source": [
    "### Remove layers\n",
    "\n",
    "You can remove layers using the `remove_layers()` function."
   ]
  },
  {
   "cell_type": "code",
   "execution_count": null,
   "id": "9669cad7",
   "metadata": {},
   "outputs": [],
   "source": [
    "removed = extract.remove_layers(layers=(gf.LAYER.VIAC,))\n",
    "removed"
   ]
  },
  {
   "cell_type": "markdown",
   "id": "eeb994fa",
   "metadata": {},
   "source": [
    "### Remap layers\n",
    "\n",
    "You can remap (change the polygons from one layer to another layer) using the `remap_layer`, which will return a new `Component`"
   ]
  },
  {
   "cell_type": "code",
   "execution_count": null,
   "id": "28eeceab",
   "metadata": {},
   "outputs": [],
   "source": [
    "c = gf.components.straight(layer=(2, 0))\n",
    "c.plot()"
   ]
  },
  {
   "cell_type": "code",
   "execution_count": null,
   "id": "65523a49",
   "metadata": {},
   "outputs": [],
   "source": [
    "remap = c.remap_layers(layermap={(2, 0): gf.LAYER.WGN})\n",
    "remap"
   ]
  },
  {
   "cell_type": "markdown",
   "id": "043ecf1d",
   "metadata": {},
   "source": [
    "## LayerViews\n",
    "\n",
    "Klayout shows each GDS layer with a color, style and transparency\n",
    "\n",
    "You can define your layerViews in a klayout Layer Properties file `layers.lyp` or in `YAML` format\n",
    "\n",
    "We recommend using YAML and then generate the lyp in klayout, as YAML is easier to modify than XML."
   ]
  },
  {
   "cell_type": "code",
   "execution_count": null,
   "id": "f365613e",
   "metadata": {},
   "outputs": [],
   "source": [
    "from IPython.display import Code\n",
    "from gdsfactory.config import PATH\n",
    "\n",
    "Code(filename=PATH.klayout_yaml)"
   ]
  },
  {
   "cell_type": "markdown",
   "id": "d2151b7d",
   "metadata": {},
   "source": [
    "Once you modify the `YAML` file you can easily write it to klayout layer properties `lyp` or the other way around.\n",
    "\n",
    "```\n",
    "YAML <---> LYP\n",
    "```\n",
    "\n",
    "The functions `LayerView.to_lyp(filepath)` and `LayerView.to_yaml(filepath)` allow you to convert from each other.\n",
    "\n",
    "LYP is based on XML so it's much easier to make changes and maintain the equivalent YAML file."
   ]
  },
  {
   "cell_type": "markdown",
   "id": "b90b5973",
   "metadata": {},
   "source": [
    "### YAML -> LYP\n",
    "\n",
    "You can easily convert from YAML into Klayout Layer Properties."
   ]
  },
  {
   "cell_type": "code",
   "execution_count": null,
   "id": "94a80ff4",
   "metadata": {},
   "outputs": [],
   "source": [
    "LAYER_VIEWS = LayerViews(filepath=PATH.klayout_lyp)\n",
    "LAYER_VIEWS.to_lyp(\"extra/klayout_layers.lyp\")"
   ]
  },
  {
   "cell_type": "markdown",
   "id": "6ce81d90",
   "metadata": {},
   "source": [
    "### LYP -> YAML\n",
    "\n",
    "Sometimes you start from an LYP XML file. We recommend converting to YAML and using the YAML as the layer views source of truth.\n",
    "\n",
    "Layers in YAML are easier to read and modify than doing it in klayout XML format."
   ]
  },
  {
   "cell_type": "code",
   "execution_count": null,
   "id": "ecd6d7e0",
   "metadata": {},
   "outputs": [],
   "source": [
    "LAYER_VIEWS = LayerViews(filepath=PATH.klayout_lyp)\n",
    "LAYER_VIEWS.to_yaml(\"extra/layers.yaml\")"
   ]
  },
  {
   "cell_type": "markdown",
   "id": "a76e1bc4",
   "metadata": {},
   "source": [
    "### Preview layerset\n",
    "\n",
    "You can preview all the layers defined in your `LayerViews`"
   ]
  },
  {
   "cell_type": "code",
   "execution_count": null,
   "id": "647ec5bc",
   "metadata": {},
   "outputs": [],
   "source": [
    "c = LAYER_VIEWS.preview_layerset()\n",
    "c.plot()"
   ]
  },
  {
   "cell_type": "markdown",
   "id": "b82ef882",
   "metadata": {},
   "source": [
    "By default the generic PDK has some layers that are not visible and therefore are not shown."
   ]
  },
  {
   "cell_type": "code",
   "execution_count": null,
   "id": "83441395",
   "metadata": {},
   "outputs": [],
   "source": [
    "c_wg_clad = c.extract(layers=gf.LAYER.WGCLAD)\n",
    "c_wg_clad"
   ]
  },
  {
   "cell_type": "code",
   "execution_count": null,
   "id": "fb307122",
   "metadata": {},
   "outputs": [],
   "source": [
    "LAYER_VIEWS.layer_views[\"WGCLAD\"]"
   ]
  },
  {
   "cell_type": "code",
   "execution_count": null,
   "id": "0f862201",
   "metadata": {},
   "outputs": [],
   "source": [
    "LAYER_VIEWS.layer_views[\"WGCLAD\"].visible"
   ]
  },
  {
   "cell_type": "markdown",
   "id": "85a01d48",
   "metadata": {},
   "source": [
    "You can make it visible"
   ]
  },
  {
   "cell_type": "code",
   "execution_count": null,
   "id": "891241c0",
   "metadata": {},
   "outputs": [],
   "source": [
    "LAYER_VIEWS.layer_views[\"WGCLAD\"].visible = True"
   ]
  },
  {
   "cell_type": "code",
   "execution_count": null,
   "id": "3479ef49",
   "metadata": {},
   "outputs": [],
   "source": [
    "LAYER_VIEWS.layer_views[\"WGCLAD\"].visible"
   ]
  },
  {
   "cell_type": "code",
   "execution_count": null,
   "id": "aec85b0e",
   "metadata": {},
   "outputs": [],
   "source": [
    "c_wg_clad = c.extract(layers=gf.LAYER.WGCLAD)\n",
    "c_wg_clad"
   ]
  },
  {
   "cell_type": "markdown",
   "id": "4d640647",
   "metadata": {},
   "source": [
    "## LayerStack\n",
    "\n",
    "Each layer also includes the information of thickness and position of each layer.\n",
    "\n",
    "This LayerStack can be used for creating a 3D model with `Component.to_3d` or running Simulations.\n",
    "\n",
    "A GDS has different layers to describe the different fabrication process steps. And each grown layer needs thickness information and z-position in the stack.\n",
    "\n",
    "![layer stack](https://i.imgur.com/GUb1Kav.png)\n",
    "\n",
    "Lets define the layer stack for the generic layers in the generic_technology."
   ]
  },
  {
   "cell_type": "code",
   "execution_count": null,
   "id": "5b3b0818",
   "metadata": {},
   "outputs": [],
   "source": [
    "from gdsfactory.generic_tech.layer_map import LAYER\n",
    "from gdsfactory.technology import LayerLevel, LayerStack\n",
    "\n",
    "nm = 1e-3\n",
    "\n",
    "\n",
    "def get_layer_stack(\n",
    "    thickness_wg: float = 220 * nm,\n",
    "    thickness_slab_deep_etch: float = 90 * nm,\n",
    "    thickness_slab_shallow_etch: float = 150 * nm,\n",
    "    sidewall_angle_wg: float = 10,\n",
    "    thickness_clad: float = 3.0,\n",
    "    thickness_nitride: float = 350 * nm,\n",
    "    thickness_ge: float = 500 * nm,\n",
    "    gap_silicon_to_nitride: float = 100 * nm,\n",
    "    zmin_heater: float = 1.1,\n",
    "    zmin_metal1: float = 1.1,\n",
    "    thickness_metal1: float = 700 * nm,\n",
    "    zmin_metal2: float = 2.3,\n",
    "    thickness_metal2: float = 700 * nm,\n",
    "    zmin_metal3: float = 3.2,\n",
    "    thickness_metal3: float = 2000 * nm,\n",
    "    substrate_thickness: float = 10.0,\n",
    "    box_thickness: float = 3.0,\n",
    "    undercut_thickness: float = 5.0,\n",
    ") -> LayerStack:\n",
    "    \"\"\"Returns generic LayerStack.\n",
    "\n",
    "    based on paper https://www.degruyter.com/document/doi/10.1515/nanoph-2013-0034/html\n",
    "\n",
    "    Args:\n",
    "        thickness_wg: waveguide thickness in um.\n",
    "        thickness_slab_deep_etch: for deep etched slab.\n",
    "        thickness_shallow_etch: thickness for the etch.\n",
    "        sidewall_angle_wg: waveguide side angle.\n",
    "        thickness_clad: cladding thickness in um.\n",
    "        thickness_nitride: nitride thickness in um.\n",
    "        thickness_ge: germanium thickness.\n",
    "        gap_silicon_to_nitride: distance from silicon to nitride in um.\n",
    "        zmin_heater: TiN heater.\n",
    "        zmin_metal1: metal1.\n",
    "        thickness_metal1: metal1 thickness.\n",
    "        zmin_metal2: metal2.\n",
    "        thickness_metal2: metal2 thickness.\n",
    "        zmin_metal3: metal3.\n",
    "        thickness_metal3: metal3 thickness.\n",
    "        substrate_thickness: substrate thickness in um.\n",
    "        box_thickness: bottom oxide thickness in um.\n",
    "        undercut_thickness: thickness of the silicon undercut.\n",
    "    \"\"\"\n",
    "\n",
    "    thickness_deep_etch = thickness_wg - thickness_slab_deep_etch\n",
    "    thickness_shallow_etch = thickness_wg - thickness_slab_shallow_etch\n",
    "\n",
    "    class GenericLayerStack(LayerStack):\n",
    "        substrate = LayerLevel(\n",
    "            layer=LAYER.WAFER,\n",
    "            thickness=substrate_thickness,\n",
    "            zmin=-substrate_thickness - box_thickness,\n",
    "            material=\"si\",\n",
    "            mesh_order=99,\n",
    "        )\n",
    "        box = LayerLevel(\n",
    "            layer=LAYER.WAFER,\n",
    "            thickness=box_thickness,\n",
    "            zmin=-box_thickness,\n",
    "            material=\"sio2\",\n",
    "            mesh_order=99,\n",
    "        )\n",
    "        core = LayerLevel(\n",
    "            layer=LAYER.WG,\n",
    "            thickness=thickness_wg,\n",
    "            zmin=0.0,\n",
    "            material=\"si\",\n",
    "            mesh_order=2,\n",
    "            sidewall_angle=sidewall_angle_wg,\n",
    "            width_to_z=0.5,\n",
    "        )\n",
    "        shallow_etch = LayerLevel(\n",
    "            layer=LAYER.SHALLOW_ETCH,\n",
    "            thickness=thickness_shallow_etch,\n",
    "            zmin=0.0,\n",
    "            material=\"si\",\n",
    "            mesh_order=1,\n",
    "            layer_type=\"etch\",\n",
    "            into=[\"core\"],\n",
    "            derived_layer=LAYER.SLAB150,\n",
    "        )\n",
    "        deep_etch = LayerLevel(\n",
    "            layer=LAYER.DEEP_ETCH,\n",
    "            thickness=thickness_deep_etch,\n",
    "            zmin=0.0,\n",
    "            material=\"si\",\n",
    "            mesh_order=1,\n",
    "            layer_type=\"etch\",\n",
    "            into=[\"core\"],\n",
    "            derived_layer=LAYER.SLAB90,\n",
    "        )\n",
    "        clad = LayerLevel(\n",
    "            # layer=LAYER.WGCLAD,\n",
    "            layer=LAYER.WAFER,\n",
    "            zmin=0.0,\n",
    "            material=\"sio2\",\n",
    "            thickness=thickness_clad,\n",
    "            mesh_order=10,\n",
    "        )\n",
    "        slab150 = LayerLevel(\n",
    "            layer=LAYER.SLAB150,\n",
    "            thickness=150e-3,\n",
    "            zmin=0,\n",
    "            material=\"si\",\n",
    "            mesh_order=3,\n",
    "        )\n",
    "        slab90 = LayerLevel(\n",
    "            layer=LAYER.SLAB90,\n",
    "            thickness=thickness_slab_deep_etch,\n",
    "            zmin=0.0,\n",
    "            material=\"si\",\n",
    "            mesh_order=2,\n",
    "        )\n",
    "        nitride = LayerLevel(\n",
    "            layer=LAYER.WGN,\n",
    "            thickness=thickness_nitride,\n",
    "            zmin=thickness_wg + gap_silicon_to_nitride,\n",
    "            material=\"sin\",\n",
    "            mesh_order=2,\n",
    "        )\n",
    "        ge = LayerLevel(\n",
    "            layer=LAYER.GE,\n",
    "            thickness=thickness_ge,\n",
    "            zmin=thickness_wg,\n",
    "            material=\"ge\",\n",
    "            mesh_order=1,\n",
    "        )\n",
    "        undercut = LayerLevel(\n",
    "            layer=LAYER.UNDERCUT,\n",
    "            thickness=-undercut_thickness,\n",
    "            zmin=-box_thickness,\n",
    "            material=\"air\",\n",
    "            z_to_bias=[\n",
    "                [0, 0.3, 0.6, 0.8, 0.9, 1],\n",
    "                [-0, -0.5, -1, -1.5, -2, -2.5],\n",
    "            ],\n",
    "            mesh_order=1,\n",
    "        )\n",
    "        via_contact = LayerLevel(\n",
    "            layer=LAYER.VIAC,\n",
    "            thickness=zmin_metal1 - thickness_slab_deep_etch,\n",
    "            zmin=thickness_slab_deep_etch,\n",
    "            material=\"Aluminum\",\n",
    "            mesh_order=1,\n",
    "            sidewall_angle=-10,\n",
    "            width_to_z=0,\n",
    "        )\n",
    "        metal1 = LayerLevel(\n",
    "            layer=LAYER.M1,\n",
    "            thickness=thickness_metal1,\n",
    "            zmin=zmin_metal1,\n",
    "            material=\"Aluminum\",\n",
    "            mesh_order=2,\n",
    "        )\n",
    "        heater = LayerLevel(\n",
    "            layer=LAYER.HEATER,\n",
    "            thickness=750e-3,\n",
    "            zmin=zmin_heater,\n",
    "            material=\"TiN\",\n",
    "            mesh_order=1,\n",
    "        )\n",
    "        via1 = LayerLevel(\n",
    "            layer=LAYER.VIA1,\n",
    "            thickness=zmin_metal2 - (zmin_metal1 + thickness_metal1),\n",
    "            zmin=zmin_metal1 + thickness_metal1,\n",
    "            material=\"Aluminum\",\n",
    "            mesh_order=2,\n",
    "        )\n",
    "        metal2 = LayerLevel(\n",
    "            layer=LAYER.M2,\n",
    "            thickness=thickness_metal2,\n",
    "            zmin=zmin_metal2,\n",
    "            material=\"Aluminum\",\n",
    "            mesh_order=2,\n",
    "        )\n",
    "        via2 = LayerLevel(\n",
    "            layer=LAYER.VIA2,\n",
    "            thickness=zmin_metal3 - (zmin_metal2 + thickness_metal2),\n",
    "            zmin=zmin_metal2 + thickness_metal2,\n",
    "            material=\"Aluminum\",\n",
    "            mesh_order=1,\n",
    "        )\n",
    "        metal3 = LayerLevel(\n",
    "            layer=LAYER.M3,\n",
    "            thickness=thickness_metal3,\n",
    "            zmin=zmin_metal3,\n",
    "            material=\"Aluminum\",\n",
    "            mesh_order=2,\n",
    "        )\n",
    "\n",
    "    return GenericLayerStack()\n",
    "\n",
    "\n",
    "LAYER_STACK = get_layer_stack()\n",
    "layer_stack220 = LAYER_STACK"
   ]
  },
  {
   "cell_type": "code",
   "execution_count": null,
   "id": "beb0834d",
   "metadata": {},
   "outputs": [],
   "source": [
    "import gdsfactory as gf\n",
    "\n",
    "c = gf.components.straight_heater_doped_rib(length=100)\n",
    "c.plot()"
   ]
  },
  {
   "cell_type": "code",
   "execution_count": null,
   "id": "03fb8b89",
   "metadata": {},
   "outputs": [],
   "source": [
    "scene = c.to_3d(layer_stack=layer_stack220)\n",
    "scene.show()"
   ]
  },
  {
   "cell_type": "code",
   "execution_count": null,
   "id": "8144123d",
   "metadata": {},
   "outputs": [],
   "source": [
    "import gdsfactory as gf\n",
    "\n",
    "c = gf.components.straight_heater_metal(length=40)\n",
    "c.plot()"
   ]
  },
  {
   "cell_type": "code",
   "execution_count": null,
   "id": "e8fba0c7",
   "metadata": {},
   "outputs": [],
   "source": [
    "scene = c.to_3d(layer_stack=layer_stack220)\n",
    "scene.show()"
   ]
  },
  {
   "cell_type": "code",
   "execution_count": null,
   "id": "9be416b8",
   "metadata": {},
   "outputs": [],
   "source": [
    "import gdsfactory as gf\n",
    "\n",
    "c = gf.components.taper_strip_to_ridge_trenches()\n",
    "c.plot()"
   ]
  },
  {
   "cell_type": "code",
   "execution_count": null,
   "id": "b61bf5a5",
   "metadata": {},
   "outputs": [],
   "source": [
    "scene = c.to_3d(layer_stack=layer_stack220)\n",
    "scene.show()"
   ]
  },
  {
   "cell_type": "code",
   "execution_count": null,
   "id": "21e4750a",
   "metadata": {},
   "outputs": [],
   "source": [
    "# lets assume we have 900nm silicon instead of 220nm, You will see a much thicker waveguide under the metal heater.\n",
    "layer_stack900 = get_layer_stack(thickness_wg=900 * nm)\n",
    "scene = c.to_3d(layer_stack=layer_stack900)\n",
    "scene.show()"
   ]
  },
  {
   "cell_type": "code",
   "execution_count": null,
   "id": "655fe3ca",
   "metadata": {},
   "outputs": [],
   "source": [
    "import gdsfactory as gf\n",
    "\n",
    "c = gf.components.grating_coupler_elliptical_trenches()\n",
    "c.plot()"
   ]
  },
  {
   "cell_type": "code",
   "execution_count": null,
   "id": "2a3ef6a9",
   "metadata": {},
   "outputs": [],
   "source": [
    "scene = c.to_3d()\n",
    "scene.show()"
   ]
  },
  {
   "cell_type": "markdown",
   "id": "f31eb9b5",
   "metadata": {},
   "source": [
    "### 3D rendering\n",
    "\n",
    "To render components in 3D you will need to define two things:\n",
    "\n",
    "1. LayerStack: for each layer contains thickness of each material and z position\n",
    "2. LayerViews: for each layer contains view (color, pattern, opacity). You can load it with `gf.technology.LayerView.load_lyp()`"
   ]
  },
  {
   "cell_type": "code",
   "execution_count": null,
   "id": "e2a76e42",
   "metadata": {},
   "outputs": [],
   "source": [
    "heater = gf.components.straight_heater_metal(length=50)\n",
    "heater.plot()"
   ]
  },
  {
   "cell_type": "code",
   "execution_count": null,
   "id": "64f6af77",
   "metadata": {},
   "outputs": [],
   "source": [
    "scene = heater.to_3d()\n",
    "scene.show()"
   ]
  },
  {
   "cell_type": "markdown",
   "id": "25a39fe4",
   "metadata": {},
   "source": [
    "### Klayout 2.5D view\n",
    "\n",
    "From the `LayerStack` you can generate the KLayout 2.5D view script."
   ]
  },
  {
   "cell_type": "code",
   "execution_count": null,
   "id": "37e1f1d4",
   "metadata": {},
   "outputs": [],
   "source": [
    "LAYER_STACK.get_klayout_3d_script()"
   ]
  },
  {
   "cell_type": "markdown",
   "id": "87bcc15b",
   "metadata": {},
   "source": [
    "Then you go go Tools → Manage Technologies\n",
    "\n",
    "\n",
    "![klayout](https://i.imgur.com/KCcMRBO.png)\n",
    "\n",
    "and Paste the 2.5D view script\n",
    "\n",
    "![paste](https://i.imgur.com/CoTythB.png)"
   ]
  },
  {
   "cell_type": "markdown",
   "id": "d6326ca2",
   "metadata": {},
   "source": [
    "### Klayout cross-section\n",
    "\n",
    "You can also install the [KLayout cross-section plugin](https://gdsfactory.github.io/klayout_pyxs/README.html)\n",
    "\n",
    "![xsection](https://i.imgur.com/xpPS8fM.png)\n",
    "\n",
    "This is not integrated with the LayerStack but you can customize the script in `gdsfactory.generic_tech.get_klayout_pyxs` for your technology."
   ]
  },
  {
   "cell_type": "code",
   "execution_count": null,
   "id": "f8f9c5ab",
   "metadata": {
    "lines_to_next_cell": 2
   },
   "outputs": [],
   "source": [
    "nm = 1e-3\n",
    "if __name__ == \"__main__\":\n",
    "    script = get_klayout_pyxs(\n",
    "        t_box=2.0,\n",
    "        t_slab=110 * nm,\n",
    "        t_si=220 * nm,\n",
    "        t_ge=400 * nm,\n",
    "        t_nitride=400 * nm,\n",
    "        h_etch1=0.07,\n",
    "        h_etch2=0.06,\n",
    "        h_etch3=0.09,\n",
    "        t_clad=0.6,\n",
    "        t_m1=0.5,\n",
    "        t_m2=0.5,\n",
    "        t_m3=2.0,\n",
    "        gap_m1_m2=0.6,\n",
    "        gap_m2_m3=0.3,\n",
    "        t_heater=0.1,\n",
    "        gap_oxide_nitride=0.82,\n",
    "        t_m1_oxide=0.6,\n",
    "        t_m2_oxide=2.0,\n",
    "        t_m3_oxide=0.5,\n",
    "        layer_wg=LAYER.WG,\n",
    "        layer_fc=LAYER.SLAB150,\n",
    "        layer_rib=LAYER.SLAB90,\n",
    "        layer_n=LAYER.N,\n",
    "        layer_np=LAYER.NP,\n",
    "        layer_npp=LAYER.NPP,\n",
    "        layer_p=LAYER.P,\n",
    "        layer_pp=LAYER.PP,\n",
    "        layer_ppp=LAYER.PPP,\n",
    "        layer_PDPP=LAYER.GEP,\n",
    "        layer_nitride=LAYER.WGN,\n",
    "        layer_Ge=LAYER.GE,\n",
    "        layer_GePPp=LAYER.GEP,\n",
    "        layer_GeNPP=LAYER.GEN,\n",
    "        layer_viac=LAYER.VIAC,\n",
    "        layer_viac_slot=LAYER.VIAC,\n",
    "        layer_m1=LAYER.M1,\n",
    "        layer_mh=LAYER.HEATER,\n",
    "        layer_via1=LAYER.VIA1,\n",
    "        layer_m2=LAYER.M2,\n",
    "        layer_via2=LAYER.VIA2,\n",
    "        layer_m3=LAYER.M3,\n",
    "        layer_open=LAYER.PADOPEN,\n",
    "    )\n",
    "\n",
    "    # script_path = pathlib.Path(__file__).parent.absolute() / \"xsection_planarized.pyxs\"\n",
    "    # script_path.write_text(script)\n",
    "    print(script)"
   ]
  },
  {
   "cell_type": "markdown",
   "id": "ed6287b1",
   "metadata": {},
   "source": [
    "![xsection generic](https://i.imgur.com/H5Qiygc.png)"
   ]
  }
 ],
 "metadata": {
  "jupytext": {
   "cell_metadata_filter": "-all",
   "formats": "md,ipynb",
   "main_language": "python",
   "notebook_metadata_filter": "-all"
  }
 },
 "nbformat": 4,
 "nbformat_minor": 5
}
