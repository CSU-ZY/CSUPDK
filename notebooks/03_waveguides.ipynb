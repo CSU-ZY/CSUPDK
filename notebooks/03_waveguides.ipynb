{
 "cells": [
  {
   "cell_type": "code",
   "execution_count": null,
   "metadata": {},
   "outputs": [],
   "source": [
    "import matplotlib.pyplot as plt\n",
    "plt.rcParams['figure.figsize'] = [8, 4]\n",
    "plt.rcParams['font.size'] = 12"
   ]
  },
  {
   "cell_type": "markdown",
   "metadata": {},
   "source": [
    "# Paths and waveguides\n",
    "\n",
    "gdsfactory leverages [PHIDL](https://github.com/amccaugh/phidl) efficient\n",
    "module for creating smooth curves, particularly useful for creating waveguide\n",
    "structures such as those used in photonics. Creating a path device is simple:\n",
    "\n",
    "- Create a blank `Path`\n",
    "- Append points to the `Path` either using the built-in functions (`arc()`,\n",
    "`straight()`, `euler()`, etc) or by providing your own lists of points\n",
    "- Specify what you want the cross-section (`CrossSection`) to look like\n",
    "- Combine the `Path` and the `CrossSection` (will output a Device with the path\n",
    "polygons in it)\n",
    "\n",
    "## Path creation\n",
    "\n",
    "The first step is to generate the list of points we want the path to follow.\n",
    "Let's start out by creating a blank `Path` and using the built-in functions to\n",
    "make a few smooth turns."
   ]
  },
  {
   "cell_type": "code",
   "execution_count": null,
   "metadata": {},
   "outputs": [],
   "source": [
    "from pp import Path, CrossSection, Component, qp\n",
    "from pp import path as pa\n",
    "import numpy as np\n",
    "\n",
    "P = Path()\n",
    "P.append( pa.arc(radius = 10, angle = 90) )   # Circular arc\n",
    "P.append( pa.straight(length = 10) )          # Straight section\n",
    "P.append( pa.euler(radius = 3, angle = -90) ) # Euler bend (aka \"racetrack\" curve)\n",
    "P.append( pa.straight(length = 40) )\n",
    "P.append( pa.arc(radius = 8, angle = -45) )\n",
    "P.append( pa.straight(length = 10) )\n",
    "P.append( pa.arc(radius = 8, angle = 45) )\n",
    "P.append( pa.straight(length = 10) )\n",
    "\n",
    "qp(P)"
   ]
  },
  {
   "cell_type": "markdown",
   "metadata": {},
   "source": [
    "We can also modify our Path in the same ways as any other PHIDL object:\n",
    "\n",
    "- Manipulation with `move()`, `rotate()`, `mirror()`, etc\n",
    "- Accessing properties like `xmin`, `y`, `center`, `bbox`, etc"
   ]
  },
  {
   "cell_type": "code",
   "execution_count": null,
   "metadata": {},
   "outputs": [],
   "source": [
    "P.movey(10)\n",
    "P.xmin = 20\n",
    "qp(P)"
   ]
  },
  {
   "cell_type": "markdown",
   "metadata": {},
   "source": [
    "We can also check the length of the curve with the `length()` method:"
   ]
  },
  {
   "cell_type": "code",
   "execution_count": null,
   "metadata": {},
   "outputs": [],
   "source": [
    "P.length()"
   ]
  },
  {
   "cell_type": "markdown",
   "metadata": {},
   "source": [
    "## Defining the cross-section\n",
    "\n",
    "Now that we've got our path defined, the next step is to tell phidl what we want\n",
    "the cross-section of the path to look like.  To do this, we create a blank\n",
    "`CrossSection` and add whatever cross-sections we want to it.  We can then\n",
    "combine the `Path` and the `CrossSection` using the `extrude()` function to\n",
    "generate our final geometry:"
   ]
  },
  {
   "cell_type": "code",
   "execution_count": null,
   "metadata": {},
   "outputs": [],
   "source": [
    "# Create a blank CrossSection\n",
    "X = CrossSection()\n",
    "\n",
    "# Add a single \"section\" to the cross-section\n",
    "X.add(width = 1, offset = 0, layer = 0)\n",
    "\n",
    "# Combine the Path and the CrossSection\n",
    "waveguide_device = P.extrude(cross_section = X)\n",
    "\n",
    "# Quickplot the resulting Component\n",
    "qp(waveguide_device)"
   ]
  },
  {
   "cell_type": "markdown",
   "metadata": {},
   "source": [
    "Now, what if we want a more complicated waveguide?  For instance, in some\n",
    "photonic applications it's helpful to have a shallow etch that appears on either\n",
    "side of the waveguide (often called a \"sleeve).  Additionally, it might be nice\n",
    "to have a Port on either end of the center section so we can snap other\n",
    "geometries to it.  Let's try adding something like that in:"
   ]
  },
  {
   "cell_type": "code",
   "execution_count": null,
   "metadata": {},
   "outputs": [],
   "source": [
    "# Create a blank CrossSection\n",
    "X = CrossSection()\n",
    "\n",
    "# Add a a few \"sections\" to the cross-section\n",
    "X.add(width = 1, offset = 0, layer = 0, ports = ('in','out'))\n",
    "X.add(width = 3, offset = 2, layer = 2)\n",
    "X.add(width = 3, offset = -2, layer = 2)\n",
    "\n",
    "# Combine the Path and the CrossSection\n",
    "waveguide_device = P.extrude(cross_section = X)\n",
    "\n",
    "# Quickplot the resulting Component\n",
    "qp(waveguide_device)"
   ]
  },
  {
   "cell_type": "markdown",
   "metadata": {},
   "source": [
    "## Building Paths quickly\n",
    "\n",
    "You can pass `append()` lists of path segments.  This makes it easy to combine\n",
    "paths very quickly.  Below we show 3 examples using this functionality:\n",
    "\n",
    "**Example 1:** Assemble a complex path by making a list of Paths and passing it\n",
    "to `append()`"
   ]
  },
  {
   "cell_type": "code",
   "execution_count": null,
   "metadata": {},
   "outputs": [],
   "source": [
    "P = Path()\n",
    "\n",
    "# Create the basic Path components\n",
    "left_turn = pa.euler(radius = 4, angle = 90)\n",
    "right_turn = pa.euler(radius = 4, angle = -90)\n",
    "straight = pa.straight(length = 10)\n",
    "\n",
    "# Assemble a complex path by making list of Paths and passing it to `append()`\n",
    "P.append([\n",
    "    straight,\n",
    "    left_turn,\n",
    "    straight,\n",
    "    right_turn,\n",
    "    straight,\n",
    "    straight,\n",
    "    right_turn,\n",
    "    left_turn,\n",
    "    straight,\n",
    "])\n",
    "\n",
    "qp(P)"
   ]
  },
  {
   "cell_type": "markdown",
   "metadata": {},
   "source": [
    "**Example 2:** Create an \"S-turn\" just by making a list of `[left_turn,\n",
    "right_turn]`"
   ]
  },
  {
   "cell_type": "code",
   "execution_count": null,
   "metadata": {},
   "outputs": [],
   "source": [
    "P = Path()\n",
    "\n",
    "# Create an \"S-turn\" just by making a list\n",
    "s_turn = [left_turn, right_turn]\n",
    "\n",
    "P.append(s_turn)\n",
    "\n",
    "qp(P)"
   ]
  },
  {
   "cell_type": "markdown",
   "metadata": {},
   "source": [
    "**Example 3:** Repeat the S-turn 3 times by nesting our S-turn list in another\n",
    "list"
   ]
  },
  {
   "cell_type": "code",
   "execution_count": null,
   "metadata": {},
   "outputs": [],
   "source": [
    "P = Path()\n",
    "\n",
    "# Create an \"S-turn\" using a list\n",
    "s_turn = [left_turn, right_turn]\n",
    "# Repeat the S-turn 3 times by nesting our S-turn list 3x times in another list\n",
    "triple_s_turn = [s_turn, s_turn, s_turn]\n",
    "\n",
    "P.append(triple_s_turn)\n",
    "\n",
    "qp(P)"
   ]
  },
  {
   "cell_type": "markdown",
   "metadata": {},
   "source": [
    "Note you can also use the Path() constructor to immediately contruct your Path:"
   ]
  },
  {
   "cell_type": "code",
   "execution_count": null,
   "metadata": {},
   "outputs": [],
   "source": [
    "P = Path([straight, left_turn, straight, right_turn, straight])\n",
    "qp(P)"
   ]
  },
  {
   "cell_type": "markdown",
   "metadata": {},
   "source": [
    "## Custom curves\n",
    "\n",
    "Now let's have some fun and try to make a loop-de-loop structure with parallel\n",
    "waveguides and several Ports.\n",
    "\n",
    "To create a new type of curve we simply make a function that produces an array\n",
    "of points.  The best way to do that is to create a function which allows you to\n",
    "specify a large number of points along that curve -- in the case below, the\n",
    "`looploop()` function outputs 1000 points along a looping path.  Later, if we\n",
    "want reduce the number of points in our geometry we can trivially `simplify` the\n",
    "path."
   ]
  },
  {
   "cell_type": "code",
   "execution_count": null,
   "metadata": {},
   "outputs": [],
   "source": [
    "def looploop(num_pts = 1000):\n",
    "    \"\"\" Simple limacon looping curve \"\"\"\n",
    "    t = np.linspace(-np.pi,0,num_pts)\n",
    "    r = 20 + 25*np.sin(t)\n",
    "    x = r*np.cos(t)\n",
    "    y = r*np.sin(t)\n",
    "    points = np.array((x,y)).T\n",
    "    return points\n",
    "\n",
    "# Create the path points\n",
    "P = Path()\n",
    "P.append( pa.arc(radius = 10, angle = 90) )\n",
    "P.append( pa.straight())\n",
    "P.append( pa.arc(radius = 5, angle = -90) )\n",
    "P.append( looploop(num_pts = 1000) )\n",
    "P.rotate(-45)\n",
    "\n",
    "# Create the crosssection\n",
    "X = CrossSection()\n",
    "X.add(width = 0.5, offset = 2, layer = 0, ports = [None,None])\n",
    "X.add(width = 0.5, offset = 4, layer = 1, ports = [None,'out2'])\n",
    "X.add(width = 1.5, offset = 0, layer = 2, ports = ['in','out'])\n",
    "X.add(width = 1, offset = 0, layer = 3)\n",
    "\n",
    "D = P.extrude(cross_section = X)\n",
    "qp(D) # quickplot the resulting Component"
   ]
  },
  {
   "cell_type": "markdown",
   "metadata": {},
   "source": [
    "You can create Paths from any array of points -- just be sure that they form\n",
    "smooth curves!  If we examine our path `P` we can see that all we've simply\n",
    "created a long list of points:"
   ]
  },
  {
   "cell_type": "code",
   "execution_count": null,
   "metadata": {},
   "outputs": [],
   "source": [
    "import numpy as np\n",
    "path_points = P.points       # Curve points are stored as a numpy array in P.points\n",
    "print(np.shape(path_points)) # The shape of the array is Nx2\n",
    "print(len(P))                # Equivalently, use len(P) to see how many points are inside"
   ]
  },
  {
   "cell_type": "markdown",
   "metadata": {},
   "source": [
    "## Simplifying / reducing point usage\n",
    "\n",
    "One of the chief concerns of generating smooth curves is that too many points\n",
    "are generated, inflating file sizes and making boolean operations\n",
    "computationally expensive.  Fortunately, PHIDL has a fast implementation of the\n",
    "[Ramer-Douglas–Peucker\n",
    "algorithm](https://en.wikipedia.org/wiki/Ramer%E2%80%93Douglas%E2%80%93Peucker_algorithm)\n",
    "that lets you reduce the number of points in a curve without changing its shape.\n",
    "All that needs to be done is when you `extrude()` the Component, you specify the\n",
    "`simplify` argument.\n",
    "\n",
    "If we specify `simplify = 1e-3`, the number of points in the line drops from\n",
    "12,000 to 4,000, and the remaining points form a line that is identical to\n",
    "within `1e-3` distance from the original (for the default 1 micron unit size,\n",
    "this corresponds to 1 nanometer resolution):"
   ]
  },
  {
   "cell_type": "code",
   "execution_count": null,
   "metadata": {},
   "outputs": [],
   "source": [
    "# The remaining points form a identical line to within `1e-3` from the original\n",
    "D = P.extrude(cross_section = X, simplify = 1e-3)\n",
    "qp(D) # quickplot the resulting Component"
   ]
  },
  {
   "cell_type": "markdown",
   "metadata": {},
   "source": [
    "Let's say we need fewer points.  We can increase the simplify tolerance by\n",
    "specifying `simplify = 1e-1`.  This drops the number of points to ~400 points\n",
    "form a line that is identical to within `1e-1` distance from the original:"
   ]
  },
  {
   "cell_type": "code",
   "execution_count": null,
   "metadata": {},
   "outputs": [],
   "source": [
    "D = P.extrude(cross_section = X, simplify = 1e-1)\n",
    "qp(D) # quickplot the resulting Component"
   ]
  },
  {
   "cell_type": "markdown",
   "metadata": {},
   "source": [
    "Taken to absurdity, what happens if we set `simplify = 0.3`?  Once again, the\n",
    "~200 remaining points form a line that is within `0.3` units from the original\n",
    "-- but that line looks pretty bad."
   ]
  },
  {
   "cell_type": "code",
   "execution_count": null,
   "metadata": {},
   "outputs": [],
   "source": [
    "D = P.extrude(cross_section = X, simplify = 0.3)\n",
    "qp(D) # quickplot the resulting Component"
   ]
  },
  {
   "cell_type": "markdown",
   "metadata": {},
   "source": [
    "## Curvature calculation\n",
    "\n",
    "The `Path` class has a `curvature()` method that computes the curvature `K` of\n",
    "your smooth path (K = 1/(radius of curvature)).  This can be helpful for\n",
    "verifying that your curves transition smoothly such as in [track-transition\n",
    "curves](https://en.wikipedia.org/wiki/Track_transition_curve) (also known as\n",
    "\"racetrack\", \"Euler\", or \"straight-to-bend\" curves in the photonics world).\n",
    "Note this curvature is numerically computed so areas where the curvature jumps\n",
    "instantaneously (such as between an arc and a straight segment) will be slightly\n",
    "interpolated, and sudden changes in point density along the curve can cause\n",
    "discontinuities."
   ]
  },
  {
   "cell_type": "code",
   "execution_count": null,
   "metadata": {},
   "outputs": [],
   "source": [
    "P = Path()\n",
    "P.append([\n",
    "    pa.straight(length = 10),        # Should have a curvature of 0\n",
    "    # Euler straight-to-bend transition with min. bend radius of 3 (max curvature of 1/3)\n",
    "    pa.euler(radius = 3, angle = 90, p = 0.5, use_eff = False),\n",
    "    pa.straight(length = 10),        # Should have a curvature of 0\n",
    "    pa.arc(radius = 10, angle = 90), # Should have a curvature of 1/10\n",
    "    pa.arc(radius = 5, angle = -90), # Should have a curvature of -1/5\n",
    "    pa.straight(length = 20),        # Should have a curvature of 0\n",
    "    ])\n",
    "\n",
    "s,K = P.curvature()\n",
    "plt.plot(s,K,'.-')\n",
    "plt.xlabel('Position along curve (arc length)')\n",
    "plt.ylabel('Curvature');"
   ]
  },
  {
   "cell_type": "markdown",
   "metadata": {},
   "source": [
    "## Transitioning between cross-sections\n",
    "\n",
    "Often a critical element of building paths is being able to transition between\n",
    "cross-sections.  You can use the `transition()` function to do exactly this: you\n",
    "simply feed it two `CrossSection`s and it will output a new `CrossSection` that\n",
    "smoothly transitions between the two.\n",
    "\n",
    "Let's start off by creating two cross-sections we want to transition between.\n",
    "Note we give all the cross-sectional elements names by specifying the `name`\n",
    "argument in the `add()` function -- this is important because the transition\n",
    "function will try to match names between the two input cross-sections, and any\n",
    "names not present in both inputs will be skipped."
   ]
  },
  {
   "cell_type": "code",
   "execution_count": null,
   "metadata": {},
   "outputs": [],
   "source": [
    "from pp import Path, CrossSection, Component, qp\n",
    "from pp import path as pa\n",
    "import numpy as np\n",
    "import pp\n",
    "\n",
    "\n",
    "# Create our first CrossSection\n",
    "X1 = CrossSection()\n",
    "X1.add(width = 1.2, offset = 0, layer = 2, name = 'wg', ports = ('in1', 'out1'))\n",
    "X1.add(width = 2.2, offset = 0, layer = 3, name = 'etch')\n",
    "X1.add(width = 1.1, offset = 3, layer = 1, name = 'wg2')\n",
    "\n",
    "# Create the second CrossSection that we want to transition to\n",
    "X2 = CrossSection()\n",
    "X2.add(width = 1, offset = 0, layer = 2, name = 'wg', ports = ('in2', 'out2'))\n",
    "X2.add(width = 3.5, offset = 0, layer = 3, name = 'etch')\n",
    "X2.add(width = 3, offset = 5, layer = 1, name = 'wg2')\n",
    "\n",
    "# To show the cross-sections, let's create two Paths and \n",
    "# create Devices by extruding them\n",
    "P1 = pa.straight(length = 5)\n",
    "P2 = pa.straight(length = 5)\n",
    "WG1 = P1.extrude(cross_section = X1)\n",
    "WG2 = P2.extrude(cross_section = X2)\n",
    "\n",
    "# Place both cross-section Devices and quickplot them\n",
    "D = Component()\n",
    "wg1 = D << WG1\n",
    "wg2 = D << WG2\n",
    "wg2.movex(7.5)\n",
    "\n",
    "qp(D)"
   ]
  },
  {
   "cell_type": "markdown",
   "metadata": {},
   "source": [
    "Now let's create the transitional CrossSection by calling `transition()` with\n",
    "these two CrossSections as input. If we want the width to vary as a smooth\n",
    "sinusoid between the sections, we can set `width_type` to `'sine'`\n",
    "(alternatively we could also use `'linear'`)."
   ]
  },
  {
   "cell_type": "code",
   "execution_count": null,
   "metadata": {},
   "outputs": [],
   "source": [
    "# Create the transitional CrossSection\n",
    "Xtrans = pa.transition(cross_section1 = X1,\n",
    "                       cross_section2 = X2,\n",
    "                       width_type = 'sine')\n",
    "# Create a Path for the transitional CrossSection to follow\n",
    "P3 = pa.straight(length = 15)\n",
    "# Use the transitional CrossSection to create a Component\n",
    "WG_trans = P3.extrude(Xtrans)\n",
    "\n",
    "qp(WG_trans)"
   ]
  },
  {
   "cell_type": "markdown",
   "metadata": {},
   "source": [
    "Now that we have all of our components, let's `connect()` everything and see\n",
    "what it looks like"
   ]
  },
  {
   "cell_type": "code",
   "execution_count": null,
   "metadata": {},
   "outputs": [],
   "source": [
    "D = Component()\n",
    "wg1 = D << WG1 # First cross-section Component\n",
    "wg2 = D << WG2\n",
    "wgt = D << WG_trans\n",
    "\n",
    "wgt.connect('in2', wg1.ports['out1'])\n",
    "wg2.connect('in2', wgt.ports['out1'])\n",
    "\n",
    "qp(D)"
   ]
  },
  {
   "cell_type": "markdown",
   "metadata": {},
   "source": [
    "Note that since `transition()` outputs a `CrossSection`, we can make the\n",
    "transition follow an arbitrary path:"
   ]
  },
  {
   "cell_type": "code",
   "execution_count": null,
   "metadata": {},
   "outputs": [],
   "source": [
    "# Transition along a curving Path\n",
    "P4 = pa.euler(radius = 25, angle = 45, p = 0.5, use_eff = False)\n",
    "WG_trans = P4.extrude(Xtrans)\n",
    "\n",
    "D = Component()\n",
    "wg1 = D << WG1 # First cross-section Component\n",
    "wg2 = D << WG2\n",
    "wgt = D << WG_trans\n",
    "\n",
    "wgt.connect('in2', wg1.ports['out1'])\n",
    "wg2.connect('in2', wgt.ports['out1'])\n",
    "\n",
    "qp(D)"
   ]
  },
  {
   "cell_type": "markdown",
   "metadata": {},
   "source": [
    "## Variable width / offset\n",
    "\n",
    "In some instances, you may want to vary the width or offset of the path's cross-\n",
    "section as it travels.  This can be accomplished by giving the `CrossSection`\n",
    "arguments that are functions or lists.  Let's say we wanted a width that varies\n",
    "sinusoidally along the length of the Path.  To do this, we need to make a width\n",
    "function that is parameterized from 0 to 1: for an example function\n",
    "`my_width_fun(t)` where the width at `t==0` is the width at the beginning of the\n",
    "Path and the width at `t==1` is the width at the end."
   ]
  },
  {
   "cell_type": "code",
   "execution_count": null,
   "metadata": {},
   "outputs": [],
   "source": [
    "def my_custom_width_fun(t):\n",
    "    # Note: Custom width/offset functions MUST be vectorizable--you must be able\n",
    "    # to call them with an array input like my_custom_width_fun([0, 0.1, 0.2, 0.3, 0.4])\n",
    "    num_periods = 5\n",
    "    w =  3 + np.cos(2*np.pi*t * num_periods)\n",
    "    return w\n",
    "\n",
    "# Create the Path\n",
    "P = pa.straight(length = 40)\n",
    "\n",
    "# Create two cross-sections: one fixed width, one modulated by my_custom_offset_fun\n",
    "X = CrossSection()\n",
    "X.add(width = 3,                   offset = -6, layer = 0)\n",
    "X.add(width = my_custom_width_fun, offset = 0,  layer = 0)\n",
    "\n",
    "# Extrude the Path to create the Component\n",
    "D = P.extrude(cross_section = X)\n",
    "\n",
    "qp(D)"
   ]
  },
  {
   "cell_type": "markdown",
   "metadata": {},
   "source": [
    "We can do the same thing with the offset argument:"
   ]
  },
  {
   "cell_type": "code",
   "execution_count": null,
   "metadata": {},
   "outputs": [],
   "source": [
    "def my_custom_offset_fun(t):\n",
    "    # Note: Custom width/offset functions MUST be vectorizable--you must be able\n",
    "    # to call them with an array input like my_custom_offset_fun([0, 0.1, 0.2, 0.3, 0.4])\n",
    "    num_periods = 3\n",
    "    w =  3 + np.cos(2*np.pi*t * num_periods)\n",
    "    return w\n",
    "\n",
    "# Create the Path\n",
    "P = pa.straight(length = 40)\n",
    "\n",
    "# Create two cross-sections: one fixed offset, one modulated by my_custom_offset_fun\n",
    "X = CrossSection()\n",
    "X.add(width = 1, offset = my_custom_offset_fun, layer = 0)\n",
    "X.add(width = 1, offset = 0, layer = 0)\n",
    "\n",
    "# Extrude the Path to create the Device\n",
    "D = P.extrude(cross_section = X)\n",
    "\n",
    "qp(D)"
   ]
  },
  {
   "cell_type": "markdown",
   "metadata": {},
   "source": [
    "## Offsetting a Path\n",
    "\n",
    "Sometimes it's convenient to start with a simple Path and offset the line it\n",
    "follows to suit your needs (without using a custom-offset CrossSection).  Here,\n",
    "we start with two copies of  simple straight Path and use the `offset()`\n",
    "function to directly modify each Path."
   ]
  },
  {
   "cell_type": "code",
   "execution_count": null,
   "metadata": {},
   "outputs": [],
   "source": [
    "def my_custom_offset_fun(t):\n",
    "    # Note: Custom width/offset functions MUST be vectorizable--you must be able\n",
    "    # to call them with an array input like my_custom_offset_fun([0, 0.1, 0.2, 0.3, 0.4])\n",
    "    num_periods = 1\n",
    "    w =  2 + np.cos(2*np.pi*t * num_periods)\n",
    "    return w\n",
    "\n",
    "\n",
    "P1 = pa.straight(length = 40)\n",
    "P2 = P1.copy() # Make a copy of the Path\n",
    "\n",
    "P1.offset(offset = my_custom_offset_fun)\n",
    "P2.offset(offset = my_custom_offset_fun)\n",
    "P2.mirror((1,0)) # reflect across X-axis\n",
    "\n",
    "qp([P1, P2])"
   ]
  },
  {
   "cell_type": "markdown",
   "metadata": {},
   "source": [
    "## Modifying a CrossSection\n",
    "\n",
    "In case you need to modify the CrossSection, it can be done simply by specifying\n",
    "a `name` argument for the cross-sectional element you want to modify later.\n",
    "Here is an example where we name one of thee cross-sectional elements\n",
    "`'myelement1'` and `'myelement2'`:"
   ]
  },
  {
   "cell_type": "code",
   "execution_count": null,
   "metadata": {},
   "outputs": [],
   "source": [
    "# Create the Path\n",
    "P = pa.arc(radius = 10, angle = 45)\n",
    "\n",
    "# Create two cross-sections: one fixed width, one modulated by my_custom_offset_fun\n",
    "X = CrossSection()\n",
    "X.add(width = 1, offset = 0, layer = 0, ports = (1,2), name = 'myelement1')\n",
    "X.add(width = 1, offset = 3, layer = 0, ports = (3,4), name = 'myelement2')\n",
    "\n",
    "# Extrude the Path to create the Device\n",
    "D = P.extrude(cross_section = X)\n",
    "\n",
    "qp(D)"
   ]
  },
  {
   "cell_type": "markdown",
   "metadata": {},
   "source": [
    "In case we want to change any of the CrossSection elements, we simply access the\n",
    "Python dictionary that specifies that element and modify the values"
   ]
  },
  {
   "cell_type": "code",
   "execution_count": null,
   "metadata": {},
   "outputs": [],
   "source": [
    "# Copy our original CrossSection\n",
    "Xcopy = X.copy()\n",
    "\n",
    "# Modify \n",
    "Xcopy['myelement2']['width'] = 2 # X['myelement2'] is a dictionary\n",
    "Xcopy['myelement2']['layer'] = 1 # X['myelement2'] is a dictionary\n",
    "\n",
    "# Extrude the Path to create the Device\n",
    "D = P.extrude(cross_section = Xcopy)\n",
    "\n",
    "qp(D)"
   ]
  },
  {
   "cell_type": "code",
   "execution_count": null,
   "metadata": {},
   "outputs": [],
   "source": [
    "from pp import path as pa\n",
    "from pp import CrossSection, Component\n",
    "import pp\n",
    "\n",
    "X1 = CrossSection()\n",
    "X1.add(width = 1.2, offset = 0, layer = 2, name = 'wg', ports = ('in1', 'out1'))\n",
    "X1.add(width = 2.2, offset = 0, layer = 3, name = 'etch')\n",
    "X1.add(width = 1.1, offset = 3, layer = 1, name = 'wg2')\n",
    "\n",
    "# Create the second CrossSection that we want to transition to\n",
    "X2 = CrossSection()\n",
    "X2.add(width = 1, offset = 0, layer = 2, name = 'wg', ports = ('in2', 'out2'))\n",
    "X2.add(width = 3.5, offset = 0, layer = 3, name = 'etch')\n",
    "X2.add(width = 3, offset = 5, layer = 1, name = 'wg2')\n",
    "\n",
    "Xtrans = pa.transition(cross_section1 = X1,\n",
    "                   cross_section2 = X2,\n",
    "                   width_type = 'sine')\n",
    "\n",
    "\n",
    "P1 = pa.straight(length = 5)\n",
    "P2 = pa.straight(length = 5)\n",
    "WG1 = P1.extrude(cross_section = X1)\n",
    "WG2 = P2.extrude(cross_section = X2)\n",
    "\n",
    "P4 = pa.euler(radius = 25, angle = 45, p = 0.5, use_eff = False)\n",
    "WG_trans = P4.extrude(Xtrans)\n",
    "\n",
    "c = Component()\n",
    "wg1 = c << WG1 \n",
    "wg2 = c << WG2\n",
    "wgt = c << WG_trans\n",
    "\n",
    "wgt.connect('in2', wg1.ports['out1'])\n",
    "wg2.connect('in2', wgt.ports['out1'])\n",
    "\n",
    "pp.qp(c)"
   ]
  },
  {
   "cell_type": "code",
   "execution_count": null,
   "metadata": {},
   "outputs": [],
   "source": [
    "len(c.references)"
   ]
  }
 ],
 "metadata": {
  "kernelspec": {
   "display_name": "Python 3",
   "language": "python",
   "name": "python3"
  },
  "language_info": {
   "codemirror_mode": {
    "name": "ipython",
    "version": 3
   },
   "file_extension": ".py",
   "mimetype": "text/x-python",
   "name": "python",
   "nbconvert_exporter": "python",
   "pygments_lexer": "ipython3",
   "version": "3.8.3"
  }
 },
 "nbformat": 4,
 "nbformat_minor": 4
}
