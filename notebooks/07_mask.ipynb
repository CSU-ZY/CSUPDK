{
 "cells": [
  {
   "cell_type": "markdown",
   "id": "186bd10c",
   "metadata": {},
   "source": [
    "# Die assembly\n",
    "\n",
    "With gdsfactory you can easily go from a simple Component, to a Component with many components inside.\n",
    "\n",
    "In the same way that you need to Layout for DRC (Design Rule Check) clean devices, you have to layout obeying the Design for Test (DFT) and Design for Packaging rules.\n",
    "\n",
    "## Design for test\n",
    "\n",
    "To measure your chips after fabrication you need to decide your test configurations. This includes things like:\n",
    "\n",
    "- `Individual input and output fibers` versus `fiber array`. You can use `add_fiber_array` for easier testing and higher throughput, or `add_fiber_single` for the flexibility of single fibers.\n",
    "- Fiber array pitch (127um or 250um) if using a fiber array.\n",
    "- Pad pitch for DC and RF high speed probes (100, 125, 150, 200um). Probe configuration (GSG, GS ...)\n",
    "- Test layout for DC, RF and optical fibers.\n",
    "\n",
    "\n",
    "To enable automatic testing you can add labels the devices that you want to test. GDS labels are not fabricated and are only visible in the GDS file.\n",
    "\n",
    "Lets review some different automatic labeling schemas:\n",
    "\n",
    "1. One label per test site or Device under test (Component) that includes settings, electrical ports and optical ports.\n",
    "2. SiEPIC labels: only the laser input grating coupler from the fiber array has a label, which is the second from left to right.\n",
    "3. EHVA automatic testers, include a Label component declaration as described in this [doc](https://drive.google.com/file/d/1kbQNrVLzPbefh3by7g2s865bcsA2vl5l/view)\n",
    "\n",
    "\n",
    "Most gdsfactory examples add south grating couplers on the south and RF or DC signals to the north. However if you need RF and DC pads, you have to make sure RF pads are orthogonal to the DC Pads. For example, you can use EAST/WEST for RF and NORTH for DC."
   ]
  },
  {
   "cell_type": "code",
   "execution_count": null,
   "id": "aa752869",
   "metadata": {},
   "outputs": [],
   "source": [
    "from functools import partial\n",
    "\n",
    "import json\n",
    "import ipywidgets\n",
    "from IPython.display import display\n",
    "from omegaconf import OmegaConf\n",
    "\n",
    "import gdsfactory as gf\n",
    "from gdsfactory.generic_tech import get_generic_pdk\n",
    "from gdsfactory.labels import add_label_ehva\n",
    "\n",
    "\n",
    "gf.CONF.display_type = \"klayout\"\n",
    "gf.config.rich_output()\n",
    "PDK = get_generic_pdk()\n",
    "PDK.activate()"
   ]
  },
  {
   "cell_type": "markdown",
   "id": "0bc03f89",
   "metadata": {},
   "source": [
    "### 1. Test Sites Labels\n",
    "\n",
    "Each test site includes a label with the measurement and analysis settings:\n",
    "\n",
    "- Optical and electrical port locations for each alignment.\n",
    "- measurement settings.\n",
    "- Component settings for the analysis and test and data analysis information. Such as Design of Experiment (DOE) id.\n",
    "\n",
    "\n",
    "The default settings can be stored in a separate [CSV file](https://docs.google.com/spreadsheets/d/1845m-XZM8tZ1tNd8GIvAaq7ZE-iha00XNWa0XrEOabc/edit#gid=0)"
   ]
  },
  {
   "cell_type": "code",
   "execution_count": null,
   "id": "64e0569f",
   "metadata": {},
   "outputs": [],
   "source": [
    "c = gf.components.mzi_phase_shifter()\n",
    "c = gf.components.add_fiber_array_optical_south_electrical_north(\n",
    "    c,\n",
    "    doe=\"mzis\",\n",
    "    analysis=\"mzi_phase_shifter\",\n",
    "    measurement=\"optical_loopback2_heater_sweep\",\n",
    "    measurement_settings=dict(v_max=5),\n",
    ")\n",
    "c.plot()"
   ]
  },
  {
   "cell_type": "code",
   "execution_count": null,
   "id": "0b8c2165",
   "metadata": {},
   "outputs": [],
   "source": [
    "c.labels"
   ]
  },
  {
   "cell_type": "code",
   "execution_count": null,
   "id": "f5d28a8e",
   "metadata": {},
   "outputs": [],
   "source": [
    "json.loads(c.labels[0].text)"
   ]
  },
  {
   "cell_type": "code",
   "execution_count": null,
   "id": "1e09c79b",
   "metadata": {},
   "outputs": [],
   "source": [
    "c = gf.components.spiral_inner_io_fiber_array(\n",
    "    length=20e3,\n",
    "    decorator=gf.labels.add_label_json,\n",
    "    info=dict(\n",
    "        measurement=\"optical_loopback2\",\n",
    "        doe=\"spiral_sc\",\n",
    "        measurement_settings=dict(wavelength_alignment=1560),\n",
    "    ),\n",
    ")\n",
    "c.plot()"
   ]
  },
  {
   "cell_type": "code",
   "execution_count": null,
   "id": "c5815c66",
   "metadata": {},
   "outputs": [],
   "source": [
    "json.loads(c.labels[0].text)"
   ]
  },
  {
   "cell_type": "markdown",
   "id": "7be02d4e",
   "metadata": {},
   "source": [
    "### 2. SiEPIC labels\n",
    "\n",
    "Labels follow format `opt_in_{polarization}_{wavelength}_device_{username}_({component_name})-{gc_index}-{port.name}` and you only need to label the laser input port of the fiber array.\n",
    "This also includes one label per test site."
   ]
  },
  {
   "cell_type": "code",
   "execution_count": null,
   "id": "a86c48fd",
   "metadata": {},
   "outputs": [],
   "source": [
    "mmi = gf.components.mmi2x2()\n",
    "mmi_te_siepic = gf.labels.add_fiber_array_siepic(component=mmi)\n",
    "mmi_te_siepic.plot()"
   ]
  },
  {
   "cell_type": "code",
   "execution_count": null,
   "id": "4e410839",
   "metadata": {},
   "outputs": [],
   "source": [
    "mmi_te_siepic.ports"
   ]
  },
  {
   "cell_type": "code",
   "execution_count": null,
   "id": "3ed71ec3",
   "metadata": {},
   "outputs": [],
   "source": [
    "labels = mmi_te_siepic.get_labels()\n",
    "\n",
    "for label in labels:\n",
    "    print(label.text)"
   ]
  },
  {
   "cell_type": "markdown",
   "id": "0cb150b2",
   "metadata": {},
   "source": [
    "### 3. EHVA labels"
   ]
  },
  {
   "cell_type": "code",
   "execution_count": null,
   "id": "ff7b2f5c",
   "metadata": {},
   "outputs": [],
   "source": [
    "add_label_ehva_demo = partial(add_label_ehva, die=\"demo_die\")\n",
    "mmi = gf.c.mmi2x2(length_mmi=2.2)\n",
    "mmi_te_ehva = gf.routing.add_fiber_array(\n",
    "    mmi, get_input_labels_function=None, decorator=add_label_ehva_demo\n",
    ")\n",
    "mmi_te_ehva.plot()"
   ]
  },
  {
   "cell_type": "code",
   "execution_count": null,
   "id": "c9be70f0",
   "metadata": {},
   "outputs": [],
   "source": [
    "labels = mmi_te_ehva.get_labels(depth=0)\n",
    "\n",
    "for label in labels:\n",
    "    print(label.text)"
   ]
  },
  {
   "cell_type": "markdown",
   "id": "e13cde4d",
   "metadata": {},
   "source": [
    "One advantage of the EHVA formats is that you can track any changes on the components directly from the GDS label, as the label already stores any changes of the child device, as well as any settings that you specify.\n",
    "\n",
    "Settings can have many levels of hierarchy, but you can still access any children setting with `:` notation.\n",
    "\n",
    "```\n",
    "grating_coupler:\n",
    "    function: grating_coupler_elliptical_trenches\n",
    "    settings:\n",
    "        polarization: te\n",
    "        taper_angle: 35\n",
    "\n",
    "```"
   ]
  },
  {
   "cell_type": "code",
   "execution_count": null,
   "id": "3e479b74",
   "metadata": {},
   "outputs": [],
   "source": [
    "add_label_ehva_demo = partial(\n",
    "    add_label_ehva,\n",
    "    die=\"demo_die\",\n",
    "    metadata_include_parent=[\"grating_coupler:settings:polarization\"],\n",
    ")\n",
    "mmi = gf.components.mmi2x2(length_mmi=10)\n",
    "mmi_te_ehva = gf.routing.add_fiber_array(\n",
    "    mmi, get_input_labels_function=None, decorator=add_label_ehva_demo\n",
    ")\n",
    "mmi_te_ehva.plot()"
   ]
  },
  {
   "cell_type": "code",
   "execution_count": null,
   "id": "072cef00",
   "metadata": {},
   "outputs": [],
   "source": [
    "labels = mmi_te_ehva.get_labels(depth=0)\n",
    "\n",
    "for label in labels:\n",
    "    print(label.text)"
   ]
  },
  {
   "cell_type": "markdown",
   "id": "92003619",
   "metadata": {},
   "source": [
    "## Pack\n",
    "\n",
    "Lets start with a resistance sweep, where you change the resistance width to measure sheet resistance."
   ]
  },
  {
   "cell_type": "code",
   "execution_count": null,
   "id": "889ddf3b",
   "metadata": {},
   "outputs": [],
   "source": [
    "sweep = [gf.components.resistance_sheet(width=width) for width in [1, 10, 100]]\n",
    "m = gf.pack(sweep)\n",
    "c = m[0]\n",
    "c.plot()"
   ]
  },
  {
   "cell_type": "markdown",
   "id": "e3b49279",
   "metadata": {},
   "source": [
    "Then we add spirals with different lengths to measure waveguide propagation loss. You can use both fiber array or single fiber."
   ]
  },
  {
   "cell_type": "code",
   "execution_count": null,
   "id": "5a93918c",
   "metadata": {},
   "outputs": [],
   "source": [
    "from toolz import compose\n",
    "from functools import partial\n",
    "import gdsfactory as gf\n",
    "\n",
    "c = gf.components.spiral_inner_io_fiber_array(\n",
    "    length=20e3,\n",
    "    decorator=gf.labels.add_label_json,\n",
    "    info=dict(measurement=\"optical_loopback2\"),\n",
    ")\n",
    "c.show()\n",
    "c.plot()"
   ]
  },
  {
   "cell_type": "code",
   "execution_count": null,
   "id": "f0a7e35e",
   "metadata": {},
   "outputs": [],
   "source": [
    "spiral = gf.components.spiral_inner_io_fiber_single()\n",
    "spiral.plot()"
   ]
  },
  {
   "cell_type": "code",
   "execution_count": null,
   "id": "334cfa53",
   "metadata": {},
   "outputs": [],
   "source": [
    "spiral_te = gf.routing.add_fiber_single(\n",
    "    gf.functions.rotate(gf.components.spiral_inner_io_fiber_single, 90)\n",
    ")\n",
    "spiral_te.plot()"
   ]
  },
  {
   "cell_type": "code",
   "execution_count": null,
   "id": "9fcdeccc",
   "metadata": {},
   "outputs": [],
   "source": [
    "# which is equivalent to\n",
    "spiral_te = gf.compose(\n",
    "    gf.routing.add_fiber_single,\n",
    "    gf.functions.rotate90,\n",
    "    gf.components.spiral_inner_io_fiber_single,\n",
    ")\n",
    "c = spiral_te(length=10e3)\n",
    "c.plot()"
   ]
  },
  {
   "cell_type": "code",
   "execution_count": null,
   "id": "eca1ad0f",
   "metadata": {},
   "outputs": [],
   "source": [
    "add_fiber_single_no_labels = partial(\n",
    "    gf.routing.add_fiber_single,\n",
    "    get_input_label_text_function=None,\n",
    ")\n",
    "\n",
    "spiral_te = gf.compose(\n",
    "    add_fiber_single_no_labels,\n",
    "    gf.functions.rotate90,\n",
    "    gf.components.spiral_inner_io_fiber_single,\n",
    ")\n",
    "sweep = [spiral_te(length=length) for length in [10e3, 20e3, 30e3]]\n",
    "m = gf.pack(sweep)\n",
    "c = m[0]\n",
    "c.show()\n",
    "c.plot()"
   ]
  },
  {
   "cell_type": "code",
   "execution_count": null,
   "id": "b1d5f5f3",
   "metadata": {},
   "outputs": [],
   "source": [
    "from toolz import compose\n",
    "from functools import partial\n",
    "import gdsfactory as gf\n",
    "\n",
    "c = gf.components.spiral_inner_io_fiber_array(\n",
    "    length=20e3,\n",
    "    decorator=gf.labels.add_label_json,\n",
    "    info=dict(measurement=\"optical_loopback2\"),\n",
    ")\n",
    "c.show()\n",
    "c.plot()"
   ]
  },
  {
   "cell_type": "code",
   "execution_count": null,
   "id": "2956f0c8",
   "metadata": {},
   "outputs": [],
   "source": [
    "sweep = [\n",
    "    gf.components.spiral_inner_io_fiber_array(\n",
    "        length=length,\n",
    "        decorator=gf.labels.add_label_json,\n",
    "        info=dict(measurement=\"optical_loopback2\"),\n",
    "    )\n",
    "    for length in [20e3, 30e3, 40e3]\n",
    "]\n",
    "m = gf.pack(sweep)\n",
    "c = m[0]\n",
    "c.show()\n",
    "c.plot()"
   ]
  },
  {
   "cell_type": "markdown",
   "id": "660da351",
   "metadata": {},
   "source": [
    "You can also add some physical labels that will be fabricated.\n",
    "For example you can add prefix `S` at the `north-center` of each spiral using `text_rectangular` which is DRC clean and anchored on `nc` (north-center)"
   ]
  },
  {
   "cell_type": "code",
   "execution_count": null,
   "id": "799015aa",
   "metadata": {},
   "outputs": [],
   "source": [
    "text_metal = partial(gf.components.text_rectangular_multi_layer, layers=(\"M1\",))\n",
    "\n",
    "m = gf.pack(sweep, text=text_metal, text_anchors=(\"cw\",), text_prefix=\"s\")\n",
    "c = m[0]\n",
    "c.show()\n",
    "c.plot()"
   ]
  },
  {
   "cell_type": "markdown",
   "id": "e671b77a",
   "metadata": {},
   "source": [
    "## Grid\n",
    "\n",
    "You can also pack components with a constant spacing."
   ]
  },
  {
   "cell_type": "code",
   "execution_count": null,
   "id": "f8c37240",
   "metadata": {},
   "outputs": [],
   "source": [
    "g = gf.grid(sweep)\n",
    "g.plot()"
   ]
  },
  {
   "cell_type": "code",
   "execution_count": null,
   "id": "18e341fc",
   "metadata": {},
   "outputs": [],
   "source": [
    "gh = gf.grid(sweep, shape=(1, len(sweep)))\n",
    "gh.plot()"
   ]
  },
  {
   "cell_type": "code",
   "execution_count": null,
   "id": "3b149ab8",
   "metadata": {},
   "outputs": [],
   "source": [
    "gh_ymin = gf.grid(sweep, shape=(len(sweep), 1), align_x=\"xmin\")\n",
    "gh_ymin.plot()"
   ]
  },
  {
   "cell_type": "markdown",
   "id": "42735b57",
   "metadata": {},
   "source": [
    "You can also add text labels to each element of the sweep"
   ]
  },
  {
   "cell_type": "code",
   "execution_count": null,
   "id": "3697c847",
   "metadata": {},
   "outputs": [],
   "source": [
    "gh_ymin = gf.grid_with_text(\n",
    "    sweep, shape=(len(sweep), 1), align_x=\"xmax\", text=text_metal\n",
    ")\n",
    "gh_ymin.plot()"
   ]
  },
  {
   "cell_type": "markdown",
   "id": "d38e8aba",
   "metadata": {},
   "source": [
    "You have 2 ways of defining a mask:\n",
    "\n",
    "1. in python\n",
    "2. in YAML\n",
    "\n",
    "\n",
    "## 1. Component in python\n",
    "\n",
    "You can define a Component top cell reticle or die using `grid` and `pack` python functions."
   ]
  },
  {
   "cell_type": "code",
   "execution_count": null,
   "id": "fc871e38",
   "metadata": {},
   "outputs": [],
   "source": [
    "text_metal3 = partial(gf.components.text_rectangular_multi_layer, layers=((49, 0),))\n",
    "grid = partial(gf.grid_with_text, text=text_metal3)\n",
    "pack = partial(gf.pack, text=text_metal3)\n",
    "\n",
    "gratings_sweep = [\n",
    "    gf.components.grating_coupler_elliptical(taper_angle=taper_angle)\n",
    "    for taper_angle in [20, 30, 40]\n",
    "]\n",
    "gratings = grid(gratings_sweep, text=None)\n",
    "gratings.plot()"
   ]
  },
  {
   "cell_type": "code",
   "execution_count": null,
   "id": "136dbc39",
   "metadata": {},
   "outputs": [],
   "source": [
    "gratings_sweep = [\n",
    "    gf.components.grating_coupler_elliptical(taper_angle=taper_angle)\n",
    "    for taper_angle in [20, 30, 40]\n",
    "]\n",
    "gratings_loss_sweep = [\n",
    "    gf.components.grating_coupler_loss_fiber_single(grating_coupler=grating)\n",
    "    for grating in gratings_sweep\n",
    "]\n",
    "gratings = grid(\n",
    "    gratings_loss_sweep, shape=(1, len(gratings_loss_sweep)), spacing=(40, 0)\n",
    ")\n",
    "gratings.plot()"
   ]
  },
  {
   "cell_type": "code",
   "execution_count": null,
   "id": "24bd5445",
   "metadata": {},
   "outputs": [],
   "source": [
    "sweep_resistance = [\n",
    "    gf.components.resistance_sheet(width=width) for width in [1, 10, 100]\n",
    "]\n",
    "resistance = gf.pack(sweep_resistance)[0]\n",
    "resistance.plot()"
   ]
  },
  {
   "cell_type": "code",
   "execution_count": null,
   "id": "edc0d896",
   "metadata": {},
   "outputs": [],
   "source": [
    "spiral_te = gf.compose(\n",
    "    gf.routing.add_fiber_single,\n",
    "    gf.functions.rotate90,\n",
    "    gf.components.spiral_inner_io_fiber_single,\n",
    ")\n",
    "sweep_spirals = [spiral_te(length=length) for length in [10e3, 20e3, 30e3]]\n",
    "spirals = gf.pack(sweep_spirals)[0]\n",
    "spirals.plot()"
   ]
  },
  {
   "cell_type": "code",
   "execution_count": null,
   "id": "3db92274",
   "metadata": {
    "lines_to_next_cell": 2
   },
   "outputs": [],
   "source": [
    "mask = gf.pack([spirals, resistance, gratings])[0]\n",
    "mask.plot()"
   ]
  },
  {
   "cell_type": "markdown",
   "id": "e63845f6",
   "metadata": {
    "lines_to_next_cell": 2
   },
   "source": [
    "As you can see you can define your mask in a single line.\n",
    "\n",
    "For more complex mask, you can also create a new cell to build up more complexity\n"
   ]
  },
  {
   "cell_type": "code",
   "execution_count": null,
   "id": "bf365183",
   "metadata": {},
   "outputs": [],
   "source": [
    "@gf.cell\n",
    "def mask():\n",
    "    c = gf.Component()\n",
    "    c << gf.pack([spirals, resistance, gratings])[0]\n",
    "    c << gf.components.seal_ring(c.bbox)\n",
    "    return c\n",
    "\n",
    "\n",
    "c = mask(cache=False)\n",
    "c.plot()"
   ]
  },
  {
   "cell_type": "markdown",
   "id": "9c905ccf",
   "metadata": {},
   "source": [
    "## 2. Component in YAML\n",
    "\n",
    "You can also define your component in YAML format thanks to `gdsfactory.read.from_yaml`\n",
    "\n",
    "You need to define:\n",
    "\n",
    "- instances\n",
    "- placements\n",
    "- routes (optional)\n",
    "\n",
    "and you can leverage:\n",
    "\n",
    "1. `pack_doe`\n",
    "2. `pack_doe_grid`"
   ]
  },
  {
   "cell_type": "markdown",
   "id": "3a592045",
   "metadata": {},
   "source": [
    "### 2.1 pack_doe\n",
    "\n",
    "`pack_doe` places components as compact as possible."
   ]
  },
  {
   "cell_type": "code",
   "execution_count": null,
   "id": "1aec77aa",
   "metadata": {},
   "outputs": [],
   "source": [
    "\n",
    "c = gf.read.from_yaml(\n",
    "    \"\"\"\n",
    "name: mask_grid\n",
    "\n",
    "instances:\n",
    "  rings:\n",
    "    component: pack_doe\n",
    "    settings:\n",
    "      doe: ring_single\n",
    "      settings:\n",
    "        radius: [30, 50, 20, 40]\n",
    "        length_x: [1, 2, 3]\n",
    "      do_permutations: True\n",
    "      function:\n",
    "        function: add_fiber_array\n",
    "        settings:\n",
    "            fanout_length: 200\n",
    "\n",
    "  mzis:\n",
    "    component: pack_doe\n",
    "    settings:\n",
    "      doe: mzi\n",
    "      settings:\n",
    "        delta_length: [10, 100]\n",
    "      function: add_fiber_array\n",
    "\n",
    "placements:\n",
    "  rings:\n",
    "    xmin: 50\n",
    "\n",
    "  mzis:\n",
    "    xmin: rings,east\n",
    "\"\"\"\n",
    ")\n",
    "\n",
    "c.plot()"
   ]
  },
  {
   "cell_type": "markdown",
   "id": "007ba6f9",
   "metadata": {},
   "source": [
    "### 2.2 pack_doe_grid\n",
    "\n",
    "`pack_doe_grid` places each component on a regular grid"
   ]
  },
  {
   "cell_type": "code",
   "execution_count": null,
   "id": "793a2181",
   "metadata": {},
   "outputs": [],
   "source": [
    "c = gf.read.from_yaml(\n",
    "    \"\"\"\n",
    "name: mask_compact\n",
    "\n",
    "instances:\n",
    "  rings:\n",
    "    component: pack_doe\n",
    "    settings:\n",
    "      doe: ring_single\n",
    "      settings:\n",
    "        radius: [30, 50, 20, 40]\n",
    "        length_x: [1, 2, 3]\n",
    "      do_permutations: True\n",
    "      function:\n",
    "        function: add_fiber_array\n",
    "        settings:\n",
    "            fanout_length: 200\n",
    "\n",
    "\n",
    "  mzis:\n",
    "    component: pack_doe_grid\n",
    "    settings:\n",
    "      doe: mzi\n",
    "      settings:\n",
    "        delta_length: [10, 100]\n",
    "      do_permutations: True\n",
    "      spacing: [10, 10]\n",
    "      function: add_fiber_array\n",
    "\n",
    "placements:\n",
    "  rings:\n",
    "    xmin: 50\n",
    "\n",
    "  mzis:\n",
    "    xmin: rings,east\n",
    "\"\"\"\n",
    ")\n",
    "c.plot()"
   ]
  },
  {
   "cell_type": "markdown",
   "id": "89db015a",
   "metadata": {},
   "source": [
    "## Metadata\n",
    "\n",
    "When saving GDS files is also convenient to store the metadata settings that you used to generate the GDS file.\n",
    "\n",
    "We recommend storing all the device metadata in GDS labels but you can also store it in a separate YAML file.\n",
    "\n",
    "### Metadata in separate YAML file (not recommended)"
   ]
  },
  {
   "cell_type": "code",
   "execution_count": null,
   "id": "c3083137",
   "metadata": {
    "lines_to_next_cell": 2
   },
   "outputs": [],
   "source": [
    "import gdsfactory as gf\n",
    "\n",
    "\n",
    "@gf.cell\n",
    "def wg():\n",
    "    c = gf.Component()\n",
    "    c.info[\"doe\"] = [\"rings\", 1550, \"te\", \"phase_shifter\"]\n",
    "    c.info[\"test_sequence\"] = [\"optical\", \"electrical_sweep\"]\n",
    "    c.info[\"data_analysis\"] = [\n",
    "        \"remove_baseline\",\n",
    "        \"extract_fsr\",\n",
    "        \"extract_loss\",\n",
    "        \"extract_power_per_pi\",\n",
    "    ]\n",
    "    return c\n",
    "\n",
    "\n",
    "c = wg()\n",
    "c.pprint()\n",
    "gdspath = c.write_gds(\"demo.gds\", with_metadata=True)"
   ]
  },
  {
   "cell_type": "markdown",
   "id": "a9174614",
   "metadata": {},
   "source": [
    "### Metadata in the GDS file\n",
    "\n",
    "You can use GDS labels to store device information such as settings and port locations.\n",
    "\n",
    "The advantage of GDS labels is that they are all stored in the same file.\n",
    "\n",
    "We define a single label for each test site (Device Under Test), and the label contains all the measurement and data analysis information."
   ]
  },
  {
   "cell_type": "code",
   "execution_count": null,
   "id": "2828161f",
   "metadata": {},
   "outputs": [],
   "source": [
    "test_info_mzi_heaters = dict(\n",
    "    doe=\"mzis_heaters\",\n",
    "    analysis=\"mzi_heater_phase_shifter_length\",\n",
    "    measurement=\"optical_loopback4_heater_sweep\",\n",
    ")\n",
    "test_info_ring_heaters = dict(\n",
    "    doe=\"ring_heaters_coupling_length\",\n",
    "    analysis=\"ring_heater\",\n",
    "    measurement=\"optical_loopback2_heater_sweep\",\n",
    ")\n",
    "\n",
    "mzis = [\n",
    "    gf.components.mzi2x2_2x2_phase_shifter(length_x=lengths)\n",
    "    for lengths in [100, 200, 300]\n",
    "]\n",
    "\n",
    "rings = [\n",
    "    gf.components.ring_single_heater(length_x=length_x) for length_x in [10, 20, 30]\n",
    "]\n",
    "\n",
    "mzis_te = [\n",
    "    gf.components.add_fiber_array_optical_south_electrical_north(\n",
    "        mzi,\n",
    "        electrical_port_names=[\"top_l_e2\", \"top_r_e2\"],\n",
    "        **test_info_mzi_heaters,\n",
    "    )\n",
    "    for mzi in mzis\n",
    "]\n",
    "rings_te = [\n",
    "    gf.components.add_fiber_array_optical_south_electrical_north(\n",
    "        ring, electrical_port_names=[\"l_e2\", \"r_e2\"], **test_info_ring_heaters\n",
    "    )\n",
    "    for ring in rings\n",
    "]\n",
    "c = gf.pack(mzis_te + rings_te)[0]\n",
    "c.show()\n",
    "c.plot()"
   ]
  },
  {
   "cell_type": "markdown",
   "id": "a4f8397c",
   "metadata": {},
   "source": [
    "## Test manifest\n",
    "\n",
    "Each Device Under Test (test site) has a JSON test label with all the settings.\n",
    "\n",
    "You can define a [Test manifest](https://docs.google.com/spreadsheets/d/1845m-XZM8tZ1tNd8GIvAaq7ZE-iha00XNWa0XrEOabc/edit#gid=0) (also known as Test sequence) in CSV automatically from the labels."
   ]
  },
  {
   "cell_type": "code",
   "execution_count": null,
   "id": "272d7c7d",
   "metadata": {},
   "outputs": [],
   "source": [
    "import pandas as pd\n",
    "\n",
    "gdspath = c.write_gds()\n",
    "csvpath = gf.labels.write_labels.write_labels_gdstk(\n",
    "    gdspath, debug=True, prefixes=[\"{\"], layer_label=\"TEXT\"\n",
    ")\n",
    "df = pd.read_csv(csvpath)\n",
    "df"
   ]
  },
  {
   "cell_type": "markdown",
   "id": "23997b73",
   "metadata": {},
   "source": [
    "As you can see there are 6 devices with optical and electrical ports.\n",
    "\n",
    "You can turn each label into a test manifest CSV file to interface with your lab instrumentation functions.\n",
    "\n",
    "Each measurement will use a different `measurement` procedure and settings `measurement_settings`\n",
    "\n",
    "The default measurement settings for each functions can also be defined in a separate [CSV file](https://docs.google.com/spreadsheets/d/1845m-XZM8tZ1tNd8GIvAaq7ZE-iha00XNWa0XrEOabc/edit#gid=138229318) and easily editable with Excel or LibreOffice."
   ]
  },
  {
   "cell_type": "code",
   "execution_count": null,
   "id": "29eedcbe",
   "metadata": {},
   "outputs": [],
   "source": [
    "from gdsfactory.labels.write_test_manifest import write_test_manifest\n",
    "\n",
    "dm = write_test_manifest(csvpath)\n",
    "dm"
   ]
  }
 ],
 "metadata": {
  "jupytext": {
   "cell_metadata_filter": "-all",
   "custom_cell_magics": "kql"
  },
  "kernelspec": {
   "display_name": "base",
   "language": "python",
   "name": "python3"
  }
 },
 "nbformat": 4,
 "nbformat_minor": 5
}
