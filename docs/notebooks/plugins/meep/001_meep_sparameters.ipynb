{
 "cells": [
  {
   "cell_type": "markdown",
   "metadata": {},
   "source": [
    "# Meep FDTD\n",
    "\n",
    "[Meep](https://meep.readthedocs.io/en/latest/) is a free and open source finite-difference time-domain (FDTD) software package for electromagnetic simulations spanning a broad range of applications.\n",
    "\n",
    "You can install Meep and the mode solver MPB (which Meep uses to compute S-parameters and launch mode sources) using one of two methods:\n",
    "\n",
    "1. Mamba (faster)\n",
    "\n",
    "```\n",
    "mamba install pymeep=*=mpi_mpich_* -y\n",
    "```\n",
    "\n",
    "2. Conda\n",
    "\n",
    "```\n",
    "conda install -c conda-forge pymeep=*=mpi_mpich_* -y\n",
    "```\n",
    "\n",
    "To use the adjoint optimization functions, you would also need to install autograd/jax, and nlopt:\n",
    "\n",
    "```\n",
    "conda install -c conda-forge autograd -y\n",
    "conda install -c conda-forge gdsfactory -y\n",
    "```\n",
    "\n",
    "To update the installed package, you would do:\n",
    "\n",
    "```\n",
    "mamba update pymeep=*=mpi_mpich_* -y\n",
    "```\n",
    "\n",
    "The Mamba/Conda packages are available for Linux, macOS, or Windows [WSL](https://docs.microsoft.com/en-us/windows/wsl/). For more details on installing Meep, see the [user manual](https://meep.readthedocs.io/en/latest/Installation/#conda-packages).\n",
    "\n",
    "\n",
    "The gdsfactory `gmeep` plugin computes the transmission spectrum for planar photonic components.\n",
    "\n",
    "One advantage of using the `gmeep` plugin is that you only need to define your component geometry *once* using gdsfactory. The geometry is automatically imported into Meep. There is no need to define the geometry separately for Meep.\n",
    "\n",
    "For extracting S-parameters, `gmeep` automatically swaps the source between ports to compute the full S-matrix. This process involves:\n",
    "\n",
    "- adding monitors to each port of the device\n",
    "- extending the ports into the PML absorbing boundary layers\n",
    "- running the simulation and computing elements of the S-matrix in post-processing using the correct ratio of S-parameters. The port monitors are used to compute the discrete-time Fourier-transformed (DTFT) fields which are then decomposed into complex mode coefficients known as S-parameters. The S-parameters can be computed over a range of frequencies.\n",
    "\n",
    "The resolution is in units of pixels/μm. As a general rule, you should run with at least `resolution=30` for 1/30 μm/pixel (33 nm/pixel)\n",
    "\n",
    "Note that most of the examples use `resolution=20` in order to run fast.\n",
    "\n",
    "Here are some examples of how to extract S-parameters in Meep in planar devices.\n",
    "\n",
    "For Sparameters we follow the syntax `o1@0,o2@0` where `o1` is the input port `@0` mode 0 (usually fundamental TE mode) and `o2@0` refers to output port `o2` mode 0. \n",
    "\n",
    "\n",
    "```bash\n",
    "\n",
    "         top view\n",
    "              ________________________________\n",
    "             |                               |\n",
    "             | xmargin_left                  | port_extension\n",
    "             |<--------->       port_margin ||<-->\n",
    "          o2_|___________          _________||_o3\n",
    "             |           \\        /          |\n",
    "             |            \\      /           |\n",
    "             |             ======            |\n",
    "             |            /      \\           |\n",
    "          o1_|___________/        \\__________|_o4\n",
    "             |   |                 <-------->|\n",
    "             |   |ymargin_bot   xmargin_right|\n",
    "             |   |                           |\n",
    "             |___|___________________________|\n",
    "\n",
    "        side view\n",
    "              ________________________________\n",
    "             |                     |         |\n",
    "             |                     |         |\n",
    "             |                   zmargin_top |\n",
    "             |xmargin_left         |         |\n",
    "             |<---> _____         _|___      |\n",
    "             |     |     |       |     |     |\n",
    "             |     |     |       |     |     |\n",
    "             |     |_____|       |_____|     |\n",
    "             |       |                       |\n",
    "             |       |                       |\n",
    "             |       |zmargin_bot            |\n",
    "             |       |                       |\n",
    "             |_______|_______________________|\n",
    "\n",
    "\n",
    "\n",
    "```\n",
    "\n",
    "## Serial Simulation (single core)\n",
    "\n",
    "Running Meep using a single CPU core can be slow as the single core needs to update all the simulation grid points sequentially at each time step."
   ]
  },
  {
   "cell_type": "code",
   "execution_count": null,
   "metadata": {},
   "outputs": [],
   "source": [
    "import matplotlib.pyplot as plt\n",
    "import numpy as np\n",
    "import gdsfactory as gf\n",
    "import gdsfactory.simulation.gmeep as gm\n",
    "import gdsfactory.simulation as sim\n",
    "\n",
    "gf.config.set_plot_options(show_subports=False, show_ports=False)"
   ]
  },
  {
   "cell_type": "code",
   "execution_count": null,
   "metadata": {},
   "outputs": [],
   "source": [
    "c = gf.components.straight(length=2)\n",
    "c"
   ]
  },
  {
   "cell_type": "markdown",
   "metadata": {},
   "source": [
    "`run=False` only plots the simulations for you to review that is set up **correctly**"
   ]
  },
  {
   "cell_type": "code",
   "execution_count": null,
   "metadata": {},
   "outputs": [],
   "source": [
    "df = gm.write_sparameters_meep(c, run=False, ymargin_top=3, ymargin_bot=3)"
   ]
  },
  {
   "cell_type": "code",
   "execution_count": null,
   "metadata": {},
   "outputs": [],
   "source": [
    "help(gm.write_sparameters_meep)"
   ]
  },
  {
   "cell_type": "markdown",
   "metadata": {},
   "source": [
    "As you've noticed we added `ymargin_top` and `ymargin_bot` to ensure we have enough distance to the PML\n",
    "\n",
    "You can also do this directly with another version of the function that adds `ymargin_top` and `ymargin_bot`"
   ]
  },
  {
   "cell_type": "code",
   "execution_count": null,
   "metadata": {},
   "outputs": [],
   "source": [
    "c = gf.components.straight(length=2)\n",
    "df = gm.write_sparameters_meep(c, run=False)"
   ]
  },
  {
   "cell_type": "markdown",
   "metadata": {},
   "source": [
    "Because components with `left-right` ports are very common `write_sparameters_meep` `y_margin = 3um `"
   ]
  },
  {
   "cell_type": "code",
   "execution_count": null,
   "metadata": {},
   "outputs": [],
   "source": [
    "c = gf.components.taper(length=2.0, width1=0.5, width2=1)\n",
    "c"
   ]
  },
  {
   "cell_type": "code",
   "execution_count": null,
   "metadata": {},
   "outputs": [],
   "source": [
    "df = gm.write_sparameters_meep(c, run=False)"
   ]
  },
  {
   "cell_type": "markdown",
   "metadata": {},
   "source": [
    "## 2.5D Simulation\n",
    "\n",
    "For faster simulations you can do an effective mode approximation, to compute the mode of the slab and run a 2D simulation to speed your [simulations](https://www.lumerical.com/learn/whitepapers/lumericals-2-5d-fdtd-propagation-method/)"
   ]
  },
  {
   "cell_type": "code",
   "execution_count": null,
   "metadata": {},
   "outputs": [],
   "source": [
    "ncore = sim.get_effective_indices(\n",
    "    ncore=3.4777,\n",
    "    ncladding=1.444,\n",
    "    nsubstrate=1.444,\n",
    "    thickness=0.22,\n",
    "    wavelength=1.55,\n",
    "    polarization=\"te\",\n",
    ")[0]\n",
    "\n",
    "ncore"
   ]
  },
  {
   "cell_type": "code",
   "execution_count": null,
   "metadata": {},
   "outputs": [],
   "source": [
    "df = gm.write_sparameters_meep(\n",
    "    c, resolution=20, is_3d=False, material_name_to_meep=dict(si=ncore)\n",
    ")"
   ]
  },
  {
   "cell_type": "code",
   "execution_count": null,
   "metadata": {},
   "outputs": [],
   "source": [
    "gf.simulation.plot.plot_sparameters(df)"
   ]
  },
  {
   "cell_type": "code",
   "execution_count": null,
   "metadata": {},
   "outputs": [],
   "source": [
    "gf.simulation.plot.plot_sparameters(df, keys=(\"o2@0,o1@0\",))"
   ]
  },
  {
   "cell_type": "markdown",
   "metadata": {},
   "source": [
    "For a small taper length, the matrix element S$_{21}$ (transmission in Port 2 given a source in Port 1) is around 0 dB which is equivalent to ~100% transmission."
   ]
  },
  {
   "cell_type": "markdown",
   "metadata": {},
   "source": [
    "## Port Symmetries\n",
    "\n",
    "You can skip redundant simulations in reciprocal devices.\n",
    "If the device looks the same going from in -> out as out -> in, we just need to run one simulation."
   ]
  },
  {
   "cell_type": "code",
   "execution_count": null,
   "metadata": {},
   "outputs": [],
   "source": [
    "c = gf.components.bend_euler(radius=3)\n",
    "c"
   ]
  },
  {
   "cell_type": "code",
   "execution_count": null,
   "metadata": {},
   "outputs": [],
   "source": [
    "sp = gm.write_sparameters_meep_1x1_bend90(c, run=False)"
   ]
  },
  {
   "cell_type": "code",
   "execution_count": 15,
   "metadata": {},
   "outputs": [],
   "source": [
    "sp = gm.write_sparameters_meep_1x1_bend90(c, run=True)"
   ]
  },
  {
   "cell_type": "code",
   "execution_count": null,
   "metadata": {},
   "outputs": [],
   "source": [
    "list(sp.keys())"
   ]
  },
  {
   "cell_type": "code",
   "execution_count": null,
   "metadata": {},
   "outputs": [],
   "source": [
    "gf.simulation.plot.plot_sparameters(sp)"
   ]
  },
  {
   "cell_type": "code",
   "execution_count": null,
   "metadata": {},
   "outputs": [],
   "source": [
    "gf.simulation.plot.plot_sparameters(df, keys=(\"o2@0,o1@0\",), logscale=False)"
   ]
  },
  {
   "cell_type": "code",
   "execution_count": null,
   "metadata": {},
   "outputs": [],
   "source": [
    "gf.simulation.plot.plot_sparameters(df, keys=(\"o2@0,o1@0\",))"
   ]
  },
  {
   "cell_type": "code",
   "execution_count": null,
   "metadata": {},
   "outputs": [],
   "source": [
    "c = gf.components.crossing()\n",
    "c"
   ]
  },
  {
   "cell_type": "markdown",
   "metadata": {},
   "source": [
    "Here are the port symmetries for a crossing\n",
    "\n",
    "```python\n",
    "port_symmetries_crossing = {\n",
    "    \"o1\": {\n",
    "        \"o1@0,o1@0\": [\"o2@0,o2@0\", \"o3@0,o3@0\", \"o4@0,o4@0\"],\n",
    "        \"o2@0,o1@0\": [\"o1@0,o2@0\", \"o3@0,o4@0\", \"o4@0,o3@0\"],\n",
    "        \"o3@0,o1@0\": [\"o1@0,o3@0\", \"o2@0,o4@0\", \"o4@0,o2@0\"],\n",
    "        \"o4@0,o1@0\": [\"o1@0,o4@0\", \"o2@0,o3@0\", \"o3@0,o2@0\"],\n",
    "    }\n",
    "}\n",
    "```"
   ]
  },
  {
   "cell_type": "code",
   "execution_count": null,
   "metadata": {},
   "outputs": [],
   "source": [
    "sp = gm.write_sparameters_meep(\n",
    "    c,\n",
    "    resolution=20,\n",
    "    ymargin=0,\n",
    "    port_symmetries=gm.port_symmetries.port_symmetries_crossing,\n",
    "    run=False,\n",
    ")"
   ]
  },
  {
   "cell_type": "code",
   "execution_count": null,
   "metadata": {},
   "outputs": [],
   "source": [
    "sp = gm.write_sparameters_meep(\n",
    "    c,\n",
    "    resolution=20,\n",
    "    ymargin=0,\n",
    "    port_symmetries=gm.port_symmetries.port_symmetries_crossing,\n",
    "    run=True,\n",
    ")"
   ]
  },
  {
   "cell_type": "code",
   "execution_count": null,
   "metadata": {},
   "outputs": [],
   "source": [
    "gm.plot.plot_sparameters(sp)"
   ]
  },
  {
   "cell_type": "code",
   "execution_count": null,
   "metadata": {},
   "outputs": [],
   "source": [
    "gm.plot.plot_sparameters(sp, keys=(\"o3@0,o1@0\",))"
   ]
  },
  {
   "cell_type": "markdown",
   "metadata": {},
   "source": [
    "As you can see this crossing looks beautiful but is quite **lossy** (9 dB @ 1550 nm)"
   ]
  },
  {
   "cell_type": "markdown",
   "metadata": {},
   "source": [
    "## Parallel Simulation (multicore/MPI)\n",
    "\n",
    "Meep supports [distributed-memory parallelization via MPI](https://meep.readthedocs.io/en/latest/Parallel_Meep/) which can be used to provide a significant speedup compared to serial calculations.\n",
    "\n",
    "By default MPI just runs the same copy of the Python script everywhere, with the C++ under MEEP actually being parallelized.\n",
    "\n",
    "`divide_parallel_processes` allows us to logically split this one calculation into (in this case \"cores\") subdivisions.\n",
    "The only difference in the scripts is that a different integer n is returned depending on the subdivision it is running in.\n",
    "\n",
    "So we use that n to select different sources, and each subdivision calculates its own Sparams independently.\n",
    "Afterwards, we collect all the results in one of the subdivisions (if rank == 0)\n",
    "\n",
    "As a demonstration, lets try to reproduce the results of the directional coupler results from the [Meep manual](https://meep.readthedocs.io/en/latest/Python_Tutorials/GDSII_Import/) which indicates that to obtain a 3 dB (50%/50%) splitter you need a separation distance of 130 nm over a coupler length of 8 μm."
   ]
  },
  {
   "cell_type": "code",
   "execution_count": null,
   "metadata": {},
   "outputs": [],
   "source": [
    "import matplotlib.pyplot as plt\n",
    "import numpy as np\n",
    "import pandas as pd\n",
    "import time\n",
    "\n",
    "import gdsfactory as gf\n",
    "import gdsfactory.simulation as sim\n",
    "import gdsfactory.simulation.gmeep as gm"
   ]
  },
  {
   "cell_type": "code",
   "execution_count": null,
   "metadata": {},
   "outputs": [],
   "source": [
    "help(gf.components.coupler)"
   ]
  },
  {
   "cell_type": "code",
   "execution_count": null,
   "metadata": {},
   "outputs": [],
   "source": [
    "c = gf.components.coupler(length=8, gap=0.13)\n",
    "c"
   ]
  },
  {
   "cell_type": "code",
   "execution_count": null,
   "metadata": {},
   "outputs": [],
   "source": [
    "gm.write_sparameters_meep(component=c, run=False)"
   ]
  },
  {
   "cell_type": "code",
   "execution_count": null,
   "metadata": {},
   "outputs": [],
   "source": [
    "filepath = gm.write_sparameters_meep_mpi(\n",
    "    component=c,\n",
    "    cores=4,\n",
    "    resolution=30,\n",
    ")"
   ]
  },
  {
   "cell_type": "code",
   "execution_count": null,
   "metadata": {},
   "outputs": [],
   "source": [
    "sp = np.load(filepath)"
   ]
  },
  {
   "cell_type": "code",
   "execution_count": null,
   "metadata": {},
   "outputs": [],
   "source": [
    "gf.simulation.plot.plot_sparameters(sp)"
   ]
  },
  {
   "cell_type": "code",
   "execution_count": null,
   "metadata": {},
   "outputs": [],
   "source": [
    "gf.simulation.plot.plot_sparameters(sp, keys=[\"o1@0,o3@0\", \"o1@0,o4@0\"])"
   ]
  },
  {
   "cell_type": "markdown",
   "metadata": {},
   "source": [
    "## Batch Simulations\n",
    "\n",
    "You can also run a batch of multicore simulations.\n",
    "\n",
    "Given a list of write_sparameters_meep keyword arguments `jobs` launches them in different cores using MPI where each simulation runs with \"cores_per_run\" cores.\n",
    "\n",
    "If there are more simulations than cores each batch runs sequentially."
   ]
  },
  {
   "cell_type": "code",
   "execution_count": null,
   "metadata": {},
   "outputs": [],
   "source": [
    "import matplotlib.pyplot as plt\n",
    "import numpy as np\n",
    "import pandas as pd\n",
    "import gdsfactory as gf\n",
    "\n",
    "import gdsfactory.simulation as sim\n",
    "import gdsfactory.simulation.gmeep as gm"
   ]
  },
  {
   "cell_type": "code",
   "execution_count": null,
   "metadata": {},
   "outputs": [],
   "source": [
    "help(gm.write_sparameters_meep_batch)"
   ]
  },
  {
   "cell_type": "code",
   "execution_count": null,
   "metadata": {},
   "outputs": [],
   "source": [
    "c = gf.components.straight(length=3.1)"
   ]
  },
  {
   "cell_type": "code",
   "execution_count": null,
   "metadata": {},
   "outputs": [],
   "source": [
    "gm.write_sparameters_meep(c, ymargin=3, run=False)"
   ]
  },
  {
   "cell_type": "code",
   "execution_count": null,
   "metadata": {},
   "outputs": [],
   "source": [
    "c1_dict = {\"component\": c, \"ymargin\": 3}\n",
    "jobs = [\n",
    "    c1_dict,\n",
    "]\n",
    "\n",
    "filepaths = gm.write_sparameters_meep_batch_1x1(\n",
    "    jobs=jobs,\n",
    "    cores_per_run=4,\n",
    "    total_cores=8,\n",
    "    lazy_parallelism=True,\n",
    ")"
   ]
  },
  {
   "cell_type": "code",
   "execution_count": null,
   "metadata": {},
   "outputs": [],
   "source": [
    "sp = np.load(filepaths[0])\n",
    "gf.simulation.plot.plot_sparameters(sp)"
   ]
  },
  {
   "cell_type": "code",
   "execution_count": null,
   "metadata": {},
   "outputs": [],
   "source": [
    "c = gf.components.coupler_ring()\n",
    "c"
   ]
  },
  {
   "cell_type": "code",
   "execution_count": null,
   "metadata": {},
   "outputs": [],
   "source": [
    "p = 2.5\n",
    "gm.write_sparameters_meep(c, ymargin=0, ymargin_bot=p, xmargin=p, run=False)"
   ]
  },
  {
   "cell_type": "code",
   "execution_count": null,
   "metadata": {},
   "outputs": [],
   "source": [
    "c1_dict = dict(\n",
    "    component=c,\n",
    "    ymargin=0,\n",
    "    ymargin_bot=p,\n",
    "    xmargin=p,\n",
    ")\n",
    "jobs = [c1_dict]\n",
    "\n",
    "filepaths = gm.write_sparameters_meep_batch(\n",
    "    jobs=jobs,\n",
    "    cores_per_run=4,\n",
    "    total_cores=8,\n",
    "    delete_temp_files=False,\n",
    "    lazy_parallelism=True,\n",
    ")"
   ]
  },
  {
   "cell_type": "code",
   "execution_count": null,
   "metadata": {},
   "outputs": [],
   "source": [
    "sp = np.load(filepaths[0])"
   ]
  },
  {
   "cell_type": "code",
   "execution_count": null,
   "metadata": {},
   "outputs": [],
   "source": [
    "gm.plot.plot_sparameters(sp)"
   ]
  },
  {
   "cell_type": "code",
   "execution_count": null,
   "metadata": {},
   "outputs": [],
   "source": [
    "gm.plot.plot_sparameters(sp, keys=['o3@0,o1@0', 'o4@0,o1@0'])"
   ]
  },
  {
   "cell_type": "code",
   "execution_count": null,
   "metadata": {},
   "outputs": [],
   "source": [
    "gm.plot.plot_sparameters(sp, keys=[\"s31\"], with_sparameter_keys=True)"
   ]
  },
  {
   "cell_type": "code",
   "execution_count": null,
   "metadata": {},
   "outputs": [],
   "source": [
    "gm.plot.plot_sparameters(sp, keys=[\"s41\"], with_sparameter_keys=True)"
   ]
  },
  {
   "cell_type": "markdown",
   "metadata": {},
   "source": [
    "## Visualizing the 3D Geometry"
   ]
  },
  {
   "cell_type": "code",
   "execution_count": null,
   "metadata": {},
   "outputs": [],
   "source": [
    "from gdsfactory.simulation.add_simulation_markers import add_simulation_markers\n",
    "\n",
    "c = gf.components.mmi1x2()\n",
    "c = add_simulation_markers(c)\n",
    "c"
   ]
  },
  {
   "cell_type": "code",
   "execution_count": null,
   "metadata": {},
   "outputs": [],
   "source": [
    "scene = c.to_3d()\n",
    "scene.show()"
   ]
  },
  {
   "cell_type": "markdown",
   "metadata": {},
   "source": [
    "## Component Optimization\n",
    "\n",
    "gdsfactory extends Meep's Adjoint Optimization features to optimize its primitive photonic components.\n",
    "\n",
    "This example is based on the [Meep Adjoint Optimization tutorial](https://nbviewer.org/github/NanoComp/meep/blob/master/python/examples/adjoint_optimization/04-Splitter.ipynb)"
   ]
  },
  {
   "cell_type": "code",
   "execution_count": 1,
   "metadata": {},
   "outputs": [
    {
     "name": "stdout",
     "output_type": "stream",
     "text": [
      "Using MPI version 4.0, 1 processes\n"
     ]
    },
    {
     "name": "stderr",
     "output_type": "stream",
     "text": [
      "/home/skandanc/miniconda3/envs/meepopt/lib/python3.10/site-packages/numpy/core/getlimits.py:500: UserWarning: The value of the smallest subnormal for <class 'numpy.float64'> type is zero.\n",
      "  setattr(self, word, getattr(machar, word).flat[0])\n",
      "/home/skandanc/miniconda3/envs/meepopt/lib/python3.10/site-packages/numpy/core/getlimits.py:89: UserWarning: The value of the smallest subnormal for <class 'numpy.float64'> type is zero.\n",
      "  return self._float_to_str(self.smallest_subnormal)\n",
      "/home/skandanc/miniconda3/envs/meepopt/lib/python3.10/site-packages/numpy/core/getlimits.py:500: UserWarning: The value of the smallest subnormal for <class 'numpy.float32'> type is zero.\n",
      "  setattr(self, word, getattr(machar, word).flat[0])\n",
      "/home/skandanc/miniconda3/envs/meepopt/lib/python3.10/site-packages/numpy/core/getlimits.py:89: UserWarning: The value of the smallest subnormal for <class 'numpy.float32'> type is zero.\n",
      "  return self._float_to_str(self.smallest_subnormal)\n",
      "2022-10-06 10:47:42.257 | INFO     | gdsfactory.config:<module>:52 - Load '/mnt/c/Users/12269/Documents/GitHub/gdsfactory_SC/gdsfactory' 5.37.1\n",
      "/home/skandanc/miniconda3/envs/meepopt/lib/python3.10/site-packages/tqdm/auto.py:22: TqdmWarning: IProgress not found. Please update jupyter and ipywidgets. See https://ipywidgets.readthedocs.io/en/stable/user_install.html\n",
      "  from .autonotebook import tqdm as notebook_tqdm\n",
      "2022-10-06 10:47:49.812 | INFO     | gdsfactory.simulation.gmeep:<module>:32 - Meep '1.24.0' installed at ['/home/skandanc/miniconda3/envs/meepopt/lib/python3.10/site-packages/meep']\n"
     ]
    }
   ],
   "source": [
    "import meep as mp\n",
    "from meep import MaterialGrid, Medium, Vector3, Volume\n",
    "import meep.adjoint as mpa\n",
    "from meep.adjoint import conic_filter, DesignRegion, get_conic_radius_from_eta_e, tanh_projection\n",
    "\n",
    "from autograd import tensor_jacobian_product\n",
    "import autograd.numpy as npa\n",
    "\n",
    "import gdsfactory as gf\n",
    "import gdsfactory.simulation.gmeep as gm\n",
    "import numpy as np"
   ]
  },
  {
   "cell_type": "markdown",
   "metadata": {},
   "source": [
    "We define some useful variables that we will need later. We can leave out many of the small design parameters by defining a minimum length and applying that to a filter and use that as a constraint in our optimization."
   ]
  },
  {
   "cell_type": "code",
   "execution_count": 2,
   "metadata": {},
   "outputs": [],
   "source": [
    "design_region_width = 5\n",
    "design_region_height = 4\n",
    "\n",
    "eta_e = 0.55\n",
    "minimum_length = 0.1\n",
    "filter_radius = get_conic_radius_from_eta_e(minimum_length, eta_e)\n",
    "eta_i = 0.5\n",
    "eta_d = 1 - eta_e\n",
    "\n",
    "resolution = 20\n",
    "design_region_resolution = int(5 * resolution)\n",
    "\n",
    "Nx = int(design_region_resolution * design_region_width)\n",
    "Ny = int(design_region_resolution * design_region_height)\n",
    "\n",
    "pml_size = 1.0\n",
    "waveguide_length = 0.5\n",
    "waveguide_width = 0.5\n",
    "Sx = 2 * pml_size + 2 * waveguide_length + design_region_width\n",
    "\n",
    "SiO2 = Medium(index=1.44)\n",
    "Si = Medium(index=3.4)"
   ]
  },
  {
   "cell_type": "markdown",
   "metadata": {},
   "source": [
    "We define the design region, design variables, and the component to optimize."
   ]
  },
  {
   "cell_type": "code",
   "execution_count": 3,
   "metadata": {},
   "outputs": [
    {
     "data": {
      "text/plain": [
       "Port (name o3, center [ 7.5 -1. ], width 0.5, orientation 0.0, layer (1, 0), port_type optical)"
      ]
     },
     "execution_count": 3,
     "metadata": {},
     "output_type": "execute_result"
    }
   ],
   "source": [
    "design_variables = MaterialGrid(Vector3(Nx, Ny), SiO2, Si, grid_type=\"U_MEAN\")\n",
    "design_region = DesignRegion(\n",
    "    design_variables,\n",
    "    volume=Volume(\n",
    "        center=Vector3(),\n",
    "        size=Vector3(design_region_width, design_region_height, 0),\n",
    "    ),\n",
    ")\n",
    "\n",
    "c = gf.Component(\"mmi1x2\")\n",
    "\n",
    "arm_separation = 1.0\n",
    "straight1 = c << gf.components.straight(Sx / 2 + 1)\n",
    "straight1.move(straight1.ports[\"o2\"], (-design_region_width / 2.0, 0))\n",
    "straight2 = c << gf.components.straight(Sx / 2 + 1)\n",
    "straight2.move(\n",
    "    straight2.ports[\"o1\"], (design_region_width / 2.0, (arm_separation + 1.0) / 2.0)\n",
    ")\n",
    "straight3 = c << gf.components.straight(Sx / 2 + 1)\n",
    "straight3.move(\n",
    "    straight3.ports[\"o1\"],\n",
    "    (design_region_width / 2.0, (-arm_separation - 1.0) / 2.0),\n",
    ")\n",
    "\n",
    "c.add_port(\"o1\", port=straight1.ports[\"o1\"])\n",
    "c.add_port(\"o2\", port=straight2.ports[\"o2\"])\n",
    "c.add_port(\"o3\", port=straight3.ports[\"o2\"])"
   ]
  },
  {
   "cell_type": "markdown",
   "metadata": {},
   "source": [
    "We define the objective function, and obtain the optimization object."
   ]
  },
  {
   "cell_type": "code",
   "execution_count": 7,
   "metadata": {},
   "outputs": [
    {
     "name": "stderr",
     "output_type": "stream",
     "text": [
      "/home/skandanc/miniconda3/envs/meepopt/lib/python3.10/site-packages/meep/__init__.py:4494: ComplexWarning: Casting complex values to real discards the imaginary part\n",
      "  return _meep._get_epsilon_grid(gobj_list, mlist, _default_material, _ensure_periodicity, gv, cell_size, cell_center, nx, xtics, ny, ytics, nz, ztics, grid_vals, frequency)\n"
     ]
    },
    {
     "data": {
      "image/png": "[encoded data removed]",
      "text/plain": [
       "<Figure size 640x480 with 1 Axes>"
      ]
     },
     "metadata": {},
     "output_type": "display_data"
    }
   ],
   "source": [
    "from typing import Callable, Dict, List, Optional, Tuple, Union\n",
    "\n",
    "\n",
    "def mapping(x, eta, beta):\n",
    "\n",
    "    # filter\n",
    "    filtered_field = conic_filter(\n",
    "        x,\n",
    "        filter_radius,\n",
    "        design_region_width,\n",
    "        design_region_height,\n",
    "        design_region_resolution,\n",
    "    )\n",
    "\n",
    "    # projection\n",
    "    projected_field = tanh_projection(filtered_field, beta, eta)\n",
    "\n",
    "    projected_field = (\n",
    "        npa.fliplr(projected_field) + projected_field\n",
    "    ) / 2  # up-down symmetry\n",
    "\n",
    "    # interpolate to actual materials\n",
    "    return projected_field.flatten()\n",
    "\n",
    "seed = 240\n",
    "np.random.seed(seed)\n",
    "x0 = mapping(\n",
    "    np.random.rand(\n",
    "        Nx * Ny,\n",
    "    ),\n",
    "    eta_i,\n",
    "    128,\n",
    ")\n",
    "\n",
    "def J(source, top, bottom):\n",
    "    power = npa.abs(top / source) ** 2 + npa.abs(bottom / source) ** 2\n",
    "    return npa.mean(power)\n",
    "from typing import Dict, Optional, Tuple, Union\n",
    "\n",
    "opt = gm.get_meep_adjoint_optimizer(\n",
    "    c,\n",
    "    J,\n",
    "    [design_region],\n",
    "    [design_variables],\n",
    "    x0,\n",
    "    cell_size=(10.5, 8),\n",
    "    tpml=1.0,\n",
    "    extend_ports_length=0,\n",
    "    port_margin=0.75,\n",
    "    port_source_offset=-3.5,\n",
    "    port_monitor_offset=-3.5,\n",
    ")"
   ]
  },
  {
   "cell_type": "markdown",
   "metadata": {},
   "source": [
    "We'll define a simple objective function that returns the gradient, and records the FOM. We'll plot the new geometry after each iteration."
   ]
  },
  {
   "cell_type": "code",
   "execution_count": 8,
   "metadata": {},
   "outputs": [],
   "source": [
    "evaluation_history = []\n",
    "cur_iter = [0]\n",
    "\n",
    "def f(v, gradient, cur_beta):\n",
    "    print(\"Current iteration: {}\".format(cur_iter[0] + 1))\n",
    "\n",
    "    f0, dJ_du = opt([mapping(v, eta_i, cur_beta)])\n",
    "\n",
    "    plt.figure()\n",
    "    ax = plt.gca()\n",
    "    opt.plot2D(\n",
    "        False,\n",
    "        ax=ax,\n",
    "        plot_sources_flag=False,\n",
    "        plot_monitors_flag=False,\n",
    "        plot_boundaries_flag=False,\n",
    "    )\n",
    "\n",
    "    if gradient.size > 0:\n",
    "        gradient[:] = tensor_jacobian_product(mapping, 0)(\n",
    "            v, eta_i, cur_beta, np.sum(dJ_du, axis=1)\n",
    "        )\n",
    "\n",
    "    evaluation_history.append(np.max(np.real(f0)))\n",
    "\n",
    "    cur_iter[0] = cur_iter[0] + 1\n",
    "\n",
    "    return np.real(f0)"
   ]
  },
  {
   "cell_type": "markdown",
   "metadata": {},
   "source": [
    "We can define bitmasks to describe the boundary conditions."
   ]
  },
  {
   "cell_type": "code",
   "execution_count": 9,
   "metadata": {},
   "outputs": [],
   "source": [
    "# Define spatial arrays used to generate bit masks\n",
    "x_g = np.linspace(-design_region_width / 2, design_region_width / 2, Nx)\n",
    "y_g = np.linspace(-design_region_height / 2, design_region_height / 2, Ny)\n",
    "X_g, Y_g = np.meshgrid(x_g, y_g, sparse=True, indexing=\"ij\")\n",
    "\n",
    "# Define the core mask\n",
    "left_wg_mask = (X_g == -design_region_width / 2) & (np.abs(Y_g) <= waveguide_width / 2)\n",
    "top_right_wg_mask = (X_g == design_region_width / 2) & (\n",
    "    np.abs(Y_g + arm_separation / 2) <= waveguide_width / 2\n",
    ")\n",
    "bottom_right_wg_mask = (X_g == design_region_width / 2) & (\n",
    "    np.abs(Y_g - arm_separation / 2) <= waveguide_width / 2\n",
    ")\n",
    "Si_mask = left_wg_mask | top_right_wg_mask | bottom_right_wg_mask\n",
    "\n",
    "# Define the cladding mask\n",
    "border_mask = (\n",
    "    (X_g == -design_region_width / 2)\n",
    "    | (X_g == design_region_width / 2)\n",
    "    | (Y_g == -design_region_height / 2)\n",
    "    | (Y_g == design_region_height / 2)\n",
    ")\n",
    "SiO2_mask = border_mask.copy()\n",
    "SiO2_mask[Si_mask] = False"
   ]
  },
  {
   "cell_type": "markdown",
   "metadata": {},
   "source": [
    "We can then finally run the optimizer, and visualize the optimized component."
   ]
  },
  {
   "cell_type": "code",
   "execution_count": 12,
   "metadata": {},
   "outputs": [
    {
     "name": "stdout",
     "output_type": "stream",
     "text": [
      "current beta:  4\n",
      "Current iteration: 1\n",
      "Starting forward run...\n"
     ]
    },
    {
     "name": "stderr",
     "output_type": "stream",
     "text": [
      "/home/skandanc/miniconda3/envs/meepopt/lib/python3.10/site-packages/meep/__init__.py:4488: ComplexWarning: Casting complex values to real discards the imaginary part\n",
      "  return _meep.create_structure(cell_size, dft_data_list_, pml_1d_vols_, pml_2d_vols_, pml_3d_vols_, absorber_vols_, gv, br, sym, num_chunks, Courant, use_anisotropic_averaging, tol, maxeval, gobj_list, center, _ensure_periodicity, _default_material, alist, extra_materials, split_chunks_evenly, set_materials, existing_s, output_chunk_costs, my_bp)\n",
      "/home/skandanc/miniconda3/envs/meepopt/lib/python3.10/site-packages/meep/__init__.py:4491: ComplexWarning: Casting complex values to real discards the imaginary part\n",
      "  return _meep._set_materials(s, cell_size, gv, use_anisotropic_averaging, tol, maxeval, gobj_list, center, _ensure_periodicity, _default_material, alist, extra_materials, split_chunks_evenly, set_materials, existing_geps, output_chunk_costs, my_bp)\n"
     ]
    }
   ],
   "source": [
    "n = Nx * Ny  # number of parameters\n",
    "\n",
    "# Initial guess\n",
    "x = np.ones((n,)) * 0.5\n",
    "x[Si_mask.flatten()] = 1  # set the edges of waveguides to silicon\n",
    "x[SiO2_mask.flatten()] = 0  # set the other edges to SiO2\n",
    "\n",
    "# lower and upper bounds\n",
    "lb = np.zeros((Nx * Ny,))\n",
    "lb[Si_mask.flatten()] = 1\n",
    "ub = np.ones((Nx * Ny,))\n",
    "ub[SiO2_mask.flatten()] = 0\n",
    "\n",
    "cur_beta = 4\n",
    "beta_scale = 2\n",
    "num_betas = 6\n",
    "update_factor = 12\n",
    "\n",
    "# Uncomment the lines below to run the optimization\n",
    "\n",
    "for iters in range(num_betas):\n",
    "    print(\"current beta: \", cur_beta)\n",
    "\n",
    "    if iters != num_betas - 1:\n",
    "        x[:] = gm.run_meep_adjoint_optimizer(n, lambda a, g: f(a, g, cur_beta), x, lower_bound=lb, upper_bound=ub, maxeval=update_factor)\n",
    "    else:\n",
    "        optimized_component = gm.run_meep_adjoint_optimizer(n, lambda a, g: f(a, g, cur_beta), x, lower_bound=lb, upper_bound=ub, maxeval=update_factor, get_optimized_component=True, opt=opt)\n",
    "    cur_beta = cur_beta * beta_scale\n",
    "\n",
    "optimized_component.plot()"
   ]
  }
 ],
 "metadata": {
  "kernelspec": {
   "display_name": "Python 3.9.13 ('routing')",
   "language": "python",
   "name": "python3"
  },
  "language_info": {
   "codemirror_mode": {
    "name": "ipython",
    "version": 3
   },
   "file_extension": ".py",
   "mimetype": "text/x-python",
   "name": "python",
   "nbconvert_exporter": "python",
   "pygments_lexer": "ipython3",
   "version": "3.9.13"
  },
  "vscode": {
   "interpreter": {
    "hash": "4c65519349bbd7dc27568363a5ce836ca72144fe928137f523d4439572f11a58"
   }
  }
 },
 "nbformat": 4,
 "nbformat_minor": 4
}
