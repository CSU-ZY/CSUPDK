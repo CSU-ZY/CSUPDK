{
 "cells": [
  {
   "cell_type": "markdown",
   "id": "0fd5fd63-4798-4187-8315-f6112b7b4d7e",
   "metadata": {},
   "source": [
    "# Sweep\n",
    "\n",
    "Lets create a Design of Experiement (DOE), where you can change any of the values\n",
    "\n",
    "Lets create a resistance sweep, where we change the resistance width"
   ]
  },
  {
   "cell_type": "code",
   "execution_count": null,
   "id": "624be8bc-9d7f-40e8-9217-c0d9071471e9",
   "metadata": {},
   "outputs": [],
   "source": [
    "import gdsfactory as gf\n",
    "gf.clear_cache()\n",
    "\n",
    "sweep = [gf.components.resistance_sheet(width=width) for width in [1, 10, 100]]\n",
    "m = gf.pack(sweep)\n",
    "m[0]"
   ]
  },
  {
   "cell_type": "code",
   "execution_count": null,
   "id": "28642192-edaa-47de-a70c-0a6b1c60ec87",
   "metadata": {},
   "outputs": [],
   "source": [
    "import gdsfactory as gf\n",
    "\n",
    "sweep = [gf.components.spiral_inner_io_fiber_single(length=length) for length in [10e3, 20e3, 30e3]]\n",
    "m = gf.pack(sweep)\n",
    "m[0]"
   ]
  },
  {
   "cell_type": "markdown",
   "id": "de11e81e-fed1-49c1-b3b1-3f38ca1d7e4b",
   "metadata": {},
   "source": [
    "You can also add a `prefix` to each text label. For example `S` for the spirals"
   ]
  },
  {
   "cell_type": "code",
   "execution_count": null,
   "id": "163625c7-3446-43fb-9d79-21ba1b2ef84f",
   "metadata": {},
   "outputs": [],
   "source": [
    "sweep = [\n",
    "    gf.components.spiral_inner_io_fiber_single(length=length)\n",
    "    for length in [10e3, 20e3, 30e3]\n",
    "]\n",
    "\n",
    "sweep_nitride = [\n",
    "    gf.components.spiral_inner_io_fiber_single(\n",
    "        length=length, cross_section=gf.cross_section.nitride\n",
    "    )\n",
    "    for length in [10e3, 20e3, 30e3]\n",
    "]\n",
    "m = gf.pack(sweep + sweep_nitride, text=gf.c.text_rectangular, anchor='nc', prefix='s')\n",
    "m[0]"
   ]
  },
  {
   "cell_type": "code",
   "execution_count": null,
   "id": "2b4e2df3-7d1e-4eea-b636-93fe78a29e26",
   "metadata": {},
   "outputs": [],
   "source": []
  }
 ],
 "metadata": {
  "kernelspec": {
   "display_name": "Python 3 (ipykernel)",
   "language": "python",
   "name": "python3"
  },
  "language_info": {
   "codemirror_mode": {
    "name": "ipython",
    "version": 3
   },
   "file_extension": ".py",
   "mimetype": "text/x-python",
   "name": "python",
   "nbconvert_exporter": "python",
   "pygments_lexer": "ipython3",
   "version": "3.9.7"
  }
 },
 "nbformat": 4,
 "nbformat_minor": 5
}
