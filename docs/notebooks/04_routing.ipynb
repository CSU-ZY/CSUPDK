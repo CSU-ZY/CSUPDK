{
 "cells": [
  {
   "cell_type": "markdown",
   "metadata": {},
   "source": [
    "# Routing\n",
    "\n",
    "Routing allows you to route waveguides between component ports\n"
   ]
  },
  {
   "cell_type": "code",
   "execution_count": null,
   "metadata": {},
   "outputs": [],
   "source": [
    "import pp"
   ]
  },
  {
   "cell_type": "code",
   "execution_count": null,
   "metadata": {},
   "outputs": [],
   "source": [
    "c = pp.Component()\n",
    "mmi1 = c << pp.components.mmi1x2()\n",
    "mmi2 = c << pp.components.mmi1x2()\n",
    "mmi2.move((100, 50))\n",
    "c"
   ]
  },
  {
   "cell_type": "markdown",
   "metadata": {},
   "source": [
    "## get_route\n",
    "\n",
    "`get_route` returns a Manhattan route between 2 ports"
   ]
  },
  {
   "cell_type": "code",
   "execution_count": null,
   "metadata": {},
   "outputs": [],
   "source": [
    "pp.routing.get_route?"
   ]
  },
  {
   "cell_type": "code",
   "execution_count": null,
   "metadata": {},
   "outputs": [],
   "source": [
    "c = pp.Component('sample_connect')\n",
    "mmi1 = c << pp.components.mmi1x2()\n",
    "mmi2 = c << pp.components.mmi1x2()\n",
    "mmi2.move((100, 50))\n",
    "route = pp.routing.get_route(mmi1.ports[\"E1\"], mmi2.ports[\"W0\"])\n",
    "c.add(route.references)\n",
    "c"
   ]
  },
  {
   "cell_type": "code",
   "execution_count": null,
   "metadata": {},
   "outputs": [],
   "source": [
    "route"
   ]
  },
  {
   "cell_type": "markdown",
   "metadata": {},
   "source": [
    "**Connect strip: Problem**\n",
    "\n",
    "sometimes there are obstacles that connect strip does not see!"
   ]
  },
  {
   "cell_type": "code",
   "execution_count": null,
   "metadata": {},
   "outputs": [],
   "source": [
    "c = pp.Component('sample_problem')\n",
    "mmi1 = c << pp.components.mmi1x2()\n",
    "mmi2 = c << pp.components.mmi1x2()\n",
    "mmi2.move((110, 50))\n",
    "x = c << pp.components.cross(length=20)\n",
    "x.move((135, 20))\n",
    "route = pp.routing.get_route(mmi1.ports[\"E1\"], mmi2.ports[\"E1\"])\n",
    "c.add(route.references)\n",
    "c"
   ]
  },
  {
   "cell_type": "markdown",
   "metadata": {},
   "source": [
    "**Solution: Connect strip way points**\n",
    "\n",
    "You can also specify the points along the route"
   ]
  },
  {
   "cell_type": "code",
   "execution_count": null,
   "metadata": {},
   "outputs": [],
   "source": [
    "pp.routing.get_route_waypoints?"
   ]
  },
  {
   "cell_type": "code",
   "execution_count": null,
   "metadata": {},
   "outputs": [],
   "source": [
    "c = pp.Component('sample_avoid_obstacle')\n",
    "mmi1 = c << pp.components.mmi1x2()\n",
    "mmi2 = c << pp.components.mmi1x2()\n",
    "mmi2.move((110, 50))\n",
    "x = c << pp.components.cross(length=20)\n",
    "x.move((135, 20))\n",
    "\n",
    "x0 = mmi1.ports[\"E0\"].x\n",
    "y0 = mmi1.ports[\"E0\"].y\n",
    "\n",
    "\n",
    "x2 = mmi2.ports[\"E0\"].x\n",
    "y2 = mmi2.ports[\"E0\"].y\n",
    "\n",
    "route = pp.routing.get_route_from_waypoints([(x0, y0), (x2 + 40, y0), (x2 + 40, y2), (x2, y2)])\n",
    "c.add(route.references)\n",
    "c"
   ]
  },
  {
   "cell_type": "code",
   "execution_count": null,
   "metadata": {},
   "outputs": [],
   "source": [
    "route.length"
   ]
  },
  {
   "cell_type": "code",
   "execution_count": null,
   "metadata": {},
   "outputs": [],
   "source": [
    "route.ports"
   ]
  },
  {
   "cell_type": "code",
   "execution_count": null,
   "metadata": {},
   "outputs": [],
   "source": [
    "route.references"
   ]
  },
  {
   "cell_type": "markdown",
   "metadata": {},
   "source": [
    "Lets say that we want to extrude the waveguide using a different waveguide crosssection, for example using a different layer"
   ]
  },
  {
   "cell_type": "code",
   "execution_count": null,
   "metadata": {},
   "outputs": [],
   "source": [
    "c = pp.Component('sample_connect')\n",
    "mmi1 = c << pp.components.mmi1x2()\n",
    "mmi2 = c << pp.components.mmi1x2()\n",
    "mmi2.move((100, 50))\n",
    "route = pp.routing.get_route(mmi1.ports[\"E1\"], mmi2.ports[\"W0\"], waveguide='metal1')\n",
    "c.add(route.references)\n",
    "c"
   ]
  },
  {
   "cell_type": "markdown",
   "metadata": {},
   "source": [
    "## get_route_from_waypoints\n",
    "\n",
    "Sometimes you need to set up a route with custom waypoints. `get_route_from_waypoints` is a manual version of `get_route`"
   ]
  },
  {
   "cell_type": "code",
   "execution_count": null,
   "metadata": {},
   "outputs": [],
   "source": [
    "import pp\n",
    "\n",
    "c = pp.Component('waypoints_sample')\n",
    "\n",
    "w = pp.components.straight()\n",
    "left = c << w\n",
    "right = c << w\n",
    "right.move((100, 80))\n",
    "\n",
    "obstacle = pp.components.rectangle(size=(100, 10))\n",
    "obstacle1 = c << obstacle\n",
    "obstacle2 = c << obstacle\n",
    "obstacle1.ymin=40\n",
    "obstacle2.xmin=25\n",
    "\n",
    "\n",
    "p0x, p0y = left.ports['E0'].midpoint\n",
    "p1x, p1y = right.ports['E0'].midpoint\n",
    "o = 10 # vertical offset to overcome bottom obstacle\n",
    "ytop = 20\n",
    "\n",
    "\n",
    "routes = pp.routing.get_route_from_waypoints(\n",
    "    [\n",
    "        (p0x, p0y),\n",
    "        (p0x + o, p0y),\n",
    "        (p0x + o, ytop),\n",
    "        (p1x + o, ytop),\n",
    "        (p1x + o, p1y),\n",
    "        (p1x, p1y),\n",
    "    ],\n",
    ")\n",
    "c.add(routes.references)\n",
    "c"
   ]
  },
  {
   "cell_type": "markdown",
   "metadata": {},
   "source": [
    "## get_route_from_steps\n",
    "\n",
    "As you can see waypoints can only change one point (x or y) at a time, making the waypoint definition a bit redundant.\n",
    "\n",
    "You can also use a `get_route_from_steps` which is a more concise route definition, that supports defining only the new steps `x` or `y` together with increments `dx` or `dy`\n",
    "\n",
    "`get_route_from_steps` is a manual version of `get_route` and a more concise and convenient version of `get_route_from_waypoints` "
   ]
  },
  {
   "cell_type": "code",
   "execution_count": null,
   "metadata": {},
   "outputs": [],
   "source": [
    "import pp\n",
    "\n",
    "c = pp.Component('get_route_from_steps')\n",
    "w = pp.components.straight()\n",
    "left = c << w\n",
    "right = c << w\n",
    "right.move((100, 80))\n",
    "\n",
    "obstacle = pp.components.rectangle(size=(100, 10))\n",
    "obstacle1 = c << obstacle\n",
    "obstacle2 = c << obstacle\n",
    "obstacle1.ymin=40\n",
    "obstacle2.xmin=25\n",
    "\n",
    "port1 = left.ports['E0']\n",
    "port2 = right.ports['E0']\n",
    "\n",
    "routes = pp.routing.get_route_from_steps(port1 = port1, port2=port2, steps=\n",
    "                                          [\n",
    "                                              {'x': 20, 'y':0},\n",
    "                                              {'x': 20, 'y':20},\n",
    "                                              {'x': 120, 'y':20},\n",
    "                                              {'x': 120, 'y':80},\n",
    "                                          ])\n",
    "c.add(routes.references)\n",
    "c"
   ]
  },
  {
   "cell_type": "code",
   "execution_count": null,
   "metadata": {},
   "outputs": [],
   "source": [
    "routes = pp.routing.get_route_from_steps(port1 = port1, port2=port2, steps=\n",
    "                                          [\n",
    "                                              {'x': 20},\n",
    "                                              {'y': 20},\n",
    "                                              {'x': 120},\n",
    "                                              {'y': 80},\n",
    "                                          ])\n",
    "c.add(routes.references)\n",
    "c"
   ]
  },
  {
   "cell_type": "markdown",
   "metadata": {},
   "source": [
    "## get_bundle\n",
    "\n",
    "**Problem**\n",
    "\n",
    "See the route collisions When connecting groups of ports using a regular manhattan single-route router  such as `get route`"
   ]
  },
  {
   "cell_type": "code",
   "execution_count": null,
   "metadata": {},
   "outputs": [],
   "source": [
    "import pp\n",
    "\n",
    "xs_top = [0, 10, 20, 40, 50, 80]\n",
    "pitch = 127\n",
    "N = len(xs_top)\n",
    "xs_bottom = [(i - N / 2) * pitch for i in range(N)]\n",
    "\n",
    "top_ports = [pp.Port(\"top_{}\".format(i), (xs_top[i], 0), 0.5, 270) for i in range(N)]\n",
    "\n",
    "bottom_ports = [\n",
    "    pp.Port(\"bottom_{}\".format(i), (xs_bottom[i], -100), 0.5, 90) for i in range(N)\n",
    "]\n",
    "\n",
    "c = pp.Component(name=\"connect_bundle\")\n",
    "\n",
    "for p1, p2 in zip(top_ports, bottom_ports):\n",
    "    route = pp.routing.get_route(p1, p2)\n",
    "    c.add(route.references)\n",
    "\n",
    "c"
   ]
  },
  {
   "cell_type": "markdown",
   "metadata": {},
   "source": [
    "**solution**\n",
    "\n",
    "`get_bundle` provides you with river routing capabilities, that you can use to route bundles of ports without collisions"
   ]
  },
  {
   "cell_type": "code",
   "execution_count": null,
   "metadata": {},
   "outputs": [],
   "source": [
    "c = pp.Component(name=\"connect_bundle\")\n",
    "routes = pp.routing.get_bundle(top_ports, bottom_ports)\n",
    "for route in routes:\n",
    "    c.add(route.references)\n",
    "    \n",
    "c"
   ]
  },
  {
   "cell_type": "code",
   "execution_count": null,
   "metadata": {},
   "outputs": [],
   "source": [
    "import pp\n",
    "ys_right = [0, 10, 20, 40, 50, 80]\n",
    "pitch = 127.0\n",
    "N = len(ys_right)\n",
    "ys_left = [(i - N / 2) * pitch for i in range(N)]\n",
    "\n",
    "right_ports = [pp.Port(f\"R_{i}\", (0, ys_right[i]), 0.5, 180) for i in range(N)]\n",
    "left_ports = [pp.Port(f\"L_{i}\".format(i), (-400, ys_left[i]), 0.5, 0) for i in range(N)]\n",
    "\n",
    "# you can also mess up the port order and it will sort them by default\n",
    "left_ports.reverse()\n",
    "\n",
    "c = pp.Component(name=\"connect_bundle2\")\n",
    "routes = pp.routing.get_bundle(right_ports, left_ports, sort_ports=True)\n",
    "for route in routes:\n",
    "    c.add(route.references)\n",
    "c"
   ]
  },
  {
   "cell_type": "code",
   "execution_count": null,
   "metadata": {},
   "outputs": [],
   "source": [
    "xs_top = [0, 10, 20, 40, 50, 80]\n",
    "pitch = 127.0\n",
    "N = len(xs_top)\n",
    "xs_bottom = [(i - N / 2) * pitch for i in range(N)]\n",
    "\n",
    "top_ports = [pp.Port(\"top_{}\".format(i), (xs_top[i], 0), 0.5, 270) for i in range(N)]\n",
    "\n",
    "bottom_ports = [\n",
    "    pp.Port(\"bottom_{}\".format(i), (xs_bottom[i], -400), 0.5, 90) for i in range(N)\n",
    "]\n",
    "\n",
    "c = pp.Component(name=\"connect_bundle\")\n",
    "routes = pp.routing.get_bundle(top_ports, bottom_ports)\n",
    "for route in routes:\n",
    "    c.add(route.references)\n",
    "\n",
    "c"
   ]
  },
  {
   "cell_type": "markdown",
   "metadata": {},
   "source": [
    "`get_bundle` can also route bundles through corners"
   ]
  },
  {
   "cell_type": "code",
   "execution_count": null,
   "metadata": {},
   "outputs": [],
   "source": [
    "import pp\n",
    "from pp.cell import cell\n",
    "from pp.component import Component\n",
    "from pp.port import Port\n",
    "\n",
    "@cell\n",
    "def test_connect_corner(N=6, config=\"A\"):\n",
    "\n",
    "    d = 10.0\n",
    "    sep = 5.0\n",
    "    top_cell = pp.Component(name=\"connect_corner\")\n",
    "\n",
    "    if config in [\"A\", \"B\"]:\n",
    "        a = 100.0\n",
    "        ports_A_TR = [\n",
    "            Port(\"A_TR_{}\".format(i), (d, a / 2 + i * sep), 0.5, 0) for i in range(N)\n",
    "        ]\n",
    "        ports_A_TL = [\n",
    "            Port(\"A_TL_{}\".format(i), (-d, a / 2 + i * sep), 0.5, 180) for i in range(N)\n",
    "        ]\n",
    "        ports_A_BR = [\n",
    "            Port(\"A_BR_{}\".format(i), (d, -a / 2 - i * sep), 0.5, 0) for i in range(N)\n",
    "        ]\n",
    "        ports_A_BL = [\n",
    "            Port(\"A_BL_{}\".format(i), (-d, -a / 2 - i * sep), 0.5, 180)\n",
    "            for i in range(N)\n",
    "        ]\n",
    "\n",
    "        ports_A = [ports_A_TR, ports_A_TL, ports_A_BR, ports_A_BL]\n",
    "\n",
    "        ports_B_TR = [\n",
    "            Port(\"B_TR_{}\".format(i), (a / 2 + i * sep, d), 0.5, 90) for i in range(N)\n",
    "        ]\n",
    "        ports_B_TL = [\n",
    "            Port(\"B_TL_{}\".format(i), (-a / 2 - i * sep, d), 0.5, 90) for i in range(N)\n",
    "        ]\n",
    "        ports_B_BR = [\n",
    "            Port(\"B_BR_{}\".format(i), (a / 2 + i * sep, -d), 0.5, 270) for i in range(N)\n",
    "        ]\n",
    "        ports_B_BL = [\n",
    "            Port(\"B_BL_{}\".format(i), (-a / 2 - i * sep, -d), 0.5, 270)\n",
    "            for i in range(N)\n",
    "        ]\n",
    "\n",
    "        ports_B = [ports_B_TR, ports_B_TL, ports_B_BR, ports_B_BL]\n",
    "\n",
    "    elif config in [\"C\", \"D\"]:\n",
    "        a = N * sep + 2 * d\n",
    "        ports_A_TR = [\n",
    "            Port(\"A_TR_{}\".format(i), (a, d + i * sep), 0.5, 0) for i in range(N)\n",
    "        ]\n",
    "        ports_A_TL = [\n",
    "            Port(\"A_TL_{}\".format(i), (-a, d + i * sep), 0.5, 180) for i in range(N)\n",
    "        ]\n",
    "        ports_A_BR = [\n",
    "            Port(\"A_BR_{}\".format(i), (a, -d - i * sep), 0.5, 0) for i in range(N)\n",
    "        ]\n",
    "        ports_A_BL = [\n",
    "            Port(\"A_BL_{}\".format(i), (-a, -d - i * sep), 0.5, 180) for i in range(N)\n",
    "        ]\n",
    "\n",
    "        ports_A = [ports_A_TR, ports_A_TL, ports_A_BR, ports_A_BL]\n",
    "\n",
    "        ports_B_TR = [\n",
    "            Port(\"B_TR_{}\".format(i), (d + i * sep, a), 0.5, 90) for i in range(N)\n",
    "        ]\n",
    "        ports_B_TL = [\n",
    "            Port(\"B_TL_{}\".format(i), (-d - i * sep, a), 0.5, 90) for i in range(N)\n",
    "        ]\n",
    "        ports_B_BR = [\n",
    "            Port(\"B_BR_{}\".format(i), (d + i * sep, -a), 0.5, 270) for i in range(N)\n",
    "        ]\n",
    "        ports_B_BL = [\n",
    "            Port(\"B_BL_{}\".format(i), (-d - i * sep, -a), 0.5, 270) for i in range(N)\n",
    "        ]\n",
    "\n",
    "        ports_B = [ports_B_TR, ports_B_TL, ports_B_BR, ports_B_BL]\n",
    "\n",
    "    if config in [\"A\", \"C\"]:\n",
    "        for ports1, ports2 in zip(ports_A, ports_B):\n",
    "            routes = pp.routing.get_bundle(ports1, ports2, waveguide='nitride', radius=5)\n",
    "            for route in routes:\n",
    "                top_cell.add(route.references)\n",
    "\n",
    "    elif config in [\"B\", \"D\"]:\n",
    "        for ports1, ports2 in zip(ports_A, ports_B):\n",
    "            routes = pp.routing.get_bundle(ports2, ports1, waveguide='nitride', radius=5)\n",
    "            for route in routes:\n",
    "                top_cell.add(route.references)\n",
    "\n",
    "    return top_cell\n",
    "\n",
    "\n",
    "c = test_connect_corner(config='A')\n",
    "c"
   ]
  },
  {
   "cell_type": "code",
   "execution_count": null,
   "metadata": {},
   "outputs": [],
   "source": [
    "c = test_connect_corner(config='C')\n",
    "c"
   ]
  },
  {
   "cell_type": "code",
   "execution_count": null,
   "metadata": {},
   "outputs": [],
   "source": [
    "@cell\n",
    "def test_connect_bundle_udirect(dy=200, angle=270):\n",
    "\n",
    "    xs1 = [-100, -90, -80, -55, -35, 24, 0] + [200, 210, 240]\n",
    "\n",
    "    axis = \"X\" if angle in [0, 180] else \"Y\"\n",
    "\n",
    "    pitch = 10.0\n",
    "    N = len(xs1)\n",
    "    xs2 = [70 + i * pitch for i in range(N)]\n",
    "\n",
    "    if axis == \"X\":\n",
    "        ports1 = [Port(f\"top_{i}\", (0, xs1[i]), 0.5, angle) for i in range(N)]\n",
    "\n",
    "        ports2 = [\n",
    "            Port(f\"bottom_{i}\", (dy, xs2[i]), 0.5, angle) for i in range(N)\n",
    "        ]\n",
    "\n",
    "    else:\n",
    "        ports1 = [Port(f\"top_{i}\", (xs1[i], 0), 0.5, angle) for i in range(N)]\n",
    "\n",
    "        ports2 = [\n",
    "            Port(f\"bottom_{i}\", (xs2[i], dy), 0.5, angle) for i in range(N)\n",
    "        ]\n",
    "\n",
    "    top_cell = Component(name=\"connect_bundle_udirect\")\n",
    "    routes = pp.routing.get_bundle(ports1, ports2, waveguide='nitride', radius=10.)\n",
    "    for route in routes:\n",
    "        top_cell.add(route.references)\n",
    "\n",
    "    return top_cell\n",
    "\n",
    "\n",
    "c = test_connect_bundle_udirect()\n",
    "c"
   ]
  },
  {
   "cell_type": "code",
   "execution_count": null,
   "metadata": {},
   "outputs": [],
   "source": [
    "@cell\n",
    "def test_connect_bundle_u_indirect(dy=-200, angle=180):\n",
    "    xs1 = [-100, -90, -80, -55, -35] + [200, 210, 240]\n",
    "    axis = \"X\" if angle in [0, 180] else \"Y\"\n",
    "    pitch = 10.0\n",
    "    N = len(xs1)\n",
    "    xs2 = [50 + i * pitch for i in range(N)]\n",
    "\n",
    "    a1 = angle\n",
    "    a2 = a1 + 180\n",
    "\n",
    "    if axis == \"X\":\n",
    "        ports1 = [Port(\"top_{}\".format(i), (0, xs1[i]), 0.5, a1) for i in range(N)]\n",
    "\n",
    "        ports2 = [Port(\"bottom_{}\".format(i), (dy, xs2[i]), 0.5, a2) for i in range(N)]\n",
    "\n",
    "    else:\n",
    "        ports1 = [Port(\"top_{}\".format(i), (xs1[i], 0), 0.5, a1) for i in range(N)]\n",
    "\n",
    "        ports2 = [Port(\"bottom_{}\".format(i), (xs2[i], dy), 0.5, a2) for i in range(N)]\n",
    "\n",
    "    top_cell = Component(\"connect_bundle_u_indirect\")\n",
    "    routes = pp.routing.get_bundle(ports1, ports2, bend_factory=pp.components.bend_euler, waveguide='nitride', radius=10)\n",
    "    for route in routes:\n",
    "        top_cell.add(route.references)\n",
    "\n",
    "    return top_cell\n",
    "\n",
    "\n",
    "c = test_connect_bundle_u_indirect(angle=0)\n",
    "c"
   ]
  },
  {
   "cell_type": "code",
   "execution_count": null,
   "metadata": {},
   "outputs": [],
   "source": [
    "import pp\n",
    "\n",
    "@pp.cell\n",
    "def test_north_to_south():\n",
    "    dy = 200.0\n",
    "    xs1 = [-500, -300, -100, -90, -80, -55, -35, 200, 210, 240, 500, 650]\n",
    "\n",
    "    pitch = 10.0\n",
    "    N = len(xs1)\n",
    "    xs2 = [-20 + i * pitch for i in range(N // 2)]\n",
    "    xs2 += [400 + i * pitch for i in range(N // 2)]\n",
    "\n",
    "    a1 = 90\n",
    "    a2 = a1 + 180\n",
    "\n",
    "    ports1 = [pp.Port(\"top_{}\".format(i), (xs1[i], 0), 0.5, a1) for i in range(N)]\n",
    "    ports2 = [pp.Port(\"bottom_{}\".format(i), (xs2[i], dy), 0.5, a2) for i in range(N)]\n",
    "\n",
    "    c = pp.Component()\n",
    "    routes = pp.routing.get_bundle(ports1, ports2, waveguide='nitride', auto_widen=False)\n",
    "    for route in routes:\n",
    "        c.add(route.references)\n",
    "\n",
    "    return c\n",
    "\n",
    "\n",
    "c = test_north_to_south()\n",
    "c"
   ]
  },
  {
   "cell_type": "code",
   "execution_count": null,
   "metadata": {},
   "outputs": [],
   "source": [
    "def demo_connect_bundle():\n",
    "    \"\"\" combines all the connect_bundle tests \"\"\"\n",
    "    y = 400.0\n",
    "    x = 500\n",
    "    y0 = 900\n",
    "    dy = 200.0\n",
    "    c = Component(\"connect_bundle\")\n",
    "    for j, s in enumerate([-1, 1]):\n",
    "        for i, angle in enumerate([0, 90, 180, 270]):\n",
    "            _cmp = test_connect_bundle_u_indirect(dy=s * dy, angle=angle)\n",
    "            _cmp_ref = _cmp.ref(position=(i * x, j * y))\n",
    "            c.add(_cmp_ref)\n",
    "\n",
    "            _cmp = test_connect_bundle_udirect(dy=s * dy, angle=angle)\n",
    "            _cmp_ref = _cmp.ref(position=(i * x, j * y + y0))\n",
    "            c.add(_cmp_ref)\n",
    "\n",
    "    for i, config in enumerate([\"A\", \"B\", \"C\", \"D\"]):\n",
    "        _cmp = test_connect_corner(config=config)\n",
    "        _cmp_ref = _cmp.ref(position=(i * x, 1700))\n",
    "        c.add(_cmp_ref)\n",
    "\n",
    "    #_cmp = test_facing_ports()\n",
    "    #_cmp_ref = _cmp.ref(position=(800, 1820))\n",
    "    #c.add(_cmp_ref)\n",
    "\n",
    "    return c\n",
    "\n",
    "c = demo_connect_bundle()\n",
    "c"
   ]
  },
  {
   "cell_type": "code",
   "execution_count": null,
   "metadata": {},
   "outputs": [],
   "source": [
    "import pp\n",
    "\n",
    "c = pp.Component('route_bend_5um')\n",
    "c1 = c <<pp.components.mmi2x2()\n",
    "c2 = c <<pp.components.mmi2x2()\n",
    "c2.move((100, 50))\n",
    "routes = pp.routing.get_bundle([c1.ports[\"E0\"], c1.ports['E1']], [c2.ports[\"W0\"], c2.ports['W1']], radius=5)\n",
    "for route in routes:\n",
    "    c.add(route.references)\n",
    "c"
   ]
  },
  {
   "cell_type": "code",
   "execution_count": null,
   "metadata": {},
   "outputs": [],
   "source": [
    "import pp\n",
    "\n",
    "c = pp.Component('route_bend_20um')\n",
    "c1 = c <<pp.components.mmi2x2()\n",
    "c2 = c <<pp.components.mmi2x2()\n",
    "c2.move((80, 40))\n",
    "routes = pp.routing.get_bundle([c1.ports[\"E0\"], c1.ports['E1']], [c2.ports[\"W0\"], c2.ports['W1']], radius=5)\n",
    "for route in routes:\n",
    "    c.add(route.references)\n",
    "c"
   ]
  },
  {
   "cell_type": "code",
   "execution_count": null,
   "metadata": {},
   "outputs": [],
   "source": [
    "import pp\n",
    "\n",
    "c = pp.Component('electrical')\n",
    "c1 = c <<pp.components.pad()\n",
    "c2 = c <<pp.components.pad()\n",
    "c2.move((200, 100))\n",
    "routes = pp.routing.get_bundle([c1.ports[\"E\"]], [c2.ports[\"W\"]], waveguide='metal_routing')\n",
    "for route in routes:\n",
    "    c.add(route.references)\n",
    "c"
   ]
  },
  {
   "cell_type": "code",
   "execution_count": null,
   "metadata": {},
   "outputs": [],
   "source": [
    "c = pp.Component(\"get_bundle_with_ubends\")\n",
    "pad_array = pp.components.pad_array(pitch=150, port_list=(\"S\",))\n",
    "c1 = c << pad_array\n",
    "c2 = c << pad_array\n",
    "c2.rotate(90)\n",
    "c2.movex(1000)\n",
    "c2.ymax = -200\n",
    "\n",
    "routes_bend180 = pp.routing.get_routes_bend180(\n",
    "    ports=c2.get_ports_list(), radius=75 / 2, waveguide=\"metal_routing\"\n",
    ")\n",
    "c.add(routes_bend180.references)\n",
    "\n",
    "routes = pp.routing.get_bundle(\n",
    "    c1.get_ports_list(), routes_bend180.ports, waveguide=\"metal_routing\"\n",
    ")\n",
    "for route in routes:\n",
    "    c.add(route.references)\n",
    "c"
   ]
  },
  {
   "cell_type": "markdown",
   "metadata": {},
   "source": [
    "**Problem**\n",
    "\n",
    "Sometimes 90 degrees routes do not have enough space for a Manhattan route"
   ]
  },
  {
   "cell_type": "code",
   "execution_count": null,
   "metadata": {},
   "outputs": [],
   "source": [
    "import pp\n",
    "\n",
    "c = pp.Component('route_fail_1')\n",
    "c1 = c <<pp.components.nxn(east=3, ysize=20)\n",
    "c2 = c <<pp.components.nxn(west=3)\n",
    "c2.move((80, 0))\n",
    "routes = pp.routing.get_bundle(c1.get_ports_list(prefix='E'), c2.get_ports_list(prefix='W'), auto_widen=False)\n",
    "for route in routes:\n",
    "    c.add(route.references)\n",
    "c"
   ]
  },
  {
   "cell_type": "code",
   "execution_count": null,
   "metadata": {},
   "outputs": [],
   "source": [
    "c = pp.Component(\"route_fail_2\")\n",
    "pitch = 2.0\n",
    "ys_left = [0, 10, 20]\n",
    "N = len(ys_left)\n",
    "ys_right = [(i - N / 2) * pitch for i in range(N)]\n",
    "\n",
    "right_ports = [pp.Port(f\"R_{i}\", (0, ys_right[i]), 0.5, 180) for i in range(N)]\n",
    "left_ports = [pp.Port(f\"L_{i}\", (-50, ys_left[i]), 0.5, 0) for i in range(N)]\n",
    "left_ports.reverse()\n",
    "routes = pp.routing.get_bundle(right_ports, left_ports, radius=5)\n",
    "\n",
    "for i, route in enumerate(routes):\n",
    "    c.add(route.references)\n",
    "c"
   ]
  },
  {
   "cell_type": "markdown",
   "metadata": {},
   "source": [
    "**Solution**\n",
    "\n",
    "Add Sbend routes using `get_bundle_sbend`"
   ]
  },
  {
   "cell_type": "code",
   "execution_count": null,
   "metadata": {},
   "outputs": [],
   "source": [
    "import pp\n",
    "\n",
    "c = pp.Component('route_solution_1_get_bundle_sbend')\n",
    "c1 = c <<pp.components.nxn(east=3, ysize=20)\n",
    "c2 = c <<pp.components.nxn(west=3)\n",
    "c2.move((80, 0))\n",
    "routes = pp.routing.get_bundle_sbend(c1.get_ports_list(prefix='E'), c2.get_ports_list(prefix='W'))\n",
    "c.add(routes.references)\n",
    "c"
   ]
  },
  {
   "cell_type": "code",
   "execution_count": null,
   "metadata": {},
   "outputs": [],
   "source": [
    "routes"
   ]
  },
  {
   "cell_type": "code",
   "execution_count": null,
   "metadata": {},
   "outputs": [],
   "source": [
    "c = pp.Component('route_solution_2_get_bundle_sbend')\n",
    "route = pp.routing.get_bundle_sbend(right_ports, left_ports)\n",
    "c.add(route.references)"
   ]
  },
  {
   "cell_type": "code",
   "execution_count": null,
   "metadata": {},
   "outputs": [],
   "source": [
    "import pp\n",
    "\n",
    "c = pp.Component('route_solution_1_get_routes')\n",
    "c1 = c <<pp.components.nxn(east=3, ysize=20)\n",
    "c2 = c <<pp.components.nxn(west=3)\n",
    "c2.move((80, 0))\n",
    "routes = pp.routing.get_routes(c1.get_ports_list(prefix='E'), c2.get_ports_list(prefix='W'))\n",
    "c.add(routes.references)\n",
    "c"
   ]
  },
  {
   "cell_type": "code",
   "execution_count": null,
   "metadata": {},
   "outputs": [],
   "source": [
    "c = pp.Component('route_solution_2_get_routes')\n",
    "routes = pp.routing.get_routes(right_ports, left_ports)\n",
    "c.add(routes.references)"
   ]
  },
  {
   "cell_type": "markdown",
   "metadata": {},
   "source": [
    "## get_bundle_from_waypoints\n",
    "\n",
    "While `get_bundle` routes bundles of ports automatically, you can also use `get_bundle_from_waypoints` to manually specify the route waypoints.\n",
    "\n",
    "You can think of `get_bundle_from_waypoints` as a manual version of `get_bundle`\n"
   ]
  },
  {
   "cell_type": "code",
   "execution_count": null,
   "metadata": {},
   "outputs": [],
   "source": [
    "import numpy as np\n",
    "import pp\n",
    "\n",
    "\n",
    "@pp.cell\n",
    "def test_connect_bundle_waypoints():\n",
    "    \"\"\"Connect bundle of ports with bundle of routes following a list of waypoints.\"\"\"\n",
    "    xs1 = np.arange(10) * 5 - 500.0\n",
    "    N = xs1.size\n",
    "    ys2 = np.array([0, 5, 10, 20, 25, 30, 40, 55, 60, 75]) + 500.0\n",
    "\n",
    "    ports1 = [pp.Port(f\"A_{i}\", (xs1[i], 0), 0.5, 90) for i in range(N)]\n",
    "    ports2 = [pp.Port(f\"B_{i}\", (0, ys2[i]), 0.5, 180) for i in range(N)]\n",
    "\n",
    "    c = pp.Component()\n",
    "    waypoints = [\n",
    "        ports1[0].position + (0, 100),\n",
    "        ports1[0].position + (200, 100),\n",
    "        ports1[0].position + (200, -200),\n",
    "        ports1[0].position + (0, -200),\n",
    "        ports1[0].position + (0, -350),\n",
    "        ports1[0].position + (400, -350),\n",
    "        (ports1[0].x + 400, ports2[0].y),\n",
    "    ]\n",
    "    print(waypoints)\n",
    "\n",
    "    routes = pp.routing.get_bundle_from_waypoints(ports1, ports2, waypoints)\n",
    "    for route in routes:\n",
    "        c.add(route.references)\n",
    "\n",
    "    return c\n",
    "\n",
    "cell = test_connect_bundle_waypoints()\n",
    "cell"
   ]
  },
  {
   "cell_type": "markdown",
   "metadata": {},
   "source": [
    "**Problem**\n",
    "\n",
    "One limitation from `get_bundle_from_waypoints` is that it requires to have all the ports lined up.\n",
    "\n",
    "For example, this code will give you an error\n",
    "\n",
    "```python\n",
    "\n",
    "import numpy as np\n",
    "import pp\n",
    "\n",
    "c = pp.Component()\n",
    "r = c << pp.c.array(component=pp.c.straight)\n",
    "r.movex(60)\n",
    "r.movey(40)\n",
    "\n",
    "lt = c<< pp.c.straight(length=15)\n",
    "lb = c<< pp.c.straight(length=5)\n",
    "lt.movey(5)\n",
    "\n",
    "ports1 = lt.get_ports_list(orientation=0) + lb.get_ports_list(orientation=0)\n",
    "ports2 = r.get_ports_list(orientation=180)\n",
    "\n",
    "for route in routes:\n",
    "    c.add(route.references)\n",
    "\n",
    "dx = 20\n",
    "p0 = ports1[0].midpoint + (dx, 0)\n",
    "p1 = (ports1[0].midpoint[0]+dx, ports2[0].midpoint[1])\n",
    "waypoints = (p0, p1)\n",
    "\n",
    "routes = pp.routing.get_bundle_from_waypoints(ports1, ports2, waypoints=waypoints)\n",
    "for route in routes:\n",
    "    c.add(route.references)\n",
    "\n",
    "```\n",
    "\n",
    "\n",
    "**Solution**\n",
    "\n",
    "You can `route_ports_to_side` to have all ports with the same starting `x`"
   ]
  },
  {
   "cell_type": "code",
   "execution_count": null,
   "metadata": {},
   "outputs": [],
   "source": [
    "import numpy as np\n",
    "import pp\n",
    "\n",
    "c = pp.Component('get_bundle_from_waypoints_solution')\n",
    "r = c << pp.c.array(component=pp.c.straight)\n",
    "r.movex(60)\n",
    "r.movey(40)\n",
    "\n",
    "lt = c<< pp.c.straight(length=15)\n",
    "lb = c<< pp.c.straight(length=5)\n",
    "lt.movey(5)\n",
    "\n",
    "ports1 = lt.get_ports_list(orientation=0) + lb.get_ports_list(orientation=0)\n",
    "ports2 = r.get_ports_list(orientation=180)\n",
    "\n",
    "routes, ports = pp.routing.route_ports_to_side(ports1, side='east')\n",
    "ports1 = ports\n",
    "\n",
    "for route in routes:\n",
    "    c.add(route.references)\n",
    "\n",
    "dx = 20\n",
    "p0 = ports1[0].midpoint + (dx, 0)\n",
    "p1 = (ports1[0].midpoint[0]+dx, ports2[0].midpoint[1])\n",
    "waypoints = (p0, p1)\n",
    "\n",
    "routes = pp.routing.get_bundle_from_waypoints(ports1, ports2, waypoints=waypoints)\n",
    "for route in routes:\n",
    "    c.add(route.references)\n",
    "c"
   ]
  },
  {
   "cell_type": "markdown",
   "metadata": {},
   "source": [
    "## get_bundle_path_length_match\n",
    "\n",
    "Sometimes you need to set up a route a bundle of ports that need to keep the same lengths"
   ]
  },
  {
   "cell_type": "code",
   "execution_count": null,
   "metadata": {},
   "outputs": [],
   "source": [
    "import pp\n",
    "\n",
    "c = pp.Component('path_length_match_sample')\n",
    "dy = 2000.0\n",
    "xs1 = [-500, -300, -100, -90, -80, -55, -35, 200, 210, 240, 500, 650]\n",
    "\n",
    "pitch = 100.0\n",
    "N = len(xs1)\n",
    "xs2 = [-20 + i * pitch for i in range(N)]\n",
    "\n",
    "a1 = 90\n",
    "a2 = a1 + 180\n",
    "\n",
    "ports1 = [pp.Port(f\"top_{i}\", (xs1[i], 0), 0.5, a1) for i in range(N)]\n",
    "ports2 = [pp.Port(f\"bottom_{i}\", (xs2[i], dy), 0.5, a2) for i in range(N)]\n",
    "\n",
    "routes = pp.routing.get_bundle_path_length_match(ports1, ports2)\n",
    "\n",
    "for route in routes:\n",
    "    c.add(route.references)\n",
    "    print(route.length)\n",
    "c"
   ]
  },
  {
   "cell_type": "markdown",
   "metadata": {},
   "source": [
    "### Add extra length\n",
    "\n",
    "You can also add some extra length to all the routes"
   ]
  },
  {
   "cell_type": "code",
   "execution_count": null,
   "metadata": {},
   "outputs": [],
   "source": [
    "import pp\n",
    "c = pp.Component(\"path_length_match_sample\")\n",
    "\n",
    "dy = 2000.0\n",
    "xs1 = [-500, -300, -100, -90, -80, -55, -35, 200, 210, 240, 500, 650]\n",
    "\n",
    "pitch = 100.0\n",
    "N = len(xs1)\n",
    "xs2 = [-20 + i * pitch for i in range(N)]\n",
    "\n",
    "a1 = 90\n",
    "a2 = a1 + 180\n",
    "\n",
    "ports1 = [pp.Port(f\"top_{i}\", (xs1[i], 0), 0.5, a1) for i in range(N)]\n",
    "ports2 = [pp.Port(f\"bottom_{i}\", (xs2[i], dy), 0.5, a2) for i in range(N)]\n",
    "\n",
    "routes = pp.routing.get_bundle_path_length_match(\n",
    "    ports1, ports2, extra_length=44, waveguide='nitride'\n",
    ")\n",
    "for route in routes:\n",
    "    c.add(route.references)\n",
    "    print(route.length)\n",
    "c"
   ]
  },
  {
   "cell_type": "markdown",
   "metadata": {},
   "source": [
    "### increase number of loops\n",
    "\n",
    "You can also increase the number of loops"
   ]
  },
  {
   "cell_type": "code",
   "execution_count": null,
   "metadata": {},
   "outputs": [],
   "source": [
    "c = pp.Component(\"path_length_match_sample\")\n",
    "\n",
    "dy = 2000.0\n",
    "xs1 = [-500, -300, -100, -90, -80, -55, -35, 200, 210, 240, 500, 650]\n",
    "\n",
    "pitch = 200.0\n",
    "N = len(xs1)\n",
    "xs2 = [-20 + i * pitch for i in range(N)]\n",
    "\n",
    "a1 = 90\n",
    "a2 = a1 + 180\n",
    "\n",
    "ports1 = [pp.Port(f\"top_{i}\", (xs1[i], 0), 0.5, a1) for i in range(N)]\n",
    "ports2 = [pp.Port(f\"bottom_{i}\", (xs2[i], dy), 0.5, a2) for i in range(N)]\n",
    "\n",
    "routes = pp.routing.get_bundle_path_length_match(ports1, ports2, nb_loops=2, auto_widen=False)\n",
    "for route in routes:\n",
    "    c.add(route.references)\n",
    "    print(route.length)\n",
    "c"
   ]
  },
  {
   "cell_type": "code",
   "execution_count": null,
   "metadata": {},
   "outputs": [],
   "source": [
    "# Problem, sometimes when you do path length matching you need to increase the separation\n",
    "import pp\n",
    "\n",
    "c = pp.Component()\n",
    "c1 = c << pp.c.straight_array(spacing=50)\n",
    "c2 = c << pp.c.straight_array(spacing=5)\n",
    "c2.movex(200)\n",
    "c1.y = 0\n",
    "c2.y = 0\n",
    "\n",
    "routes = pp.routing.get_bundle_path_length_match(\n",
    "    c1.get_ports_list(orientation=0),\n",
    "    c2.get_ports_list(orientation=180),\n",
    "    end_straight_offset=0,\n",
    "    start_straight=0,\n",
    "    separation=30,\n",
    ")\n",
    "\n",
    "for route in routes:\n",
    "    c.add(route.references)\n",
    "c"
   ]
  },
  {
   "cell_type": "code",
   "execution_count": null,
   "metadata": {},
   "outputs": [],
   "source": [
    "# Solution: increase separation\n",
    "import pp\n",
    "\n",
    "c = pp.Component()\n",
    "c1 = c << pp.c.straight_array(spacing=50)\n",
    "c2 = c << pp.c.straight_array(spacing=5)\n",
    "c2.movex(200)\n",
    "c1.y = 0\n",
    "c2.y = 0\n",
    "\n",
    "routes = pp.routing.get_bundle_path_length_match(\n",
    "    c1.get_ports_list(orientation=0),\n",
    "    c2.get_ports_list(orientation=180),\n",
    "    end_straight_offset=0,\n",
    "    start_straight=0,\n",
    "    separation=50,\n",
    ")\n",
    "\n",
    "for route in routes:\n",
    "    c.add(route.references)\n",
    "c"
   ]
  },
  {
   "cell_type": "markdown",
   "metadata": {},
   "source": [
    "## Route to IO (Pads, grating couplers ...)\n",
    "\n",
    "\n",
    "### Route to electrical pads"
   ]
  },
  {
   "cell_type": "code",
   "execution_count": null,
   "metadata": {},
   "outputs": [],
   "source": [
    "import pp\n",
    "\n",
    "mzi = pp.components.mzi2x2(with_elec_connections=True)\n",
    "mzi"
   ]
  },
  {
   "cell_type": "code",
   "execution_count": null,
   "metadata": {},
   "outputs": [],
   "source": [
    "import pp\n",
    "\n",
    "c = pp.Component(\"mzi_with_pads_sample\")\n",
    "mzi = pp.components.mzi2x2(with_elec_connections=True)\n",
    "pads = pp.components.pad_array(n=3, port_list=[\"S\"])\n",
    "p = c << pads\n",
    "mzir = c << mzi\n",
    "p.move((-150, 250))\n",
    "\n",
    "routes = pp.routing.get_bundle(\n",
    "    p.ports,\n",
    "    mzir.get_ports_list(port_type='dc'),\n",
    "    waveguide='metal_routing'\n",
    ")\n",
    "for route in routes:\n",
    "    c.add(route.references)\n",
    "c"
   ]
  },
  {
   "cell_type": "markdown",
   "metadata": {},
   "source": [
    "You can also route using 90 degree corners"
   ]
  },
  {
   "cell_type": "code",
   "execution_count": null,
   "metadata": {},
   "outputs": [],
   "source": [
    "import pp\n",
    "\n",
    "c = pp.Component(\"mzi_with_pads_sample_with_corners\")\n",
    "mzi = pp.components.mzi2x2(with_elec_connections=True)\n",
    "pads = pp.components.pad_array(n=3, port_list=[\"S\"])\n",
    "p = c << pads\n",
    "mzir = c << mzi\n",
    "p.move((-150, 250))\n",
    "\n",
    "routes = pp.routing.get_bundle(\n",
    "    ports1=p.ports,\n",
    "    ports2=mzir.get_ports_list(port_type='dc'),\n",
    "    waveguide='metal_routing',\n",
    "    bend_factory=pp.components.wire_corner\n",
    ")\n",
    "for route in routes:\n",
    "    c.add(route.references)\n",
    "c"
   ]
  },
  {
   "cell_type": "code",
   "execution_count": null,
   "metadata": {},
   "outputs": [],
   "source": [
    "import pp\n",
    "\n",
    "c = pp.Component(\"mzi_with_pads_sample\")\n",
    "mzi = pp.components.mzi2x2(with_elec_connections=True)\n",
    "pads = pp.components.pad_array(n=3, port_list=[\"S\"])\n",
    "p = c << pads\n",
    "mzir = c << mzi\n",
    "p.move((-150, 150))\n",
    "\n",
    "routes = pp.routing.get_routes(\n",
    "    mzir.get_ports_list(port_type='dc'),\n",
    "    p.ports,\n",
    ")\n",
    "c.add(routes.references)"
   ]
  },
  {
   "cell_type": "code",
   "execution_count": null,
   "metadata": {},
   "outputs": [],
   "source": [
    "import pp\n",
    "\n",
    "c = pp.components.mzi2x2(with_elec_connections=True)\n",
    "cc = pp.routing.add_electrical_pads_top(component=c)\n",
    "cc"
   ]
  },
  {
   "cell_type": "code",
   "execution_count": null,
   "metadata": {},
   "outputs": [],
   "source": [
    "import pp\n",
    "\n",
    "c = pp.components.straight_with_heater(length=100)\n",
    "cc = pp.routing.add_electrical_pads_top(component=c)\n",
    "cc"
   ]
  },
  {
   "cell_type": "code",
   "execution_count": null,
   "metadata": {},
   "outputs": [],
   "source": [
    "import pp\n",
    "\n",
    "c = pp.components.cross(length=100, layer=pp.LAYER.M3, port_type=\"dc\")\n",
    "c.move((20, 50))\n",
    "cc = pp.routing.add_electrical_pads_shortest(component=c)\n",
    "cc"
   ]
  },
  {
   "cell_type": "code",
   "execution_count": null,
   "metadata": {},
   "outputs": [],
   "source": [
    "# Problem: Sometimes the shortest path does not work well\n",
    "import pp\n",
    "\n",
    "c = pp.components.mzi2x2(with_elec_connections=True)\n",
    "cc = pp.routing.add_electrical_pads_shortest(component=c)\n",
    "cc"
   ]
  },
  {
   "cell_type": "code",
   "execution_count": null,
   "metadata": {},
   "outputs": [],
   "source": [
    "# Solution: you can use define the pads separate and route metal lines to them\n",
    "\n",
    "c = pp.Component('mzi_with_pads')\n",
    "c1 = c << pp.components.mzi2x2(with_elec_connections=True)\n",
    "c2 = c << pp.components.pad_array(n=3, port_list=('S',))\n",
    "\n",
    "c2.ymin = c1.ymax + 20\n",
    "c2.x = 0\n",
    "c1.x = 0\n",
    "c"
   ]
  },
  {
   "cell_type": "code",
   "execution_count": null,
   "metadata": {},
   "outputs": [],
   "source": [
    "c = pp.Component('mzi_with_pads')\n",
    "c1 = c << pp.components.mzi2x2(with_elec_connections=True)\n",
    "c2 = c << pp.components.pad_array(n=3, port_list=('S',))\n",
    "\n",
    "c2.ymin = c1.ymax + 20\n",
    "c2.x = 0\n",
    "c1.x = 0\n",
    "\n",
    "routes = pp.routing.get_bundle(c1.get_ports_list(port_type='dc'), c2.get_ports_list(), waveguide='metal_routing', width=5)\n",
    "for route in routes:\n",
    "    c.add(route.references)\n",
    "\n",
    "c"
   ]
  },
  {
   "cell_type": "markdown",
   "metadata": {},
   "source": [
    "### Route to Fiber Array\n",
    "\n",
    "Routing allows you to define routes to optical or electrical IO (grating couplers or electrical pads)"
   ]
  },
  {
   "cell_type": "code",
   "execution_count": null,
   "metadata": {
    "attributes": {
     "classes": [],
     "id": "",
     "n": "1"
    }
   },
   "outputs": [],
   "source": [
    "import numpy as np\n",
    "import pp\n",
    "from pp import LAYER\n",
    "from pp import Port\n",
    "\n",
    "\n",
    "@pp.cell\n",
    "def big_device(w=400.0, h=400.0, N=16, port_pitch=15.0, layer=LAYER.WG, wg_width=0.5):\n",
    "    \"\"\" big component with N ports on each side \"\"\"\n",
    "    component = pp.Component()\n",
    "    p0 = np.array((0, 0))\n",
    "    dx = w / 2\n",
    "    dy = h / 2\n",
    "\n",
    "    points = [[dx, dy], [dx, -dy], [-dx, -dy], [-dx, dy]]\n",
    "    component.add_polygon(points, layer=layer)\n",
    "    port_params = {\"layer\": layer, \"width\": wg_width}\n",
    "    for i in range(N):\n",
    "        port = Port(\n",
    "            name=\"W{}\".format(i),\n",
    "            midpoint=p0 + (-dx, (i - N / 2) * port_pitch),\n",
    "            orientation=180,\n",
    "            **port_params\n",
    "        )\n",
    "        component.add_port(port)\n",
    "\n",
    "    for i in range(N):\n",
    "        port = Port(\n",
    "            name=\"E{}\".format(i),\n",
    "            midpoint=p0 + (dx, (i - N / 2) * port_pitch),\n",
    "            orientation=0,\n",
    "            **port_params\n",
    "        )\n",
    "        component.add_port(port)\n",
    "\n",
    "    for i in range(N):\n",
    "        port = Port(\n",
    "            name=\"N{}\".format(i),\n",
    "            midpoint=p0 + ((i - N / 2) * port_pitch, dy),\n",
    "            orientation=90,\n",
    "            **port_params\n",
    "        )\n",
    "        component.add_port(port)\n",
    "\n",
    "    for i in range(N):\n",
    "        port = Port(\n",
    "            name=\"S{}\".format(i),\n",
    "            midpoint=p0 + ((i - N / 2) * port_pitch, -dy),\n",
    "            orientation=-90,\n",
    "            **port_params\n",
    "        )\n",
    "        component.add_port(port)\n",
    "    return component\n",
    "\n",
    "\n",
    "component = big_device(N=10)\n",
    "c = pp.routing.add_fiber_array(component=component, radius=10., fanout_length=60.0)\n",
    "c"
   ]
  },
  {
   "cell_type": "code",
   "execution_count": null,
   "metadata": {},
   "outputs": [],
   "source": [
    "import pp\n",
    "\n",
    "c = pp.components.ring_double(width=0.8)\n",
    "cc = pp.routing.add_fiber_array(component=c, taper_length=150)\n",
    "cc"
   ]
  },
  {
   "cell_type": "code",
   "execution_count": null,
   "metadata": {},
   "outputs": [],
   "source": [
    "cc.get_settings()"
   ]
  },
  {
   "cell_type": "code",
   "execution_count": null,
   "metadata": {},
   "outputs": [],
   "source": [
    "cc.pprint()"
   ]
  },
  {
   "cell_type": "markdown",
   "metadata": {},
   "source": [
    "You can also mix and match `TE` and `TM` grating couplers"
   ]
  },
  {
   "cell_type": "code",
   "execution_count": null,
   "metadata": {},
   "outputs": [],
   "source": [
    "c = pp.components.mzi2x2()\n",
    "gcte = pp.components.grating_coupler_te\n",
    "gctm = pp.components.grating_coupler_tm\n",
    "\n",
    "cc = pp.routing.add_fiber_array(\n",
    "    component=c,\n",
    "    optical_routing_type=2,\n",
    "    grating_coupler=[gctm, gcte, gctm, gcte],\n",
    "    radius=20\n",
    ")\n",
    "cc"
   ]
  },
  {
   "cell_type": "markdown",
   "metadata": {},
   "source": [
    "### Route to fiber single"
   ]
  },
  {
   "cell_type": "code",
   "execution_count": null,
   "metadata": {},
   "outputs": [],
   "source": [
    "import pp\n",
    "\n",
    "c = pp.components.ring_single()\n",
    "cc = pp.routing.add_fiber_single(component=c)\n",
    "cc"
   ]
  },
  {
   "cell_type": "code",
   "execution_count": null,
   "metadata": {},
   "outputs": [],
   "source": [
    "import pp\n",
    "\n",
    "c = pp.components.ring_single()\n",
    "cc = pp.routing.add_fiber_single(component=c, with_loopback=False)\n",
    "cc"
   ]
  },
  {
   "cell_type": "code",
   "execution_count": null,
   "metadata": {},
   "outputs": [],
   "source": [
    "c = pp.components.mmi2x2()\n",
    "cc = pp.routing.add_fiber_single(component=c, with_loopback=False)\n",
    "cc"
   ]
  },
  {
   "cell_type": "code",
   "execution_count": null,
   "metadata": {},
   "outputs": [],
   "source": [
    "c = pp.components.mmi1x2()\n",
    "cc = pp.routing.add_fiber_single(component=c, with_loopback=False, fiber_spacing=150)\n",
    "cc"
   ]
  },
  {
   "cell_type": "code",
   "execution_count": null,
   "metadata": {},
   "outputs": [],
   "source": [
    "c = pp.components.mmi1x2()\n",
    "cc = pp.routing.add_fiber_single(component=c, with_loopback=False, fiber_spacing=50)\n",
    "cc"
   ]
  },
  {
   "cell_type": "code",
   "execution_count": null,
   "metadata": {},
   "outputs": [],
   "source": [
    "c = pp.components.crossing()\n",
    "cc = pp.routing.add_fiber_single(component=c, with_loopback=False)\n",
    "cc"
   ]
  },
  {
   "cell_type": "code",
   "execution_count": null,
   "metadata": {},
   "outputs": [],
   "source": [
    "c = pp.components.cross(length=200, width=2)\n",
    "cc = pp.routing.add_fiber_single(component=c, with_loopback=False)\n",
    "cc"
   ]
  }
 ],
 "metadata": {
  "kernelspec": {
   "display_name": "Python 3",
   "language": "python",
   "name": "python3"
  },
  "language_info": {
   "codemirror_mode": {
    "name": "ipython",
    "version": 3
   },
   "file_extension": ".py",
   "mimetype": "text/x-python",
   "name": "python",
   "nbconvert_exporter": "python",
   "pygments_lexer": "ipython3",
   "version": "3.8.5"
  }
 },
 "nbformat": 4,
 "nbformat_minor": 4
}
