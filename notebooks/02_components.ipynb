{
 "cells": [
  {
   "cell_type": "markdown",
   "metadata": {},
   "source": [
    "# Components\n",
    "\n",
    "We store our component functions inside the `pp.components` module. Each\n",
    "function there returns a Component object\n",
    "\n",
    "You can use `dir` or `help` over the `pp.c` module to see the all available\n",
    "components.\n",
    "\n",
    "Some of which are just shapes, but we call them components as they all inherit\n",
    "from the component class in `pp.Component`"
   ]
  },
  {
   "cell_type": "code",
   "execution_count": null,
   "metadata": {},
   "outputs": [],
   "source": [
    "import pp\n",
    "help(pp.c)"
   ]
  },
  {
   "cell_type": "code",
   "execution_count": null,
   "metadata": {},
   "outputs": [],
   "source": [
    "c = pp.c.mzi()\n",
    "pp.qp(c)"
   ]
  },
  {
   "cell_type": "code",
   "execution_count": null,
   "metadata": {},
   "outputs": [],
   "source": [
    "c = pp.c.ring_single_bus()\n",
    "pp.qp(c)"
   ]
  }
 ],
 "metadata": {},
 "nbformat": 4,
 "nbformat_minor": 2
}
