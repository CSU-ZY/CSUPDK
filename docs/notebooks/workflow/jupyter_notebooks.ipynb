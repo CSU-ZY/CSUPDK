{
 "cells": [
  {
   "cell_type": "markdown",
   "id": "35bd3f6c-cab5-445c-8fb4-2ad816f35377",
   "metadata": {},
   "source": [
    "# Jupyter notebooks\n",
    "\n",
    "Working with Jupyter notebooks is great for learning gdsfactory as well as running heavy simulations on Cloud servers.\n",
    "\n",
    "Thanks to [kweb](https://github.com/gdsfactory/kweb) you can use the webapp version on klayout in your browser or inside jupyter notebooks."
   ]
  },
  {
   "cell_type": "code",
   "execution_count": null,
   "id": "bfbfd406-957e-4d6b-83ad-2e6f46418018",
   "metadata": {},
   "outputs": [],
   "source": [
    "import gdsfactory as gf"
   ]
  },
  {
   "cell_type": "code",
   "execution_count": null,
   "id": "0fa51540-7af0-42e7-8ec5-b13b232371e9",
   "metadata": {},
   "outputs": [],
   "source": [
    "try:\n",
    "    from kweb.server_jupyter import start\n",
    "except ImportError:\n",
    "    raise ValueError(\"You need to `pip install kweb`\")\n",
    "\n",
    "start()"
   ]
  },
  {
   "cell_type": "code",
   "execution_count": null,
   "id": "1b44bd35-44d5-49a2-886d-2d437d34495d",
   "metadata": {},
   "outputs": [],
   "source": [
    "c = gf.components.mzi()"
   ]
  },
  {
   "cell_type": "code",
   "execution_count": null,
   "id": "67ba55bf-c236-469e-92cb-33535b18ef9f",
   "metadata": {},
   "outputs": [],
   "source": [
    "c.plot_jupyter()"
   ]
  },
  {
   "cell_type": "code",
   "execution_count": null,
   "id": "f3ea2615-77de-4002-a7de-ad67a8f3059d",
   "metadata": {},
   "outputs": [],
   "source": [
    "c = gf.components.bend_circular()\n",
    "c.plot_jupyter()"
   ]
  },
  {
   "cell_type": "code",
   "execution_count": null,
   "id": "fdc86b99-2e22-4ce6-96b0-c2b2dcceefb1",
   "metadata": {},
   "outputs": [],
   "source": [
    "c = gf.components.straight_heater_meander()\n",
    "c.plot_jupyter()"
   ]
  },
  {
   "cell_type": "code",
   "execution_count": null,
   "id": "b1060bcc-c938-494d-8f0c-d1a9cb115b7f",
   "metadata": {},
   "outputs": [],
   "source": [
    "c"
   ]
  },
  {
   "cell_type": "code",
   "execution_count": null,
   "id": "7e10cecc-d5fe-4ee3-af2b-43fba0eefdd6",
   "metadata": {},
   "outputs": [],
   "source": [
    "s = c.to_3d()\n",
    "s.show()"
   ]
  }
 ],
 "metadata": {
  "kernelspec": {
   "display_name": "Python 3 (ipykernel)",
   "language": "python",
   "name": "python3"
  },
  "language_info": {
   "codemirror_mode": {
    "name": "ipython",
    "version": 3
   },
   "file_extension": ".py",
   "mimetype": "text/x-python",
   "name": "python",
   "nbconvert_exporter": "python",
   "pygments_lexer": "ipython3",
   "version": "3.10.6"
  }
 },
 "nbformat": 4,
 "nbformat_minor": 5
}
