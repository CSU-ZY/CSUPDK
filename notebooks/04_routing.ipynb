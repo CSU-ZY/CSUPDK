{
 "cells": [
  {
   "cell_type": "markdown",
   "metadata": {},
   "source": [
    "# Routing\n",
    "\n",
    "Routing allows you to define routes between component ports\n"
   ]
  },
  {
   "cell_type": "code",
   "execution_count": null,
   "metadata": {},
   "outputs": [],
   "source": [
    "import pp"
   ]
  },
  {
   "cell_type": "code",
   "execution_count": null,
   "metadata": {},
   "outputs": [],
   "source": [
    "c = pp.Component('sample_connect_strip')\n",
    "mmi1 = c << pp.c.mmi1x2()\n",
    "mmi2 = c << pp.c.mmi1x2()\n",
    "mmi2.move((100, 50))\n",
    "pp.qp(c)"
   ]
  },
  {
   "cell_type": "markdown",
   "metadata": {},
   "source": [
    "# Connect strip\n",
    "\n",
    "Connect strip connects using Manhattan routing"
   ]
  },
  {
   "cell_type": "code",
   "execution_count": null,
   "metadata": {},
   "outputs": [],
   "source": [
    "r = pp.routing.connect_strip(mmi1.ports['E1'], mmi2.ports['W0'])"
   ]
  },
  {
   "cell_type": "code",
   "execution_count": null,
   "metadata": {},
   "outputs": [],
   "source": [
    "c.add(r)"
   ]
  },
  {
   "cell_type": "code",
   "execution_count": null,
   "metadata": {},
   "outputs": [],
   "source": [
    "pp.qp(c)"
   ]
  },
  {
   "cell_type": "markdown",
   "metadata": {},
   "source": [
    "# Connect strip way_points\n",
    "\n",
    "You can also specify the points along the route"
   ]
  },
  {
   "cell_type": "code",
   "execution_count": null,
   "metadata": {},
   "outputs": [],
   "source": [
    "c = pp.Component('sample_connect_strip_way_points')\n",
    "mmi1 = c << pp.c.mmi1x2()\n",
    "mmi2 = c << pp.c.mmi1x2()\n",
    "mmi2.move((100, 50))\n",
    "\n",
    "x0 = mmi1.ports['E0'].x\n",
    "y0 = mmi1.ports['E0'].y\n",
    "\n",
    "\n",
    "x2 = mmi2.ports['E0'].x\n",
    "y2 = mmi2.ports['E0'].y\n",
    "\n",
    "r2 = pp.routing.connect_strip_way_points([(x0, y0),  (x2+40, y0), (x2+40, y2), (x2, y2)])\n",
    "c.add(r2)\n",
    "pp.qp(c)\n",
    "pp.show(c)"
   ]
  },
  {
   "cell_type": "markdown",
   "metadata": {},
   "source": [
    "You can avoid expanding to wider waveguides by passing a `None` taper factory"
   ]
  },
  {
   "cell_type": "code",
   "execution_count": null,
   "metadata": {},
   "outputs": [],
   "source": [
    "c = pp.Component('sample_connect_strip_way_points_no_tapers')\n",
    "mmi1 = c << pp.c.mmi1x2()\n",
    "mmi2 = c << pp.c.mmi1x2()\n",
    "mmi2.move((100, 50))\n",
    "\n",
    "x0 = mmi1.ports['E0'].x\n",
    "y0 = mmi1.ports['E0'].y\n",
    "\n",
    "\n",
    "x2 = mmi2.ports['E0'].x\n",
    "y2 = mmi2.ports['E0'].y\n",
    "\n",
    "r2 = pp.routing.connect_strip_way_points([(x0, y0),  (x2+40, y0), (x2+40, y2), (x2, y2)], taper_factory=None)\n",
    "c.add(r2)\n",
    "pp.qp(c)\n",
    "pp.show(c)"
   ]
  },
  {
   "cell_type": "markdown",
   "metadata": {},
   "source": [
    "# Connect bundle\n",
    "\n",
    "A river routing connects many ports to many ports and routes them in a river fashion"
   ]
  },
  {
   "cell_type": "code",
   "execution_count": null,
   "metadata": {},
   "outputs": [],
   "source": [
    "import numpy as np\n",
    "import pp\n",
    "from pp import LAYER\n",
    "from pp import Port\n",
    "from pp.routing.connect_component import add_io_optical\n",
    "\n",
    "\n",
    "@pp.autoname\n",
    "def big_device(w=400.0, h=400.0, N=16, port_pitch=15.0, layer=LAYER.WG, wg_width=0.5):\n",
    "    \"\"\" big device with N ports on each side \"\"\"\n",
    "    component = pp.Component()\n",
    "    p0 = np.array((0, 0))\n",
    "    dx = w / 2\n",
    "    dy = h / 2\n",
    "\n",
    "    points = [[dx, dy], [dx, -dy], [-dx, -dy], [-dx, dy]]\n",
    "    component.add_polygon(points, layer=layer)\n",
    "    port_params = {\"layer\": layer, \"width\": wg_width}\n",
    "    for i in range(N):\n",
    "        port = Port(\n",
    "            name=\"W{}\".format(i),\n",
    "            midpoint=p0 + (-dx, (i - N / 2) * port_pitch),\n",
    "            orientation=180,\n",
    "            **port_params\n",
    "        )\n",
    "        component.add_port(port)\n",
    "\n",
    "    for i in range(N):\n",
    "        port = Port(\n",
    "            name=\"E{}\".format(i),\n",
    "            midpoint=p0 + (dx, (i - N / 2) * port_pitch),\n",
    "            orientation=0,\n",
    "            **port_params\n",
    "        )\n",
    "        component.add_port(port)\n",
    "\n",
    "    for i in range(N):\n",
    "        port = Port(\n",
    "            name=\"N{}\".format(i),\n",
    "            midpoint=p0 + ((i - N / 2) * port_pitch, dy),\n",
    "            orientation=90,\n",
    "            **port_params\n",
    "        )\n",
    "        component.add_port(port)\n",
    "\n",
    "    for i in range(N):\n",
    "        port = Port(\n",
    "            name=\"S{}\".format(i),\n",
    "            midpoint=p0 + ((i - N / 2) * port_pitch, -dy),\n",
    "            orientation=-90,\n",
    "            **port_params\n",
    "        )\n",
    "        component.add_port(port)\n",
    "    return component\n"
   ]
  },
  {
   "cell_type": "code",
   "execution_count": null,
   "metadata": {},
   "outputs": [],
   "source": [
    "c = pp.Component('sample_connect_bundle')\n",
    "c1 = c << big_device(N=20)\n",
    "c2 = c << big_device(N=20)\n",
    "c2.move((600, 600))\n",
    "\n",
    "c1_east_ports = [v for k, v in c1.ports.items() if k[0] == 'E'] # east facing ports\n",
    "c2_west_ports = [v for k, v in c2.ports.items() if k[0] == 'W'] # west facing ports\n",
    "\n",
    "routes = pp.routing.connect_bundle(start_ports=c1_east_ports, end_ports=c2_west_ports)\n",
    "c.add(routes)\n",
    "pp.qp(c)\n",
    "pp.show(c)"
   ]
  },
  {
   "cell_type": "markdown",
   "metadata": {},
   "source": [
    "You can also increase the separation between the routes of the river_router"
   ]
  },
  {
   "cell_type": "code",
   "execution_count": null,
   "metadata": {},
   "outputs": [],
   "source": [
    "c = pp.Component('sample_connect_bundle_larger_separation')\n",
    "c1 = c << big_device(N=20)\n",
    "c2 = c << big_device(N=20)\n",
    "c2.move((900, 900))\n",
    "\n",
    "c1_east_ports = [v for k, v in c1.ports.items() if k[0] == 'E'] # east facing ports\n",
    "c2_west_ports = [v for k, v in c2.ports.items() if k[0] == 'W'] # west facing ports\n",
    "\n",
    "routes = pp.routing.connect_bundle(start_ports=c1_east_ports, end_ports=c2_west_ports, separation=15)\n",
    "c.add(routes)\n",
    "pp.qp(c)\n",
    "pp.show(c)"
   ]
  },
  {
   "cell_type": "code",
   "execution_count": null,
   "metadata": {},
   "outputs": [],
   "source": []
  }
 ],
 "metadata": {
  "kernelspec": {
   "display_name": "Python 3",
   "language": "python",
   "name": "python3"
  },
  "language_info": {
   "codemirror_mode": {
    "name": "ipython",
    "version": 3
   },
   "file_extension": ".py",
   "mimetype": "text/x-python",
   "name": "python",
   "nbconvert_exporter": "python",
   "pygments_lexer": "ipython3",
   "version": "3.7.7"
  }
 },
 "nbformat": 4,
 "nbformat_minor": 2
}
