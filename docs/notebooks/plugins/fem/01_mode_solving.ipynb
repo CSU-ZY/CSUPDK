{
 "cells": [
  {
   "cell_type": "markdown",
   "metadata": {},
   "source": [
    "# Finite-element mode solver\n",
    "\n",
    "PDEs can be solved on meshed components.\n",
    "\n",
    "For instance, a finite-element mode solver can easily be called on a component cross-section. Unlike the other mode solvers, this actually uses the component geometry instead of a hardcoded geometry.\n",
    "\n",
    "Below, we directly compute the modes of a Gdsfactory cross-section (internally, a \"uz\" mesh is defined perpendicular to a straight component with the provided cross-section). We also downsample layers from the LayerStack, and both the cross-section and LayerStack can be modified prior to simulation to change the geometry. The refractive indices are interpolated from the dict `gdsfactory.pdk._ACTIVE_PDK`."
   ]
  },
  {
   "cell_type": "code",
   "execution_count": null,
   "metadata": {},
   "outputs": [],
   "source": [
    "%%capture\n",
    "from gdsfactory.simulation.fem.mode_solver import compute_cross_section_modes\n",
    "from gdsfactory.tech import LayerStack, get_layer_stack_generic\n",
    "from gdsfactory.cross_section import rib\n",
    "\n",
    "filtered_layerstack = LayerStack(\n",
    "    layers={\n",
    "        k: get_layer_stack_generic().layers[k]\n",
    "        for k in (\n",
    "            \"core\",\n",
    "            \"clad\",\n",
    "            \"slab90\",\n",
    "            \"box\",\n",
    "        )\n",
    "    }\n",
    ")\n",
    "\n",
    "filtered_layerstack.layers[\"core\"].thickness = 0.2 # Perturb the layerstack before simulating\n",
    "\n",
    "resolutions = {}\n",
    "resolutions[\"core\"] = {\"resolution\": 0.02, \"distance\": 2}\n",
    "resolutions[\"clad\"] = {\"resolution\": 0.2, \"distance\": 1}\n",
    "resolutions[\"box\"] = {\"resolution\": 0.2, \"distance\": 1}\n",
    "resolutions[\"slab90\"] = {\"resolution\": 0.05, \"distance\": 1}\n",
    "\n",
    "lams, basis, xs = compute_cross_section_modes(cross_section=rib(width=0.6), \n",
    "                            layerstack=filtered_layerstack,\n",
    "                            wl = 1.55,\n",
    "                            num_modes = 4, \n",
    "                            resolutions=resolutions,\n",
    "                        )"
   ]
  },
  {
   "cell_type": "markdown",
   "metadata": {},
   "source": [
    "The solver returns the effective indices (lams), FEM basis functions (basis) and eigenvectors (xs):"
   ]
  },
  {
   "cell_type": "code",
   "execution_count": null,
   "metadata": {},
   "outputs": [],
   "source": [
    "lams, basis, xs"
   ]
  },
  {
   "cell_type": "markdown",
   "metadata": {},
   "source": [
    "These can be used as inputs to other [femwell mode solver functions](https://github.com/HelgeGehring/femwell/blob/main/femwell/mode_solver.py) to inspect or analyze the modes:"
   ]
  },
  {
   "cell_type": "code",
   "execution_count": null,
   "metadata": {},
   "outputs": [],
   "source": [
    "%%capture\n",
    "from femwell import mode_solver\n",
    "import numpy as np\n",
    "\n",
    "fig = mode_solver.plot_mode(basis, np.real(xs[0]), plot_vectors=False, colorbar=True, title='E', direction='y')"
   ]
  },
  {
   "cell_type": "code",
   "execution_count": null,
   "metadata": {},
   "outputs": [],
   "source": [
    "fig[0]"
   ]
  },
  {
   "cell_type": "code",
   "execution_count": null,
   "metadata": {},
   "outputs": [],
   "source": [
    "%%capture\n",
    "te_frac = mode_solver.calculate_te_frac(basis, xs[0])"
   ]
  },
  {
   "cell_type": "code",
   "execution_count": null,
   "metadata": {},
   "outputs": [],
   "source": [
    "te_frac"
   ]
  }
 ],
 "metadata": {
  "kernelspec": {
   "display_name": "Python 3 (ipykernel)",
   "language": "python",
   "name": "python3"
  },
  "language_info": {
   "codemirror_mode": {
    "name": "ipython",
    "version": 3
   },
   "file_extension": ".py",
   "mimetype": "text/x-python",
   "name": "python",
   "nbconvert_exporter": "python",
   "pygments_lexer": "ipython3",
   "version": "3.10.8"
  },
  "vscode": {
   "interpreter": {
    "hash": "9681f22f6b021b51767cd12f2ee94a3aa82f62cc2b3c7aa4d0f31bfe25e768dd"
   }
  }
 },
 "nbformat": 4,
 "nbformat_minor": 4
}
