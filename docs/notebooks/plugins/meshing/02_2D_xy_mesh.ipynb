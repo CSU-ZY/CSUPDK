{
 "cells": [
  {
   "cell_type": "markdown",
   "metadata": {},
   "source": [
    "# 2D meshing: xy cross-section\n",
    "\n",
    "By supplying the argument `type=\"xy\"` and a `z`-value, arbitrary planar cross-sections of the `Component` can be meshed.\n",
    "\n",
    "Repeating last notebook's example:"
   ]
  },
  {
   "cell_type": "code",
   "execution_count": null,
   "metadata": {},
   "outputs": [],
   "source": [
    "import gdsfactory as gf\n",
    "from gdsfactory.simulation.gmsh.mesh import create_physical_mesh\n",
    "import meshio\n",
    "import pyvista as pv\n",
    "\n",
    "waveguide = gf.components.straight_pin(length=10, taper=None)\n",
    "waveguide"
   ]
  },
  {
   "cell_type": "code",
   "execution_count": null,
   "metadata": {},
   "outputs": [],
   "source": [
    "from gdsfactory.tech import LayerMap, LayerStack, LayerLevel, get_layer_stack_generic\n",
    "\n",
    "filtered_layerstack = LayerStack(\n",
    "    layers={\n",
    "        k: get_layer_stack_generic().layers[k]\n",
    "        for k in (\n",
    "            \"slab90\",\n",
    "            \"core\",\n",
    "            \"via_contact\",\n",
    "        )\n",
    "    }\n",
    ")"
   ]
  },
  {
   "cell_type": "code",
   "execution_count": null,
   "metadata": {},
   "outputs": [],
   "source": [
    "filename = 'mesh'\n",
    "\n",
    "def mesh_with_physicals(mesh, filename):\n",
    "    mesh_from_file = meshio.read(f\"{filename}.msh\")\n",
    "    triangle_mesh = create_physical_mesh(mesh_from_file, \"triangle\", prune_z=True)\n",
    "    meshio.write(f\"{filename}.xdmf\", triangle_mesh)\n",
    "    mesh = pv.read(f\"{filename}.xdmf\")\n",
    "    return mesh"
   ]
  },
  {
   "cell_type": "markdown",
   "metadata": {},
   "source": [
    "At `z=0.09` um, according to the layer stack above we should see polygons from all three layers:"
   ]
  },
  {
   "cell_type": "code",
   "execution_count": null,
   "metadata": {},
   "outputs": [],
   "source": [
    "filename = 'mesh'\n",
    "mesh = waveguide.to_gmsh(type=\"xy\", z=0.09, layer_stack=filtered_layerstack filename=f\"{filename}.msh\")\n",
    "mesh = mesh_with_physicals(mesh, filename)"
   ]
  },
  {
   "cell_type": "code",
   "execution_count": null,
   "metadata": {},
   "outputs": [],
   "source": [
    "plotter = pv.Plotter()\n",
    "plotter.add_mesh(mesh, style='wireframe', show_scalar_bar=False)\n",
    "plotter.show_grid()\n",
    "plotter.camera_position = \"xy\"\n",
    "plotter.show()"
   ]
  },
  {
   "cell_type": "markdown",
   "metadata": {},
   "source": [
    "At `z=0`, we expect only the core and slab:"
   ]
  },
  {
   "cell_type": "code",
   "execution_count": null,
   "metadata": {},
   "outputs": [],
   "source": [
    "mesh = waveguide.to_gmsh(type=\"xy\", z=0.0, layer_stack=filtered_layerstack, filename=f\"{filename}.msh\")\n",
    "mesh = mesh_with_physicals(mesh, filename)"
   ]
  },
  {
   "cell_type": "code",
   "execution_count": null,
   "metadata": {},
   "outputs": [],
   "source": [
    "plotter = pv.Plotter()\n",
    "plotter.add_mesh(mesh, style='wireframe', show_scalar_bar=False)\n",
    "plotter.show_grid()\n",
    "plotter.camera_position = \"xy\"\n",
    "plotter.show()"
   ]
  },
  {
   "cell_type": "markdown",
   "metadata": {},
   "source": [
    "At `z=1.0`, only the vias should appear:"
   ]
  },
  {
   "cell_type": "code",
   "execution_count": null,
   "metadata": {},
   "outputs": [],
   "source": [
    "mesh = waveguide.to_gmsh(type=\"xy\", z=1.0, layer_stack=filtered_layerstack, filename=f\"{filename}.msh\")\n",
    "mesh = mesh_with_physicals(mesh, filename)"
   ]
  },
  {
   "cell_type": "code",
   "execution_count": null,
   "metadata": {},
   "outputs": [],
   "source": [
    "plotter = pv.Plotter()\n",
    "plotter.add_mesh(mesh, style='wireframe', show_scalar_bar=False)\n",
    "plotter.show_grid()\n",
    "plotter.camera_position = \"xy\"\n",
    "plotter.show()"
   ]
  },
  {
   "cell_type": "markdown",
   "metadata": {},
   "source": [
    "## Controlling meshing domain\n",
    "\n",
    "Since arbitrary components can be meshed, we can use functions that return other components to modify the simulation domain, for instance `gdsfactory.geometry.trim`:"
   ]
  },
  {
   "cell_type": "code",
   "execution_count": null,
   "metadata": {},
   "outputs": [],
   "source": [
    "waveguide_trimmed = gf.Component()\n",
    "waveguide_trimmed.add_ref(\n",
    "    gf.geometry.trim(\n",
    "        component=waveguide,\n",
    "        domain=[[3, -4], [3, 4], [5, 4], [5, -4]],\n",
    "    )\n",
    ")\n",
    "\n",
    "waveguide_trimmed"
   ]
  },
  {
   "cell_type": "code",
   "execution_count": null,
   "metadata": {},
   "outputs": [],
   "source": [
    "mesh = waveguide_trimmed.to_gmsh(type=\"xy\", z=0.09, layer_stack=filtered_layerstack, filename=f\"{filename}.msh\")\n",
    "mesh = mesh_with_physicals(mesh, filename)"
   ]
  },
  {
   "cell_type": "code",
   "execution_count": null,
   "metadata": {},
   "outputs": [],
   "source": [
    "plotter = pv.Plotter()\n",
    "plotter.add_mesh(mesh, style='wireframe', show_scalar_bar=False)\n",
    "plotter.show_grid()\n",
    "plotter.camera_position = \"xy\"\n",
    "plotter.show()"
   ]
  },
  {
   "cell_type": "code",
   "execution_count": null,
   "metadata": {},
   "outputs": [],
   "source": []
  }
 ],
 "metadata": {
  "kernelspec": {
   "display_name": "Python 3.10.7 ('venv': venv)",
   "language": "python",
   "name": "python3"
  },
  "language_info": {
   "codemirror_mode": {
    "name": "ipython",
    "version": 3
   },
   "file_extension": ".py",
   "mimetype": "text/x-python",
   "name": "python",
   "nbconvert_exporter": "python",
   "pygments_lexer": "ipython3",
   "version": "3.10.8"
  },
  "vscode": {
   "interpreter": {
    "hash": "f6aacea7c8042266f4630abbd029ef642556424f57599598f7cb395c6723dd83"
   }
  }
 },
 "nbformat": 4,
 "nbformat_minor": 2
}
