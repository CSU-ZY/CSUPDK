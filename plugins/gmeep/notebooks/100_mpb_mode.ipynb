{
 "cells": [
  {
   "cell_type": "code",
   "execution_count": null,
   "metadata": {},
   "outputs": [],
   "source": [
    "import numpy as np\n",
    "import matplotlib.pyplot as plt\n",
    "import meep as mp\n",
    "import gmeep as gm"
   ]
  },
  {
   "cell_type": "markdown",
   "metadata": {},
   "source": [
    "# MPB modes\n",
    "\n",
    "MPB has periodic boundary conditions.\n"
   ]
  },
  {
   "cell_type": "code",
   "execution_count": null,
   "metadata": {},
   "outputs": [],
   "source": [
    "# plot TE mode (plot_mode_order=1)\n",
    "r = gm.find_modes(wg_width=0.4, ncore=3.47, nclad=1.44, wg_thickness=.22, res=32, sx=6, sy=6, mode_number=1, parity=mp.NO_PARITY)\n",
    "r"
   ]
  },
  {
   "cell_type": "code",
   "execution_count": null,
   "metadata": {},
   "outputs": [],
   "source": [
    "gm.plot_modes(r['mode_solver'])"
   ]
  },
  {
   "cell_type": "code",
   "execution_count": null,
   "metadata": {},
   "outputs": [],
   "source": [
    "# plot TM mode (plot_mode_order=2)\n",
    "r = gm.find_modes(wg_width=0.5, ncore=3.47, nclad=1.44, wg_thickness=.22, res=32, sx=6, sy=6, mode_number=2, parity=mp.NO_PARITY)\n",
    "r"
   ]
  },
  {
   "cell_type": "code",
   "execution_count": null,
   "metadata": {},
   "outputs": [],
   "source": [
    "gm.plot_modes(r['mode_solver'])"
   ]
  },
  {
   "cell_type": "code",
   "execution_count": null,
   "metadata": {},
   "outputs": [],
   "source": [
    "# plot TM mode (plot_mode_order=1)\n",
    "import gmeep as gm\n",
    "import meep as mp\n",
    "\n",
    "r = gm.find_modes(wg_width=0.5, ncore=3.47, nclad=1.44, wg_thickness=.22, res=32, sx=6, sy=6, parity=mp.EVEN_Y, mode_number=1)\n",
    "r"
   ]
  },
  {
   "cell_type": "code",
   "execution_count": null,
   "metadata": {},
   "outputs": [],
   "source": [
    "gm.plot_modes(r['mode_solver'])"
   ]
  },
  {
   "cell_type": "code",
   "execution_count": null,
   "metadata": {},
   "outputs": [],
   "source": [
    "# TM mode has some issue if no parity is applied\n",
    "#neff, ng = gm.find_modes(wg_width=0.5, ncore=3.47, nclad=1.44, wg_thickness=.22, plot=True, res=32, sx=6, sy=6, mode_number=2)\n",
    "#neff, ng"
   ]
  },
  {
   "cell_type": "code",
   "execution_count": null,
   "metadata": {},
   "outputs": [],
   "source": [
    "import gmeep as gm\n",
    "import meep as mp\n",
    "r = gm.find_modes(wg_width=0.8, ncore=3.47, nclad=1.44, wg_thickness=.22, res=32, sx=6, sy=6, mode_number=1, parity=mp.EVEN_Y)\n",
    "r"
   ]
  },
  {
   "cell_type": "code",
   "execution_count": null,
   "metadata": {},
   "outputs": [],
   "source": [
    "wg_widths = np.arange(200, 2000, 100)*1e-3\n",
    "n_te0 = [gm.find_modes(wg_width=wg_width, ncore=3.55, wg_thickness=.22) for wg_width in wg_widths]"
   ]
  },
  {
   "cell_type": "code",
   "execution_count": null,
   "metadata": {},
   "outputs": [],
   "source": [
    "neffs_te0 = [ni['neff'] for ni in n_te0]\n",
    "ngs_te0 = [ni['ng'] for ni in n_te0]\n",
    "\n",
    "plt.plot(wg_widths, neffs_te0, '.-')\n",
    "plt.xlabel('wg_width')\n",
    "plt.ylabel('neff')"
   ]
  },
  {
   "cell_type": "code",
   "execution_count": null,
   "metadata": {},
   "outputs": [],
   "source": [
    "plt.plot(wg_widths, ngs_te0)\n",
    "plt.xlabel('wg_width')\n",
    "plt.ylabel('ng')"
   ]
  },
  {
   "cell_type": "code",
   "execution_count": null,
   "metadata": {},
   "outputs": [],
   "source": [
    "wg_widths = np.arange(200, 2000, 100)*1e-3\n",
    "n_tm0 = [gm.find_modes(wg_width=wg_width, ncore=3.55, wg_thickness=.22, parity=mp.EVEN_Y) for wg_width in wg_widths]"
   ]
  },
  {
   "cell_type": "code",
   "execution_count": null,
   "metadata": {},
   "outputs": [],
   "source": [
    "neffs_tm0 = [ni['neff'] for ni in n_tm0]\n",
    "ngs_tm0 = [ni['ng'] for ni in n_tm0]\n",
    "\n",
    "plt.plot(wg_widths, neffs_te0, '.-', label='TE0')\n",
    "plt.plot(wg_widths, neffs_tm0, '.-', label='TM0')\n",
    "plt.xlabel('wg_width')\n",
    "plt.ylabel('neff')\n",
    "plt.legend()"
   ]
  },
  {
   "cell_type": "markdown",
   "metadata": {},
   "source": [
    "# Rib waveguides"
   ]
  },
  {
   "cell_type": "code",
   "execution_count": null,
   "metadata": {},
   "outputs": [],
   "source": [
    "# plot TE mode (plot_mode_order=1)\n",
    "r = gm.find_modes(wg_width=0.5, ncore=3.55, wg_thickness=.22, slab_thickness=90e-3, res=128)\n",
    "gm.plot_modes(r['mode_solver'])\n",
    "r"
   ]
  },
  {
   "cell_type": "code",
   "execution_count": null,
   "metadata": {},
   "outputs": [],
   "source": [
    "neff, ng  = r['neff'], r['ng']\n",
    "print(neff, ng)"
   ]
  },
  {
   "cell_type": "code",
   "execution_count": null,
   "metadata": {},
   "outputs": [],
   "source": [
    "resolutions = np.linspace(10, 100, 50)\n",
    "neffs = []\n",
    "ngs= []\n",
    "\n",
    "for res in resolutions:\n",
    "    r = gm.find_modes(wg_width=0.5, ncore=3.5, nclad=1.44, wg_thickness=.22, res=res)\n",
    "    ngs.append(r['ng'])\n",
    "    neffs.append(r['neff'])"
   ]
  },
  {
   "cell_type": "markdown",
   "metadata": {},
   "source": [
    "## Convergence tests\n",
    "\n",
    "Before launching a set of simulations you need to make sure you have the correct simulation settings:\n",
    "\n",
    "- res: resolution\n",
    "- sx: Size of the simulation region in the x-direction (default=4.0)\n",
    "- sy: Size of the simulation region in the y-direction (default=4.0)\n"
   ]
  },
  {
   "cell_type": "code",
   "execution_count": null,
   "metadata": {},
   "outputs": [],
   "source": [
    "plt.plot(resolutions, ngs, 'o-')\n",
    "plt.ylabel('ng')\n",
    "plt.xlabel('resolution (pixels/um)')"
   ]
  },
  {
   "cell_type": "code",
   "execution_count": null,
   "metadata": {},
   "outputs": [],
   "source": [
    "plt.plot(resolutions, neffs, 'o-')\n",
    "plt.ylabel('neff')\n",
    "plt.xlabel('resolution (pixels/um)')"
   ]
  },
  {
   "cell_type": "code",
   "execution_count": null,
   "metadata": {},
   "outputs": [],
   "source": [
    "sxs = np.linspace(4, 6, 6)\n",
    "neffs = []\n",
    "ngs= []\n",
    "\n",
    "for sx in sxs:\n",
    "    r = gm.find_modes(\n",
    "        wg_width=0.5, ncore=3.5, nclad=1.44, wg_thickness=.22, res=20, sx=sx\n",
    "    )\n",
    "    ngs.append(r['ng'])\n",
    "    neffs.append(r['neff'])"
   ]
  },
  {
   "cell_type": "code",
   "execution_count": null,
   "metadata": {},
   "outputs": [],
   "source": [
    "plt.plot(sxs, neffs, 'o-')\n",
    "plt.ylabel('neff')\n",
    "plt.xlabel('simulation size in x(um)')"
   ]
  },
  {
   "cell_type": "code",
   "execution_count": null,
   "metadata": {},
   "outputs": [],
   "source": [
    "sys = np.linspace(2, 6, 6)\n",
    "neffs = []\n",
    "ngs= []\n",
    "\n",
    "for sy in sys:\n",
    "    r = gm.find_modes(\n",
    "        wg_width=0.5, ncore=3.5, nclad=1.44, wg_thickness=.22, res=20, sy=sy\n",
    "    )\n",
    "    ngs.append(r['ng'])\n",
    "    neffs.append(r['neff'])"
   ]
  },
  {
   "cell_type": "code",
   "execution_count": null,
   "metadata": {},
   "outputs": [],
   "source": [
    "plt.plot(sxs, neffs, 'o-')\n",
    "plt.ylabel('neff')\n",
    "plt.xlabel('simulation size in y (um)')"
   ]
  },
  {
   "cell_type": "markdown",
   "metadata": {},
   "source": [
    "## Dispersion"
   ]
  },
  {
   "cell_type": "code",
   "execution_count": null,
   "metadata": {},
   "outputs": [],
   "source": [
    "from gmeep.find_neff_ng_dw_dh import plot_neff_ng_dw_dh\n",
    "import pandas as pd\n",
    "import pathlib\n",
    "from scipy.interpolate import interp2d\n",
    "import numpy as np\n",
    "import gmeep as gm"
   ]
  },
  {
   "cell_type": "code",
   "execution_count": null,
   "metadata": {},
   "outputs": [],
   "source": [
    "plot_neff_ng_dw_dh(with_dispersion=True)"
   ]
  },
  {
   "cell_type": "code",
   "execution_count": null,
   "metadata": {},
   "outputs": [],
   "source": [
    "plot_neff_ng_dw_dh(with_dispersion=False)"
   ]
  }
 ],
 "metadata": {
  "kernelspec": {
   "display_name": "Python 3",
   "language": "python",
   "name": "python3"
  },
  "language_info": {
   "codemirror_mode": {
    "name": "ipython",
    "version": 3
   },
   "file_extension": ".py",
   "mimetype": "text/x-python",
   "name": "python",
   "nbconvert_exporter": "python",
   "pygments_lexer": "ipython3",
   "version": "3.8.5"
  }
 },
 "nbformat": 4,
 "nbformat_minor": 4
}
