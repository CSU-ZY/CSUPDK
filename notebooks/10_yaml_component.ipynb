{
 "cells": [
  {
   "cell_type": "markdown",
   "id": "f55a85a2",
   "metadata": {},
   "source": [
    "# YAML Place and AutoRoute\n",
    "\n",
    "You have two options for working with gdsfactory:\n",
    "\n",
    "1. **python flow**: you define your layout using python functions (Parametric Cells), and connect them with routing functions.\n",
    "2. **YAML Place and AutoRoute**: you define your Component  as Place and Route in YAML. From the netlist you can simulate the Component or generate the layout.\n",
    "\n",
    "\n",
    "YAML is a human readable version of JSON that you can use to define placements and routes\n",
    "\n",
    "to define a a YAML Component you need to define:\n",
    "\n",
    "- instances: with each instance setting\n",
    "- placements: with X and Y\n",
    "\n",
    "And optionally:\n",
    "\n",
    "- routes: between instance ports\n",
    "- connections: to connect instance ports to other ports (without routes)\n",
    "- ports: define input and output ports for the top level Component.\n",
    "\n",
    "\n",
    "gdsfactory VSCode extension has a filewatcher for `*.pic.yml` files that will show them live in klayout as you edit them.\n",
    "\n",
    "![extension](https://i.imgur.com/89OPCQ1.png)\n",
    "\n",
    "The extension provides you with useful code snippets and filewatcher extension to see live modifications of `*pic.yml` or `*.py` files. Look for the telescope button on the top right of VSCode 🔭.\n",
    "![watcher-button](https://i.imgur.com/Kbb2A2X.png)"
   ]
  },
  {
   "cell_type": "code",
   "execution_count": null,
   "id": "de33d16c",
   "metadata": {},
   "outputs": [],
   "source": [
    "import gdsfactory as gf\n",
    "from IPython.display import Code\n",
    "\n",
    "filepath = \"yaml_pics/pads.pic.yml\"\n",
    "Code(filepath, language=\"yaml+jinja\")"
   ]
  },
  {
   "cell_type": "code",
   "execution_count": null,
   "id": "05d79f3f",
   "metadata": {},
   "outputs": [],
   "source": [
    "c = gf.read.from_yaml(filepath)\n",
    "c.plot()"
   ]
  },
  {
   "cell_type": "markdown",
   "id": "4d03ba24",
   "metadata": {},
   "source": [
    "Lets start by defining the `instances` and `placements` section in YAML\n",
    "\n",
    "Lets place an `mmi_long` where you can place the `o1` port at `x=20, y=10`"
   ]
  },
  {
   "cell_type": "code",
   "execution_count": null,
   "id": "9e631f33",
   "metadata": {},
   "outputs": [],
   "source": [
    "filepath = \"yaml_pics/mmis.pic.yml\"\n",
    "Code(filepath, language=\"yaml+jinja\")"
   ]
  },
  {
   "cell_type": "code",
   "execution_count": null,
   "id": "c694634b",
   "metadata": {},
   "outputs": [],
   "source": [
    "c = gf.read.from_yaml(filepath)\n",
    "c.plot()"
   ]
  },
  {
   "cell_type": "markdown",
   "id": "e124b789",
   "metadata": {},
   "source": [
    "## ports\n",
    "\n",
    "You can expose any ports of any instance to the new Component with a `ports` section in YAML\n",
    "\n",
    "Lets expose all the ports from `mmi_long` into the new component.\n",
    "\n",
    "Ports are exposed as `new_port_name: instance_name, port_name`"
   ]
  },
  {
   "cell_type": "code",
   "execution_count": null,
   "id": "1209ba59",
   "metadata": {},
   "outputs": [],
   "source": [
    "filepath = \"yaml_pics/ports_demo.pic.yml\"\n",
    "Code(filepath, language=\"yaml+jinja\")"
   ]
  },
  {
   "cell_type": "code",
   "execution_count": null,
   "id": "c9369e78",
   "metadata": {},
   "outputs": [],
   "source": [
    "c = gf.read.from_yaml(filepath)\n",
    "c.plot()"
   ]
  },
  {
   "cell_type": "markdown",
   "id": "39f4c3ec",
   "metadata": {},
   "source": [
    "You can also define a mirror placement using a port\n",
    "\n",
    "Try mirroring with other ports `o2`, `o3` or with a number as well as with a rotation `90`, `180`, `270`"
   ]
  },
  {
   "cell_type": "code",
   "execution_count": null,
   "id": "1d78bb69",
   "metadata": {},
   "outputs": [],
   "source": [
    "filepath = \"yaml_pics/mirror_demo.pic.yml\"\n",
    "Code(filepath, language=\"yaml+jinja\")"
   ]
  },
  {
   "cell_type": "code",
   "execution_count": null,
   "id": "b3467616",
   "metadata": {},
   "outputs": [],
   "source": [
    "c = gf.read.from_yaml(filepath)\n",
    "c.plot()"
   ]
  },
  {
   "cell_type": "markdown",
   "id": "8d390327",
   "metadata": {},
   "source": [
    "## connections\n",
    "\n",
    "You can connect any two instances by defining a `connections` section in the YAML file.\n",
    "\n",
    "it follows the syntax `instance_source,port : instance_destination,port`"
   ]
  },
  {
   "cell_type": "code",
   "execution_count": null,
   "id": "d7939aab",
   "metadata": {},
   "outputs": [],
   "source": [
    "filepath = \"yaml_pics/connections_demo.pic.yml\"\n",
    "Code(filepath, language=\"yaml+jinja\")"
   ]
  },
  {
   "cell_type": "code",
   "execution_count": null,
   "id": "ff641b19",
   "metadata": {},
   "outputs": [],
   "source": [
    "c = gf.read.from_yaml(filepath)\n",
    "c.plot()"
   ]
  },
  {
   "cell_type": "markdown",
   "id": "87465e6e",
   "metadata": {},
   "source": [
    "**Relative port placing**\n",
    "\n",
    "You can also place a component with respect to another instance port\n",
    "\n",
    "You can also define an x and y offset with `dx` and `dy`"
   ]
  },
  {
   "cell_type": "code",
   "execution_count": null,
   "id": "e8c127ef",
   "metadata": {},
   "outputs": [],
   "source": [
    "filepath = \"yaml_pics/relative_port_placing.pic.yml\"\n",
    "Code(filepath, language=\"yaml+jinja\")"
   ]
  },
  {
   "cell_type": "code",
   "execution_count": null,
   "id": "4ca2786d",
   "metadata": {},
   "outputs": [],
   "source": [
    "c = gf.read.from_yaml(filepath)\n",
    "c.plot()"
   ]
  },
  {
   "cell_type": "markdown",
   "id": "dd5e2535",
   "metadata": {},
   "source": [
    "## routes\n",
    "\n",
    "You can define routes between two instances by defining a `routes` section in YAML\n",
    "\n",
    "it follows the syntax\n",
    "\n",
    "```YAML\n",
    "\n",
    "routes:\n",
    "    route_name:\n",
    "        links:\n",
    "            instance_source,port: instance_destination,port\n",
    "        settings:  # for the route (optional)\n",
    "            waveguide: strip\n",
    "            width: 1.2\n",
    "\n",
    "```"
   ]
  },
  {
   "cell_type": "code",
   "execution_count": null,
   "id": "90d38cf4",
   "metadata": {},
   "outputs": [],
   "source": [
    "filepath = \"yaml_pics/routes.pic.yml\"\n",
    "Code(filepath, language=\"yaml+jinja\")"
   ]
  },
  {
   "cell_type": "code",
   "execution_count": null,
   "id": "e547bbb0",
   "metadata": {},
   "outputs": [],
   "source": [
    "c = gf.read.from_yaml(filepath)\n",
    "c.plot()"
   ]
  },
  {
   "cell_type": "markdown",
   "id": "c8edf24f",
   "metadata": {},
   "source": [
    "## instances, placements, connections, ports, routes\n",
    "\n",
    "Lets combine all you learned so far.\n",
    "\n",
    "You can define the netlist connections of a component by a netlist in YAML format\n",
    "\n",
    "Note that you define the connections as `instance_source.port ->\n",
    "instance_destination.port` so the order is important and therefore you can only\n",
    "change the position of the `instance_destination`"
   ]
  },
  {
   "cell_type": "markdown",
   "id": "506b2fa2",
   "metadata": {},
   "source": [
    "You can define several routes that will be connected using `gf.routing.get_bundle`"
   ]
  },
  {
   "cell_type": "code",
   "execution_count": null,
   "id": "355601bd",
   "metadata": {},
   "outputs": [],
   "source": [
    "filepath = \"yaml_pics/routes_mmi.pic.yml\"\n",
    "Code(filepath, language=\"yaml+jinja\")"
   ]
  },
  {
   "cell_type": "code",
   "execution_count": null,
   "id": "67b1f8ee",
   "metadata": {},
   "outputs": [],
   "source": [
    "c = gf.read.from_yaml(filepath)\n",
    "c.plot()"
   ]
  },
  {
   "cell_type": "markdown",
   "id": "b7f3547d",
   "metadata": {
    "lines_to_next_cell": 2
   },
   "source": [
    "You can also add custom component_factories to `gf.read.from_yaml`\n"
   ]
  },
  {
   "cell_type": "code",
   "execution_count": null,
   "id": "5ee5dde8",
   "metadata": {},
   "outputs": [],
   "source": [
    "@gf.cell\n",
    "def pad_new(size=(100, 100), layer=(1, 0)):\n",
    "    c = gf.Component()\n",
    "    compass = c << gf.components.compass(size=size, layer=layer)\n",
    "    c.ports = compass.ports\n",
    "    return c\n",
    "\n",
    "\n",
    "gf.get_active_pdk().register_cells(pad_new=pad_new)\n",
    "c = pad_new()\n",
    "c.plot()"
   ]
  },
  {
   "cell_type": "code",
   "execution_count": null,
   "id": "3ebcce30",
   "metadata": {},
   "outputs": [],
   "source": [
    "filepath = \"yaml_pics/new_factories.pic.yml\"\n",
    "Code(filepath, language=\"yaml+jinja\")"
   ]
  },
  {
   "cell_type": "code",
   "execution_count": null,
   "id": "42018253",
   "metadata": {},
   "outputs": [],
   "source": [
    "c = gf.read.from_yaml(filepath)\n",
    "c.plot()"
   ]
  },
  {
   "cell_type": "code",
   "execution_count": null,
   "id": "839095d9",
   "metadata": {},
   "outputs": [],
   "source": [
    "filepath = \"yaml_pics/routes_custom.pic.yml\"\n",
    "Code(filepath, language=\"yaml+jinja\")"
   ]
  },
  {
   "cell_type": "code",
   "execution_count": null,
   "id": "373d81d2",
   "metadata": {
    "lines_to_next_cell": 2
   },
   "outputs": [],
   "source": [
    "c = gf.read.from_yaml(filepath)\n",
    "c.plot()"
   ]
  },
  {
   "cell_type": "markdown",
   "id": "a12b9372",
   "metadata": {},
   "source": [
    "Also, you can define route bundles with different settings and specify the route `factory` as a parameter as well as the `settings` for that particular route alias."
   ]
  },
  {
   "cell_type": "code",
   "execution_count": null,
   "id": "efedce86",
   "metadata": {},
   "outputs": [],
   "source": [
    "filepath = \"yaml_pics/pads_path_length_match.pic.yml\"\n",
    "Code(filepath, language=\"yaml+jinja\")"
   ]
  },
  {
   "cell_type": "code",
   "execution_count": null,
   "id": "4b4a6b09",
   "metadata": {},
   "outputs": [],
   "source": [
    "c = gf.read.from_yaml(filepath)\n",
    "c.plot()"
   ]
  },
  {
   "cell_type": "code",
   "execution_count": null,
   "id": "89b860e6",
   "metadata": {},
   "outputs": [],
   "source": [
    "filepath = \"yaml_pics/routes_path_length_match.pic.yml\"\n",
    "Code(filepath, language=\"yaml+jinja\")"
   ]
  },
  {
   "cell_type": "code",
   "execution_count": null,
   "id": "86ad1f6f",
   "metadata": {},
   "outputs": [],
   "source": [
    "c = gf.read.from_yaml(filepath)\n",
    "c.plot()"
   ]
  },
  {
   "cell_type": "code",
   "execution_count": null,
   "id": "c9a2687d",
   "metadata": {},
   "outputs": [],
   "source": [
    "filepath = \"yaml_pics/routes_waypoints.pic.yml\"\n",
    "Code(filepath, language=\"yaml+jinja\")"
   ]
  },
  {
   "cell_type": "code",
   "execution_count": null,
   "id": "e8157ae1",
   "metadata": {},
   "outputs": [],
   "source": [
    "c = gf.read.from_yaml(filepath)\n",
    "c.plot()"
   ]
  },
  {
   "cell_type": "markdown",
   "id": "7c93de55",
   "metadata": {},
   "source": [
    "## Jinja Pcells\n",
    "\n",
    "You use jinja templates in YAML cells to define Pcells."
   ]
  },
  {
   "cell_type": "code",
   "execution_count": null,
   "id": "ec67c4e6",
   "metadata": {},
   "outputs": [],
   "source": [
    "from IPython.display import Code\n",
    "\n",
    "from gdsfactory.read import cell_from_yaml_template\n",
    "\n",
    "gf.clear_cache()\n",
    "\n",
    "jinja_yaml = \"\"\"\n",
    "default_settings:\n",
    "    length_mmi:\n",
    "      value: 10\n",
    "      description: \"The length of the long MMI\"\n",
    "    width_mmi:\n",
    "      value: 5\n",
    "      description: \"The width of both MMIs\"\n",
    "\n",
    "instances:\n",
    "    mmi_long:\n",
    "      component: mmi1x2\n",
    "      settings:\n",
    "        width_mmi: {{ width_mmi }}\n",
    "        length_mmi: {{ length_mmi }}\n",
    "    mmi_short:\n",
    "      component: mmi1x2\n",
    "      settings:\n",
    "        width_mmi: {{ width_mmi }}\n",
    "        length_mmi: 5\n",
    "connections:\n",
    "    mmi_long,o2: mmi_short,o1\n",
    "\n",
    "ports:\n",
    "    o1: mmi_long,o1\n",
    "    o2: mmi_short,o2\n",
    "    o3: mmi_short,o3\n",
    "\"\"\"\n",
    "pic_filename = \"demo_jinja.pic.yml\"\n",
    "\n",
    "with open(pic_filename, mode=\"w\") as f:\n",
    "    f.write(jinja_yaml)\n",
    "\n",
    "pic_cell = cell_from_yaml_template(pic_filename, name=\"demo_jinja\")\n",
    "gf.get_active_pdk().register_cells(\n",
    "    demo_jinja=pic_cell\n",
    ")  # let's register this cell so we can use it later\n",
    "Code(filename=pic_filename, language=\"yaml+jinja\")"
   ]
  },
  {
   "cell_type": "markdown",
   "id": "75d6c493",
   "metadata": {},
   "source": [
    "You'll see that this generated a python function, with a real signature, default arguments, docstring and all!"
   ]
  },
  {
   "cell_type": "code",
   "execution_count": null,
   "id": "ddeb9d9b",
   "metadata": {},
   "outputs": [],
   "source": [
    "help(pic_cell)"
   ]
  },
  {
   "cell_type": "markdown",
   "id": "98799977",
   "metadata": {},
   "source": [
    "You can invoke this cell without arguments to see the default implementation"
   ]
  },
  {
   "cell_type": "code",
   "execution_count": null,
   "id": "2055c544",
   "metadata": {},
   "outputs": [],
   "source": [
    "c = pic_cell()\n",
    "c.plot()"
   ]
  },
  {
   "cell_type": "markdown",
   "id": "aa224ed9",
   "metadata": {},
   "source": [
    "Or you can provide arguments explicitly, like a normal cell. Note however that yaml-based cells **only accept keyword arguments**, since yaml dictionaries are inherently unordered."
   ]
  },
  {
   "cell_type": "code",
   "execution_count": null,
   "id": "7c23c99c",
   "metadata": {},
   "outputs": [],
   "source": [
    "c = pic_cell(length_mmi=100)\n",
    "c.plot()"
   ]
  },
  {
   "cell_type": "markdown",
   "id": "690dcfdc",
   "metadata": {},
   "source": [
    "The power of jinja-templated cells become more apparent with more complex cells, like the following."
   ]
  },
  {
   "cell_type": "code",
   "execution_count": null,
   "id": "e8fea9c2",
   "metadata": {},
   "outputs": [],
   "source": [
    "gf.clear_cache()\n",
    "\n",
    "jinja_yaml = \"\"\"\n",
    "default_settings:\n",
    "    length_mmis:\n",
    "      value: [10, 20, 30, 100]\n",
    "      description: \"An array of mmi lengths for the DOE\"\n",
    "    spacing_mmi:\n",
    "      value: 50\n",
    "      description: \"The vertical spacing between adjacent MMIs\"\n",
    "    mmi_component:\n",
    "      value: mmi1x2\n",
    "      description: \"The mmi component to use\"\n",
    "\n",
    "instances:\n",
    "{% for i in range(length_mmis|length)%}\n",
    "    mmi_{{ i }}:\n",
    "      component: {{ mmi_component }}\n",
    "      settings:\n",
    "        width_mmi: 4.5\n",
    "        length_mmi: {{ length_mmis[i] }}\n",
    "{% endfor %}\n",
    "\n",
    "placements:\n",
    "{% for i in range(1, length_mmis|length)%}\n",
    "    mmi_{{ i }}:\n",
    "      port: o1\n",
    "      x: mmi_0,o1\n",
    "      y: mmi_0,o1\n",
    "      dy: {{ spacing_mmi * i }}\n",
    "{% endfor %}\n",
    "\n",
    "routes:\n",
    "{% for i in range(1, length_mmis|length)%}\n",
    "    r{{ i }}:\n",
    "      routing_strategy: get_bundle_all_angle\n",
    "      links:\n",
    "        mmi_{{ i-1 }},o2: mmi_{{ i }},o1\n",
    "{% endfor %}\n",
    "\n",
    "ports:\n",
    "{% for i in range(length_mmis|length)%}\n",
    "    o{{ i }}: mmi_{{ i }},o3\n",
    "{% endfor %}\n",
    "\"\"\"\n",
    "pic_filename = \"demo_jinja_loops.pic.yml\"\n",
    "\n",
    "with open(pic_filename, mode=\"w\") as f:\n",
    "    f.write(jinja_yaml)\n",
    "\n",
    "big_cell = cell_from_yaml_template(pic_filename, name=\"demo_jinja_loops\")\n",
    "Code(filename=pic_filename, language=\"yaml+jinja\")"
   ]
  },
  {
   "cell_type": "code",
   "execution_count": null,
   "id": "5a4d7380",
   "metadata": {},
   "outputs": [],
   "source": [
    "bc = big_cell()\n",
    "bc.plot()"
   ]
  },
  {
   "cell_type": "code",
   "execution_count": null,
   "id": "1b832d45",
   "metadata": {},
   "outputs": [],
   "source": [
    "bc2 = big_cell(\n",
    "    length_mmis=[10, 20, 40, 100, 200, 150, 10, 40],\n",
    "    spacing_mmi=60,\n",
    "    mmi_component=\"demo_jinja\",\n",
    ")\n",
    "bc2.plot()"
   ]
  },
  {
   "cell_type": "markdown",
   "id": "dc6cb179",
   "metadata": {},
   "source": [
    "In general, the jinja-yaml parser has a superset of the functionalities and syntax of the standard yaml parser. The one notable exception is with `settings`. When reading any yaml files with `settings` blocks, the default settings will be read and applied, but they will not be settable, as the jinja parser has a different mechanism for setting injection with the `default_settings` block and jinja2."
   ]
  },
  {
   "cell_type": "code",
   "execution_count": null,
   "id": "a8a02261",
   "metadata": {},
   "outputs": [],
   "source": [
    "filepath = \"yaml_pics/mzi_lattice_filter.pic.yml\"\n",
    "mzi_lattice = cell_from_yaml_template(filepath, name=\"mzi_lattice_filter\")\n",
    "Code(filepath, language=\"yaml\")"
   ]
  },
  {
   "cell_type": "code",
   "execution_count": null,
   "id": "0e216887",
   "metadata": {},
   "outputs": [],
   "source": [
    "c = mzi_lattice(delta_length=10)\n",
    "c.plot()"
   ]
  },
  {
   "cell_type": "code",
   "execution_count": null,
   "id": "422d6a36",
   "metadata": {},
   "outputs": [],
   "source": [
    "c = mzi_lattice(delta_length=100)\n",
    "c.plot()"
   ]
  },
  {
   "cell_type": "code",
   "execution_count": null,
   "id": "2a5f6d8d",
   "metadata": {},
   "outputs": [],
   "source": []
  }
 ],
 "metadata": {
  "jupytext": {
   "cell_metadata_filter": "-all",
   "custom_cell_magics": "kql",
   "encoding": "# -*- coding: utf-8 -*-"
  },
  "kernelspec": {
   "display_name": "base",
   "language": "python",
   "name": "python3"
  }
 },
 "nbformat": 4,
 "nbformat_minor": 5
}
