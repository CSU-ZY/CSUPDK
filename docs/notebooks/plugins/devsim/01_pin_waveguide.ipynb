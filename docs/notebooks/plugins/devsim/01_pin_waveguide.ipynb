{
 "cells": [
  {
   "cell_type": "markdown",
   "metadata": {},
   "source": [
    "# DEVSIM TCAD simulator\n",
    "\n",
    "[DEVSIM](https://devsim.org/) is an open-source semiconductor device simulator; also see [publication](https://joss.theoj.org/papers/10.21105/joss.03898). \n",
    "\n",
    "Some of its features include:\n",
    "* Sharfetter-Gummel discretization of the electron and hole continuity equations\n",
    "* DC, transient, small-signal AC, and noise solution algorithms\n",
    "* Solution of 1D, 2D, and 3D unstructured meshes\n",
    "* Advanced models for mobility and semiclassical approaches for quantum effects\n",
    "In addition, it operates with a symbolic model evaluation interface, easily allowing new models and their derivatives to be scripted.\n",
    "\n",
    "There is an active community over at the [DEVSIM forums](https://forum.devsim.org/).\n",
    "\n",
    "## Meshing\n",
    "\n",
    "DEVSIM solves equations on unstructured meshes.\n",
    "It has a built-in 1D and 2D meshing interface, you can solve carrier distributions in waveguide cross-sections.\n",
    "It also interfaces with GMSH for arbitrary 2D and 3D meshes, which you can use for semiconductor simulations of gdsfactory components.\n",
    "\n",
    "## Install DEVSIM \n",
    "\n",
    "To install DEVSIM you can run `make devsim` from the gdsfactory repo or use the following script."
   ]
  },
  {
   "cell_type": "code",
   "execution_count": null,
   "metadata": {},
   "outputs": [],
   "source": [
    "install = False # Set True to install the first time\n",
    "\n",
    "if install:\n",
    "    !mkdir ~/devsim\n",
    "    !wget -P ~/devsim https://github.com/devsim/devsim/releases/download/v2.1.0/devsim_linux_v2.1.0.tgz\n",
    "    !tar --directory ~/devsim zxvf ~/devsim/devsim_linux_v2.1.0.tgz\n",
    "    !tar zxvf ~/devsim/devsim_linux_v2.1.0.tgz --directory ~/devsim\n",
    "    !python ~/devsim/devsim_linux_v2.1.0/install.py\n",
    "    import sys\n",
    "    !{sys.executable} -m pip install -e ~/devsim/devsim_linux_v2.1.0/lib # Works in this specific way\n",
    "    %conda install --yes -c conda-forge pyvista"
   ]
  },
  {
   "cell_type": "markdown",
   "metadata": {},
   "source": [
    "## DC Drift-diffusion simulation\n",
    "\n",
    "### Setup"
   ]
  },
  {
   "cell_type": "markdown",
   "metadata": {},
   "source": [
    "You can setup the simulation by defining a strip waveguide cross-section. \n",
    "You can change waveguide geometry (core thickness, slab thickness, core width), doping configuration (dopant level, dopant positions), as well as hyperparameters like adaptive mesh resolution at all the interfaces."
   ]
  },
  {
   "cell_type": "code",
   "execution_count": null,
   "metadata": {},
   "outputs": [],
   "source": [
    "%%capture\n",
    "from gdsfactory.simulation.devsim import get_simulation_xsection\n",
    "\n",
    "nm = 1E-9\n",
    "\n",
    "c = get_simulation_xsection.PINWaveguide(\n",
    "    wg_width=500 * nm,\n",
    "    wg_thickness=220 * nm,\n",
    "    slab_thickness=90 * nm,\n",
    ")\n",
    "\n",
    "# Initialize mesh and solver\n",
    "c.ddsolver()"
   ]
  },
  {
   "cell_type": "markdown",
   "metadata": {},
   "source": [
    "You can save the device to a tecplot file named `filename.dat` with `c.save_device(filename=filename.dat)`, and then open with [Paraview](https://www.paraview.org/). \n",
    "\n",
    "You can also plot the mesh in the Notebook with the `plot` method. By default it shows the geometry.\n",
    "You can also pass a string to `scalars` to plot a field as color over the mesh.\n",
    "For instance, acceptor concentration and donor concentration for the PN junction.\n",
    "The method `c.list_fields()` returns the header of the mesh, which lists all possible fields."
   ]
  },
  {
   "cell_type": "code",
   "execution_count": null,
   "metadata": {},
   "outputs": [],
   "source": [
    "c.list_fields()"
   ]
  },
  {
   "cell_type": "code",
   "execution_count": null,
   "metadata": {},
   "outputs": [],
   "source": [
    "c.plot(scalars='NetDoping')"
   ]
  },
  {
   "cell_type": "code",
   "execution_count": null,
   "metadata": {},
   "outputs": [],
   "source": [
    "c.plot(scalars='Electrons', log_scale=True)"
   ]
  },
  {
   "cell_type": "markdown",
   "metadata": {},
   "source": [
    "### Solve\n",
    "\n",
    "We iteratively solve for the self-consistent carrier distribution for 0.5V of applied forward voltage, iterating with 0.1V steps, and then visualize the electron concentration:"
   ]
  },
  {
   "cell_type": "code",
   "execution_count": null,
   "metadata": {},
   "outputs": [],
   "source": [
    "%%capture\n",
    "# Find a solution with 1V across the junction, ramping by 0.1V steps\n",
    "c.ramp_voltage(0.5, 0.1)"
   ]
  },
  {
   "cell_type": "code",
   "execution_count": null,
   "metadata": {},
   "outputs": [],
   "source": [
    "c.plot(scalars='Electrons', log_scale=True)"
   ]
  },
  {
   "cell_type": "markdown",
   "metadata": {},
   "source": [
    "and similarly for reverse-bias: "
   ]
  },
  {
   "cell_type": "code",
   "execution_count": null,
   "metadata": {},
   "outputs": [],
   "source": [
    "%%capture\n",
    "c.ramp_voltage(-0.5, -0.1)"
   ]
  },
  {
   "cell_type": "code",
   "execution_count": null,
   "metadata": {},
   "outputs": [],
   "source": [
    "c.plot(scalars='Electrons', log_scale=True)"
   ]
  },
  {
   "cell_type": "code",
   "execution_count": null,
   "metadata": {},
   "outputs": [],
   "source": []
  }
 ],
 "metadata": {
  "kernelspec": {
   "display_name": "Python 3 (ipykernel)",
   "language": "python",
   "name": "python3"
  },
  "language_info": {
   "codemirror_mode": {
    "name": "ipython",
    "version": 3
   },
   "file_extension": ".py",
   "mimetype": "text/x-python",
   "name": "python",
   "nbconvert_exporter": "python",
   "pygments_lexer": "ipython3",
   "version": "3.10.5"
  },
  "vscode": {
   "interpreter": {
    "hash": "64c133f3a1967b296905f90b4858707aa8b6457960082c15c2ca47266618a04c"
   }
  }
 },
 "nbformat": 4,
 "nbformat_minor": 4
}
