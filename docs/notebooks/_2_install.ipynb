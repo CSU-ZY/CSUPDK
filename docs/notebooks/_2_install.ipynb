{
 "cells": [
  {
   "cell_type": "markdown",
   "id": "0a9de7cf-8b74-464b-82cd-f90e1121c19c",
   "metadata": {},
   "source": [
    "# Install gdsfactory\n",
    "\n",
    "![](https://i.imgur.com/zMpvrWr.png)\n",
    "\n",
    "- Install [klayout](https://www.klayout.de/build.html) to visualize the GDS files that you create.\n",
    "\n",
    "You have two options to install gdsfactory.\n",
    "\n",
    "### Install python with gdsfactory already installed (recommended)\n",
    "\n",
    "- Install [latest gdsfactory](https://github.com/gdsfactory/gdsfactory/releases)\n",
    "\n",
    "\n",
    "### Install python and then gdsfactory (for developers)\n",
    "\n",
    "- Install python 3.7, 3.8, 3.9 or 3.10 with [mamba](https://github.com/conda-forge/miniforge#mambaforge) (faster conda alternative), for easier install of MEEP.\n",
    "\n",
    "| OS      | Architecture          | Download  |\n",
    "| --------|-----------------------|-----------|\n",
    "| Linux   | x86_64 (amd64)        | [Mambaforge-Linux-x86_64](https://github.com/conda-forge/miniforge/releases/latest/download/Mambaforge-Linux-x86_64.sh) |\n",
    "| Linux   | aarch64 (arm64)       | [Mambaforge-Linux-aarch64](https://github.com/conda-forge/miniforge/releases/latest/download/Mambaforge-Linux-aarch64.sh) |\n",
    "| Linux   | ppc64le (POWER8/9)    | [Mambaforge-Linux-ppc64le](https://github.com/conda-forge/miniforge/releases/latest/download/Mambaforge-Linux-ppc64le.sh) |\n",
    "| OS X    | x86_64                | [Mambaforge-MacOSX-x86_64](https://github.com/conda-forge/miniforge/releases/latest/download/Mambaforge-MacOSX-x86_64.sh) |\n",
    "| OS X    | arm64 (Apple Silicon) | [Mambaforge-MacOSX-arm64](https://github.com/conda-forge/miniforge/releases/latest/download/Mambaforge-MacOSX-arm64.sh) |\n",
    "| Windows | x86_64                | [Mambaforge-Windows-x86_64](https://github.com/conda-forge/miniforge/releases/latest/download/Mambaforge-Windows-x86_64.exe) |\n",
    "\n",
    "- Install gdsfactory\n",
    "\n",
    "    - Users can `mamba install gdsfactory` for Windows, MacOs and Linux. \n",
    "    - For installing plugins you can `pip install gdsfactory[full]` after installing gdsfactory. Note that some plugins need to be installed separately (see section below)\n",
    "    - Developers, can git clone it from [GitHub](https://github.com/gdsfactory/gdsfactory/) and `make install` (Linux and MacOs) or `./install.bat` (Windows)\n",
    "\n",
    "\n",
    "**Notice** that the latest versions of gdsfactory are no longer compatible with python3.6 and that gdsfactory==2.4.9 was the last version supported by python 3.6. Pip will select this version for py 3.6 environments, which is fundamentally and structurally different to the latest version.\n",
    "\n",
    "Mamba is a faster alternative to conda, for conda you can replace `mamba install gdsfactory` with `conda install -c conda-forge gdsfactory -y`\n",
    "\n",
    "## Update gdsfactory\n",
    "\n",
    "- Users can `pip install gdsfactory --upgrade`\n",
    "- Developers can `git pull` on the repository you downloaded and installed on your computer.\n",
    "\n",
    "\n",
    "## Install gdsfactory plugins\n",
    "\n",
    "`pip install gdsfactory[full]` will install most plugins. Some plugins need to be installed separately:\n",
    "\n",
    "- MEEP FDTD `mamba install pymeep=*=mpi_mpich_* -y` works for MacOS, linux and windows WSL.\n",
    "- [SAX](https://github.com/flaport/sax#installation) Sparameters circuit simulator.\n",
    "- SIPANN `pip install gdsfactory[sipann]`"
   ]
  },
  {
   "cell_type": "code",
   "execution_count": null,
   "id": "8b98adf9-a7f4-4ab6-b2f9-5a4a775d1e2e",
   "metadata": {},
   "outputs": [],
   "source": []
  }
 ],
 "metadata": {
  "kernelspec": {
   "display_name": "Python 3 (ipykernel)",
   "language": "python",
   "name": "python3"
  },
  "language_info": {
   "codemirror_mode": {
    "name": "ipython",
    "version": 3
   },
   "file_extension": ".py",
   "mimetype": "text/x-python",
   "name": "python",
   "nbconvert_exporter": "python",
   "pygments_lexer": "ipython3",
   "version": "3.10.6"
  }
 },
 "nbformat": 4,
 "nbformat_minor": 5
}
