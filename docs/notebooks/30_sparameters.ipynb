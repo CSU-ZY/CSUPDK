{
 "cells": [
  {
   "cell_type": "markdown",
   "metadata": {},
   "source": [
    "# Sparameters\n",
    "\n",
    "gdsfactory provides you with a Lumerical FDTD interface to calculate Sparameters\n",
    "\n",
    "by default another repo [gdslib](https://gdslib.readthedocs.io/en/latest/index.html) stores the Sparameters \n",
    "\n",
    "You can chain the Sparameters to calculate solve of larger\n",
    "circuits using a circuit solver such as:\n",
    "\n",
    "- Lumerical interconnect\n",
    "- [simphony (open source)](https://simphonyphotonics.readthedocs.io/en/latest/)\n",
    "\n",
    "\n",
    "If the Sparameters exists in `gdslib` you can access them really fast."
   ]
  },
  {
   "cell_type": "code",
   "execution_count": null,
   "metadata": {},
   "outputs": [],
   "source": [
    "# NBVAL_SKIP\n",
    "import pp\n",
    "import pp.sp as sp\n",
    "import lumapi\n",
    "\n",
    "s = lumapi.FDTD()"
   ]
  },
  {
   "cell_type": "code",
   "execution_count": null,
   "metadata": {},
   "outputs": [],
   "source": [
    "pp.c.LIBRARY.factory.keys()"
   ]
  },
  {
   "cell_type": "code",
   "execution_count": null,
   "metadata": {},
   "outputs": [],
   "source": [
    "components =  ['bend_euler', 'bend_s', 'coupler', 'coupler_ring', 'crossing', 'mmi1x2', 'mmi2x2', 'taper',  'straight']\n",
    "need_review = []\n",
    "\n",
    "for component_name in components:\n",
    "    c = pp.c.LIBRARY.get_component(component_name)\n",
    "    sp.write(c, run=False, session=s)\n",
    "    response = input(f'does the simulation for {component_name} look good? (y/n)')\n",
    "    if response.upper()[0] == 'N':\n",
    "        need_review.append(c)"
   ]
  },
  {
   "cell_type": "code",
   "execution_count": null,
   "metadata": {},
   "outputs": [],
   "source": [
    "components =  ['crossing', 'mmi1x2', 'mmi2x2', 'taper',  'straight']\n",
    "need_review = []\n",
    "\n",
    "for component_name in components:\n",
    "    c = pp.c.LIBRARY.get_component(component_name)\n",
    "    sp.write(c, run=False, session=s)\n",
    "    response = input('does the simulation look good? (y/n)')\n",
    "    if response.upper()[0] == 'N':\n",
    "        need_review.append(c)"
   ]
  },
  {
   "cell_type": "code",
   "execution_count": null,
   "metadata": {},
   "outputs": [],
   "source": [
    "sp.plot(pp.components.mmi1x2(), keys=['S23m', 'S13m'], logscale=True)"
   ]
  },
  {
   "cell_type": "code",
   "execution_count": null,
   "metadata": {},
   "outputs": [],
   "source": [
    "sp.write(pp.components.mmi1x2(), layer_to_thickness_nm={(1,0): 210})"
   ]
  },
  {
   "cell_type": "code",
   "execution_count": null,
   "metadata": {},
   "outputs": [],
   "source": [
    "layer_to_thickness_nm = pp.tech.LAYER_STACK.get_layer_to_thickness_nm()\n",
    "component = pp.c.bend_circular(radius=3)\n",
    "component = component.copy()\n",
    "component.remove_layers(component.layers - set(layer_to_thickness_nm.keys()))\n",
    "component._bb_valid = False\n",
    "\n",
    "c = pp.extend.extend_ports(component=component, length=1.)\n",
    "c.show()\n",
    "gdspath = c.write_gds()\n",
    "\n",
    "c"
   ]
  },
  {
   "cell_type": "markdown",
   "metadata": {},
   "source": [
    "gdsfactory can also compute the Sparameters of a component that have not been simulated before."
   ]
  },
  {
   "cell_type": "code",
   "execution_count": null,
   "metadata": {},
   "outputs": [],
   "source": [
    "# NBVAL_SKIP\n",
    "\n",
    "cs = [pp.components.coupler_ring(gap=gap, radius=radius) for gap in [0.15, 0.2, 0.3] for radius in [5, 10]]\n",
    "\n",
    "for c in cs:\n",
    "    c.show()\n",
    "    print(c)\n",
    "    sp.write(c)"
   ]
  },
  {
   "cell_type": "markdown",
   "metadata": {},
   "source": [
    "To debug a simulation you can create a Lumerical session outside the simulator, pass it to the simulator, and use `run=False` flag"
   ]
  },
  {
   "cell_type": "code",
   "execution_count": null,
   "metadata": {},
   "outputs": [],
   "source": [
    "# NBVAL_SKIP\n",
    "import lumapi\n",
    "s = lumapi.FDTD()\n",
    "c = pp.components.straight()\n",
    "sp.write(c, run=False, session=s)"
   ]
  },
  {
   "cell_type": "markdown",
   "metadata": {},
   "source": [
    "By default gdsfactory uses the generic LayerStack for 220nm height silicon layer.\n",
    "\n",
    "You can also define your a different LayerStack"
   ]
  },
  {
   "cell_type": "code",
   "execution_count": null,
   "metadata": {},
   "outputs": [],
   "source": [
    "import pp\n",
    "\n",
    "class LayerStackExample(pp.tech.LayerStack):\n",
    "    WG = pp.tech.LayerLevel(layer=(2,0), thickness_nm=400.0, zmin_nm=0.0, material='sin')\n",
    "    \n",
    "ls = LayerStackExample()"
   ]
  },
  {
   "cell_type": "code",
   "execution_count": null,
   "metadata": {},
   "outputs": [],
   "source": [
    "ls_tmin = LayerStackExample()\n",
    "ls_tmin.WG.thickness_nm -= 5\n",
    "print(ls_tmin.WG.thickness_nm)"
   ]
  },
  {
   "cell_type": "code",
   "execution_count": null,
   "metadata": {},
   "outputs": [],
   "source": [
    "ls_tmax = LayerStackExample()\n",
    "ls_tmax.WG.thickness_nm += 5\n",
    "print(ls_tmin.WG.thickness_nm)"
   ]
  },
  {
   "cell_type": "code",
   "execution_count": null,
   "metadata": {},
   "outputs": [],
   "source": [
    "ls.get_layer_to_material()"
   ]
  },
  {
   "cell_type": "code",
   "execution_count": null,
   "metadata": {},
   "outputs": [],
   "source": [
    "c = pp.components.straight(layer=(2,0))\n",
    "sp = sp.write(c, layer_stack=ls, session=s)\n",
    "c.plot()\n",
    "pp.sp.plot(c)"
   ]
  },
  {
   "cell_type": "code",
   "execution_count": null,
   "metadata": {},
   "outputs": [],
   "source": []
  }
 ],
 "metadata": {
  "kernelspec": {
   "display_name": "Python 3 (ipykernel)",
   "language": "python",
   "name": "python3"
  },
  "language_info": {
   "codemirror_mode": {
    "name": "ipython",
    "version": 3
   },
   "file_extension": ".py",
   "mimetype": "text/x-python",
   "name": "python",
   "nbconvert_exporter": "python",
   "pygments_lexer": "ipython3",
   "version": "3.8.3"
  },
  "nbsphinx": {
   "execute": "never"
  }
 },
 "nbformat": 4,
 "nbformat_minor": 4
}
