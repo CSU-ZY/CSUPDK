{
 "cells": [
  {
   "cell_type": "markdown",
   "id": "ec26df0a",
   "metadata": {},
   "source": [
    "# Movement\n",
    "\n",
    "You can move, rotate and mirror ComponentReference as well as `Port`, `Polygon`, `ComponentReference`, `Label`, and `Group`"
   ]
  },
  {
   "cell_type": "code",
   "execution_count": null,
   "id": "6d65901a",
   "metadata": {},
   "outputs": [],
   "source": [
    "import gdsfactory as gf\n",
    "\n",
    "gf.config.rich_output()\n",
    "\n",
    "PDK = gf.get_generic_pdk()\n",
    "PDK.activate()\n",
    "\n",
    "# Start with a blank Component\n",
    "c = gf.Component(\"demo_movement\")\n",
    "\n",
    "# Create some more Components with shapes\n",
    "T = gf.components.text(\"hello\", size=10, layer=(1, 0))\n",
    "E = gf.components.ellipse(radii=(10, 5), layer=(2, 0))\n",
    "R = gf.components.rectangle(size=(10, 3), layer=(3, 0))\n",
    "\n",
    "# Add the shapes to D as references\n",
    "text = c << T\n",
    "ellipse = c << E\n",
    "rect1 = c << R\n",
    "rect2 = c << R\n",
    "\n",
    "c.plot()"
   ]
  },
  {
   "cell_type": "code",
   "execution_count": null,
   "id": "2f2b2658",
   "metadata": {},
   "outputs": [],
   "source": [
    "c = gf.Component(\"move_one_ellipse\")\n",
    "e1 = c << gf.components.ellipse(radii=(10, 5), layer=(2, 0))\n",
    "e2 = c << gf.components.ellipse(radii=(10, 5), layer=(2, 0))\n",
    "e1.movex(10)\n",
    "c.plot()"
   ]
  },
  {
   "cell_type": "code",
   "execution_count": null,
   "id": "a6fecd93",
   "metadata": {},
   "outputs": [],
   "source": [
    "c = gf.Component(\"move_one_ellipse_xmin\")\n",
    "e1 = c << gf.components.ellipse(radii=(10, 5), layer=(2, 0))\n",
    "e2 = c << gf.components.ellipse(radii=(10, 5), layer=(2, 0))\n",
    "e2.xmin = e1.xmax\n",
    "c.plot()"
   ]
  },
  {
   "cell_type": "markdown",
   "id": "0dafbae5",
   "metadata": {},
   "source": [
    "Now you can practice move and rotate the objects."
   ]
  },
  {
   "cell_type": "code",
   "execution_count": null,
   "id": "fbe8acd4",
   "metadata": {},
   "outputs": [],
   "source": [
    "c = gf.Component(\"two_ellipses_on_top_of_each_other\")\n",
    "E = gf.components.ellipse(radii=(10, 5), layer=(2, 0))\n",
    "e1 = c << E\n",
    "e2 = c << E\n",
    "c.plot()"
   ]
  },
  {
   "cell_type": "code",
   "execution_count": null,
   "id": "1d9b321e",
   "metadata": {},
   "outputs": [],
   "source": [
    "c = gf.Component(\"ellipse_moved\")\n",
    "e = gf.components.ellipse(radii=(10, 5), layer=(2, 0))\n",
    "e1 = c << e\n",
    "e2 = c << e\n",
    "e2.move(origin=[5, 5], destination=[10, 10])  # Translate by dx = 5, dy = 5\n",
    "c.plot()"
   ]
  },
  {
   "cell_type": "code",
   "execution_count": null,
   "id": "88c16fcc",
   "metadata": {},
   "outputs": [],
   "source": [
    "c = gf.Component(\"ellipse_moved_v2\")\n",
    "e = gf.components.ellipse(radii=(10, 5), layer=(2, 0))\n",
    "e1 = c << e\n",
    "e2 = c << e\n",
    "e2.move([5, 5])  # Translate by dx = 5, dy = 5\n",
    "c.plot()"
   ]
  },
  {
   "cell_type": "code",
   "execution_count": null,
   "id": "9b5351ef",
   "metadata": {},
   "outputs": [],
   "source": [
    "c = gf.Component(\"rectangles\")\n",
    "r = gf.components.rectangle(size=(10, 5), layer=(2, 0))\n",
    "rect1 = c << r\n",
    "rect2 = c << r\n",
    "\n",
    "rect1.rotate(45)  # Rotate the first straight by 45 degrees around (0,0)\n",
    "rect2.rotate(\n",
    "    -30, center=[1, 1]\n",
    ")  # Rotate the second straight by -30 degrees around (1,1)\n",
    "c.plot()"
   ]
  },
  {
   "cell_type": "code",
   "execution_count": null,
   "id": "4f44c99d",
   "metadata": {},
   "outputs": [],
   "source": [
    "c = gf.Component(\"mirror_demo\")\n",
    "text = c << gf.components.text(\"hello\")\n",
    "text.mirror(p1=[1, 1], p2=[1, 3])  # Reflects across the line formed by p1 and p2\n",
    "c.plot()"
   ]
  },
  {
   "cell_type": "code",
   "execution_count": null,
   "id": "cc115177",
   "metadata": {},
   "outputs": [],
   "source": [
    "c = gf.Component(\"hello\")\n",
    "text = c << gf.components.text(\"hello\")\n",
    "c.plot()"
   ]
  },
  {
   "cell_type": "markdown",
   "id": "0fc1d830",
   "metadata": {},
   "source": [
    "Each Component and ComponentReference object has several properties which can be\n",
    "used\n",
    "to learn information about the object (for instance where it's center coordinate\n",
    "is).  Several of these properties can actually be used to move the geometry by\n",
    "assigning them new values.\n",
    "\n",
    "Available properties are:\n",
    "\n",
    "- `xmin` / `xmax`: minimum and maximum x-values of all points within the object\n",
    "- `ymin` / `ymax`: minimum and maximum y-values of all points within the object\n",
    "- `x`: centerpoint between minimum and maximum x-values of all points within the\n",
    "object\n",
    "- `y`: centerpoint between minimum and maximum y-values of all points within the\n",
    "object\n",
    "- `bbox`: bounding box (see note below) in format ((xmin,ymin),(xmax,ymax))\n",
    "- `center`: center of bounding box"
   ]
  },
  {
   "cell_type": "code",
   "execution_count": null,
   "id": "d383e7ec",
   "metadata": {},
   "outputs": [],
   "source": [
    "print(\"bounding box:\")\n",
    "print(\n",
    "    text.bbox\n",
    ")  # Will print the bounding box of text in terms of [(xmin, ymin), (xmax, ymax)]\n",
    "print(\"xsize and ysize:\")\n",
    "print(text.xsize)  # Will print the width of text in the x dimension\n",
    "print(text.ysize)  # Will print the height of text in the y dimension\n",
    "print(\"center:\")\n",
    "print(text.center)  # Gives you the center coordinate of its bounding box\n",
    "print(\"xmax\")\n",
    "print(text.xmax)  # Gives you the rightmost (+x) edge of the text bounding box"
   ]
  },
  {
   "cell_type": "markdown",
   "id": "392291d5",
   "metadata": {},
   "source": [
    "Let's use these properties to manipulate our shapes to arrange them a little\n",
    "better"
   ]
  },
  {
   "cell_type": "code",
   "execution_count": null,
   "id": "358ab71c",
   "metadata": {},
   "outputs": [],
   "source": [
    "c = gf.Component(\"canvas\")\n",
    "text = c << gf.components.text(\"hello\")\n",
    "E = gf.components.ellipse(radii=(10, 5), layer=(3, 0))\n",
    "R = gf.components.rectangle(size=(10, 5), layer=(2, 0))\n",
    "rect1 = c << R\n",
    "rect2 = c << R\n",
    "ellipse = c << E\n",
    "\n",
    "c.plot()"
   ]
  },
  {
   "cell_type": "code",
   "execution_count": null,
   "id": "c9015947",
   "metadata": {},
   "outputs": [],
   "source": [
    "# First let's center the ellipse\n",
    "ellipse.center = [\n",
    "    0,\n",
    "    0,\n",
    "]  # Move the ellipse such that the bounding box center is at (0,0)\n",
    "\n",
    "# Next, let's move the text to the left edge of the ellipse\n",
    "text.y = (\n",
    "    ellipse.y\n",
    ")  # Move the text so that its y-center is equal to the y-center of the ellipse\n",
    "text.xmax = ellipse.xmin  # Moves the ellipse so its xmax == the ellipse's xmin\n",
    "\n",
    "# Align the right edge of the rectangles with the x=0 axis\n",
    "rect1.xmax = 0\n",
    "rect2.xmax = 0\n",
    "\n",
    "# Move the rectangles above and below the ellipse\n",
    "rect1.ymin = ellipse.ymax + 5\n",
    "rect2.ymax = ellipse.ymin - 5\n",
    "\n",
    "c.plot()"
   ]
  },
  {
   "cell_type": "markdown",
   "id": "900f2bee",
   "metadata": {},
   "source": [
    "In addition to working with the properties of the references inside the\n",
    "Component,\n",
    "we can also manipulate the whole Component if we want.  Let's try mirroring the\n",
    "whole Component `D`:"
   ]
  },
  {
   "cell_type": "code",
   "execution_count": null,
   "id": "130eaa19",
   "metadata": {},
   "outputs": [],
   "source": [
    "print(c.xmax)  # Prints out '10.0'\n",
    "\n",
    "c2 = c.mirror((0, 1))  # Mirror across line made by (0,0) and (0,1)\n",
    "c2.plot()"
   ]
  },
  {
   "cell_type": "markdown",
   "id": "70750cc1",
   "metadata": {},
   "source": [
    "A bounding box is the smallest enclosing box which contains all points of the geometry."
   ]
  },
  {
   "cell_type": "code",
   "execution_count": null,
   "id": "90f0ed63",
   "metadata": {},
   "outputs": [],
   "source": [
    "c = gf.Component(\"hi_bbox\")\n",
    "text = c << gf.components.text(\"hi\")\n",
    "bbox = text.bbox\n",
    "c << gf.components.bbox(bbox=bbox, layer=(2, 0))\n",
    "c.plot()"
   ]
  },
  {
   "cell_type": "code",
   "execution_count": null,
   "id": "26f868df",
   "metadata": {},
   "outputs": [],
   "source": [
    "# gf.get_padding_points can also add a bbox with respect to the bounding box edges\n",
    "c = gf.Component(\"sample_padding\")\n",
    "text = c << gf.components.text(\"bye\")\n",
    "device_bbox = text.bbox\n",
    "c.add_polygon(gf.get_padding_points(text, default=1), layer=(2, 0))\n",
    "c.plot()"
   ]
  },
  {
   "cell_type": "markdown",
   "id": "43c94350",
   "metadata": {},
   "source": [
    "When we query the properties of D, they will be calculated with respect to this\n",
    "bounding-rectangle.  For instance:"
   ]
  },
  {
   "cell_type": "code",
   "execution_count": null,
   "id": "2b24e6a9",
   "metadata": {},
   "outputs": [],
   "source": [
    "print(\"Center of Component c:\")\n",
    "print(c.center)\n",
    "\n",
    "print(\"X-max of Component c:\")\n",
    "print(c.xmax)"
   ]
  },
  {
   "cell_type": "code",
   "execution_count": null,
   "id": "4add8eed",
   "metadata": {},
   "outputs": [],
   "source": [
    "D = gf.Component(\"rect\")\n",
    "R = gf.components.rectangle(size=(10, 3), layer=(2, 0))\n",
    "rect1 = D << R\n",
    "D.plot()"
   ]
  },
  {
   "cell_type": "markdown",
   "id": "dea11506",
   "metadata": {},
   "source": [
    "You can chain many of the movement/manipulation functions because they all return the object they manipulate.\n",
    "\n",
    "For instance you can combine two expressions:"
   ]
  },
  {
   "cell_type": "code",
   "execution_count": null,
   "id": "b17a30f8",
   "metadata": {},
   "outputs": [],
   "source": [
    "rect1.rotate(angle=37)\n",
    "rect1.move([10, 20])\n",
    "D.plot()"
   ]
  },
  {
   "cell_type": "markdown",
   "id": "ade9a016",
   "metadata": {},
   "source": [
    "...into this single-line expression"
   ]
  },
  {
   "cell_type": "code",
   "execution_count": null,
   "id": "4fb0e0b8",
   "metadata": {},
   "outputs": [],
   "source": [
    "D = gf.Component(\"single_expression\")\n",
    "R = gf.components.rectangle(size=(10, 3), layer=(2, 0))\n",
    "rect1 = D << R\n",
    "rect1.rotate(angle=37).move([10, 20])\n",
    "D.plot()"
   ]
  }
 ],
 "metadata": {
  "jupytext": {
   "cell_metadata_filter": "-all",
   "formats": "md,ipynb",
   "main_language": "python",
   "notebook_metadata_filter": "-all"
  },
  "language_info": {
   "name": "python"
  }
 },
 "nbformat": 4,
 "nbformat_minor": 5
}
