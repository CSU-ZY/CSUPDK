{
 "cells": [
  {
   "cell_type": "markdown",
   "id": "2b43a22c",
   "metadata": {},
   "source": [
    "# Grid snapping\n",
    "\n",
    "GDS represents points as integers where each point corresponds to a database unit (DBU). Typically, in most foundries, the default DBU is set to 1 nanometer (1nm).\n",
    "\n",
    "gdsfactory snaps ports to the grid by default to avoid grid snapping errors which are common in layout designs.\n",
    "\n",
    "\n",
    "![](https://i.imgur.com/SUXBWed.png)\n",
    "\n",
    "Example of grid snapping errors.\n",
    "\n",
    "![](https://i.imgur.com/suiHyqM.png)\n",
    "\n"
   ]
  },
  {
   "cell_type": "code",
   "execution_count": null,
   "id": "8b424e74",
   "metadata": {},
   "outputs": [],
   "source": [
    "import gdsfactory as gf\n",
    "\n",
    "nm = 1e-3\n",
    "\n",
    "wg1 = gf.Component('polygon_snapping')\n",
    "p1 = wg1.add_polygon([(0, 0), (1.4*nm, 0), (1.4*nm, 1*nm), (0, 1*nm)], layer=(1, 0)) # rounds to 1 nm\n",
    "\n",
    "p2 = wg1.add_polygon([(0, 0), (1.6*nm, 0), (1.6*nm, 1*nm), (0, 1*nm)], layer=(1, 0)) # rounds to 2 nm\n",
    "p2.movey(-2*nm)\n",
    "\n",
    "p3 = wg1.add_polygon([(0, 0), (1*nm, 0), (1*nm, 1*nm), (0, 1*nm)], layer=(1, 0))\n",
    "p3.movey(-4*nm)\n",
    "wg1.plot()"
   ]
  },
  {
   "cell_type": "code",
   "execution_count": null,
   "id": "fb962511",
   "metadata": {},
   "outputs": [],
   "source": [
    "import gdsfactory as gf\n",
    "\n",
    "nm = 1e-3\n",
    "\n",
    "c = gf.Component('polygon_snapping_and_moving')\n",
    "p1 = c.add_polygon([(0, 0), (1*nm, 0), (1*nm, 1*nm), (0, 1*nm)], layer=(1, 0)) # 1nm long\n",
    "p2 = c.add_polygon([(0, 0), (1.5*nm, 0), (1.5*nm, 1*nm), (0, 1*nm)], layer=(1, 0)) # rounds to 2 nm long\n",
    "p2.movex(1*nm) \n",
    "c.plot()\n"
   ]
  },
  {
   "cell_type": "code",
   "execution_count": null,
   "id": "c96fd18e",
   "metadata": {},
   "outputs": [],
   "source": [
    "import gdsfactory as gf\n",
    "\n",
    "nm = 1e-3\n",
    "\n",
    "c = gf.Component('polygon_snapping_and_moving2')\n",
    "p1 = c.add_polygon([(0, 0), (1.5*nm, 0), (1.5*nm, 1*nm), (0, 1*nm)], layer=(1, 0)) # rounds to 2 nm long\n",
    "p2 = c.add_polygon([(0, 0), (1*nm, 0), (1*nm, 1*nm), (0, 1*nm)], layer=(1, 0)) # 1nm long\n",
    "p2.movex(1.5*nm) # rounds to 2nm movement\n",
    "c.plot()\n"
   ]
  },
  {
   "cell_type": "markdown",
   "id": "8a6dc3ca",
   "metadata": {},
   "source": [
    "## Why you need to round gaps and lengths by 2nm?\n",
    "\n",
    "If you center your polygon at zero, you may need to round your lengths by 2nm"
   ]
  },
  {
   "cell_type": "code",
   "execution_count": null,
   "id": "ff6a9689",
   "metadata": {},
   "outputs": [],
   "source": [
    "import gdsfactory as gf\n",
    "\n",
    "nm = 1e-3\n",
    "\n",
    "c = gf.Component('gap')\n",
    "p1 = c.add_polygon([(-1.5*nm, 0), (1.5*nm, 0), (1.5*nm, 1*nm), (-1.5*nm, 1*nm)], layer=(1, 0)) # You wanted 3nm long but it rounds to 4 nm long\n",
    "p2 = c.add_polygon([(-1*nm, 0), (1*nm, 0), (1*nm, 1*nm), (-1*nm, 1*nm)], layer=(1, 0)) # 2nm long as expected\n",
    "p2.movey(-2*nm)\n",
    "c.plot()\n"
   ]
  },
  {
   "cell_type": "markdown",
   "id": "9e63aff2",
   "metadata": {},
   "source": [
    "## ⚠️ Warning: Manhattan Orientations\n",
    "It's crucial to always maintain ports with Manhattan orientations (0, 90, 180, 270 degrees). Non-Manhattan ports can lead to ports snapping off the grid, resulting in 1nm gaps in your layouts, which can be detrimental to the design's integrity.\n",
    "\n",
    "Although **gdsfactory** provides functions to connect and route component ports that are off-grid or have non-Manhattan orientations, this feature is **disabled by default** for safety reasons.\n",
    "\n",
    "> **Note:** If you intend to create off-grid ports and non-Manhattan connections, you must enable this feature manually. This should be done with caution and a thorough understanding of the potential implications on your design."
   ]
  },
  {
   "cell_type": "code",
   "execution_count": null,
   "id": "7d4cc37c",
   "metadata": {},
   "outputs": [],
   "source": [
    "c = gf.Component('non_manhattan_error_overlap')\n",
    "w1 = c << gf.c.straight(length=2*nm, width=2*nm)\n",
    "w1.rotate(45)\n",
    "\n",
    "w2 = c << gf.c.straight(length=2*nm, width=2*nm)\n",
    "w2.connect('o1', w1['o2'])\n",
    "c # in this case ports overlap by an extra nm because of the rotation, instead of connecting them with no overlap"
   ]
  },
  {
   "cell_type": "code",
   "execution_count": null,
   "id": "f1313a9c",
   "metadata": {},
   "outputs": [],
   "source": [
    "c = gf.Component('non_manhattan_error_gap')\n",
    "w1 = c << gf.components.straight(length=2*nm, width=2*nm)\n",
    "w1.rotate(30)\n",
    "\n",
    "w2 = c << gf.components.straight(length=2*nm, width=2*nm)\n",
    "w2.connect('o1', w1['o2'])\n",
    "c # in this case ports have a 1nm gap error because of the rotation\n"
   ]
  },
  {
   "cell_type": "markdown",
   "id": "fd8f5218",
   "metadata": {},
   "source": [
    "\n",
    "## Fix Non manhattan connections\n",
    "\n",
    "The GDS format often has issues with non-manhattan shapes, due to the rounding of vertices to a unit grid and to downstream tools (i.e. DRC) which often tend to assume cell references only have rotations at 90 degree intervals. For example:"
   ]
  },
  {
   "cell_type": "code",
   "execution_count": null,
   "id": "96cb9a39",
   "metadata": {},
   "outputs": [],
   "source": [
    "import gdsfactory as gf\n",
    "from gdsfactory.decorators import has_valid_transformations\n",
    "\n",
    "gf.config.enable_offgrid_ports()  # enable off grid ports\n",
    "\n",
    "c = gf.Component('non_manhattan')\n",
    "w1 = c << gf.components.straight(length=2*nm, width=2*nm)\n",
    "w1.rotate(30)\n",
    "\n",
    "w2 = c << gf.components.straight(length=2*nm, width=2*nm)\n",
    "w2.connect('o1', w1['o2'])\n",
    "c = c.flatten_offgrid_references()\n",
    "c"
   ]
  },
  {
   "cell_type": "code",
   "execution_count": null,
   "id": "f137b0b0",
   "metadata": {},
   "outputs": [],
   "source": [
    "import gdsfactory as gf\n",
    "from gdsfactory.decorators import has_valid_transformations\n",
    "\n",
    "@gf.cell\n",
    "def demo_non_manhattan():\n",
    "    c = gf.Component(\"bend\")\n",
    "    b = c << gf.components.bend_circular(angle=30)\n",
    "    s = c << gf.components.straight(length=5)\n",
    "    s.connect(\"o1\", b.ports[\"o2\"])\n",
    "    return c\n",
    "\n",
    "\n",
    "c1 = demo_non_manhattan()\n",
    "print(has_valid_transformations(c1))\n",
    "c1"
   ]
  },
  {
   "cell_type": "markdown",
   "id": "23f80af8",
   "metadata": {},
   "source": [
    "if you zoom in between the bends you will see a notch between waveguides due to non-manhattan connection between the bends.\n",
    "\n",
    "![gap](https://i.imgur.com/jBEwy9T.png)\n",
    "\n",
    "You an fix it with the `flatten_offgrid_references` flag when you call `Component.write_gds()`."
   ]
  },
  {
   "cell_type": "code",
   "execution_count": null,
   "id": "948afa98",
   "metadata": {},
   "outputs": [],
   "source": [
    "help(c1.write_gds)"
   ]
  },
  {
   "cell_type": "code",
   "execution_count": null,
   "id": "2b8957c7",
   "metadata": {},
   "outputs": [],
   "source": [
    "gdspath = c1.write_gds(flatten_offgrid_references=True)\n",
    "c2 = gf.import_gds(gdspath)\n",
    "has_valid_transformations(c1)  # has gap issues"
   ]
  },
  {
   "cell_type": "code",
   "execution_count": null,
   "id": "539ce54b",
   "metadata": {},
   "outputs": [],
   "source": [
    "has_valid_transformations(c2)  # works perfect"
   ]
  },
  {
   "cell_type": "code",
   "execution_count": null,
   "id": "1e225da5",
   "metadata": {},
   "outputs": [],
   "source": [
    "c2.plot()"
   ]
  },
  {
   "cell_type": "markdown",
   "id": "6886755c",
   "metadata": {},
   "source": [
    "If you zoom in the connection the decorator you can see it fixed the issue in `c` that we fixed in `c2` thanks to the `flatten_offgrid_references` flag.\n",
    "\n",
    "![no gap](https://i.imgur.com/VbSgIjP.png)"
   ]
  },
  {
   "cell_type": "markdown",
   "id": "d4562407",
   "metadata": {},
   "source": [
    "### Local flattening references.\n",
    "\n",
    "Sometimes this global `flatten_offgrid_references` can change your vias or other components by 1nm.\n",
    "\n",
    "You can also create a copy of the cell after applying `flatten_references`. This can be applied to a single cell.\n"
   ]
  },
  {
   "cell_type": "code",
   "execution_count": null,
   "id": "9efdeedf",
   "metadata": {},
   "outputs": [],
   "source": [
    "c3 = c1.flatten_offgrid_references()\n",
    "c3.plot()"
   ]
  },
  {
   "cell_type": "markdown",
   "id": "06cd5144",
   "metadata": {},
   "source": [
    "### Default PDK `GdsWriteSettings`\n",
    "If you are frequently (or even sometimes!) creating geometries like this, with non-manhattan ports and/or references with non-90-degree rotations, I highly recommend that you set `flatten_offgrid_references=True` in your PDK's `GdsWriteSettings`. If you are the PDK author, you can do this in the definition of the pdk. Or, you can modify the PDK at runtime like."
   ]
  },
  {
   "cell_type": "code",
   "execution_count": null,
   "id": "c8f80a86",
   "metadata": {
    "lines_to_next_cell": 2
   },
   "outputs": [],
   "source": [
    "pdk = gf.get_active_pdk()\n",
    "pdk.gds_write_settings.flatten_offgrid_references = True"
   ]
  },
  {
   "cell_type": "markdown",
   "id": "98b2ef68",
   "metadata": {},
   "source": [
    "With this flag set, invalid references will be flattened by default, preventing gaps and errors in downstream tools which may not support cell references with arbitrary rotation, without needing to specify this on each GDS write.\n",
    "\n",
    "You should note, however, that this will *not* fix all gaps between faces of unequal length, as it is *impossible* to guarantee this for diagonal line segments of unequal lengths constrained to end on integer grid values."
   ]
  },
  {
   "cell_type": "markdown",
   "id": "c829c95c",
   "metadata": {
    "lines_to_next_cell": 2
   },
   "source": [
    "## Avoid Non manhattan connections\n",
    "\n",
    "Here are some strategies to avoid or fix non-manhattan connections.\n",
    "\n",
    "### Extrude at the end (ideal)\n",
    "\n",
    "Some connections are hard to fix due to the ports of the bends being slightly off-center.\n",
    "\n",
    "For that the best is to concatenate the path first and then extrude last.\n"
   ]
  },
  {
   "cell_type": "code",
   "execution_count": null,
   "id": "6be43ab7",
   "metadata": {},
   "outputs": [],
   "source": [
    "@gf.cell\n",
    "def demo_non_manhattan_extrude_fix():\n",
    "    c = gf.Component(\"bend\")\n",
    "    p1 = gf.path.arc(angle=30)\n",
    "    p2 = gf.path.straight(length=5)\n",
    "    p = p1 + p2\n",
    "    c = p.extrude(cross_section=\"xs_sc\")\n",
    "    return c\n",
    "\n",
    "\n",
    "c1 = demo_non_manhattan_extrude_fix()\n",
    "c1.plot()"
   ]
  },
  {
   "cell_type": "markdown",
   "id": "2b742cd9",
   "metadata": {},
   "source": [
    "### Fix polygons\n",
    "\n",
    "You can also fix polygons by merge"
   ]
  },
  {
   "cell_type": "code",
   "execution_count": null,
   "id": "35944d8a",
   "metadata": {},
   "outputs": [],
   "source": [
    "import gdsfactory as gf\n",
    "\n",
    "c = gf.Component(\"bend\")\n",
    "b = c << gf.components.bend_circular(angle=30)\n",
    "s = c << gf.components.straight(length=5)\n",
    "s.connect(\"o1\", b.ports[\"o2\"])\n",
    "p = c.get_polygons(as_shapely_merged=True)\n",
    "c2 = gf.Component(\"bend_fixed\")\n",
    "c2.add_polygon(p, layer=(1, 0))\n",
    "c2.plot()"
   ]
  },
  {
   "cell_type": "code",
   "execution_count": null,
   "id": "93a25784",
   "metadata": {},
   "outputs": [],
   "source": [
    "import gdsfactory as gf\n",
    "\n",
    "c = gf.Component(\"bend\")\n",
    "b = c << gf.components.bend_circular(angle=30)\n",
    "s = c << gf.components.straight(length=5)\n",
    "s.connect(\"o1\", b.ports[\"o2\"])\n",
    "p = c.get_polygons(as_shapely_merged=True)\n",
    "c2 = gf.Component(\"bend_fixed\")\n",
    "c2.add_polygon(p, layer=(1, 0))\n",
    "c2.plot()"
   ]
  },
  {
   "cell_type": "code",
   "execution_count": null,
   "id": "7242b3de",
   "metadata": {},
   "outputs": [],
   "source": [
    "@gf.cell\n",
    "def demo_non_manhattan_merge_polygons():\n",
    "    c = gf.Component(\"bend\")\n",
    "    b = c << gf.components.bend_circular(angle=30)\n",
    "    s = c << gf.components.straight(length=5)\n",
    "    s.connect(\"o1\", b.ports[\"o2\"])\n",
    "    p = c.get_polygons(as_shapely_merged=True)\n",
    "\n",
    "    c2 = gf.Component()\n",
    "    c2.add_polygon(p, layer=(1, 0))\n",
    "    c2.add_port(\"o1\", port=b[\"o1\"])\n",
    "    c2.add_port(\"o2\", port=s[\"o2\"])\n",
    "    return c2\n",
    "\n",
    "\n",
    "c1 = demo_non_manhattan_merge_polygons()\n",
    "c1.plot()"
   ]
  }
 ],
 "metadata": {
  "jupytext": {
   "cell_metadata_filter": "-all",
   "custom_cell_magics": "kql"
  },
  "kernelspec": {
   "display_name": "base",
   "language": "python",
   "name": "python3"
  },
  "language_info": {
   "codemirror_mode": {
    "name": "ipython",
    "version": 3
   },
   "file_extension": ".py",
   "mimetype": "text/x-python",
   "name": "python",
   "nbconvert_exporter": "python",
   "pygments_lexer": "ipython3",
   "version": "3.11.5"
  }
 },
 "nbformat": 4,
 "nbformat_minor": 5
}
