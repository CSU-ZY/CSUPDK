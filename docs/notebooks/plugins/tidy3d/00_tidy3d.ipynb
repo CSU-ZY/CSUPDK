{
 "cells": [
  {
   "cell_type": "markdown",
   "id": "9b829983-7d64-439e-ac09-5ba9000d58a6",
   "metadata": {},
   "source": [
    "# FDTD tidy3d\n",
    "\n",
    "gdsfactory simulation plugin for tidy3d\n",
    "[tidy3D is a FDTD web based software](https://simulation.cloud/)\n",
    "\n",
    "## Materials\n"
   ]
  },
  {
   "cell_type": "code",
   "execution_count": null,
   "id": "8663bc31-aa1d-4323-b345-e3a76c0e06ce",
   "metadata": {},
   "outputs": [],
   "source": [
    "# basic ipython configuration (reload source code automatically and plots inline)\n",
    "%load_ext autoreload\n",
    "%autoreload 2\n",
    "%matplotlib inline\n",
    "\n",
    "import numpy as np\n",
    "import matplotlib.pyplot as plt\n",
    "\n",
    "import tidy3d as td\n",
    "from tidy3d import web\n",
    "import gdsfactory as gf\n",
    "import gdsfactory.simulation.gtidy3d as gt"
   ]
  },
  {
   "cell_type": "code",
   "execution_count": null,
   "id": "365561c0-9716-4e51-96ae-14e4c916a12f",
   "metadata": {},
   "outputs": [],
   "source": [
    "nm = 1e-3\n",
    "wavelength = np.linspace(1500, 1600)*nm\n",
    "f = td.C_0/wavelength\n",
    "\n",
    "n = gt.materials.material_library['cSi']['Li1993_293K'].eps_model(f)\n",
    "plt.plot(wavelength, np.abs(n)**0.5)\n",
    "plt.title('cSi crystalline silicon')\n",
    "plt.xlabel('wavelength')\n",
    "plt.ylabel('n')"
   ]
  },
  {
   "cell_type": "code",
   "execution_count": null,
   "id": "206789cc-53fc-4af8-adec-09433aecb0a9",
   "metadata": {},
   "outputs": [],
   "source": [
    "n = gt.materials.material_library['SiN']['Horiba'].eps_model(f)\n",
    "plt.plot(wavelength, np.abs(n)**0.5)\n",
    "plt.title('SiN')\n",
    "plt.xlabel('wavelength')\n",
    "plt.ylabel('n')"
   ]
  },
  {
   "cell_type": "code",
   "execution_count": null,
   "id": "26146dbe-497a-4e6d-bb15-fa6ad3962896",
   "metadata": {},
   "outputs": [],
   "source": [
    "n = gt.materials.material_library['SiO2']['Horiba'].eps_model(f)\n",
    "plt.plot(wavelength, np.abs(n)**0.5)\n",
    "plt.title('SiO2')\n",
    "plt.xlabel('wavelength')\n",
    "plt.ylabel('n')"
   ]
  },
  {
   "cell_type": "markdown",
   "id": "a2860590-7e0e-47c4-89d2-ff5d33e1f140",
   "metadata": {},
   "source": [
    "## Simulations"
   ]
  },
  {
   "cell_type": "code",
   "execution_count": null,
   "id": "b8f072ee-e758-4144-a92a-157c933fa2d6",
   "metadata": {},
   "outputs": [],
   "source": [
    "c = gf.components.mmi1x2()\n",
    "sim = gt.get_simulation(c)\n",
    "fig = gt.plot_simulation(sim)"
   ]
  },
  {
   "cell_type": "code",
   "execution_count": null,
   "id": "9be3ce45-460e-4e56-a696-c026901aa5d2",
   "metadata": {},
   "outputs": [],
   "source": [
    "c = gf.components.coupler_ring()\n",
    "sim = gt.get_simulation(c)\n",
    "fig = gt.plot_simulation(sim)"
   ]
  },
  {
   "cell_type": "code",
   "execution_count": null,
   "id": "f9afb121-f47b-4b02-b224-c240711d66c3",
   "metadata": {},
   "outputs": [],
   "source": [
    "c = gf.components.bend_circular(radius=2)\n",
    "sim = gt.get_simulation(c)\n",
    "fig = gt.plot_simulation(sim)"
   ]
  },
  {
   "cell_type": "code",
   "execution_count": null,
   "id": "94099cc3-4094-415d-a3e9-fd7dfb829cc0",
   "metadata": {},
   "outputs": [],
   "source": [
    "import numpy as np\n",
    "import matplotlib.pyplot as plt\n",
    "\n",
    "import tidy3d as td\n",
    "from tidy3d import web\n",
    "import gdsfactory as gf\n",
    "import gdsfactory.simulation.gtidy3d as gt\n",
    "\n",
    "c = gf.components.straight_rib(length=3)\n",
    "sim = gt.get_simulation(c, plot_modes=True)\n",
    "fig = gt.plot_simulation_xz(sim)"
   ]
  },
  {
   "cell_type": "code",
   "execution_count": null,
   "id": "15ce5eb1-6a56-43a6-ad84-763e88b47094",
   "metadata": {},
   "outputs": [],
   "source": [
    "import numpy as np\n",
    "import matplotlib.pyplot as plt\n",
    "\n",
    "import tidy3d as td\n",
    "from tidy3d import web\n",
    "import gdsfactory as gf\n",
    "import gdsfactory.simulation.gtidy3d as gt\n",
    "from gdsfactory.components.taper import taper_sc_nc\n",
    "\n",
    "c = taper_sc_nc(length=10)\n",
    "sim = gt.get_simulation(c, plot_modes=True)\n",
    "fig = gt.plot_simulation_xz(sim)"
   ]
  },
  {
   "cell_type": "code",
   "execution_count": null,
   "id": "69c07450-7169-41c0-a4cd-e02c743f8191",
   "metadata": {},
   "outputs": [],
   "source": [
    "components =  ['bend_euler', 'bend_s', 'coupler', 'coupler_ring', 'crossing', 'mmi1x2', 'mmi2x2', 'taper',  'straight']\n",
    "\n",
    "for component_name in components:\n",
    "    print(component_name)\n",
    "    plt.figure()\n",
    "    c = gf.components.factory[component_name]()\n",
    "    sim = gt.get_simulation(c)\n",
    "    fig = gt.plot_simulation(sim)"
   ]
  },
  {
   "cell_type": "markdown",
   "id": "d006c439-606e-422d-b11f-dfeeb115f968",
   "metadata": {},
   "source": [
    "\n",
    "### Sparameters\n",
    "\n",
    "We can run one simulation as well as a group of simulations in paralell"
   ]
  },
  {
   "cell_type": "markdown",
   "id": "9a51491b-1559-458f-abe2-9a77105a2be5",
   "metadata": {},
   "source": [
    "```python\n",
    "c = gf.components.straight()\n",
    "s = gt.get_sparameters(c)\n",
    "```\n",
    "\n",
    "```python\n",
    "for component_name, component_factory in gf.components._factory_passives.items():\n",
    "    c = component_factory()\n",
    "    s = gt.get_sparameters(c)\n",
    "    \n",
    "```    "
   ]
  },
  {
   "cell_type": "markdown",
   "id": "5d19493d-b9e8-458b-9728-151a11f6d5f6",
   "metadata": {},
   "source": [
    "### simulation results\n",
    "\n",
    "Once simulations finish we can compute:\n",
    "\n",
    "- Sparameters (transmission, Reflection)\n",
    "- Coupling coefficients"
   ]
  },
  {
   "cell_type": "code",
   "execution_count": null,
   "id": "7f34483a-5747-48d3-89da-259973880f2a",
   "metadata": {},
   "outputs": [],
   "source": []
  }
 ],
 "metadata": {
  "kernelspec": {
   "display_name": "Python 3 (ipykernel)",
   "language": "python",
   "name": "python3"
  },
  "language_info": {
   "codemirror_mode": {
    "name": "ipython",
    "version": 3
   },
   "file_extension": ".py",
   "mimetype": "text/x-python",
   "name": "python",
   "nbconvert_exporter": "python",
   "pygments_lexer": "ipython3",
   "version": "3.9.7"
  }
 },
 "nbformat": 4,
 "nbformat_minor": 5
}
