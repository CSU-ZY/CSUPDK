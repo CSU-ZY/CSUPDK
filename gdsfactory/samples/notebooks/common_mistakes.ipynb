{
 "cells": [
  {
   "cell_type": "markdown",
   "id": "6a3825a2",
   "metadata": {},
   "source": [
    "# Common mistakes\n",
    "\n",
    "## 1. Creating cells without `cell` decorator\n",
    "\n",
    "The cell decorator names cells deterministically and uniquely based on the name of the functions and its parameters.\n",
    "\n",
    "It also uses a caching mechanisms that improves performance and guards against duplicated names.\n",
    "\n",
    "### 1.1 naming cells manually\n",
    "\n",
    "Naming cells manually is susceptible to name collisions\n",
    "\n",
    "in GDS you can't have two cells with the same name.\n",
    "\n",
    "For example: this code will raise a `duplicated cell name ValueError`\n",
    "\n",
    "```python\n",
    "import gdsfactory as gf\n",
    "\n",
    "c1 = gf.Component(\"wg\")\n",
    "c1 << gf.components.straight(length=5)\n",
    "\n",
    "\n",
    "c2 = gf.Component(\"wg\")\n",
    "c2 << gf.components.straight(length=50)\n",
    "\n",
    "\n",
    "c3 = gf.Component(\"waveguides\")\n",
    "wg1 = c3 << c1\n",
    "wg2 = c3 << c2\n",
    "wg2.movey(10)\n",
    "c3\n",
    "```\n",
    "\n",
    "**Solution**: Use the `gf.cell` decorator for automatic naming your components."
   ]
  },
  {
   "cell_type": "code",
   "execution_count": null,
   "id": "62c6cedd",
   "metadata": {},
   "outputs": [],
   "source": [
    "import gdsfactory as gf\n",
    "\n",
    "gf.config.rich_output()\n",
    "PDK = gf.get_generic_pdk()\n",
    "PDK.activate()\n",
    "\n",
    "\n",
    "@gf.cell\n",
    "def wg(length: float = 3):\n",
    "    return gf.components.straight(length=length)\n",
    "\n",
    "\n",
    "print(wg(length=5))\n",
    "print(wg(length=50))"
   ]
  },
  {
   "cell_type": "markdown",
   "id": "e1f17bf9",
   "metadata": {},
   "source": [
    "### 1.2 Not naming components with a unique and deterministic name\n",
    "\n",
    "In the case of not wrapping the function with `cell` you will get unique names thanks to the unique identifier `uuid`.\n",
    "\n",
    "This name will be different and non-deterministic for different invocations of the script.\n",
    "\n",
    "However it will be hard for you to know where that cell came from."
   ]
  },
  {
   "cell_type": "code",
   "execution_count": null,
   "id": "e286ac0b",
   "metadata": {},
   "outputs": [],
   "source": [
    "c1 = gf.Component()\n",
    "c2 = gf.Component()\n",
    "\n",
    "print(c1.name)\n",
    "print(c2.name)"
   ]
  },
  {
   "cell_type": "markdown",
   "id": "ce2c8fe9",
   "metadata": {},
   "source": [
    "Notice how gdsfactory raises a Warning when you save this `Unnamed` Components"
   ]
  },
  {
   "cell_type": "code",
   "execution_count": null,
   "id": "48954714",
   "metadata": {
    "lines_to_next_cell": 2
   },
   "outputs": [],
   "source": [
    "c1.write_gds()"
   ]
  },
  {
   "cell_type": "markdown",
   "id": "c2a47ccc",
   "metadata": {},
   "source": [
    "### 1.3 Intermediate Unnamed cells\n",
    "\n",
    "While creating a cell, you should not create intermediate cells, because they won't be Cached and you can end up with duplicated cell names or name conflicts, where one of the cells that has the same name as the other will be replaced.\n"
   ]
  },
  {
   "cell_type": "code",
   "execution_count": null,
   "id": "0e3c3c42",
   "metadata": {},
   "outputs": [],
   "source": [
    "@gf.cell\n",
    "def die_bad():\n",
    "    \"\"\"c1 is an intermediate Unnamed cell\"\"\"\n",
    "    c1 = gf.Component()\n",
    "    c1 << gf.components.straight(length=10)\n",
    "    return gf.components.die_bbox(c1, street_width=10)\n",
    "\n",
    "\n",
    "c = die_bad(cache=False)\n",
    "print(c.references)\n",
    "c.plot()"
   ]
  },
  {
   "cell_type": "markdown",
   "id": "e9bfdcf2",
   "metadata": {},
   "source": [
    "**Solution1** Don't use intermediate cells\n"
   ]
  },
  {
   "cell_type": "code",
   "execution_count": null,
   "id": "36312b11",
   "metadata": {},
   "outputs": [],
   "source": [
    "@gf.cell\n",
    "def die_good():\n",
    "    c = gf.Component()\n",
    "    c << gf.components.straight(length=10)\n",
    "    c << gf.components.die_bbox_frame(c.bbox, street_width=10)\n",
    "    return c\n",
    "\n",
    "\n",
    "c = die_good(cache=False)\n",
    "print(c.references)\n",
    "c.plot()"
   ]
  },
  {
   "cell_type": "markdown",
   "id": "34bd3f5e",
   "metadata": {},
   "source": [
    "**Solution2** You can flatten the cell, but you will lose the memory savings from cell references. Solution1 is more elegant.\n"
   ]
  },
  {
   "cell_type": "code",
   "execution_count": null,
   "id": "4bfd41b3",
   "metadata": {},
   "outputs": [],
   "source": [
    "@gf.cell\n",
    "def die_flat():\n",
    "    \"\"\"c will be an intermediate unnamed cell\"\"\"\n",
    "    c = gf.Component()\n",
    "    c << gf.components.straight(length=10)\n",
    "    c2 = gf.components.die_bbox(c, street_width=10)\n",
    "    c2 = c2.flatten()\n",
    "    return c2\n",
    "\n",
    "\n",
    "c = die_flat(cache=False)\n",
    "print(c.references)\n",
    "c.plot()"
   ]
  },
  {
   "cell_type": "code",
   "execution_count": null,
   "id": "12a04c34",
   "metadata": {},
   "outputs": [],
   "source": [
    "import gdsfactory as gf\n",
    "\n",
    "\n",
    "@gf.cell\n",
    "def dangerous_intermediate_cells(width=0.5):\n",
    "    \"\"\"Example that will show the dangers of using intermediate cells.\"\"\"\n",
    "    c = gf.Component(\"safe\")\n",
    "\n",
    "    c2 = gf.Component(\n",
    "        \"dangerous\"\n",
    "    )  # This should be forbidden as it will create duplicated cells\n",
    "    c2 << gf.components.hline(width=width)\n",
    "    c << c2\n",
    "\n",
    "    return c\n",
    "\n",
    "\n",
    "@gf.cell\n",
    "def using_dangerous_intermediate_cells():\n",
    "    \"\"\"Example on how things can go wrong.\n",
    "\n",
    "    Here we try to create to lines with different widths\n",
    "    they end up with two duplicated cells and a name collision on the intermediate cell\n",
    "    \"\"\"\n",
    "    c = gf.Component()\n",
    "    r2 = c << dangerous_intermediate_cells(width=0.5)\n",
    "    r3 = c << dangerous_intermediate_cells(width=2)\n",
    "    r3.movey(5)\n",
    "    return c\n",
    "\n",
    "\n",
    "c = using_dangerous_intermediate_cells()\n",
    "c.plot()"
   ]
  },
  {
   "cell_type": "code",
   "execution_count": null,
   "id": "043757f2",
   "metadata": {},
   "outputs": [],
   "source": [
    "for component in c.get_dependencies(recursive=True):\n",
    "    if not component._locked:\n",
    "        print(\n",
    "            f\"Component {component.name!r} was NOT properly locked. \"\n",
    "            \"You need to write it into a function that has the @cell decorator.\"\n",
    "        )"
   ]
  }
 ],
 "metadata": {
  "jupytext": {
   "cell_metadata_filter": "-all",
   "formats": "md,ipynb",
   "main_language": "python",
   "notebook_metadata_filter": "-all"
  }
 },
 "nbformat": 4,
 "nbformat_minor": 5
}
