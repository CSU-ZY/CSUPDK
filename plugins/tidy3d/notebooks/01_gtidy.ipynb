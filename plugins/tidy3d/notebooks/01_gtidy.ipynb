{
 "cells": [
  {
   "cell_type": "markdown",
   "id": "9b829983-7d64-439e-ac09-5ba9000d58a6",
   "metadata": {},
   "source": [
    "# gtidy3d\n",
    "\n",
    "gdsfactory plugin for tidy3d"
   ]
  },
  {
   "cell_type": "code",
   "execution_count": null,
   "id": "8663bc31-aa1d-4323-b345-e3a76c0e06ce",
   "metadata": {},
   "outputs": [],
   "source": [
    "# basic ipython configuration (reload source code automatically and plots inline)\n",
    "%load_ext autoreload\n",
    "%autoreload 2\n",
    "%matplotlib inline\n",
    "\n",
    "import numpy as np\n",
    "import matplotlib.pyplot as plt\n",
    "import gdspy\n",
    "import os\n",
    "\n",
    "import tidy3d as td\n",
    "from tidy3d import web\n",
    "import gtidy3d as gm\n",
    "import pp"
   ]
  },
  {
   "cell_type": "code",
   "execution_count": null,
   "id": "0c161d9b-8b4f-42eb-86c0-070f70065711",
   "metadata": {},
   "outputs": [],
   "source": [
    "c = pp.components.mmi1x2()\n",
    "c = pp.add_padding(c, default=0, bottom=2, top=2, layers=[(100, 0)])\n",
    "\n",
    "c = pp.components.bend_circular(radius=2)\n",
    "# c = pp.add_padding(c, default=0, bottom=2, right=2, layers=[(100, 0)])\n",
    "\n",
    "c = pp.components.straight(length=2)\n",
    "# c = pp.add_padding(c, default=0, bottom=2, top=2, layers=[(100, 0)])\n",
    "\n",
    "sim, taskId = gm.get_simulation(c)\n",
    "fig, (ax1, ax2) = plt.subplots(1, 2, figsize=(14, 4))\n",
    "sim.viz_mat_2D(normal=\"z\", position=0, ax=ax1)\n",
    "sim.viz_mat_2D(normal=\"x\", ax=ax2, source_alpha=1)\n",
    "ax2.set_xlim([-3, 3])\n",
    "plt.show()"
   ]
  },
  {
   "cell_type": "code",
   "execution_count": null,
   "id": "1798e4fa-0b27-4748-9294-8c6237cb4f5d",
   "metadata": {},
   "outputs": [],
   "source": [
    "c = pp.components.bend_circular(radius=2)\n",
    "# c = pp.add_padding(c, default=0, bottom=2, right=2, layers=[(100, 0)])\n",
    "\n",
    "sim, taskId = gm.get_simulation(c)\n",
    "fig, (ax1, ax2) = plt.subplots(1, 2, figsize=(14, 4))\n",
    "sim.viz_mat_2D(normal=\"z\", position=0, ax=ax1)\n",
    "sim.viz_mat_2D(normal=\"x\", ax=ax2, source_alpha=1)\n",
    "ax2.set_xlim([-3, 3])\n",
    "plt.show()"
   ]
  },
  {
   "cell_type": "code",
   "execution_count": null,
   "id": "f15550b3-4e5d-4f42-ad24-80835b956156",
   "metadata": {},
   "outputs": [],
   "source": [
    "c = pp.components.mmi1x2()\n",
    "#c = pp.add_padding(c, default=0, bottom=2, top=2, layers=[(100, 0)])\n",
    "\n",
    "sim, taskId = gm.get_simulation(c)\n",
    "fig, (ax1, ax2) = plt.subplots(1, 2, figsize=(14, 4))\n",
    "sim.viz_mat_2D(normal=\"z\", position=0, ax=ax1)\n",
    "sim.viz_mat_2D(normal=\"x\", ax=ax2, source_alpha=1)\n",
    "ax2.set_xlim([-3, 3])\n",
    "plt.show()"
   ]
  },
  {
   "cell_type": "code",
   "execution_count": null,
   "id": "b7141a9c-6347-40ad-8695-f140933c8868",
   "metadata": {},
   "outputs": [],
   "source": [
    "c = pp.components.coupler()\n",
    "#c = pp.add_padding(c, default=0, bottom=2, top=2, layers=[(100, 0)])\n",
    "\n",
    "sim, taskId = gm.get_simulation(c)\n",
    "fig, (ax1, ax2) = plt.subplots(1, 2, figsize=(14, 4))\n",
    "sim.viz_mat_2D(normal=\"z\", position=0, ax=ax1)\n",
    "sim.viz_mat_2D(normal=\"x\", ax=ax2, source_alpha=1)\n",
    "ax2.set_xlim([-3, 3])\n",
    "plt.show()"
   ]
  },
  {
   "cell_type": "markdown",
   "id": "423085a3-3a4a-44d3-bff8-168085ef522d",
   "metadata": {},
   "source": [
    "## get coupling"
   ]
  },
  {
   "cell_type": "code",
   "execution_count": null,
   "id": "fafeef2f-de6b-44d8-b670-97d4f7efe27f",
   "metadata": {},
   "outputs": [],
   "source": [
    "import pp\n",
    "import matplotlib.pyplot as plt\n",
    "import gtidy3d as gm\n",
    "from tidy3d import web\n",
    "\n",
    "wg_height = 0.22\n",
    "c = pp.components.coupler(length=2)\n",
    "sim, taskId = gm.get_simulation(c)\n",
    "fig, (ax1, ax2) = plt.subplots(1, 2, figsize=(14, 4))\n",
    "sim.viz_mat_2D(normal=\"z\", position=wg_height / 2, ax=ax1)\n",
    "sim.viz_mat_2D(normal=\"x\", ax=ax2, source_alpha=1)\n",
    "ax2.set_xlim([-3, 3])\n",
    "plt.show()"
   ]
  },
  {
   "cell_type": "code",
   "execution_count": null,
   "id": "dec3c73d-bd69-4d5d-81bf-d1c8ccbd549d",
   "metadata": {},
   "outputs": [],
   "source": [
    "sim.viz_modes?"
   ]
  },
  {
   "cell_type": "code",
   "execution_count": null,
   "id": "c66d51e0-9620-4b0f-96e0-277bf6c7fc97",
   "metadata": {},
   "outputs": [],
   "source": [
    "web.monitor_project(taskId)\n",
    "split_ratio, efficiency = gm.get_coupling(sim, taskId)\n",
    "print(f\"split ratio of {(split_ratio * 100):.2f}% to top port\")\n",
    "print(f\"efficiency of {(efficiency * 100):.2f}% to transmission port\")"
   ]
  },
  {
   "cell_type": "code",
   "execution_count": null,
   "id": "ad460f0c-673e-43a2-a666-295263c8eeb9",
   "metadata": {},
   "outputs": [],
   "source": []
  }
 ],
 "metadata": {
  "kernelspec": {
   "display_name": "Python 3",
   "language": "python",
   "name": "python3"
  },
  "language_info": {
   "codemirror_mode": {
    "name": "ipython",
    "version": 3
   },
   "file_extension": ".py",
   "mimetype": "text/x-python",
   "name": "python",
   "nbconvert_exporter": "python",
   "pygments_lexer": "ipython3",
   "version": "3.8.5"
  }
 },
 "nbformat": 4,
 "nbformat_minor": 5
}
