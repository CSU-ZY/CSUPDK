{
 "cells": [
  {
   "cell_type": "markdown",
   "metadata": {},
   "source": [
    "### Packer\n",
    "\n",
    "\n",
    "The ``pp.pack()`` function is able to pack geometries together into rectangular bins. If a ``max_size`` is specified, the function will create as many bins as is necessary to pack all the geometries and then return a list of the filled-bin Components. The function is based on PHIDL as well as this tutorial.\n",
    "\n",
    "Here we generate several random shapes then pack them together automatically. We allow the bin to be as large as needed to fit all the Devices by specifying ``max_size = (None, None)``.  By setting ``aspect_ratio = (2,1)``, we specify the rectangular bin it tries to pack them into should be twice as wide as it is tall:\n"
   ]
  },
  {
   "cell_type": "code",
   "execution_count": null,
   "metadata": {},
   "outputs": [],
   "source": [
    "import numpy as np\n",
    "import pp\n",
    "from pp import qp\n",
    "\n",
    "np.random.seed(5)\n",
    "D_list = [pp.c.ellipse(radii = np.random.rand(2)*n+2) for n in range(50)]\n",
    "D_list += [pp.c.rectangle(size = np.random.rand(2)*n+2) for n in range(50)]\n",
    "\n",
    "D_packed_list = pp.pack(\n",
    "        D_list,                 # Must be a list or tuple of Component\n",
    "        spacing = 1.25,         # Minimum distance between adjacent shapes\n",
    "        aspect_ratio = (2,1),   # (width, height) ratio of the rectangular bin\n",
    "        max_size = (None,None), # Limits the size into which the shapes will be packed\n",
    "        density = 1.05,          # Values closer to 1 pack tighter but require more computation\n",
    "        sort_by_area = True,    # Pre-sorts the shapes by area\n",
    "        verbose = False,\n",
    "        )\n",
    "D = D_packed_list[0] # Only one bin was created, so we plot that\n",
    "qp(D) # quickplot the geometry"
   ]
  },
  {
   "cell_type": "markdown",
   "metadata": {},
   "source": [
    "Say we need to pack many shapes into multiple 500x500 unit die. If we set\n",
    "``max_size = (500,500)`` the shapes will be packed into as many 500x500 unit die\n",
    "as required to fit them all:"
   ]
  },
  {
   "cell_type": "code",
   "execution_count": null,
   "metadata": {},
   "outputs": [],
   "source": [
    "\n",
    "np.random.seed(1)\n",
    "D_list = [pp.c.ellipse(radii = np.random.rand(2)*n+2) for n in range(120)]\n",
    "D_list += [pp.c.rectangle(size = np.random.rand(2)*n+2) for n in range(120)]\n",
    "\n",
    "D_packed_list = pp.pack(\n",
    "        D_list,                 # Must be a list or tuple of Component\n",
    "        spacing = 4,         # Minimum distance between adjacent shapes\n",
    "        aspect_ratio = (1,1),   # Shape of the box\n",
    "        max_size = (500,500),   # Limits the size into which the shapes will be packed\n",
    "        density = 1.05,         # Values closer to 1 pack tighter but require more computation\n",
    "        sort_by_area = True,    # Pre-sorts the shapes by area\n",
    "        verbose = False,\n",
    "        )\n",
    "\n",
    "# Put all packed bins into a single Component and spread them out with distribute()\n",
    "F = pp.Component()\n",
    "[F.add_ref(D) for D in D_packed_list]\n",
    "F.distribute(elements = 'all', direction = 'x', spacing = 100, separation = True)\n",
    "qp(F)"
   ]
  },
  {
   "cell_type": "markdown",
   "metadata": {},
   "source": [
    "Note that the packing problem is an NP-complete problem, so ``pp.pack()`` may\n",
    "be slow if there are more than a few hundred Components to pack (in that case, try\n",
    "pre-packing a few dozen at a time then packing the resulting bins). Requires the\n",
    "``rectpack`` python package."
   ]
  },
  {
   "cell_type": "markdown",
   "metadata": {},
   "source": [
    "### Distribute\n",
    "\n",
    "\n",
    "The ``distribute()`` function allows you to space out elements within a Component\n",
    "evenly in the x or y direction.  It is meant to duplicate the distribute\n",
    "functionality present in Inkscape / Adobe Illustrator:\n",
    "\n",
    "Say we start out with a few random-sized rectangles we want to space out:"
   ]
  },
  {
   "cell_type": "code",
   "execution_count": null,
   "metadata": {},
   "outputs": [],
   "source": [
    "\n",
    "D = pp.Component()\n",
    "# Create different-sized rectangles and add them to D\n",
    "[D.add_ref(pp.c.rectangle(size = [n*15+20,n*15+20]).move((n,n*4))) for n in [0,2,3,1,2]]\n",
    "\n",
    "qp(D) # quickplot the geometry"
   ]
  },
  {
   "cell_type": "markdown",
   "metadata": {},
   "source": [
    "Oftentimes, we want to guarantee some distance between the objects.  By setting\n",
    "``separation = True`` we move each object such that there is ``spacing``\n",
    "distance between them:"
   ]
  },
  {
   "cell_type": "code",
   "execution_count": null,
   "metadata": {},
   "outputs": [],
   "source": [
    "\n",
    "D = pp.Component()\n",
    "# Create different-sized rectangles and add them to D\n",
    "[D.add_ref(pp.c.rectangle(size = [n*15+20,n*15+20]).move((n,n*4))) for n in [0,2,3,1,2]]\n",
    "# Distribute all the rectangles in D along the x-direction with a separation of 5\n",
    "D.distribute(elements = 'all',   # either 'all' or a list of objects\n",
    "             direction = 'x',    # 'x' or 'y'\n",
    "             spacing = 5,\n",
    "             separation = True)\n",
    "\n",
    "qp(D) # quickplot the geometry"
   ]
  },
  {
   "cell_type": "markdown",
   "metadata": {},
   "source": [
    "Alternatively, we can spread them out on a fixed grid by setting ``separation =\n",
    "False``. Here we align the left edge (``edge = 'min'``) of each object along a\n",
    "grid spacing of 100:"
   ]
  },
  {
   "cell_type": "code",
   "execution_count": null,
   "metadata": {},
   "outputs": [],
   "source": [
    "\n",
    "D = pp.Component()\n",
    "[D.add_ref(pp.c.rectangle(size = [n*15+20,n*15+20]).move((n,n*4))) for n in [0,2,3,1,2]]\n",
    "D.distribute(elements = 'all', direction = 'x', spacing = 100, separation = False,\n",
    "             edge = 'xmin') # edge must be either 'xmin' (left), 'xmax' (right), or 'x' (center)\n",
    "\n",
    "qp(D) # quickplot the geometry"
   ]
  },
  {
   "cell_type": "markdown",
   "metadata": {},
   "source": [
    "The alignment can be done along the right edge as well by setting ``edge =\n",
    "'max'``, or along the center by setting ``edge = 'center'`` like in the\n",
    "following:"
   ]
  },
  {
   "cell_type": "code",
   "execution_count": null,
   "metadata": {},
   "outputs": [],
   "source": [
    "\n",
    "D = pp.Component()\n",
    "[D.add_ref(pp.c.rectangle(size = [n*15+20,n*15+20]).move((n-10,n*4))) for n in [0,2,3,1,2]]\n",
    "D.distribute(elements = 'all', direction = 'x', spacing = 100, separation = False,\n",
    "             edge = 'x') # edge must be either 'xmin' (left), 'xmax' (right), or 'x' (center)\n",
    "\n",
    "qp(D) # quickplot the geometry"
   ]
  },
  {
   "cell_type": "markdown",
   "metadata": {},
   "source": [
    "### Align\n",
    "\n",
    "\n",
    "The ``align()`` function allows you to elements within a Component horizontally or\n",
    "vertically.  It is meant to duplicate the alignment functionality present in\n",
    "Inkscape / Adobe Illustrator:\n",
    "\n",
    "Say we ``distribute()`` a few objects, but they're all misaligned:"
   ]
  },
  {
   "cell_type": "code",
   "execution_count": null,
   "metadata": {},
   "outputs": [],
   "source": [
    "\n",
    "D = pp.Component()\n",
    "# Create different-sized rectangles and add them to D then distribute them\n",
    "[D.add_ref(pp.c.rectangle(size = [n*15+20,n*15+20]).move((n,n*4))) for n in [0,2,3,1,2]]\n",
    "D.distribute(elements = 'all', direction = 'x', spacing = 5, separation = True)\n",
    "\n",
    "qp(D) # quickplot the geometry"
   ]
  },
  {
   "cell_type": "markdown",
   "metadata": {},
   "source": [
    "we can use the ``align()`` function to align their top edges (``alignment =\n",
    "'ymax'):"
   ]
  },
  {
   "cell_type": "code",
   "execution_count": null,
   "metadata": {},
   "outputs": [],
   "source": [
    "\n",
    "D = pp.Component()\n",
    "# Create different-sized rectangles and add them to D then distribute them\n",
    "[D.add_ref(pp.c.rectangle(size = [n*15+20,n*15+20]).move((n,n*4))) for n in [0,2,3,1,2]]\n",
    "D.distribute(elements = 'all', direction = 'x', spacing = 5, separation = True)\n",
    "\n",
    "# Align top edges\n",
    "D.align(elements = 'all', alignment = 'ymax')\n",
    "\n",
    "qp(D) # quickplot the geometry"
   ]
  },
  {
   "cell_type": "markdown",
   "metadata": {},
   "source": [
    "or align their centers (``alignment = 'y'):"
   ]
  },
  {
   "cell_type": "code",
   "execution_count": null,
   "metadata": {},
   "outputs": [],
   "source": [
    "D = pp.Component()\n",
    "# Create different-sized rectangles and add them to D then distribute them\n",
    "[D.add_ref(pp.c.rectangle(size = [n*15+20,n*15+20]).move((n,n*4))) for n in [0,2,3,1,2]]\n",
    "D.distribute(elements = 'all', direction = 'x', spacing = 5, separation = True)\n",
    "\n",
    "# Align top edges\n",
    "D.align(elements = 'all', alignment = 'y')\n",
    "\n",
    "qp(D) # quickplot the geometry"
   ]
  },
  {
   "cell_type": "markdown",
   "metadata": {},
   "source": [
    "other valid alignment options include ``'xmin', 'x', 'xmax', 'ymin', 'y', and\n",
    "'ymax'``"
   ]
  },
  {
   "cell_type": "code",
   "execution_count": null,
   "metadata": {},
   "outputs": [],
   "source": []
  }
 ],
 "metadata": {
  "kernelspec": {
   "display_name": "Python 3",
   "language": "python",
   "name": "python3"
  },
  "language_info": {
   "codemirror_mode": {
    "name": "ipython",
    "version": 3
   },
   "file_extension": ".py",
   "mimetype": "text/x-python",
   "name": "python",
   "nbconvert_exporter": "python",
   "pygments_lexer": "ipython3",
   "version": "3.8.3"
  }
 },
 "nbformat": 4,
 "nbformat_minor": 4
}
