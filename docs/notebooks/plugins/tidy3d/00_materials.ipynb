{
 "cells": [
  {
   "cell_type": "markdown",
   "id": "9b829983-7d64-439e-ac09-5ba9000d58a6",
   "metadata": {},
   "source": [
    "# tidy3d\n",
    "\n",
    "gdsfactory simulation plugin for tidy3d\n",
    "[tidy3D is a FDTD web based software](https://simulation.cloud/)\n",
    "\n",
    "## Materials\n"
   ]
  },
  {
   "cell_type": "code",
   "execution_count": null,
   "id": "8663bc31-aa1d-4323-b345-e3a76c0e06ce",
   "metadata": {},
   "outputs": [],
   "source": [
    "# basic ipython configuration (reload source code automatically and plots inline)\n",
    "%load_ext autoreload\n",
    "%autoreload 2\n",
    "%matplotlib inline\n",
    "\n",
    "import numpy as np\n",
    "import matplotlib.pyplot as plt\n",
    "\n",
    "import tidy3d as td\n",
    "from tidy3d import web\n",
    "import gdsfactory as gf\n",
    "import gdsfactory.simulation.gtidy3d as gt"
   ]
  },
  {
   "cell_type": "code",
   "execution_count": null,
   "id": "365561c0-9716-4e51-96ae-14e4c916a12f",
   "metadata": {},
   "outputs": [],
   "source": [
    "import numpy as np\n",
    "\n",
    "nm = 1e-3\n",
    "wavelength = np.linspace(1500, 1600)*nm\n",
    "f = td.C_0/wavelength\n",
    "\n",
    "n = gt.materials.material_library['cSi']['Li1993_293K'].eps_model(f)\n",
    "plt.plot(wavelength, np.abs(n)**0.5)\n",
    "plt.title('cSi crystalline silicon')\n",
    "plt.xlabel('wavelength')\n",
    "plt.ylabel('n')"
   ]
  },
  {
   "cell_type": "code",
   "execution_count": null,
   "id": "206789cc-53fc-4af8-adec-09433aecb0a9",
   "metadata": {},
   "outputs": [],
   "source": [
    "n = gt.materials.material_library['SiN']['Horiba'].eps_model(f)\n",
    "plt.plot(wavelength, np.abs(n)**0.5)\n",
    "plt.title('SiN')\n",
    "plt.xlabel('wavelength')\n",
    "plt.ylabel('n')"
   ]
  },
  {
   "cell_type": "code",
   "execution_count": null,
   "id": "26146dbe-497a-4e6d-bb15-fa6ad3962896",
   "metadata": {},
   "outputs": [],
   "source": [
    "n = gt.materials.material_library['SiO2']['Horiba'].eps_model(f)\n",
    "plt.plot(wavelength, np.abs(n)**0.5)\n",
    "plt.title('SiO2')\n",
    "plt.xlabel('wavelength')\n",
    "plt.ylabel('n')"
   ]
  },
  {
   "cell_type": "code",
   "execution_count": null,
   "id": "d62758e8-197e-4ee2-a442-8b94aea6a579",
   "metadata": {},
   "outputs": [],
   "source": []
  }
 ],
 "metadata": {
  "kernelspec": {
   "display_name": "Python 3 (ipykernel)",
   "language": "python",
   "name": "python3"
  },
  "language_info": {
   "codemirror_mode": {
    "name": "ipython",
    "version": 3
   },
   "file_extension": ".py",
   "mimetype": "text/x-python",
   "name": "python",
   "nbconvert_exporter": "python",
   "pygments_lexer": "ipython3",
   "version": "3.9.7"
  }
 },
 "nbformat": 4,
 "nbformat_minor": 5
}
