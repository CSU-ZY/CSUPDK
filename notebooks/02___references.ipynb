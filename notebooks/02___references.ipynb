{
 "cells": [
  {
   "cell_type": "markdown",
   "metadata": {},
   "source": [
    "# Understanding references\n",
    "\n",
    "In this tutorial we'll investigate what \"references\" are.  The GDSII\n",
    "specification allows the use of references, and similarly gdsfactory uses them (with\n",
    "the `add_ref()` function).  So what is a reference? Simply put:  **A reference\n",
    "does not contain any geometry. It only *points* to an existing geometry**.  That\n",
    "still might not be clear, so let's use an example:\n",
    "\n",
    "Say Alice has a ridiculously large polygon with 100 billion vertices in it that\n",
    "we'll call BigPolygon.  It's huge, but she needs to use it in her design 250\n",
    "times.  Well, a single copy of BigPolygon takes up 100GB of memory just by\n",
    "itself, so she doesn't want to make 250 copies of it. Since Alice is clever, she\n",
    "instead *references* the polygon 250 times.  Each reference only uses a few\n",
    "bytes of memory -- it only needs to know the memory address of BigPolygon and a\n",
    "few other things. In this way, she can keep one copy of BigPolygon and use it\n",
    "again and again wherever she needs to.\n",
    "\n",
    "If that's still not clear, let's use the following examples.\n",
    "\n",
    "## Using references\n",
    "\n",
    "Let's start by making a blank geometry (`Component`) then adding a single polygon\n",
    "to it."
   ]
  },
  {
   "cell_type": "code",
   "execution_count": null,
   "metadata": {
    "attributes": {
     "classes": [],
     "id": "",
     "n": "2"
    }
   },
   "outputs": [],
   "source": [
    "import numpy as np\n",
    "import pp\n",
    "from pp import Component, qp\n",
    "\n",
    "\n",
    "# Create a blank Component\n",
    "P = Component()\n",
    "\n",
    "# Add a polygon\n",
    "xpts = [0,0,5,6,9,12]\n",
    "ypts = [0,1,1,2,2,0]\n",
    "P.add_polygon([xpts,ypts])\n",
    "\n",
    "# Quickplot the Component with the polygon in it\n",
    "qp(P)"
   ]
  },
  {
   "cell_type": "markdown",
   "metadata": {},
   "source": [
    "Now, pretend we're in the same position as Alice: We want to reuse this polygon\n",
    "repeatedly but do not want to make multiple copies of it.  To do so, we need to\n",
    "make a second blank `Component`, this time called `D`.  In this new Component we'll\n",
    "*reference* our Component `P` which contains our polygon."
   ]
  },
  {
   "cell_type": "code",
   "execution_count": null,
   "metadata": {
    "attributes": {
     "classes": [],
     "id": "",
     "n": "3"
    }
   },
   "outputs": [],
   "source": [
    "D = Component()             # Create a new blank Component\n",
    "poly_ref = D.add_ref(P)  # Reference the Component \"P\" that has the polygon in it\n",
    "\n",
    "qp(D) # Quickplot the reference-containing Component \"D\""
   ]
  },
  {
   "cell_type": "markdown",
   "metadata": {},
   "source": [
    "OK, well that seemed to work, but it also seems thoroughly useless!  It looks\n",
    "like we just made a copy of our polygon -- but remember, we've didn't actually\n",
    "make a second polygon, we just made a reference (aka pointer) to the original\n",
    "polygon.  Let's continue with the example by adding two more references to `D`:"
   ]
  },
  {
   "cell_type": "code",
   "execution_count": null,
   "metadata": {
    "attributes": {
     "classes": [],
     "id": "",
     "n": "4"
    }
   },
   "outputs": [],
   "source": [
    "poly_ref2 = D.add_ref(P)  # Reference the Component \"P\" that has the polygon in it\n",
    "poly_ref3 = D.add_ref(P)  # Reference the Component \"P\" that has the polygon in it\n",
    "\n",
    "qp(D) # Quickplot the reference-containing Component \"D\""
   ]
  },
  {
   "cell_type": "markdown",
   "metadata": {},
   "source": [
    "Now we have 3x polygons all on top of each other.  Again, this would appear\n",
    "useless, except that we can manipulate each reference indepedently. Notice that\n",
    "when we called `D.add_ref(P)` above, we saved the result to a new variable each\n",
    "time (`poly_ref`, `poly_ref2`, and `poly_ref3`)?  We can use those variables to\n",
    "reposition the references.  Let's try:"
   ]
  },
  {
   "cell_type": "code",
   "execution_count": null,
   "metadata": {
    "attributes": {
     "classes": [],
     "id": "",
     "n": "5"
    }
   },
   "outputs": [],
   "source": [
    "poly_ref2.rotate(15) # Rotate the 2nd reference we made 15 degrees\n",
    "poly_ref3.rotate(30) # Rotate the 3rd reference we made 30 degrees\n",
    "\n",
    "qp(D) # Quickplot the reference-containing Component \"D\""
   ]
  },
  {
   "cell_type": "markdown",
   "metadata": {},
   "source": [
    "Now we're getting somewhere!  We've only had to make the polygon once, but we're\n",
    "able to reuse it as many times as we want.\n",
    "\n",
    "## Modifying the referenced geometry\n",
    "\n",
    "Now, a question naturally follows this:  What happens when you change the\n",
    "original geometry that the reference points to?  In our case, our references in\n",
    "`D` all point to the Component `P` that with the original polygon.  Let's try\n",
    "adding a second polygon to `P`.\n",
    "\n",
    "First we add the second polygon and make sure `P` looks like we expect:"
   ]
  },
  {
   "cell_type": "code",
   "execution_count": null,
   "metadata": {
    "attributes": {
     "classes": [],
     "id": "",
     "n": "6"
    }
   },
   "outputs": [],
   "source": [
    "# Add a 2nd polygon to \"P\"\n",
    "xpts = [14,14,16,16]\n",
    "ypts = [0,2,2,0]\n",
    "P.add_polygon([xpts,ypts], layer = 1)\n",
    "\n",
    "qp(P) # Quickplot the \"P\" with its 2 polygons"
   ]
  },
  {
   "cell_type": "markdown",
   "metadata": {},
   "source": [
    "That looks good.  Now let's find out what happened to `D` that contains the\n",
    "three references.  Keep in mind that we have not modified `D` or executed any\n",
    "functions/operations on `D` -- all we have done is modify `P`."
   ]
  },
  {
   "cell_type": "code",
   "execution_count": null,
   "metadata": {
    "attributes": {
     "classes": [],
     "id": "",
     "n": "7"
    }
   },
   "outputs": [],
   "source": [
    "qp(D)  # Quickplot the reference-containing Component \"D\""
   ]
  },
  {
   "cell_type": "markdown",
   "metadata": {},
   "source": [
    "We have our answer!  **When we modify the original geometry, all of the\n",
    "references automatically reflect the modifications.**  This is very powerful,\n",
    "because we can use this to make very complicated designs from relatively simple\n",
    "elements in a computation- and memory-efficienct way.\n",
    "\n",
    "Let's try making references a level deeper by referencing `D`.  Note here we use\n",
    "the `<<` operator to add the references -- this is just shorthand, and is\n",
    "exactly equivalent to using `add_ref()`"
   ]
  },
  {
   "cell_type": "code",
   "execution_count": null,
   "metadata": {
    "attributes": {
     "classes": [],
     "id": "",
     "n": "8"
    }
   },
   "outputs": [],
   "source": [
    "X = Component()             # Create a new blank Component\n",
    "d_ref1 = X.add_ref(D)  # Reference the Component \"D\" that 3 references in it\n",
    "d_ref2 = X << D        # Use the \"<<\" operator to create a 2nd reference to D\n",
    "d_ref3 = X << D        # Use the \"<<\" operator to create a 2nd reference to D\n",
    "\n",
    "d_ref1.move([20,0])\n",
    "d_ref2.move([40,0])\n",
    "\n",
    "qp(X) # Quickplot the reference-containing Component \"D\""
   ]
  },
  {
   "cell_type": "markdown",
   "metadata": {},
   "source": [
    "## Arrays of references\n",
    "\n",
    "Sometimes it's convenient to make an array or grid of the same geometry.  For\n",
    "that purpose, the GDSII spec allows you to define arrays of references.  In\n",
    "PHIDL, these are added with the `add_array()` function. Note that by GDSII\n",
    "definition these arrays are on a fixed grid -- PHIDL does however have more\n",
    "flexible arrangement options if desired, see for example `grid()` and\n",
    "`packer()`.\n",
    "\n",
    "Let's make a new Component and put a big array of our Component `D` in it:"
   ]
  },
  {
   "cell_type": "code",
   "execution_count": null,
   "metadata": {
    "attributes": {
     "classes": [],
     "id": "",
     "n": "9"
    }
   },
   "outputs": [],
   "source": [
    "A = Component()           # Create a new blank Component\n",
    "d_ref1 = A.add_array(D, columns = 6, rows = 3, spacing = [20,15])  # Reference the Component \"D\" that 3 references in it\n",
    "\n",
    "qp(A) # Quickplot the reference-containing component \"D\""
   ]
  },
  {
   "cell_type": "markdown",
   "metadata": {},
   "source": [
    "## References\n",
    "\n",
    "Based on PHIDL tutorial"
   ]
  }
 ],
 "metadata": {
  "kernelspec": {
   "display_name": "Python 3",
   "language": "python",
   "name": "python3"
  },
  "language_info": {
   "codemirror_mode": {
    "name": "ipython",
    "version": 3
   },
   "file_extension": ".py",
   "mimetype": "text/x-python",
   "name": "python",
   "nbconvert_exporter": "python",
   "pygments_lexer": "ipython3",
   "version": "3.8.3"
  }
 },
 "nbformat": 4,
 "nbformat_minor": 4
}
