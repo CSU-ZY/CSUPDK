{
 "cells": [
  {
   "cell_type": "markdown",
   "id": "0",
   "metadata": {},
   "source": [
    "# v7 -> v8\n",
    "\n",
    "\n",
    "## Benefits of migrating:\n",
    "\n",
    "- Ports, info and settings are stored in the GDS file, so you don't have to store them on separate files.\n",
    "- Booleans are more robust when moving to integer based polygons, the slivers of less than 1nm disappear.\n",
    "\n",
    "\n",
    "## Drawbacks of migrating\n",
    "\n",
    "- As any changes in code, it can introduce undesired errors. It's recommended to have regression tests for all your components.\n",
    "\n",
    "\n",
    "Major differences:\n",
    "\n",
    "- xmin, xmax, ymin, ymax will be used for integers in Database Units (1nm by default), to set/get them in um You need to use `d` (decimal) Instance.dxmin which is in float. The same is true for `dmove`, `drotate`, `dsize_info`, `center`\n",
    "- LayerMap is an Enum of integers\n",
    "- New routing functions do not require starting ports to be in the same orientation and will monitor for self intersections. `get_route` -> `route_single`. `get_bundle` -> `route_bundle`\n",
    "- All polygon points are snapped to grid.\n",
    "\n",
    "\n",
    "Minor differences:\n",
    "\n",
    "- replace `from gdsfactory.cell import cell` with `from gdsfactory import cell`\n",
    "- we still don't have an equivalent\n",
    "\n",
    "\n",
    "Improvements:\n",
    "\n",
    "- gf.routing.route_single \n",
    "\n",
    "\n",
    "How to migrate?\n",
    "\n",
    "We provide a migration script that migrated your files in place and that can help you migrate.\n",
    "\n",
    "```bash\n",
    "gf migrate -i --migration 7to8 <input_folder/file> or gf migrate --inplace --migration 7to8 <input_folder/file> \n",
    "```"
   ]
  },
  {
   "cell_type": "markdown",
   "id": "1",
   "metadata": {},
   "source": [
    "## Use dxmin, dcenter, dmove, dsize_info\n",
    "\n",
    "This is the biggest difference. By default all units are snap to grid."
   ]
  },
  {
   "cell_type": "code",
   "execution_count": null,
   "id": "2",
   "metadata": {},
   "outputs": [],
   "source": [
    "import gdsfactory as gf\n",
    "\n",
    "c = gf.Component()\n",
    "ref = c << gf.components.bend_euler(radius=5)\n",
    "c"
   ]
  },
  {
   "cell_type": "code",
   "execution_count": null,
   "id": "3",
   "metadata": {},
   "outputs": [],
   "source": [
    "print(ref.dxmax)"
   ]
  },
  {
   "cell_type": "code",
   "execution_count": null,
   "id": "4",
   "metadata": {},
   "outputs": [],
   "source": [
    "print(ref.dsize_info.width)"
   ]
  },
  {
   "cell_type": "markdown",
   "id": "5",
   "metadata": {},
   "source": [
    "## Use instance.drotate \n",
    "\n",
    "For setting arbitrary rotation angles you can use `Instance.drotate(30)` to rotate 30deg as an example."
   ]
  },
  {
   "cell_type": "code",
   "execution_count": null,
   "id": "6",
   "metadata": {},
   "outputs": [],
   "source": [
    "c = gf.Component()\n",
    "ref = c << gf.components.bend_euler(radius=5)\n",
    "ref.drotate(45)\n",
    "c"
   ]
  },
  {
   "cell_type": "markdown",
   "id": "7",
   "metadata": {},
   "source": [
    "## LayerMap \n",
    "\n",
    "In v7 or below, a LayerMap needs to be called\n",
    "\n",
    "```python\n",
    "\n",
    "from gdsfactory.technology import LayerMap\n",
    "\n",
    "class LayerMapFab(LayerMap):\n",
    "    WG = (1, 0)\n",
    "\n",
    "LAYER = LayerMapFab()\n",
    "```\n",
    "\n",
    "However in v8 it has a different type and does not need to be called \n",
    "\n",
    "```python\n",
    "\n",
    "from gdsfactory.technology import LayerMap\n",
    "\n",
    "class LayerMapFab(LayerMap):\n",
    "    WG = (1, 0)\n",
    "\n",
    "LAYER = LayerMapFab\n",
    "```\n",
    "\n",
    "See below:"
   ]
  },
  {
   "cell_type": "code",
   "execution_count": null,
   "id": "8",
   "metadata": {},
   "outputs": [],
   "source": [
    "from gdsfactory.technology import LayerMap\n",
    "\n",
    "\n",
    "class LayerMapFab(LayerMap):\n",
    "    WG = (1, 0)\n",
    "\n",
    "\n",
    "LAYER = LayerMapFab\n",
    "type(LAYER)"
   ]
  },
  {
   "cell_type": "code",
   "execution_count": null,
   "id": "9",
   "metadata": {},
   "outputs": [],
   "source": [
    "LAYER.WG"
   ]
  },
  {
   "cell_type": "code",
   "execution_count": null,
   "id": "10",
   "metadata": {},
   "outputs": [],
   "source": [
    "tuple(LAYER.WG)"
   ]
  },
  {
   "cell_type": "code",
   "execution_count": null,
   "id": "11",
   "metadata": {},
   "outputs": [],
   "source": [
    "str(LAYER.WG)"
   ]
  },
  {
   "cell_type": "markdown",
   "id": "12",
   "metadata": {},
   "source": [
    "## Routing functions\n",
    "\n",
    "Routing functions do no longer return the route Instances but they place the instances in a Component, so you have to pass a Component."
   ]
  },
  {
   "cell_type": "code",
   "execution_count": null,
   "id": "13",
   "metadata": {},
   "outputs": [],
   "source": [
    "c = gf.Component()\n",
    "w = gf.components.straight(cross_section=\"rib\")\n",
    "top = c << w\n",
    "bot = c << w\n",
    "bot.dmove((0, -2))\n",
    "\n",
    "p0 = top.ports[\"o2\"]\n",
    "p1 = bot.ports[\"o2\"]\n",
    "\n",
    "r = gf.routing.route_single(\n",
    "    c,\n",
    "    p0,\n",
    "    p1,\n",
    "    cross_section=\"rib\",\n",
    ")\n",
    "c"
   ]
  },
  {
   "cell_type": "code",
   "execution_count": null,
   "id": "14",
   "metadata": {},
   "outputs": [],
   "source": [
    "c = gf.Component()\n",
    "columns = 2\n",
    "ptop = c << gf.components.pad_array(columns=columns, port_orientation=270)\n",
    "pbot = c << gf.components.pad_array(port_orientation=270, columns=columns)\n",
    "\n",
    "ptop.dmovex(300)\n",
    "ptop.dmovey(300)\n",
    "routes = gf.routing.route_bundle_electrical(\n",
    "    c,\n",
    "    reversed(pbot.ports),\n",
    "    ptop.ports,\n",
    "    start_straight_length=100,\n",
    "    separation=20,\n",
    "    bboxes=[ptop.bbox(), pbot.bbox()],  # can avoid obstacles\n",
    ")\n",
    "\n",
    "c"
   ]
  },
  {
   "cell_type": "code",
   "execution_count": null,
   "id": "15",
   "metadata": {},
   "outputs": [],
   "source": [
    "c = gf.Component()\n",
    "columns = 2\n",
    "ptop = c << gf.components.pad_array(columns=columns, port_orientation=270)\n",
    "pbot = c << gf.components.pad_array(port_orientation=270, columns=columns)\n",
    "ptop.dmovex(300)\n",
    "ptop.dmovey(300)\n",
    "\n",
    "obstacle = c << gf.c.rectangle(size=(300, 100), layer=\"M3\")\n",
    "obstacle.dymin = pbot.dymax - 10\n",
    "obstacle.dxmin = pbot.dxmax - 10\n",
    "\n",
    "\n",
    "routes = gf.routing.route_bundle_electrical(\n",
    "    c,\n",
    "    pbot.ports,\n",
    "    ptop.ports,\n",
    "    start_straight_length=100,\n",
    "    separation=20,\n",
    "    bboxes=[\n",
    "        obstacle.bbox(),\n",
    "        pbot.bbox(),\n",
    "        ptop.bbox(),\n",
    "    ],  # will ba able avoid obstacles soon\n",
    "    sort_ports=True,\n",
    ")\n",
    "\n",
    "c"
   ]
  },
  {
   "cell_type": "code",
   "execution_count": null,
   "id": "16",
   "metadata": {},
   "outputs": [],
   "source": []
  }
 ],
 "metadata": {
  "jupytext": {
   "cell_metadata_filter": "-all",
   "custom_cell_magics": "kql"
  },
  "kernelspec": {
   "display_name": "base",
   "language": "python",
   "name": "python3"
  },
  "language_info": {
   "codemirror_mode": {
    "name": "ipython",
    "version": 3
   },
   "file_extension": ".py",
   "mimetype": "text/x-python",
   "name": "python",
   "nbconvert_exporter": "python",
   "pygments_lexer": "ipython3",
   "version": "3.11.5"
  }
 },
 "nbformat": 4,
 "nbformat_minor": 5
}
