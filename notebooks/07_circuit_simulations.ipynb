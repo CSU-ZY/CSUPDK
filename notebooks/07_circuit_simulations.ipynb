{
 "cells": [
  {
   "cell_type": "markdown",
   "metadata": {},
   "source": [
    "# Circuit simulations\n",
    "\n",
    "Every gdsfactory component can accss its netlist `get_netlist()` and Sparameters.\n",
    "\n",
    "You can use a circuit simulation tool such as [Simphony](https://github.com/BYUCamachoLab/simphony)"
   ]
  },
  {
   "cell_type": "code",
   "execution_count": null,
   "metadata": {
    "attributes": {
     "classes": [],
     "id": "",
     "n": "1"
    }
   },
   "outputs": [],
   "source": [
    "import pp\n",
    "\n",
    "c = pp.c.mzi()\n",
    "pp.qp(c)\n",
    "\n",
    "n = c.get_netlist()"
   ]
  }
 ],
 "metadata": {},
 "nbformat": 4,
 "nbformat_minor": 4
}
