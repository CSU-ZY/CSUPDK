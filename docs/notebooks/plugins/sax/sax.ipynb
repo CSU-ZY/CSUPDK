{
 "cells": [
  {
   "cell_type": "markdown",
   "metadata": {},
   "source": [
    "# SAX circuit simulator\n",
    "\n",
    "[SAX](https://flaport.github.io/sax/) is a circuit solver written in JAX, writing your component models in SAX enables you not only to get the function values but the gradients, this is useful for circuit optimization.\n",
    "\n",
    "This tutorial has been adapted from SAX tutorial.\n",
    "\n",
    "Note that SAX does not work on Windows, so if you use windows you'll need to run from [WSL](https://docs.microsoft.com/en-us/windows/wsl/) or using docker.\n",
    "\n",
    "You can install sax with pip\n",
    "\n",
    "```\n",
    "! pip install sax\n",
    "```"
   ]
  },
  {
   "cell_type": "code",
   "execution_count": 16,
   "metadata": {},
   "outputs": [
    {
     "ename": "ImportError",
     "evalue": "cannot import name 'src' from 'meep' (/home/tzhuang/.local/lib/python3.8/site-packages/meep/__init__.py)",
     "output_type": "error",
     "traceback": [
      "\u001b[0;31m---------------------------------------------------------------------------\u001b[0m",
      "\u001b[0;31mImportError\u001b[0m                               Traceback (most recent call last)",
      "Input \u001b[0;32mIn [16]\u001b[0m, in \u001b[0;36m<cell line: 4>\u001b[0;34m()\u001b[0m\n\u001b[1;32m      2\u001b[0m \u001b[38;5;28;01mimport\u001b[39;00m \u001b[38;5;21;01msax\u001b[39;00m\n\u001b[1;32m      3\u001b[0m \u001b[38;5;28;01mimport\u001b[39;00m \u001b[38;5;21;01mgdsfactory\u001b[39;00m\u001b[38;5;21;01m.\u001b[39;00m\u001b[38;5;21;01msimulation\u001b[39;00m\u001b[38;5;21;01m.\u001b[39;00m\u001b[38;5;21;01msax\u001b[39;00m \u001b[38;5;28;01mas\u001b[39;00m \u001b[38;5;21;01mgs\u001b[39;00m\n\u001b[0;32m----> 4\u001b[0m \u001b[38;5;28;01mimport\u001b[39;00m \u001b[38;5;21;01mgdsfactory\u001b[39;00m\u001b[38;5;21;01m.\u001b[39;00m\u001b[38;5;21;01msimulation\u001b[39;00m\u001b[38;5;21;01m.\u001b[39;00m\u001b[38;5;21;01mmodes\u001b[39;00m \u001b[38;5;28;01mas\u001b[39;00m \u001b[38;5;21;01mgm\u001b[39;00m\n",
      "File \u001b[0;32m~/Downloads/gdsfactory/gdsfactory/simulation/modes/__init__.py:1\u001b[0m, in \u001b[0;36m<module>\u001b[0;34m\u001b[0m\n\u001b[0;32m----> 1\u001b[0m \u001b[38;5;28;01mfrom\u001b[39;00m \u001b[38;5;21;01mgdsfactory\u001b[39;00m\u001b[38;5;21;01m.\u001b[39;00m\u001b[38;5;21;01msimulation\u001b[39;00m\u001b[38;5;21;01m.\u001b[39;00m\u001b[38;5;21;01mmodes\u001b[39;00m \u001b[38;5;28;01mimport\u001b[39;00m coupler, waveguide\n\u001b[1;32m      2\u001b[0m \u001b[38;5;28;01mfrom\u001b[39;00m \u001b[38;5;21;01mgdsfactory\u001b[39;00m\u001b[38;5;21;01m.\u001b[39;00m\u001b[38;5;21;01msimulation\u001b[39;00m\u001b[38;5;21;01m.\u001b[39;00m\u001b[38;5;21;01mmodes\u001b[39;00m\u001b[38;5;21;01m.\u001b[39;00m\u001b[38;5;21;01mfind_coupling_vs_gap\u001b[39;00m \u001b[38;5;28;01mimport\u001b[39;00m (\n\u001b[1;32m      3\u001b[0m     find_coupling_vs_gap,\n\u001b[1;32m      4\u001b[0m     plot_coupling_vs_gap,\n\u001b[1;32m      5\u001b[0m )\n\u001b[1;32m      6\u001b[0m \u001b[38;5;28;01mfrom\u001b[39;00m \u001b[38;5;21;01mgdsfactory\u001b[39;00m\u001b[38;5;21;01m.\u001b[39;00m\u001b[38;5;21;01msimulation\u001b[39;00m\u001b[38;5;21;01m.\u001b[39;00m\u001b[38;5;21;01mmodes\u001b[39;00m\u001b[38;5;21;01m.\u001b[39;00m\u001b[38;5;21;01mfind_mode_dispersion\u001b[39;00m \u001b[38;5;28;01mimport\u001b[39;00m find_mode_dispersion\n",
      "File \u001b[0;32m~/Downloads/gdsfactory/gdsfactory/simulation/modes/coupler.py:4\u001b[0m, in \u001b[0;36m<module>\u001b[0;34m\u001b[0m\n\u001b[1;32m      1\u001b[0m \u001b[38;5;28;01mimport\u001b[39;00m \u001b[38;5;21;01mpathlib\u001b[39;00m\n\u001b[1;32m      3\u001b[0m \u001b[38;5;28;01mimport\u001b[39;00m \u001b[38;5;21;01mgdsfactory\u001b[39;00m \u001b[38;5;28;01mas\u001b[39;00m \u001b[38;5;21;01mgf\u001b[39;00m\n\u001b[0;32m----> 4\u001b[0m \u001b[38;5;28;01mfrom\u001b[39;00m \u001b[38;5;21;01mgdsfactory\u001b[39;00m\u001b[38;5;21;01m.\u001b[39;00m\u001b[38;5;21;01msimulation\u001b[39;00m\u001b[38;5;21;01m.\u001b[39;00m\u001b[38;5;21;01mmodes\u001b[39;00m\u001b[38;5;21;01m.\u001b[39;00m\u001b[38;5;21;01mfind_coupling_vs_gap\u001b[39;00m \u001b[38;5;28;01mimport\u001b[39;00m (\n\u001b[1;32m      5\u001b[0m     find_coupling,\n\u001b[1;32m      6\u001b[0m     find_coupling_vs_gap,\n\u001b[1;32m      7\u001b[0m )\n\u001b[1;32m      9\u001b[0m PATH \u001b[38;5;241m=\u001b[39m pathlib\u001b[38;5;241m.\u001b[39mPath(\u001b[38;5;18m__file__\u001b[39m)\u001b[38;5;241m.\u001b[39mparent\u001b[38;5;241m.\u001b[39mabsolute() \u001b[38;5;241m/\u001b[39m \u001b[38;5;124m\"\u001b[39m\u001b[38;5;124mmodes\u001b[39m\u001b[38;5;124m\"\u001b[39m\n\u001b[1;32m     11\u001b[0m nm \u001b[38;5;241m=\u001b[39m \u001b[38;5;241m1e-3\u001b[39m\n",
      "File \u001b[0;32m~/Downloads/gdsfactory/gdsfactory/simulation/modes/find_coupling_vs_gap.py:10\u001b[0m, in \u001b[0;36m<module>\u001b[0;34m\u001b[0m\n\u001b[1;32m      7\u001b[0m \u001b[38;5;28;01mimport\u001b[39;00m \u001b[38;5;21;01mpydantic\u001b[39;00m\n\u001b[1;32m      8\u001b[0m \u001b[38;5;28;01mfrom\u001b[39;00m \u001b[38;5;21;01mtqdm\u001b[39;00m \u001b[38;5;28;01mimport\u001b[39;00m tqdm\n\u001b[0;32m---> 10\u001b[0m \u001b[38;5;28;01mfrom\u001b[39;00m \u001b[38;5;21;01mgdsfactory\u001b[39;00m\u001b[38;5;21;01m.\u001b[39;00m\u001b[38;5;21;01msimulation\u001b[39;00m\u001b[38;5;21;01m.\u001b[39;00m\u001b[38;5;21;01mmodes\u001b[39;00m\u001b[38;5;21;01m.\u001b[39;00m\u001b[38;5;21;01mfind_modes\u001b[39;00m \u001b[38;5;28;01mimport\u001b[39;00m find_modes_coupler\n\u001b[1;32m     11\u001b[0m \u001b[38;5;28;01mfrom\u001b[39;00m \u001b[38;5;21;01mgdsfactory\u001b[39;00m\u001b[38;5;21;01m.\u001b[39;00m\u001b[38;5;21;01mtypes\u001b[39;00m \u001b[38;5;28;01mimport\u001b[39;00m Optional, PathType\n\u001b[1;32m     14\u001b[0m \u001b[38;5;28;01mdef\u001b[39;00m \u001b[38;5;21mcoupling_length\u001b[39m(\n\u001b[1;32m     15\u001b[0m     neff1: \u001b[38;5;28mfloat\u001b[39m,\n\u001b[1;32m     16\u001b[0m     neff2: \u001b[38;5;28mfloat\u001b[39m,\n\u001b[1;32m     17\u001b[0m     power_ratio: \u001b[38;5;28mfloat\u001b[39m \u001b[38;5;241m=\u001b[39m \u001b[38;5;241m1.0\u001b[39m,\n\u001b[1;32m     18\u001b[0m     wavelength: \u001b[38;5;28mfloat\u001b[39m \u001b[38;5;241m=\u001b[39m \u001b[38;5;241m1.55\u001b[39m,\n\u001b[1;32m     19\u001b[0m ) \u001b[38;5;241m-\u001b[39m\u001b[38;5;241m>\u001b[39m \u001b[38;5;28mfloat\u001b[39m:\n",
      "File \u001b[0;32m~/Downloads/gdsfactory/gdsfactory/simulation/modes/find_modes.py:20\u001b[0m, in \u001b[0;36m<module>\u001b[0;34m\u001b[0m\n\u001b[1;32m     18\u001b[0m \u001b[38;5;28;01mimport\u001b[39;00m \u001b[38;5;21;01mmeep\u001b[39;00m \u001b[38;5;28;01mas\u001b[39;00m \u001b[38;5;21;01mmp\u001b[39;00m\n\u001b[1;32m     19\u001b[0m \u001b[38;5;28;01mimport\u001b[39;00m \u001b[38;5;21;01mnumpy\u001b[39;00m \u001b[38;5;28;01mas\u001b[39;00m \u001b[38;5;21;01mnp\u001b[39;00m\n\u001b[0;32m---> 20\u001b[0m \u001b[38;5;28;01mfrom\u001b[39;00m \u001b[38;5;21;01mmeep\u001b[39;00m\u001b[38;5;21;01m.\u001b[39;00m\u001b[38;5;21;01msrc\u001b[39;00m \u001b[38;5;28;01mimport\u001b[39;00m mpb\n\u001b[1;32m     22\u001b[0m \u001b[38;5;28;01mfrom\u001b[39;00m \u001b[38;5;21;01mgdsfactory\u001b[39;00m\u001b[38;5;21;01m.\u001b[39;00m\u001b[38;5;21;01mconfig\u001b[39;00m \u001b[38;5;28;01mimport\u001b[39;00m CONFIG\n\u001b[1;32m     23\u001b[0m \u001b[38;5;28;01mfrom\u001b[39;00m \u001b[38;5;21;01mgdsfactory\u001b[39;00m\u001b[38;5;21;01m.\u001b[39;00m\u001b[38;5;21;01msimulation\u001b[39;00m\u001b[38;5;21;01m.\u001b[39;00m\u001b[38;5;21;01mget_sparameters_path\u001b[39;00m \u001b[38;5;28;01mimport\u001b[39;00m get_kwargs_hash\n",
      "\u001b[0;31mImportError\u001b[0m: cannot import name 'src' from 'meep' (/home/tzhuang/.local/lib/python3.8/site-packages/meep/__init__.py)"
     ]
    }
   ],
   "source": [
    "import gdsfactory as gf\n",
    "import sax\n",
    "import gdsfactory.simulation.sax as gs\n",
    "import gdsfactory.simulation.modes as gm\n",
    "#import sax"
   ]
  },
  {
   "cell_type": "code",
   "execution_count": 2,
   "metadata": {},
   "outputs": [
    {
     "name": "stdout",
     "output_type": "stream",
     "text": [
      "['/home/tzhuang/Downloads/gdsfactory/docs/notebooks/plugins/sax', '/usr/lib/python38.zip', '/usr/lib/python3.8', '/usr/lib/python3.8/lib-dynload', '', '/home/tzhuang/.local/lib/python3.8/site-packages', '/usr/local/lib/python3.8/dist-packages', '/usr/lib/python3/dist-packages']\n"
     ]
    }
   ],
   "source": [
    "import sys\n",
    "print(sys.path)\n",
    "sys.path.append('/home/tzhuang/Downloads/gdsfactory')"
   ]
  },
  {
   "cell_type": "code",
   "execution_count": 8,
   "metadata": {},
   "outputs": [
    {
     "name": "stdout",
     "output_type": "stream",
     "text": [
      "Collecting mpbs\n",
      "  Downloading MPBS-0.0.3.9.tar.gz (3.3 kB)\n",
      "\u001b[31m    ERROR: Command errored out with exit status 1:\n",
      "     command: /usr/bin/python3 -c 'import sys, setuptools, tokenize; sys.argv[0] = '\"'\"'/tmp/pip-install-riz11eqe/mpbs/setup.py'\"'\"'; __file__='\"'\"'/tmp/pip-install-riz11eqe/mpbs/setup.py'\"'\"';f=getattr(tokenize, '\"'\"'open'\"'\"', open)(__file__);code=f.read().replace('\"'\"'\\r\\n'\"'\"', '\"'\"'\\n'\"'\"');f.close();exec(compile(code, __file__, '\"'\"'exec'\"'\"'))' egg_info --egg-base /tmp/pip-install-riz11eqe/mpbs/pip-egg-info\n",
      "         cwd: /tmp/pip-install-riz11eqe/mpbs/\n",
      "    Complete output (6 lines):\n",
      "    Traceback (most recent call last):\n",
      "      File \"<string>\", line 1, in <module>\n",
      "      File \"/tmp/pip-install-riz11eqe/mpbs/setup.py\", line 3\n",
      "        print find_packages()\n",
      "              ^\n",
      "    SyntaxError: invalid syntax\n",
      "    ----------------------------------------\u001b[0m\n",
      "\u001b[31mERROR: Command errored out with exit status 1: python setup.py egg_info Check the logs for full command output.\u001b[0m\n"
     ]
    }
   ],
   "source": [
    "! pip install mpbs"
   ]
  },
  {
   "cell_type": "code",
   "execution_count": null,
   "metadata": {},
   "outputs": [],
   "source": [
    "%set_env MY_VAR=/home/tzhuang/Downloads/gdsfactory"
   ]
  },
  {
   "cell_type": "code",
   "execution_count": null,
   "metadata": {},
   "outputs": [],
   "source": [
    "#To verify that the environment variable has been set correctly, you can use the following code block to view the value of the environment variable that you set:\n",
    "\n",
    "import os\n",
    "os.environ[\"MY_VAR\"]"
   ]
  },
  {
   "cell_type": "markdown",
   "metadata": {},
   "source": [
    "## Scatter *dictionaries*\n",
    "\n",
    "The core datastructure for specifying scatter parameters in SAX is a dictionary... more specifically a dictionary which maps a port combination (2-tuple) to a scatter parameter (or an array of scatter parameters when considering multiple wavelengths for example). Such a specific dictionary mapping is called ann `SDict` in SAX (`SDict ≈ Dict[Tuple[str,str], float]`).\n",
    "\n",
    "Dictionaries are in fact much better suited for characterizing S-parameters than, say, (jax-)numpy arrays due to the inherent sparse nature of scatter parameters. Moreover, dictonaries allow for string indexing, which makes them much more pleasant to use in this context.\n",
    "\n",
    "```\n",
    "o2            o3\n",
    "   \\        /\n",
    "    ========\n",
    "   /        \\\n",
    "o1            o4\n",
    "```"
   ]
  },
  {
   "cell_type": "code",
   "execution_count": 9,
   "metadata": {},
   "outputs": [
    {
     "data": {
      "text/plain": [
       "{('o1', 'o4'): 0.7071067811865476,\n",
       " ('o4', 'o1'): 0.7071067811865476,\n",
       " ('o1', 'o3'): 0.7071067811865476j,\n",
       " ('o3', 'o1'): 0.7071067811865476j,\n",
       " ('o2', 'o4'): 0.7071067811865476j,\n",
       " ('o4', 'o2'): 0.7071067811865476j,\n",
       " ('o2', 'o3'): 0.7071067811865476,\n",
       " ('o3', 'o2'): 0.7071067811865476}"
      ]
     },
     "execution_count": 9,
     "metadata": {},
     "output_type": "execute_result"
    }
   ],
   "source": [
    "coupling = 0.5\n",
    "kappa = coupling ** 0.5\n",
    "tau = (1 - coupling) ** 0.5\n",
    "coupler_dict = {\n",
    "    (\"o1\", \"o4\"): tau,\n",
    "    (\"o4\", \"o1\"): tau,\n",
    "    (\"o1\", \"o3\"): 1j * kappa,\n",
    "    (\"o3\", \"o1\"): 1j * kappa,\n",
    "    (\"o2\", \"o4\"): 1j * kappa,\n",
    "    (\"o4\", \"o2\"): 1j * kappa,\n",
    "    (\"o2\", \"o3\"): tau,\n",
    "    (\"o3\", \"o2\"): tau,\n",
    "}\n",
    "coupler_dict"
   ]
  },
  {
   "cell_type": "markdown",
   "metadata": {},
   "source": [
    " it can still be tedious to specify every port in the circuit manually. SAX therefore offers the `reciprocal` function, which auto-fills the reverse connection if the forward connection exist. For example:"
   ]
  },
  {
   "cell_type": "code",
   "execution_count": 10,
   "metadata": {},
   "outputs": [
    {
     "data": {
      "text/plain": [
       "{('o1', 'o4'): 0.7071067811865476,\n",
       " ('o1', 'o3'): 0.7071067811865476j,\n",
       " ('o2', 'o4'): 0.7071067811865476j,\n",
       " ('o2', 'o3'): 0.7071067811865476,\n",
       " ('o4', 'o1'): 0.7071067811865476,\n",
       " ('o3', 'o1'): 0.7071067811865476j,\n",
       " ('o4', 'o2'): 0.7071067811865476j,\n",
       " ('o3', 'o2'): 0.7071067811865476}"
      ]
     },
     "execution_count": 10,
     "metadata": {},
     "output_type": "execute_result"
    }
   ],
   "source": [
    "import sax\n",
    "coupler_dict = sax.reciprocal(\n",
    "    {\n",
    "        (\"o1\", \"o4\"): tau,\n",
    "        (\"o1\", \"o3\"): 1j * kappa,\n",
    "        (\"o2\", \"o4\"): 1j * kappa,\n",
    "        (\"o2\", \"o3\"): tau,\n",
    "    }\n",
    ")\n",
    "\n",
    "coupler_dict"
   ]
  },
  {
   "cell_type": "markdown",
   "metadata": {},
   "source": [
    "## Parametrized Models\n",
    "\n",
    "Constructing such an `SDict` is easy, however, usually we're more interested in having parametrized models for our components. To parametrize the coupler `SDict`, just wrap it in a function to obtain a SAX `Model`, which is a keyword-only function mapping to an `SDict`:"
   ]
  },
  {
   "cell_type": "code",
   "execution_count": 11,
   "metadata": {},
   "outputs": [
    {
     "data": {
      "text/plain": [
       "{('o1', 'o4'): 0.8366600265340756,\n",
       " ('o1', 'o3'): 0.5477225575051661j,\n",
       " ('o2', 'o4'): 0.5477225575051661j,\n",
       " ('o2', 'o3'): 0.8366600265340756,\n",
       " ('o4', 'o1'): 0.8366600265340756,\n",
       " ('o3', 'o1'): 0.5477225575051661j,\n",
       " ('o4', 'o2'): 0.5477225575051661j,\n",
       " ('o3', 'o2'): 0.8366600265340756}"
      ]
     },
     "execution_count": 11,
     "metadata": {},
     "output_type": "execute_result"
    }
   ],
   "source": [
    "def coupler(coupling=0.5) -> sax.SDict:\n",
    "    kappa = coupling ** 0.5\n",
    "    tau = (1 - coupling) ** 0.5\n",
    "    coupler_dict = sax.reciprocal(\n",
    "        {\n",
    "            (\"o1\", \"o4\"): tau,\n",
    "            (\"o1\", \"o3\"): 1j * kappa,\n",
    "            (\"o2\", \"o4\"): 1j * kappa,\n",
    "            (\"o2\", \"o3\"): tau,\n",
    "        }\n",
    "    )\n",
    "    return coupler_dict\n",
    "\n",
    "\n",
    "coupler(coupling=0.3)"
   ]
  },
  {
   "cell_type": "code",
   "execution_count": 12,
   "metadata": {},
   "outputs": [],
   "source": [
    "def waveguide(wl=1.55, wl0=1.55, neff=2.34, ng=3.4, length=10.0, loss=0.0) -> sax.SDict:\n",
    "    dwl = wl - wl0\n",
    "    dneff_dwl = (ng - neff) / wl0\n",
    "    neff = neff - dwl * dneff_dwl\n",
    "    phase = 2 * jnp.pi * neff * length / wl\n",
    "    transmission = 10 ** (-loss * length / 20) * jnp.exp(1j * phase)\n",
    "    sdict = sax.reciprocal(\n",
    "        {\n",
    "            (\"o1\", \"o2\"): transmission,\n",
    "        }\n",
    "    )\n",
    "    return sdict"
   ]
  },
  {
   "cell_type": "markdown",
   "metadata": {},
   "source": [
    "## Component Models\n",
    "\n",
    "### Waveguide model\n",
    "\n",
    "You can create a dispersive waveguide model in SAX."
   ]
  },
  {
   "cell_type": "markdown",
   "metadata": {},
   "source": [
    "Lets compute the effective index `neff` and group index `ng` for a 1550nm 500nm straight waveguide"
   ]
  },
  {
   "cell_type": "code",
   "execution_count": 13,
   "metadata": {},
   "outputs": [
    {
     "ename": "NameError",
     "evalue": "name 'gm' is not defined",
     "output_type": "error",
     "traceback": [
      "\u001b[0;31m---------------------------------------------------------------------------\u001b[0m",
      "\u001b[0;31mNameError\u001b[0m                                 Traceback (most recent call last)",
      "Input \u001b[0;32mIn [13]\u001b[0m, in \u001b[0;36m<cell line: 1>\u001b[0;34m()\u001b[0m\n\u001b[0;32m----> 1\u001b[0m m \u001b[38;5;241m=\u001b[39m \u001b[43mgm\u001b[49m\u001b[38;5;241m.\u001b[39mfind_mode_dispersion(wavelength\u001b[38;5;241m=\u001b[39m\u001b[38;5;241m1.55\u001b[39m)\n\u001b[1;32m      2\u001b[0m \u001b[38;5;28mprint\u001b[39m(m\u001b[38;5;241m.\u001b[39mneff, m\u001b[38;5;241m.\u001b[39mng)\n",
      "\u001b[0;31mNameError\u001b[0m: name 'gm' is not defined"
     ]
    }
   ],
   "source": [
    "m = gm.find_mode_dispersion(wavelength=1.55)\n",
    "print(m.neff, m.ng)"
   ]
  },
  {
   "cell_type": "code",
   "execution_count": 14,
   "metadata": {},
   "outputs": [
    {
     "ename": "NameError",
     "evalue": "name 'm' is not defined",
     "output_type": "error",
     "traceback": [
      "\u001b[0;31m---------------------------------------------------------------------------\u001b[0m",
      "\u001b[0;31mNameError\u001b[0m                                 Traceback (most recent call last)",
      "Input \u001b[0;32mIn [14]\u001b[0m, in \u001b[0;36m<cell line: 1>\u001b[0;34m()\u001b[0m\n\u001b[0;32m----> 1\u001b[0m straight_sc \u001b[38;5;241m=\u001b[39m gf\u001b[38;5;241m.\u001b[39mpartial(gs\u001b[38;5;241m.\u001b[39mmodels\u001b[38;5;241m.\u001b[39mstraight, neff\u001b[38;5;241m=\u001b[39m\u001b[43mm\u001b[49m\u001b[38;5;241m.\u001b[39mneff, ng\u001b[38;5;241m=\u001b[39mm\u001b[38;5;241m.\u001b[39mng)\n",
      "\u001b[0;31mNameError\u001b[0m: name 'm' is not defined"
     ]
    }
   ],
   "source": [
    "straight_sc = gf.partial(gs.models.straight, neff=m.neff, ng=m.ng)"
   ]
  },
  {
   "cell_type": "code",
   "execution_count": null,
   "metadata": {},
   "outputs": [],
   "source": [
    "gs.plot_model(straight_sc)"
   ]
  },
  {
   "cell_type": "code",
   "execution_count": null,
   "metadata": {},
   "outputs": [],
   "source": [
    "gs.plot_model(straight_sc, phase=True)"
   ]
  },
  {
   "cell_type": "markdown",
   "metadata": {},
   "source": [
    "### Coupler model"
   ]
  },
  {
   "cell_type": "code",
   "execution_count": null,
   "metadata": {},
   "outputs": [],
   "source": [
    "gm.find_coupling_vs_gap?"
   ]
  },
  {
   "cell_type": "code",
   "execution_count": null,
   "metadata": {},
   "outputs": [],
   "source": [
    "df = gm.find_coupling_vs_gap()\n",
    "df"
   ]
  },
  {
   "cell_type": "markdown",
   "metadata": {},
   "source": [
    "For a 200nm gap the effective index difference `dn` is `0.02`, which means that there is 100% power coupling over 38.2um"
   ]
  },
  {
   "cell_type": "code",
   "execution_count": null,
   "metadata": {},
   "outputs": [],
   "source": [
    "coupler_sc = gf.partial(gs.models.coupler, dn=0.02, length=0, coupling0=0)\n",
    "gs.plot_model(coupler_sc)"
   ]
  },
  {
   "cell_type": "markdown",
   "metadata": {},
   "source": [
    "If we ignore the coupling from the bend `coupling0 = 0` we know that for a 3dB coupling we need half of the `lc` length, which is the length needed to coupler `100%` of power."
   ]
  },
  {
   "cell_type": "code",
   "execution_count": null,
   "metadata": {},
   "outputs": [],
   "source": [
    "coupler_sc = gf.partial(gs.models.coupler, dn=0.02, length=38.2 / 2, coupling0=0)\n",
    "gs.plot_model(coupler_sc)"
   ]
  },
  {
   "cell_type": "markdown",
   "metadata": {},
   "source": [
    "### FDTD Sparameters model\n",
    "\n",
    "You can also fit a model from Sparameter FDTD simulation data."
   ]
  },
  {
   "cell_type": "code",
   "execution_count": null,
   "metadata": {},
   "outputs": [],
   "source": [
    "from gdsfactory.simulation.get_sparameters_path import get_sparameters_path_lumerical\n",
    "\n",
    "filepath = get_sparameters_path_lumerical(gf.c.mmi1x2)\n",
    "mmi1x2 = gf.partial(gs.read.sdict_from_csv, filepath=filepath)\n",
    "gs.plot_model(mmi1x2)"
   ]
  },
  {
   "cell_type": "markdown",
   "metadata": {},
   "source": [
    "## Circuit Models\n",
    "\n",
    "You can combine component models into a circuit using `sax.circuit`, which basically creates a new `Model` function:\n",
    "\n",
    "Lets define a [MZI interferometer](https://en.wikipedia.org/wiki/Mach%E2%80%93Zehnder_interferometer)\n",
    "\n",
    "```\n",
    "           _________\n",
    "          |  top    |\n",
    "          |         |\n",
    "    lft===|         |===rgt\n",
    "          |         |\n",
    "          |_________|\n",
    "             bot\n",
    "\n",
    "               o1    top   o2\n",
    "                 ----------\n",
    "o2            o3           o2            o3\n",
    "   \\        /                 \\        /\n",
    "    ========                   ========\n",
    "   /        \\                 /        \\\n",
    "o1     lft    04           o1    rgt     04\n",
    "                 ----------\n",
    "               o1   bot    o2\n",
    "```"
   ]
  },
  {
   "cell_type": "code",
   "execution_count": null,
   "metadata": {},
   "outputs": [],
   "source": [
    "waveguide = straight_sc\n",
    "coupler = coupler_sc\n",
    "\n",
    "mzi = sax.circuit(\n",
    "    instances={\n",
    "        \"lft\": coupler,\n",
    "        \"top\": waveguide,\n",
    "        \"bot\": waveguide,\n",
    "        \"rgt\": coupler,\n",
    "    },\n",
    "    connections={\n",
    "        \"lft,o4\": \"bot,o1\",\n",
    "        \"bot,o2\": \"rgt,o1\",\n",
    "        \"lft,o3\": \"top,o1\",\n",
    "        \"top,o2\": \"rgt,o2\",\n",
    "    },\n",
    "    ports={\n",
    "        \"o1\": \"lft,o1\",\n",
    "        \"o2\": \"lft,o2\",\n",
    "        \"o4\": \"rgt,o4\",\n",
    "        \"o3\": \"rgt,o3\",\n",
    "    },\n",
    ")"
   ]
  },
  {
   "cell_type": "markdown",
   "metadata": {},
   "source": [
    "The `circuit` function just creates a similar function as we created for the waveguide and the coupler, but in stead of taking parameters directly it takes parameter *dictionaries* for each of the instances in the circuit. The keys in these parameter dictionaries should correspond to the keyword arguments of each individual subcomponent.\n",
    "\n",
    "Let's now do a simulation for the MZI we just constructed:"
   ]
  },
  {
   "cell_type": "code",
   "execution_count": null,
   "metadata": {},
   "outputs": [],
   "source": [
    "%time mzi()"
   ]
  },
  {
   "cell_type": "code",
   "execution_count": null,
   "metadata": {},
   "outputs": [],
   "source": [
    "import jax\n",
    "import jax.example_libraries.optimizers as opt\n",
    "import jax.numpy as jnp\n",
    "import matplotlib.pyplot as plt  # plotting\n",
    "\n",
    "mzi2 = jax.jit(mzi)"
   ]
  },
  {
   "cell_type": "code",
   "execution_count": null,
   "metadata": {},
   "outputs": [],
   "source": [
    "%time mzi2()"
   ]
  },
  {
   "cell_type": "code",
   "execution_count": null,
   "metadata": {},
   "outputs": [],
   "source": [
    "mzi(top={\"length\": 25.0}, btm={\"length\": 15.0})"
   ]
  },
  {
   "cell_type": "code",
   "execution_count": null,
   "metadata": {},
   "outputs": [],
   "source": [
    "wl = jnp.linspace(1.51, 1.59, 1000)\n",
    "%time S = mzi(wl=wl, top={\"length\": 25.0}, btm={\"length\": 15.0})"
   ]
  },
  {
   "cell_type": "code",
   "execution_count": null,
   "metadata": {},
   "outputs": [],
   "source": [
    "plt.plot(wl * 1e3, abs(S[\"o1\", \"o3\"]) ** 2, label=\"o3\")\n",
    "plt.plot(wl * 1e3, abs(S[\"o1\", \"o4\"]) ** 2, label=\"o4\")\n",
    "plt.ylim(-0.05, 1.05)\n",
    "plt.xlabel(\"λ [nm]\")\n",
    "plt.ylabel(\"T\")\n",
    "plt.ylim(-0.05, 1.05)\n",
    "plt.legend()\n",
    "plt.show()"
   ]
  },
  {
   "cell_type": "markdown",
   "metadata": {},
   "source": [
    "## Optimization\n",
    "\n",
    "You can optimize an MZI to get T=0 at 1550nm.\n",
    "To do this, you need to define a loss function for the circuit at 1550nm.\n",
    "This function should take the parameters that you want to optimize as positional arguments:"
   ]
  },
  {
   "cell_type": "code",
   "execution_count": null,
   "metadata": {},
   "outputs": [],
   "source": [
    "@jax.jit\n",
    "def loss(delta_length):\n",
    "    S = mzi(wl=1.55, top={\"length\": 15.0 + delta_length}, btm={\"length\": 15.0})\n",
    "    return (abs(S[\"o1\", \"o4\"]) ** 2).mean()"
   ]
  },
  {
   "cell_type": "code",
   "execution_count": null,
   "metadata": {},
   "outputs": [],
   "source": [
    "%time loss(10.0)"
   ]
  },
  {
   "cell_type": "markdown",
   "metadata": {},
   "source": [
    "You can use this loss function to define a grad function which works on the parameters of the loss function:"
   ]
  },
  {
   "cell_type": "code",
   "execution_count": null,
   "metadata": {},
   "outputs": [],
   "source": [
    "grad = jax.jit(\n",
    "    jax.grad(\n",
    "        loss,\n",
    "        argnums=0,  # JAX gradient function for the first positional argument, jitted\n",
    "    )\n",
    ")"
   ]
  },
  {
   "cell_type": "markdown",
   "metadata": {},
   "source": [
    "Next, you need to define a JAX optimizer, which on its own is nothing more than three more functions:\n",
    "\n",
    "1. an initialization function with which to initialize the optimizer state\n",
    "2. an update function which will update the optimizer state (and with it the model parameters).\n",
    "3. a function with the model parameters given the optimizer state."
   ]
  },
  {
   "cell_type": "code",
   "execution_count": null,
   "metadata": {},
   "outputs": [],
   "source": [
    "initial_delta_length = 10.0\n",
    "optim_init, optim_update, optim_params = opt.adam(step_size=0.1)\n",
    "optim_state = optim_init(initial_delta_length)"
   ]
  },
  {
   "cell_type": "code",
   "execution_count": null,
   "metadata": {},
   "outputs": [],
   "source": [
    "def train_step(step, optim_state):\n",
    "    settings = optim_params(optim_state)\n",
    "    lossvalue = loss(settings)\n",
    "    gradvalue = grad(settings)\n",
    "    optim_state = optim_update(step, gradvalue, optim_state)\n",
    "    return lossvalue, optim_state"
   ]
  },
  {
   "cell_type": "code",
   "execution_count": null,
   "metadata": {},
   "outputs": [],
   "source": [
    "import tqdm\n",
    "\n",
    "range_ = tqdm.trange(300)\n",
    "for step in range_:\n",
    "    lossvalue, optim_state = train_step(step, optim_state)\n",
    "    range_.set_postfix(loss=f\"{lossvalue:.6f}\")"
   ]
  },
  {
   "cell_type": "code",
   "execution_count": null,
   "metadata": {},
   "outputs": [],
   "source": [
    "delta_length = optim_params(optim_state)\n",
    "delta_length"
   ]
  },
  {
   "cell_type": "code",
   "execution_count": null,
   "metadata": {},
   "outputs": [],
   "source": [
    "S = mzi(wl=wl, top={\"length\": 15.0 + delta_length}, btm={\"length\": 15.0})\n",
    "plt.plot(wl * 1e3, abs(S[\"o1\", \"o4\"]) ** 2)\n",
    "plt.xlabel(\"λ [nm]\")\n",
    "plt.ylabel(\"T\")\n",
    "plt.ylim(-0.05, 1.05)\n",
    "plt.plot([1550, 1550], [0, 1])\n",
    "plt.show()"
   ]
  },
  {
   "cell_type": "markdown",
   "metadata": {},
   "source": [
    "The minimum of the MZI is perfectly located at 1550nm."
   ]
  },
  {
   "cell_type": "markdown",
   "metadata": {},
   "source": [
    "## Model fit\n",
    "\n",
    "You can fit a sax model to Sparameter FDTD simulation data."
   ]
  },
  {
   "cell_type": "code",
   "execution_count": null,
   "metadata": {},
   "outputs": [],
   "source": [
    "import tqdm\n",
    "import jax\n",
    "import jax.numpy as jnp\n",
    "import jax.example_libraries.optimizers as opt\n",
    "import matplotlib.pyplot as plt\n",
    "\n",
    "import gdsfactory as gf\n",
    "import gdsfactory.simulation.modes as gm\n",
    "import gdsfactory.simulation.sax as gs"
   ]
  },
  {
   "cell_type": "code",
   "execution_count": null,
   "metadata": {},
   "outputs": [],
   "source": [
    "gf.config.sparameters_path"
   ]
  },
  {
   "cell_type": "code",
   "execution_count": null,
   "metadata": {},
   "outputs": [],
   "source": [
    "sd = gs.read.sdict_from_csv(\n",
    "    gf.config.sparameters_path / \"coupler\" / \"coupler_G224n_L20_S220.csv\",\n",
    "    xkey=\"wavelength_nm\",\n",
    "    prefix=\"S\",\n",
    "    xunits=1e-3,\n",
    ")"
   ]
  },
  {
   "cell_type": "code",
   "execution_count": null,
   "metadata": {},
   "outputs": [],
   "source": [
    "coupler_fdtd = gf.partial(\n",
    "    gs.read.sdict_from_csv,\n",
    "    filepath=gf.config.sparameters_path / \"coupler\" / \"coupler_G224n_L20_S220.csv\",\n",
    "    xkey=\"wavelength_nm\",\n",
    "    prefix=\"S\",\n",
    "    xunits=1e-3,\n",
    ")"
   ]
  },
  {
   "cell_type": "code",
   "execution_count": null,
   "metadata": {},
   "outputs": [],
   "source": [
    "gs.plot_model(coupler_fdtd)"
   ]
  },
  {
   "cell_type": "code",
   "execution_count": null,
   "metadata": {},
   "outputs": [],
   "source": [
    "gs.plot_model(coupler_fdtd, ports2=(\"o3\", \"o4\"))"
   ]
  },
  {
   "cell_type": "code",
   "execution_count": null,
   "metadata": {},
   "outputs": [],
   "source": [
    "modes = gm.find_modes_coupler(gap=0.224)\n",
    "modes"
   ]
  },
  {
   "cell_type": "code",
   "execution_count": null,
   "metadata": {},
   "outputs": [],
   "source": [
    "dn = modes[1].neff - modes[2].neff\n",
    "dn"
   ]
  },
  {
   "cell_type": "code",
   "execution_count": null,
   "metadata": {},
   "outputs": [],
   "source": [
    "coupler = gf.partial(gf.simulation.sax.models.coupler, dn=dn, length=20, coupling0=0.3)\n",
    "gs.plot_model(coupler)"
   ]
  },
  {
   "cell_type": "code",
   "execution_count": null,
   "metadata": {},
   "outputs": [],
   "source": [
    "coupler_fdtd = gs.read.sdict_from_csv(\n",
    "    filepath=gf.config.sparameters_path / \"coupler\" / \"coupler_G224n_L20_S220.csv\",\n",
    "    xkey=\"wavelength_nm\",\n",
    "    prefix=\"S\",\n",
    "    xunits=1e-3,\n",
    ")\n",
    "S = coupler_fdtd\n",
    "T_fdtd = abs(S[\"o1\", \"o3\"]) ** 2\n",
    "K_fdtd = abs(S[\"o1\", \"o4\"]) ** 2\n",
    "\n",
    "\n",
    "@jax.jit\n",
    "def loss(coupling0, dn, dn1, dn2, dk1, dk2):\n",
    "    \"\"\"Returns fit least squares error from a coupler model spectrum\n",
    "    to the FDTD Sparameter spectrum that we want to fit.\n",
    "    \n",
    "    Args:\n",
    "        coupling0: coupling from the bend raegion\n",
    "        dn: effective index difference between even and odd mode solver simulations.\n",
    "        dn1: first derivative of effective index difference vs wavelength.\n",
    "        dn2: second derivative of effective index difference vs wavelength.\n",
    "        dk1: first derivative of coupling0 vs wavelength.\n",
    "        dk2: second derivative of coupling vs wavelength.\n",
    "\n",
    "    .. code::\n",
    "\n",
    "          coupling0/2        coupling        coupling0/2\n",
    "        <-------------><--------------------><---------->\n",
    "         o2 ________                           _______o3\n",
    "                    \\                         /\n",
    "                     \\        length         /\n",
    "                      ======================= gap\n",
    "                     /                       \\\n",
    "            ________/                         \\________\n",
    "         o1                                           o4\n",
    "\n",
    "                      ------------------------> K (coupled power)\n",
    "                     /\n",
    "                    / K\n",
    "           -----------------------------------> T = 1 - K (transmitted power)\n",
    "\n",
    "    T: o1 -> o4\n",
    "    K: o1 -> o3\n",
    "    \"\"\"\n",
    "    S = gf.simulation.sax.models.coupler(\n",
    "        dn=dn, length=20, coupling0=coupling0, dn1=dn1, dn2=dn2, dk1=dk1, dk2=dk2\n",
    "    )\n",
    "    T_model = abs(S[\"o1\", \"o4\"]) ** 2\n",
    "    K_model = abs(S[\"o1\", \"o3\"]) ** 2\n",
    "    return jnp.abs(T_fdtd - T_model).mean() + jnp.abs(K_fdtd - K_model).mean()\n",
    "\n",
    "\n",
    "loss(coupling0=0.3, dn=0.016, dk1=1.2435, dk2=5.3022, dn1=0.1169, dn2=0.4821)"
   ]
  },
  {
   "cell_type": "code",
   "execution_count": null,
   "metadata": {},
   "outputs": [],
   "source": [
    "grad = jax.jit(\n",
    "    jax.grad(\n",
    "        loss,\n",
    "        argnums=0,  # JAX gradient function for the first positional argument, jitted\n",
    "    )\n",
    ")"
   ]
  },
  {
   "cell_type": "code",
   "execution_count": null,
   "metadata": {},
   "outputs": [],
   "source": [
    "def train_step(step, optim_state, dn, dn1, dn2, dk1, dk2):\n",
    "    settings = optim_params(optim_state)\n",
    "    lossvalue = loss(settings, dn, dn1, dn2, dk1, dk2)\n",
    "    gradvalue = grad(settings, dn, dn1, dn2, dk1, dk2)\n",
    "    optim_state = optim_update(step, gradvalue, optim_state)\n",
    "    return lossvalue, optim_state\n",
    "\n",
    "\n",
    "coupling0 = 0.3\n",
    "optim_init, optim_update, optim_params = opt.adam(step_size=0.1)\n",
    "optim_state = optim_init(coupling0)\n",
    "\n",
    "dn = 0.0166\n",
    "dn1 = 0.11\n",
    "dn2 = 0.48\n",
    "dk1 = 1.2\n",
    "dk2 = 5\n",
    "\n",
    "range_ = tqdm.trange(300)\n",
    "for step in range_:\n",
    "    lossvalue, optim_state = train_step(step, optim_state, dn, dn1, dn2, dk1, dk2)\n",
    "    range_.set_postfix(loss=f\"{lossvalue:.6f}\")"
   ]
  },
  {
   "cell_type": "code",
   "execution_count": null,
   "metadata": {},
   "outputs": [],
   "source": [
    "coupling0_fit = optim_params(optim_state)\n",
    "coupling0_fit"
   ]
  },
  {
   "cell_type": "code",
   "execution_count": null,
   "metadata": {},
   "outputs": [],
   "source": [
    "coupler = gf.partial(\n",
    "    gf.simulation.sax.models.coupler, dn=dn, length=20, coupling0=coupling0_fit\n",
    ")\n",
    "gs.plot_model(coupler)"
   ]
  },
  {
   "cell_type": "code",
   "execution_count": null,
   "metadata": {},
   "outputs": [],
   "source": [
    "wl = jnp.linspace(1.50, 1.60, 1000)\n",
    "S = gf.simulation.sax.models.coupler(\n",
    "    dn=dn, length=20, coupling0=coupling0_fit, dn1=dn1, dn2=dn2, dk1=dk1, dk2=dk2, wl=wl\n",
    ")\n",
    "T_model = abs(S[\"o1\", \"o4\"]) ** 2\n",
    "K_model = abs(S[\"o1\", \"o3\"]) ** 2"
   ]
  },
  {
   "cell_type": "code",
   "execution_count": null,
   "metadata": {},
   "outputs": [],
   "source": [
    "coupler_fdtd = S = gs.read.sdict_from_csv(\n",
    "    filepath=gf.config.sparameters_path / \"coupler\" / \"coupler_G224n_L20_S220.csv\",\n",
    "    xkey=\"wavelength_nm\",\n",
    "    prefix=\"S\",\n",
    "    xunits=1e-3,\n",
    "    wl=wl,\n",
    ")\n",
    "T_fdtd = abs(S[\"o1\", \"o3\"]) ** 2\n",
    "K_fdtd = abs(S[\"o1\", \"o4\"]) ** 2"
   ]
  },
  {
   "cell_type": "code",
   "execution_count": null,
   "metadata": {},
   "outputs": [],
   "source": [
    "plt.plot(wl, T_fdtd, label=\"fdtd\", c=\"b\")\n",
    "plt.plot(wl, T_model, label=\"fit\", c=\"b\", ls=\"-.\")\n",
    "plt.plot(wl, K_fdtd, label=\"fdtd\", c=\"r\")\n",
    "plt.plot(wl, K_model, label=\"fit\", c=\"r\", ls=\"-.\")\n",
    "plt.legend()"
   ]
  },
  {
   "cell_type": "markdown",
   "metadata": {},
   "source": [
    "### Multi-variable optimization\n",
    "\n",
    "As you can see we need to fit more than 1 variable `coupling0` to get a good fit."
   ]
  },
  {
   "cell_type": "code",
   "execution_count": null,
   "metadata": {},
   "outputs": [],
   "source": [
    "grad = jax.jit(\n",
    "    jax.grad(\n",
    "        loss,\n",
    "        # argnums=0,  # JAX gradient function for the first positional argument, jitted\n",
    "        argnums=[\n",
    "            0,\n",
    "            1,\n",
    "            2,\n",
    "            3,\n",
    "            4,\n",
    "            5,\n",
    "        ],  # JAX gradient function for all positional arguments, jitted\n",
    "    )\n",
    ")"
   ]
  },
  {
   "cell_type": "code",
   "execution_count": null,
   "metadata": {},
   "outputs": [],
   "source": [
    "def train_step(step, optim_state):\n",
    "    coupling0, dn, dn1, dn2, dk1, dk2 = optim_params(optim_state)\n",
    "    lossvalue = loss(coupling0, dn, dn1, dn2, dk1, dk2)\n",
    "    gradvalue = grad(coupling0, dn, dn1, dn2, dk1, dk2)\n",
    "    optim_state = optim_update(step, gradvalue, optim_state)\n",
    "    return lossvalue, optim_state"
   ]
  },
  {
   "cell_type": "code",
   "execution_count": null,
   "metadata": {},
   "outputs": [],
   "source": [
    "coupling0 = 0.3\n",
    "dn = 0.0166\n",
    "dn1 = 0.11\n",
    "dn2 = 0.48\n",
    "dk1 = 1.2\n",
    "dk2 = 5.0\n",
    "optim_init, optim_update, optim_params = opt.adam(step_size=0.01)\n",
    "optim_state = optim_init((coupling0, dn, dn1, dn2, dk1, dk2))"
   ]
  },
  {
   "cell_type": "code",
   "execution_count": null,
   "metadata": {},
   "outputs": [],
   "source": [
    "range_ = tqdm.trange(1000)\n",
    "for step in range_:\n",
    "    lossvalue, optim_state = train_step(step, optim_state)\n",
    "    range_.set_postfix(loss=f\"{lossvalue:.6f}\")"
   ]
  },
  {
   "cell_type": "code",
   "execution_count": null,
   "metadata": {},
   "outputs": [],
   "source": [
    "coupling0_fit, dn_fit, dn1_fit, dn2_fit, dk1_fit, dk2_fit = optim_params(optim_state)\n",
    "coupling0_fit, dn_fit, dn1_fit, dn2_fit, dk1_fit, dk2_fit"
   ]
  },
  {
   "cell_type": "code",
   "execution_count": null,
   "metadata": {},
   "outputs": [],
   "source": [
    "wl = jnp.linspace(1.5, 1.60, 1000)\n",
    "coupler_fdtd = gs.read.sdict_from_csv(\n",
    "    filepath=gf.config.sparameters_path / \"coupler\" / \"coupler_G224n_L20_S220.csv\",\n",
    "    wl=wl,\n",
    "    xkey=\"wavelength_nm\",\n",
    "    prefix=\"S\",\n",
    "    xunits=1e-3,\n",
    ")\n",
    "S = coupler_fdtd\n",
    "T_fdtd = abs(S[\"o1\", \"o3\"]) ** 2\n",
    "S = gf.simulation.sax.models.coupler(\n",
    "    dn=dn_fit,\n",
    "    length=20,\n",
    "    coupling0=coupling0_fit,\n",
    "    dn1=dn1_fit,\n",
    "    dn2=dn2_fit,\n",
    "    dk1=dk1_fit,\n",
    "    dk2=dk2_fit,\n",
    "    wl=wl,\n",
    ")\n",
    "T_model = abs(S[\"o1\", \"o4\"]) ** 2\n",
    "K_model = abs(S[\"o1\", \"o3\"]) ** 2\n",
    "\n",
    "plt.plot(wl, T_fdtd, label=\"fdtd\", c=\"b\")\n",
    "plt.plot(wl, T_model, label=\"fit\", c=\"b\", ls=\"-.\")\n",
    "plt.plot(wl, K_fdtd, label=\"fdtd\", c=\"r\")\n",
    "plt.plot(wl, K_model, label=\"fit\", c=\"r\", ls=\"-.\")\n",
    "plt.legend()"
   ]
  },
  {
   "cell_type": "markdown",
   "metadata": {},
   "source": [
    "As you can see trying to fit many parameters do not give you a better fit,\n",
    "\n",
    "you have to make sure you fit the right parameters, in this case `dn1`"
   ]
  },
  {
   "cell_type": "code",
   "execution_count": null,
   "metadata": {},
   "outputs": [],
   "source": [
    "wl = jnp.linspace(1.50, 1.60, 1000)\n",
    "S = gf.simulation.sax.models.coupler(\n",
    "    dn=dn_fit,\n",
    "    length=20,\n",
    "    coupling0=coupling0_fit,\n",
    "    dn1=dn1_fit - 0.045,\n",
    "    dn2=dn2_fit,\n",
    "    dk1=dk1_fit,\n",
    "    dk2=dk2_fit,\n",
    "    wl=wl,\n",
    ")\n",
    "T_model = abs(S[\"o1\", \"o4\"]) ** 2\n",
    "K_model = abs(S[\"o1\", \"o3\"]) ** 2\n",
    "\n",
    "plt.plot(wl, T_fdtd, label=\"fdtd\", c=\"b\")\n",
    "plt.plot(wl, T_model, label=\"fit\", c=\"b\", ls=\"-.\")\n",
    "plt.plot(wl, K_fdtd, label=\"fdtd\", c=\"r\")\n",
    "plt.plot(wl, K_model, label=\"fit\", c=\"r\", ls=\"-.\")\n",
    "plt.legend()"
   ]
  },
  {
   "cell_type": "code",
   "execution_count": null,
   "metadata": {},
   "outputs": [],
   "source": [
    "dn = dn_fit\n",
    "dn2 = dn2_fit\n",
    "dk1 = dk1_fit\n",
    "dk2 = dk2_fit\n",
    "\n",
    "\n",
    "@jax.jit\n",
    "def loss(dn1):\n",
    "    \"\"\"Returns fit least squares error from a coupler model spectrum\n",
    "    to the FDTD Sparameter spectrum that we want to fit.\n",
    "\n",
    "    \"\"\"\n",
    "    S = gf.simulation.sax.models.coupler(\n",
    "        dn=dn, length=20, coupling0=coupling0, dn1=dn1, dn2=dn2, dk1=dk1, dk2=dk2\n",
    "    )\n",
    "    T_model = jnp.abs(S[\"o1\", \"o4\"]) ** 2\n",
    "    K_model = jnp.abs(S[\"o1\", \"o3\"]) ** 2\n",
    "    return jnp.abs(T_fdtd - T_model).mean() + jnp.abs(K_fdtd - K_model).mean()\n",
    "\n",
    "\n",
    "grad = jax.jit(\n",
    "    jax.grad(\n",
    "        loss,\n",
    "        argnums=0,  # JAX gradient function for the first positional argument, jitted\n",
    "    )\n",
    ")\n",
    "\n",
    "dn1 = 0.11\n",
    "optim_init, optim_update, optim_params = opt.adam(step_size=0.001)\n",
    "optim_state = optim_init(dn1)\n",
    "\n",
    "\n",
    "def train_step(step, optim_state):\n",
    "    settings = optim_params(optim_state)\n",
    "    lossvalue = loss(settings)\n",
    "    gradvalue = grad(settings)\n",
    "    optim_state = optim_update(step, gradvalue, optim_state)\n",
    "    return lossvalue, optim_state\n",
    "\n",
    "\n",
    "range_ = tqdm.trange(300)\n",
    "for step in range_:\n",
    "    lossvalue, optim_state = train_step(step, optim_state)\n",
    "    range_.set_postfix(loss=f\"{lossvalue:.6f}\")"
   ]
  },
  {
   "cell_type": "code",
   "execution_count": null,
   "metadata": {},
   "outputs": [],
   "source": [
    "dn1_fit = optim_params(optim_state)\n",
    "dn1_fit"
   ]
  },
  {
   "cell_type": "code",
   "execution_count": null,
   "metadata": {},
   "outputs": [],
   "source": [
    "wl = jnp.linspace(1.50, 1.60, 1000)\n",
    "S = gf.simulation.sax.models.coupler(\n",
    "    dn=dn, length=20, coupling0=coupling0, dn1=dn1_fit, dn2=dn2, dk1=dk1, dk2=dk2, wl=wl\n",
    ")\n",
    "T_model = abs(S[\"o1\", \"o4\"]) ** 2\n",
    "K_model = abs(S[\"o1\", \"o3\"]) ** 2\n",
    "\n",
    "coupler_fdtd = gs.read.sdict_from_csv(\n",
    "    filepath=gf.config.sparameters_path / \"coupler\" / \"coupler_G224n_L20_S220.csv\",\n",
    "    xkey=\"wavelength_nm\",\n",
    "    prefix=\"S\",\n",
    "    xunits=1e-3,\n",
    "    wl=wl,\n",
    ")\n",
    "S = coupler_fdtd\n",
    "T_fdtd = abs(S[\"o1\", \"o3\"]) ** 2\n",
    "K_fdtd = abs(S[\"o1\", \"o4\"]) ** 2\n",
    "\n",
    "plt.plot(wl, T_fdtd, label=\"fdtd\", c=\"b\")\n",
    "plt.plot(wl, T_model, label=\"fit\", c=\"b\", ls=\"-.\")\n",
    "plt.plot(wl, K_fdtd, label=\"fdtd\", c=\"r\")\n",
    "plt.plot(wl, K_model, label=\"fit\", c=\"r\", ls=\"-.\")\n",
    "plt.legend()"
   ]
  },
  {
   "cell_type": "markdown",
   "metadata": {},
   "source": [
    "## Model fit (linear regression)\n",
    "\n",
    "For a better fit of the coupler we can build a linear regression model of the coupler with `sklearn`"
   ]
  },
  {
   "cell_type": "code",
   "execution_count": null,
   "metadata": {},
   "outputs": [],
   "source": [
    "import sax\n",
    "import gdsfactory as gf\n",
    "import gdsfactory.simulation.sax as gs\n",
    "import jax\n",
    "import jax.numpy as jnp\n",
    "import matplotlib.pyplot as plt\n",
    "from scipy.constants import c\n",
    "from sklearn.linear_model import LinearRegression"
   ]
  },
  {
   "cell_type": "code",
   "execution_count": null,
   "metadata": {},
   "outputs": [],
   "source": [
    "f = jnp.linspace(c / 1.0e-6, c / 2.0e-6, 500) * 1e-12  # THz\n",
    "wl = c / (f * 1e12) * 1e6  # um\n",
    "\n",
    "filepath = gf.config.sparameters_path / \"coupler\" / \"coupler_G224n_L20_S220.csv\"\n",
    "coupler_fdtd = gf.partial(\n",
    "    gs.read.sdict_from_csv, filepath, xkey=\"wavelength_nm\", prefix=\"S\", xunits=1e-3\n",
    ")\n",
    "sd = coupler_fdtd(wl=wl)\n",
    "\n",
    "k = sd[\"o1\", \"o3\"]\n",
    "t = sd[\"o1\", \"o4\"]\n",
    "s = t + k\n",
    "a = t - k"
   ]
  },
  {
   "cell_type": "markdown",
   "metadata": {},
   "source": [
    "Lets fit the symmetric (t+k) and antisymmetric (t-k) transmission\n",
    "\n",
    "### Symmetric"
   ]
  },
  {
   "cell_type": "code",
   "execution_count": null,
   "metadata": {},
   "outputs": [],
   "source": [
    "plt.plot(wl, jnp.abs(s))\n",
    "plt.grid(True)\n",
    "plt.xlabel(\"Frequency [THz]\")\n",
    "plt.ylabel(\"Transmission\")\n",
    "plt.title(\"symmetric (transmission + coupling)\")\n",
    "plt.legend()\n",
    "plt.show()"
   ]
  },
  {
   "cell_type": "code",
   "execution_count": null,
   "metadata": {},
   "outputs": [],
   "source": [
    "plt.plot(wl, jnp.abs(a))\n",
    "plt.grid(True)\n",
    "plt.xlabel(\"Frequency [THz]\")\n",
    "plt.ylabel(\"Transmission\")\n",
    "plt.title(\"anti-symmetric (transmission - coupling)\")\n",
    "plt.legend()\n",
    "plt.show()"
   ]
  },
  {
   "cell_type": "code",
   "execution_count": null,
   "metadata": {},
   "outputs": [],
   "source": [
    "r = LinearRegression()\n",
    "fX = lambda x, _order=8: x[:, None] ** (\n",
    "    jnp.arange(_order)[None, :]\n",
    ")  # artificially create more 'features' (wl**2, wl**3, wl**4, ...)\n",
    "X = fX(wl)\n",
    "r.fit(X, jnp.abs(s))\n",
    "asm, bsm = r.coef_, r.intercept_\n",
    "fsm = lambda x: fX(x) @ asm + bsm  # fit symmetric module fiir\n",
    "\n",
    "plt.plot(wl, jnp.abs(s))\n",
    "plt.plot(wl, fsm(wl))\n",
    "plt.grid(True)\n",
    "plt.xlabel(\"Frequency [THz]\")\n",
    "plt.ylabel(\"Transmission\")\n",
    "plt.legend()\n",
    "plt.show()"
   ]
  },
  {
   "cell_type": "code",
   "execution_count": null,
   "metadata": {},
   "outputs": [],
   "source": [
    "r = LinearRegression()\n",
    "r.fit(X, jnp.unwrap(jnp.angle(s)))\n",
    "asp, bsp = r.coef_, r.intercept_\n",
    "fsp = lambda x: fX(x) @ asp + bsp  # fit symmetric phase\n",
    "\n",
    "plt.plot(wl, jnp.unwrap(jnp.angle(s)))\n",
    "plt.plot(wl, fsp(wl))\n",
    "plt.grid(True)\n",
    "plt.xlabel(\"Frequency [THz]\")\n",
    "plt.ylabel(\"Angle [deg]\")\n",
    "plt.legend()\n",
    "plt.show()"
   ]
  },
  {
   "cell_type": "code",
   "execution_count": null,
   "metadata": {},
   "outputs": [],
   "source": [
    "fs = lambda x: fsm(x) * jnp.exp(1j * fsp(x))"
   ]
  },
  {
   "cell_type": "markdown",
   "metadata": {},
   "source": [
    "Lets fit the symmetric (t+k) and antisymmetric (t-k) transmission\n",
    "\n",
    "### Anti-Symmetric"
   ]
  },
  {
   "cell_type": "code",
   "execution_count": null,
   "metadata": {},
   "outputs": [],
   "source": [
    "r = LinearRegression()\n",
    "r.fit(X, jnp.abs(a))\n",
    "aam, bam = r.coef_, r.intercept_\n",
    "fam = lambda x: fX(x) @ aam + bam\n",
    "\n",
    "plt.plot(wl, jnp.abs(a))\n",
    "plt.plot(wl, fam(wl))\n",
    "plt.grid(True)\n",
    "plt.xlabel(\"Frequency [THz]\")\n",
    "plt.ylabel(\"Transmission\")\n",
    "plt.legend()\n",
    "plt.show()"
   ]
  },
  {
   "cell_type": "code",
   "execution_count": null,
   "metadata": {},
   "outputs": [],
   "source": [
    "r = LinearRegression()\n",
    "r.fit(X, jnp.unwrap(jnp.angle(a)))\n",
    "aap, bap = r.coef_, r.intercept_\n",
    "fap = lambda x: fX(x) @ aap + bap\n",
    "\n",
    "plt.plot(wl, jnp.unwrap(jnp.angle(a)))\n",
    "plt.plot(wl, fap(wl))\n",
    "plt.grid(True)\n",
    "plt.xlabel(\"Frequency [THz]\")\n",
    "plt.ylabel(\"Angle [deg]\")\n",
    "plt.legend()\n",
    "plt.show()"
   ]
  },
  {
   "cell_type": "code",
   "execution_count": null,
   "metadata": {},
   "outputs": [],
   "source": [
    "fa = lambda x: fam(x) * jnp.exp(1j * fap(x))"
   ]
  },
  {
   "cell_type": "markdown",
   "metadata": {},
   "source": [
    "### Total"
   ]
  },
  {
   "cell_type": "code",
   "execution_count": null,
   "metadata": {},
   "outputs": [],
   "source": [
    "t_ = 0.5 * (fs(wl) + fa(wl))\n",
    "\n",
    "plt.plot(wl, jnp.abs(t))\n",
    "plt.plot(wl, jnp.abs(t_))\n",
    "plt.xlabel(\"Frequency [THz]\")\n",
    "plt.ylabel(\"Transmission\")"
   ]
  },
  {
   "cell_type": "code",
   "execution_count": null,
   "metadata": {},
   "outputs": [],
   "source": [
    "k_ = 0.5 * (fs(wl) - fa(wl))\n",
    "\n",
    "plt.plot(wl, jnp.abs(k))\n",
    "plt.plot(wl, jnp.abs(k_))\n",
    "plt.xlabel(\"Frequency [THz]\")\n",
    "plt.ylabel(\"Coupling\")"
   ]
  },
  {
   "cell_type": "code",
   "execution_count": null,
   "metadata": {},
   "outputs": [],
   "source": [
    "@jax.jit\n",
    "def coupler(wl=1.5):\n",
    "    wl = jnp.asarray(wl)\n",
    "    wl_shape = wl.shape\n",
    "    wl = wl.ravel()\n",
    "    t = (0.5 * (fs(wl) + fa(wl))).reshape(*wl_shape)\n",
    "    k = (0.5 * (fs(wl) - fa(wl))).reshape(*wl_shape)\n",
    "    sdict = {\n",
    "        (\"o1\", \"o4\"): t,\n",
    "        (\"o1\", \"o3\"): k,\n",
    "        (\"o2\", \"o3\"): k,\n",
    "        (\"o2\", \"o4\"): t,\n",
    "    }\n",
    "    return sax.reciprocal(sdict)"
   ]
  },
  {
   "cell_type": "code",
   "execution_count": null,
   "metadata": {},
   "outputs": [],
   "source": [
    "f = jnp.linspace(c / 1.0e-6, c / 2.0e-6, 500) * 1e-12  # THz\n",
    "wl = c / (f * 1e12) * 1e6  # um\n",
    "\n",
    "filepath = gf.config.sparameters_path / \"coupler\" / \"coupler_G224n_L20_S220.csv\"\n",
    "coupler_fdtd = gf.partial(\n",
    "    gs.read.sdict_from_csv, filepath, xkey=\"wavelength_nm\", prefix=\"S\", xunits=1e-3\n",
    ")\n",
    "sd = coupler_fdtd(wl=wl)\n",
    "sd_ = coupler(wl=wl)\n",
    "\n",
    "T = jnp.abs(sd[\"o1\", \"o4\"]) ** 2\n",
    "K = jnp.abs(sd[\"o1\", \"o3\"]) ** 2\n",
    "T_ = jnp.abs(sd_[\"o1\", \"o4\"]) ** 2\n",
    "K_ = jnp.abs(sd_[\"o1\", \"o3\"]) ** 2\n",
    "dP = jnp.unwrap(jnp.angle(sd[\"o1\", \"o3\"]) - jnp.angle(sd[\"o1\", \"o4\"]))\n",
    "dP_ = jnp.unwrap(jnp.angle(sd_[\"o1\", \"o3\"]) - jnp.angle(sd_[\"o1\", \"o4\"]))\n",
    "\n",
    "plt.figure(figsize=(12, 3))\n",
    "plt.plot(wl, T, label=\"T (fdtd)\", c=\"C0\", ls=\":\", lw=\"6\")\n",
    "plt.plot(wl, T_, label=\"T (model)\", c=\"C0\")\n",
    "\n",
    "plt.plot(wl, K, label=\"K (fdtd)\", c=\"C1\", ls=\":\", lw=\"6\")\n",
    "plt.plot(wl, K_, label=\"K (model)\", c=\"C1\")\n",
    "\n",
    "plt.ylim(-0.05, 1.05)\n",
    "plt.grid(True)\n",
    "\n",
    "plt.twinx()\n",
    "plt.plot(wl, dP, label=\"ΔΦ (fdtd)\", color=\"C2\", ls=\":\", lw=\"6\")\n",
    "plt.plot(wl, dP_, label=\"ΔΦ (model)\", color=\"C2\")\n",
    "\n",
    "plt.xlabel(\"Frequency [THz]\")\n",
    "plt.ylabel(\"Transmission\")\n",
    "plt.figlegend(bbox_to_anchor=(1.08, 0.9))\n",
    "plt.savefig(\"fdtd_vs_model.png\", bbox_inches=\"tight\")\n",
    "plt.show()"
   ]
  },
  {
   "cell_type": "code",
   "execution_count": null,
   "metadata": {},
   "outputs": [],
   "source": []
  }
 ],
 "metadata": {
  "kernelspec": {
   "display_name": "Python 3 (ipykernel)",
   "language": "python",
   "name": "python3"
  },
  "language_info": {
   "codemirror_mode": {
    "name": "ipython",
    "version": 3
   },
   "file_extension": ".py",
   "mimetype": "text/x-python",
   "name": "python",
   "nbconvert_exporter": "python",
   "pygments_lexer": "ipython3",
   "version": "3.8.10"
  }
 },
 "nbformat": 4,
 "nbformat_minor": 5
}
