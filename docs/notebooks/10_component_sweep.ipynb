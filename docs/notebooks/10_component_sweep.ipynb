{
 "cells": [
  {
   "cell_type": "markdown",
   "id": "0fd5fd63-4798-4187-8315-f6112b7b4d7e",
   "metadata": {},
   "source": [
    "# Component Sweep\n",
    "\n",
    "A ComponentSweep lets you create a Design of Experiement (DOE), where you can change any of the values\n",
    "\n",
    "Lets create a resistance sweep, where we change only one parameter"
   ]
  },
  {
   "cell_type": "code",
   "execution_count": null,
   "id": "624be8bc-9d7f-40e8-9217-c0d9071471e9",
   "metadata": {},
   "outputs": [],
   "source": [
    "import gdsfactory as gf\n",
    "gf.clear_cache()\n",
    "\n",
    "sweep = gf.types.ComponentSweep(\n",
    "    factory=gf.components.resistance_sheet, settings=[{\"width\": width} for width in [1, 10, 100]]\n",
    ")\n",
    "c = sweep.components\n",
    "gf.add_text(c, offset=(100, -20))\n",
    "m = gf.pack(c)\n",
    "m[0]"
   ]
  },
  {
   "cell_type": "markdown",
   "id": "b4fc4bb3-9a88-420b-bc28-1d42d0247959",
   "metadata": {},
   "source": [
    "Lets create a `ComponentSweep`, where you can add a `decorator` to run over the `factory`"
   ]
  },
  {
   "cell_type": "code",
   "execution_count": null,
   "id": "28642192-edaa-47de-a70c-0a6b1c60ec87",
   "metadata": {},
   "outputs": [],
   "source": [
    "import toolz\n",
    "import gdsfactory as gf\n",
    "\n",
    "gf.clear_cache()\n",
    "\n",
    "def add_fiber_single(\n",
    "    component: gf.Component,\n",
    "    grating_coupler=gf.components.grating_coupler_elliptical,\n",
    "    cross_section=gf.cross_section.strip,\n",
    "):\n",
    "    c = gf.add_grating_couplers.add_grating_couplers_with_loopback_fiber_single(\n",
    "        component=component,\n",
    "        grating_coupler=grating_coupler,\n",
    "        cross_section=cross_section,\n",
    "        layer_label=gf.LAYER.TEXT,\n",
    "    )\n",
    "    return c\n",
    "\n",
    "\n",
    "sweep = gf.types.ComponentSweep(\n",
    "    factory=gf.components.spiral_inner_io_fiber_single, decorator=add_fiber_single, settings=[{\"length\": length} for length in [10e3, 20e3, 30e3]]\n",
    ")\n",
    "c = sweep.components\n",
    "gf.add_text(c, offset=(100, -20))\n",
    "m = gf.pack(c)\n",
    "m[0]"
   ]
  },
  {
   "cell_type": "markdown",
   "id": "de11e81e-fed1-49c1-b3b1-3f38ca1d7e4b",
   "metadata": {},
   "source": [
    "You can also add a `prefix` to each text label. For example `S` for Silicon and `N` for Nitride"
   ]
  },
  {
   "cell_type": "code",
   "execution_count": null,
   "id": "f2eee9da-f2ce-41ed-adfa-5573219bd41f",
   "metadata": {},
   "outputs": [],
   "source": [
    "gf.clear_cache()\n",
    "\n",
    "sweep1 = gf.types.ComponentSweep(\n",
    "    factory=gf.components.spiral_inner_io_fiber_single, decorator=add_fiber_single, settings=[{\"length\": length} for length in [10e3, 20e3, 30e3]]\n",
    ")\n",
    "c1 = sweep1.components\n",
    "gf.add_text(c1, offset=(100, -20), prefix='S')\n",
    "\n",
    "spiral_nitride = gf.partial(gf.components.spiral_inner_io_fiber_single, cross_section=gf.cross_section.nitride)\n",
    "sweep2 = gf.types.ComponentSweep(\n",
    "    factory=spiral_nitride, decorator=add_fiber_single, settings=[{\"length\": length} for length in [10e3, 20e3, 30e3]]\n",
    ")\n",
    "c2 = sweep2.components\n",
    "gf.add_text(c2, offset=(100, -20), prefix='N')"
   ]
  },
  {
   "cell_type": "code",
   "execution_count": null,
   "id": "39808f6f-6631-4392-8b73-2e848af1ad3e",
   "metadata": {},
   "outputs": [],
   "source": [
    "m = gf.pack(c1+c2)\n",
    "m[0]"
   ]
  },
  {
   "cell_type": "code",
   "execution_count": null,
   "id": "c2aa1138-66ea-43ac-8d4b-fcb8ef02f2d6",
   "metadata": {},
   "outputs": [],
   "source": []
  }
 ],
 "metadata": {
  "kernelspec": {
   "display_name": "Python 3 (ipykernel)",
   "language": "python",
   "name": "python3"
  },
  "language_info": {
   "codemirror_mode": {
    "name": "ipython",
    "version": 3
   },
   "file_extension": ".py",
   "mimetype": "text/x-python",
   "name": "python",
   "nbconvert_exporter": "python",
   "pygments_lexer": "ipython3",
   "version": "3.9.7"
  }
 },
 "nbformat": 4,
 "nbformat_minor": 5
}
