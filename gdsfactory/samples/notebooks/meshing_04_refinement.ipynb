{
 "cells": [
  {
   "cell_type": "markdown",
   "id": "51ea127e",
   "metadata": {},
   "source": [
    "# Controlling mesh resolution\n",
    "\n",
    "## Coarse global resolution\n",
    "\n",
    "The keyword arguments `default_resolution_min` and `default_resolution_max` set the minimum and maximum characteristic lengths used by `gmsh` when computing the mesh.\n",
    "\n",
    "They are used when other resolutions are not provided, and `default_resolution_max` effectively sets the minimum length possible, since when conflicting resolution at a point are given, the smallest one is taken."
   ]
  },
  {
   "cell_type": "code",
   "execution_count": null,
   "id": "fbfc1b34",
   "metadata": {},
   "outputs": [],
   "source": [
    "# %matplotlib widget"
   ]
  },
  {
   "cell_type": "code",
   "execution_count": null,
   "id": "43b2922c",
   "metadata": {},
   "outputs": [],
   "source": [
    "from itertools import product\n",
    "import numpy as np\n",
    "import gdsfactory as gf\n",
    "from gdsfactory.simulation.gmsh.mesh import create_physical_mesh\n",
    "from gdsfactory.technology import LayerStack, LayerLevel\n",
    "from gdsfactory.pdk import get_layer_stack\n",
    "\n",
    "import meshio\n",
    "from skfem.io import from_meshio\n",
    "from gdsfactory.generic_tech import get_generic_pdk\n",
    "\n",
    "PDK = get_generic_pdk()\n",
    "PDK.activate()\n",
    "gf.config.rich_output()\n",
    "\n",
    "waveguide = gf.components.straight_pin(length=10, taper=None)\n",
    "waveguide_trimmed = gf.Component()\n",
    "waveguide_trimmed.add_ref(\n",
    "    gf.geometry.trim(\n",
    "        component=waveguide,\n",
    "        domain=[[3, -4], [3, 4], [5, 4], [5, -4]],\n",
    "    )\n",
    ")\n",
    "\n",
    "\n",
    "filtered_layerstack = LayerStack(\n",
    "    layers={\n",
    "        k: get_layer_stack().layers[k]\n",
    "        for k in (\n",
    "            \"slab90\",\n",
    "            \"core\",\n",
    "            \"via_contact\",\n",
    "        )\n",
    "    }\n",
    ")\n",
    "\n",
    "filename = \"mesh\"\n",
    "\n",
    "\n",
    "def mesh_with_physicals(mesh, filename):\n",
    "    mesh_from_file = meshio.read(f\"{filename}.msh\")\n",
    "    return create_physical_mesh(mesh_from_file, \"triangle\", prune_z=True)"
   ]
  },
  {
   "cell_type": "markdown",
   "id": "aef632a9",
   "metadata": {},
   "source": [
    "With `default_resolution_max` set to 1 um and `default_resolution_min` set to 100 nm:"
   ]
  },
  {
   "cell_type": "code",
   "execution_count": null,
   "id": "9ab49412",
   "metadata": {},
   "outputs": [],
   "source": [
    "mesh = waveguide_trimmed.to_gmsh(\n",
    "    type=\"uz\",\n",
    "    xsection_bounds=[(4, -4), (4, 4)],\n",
    "    layer_stack=filtered_layerstack,\n",
    "    filename=f\"{filename}.msh\",\n",
    "    background_tag=\"oxide\",\n",
    "    background_padding=(2.0, 2.0, 2.0, 2.0),\n",
    "    default_resolution_min=0.1,\n",
    "    default_resolution_max=1,\n",
    ")\n",
    "\n",
    "mesh = mesh_with_physicals(mesh, filename)\n",
    "mesh = from_meshio(mesh)\n",
    "mesh.draw().plot()"
   ]
  },
  {
   "cell_type": "markdown",
   "id": "ca0d704b",
   "metadata": {},
   "source": [
    "With `default_resolution_max` set to 300 nm and `default_resolution_max` set to 50 nm:"
   ]
  },
  {
   "cell_type": "code",
   "execution_count": null,
   "id": "310c6e87",
   "metadata": {},
   "outputs": [],
   "source": [
    "mesh = waveguide_trimmed.to_gmsh(\n",
    "    type=\"uz\",\n",
    "    xsection_bounds=[(4, -4), (4, 4)],\n",
    "    layer_stack=filtered_layerstack,\n",
    "    filename=f\"{filename}.msh\",\n",
    "    background_tag=\"oxide\",\n",
    "    background_padding=(2.0, 2.0, 2.0, 2.0),\n",
    "    default_resolution_min=0.05,\n",
    "    default_resolution_max=0.3,\n",
    ")\n",
    "mesh = mesh_with_physicals(mesh, filename)\n",
    "mesh = from_meshio(mesh)\n",
    "mesh.draw().show()"
   ]
  },
  {
   "cell_type": "markdown",
   "id": "9c2368b8",
   "metadata": {},
   "source": [
    "## Label-wise coarse resolution control\n",
    "\n",
    "An advantage of finite-volume and finite-element schemes is the ability for different nodes to have different characteristics lengths.\n",
    "\n",
    "This simply achieved to first order here by supplying a `resolutions` dict with keys referencing the `LayerStack` names, and for value a second dict with keys `resolution` and `distance` which control, respectively, the characteristic length within a region and the dropoff away from interfaces with this region.\n",
    "\n",
    "For example, to refine within the core only, one could use:"
   ]
  },
  {
   "cell_type": "code",
   "execution_count": null,
   "id": "79d0a9c6",
   "metadata": {},
   "outputs": [],
   "source": [
    "resolutions = {\"core\": {\"resolution\": 0.05, \"distance\": 0}}\n",
    "mesh = waveguide_trimmed.to_gmsh(\n",
    "    type=\"uz\",\n",
    "    xsection_bounds=[(4, -4), (4, 4)],\n",
    "    layer_stack=filtered_layerstack,\n",
    "    filename=f\"{filename}.msh\",\n",
    "    background_tag=\"oxide\",\n",
    "    background_padding=(2.0, 2.0, 2.0, 2.0),\n",
    "    resolutions=resolutions,\n",
    ")\n",
    "mesh = mesh_with_physicals(mesh, filename)\n",
    "mesh = from_meshio(mesh)\n",
    "mesh.draw().show()"
   ]
  },
  {
   "cell_type": "markdown",
   "id": "d7afeacc",
   "metadata": {},
   "source": [
    "Adding a dropoff at the interface:"
   ]
  },
  {
   "cell_type": "code",
   "execution_count": null,
   "id": "e6b737ed",
   "metadata": {},
   "outputs": [],
   "source": [
    "resolutions = {\"core\": {\"resolution\": 0.05, \"distance\": 5}}\n",
    "mesh = waveguide_trimmed.to_gmsh(\n",
    "    type=\"uz\",\n",
    "    xsection_bounds=[(4, -4), (4, 4)],\n",
    "    layer_stack=filtered_layerstack,\n",
    "    filename=f\"{filename}.msh\",\n",
    "    background_tag=\"oxide\",\n",
    "    background_padding=(2.0, 2.0, 2.0, 2.0),\n",
    "    resolutions=resolutions,\n",
    ")\n",
    "mesh = mesh_with_physicals(mesh, filename)\n",
    "mesh = from_meshio(mesh)\n",
    "mesh.draw().show()"
   ]
  },
  {
   "cell_type": "markdown",
   "id": "e24d7e31",
   "metadata": {},
   "source": [
    "Refining multiple elements simultaneously:"
   ]
  },
  {
   "cell_type": "code",
   "execution_count": null,
   "id": "30d0fecf",
   "metadata": {},
   "outputs": [],
   "source": [
    "resolutions = {\n",
    "    \"core\": {\"resolution\": 0.05, \"distance\": 1},\n",
    "    \"slab90\": {\"resolution\": 0.02, \"distance\": 1},\n",
    "    \"via_contact\": {\"resolution\": 0.2, \"distance\": 0},\n",
    "    \"oxide\": {\"resolution\": 1, \"distance\": 0},\n",
    "}\n",
    "mesh = waveguide_trimmed.to_gmsh(\n",
    "    type=\"uz\",\n",
    "    xsection_bounds=[(4, -4), (4, 4)],\n",
    "    layer_stack=filtered_layerstack,\n",
    "    filename=f\"{filename}.msh\",\n",
    "    background_tag=\"oxide\",\n",
    "    background_padding=(2.0, 2.0, 2.0, 2.0),\n",
    "    resolutions=resolutions,\n",
    ")\n",
    "mesh = mesh_with_physicals(mesh, filename)\n",
    "mesh = from_meshio(mesh)\n",
    "mesh.draw().show()"
   ]
  },
  {
   "cell_type": "markdown",
   "id": "5ecf91cc",
   "metadata": {},
   "source": [
    "## Fine mesh refinement\n",
    "\n",
    "You can fine mesh refine with the `global_meshsize_array` (default `None`) and `global_meshsize_interpolant_func` (default `scipy.interpolate.NearestNDInterpolator`) arguments, which define the characteristic length callback used by gmsh to select characteristic lengths at a local level.\n",
    "\n",
    "The `global_meshsize_array` has form [x,y,z,lc], with `x,y,z` in mesh units; here, `x` is `u` $\\in$ [-2, 10] considering the y-coordinates of the xsection_bounds and the background padding, `y` $\\in$ [-2,3], and `z` is always 0. These values could be estimated from the component bounding box.\n",
    "\n",
    "In practice, this array would most likely result from a physical simulation using the simulation domain coordinates, which would also yield a higher quality mesh by virtue of being smoother.\n",
    "\n",
    "For instance, if one wants to refine in a circle around the waveguide core, and have some asymmetry about the y-axis, a meshsize array like so could be defined:"
   ]
  },
  {
   "cell_type": "code",
   "execution_count": null,
   "id": "623fbde7",
   "metadata": {},
   "outputs": [],
   "source": [
    "xs = np.linspace(-2, 10, 800)\n",
    "ys = np.linspace(-2, 3, 800)\n",
    "global_meshsize_array = []\n",
    "\n",
    "ls_large = 1\n",
    "ls_small = 0.05\n",
    "\n",
    "r = 0.75\n",
    "for x, y in product(xs, ys):\n",
    "    if (x - 4.0) ** 2 + (y) ** 2 <= r**2:\n",
    "        global_meshsize_array.append([x, y, 0, ls_small])\n",
    "    else:\n",
    "        global_meshsize_array.append([x, y, 0, ls_large])\n",
    "\n",
    "global_meshsize_array = np.array(global_meshsize_array)\n",
    "\n",
    "mesh = waveguide_trimmed.to_gmsh(\n",
    "    type=\"uz\",\n",
    "    xsection_bounds=[(4, -4), (4, 4)],\n",
    "    layer_stack=filtered_layerstack,\n",
    "    filename=f\"{filename}.msh\",\n",
    "    background_tag=\"oxide\",\n",
    "    background_padding=(2.0, 2.0, 2.0, 2.0),\n",
    "    global_meshsize_array=global_meshsize_array,\n",
    "    default_resolution_min=ls_small,\n",
    "    default_resolution_max=ls_large,\n",
    ")\n",
    "mesh = mesh_with_physicals(mesh, filename)\n",
    "mesh = from_meshio(mesh)\n",
    "mesh.draw().show()"
   ]
  }
 ],
 "metadata": {
  "jupytext": {
   "cell_metadata_filter": "-all",
   "formats": "md,ipynb",
   "main_language": "python",
   "notebook_metadata_filter": "-all"
  }
 },
 "nbformat": 4,
 "nbformat_minor": 5
}
