{
 "cells": [
  {
   "cell_type": "markdown",
   "metadata": {},
   "source": [
    "# Autonaming Component cells\n",
    "\n",
    "Problem:\n",
    "\n",
    "1. In GDS different cells must have different names. Relying on the incrementals\n",
    "naming convention can be dangerous when you merge masks that have different\n",
    "cells build at different run times or if you merge masks with other tools like Klayout.\n",
    "2. In GDS two cells cannot have the same name.\n",
    "\n",
    "Solution: The decorator `pp.cell` fixes both issues:\n",
    "\n",
    "1. By giving the cell a unique name depending on the parameters that you pass\n",
    "2. By creating a cache of cells where we use the cell name as the key. Avoiding to create two cells with the same name during the same python runtime\n",
    "\n",
    "Lets see how it works"
   ]
  },
  {
   "cell_type": "code",
   "execution_count": null,
   "metadata": {},
   "outputs": [],
   "source": [
    "import pp\n",
    "\n",
    "\n",
    "@pp.cell\n",
    "def wg(length=10, width=1):\n",
    "    c = pp.Component()\n",
    "    c.add_polygon([(0, 0), (length, 0), (length, width), (0, width)], layer=(1, 0))\n",
    "    c.add_port(name=\"W0\", midpoint=[0, width / 2], width=width, orientation=180)\n",
    "    c.add_port(name=\"E0\", midpoint=[length, width / 2], width=width, orientation=0)\n",
    "    return c"
   ]
  },
  {
   "cell_type": "markdown",
   "metadata": {},
   "source": [
    "See how the cells get the name from the parameters that you pass them"
   ]
  },
  {
   "cell_type": "code",
   "execution_count": null,
   "metadata": {},
   "outputs": [],
   "source": [
    "c = wg()\n",
    "print(c)\n",
    "\n",
    "c = wg(width=0.5)\n",
    "print(c)"
   ]
  },
  {
   "cell_type": "markdown",
   "metadata": {},
   "source": [
    "How can you have add two different references to a cell with the same parameters?"
   ]
  },
  {
   "cell_type": "code",
   "execution_count": null,
   "metadata": {},
   "outputs": [],
   "source": [
    "# Problem\n",
    "import pp\n",
    "\n",
    "c = pp.Component('problem')\n",
    "R1 = pp.c.rectangle(size=(4,2))  # Creates a rectangle (same Unique ID uid)\n",
    "R2 = pp.c.rectangle(size=(4,2))\n",
    "# Try Create a new rectangle that we want to change (but has the same name so we will get R1 from the cache)\n",
    "\n",
    "r1r = c << R1  # Add the first rectangle to c\n",
    "r2r = c << R2  # Add the second rectangle to c\n",
    "c"
   ]
  },
  {
   "cell_type": "code",
   "execution_count": null,
   "metadata": {},
   "outputs": [],
   "source": [
    "print(R1 == R2)\n",
    "print(R1)\n",
    "print(R2)\n",
    "\n",
    "# But now I want to rotate R2 -- I can't because it doesn't exist! The error is that it rotates both references!\n",
    "R2.rotate(45)\n",
    "# I think I'm rotating a second rectangle, but actually R2 points to R1 even though I specifically tried to create two rectangles\n",
    "pp.qp(c)"
   ]
  },
  {
   "cell_type": "markdown",
   "metadata": {},
   "source": [
    "if you run the cell above you will see the cell rotating. This is a bad way to manipulate cells. That's why wrote the references tutorial."
   ]
  },
  {
   "cell_type": "code",
   "execution_count": null,
   "metadata": {},
   "outputs": [],
   "source": [
    "# Solution: use references\n",
    "import pp\n",
    "\n",
    "c = pp.Component('solution')\n",
    "R = pp.c.rectangle(size=(4,2))  \n",
    "\n",
    "r1 = c << R  # Add the first rectangle reference to c\n",
    "r2 = c << R  # Add the second rectangle reference to c\n",
    "\n",
    "r2.rotate(45)\n",
    "print(c)\n",
    "pp.qp(c)"
   ]
  },
  {
   "cell_type": "markdown",
   "metadata": {},
   "source": [
    "# Adding port markers"
   ]
  },
  {
   "cell_type": "code",
   "execution_count": null,
   "metadata": {},
   "outputs": [],
   "source": [
    "import pp\n",
    "c = pp.c.waveguide()\n",
    "c"
   ]
  },
  {
   "cell_type": "code",
   "execution_count": null,
   "metadata": {},
   "outputs": [],
   "source": [
    "c2 = pp.add_pins_container(c)\n",
    "c2"
   ]
  },
  {
   "cell_type": "markdown",
   "metadata": {},
   "source": [
    "We can even define the `pins_function` that we use to a custom function to add\n",
    "markers\n",
    "port"
   ]
  },
  {
   "cell_type": "code",
   "execution_count": null,
   "metadata": {},
   "outputs": [],
   "source": [
    "from pp.add_pins import add_pins_triangle\n",
    "\n",
    "c3 = pp.add_pins_container(c, function=add_pins_triangle)\n",
    "c3"
   ]
  },
  {
   "cell_type": "markdown",
   "metadata": {},
   "source": [
    "# Cache\n",
    "\n",
    "To avoid that 2 exact cells are not references of the same cell the `cell` decorator has a\n",
    "cache where if component has already been build it will return the component\n",
    "from the cache\n"
   ]
  },
  {
   "cell_type": "code",
   "execution_count": null,
   "metadata": {},
   "outputs": [],
   "source": [
    "@pp.cell\n",
    "def wg(length=10, width=1):\n",
    "    c = pp.Component()\n",
    "    c.add_polygon([(0, 0), (length, 0), (length, width), (0, width)], layer=(1, 0))\n",
    "    print(\"calling wg function\")\n",
    "    return c"
   ]
  },
  {
   "cell_type": "code",
   "execution_count": null,
   "metadata": {},
   "outputs": [],
   "source": [
    "wg1 = wg()  # cell builds a waveguide\n",
    "print(wg1)"
   ]
  },
  {
   "cell_type": "code",
   "execution_count": null,
   "metadata": {},
   "outputs": [],
   "source": [
    "wg2 = wg()  # cell returns the same waveguide as before without having to run the function\n",
    "print(wg2) # notice that they have the same uuid (unique identifier)"
   ]
  },
  {
   "cell_type": "code",
   "execution_count": null,
   "metadata": {},
   "outputs": [],
   "source": [
    "wg2"
   ]
  },
  {
   "cell_type": "markdown",
   "metadata": {},
   "source": [
    "Lets say that we improve the code of the waveguide function in a jupyter notebook like this one.\n",
    "\n",
    "I use Vim/VsCode/Pycharm when building new cells in python but some people love jupyter notebooks."
   ]
  },
  {
   "cell_type": "code",
   "execution_count": null,
   "metadata": {},
   "outputs": [],
   "source": [
    "@pp.cell\n",
    "def wg(length=10, width=1, layer=(2, 0)):\n",
    "    \"\"\" Adding layer as a function parameter and using layer (2, 0) as default\"\"\"\n",
    "    c = pp.Component()\n",
    "    c.add_polygon([(0, 0), (length, 0), (length, width), (0, width)], layer=layer)\n",
    "    print(\"calling wg function\")\n",
    "    return c"
   ]
  },
  {
   "cell_type": "code",
   "execution_count": null,
   "metadata": {},
   "outputs": [],
   "source": [
    "wg3 = wg()  # Error! cell returns the same waveguide as before! This waveguide should be in layer (2, 0)\n",
    "print(wg3)\n",
    "pp.qp(wg3)"
   ]
  },
  {
   "cell_type": "code",
   "execution_count": null,
   "metadata": {},
   "outputs": [],
   "source": [
    "wg4 = wg(cache=False) # Forces a rebuild of the cache. This is very helpful changing function `wg` in a jupyternotebook. Even though I do not reccommend doing layout in jupyter notebooks.\n",
    "print(wg4)\n",
    "pp.qp(wg4)\n",
    "# Note waveguide has different layer now and different uid"
   ]
  },
  {
   "cell_type": "code",
   "execution_count": null,
   "metadata": {},
   "outputs": [],
   "source": [
    "pp.clear_cache() # another option is to clear all the cache\n",
    "wg5 = wg()\n",
    "print(wg5)\n",
    "pp.qp(wg5)\n",
    "# Note waveguide has different layer now and different uid"
   ]
  },
  {
   "cell_type": "code",
   "execution_count": null,
   "metadata": {},
   "outputs": [],
   "source": []
  }
 ],
 "metadata": {
  "kernelspec": {
   "display_name": "Python 3",
   "language": "python",
   "name": "python3"
  },
  "language_info": {
   "codemirror_mode": {
    "name": "ipython",
    "version": 3
   },
   "file_extension": ".py",
   "mimetype": "text/x-python",
   "name": "python",
   "nbconvert_exporter": "python",
   "pygments_lexer": "ipython3",
   "version": "3.8.3"
  }
 },
 "nbformat": 4,
 "nbformat_minor": 4
}
