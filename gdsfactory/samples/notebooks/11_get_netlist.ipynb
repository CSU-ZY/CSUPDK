{
 "cells": [
  {
   "cell_type": "markdown",
   "id": "2ac032dd",
   "metadata": {},
   "source": [
    "# Netlist extractor YAML\n",
    "\n",
    "Any component can extract its netlist with `get_netlist`\n",
    "\n",
    "While `gf.read.from_yaml` converts a `YAML Dict` into a `Component`\n",
    "\n",
    "`get_netlist` converts `Component` into a YAML `Dict`"
   ]
  },
  {
   "cell_type": "code",
   "execution_count": null,
   "id": "cf50229d",
   "metadata": {},
   "outputs": [],
   "source": [
    "from omegaconf import OmegaConf\n",
    "\n",
    "import gdsfactory as gf\n",
    "from gdsfactory.generic_tech import get_generic_pdk\n",
    "\n",
    "gf.config.rich_output()\n",
    "PDK = get_generic_pdk()\n",
    "PDK.activate()"
   ]
  },
  {
   "cell_type": "code",
   "execution_count": null,
   "id": "a1d2a23a",
   "metadata": {},
   "outputs": [],
   "source": [
    "c = gf.components.mzi()\n",
    "c.plot()"
   ]
  },
  {
   "cell_type": "code",
   "execution_count": null,
   "id": "2322b909",
   "metadata": {},
   "outputs": [],
   "source": [
    "c.plot_netlist()"
   ]
  },
  {
   "cell_type": "code",
   "execution_count": null,
   "id": "7671065c",
   "metadata": {},
   "outputs": [],
   "source": [
    "c = gf.components.ring_single()\n",
    "c.plot()"
   ]
  },
  {
   "cell_type": "code",
   "execution_count": null,
   "id": "1ca2a6de",
   "metadata": {},
   "outputs": [],
   "source": [
    "c.plot_netlist()"
   ]
  },
  {
   "cell_type": "code",
   "execution_count": null,
   "id": "4b383e44",
   "metadata": {},
   "outputs": [],
   "source": [
    "n = c.get_netlist()"
   ]
  },
  {
   "cell_type": "code",
   "execution_count": null,
   "id": "65d8cfb1",
   "metadata": {},
   "outputs": [],
   "source": [
    "c.write_netlist(\"ring.yml\")"
   ]
  },
  {
   "cell_type": "code",
   "execution_count": null,
   "id": "c8df1235",
   "metadata": {},
   "outputs": [],
   "source": [
    "n = OmegaConf.load(\"ring.yml\")"
   ]
  },
  {
   "cell_type": "code",
   "execution_count": null,
   "id": "cf8a0302",
   "metadata": {},
   "outputs": [],
   "source": [
    "i = list(n[\"instances\"].keys())\n",
    "i"
   ]
  },
  {
   "cell_type": "code",
   "execution_count": null,
   "id": "0773d217",
   "metadata": {},
   "outputs": [],
   "source": [
    "instance_name0 = i[0]"
   ]
  },
  {
   "cell_type": "code",
   "execution_count": null,
   "id": "f86f62d0",
   "metadata": {
    "lines_to_next_cell": 2
   },
   "outputs": [],
   "source": [
    "n[\"instances\"][instance_name0][\"settings\"]"
   ]
  },
  {
   "cell_type": "markdown",
   "id": "3391852c",
   "metadata": {},
   "source": [
    "## Instance names\n",
    "\n",
    "By default get netlist names each `instance` with the name of the `reference`\n"
   ]
  },
  {
   "cell_type": "code",
   "execution_count": null,
   "id": "046be33d",
   "metadata": {},
   "outputs": [],
   "source": [
    "@gf.cell\n",
    "def mzi_with_bend_automatic_naming():\n",
    "    c = gf.Component()\n",
    "    mzi = c.add_ref(gf.components.mzi())\n",
    "    bend = c.add_ref(gf.components.bend_euler())\n",
    "    bend.connect(\"o1\", mzi.ports[\"o2\"])\n",
    "    return c\n",
    "\n",
    "\n",
    "c = mzi_with_bend_automatic_naming()\n",
    "c.plot_netlist()"
   ]
  },
  {
   "cell_type": "code",
   "execution_count": null,
   "id": "a8e4acb4",
   "metadata": {},
   "outputs": [],
   "source": [
    "@gf.cell\n",
    "def mzi_with_bend_deterministic_names_using_alias():\n",
    "    c = gf.Component()\n",
    "    mzi = c.add_ref(gf.components.mzi(), alias=\"my_mzi\")\n",
    "    bend = c.add_ref(gf.components.bend_euler(), alias=\"my_bend\")\n",
    "    bend.connect(\"o1\", mzi.ports[\"o2\"])\n",
    "    return c\n",
    "\n",
    "\n",
    "c = mzi_with_bend_deterministic_names_using_alias()\n",
    "c.plot_netlist()"
   ]
  },
  {
   "cell_type": "code",
   "execution_count": null,
   "id": "0024dd2e",
   "metadata": {},
   "outputs": [],
   "source": [
    "c = gf.components.mzi()\n",
    "c.plot()"
   ]
  },
  {
   "cell_type": "code",
   "execution_count": null,
   "id": "2c1afe8f",
   "metadata": {},
   "outputs": [],
   "source": [
    "c = gf.components.mzi()\n",
    "n = c.get_netlist()\n",
    "print(c.get_netlist().keys())"
   ]
  },
  {
   "cell_type": "code",
   "execution_count": null,
   "id": "190e0c50",
   "metadata": {},
   "outputs": [],
   "source": [
    "c.plot_netlist()"
   ]
  },
  {
   "cell_type": "code",
   "execution_count": null,
   "id": "b286bde1",
   "metadata": {
    "lines_to_next_cell": 2
   },
   "outputs": [],
   "source": [
    "n.keys()"
   ]
  },
  {
   "cell_type": "markdown",
   "id": "294715ee",
   "metadata": {},
   "source": [
    "## warnings\n",
    "\n",
    "Lets make a connectivity **error**, for example connecting ports on the wrong layer\n"
   ]
  },
  {
   "cell_type": "code",
   "execution_count": null,
   "id": "34439c80",
   "metadata": {},
   "outputs": [],
   "source": [
    "@gf.cell\n",
    "def mmi_with_bend():\n",
    "    c = gf.Component()\n",
    "    mmi = c.add_ref(gf.components.mmi1x2(), alias=\"mmi\")\n",
    "    bend = c.add_ref(gf.components.bend_euler(layer=(2, 0)), alias=\"bend\")\n",
    "    bend.connect(\"o1\", mmi.ports[\"o2\"])\n",
    "    return c\n",
    "\n",
    "\n",
    "c = mmi_with_bend()\n",
    "c.plot()"
   ]
  },
  {
   "cell_type": "code",
   "execution_count": null,
   "id": "00219f84",
   "metadata": {},
   "outputs": [],
   "source": [
    "n = c.get_netlist()"
   ]
  },
  {
   "cell_type": "code",
   "execution_count": null,
   "id": "c6790328",
   "metadata": {},
   "outputs": [],
   "source": [
    "print(n[\"warnings\"])"
   ]
  },
  {
   "cell_type": "code",
   "execution_count": null,
   "id": "8cbed0a5",
   "metadata": {},
   "outputs": [],
   "source": [
    "c.plot_netlist()"
   ]
  },
  {
   "cell_type": "markdown",
   "id": "9c56c547",
   "metadata": {},
   "source": [
    "## get_netlist_recursive\n",
    "\n",
    "When you do `get_netlist()` for a component it will only show connections for the instances that belong to that component.\n",
    "So despite having a lot of connections, it will show only the meaningful connections for that component.\n",
    "For example, a ring has a ring_coupler. If you want to dig deeper, the connections that made that ring coupler are still available.\n",
    "\n",
    "`get_netlist_recursive()` returns a recursive netlist."
   ]
  },
  {
   "cell_type": "code",
   "execution_count": null,
   "id": "f5ce9356",
   "metadata": {},
   "outputs": [],
   "source": [
    "c = gf.components.ring_single()\n",
    "c.plot()"
   ]
  },
  {
   "cell_type": "code",
   "execution_count": null,
   "id": "25fb0753",
   "metadata": {},
   "outputs": [],
   "source": [
    "c.plot_netlist()"
   ]
  },
  {
   "cell_type": "code",
   "execution_count": null,
   "id": "4391650e",
   "metadata": {},
   "outputs": [],
   "source": [
    "c = gf.components.ring_double()\n",
    "c.plot()"
   ]
  },
  {
   "cell_type": "code",
   "execution_count": null,
   "id": "bf4a51d6",
   "metadata": {},
   "outputs": [],
   "source": [
    "c.plot_netlist()"
   ]
  },
  {
   "cell_type": "code",
   "execution_count": null,
   "id": "6497283e",
   "metadata": {},
   "outputs": [],
   "source": [
    "c = gf.components.mzit()\n",
    "c.plot()"
   ]
  },
  {
   "cell_type": "code",
   "execution_count": null,
   "id": "09a873cb",
   "metadata": {},
   "outputs": [],
   "source": [
    "c.plot_netlist()"
   ]
  },
  {
   "cell_type": "code",
   "execution_count": null,
   "id": "a4073eab",
   "metadata": {},
   "outputs": [],
   "source": [
    "coupler_lengths = [10, 20, 30]\n",
    "coupler_gaps = [0.1, 0.2, 0.3]\n",
    "delta_lengths = [10, 100]\n",
    "\n",
    "c = gf.components.mzi_lattice(\n",
    "    coupler_lengths=coupler_lengths,\n",
    "    coupler_gaps=coupler_gaps,\n",
    "    delta_lengths=delta_lengths,\n",
    ")\n",
    "c.plot()"
   ]
  },
  {
   "cell_type": "code",
   "execution_count": null,
   "id": "fdc7bc85",
   "metadata": {},
   "outputs": [],
   "source": [
    "c.plot_netlist()"
   ]
  },
  {
   "cell_type": "code",
   "execution_count": null,
   "id": "89296c81",
   "metadata": {},
   "outputs": [],
   "source": [
    "coupler_lengths = [10, 20, 30, 40]\n",
    "coupler_gaps = [0.1, 0.2, 0.4, 0.5]\n",
    "delta_lengths = [10, 100, 200]\n",
    "\n",
    "c = gf.components.mzi_lattice(\n",
    "    coupler_lengths=coupler_lengths,\n",
    "    coupler_gaps=coupler_gaps,\n",
    "    delta_lengths=delta_lengths,\n",
    ")\n",
    "c.plot()"
   ]
  },
  {
   "cell_type": "code",
   "execution_count": null,
   "id": "0b867f65",
   "metadata": {},
   "outputs": [],
   "source": [
    "n = c.get_netlist()"
   ]
  },
  {
   "cell_type": "code",
   "execution_count": null,
   "id": "92b7ff7d",
   "metadata": {},
   "outputs": [],
   "source": [
    "c.plot_netlist()"
   ]
  },
  {
   "cell_type": "code",
   "execution_count": null,
   "id": "52d88996",
   "metadata": {},
   "outputs": [],
   "source": [
    "n_recursive = c.get_netlist_recursive()"
   ]
  },
  {
   "cell_type": "code",
   "execution_count": null,
   "id": "9f3ed8ae",
   "metadata": {},
   "outputs": [],
   "source": [
    "n_recursive.keys()"
   ]
  },
  {
   "cell_type": "markdown",
   "id": "0cdbde7f",
   "metadata": {},
   "source": [
    "## get_netlist_flat\n",
    "\n",
    "You can also flatten the recursive netlist"
   ]
  },
  {
   "cell_type": "code",
   "execution_count": null,
   "id": "e882ddf5",
   "metadata": {},
   "outputs": [],
   "source": [
    "flat_netlist = c.get_netlist_flat()"
   ]
  },
  {
   "cell_type": "markdown",
   "id": "7eabd197",
   "metadata": {},
   "source": [
    "The flat netlist contains the same keys as a regular netlist:"
   ]
  },
  {
   "cell_type": "code",
   "execution_count": null,
   "id": "b2c48dc8",
   "metadata": {},
   "outputs": [],
   "source": [
    "flat_netlist.keys()"
   ]
  },
  {
   "cell_type": "markdown",
   "id": "add67246",
   "metadata": {},
   "source": [
    "However, its instances are flattened and uniquely renamed according to hierarchy:"
   ]
  },
  {
   "cell_type": "code",
   "execution_count": null,
   "id": "6378bb48",
   "metadata": {},
   "outputs": [],
   "source": [
    "flat_netlist[\"instances\"].keys()"
   ]
  },
  {
   "cell_type": "markdown",
   "id": "1849e7ba",
   "metadata": {},
   "source": [
    "Placement information is accumulated, and connections and ports are mapped, respectively, to the ports of the unique instances or the component top level ports. This can be plotted:"
   ]
  },
  {
   "cell_type": "code",
   "execution_count": null,
   "id": "62636692",
   "metadata": {},
   "outputs": [],
   "source": [
    "c.plot_netlist_flat(with_labels=False)  # labels get cluttered"
   ]
  },
  {
   "cell_type": "markdown",
   "id": "360c832c",
   "metadata": {},
   "source": [
    "## allow_multiple_connections\n",
    "\n",
    "The default `get_netlist` function (also used by default by `get_netlist_recurse` and `get_netlist_flat`) can identify more than two ports sharing the same connection through the `allow_multiple` flag.\n",
    "\n",
    "For instance, consider a resistor network with one shared node:"
   ]
  },
  {
   "cell_type": "code",
   "execution_count": null,
   "id": "1bf1ee56",
   "metadata": {},
   "outputs": [],
   "source": [
    "vdiv = gf.Component(\"voltageDivider\")\n",
    "r1 = vdiv << gf.components.resistance_sheet()\n",
    "r2 = vdiv << gf.components.resistance_sheet()\n",
    "r3 = vdiv << gf.get_component(gf.components.resistance_sheet).rotate()\n",
    "r4 = vdiv << gf.get_component(gf.components.resistance_sheet).rotate()\n",
    "\n",
    "r1.connect(\"pad2\", r2.ports[\"pad1\"])\n",
    "r3.connect(\"pad1\", r2.ports[\"pad1\"], preserve_orientation=True)\n",
    "r4.connect(\"pad2\", r2.ports[\"pad1\"], preserve_orientation=True)\n",
    "\n",
    "vdiv"
   ]
  },
  {
   "cell_type": "code",
   "execution_count": null,
   "id": "db7dea8f",
   "metadata": {},
   "outputs": [],
   "source": [
    "try:\n",
    "    vdiv.get_netlist_flat()\n",
    "except Exception as exc:\n",
    "    print(exc)"
   ]
  },
  {
   "cell_type": "code",
   "execution_count": null,
   "id": "4158786e",
   "metadata": {},
   "outputs": [],
   "source": [
    "vdiv.get_netlist_flat(allow_multiple=True)"
   ]
  }
 ],
 "metadata": {
  "jupytext": {
   "cell_metadata_filter": "-all",
   "formats": "md,ipynb",
   "main_language": "python",
   "notebook_metadata_filter": "-all"
  }
 },
 "nbformat": 4,
 "nbformat_minor": 5
}
