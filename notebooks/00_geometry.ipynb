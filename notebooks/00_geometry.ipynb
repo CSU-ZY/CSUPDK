{
 "cells": [
  {
   "cell_type": "markdown",
   "id": "64556a5d",
   "metadata": {},
   "source": [
    "# Component\n",
    "\n",
    "A `Component` is like an empty canvas, where you can add polygons, references to other Components and ports (to connect to other components)\n",
    "\n",
    "![](https://i.imgur.com/oeuKGsc.png)\n",
    "\n",
    "In gdsfactory **all dimensions** are in **microns**"
   ]
  },
  {
   "cell_type": "markdown",
   "id": "f3e107ad",
   "metadata": {},
   "source": [
    "## Polygons\n",
    "\n",
    "You can add polygons to different layers. By default all units in gdsfactory are in um."
   ]
  },
  {
   "cell_type": "code",
   "execution_count": null,
   "id": "4aff7b42",
   "metadata": {},
   "outputs": [],
   "source": [
    "import gdsfactory as gf\n",
    "\n",
    "c = (\n",
    "    gf.Component()\n",
    ")  # Create a blank component (essentially an empty GDS cell with some special features)\n",
    "p1 = c.add_polygon([(-8, -6), (6, 8), (7, 17), (9, 5)], layer=(1, 0))\n",
    "c.write_gds(\"demo.gds\")  # write it to a GDS file. You can open it in klayout.\n",
    "c.show()  # show it in klayout\n",
    "c.plot()  # plot it in jupyter notebook"
   ]
  },
  {
   "cell_type": "markdown",
   "id": "af3fa6df",
   "metadata": {},
   "source": [
    "**Exercise** :\n",
    "\n",
    "Make a component similar to the one above that has a second polygon in layer (2, 0)"
   ]
  },
  {
   "cell_type": "code",
   "execution_count": null,
   "id": "00bd2ebc",
   "metadata": {},
   "outputs": [],
   "source": [
    "c = gf.Component()\n",
    "\n",
    "# Create some new geometry from the functions available in the geometry library\n",
    "t = gf.components.text(\"Hello!\")\n",
    "r = gf.components.rectangle(size=(5, 10), layer=(2, 0))\n",
    "\n",
    "# Add references to the new geometry to c, our blank component\n",
    "text1 = c.add_ref(t)  # Add the text we created as a reference\n",
    "# Using the << operator (identical to add_ref()), add the same geometry a second time\n",
    "text2 = c << t\n",
    "r = c << r  # Add the rectangle we created\n",
    "\n",
    "# Now that the geometry has been added to \"c\", we can move everything around:\n",
    "text1.d.movey(25)\n",
    "text2.d.move([5, 30])\n",
    "text2.d.rotate(45)\n",
    "r.d.movex(-15)\n",
    "\n",
    "print(c)\n",
    "c.plot()"
   ]
  },
  {
   "cell_type": "code",
   "execution_count": null,
   "id": "8bdadec8",
   "metadata": {
    "lines_to_next_cell": 2
   },
   "outputs": [],
   "source": [
    "c = gf.Component()\n",
    "p1 = c.add_polygon([(-8, -6), (6, 8), (7, 17), (9, 5)], layer=(1, 0))\n",
    "p2 = p1 + 2\n",
    "p2 = c.add_polygon(p2, layer=(2, 0))\n",
    "p3 = p2 - p1\n",
    "p3 = c.add_polygon(p3, layer=(3, 0))\n",
    "c.plot()"
   ]
  },
  {
   "cell_type": "code",
   "execution_count": null,
   "id": "c7ee700c",
   "metadata": {},
   "outputs": [],
   "source": [
    "c = gf.Component()\n",
    "c.add_polygon(p1, layer=(1, 0))\n",
    "c.plot()"
   ]
  },
  {
   "cell_type": "code",
   "execution_count": null,
   "id": "174c252f",
   "metadata": {},
   "outputs": [],
   "source": [
    "c = gf.Component()\n",
    "c.add_polygon(p2, layer=(2, 0))\n",
    "c.plot()"
   ]
  },
  {
   "cell_type": "code",
   "execution_count": null,
   "id": "e6e2d6a1",
   "metadata": {},
   "outputs": [],
   "source": [
    "c = gf.Component()\n",
    "c.add_polygon(p3, layer=(3, 0))\n",
    "c.plot()"
   ]
  },
  {
   "cell_type": "markdown",
   "id": "bc7a3548",
   "metadata": {
    "lines_to_next_cell": 2
   },
   "source": [
    "## Connect **ports**\n",
    "\n",
    "Components can have a \"Port\" that allows you to connect ComponentReferences together like legos.\n",
    "\n",
    "You can write a simple function to make a rectangular straight, assign ports to the ends, and then connect those rectangles together.\n",
    "\n",
    "Notice that `connect` transform each reference but things won't remain connected if you move any of the references afterwards.\n"
   ]
  },
  {
   "cell_type": "code",
   "execution_count": null,
   "id": "2d027b50",
   "metadata": {},
   "outputs": [],
   "source": [
    "def straight(length=10, width=1, layer=(1, 0)):\n",
    "    c = gf.Component()\n",
    "    c.add_polygon([(0, 0), (length, 0), (length, width), (0, width)], layer=layer)\n",
    "    c.add_port(\n",
    "        name=\"o1\", center=[0, width / 2], width=width, orientation=180, layer=layer\n",
    "    )\n",
    "    c.add_port(\n",
    "        name=\"o2\", center=[length, width / 2], width=width, orientation=0, layer=layer\n",
    "    )\n",
    "    return c\n",
    "\n",
    "\n",
    "c = gf.Component()\n",
    "\n",
    "wg1 = c << straight(length=6, width=2.5, layer=(1, 0))\n",
    "wg2 = c << straight(length=6, width=2.5, layer=(2, 0))\n",
    "wg3 = c << straight(length=15, width=2.5, layer=(3, 0))\n",
    "wg2.d.movey(10)\n",
    "wg2.d.rotate(10)\n",
    "\n",
    "wg3.d.movey(20)\n",
    "wg3.d.rotate(15)\n",
    "\n",
    "c.plot()"
   ]
  },
  {
   "cell_type": "code",
   "execution_count": null,
   "id": "d8b968d1",
   "metadata": {},
   "outputs": [],
   "source": [
    "wg2.d.movex(10)"
   ]
  },
  {
   "cell_type": "markdown",
   "id": "6ee9d714",
   "metadata": {},
   "source": [
    "Now we can connect everything together using the ports:\n",
    "\n",
    "Each straight has two ports: 'o1' and 'o2', respectively on the East and West sides of the rectangular straight component. These are arbitrary\n",
    "names defined in our straight() function above"
   ]
  },
  {
   "cell_type": "code",
   "execution_count": null,
   "id": "ca19c714",
   "metadata": {},
   "outputs": [],
   "source": [
    "# Let's keep wg1 in place on the bottom, and connect the other straights to it.\n",
    "# To do that, on wg2 we'll grab the \"o1\" port and connect it to the \"o2\" on wg1:\n",
    "wg2.connect(\"o1\", wg1.ports[\"o2\"], allow_layer_mismatch=True)\n",
    "\n",
    "# Next, on wg3 let's grab the \"o1\" port and connect it to the \"o2\" on wg2:\n",
    "wg3.connect(\"o1\", wg2.ports[\"o2\"], allow_layer_mismatch=True)\n",
    "\n",
    "c.plot()"
   ]
  },
  {
   "cell_type": "markdown",
   "id": "fb597bfa",
   "metadata": {},
   "source": [
    "Ports can be added by copying existing ports. In the example below, ports are added at the component-level on c from the existing ports of children wg1 and wg3\n",
    "(i.e. eastmost and westmost ports)"
   ]
  },
  {
   "cell_type": "code",
   "execution_count": null,
   "id": "fd4734df",
   "metadata": {},
   "outputs": [],
   "source": [
    "c.add_port(\"o1\", port=wg1.ports[\"o1\"])\n",
    "c.add_port(\"o2\", port=wg3.ports[\"o2\"])\n",
    "c.plot()"
   ]
  },
  {
   "cell_type": "markdown",
   "id": "6ab5745c",
   "metadata": {},
   "source": [
    "You can show the ports by adding port pins with triangular shape."
   ]
  },
  {
   "cell_type": "code",
   "execution_count": null,
   "id": "59b9a125",
   "metadata": {},
   "outputs": [],
   "source": [
    "c.draw_ports()\n",
    "c.plot()"
   ]
  },
  {
   "cell_type": "markdown",
   "id": "b98d831a",
   "metadata": {},
   "source": [
    "Also you can visualize ports in klayout as the ports are stored in the GDS cell metadata."
   ]
  },
  {
   "cell_type": "markdown",
   "id": "ca5125eb",
   "metadata": {},
   "source": [
    "## Move and rotate references\n",
    "\n",
    "You can move, rotate, and reflect references to Components.\n",
    "\n",
    "There are two main types of movement:\n",
    "\n",
    "1. Using Integer DataBaseUnits (DBU) (default), in most foundries, 1 DBU = 1nm\n",
    "2. Using Decimals Floats. Where 1.0 represents 1.0um"
   ]
  },
  {
   "cell_type": "code",
   "execution_count": null,
   "id": "e44cb76c",
   "metadata": {},
   "outputs": [],
   "source": [
    "c = gf.Component()\n",
    "\n",
    "wg1 = c << straight(length=1, layer=(1, 0))\n",
    "wg2 = c << straight(length=2, layer=(2, 0))\n",
    "wg3 = c << straight(length=3, layer=(3, 0))\n",
    "\n",
    "# Shift the second straight we created over by dx = 2, dy = 2 um. D stands for Decimal\n",
    "wg2.d.move([2.0, 2.0])\n",
    "\n",
    "# Then, move again the third straight \"from\" x=0 \"to\" x=3000 DBU (dx=3um)\n",
    "wg3.movex(3000)  # equivalent to wg3.d.move(3)\n",
    "\n",
    "c.plot()"
   ]
  },
  {
   "cell_type": "markdown",
   "id": "c29a49b8",
   "metadata": {},
   "source": [
    "You can also define the positions relative to other references."
   ]
  },
  {
   "cell_type": "code",
   "execution_count": null,
   "id": "beda1618",
   "metadata": {},
   "outputs": [],
   "source": [
    "c = gf.Component()\n",
    "\n",
    "wg1 = c << straight(length=1, layer=(1, 0))\n",
    "wg2 = c << straight(length=2, layer=(2, 0))\n",
    "wg3 = c << straight(length=3, layer=(3, 0))\n",
    "\n",
    "# Shift the second straight we created over so that the xmin matches wg1.xmax\n",
    "wg2.xmin = wg1.xmax\n",
    "\n",
    "# Then, leave a 1000nm (1um) gap with on the last straight\n",
    "wg3.xmin = wg2.xmax + 1000\n",
    "\n",
    "c.plot()"
   ]
  },
  {
   "cell_type": "markdown",
   "id": "1df7a349",
   "metadata": {},
   "source": [
    "## Ports\n",
    "\n",
    "Your straights wg1/wg2/wg3 are references to other waveguide components.\n",
    "\n",
    "If you want to add ports to the new Component `c` you can use `add_port`, where you can create a new port or use a reference to an existing port from the underlying reference."
   ]
  },
  {
   "cell_type": "markdown",
   "id": "4bf77de6",
   "metadata": {},
   "source": [
    "You can access the ports of a Component or ComponentReference"
   ]
  },
  {
   "cell_type": "code",
   "execution_count": null,
   "id": "c40e5927",
   "metadata": {},
   "outputs": [],
   "source": [
    "import gdsfactory as gf\n",
    "\n",
    "\n",
    "def straight(length=10, width=1, layer=(1, 0)):\n",
    "    c = gf.Component()\n",
    "    c.add_polygon([(0, 0), (length, 0), (length, width), (0, width)], layer=layer)\n",
    "    c.add_port(\n",
    "        name=\"o1\", center=[0, width / 2], width=width, orientation=180, layer=layer\n",
    "    )\n",
    "    c.add_port(\n",
    "        name=\"o2\", center=[length, width / 2], width=width, orientation=0, layer=layer\n",
    "    )\n",
    "    return c"
   ]
  },
  {
   "cell_type": "code",
   "execution_count": null,
   "id": "9afc1bb9",
   "metadata": {},
   "outputs": [],
   "source": [
    "s = straight(length=10)\n",
    "s.ports"
   ]
  },
  {
   "cell_type": "code",
   "execution_count": null,
   "id": "7bcacae0",
   "metadata": {},
   "outputs": [],
   "source": [
    "s.pprint_ports()"
   ]
  },
  {
   "cell_type": "markdown",
   "id": "c2bdb47b",
   "metadata": {},
   "source": [
    "## References\n",
    "\n",
    "Now that your component `c` is a multi-straight component, you can add references to that component in a new blank Component `c2`, then add two references and shift one to see the movement."
   ]
  },
  {
   "cell_type": "code",
   "execution_count": null,
   "id": "fb89033e",
   "metadata": {},
   "outputs": [],
   "source": [
    "c2 = gf.Component()\n",
    "wg1 = straight(length=10)\n",
    "wg2 = straight(length=10, layer=(2, 0))\n",
    "mwg1_ref = c2.add_ref(wg1)\n",
    "mwg2_ref = c2.add_ref(wg2)\n",
    "mwg2_ref.d.movex(10)\n",
    "c2.plot()"
   ]
  },
  {
   "cell_type": "code",
   "execution_count": null,
   "id": "18979459",
   "metadata": {},
   "outputs": [],
   "source": [
    "# Like before, let's connect mwg1 and mwg2 together\n",
    "mwg1_ref.connect(port=\"o2\", other=mwg2_ref.ports[\"o1\"], allow_layer_mismatch=True)\n",
    "c2.plot()"
   ]
  },
  {
   "cell_type": "markdown",
   "id": "eff42d6e",
   "metadata": {},
   "source": [
    "## Labels\n",
    "\n",
    "You can add abstract GDS labels to annotate your Components, in order to record information\n",
    "directly into the final GDS file without putting any extra geometry onto any layer\n",
    "This label will display in a GDS viewer, but will not be rendered or printed\n",
    "like the polygons created by `gf.components.text()`."
   ]
  },
  {
   "cell_type": "code",
   "execution_count": null,
   "id": "f9973a8f",
   "metadata": {},
   "outputs": [],
   "source": [
    "c2.add_label(text=\"First label\", position=mwg1_ref.d.center)\n",
    "c2.add_label(text=\"Second label\", position=mwg2_ref.d.center)\n",
    "\n",
    "# labels are useful for recording information\n",
    "c2.add_label(\n",
    "    text=f\"The x size of this\\nlayout is {c2.xsize}\",\n",
    "    position=(c2.d.x, c2.d.y),\n",
    "    layer=(10, 0),\n",
    ")\n",
    "c2.plot()"
   ]
  },
  {
   "cell_type": "markdown",
   "id": "1816db5b",
   "metadata": {},
   "source": [
    "Another simple example"
   ]
  },
  {
   "cell_type": "code",
   "execution_count": null,
   "id": "a5a2a5f5",
   "metadata": {},
   "outputs": [],
   "source": [
    "c = gf.Component()\n",
    "r = c << gf.components.rectangle(size=(1, 1))\n",
    "r.x = 0\n",
    "r.y = 0\n",
    "c.add_label(\n",
    "    text=\"Demo label\",\n",
    "    position=(0, 0),\n",
    "    layer=(1, 0),\n",
    ")\n",
    "c.plot()"
   ]
  },
  {
   "cell_type": "markdown",
   "id": "60154ed5",
   "metadata": {},
   "source": [
    "## Boolean shapes\n",
    "\n",
    "If you want to subtract one shape from another, merge two shapes, or\n",
    "perform an XOR on them, you can do that with the `boolean()` function.\n",
    "\n",
    "\n",
    "The ``operation`` argument should be {not, and, or, xor, 'A-B', 'B-A', 'A+B'}.\n",
    "Note that 'A+B' is equivalent to 'or', 'A-B' is equivalent to 'not', and\n",
    "'B-A' is equivalent to 'not' with the operands switched"
   ]
  },
  {
   "cell_type": "code",
   "execution_count": null,
   "id": "d55c73a9",
   "metadata": {},
   "outputs": [],
   "source": [
    "c = gf.Component()\n",
    "e1 = c.add_ref(gf.components.ellipse(layer=(2, 0)))\n",
    "e2 = c.add_ref(gf.components.ellipse(radii=(10, 6), layer=(2, 0))).movex(2)\n",
    "e3 = c.add_ref(gf.components.ellipse(radii=(10, 4), layer=(2, 0))).movex(5)\n",
    "c.plot()"
   ]
  },
  {
   "cell_type": "code",
   "execution_count": null,
   "id": "dbdcc26e",
   "metadata": {},
   "outputs": [],
   "source": [
    "c2 = gf.boolean(A=e2, B=e1, operation=\"not\", layer=(2, 0))\n",
    "c2.plot()"
   ]
  },
  {
   "cell_type": "markdown",
   "id": "ddad6b8a",
   "metadata": {},
   "source": [
    "## Move Reference by port"
   ]
  },
  {
   "cell_type": "code",
   "execution_count": null,
   "id": "a1901d0f",
   "metadata": {},
   "outputs": [],
   "source": [
    "c = gf.Component()\n",
    "mmi = c.add_ref(gf.components.mmi1x2())\n",
    "bend = c.add_ref(gf.components.bend_circular(layer=(1, 0)))\n",
    "c.plot()"
   ]
  },
  {
   "cell_type": "code",
   "execution_count": null,
   "id": "eeb81f6a",
   "metadata": {},
   "outputs": [],
   "source": [
    "bend.connect(\"o1\", mmi.ports[\"o2\"])  # connects follow Source -> Destination syntax\n",
    "c.plot()"
   ]
  },
  {
   "cell_type": "markdown",
   "id": "34c6fdb2",
   "metadata": {},
   "source": [
    "## Mirror reference\n",
    "\n",
    "By default the mirror works along the y-axis."
   ]
  },
  {
   "cell_type": "code",
   "execution_count": null,
   "id": "d71491a1",
   "metadata": {},
   "outputs": [],
   "source": [
    "c = gf.Component()\n",
    "mmi = c.add_ref(gf.components.mmi1x2())\n",
    "bend = c.add_ref(gf.components.bend_circular())\n",
    "bend.connect(\n",
    "    \"o1\", mmi.ports[\"o2\"], mirror=True\n",
    ")  # connects follow Source -> Destination syntax\n",
    "c.plot()"
   ]
  },
  {
   "cell_type": "markdown",
   "id": "e94ba154",
   "metadata": {},
   "source": [
    "## Write\n",
    "\n",
    "You can write your Component to:\n",
    "\n",
    "- GDS file (Graphical Database System) or OASIS for chips.\n",
    "- gerber for PCB.\n",
    "- STL for 3d printing."
   ]
  },
  {
   "cell_type": "code",
   "execution_count": null,
   "id": "79c0b306",
   "metadata": {},
   "outputs": [],
   "source": [
    "import gdsfactory as gf\n",
    "\n",
    "c = gf.components.cross()\n",
    "c.write_gds(\"demo.gds\")\n",
    "c.plot()"
   ]
  },
  {
   "cell_type": "markdown",
   "id": "f1e97b07",
   "metadata": {},
   "source": [
    "You can see the GDS file in Klayout viewer.\n",
    "\n",
    "Sometimes you also want to save the GDS together with metadata (settings, port names, widths, locations ...) in YAML"
   ]
  },
  {
   "cell_type": "code",
   "execution_count": null,
   "id": "9da970b8",
   "metadata": {},
   "outputs": [],
   "source": [
    "c.write_gds(\"demo.gds\", with_metadata=True)"
   ]
  },
  {
   "cell_type": "markdown",
   "id": "a9f932df",
   "metadata": {},
   "source": [
    "OASIS is a newer format that can store CAD files and that reduces the size."
   ]
  },
  {
   "cell_type": "code",
   "execution_count": null,
   "id": "fc7eb49c",
   "metadata": {},
   "outputs": [],
   "source": [
    "c.write(\"demo.oas\")"
   ]
  },
  {
   "cell_type": "markdown",
   "id": "b9fb47ae",
   "metadata": {},
   "source": [
    "You can also save it as STL for 3D printing or for some simulator, thanks to the LayerStack"
   ]
  },
  {
   "cell_type": "code",
   "execution_count": null,
   "id": "01633f9d",
   "metadata": {},
   "outputs": [],
   "source": [
    "c.write_stl(\"demo.stl\")"
   ]
  },
  {
   "cell_type": "code",
   "execution_count": null,
   "id": "5bce0f62",
   "metadata": {},
   "outputs": [],
   "source": [
    "scene = c.to_3d()\n",
    "scene.show()"
   ]
  },
  {
   "cell_type": "code",
   "execution_count": null,
   "id": "b76038eb",
   "metadata": {},
   "outputs": [],
   "source": []
  }
 ],
 "metadata": {
  "jupytext": {
   "cell_metadata_filter": "-all",
   "custom_cell_magics": "kql"
  },
  "kernelspec": {
   "display_name": "base",
   "language": "python",
   "name": "python3"
  },
  "language_info": {
   "codemirror_mode": {
    "name": "ipython",
    "version": 3
   },
   "file_extension": ".py",
   "mimetype": "text/x-python",
   "name": "python",
   "nbconvert_exporter": "python",
   "pygments_lexer": "ipython3",
   "version": "3.11.5"
  }
 },
 "nbformat": 4,
 "nbformat_minor": 5
}
