{
 "cells": [
  {
   "cell_type": "markdown",
   "metadata": {},
   "source": [
    "# Write Component from YAML netlist"
   ]
  },
  {
   "cell_type": "code",
   "execution_count": null,
   "metadata": {
    "attributes": {
     "classes": [],
     "id": "",
     "n": "5"
    }
   },
   "outputs": [],
   "source": [
    "import io\n",
    "import pp\n",
    "\n",
    "sample = io.StringIO(\"\"\"\n",
    "components:\n",
    "    CP1:\n",
    "      component: mmi1x2\n",
    "      settings:\n",
    "          width_mmi: 4.5\n",
    "          length_mmi: 10\n",
    "    CP2:\n",
    "        component: mmi1x2\n",
    "        settings:\n",
    "            width_mmi: 4.5\n",
    "            length_mmi: 5\n",
    "        transformations: mirror_y\n",
    "    arm_top:\n",
    "        component: mzi_arm\n",
    "    arm_bot:\n",
    "        component: mzi_arm\n",
    "        transformations: mirror_x\n",
    "\n",
    "ports_map:\n",
    "    W0: [CP1, W0]\n",
    "    E0: [CP2, W0]\n",
    "\n",
    "connections:\n",
    "    - [CP1, E0, arm_bot, W0]\n",
    "    - [arm_bot, E0, CP2, E0]\n",
    "    - [CP1, E1, arm_top, W0]\n",
    "    - [arm_top, E0, CP2, E0]\n",
    "\"\"\")\n",
    "\n",
    "c = pp.netlist_from_yaml(sample)\n",
    "pp.show(c)\n",
    "pp.plotgds(c)"
   ]
  },
  {
   "cell_type": "code",
   "execution_count": null,
   "metadata": {},
   "outputs": [],
   "source": [
    "c.ports"
   ]
  },
  {
   "cell_type": "code",
   "execution_count": null,
   "metadata": {},
   "outputs": [],
   "source": [
    "c.name"
   ]
  },
  {
   "cell_type": "markdown",
   "metadata": {},
   "source": [
    "## Adjust component settings\n",
    "\n",
    "We can reduce the length of each of the arms"
   ]
  },
  {
   "cell_type": "code",
   "execution_count": null,
   "metadata": {},
   "outputs": [],
   "source": [
    "import io\n",
    "import pp\n",
    "\n",
    "sample = io.StringIO(\"\"\"\n",
    "components:\n",
    "    CP1:\n",
    "      component: mmi1x2\n",
    "      settings:\n",
    "          width_mmi: 4.5\n",
    "          length_mmi: 10\n",
    "    CP2:\n",
    "        component: mmi1x2\n",
    "        settings:\n",
    "            width_mmi: 4.5\n",
    "            length_mmi: 5\n",
    "        transformations: mirror_y\n",
    "    arm_top:\n",
    "        component: mzi_arm\n",
    "        settings:\n",
    "            L0: 0\n",
    "            DL: 0\n",
    "    arm_bot:\n",
    "        component: mzi_arm\n",
    "        settings:\n",
    "            L0: 0\n",
    "            DL: 10\n",
    "        transformations: mirror_x\n",
    "\n",
    "ports_map:\n",
    "    W0: [CP1, W0]\n",
    "    E0: [CP2, W0]\n",
    "\n",
    "connections:\n",
    "    - [CP1, E0, arm_bot, W0]\n",
    "    - [arm_bot, E0, CP2, E0]\n",
    "    - [CP1, E1, arm_top, W0]\n",
    "    - [arm_top, E0, CP2, E0]\n",
    "\"\"\")\n",
    "\n",
    "c = pp.netlist_from_yaml(sample)\n",
    "pp.show(c)\n",
    "pp.plotgds(c)"
   ]
  },
  {
   "cell_type": "markdown",
   "metadata": {},
   "source": [
    "## Swap components \n",
    "\n",
    "We can also use 2x2 couplers instead of 1x2 MMIs"
   ]
  },
  {
   "cell_type": "code",
   "execution_count": null,
   "metadata": {},
   "outputs": [],
   "source": [
    "import io\n",
    "import pp\n",
    "\n",
    "sample = io.StringIO(\"\"\"\n",
    "components:\n",
    "    CP1:\n",
    "      component: mmi2x2\n",
    "      settings:\n",
    "          width_mmi: 4.5\n",
    "          length_mmi: 10\n",
    "    CP2:\n",
    "        component: mmi2x2\n",
    "        settings:\n",
    "            width_mmi: 4.5\n",
    "            length_mmi: 5\n",
    "        transformations: mirror_y\n",
    "    arm_top:\n",
    "        component: mzi_arm\n",
    "        settings:\n",
    "            L0: 0\n",
    "            DL: 0\n",
    "    arm_bot:\n",
    "        component: mzi_arm\n",
    "        settings:\n",
    "            L0: 0\n",
    "            DL: 10\n",
    "        transformations: mirror_x\n",
    "\n",
    "ports_map:\n",
    "    W0: [CP1, W0]\n",
    "    E0: [CP2, W0]\n",
    "\n",
    "connections:\n",
    "    - [CP1, E0, arm_bot, W0]\n",
    "    - [arm_bot, E0, CP2, E0]\n",
    "    - [CP1, E1, arm_top, W0]\n",
    "    - [arm_top, E0, CP2, E0]\n",
    "\"\"\")\n",
    "\n",
    "c = pp.netlist_from_yaml(sample)\n",
    "pp.show(c)\n",
    "pp.plotgds(c)"
   ]
  },
  {
   "cell_type": "markdown",
   "metadata": {},
   "source": [
    "## Exposing more ports\n",
    "\n",
    "We can also expose more ports, such as the electrical ports, so we can route electrical signals to the circuits."
   ]
  },
  {
   "cell_type": "code",
   "execution_count": null,
   "metadata": {
    "attributes": {
     "classes": [],
     "id": "",
     "n": "5"
    }
   },
   "outputs": [],
   "source": [
    "sample = io.StringIO(\"\"\"\n",
    "components:\n",
    "    CP1:\n",
    "      component: mmi2x2\n",
    "      settings:\n",
    "          width_mmi: 4.5\n",
    "          length_mmi: 10\n",
    "    CP2:\n",
    "        component: mmi2x2\n",
    "        settings:\n",
    "            width_mmi: 4.5\n",
    "            length_mmi: 5\n",
    "        transformations: mirror_y\n",
    "    arm_top:\n",
    "        component: mzi_arm\n",
    "        settings:\n",
    "            L0: 0\n",
    "            DL: 0\n",
    "    arm_bot:\n",
    "        component: mzi_arm\n",
    "        settings:\n",
    "            L0: 0\n",
    "            DL: 10\n",
    "        transformations: mirror_x\n",
    "\n",
    "ports_map:\n",
    "    W0: [CP1, W0]\n",
    "    E0: [CP2, W0]\n",
    "    W1: [CP1, W1]\n",
    "    E1: [CP2, W1]\n",
    "    E_TOP_0: [arm_top, E_0]\n",
    "    E_TOP_1: [arm_top, E_1]\n",
    "    E_TOP_2: [arm_top, E_2]\n",
    "    E_TOP_3: [arm_top, E_3]\n",
    "    E_BOT_0: [arm_bot, E_0]\n",
    "    E_BOT_1: [arm_bot, E_1]\n",
    "    E_BOT_2: [arm_bot, E_2]\n",
    "    E_BOT_3: [arm_bot, E_3]\n",
    "\n",
    "\n",
    "connections:\n",
    "    - [CP1, E0, arm_bot, W0]\n",
    "    - [arm_bot, E0, CP2, E0]\n",
    "    - [CP1, E1, arm_top, W0]\n",
    "    - [arm_top, E0, CP2, E0]\n",
    "\n",
    "\n",
    "\"\"\")\n",
    "\n",
    "c = pp.netlist_from_yaml(sample)\n",
    "pp.show(c)\n",
    "pp.plotgds(c)"
   ]
  },
  {
   "cell_type": "code",
   "execution_count": null,
   "metadata": {},
   "outputs": [],
   "source": [
    "c.ports"
   ]
  },
  {
   "cell_type": "code",
   "execution_count": null,
   "metadata": {},
   "outputs": [],
   "source": []
  }
 ],
 "metadata": {
  "kernelspec": {
   "display_name": "Python 3",
   "language": "python",
   "name": "python3"
  },
  "language_info": {
   "codemirror_mode": {
    "name": "ipython",
    "version": 3
   },
   "file_extension": ".py",
   "mimetype": "text/x-python",
   "name": "python",
   "nbconvert_exporter": "python",
   "pygments_lexer": "ipython3",
   "version": "3.7.7"
  }
 },
 "nbformat": 4,
 "nbformat_minor": 4
}
