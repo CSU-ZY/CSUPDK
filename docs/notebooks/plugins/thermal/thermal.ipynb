{
 "cells": [
  {
   "cell_type": "markdown",
   "id": "2732407e-f304-44cf-9254-83a2047abcdb",
   "metadata": {},
   "source": [
    "# Thermal \n",
    "\n",
    "gdsfactory has an FEM plugin that you can use for thermal simulations."
   ]
  },
  {
   "cell_type": "code",
   "execution_count": null,
   "id": "222cc555-83d4-4959-9f8a-9b9dc01c2475",
   "metadata": {},
   "outputs": [],
   "source": [
    "import gmsh\n",
    "import gdsfactory as gf\n",
    "from gdsfactory.simulation.gmsh.mesh2D import mesh2D\n",
    "from gdsfactory.simulation.thermal import solve_thermal\n",
    "\n",
    "gf.tech.LAYER_STACK.layers[\"heater\"].thickness = 0.13\n",
    "gf.tech.LAYER_STACK.layers[\"heater\"].zmin = 2.2\n",
    "\n",
    "heater1 = gf.components.straight_heater_metal(length=50, heater_width=2)\n",
    "heater2 = gf.components.straight_heater_metal(length=50, heater_width=2).move(\n",
    "    [0, -10]\n",
    ")\n",
    "\n",
    "heaters = gf.Component(\"heaters\")\n",
    "heaters << heater1\n",
    "heaters"
   ]
  },
  {
   "cell_type": "code",
   "execution_count": null,
   "id": "8d3f5e9d-0ea9-40f0-95ae-080e7168242e",
   "metadata": {},
   "outputs": [],
   "source": [
    "print(gf.tech.LAYER_STACK.layers.keys())"
   ]
  },
  {
   "cell_type": "code",
   "execution_count": null,
   "id": "154af806-e67f-4ca3-b986-32f8be719dcc",
   "metadata": {},
   "outputs": [],
   "source": [
    "geometry = mesh2D(\n",
    "    heaters,\n",
    "    ((25, -25), (25, 25)),\n",
    "    base_resolution=0.4,\n",
    "    exclude_layers=((1, 10),),\n",
    "    padding=(10, 10, 1, 1),\n",
    "    refine_resolution={(1, 0): 0.01, (47, 0): 0.005},\n",
    ")\n",
    "\n",
    "gmsh.write(\"mesh.msh\")\n",
    "gmsh.clear()\n",
    "geometry.__exit__()\n",
    "\n",
    "solve_thermal(\n",
    "    mesh_filename=\"mesh.msh\",\n",
    "    thermal_conductivity={\"(47, 0)\": 28, \"oxide\": 1.38, \"(1, 0)\": 148},\n",
    "    specific_conductivity={\"(47, 0)_0\": 2.3e6},\n",
    "    thermal_diffusivity={\n",
    "        \"(47, 0)\": 28 / 598 / 5240,\n",
    "        \"oxide\": 1.38 / 709 / 2203,\n",
    "        \"(1, 0)\": 148 / 711 / 2330,\n",
    "    },\n",
    "    # specific_heat={\"(47, 0)_0\": 598, 'oxide': 709, '(1, 0)': 711},\n",
    "    # density={\"(47, 0)_0\": 5240, 'oxide': 2203, '(1, 0)': 2330},\n",
    "    currents={\"(47, 0)_0\": 0.007},\n",
    ")"
   ]
  },
  {
   "cell_type": "code",
   "execution_count": null,
   "id": "42efa58c-098a-4cea-a74c-5aaa802e04ca",
   "metadata": {},
   "outputs": [],
   "source": []
  }
 ],
 "metadata": {
  "kernelspec": {
   "display_name": "Python 3 (ipykernel)",
   "language": "python",
   "name": "python3"
  },
  "language_info": {
   "codemirror_mode": {
    "name": "ipython",
    "version": 3
   },
   "file_extension": ".py",
   "mimetype": "text/x-python",
   "name": "python",
   "nbconvert_exporter": "python",
   "pygments_lexer": "ipython3",
   "version": "3.10.6"
  }
 },
 "nbformat": 4,
 "nbformat_minor": 5
}
