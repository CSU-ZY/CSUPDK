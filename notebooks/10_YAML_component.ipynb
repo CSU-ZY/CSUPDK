{
 "cells": [
  {
   "cell_type": "markdown",
   "metadata": {},
   "source": [
    "# Write Component from YAML file"
   ]
  },
  {
   "cell_type": "code",
   "execution_count": null,
   "metadata": {
    "attributes": {
     "classes": [],
     "id": "",
     "n": "5"
    }
   },
   "outputs": [],
   "source": [
    "import io\n",
    "import pp\n",
    "\n",
    "instances_sample = io.StringIO(\"\"\"\n",
    "mmi_long:\n",
    "  component: mmi1x2\n",
    "  settings:\n",
    "    width_mmi: 4.5\n",
    "    length_mmi: 10\n",
    "mmi_short:\n",
    "  component: mmi1x2\n",
    "  settings:\n",
    "    width_mmi: 4.5\n",
    "    length_mmi: 5\n",
    "\"\"\")\n",
    "\n",
    "c = pp.component_from_yaml(instances_sample)\n",
    "pp.show(c)\n",
    "pp.plotgds(c)"
   ]
  },
  {
   "cell_type": "code",
   "execution_count": null,
   "metadata": {},
   "outputs": [],
   "source": [
    "c.instances"
   ]
  },
  {
   "cell_type": "code",
   "execution_count": null,
   "metadata": {},
   "outputs": [],
   "source": [
    "c.instances['mmi_long'].x = 100"
   ]
  },
  {
   "cell_type": "code",
   "execution_count": null,
   "metadata": {},
   "outputs": [],
   "source": [
    "pp.show(c)\n",
    "pp.plotgds(c)"
   ]
  },
  {
   "cell_type": "code",
   "execution_count": null,
   "metadata": {},
   "outputs": [],
   "source": [
    "import io\n",
    "import pp\n",
    "\n",
    "instances_sample = io.StringIO(\"\"\"\n",
    "mmi_long:\n",
    "  component: mmi1x2\n",
    "  settings:\n",
    "    width_mmi: 4.5\n",
    "    length_mmi: 10\n",
    "mmi_short:\n",
    "  component: mmi1x2\n",
    "  settings:\n",
    "    width_mmi: 4.5\n",
    "    length_mmi: 5\n",
    "\"\"\")\n",
    "\n",
    "placements_sample = io.StringIO(\n",
    "    \"\"\"\n",
    "mmi_long:\n",
    "    x: 100\n",
    "    y: 100\n",
    "\"\"\"\n",
    ")\n",
    "\n",
    "c = pp.component_from_yaml(instances_sample, placements_sample)\n",
    "pp.show(c)\n",
    "pp.plotgds(c)"
   ]
  },
  {
   "cell_type": "code",
   "execution_count": null,
   "metadata": {},
   "outputs": [],
   "source": [
    "import io\n",
    "import pp\n",
    "\n",
    "instances_sample = io.StringIO(\"\"\"\n",
    "mmi_long:\n",
    "  component: mmi1x2\n",
    "  settings:\n",
    "    width_mmi: 4.5\n",
    "    length_mmi: 10\n",
    "mmi_short:\n",
    "  component: mmi1x2\n",
    "  settings:\n",
    "    width_mmi: 4.5\n",
    "    length_mmi: 5\n",
    "\"\"\")\n",
    "\n",
    "placements_sample = io.StringIO(\n",
    "    \"\"\"\n",
    "mmi_long:\n",
    "    x: 100\n",
    "    y: 100\n",
    "\"\"\"\n",
    ")\n",
    "\n",
    "routing_sample = io.StringIO(\n",
    "    \"\"\"\n",
    "mmi_short,E1: mmi_long,W0\n",
    "\"\"\"\n",
    ")\n",
    "\n",
    "c = pp.component_from_yaml(instances_sample, placements_sample, routing_sample)\n",
    "pp.show(c)\n",
    "pp.plotgds(c)"
   ]
  },
  {
   "cell_type": "markdown",
   "metadata": {},
   "source": [
    "You can **rotate** and instance specifying the angle in degrees"
   ]
  },
  {
   "cell_type": "code",
   "execution_count": null,
   "metadata": {},
   "outputs": [],
   "source": [
    "import io\n",
    "import pp\n",
    "\n",
    "instances_sample = io.StringIO(\"\"\"\n",
    "mmi_long:\n",
    "  component: mmi1x2\n",
    "  settings:\n",
    "    width_mmi: 4.5\n",
    "    length_mmi: 10\n",
    "mmi_short:\n",
    "  component: mmi1x2\n",
    "  settings:\n",
    "    width_mmi: 4.5\n",
    "    length_mmi: 5\n",
    "\"\"\")\n",
    "\n",
    "placements_sample = io.StringIO(\n",
    "    \"\"\"\n",
    "mmi_long:\n",
    "    rotation: 180\n",
    "    x: 100\n",
    "    y: 100\n",
    "\"\"\"\n",
    ")\n",
    "\n",
    "routing_sample = io.StringIO(\n",
    "    \"\"\"\n",
    "mmi_short,E1: mmi_long,E0\n",
    "\"\"\"\n",
    ")\n",
    "\n",
    "c = pp.component_from_yaml(instances_sample, placements_sample, routing_sample)\n",
    "pp.show(c)\n",
    "pp.plotgds(c)"
   ]
  },
  {
   "cell_type": "markdown",
   "metadata": {},
   "source": [
    "You can also define ports for the component"
   ]
  },
  {
   "cell_type": "code",
   "execution_count": null,
   "metadata": {},
   "outputs": [],
   "source": [
    "import io\n",
    "import pp\n",
    "\n",
    "instances_sample = io.StringIO(\"\"\"\n",
    "mmi_long:\n",
    "  component: mmi1x2\n",
    "  settings:\n",
    "    width_mmi: 4.5\n",
    "    length_mmi: 10\n",
    "mmi_short:\n",
    "  component: mmi1x2\n",
    "  settings:\n",
    "    width_mmi: 4.5\n",
    "    length_mmi: 5\n",
    "\"\"\")\n",
    "\n",
    "placements_sample = io.StringIO(\n",
    "    \"\"\"\n",
    "mmi_long:\n",
    "    rotation: 180\n",
    "    x: 100\n",
    "    y: 100\n",
    "\"\"\"\n",
    ")\n",
    "\n",
    "routing_sample = io.StringIO(\n",
    "    \"\"\"\n",
    "mmi_short,E1: mmi_long,E0\n",
    "\"\"\"\n",
    ")\n",
    "\n",
    "ports_sample = io.StringIO(\n",
    "    \"\"\"\n",
    "E0: mmi_short,W0\n",
    "W0: mmi_long,W0\n",
    "\"\"\"\n",
    ")\n",
    "\n",
    "\n",
    "c = pp.component_from_yaml(instances_sample, placements_sample, routing_sample, ports_sample)\n",
    "pp.show(c)\n",
    "pp.plotgds(c)"
   ]
  },
  {
   "cell_type": "code",
   "execution_count": null,
   "metadata": {},
   "outputs": [],
   "source": [
    "r = c.routes['mmi_short,E1->mmi_long,E0'][0]"
   ]
  },
  {
   "cell_type": "code",
   "execution_count": null,
   "metadata": {},
   "outputs": [],
   "source": [
    "r.parent.length"
   ]
  }
 ],
 "metadata": {
  "kernelspec": {
   "display_name": "Python 3",
   "language": "python",
   "name": "python3"
  },
  "language_info": {
   "codemirror_mode": {
    "name": "ipython",
    "version": 3
   },
   "file_extension": ".py",
   "mimetype": "text/x-python",
   "name": "python",
   "nbconvert_exporter": "python",
   "pygments_lexer": "ipython3",
   "version": "3.7.7"
  }
 },
 "nbformat": 4,
 "nbformat_minor": 4
}
