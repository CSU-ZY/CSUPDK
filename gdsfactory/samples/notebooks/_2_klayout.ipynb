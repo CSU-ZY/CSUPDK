{
 "cells": [
  {
   "cell_type": "markdown",
   "id": "0d8c946f",
   "metadata": {},
   "source": [
    "# KLayout integration\n",
    "\n",
    "[Klayout](https://www.klayout.de/build.html) is an open source layout viewer and editor. In gdsfactory code driven flow you define your components, circuits and reticles in python or YAML code.\n",
    "\n",
    "For rapid iteration, gdsfactory comes with a Klayout macro `klive` that runs inside klayout, so that when you run `component.show()` in python, it displays your GDS in Klayout.\n",
    "\n",
    "![workflow](https://i.imgur.com/yquTcM7.png)"
   ]
  },
  {
   "cell_type": "markdown",
   "id": "77d0df15",
   "metadata": {},
   "source": [
    "You can install the klayout klive plugin to be able to see live updates on your GDS files:"
   ]
  },
  {
   "cell_type": "markdown",
   "id": "53ab3440",
   "metadata": {},
   "source": [
    "![KLayout package](https://i.imgur.com/IZWH6U0.png)"
   ]
  },
  {
   "cell_type": "markdown",
   "id": "cf55adc9",
   "metadata": {},
   "source": [
    "You can install the klayout generic pdk (layermap and DRC) in 2 ways:\n",
    "\n",
    "1. from the terminal by typing `gf install klayout-genericpdk` after installing gdsfactory `pip install gdsfactory`\n",
    "2. using KLayout package manager (see image below), Tools --> Manage Packages\n",
    "\n",
    "![KLayout package](https://i.imgur.com/AkfcCms.png)"
   ]
  },
  {
   "cell_type": "markdown",
   "id": "3d19150b",
   "metadata": {},
   "source": [
    "What does the klayout generic tech installs?\n",
    "\n",
    "- generic layermap: for the generic gdsfactory technology.\n",
    "- generic DRC: for generic gdsfactory technology"
   ]
  }
 ],
 "metadata": {
  "jupytext": {
   "cell_metadata_filter": "-all",
   "formats": "md,ipynb",
   "main_language": "python",
   "notebook_metadata_filter": "-all"
  }
 },
 "nbformat": 4,
 "nbformat_minor": 5
}
