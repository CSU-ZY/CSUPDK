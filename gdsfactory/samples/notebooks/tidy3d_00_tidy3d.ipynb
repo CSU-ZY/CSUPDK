{
 "cells": [
  {
   "cell_type": "markdown",
   "id": "024db310",
   "metadata": {},
   "source": [
    "# FDTD tidy3d\n",
    "\n",
    "[tidy3D](https://docs.flexcompute.com/projects/tidy3d/en/latest/) is a fast GPU based FDTD tool developed by flexcompute.\n",
    "\n",
    "To run, you need to [create an account](https://simulation.cloud/) and add credits. The number of credits that each simulation takes depends on the simulation computation time.\n",
    "\n",
    "We have commented the `write_sparameters` functions to save on credits when running these simulations.\n",
    "\n",
    "![cloud_model](https://i.imgur.com/5VTCPLR.png)\n",
    "\n",
    "## Materials\n",
    "\n",
    "Tidy3d provides you with a material database of dispersive materials."
   ]
  },
  {
   "cell_type": "code",
   "execution_count": null,
   "id": "554d2f9d",
   "metadata": {},
   "outputs": [],
   "source": [
    "import matplotlib.pyplot as plt\n",
    "import numpy as np\n",
    "from gdsfactory.components.taper import taper_sc_nc\n",
    "import gdsfactory.simulation as sim\n",
    "import gdsfactory.simulation.gtidy3d as gt\n",
    "import gdsfactory as gf\n",
    "from gdsfactory.config import PATH\n",
    "from tidy3d import web\n",
    "import tidy3d as td\n",
    "\n",
    "gf.config.rich_output()\n",
    "PDK = gf.generic_tech.get_generic_pdk()\n",
    "PDK.activate()"
   ]
  },
  {
   "cell_type": "code",
   "execution_count": null,
   "id": "ddf93399",
   "metadata": {},
   "outputs": [],
   "source": [
    "nm = 1e-3\n",
    "wavelength = np.linspace(1500, 1600) * nm\n",
    "f = td.C_0 / wavelength\n",
    "eps_complex = td.material_library[\"cSi\"][\"Li1993_293K\"].eps_model(f)\n",
    "n, k = td.Medium.eps_complex_to_nk(eps_complex)\n",
    "plt.plot(wavelength, n)\n",
    "plt.title(\"cSi crystalline silicon\")\n",
    "plt.xlabel(\"wavelength\")\n",
    "plt.ylabel(\"n\")"
   ]
  },
  {
   "cell_type": "code",
   "execution_count": null,
   "id": "98043b82",
   "metadata": {},
   "outputs": [],
   "source": [
    "eps_complex = td.material_library[\"Si3N4\"][\"Luke2015PMLStable\"].eps_model(f)\n",
    "n, k = td.Medium.eps_complex_to_nk(eps_complex)\n",
    "plt.plot(wavelength, n)\n",
    "plt.title(\"SiN\")\n",
    "plt.xlabel(\"wavelength\")\n",
    "plt.ylabel(\"n\")"
   ]
  },
  {
   "cell_type": "code",
   "execution_count": null,
   "id": "bf9d16f2",
   "metadata": {},
   "outputs": [],
   "source": [
    "eps_complex = td.material_library[\"SiO2\"][\"Horiba\"].eps_model(f)\n",
    "n, k = td.Medium.eps_complex_to_nk(eps_complex)\n",
    "plt.plot(wavelength, n)\n",
    "plt.title(\"SiO2\")\n",
    "plt.xlabel(\"wavelength\")\n",
    "plt.ylabel(\"n\")"
   ]
  },
  {
   "cell_type": "markdown",
   "id": "880d46fb",
   "metadata": {},
   "source": [
    "## get_simulation\n",
    "\n",
    "You can run `get_simulation` to convert a gdsfactory planar Component into a tidy3d simulation and make sure the simulation looks correct before running it\n",
    "\n",
    "`get_simulation` also has a `plot_modes` option so you can make sure you are monitoring the desired mode."
   ]
  },
  {
   "cell_type": "markdown",
   "id": "ecc5a59b",
   "metadata": {},
   "source": [
    "### 2D\n",
    "\n",
    "2D planar simulations run faster than 3D. When running in 2D we don't consider the component thickness in the z dimension"
   ]
  },
  {
   "cell_type": "code",
   "execution_count": null,
   "id": "689a0ab9",
   "metadata": {},
   "outputs": [],
   "source": [
    "c = gf.components.mmi1x2()\n",
    "s = gt.get_simulation(c, is_3d=False)\n",
    "fig = gt.plot_simulation(s)"
   ]
  },
  {
   "cell_type": "markdown",
   "id": "a3093c54",
   "metadata": {},
   "source": [
    "### 3D\n",
    "\n",
    "By default all simulations run in 3D unless indicated otherwise with the `is_3d` argument.\n",
    "3D simulations run quite fast thanks to the GPU solver on the server side hosted by tidy3d cloud."
   ]
  },
  {
   "cell_type": "code",
   "execution_count": null,
   "id": "5fab429c",
   "metadata": {},
   "outputs": [],
   "source": [
    "help(gt.get_simulation)"
   ]
  },
  {
   "cell_type": "code",
   "execution_count": null,
   "id": "79d4285c",
   "metadata": {},
   "outputs": [],
   "source": [
    "c = gf.components.mmi1x2()\n",
    "s = gt.get_simulation(c)\n",
    "fig = gt.plot_simulation(s)"
   ]
  },
  {
   "cell_type": "code",
   "execution_count": null,
   "id": "abbe82a9",
   "metadata": {},
   "outputs": [],
   "source": [
    "c = gf.components.coupler_ring()\n",
    "s = gt.get_simulation(c)\n",
    "fig = gt.plot_simulation(s)"
   ]
  },
  {
   "cell_type": "code",
   "execution_count": null,
   "id": "a74d4824",
   "metadata": {},
   "outputs": [],
   "source": [
    "c = gf.components.bend_circular(radius=2)\n",
    "s = gt.get_simulation(c)\n",
    "fig = gt.plot_simulation(s)"
   ]
  },
  {
   "cell_type": "code",
   "execution_count": null,
   "id": "267c6cbd",
   "metadata": {},
   "outputs": [],
   "source": [
    "c = gf.components.straight()\n",
    "s = gt.get_simulation(c)\n",
    "fig = gt.plot_simulation(s)"
   ]
  },
  {
   "cell_type": "markdown",
   "id": "e876a06f",
   "metadata": {},
   "source": [
    "## Sidewall angle\n",
    "\n",
    "You can define the sidewall angle in degrees with respect to normal. Lets exaggerate the sidewall angle so we can clearly see it."
   ]
  },
  {
   "cell_type": "code",
   "execution_count": null,
   "id": "648f9ba6",
   "metadata": {},
   "outputs": [],
   "source": [
    "c = gf.components.straight()\n",
    "s = gt.get_simulation(c, sidewall_angle_deg=45, plot_modes=True)\n",
    "fig = gt.plot_simulation(s)"
   ]
  },
  {
   "cell_type": "markdown",
   "id": "7c11251f",
   "metadata": {},
   "source": [
    "## Erosion / dilation"
   ]
  },
  {
   "cell_type": "code",
   "execution_count": null,
   "id": "4445608f",
   "metadata": {},
   "outputs": [],
   "source": [
    "c = gf.components.straight()\n",
    "s = gt.get_simulation(c, is_3d=False, dilation=0)\n",
    "fig = gt.plot_simulation(s)"
   ]
  },
  {
   "cell_type": "code",
   "execution_count": null,
   "id": "47411536",
   "metadata": {},
   "outputs": [],
   "source": [
    "c = gf.components.straight()\n",
    "s = gt.get_simulation(c, is_3d=False, dilation=0.5)\n",
    "fig = gt.plot_simulation(s)"
   ]
  },
  {
   "cell_type": "code",
   "execution_count": null,
   "id": "7909bc89",
   "metadata": {},
   "outputs": [],
   "source": [
    "0.5 * 1.5"
   ]
  },
  {
   "cell_type": "markdown",
   "id": "5fe7df03",
   "metadata": {},
   "source": [
    "A `dilation = 0.5` makes a 0.5um waveguide 0.75um"
   ]
  },
  {
   "cell_type": "code",
   "execution_count": null,
   "id": "8a72556f",
   "metadata": {},
   "outputs": [],
   "source": [
    "0.5 * 0.8"
   ]
  },
  {
   "cell_type": "markdown",
   "id": "9d09e61e",
   "metadata": {},
   "source": [
    "A `dilation = -0.2` makes a 0.5um eroded down to 0.1um"
   ]
  },
  {
   "cell_type": "code",
   "execution_count": null,
   "id": "d7fbba0e",
   "metadata": {},
   "outputs": [],
   "source": [
    "0.2 * 0.5"
   ]
  },
  {
   "cell_type": "code",
   "execution_count": null,
   "id": "14699724",
   "metadata": {},
   "outputs": [],
   "source": [
    "c = gf.components.straight()\n",
    "s = gt.get_simulation(c, is_3d=False, dilation=-0.2)\n",
    "fig = gt.plot_simulation(s)"
   ]
  },
  {
   "cell_type": "markdown",
   "id": "bb87fef6",
   "metadata": {},
   "source": [
    "## Plot source and monitor modes"
   ]
  },
  {
   "cell_type": "code",
   "execution_count": null,
   "id": "2e96ac05",
   "metadata": {},
   "outputs": [],
   "source": [
    "c = gf.components.straight(length=3)\n",
    "s = gt.get_simulation(c, plot_modes=True, port_margin=1, ymargin=1)\n",
    "fig = gt.plot_simulation_xz(s)"
   ]
  },
  {
   "cell_type": "code",
   "execution_count": null,
   "id": "23062369",
   "metadata": {},
   "outputs": [],
   "source": [
    "c = gf.components.straight_rib(length=3)\n",
    "s = gt.get_simulation(c, plot_modes=True)\n",
    "fig = gt.plot_simulation_xz(s)"
   ]
  },
  {
   "cell_type": "code",
   "execution_count": null,
   "id": "609d1956",
   "metadata": {},
   "outputs": [],
   "source": [
    "c = taper_sc_nc(length=10)\n",
    "s = gt.get_simulation(c, plot_modes=True)\n",
    "fig = gt.plot_simulation_xz(s)"
   ]
  },
  {
   "cell_type": "markdown",
   "id": "5b1b38b8",
   "metadata": {},
   "source": [
    "Lets make sure the mode also looks correct on the Nitride side"
   ]
  },
  {
   "cell_type": "code",
   "execution_count": null,
   "id": "f0e4cfab",
   "metadata": {},
   "outputs": [],
   "source": [
    "c = taper_sc_nc(length=10)\n",
    "s = gt.get_simulation(c, port_source_name=\"o2\", plot_modes=True)\n",
    "fig = gt.plot_simulation_xz(s)"
   ]
  },
  {
   "cell_type": "code",
   "execution_count": null,
   "id": "8fa2b4a2",
   "metadata": {},
   "outputs": [],
   "source": [
    "components = [\n",
    "    \"bend_euler\",\n",
    "    \"bend_s\",\n",
    "    \"coupler\",\n",
    "    \"coupler_ring\",\n",
    "    \"crossing\",\n",
    "    \"mmi1x2\",\n",
    "    \"mmi2x2\",\n",
    "    \"taper\",\n",
    "    \"straight\",\n",
    "]\n",
    "\n",
    "for component_name in components:\n",
    "    print(component_name)\n",
    "    plt.figure()\n",
    "    c = gf.components.cells[component_name]()\n",
    "    s = gt.get_simulation(c)\n",
    "    fig = gt.plot_simulation(s)"
   ]
  },
  {
   "cell_type": "markdown",
   "id": "6e719956",
   "metadata": {},
   "source": [
    "## write_sparameters\n",
    "\n",
    "You can write Sparameters from a simulation as well as a group of simulations in parallel."
   ]
  },
  {
   "cell_type": "code",
   "execution_count": null,
   "id": "c593ea0e",
   "metadata": {},
   "outputs": [],
   "source": [
    "c = gf.components.bend_circular(radius=2)\n",
    "s = gt.get_simulation(c)\n",
    "fig = gt.plot_simulation(s)"
   ]
  },
  {
   "cell_type": "markdown",
   "id": "b07a678d",
   "metadata": {},
   "source": [
    "For a 2 port reciprocal passive component you can always assume `s21 = s12`\n",
    "\n",
    "Another approximation you can make for planar devices is that `s11 = s22`, which saves 1 extra simulation.\n",
    "This approximation only works well for straight and bends.\n",
    "We call this `1x1` port symmetry"
   ]
  },
  {
   "cell_type": "code",
   "execution_count": null,
   "id": "c5d6d528",
   "metadata": {},
   "outputs": [],
   "source": [
    "# sp = gt.write_sparameters_1x1(c)\n",
    "sp = np.load(\n",
    "    PATH.sparameters_repo / \"bend_circular_radius2_9d7742b34c224827aeae808dc986308e.npz\"\n",
    ")\n",
    "sim.plot.plot_sparameters(sp)"
   ]
  },
  {
   "cell_type": "code",
   "execution_count": null,
   "id": "148d3985",
   "metadata": {},
   "outputs": [],
   "source": [
    "sim.plot.plot_sparameters(sp, keys=(\"o2@0,o1@0\",))"
   ]
  },
  {
   "cell_type": "code",
   "execution_count": null,
   "id": "83c50afc",
   "metadata": {},
   "outputs": [],
   "source": [
    "c = gf.components.mmi1x2()\n",
    "s = gt.get_simulation(c, plot_modes=True, port_margin=0.2, port_source_name=\"o2\")\n",
    "fig = gt.plot_simulation(s, y=0)  # see input"
   ]
  },
  {
   "cell_type": "code",
   "execution_count": null,
   "id": "4cdc6f17",
   "metadata": {},
   "outputs": [],
   "source": [
    "fig = gt.plot_simulation(s, y=0.63)  # see output"
   ]
  },
  {
   "cell_type": "code",
   "execution_count": null,
   "id": "6a033622",
   "metadata": {},
   "outputs": [],
   "source": [
    "# sp = gt.write_sparameters(c)"
   ]
  },
  {
   "cell_type": "code",
   "execution_count": null,
   "id": "3e22a37d",
   "metadata": {},
   "outputs": [],
   "source": [
    "sp = np.load(PATH.sparameters_repo / \"mmi1x2_507de731d50770de9096ac9f23321daa.npz\")"
   ]
  },
  {
   "cell_type": "code",
   "execution_count": null,
   "id": "168871e2",
   "metadata": {},
   "outputs": [],
   "source": [
    "sim.plot.plot_sparameters(sp)"
   ]
  },
  {
   "cell_type": "code",
   "execution_count": null,
   "id": "409d2cb6",
   "metadata": {},
   "outputs": [],
   "source": [
    "sim.plot.plot_sparameters(sp, keys=(\"o1@0,o2@0\", \"o1@0,o3@0\"))"
   ]
  },
  {
   "cell_type": "code",
   "execution_count": null,
   "id": "f9a24994",
   "metadata": {},
   "outputs": [],
   "source": [
    "sim.plot.plot_loss1x2(sp)"
   ]
  },
  {
   "cell_type": "code",
   "execution_count": null,
   "id": "656c4d29",
   "metadata": {},
   "outputs": [],
   "source": [
    "sim.plot.plot_imbalance1x2(sp)"
   ]
  },
  {
   "cell_type": "code",
   "execution_count": null,
   "id": "861a20e8",
   "metadata": {},
   "outputs": [],
   "source": [
    "c = gf.components.mmi2x2_with_sbend(with_sbend=False)\n",
    "c.plot()"
   ]
  },
  {
   "cell_type": "code",
   "execution_count": null,
   "id": "257c653f",
   "metadata": {},
   "outputs": [],
   "source": [
    "sp = gt.write_sparameters(c, run=False)"
   ]
  },
  {
   "cell_type": "code",
   "execution_count": null,
   "id": "15e36ece",
   "metadata": {},
   "outputs": [],
   "source": [
    "# sp = gt.write_sparameters(c, filepath=PATH.sparameters_repo / 'mmi2x2_without_sbend.npz')\n",
    "sp = np.load(PATH.sparameters_repo / \"mmi2x2_without_sbend.npz\")\n",
    "sim.plot.plot_loss2x2(sp)"
   ]
  },
  {
   "cell_type": "code",
   "execution_count": null,
   "id": "4ec181a7",
   "metadata": {},
   "outputs": [],
   "source": [
    "sim.plot.plot_imbalance2x2(sp)"
   ]
  },
  {
   "cell_type": "markdown",
   "id": "3ed60ab9",
   "metadata": {},
   "source": [
    "## write_sparameters_batch\n",
    "\n",
    "You can also send a batch of component simulations in parallel to the tidy3d server.\n",
    "\n",
    "\n",
    "```python\n",
    "jobs = [dict(component=gf.c.straight(length=1.11 + i)) for i in [1, 2]]\n",
    "sps = gt.write_sparameters_batch_1x1(jobs)\n",
    "\n",
    "sp0 = sps[0]\n",
    "sp = sp0.result()\n",
    "sim.plot.plot_sparameters(sp)\n",
    "```"
   ]
  },
  {
   "cell_type": "markdown",
   "id": "dc423632",
   "metadata": {},
   "source": [
    "## get_simulation_grating_coupler\n",
    "\n",
    "You can also expand the planar component simulations to simulate an out-of-plane grating coupler.\n",
    "\n",
    "The following simulations run in 2D but can also run in 3D."
   ]
  },
  {
   "cell_type": "code",
   "execution_count": null,
   "id": "47738a80",
   "metadata": {},
   "outputs": [],
   "source": [
    "help(gt.get_simulation_grating_coupler)"
   ]
  },
  {
   "cell_type": "code",
   "execution_count": null,
   "id": "ca64f243",
   "metadata": {},
   "outputs": [],
   "source": [
    "c = (\n",
    "    gf.components.grating_coupler_elliptical_lumerical()\n",
    ")  # inverse design grating apodized\n",
    "fiber_angle_deg = 5\n",
    "s = gt.get_simulation_grating_coupler(\n",
    "    c, is_3d=False, fiber_angle_deg=fiber_angle_deg, fiber_xoffset=0\n",
    ")\n",
    "f = gt.plot_simulation(s)"
   ]
  },
  {
   "cell_type": "code",
   "execution_count": null,
   "id": "dc879805",
   "metadata": {},
   "outputs": [],
   "source": [
    "f = c.plot()"
   ]
  },
  {
   "cell_type": "markdown",
   "id": "257317cc",
   "metadata": {},
   "source": [
    "Lets compare the xtolerance of a constant pitch vs an apodized grating.\n",
    "\n",
    "We run simulations in 2D for faster.\n",
    "\n",
    "Lets simulate 2 different grating couplers:\n",
    "\n",
    "- apodized inverse design example from lumerical website (5 degrees fiber angle)\n",
    "- constant pitch grating from gdsfactory generic PDK (20 degrees fiber angle)"
   ]
  },
  {
   "cell_type": "code",
   "execution_count": null,
   "id": "88acfe63",
   "metadata": {},
   "outputs": [],
   "source": [
    "sim = gt.get_simulation_grating_coupler(\n",
    "    c, is_3d=False, fiber_angle_deg=fiber_angle_deg, fiber_xoffset=-5\n",
    ")\n",
    "f = gt.plot_simulation(sim)"
   ]
  },
  {
   "cell_type": "code",
   "execution_count": null,
   "id": "7210a032",
   "metadata": {},
   "outputs": [],
   "source": [
    "sim = gt.get_simulation_grating_coupler(\n",
    "    c, is_3d=False, fiber_angle_deg=fiber_angle_deg, fiber_xoffset=+5\n",
    ")\n",
    "f = gt.plot_simulation(sim)"
   ]
  },
  {
   "cell_type": "code",
   "execution_count": null,
   "id": "1d3e9de4",
   "metadata": {},
   "outputs": [],
   "source": [
    "offsets = np.arange(-5, 6, 5)\n",
    "offsets = [-10, -5, 0]\n",
    "offsets = [0]"
   ]
  },
  {
   "cell_type": "code",
   "execution_count": null,
   "id": "f8c78a63",
   "metadata": {},
   "outputs": [],
   "source": [
    "dfs = [\n",
    "    gt.write_sparameters_grating_coupler(\n",
    "        component=c,\n",
    "        is_3d=False,\n",
    "        fiber_angle_deg=fiber_angle_deg,\n",
    "        fiber_xoffset=fiber_xoffset,\n",
    "        filepath=PATH.sparameters_repo / f\"gc_offset{fiber_xoffset}\",\n",
    "    )\n",
    "    for fiber_xoffset in offsets\n",
    "]"
   ]
  },
  {
   "cell_type": "code",
   "execution_count": null,
   "id": "c0acdd95",
   "metadata": {},
   "outputs": [],
   "source": [
    "def log(x):\n",
    "    return 20 * np.log10(x)"
   ]
  },
  {
   "cell_type": "code",
   "execution_count": null,
   "id": "bdb9cbd8",
   "metadata": {},
   "outputs": [],
   "source": [
    "for offset in offsets:\n",
    "    sp = gt.write_sparameters_grating_coupler(\n",
    "        c,\n",
    "        is_3d=False,\n",
    "        fiber_angle_deg=fiber_angle_deg,\n",
    "        fiber_xoffset=offset,\n",
    "        filepath=PATH.sparameters_repo / f\"gc_offset{offset}\",\n",
    "    )\n",
    "    plt.plot(\n",
    "        sp[\"wavelengths\"], 20 * np.log10(np.abs(sp[\"o2@0,o1@0\"])), label=str(offset)\n",
    "    )\n",
    "\n",
    "plt.xlabel(\"wavelength (um\")\n",
    "plt.ylabel(\"Transmission (dB)\")\n",
    "plt.title(\"transmission vs fiber xoffset (um)\")\n",
    "plt.legend()"
   ]
  },
  {
   "cell_type": "code",
   "execution_count": null,
   "id": "547fd0c5",
   "metadata": {},
   "outputs": [],
   "source": [
    "sp.keys()"
   ]
  },
  {
   "cell_type": "code",
   "execution_count": null,
   "id": "4cb115cf",
   "metadata": {},
   "outputs": [],
   "source": [
    "fiber_angles = [3, 5, 7]\n",
    "dfs = [\n",
    "    gt.write_sparameters_grating_coupler(\n",
    "        component=c,\n",
    "        is_3d=False,\n",
    "        fiber_angle_deg=fiber_angle_deg,\n",
    "        filepath=PATH.sparameters_repo / f\"gc_angle{fiber_angle_deg}\",\n",
    "    )\n",
    "    for fiber_angle_deg in fiber_angles\n",
    "]"
   ]
  },
  {
   "cell_type": "code",
   "execution_count": null,
   "id": "64735925",
   "metadata": {},
   "outputs": [],
   "source": [
    "for fiber_angle_deg in fiber_angles:\n",
    "    sp = gt.write_sparameters_grating_coupler(\n",
    "        c,\n",
    "        is_3d=False,\n",
    "        fiber_angle_deg=fiber_angle_deg,\n",
    "        filepath=PATH.sparameters_repo / f\"gc_angle{fiber_angle_deg}\",\n",
    "    )\n",
    "    plt.plot(\n",
    "        sp[\"wavelengths\"],\n",
    "        20 * np.log10(np.abs(sp[\"o2@0,o1@0\"])),\n",
    "        label=str(fiber_angle_deg),\n",
    "    )\n",
    "\n",
    "plt.xlabel(\"wavelength (um\")\n",
    "plt.ylabel(\"Transmission (dB)\")\n",
    "plt.title(\"transmission vs fiber angle (degrees)\")\n",
    "plt.legend()"
   ]
  },
  {
   "cell_type": "code",
   "execution_count": null,
   "id": "71a89eda",
   "metadata": {},
   "outputs": [],
   "source": [
    "c = gf.components.grating_coupler_elliptical_arbitrary(\n",
    "    widths=[0.343] * 25, gaps=[0.345] * 25\n",
    ")\n",
    "f = c.plot()"
   ]
  },
  {
   "cell_type": "code",
   "execution_count": null,
   "id": "5ce340a0",
   "metadata": {},
   "outputs": [],
   "source": [
    "fiber_angle_deg = 20\n",
    "sim = gt.get_simulation_grating_coupler(\n",
    "    c, is_3d=False, fiber_angle_deg=fiber_angle_deg, fiber_xoffset=0\n",
    ")\n",
    "f = gt.plot_simulation(sim, figsize=(22, 8))"
   ]
  },
  {
   "cell_type": "code",
   "execution_count": null,
   "id": "588321f2",
   "metadata": {},
   "outputs": [],
   "source": [
    "offsets = [0]\n",
    "offsets"
   ]
  },
  {
   "cell_type": "code",
   "execution_count": null,
   "id": "e688236b",
   "metadata": {},
   "outputs": [],
   "source": [
    "dfs = [\n",
    "    gt.write_sparameters_grating_coupler(\n",
    "        component=c,\n",
    "        is_3d=False,\n",
    "        fiber_angle_deg=fiber_angle_deg,\n",
    "        fiber_xoffset=fiber_xoffset,\n",
    "        filepath=PATH.sparameters_repo / f\"gc_offset{offset}\",\n",
    "    )\n",
    "    for fiber_xoffset in offsets\n",
    "]"
   ]
  },
  {
   "cell_type": "code",
   "execution_count": null,
   "id": "a5aa0327",
   "metadata": {},
   "outputs": [],
   "source": [
    "port_name = c.get_ports_list()[1].name\n",
    "\n",
    "for offset in offsets:\n",
    "    sp = gt.write_sparameters_grating_coupler(\n",
    "        c,\n",
    "        is_3d=False,\n",
    "        fiber_angle_deg=fiber_angle_deg,\n",
    "        fiber_xoffset=offset,\n",
    "        filepath=PATH.sparameters_repo / f\"gc_offset{offset}\",\n",
    "    )\n",
    "    plt.plot(\n",
    "        sp[\"wavelengths\"],\n",
    "        20 * np.log10(np.abs(sp[\"o2@0,o1@0\"])),\n",
    "        label=str(offset),\n",
    "    )\n",
    "\n",
    "plt.xlabel(\"wavelength (um\")\n",
    "plt.ylabel(\"Transmission (dB)\")\n",
    "plt.title(\"transmission vs xoffset\")\n",
    "plt.legend()"
   ]
  },
  {
   "cell_type": "markdown",
   "id": "fbbfa271",
   "metadata": {},
   "source": [
    "## Run jobs in parallel\n",
    "\n",
    "You can run multiple simulations in parallel on separate threads.\n",
    "\n",
    "Only when you `sp.result()` you will wait for the simulations to finish."
   ]
  },
  {
   "cell_type": "code",
   "execution_count": null,
   "id": "b7f4d95a",
   "metadata": {},
   "outputs": [],
   "source": [
    "c = gf.components.grating_coupler_elliptical_lumerical()\n",
    "fiber_angles = [3, 5, 7]\n",
    "jobs = [\n",
    "    dict(\n",
    "        component=c,\n",
    "        is_3d=False,\n",
    "        fiber_angle_deg=fiber_angle_deg,\n",
    "        filepath=PATH.sparameters_repo / f\"gc_angle{fiber_angle_deg}\",\n",
    "    )\n",
    "    for fiber_angle_deg in fiber_angles\n",
    "]\n",
    "sps = gt.write_sparameters_grating_coupler_batch(jobs)"
   ]
  },
  {
   "cell_type": "code",
   "execution_count": null,
   "id": "b5bfb682",
   "metadata": {},
   "outputs": [],
   "source": [
    "for sp, fiber_angle_deg in zip(sps, fiber_angles):\n",
    "    sp = sp.result()\n",
    "    plt.plot(\n",
    "        sp[\"wavelengths\"],\n",
    "        20 * np.log10(np.abs(sp[\"o2@0,o1@0\"])),\n",
    "        label=str(fiber_angle_deg),\n",
    "    )\n",
    "\n",
    "plt.xlabel(\"wavelength (um\")\n",
    "plt.ylabel(\"Transmission (dB)\")\n",
    "plt.title(\"transmission vs fiber angle (degrees)\")\n",
    "plt.legend()"
   ]
  },
  {
   "cell_type": "code",
   "execution_count": null,
   "id": "804aa8e0",
   "metadata": {},
   "outputs": [],
   "source": [
    "bend_radius = [1, 2]\n",
    "jobs = [\n",
    "    dict(\n",
    "        component=gf.components.bend_circular(radius=radius),\n",
    "        filepath=PATH.sparameters_repo / f\"bend_r{radius}\",\n",
    "    )\n",
    "    for radius in bend_radius\n",
    "]\n",
    "sps = gt.write_sparameters_batch(jobs)"
   ]
  },
  {
   "cell_type": "code",
   "execution_count": null,
   "id": "1f4a28d9",
   "metadata": {},
   "outputs": [],
   "source": [
    "for sp, radius in zip(sps, bend_radius):\n",
    "    sp = sp.result()\n",
    "    plt.plot(\n",
    "        sp[\"wavelengths\"],\n",
    "        20 * np.log10(np.abs(sp[\"o2@0,o1@0\"])),\n",
    "        label=str(radius),\n",
    "    )\n",
    "\n",
    "plt.xlabel(\"wavelength (um\")\n",
    "plt.ylabel(\"Transmission (dB)\")\n",
    "plt.title(\"transmission vs bend radius (um)\")\n",
    "plt.legend()"
   ]
  }
 ],
 "metadata": {
  "jupytext": {
   "cell_metadata_filter": "-all",
   "formats": "md,ipynb",
   "main_language": "python",
   "notebook_metadata_filter": "-all"
  }
 },
 "nbformat": 4,
 "nbformat_minor": 5
}
