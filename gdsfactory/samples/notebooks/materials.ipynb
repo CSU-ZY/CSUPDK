{
 "cells": [
  {
   "cell_type": "markdown",
   "id": "a248e037",
   "metadata": {},
   "source": [
    "# Materials\n",
    "\n",
    "- How can you register your own material refractive index info for a particular PDK?\n",
    "- How can you use the same material index when using different plugins (tidy3d, meep, lumerical ...)?\n",
    "\n",
    "You can define a material by name, real refractive index, complex refractive index (for loss) or by a function of wavelength."
   ]
  },
  {
   "cell_type": "code",
   "execution_count": null,
   "id": "1f662fcd",
   "metadata": {},
   "outputs": [],
   "source": [
    "import numpy as np\n",
    "\n",
    "import gdsfactory as gf\n",
    "import gdsfactory.simulation.gtidy3d as gt\n",
    "from gdsfactory.components.taper import taper_sc_nc\n",
    "from gdsfactory.pdk import Pdk\n",
    "\n",
    "gf.config.rich_output()\n",
    "PDK = gf.generic_tech.get_generic_pdk()\n",
    "PDK.activate()"
   ]
  },
  {
   "cell_type": "code",
   "execution_count": null,
   "id": "327469b9",
   "metadata": {},
   "outputs": [],
   "source": [
    "strip = gt.modes.Waveguide(\n",
    "    wavelength=1.55,\n",
    "    core_width=0.5,\n",
    "    core_thickness=0.22,\n",
    "    slab_thickness=0.0,\n",
    "    core_material=\"si\",\n",
    "    clad_material=\"sio2\",\n",
    ")\n",
    "strip.plot_index()"
   ]
  },
  {
   "cell_type": "markdown",
   "id": "d6c4b66a",
   "metadata": {},
   "source": [
    "## Option 1: define material with a value"
   ]
  },
  {
   "cell_type": "code",
   "execution_count": null,
   "id": "f328b069",
   "metadata": {},
   "outputs": [],
   "source": [
    "PDK.materials_index.update(sin=2)"
   ]
  },
  {
   "cell_type": "code",
   "execution_count": null,
   "id": "cdb46dd6",
   "metadata": {},
   "outputs": [],
   "source": [
    "strip = gt.modes.Waveguide(\n",
    "    wavelength=1.55,\n",
    "    core_width=0.5,\n",
    "    core_thickness=0.22,\n",
    "    slab_thickness=0.0,\n",
    "    core_material=\"sin\",\n",
    "    clad_material=\"sio2\",\n",
    ")\n",
    "strip.plot_index()"
   ]
  },
  {
   "cell_type": "markdown",
   "id": "be810920",
   "metadata": {},
   "source": [
    "## Option 2: define material with a function\n"
   ]
  },
  {
   "cell_type": "code",
   "execution_count": null,
   "id": "d4dd823e",
   "metadata": {},
   "outputs": [],
   "source": [
    "def sin(wav: float) -> float:\n",
    "    w = [1.3, 1.5]\n",
    "    n = [1.9, 2.1]\n",
    "    p = np.polyfit(w, n, 1)\n",
    "    return np.polyval(p, wav)\n",
    "\n",
    "\n",
    "PDK.materials_index.update(sin=sin)"
   ]
  },
  {
   "cell_type": "code",
   "execution_count": null,
   "id": "fb95d508",
   "metadata": {},
   "outputs": [],
   "source": [
    "strip = gt.modes.Waveguide(\n",
    "    wavelength=1.5,\n",
    "    core_width=0.5,\n",
    "    core_thickness=0.22,\n",
    "    slab_thickness=0.0,\n",
    "    core_material=\"sin\",\n",
    "    clad_material=\"sio2\",\n",
    ")\n",
    "strip.plot_index()"
   ]
  },
  {
   "cell_type": "code",
   "execution_count": null,
   "id": "446d0d2d",
   "metadata": {},
   "outputs": [],
   "source": [
    "c = taper_sc_nc(length=10)\n",
    "c.plot()"
   ]
  },
  {
   "cell_type": "code",
   "execution_count": null,
   "id": "a1ccbf0b",
   "metadata": {},
   "outputs": [],
   "source": [
    "s = gt.get_simulation(c, plot_modes=True)\n",
    "fig = gt.plot_simulation_xz(s)"
   ]
  },
  {
   "cell_type": "markdown",
   "id": "896f1ff2",
   "metadata": {},
   "source": [
    "## Register materials into a PDK\n",
    "\n",
    "You can register all `materials_index` functions into a PDK.\n"
   ]
  },
  {
   "cell_type": "code",
   "execution_count": null,
   "id": "fa126a55",
   "metadata": {},
   "outputs": [],
   "source": [
    "def sin(wav: float) -> float:\n",
    "    w = [1.3, 1.5]\n",
    "    n = [1.9, 2.1]\n",
    "    p = np.polyfit(w, n, 1)\n",
    "    return np.polyval(p, wav)\n",
    "\n",
    "\n",
    "def si(wav: float) -> float:\n",
    "    w = [1.3, 1.5]\n",
    "    n = [3.45, 3.47]\n",
    "    p = np.polyfit(w, n, 1)\n",
    "    return np.polyval(p, wav)\n",
    "\n",
    "\n",
    "materials_index = dict(sin=sin, si=si)\n",
    "\n",
    "p = Pdk(name=\"fab_a\", materials_index=materials_index)"
   ]
  }
 ],
 "metadata": {
  "jupytext": {
   "cell_metadata_filter": "-all",
   "formats": "md,ipynb",
   "main_language": "python",
   "notebook_metadata_filter": "-all"
  }
 },
 "nbformat": 4,
 "nbformat_minor": 5
}
