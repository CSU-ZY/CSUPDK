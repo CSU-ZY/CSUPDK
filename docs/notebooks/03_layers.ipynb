{
 "cells": [
  {
   "cell_type": "markdown",
   "metadata": {},
   "source": [
    "# Technology\n",
    "\n",
    "gdsfactory has a default `config.yml` file that inclues all the defaults for the generic Technology.\n",
    "\n",
    "[YAML](https://www.cloudbees.com/blog/yaml-tutorial-everything-you-need-get-started/) is a human friendly format\n",
    "\n",
    "To overwrite any of the defaults you can just create a `config.yml` in the current directory of your project.\n",
    "\n",
    "The `conig.yml` can define:\n",
    "\n",
    "- Layers\n",
    "\n",
    "\n",
    "\n",
    "## Layers\n",
    "\n",
    "A GDS has different layers to describe the different fabrication process steps.\n",
    "\n",
    "GDS layers have 2 integer numbers: GDSlayer, GDSpurpose\n",
    "\n",
    "Klayout shows Layers with a color, style and transparency when showing GDS layouts."
   ]
  },
  {
   "cell_type": "code",
   "execution_count": null,
   "metadata": {},
   "outputs": [],
   "source": [
    "import omegaconf\n",
    "import dataclasses\n",
    "import pp\n",
    "from pp.layers import preview_layerset"
   ]
  },
  {
   "cell_type": "code",
   "execution_count": null,
   "metadata": {},
   "outputs": [],
   "source": [
    "layer_wg = pp.LAYER.WG\n",
    "print(layer_wg)"
   ]
  },
  {
   "cell_type": "code",
   "execution_count": null,
   "metadata": {},
   "outputs": [],
   "source": [
    "c = preview_layerset()\n",
    "c"
   ]
  },
  {
   "cell_type": "markdown",
   "metadata": {},
   "source": [
    "## TECH\n",
    "\n",
    "As you can see in `pp.tech.TECH` you can define all your technology constants in dataclasses. \n",
    "This is a convenient way to group all the specific constants for a technology. "
   ]
  },
  {
   "cell_type": "code",
   "execution_count": null,
   "metadata": {},
   "outputs": [],
   "source": [
    "import pp\n",
    "\n",
    "pp.TECH.waveguide.strip"
   ]
  },
  {
   "cell_type": "code",
   "execution_count": null,
   "metadata": {},
   "outputs": [],
   "source": [
    "import dataclasses\n",
    "from pp.tech import Waveguide, Section, TECH\n",
    "\n",
    "waveguide_pn = Waveguide(\n",
    "    width=0.5,\n",
    "    layer=pp.LAYER.WG,\n",
    "    sections=(\n",
    "        Section(width=2, layer=pp.LAYER.N, offset=+1),\n",
    "        Section(width=2, layer=pp.LAYER.P, offset=-1),\n",
    "    ))\n",
    "\n",
    "\n",
    "TECH.waveguide.pn = waveguide_pn"
   ]
  },
  {
   "cell_type": "code",
   "execution_count": null,
   "metadata": {},
   "outputs": [],
   "source": [
    "waveguide_pn_settings = pp.components.straight(cross_section_name='pn')\n",
    "waveguide_pn_settings"
   ]
  },
  {
   "cell_type": "markdown",
   "metadata": {},
   "source": [
    "## PDK\n",
    "\n",
    "How can you customize components for a particular technology?\n",
    "\n",
    "You can customize the `TECH` as you have done before to customize any gdsfactory defaults."
   ]
  },
  {
   "cell_type": "code",
   "execution_count": null,
   "metadata": {},
   "outputs": [],
   "source": [
    "import pp\n",
    "\n",
    "c = pp.components.straight(cross_section_name='nitride')\n",
    "c"
   ]
  },
  {
   "cell_type": "code",
   "execution_count": null,
   "metadata": {},
   "outputs": [],
   "source": [
    "wg = pp.components.straight(cross_section_name='nitride')\n",
    "gc = pp.components.grating_coupler_elliptical_te(layer=pp.TECH.waveguide.nitride.layer, wg_width=pp.TECH.waveguide.nitride.width)\n",
    "wg_gc = pp.routing.add_fiber_single(component=wg, grating_coupler=gc, cross_section_name='nitride')\n",
    "wg_gc"
   ]
  },
  {
   "cell_type": "code",
   "execution_count": null,
   "metadata": {},
   "outputs": [],
   "source": [
    "## Fab A\n",
    "\n",
    "\"\"\"Lets for example customize the default gdsfactory PDK\n",
    "\n",
    "Fab A is mostly defined using Metal layers in GDS layer (30, 0)\n",
    "\n",
    "The metal layer traces are 2um wide\n",
    "\n",
    "\"\"\"\n",
    "import dataclasses\n",
    "import pp\n",
    "from pp.tech import TECH, Layer, Waveguide\n",
    "\n",
    "\n",
    "@dataclasses.dataclass\n",
    "class Metal1(Waveguide):\n",
    "    width: float = 2.0\n",
    "    width_wide: float = 10.0\n",
    "    auto_widen: bool = False\n",
    "    layer: Layer = (30, 0)\n",
    "    radius: float = 10.0\n",
    "    min_spacing: float = 10.0\n",
    "\n",
    "\n",
    "METAL1 = Metal1()\n",
    "\n",
    "TECH.waveguide.metal1 = METAL1\n",
    "\n",
    "\n",
    "wg = pp.components.straight(length=20, cross_section_name=\"metal1\")\n",
    "gc = pp.components.grating_coupler_elliptical_te(\n",
    "    layer=METAL1.layer, wg_width=METAL1.width\n",
    ")\n",
    "\n",
    "wg_gc = pp.routing.add_fiber_array(\n",
    "    component=wg, grating_coupler=gc, cross_section_name=\"metal1\"\n",
    ")\n",
    "wg_gc"
   ]
  },
  {
   "cell_type": "code",
   "execution_count": null,
   "metadata": {},
   "outputs": [],
   "source": [
    "coupler = pp.components.coupler(cross_section_name='metal1')\n",
    "coupler"
   ]
  },
  {
   "cell_type": "markdown",
   "metadata": {},
   "source": [
    "## Fab B\n",
    "\n",
    "Lets for example customize the default gdsfactory PDK for a particular fab\n",
    "\n",
    "Fab B is mostly uses optical layers but the waveguides required many cladding layers to avoid tiling, dopants...\n",
    "\n",
    "Lets say that the waveguides are defined in layer (2, 0) and are 0.3um wide\n"
   ]
  },
  {
   "cell_type": "code",
   "execution_count": null,
   "metadata": {},
   "outputs": [],
   "source": [
    "from typing import Tuple\n",
    "import dataclasses\n",
    "from pp.tech import LAYER, TECH, Layer, Waveguide\n",
    "import pp\n",
    "\n",
    "\n",
    "@dataclasses.dataclass\n",
    "class StripB(Waveguide):\n",
    "    width: float = 0.3\n",
    "    width_wide: float = 10.0\n",
    "    auto_widen: bool = False\n",
    "    layer: Layer = (2, 0)\n",
    "    radius: float = 10.0\n",
    "    min_spacing: float = 10.0\n",
    "    layers_cladding: Tuple[Layer] = ((71, 0), (68, 0))\n",
    "\n",
    "\n",
    "STRIPB = StripB()\n",
    "TECH.waveguide.stripb = STRIPB\n",
    "wg = pp.components.straight(length=20, cross_section_name=\"stripb\")\n",
    "gc = pp.components.grating_coupler_elliptical_te(layer=STRIPB.layer, wg_width=STRIPB.width)\n",
    "wg_gc = pp.routing.add_fiber_array(\n",
    "    component=wg, grating_coupler=gc, cross_section_name=\"stripb\"\n",
    ")\n",
    "wg_gc"
   ]
  },
  {
   "cell_type": "code",
   "execution_count": null,
   "metadata": {},
   "outputs": [],
   "source": []
  }
 ],
 "metadata": {
  "kernelspec": {
   "display_name": "Python 3",
   "language": "python",
   "name": "python3"
  },
  "language_info": {
   "codemirror_mode": {
    "name": "ipython",
    "version": 3
   },
   "file_extension": ".py",
   "mimetype": "text/x-python",
   "name": "python",
   "nbconvert_exporter": "python",
   "pygments_lexer": "ipython3",
   "version": "3.8.3"
  }
 },
 "nbformat": 4,
 "nbformat_minor": 4
}
