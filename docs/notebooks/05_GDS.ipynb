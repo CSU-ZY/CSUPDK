{
 "cells": [
  {
   "cell_type": "markdown",
   "id": "bbdf9c81-0609-4e87-bc68-561e022fd61c",
   "metadata": {},
   "source": [
    "# GDS \n",
    "\n",
    "## GDS output\n",
    "\n",
    "GDS files are great for describing geometry thanks to the concept of References, where you store any geometry only once in memory.\n",
    "\n",
    "For storing device metadata (settings, port locations, port widths, port angles ...) there is no clear standard.\n",
    "\n",
    "`gdsfactory` stores the that metadata in `YAML` files, and also has functions to add pins"
   ]
  },
  {
   "cell_type": "code",
   "execution_count": null,
   "id": "41cdfefd-cd4c-4354-b2eb-b453c6974102",
   "metadata": {},
   "outputs": [],
   "source": [
    "import gdsfactory as gf\n",
    "\n",
    "c = gf.components.mzi()\n",
    "c"
   ]
  },
  {
   "cell_type": "code",
   "execution_count": null,
   "id": "edf7bc41-5089-4799-911c-6460ae3bc0b1",
   "metadata": {},
   "outputs": [],
   "source": [
    "gdspath = c.write_gds_with_metadata('extra/mzi.gds')"
   ]
  },
  {
   "cell_type": "markdown",
   "id": "9a3c7014-1623-441d-86b0-9730510f2c9a",
   "metadata": {},
   "source": [
    "This created a `mzi.yml` file that contains:\n",
    "- ports\n",
    "- cells (flat list of cells)\n",
    "- info (function name, module, changed settings, full settings, default settings)"
   ]
  },
  {
   "cell_type": "code",
   "execution_count": null,
   "id": "2b58db0d-c661-4b5b-9e89-32518747b510",
   "metadata": {},
   "outputs": [],
   "source": [
    "c.info.keys()"
   ]
  },
  {
   "cell_type": "markdown",
   "id": "e1fa8437-3162-45de-8154-bd0b4cea21c1",
   "metadata": {},
   "source": [
    "## GDS input\n",
    "\n",
    "### GDS input + YAML metadata\n",
    "\n",
    "`import_gds` reads the same GDS file from disk without losing any information"
   ]
  },
  {
   "cell_type": "code",
   "execution_count": null,
   "id": "12dd6787-d042-45c4-8146-8e6d9aca450d",
   "metadata": {},
   "outputs": [],
   "source": [
    "gf.clear_cache()\n",
    "\n",
    "c = gf.import_gds(gdspath)"
   ]
  },
  {
   "cell_type": "code",
   "execution_count": null,
   "id": "6903335f-7fe3-44ab-a54a-825d84372c70",
   "metadata": {},
   "outputs": [],
   "source": [
    "c"
   ]
  },
  {
   "cell_type": "code",
   "execution_count": null,
   "id": "ede99d15-fa43-4a76-afd5-9cd3a9121904",
   "metadata": {},
   "outputs": [],
   "source": [
    "import gdsfactory as gf\n",
    "\n",
    "c2 = gf.import_gds(gdspath, name='mzi_sample')"
   ]
  },
  {
   "cell_type": "code",
   "execution_count": null,
   "id": "6d5f8a53-7ed1-4408-85e7-e86011cf451e",
   "metadata": {},
   "outputs": [],
   "source": [
    "c2.name"
   ]
  },
  {
   "cell_type": "code",
   "execution_count": null,
   "id": "d5ba9e3f-4495-43fd-b889-db6d0a9959b7",
   "metadata": {},
   "outputs": [],
   "source": [
    "c2.info.name"
   ]
  },
  {
   "cell_type": "code",
   "execution_count": null,
   "id": "64134499-6d8f-46a7-9161-7a0070af81cf",
   "metadata": {},
   "outputs": [],
   "source": [
    "c3 = gf.routing.add_fiber_single(c2)\n",
    "c3"
   ]
  },
  {
   "cell_type": "code",
   "execution_count": null,
   "id": "8e86401c-754f-4552-ad8f-7ad0fbeb0f26",
   "metadata": {},
   "outputs": [],
   "source": [
    "gdspath = c3.write_gds_with_metadata('extra/mask.gds')"
   ]
  },
  {
   "cell_type": "code",
   "execution_count": null,
   "id": "028114a5-47aa-4533-bcf8-2e37dcad720e",
   "metadata": {},
   "outputs": [],
   "source": [
    "gf.mask.write_labels(gdspath, label_layer=gf.LAYER.LABEL)"
   ]
  },
  {
   "cell_type": "code",
   "execution_count": null,
   "id": "675c6a85-34f2-4b4a-ac46-22fba95d821b",
   "metadata": {},
   "outputs": [],
   "source": [
    "tm = gf.mask.merge_test_metadata(gdspath=gdspath)"
   ]
  },
  {
   "cell_type": "code",
   "execution_count": null,
   "id": "65548d5b-2c4d-4737-886e-3b5d7b0ecea9",
   "metadata": {},
   "outputs": [],
   "source": [
    "tm"
   ]
  },
  {
   "cell_type": "markdown",
   "id": "7809ac64-5ad6-453b-9d15-6f2981139610",
   "metadata": {},
   "source": [
    "### GDS input + port pins\n",
    "\n",
    "Sometimes the GDS does not have YAML metadata, therefore you need to figure our the port locations, widths and orientation.\n",
    "\n",
    "gdsfactory provides you with function that will add ports to the component, thanks to pins."
   ]
  },
  {
   "cell_type": "code",
   "execution_count": null,
   "id": "3fdedf7c-653c-4d1b-a153-3a046bb5c3a4",
   "metadata": {},
   "outputs": [],
   "source": [
    "c = gf.c.straight(decorator=gf.add_pins)\n",
    "c"
   ]
  },
  {
   "cell_type": "code",
   "execution_count": null,
   "id": "19a0495e-167d-462b-b9be-00b9c3742496",
   "metadata": {},
   "outputs": [],
   "source": [
    "gdspath = c.write_gds('extra/wg.gds')"
   ]
  },
  {
   "cell_type": "code",
   "execution_count": null,
   "id": "3b750944-d67d-4d2a-89cc-adf1a6b53649",
   "metadata": {},
   "outputs": [],
   "source": [
    "gf.clear_cache()\n",
    "c2 = gf.import_gds(gdspath)"
   ]
  },
  {
   "cell_type": "code",
   "execution_count": null,
   "id": "a4c82900-c039-48b9-a80f-a830d7cc5682",
   "metadata": {},
   "outputs": [],
   "source": [
    "c2.ports"
   ]
  },
  {
   "cell_type": "code",
   "execution_count": null,
   "id": "ae92153b-2980-4a1f-add9-3c1e096562a5",
   "metadata": {},
   "outputs": [],
   "source": [
    "gf.add_ports.add_ports_from_markers_inside(c2)"
   ]
  },
  {
   "cell_type": "code",
   "execution_count": null,
   "id": "1c801862-a5e1-4826-abb2-95b4cbbf949d",
   "metadata": {},
   "outputs": [],
   "source": [
    "c2.ports"
   ]
  },
  {
   "cell_type": "code",
   "execution_count": null,
   "id": "3097f180-03d7-473f-bdfb-650f47a0d303",
   "metadata": {},
   "outputs": [],
   "source": []
  }
 ],
 "metadata": {
  "kernelspec": {
   "display_name": "Python 3 (ipykernel)",
   "language": "python",
   "name": "python3"
  },
  "language_info": {
   "codemirror_mode": {
    "name": "ipython",
    "version": 3
   },
   "file_extension": ".py",
   "mimetype": "text/x-python",
   "name": "python",
   "nbconvert_exporter": "python",
   "pygments_lexer": "ipython3",
   "version": "3.9.7"
  }
 },
 "nbformat": 4,
 "nbformat_minor": 5
}
