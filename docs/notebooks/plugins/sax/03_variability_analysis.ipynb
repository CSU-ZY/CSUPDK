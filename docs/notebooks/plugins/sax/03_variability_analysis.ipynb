{
 "cells": [
  {
   "attachments": {},
   "cell_type": "markdown",
   "metadata": {},
   "source": [
    "# Variability analysis as a subset of model building\n",
    "\n",
    "The same machinery that is used to iterate over component parameters to build models can be used to study the effect of variability on device performance.\n",
    "\n",
    "## Lithographic parameters\n",
    "\n",
    "`LithoParameter` parameters have a parametrizable `transformation` attribute that can be used to modify the Component geometry prior to simulation in more complex way than simply changing its calling arguments.\n",
    "\n",
    "## Corner analysis\n",
    "\n",
    "For convenience, the model builder can also iterate over only the `min`, `max`, and `nominal` values of all trainable_parameters by using the `types=corners` instead of the default `types=arange` argument of `Model.get_model_input_output(type=\"corners\")`.\n",
    "\n",
    "## Directional coupler example\n",
    "\n",
    "Consider a directional coupler component which is modeled through a generic `MeepFDTDModel`. The only difference between this and the `FemwellWaveguideModel` from last notebook is how the simulation is defined: everything else involving iteration over parameters, multiprocessing, and model fitting, is identical. This makes model building easily extensible to new simulators."
   ]
  },
  {
   "cell_type": "code",
   "execution_count": null,
   "metadata": {},
   "outputs": [],
   "source": [
    "import gdsfactory as gf\n",
    "from gdsfactory.simulation.sax.parameter import NamedParameter\n",
    "from gdsfactory.technology import LayerStack\n",
    "from gdsfactory.pdk import _ACTIVE_PDK, get_layer_stack\n",
    "\n",
    "\n",
    "# gdsfactory layerstack\n",
    "filtered_layerstack = LayerStack(\n",
    "    layers={\n",
    "        k: get_layer_stack().layers[k]\n",
    "        for k in (\n",
    "            \"slab90\",\n",
    "            \"core\",\n",
    "            \"box\",\n",
    "            \"clad\",\n",
    "        )\n",
    "    }\n",
    ")\n",
    "\n",
    "# trainable component function, choosing which parameters to fix and which to consider for the model\n",
    "def trainable_coupler(parameters):\n",
    "    return gf.components.coupler_full(\n",
    "        coupling_length=parameters[\"coupling_length\"],\n",
    "        gap=parameters[\"gap\"],\n",
    "        dw=0.0,\n",
    "    )\n",
    "\n",
    "parameters = {\"gap\": 0.4, \"coupling_length\": 10}\n",
    "c = trainable_coupler(parameters)\n",
    "c.plot()"
   ]
  },
  {
   "attachments": {},
   "cell_type": "markdown",
   "metadata": {},
   "source": [
    "When defining the model, we add the LithoParameter `erosion_magnitude`. For all models, a `TransformParameter` which if set, will offset the provided component prior to simulation, emulating erosion (when <1), nominal behaviour (when 1) and dilation (when >1). This morphological transformation is currently global; more advanced spatially-correlated filters are an obvious next step."
   ]
  },
  {
   "cell_type": "code",
   "execution_count": null,
   "metadata": {},
   "outputs": [],
   "source": [
    "from gdsfactory.simulation.sax.meep_FDTD_model import MeepFDTDModel\n",
    "\n",
    "# Simulation settings\n",
    "port_symmetries_coupler = {\n",
    "    \"o1@0,o1@0\": [\"o2@0,o2@0\", \"o3@0,o3@0\", \"o4@0,o4@0\"],\n",
    "    \"o2@0,o1@0\": [\"o1@0,o2@0\", \"o3@0,o4@0\", \"o4@0,o3@0\"],\n",
    "    \"o3@0,o1@0\": [\"o1@0,o3@0\", \"o2@0,o4@0\", \"o4@0,o2@0\"],\n",
    "    \"o4@0,o1@0\": [\"o1@0,o4@0\", \"o2@0,o3@0\", \"o3@0,o2@0\"],\n",
    "}\n",
    "\n",
    "sim_settings = dict(\n",
    "    resolution=10,\n",
    "    xmargin=1.0,\n",
    "    ymargin=1.0,\n",
    "    is_3d=False,\n",
    "    port_source_names=[\"o1\"],\n",
    "    port_symmetries=port_symmetries_coupler,\n",
    "    run=True,\n",
    "    overwrite=False,\n",
    "    layer_stack=filtered_layerstack,\n",
    "    z=0.1,\n",
    ")\n",
    "\n",
    "\n",
    "coupler_model = MeepFDTDModel(trainable_component=trainable_coupler,\n",
    "    layerstack=filtered_layerstack,\n",
    "    simulation_settings={\n",
    "        \"sim_settings\": sim_settings,\n",
    "    },\n",
    "    trainable_parameters={\n",
    "        \"coupling_length\": NamedParameter(\n",
    "            min_value=10, max_value=10, nominal_value=10, step=10\n",
    "        ),\n",
    "        \"gap\": NamedParameter(\n",
    "            min_value=0.2, max_value=0.2, nominal_value=0.2, step=0.3\n",
    "        ),\n",
    "    },\n",
    "    non_trainable_parameters={\n",
    "        \"wavelength\": NamedParameter(\n",
    "            min_value=1.54, max_value=1.56, nominal_value=1.55, step=0.01\n",
    "        ),\n",
    "    },\n",
    "    num_modes=1,\n",
    ")"
   ]
  },
  {
   "cell_type": "code",
   "execution_count": null,
   "metadata": {},
   "outputs": [],
   "source": [
    "input_vectors, output_vectors = coupler_model.get_model_input_output(type=\"arange\")"
   ]
  },
  {
   "cell_type": "code",
   "execution_count": null,
   "metadata": {},
   "outputs": [],
   "source": []
  }
 ],
 "metadata": {
  "kernelspec": {
   "display_name": "gdsfactory",
   "language": "python",
   "name": "python3"
  },
  "language_info": {
   "codemirror_mode": {
    "name": "ipython",
    "version": 3
   },
   "file_extension": ".py",
   "mimetype": "text/x-python",
   "name": "python",
   "nbconvert_exporter": "python",
   "pygments_lexer": "ipython3",
   "version": "3.10.9"
  },
  "vscode": {
   "interpreter": {
    "hash": "19d269ed95feaaac3f5a2d92915e9fd960bd420d94635eb150e438afb1801d52"
   }
  }
 },
 "nbformat": 4,
 "nbformat_minor": 2
}
