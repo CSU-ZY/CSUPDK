{
 "cells": [
  {
   "cell_type": "markdown",
   "id": "f9bd8640-22b8-4f38-9ace-54f6c329d258",
   "metadata": {},
   "source": [
    "# Tidy3D mode solver"
   ]
  },
  {
   "cell_type": "code",
   "execution_count": null,
   "id": "93e34a98-7fe7-4bbe-95ee-a5d8d94a5259",
   "metadata": {},
   "outputs": [],
   "source": [
    "import gdsfactory.simulation.gtidy3d as gt"
   ]
  },
  {
   "cell_type": "code",
   "execution_count": null,
   "id": "5d23a15a",
   "metadata": {},
   "outputs": [],
   "source": [
    "strip = gt.modes.Waveguide(wavelength=1.55, wg_width=0.5, t_wg=0.22, t_slab=0.0)\n",
    "strip"
   ]
  },
  {
   "cell_type": "code",
   "execution_count": null,
   "id": "60dcd64d",
   "metadata": {},
   "outputs": [],
   "source": [
    "strip.plot_Ex(0) # TE\n",
    "strip.plot_Ey(1) # TM"
   ]
  },
  {
   "cell_type": "code",
   "execution_count": null,
   "id": "aeee769d-0f21-44dd-8cc8-4b8e186bb6d4",
   "metadata": {},
   "outputs": [],
   "source": [
    "rib = gt.modes.Waveguide(wavelength=1.55, wg_width=0.5, t_wg=0.22, t_slab=0.15)\n",
    "rib.plot_index()"
   ]
  },
  {
   "cell_type": "code",
   "execution_count": null,
   "id": "dcda6632-f368-427f-a6c8-e65afc6a2306",
   "metadata": {},
   "outputs": [],
   "source": [
    "rib.plot_Ex(index=0)\n",
    "rib.plot_Ey(index=0)"
   ]
  },
  {
   "cell_type": "markdown",
   "id": "055d38f7-4916-4d49-86bf-81acf3964281",
   "metadata": {},
   "source": [
    "## Bend modes"
   ]
  },
  {
   "cell_type": "code",
   "execution_count": null,
   "id": "157fc2fe-9037-419d-8e39-ae9191871552",
   "metadata": {},
   "outputs": [],
   "source": [
    "strip_bend = gt.modes.Waveguide(wavelength=1.55, wg_width=0.5, t_wg=0.22, t_slab=0.0, bend_radius=3)"
   ]
  },
  {
   "cell_type": "code",
   "execution_count": null,
   "id": "14899a2b",
   "metadata": {},
   "outputs": [],
   "source": [
    "# lets plot the fundamental TE mode\n",
    "strip_bend.plot_Ex(0)\n",
    "strip_bend.plot_Ey(0)"
   ]
  },
  {
   "cell_type": "code",
   "execution_count": null,
   "id": "15095b57",
   "metadata": {},
   "outputs": [],
   "source": [
    "# lets plot the fundamental TM mode\n",
    "strip_bend.plot_Ex(1)\n",
    "strip_bend.plot_Ey(1)"
   ]
  },
  {
   "cell_type": "markdown",
   "id": "43100bb1",
   "metadata": {},
   "source": [
    "## Bend loss\n",
    "\n",
    "To compute the bend loss you can calculate the mode overlap of the original mode and the bent mode.\n",
    "\n",
    "FIXME! this does not work yet"
   ]
  },
  {
   "cell_type": "code",
   "execution_count": null,
   "id": "60e22786",
   "metadata": {},
   "outputs": [],
   "source": [
    "import numpy as np\n",
    "\n",
    "index = 0 # TE mode\n",
    "\n",
    "mode1_Ey = strip.Ey[index]\n",
    "mode1_Ez = strip.Ez[index]\n",
    "mode1_Hz = strip.Hz[index]\n",
    "mode1_Hy = strip.Hy[index]\n",
    "\n",
    "mode2_Ey = strip_bend.Ey [index]\n",
    "mode2_Ez = strip_bend.Ez [index]\n",
    "mode2_Hz = strip_bend.Hz [index]\n",
    "mode2_Hy = strip_bend.Hy [index]\n",
    "                \n",
    "integrand = (\n",
    "    np.conj(mode1_Ey) * mode2_Hz\n",
    "    - np.conj(mode1_Ez) * mode2_Hy\n",
    "    + mode2_Ey * np.conj(mode1_Hz)\n",
    "    - mode2_Ez * np.conj(mode1_Hy)\n",
    ")\n",
    "\n",
    "# Compute integral\n",
    "#t_sim = strip.t_sim\n",
    "#w_sim = strip.w_sim\n",
    "#wint = np.linspace(-w_sim/2, +w_sim/2, int(w_sim*strip.resolution))\n",
    "#tint = np.linspace(-t_sim/2, +t_sim/2, int(t_sim*strip.resolution))\n",
    "#integral = np.trapz(np.trapz(integrand, wint, axis=0), tint, axis=0)\n",
    "integral = np.trapz(np.trapz(integrand, axis=0), axis=0)\n",
    "abs(integral)"
   ]
  },
  {
   "cell_type": "code",
   "execution_count": null,
   "id": "031b11f7",
   "metadata": {},
   "outputs": [],
   "source": []
  }
 ],
 "metadata": {
  "interpreter": {
   "hash": "2f4f03439a4f7fdbec20f068c10212f0605861ac4e039c961c463b9a5ef880c6"
  },
  "kernelspec": {
   "display_name": "eme",
   "language": "python",
   "name": "python3"
  },
  "language_info": {
   "codemirror_mode": {
    "name": "ipython",
    "version": 3
   },
   "file_extension": ".py",
   "mimetype": "text/x-python",
   "name": "python",
   "nbconvert_exporter": "python",
   "pygments_lexer": "ipython3",
   "version": "3.9.10"
  }
 },
 "nbformat": 4,
 "nbformat_minor": 5
}
