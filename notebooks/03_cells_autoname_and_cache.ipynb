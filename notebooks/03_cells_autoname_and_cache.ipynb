{
 "cells": [
  {
   "cell_type": "markdown",
   "id": "0",
   "metadata": {},
   "source": [
    "# Cell\n",
    "\n",
    "A `@gf.cell` is a decorator for functions that return a Component. Make sure you add the `@gf.cell` decorator to each function that returns a Component so you avoid having multiple components with the same name.\n",
    "\n",
    "Why do you need to add the `@gf.cell` decorator?\n",
    "\n",
    "- In GDS each component must have a unique name. Ideally the name is also consistent from run to run, in case you want to merge GDS files that were created at different times or computers.\n",
    "- Two components stored in the GDS file cannot have the same name. They need to be references (instances) of the same component. See `References tutorial`. That way we only have to store the component in memory once and all the references are just pointers to that component.\n",
    "\n",
    "What does the `@gf.cell` decorator does?\n",
    "\n",
    "1. Gives the component a unique name depending on the parameters that you pass to it.\n",
    "2. Creates a cache of components where we use the name as the key. The first time the function runs, the cache stores the component, so the second time, you get the component directly from the cache, so you don't create the same component twice.\n",
    "\n",
    "\n",
    "A decorator is a function that runs over a function, so when you do.\n",
    "\n",
    "```python\n",
    "@gf.cell\n",
    "def mzi_with_bend():\n",
    "    c = gf.Component()\n",
    "    mzi = c << gf.components.mzi()\n",
    "    bend = c << gf.components.bend_euler()\n",
    "    return c\n",
    "```\n",
    "it's equivalent to\n",
    "\n",
    "```python\n",
    "def mzi_with_bend():\n",
    "    c = gf.Component()\n",
    "    mzi = c << gf.components.mzi()\n",
    "    bend = c << gf.components.bend_euler(radius=radius)\n",
    "    return c\n",
    "\n",
    "\n",
    "mzi_with_bend_decorated = gf.cell(mzi_with_bend)\n",
    "```\n",
    "\n",
    "Lets see how it works."
   ]
  },
  {
   "cell_type": "code",
   "execution_count": null,
   "id": "1",
   "metadata": {},
   "outputs": [],
   "source": [
    "import gdsfactory as gf\n",
    "\n",
    "\n",
    "def mzi_with_bend(radius: float = 10.0) -> gf.Component:\n",
    "    c = gf.Component()\n",
    "    mzi = c << gf.components.mzi()\n",
    "    bend = c << gf.components.bend_euler(radius=radius)\n",
    "    bend.connect(\"o1\", mzi.ports[\"o2\"])\n",
    "    return c\n",
    "\n",
    "\n",
    "c = mzi_with_bend()\n",
    "print(f\"this cell {c.name!r} does NOT get automatic name\")\n",
    "f = c.plot()"
   ]
  },
  {
   "cell_type": "code",
   "execution_count": null,
   "id": "2",
   "metadata": {},
   "outputs": [],
   "source": [
    "@gf.cell\n",
    "def mzi_with_bend(radius: float = 10.0) -> gf.Component:\n",
    "    c = gf.Component()\n",
    "    mzi = c << gf.components.mzi()\n",
    "    bend = c << gf.components.bend_euler(radius=radius)\n",
    "    bend.connect(\"o1\", mzi.ports[\"o2\"])\n",
    "    return c\n",
    "\n",
    "\n",
    "c = mzi_with_bend(radius=12)\n",
    "print(f\"this cell {c.name!r} gets automatic name thanks to the `cell` decorator\")\n",
    "f = c.plot()"
   ]
  },
  {
   "cell_type": "code",
   "execution_count": null,
   "id": "3",
   "metadata": {},
   "outputs": [],
   "source": [
    "@gf.cell\n",
    "def wg(length=10, width=1, layer=(1, 0)):\n",
    "    print(f\"BUILDING waveguide, length = {length}, width = {width} \")\n",
    "    c = gf.Component()\n",
    "    c.add_polygon([(0, 0), (length, 0), (length, width), (0, width)], layer=layer)\n",
    "    c.add_port(\n",
    "        name=\"o1\", center=[0, width / 2], width=width, orientation=180, layer=layer\n",
    "    )\n",
    "    c.add_port(\n",
    "        name=\"o2\", center=[length, width / 2], width=width, orientation=0, layer=layer\n",
    "    )\n",
    "    return c\n",
    "\n",
    "\n",
    "# See how the cells get the name from the parameters that you pass them\n",
    "c = wg()\n",
    "print(c)\n",
    "\n",
    "print(\"second time you get this cell from the cache\")\n",
    "c = wg()\n",
    "print(c)\n",
    "\n",
    "print(\"If you call the cell with different parameters, the cell gets a different name\")\n",
    "c = wg(width=0.5)\n",
    "print(c)"
   ]
  },
  {
   "cell_type": "code",
   "execution_count": null,
   "id": "4",
   "metadata": {
    "lines_to_next_cell": 2
   },
   "outputs": [],
   "source": [
    "# Sometimes when you are changing the inside code of the function, you need to flush the cache\n",
    "# You can pass an empty cache and then remove that once you are happy with the solution\n",
    "@gf.cell(cache={})\n",
    "def wg(length=10, width=1, layer=(1, 0)):\n",
    "    print(\"BUILDING waveguide without CACHE\")\n",
    "    c = gf.Component()\n",
    "    c.add_polygon([(0, 0), (length, 0), (length, width), (0, width)], layer=layer)\n",
    "    c.add_port(\n",
    "        name=\"o1\", center=[0, width / 2], width=width, orientation=180, layer=layer\n",
    "    )\n",
    "    c.add_port(\n",
    "        name=\"o2\", center=[length, width / 2], width=width, orientation=0, layer=layer\n",
    "    )\n",
    "    return c\n",
    "\n",
    "\n",
    "c = wg()\n",
    "c"
   ]
  },
  {
   "cell_type": "markdown",
   "id": "5",
   "metadata": {},
   "source": [
    "## Info\n",
    "\n",
    "Together with the GDS file that you send to the foundry you can also store info settings."
   ]
  },
  {
   "cell_type": "code",
   "execution_count": null,
   "id": "6",
   "metadata": {
    "lines_to_next_cell": 2
   },
   "outputs": [],
   "source": [
    "# thanks to `gf.cell` you can also add any metadata `info` relevant to the cell\n",
    "c = wg(length=3)\n",
    "c.info[\"polarization\"] = \"te\"\n",
    "c.info[\"wavelength\"] = 1.55\n",
    "c.info"
   ]
  },
  {
   "cell_type": "markdown",
   "id": "7",
   "metadata": {
    "lines_to_next_cell": 2
   },
   "source": [
    "## Cache\n",
    "\n",
    "To avoid that 2 exact cells are not references of the same cell the `cell` decorator has a cache where if a component has already been built it will return the component from the cache"
   ]
  },
  {
   "cell_type": "code",
   "execution_count": null,
   "id": "8",
   "metadata": {
    "lines_to_next_cell": 2
   },
   "outputs": [],
   "source": [
    "@gf.cell\n",
    "def wg(length=10, width=1):\n",
    "    c = gf.Component()\n",
    "    c.add_polygon([(0, 0), (length, 0), (length, width), (0, width)], layer=(1, 0))\n",
    "    print(\"BUILDING waveguide\")\n",
    "    return c\n",
    "\n",
    "\n",
    "wg1 = wg()  # cell builds a straight\n",
    "print(wg1)"
   ]
  },
  {
   "cell_type": "code",
   "execution_count": null,
   "id": "9",
   "metadata": {
    "lines_to_next_cell": 2
   },
   "outputs": [],
   "source": [
    "wg2 = (\n",
    "    wg()\n",
    ")  # cell returns the same straight as before without having to run the function\n",
    "print(wg2)"
   ]
  }
 ],
 "metadata": {
  "jupytext": {
   "cell_metadata_filter": "-all",
   "custom_cell_magics": "kql"
  },
  "kernelspec": {
   "display_name": "base",
   "language": "python",
   "name": "python3"
  },
  "language_info": {
   "codemirror_mode": {
    "name": "ipython",
    "version": 3
   },
   "file_extension": ".py",
   "mimetype": "text/x-python",
   "name": "python",
   "nbconvert_exporter": "python",
   "pygments_lexer": "ipython3",
   "version": "3.11.5"
  }
 },
 "nbformat": 4,
 "nbformat_minor": 5
}
