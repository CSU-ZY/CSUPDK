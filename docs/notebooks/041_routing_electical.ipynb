{
 "cells": [
  {
   "cell_type": "markdown",
   "id": "2602414c-b4b5-450e-96c0-a41578706d02",
   "metadata": {},
   "source": [
    "# Electrical routes\n",
    "\n",
    "We have similar functions to route electrical ports"
   ]
  },
  {
   "cell_type": "code",
   "execution_count": null,
   "id": "4e8066f0-cdce-4935-9203-ec603d91cff1",
   "metadata": {},
   "outputs": [],
   "source": [
    "import gdsfactory as gf"
   ]
  },
  {
   "cell_type": "code",
   "execution_count": null,
   "id": "b036a704-f9db-48be-912d-aa8d6eaa94a4",
   "metadata": {},
   "outputs": [],
   "source": [
    "c = gf.Component('pads')\n",
    "pt = c << gf.c.pad_array(orientation=270, columns=3)\n",
    "pb = c <<  gf.c.pad_array(orientation=90, columns=3)\n",
    "pt.move((50, 200))\n",
    "c"
   ]
  },
  {
   "cell_type": "code",
   "execution_count": null,
   "id": "40e52842-c05d-49ed-a09a-d31d4ab7cdd7",
   "metadata": {},
   "outputs": [],
   "source": [
    "route = gf.routing.get_route_electrical(pt.ports['e11'], pb.ports['e11'])\n",
    "c.add(route.references)\n",
    "c"
   ]
  },
  {
   "cell_type": "markdown",
   "id": "cce19052-dc3d-4e0f-8ed3-bef17fd3c706",
   "metadata": {},
   "source": [
    "## get_bundle_electrical"
   ]
  },
  {
   "cell_type": "code",
   "execution_count": null,
   "id": "eca9f955-6b97-4144-9e94-903c4591744d",
   "metadata": {},
   "outputs": [],
   "source": [
    "import gdsfactory as gf\n",
    "\n",
    "c = gf.Component('pads_bundle')\n",
    "pt = c << gf.c.pad_array(orientation=270, columns=3)\n",
    "pb = c <<  gf.c.pad_array(orientation=90, columns=3)\n",
    "pt.move((100, 200))\n",
    "c"
   ]
  },
  {
   "cell_type": "code",
   "execution_count": null,
   "id": "28c83646-21c1-4a0f-b03e-a56873b2c71e",
   "metadata": {},
   "outputs": [],
   "source": [
    "c = gf.Component('pads_bundle')\n",
    "pt = c << gf.c.pad_array(orientation=270, columns=3)\n",
    "pb = c <<  gf.c.pad_array(orientation=90, columns=3)\n",
    "pt.move((100, 200))\n",
    "\n",
    "routes = gf.routing.get_bundle_electrical(pt.ports, pb.ports, end_straight_offset=60)\n",
    "\n",
    "for route in routes:\n",
    "    c.add(route.references)\n",
    "c"
   ]
  },
  {
   "cell_type": "code",
   "execution_count": null,
   "id": "ac0d92d5-70e1-492b-b3a7-4d7ac6eb5f3e",
   "metadata": {},
   "outputs": [],
   "source": []
  }
 ],
 "metadata": {
  "kernelspec": {
   "display_name": "Python 3 (ipykernel)",
   "language": "python",
   "name": "python3"
  },
  "language_info": {
   "codemirror_mode": {
    "name": "ipython",
    "version": 3
   },
   "file_extension": ".py",
   "mimetype": "text/x-python",
   "name": "python",
   "nbconvert_exporter": "python",
   "pygments_lexer": "ipython3",
   "version": "3.9.7"
  }
 },
 "nbformat": 4,
 "nbformat_minor": 5
}
