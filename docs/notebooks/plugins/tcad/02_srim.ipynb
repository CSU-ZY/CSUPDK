{
 "cells": [
  {
   "cell_type": "markdown",
   "metadata": {},
   "source": [
    "# 1D implantation simulations\n",
    "\n",
    "You can call install [PySRIM](https://pypi.org/project/pysrim/) to perform implant simulations with `pip install pysrim`\n",
    "\n",
    "Thanks to this plugin you can directly interface with the implant layers of your Components for drift-diffusion simulations and use the results of the ion implantation simulations\n",
    "\n",
    "[SRIM is a Visual Basic GUI program](http://www.srim.org/) which has been thoroughly benchmarked.\n",
    "The website contains lots of documentation on the physics and software.\n",
    "It is closed source, but is free to use, copy, modify and distributed for any non-commercial purpose.\n",
    "To install it, you can follow the instructions on the [PySRIM repository](https://gitlab.com/costrouc/pysrim/).\n",
    "You can install the Windows executable yourself (using Wine on MacOS/Linux), or use a Docker image.\n",
    "[The issues contain good information if you run into problems.](https://gitlab.com/costrouc/pysrim/-/issues/7)"
   ]
  },
  {
   "cell_type": "code",
   "execution_count": null,
   "metadata": {},
   "outputs": [],
   "source": [
    "%matplotlib inline\n",
    "\n",
    "import os\n",
    "from pprint import pprint\n",
    "\n",
    "# Only needed to embed the images in notebook\n",
    "from IPython.display import Image\n",
    "\n",
    "import numpy as np\n",
    "import matplotlib.pyplot as plt\n",
    "\n",
    "from srim import TRIM, SR, Ion, Layer, Target\n",
    "from srim.output import Results"
   ]
  },
  {
   "cell_type": "markdown",
   "metadata": {},
   "source": [
    "[The following example follows the tutorial from PySRIM](https://gitlab.com/costrouc/pysrim/-/blob/master/examples/notebooks/Analysis.ipynb), adapted for silicon photonic applications.\n",
    "\n",
    "## Simulating n-doping of silicon\n",
    "\n",
    "### Setup\n",
    "\n",
    "Let's compute the implant depth for 100 keV Phosphorus (a typical N-implant) into 220-nm thick SOI:"
   ]
  },
  {
   "cell_type": "code",
   "execution_count": null,
   "metadata": {},
   "outputs": [],
   "source": [
    "# Define implant\n",
    "energy = 1.0e5\n",
    "implant = Ion(\"P\", energy=1.0e5)\n",
    "\n",
    "# Define layers of target\n",
    "nm = 10  # units of SRIM are Angstroms\n",
    "um = 1e4\n",
    "soi_thickness = 220 * nm\n",
    "BOX_thickness = 100 * nm  # instead of 3 * um, ions barely make it to BOX\n",
    "\n",
    "# 220nm pure silicon\n",
    "soi = Layer(\n",
    "    {\n",
    "        \"Si\": {\n",
    "            \"stoich\": 1.0,  # (float, int, required): Stoichiometry of element (fraction)\n",
    "            \"E_d\": 35.0,  # (float, int, optional): Displacement energy [eV]\n",
    "            \"lattice\": 0.0,  # (float, int, optional): Lattice binding energies [eV]. Used for sputtering calculations.\n",
    "            \"surface\": 3.0,  # (float, int, optional): Surface binding energies [eV]. Used for sputtering calculations.\n",
    "        },\n",
    "    },\n",
    "    density=2.3290,  # density [g/cm^3] of material\n",
    "    width=soi_thickness,  # width [Angstroms] of layer\n",
    ")\n",
    "\n",
    "# 3um SiO2\n",
    "box = Layer(\n",
    "    {\n",
    "        \"Si\": {\n",
    "            \"stoich\": 0.33,\n",
    "        },\n",
    "        \"O\": {\n",
    "            \"stoich\": 0.67,\n",
    "        },\n",
    "    },\n",
    "    density=2.65,\n",
    "    width=BOX_thickness,\n",
    ")\n",
    "\n",
    "# Define multilayer target\n",
    "target = Target([soi, box])"
   ]
  },
  {
   "cell_type": "markdown",
   "metadata": {},
   "source": [
    "### Executing simulation\n",
    "\n",
    "PySRIM recommends fragmenting the simulation to avoid SRIM crashing:"
   ]
  },
  {
   "cell_type": "code",
   "execution_count": null,
   "metadata": {},
   "outputs": [],
   "source": [
    "from pathlib import Path\n",
    "from shutil import rmtree\n",
    "from itertools import count\n",
    "\n",
    "# Helper functions to run calculations\n",
    "def fragment(step, total):\n",
    "    remaining = total\n",
    "    while remaining > 0:\n",
    "        if step > remaining:\n",
    "            return remaining\n",
    "        else:\n",
    "            remaining -= step\n",
    "            yield step\n",
    "\n",
    "\n",
    "def find_folder(directory):\n",
    "    for i in count():\n",
    "        path = Path(directory) / str(i)\n",
    "        if not path.is_dir():\n",
    "            return str(path.absolute())\n",
    "\n",
    "\n",
    "def run_fragmented_calculation(ion, target, number_ions, path, trim_settings, step):\n",
    "    for i, num_ions in enumerate(fragment(step, number_ions)):\n",
    "        print(\n",
    "            \"total ions completed: {:06d}\\tion: {}\\tions in step: {:06d}\".format(\n",
    "                i * step, ion.symbol, num_ions\n",
    "            )\n",
    "        )\n",
    "        trim_settings = trim_settings or {\"calculation\": 2}\n",
    "        trim = TRIM(target, ion, number_ions=num_ions, **trim_settings)\n",
    "        results = trim.run(srim_executable_directory)\n",
    "        save_directory = find_folder(path)\n",
    "        print(\"calculation saved to:\", save_directory)\n",
    "        os.makedirs(save_directory, exist_ok=True)\n",
    "        TRIM.copy_output_files(srim_executable_directory, save_directory)"
   ]
  },
  {
   "cell_type": "code",
   "execution_count": null,
   "metadata": {},
   "outputs": [],
   "source": [
    "overwrite = True\n",
    "\n",
    "srim_executable_directory = Path(\"/tmp/srim\")\n",
    "srim_data_directory = Path(\"./tmp/\")\n",
    "\n",
    "srim_data_directory.mkdir(exist_ok=True, parents=True)\n",
    "srim_executable_directory.mkdir(exist_ok=True, parents=True)\n",
    "\n",
    "trim_settings = {\n",
    "    \"calculation\": 1,\n",
    "    \"angle_ions\": 7,\n",
    "    \"ranges\": True,\n",
    "    \"plot_mode\": 5,\n",
    "}\n",
    "\n",
    "if overwrite:\n",
    "    rmtree(srim_data_directory)\n",
    "    trim = run_fragmented_calculation(\n",
    "        ion=implant,\n",
    "        target=target,\n",
    "        number_ions=5000,\n",
    "        path=srim_data_directory,\n",
    "        trim_settings=trim_settings,\n",
    "        step=1000,\n",
    "    )"
   ]
  },
  {
   "cell_type": "markdown",
   "metadata": {},
   "source": [
    "If you are using your own TRIM installation, you should see a window popup and run the calculations. If using Docker, the process will hang until it is done (there is no progress monitor).\n",
    "\n",
    "### Analyzing vertical distribution\n",
    "\n",
    "Now we can analyze the results. We are interested in the implant distribution, and so we plot the range of the ions in the target. First, we collect the different results and normalize the results:"
   ]
  },
  {
   "cell_type": "code",
   "execution_count": null,
   "metadata": {},
   "outputs": [],
   "source": [
    "results = [\n",
    "    Results(child)\n",
    "    for child in srim_data_directory.glob(\"**/\")\n",
    "    if child != srim_data_directory\n",
    "]"
   ]
  },
  {
   "cell_type": "code",
   "execution_count": null,
   "metadata": {},
   "outputs": [],
   "source": [
    "depths = np.mean(np.vstack([result.range.depth for result in results]), axis=0)\n",
    "ranges = np.mean(\n",
    "    np.vstack([result.range.ions / result.range.num_ions for result in results]),\n",
    "    axis=0,\n",
    ")\n",
    "ranges = ranges / np.sqrt(np.trapz(ranges, depths))  # normalize distribution"
   ]
  },
  {
   "cell_type": "code",
   "execution_count": null,
   "metadata": {},
   "outputs": [],
   "source": [
    "plt.title(f\"Phosphorus {energy} eV in SOI\")\n",
    "plt.scatter(depths, ranges, marker=\".\", color=\"k\")\n",
    "\n",
    "plt.xlabel(\"Depth (A)\")\n",
    "plt.ylabel(\"Relative number of ions\")\n",
    "\n",
    "plt.vlines(x=soi_thickness, ymin=0, ymax=1000)\n",
    "plt.xlim([0, 4000])\n",
    "plt.ylim([0, 0.35])"
   ]
  },
  {
   "cell_type": "markdown",
   "metadata": {},
   "source": [
    "We can do statistical analysis:"
   ]
  },
  {
   "cell_type": "code",
   "execution_count": null,
   "metadata": {},
   "outputs": [],
   "source": [
    "from statistics import mean, stdev\n",
    "from scipy.stats import kurtosis, skew\n",
    "\n",
    "implant_range = mean(ranges * depths)\n",
    "implant_straggle = stdev(ranges * depths)\n",
    "implant_skew = skew(ranges * depths)\n",
    "implant_kurtosis = kurtosis(ranges * depths)\n",
    "\n",
    "import pprint\n",
    "\n",
    "pprint.pprint(f\"Implant range: {implant_range}\")\n",
    "pprint.pprint(f\"Implant straggle: {implant_straggle}\")\n",
    "pprint.pprint(f\"Implant skew: {implant_skew}\")\n",
    "pprint.pprint(f\"Implant kurtosis: {implant_kurtosis}\")"
   ]
  },
  {
   "cell_type": "code",
   "execution_count": null,
   "metadata": {},
   "outputs": [],
   "source": []
  }
 ],
 "metadata": {
  "kernelspec": {
   "display_name": "Python 3 (ipykernel)",
   "language": "python",
   "name": "python3"
  },
  "language_info": {
   "codemirror_mode": {
    "name": "ipython",
    "version": 3
   },
   "file_extension": ".py",
   "mimetype": "text/x-python",
   "name": "python",
   "nbconvert_exporter": "python",
   "pygments_lexer": "ipython3",
   "version": "3.10.6"
  },
  "nbsphinx": {
   "execute": "never"
  },
  "vscode": {
   "interpreter": {
    "hash": "0812c0e95dbda637e29019a0b7cdaea2a8eb8ed2ab9b7320ca5d44200ec34a9a"
   }
  }
 },
 "nbformat": 4,
 "nbformat_minor": 4
}
