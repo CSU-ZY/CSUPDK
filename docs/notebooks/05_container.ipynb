{
 "cells": [
  {
   "cell_type": "markdown",
   "metadata": {},
   "source": [
    "# Cells inside cells (container)\n",
    "\n",
    "Cells must have a unique name.\n",
    "If you change something in the cell, such as add a label, a grating coupler or just a pin and keep the same name it is very likely that you will have a name conflict when you combine two cells with the same name but different geometry.\n",
    "\n",
    "\n",
    "You can add a reference of any cell inside a new cell.\n",
    "For example, if you want to add padding to a Component called 'straight_L3'\n",
    "\n",
    "Cells that have a component argument automatically will copy the component settings into the new cell."
   ]
  },
  {
   "cell_type": "code",
   "execution_count": null,
   "metadata": {},
   "outputs": [],
   "source": [
    "from typing import Tuple, Optional,List\n",
    "import pp\n",
    "\n",
    "\n",
    "@pp.cell\n",
    "def add_padding(\n",
    "    component: pp.Component,\n",
    "    layers: List[Tuple[int, int]] = [pp.LAYER.DEVREC],\n",
    "    default: float = 5.0,\n",
    "    top: Optional[float] = None,\n",
    "    bottom: Optional[float] = None,\n",
    "    right: Optional[float] = None,\n",
    "    left: Optional[float] = None,\n",
    "\n",
    ") -> pp.Component:\n",
    "    \"\"\"Adds padding layers to a container.\n",
    "\n",
    "    Args:\n",
    "        component\n",
    "        layers: list of layers\n",
    "        suffix for name\n",
    "        default: default padding\n",
    "        top: north padding\n",
    "        bottom: south padding\n",
    "        right: east padding\n",
    "        left: west padding\n",
    "    \"\"\"\n",
    "\n",
    "    container = pp.Component()\n",
    "    container << component\n",
    "\n",
    "    c = component\n",
    "    top = top if top else default\n",
    "    bottom = bottom if bottom else default\n",
    "    right = right if right else default\n",
    "    left = left if left else default\n",
    "\n",
    "    points =   [[c.xmin - left, c.ymin - bottom],\n",
    "        [c.xmax + right, c.ymin - bottom],\n",
    "        [c.xmax + right, c.ymax + top],\n",
    "        [c.xmin - left, c.ymax + top]]\n",
    "\n",
    "    for layer in layers:\n",
    "        container.add_polygon(points, layer=layer)\n",
    "    return container\n",
    "\n",
    "wg = pp.components.straight()\n",
    "wg"
   ]
  },
  {
   "cell_type": "code",
   "execution_count": null,
   "metadata": {},
   "outputs": [],
   "source": [
    "wg_padding = add_padding(component=wg)\n",
    "wg_padding"
   ]
  },
  {
   "cell_type": "code",
   "execution_count": null,
   "metadata": {},
   "outputs": [],
   "source": [
    "wg.settings"
   ]
  },
  {
   "cell_type": "code",
   "execution_count": null,
   "metadata": {},
   "outputs": [],
   "source": [
    "wg_padding.settings"
   ]
  },
  {
   "cell_type": "markdown",
   "metadata": {},
   "source": [
    "You can use many containers from gdsfactory. Also **note** that many functions have a container version that creates a new cell and a non container version that operates over the cell.\n",
    "\n",
    "Make sure you only use the function that operate over the cell if you plan to only use that new version of the cell (to avoid name conflicts)"
   ]
  },
  {
   "cell_type": "code",
   "execution_count": null,
   "metadata": {},
   "outputs": [],
   "source": [
    "import pp\n",
    "\n",
    "c = pp.components.straight()\n",
    "c"
   ]
  },
  {
   "cell_type": "code",
   "execution_count": null,
   "metadata": {},
   "outputs": [],
   "source": [
    "pp.add_padding?"
   ]
  },
  {
   "cell_type": "code",
   "execution_count": null,
   "metadata": {},
   "outputs": [],
   "source": [
    "pp.add_padding_container?"
   ]
  },
  {
   "cell_type": "code",
   "execution_count": null,
   "metadata": {},
   "outputs": [],
   "source": [
    "c = pp.components.straight()\n",
    "cc = pp.add_padding(component=c, default=5)\n",
    "cc"
   ]
  },
  {
   "cell_type": "code",
   "execution_count": null,
   "metadata": {},
   "outputs": [],
   "source": [
    "print(cc.name) # matches original name"
   ]
  },
  {
   "cell_type": "code",
   "execution_count": null,
   "metadata": {},
   "outputs": [],
   "source": [
    "c = pp.components.straight()\n",
    "cc = pp.add_padding_container(component=c, default=5)\n",
    "cc"
   ]
  },
  {
   "cell_type": "code",
   "execution_count": null,
   "metadata": {},
   "outputs": [],
   "source": [
    "print(cc.name) # new name"
   ]
  },
  {
   "cell_type": "code",
   "execution_count": null,
   "metadata": {},
   "outputs": [],
   "source": [
    "cc = pp.extend_ports?"
   ]
  },
  {
   "cell_type": "code",
   "execution_count": null,
   "metadata": {},
   "outputs": [],
   "source": [
    "cc = pp.extend_ports"
   ]
  },
  {
   "cell_type": "code",
   "execution_count": null,
   "metadata": {},
   "outputs": [],
   "source": [
    "cc = pp.extend_ports"
   ]
  },
  {
   "cell_type": "code",
   "execution_count": null,
   "metadata": {},
   "outputs": [],
   "source": [
    "c = pp.components.straight()\n",
    "cc = pp.extend_ports(component=c)\n",
    "cc"
   ]
  },
  {
   "cell_type": "code",
   "execution_count": null,
   "metadata": {},
   "outputs": [],
   "source": [
    "c = pp.components.straight()\n",
    "cc = pp.add_termination(component=c)\n",
    "cc"
   ]
  },
  {
   "cell_type": "code",
   "execution_count": null,
   "metadata": {},
   "outputs": [],
   "source": [
    "pp.routing.add_fiber_array?"
   ]
  },
  {
   "cell_type": "code",
   "execution_count": null,
   "metadata": {},
   "outputs": [],
   "source": [
    "c = pp.components.straight()\n",
    "cc = pp.routing.add_fiber_array(component=c)\n",
    "cc"
   ]
  },
  {
   "cell_type": "code",
   "execution_count": null,
   "metadata": {},
   "outputs": [],
   "source": [
    "pp.routing.add_fiber_single?"
   ]
  },
  {
   "cell_type": "code",
   "execution_count": null,
   "metadata": {},
   "outputs": [],
   "source": [
    "c = pp.components.straight()\n",
    "cc = pp.routing.add_fiber_single(component=c)\n",
    "cc"
   ]
  },
  {
   "cell_type": "code",
   "execution_count": null,
   "metadata": {},
   "outputs": [],
   "source": []
  }
 ],
 "metadata": {
  "kernelspec": {
   "display_name": "Python 3",
   "language": "python",
   "name": "python3"
  },
  "language_info": {
   "codemirror_mode": {
    "name": "ipython",
    "version": 3
   },
   "file_extension": ".py",
   "mimetype": "text/x-python",
   "name": "python",
   "nbconvert_exporter": "python",
   "pygments_lexer": "ipython3",
   "version": "3.9.5"
  }
 },
 "nbformat": 4,
 "nbformat_minor": 4
}
