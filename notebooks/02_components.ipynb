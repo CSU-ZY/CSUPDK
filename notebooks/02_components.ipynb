{
 "cells": [
  {
   "cell_type": "markdown",
   "metadata": {},
   "source": [
    "# Components\n",
    "\n",
    "We store our component functions inside the `pp.components` module. Each\n",
    "function there returns a Component object\n",
    "\n",
    "You can use `dir` or `help` over the `pp.c` module to see the all available\n",
    "components.\n",
    "\n",
    "Some of which are just shapes, but we call them components as they all inherit\n",
    "from the component class in `pp.Component`"
   ]
  },
  {
   "cell_type": "code",
   "execution_count": null,
   "metadata": {},
   "outputs": [],
   "source": [
    "import pp"
   ]
  },
  {
   "cell_type": "code",
   "execution_count": null,
   "metadata": {},
   "outputs": [],
   "source": [
    "c = pp.c.mzi()\n",
    "pp.qp(c)"
   ]
  },
  {
   "cell_type": "code",
   "execution_count": null,
   "metadata": {},
   "outputs": [],
   "source": [
    "c.ports"
   ]
  },
  {
   "cell_type": "code",
   "execution_count": null,
   "metadata": {},
   "outputs": [],
   "source": [
    "c = pp.c.ring_single_bus()\n",
    "pp.qp(c)"
   ]
  },
  {
   "cell_type": "markdown",
   "metadata": {},
   "source": [
    "You can see all the components available in `gdsfactory` by typing `help(pp.c)`"
   ]
  },
  {
   "cell_type": "markdown",
   "metadata": {},
   "source": [
    "# What is a factory?\n",
    "\n",
    "A factory is a dict of functions"
   ]
  },
  {
   "cell_type": "markdown",
   "metadata": {},
   "source": [
    "# What factories does gdsfactory have?\n",
    "\n",
    "There are two main factories:\n",
    "    \n",
    "- component_factory\n",
    "- route_factory\n",
    "\n",
    "\n",
    "A factory is just a function that returns obects. \n",
    "\n",
    "# Why using factories?\n",
    "\n",
    "Because functions are easier to write than classes.\n",
    "\n",
    "In gdsfactory you will never have to write any classes. The only classes are for internal use (Port, Component and ComponentReference) and have already been defined for you"
   ]
  },
  {
   "cell_type": "code",
   "execution_count": null,
   "metadata": {},
   "outputs": [],
   "source": [
    "import pp"
   ]
  },
  {
   "cell_type": "code",
   "execution_count": null,
   "metadata": {},
   "outputs": [],
   "source": [
    "component_factory = pp.component_factory\n",
    "component_factory.keys()"
   ]
  },
  {
   "cell_type": "code",
   "execution_count": null,
   "metadata": {},
   "outputs": [],
   "source": [
    "route_factory = pp.routing.route_factory\n",
    "route_factory.keys()"
   ]
  },
  {
   "cell_type": "code",
   "execution_count": null,
   "metadata": {},
   "outputs": [],
   "source": [
    "route_optical = route_factory['optical']\n",
    "route_optical?"
   ]
  },
  {
   "cell_type": "markdown",
   "metadata": {},
   "source": [
    "# What can you do with a factory?\n",
    "\n",
    "A factory easily allows you to access and customize the functions from that `dict`. \n",
    "\n",
    "For example, lets say that you work with fab A. You can define a PDK factory of components and some custom routing waveguides for that particular technology.\n"
   ]
  },
  {
   "cell_type": "code",
   "execution_count": null,
   "metadata": {},
   "outputs": [],
   "source": [
    "component_function = component_factory['bend_circular180']\n",
    "component = component_function()\n",
    "pp.qp(component)"
   ]
  },
  {
   "cell_type": "code",
   "execution_count": null,
   "metadata": {},
   "outputs": [],
   "source": []
  }
 ],
 "metadata": {
  "kernelspec": {
   "display_name": "Python 3",
   "language": "python",
   "name": "python3"
  },
  "language_info": {
   "codemirror_mode": {
    "name": "ipython",
    "version": 3
   },
   "file_extension": ".py",
   "mimetype": "text/x-python",
   "name": "python",
   "nbconvert_exporter": "python",
   "pygments_lexer": "ipython3",
   "version": "3.8.3"
  }
 },
 "nbformat": 4,
 "nbformat_minor": 4
}
