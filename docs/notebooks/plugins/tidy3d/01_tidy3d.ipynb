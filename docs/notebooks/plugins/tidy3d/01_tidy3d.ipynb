{
 "cells": [
  {
   "cell_type": "markdown",
   "id": "9b829983-7d64-439e-ac09-5ba9000d58a6",
   "metadata": {},
   "source": [
    "# tidy3d\n",
    "\n",
    "gdsfactory simulation plugin for tidy3d\n",
    "\n",
    "[tidy3D is a FDTD web based software](https://simulation.cloud/)"
   ]
  },
  {
   "cell_type": "code",
   "execution_count": null,
   "id": "8663bc31-aa1d-4323-b345-e3a76c0e06ce",
   "metadata": {},
   "outputs": [],
   "source": [
    "# basic ipython configuration (reload source code automatically and plots inline)\n",
    "%load_ext autoreload\n",
    "%autoreload 2\n",
    "%matplotlib inline\n",
    "\n",
    "import numpy as np\n",
    "import matplotlib.pyplot as plt\n",
    "import gdspy\n",
    "import os\n",
    "\n",
    "import tidy3d as td\n",
    "from tidy3d import web\n",
    "import gdsfactory as gf\n",
    "import gdsfactory.simulation.gtidy3d as gt"
   ]
  },
  {
   "cell_type": "markdown",
   "id": "b35d573e-54c4-42b9-9009-4c7717eeba4f",
   "metadata": {},
   "source": [
    "## Review simulation\n",
    "\n",
    "you can review a simulation before submitting to ensure it's correct."
   ]
  },
  {
   "cell_type": "code",
   "execution_count": null,
   "id": "0c161d9b-8b4f-42eb-86c0-070f70065711",
   "metadata": {},
   "outputs": [],
   "source": [
    "c = gf.components.mmi1x2()\n",
    "sim = gt.get_simulation(c)\n",
    "fig = gt.plot_simulation(sim)"
   ]
  },
  {
   "cell_type": "code",
   "execution_count": null,
   "id": "1edc1536-8250-40b1-8d88-460538cbf5f8",
   "metadata": {},
   "outputs": [],
   "source": [
    "c = gf.components.coupler_ring()\n",
    "sim = gt.get_simulation(c)\n",
    "fig = gt.plot_simulation(sim)"
   ]
  },
  {
   "cell_type": "code",
   "execution_count": null,
   "id": "5c98d539-5d46-4f39-a50d-e40d9e61f03f",
   "metadata": {},
   "outputs": [],
   "source": [
    "c = gf.components.bend_circular(radius=2)\n",
    "sim = gt.get_simulation(c)\n",
    "fig = gt.plot_simulation(sim)"
   ]
  },
  {
   "cell_type": "code",
   "execution_count": null,
   "id": "fb551038-334c-417c-8bc3-077cff7fff29",
   "metadata": {},
   "outputs": [],
   "source": [
    "import numpy as np\n",
    "import matplotlib.pyplot as plt\n",
    "import gdspy\n",
    "import os\n",
    "\n",
    "import tidy3d as td\n",
    "from tidy3d import web\n",
    "import gdsfactory as gf\n",
    "import gdsfactory.simulation.gtidy3d as gt\n",
    "\n",
    "c = gf.components.straight_rib(length=3)\n",
    "sim = gt.get_simulation(c, plot_modes=True)\n",
    "fig = gt.plot_simulation_xz(sim)"
   ]
  },
  {
   "cell_type": "code",
   "execution_count": null,
   "id": "f244ec8c-3844-4faa-a4a1-1c71ea068049",
   "metadata": {},
   "outputs": [],
   "source": []
  },
  {
   "cell_type": "code",
   "execution_count": null,
   "id": "1798e4fa-0b27-4748-9294-8c6237cb4f5d",
   "metadata": {},
   "outputs": [],
   "source": [
    "components =  ['bend_euler', 'bend_s', 'coupler', 'coupler_ring', 'crossing', 'mmi1x2', 'mmi2x2', 'taper',  'straight']\n",
    "\n",
    "for component_name in components:\n",
    "    print(component_name)\n",
    "    plt.figure()\n",
    "    c = gf.components.factory[component_name]()\n",
    "    sim = gt.get_simulation(c)\n",
    "    fig = gt.plot_simulation(sim)"
   ]
  },
  {
   "cell_type": "code",
   "execution_count": null,
   "id": "b7141a9c-6347-40ad-8695-f140933c8868",
   "metadata": {},
   "outputs": [],
   "source": [
    "c = gf.components.mmi1x2(cross_section=gf.cross_section.nitride)\n",
    "sim = gt.get_simulation(c)\n",
    "fig = gt.plot_simulation(sim, z=500e-3)"
   ]
  },
  {
   "cell_type": "markdown",
   "id": "890f7949-de25-4cb6-a59b-e4e3a5f60d30",
   "metadata": {},
   "source": [
    "## Run simulation\n",
    "\n",
    "We can run one simulation as well as a group of simulations in paralell"
   ]
  },
  {
   "cell_type": "code",
   "execution_count": null,
   "id": "7102b222-a604-41a0-baa5-e7dcab6ffeb5",
   "metadata": {},
   "outputs": [],
   "source": [
    "# NBVAL_SKIP\n",
    "c = gf.components.straight()\n",
    "s = gt.get_sparameters(c)"
   ]
  },
  {
   "cell_type": "code",
   "execution_count": null,
   "id": "0e1ff929-a1d4-4583-a7c4-09df27be7554",
   "metadata": {},
   "outputs": [],
   "source": [
    "# NBVAL_SKIP\n",
    "for component_name, component_factory in gf.components._factory_passives.items():\n",
    "    c = component_factory()\n",
    "    s = gt.get_sparameters(c)"
   ]
  },
  {
   "cell_type": "markdown",
   "id": "fe6c00d9-421f-46d0-b5d3-35049a764794",
   "metadata": {},
   "source": [
    "## Analyze simulation results\n",
    "\n",
    "Once simulations finish we can compute:\n",
    "\n",
    "- Sparameters (transmission, Reflection)\n",
    "- Coupling coefficients"
   ]
  },
  {
   "cell_type": "code",
   "execution_count": null,
   "id": "39615916-4f3d-4298-8588-e1202eea0dd4",
   "metadata": {},
   "outputs": [],
   "source": []
  }
 ],
 "metadata": {
  "kernelspec": {
   "display_name": "Python 3 (ipykernel)",
   "language": "python",
   "name": "python3"
  },
  "language_info": {
   "codemirror_mode": {
    "name": "ipython",
    "version": 3
   },
   "file_extension": ".py",
   "mimetype": "text/x-python",
   "name": "python",
   "nbconvert_exporter": "python",
   "pygments_lexer": "ipython3",
   "version": "3.9.7"
  }
 },
 "nbformat": 4,
 "nbformat_minor": 5
}
