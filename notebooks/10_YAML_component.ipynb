{
 "cells": [
  {
   "cell_type": "markdown",
   "metadata": {},
   "source": [
    "# Write Component from YAML file"
   ]
  },
  {
   "cell_type": "code",
   "execution_count": null,
   "metadata": {
    "attributes": {
     "classes": [],
     "id": "",
     "n": "5"
    }
   },
   "outputs": [],
   "source": [
    "import io\n",
    "import pp\n",
    "\n",
    "sample = io.StringIO(\"\"\"\n",
    "mmi_long:\n",
    "  component: mmi1x2\n",
    "  settings:\n",
    "    width_mmi: 4.5\n",
    "    length_mmi: 10\n",
    "mmi_short:\n",
    "  component: mmi1x2\n",
    "  settings:\n",
    "    width_mmi: 4.5\n",
    "    length_mmi: 5\n",
    "  properties:\n",
    "    x : 100\n",
    "    y : 100\n",
    "\"\"\")\n",
    "\n",
    "c = pp.component_from_yaml(sample)\n",
    "pp.show(c)\n",
    "pp.plotgds(c)"
   ]
  }
 ],
 "metadata": {},
 "nbformat": 4,
 "nbformat_minor": 4
}
