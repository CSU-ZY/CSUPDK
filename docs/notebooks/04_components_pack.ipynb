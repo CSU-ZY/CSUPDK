{
 "cells": [
  {
   "cell_type": "markdown",
   "metadata": {},
   "source": [
    "# Grid / pack / align / distribute"
   ]
  },
  {
   "cell_type": "markdown",
   "metadata": {},
   "source": [
    "## Grid\n",
    "\n",
    "\n",
    "The ``gf.components.grid()`` function can take a list (or 2D array) of objects and arrange them along a grid. This is often useful for making parameter sweeps.   If the `separation` argument is true, grid is arranged such that the elements are guaranteed not to touch, with a `spacing` distance between them.  If `separation` is false, elements are spaced evenly along a grid. The `align_x`/`align_y` arguments specify intra-row/intra-column alignment.  The `edge_x`/`edge_y` arguments specify inter-row/inter-column alignment (unused if `separation = True`)."
   ]
  },
  {
   "cell_type": "code",
   "execution_count": null,
   "metadata": {},
   "outputs": [],
   "source": [
    "import gdsfactory as gf\n",
    "\n",
    "components_list = []\n",
    "for width1 in [1, 6, 9]:\n",
    "    for width2 in [1, 2, 4, 8]:\n",
    "        D = gf.components.taper(length=10, width1=width1, width2=width2, layer=(1, 0))\n",
    "        components_list.append(D)\n",
    "\n",
    "c = gf.grid(\n",
    "    components_list,\n",
    "    spacing=(5, 1),\n",
    "    separation=True,\n",
    "    shape=(3, 4),\n",
    "    align_x=\"x\",\n",
    "    align_y=\"y\",\n",
    "    edge_x=\"x\",\n",
    "    edge_y=\"ymax\",\n",
    ")\n",
    "c"
   ]
  },
  {
   "cell_type": "markdown",
   "metadata": {},
   "source": [
    "## Pack\n",
    "\n",
    "\n",
    "The ``gf.pack()`` function packs geometries together into rectangular bins. If a ``max_size`` is specified, the function will create as many bins as is necessary to pack all the geometries and then return a list of the filled-bin Components.\n",
    "\n",
    "Here we generate several random shapes then pack them together automatically. We allow the bin to be as large as needed to fit all the Components by specifying ``max_size = (None, None)``.  By setting ``aspect_ratio = (2,1)``, we specify the rectangular bin it tries to pack them into should be twice as wide as it is tall:"
   ]
  },
  {
   "cell_type": "code",
   "execution_count": null,
   "metadata": {},
   "outputs": [],
   "source": [
    "import numpy as np\n",
    "import gdsfactory as gf\n",
    "\n",
    "np.random.seed(5)\n",
    "D_list = [gf.components.rectangle(size=(i, i)) for i in range(1, 10)]\n",
    "\n",
    "D_packed_list = gf.pack(\n",
    "    D_list,  # Must be a list or tuple of Components\n",
    "    spacing=1.25,  # Minimum distance between adjacent shapes\n",
    "    aspect_ratio=(2, 1),  # (width, height) ratio of the rectangular bin\n",
    "    max_size=(None, None),  # Limits the size into which the shapes will be packed\n",
    "    density=1.05,  # Values closer to 1 pack tighter but require more computation\n",
    "    sort_by_area=True,  # Pre-sorts the shapes by area\n",
    ")\n",
    "D = D_packed_list[0]  # Only one bin was created, so we plot that\n",
    "D"
   ]
  },
  {
   "cell_type": "markdown",
   "metadata": {},
   "source": [
    "Say we need to pack many shapes into multiple 500x500 unit die. If we set ``max_size = (500,500)`` the shapes will be packed into as many 500x500 unit die as required to fit them all:"
   ]
  },
  {
   "cell_type": "code",
   "execution_count": null,
   "metadata": {},
   "outputs": [],
   "source": [
    "np.random.seed(1)\n",
    "D_list = [\n",
    "    gf.components.ellipse(radii=tuple(np.random.rand(2) * n + 2)) for n in range(120)\n",
    "]\n",
    "D_packed_list = gf.pack(\n",
    "    D_list,  # Must be a list or tuple of Components\n",
    "    spacing=4,  # Minimum distance between adjacent shapes\n",
    "    aspect_ratio=(1, 1),  # Shape of the box\n",
    "    max_size=(500, 500),  # Limits the size into which the shapes will be packed\n",
    "    density=1.05,  # Values closer to 1 pack tighter but require more computation\n",
    "    sort_by_area=True,  # Pre-sorts the shapes by area\n",
    ")\n",
    "\n",
    "# Put all packed bins into a single device and spread them out with distribute()\n",
    "F = gf.Component(\"packed\")\n",
    "[F.add_ref(D) for D in D_packed_list]\n",
    "F.distribute(elements=\"all\", direction=\"x\", spacing=100, separation=True)\n",
    "F"
   ]
  },
  {
   "cell_type": "markdown",
   "metadata": {},
   "source": [
    "Note that the packing problem is an NP-complete problem, so ``gf.components.packer()`` may be slow if there are more than a few hundred Components to pack (in that case, try pre-packing a few dozen at a time then packing the resulting bins). Requires the ``rectpack`` python package."
   ]
  },
  {
   "cell_type": "markdown",
   "metadata": {},
   "source": [
    "## Distribute\n",
    "\n",
    "\n",
    "The ``distribute()`` function allows you to space out elements within a Component evenly in the x or y direction.  It is meant to duplicate the distribute functionality present in Inkscape / Adobe Illustrator:"
   ]
  },
  {
   "cell_type": "markdown",
   "metadata": {},
   "source": [
    "\n",
    "![](https://i.imgur.com/dC74M8x.png)"
   ]
  },
  {
   "cell_type": "markdown",
   "metadata": {},
   "source": [
    "Say we start out with a few random-sized rectangles we want to space out:"
   ]
  },
  {
   "cell_type": "code",
   "execution_count": null,
   "metadata": {},
   "outputs": [],
   "source": [
    "c = gf.Component(\"rectangles\")\n",
    "# Create different-sized rectangles and add them to D\n",
    "[\n",
    "    c.add_ref(\n",
    "        gf.components.rectangle(size=[n * 15 + 20, n * 15 + 20], layer=(2, 0))\n",
    "    ).move([n, n * 4])\n",
    "    for n in [0, 2, 3, 1, 2]\n",
    "]\n",
    "c"
   ]
  },
  {
   "cell_type": "markdown",
   "metadata": {},
   "source": [
    "Oftentimes, we want to guarantee some distance between the objects.  By setting ``separation = True`` we move each object such that there is ``spacing`` distance between them:"
   ]
  },
  {
   "cell_type": "code",
   "execution_count": null,
   "metadata": {},
   "outputs": [],
   "source": [
    "D = gf.Component(\"rectangles_separated\")\n",
    "# Create different-sized rectangles and add them to D\n",
    "[\n",
    "    D.add_ref(gf.components.rectangle(size=[n * 15 + 20, n * 15 + 20])).move((n, n * 4))\n",
    "    for n in [0, 2, 3, 1, 2]\n",
    "]\n",
    "# Distribute all the rectangles in D along the x-direction with a separation of 5\n",
    "D.distribute(\n",
    "    elements=\"all\",  # either 'all' or a list of objects\n",
    "    direction=\"x\",  # 'x' or 'y'\n",
    "    spacing=5,\n",
    "    separation=True,\n",
    ")\n",
    "D"
   ]
  },
  {
   "cell_type": "markdown",
   "metadata": {},
   "source": [
    "Alternatively, we can spread them out on a fixed grid by setting ``separation = False``. Here we align the left edge (``edge = 'min'``) of each object along a grid spacing of 100:"
   ]
  },
  {
   "cell_type": "code",
   "execution_count": null,
   "metadata": {},
   "outputs": [],
   "source": [
    "D = gf.Component(\"spacing100\")\n",
    "[\n",
    "    D.add_ref(gf.components.rectangle(size=[n * 15 + 20, n * 15 + 20])).move((n, n * 4))\n",
    "    for n in [0, 2, 3, 1, 2]\n",
    "]\n",
    "D.distribute(\n",
    "    elements=\"all\", direction=\"x\", spacing=100, separation=False, edge=\"xmin\"\n",
    ")  # edge must be either 'xmin' (left), 'xmax' (right), or 'x' (center)\n",
    "D"
   ]
  },
  {
   "cell_type": "markdown",
   "metadata": {},
   "source": [
    "The alignment can be done along the right edge as well by setting ``edge = 'max'``, or along the center by setting ``edge = 'center'`` like in the following:"
   ]
  },
  {
   "cell_type": "code",
   "execution_count": null,
   "metadata": {},
   "outputs": [],
   "source": [
    "D = gf.Component(\"alignment\")\n",
    "[\n",
    "    D.add_ref(gf.components.rectangle(size=[n * 15 + 20, n * 15 + 20])).move(\n",
    "        (n - 10, n * 4)\n",
    "    )\n",
    "    for n in [0, 2, 3, 1, 2]\n",
    "]\n",
    "D.distribute(\n",
    "    elements=\"all\", direction=\"x\", spacing=100, separation=False, edge=\"x\"\n",
    ")  # edge must be either 'xmin' (left), 'xmax' (right), or 'x' (center)\n",
    "D"
   ]
  },
  {
   "cell_type": "markdown",
   "metadata": {},
   "source": [
    "## Align\n",
    "\n",
    "\n",
    "The ``align()`` function allows you to elements within a Component horizontally or vertically.  It is meant to duplicate the alignment functionality present in Inkscape / Adobe Illustrator:"
   ]
  },
  {
   "cell_type": "markdown",
   "metadata": {},
   "source": [
    "![](https://i.imgur.com/rqzunXM.png)"
   ]
  },
  {
   "cell_type": "markdown",
   "metadata": {},
   "source": [
    "Say we ``distribute()`` a few objects, but they're all misaligned:"
   ]
  },
  {
   "cell_type": "code",
   "execution_count": null,
   "metadata": {},
   "outputs": [],
   "source": [
    "D = gf.Component(\"distribute\")\n",
    "# Create different-sized rectangles and add them to D then distribute them\n",
    "[\n",
    "    D.add_ref(gf.components.rectangle(size=[n * 15 + 20, n * 15 + 20])).move((n, n * 4))\n",
    "    for n in [0, 2, 3, 1, 2]\n",
    "]\n",
    "D.distribute(elements=\"all\", direction=\"x\", spacing=5, separation=True)\n",
    "D"
   ]
  },
  {
   "cell_type": "markdown",
   "metadata": {},
   "source": [
    "we can use the ``align()`` function to align their top edges (``alignment = 'ymax'):"
   ]
  },
  {
   "cell_type": "code",
   "execution_count": null,
   "metadata": {},
   "outputs": [],
   "source": [
    "D = gf.Component(\"align\")\n",
    "# Create different-sized rectangles and add them to D then distribute them\n",
    "[\n",
    "    D.add_ref(gf.components.rectangle(size=[n * 15 + 20, n * 15 + 20])).move((n, n * 4))\n",
    "    for n in [0, 2, 3, 1, 2]\n",
    "]\n",
    "D.distribute(elements=\"all\", direction=\"x\", spacing=5, separation=True)\n",
    "\n",
    "# Align top edges\n",
    "D.align(elements=\"all\", alignment=\"ymax\")\n",
    "D"
   ]
  },
  {
   "cell_type": "markdown",
   "metadata": {},
   "source": [
    "or align their centers (``alignment = 'y'):"
   ]
  },
  {
   "cell_type": "code",
   "execution_count": null,
   "metadata": {},
   "outputs": [],
   "source": [
    "D = gf.Component(\"distribute_align_y\")\n",
    "# Create different-sized rectangles and add them to D then distribute them\n",
    "[\n",
    "    D.add_ref(gf.components.rectangle(size=[n * 15 + 20, n * 15 + 20])).move((n, n * 4))\n",
    "    for n in [0, 2, 3, 1, 2]\n",
    "]\n",
    "D.distribute(elements=\"all\", direction=\"x\", spacing=5, separation=True)\n",
    "\n",
    "# Align top edges\n",
    "D.align(elements=\"all\", alignment=\"y\")\n",
    "D"
   ]
  },
  {
   "cell_type": "markdown",
   "metadata": {},
   "source": [
    "other valid alignment options include ``'xmin', 'x', 'xmax', 'ymin', 'y', and 'ymax'``"
   ]
  }
 ],
 "metadata": {
  "kernelspec": {
   "display_name": "Python 3 (ipykernel)",
   "language": "python",
   "name": "python3"
  },
  "language_info": {
   "codemirror_mode": {
    "name": "ipython",
    "version": 3
   },
   "file_extension": ".py",
   "mimetype": "text/x-python",
   "name": "python",
   "nbconvert_exporter": "python",
   "pygments_lexer": "ipython3",
   "version": "3.10.6"
  }
 },
 "nbformat": 4,
 "nbformat_minor": 4
}
