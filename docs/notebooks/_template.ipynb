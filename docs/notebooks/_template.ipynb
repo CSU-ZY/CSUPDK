{
 "cells": [
  {
   "cell_type": "code",
   "execution_count": null,
   "metadata": {
    "nbsphinx": "hidden"
   },
   "outputs": [],
   "source": [
    "# This is a hidden cell which will be executed but will not show up in Sphinx docs.\n",
    "# To hide a cell, in Jupyter go to Menu->View->Cell Toolbar->Edit Metadata\n",
    "# and enter in {\"nbsphinx\": \"hidden\"}\n",
    "\n",
    "# Set figure size and font size\n",
    "import matplotlib.pyplot as plt\n",
    "plt.rcParams['figure.figsize'] = [8, 4]\n",
    "plt.rcParams['font.size'] = 12"
   ]
  },
  {
   "cell_type": "markdown",
   "metadata": {},
   "source": [
    "# Title for table-of-contents here"
   ]
  },
  {
   "cell_type": "markdown",
   "metadata": {},
   "source": [
    "Here's text describing the example.  Here's a literal `Device` and other stuff like *italic* and **bold**"
   ]
  },
  {
   "cell_type": "code",
   "execution_count": null,
   "metadata": {},
   "outputs": [],
   "source": []
  },
  {
   "cell_type": "code",
   "execution_count": null,
   "metadata": {},
   "outputs": [],
   "source": [
    "import numpy as np\n",
    "import phidl.geometry as pg\n",
    "from phidl import quickplot as qp\n",
    "from phidl import Device, Group\n",
    "\n",
    "# Create a blank Device\n",
    "D = Device()\n",
    "D << pg.rectangle()\n",
    "\n",
    "# quickplot it!\n",
    "qp(D)\n"
   ]
  }
 ],
 "metadata": {
  "celltoolbar": "Edit Metadata",
  "kernelspec": {
   "display_name": "Python 3",
   "language": "python",
   "name": "python3"
  },
  "language_info": {
   "codemirror_mode": {
    "name": "ipython",
    "version": 3
   },
   "file_extension": ".py",
   "mimetype": "text/x-python",
   "name": "python",
   "nbconvert_exporter": "python",
   "pygments_lexer": "ipython3",
   "version": "3.7.6"
  }
 },
 "nbformat": 4,
 "nbformat_minor": 4
}
