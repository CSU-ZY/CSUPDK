{
 "cells": [
  {
   "cell_type": "markdown",
   "metadata": {},
   "source": [
    "# Non manhattan routing\n",
    "\n",
    "gdsfactory provides functions to connect and route components ports that are off-grid or have non manhattan orientations (0, 90, 180, 270 degrees)\n",
    "\n",
    "## Fix Non manhattan connections"
   ]
  },
  {
   "cell_type": "code",
   "execution_count": null,
   "metadata": {},
   "outputs": [],
   "source": [
    "import gdsfactory as gf\n",
    "from gdsfactory.decorators import has_valid_transformations\n",
    "\n",
    "\n",
    "@gf.cell\n",
    "def demo_non_manhattan():\n",
    "    c = gf.Component(\"bend\")\n",
    "    b = c << gf.components.bend_circular(angle=30)\n",
    "    s = c << gf.components.straight(length=5)\n",
    "    s.connect(\"o1\", b.ports[\"o2\"])\n",
    "    return c\n",
    "\n",
    "\n",
    "c1 = demo_non_manhattan()\n",
    "print(has_valid_transformations(c1))\n",
    "c1"
   ]
  },
  {
   "cell_type": "markdown",
   "metadata": {},
   "source": [
    "if you zoom in between the bends you will see a notch between waveguides due to non-manhattan connection between the bends.\n",
    "\n",
    "![gap](https://i.imgur.com/jBEwy9T.png)\n",
    "\n",
    "You an fix it with the `flatten_invalid_refs` flag when you call `Component.write_gds()`."
   ]
  },
  {
   "cell_type": "code",
   "execution_count": null,
   "metadata": {},
   "outputs": [],
   "source": [
    "help(c1.write_gds)"
   ]
  },
  {
   "cell_type": "code",
   "execution_count": null,
   "metadata": {},
   "outputs": [],
   "source": [
    "gdspath = c1.write_gds(flatten_invalid_refs=True)\n",
    "c2 = gf.import_gds(gdspath)\n",
    "c2"
   ]
  },
  {
   "cell_type": "code",
   "execution_count": null,
   "metadata": {},
   "outputs": [],
   "source": [
    "has_valid_transformations(c1)  # has gap issues"
   ]
  },
  {
   "cell_type": "code",
   "execution_count": null,
   "metadata": {},
   "outputs": [],
   "source": [
    "has_valid_transformations(c2)  # works perfect"
   ]
  },
  {
   "cell_type": "markdown",
   "metadata": {},
   "source": [
    "If you zoom in the connection the decorator you can see it fixed the issue in `c` that we fixed in `c2` thanks to the `flatten_invalid_refs` flag.\n",
    "\n",
    "![no gap](https://i.imgur.com/VbSgIjP.png)"
   ]
  },
  {
   "cell_type": "markdown",
   "metadata": {},
   "source": [
    "## Non manhattan router"
   ]
  },
  {
   "cell_type": "code",
   "execution_count": null,
   "metadata": {},
   "outputs": [],
   "source": [
    "from gdsfactory.cell import cell\n",
    "from gdsfactory.component import Component\n",
    "from gdsfactory.read import from_yaml\n",
    "\n",
    "\n",
    "@cell\n",
    "def demo_all_angle_routing() -> Component:\n",
    "    \"\"\"Demonstrate all-angle routing.\"\"\"\n",
    "    yaml = \"\"\"\n",
    "    instances:\n",
    "        mmi_long:\n",
    "          component: mmi1x2\n",
    "          settings:\n",
    "            width_mmi: 4.5\n",
    "            length_mmi: 10\n",
    "        mmi_short:\n",
    "          component: mmi1x2\n",
    "          settings:\n",
    "            width_mmi: 4.5\n",
    "            length_mmi: 5\n",
    "\n",
    "    placements:\n",
    "        mmi_long:\n",
    "            rotation: 190\n",
    "            x: 100\n",
    "            y: 100\n",
    "\n",
    "    routes:\n",
    "        optical:\n",
    "            routing_strategy: get_bundle_all_angle\n",
    "            settings:\n",
    "                steps:\n",
    "                    - ds: 50\n",
    "                      exit_angle: 90  # TODO: why do paths cross when set to i.e. 100?\n",
    "            links:\n",
    "                mmi_short,o2: mmi_long,o3\n",
    "                mmi_short,o3: mmi_long,o2\n",
    "\n",
    "    ports:\n",
    "        o2: mmi_short,o1\n",
    "        o1: mmi_long,o1\n",
    "    \"\"\"\n",
    "\n",
    "    return from_yaml(yaml)\n",
    "\n",
    "\n",
    "c = demo_all_angle_routing()\n",
    "c"
   ]
  },
  {
   "cell_type": "code",
   "execution_count": null,
   "metadata": {},
   "outputs": [],
   "source": [
    "import gdsfactory as gf\n",
    "\n",
    "c = gf.Component(\"demo\")\n",
    "\n",
    "mmi = gf.components.mmi2x2(width_mmi=10, gap_mmi=3)\n",
    "mmi1 = c << mmi\n",
    "mmi2 = c << mmi\n",
    "\n",
    "mmi2.move((100, 10))\n",
    "mmi2.rotate(30)\n",
    "\n",
    "routes = gf.routing.get_bundle_all_angle(\n",
    "    mmi1.get_ports_list(orientation=0),\n",
    "    [mmi2.ports[\"o2\"], mmi2.ports[\"o1\"]],\n",
    "    connector=None,\n",
    ")\n",
    "for route in routes:\n",
    "    c.add(route.references)\n",
    "c"
   ]
  },
  {
   "cell_type": "code",
   "execution_count": null,
   "metadata": {},
   "outputs": [],
   "source": [
    "c = gf.Component(\"demo\")\n",
    "\n",
    "mmi = gf.components.mmi2x2(width_mmi=10, gap_mmi=3)\n",
    "mmi1 = c << mmi\n",
    "mmi2 = c << mmi\n",
    "\n",
    "mmi2.move((100, 10))\n",
    "mmi2.rotate(30)\n",
    "\n",
    "routes = gf.routing.get_bundle_all_angle(\n",
    "    mmi1.get_ports_list(orientation=0),\n",
    "    [mmi2.ports[\"o2\"], mmi2.ports[\"o1\"]],\n",
    "    connector='low_loss',\n",
    ")\n",
    "for route in routes:\n",
    "    c.add(route.references)\n",
    "c"
   ]
  },
  {
   "cell_type": "code",
   "execution_count": null,
   "metadata": {},
   "outputs": [],
   "source": [
    "import gdsfactory as gf\n",
    "from gdsfactory.routing.all_angle import get_bundle_all_angle\n",
    "\n",
    "NUM_WIRES=10\n",
    "\n",
    "@gf.cell\n",
    "def inner_array():\n",
    "    c = gf.Component()\n",
    "    base = gf.components.straight(cross_section=gf.cross_section.strip).rotate(45)\n",
    "    for x in range(10):\n",
    "        for y in range(6):\n",
    "            base_ref = c.add_ref(base).move((x*20 - 90, y*20 - 50))\n",
    "            c.add_port(f\"inner_{x}_{y}\", port=base_ref.ports['o1'])\n",
    "    return c\n",
    "\n",
    "@gf.cell\n",
    "def outer_array():\n",
    "    c = gf.Component()\n",
    "    base = gf.components.straight(cross_section=gf.cross_section.strip)\n",
    "    for idx, theta in enumerate(range(0, 360, 6)):\n",
    "        base_ref = c.add_ref(base).move((300, 0)).rotate(theta)\n",
    "        c.add_port(f\"outer_{idx}\", port=base_ref.ports['o1'])\n",
    "    return c\n",
    "\n",
    "@gf.cell\n",
    "def chip():\n",
    "    c = gf.Component()\n",
    "    inner = c << inner_array()\n",
    "    outer = c << outer_array()\n",
    "    inner_ports = inner.get_ports_list()\n",
    "    outer_ports = outer.get_ports_list()\n",
    "    for n_route in range(NUM_WIRES):\n",
    "        routes = get_bundle_all_angle(\n",
    "            ports1=[inner_ports[n_route]],\n",
    "            ports2=[outer_ports[n_route]],\n",
    "            cross_section=gf.cross_section.strip,\n",
    "            bend=gf.components.bend_euler,\n",
    "            start_angle=-40,\n",
    "            steps=[{'ds': (NUM_WIRES - n_route) * 20},]\n",
    "        )\n",
    "        for route in routes:\n",
    "            c.add(route.references)\n",
    "    return c\n",
    "\n",
    "gf.get_active_pdk().register_cross_sections(strip=gf.cross_section.strip)\n",
    "c = chip()\n",
    "c"
   ]
  },
  {
   "cell_type": "code",
   "execution_count": null,
   "metadata": {},
   "outputs": [],
   "source": []
  }
 ],
 "metadata": {
  "kernelspec": {
   "display_name": "Python 3 (ipykernel)",
   "language": "python",
   "name": "python3"
  },
  "language_info": {
   "codemirror_mode": {
    "name": "ipython",
    "version": 3
   },
   "file_extension": ".py",
   "mimetype": "text/x-python",
   "name": "python",
   "nbconvert_exporter": "python",
   "pygments_lexer": "ipython3",
   "version": "3.10.6"
  }
 },
 "nbformat": 4,
 "nbformat_minor": 4
}
