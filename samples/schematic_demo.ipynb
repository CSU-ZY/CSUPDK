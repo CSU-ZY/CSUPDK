{
 "cells": [
  {
   "cell_type": "code",
   "execution_count": null,
   "id": "2f440e83-dcf6-465a-8767-285f525f9e5a",
   "metadata": {},
   "outputs": [],
   "source": [
    "%env BOKEH_ALLOW_WS_ORIGIN=localhost:8889\n",
    "\n",
    "from gdsfactory.schematic_editor import SchematicEditor\n",
    "from bokeh.io import output_notebook\n",
    "import os\n",
    "\n",
    "output_notebook()"
   ]
  },
  {
   "cell_type": "code",
   "execution_count": null,
   "id": "09534a50-e2b2-450c-a4ff-082b1e8a8b71",
   "metadata": {},
   "outputs": [],
   "source": [
    "se = SchematicEditor('test.schem.yml')\n",
    "se.widget"
   ]
  },
  {
   "cell_type": "code",
   "execution_count": null,
   "id": "8f537be4-2d5c-4028-8d8a-5ec1d27ca5b4",
   "metadata": {},
   "outputs": [],
   "source": [
    "se.instances"
   ]
  },
  {
   "cell_type": "code",
   "execution_count": null,
   "id": "5ff026fb-516c-4cc7-a121-34d4359618d4",
   "metadata": {},
   "outputs": [],
   "source": [
    "se.instances['e1'].settings"
   ]
  },
  {
   "cell_type": "code",
   "execution_count": null,
   "id": "eaa87873-a515-4c1e-9d75-133a6e00887a",
   "metadata": {},
   "outputs": [],
   "source": [
    "se.update_settings('e1', 'angle', 35)\n",
    "se.update_settings('euler2', 'angle', 50)\n",
    "\n",
    "se.instances['euler2'].settings"
   ]
  },
  {
   "cell_type": "code",
   "execution_count": null,
   "id": "99127df5-383c-43b2-8aa7-77572c9e0690",
   "metadata": {},
   "outputs": [],
   "source": [
    "se.net_widget"
   ]
  },
  {
   "cell_type": "code",
   "execution_count": null,
   "id": "69afc4ac-2c2a-49ee-a859-efe2788b1434",
   "metadata": {},
   "outputs": [],
   "source": [
    "se.write_netlist()"
   ]
  },
  {
   "cell_type": "code",
   "execution_count": null,
   "id": "a34124a7-3f92-422b-8113-597568ca3b8a",
   "metadata": {},
   "outputs": [],
   "source": [
    "se.visualize()"
   ]
  },
  {
   "cell_type": "code",
   "execution_count": null,
   "id": "4c7d533e-a4c6-4dae-9c6a-02c3a370f568",
   "metadata": {},
   "outputs": [],
   "source": []
  }
 ],
 "metadata": {
  "kernelspec": {
   "display_name": "rpdk",
   "language": "python",
   "name": "rpdk"
  },
  "language_info": {
   "codemirror_mode": {
    "name": "ipython",
    "version": 3
   },
   "file_extension": ".py",
   "mimetype": "text/x-python",
   "name": "python",
   "nbconvert_exporter": "python",
   "pygments_lexer": "ipython3",
   "version": "3.10.0"
  }
 },
 "nbformat": 4,
 "nbformat_minor": 5
}
