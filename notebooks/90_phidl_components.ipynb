{
 "cells": [
  {
   "cell_type": "markdown",
   "metadata": {},
   "source": [
    "# Phidl components\n",
    "\n",
    "Gdsfactory extends phidl. Therefore all phidl components can be easily used in gdsfactory."
   ]
  },
  {
   "cell_type": "code",
   "execution_count": null,
   "metadata": {},
   "outputs": [],
   "source": [
    "import pp\n",
    "from pp.import_phidl_component import import_phidl_component\n",
    "import phidl.geometry as pg"
   ]
  },
  {
   "cell_type": "code",
   "execution_count": null,
   "metadata": {},
   "outputs": [],
   "source": [
    "components = [\n",
    "    pg.tee(size=(4, 2), stub_size=(2, 1), taper_type=None, layer=0),\n",
    "    pg.optimal_hairpin(\n",
    "        width=0.2, pitch=0.6, length=10, turn_ratio=4, num_pts=50, layer=0\n",
    "    ),\n",
    "    pg.optimal_step(\n",
    "        start_width=10,\n",
    "        end_width=22,\n",
    "        num_pts=50,\n",
    "        width_tol=1e-3,\n",
    "        anticrowding_factor=1.2,\n",
    "        symmetric=False,\n",
    "        layer=0,\n",
    "    ),\n",
    "    pg.optimal_90deg(width=100.0, num_pts=15, length_adjust=1, layer=0),\n",
    "    pg.ytron_round(\n",
    "        rho=1,\n",
    "        arm_lengths=(500, 300),\n",
    "        source_length=500,\n",
    "        arm_widths=(200, 200),\n",
    "        theta=2.5,\n",
    "        theta_resolution=10,\n",
    "        layer=0,\n",
    "    ),\n",
    "]\n",
    "\n",
    "for c in components:\n",
    "    pp.qp(c)\n",
    "    c2 = import_phidl_component(component=c)\n",
    "    pp.show(c2)"
   ]
  },
  {
   "cell_type": "markdown",
   "metadata": {},
   "source": [
    "You can see all the components available in `gdsfactory` by typing `help(pp.c)`"
   ]
  },
  {
   "cell_type": "code",
   "execution_count": null,
   "metadata": {},
   "outputs": [],
   "source": [
    "D = pp.Component()\n",
    "\n",
    "t1 = D << pg.text('1')\n",
    "t2 = D << pg.text('2')\n",
    "t3 = D << pg.text('3')\n",
    "t4 = D << pg.text('4')\n",
    "t5 = D << pg.text('5')\n",
    "t6 = D << pg.text('6')\n",
    "\n",
    "g = pp.Group([t1, t2, t3, t4, t5, t6])"
   ]
  },
  {
   "cell_type": "code",
   "execution_count": null,
   "metadata": {},
   "outputs": [],
   "source": [
    "g.distribute(direction='x', spacing=10)"
   ]
  },
  {
   "cell_type": "code",
   "execution_count": null,
   "metadata": {},
   "outputs": [],
   "source": [
    "D"
   ]
  },
  {
   "cell_type": "code",
   "execution_count": null,
   "metadata": {},
   "outputs": [],
   "source": []
  }
 ],
 "metadata": {
  "kernelspec": {
   "display_name": "Python 3",
   "language": "python",
   "name": "python3"
  },
  "language_info": {
   "codemirror_mode": {
    "name": "ipython",
    "version": 3
   },
   "file_extension": ".py",
   "mimetype": "text/x-python",
   "name": "python",
   "nbconvert_exporter": "python",
   "pygments_lexer": "ipython3",
   "version": "3.8.3"
  }
 },
 "nbformat": 4,
 "nbformat_minor": 4
}
