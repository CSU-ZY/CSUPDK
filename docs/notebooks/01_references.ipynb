{
 "cells": [
  {
   "cell_type": "markdown",
   "metadata": {},
   "source": [
    "# References\n",
    "\n",
    "GDS allows defining the component once in memory and reference to that structure in other components.\n",
    "\n",
    "![](https://i.imgur.com/D4qaJpi.png)"
   ]
  },
  {
   "cell_type": "markdown",
   "metadata": {},
   "source": [
    "As you build complex circuit you will make circuits that combine reference to other simpler circuits. Adding a reference is like having a pointer to the other devices.\n",
    "\n",
    "The GDSII specification allows the use of references, and similarly gdsfactory uses them (with the `add_ref()` function).  So what is a reference? Simply put:  **A reference does not contain any geometry. It only *points* to an existing geometry**.  \n",
    "\n",
    "Say Alice has a ridiculously large polygon with 100 billion vertices in it that we'll call BigPolygon. It's huge, and she needs to use it in her design 250 times.  Well, a single copy of BigPolygon takes up 100GB of memory just by itself, so she doesn't want to make 250 copies of it. Since Alice is clever, she instead *references* the polygon 250 times.  Each reference only uses a few bytes of memory -- it only needs to know the memory address of BigPolygon and a few other things. In this way, she can keep one copy of BigPolygon and use it again and again wherever she needs to.\n",
    "\n",
    "\n",
    "Let's start by making a blank geometry (`Component`) then adding a single polygon\n",
    "to it. "
   ]
  },
  {
   "cell_type": "code",
   "execution_count": null,
   "metadata": {},
   "outputs": [],
   "source": [
    "import numpy as np\n",
    "import gdsfactory as gf\n",
    "\n",
    "gf.config.set_plot_options(show_subports=False)\n",
    "\n",
    "\n",
    "# Create a blank Component\n",
    "p = gf.Component()\n",
    "\n",
    "# Add a polygon\n",
    "xpts = [0,0,5,6,9,12]\n",
    "ypts = [0,1,1,2,2,0]\n",
    "p.add_polygon([xpts,ypts])\n",
    "\n",
    "# Quickplot the Component with the polygon in it\n",
    "p"
   ]
  },
  {
   "cell_type": "markdown",
   "metadata": {},
   "source": [
    "Now, pretend we're in the same position as Alice: We want to reuse this polygon\n",
    "repeatedly but do not want to make multiple copies of it.  To do so, we need to\n",
    "make a second blank `Component`, this time called `D`.  In this new Component we'll\n",
    "*reference* our Component `P` which contains our polygon."
   ]
  },
  {
   "cell_type": "code",
   "execution_count": null,
   "metadata": {},
   "outputs": [],
   "source": [
    "c = gf.Component()             # Create a new blank Component\n",
    "poly_ref = c.add_ref(p)  # Reference the Component \"p\" that has the polygon in it\n",
    "c # Quickplot the reference-containing Component \"c\""
   ]
  },
  {
   "cell_type": "markdown",
   "metadata": {},
   "source": [
    "OK, well that seemed to work, but it also seems thoroughly useless!  It looks\n",
    "like you just made a copy of your polygon -- but remember, you didn't actually\n",
    "make a second polygon, you just made a reference (aka pointer) to the original\n",
    "polygon.  Let's add two more references to `c`:"
   ]
  },
  {
   "cell_type": "code",
   "execution_count": null,
   "metadata": {},
   "outputs": [],
   "source": [
    "poly_ref2 = c.add_ref(p)  # Reference the Component \"p\" that has the polygon in it\n",
    "poly_ref3 = c.add_ref(p)  # Reference the Component \"p\" that has the polygon in it\n",
    "\n",
    "c # Quickplot the reference-containing Component \"c\""
   ]
  },
  {
   "cell_type": "markdown",
   "metadata": {},
   "source": [
    "Now you have 3x polygons all on top of each other.  Again, this would appear\n",
    "useless, except that you can manipulate each reference indepedently. Notice that\n",
    "when you called `c.add_ref(p)` above, we saved the result to a new variable each\n",
    "time (`poly_ref`, `poly_ref2`, and `poly_ref3`)?  You can use those variables to\n",
    "reposition the references. "
   ]
  },
  {
   "cell_type": "code",
   "execution_count": null,
   "metadata": {},
   "outputs": [],
   "source": [
    "poly_ref2.rotate(15) # Rotate the 2nd reference we made 15 degrees\n",
    "poly_ref3.rotate(30) # Rotate the 3rd reference we made 30 degrees\n",
    "c"
   ]
  },
  {
   "cell_type": "markdown",
   "metadata": {},
   "source": [
    "Now you're getting somewhere!  You've only had to make the polygon once, but you're\n",
    "able to reuse it as many times as you want.\n",
    "\n",
    "## Modifying the referenced geometry\n",
    "\n",
    "What happens when you change the original geometry that the reference points to?  In your case, your references in\n",
    "`c` all point to the Component `p` that with the original polygon.  Let's try\n",
    "adding a second polygon to `p`.\n",
    "\n",
    "First you add the second polygon and make sure `P` looks like you expect:"
   ]
  },
  {
   "cell_type": "code",
   "execution_count": null,
   "metadata": {},
   "outputs": [],
   "source": [
    "# Add a 2nd polygon to \"p\"\n",
    "xpts = [14,14,16,16]\n",
    "ypts = [0,2,2,0]\n",
    "p.add_polygon([xpts,ypts], layer = (1,0))\n",
    "p"
   ]
  },
  {
   "cell_type": "markdown",
   "metadata": {},
   "source": [
    "That looks good.  Now let's find out what happened to `c` that contains the\n",
    "three references.  Keep in mind that you have not modified `c` or executed any\n",
    "functions/operations on `c` -- all you have done is modify `p`."
   ]
  },
  {
   "cell_type": "code",
   "execution_count": null,
   "metadata": {},
   "outputs": [],
   "source": [
    "c"
   ]
  },
  {
   "cell_type": "markdown",
   "metadata": {},
   "source": [
    " **When you modify the original geometry, all of the\n",
    "references automatically reflect the modifications.**  This is very powerful,\n",
    "because you can use this to make very complicated designs from relatively simple\n",
    "elements in a computation- and memory-efficienct way.\n",
    "\n",
    "Let's try making references a level deeper by referencing `c`.  Note here we use\n",
    "the `<<` operator to add the references -- this is just shorthand, and is\n",
    "exactly equivalent to using `add_ref()`"
   ]
  },
  {
   "cell_type": "code",
   "execution_count": null,
   "metadata": {},
   "outputs": [],
   "source": [
    "c2 = gf.Component()             # Create a new blank Component\n",
    "d_ref1 = c2.add_ref(c)  # Reference the Component \"c\" that 3 references in it\n",
    "d_ref2 = c2 << c        # Use the \"<<\" operator to create a 2nd reference to c\n",
    "d_ref3 = c2 << c        # Use the \"<<\" operator to create a 3rd reference to c\n",
    "\n",
    "d_ref1.move([20,0])\n",
    "d_ref2.move([40,0])\n",
    "\n",
    "c2"
   ]
  },
  {
   "cell_type": "markdown",
   "metadata": {},
   "source": [
    "As you've seen you have two ways to add a reference to our component:\n",
    "\n",
    "1. create the reference and add it to the component"
   ]
  },
  {
   "cell_type": "code",
   "execution_count": null,
   "metadata": {},
   "outputs": [],
   "source": [
    "c = gf.Component('reference_sample')\n",
    "w = gf.components.straight(width=0.6)\n",
    "wr = w.ref()\n",
    "c.add(wr)\n",
    "c"
   ]
  },
  {
   "cell_type": "markdown",
   "metadata": {},
   "source": [
    "2. or do it in a single line"
   ]
  },
  {
   "cell_type": "code",
   "execution_count": null,
   "metadata": {},
   "outputs": [],
   "source": [
    "c = gf.Component('reference_sample_shorter_syntax')\n",
    "wr = c << gf.components.straight(width=0.6)\n",
    "c"
   ]
  },
  {
   "cell_type": "markdown",
   "metadata": {},
   "source": [
    "in both cases you can move the reference `wr` after created"
   ]
  },
  {
   "cell_type": "code",
   "execution_count": null,
   "metadata": {},
   "outputs": [],
   "source": [
    "import gdsfactory as gf\n",
    "c = gf.Component('two_references')\n",
    "wr1 = c << gf.components.straight(width=0.6)\n",
    "wr2 = c << gf.components.straight(width=0.6)\n",
    "wr2.movey(10)\n",
    "c.add_ports(wr1.get_ports_list(), prefix='top_')\n",
    "c.add_ports(wr2.get_ports_list(), prefix='bot_')\n",
    "c"
   ]
  },
  {
   "cell_type": "code",
   "execution_count": null,
   "metadata": {},
   "outputs": [],
   "source": [
    "c.ports"
   ]
  },
  {
   "cell_type": "markdown",
   "metadata": {},
   "source": [
    "You can also auto_rename ports using gdsfactory default convention, where ports are numbered clockwise starting from the bottom left"
   ]
  },
  {
   "cell_type": "code",
   "execution_count": null,
   "metadata": {},
   "outputs": [],
   "source": [
    "c.auto_rename_ports()"
   ]
  },
  {
   "cell_type": "code",
   "execution_count": null,
   "metadata": {},
   "outputs": [],
   "source": [
    "c.ports"
   ]
  },
  {
   "cell_type": "code",
   "execution_count": null,
   "metadata": {},
   "outputs": [],
   "source": [
    "c"
   ]
  },
  {
   "cell_type": "markdown",
   "metadata": {},
   "source": [
    "## Arrays of references\n",
    "\n",
    "In GDS, there's a type of structure called a \"CellArray\" which takes a cell and repeats it NxM times on a fixed grid spacing. For convenience, `Component` includes this functionality with the add_array() function. \n",
    "Note that CellArrays are not compatible with ports (since there is no way to access/modify individual elements in a GDS cellarray) \n",
    "\n",
    "gdsfactory also provides with more flexible arrangement options if desired, see for example `grid()` and `packer()`.\n",
    "\n",
    "As well as `gf.components.array` and `gf.components.array_2d`\n",
    "\n",
    "Let's make a new Component and put a big array of our Component `c` in it:"
   ]
  },
  {
   "cell_type": "code",
   "execution_count": null,
   "metadata": {},
   "outputs": [],
   "source": [
    "c3 = gf.Component() # Create a new blank Component\n",
    "aref = c3.add_array(c, columns = 6, rows = 3, spacing = [20, 15])  # Reference the Component \"c\" 3 references in it with a 3 rows, 6 columns array\n",
    "c3"
   ]
  },
  {
   "cell_type": "markdown",
   "metadata": {},
   "source": [
    "CellArrays don't have ports and there is no way to access/modify individual elements in a GDS cellarray.\n",
    "\n",
    "gdsfactory provides you with similar functions in `gf.components.array` and `gf.components.array_2d`"
   ]
  },
  {
   "cell_type": "code",
   "execution_count": null,
   "metadata": {
    "tags": []
   },
   "outputs": [],
   "source": [
    "c4 = gf.Component() # Create a new blank Component\n",
    "aref = c4<< gf.c.array(component=c, n=3)\n",
    "c4.add_ports(aref.get_ports_list())\n",
    "c4"
   ]
  },
  {
   "cell_type": "code",
   "execution_count": null,
   "metadata": {},
   "outputs": [],
   "source": [
    "gf.c.array?"
   ]
  },
  {
   "cell_type": "code",
   "execution_count": null,
   "metadata": {},
   "outputs": [],
   "source": [
    "gf.c.array_2d?"
   ]
  },
  {
   "cell_type": "code",
   "execution_count": null,
   "metadata": {},
   "outputs": [],
   "source": [
    "c5 = gf.Component() \n",
    "aref = c5<< gf.c.array_2d(component=c, cols=6, rows=3, pitch_x=20, pitch_y=15)\n",
    "c5.add_ports(aref.get_ports_list())\n",
    "c5"
   ]
  },
  {
   "cell_type": "markdown",
   "metadata": {},
   "source": [
    "You can also create an array of references for periodic structures. Lets create a [Distributed Bragg Reflector](https://picwriter.readthedocs.io/en/latest/components/dbr.html)\n"
   ]
  },
  {
   "cell_type": "code",
   "execution_count": null,
   "metadata": {},
   "outputs": [],
   "source": [
    "@gf.cell\n",
    "def dbr_cell(w1=0.5, w2=0.6, l1=0.2, l2=0.4, straight_function=gf.components.straight):\n",
    "    c = gf.Component()\n",
    "    c1 = c << straight_function(length=l1, width=w1)\n",
    "    c2 = c << straight_function(length=l2, width=w2)\n",
    "    c2.connect(port=1, destination=c1.ports[2])\n",
    "    c.add_port(1, port=c1.ports[1])\n",
    "    c.add_port(2, port=c2.ports[2])\n",
    "    return c\n",
    "\n",
    "\n",
    "w1 = 0.5\n",
    "w2 = 0.6\n",
    "l1 = 0.2\n",
    "l2 = 0.4\n",
    "n = 3\n",
    "straight_function = gf.components.straight\n",
    "c = gf.Component('reference_array')\n",
    "cell = dbr_cell(w1=w1, w2=w2, l1=l1, l2=l2, straight_function=straight_function)\n",
    "cell"
   ]
  },
  {
   "cell_type": "code",
   "execution_count": null,
   "metadata": {},
   "outputs": [],
   "source": [
    "c = gf.Component('DBR')\n",
    "c.add_array(cell, columns=n, rows=1, spacing=(l1 + l2, 100))\n",
    "c"
   ]
  },
  {
   "cell_type": "markdown",
   "metadata": {},
   "source": [
    "Finally we need to add ports to the new component"
   ]
  },
  {
   "cell_type": "code",
   "execution_count": null,
   "metadata": {},
   "outputs": [],
   "source": [
    "p0 = c.add_port(1, port=cell.ports[1])\n",
    "p1 = c.add_port(2, port=cell.ports[2])\n",
    "p1.midpoint = [(l1 + l2) * n, 0]\n",
    "c"
   ]
  },
  {
   "cell_type": "markdown",
   "metadata": {},
   "source": [
    "## Connect references\n",
    "\n",
    "We have seen that once you create a reference you can manipulate the reference to move it to a location. Here we are going to connect that reference to a port. Remeber that we follow that a certain reference `source` connects to a `destination` port"
   ]
  },
  {
   "cell_type": "code",
   "execution_count": null,
   "metadata": {},
   "outputs": [],
   "source": [
    "gf.components.bend_circular()"
   ]
  },
  {
   "cell_type": "code",
   "execution_count": null,
   "metadata": {},
   "outputs": [],
   "source": [
    "c = gf.Component(\"sample_reference_connect\")\n",
    "\n",
    "mmi = c << gf.components.mmi1x2()\n",
    "b = c << gf.components.bend_circular()\n",
    "\n",
    "b.connect(1, destination=mmi.ports[2])\n",
    "c"
   ]
  },
  {
   "cell_type": "markdown",
   "metadata": {},
   "source": [
    "## Port naming\n",
    "\n",
    "You have the freedom to name the ports as you want, and you can use `gf.port.auto_rename_ports` to rename them later on.\n",
    "\n",
    "Here is the default naming convention.\n",
    "\n",
    "\n",
    "Ports are numbered clock-wise starting from the bottom left corner\n"
   ]
  },
  {
   "cell_type": "code",
   "execution_count": null,
   "metadata": {},
   "outputs": [],
   "source": [
    "import gdsfactory as gf\n",
    "\n",
    "size = 4\n",
    "c = gf.components.nxn(west=2, south=2, north=2, east=2, xsize=size, ysize=size)\n",
    "c"
   ]
  },
  {
   "cell_type": "code",
   "execution_count": null,
   "metadata": {},
   "outputs": [],
   "source": [
    "c = gf.c.straight_heater_metal()\n",
    "c"
   ]
  },
  {
   "cell_type": "code",
   "execution_count": null,
   "metadata": {},
   "outputs": [],
   "source": [
    "c.ports"
   ]
  },
  {
   "cell_type": "markdown",
   "metadata": {},
   "source": [
    "You can get the optical ports by `layer`"
   ]
  },
  {
   "cell_type": "code",
   "execution_count": null,
   "metadata": {},
   "outputs": [],
   "source": [
    "c.get_ports_dict(layer=(1,0))"
   ]
  },
  {
   "cell_type": "markdown",
   "metadata": {},
   "source": [
    "or by `width`"
   ]
  },
  {
   "cell_type": "code",
   "execution_count": null,
   "metadata": {},
   "outputs": [],
   "source": [
    "c.get_ports_dict(width=0.5)"
   ]
  },
  {
   "cell_type": "markdown",
   "metadata": {},
   "source": [
    "**Enforcing naming convention**. As you add references to the component you don't have to name the exposed ports correctly,\n",
    "As long as you name the ports uniquely you can just call `auto_rename_ports()` \n",
    "\n",
    "The default conventions are:\n",
    "\n",
    "\n",
    "- auto_rename_ports: both electrical and optical ports are named clockwise\n",
    "- auto_rename_ports_layer_orientation: adds prefix layer, as well as direction `N` for north, `S` for south ...\n"
   ]
  },
  {
   "cell_type": "code",
   "execution_count": null,
   "metadata": {},
   "outputs": [],
   "source": [
    "c = gf.c.straight_heater_metal()\n",
    "c.auto_rename_ports_layer_orientation()\n",
    "c.ports"
   ]
  },
  {
   "cell_type": "code",
   "execution_count": null,
   "metadata": {},
   "outputs": [],
   "source": [
    "c.auto_rename_ports()\n",
    "c.ports"
   ]
  },
  {
   "cell_type": "markdown",
   "metadata": {},
   "source": [
    "You can even rename them with a different port naming convention\n",
    "\n",
    "- prefix: add `e` for electrical `o` for optical\n",
    "- clockwise\n",
    "- counter-clockwise\n",
    "- orientation `E` East, `W` West, `N` North, `S` South"
   ]
  },
  {
   "cell_type": "code",
   "execution_count": null,
   "metadata": {},
   "outputs": [],
   "source": [
    "import gdsfactory as gf\n",
    "\n",
    "c = gf.Component()\n",
    "nxn =  gf.c.nxn(west=1, north=2, east=3, south=4)\n",
    "ref = c << nxn\n",
    "c"
   ]
  },
  {
   "cell_type": "code",
   "execution_count": null,
   "metadata": {},
   "outputs": [],
   "source": [
    "ref.ports_layer"
   ]
  },
  {
   "cell_type": "code",
   "execution_count": null,
   "metadata": {},
   "outputs": [],
   "source": [
    "c = gf.Component()\n",
    "nxn = gf.c.nxn(west=1, north=2, east=3, south=4)\n",
    "ref = c.add_ref(nxn)\n",
    "ref.rotate(-90)\n",
    "c"
   ]
  },
  {
   "cell_type": "code",
   "execution_count": null,
   "metadata": {},
   "outputs": [],
   "source": [
    "ref.ports_layer"
   ]
  },
  {
   "cell_type": "markdown",
   "metadata": {},
   "source": [
    "You can still reference the port by their orientation. \n",
    "\n",
    "For example, lets extend the top East facing port"
   ]
  },
  {
   "cell_type": "code",
   "execution_count": null,
   "metadata": {},
   "outputs": [],
   "source": [
    "import gdsfactory as gf\n",
    "\n",
    "nxn = gf.c.nxn(west=1, north=2, east=3, south=4)\n",
    "c = gf.c.extension.extend_ports(component=nxn, port_names = [nxn.ports_layer['1_0_W0']])\n",
    "c"
   ]
  },
  {
   "cell_type": "markdown",
   "metadata": {},
   "source": [
    "## component_sequence\n",
    "\n",
    "When you have repetitive connections you can describe the connectivity as an ASCII map"
   ]
  },
  {
   "cell_type": "code",
   "execution_count": null,
   "metadata": {},
   "outputs": [],
   "source": [
    "import gdsfactory as gf"
   ]
  },
  {
   "cell_type": "code",
   "execution_count": null,
   "metadata": {},
   "outputs": [],
   "source": [
    "bend180 = gf.components.bend_circular180()\n",
    "wg_pin = gf.components.straight_pin()\n",
    "wg = gf.components.straight()\n",
    "\n",
    "# Define a map between symbols and (component, input port, output port)\n",
    "symbol_to_component = {\n",
    "    \"D\": (bend180, 1, 2),\n",
    "    \"C\": (bend180, 2, 1),\n",
    "    \"P\": (wg_pin, 1, 2),\n",
    "    \"-\": (wg, 1, 2),\n",
    "}\n",
    "\n",
    "# Generate a sequence\n",
    "# This is simply a chain of characters. Each of them represents a component\n",
    "# with a given input and and a given output\n",
    "\n",
    "sequence = \"DC-P-P-P-P-CD\"\n",
    "component = gf.components.component_sequence(sequence=sequence, symbol_to_component=symbol_to_component)\n",
    "component.name = 'component_sequence'\n",
    "component"
   ]
  },
  {
   "cell_type": "markdown",
   "metadata": {},
   "source": [
    "As the sequence is defined as a string you can use the string operations to build complicated sequences"
   ]
  },
  {
   "cell_type": "code",
   "execution_count": null,
   "metadata": {},
   "outputs": [],
   "source": []
  }
 ],
 "metadata": {
  "kernelspec": {
   "display_name": "Python 3 (ipykernel)",
   "language": "python",
   "name": "python3"
  },
  "language_info": {
   "codemirror_mode": {
    "name": "ipython",
    "version": 3
   },
   "file_extension": ".py",
   "mimetype": "text/x-python",
   "name": "python",
   "nbconvert_exporter": "python",
   "pygments_lexer": "ipython3",
   "version": "3.9.5"
  }
 },
 "nbformat": 4,
 "nbformat_minor": 4
}
