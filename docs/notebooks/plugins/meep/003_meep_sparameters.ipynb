{
 "cells": [
  {
   "cell_type": "markdown",
   "metadata": {},
   "source": [
    "# FDTD Sparameters in Meep\n",
    "\n",
    "Here are some examples on how to extract Sparameters in Meep.\n",
    "\n",
    "For extracting Sparameters, `gmeep` automatically moves the source between ports.\n",
    "\n",
    "- add monitors\n",
    "- run simulation\n",
    "- pull coefficients, and create proper ratios to get Sparameters. Monitors are recording Fourier Transform fields. Sparameter is a relationship of those parameters. Frequency domain approach at many different frequencies. Get eigenmode coefficients.\n",
    "    - forward coefficient: how much waveguide forward mode\n",
    "    - backward coefficient: how much waveguide forward mode"
   ]
  },
  {
   "cell_type": "code",
   "execution_count": null,
   "metadata": {},
   "outputs": [],
   "source": [
    "import matplotlib.pyplot as plt\n",
    "import numpy as np\n",
    "import gdsfactory as gf\n",
    "import gdsfactory.simulation.gmeep as gm\n",
    "\n",
    "gf.config.set_plot_options(show_subports=False, show_ports=False)"
   ]
  },
  {
   "cell_type": "code",
   "execution_count": null,
   "metadata": {},
   "outputs": [],
   "source": [
    "c = gf.components.straight(length=2)\n",
    "p = 2\n",
    "c = gf.add_padding_container(c, default=0, top=p, bottom=p)\n",
    "c"
   ]
  },
  {
   "cell_type": "code",
   "execution_count": null,
   "metadata": {},
   "outputs": [],
   "source": [
    "gm.get_sparametersNxN(c, run=False)"
   ]
  },
  {
   "cell_type": "code",
   "execution_count": null,
   "metadata": {},
   "outputs": [],
   "source": [
    "df = gm.get_sparametersNxN(c)\n",
    "gf.simulation.plot.plot_sparameters(df)"
   ]
  },
  {
   "cell_type": "code",
   "execution_count": null,
   "metadata": {},
   "outputs": [],
   "source": [
    "gf.simulation.plot.plot_sparameters(df, keys=('s21m',))"
   ]
  },
  {
   "cell_type": "markdown",
   "metadata": {},
   "source": [
    "It's a bit strange that we get some gain in a passive waveguide. S21 should be around 0dB (100% transmission)\n",
    "\n",
    "Lets increase the resolution."
   ]
  },
  {
   "cell_type": "code",
   "execution_count": null,
   "metadata": {},
   "outputs": [],
   "source": [
    "df = gm.get_sparametersNxN(c, resolution=60)"
   ]
  },
  {
   "cell_type": "code",
   "execution_count": null,
   "metadata": {},
   "outputs": [],
   "source": [
    "gf.simulation.plot.plot_sparameters(df, keys=('s21m',))"
   ]
  },
  {
   "cell_type": "code",
   "execution_count": null,
   "metadata": {},
   "outputs": [],
   "source": [
    "c = gf.components.straight(length=2)\n",
    "p = 2\n",
    "c = gf.add_padding_container(c, default=0, top=p, bottom=p)\n",
    "df = gm.get_sparametersNxN(c, resolution=80)\n",
    "gf.simulation.plot.plot_sparameters(df, keys=('s21m',))"
   ]
  },
  {
   "cell_type": "code",
   "execution_count": null,
   "metadata": {},
   "outputs": [],
   "source": [
    "component_name = 'mmi1x2'\n",
    "c = gf.components.factory[component_name]()\n",
    "p = 3\n",
    "cm = gf.add_padding_container(c, default=0, top=p, bottom=p)\n",
    "cm"
   ]
  },
  {
   "cell_type": "code",
   "execution_count": null,
   "metadata": {},
   "outputs": [],
   "source": [
    "df = gm.get_sparametersNxN(c, resolution=60)\n",
    "gf.simulation.plot.plot_sparameters(df)"
   ]
  },
  {
   "cell_type": "code",
   "execution_count": null,
   "metadata": {},
   "outputs": [],
   "source": [
    "gf.simulation.plot.plot_sparameters(df, keys=['s12m'])"
   ]
  },
  {
   "cell_type": "code",
   "execution_count": null,
   "metadata": {},
   "outputs": [],
   "source": [
    "gf.simulation.plot.plot_sparameters(df, keys=['s13m'])"
   ]
  },
  {
   "cell_type": "code",
   "execution_count": null,
   "metadata": {},
   "outputs": [],
   "source": [
    "import matplotlib.pyplot as plt\n",
    "import numpy as np\n",
    "import gdsfactory as gf\n",
    "import gdsfactory.simulation.gmeep as gm\n",
    "\n",
    "component_name = 'coupler_ring'\n",
    "c = gf.components.factory[component_name]()\n",
    "p = 3\n",
    "c = gf.add_padding_container(c, default=0, left=p, right=p, bottom=p)\n",
    "df = gm.get_sparametersNxN(c, run=False)"
   ]
  },
  {
   "cell_type": "code",
   "execution_count": null,
   "metadata": {},
   "outputs": [],
   "source": [
    "df = gm.get_sparametersNxN(c)\n",
    "gf.simulation.plot.plot_sparameters(df)"
   ]
  },
  {
   "cell_type": "code",
   "execution_count": null,
   "metadata": {},
   "outputs": [],
   "source": []
  }
 ],
 "metadata": {
  "kernelspec": {
   "display_name": "Python 3 (ipykernel)",
   "language": "python",
   "name": "python3"
  },
  "language_info": {
   "codemirror_mode": {
    "name": "ipython",
    "version": 3
   },
   "file_extension": ".py",
   "mimetype": "text/x-python",
   "name": "python",
   "nbconvert_exporter": "python",
   "pygments_lexer": "ipython3",
   "version": "3.9.5"
  }
 },
 "nbformat": 4,
 "nbformat_minor": 4
}
