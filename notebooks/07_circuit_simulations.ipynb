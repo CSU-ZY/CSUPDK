{
 "cells": [
  {
   "cell_type": "markdown",
   "metadata": {},
   "source": [
    "# Circuit simulations\n",
    "\n",
    "Every gdsfactory component can access its netlist `get_netlist()` and Sparameters.\n",
    "\n",
    "You can use a circuit simulation tool such as [Simphony](https://github.com/BYUCamachoLab/simphony)\n",
    "\n",
    "You can install simphony with `pip install simphony` and interface with the circuit models and Sparameters stored in [gdslib](https://github.com/gdsfactory/gdslib).\n",
    "\n",
    "`pip install gdslib`"
   ]
  },
  {
   "cell_type": "code",
   "execution_count": null,
   "metadata": {
    "attributes": {
     "classes": [],
     "id": "",
     "n": "1"
    }
   },
   "outputs": [],
   "source": [
    "import pp\n",
    "\n",
    "c = pp.c.mzi()\n",
    "pp.qp(c)\n",
    "\n",
    "n = c.get_netlist()"
   ]
  },
  {
   "cell_type": "markdown",
   "metadata": {},
   "source": [
    "`gdslib` has also an MZI model. However we can make sure we get the exact cells from the component"
   ]
  },
  {
   "cell_type": "code",
   "execution_count": null,
   "metadata": {},
   "outputs": [],
   "source": [
    "import gdslib as gl\n",
    "\n",
    "m = gl.mzi()\n",
    "gl.sweep_simulation(m)"
   ]
  },
  {
   "cell_type": "code",
   "execution_count": null,
   "metadata": {},
   "outputs": [],
   "source": [
    "from simphony.netlist import Subcircuit\n",
    "from gdslib import sweep_simulation\n",
    "\n",
    "component = pp.c.mzi()\n",
    "circuit = Subcircuit(component.name)\n",
    "n = component.get_netlist()"
   ]
  },
  {
   "cell_type": "code",
   "execution_count": null,
   "metadata": {},
   "outputs": [],
   "source": [
    "model_name_tuple = []\n",
    "\n",
    "for i in n.instances.keys():\n",
    "    component_type = n.instances[i]['component']\n",
    "    component_settings = n.instances[i]['settings']\n",
    "    c = pp.c.component_type2factory[component_type]()\n",
    "    # c = pp.c.component_type2factory[component_type](**component_settings)  # needs fix\n",
    "    model = gl.load(c)\n",
    "    model_name_tuple.append((model, i))\n",
    "    \n",
    "e = circuit.add(model_name_tuple)"
   ]
  },
  {
   "cell_type": "code",
   "execution_count": null,
   "metadata": {},
   "outputs": [],
   "source": [
    "for k, v in n.connections.items():\n",
    "    c1, p1 = k.split(',')\n",
    "    c2, p2 = v.split(',')\n",
    "    circuit.connect(c1, p1, c2, p2)"
   ]
  },
  {
   "cell_type": "code",
   "execution_count": null,
   "metadata": {},
   "outputs": [],
   "source": [
    "circuit.elements[\"mmi1x2_12_0\"].pins[\"W0\"] = \"input\"\n",
    "circuit.elements[\"mmi1x2_88_0\"].pins[\"W0\"] = \"output\"\n",
    "\n",
    "sweep_simulation(circuit)"
   ]
  },
  {
   "cell_type": "code",
   "execution_count": null,
   "metadata": {},
   "outputs": [],
   "source": [
    "n.instances[i]['settings']"
   ]
  },
  {
   "cell_type": "code",
   "execution_count": null,
   "metadata": {},
   "outputs": [],
   "source": []
  }
 ],
 "metadata": {
  "kernelspec": {
   "display_name": "Python 3",
   "language": "python",
   "name": "python3"
  },
  "language_info": {
   "codemirror_mode": {
    "name": "ipython",
    "version": 3
   },
   "file_extension": ".py",
   "mimetype": "text/x-python",
   "name": "python",
   "nbconvert_exporter": "python",
   "pygments_lexer": "ipython3",
   "version": "3.7.7"
  }
 },
 "nbformat": 4,
 "nbformat_minor": 4
}
