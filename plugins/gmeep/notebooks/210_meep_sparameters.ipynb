{
 "cells": [
  {
   "cell_type": "markdown",
   "metadata": {},
   "source": [
    "# Sparameters\n",
    "\n",
    "interface using GDS\n",
    "\n",
    "- add monitors\n",
    "- run simulation\n",
    "- pull coefficients, and create proper ratios to get Sparameters. Monitors are recording Fourier Transform fields. Sparameter is a relationship of those parameters. Frequency domain approach at many different frequencies. Get eigenmode coefficients.\n",
    "    - forward coefficient: how much waveguide forward mode\n",
    "    - backward coefficient: how much waveguide forward mode"
   ]
  },
  {
   "cell_type": "code",
   "execution_count": null,
   "metadata": {},
   "outputs": [],
   "source": [
    "import matplotlib.pyplot as plt\n",
    "import numpy as np\n",
    "import pp\n",
    "import gmeep as gm"
   ]
  },
  {
   "cell_type": "code",
   "execution_count": null,
   "metadata": {},
   "outputs": [],
   "source": [
    "c = pp.c.straight(length=2)\n",
    "cm = gm.add_monitors(component=c)\n",
    "r = gm.get_transmission_2ports(cm, run=False, res=10)"
   ]
  },
  {
   "cell_type": "code",
   "execution_count": null,
   "metadata": {},
   "outputs": [],
   "source": [
    "cm"
   ]
  },
  {
   "cell_type": "code",
   "execution_count": null,
   "metadata": {},
   "outputs": [],
   "source": [
    "r.keys()"
   ]
  },
  {
   "cell_type": "code",
   "execution_count": null,
   "metadata": {},
   "outputs": [],
   "source": [
    "gm.plot2d(r)"
   ]
  },
  {
   "cell_type": "code",
   "execution_count": null,
   "metadata": {},
   "outputs": [],
   "source": [
    "r = gm.get_transmission_2ports(cm, run=True, res=10, is_3d=False)"
   ]
  },
  {
   "cell_type": "code",
   "execution_count": null,
   "metadata": {},
   "outputs": [],
   "source": [
    "r.keys()"
   ]
  },
  {
   "cell_type": "code",
   "execution_count": null,
   "metadata": {},
   "outputs": [],
   "source": [
    "gm.plot2d(r)"
   ]
  },
  {
   "cell_type": "code",
   "execution_count": null,
   "metadata": {},
   "outputs": [],
   "source": [
    "plt.plot(r['wavelengths']*1e3, abs(r['s11']))\n",
    "plt.ylabel('|S11|')\n",
    "plt.xlabel('wavelength (nm)')"
   ]
  },
  {
   "cell_type": "code",
   "execution_count": null,
   "metadata": {},
   "outputs": [],
   "source": [
    "plt.plot(r['wavelengths']*1e3, abs(r['s21']))\n",
    "plt.ylabel('|S21|')\n",
    "plt.xlabel('wavelength (nm)')"
   ]
  },
  {
   "cell_type": "code",
   "execution_count": null,
   "metadata": {},
   "outputs": [],
   "source": [
    "print(f\"Transmission = {np.mean(abs(r['s21']))*100:.2f} %\")"
   ]
  },
  {
   "cell_type": "code",
   "execution_count": null,
   "metadata": {},
   "outputs": [],
   "source": [
    "print(f\"Reflection = {np.mean(abs(r['s11']))*100:.2f} %\")"
   ]
  },
  {
   "cell_type": "markdown",
   "metadata": {},
   "source": [
    "## Bend"
   ]
  },
  {
   "cell_type": "code",
   "execution_count": null,
   "metadata": {},
   "outputs": [],
   "source": [
    "import pp\n",
    "import gmeep as gm\n",
    "import matplotlib.pyplot as plt\n",
    "import numpy as np\n",
    "\n",
    "c = pp.c.bend_circular(radius=5)\n",
    "margin = 0.5\n",
    "cm = gm.add_monitors(component=c)\n",
    "cm"
   ]
  },
  {
   "cell_type": "code",
   "execution_count": null,
   "metadata": {},
   "outputs": [],
   "source": [
    "cm.ports"
   ]
  },
  {
   "cell_type": "code",
   "execution_count": null,
   "metadata": {},
   "outputs": [],
   "source": [
    "r = gm.get_transmission_2ports(cm, res=10, run=False, is_3d=False)\n",
    "gm.plot2d(r)"
   ]
  },
  {
   "cell_type": "code",
   "execution_count": null,
   "metadata": {},
   "outputs": [],
   "source": [
    "r = gm.get_transmission_2ports(cm, run=True, res=30, is_3d=False)"
   ]
  },
  {
   "cell_type": "code",
   "execution_count": null,
   "metadata": {},
   "outputs": [],
   "source": [
    "plt.plot(r['wavelengths']*1e3, abs(r['s11']))\n",
    "plt.ylabel('|S11|')\n",
    "plt.xlabel('wavelength (nm)')\n",
    "plt.figure()\n",
    "plt.plot(r['wavelengths']*1e3, abs(r['s21']))\n",
    "plt.ylabel('|S21|')\n",
    "plt.xlabel('wavelength (nm)')"
   ]
  },
  {
   "cell_type": "code",
   "execution_count": null,
   "metadata": {},
   "outputs": [],
   "source": [
    "gm.plot2d(r)"
   ]
  },
  {
   "cell_type": "code",
   "execution_count": null,
   "metadata": {},
   "outputs": [],
   "source": [
    "c = pp.c.bend_circular(radius=2)\n",
    "margin = 0.5\n",
    "cm = gm.add_monitors(component=c, port_margin=1)\n",
    "cm"
   ]
  },
  {
   "cell_type": "code",
   "execution_count": null,
   "metadata": {},
   "outputs": [],
   "source": [
    "r_2um_2d= gm.get_transmission_2ports(cm, run=True, res=30, is_3d=False)"
   ]
  },
  {
   "cell_type": "code",
   "execution_count": null,
   "metadata": {},
   "outputs": [],
   "source": [
    "plt.plot(r_2um_2d['wavelengths']*1e3, abs(r_2um_2d['s21']))\n",
    "plt.ylabel('|S21|')\n",
    "plt.xlabel('wavelength (nm)')"
   ]
  },
  {
   "cell_type": "markdown",
   "metadata": {},
   "source": [
    "## Bend euler\n",
    "\n",
    "An euler bend provides less loss in the same"
   ]
  },
  {
   "cell_type": "code",
   "execution_count": null,
   "metadata": {},
   "outputs": [],
   "source": [
    "c = pp.c.bend_euler(radius=2)\n",
    "margin = 0.5\n",
    "cm = gm.add_monitors(component=c, port_margin=1)\n",
    "cm"
   ]
  },
  {
   "cell_type": "code",
   "execution_count": null,
   "metadata": {},
   "outputs": [],
   "source": [
    "r_2um_2d= gm.get_transmission_2ports(cm, run=True, res=30, is_3d=False)"
   ]
  },
  {
   "cell_type": "code",
   "execution_count": null,
   "metadata": {},
   "outputs": [],
   "source": [
    "plt.plot(r_2um_2d['wavelengths']*1e3, abs(r_2um_2d['s21']))\n",
    "plt.ylabel('|S21|')\n",
    "plt.xlabel('wavelength (nm)')"
   ]
  },
  {
   "cell_type": "code",
   "execution_count": null,
   "metadata": {},
   "outputs": [],
   "source": [
    "plt.plot(r_2um_2d['wavelengths']*1e3, abs(r_2um_2d['s21']))\n",
    "plt.ylabel('|S21|')\n",
    "plt.xlabel('wavelength (nm)')"
   ]
  },
  {
   "cell_type": "markdown",
   "metadata": {},
   "source": [
    "## 3D sims\n",
    "\n",
    "3D simulations take longer"
   ]
  },
  {
   "cell_type": "code",
   "execution_count": null,
   "metadata": {},
   "outputs": [],
   "source": [
    "r_2um_3d = gm.get_transmission_2ports(cm, run=False, res=10, is_3d=True)"
   ]
  },
  {
   "cell_type": "code",
   "execution_count": null,
   "metadata": {},
   "outputs": [],
   "source": [
    "gm.plot2d(r_2um_3d)"
   ]
  },
  {
   "cell_type": "code",
   "execution_count": null,
   "metadata": {},
   "outputs": [],
   "source": [
    "gm.plot_xsection(r_2um_3d['sim'], center=(-2, 0, 0))"
   ]
  },
  {
   "cell_type": "code",
   "execution_count": null,
   "metadata": {},
   "outputs": [],
   "source": [
    "r_2um_3d= gm.get_transmission_2ports(cm, run=True, res=10, is_3d=True)"
   ]
  },
  {
   "cell_type": "code",
   "execution_count": null,
   "metadata": {},
   "outputs": [],
   "source": [
    "plt.plot(r_2um_2d['wavelengths']*1e3, abs(r_2um_2d['s21']), label='2D')\n",
    "plt.plot(r_2um_3d['wavelengths']*1e3, abs(r_2um_3d['s21']), label='3D')\n",
    "plt.ylabel('|S21|')\n",
    "plt.xlabel('wavelength (nm)')\n",
    "plt.legend()"
   ]
  },
  {
   "cell_type": "code",
   "execution_count": null,
   "metadata": {},
   "outputs": [],
   "source": [
    "plt.plot(r_2um_2d['wavelengths']*1e3, abs(r_2um_2d['s11']), label='2D')\n",
    "plt.plot(r_2um_3d['wavelengths']*1e3, abs(r_2um_3d['s11']), label='3D')\n",
    "plt.ylabel('|S11|')\n",
    "plt.xlabel('wavelength (nm)')\n",
    "plt.legend()"
   ]
  },
  {
   "cell_type": "code",
   "execution_count": null,
   "metadata": {},
   "outputs": [],
   "source": []
  }
 ],
 "metadata": {
  "kernelspec": {
   "display_name": "Python 3",
   "language": "python",
   "name": "python3"
  },
  "language_info": {
   "codemirror_mode": {
    "name": "ipython",
    "version": 3
   },
   "file_extension": ".py",
   "mimetype": "text/x-python",
   "name": "python",
   "nbconvert_exporter": "python",
   "pygments_lexer": "ipython3",
   "version": "3.8.5"
  }
 },
 "nbformat": 4,
 "nbformat_minor": 4
}
