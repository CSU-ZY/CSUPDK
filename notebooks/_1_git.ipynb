{
 "cells": [
  {
   "cell_type": "markdown",
   "id": "3dafca8d",
   "metadata": {},
   "source": [
    "# Git: Version control intro"
   ]
  },
  {
   "cell_type": "markdown",
   "id": "16e43142",
   "metadata": {},
   "source": [
    "“Revision control, also known as version control, source control\n",
    "manages changes to documents, programs, and other information stored as computer files -- Wikipedia"
   ]
  },
  {
   "cell_type": "markdown",
   "id": "4ebdb72b",
   "metadata": {},
   "source": [
    "**Reproducibility?**\n",
    "\n",
    "* Tracking and recreating every step of your work\n",
    "* In the software world: it's called *Version Control*!\n",
    "\n",
    "What do (good) version control tools give you?\n",
    "\n",
    "* Peace of mind (backups)\n",
    "* Freedom (exploratory branching)\n",
    "* Collaboration (synchronization)"
   ]
  },
  {
   "cell_type": "markdown",
   "id": "7938f07e",
   "metadata": {},
   "source": [
    "## Git is an enabling technology: Use version control for everything"
   ]
  },
  {
   "cell_type": "markdown",
   "id": "9fdf838f",
   "metadata": {},
   "source": [
    "* Write documents (never get `paper_v5_john_jane_final_oct22_really_final.tex` by email again!)\n",
    "* Write code\n",
    "* Backup your computer configuration"
   ]
  },
  {
   "cell_type": "markdown",
   "id": "258ee89a",
   "metadata": {},
   "source": [
    "This tutorial is structured in the following way: we will begin with a brief overview of key concepts you need to understand in order for git to really make sense.  We will then dive into hands-on work: after necessary configuration we will discuss 5 \"stages of git\" with scenarios of increasing sophistication and complexity, introducing the necessary commands for each stage:\n",
    "\n",
    "1. Local, single-user, linear workflow\n",
    "2. Single local user, branching\n",
    "3. Using remotes as a single user\n",
    "4. Remotes for collaborating in a small team\n",
    "5. distributed collaboration with large teams with GitHub/GitLab"
   ]
  },
  {
   "cell_type": "markdown",
   "id": "ab881fa2",
   "metadata": {},
   "source": [
    "## Very high level picture: an overview of key concepts"
   ]
  },
  {
   "cell_type": "markdown",
   "id": "e5beb61c",
   "metadata": {},
   "source": [
    "The **commit**: *a snapshot of work at a point in time* Every ball in this diagram represents a commit of all the files in a code repository, that we can go later in time, compare it with. We can also add labels/tags to this commits in case we want to develop new features.\n",
    "\n",
    "![](https://i.imgur.com/YpKkBzf.png)\n",
    "\n",
    "Credit: Gitflow Atlassian"
   ]
  },
  {
   "cell_type": "markdown",
   "id": "d93808d4",
   "metadata": {},
   "source": [
    "And this is pretty much the essence of Git!"
   ]
  },
  {
   "cell_type": "markdown",
   "id": "69dad80f",
   "metadata": {},
   "source": [
    "## First things first: git must be configured before first use"
   ]
  },
  {
   "cell_type": "markdown",
   "id": "13cec2a4",
   "metadata": {},
   "source": [
    "The minimal amount of configuration for git to work without pestering you is to tell it who you are:\n",
    "\n",
    "### Exercise\n",
    "\n",
    "The preceding `!` marks that this code  will execute in the `terminal` interpreter instead of in `python`\n",
    "\n",
    "Lets tell Git who you are."
   ]
  },
  {
   "cell_type": "code",
   "execution_count": null,
   "id": "5894da88",
   "metadata": {},
   "outputs": [],
   "source": [
    "!git config --global user.name \"joaquin\" # replace joaquin by your name\n",
    "!git config --global user.email \"user@gmail.com\" # replace user by your email"
   ]
  },
  {
   "cell_type": "markdown",
   "id": "e67c9e06",
   "metadata": {},
   "source": [
    "And how you will edit text files (it will often ask you to edit messages and other information, and thus wants to know how you like to edit your files):"
   ]
  },
  {
   "cell_type": "code",
   "execution_count": null,
   "id": "2de97d32",
   "metadata": {},
   "outputs": [],
   "source": [
    "# Put here your preferred editor. If this is not set, git will honor the $EDITOR environment variable\n",
    "# On Windows: Notepad works, Notepad++, sublime or atom\n",
    "# On mac/linux: vim, sublime or atom as a basic option\n",
    "!git config --global core.editor nvim  # my lightweight neovim editor\n",
    "\n",
    "# And while we're at it, we also turn on the use of color, which is very useful\n",
    "!git config --global color.ui \"auto\""
   ]
  },
  {
   "cell_type": "markdown",
   "id": "5dc64d35",
   "metadata": {},
   "source": [
    "## Stage 0: Configure GIT"
   ]
  },
  {
   "cell_type": "markdown",
   "id": "509a3df0",
   "metadata": {},
   "source": [
    "Github has instructions on how to configure the credentials helper for [Mac OSX](https://help.github.com/articles/set-up-git#platform-mac) and [Windows](https://help.github.com/articles/set-up-git#platform-windows)."
   ]
  },
  {
   "cell_type": "markdown",
   "id": "ae128ed4",
   "metadata": {},
   "source": [
    "First we are going to create an SSH key that you can upload to GitHub to recognize you.\n",
    "The key has a private part `id_rsa` that you should keep secret, and a public part `id_rsa.pub` that can upload to GitHub knows it's you.\n",
    "\n",
    "Uncomment and execute the following line, and make sure you run it only once, so only generate one key."
   ]
  },
  {
   "cell_type": "code",
   "execution_count": null,
   "id": "a2358a38",
   "metadata": {},
   "outputs": [],
   "source": [
    "#! ssh-keygen -f ~/.ssh/id_rsa -t rsa -N ''"
   ]
  },
  {
   "cell_type": "code",
   "execution_count": null,
   "id": "ce6e3369",
   "metadata": {},
   "outputs": [],
   "source": [
    "! cat ~/.ssh/id_rsa.pub"
   ]
  },
  {
   "cell_type": "markdown",
   "id": "0000e82b",
   "metadata": {},
   "source": [
    "Then paste the key into your GitHub account. See [doc](https://jdblischak.github.io/2014-09-18-chicago/novice/git/05-sshkeys.html)\n",
    "\n",
    "![key](https://i.imgur.com/33nnXKy.png)\n",
    "![key2](https://i.imgur.com/OjA2dPs.png)"
   ]
  },
  {
   "cell_type": "markdown",
   "id": "83358eb1",
   "metadata": {},
   "source": [
    "## Stage 1: Local, single-user, linear workflow"
   ]
  },
  {
   "cell_type": "markdown",
   "id": "96cf1eb7",
   "metadata": {},
   "source": [
    "Simply type `git` to see a full list of all the 'core' commands.  We'll now go through most of these via small practical exercises:"
   ]
  },
  {
   "cell_type": "code",
   "execution_count": null,
   "id": "7238953a",
   "metadata": {},
   "outputs": [],
   "source": [
    "!git"
   ]
  },
  {
   "cell_type": "markdown",
   "id": "3da1b582",
   "metadata": {},
   "source": [
    "We are going to create a test repo for git to play"
   ]
  },
  {
   "cell_type": "markdown",
   "id": "5a54b8ce",
   "metadata": {},
   "source": [
    "### `git init`: create an empty repository\n",
    "\n",
    "first we create a folder called `playground_repo`"
   ]
  },
  {
   "cell_type": "code",
   "execution_count": null,
   "id": "c24a8f1b",
   "metadata": {},
   "outputs": [],
   "source": [
    "! mkdir playground_repo"
   ]
  },
  {
   "cell_type": "code",
   "execution_count": null,
   "id": "c8f9492b",
   "metadata": {},
   "outputs": [],
   "source": [
    "cd playground_repo"
   ]
  },
  {
   "cell_type": "markdown",
   "id": "702434df",
   "metadata": {},
   "source": [
    "Let's look at what git did:"
   ]
  },
  {
   "cell_type": "code",
   "execution_count": null,
   "id": "de165fe5",
   "metadata": {},
   "outputs": [],
   "source": [
    "!ls -la"
   ]
  },
  {
   "cell_type": "markdown",
   "id": "eef8b54f",
   "metadata": {},
   "source": [
    "The folder is empty now.\n",
    "\n",
    "Lets create a new repo in the folder."
   ]
  },
  {
   "cell_type": "code",
   "execution_count": null,
   "id": "e4480df4",
   "metadata": {},
   "outputs": [],
   "source": [
    "! git init"
   ]
  },
  {
   "cell_type": "code",
   "execution_count": null,
   "id": "2cb87780",
   "metadata": {},
   "outputs": [],
   "source": [
    "! ls -la"
   ]
  },
  {
   "cell_type": "markdown",
   "id": "58933cfd",
   "metadata": {},
   "source": [
    "Now you can see that there is a hidden folder `.git` (notice the dot that marks it as a hidden folder), which is the GIT repo"
   ]
  },
  {
   "cell_type": "code",
   "execution_count": null,
   "id": "8aa6726c",
   "metadata": {},
   "outputs": [],
   "source": [
    "! ls -la .git"
   ]
  },
  {
   "cell_type": "markdown",
   "id": "773e73d2",
   "metadata": {},
   "source": [
    "Now let's edit our first file in the test directory with a text editor... I'm doing it programmatically here for automation purposes, but you'd normally be editing by hand"
   ]
  },
  {
   "cell_type": "code",
   "execution_count": null,
   "id": "63817492",
   "metadata": {},
   "outputs": [],
   "source": [
    "!echo \"My first bit of text in the repo\" > README.md"
   ]
  },
  {
   "cell_type": "markdown",
   "id": "9fa96135",
   "metadata": {},
   "source": [
    "`ls` lists the contents of the current working directory"
   ]
  },
  {
   "cell_type": "code",
   "execution_count": null,
   "id": "8933c9d6",
   "metadata": {},
   "outputs": [],
   "source": [
    "!ls"
   ]
  },
  {
   "cell_type": "markdown",
   "id": "f2ea3282",
   "metadata": {},
   "source": [
    "### `git add`: tell git about this new file"
   ]
  },
  {
   "cell_type": "code",
   "execution_count": null,
   "id": "00364321",
   "metadata": {},
   "outputs": [],
   "source": [
    "!git add README.md"
   ]
  },
  {
   "cell_type": "markdown",
   "id": "464174b1",
   "metadata": {},
   "source": [
    "We can now ask git about what happened with `status`:"
   ]
  },
  {
   "cell_type": "code",
   "execution_count": null,
   "id": "74962e46",
   "metadata": {},
   "outputs": [],
   "source": [
    "!git status"
   ]
  },
  {
   "cell_type": "markdown",
   "id": "851b234d",
   "metadata": {},
   "source": [
    "### `git commit`: permanently record our changes in git's database"
   ]
  },
  {
   "cell_type": "markdown",
   "id": "1c30a857",
   "metadata": {},
   "source": [
    "For now, we are *always* going to call `git commit` either with the `-a` option *or* with specific filenames (`git commit file1 file2...`).  This delays the discussion of an aspect of git called the *index* (often referred to also as the 'staging area') that we will cover later.  Most everyday work in regular scientific practice doesn't require understanding the extra moving parts that the index involves, so on a first round we'll bypass it.  Later on we will discuss how to use it to achieve more fine-grained control of what and how git records our actions."
   ]
  },
  {
   "cell_type": "code",
   "execution_count": null,
   "id": "706948e3",
   "metadata": {},
   "outputs": [],
   "source": [
    "!git commit -a -m \"First commit\""
   ]
  },
  {
   "cell_type": "markdown",
   "id": "d1aa0d3c",
   "metadata": {},
   "source": [
    "In the commit above, we  used the `-m` flag to specify a message at the command line.  If we don't do that, git will open the editor we specified in our configuration above and require that we enter a message.  By default, git refuses to record changes that don't have a message to go along with them (though you can obviously 'cheat' by using an empty or meaningless string: git only tries to facilitate best practices, it's not your nanny)."
   ]
  },
  {
   "cell_type": "markdown",
   "id": "cc71b667",
   "metadata": {},
   "source": [
    "### `git log`: what has been committed so far"
   ]
  },
  {
   "cell_type": "code",
   "execution_count": null,
   "id": "b1b93867",
   "metadata": {},
   "outputs": [],
   "source": [
    "!git log"
   ]
  },
  {
   "cell_type": "markdown",
   "id": "2bdcf851",
   "metadata": {},
   "source": [
    "### `git diff`: what have I changed?"
   ]
  },
  {
   "cell_type": "markdown",
   "id": "51d4c429",
   "metadata": {},
   "source": [
    "Let's do a little bit more work... Again, in practice you'll be editing the files by hand, here we do it via shell commands for the sake of automation (and therefore the reproducibility of this tutorial!)"
   ]
  },
  {
   "cell_type": "code",
   "execution_count": null,
   "id": "595e98bd",
   "metadata": {},
   "outputs": [],
   "source": [
    "!echo \"And now we add a second line...\" >> README.md"
   ]
  },
  {
   "cell_type": "markdown",
   "id": "aa5a14f5",
   "metadata": {},
   "source": [
    "And now we can ask git what is different:"
   ]
  },
  {
   "cell_type": "code",
   "execution_count": null,
   "id": "6d0b018b",
   "metadata": {},
   "outputs": [],
   "source": [
    "!git diff"
   ]
  },
  {
   "cell_type": "markdown",
   "id": "65e64715",
   "metadata": {},
   "source": [
    "### The cycle of git virtue: work, commit, work, commit, ..."
   ]
  },
  {
   "cell_type": "code",
   "execution_count": null,
   "id": "6548d750",
   "metadata": {},
   "outputs": [],
   "source": [
    "!git commit -a -m \"added second line.\""
   ]
  },
  {
   "cell_type": "markdown",
   "id": "5a687f50",
   "metadata": {},
   "source": [
    "### `git log` revisited"
   ]
  },
  {
   "cell_type": "markdown",
   "id": "e1b12b26",
   "metadata": {},
   "source": [
    "First, let's see what the log shows us now:"
   ]
  },
  {
   "cell_type": "code",
   "execution_count": null,
   "id": "c9c84b61",
   "metadata": {},
   "outputs": [],
   "source": [
    "!git log"
   ]
  },
  {
   "cell_type": "markdown",
   "id": "bb665776",
   "metadata": {},
   "source": [
    "Sometimes it's handy to see a very summarized version of the log:"
   ]
  },
  {
   "cell_type": "code",
   "execution_count": null,
   "id": "7eb83fbe",
   "metadata": {},
   "outputs": [],
   "source": [
    "!git log --oneline --topo-order --graph"
   ]
  },
  {
   "cell_type": "markdown",
   "id": "b2af5722",
   "metadata": {},
   "source": [
    "Git supports *aliases:* new names given to command combinations. Let's make this handy shortlog an alias, so we only have to type `git slog` and see this compact log:"
   ]
  },
  {
   "cell_type": "code",
   "execution_count": null,
   "id": "200a548b",
   "metadata": {},
   "outputs": [],
   "source": [
    "# We create our alias (this saves it in git's permanent configuration file):\n",
    "!git config --global alias.slog \"log --oneline --topo-order --graph\"\n",
    "\n",
    "# And now we can use it\n",
    "!git slog"
   ]
  },
  {
   "cell_type": "markdown",
   "id": "3205b883",
   "metadata": {},
   "source": [
    "### `git mv` and `rm`: moving and removing files"
   ]
  },
  {
   "cell_type": "markdown",
   "id": "410c2735",
   "metadata": {},
   "source": [
    "While `git add` is used to add fills to the list git tracks, we must also tell it if we want their  names to change or for it to stop tracking them.  In familiar Unix fashion, the `mv` and `rm` git commands do precisely this:"
   ]
  },
  {
   "cell_type": "code",
   "execution_count": null,
   "id": "46902328",
   "metadata": {},
   "outputs": [],
   "source": [
    "!git mv README.md README.markdown\n",
    "!git status"
   ]
  },
  {
   "cell_type": "markdown",
   "id": "d76ea01a",
   "metadata": {},
   "source": [
    "Note that these changes must be committed too, to become permanent!  In git's world, until something hasn't been committed, it isn't permanently recorded anywhere."
   ]
  },
  {
   "cell_type": "code",
   "execution_count": null,
   "id": "f8cccb65",
   "metadata": {},
   "outputs": [],
   "source": [
    "!git commit -a -m \"I like this new name better\"\n",
    "!echo \"Let's look at the log again:\"\n",
    "!git slog"
   ]
  },
  {
   "cell_type": "markdown",
   "id": "fac069a1",
   "metadata": {},
   "source": [
    "And `git rm` works in a similar fashion removing the file from your repo."
   ]
  },
  {
   "cell_type": "markdown",
   "id": "8d71459a",
   "metadata": {},
   "source": [
    "## Local user, branching"
   ]
  },
  {
   "cell_type": "markdown",
   "id": "bdad8f2e",
   "metadata": {},
   "source": [
    "What is a branch?  A branch is a label for the state of a GIT repositories. It makes it easy to develop features and go back and forth between the original `main` and the copy `feature branch` version of the files inside the GIT repo\n",
    "\n",
    "![](https://i.imgur.com/Sw95CUf.png)\n",
    "\n",
    "Credit: Gitflow Atlassian"
   ]
  },
  {
   "cell_type": "markdown",
   "id": "419a4b65",
   "metadata": {},
   "source": [
    "There can be multiple branches alive at any point in time; the working directory is the state of a special pointer called HEAD.  In this example there are two branches, *main* and *develop*:"
   ]
  },
  {
   "cell_type": "markdown",
   "id": "529455c3",
   "metadata": {},
   "source": [
    "Once new commits are made on a branch, HEAD and the branch label move with the new commits:"
   ]
  },
  {
   "cell_type": "markdown",
   "id": "d5ecb6e9",
   "metadata": {},
   "source": [
    "This allows the history of both branches to diverge:"
   ]
  },
  {
   "cell_type": "markdown",
   "id": "1860e64c",
   "metadata": {},
   "source": [
    "But based on this graph structure, git can compute the necessary information to merge the divergent branches back and continue with a unified line of development:"
   ]
  },
  {
   "cell_type": "markdown",
   "id": "96fd5b11",
   "metadata": {},
   "source": [
    "Let's now illustrate all of this with a concrete example."
   ]
  },
  {
   "cell_type": "code",
   "execution_count": null,
   "id": "bf4d287b",
   "metadata": {},
   "outputs": [],
   "source": [
    "!git status"
   ]
  },
  {
   "cell_type": "code",
   "execution_count": null,
   "id": "26625868",
   "metadata": {},
   "outputs": [],
   "source": [
    "!ls"
   ]
  },
  {
   "cell_type": "markdown",
   "id": "2f96a262",
   "metadata": {},
   "source": [
    "We are now going to try two different routes of development: on the `main` branch we will add one file and on the `emojis` branch, which we will create, we will add a different one.  We will then merge the emojis branch into `main`."
   ]
  },
  {
   "cell_type": "code",
   "execution_count": null,
   "id": "2560e1db",
   "metadata": {},
   "outputs": [],
   "source": [
    "!git branch emojis\n",
    "!git checkout emojis"
   ]
  },
  {
   "cell_type": "code",
   "execution_count": null,
   "id": "129025e4",
   "metadata": {},
   "outputs": [],
   "source": [
    "!echo \"Some emojis :smile:, :horse:, :cat:\" > emojis.md\n",
    "!git add emojis.md\n",
    "!git commit -a -m \"Adding some emojis\"\n",
    "!git slog"
   ]
  },
  {
   "cell_type": "code",
   "execution_count": null,
   "id": "8fd3d237",
   "metadata": {},
   "outputs": [],
   "source": [
    "!git checkout main\n",
    "!git slog"
   ]
  },
  {
   "cell_type": "code",
   "execution_count": null,
   "id": "78002a9a",
   "metadata": {},
   "outputs": [],
   "source": [
    "!ls"
   ]
  },
  {
   "cell_type": "markdown",
   "id": "82f3201a",
   "metadata": {},
   "source": [
    "As you can see there are no emojis file in main yet"
   ]
  },
  {
   "cell_type": "code",
   "execution_count": null,
   "id": "26b95bda",
   "metadata": {},
   "outputs": [],
   "source": [
    "!echo \"All the while, more work goes on in main...\" >> README.markdown\n",
    "!git commit -a -m \"The mainline keeps moving\"\n",
    "!git slog"
   ]
  },
  {
   "cell_type": "code",
   "execution_count": null,
   "id": "9a82169a",
   "metadata": {},
   "outputs": [],
   "source": [
    "!ls"
   ]
  },
  {
   "cell_type": "code",
   "execution_count": null,
   "id": "7aa88df9",
   "metadata": {},
   "outputs": [],
   "source": [
    "!git merge emojis -m 'merge emojis'\n",
    "!git slog"
   ]
  },
  {
   "cell_type": "markdown",
   "id": "2e83c7fc",
   "metadata": {},
   "source": [
    "## Using remotes as a single user"
   ]
  },
  {
   "cell_type": "markdown",
   "id": "8678200e",
   "metadata": {},
   "source": [
    "We are now going to introduce the concept of a *remote repository*: a pointer to another copy of the repository that lives on a different location.  This can be simply a different path on the filesystem or a server on the internet.\n",
    "\n",
    "For this discussion, we'll be using remotes hosted on the [GitHub.com](http://github.com) service, but you can equally use other services like [Gitlab](http://gitlab.com)\n",
    "\n",
    "Let's see if we have any remote repositories here:"
   ]
  },
  {
   "cell_type": "code",
   "execution_count": null,
   "id": "3f66244a",
   "metadata": {},
   "outputs": [],
   "source": [
    "!git remote -v"
   ]
  },
  {
   "cell_type": "markdown",
   "id": "5de9a572",
   "metadata": {},
   "source": [
    "Since the above cell didn't produce any output after the `git remote -v` call, it means we have no remote repositories configured.  We will now proceed to do so.  Once logged into Github or Gitlab, go to the new repository page and make a repository called `test`.  Do **not** check the box that says `Initialize this repository with a README`, since we already have an existing repository here.  That option is useful when you're starting first at Github and don't have a repo made already on a local computer.\n",
    "\n",
    "We can now follow the instructions from the next page:"
   ]
  },
  {
   "cell_type": "markdown",
   "id": "c70af3f8",
   "metadata": {},
   "source": [
    "### An important aside: conflict management"
   ]
  },
  {
   "cell_type": "markdown",
   "id": "4c6d6d54",
   "metadata": {},
   "source": [
    "While git is very good at merging, if two different branches modify the same file in the same location, it simply can't decide which change should prevail.  At that point, human intervention is necessary to make the decision.  Git will help you by marking the location in the file that has a problem, but it's up to you to resolve the conflict.  Let's see how that works by intentionally creating a conflict.\n",
    "\n",
    "We start by creating a branch and making a change to our experiment file:"
   ]
  },
  {
   "cell_type": "code",
   "execution_count": null,
   "id": "751c9ddb",
   "metadata": {},
   "outputs": [],
   "source": [
    "!git branch trouble\n",
    "!git checkout trouble\n",
    "!echo \"This is going to be a problem...\" >> README.markdown\n",
    "!git commit -a -m \"Adding a file for trouble\""
   ]
  },
  {
   "cell_type": "markdown",
   "id": "c2f4e1d8",
   "metadata": {},
   "source": [
    "And now we go back to the main branch, where we change the *same* file:"
   ]
  },
  {
   "cell_type": "code",
   "execution_count": null,
   "id": "90d444ee",
   "metadata": {},
   "outputs": [],
   "source": [
    "!git checkout main\n",
    "!echo \"At the same time main keeps working on same line will cause a MERGE CONFLICT ...\" >> README.markdown\n",
    "!git commit -a -m \"Keep working on the experiment\""
   ]
  },
  {
   "cell_type": "markdown",
   "id": "093dfb15",
   "metadata": {},
   "source": [
    "So now let's see what happens if we try to merge the `trouble` branch into `main`:"
   ]
  },
  {
   "cell_type": "code",
   "execution_count": null,
   "id": "528f1626",
   "metadata": {},
   "outputs": [],
   "source": [
    "!git checkout main"
   ]
  },
  {
   "cell_type": "code",
   "execution_count": null,
   "id": "79eb0e4c",
   "metadata": {},
   "outputs": [],
   "source": [
    "!git merge trouble"
   ]
  },
  {
   "cell_type": "markdown",
   "id": "157faf1a",
   "metadata": {},
   "source": [
    "Let's see what git has put into our file:"
   ]
  },
  {
   "cell_type": "markdown",
   "id": "cb822b3f",
   "metadata": {},
   "source": [
    "At this point, we go into the file with a text editor, decide which changes to keep, and make a new commit that records our decision.  I've now made the edits, in this case I decided that both pieces of text were useful, but integrated them with some changes:"
   ]
  },
  {
   "cell_type": "markdown",
   "id": "5cd3e6a6",
   "metadata": {},
   "source": [
    "Let's then make our new commit:"
   ]
  },
  {
   "cell_type": "code",
   "execution_count": null,
   "id": "c979244c",
   "metadata": {},
   "outputs": [],
   "source": [
    "!git commit -a -m \"Completed merge of trouble, fixing conflicts along the way\"\n",
    "!git slog"
   ]
  },
  {
   "cell_type": "markdown",
   "id": "02a1cc5a",
   "metadata": {},
   "source": [
    "*Note:* While it's a good idea to understand the basics of fixing merge conflicts by hand, in some cases you may find the use of an automated tool useful.  Git supports multiple [merge tools](https://www.kernel.org/pub/software/scm/git/docs/git-mergetool.html): a merge tool is a piece of software that conforms to a basic interface and knows how to merge two files into a new one.  Since these are typically graphical tools, there are various to choose from for the different operating systems, and as long as they obey a basic command structure, git can work with any of them."
   ]
  },
  {
   "cell_type": "markdown",
   "id": "8bfae70f",
   "metadata": {},
   "source": [
    "## Git resources"
   ]
  },
  {
   "cell_type": "markdown",
   "id": "fbacbf70",
   "metadata": {},
   "source": [
    "this tutorial is based on  [Francisco Perez GIT notebook](https://github.com/fperez/reprosw)  and has some ideas from the other links:\n",
    "\n",
    "- [atlassian tutorial](https://www.atlassian.com/git/tutorials/what-is-version-control)\n",
    "- [Github tutorial](https://docs.github.com/en/get-started/quickstart/hello-world)\n",
    "- [tutorial on version control](http://nbviewer.ipython.org/urls/raw.github.com/jrjohansson/scientific-python-lectures/master/Lecture-7-Revision-Control-Software.ipynb)\n",
    "- [\"Git for Scientists: A Tutorial\"](https://github.com/johnmcdonnell/Git-Tutorial) by John McDonnell\n",
    "- Emanuele Olivetti's lecture notes and exercises from the G-Node summer school on [Advanced Scientific Programming in Python](https://python.g-node.org/wiki/schedule).\n",
    "- [Pro Git book](http://git-scm.com/book)\n",
    "- [Cheat sheet](https://education.github.com/git-cheat-sheet-education.pdf)\n",
    "- [Git ready](http://www.gitready.com). A great website of posts on specific git-related topics, organized by difficulty.\n",
    "- [Git Magic](http://www-cs-students.stanford.edu/~blynn/gitmagic/index.html). Another book-size guide that has useful snippets.\n",
    "- [port](http://cworth.org/hgbook-git/tour) of the Hg book"
   ]
  },
  {
   "cell_type": "markdown",
   "id": "08f7a26e",
   "metadata": {},
   "source": [
    "## Git repos\n",
    "\n",
    "You can `git clone` some repositories and `install` the repo\n",
    "\n",
    "Also, you can also add your fork information, `git add`, `git commit`, `git push` your changes and then send a pull request (request to merge your changes)"
   ]
  },
  {
   "cell_type": "markdown",
   "id": "3e31862d",
   "metadata": {},
   "source": [
    "For chip design you can take a look at [gdsfactory](https://gdsfactory.github.io/gdsfactory/)\n",
    "\n",
    "\n",
    "and copy paste these lines below changing `YourGithubUserName` with you GitHub username\n",
    "```bash\n",
    "!git clone https://github.com/gdsfactory/gdsfactory.git\n",
    "!cd gdsfactory\n",
    "!make install\n",
    "!git remote add fork git@github.com:YourGithubUserName/gdsfactory.git\n",
    "```"
   ]
  },
  {
   "cell_type": "markdown",
   "id": "7361191e",
   "metadata": {},
   "source": [
    "For an open source PDK take a look at [UBCpdk](https://gdsfactory.github.io/ubc/)\n",
    "\n",
    "\n",
    "and copy paste these lines below changing `YourGithubUserName` with you GitHub username\n",
    "```bash\n",
    "!git clone https://github.com/gdsfactory/ubc.git\n",
    "!cd ubc\n",
    "!make install\n",
    "!git remote add fork git@github.com:YourGithubUserName/ubc.git\n",
    "```"
   ]
  },
  {
   "cell_type": "markdown",
   "id": "125fc4a9",
   "metadata": {},
   "source": [
    "You can find other interesting packages in the [awesome-photonics](https://github.com/joamatab/awesome_photonics) list."
   ]
  }
 ],
 "metadata": {
  "jupytext": {
   "cell_metadata_filter": "-all",
   "custom_cell_magics": "kql",
   "main_language": "python"
  }
 },
 "nbformat": 4,
 "nbformat_minor": 5
}
