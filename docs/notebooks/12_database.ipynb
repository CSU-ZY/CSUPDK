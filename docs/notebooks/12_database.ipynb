{
 "cells": [
  {
   "attachments": {},
   "cell_type": "markdown",
   "metadata": {},
   "source": [
    "# Database\n",
    "\n",
    "This notebook shows how to use a database for storing and loading simulation results.\n",
    "The interface employs SQLAlchemy, which is installed if you supplied the `[database]` option during gdsfactory installation.\n",
    "\n",
    "## Overview\n",
    "1. We create an ad-hoc SQLite database, which will store data in a single file (`database.db` in this case)\n",
    "2. We show how to add simulation data to the database\n",
    "3. We use a TODO SQL or redis Docker container for hosting the database oursel/ves. This method may be easily employed for multiple users\n",
    "4. More scalable database is employed using Litestream. This _streams_ the SQLite database to Amazon, Azure, Google Cloud or a similar online database.\n",
    "\n",
    "\n",
    "TODO\n",
    "simple simulation 'cached' to database\n",
    "\n",
    "first with sqlite?\n",
    "\n",
    "then with adhoc with docker\n",
    "\n",
    "then to mongodb or such\n",
    "\n",
    "(bonus) json???"
   ]
  },
  {
   "cell_type": "code",
   "execution_count": 1,
   "metadata": {},
   "outputs": [
    {
     "name": "stderr",
     "output_type": "stream",
     "text": [
      "2023-01-29 19:33:36.096 | INFO     | gdsfactory.config:<module>:50 - Load 'C:\\\\Users\\\\Niko\\\\Dev\\\\gdsfactory\\\\gdsfactory' 6.25.2\n",
      "2023-01-29 19:33:36.625 | INFO     | gdsfactory.technology.layer_views:__init__:779 - Importing LayerViews from KLayout layer properties file: C:\\Users\\Niko\\Dev\\gdsfactory\\gdsfactory\\generic_tech\\klayout\\tech\\layers.lyp.\n"
     ]
    }
   ],
   "source": [
    "import gdsfactory as gf\n",
    "import gdsfactory.database.models as gm\n",
    "\n",
    "from sqlalchemy import create_engine, text\n",
    "from sqlalchemy.orm import Session"
   ]
  },
  {
   "cell_type": "markdown",
   "metadata": {},
   "source": [
    "`gm.metadata` houses the gdsfactory-specific models"
   ]
  },
  {
   "cell_type": "code",
   "execution_count": 2,
   "metadata": {},
   "outputs": [
    {
     "name": "stdout",
     "output_type": "stream",
     "text": [
      "2023-01-29 19:33:36,848 INFO sqlalchemy.engine.Engine BEGIN (implicit)\n",
      "2023-01-29 19:33:36,848 INFO sqlalchemy.engine.Engine PRAGMA main.table_info(\"process\")\n",
      "2023-01-29 19:33:36,848 INFO sqlalchemy.engine.Engine [raw sql] ()\n",
      "2023-01-29 19:33:36,849 INFO sqlalchemy.engine.Engine PRAGMA main.table_info(\"unit\")\n",
      "2023-01-29 19:33:36,850 INFO sqlalchemy.engine.Engine [raw sql] ()\n",
      "2023-01-29 19:33:36,851 INFO sqlalchemy.engine.Engine PRAGMA main.table_info(\"wafer\")\n",
      "2023-01-29 19:33:36,851 INFO sqlalchemy.engine.Engine [raw sql] ()\n",
      "2023-01-29 19:33:36,852 INFO sqlalchemy.engine.Engine PRAGMA main.table_info(\"computed_result\")\n",
      "2023-01-29 19:33:36,852 INFO sqlalchemy.engine.Engine [raw sql] ()\n",
      "2023-01-29 19:33:36,853 INFO sqlalchemy.engine.Engine PRAGMA main.table_info(\"result\")\n",
      "2023-01-29 19:33:36,854 INFO sqlalchemy.engine.Engine [raw sql] ()\n",
      "2023-01-29 19:33:36,854 INFO sqlalchemy.engine.Engine PRAGMA main.table_info(\"reticle\")\n",
      "2023-01-29 19:33:36,854 INFO sqlalchemy.engine.Engine [raw sql] ()\n",
      "2023-01-29 19:33:36,855 INFO sqlalchemy.engine.Engine PRAGMA main.table_info(\"computed_result_self_relation\")\n",
      "2023-01-29 19:33:36,855 INFO sqlalchemy.engine.Engine [raw sql] ()\n",
      "2023-01-29 19:33:36,856 INFO sqlalchemy.engine.Engine PRAGMA main.table_info(\"die\")\n",
      "2023-01-29 19:33:36,856 INFO sqlalchemy.engine.Engine [raw sql] ()\n",
      "2023-01-29 19:33:36,857 INFO sqlalchemy.engine.Engine PRAGMA main.table_info(\"result_computed_result_relation\")\n",
      "2023-01-29 19:33:36,857 INFO sqlalchemy.engine.Engine [raw sql] ()\n",
      "2023-01-29 19:33:36,858 INFO sqlalchemy.engine.Engine PRAGMA main.table_info(\"result_info\")\n",
      "2023-01-29 19:33:36,859 INFO sqlalchemy.engine.Engine [raw sql] ()\n",
      "2023-01-29 19:33:36,859 INFO sqlalchemy.engine.Engine PRAGMA main.table_info(\"result_process_relation\")\n",
      "2023-01-29 19:33:36,860 INFO sqlalchemy.engine.Engine [raw sql] ()\n",
      "2023-01-29 19:33:36,860 INFO sqlalchemy.engine.Engine PRAGMA main.table_info(\"result_self_relation\")\n",
      "2023-01-29 19:33:36,861 INFO sqlalchemy.engine.Engine [raw sql] ()\n",
      "2023-01-29 19:33:36,861 INFO sqlalchemy.engine.Engine PRAGMA main.table_info(\"component\")\n",
      "2023-01-29 19:33:36,862 INFO sqlalchemy.engine.Engine [raw sql] ()\n",
      "2023-01-29 19:33:36,862 INFO sqlalchemy.engine.Engine PRAGMA main.table_info(\"port\")\n",
      "2023-01-29 19:33:36,863 INFO sqlalchemy.engine.Engine [raw sql] ()\n",
      "2023-01-29 19:33:36,864 INFO sqlalchemy.engine.Engine PRAGMA main.table_info(\"component_info\")\n",
      "2023-01-29 19:33:36,864 INFO sqlalchemy.engine.Engine [raw sql] ()\n",
      "2023-01-29 19:33:36,865 INFO sqlalchemy.engine.Engine PRAGMA main.table_info(\"result_component_relation\")\n",
      "2023-01-29 19:33:36,866 INFO sqlalchemy.engine.Engine [raw sql] ()\n",
      "2023-01-29 19:33:36,866 INFO sqlalchemy.engine.Engine PRAGMA main.table_info(\"relation_info\")\n",
      "2023-01-29 19:33:36,867 INFO sqlalchemy.engine.Engine [raw sql] ()\n",
      "2023-01-29 19:33:36,868 INFO sqlalchemy.engine.Engine COMMIT\n"
     ]
    }
   ],
   "source": [
    "engine = create_engine(\"sqlite:///database.db\", echo=True, future=True)\n",
    "gm.metadata.create_all(engine)"
   ]
  },
  {
   "cell_type": "code",
   "execution_count": 3,
   "metadata": {},
   "outputs": [],
   "source": [
    "c = gf.c.ring_single(radius=10)"
   ]
  },
  {
   "cell_type": "code",
   "execution_count": 4,
   "metadata": {},
   "outputs": [
    {
     "name": "stdout",
     "output_type": "stream",
     "text": [
      "<gdsfactory.database.models.Wafer object at 0x0000029ED2003730>\n",
      "2023-01-29 19:33:36,981 INFO sqlalchemy.engine.Engine BEGIN (implicit)\n",
      "2023-01-29 19:33:36,983 INFO sqlalchemy.engine.Engine INSERT INTO wafer (serial_number, name, description) VALUES (?, ?, ?)\n",
      "2023-01-29 19:33:36,984 INFO sqlalchemy.engine.Engine [generated in 0.00095s] ('ABC', '12', None)\n",
      "2023-01-29 19:33:36,986 INFO sqlalchemy.engine.Engine INSERT INTO reticle (name, position, size, wafer_id, description) VALUES (?, ?, ?, ?, ?)\n",
      "2023-01-29 19:33:36,987 INFO sqlalchemy.engine.Engine [generated in 0.00049s] ('sky1', None, None, 21, None)\n",
      "2023-01-29 19:33:36,988 INFO sqlalchemy.engine.Engine INSERT INTO die (reticle_id, name, position, size, description) VALUES (?, ?, ?, ?, ?)\n",
      "2023-01-29 19:33:36,988 INFO sqlalchemy.engine.Engine [generated in 0.00036s] (21, 'd00', None, None, None)\n",
      "2023-01-29 19:33:36,990 INFO sqlalchemy.engine.Engine INSERT INTO component (die_id, name, description) VALUES (?, ?, ?)\n",
      "2023-01-29 19:33:36,990 INFO sqlalchemy.engine.Engine [generated in 0.00057s] (21, 'ring_single_radius10', None)\n",
      "2023-01-29 19:33:36,992 INFO sqlalchemy.engine.Engine INSERT INTO port (component_id, name, port_type, position, orientation, description) VALUES (?, ?, ?, ?, ?, ?)\n",
      "2023-01-29 19:33:36,992 INFO sqlalchemy.engine.Engine [generated in 0.00041s] (21, 'o2', 'optical', array([10.,  0.]), 0.0, None)\n",
      "2023-01-29 19:33:36,993 INFO sqlalchemy.engine.Engine INSERT INTO port (component_id, name, port_type, position, orientation, description) VALUES (?, ?, ?, ?, ?, ?)\n",
      "2023-01-29 19:33:36,993 INFO sqlalchemy.engine.Engine [cached since 0.001669s ago] (21, 'o1', 'optical', array([-14.,   0.]), 180.0, None)\n",
      "2023-01-29 19:33:36,994 INFO sqlalchemy.engine.Engine INSERT INTO component_info (component_id, die_id, port_id, reticle_id, wafer_id, name, value, description) VALUES (?, ?, ?, ?, ?, ?, ?, ?)\n",
      "2023-01-29 19:33:36,995 INFO sqlalchemy.engine.Engine [generated in 0.00036s] (21, None, None, None, None, 'radius', 10, None)\n",
      "2023-01-29 19:33:36,996 INFO sqlalchemy.engine.Engine COMMIT\n"
     ]
    }
   ],
   "source": [
    "with Session(engine) as session:\n",
    "\n",
    "    w1 = gm.Wafer(name=\"12\", serial_number=\"ABC\")\n",
    "    r1 = gm.Reticle(name=\"sky1\", wafer_id=w1.id, wafer=w1)\n",
    "    d1 = gm.Die(name=\"d00\", reticle_id=r1.id, reticle=r1)\n",
    "    c1 = gm.Component(name=c.name, die_id=d1.id, die=d1)\n",
    "\n",
    "    print(d1.reticle.wafer)\n",
    "\n",
    "    component_settings = []\n",
    "\n",
    "    for key, value in c.settings.changed.items():\n",
    "        s = gm.ComponentInfo(component=c1, component_id=c1.id, name=key, value=value)\n",
    "        component_settings.append(s)\n",
    "\n",
    "    for port in c.ports.values():\n",
    "        s = gm.Port(\n",
    "            component=c1,\n",
    "            component_id=c1.id,\n",
    "            port_type=port.port_type,\n",
    "            name=port.name,\n",
    "            orientation=port.orientation,\n",
    "            position=port.center,\n",
    "        )\n",
    "        component_settings.append(s)\n",
    "\n",
    "    # add objects\n",
    "    session.add_all([w1, r1, d1, c1])\n",
    "    session.add_all(component_settings)\n",
    "\n",
    "    # flush changes to the database\n",
    "    session.commit()\n"
   ]
  },
  {
   "attachments": {},
   "cell_type": "markdown",
   "metadata": {},
   "source": [
    "## Querying the database\n",
    "\n",
    "In this section, we show different ways to query the database using SQLAlchemy.\n",
    "\n",
    "Individual rows of a selected model, in this case `Wafer`, from the database are fetched as follows:"
   ]
  },
  {
   "cell_type": "code",
   "execution_count": 5,
   "metadata": {},
   "outputs": [
    {
     "name": "stdout",
     "output_type": "stream",
     "text": [
      "2023-01-29 19:33:37,055 INFO sqlalchemy.engine.Engine BEGIN (implicit)\n",
      "2023-01-29 19:33:37,057 INFO sqlalchemy.engine.Engine SELECT wafer.id AS wafer_id, wafer.created AS wafer_created, wafer.updated AS wafer_updated, wafer.serial_number AS wafer_serial_number, wafer.name AS wafer_name, wafer.description AS wafer_description \n",
      "FROM wafer\n",
      "2023-01-29 19:33:37,057 INFO sqlalchemy.engine.Engine [generated in 0.00042s] ()\n",
      "12 ABC\n",
      "12 ABC\n",
      "12 ABC\n",
      "12 ABC\n",
      "12 ABC\n",
      "12 ABC\n",
      "12 ABC\n",
      "12 ABC\n",
      "12 ABC\n",
      "12 ABC\n",
      "12 ABC\n",
      "12 ABC\n",
      "12 ABC\n",
      "12 ABC\n",
      "12 ABC\n",
      "12 ABC\n",
      "12 ABC\n",
      "12 ABC\n",
      "12 ABC\n",
      "12 ABC\n",
      "12 ABC\n",
      "2023-01-29 19:33:37,060 INFO sqlalchemy.engine.Engine SELECT wafer.name AS wafer_name, wafer.serial_number AS wafer_serial_number \n",
      "FROM wafer\n",
      "2023-01-29 19:33:37,060 INFO sqlalchemy.engine.Engine [generated in 0.00051s] ()\n",
      "12 ABC\n",
      "12 ABC\n",
      "12 ABC\n",
      "12 ABC\n",
      "12 ABC\n",
      "12 ABC\n",
      "12 ABC\n",
      "12 ABC\n",
      "12 ABC\n",
      "12 ABC\n",
      "12 ABC\n",
      "12 ABC\n",
      "12 ABC\n",
      "12 ABC\n",
      "12 ABC\n",
      "12 ABC\n",
      "12 ABC\n",
      "12 ABC\n",
      "12 ABC\n",
      "12 ABC\n",
      "12 ABC\n",
      "2023-01-29 19:33:37,064 INFO sqlalchemy.engine.Engine SELECT reticle.id AS reticle_id, reticle.created AS reticle_created, reticle.updated AS reticle_updated, reticle.name AS reticle_name, reticle.position AS reticle_position, reticle.size AS reticle_size, reticle.wafer_id AS reticle_wafer_id, reticle.description AS reticle_description \n",
      "FROM reticle\n",
      "2023-01-29 19:33:37,065 INFO sqlalchemy.engine.Engine [generated in 0.00047s] ()\n",
      "2023-01-29 19:33:37,069 INFO sqlalchemy.engine.Engine SELECT wafer.id AS wafer_id, wafer.created AS wafer_created, wafer.updated AS wafer_updated, wafer.serial_number AS wafer_serial_number, wafer.name AS wafer_name, wafer.description AS wafer_description \n",
      "FROM wafer \n",
      "WHERE wafer.id = ?\n",
      "2023-01-29 19:33:37,069 INFO sqlalchemy.engine.Engine [generated in 0.00051s] (1,)\n",
      "sky1 12\n",
      "2023-01-29 19:33:37,070 INFO sqlalchemy.engine.Engine SELECT wafer.id AS wafer_id, wafer.created AS wafer_created, wafer.updated AS wafer_updated, wafer.serial_number AS wafer_serial_number, wafer.name AS wafer_name, wafer.description AS wafer_description \n",
      "FROM wafer \n",
      "WHERE wafer.id = ?\n",
      "2023-01-29 19:33:37,071 INFO sqlalchemy.engine.Engine [cached since 0.001998s ago] (2,)\n",
      "sky1 12\n",
      "2023-01-29 19:33:37,072 INFO sqlalchemy.engine.Engine SELECT wafer.id AS wafer_id, wafer.created AS wafer_created, wafer.updated AS wafer_updated, wafer.serial_number AS wafer_serial_number, wafer.name AS wafer_name, wafer.description AS wafer_description \n",
      "FROM wafer \n",
      "WHERE wafer.id = ?\n",
      "2023-01-29 19:33:37,072 INFO sqlalchemy.engine.Engine [cached since 0.003662s ago] (3,)\n",
      "sky1 12\n",
      "2023-01-29 19:33:37,074 INFO sqlalchemy.engine.Engine SELECT wafer.id AS wafer_id, wafer.created AS wafer_created, wafer.updated AS wafer_updated, wafer.serial_number AS wafer_serial_number, wafer.name AS wafer_name, wafer.description AS wafer_description \n",
      "FROM wafer \n",
      "WHERE wafer.id = ?\n",
      "2023-01-29 19:33:37,075 INFO sqlalchemy.engine.Engine [cached since 0.006026s ago] (4,)\n",
      "sky1 12\n",
      "2023-01-29 19:33:37,076 INFO sqlalchemy.engine.Engine SELECT wafer.id AS wafer_id, wafer.created AS wafer_created, wafer.updated AS wafer_updated, wafer.serial_number AS wafer_serial_number, wafer.name AS wafer_name, wafer.description AS wafer_description \n",
      "FROM wafer \n",
      "WHERE wafer.id = ?\n",
      "2023-01-29 19:33:37,077 INFO sqlalchemy.engine.Engine [cached since 0.008133s ago] (5,)\n",
      "sky1 12\n",
      "2023-01-29 19:33:37,078 INFO sqlalchemy.engine.Engine SELECT wafer.id AS wafer_id, wafer.created AS wafer_created, wafer.updated AS wafer_updated, wafer.serial_number AS wafer_serial_number, wafer.name AS wafer_name, wafer.description AS wafer_description \n",
      "FROM wafer \n",
      "WHERE wafer.id = ?\n",
      "2023-01-29 19:33:37,079 INFO sqlalchemy.engine.Engine [cached since 0.01022s ago] (6,)\n",
      "sky1 12\n",
      "2023-01-29 19:33:37,080 INFO sqlalchemy.engine.Engine SELECT wafer.id AS wafer_id, wafer.created AS wafer_created, wafer.updated AS wafer_updated, wafer.serial_number AS wafer_serial_number, wafer.name AS wafer_name, wafer.description AS wafer_description \n",
      "FROM wafer \n",
      "WHERE wafer.id = ?\n",
      "2023-01-29 19:33:37,081 INFO sqlalchemy.engine.Engine [cached since 0.01214s ago] (7,)\n",
      "sky1 12\n",
      "2023-01-29 19:33:37,082 INFO sqlalchemy.engine.Engine SELECT wafer.id AS wafer_id, wafer.created AS wafer_created, wafer.updated AS wafer_updated, wafer.serial_number AS wafer_serial_number, wafer.name AS wafer_name, wafer.description AS wafer_description \n",
      "FROM wafer \n",
      "WHERE wafer.id = ?\n",
      "2023-01-29 19:33:37,082 INFO sqlalchemy.engine.Engine [cached since 0.01375s ago] (8,)\n",
      "sky1 12\n",
      "2023-01-29 19:33:37,084 INFO sqlalchemy.engine.Engine SELECT wafer.id AS wafer_id, wafer.created AS wafer_created, wafer.updated AS wafer_updated, wafer.serial_number AS wafer_serial_number, wafer.name AS wafer_name, wafer.description AS wafer_description \n",
      "FROM wafer \n",
      "WHERE wafer.id = ?\n",
      "2023-01-29 19:33:37,084 INFO sqlalchemy.engine.Engine [cached since 0.0155s ago] (9,)\n",
      "sky1 12\n",
      "2023-01-29 19:33:37,085 INFO sqlalchemy.engine.Engine SELECT wafer.id AS wafer_id, wafer.created AS wafer_created, wafer.updated AS wafer_updated, wafer.serial_number AS wafer_serial_number, wafer.name AS wafer_name, wafer.description AS wafer_description \n",
      "FROM wafer \n",
      "WHERE wafer.id = ?\n",
      "2023-01-29 19:33:37,086 INFO sqlalchemy.engine.Engine [cached since 0.01695s ago] (10,)\n",
      "sky1 12\n",
      "2023-01-29 19:33:37,086 INFO sqlalchemy.engine.Engine SELECT wafer.id AS wafer_id, wafer.created AS wafer_created, wafer.updated AS wafer_updated, wafer.serial_number AS wafer_serial_number, wafer.name AS wafer_name, wafer.description AS wafer_description \n",
      "FROM wafer \n",
      "WHERE wafer.id = ?\n",
      "2023-01-29 19:33:37,087 INFO sqlalchemy.engine.Engine [cached since 0.01823s ago] (11,)\n",
      "sky1 12\n",
      "2023-01-29 19:33:37,088 INFO sqlalchemy.engine.Engine SELECT wafer.id AS wafer_id, wafer.created AS wafer_created, wafer.updated AS wafer_updated, wafer.serial_number AS wafer_serial_number, wafer.name AS wafer_name, wafer.description AS wafer_description \n",
      "FROM wafer \n",
      "WHERE wafer.id = ?\n",
      "2023-01-29 19:33:37,089 INFO sqlalchemy.engine.Engine [cached since 0.02012s ago] (12,)\n",
      "sky1 12\n",
      "2023-01-29 19:33:37,090 INFO sqlalchemy.engine.Engine SELECT wafer.id AS wafer_id, wafer.created AS wafer_created, wafer.updated AS wafer_updated, wafer.serial_number AS wafer_serial_number, wafer.name AS wafer_name, wafer.description AS wafer_description \n",
      "FROM wafer \n",
      "WHERE wafer.id = ?\n",
      "2023-01-29 19:33:37,090 INFO sqlalchemy.engine.Engine [cached since 0.02177s ago] (13,)\n",
      "sky1 12\n",
      "2023-01-29 19:33:37,091 INFO sqlalchemy.engine.Engine SELECT wafer.id AS wafer_id, wafer.created AS wafer_created, wafer.updated AS wafer_updated, wafer.serial_number AS wafer_serial_number, wafer.name AS wafer_name, wafer.description AS wafer_description \n",
      "FROM wafer \n",
      "WHERE wafer.id = ?\n",
      "2023-01-29 19:33:37,092 INFO sqlalchemy.engine.Engine [cached since 0.02314s ago] (14,)\n",
      "sky1 12\n",
      "2023-01-29 19:33:37,093 INFO sqlalchemy.engine.Engine SELECT wafer.id AS wafer_id, wafer.created AS wafer_created, wafer.updated AS wafer_updated, wafer.serial_number AS wafer_serial_number, wafer.name AS wafer_name, wafer.description AS wafer_description \n",
      "FROM wafer \n",
      "WHERE wafer.id = ?\n",
      "2023-01-29 19:33:37,093 INFO sqlalchemy.engine.Engine [cached since 0.02473s ago] (15,)\n",
      "sky1 12\n",
      "2023-01-29 19:33:37,095 INFO sqlalchemy.engine.Engine SELECT wafer.id AS wafer_id, wafer.created AS wafer_created, wafer.updated AS wafer_updated, wafer.serial_number AS wafer_serial_number, wafer.name AS wafer_name, wafer.description AS wafer_description \n",
      "FROM wafer \n",
      "WHERE wafer.id = ?\n",
      "2023-01-29 19:33:37,096 INFO sqlalchemy.engine.Engine [cached since 0.02696s ago] (16,)\n",
      "sky1 12\n",
      "2023-01-29 19:33:37,097 INFO sqlalchemy.engine.Engine SELECT wafer.id AS wafer_id, wafer.created AS wafer_created, wafer.updated AS wafer_updated, wafer.serial_number AS wafer_serial_number, wafer.name AS wafer_name, wafer.description AS wafer_description \n",
      "FROM wafer \n",
      "WHERE wafer.id = ?\n",
      "2023-01-29 19:33:37,097 INFO sqlalchemy.engine.Engine [cached since 0.0287s ago] (17,)\n",
      "sky1 12\n",
      "2023-01-29 19:33:37,099 INFO sqlalchemy.engine.Engine SELECT wafer.id AS wafer_id, wafer.created AS wafer_created, wafer.updated AS wafer_updated, wafer.serial_number AS wafer_serial_number, wafer.name AS wafer_name, wafer.description AS wafer_description \n",
      "FROM wafer \n",
      "WHERE wafer.id = ?\n",
      "2023-01-29 19:33:37,099 INFO sqlalchemy.engine.Engine [cached since 0.03019s ago] (18,)\n",
      "sky1 12\n",
      "2023-01-29 19:33:37,100 INFO sqlalchemy.engine.Engine SELECT wafer.id AS wafer_id, wafer.created AS wafer_created, wafer.updated AS wafer_updated, wafer.serial_number AS wafer_serial_number, wafer.name AS wafer_name, wafer.description AS wafer_description \n",
      "FROM wafer \n",
      "WHERE wafer.id = ?\n",
      "2023-01-29 19:33:37,100 INFO sqlalchemy.engine.Engine [cached since 0.03161s ago] (19,)\n",
      "sky1 12\n",
      "2023-01-29 19:33:37,102 INFO sqlalchemy.engine.Engine SELECT wafer.id AS wafer_id, wafer.created AS wafer_created, wafer.updated AS wafer_updated, wafer.serial_number AS wafer_serial_number, wafer.name AS wafer_name, wafer.description AS wafer_description \n",
      "FROM wafer \n",
      "WHERE wafer.id = ?\n",
      "2023-01-29 19:33:37,102 INFO sqlalchemy.engine.Engine [cached since 0.03341s ago] (20,)\n",
      "sky1 12\n",
      "sky1 12\n",
      "2023-01-29 19:33:37,103 INFO sqlalchemy.engine.Engine ROLLBACK\n"
     ]
    }
   ],
   "source": [
    "with Session(engine) as session:\n",
    "\n",
    "    # Two ways to do the same thing\n",
    "    for wafer in session.query(gm.Wafer):\n",
    "        print(wafer.name, wafer.serial_number)\n",
    "\n",
    "    for wafer_name, wafer_serial in session.query(gm.Wafer.name, gm.Wafer.serial_number):\n",
    "        print(wafer_name, wafer_serial)\n",
    "\n",
    "    # Get the `Wafer` from a child `Reticle`\n",
    "    for reticle in session.query(gm.Reticle).all():\n",
    "        print(reticle.name, reticle.wafer.name)"
   ]
  },
  {
   "attachments": {},
   "cell_type": "markdown",
   "metadata": {},
   "source": [
    "Manual SQL commands may naturally be used as well."
   ]
  },
  {
   "cell_type": "code",
   "execution_count": 6,
   "metadata": {},
   "outputs": [
    {
     "name": "stdout",
     "output_type": "stream",
     "text": [
      "2023-01-29 19:33:37,144 INFO sqlalchemy.engine.Engine BEGIN (implicit)\n",
      "2023-01-29 19:33:37,145 INFO sqlalchemy.engine.Engine SELECT * FROM wafer WHERE name IS 12\n",
      "2023-01-29 19:33:37,145 INFO sqlalchemy.engine.Engine [generated in 0.00099s] ()\n",
      "(1, '2023-01-22 16:52:05', '2023-01-22 16:52:05', 'ABC', '12', None)\n",
      "(2, '2023-01-22 16:52:25', '2023-01-22 16:52:25', 'ABC', '12', None)\n",
      "(3, '2023-01-22 16:54:49', '2023-01-22 16:54:49', 'ABC', '12', None)\n",
      "(4, '2023-01-29 13:11:56', '2023-01-29 13:11:56', 'ABC', '12', None)\n",
      "(5, '2023-01-29 13:11:59', '2023-01-29 13:11:59', 'ABC', '12', None)\n",
      "(6, '2023-01-29 13:12:00', '2023-01-29 13:12:00', 'ABC', '12', None)\n",
      "(7, '2023-01-29 13:12:00', '2023-01-29 13:12:00', 'ABC', '12', None)\n",
      "(8, '2023-01-29 13:12:01', '2023-01-29 13:12:01', 'ABC', '12', None)\n",
      "(9, '2023-01-29 13:12:01', '2023-01-29 13:12:01', 'ABC', '12', None)\n",
      "(10, '2023-01-29 13:12:01', '2023-01-29 13:12:01', 'ABC', '12', None)\n",
      "(11, '2023-01-29 13:12:02', '2023-01-29 13:12:02', 'ABC', '12', None)\n",
      "(12, '2023-01-29 13:13:18', '2023-01-29 13:13:18', 'ABC', '12', None)\n",
      "(13, '2023-01-29 13:25:06', '2023-01-29 13:25:06', 'ABC', '12', None)\n",
      "(14, '2023-01-29 13:25:06', '2023-01-29 13:25:06', 'ABC', '12', None)\n",
      "(15, '2023-01-29 13:54:29', '2023-01-29 13:54:29', 'ABC', '12', None)\n",
      "(16, '2023-01-29 16:59:00', '2023-01-29 16:59:00', 'ABC', '12', None)\n",
      "(17, '2023-01-29 17:01:00', '2023-01-29 17:01:00', 'ABC', '12', None)\n",
      "(18, '2023-01-29 17:04:02', '2023-01-29 17:04:02', 'ABC', '12', None)\n",
      "(19, '2023-01-29 17:29:26', '2023-01-29 17:29:26', 'ABC', '12', None)\n",
      "(20, '2023-01-29 17:30:35', '2023-01-29 17:30:35', 'ABC', '12', None)\n",
      "(21, '2023-01-29 17:33:36', '2023-01-29 17:33:36', 'ABC', '12', None)\n",
      "2023-01-29 19:33:37,149 INFO sqlalchemy.engine.Engine ROLLBACK\n"
     ]
    }
   ],
   "source": [
    "# Notice how this is different from session\n",
    "with engine.connect() as connection:\n",
    "\n",
    "    cursor = connection.execute(text(\"SELECT * FROM wafer WHERE name IS 12\"))\n",
    "    for row in cursor:\n",
    "        print(row)"
   ]
  },
  {
   "attachments": {},
   "cell_type": "markdown",
   "metadata": {},
   "source": [
    "### Adding simulation results\n",
    "\n",
    "In this section TODO\n",
    "\n",
    "Todo SQLModel class for holding S parameter, or n mode results?"
   ]
  },
  {
   "cell_type": "code",
   "execution_count": 7,
   "metadata": {},
   "outputs": [
    {
     "data": {
      "text/html": [
       "<pre style=\"white-space:pre;overflow-x:auto;line-height:normal;font-family:Menlo,'DejaVu Sans Mono',consolas,'Courier New',monospace\"><span style=\"color: #7fbfbf; text-decoration-color: #7fbfbf\">[19:33:38] </span><span style=\"color: #000080; text-decoration-color: #000080\">INFO    </span> Using client version: <span style=\"color: #008080; text-decoration-color: #008080; font-weight: bold\">1.8</span>.<span style=\"color: #008080; text-decoration-color: #008080; font-weight: bold\">1</span>                               <a href=\"file://c:\\Users\\Niko\\AppData\\Local\\Programs\\Python\\Python310\\lib\\site-packages\\tidy3d\\__init__.py\"><span style=\"color: #7f7f7f; text-decoration-color: #7f7f7f\">__init__.py</span></a><span style=\"color: #7f7f7f; text-decoration-color: #7f7f7f\">:</span><a href=\"file://c:\\Users\\Niko\\AppData\\Local\\Programs\\Python\\Python310\\lib\\site-packages\\tidy3d\\__init__.py#112\"><span style=\"color: #7f7f7f; text-decoration-color: #7f7f7f\">112</span></a>\n",
       "</pre>\n"
      ],
      "text/plain": [
       "\u001b[2;36m[19:33:38]\u001b[0m\u001b[2;36m \u001b[0m\u001b[34mINFO    \u001b[0m Using client version: \u001b[1;36m1.8\u001b[0m.\u001b[1;36m1\u001b[0m                               \u001b]8;id=257025;file://c:\\Users\\Niko\\AppData\\Local\\Programs\\Python\\Python310\\lib\\site-packages\\tidy3d\\__init__.py\u001b\\\u001b[2m__init__.py\u001b[0m\u001b]8;;\u001b\\\u001b[2m:\u001b[0m\u001b]8;id=866526;file://c:\\Users\\Niko\\AppData\\Local\\Programs\\Python\\Python310\\lib\\site-packages\\tidy3d\\__init__.py#112\u001b\\\u001b[2m112\u001b[0m\u001b]8;;\u001b\\\n"
      ]
     },
     "metadata": {},
     "output_type": "display_data"
    },
    {
     "ename": "TypeError",
     "evalue": "issubclass() arg 1 must be a class",
     "output_type": "error",
     "traceback": [
      "\u001b[1;31m---------------------------------------------------------------------------\u001b[0m",
      "\u001b[1;31mTypeError\u001b[0m                                 Traceback (most recent call last)",
      "\u001b[1;32m~\\AppData\\Local\\Temp/ipykernel_16872/3754096670.py\u001b[0m in \u001b[0;36m<module>\u001b[1;34m\u001b[0m\n\u001b[1;32m----> 1\u001b[1;33m \u001b[1;32mimport\u001b[0m \u001b[0mgdsfactory\u001b[0m\u001b[1;33m.\u001b[0m\u001b[0msimulation\u001b[0m\u001b[1;33m.\u001b[0m\u001b[0mgtidy3d\u001b[0m \u001b[1;32mas\u001b[0m \u001b[0mgt\u001b[0m\u001b[1;33m\u001b[0m\u001b[1;33m\u001b[0m\u001b[0m\n\u001b[0m\u001b[0;32m      2\u001b[0m \u001b[1;33m\u001b[0m\u001b[0m\n\u001b[0;32m      3\u001b[0m \u001b[1;32mwith\u001b[0m \u001b[0mSession\u001b[0m\u001b[1;33m(\u001b[0m\u001b[0mengine\u001b[0m\u001b[1;33m)\u001b[0m \u001b[1;32mas\u001b[0m \u001b[0msession\u001b[0m\u001b[1;33m:\u001b[0m\u001b[1;33m\u001b[0m\u001b[1;33m\u001b[0m\u001b[0m\n\u001b[0;32m      4\u001b[0m \u001b[1;33m\u001b[0m\u001b[0m\n\u001b[0;32m      5\u001b[0m     \u001b[1;32mfor\u001b[0m \u001b[0mwavelength\u001b[0m \u001b[1;32min\u001b[0m \u001b[1;33m(\u001b[0m\u001b[1;36m1.2\u001b[0m\u001b[1;33m,\u001b[0m \u001b[1;36m1.4\u001b[0m\u001b[1;33m,\u001b[0m \u001b[1;36m1.55\u001b[0m\u001b[1;33m)\u001b[0m\u001b[1;33m:\u001b[0m\u001b[1;33m\u001b[0m\u001b[1;33m\u001b[0m\u001b[0m\n",
      "\u001b[1;32m~\\Dev\\gdsfactory\\gdsfactory\\simulation\\gtidy3d\\__init__.py\u001b[0m in \u001b[0;36m<module>\u001b[1;34m\u001b[0m\n\u001b[0;32m     11\u001b[0m \u001b[1;33m\u001b[0m\u001b[0m\n\u001b[0;32m     12\u001b[0m \u001b[1;32mfrom\u001b[0m \u001b[0mgdsfactory\u001b[0m\u001b[1;33m.\u001b[0m\u001b[0mconfig\u001b[0m \u001b[1;32mimport\u001b[0m \u001b[0mlogger\u001b[0m\u001b[1;33m\u001b[0m\u001b[1;33m\u001b[0m\u001b[0m\n\u001b[1;32m---> 13\u001b[1;33m \u001b[1;32mfrom\u001b[0m \u001b[0mgdsfactory\u001b[0m\u001b[1;33m.\u001b[0m\u001b[0msimulation\u001b[0m\u001b[1;33m.\u001b[0m\u001b[0mgtidy3d\u001b[0m \u001b[1;32mimport\u001b[0m \u001b[0mmaterials\u001b[0m\u001b[1;33m,\u001b[0m \u001b[0mmodes\u001b[0m\u001b[1;33m,\u001b[0m \u001b[0mutils\u001b[0m\u001b[1;33m\u001b[0m\u001b[1;33m\u001b[0m\u001b[0m\n\u001b[0m\u001b[0;32m     14\u001b[0m \u001b[1;32mfrom\u001b[0m \u001b[0mgdsfactory\u001b[0m\u001b[1;33m.\u001b[0m\u001b[0msimulation\u001b[0m\u001b[1;33m.\u001b[0m\u001b[0mgtidy3d\u001b[0m\u001b[1;33m.\u001b[0m\u001b[0mget_results\u001b[0m \u001b[1;32mimport\u001b[0m \u001b[0mget_results\u001b[0m\u001b[1;33m\u001b[0m\u001b[1;33m\u001b[0m\u001b[0m\n\u001b[0;32m     15\u001b[0m from gdsfactory.simulation.gtidy3d.get_simulation import (\n",
      "\u001b[1;32m~\\Dev\\gdsfactory\\gdsfactory\\simulation\\gtidy3d\\modes.py\u001b[0m in \u001b[0;36m<module>\u001b[1;34m\u001b[0m\n\u001b[0;32m    145\u001b[0m \u001b[1;33m\u001b[0m\u001b[0m\n\u001b[0;32m    146\u001b[0m \u001b[1;33m\u001b[0m\u001b[0m\n\u001b[1;32m--> 147\u001b[1;33m \u001b[1;32mclass\u001b[0m \u001b[0mWaveguide\u001b[0m\u001b[1;33m(\u001b[0m\u001b[0mSQLModel\u001b[0m\u001b[1;33m,\u001b[0m \u001b[0mtable\u001b[0m\u001b[1;33m=\u001b[0m\u001b[1;32mTrue\u001b[0m\u001b[1;33m)\u001b[0m\u001b[1;33m:\u001b[0m\u001b[1;33m\u001b[0m\u001b[1;33m\u001b[0m\u001b[0m\n\u001b[0m\u001b[0;32m    148\u001b[0m     \"\"\"Waveguide Model.\n\u001b[0;32m    149\u001b[0m \u001b[1;33m\u001b[0m\u001b[0m\n",
      "\u001b[1;32m~\\AppData\\Roaming\\Python\\Python310\\site-packages\\sqlmodel\\main.py\u001b[0m in \u001b[0;36m__new__\u001b[1;34m(cls, name, bases, class_dict, **kwargs)\u001b[0m\n\u001b[0;32m    291\u001b[0m             \u001b[0mnew_cls\u001b[0m\u001b[1;33m.\u001b[0m\u001b[0m__config__\u001b[0m\u001b[1;33m.\u001b[0m\u001b[0mtable\u001b[0m \u001b[1;33m=\u001b[0m \u001b[0mconfig_table\u001b[0m\u001b[1;33m\u001b[0m\u001b[1;33m\u001b[0m\u001b[0m\n\u001b[0;32m    292\u001b[0m             \u001b[1;32mfor\u001b[0m \u001b[0mk\u001b[0m\u001b[1;33m,\u001b[0m \u001b[0mv\u001b[0m \u001b[1;32min\u001b[0m \u001b[0mnew_cls\u001b[0m\u001b[1;33m.\u001b[0m\u001b[0m__fields__\u001b[0m\u001b[1;33m.\u001b[0m\u001b[0mitems\u001b[0m\u001b[1;33m(\u001b[0m\u001b[1;33m)\u001b[0m\u001b[1;33m:\u001b[0m\u001b[1;33m\u001b[0m\u001b[1;33m\u001b[0m\u001b[0m\n\u001b[1;32m--> 293\u001b[1;33m                 \u001b[0mcol\u001b[0m \u001b[1;33m=\u001b[0m \u001b[0mget_column_from_field\u001b[0m\u001b[1;33m(\u001b[0m\u001b[0mv\u001b[0m\u001b[1;33m)\u001b[0m\u001b[1;33m\u001b[0m\u001b[1;33m\u001b[0m\u001b[0m\n\u001b[0m\u001b[0;32m    294\u001b[0m                 \u001b[0msetattr\u001b[0m\u001b[1;33m(\u001b[0m\u001b[0mnew_cls\u001b[0m\u001b[1;33m,\u001b[0m \u001b[0mk\u001b[0m\u001b[1;33m,\u001b[0m \u001b[0mcol\u001b[0m\u001b[1;33m)\u001b[0m\u001b[1;33m\u001b[0m\u001b[1;33m\u001b[0m\u001b[0m\n\u001b[0;32m    295\u001b[0m             \u001b[1;31m# Set a config flag to tell FastAPI that this should be read with a field\u001b[0m\u001b[1;33m\u001b[0m\u001b[1;33m\u001b[0m\u001b[0m\n",
      "\u001b[1;32m~\\AppData\\Roaming\\Python\\Python310\\site-packages\\sqlmodel\\main.py\u001b[0m in \u001b[0;36mget_column_from_field\u001b[1;34m(field)\u001b[0m\n\u001b[0;32m    419\u001b[0m     \u001b[1;32mif\u001b[0m \u001b[0misinstance\u001b[0m\u001b[1;33m(\u001b[0m\u001b[0msa_column\u001b[0m\u001b[1;33m,\u001b[0m \u001b[0mColumn\u001b[0m\u001b[1;33m)\u001b[0m\u001b[1;33m:\u001b[0m\u001b[1;33m\u001b[0m\u001b[1;33m\u001b[0m\u001b[0m\n\u001b[0;32m    420\u001b[0m         \u001b[1;32mreturn\u001b[0m \u001b[0msa_column\u001b[0m\u001b[1;33m\u001b[0m\u001b[1;33m\u001b[0m\u001b[0m\n\u001b[1;32m--> 421\u001b[1;33m     \u001b[0msa_type\u001b[0m \u001b[1;33m=\u001b[0m \u001b[0mget_sqlachemy_type\u001b[0m\u001b[1;33m(\u001b[0m\u001b[0mfield\u001b[0m\u001b[1;33m)\u001b[0m\u001b[1;33m\u001b[0m\u001b[1;33m\u001b[0m\u001b[0m\n\u001b[0m\u001b[0;32m    422\u001b[0m     \u001b[0mprimary_key\u001b[0m \u001b[1;33m=\u001b[0m \u001b[0mgetattr\u001b[0m\u001b[1;33m(\u001b[0m\u001b[0mfield\u001b[0m\u001b[1;33m.\u001b[0m\u001b[0mfield_info\u001b[0m\u001b[1;33m,\u001b[0m \u001b[1;34m\"primary_key\"\u001b[0m\u001b[1;33m,\u001b[0m \u001b[1;32mFalse\u001b[0m\u001b[1;33m)\u001b[0m\u001b[1;33m\u001b[0m\u001b[1;33m\u001b[0m\u001b[0m\n\u001b[0;32m    423\u001b[0m     \u001b[0mindex\u001b[0m \u001b[1;33m=\u001b[0m \u001b[0mgetattr\u001b[0m\u001b[1;33m(\u001b[0m\u001b[0mfield\u001b[0m\u001b[1;33m.\u001b[0m\u001b[0mfield_info\u001b[0m\u001b[1;33m,\u001b[0m \u001b[1;34m\"index\"\u001b[0m\u001b[1;33m,\u001b[0m \u001b[0mUndefined\u001b[0m\u001b[1;33m)\u001b[0m\u001b[1;33m\u001b[0m\u001b[1;33m\u001b[0m\u001b[0m\n",
      "\u001b[1;32m~\\AppData\\Roaming\\Python\\Python310\\site-packages\\sqlmodel\\main.py\u001b[0m in \u001b[0;36mget_sqlachemy_type\u001b[1;34m(field)\u001b[0m\n\u001b[0;32m    373\u001b[0m \u001b[1;33m\u001b[0m\u001b[0m\n\u001b[0;32m    374\u001b[0m \u001b[1;32mdef\u001b[0m \u001b[0mget_sqlachemy_type\u001b[0m\u001b[1;33m(\u001b[0m\u001b[0mfield\u001b[0m\u001b[1;33m:\u001b[0m \u001b[0mModelField\u001b[0m\u001b[1;33m)\u001b[0m \u001b[1;33m->\u001b[0m \u001b[0mAny\u001b[0m\u001b[1;33m:\u001b[0m\u001b[1;33m\u001b[0m\u001b[1;33m\u001b[0m\u001b[0m\n\u001b[1;32m--> 375\u001b[1;33m     \u001b[1;32mif\u001b[0m \u001b[0missubclass\u001b[0m\u001b[1;33m(\u001b[0m\u001b[0mfield\u001b[0m\u001b[1;33m.\u001b[0m\u001b[0mtype_\u001b[0m\u001b[1;33m,\u001b[0m \u001b[0mstr\u001b[0m\u001b[1;33m)\u001b[0m\u001b[1;33m:\u001b[0m\u001b[1;33m\u001b[0m\u001b[1;33m\u001b[0m\u001b[0m\n\u001b[0m\u001b[0;32m    376\u001b[0m         \u001b[1;32mif\u001b[0m \u001b[0mfield\u001b[0m\u001b[1;33m.\u001b[0m\u001b[0mfield_info\u001b[0m\u001b[1;33m.\u001b[0m\u001b[0mmax_length\u001b[0m\u001b[1;33m:\u001b[0m\u001b[1;33m\u001b[0m\u001b[1;33m\u001b[0m\u001b[0m\n\u001b[0;32m    377\u001b[0m             \u001b[1;32mreturn\u001b[0m \u001b[0mAutoString\u001b[0m\u001b[1;33m(\u001b[0m\u001b[0mlength\u001b[0m\u001b[1;33m=\u001b[0m\u001b[0mfield\u001b[0m\u001b[1;33m.\u001b[0m\u001b[0mfield_info\u001b[0m\u001b[1;33m.\u001b[0m\u001b[0mmax_length\u001b[0m\u001b[1;33m)\u001b[0m\u001b[1;33m\u001b[0m\u001b[1;33m\u001b[0m\u001b[0m\n",
      "\u001b[1;31mTypeError\u001b[0m: issubclass() arg 1 must be a class"
     ]
    }
   ],
   "source": [
    "import gdsfactory.simulation.gtidy3d as gt\n",
    "\n",
    "with Session(engine) as session:\n",
    "\n",
    "    for wavelength in (1.2, 1.4, 1.55):\n",
    "\n",
    "        strip = gt.modes.Waveguide(\n",
    "            wavelength=1.55,\n",
    "            wg_width=0.5,\n",
    "            wg_thickness=0.22,\n",
    "            slab_thickness=0.0,\n",
    "            ncore=\"si\",\n",
    "            nclad=\"sio2\",\n",
    "        )\n",
    "        strip.compute_modes()\n",
    "        strip.schema()\n",
    "\n",
    "        # gm.ComputedResult(\n",
    "        #     strip.neffs, strip.nmodes\n",
    "        # )\n",
    "\n",
    "        session.add(gm.Result(name='WG', type='Waveguide', value=strip))\n",
    "\n",
    "    session.commit()"
   ]
  },
  {
   "cell_type": "markdown",
   "metadata": {},
   "source": [
    "Interesting queries might include filtering numerical quantities."
   ]
  },
  {
   "cell_type": "code",
   "execution_count": null,
   "metadata": {},
   "outputs": [
    {
     "name": "stdout",
     "output_type": "stream",
     "text": [
      "2023-01-29 16:22:15,136 INFO sqlalchemy.engine.Engine BEGIN (implicit)\n",
      "2023-01-29 16:22:15,137 INFO sqlalchemy.engine.Engine SELECT computed_result.name AS \"TODO\" \n",
      "FROM computed_result\n",
      "2023-01-29 16:22:15,137 INFO sqlalchemy.engine.Engine [cached since 1638s ago] ()\n",
      "2023-01-29 16:22:15,138 INFO sqlalchemy.engine.Engine SELECT computed_result.value AS computed_result_value \n",
      "FROM computed_result \n",
      "WHERE computed_result.value >= ?\n",
      "2023-01-29 16:22:15,139 INFO sqlalchemy.engine.Engine [cached since 722s ago] (2,)\n",
      "2023-01-29 16:22:15,140 INFO sqlalchemy.engine.Engine ROLLBACK\n"
     ]
    }
   ],
   "source": [
    "with Session(engine) as session:\n",
    "\n",
    "    # here .all() returns other data than the name as well\n",
    "    for row in session.query(gm.ComputedResult.name.label(\"TODO\")).all():\n",
    "        print(row)\n",
    "\n",
    "    for row in session.query(gm.ComputedResult.value).filter(\n",
    "        gm.ComputedResult.value >= 2\n",
    "    ).all():\n",
    "        print(row)"
   ]
  }
 ],
 "metadata": {
  "kernelspec": {
   "display_name": "Python 3",
   "language": "python",
   "name": "python3"
  },
  "language_info": {
   "codemirror_mode": {
    "name": "ipython",
    "version": 3
   },
   "file_extension": ".py",
   "mimetype": "text/x-python",
   "name": "python",
   "nbconvert_exporter": "python",
   "pygments_lexer": "ipython3",
   "version": "3.10.0"
  },
  "vscode": {
   "interpreter": {
    "hash": "e2f3784df2a44e03b92c04447476821a927e81089ad3ce6e764b424b1a4a6fc0"
   }
  }
 },
 "nbformat": 4,
 "nbformat_minor": 4
}
