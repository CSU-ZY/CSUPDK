{
 "cells": [
  {
   "cell_type": "markdown",
   "id": "151ffe48-fdf0-43ac-ae0d-76eae5e1b82e",
   "metadata": {},
   "source": [
    "# Components with hierarchy\n",
    "\n",
    "You can define some components (waveguides, bends, couplers) as a stand alone components, with basic input parameters (width, length, radius ...)\n",
    "\n",
    "Then you can re-use those components in a more complex hiearchical components.\n",
    "\n",
    "`gdsfactory` does this by passing the higher level component with the lower level functions to build the components.\n",
    "\n",
    "You can customize any of the functions thanks to `functools.partial`"
   ]
  },
  {
   "cell_type": "code",
   "execution_count": null,
   "id": "ec03cbca-b432-45c9-af70-e4834c98eecf",
   "metadata": {},
   "outputs": [],
   "source": [
    "import gdsfactory as gf"
   ]
  },
  {
   "cell_type": "code",
   "execution_count": null,
   "id": "953398ff-f5cc-42c9-b86f-263f331b7239",
   "metadata": {},
   "outputs": [],
   "source": [
    "@gf.cell\n",
    "def mzi_sample(\n",
    "    splitter=gf.c.mmi1x2,\n",
    "    combiner=gf.c.mmi1x2,\n",
    "    bend=gf.c.bend_euler,\n",
    "    straight=gf.c.straight,\n",
    "    delta_length: float = 100.0,\n",
    "):\n",
    "    arm_top_sequence = \"BR-RB\"\n",
    "    arm_top_symbol_to_component = {\n",
    "        \"B\": (bend(), \"o1\", \"o2\"),\n",
    "        \"R\": (bend(), \"o2\", \"o1\"),\n",
    "        \"-\": (straight(), \"o1\", \"o2\"),\n",
    "        \"_\": (straight(length=delta_length / 2), \"o1\", \"o2\"),\n",
    "    }\n",
    "    arm_top_sequence = \"B_R-R_B\"\n",
    "    arm_bot_sequence = \"RB-BR\"\n",
    "    arm_top = gf.c.component_sequence(\n",
    "        sequence=arm_top_sequence, symbol_to_component=arm_top_symbol_to_component\n",
    "    )\n",
    "    arm_bot = gf.c.component_sequence(\n",
    "        sequence=arm_bot_sequence, symbol_to_component=arm_top_symbol_to_component\n",
    "    )\n",
    "\n",
    "    c = gf.Component()\n",
    "    top = c << arm_top\n",
    "    bot = c << arm_bot\n",
    "    splitter = c << splitter()\n",
    "    combiner = c << combiner()\n",
    "\n",
    "    top.connect(\"o1\", splitter.ports[\"o2\"])\n",
    "    bot.connect(\"o1\", splitter.ports[\"o3\"])\n",
    "    combiner.connect(\"o2\", bot.ports[\"o2\"])\n",
    "    c.add_port(\"o1\", port=splitter.ports[\"o1\"])\n",
    "    c.add_port(\"o2\", port=combiner.ports[\"o1\"])\n",
    "    return c\n",
    "\n",
    "\n",
    "c = mzi_sample()\n",
    "c"
   ]
  },
  {
   "cell_type": "markdown",
   "id": "855f2ed2-00cf-44ea-8435-5a304cac9a03",
   "metadata": {},
   "source": [
    "Lets **customize** the functions that we pass.\n",
    "For example, we want to increase the radius of the bend from the default 10um to 50um."
   ]
  },
  {
   "cell_type": "code",
   "execution_count": null,
   "id": "558cddd6-1c57-4461-86d4-317eeb7b46d0",
   "metadata": {},
   "outputs": [],
   "source": [
    "gf.c.bend_circular()"
   ]
  },
  {
   "cell_type": "markdown",
   "id": "71668f94-3d00-4fa7-bd16-7fca97d3ed33",
   "metadata": {},
   "source": [
    "## functools.partial\n",
    "\n",
    "Partial lets you define different default parameters for a function, so you can modify the settings for the child cells."
   ]
  },
  {
   "cell_type": "code",
   "execution_count": null,
   "id": "c8ad9ffc-d3b7-4a0a-87ca-5604f2f6347e",
   "metadata": {},
   "outputs": [],
   "source": [
    "from functools import partial"
   ]
  },
  {
   "cell_type": "code",
   "execution_count": null,
   "id": "7ab522b6-6c84-42c6-b98a-955682e3ef95",
   "metadata": {},
   "outputs": [],
   "source": [
    "bend50 = partial(gf.c.bend_circular, radius=50)\n",
    "bend50()"
   ]
  },
  {
   "cell_type": "code",
   "execution_count": null,
   "id": "4a58d796-1dc9-406e-9d08-c53df384fc14",
   "metadata": {},
   "outputs": [],
   "source": [
    "type(bend50)"
   ]
  },
  {
   "cell_type": "code",
   "execution_count": null,
   "id": "bd93b419-661d-48db-95c5-40615c4d10d8",
   "metadata": {},
   "outputs": [],
   "source": [
    "bend50.func.__name__"
   ]
  },
  {
   "cell_type": "code",
   "execution_count": null,
   "id": "55f8b903-9c09-4c03-982f-f4a9746249e0",
   "metadata": {},
   "outputs": [],
   "source": [
    "bend50.keywords"
   ]
  },
  {
   "cell_type": "code",
   "execution_count": null,
   "id": "a3fe7cee-69fc-4b02-832a-7f51c483e51c",
   "metadata": {},
   "outputs": [],
   "source": [
    "c = mzi_sample(bend=partial(gf.c.bend_circular, radius=50))\n",
    "c"
   ]
  },
  {
   "cell_type": "code",
   "execution_count": null,
   "id": "1c8641a7-9f80-47af-a373-64ef15454cca",
   "metadata": {},
   "outputs": [],
   "source": [
    "bend50(radius=10)"
   ]
  },
  {
   "cell_type": "code",
   "execution_count": null,
   "id": "6a79af82-0637-4435-b221-e2e505f178b5",
   "metadata": {},
   "outputs": [],
   "source": [
    "c = mzi_sample()\n",
    "c"
   ]
  },
  {
   "cell_type": "markdown",
   "id": "c7a11dcb-0514-4d13-81b3-8f8300d15f26",
   "metadata": {},
   "source": [
    "## PDK custom fab\n",
    "\n",
    "You can define a new PDK by creating function that customize partial parameters of the generic functions.\n",
    "\n",
    "Lets say that this PDK uses layer (41, 0) for the pads (instead of the layer used in the generic pad function).\n",
    "\n",
    "You can also access `functools.partial` from `gf.partial`"
   ]
  },
  {
   "cell_type": "code",
   "execution_count": null,
   "id": "1c4a99b7-0743-401a-9e70-6c2e18c6b1b1",
   "metadata": {},
   "outputs": [],
   "source": [
    "import gdsfactory as gf\n",
    "\n",
    "pad = gf.partial(gf.c.pad, layer=(41, 0))"
   ]
  },
  {
   "cell_type": "code",
   "execution_count": null,
   "id": "7655c9c2-e6a9-4728-8c97-339146c1c191",
   "metadata": {},
   "outputs": [],
   "source": [
    "pad()"
   ]
  },
  {
   "cell_type": "markdown",
   "id": "f239cb04-0557-44e3-bc7a-4a3c20893982",
   "metadata": {},
   "source": [
    "## Composing functions\n",
    "\n",
    "You can combine more complex functions out of smaller functions.\n",
    "\n",
    "Lets say that we want to add tapers and grating couplers to a wide waveguide."
   ]
  },
  {
   "cell_type": "code",
   "execution_count": null,
   "id": "56774265-5404-4539-8eb2-9c4c986e3b89",
   "metadata": {},
   "outputs": [],
   "source": [
    "c1 = gf.c.straight()\n",
    "c1"
   ]
  },
  {
   "cell_type": "code",
   "execution_count": null,
   "id": "5bb0604a-474a-4e8a-bf20-2735ebe43ea8",
   "metadata": {},
   "outputs": [],
   "source": [
    "straight_wide = gf.partial(gf.components.straight, width=3)\n",
    "c3 = straight_wide()\n",
    "c3"
   ]
  },
  {
   "cell_type": "code",
   "execution_count": null,
   "id": "ea9be922-2cfe-45ea-bfbe-1396fd977a54",
   "metadata": {},
   "outputs": [],
   "source": [
    "c1 = gf.c.straight(width=3)\n",
    "c1"
   ]
  },
  {
   "cell_type": "code",
   "execution_count": null,
   "id": "1f94a79b-db82-4d6b-807c-d69246e1c7c7",
   "metadata": {},
   "outputs": [],
   "source": [
    "c2 = gf.add_tapers(c1)\n",
    "c2"
   ]
  },
  {
   "cell_type": "code",
   "execution_count": null,
   "id": "5a07b615-67ef-4b30-a7a9-513369f5d350",
   "metadata": {},
   "outputs": [],
   "source": [
    "c3 = gf.routing.add_fiber_array(c2, with_loopback=False)\n",
    "c3"
   ]
  },
  {
   "cell_type": "markdown",
   "id": "4df163e7-bb2a-4418-9bd2-9ebfafb3c837",
   "metadata": {},
   "source": [
    "Lets do it with a **single** step thanks to `toolz.pipe`"
   ]
  },
  {
   "cell_type": "code",
   "execution_count": null,
   "id": "40de540a-b961-42c6-b86e-79eaa301d561",
   "metadata": {},
   "outputs": [],
   "source": [
    "import toolz\n",
    "\n",
    "add_fiber_array = gf.partial(gf.routing.add_fiber_array, with_loopback=False)\n",
    "add_tapers = gf.add_tapers\n",
    "\n",
    "# pipe is more readable than the equivalent add_fiber_array(add_tapers(c1))\n",
    "c3 = toolz.pipe(c1, add_tapers, add_fiber_array)\n",
    "c3"
   ]
  },
  {
   "cell_type": "markdown",
   "id": "fc43299b-992b-406f-98f9-d941d9369e74",
   "metadata": {},
   "source": [
    "we can even combine `add_tapers` and `add_fiber_array` thanks to `toolz.compose` or `toolz.compose`"
   ]
  },
  {
   "cell_type": "code",
   "execution_count": null,
   "id": "eb6f4451-53e9-4218-9d00-0ab7fae83098",
   "metadata": {},
   "outputs": [],
   "source": [
    "add_tapers_fiber_array = toolz.compose_left(add_tapers, add_fiber_array)\n",
    "add_tapers_fiber_array(c1)"
   ]
  },
  {
   "cell_type": "code",
   "execution_count": null,
   "id": "a44b48ce-dbd8-4a8f-acbd-79df35f3db9e",
   "metadata": {},
   "outputs": [],
   "source": [
    "add_tapers_fiber_array = toolz.compose(add_fiber_array, add_tapers)\n",
    "add_tapers_fiber_array(c1)"
   ]
  },
  {
   "cell_type": "code",
   "execution_count": null,
   "id": "c2e23a39-6422-4e19-adf5-98062ee907dc",
   "metadata": {},
   "outputs": [],
   "source": [
    "toolz.pipe?"
   ]
  },
  {
   "cell_type": "code",
   "execution_count": null,
   "id": "6c94d507-927b-4bd1-9646-296edddaea47",
   "metadata": {},
   "outputs": [],
   "source": [
    "toolz.compose?"
   ]
  }
 ],
 "metadata": {
  "kernelspec": {
   "display_name": "Python 3 (ipykernel)",
   "language": "python",
   "name": "python3"
  },
  "language_info": {
   "codemirror_mode": {
    "name": "ipython",
    "version": 3
   },
   "file_extension": ".py",
   "mimetype": "text/x-python",
   "name": "python",
   "nbconvert_exporter": "python",
   "pygments_lexer": "ipython3",
   "version": "3.9.5"
  }
 },
 "nbformat": 4,
 "nbformat_minor": 5
}
