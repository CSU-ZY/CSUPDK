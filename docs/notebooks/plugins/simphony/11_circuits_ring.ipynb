{
 "cells": [
  {
   "cell_type": "markdown",
   "metadata": {},
   "source": [
    "# Ring resonator"
   ]
  },
  {
   "cell_type": "code",
   "execution_count": null,
   "metadata": {},
   "outputs": [],
   "source": [
    "import gdsfactory.simulation.simphony as gs\n",
    "import gdsfactory.simulation.simphony.components as gc\n",
    "\n",
    "c = gc.ring_double(radius=5)\n",
    "gs.plot_circuit(c, pins_out=['o2', 'o3', 'o4'])"
   ]
  },
  {
   "cell_type": "code",
   "execution_count": null,
   "metadata": {},
   "outputs": [],
   "source": [
    "c = gs.components.ring_double(radius=10)\n",
    "gs.plot_circuit(c, pins_out=['o2', 'o3', 'o4'])"
   ]
  },
  {
   "cell_type": "code",
   "execution_count": null,
   "metadata": {},
   "outputs": [],
   "source": [
    "c = gs.components.ring_double(radius=10, gap=0.1, length_x=4)\n",
    "gs.plot_circuit(c, pins_out=['o2', 'o3', 'o4'])"
   ]
  },
  {
   "cell_type": "code",
   "execution_count": null,
   "metadata": {},
   "outputs": [],
   "source": [
    "c = gs.components.ring_double(radius=10, gap=0.1, length_x=20)\n",
    "gs.plot_circuit(c, pins_out=['o2', 'o3', 'o4'])"
   ]
  },
  {
   "cell_type": "markdown",
   "metadata": {},
   "source": [
    "FIXME! Ring single needs fixing"
   ]
  },
  {
   "cell_type": "code",
   "execution_count": null,
   "metadata": {},
   "outputs": [],
   "source": [
    "c = gs.components.ring_single(radius=10, gap=0.1, length_x=20)\n",
    "gs.plot_circuit(c, pins_out=['o2', 'o3', 'o4'])"
   ]
  },
  {
   "cell_type": "code",
   "execution_count": null,
   "metadata": {},
   "outputs": [],
   "source": [
    "gs.plot_circuit(c, plot_phase=True)"
   ]
  },
  {
   "cell_type": "code",
   "execution_count": null,
   "metadata": {},
   "outputs": [],
   "source": [
    "gs.plot_circuit?"
   ]
  },
  {
   "cell_type": "code",
   "execution_count": null,
   "metadata": {},
   "outputs": [],
   "source": []
  }
 ],
 "metadata": {
  "kernelspec": {
   "display_name": "Python 3 (ipykernel)",
   "language": "python",
   "name": "python3"
  },
  "language_info": {
   "codemirror_mode": {
    "name": "ipython",
    "version": 3
   },
   "file_extension": ".py",
   "mimetype": "text/x-python",
   "name": "python",
   "nbconvert_exporter": "python",
   "pygments_lexer": "ipython3",
   "version": "3.9.7"
  }
 },
 "nbformat": 4,
 "nbformat_minor": 4
}
