{
 "cells": [
  {
   "cell_type": "markdown",
   "metadata": {},
   "source": [
    "# Routing\n",
    "\n",
    "Routing allows you to define routes between component ports\n"
   ]
  },
  {
   "cell_type": "code",
   "execution_count": null,
   "metadata": {},
   "outputs": [],
   "source": [
    "import pp"
   ]
  },
  {
   "cell_type": "code",
   "execution_count": null,
   "metadata": {},
   "outputs": [],
   "source": [
    "c = pp.Component()\n",
    "mmi1 = c << pp.c.mmi1x2()\n",
    "mmi2 = c << pp.c.mmi1x2()\n",
    "mmi2.move((100, 50))\n",
    "pp.qp(c)"
   ]
  },
  {
   "cell_type": "markdown",
   "metadata": {},
   "source": [
    "# Connect strip\n",
    "\n",
    "Connect strip connects using Manhattan routing"
   ]
  },
  {
   "cell_type": "code",
   "execution_count": null,
   "metadata": {},
   "outputs": [],
   "source": [
    "from pp.routing.connect import connect_strip, connect_strip_way_points"
   ]
  },
  {
   "cell_type": "code",
   "execution_count": null,
   "metadata": {},
   "outputs": [],
   "source": [
    "connect_strip?"
   ]
  },
  {
   "cell_type": "code",
   "execution_count": null,
   "metadata": {},
   "outputs": [],
   "source": [
    "c = pp.Component()\n",
    "mmi1 = c << pp.c.mmi1x2()\n",
    "mmi2 = c << pp.c.mmi1x2()\n",
    "mmi2.move((100, 50))\n",
    "r = connect_strip(mmi1.ports[\"E1\"], mmi2.ports[\"W0\"])\n",
    "c.add(r)\n",
    "pp.qp(c)\n",
    "pp.show(c)"
   ]
  },
  {
   "cell_type": "markdown",
   "metadata": {},
   "source": [
    "### Connect strip: Problem\n",
    "\n",
    "sometimes there are obstacles that connect strip does not see!"
   ]
  },
  {
   "cell_type": "code",
   "execution_count": null,
   "metadata": {},
   "outputs": [],
   "source": [
    "c = pp.Component()\n",
    "mmi1 = c << pp.c.mmi1x2()\n",
    "mmi2 = c << pp.c.mmi1x2()\n",
    "mmi2.move((100, 50))\n",
    "x = c << pp.c.cross(length=20)\n",
    "x.move((135, 20))\n",
    "r = connect_strip(mmi1.ports[\"E1\"], mmi2.ports[\"E1\"])\n",
    "c.add(r)\n",
    "pp.qp(c)\n",
    "pp.show(c)"
   ]
  },
  {
   "cell_type": "markdown",
   "metadata": {},
   "source": [
    "# Solution: Connect strip way points\n",
    "\n",
    "You can also specify the points along the route"
   ]
  },
  {
   "cell_type": "code",
   "execution_count": null,
   "metadata": {},
   "outputs": [],
   "source": [
    "connect_strip_way_points?"
   ]
  },
  {
   "cell_type": "code",
   "execution_count": null,
   "metadata": {},
   "outputs": [],
   "source": [
    "connect_strip_way_points([(x0, y0), (x2 + 40, y0), (x2 + 40, y2), (x2, y2)])\n",
    "mmi2.move((100, 50))\n",
    "x = c << pp.c.cross(length=20)\n",
    "x.move((135, 20))\n",
    "\n",
    "x0 = mmi1.ports[\"E0\"].x\n",
    "y0 = mmi1.ports[\"E0\"].y\n",
    "\n",
    "\n",
    "x2 = mmi2.ports[\"E0\"].x\n",
    "y2 = mmi2.ports[\"E0\"].y\n",
    "\n",
    "r2 = connect_strip_way_points([(x0, y0), (x2 + 40, y0), (x2 + 40, y2), (x2, y2)])\n",
    "c.add(r2)\n",
    "pp.qp(c)\n",
    "pp.show(c)"
   ]
  },
  {
   "cell_type": "markdown",
   "metadata": {},
   "source": [
    "# River routing\n",
    "\n",
    "**Problem**: when connecting lots of ports there are collisions"
   ]
  },
  {
   "cell_type": "code",
   "execution_count": null,
   "metadata": {},
   "outputs": [],
   "source": [
    "xs_top = [0, 10, 20, 40, 50, 80]\n",
    "pitch = 127.0\n",
    "N = len(xs_top)\n",
    "xs_bottom = [(i - N / 2) * pitch for i in range(N)]\n",
    "\n",
    "top_ports = [pp.Port(\"top_{}\".format(i), (xs_top[i], 0), 0.5, 270) for i in range(N)]\n",
    "\n",
    "bottom_ports = [\n",
    "    pp.Port(\"bottom_{}\".format(i), (xs_bottom[i], -400), 0.5, 90) for i in range(N)\n",
    "]\n",
    "\n",
    "top_cell = pp.Component(name=\"connect_bundle\")\n",
    "\n",
    "for p1, p2 in zip(top_ports, bottom_ports):\n",
    "    r = pp.routing.connect_strip(p1, p2)\n",
    "    top_cell.add(r)\n",
    "top_cell.name = \"connect_bundle\"\n",
    "pp.qp(top_cell)\n",
    "pp.show(top_cell)"
   ]
  },
  {
   "cell_type": "markdown",
   "metadata": {},
   "source": [
    "**solution**: river routing routes several ports without collisions"
   ]
  },
  {
   "cell_type": "code",
   "execution_count": null,
   "metadata": {},
   "outputs": [],
   "source": [
    "xs_top = [0, 10, 20, 40, 50, 80]\n",
    "pitch = 127.0\n",
    "N = len(xs_top)\n",
    "xs_bottom = [(i - N / 2) * pitch for i in range(N)]\n",
    "\n",
    "top_ports = [pp.Port(\"top_{}\".format(i), (xs_top[i], 0), 0.5, 270) for i in range(N)]\n",
    "\n",
    "bottom_ports = [\n",
    "    pp.Port(\"bottom_{}\".format(i), (xs_bottom[i], -400), 0.5, 90) for i in range(N)\n",
    "]\n",
    "\n",
    "top_cell = pp.Component(name=\"connect_bundle\")\n",
    "elements = pp.routing.connect_bundle(top_ports, bottom_ports)\n",
    "for e in elements:\n",
    "    top_cell.add(e)\n",
    "top_cell.name = \"connect_bundle\"\n",
    "pp.qp(top_cell)\n",
    "pp.show(top_cell)"
   ]
  },
  {
   "cell_type": "markdown",
   "metadata": {},
   "source": [
    "# Connect electrical and optical ports"
   ]
  },
  {
   "cell_type": "code",
   "execution_count": null,
   "metadata": {},
   "outputs": [],
   "source": [
    "import pp\n",
    "\n",
    "mzi = pp.c.mzi2x2(with_elec_connections=True)\n",
    "pp.qp(mzi)"
   ]
  },
  {
   "cell_type": "code",
   "execution_count": null,
   "metadata": {},
   "outputs": [],
   "source": [
    "pp.c.pad_array?"
   ]
  },
  {
   "cell_type": "code",
   "execution_count": null,
   "metadata": {},
   "outputs": [],
   "source": [
    "pads = pp.c.pad_array(n=3, port_list=[\"S\"])"
   ]
  },
  {
   "cell_type": "code",
   "execution_count": null,
   "metadata": {},
   "outputs": [],
   "source": [
    "pp.routing.link_electrical_ports?"
   ]
  },
  {
   "cell_type": "code",
   "execution_count": null,
   "metadata": {},
   "outputs": [],
   "source": [
    "c = pp.Component(\"mzi_with_pads\")\n",
    "p = c << pads\n",
    "c << mzi\n",
    "\n",
    "p.move((-150, 300))\n",
    "pp.qp(c)"
   ]
  },
  {
   "cell_type": "code",
   "execution_count": null,
   "metadata": {},
   "outputs": [],
   "source": [
    "routes = pp.routing.link_electrical_ports(\n",
    "    list(p.ports.values()), mzi.get_electrical_ports()\n",
    ")"
   ]
  },
  {
   "cell_type": "code",
   "execution_count": null,
   "metadata": {},
   "outputs": [],
   "source": [
    "c.add(routes)\n",
    "pp.qp(c)\n",
    "pp.show(c)"
   ]
  },
  {
   "cell_type": "code",
   "execution_count": null,
   "metadata": {},
   "outputs": [],
   "source": [
    "c = pp.Component(\"mzi_with_pads\")\n",
    "p = c << pads\n",
    "c << mzi\n",
    "\n",
    "p.move((-150, 300))\n",
    "pp.qp(c)"
   ]
  },
  {
   "cell_type": "code",
   "execution_count": null,
   "metadata": {},
   "outputs": [],
   "source": [
    "from pp.routing.connect import connect_elec_waypoints\n",
    "\n",
    "\n",
    "routes = pp.routing.connect_bundle(\n",
    "    list(p.ports.values()),\n",
    "    mzi.get_electrical_ports(),\n",
    "    route_filter=connect_elec_waypoints,\n",
    "    bend_radius=10,\n",
    ")"
   ]
  },
  {
   "cell_type": "code",
   "execution_count": null,
   "metadata": {},
   "outputs": [],
   "source": [
    "pp.qp(routes)"
   ]
  },
  {
   "cell_type": "code",
   "execution_count": null,
   "metadata": {},
   "outputs": [],
   "source": [
    "import pp\n",
    "\n",
    "c = pp.c.mzi2x2(with_elec_connections=True)\n",
    "cc = pp.routing.add_electrical_pads_top(c)\n",
    "pp.show(cc)\n",
    "pp.qp(cc)"
   ]
  },
  {
   "cell_type": "code",
   "execution_count": null,
   "metadata": {},
   "outputs": [],
   "source": [
    "import pp\n",
    "\n",
    "c = pp.c.mzi2x2(with_elec_connections=True)\n",
    "cc = pp.routing.add_electrical_pads_shortest(c)\n",
    "pp.show(cc)\n",
    "pp.qp(cc)"
   ]
  },
  {
   "cell_type": "code",
   "execution_count": null,
   "metadata": {},
   "outputs": [],
   "source": [
    "import pp\n",
    "\n",
    "c = pp.c.mzi2x2(with_elec_connections=True)\n",
    "cc = pp.routing.add_electrical_pads(c, fanout_length=100)\n",
    "pp.show(cc)\n",
    "pp.qp(cc)"
   ]
  },
  {
   "cell_type": "code",
   "execution_count": null,
   "metadata": {},
   "outputs": [],
   "source": [
    "import pp\n",
    "\n",
    "c = pp.c.cross(length=100, layer=pp.LAYER.M3, port_type=\"dc\")\n",
    "c.move((20, 50))\n",
    "cc = pp.routing.add_electrical_pads_shortest(c)\n",
    "pp.show(cc)\n",
    "pp.qp(cc)"
   ]
  },
  {
   "cell_type": "code",
   "execution_count": null,
   "metadata": {},
   "outputs": [],
   "source": []
  }
 ],
 "metadata": {
  "kernelspec": {
   "display_name": "Python 3",
   "language": "python",
   "name": "python3"
  },
  "language_info": {
   "codemirror_mode": {
    "name": "ipython",
    "version": 3
   },
   "file_extension": ".py",
   "mimetype": "text/x-python",
   "name": "python",
   "nbconvert_exporter": "python",
   "pygments_lexer": "ipython3",
   "version": "3.8.3"
  }
 },
 "nbformat": 4,
 "nbformat_minor": 4
}
