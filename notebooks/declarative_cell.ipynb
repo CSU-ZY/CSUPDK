{
 "cells": [
  {
   "cell_type": "markdown",
   "id": "0",
   "metadata": {},
   "source": [
    "# Declarative Cell\n",
    "\n",
    "Declarative and imperative code are two programming paradigms with distinct characteristics:\n",
    "\n",
    "-  Imperative programming explicitly defines step-by-step instructions, controlling the flow of execution. It involves manipulating mutable state and can be verbose and harder to read.\n",
    "-  Declarative programming focuses on describing the desired outcome, relying on systems or frameworks to handle implementation details. It minimizes mutable state, resulting in concise and expressive code.\n",
    "\n",
    "\n",
    "gdsfactory supports imperative and declarative:\n",
    "\n",
    "- imperative: Most of the examples on the layout tutorial follow imperative.\n",
    "- declarative: YAML and Schematic driven flow follow the declarative paradigm. We also have a python alternative described below.\n"
   ]
  },
  {
   "cell_type": "code",
   "execution_count": null,
   "id": "1",
   "metadata": {},
   "outputs": [],
   "source": [
    "import gdsfactory as gf\n",
    "\n",
    "\n",
    "@gf.declarative_cell\n",
    "class mzi:\n",
    "    delta_length: float = 10.0\n",
    "\n",
    "    def instances(self):\n",
    "        self.mmi_in = gf.components.mmi1x2()\n",
    "        self.mmi_out = gf.components.mmi2x2()\n",
    "        self.straight_top1 = gf.components.straight(length=self.delta_length / 2)\n",
    "        self.straight_top2 = gf.components.straight(length=self.delta_length / 2)\n",
    "        self.bend_top1 = gf.components.bend_euler()\n",
    "        self.bend_top2 = gf.components.bend_euler().mirror()\n",
    "        self.bend_top3 = gf.components.bend_euler().mirror()\n",
    "        self.bend_top4 = gf.components.bend_euler()\n",
    "        self.bend_btm1 = gf.components.bend_euler().mirror()\n",
    "        self.bend_btm2 = gf.components.bend_euler()\n",
    "        self.bend_btm3 = gf.components.bend_euler()\n",
    "        self.bend_btm4 = gf.components.bend_euler().mirror()\n",
    "\n",
    "    def connections(self):\n",
    "        return [\n",
    "            (self.bend_top1.ports[\"o1\"], self.mmi_in.ports[\"o2\"]),\n",
    "            (self.straight_top1.ports[\"o1\"], self.bend_top1.ports[\"o2\"]),\n",
    "            (self.bend_top2.ports[\"o1\"], self.straight_top1.ports[\"o2\"]),\n",
    "            (self.bend_top3.ports[\"o1\"], self.bend_top2.ports[\"o2\"]),\n",
    "            (self.straight_top2.ports[\"o1\"], self.bend_top3.ports[\"o2\"]),\n",
    "            (self.bend_top4.ports[\"o1\"], self.straight_top2.ports[\"o2\"]),\n",
    "            (self.bend_btm1.ports[\"o1\"], self.mmi_in.ports[\"o3\"]),\n",
    "            (self.bend_btm2.ports[\"o1\"], self.bend_btm1.ports[\"o2\"]),\n",
    "            (self.bend_btm3.ports[\"o1\"], self.bend_btm2.ports[\"o2\"]),\n",
    "            (self.bend_btm4.ports[\"o1\"], self.bend_btm3.ports[\"o2\"]),\n",
    "            (self.mmi_out.ports[\"o1\"], self.bend_btm4.ports[\"o2\"]),\n",
    "        ]\n",
    "\n",
    "    def ports(self):\n",
    "        return {\n",
    "            \"o1\": self.mmi_in.ports[\"o1\"],\n",
    "            \"o2\": self.mmi_out.ports[\"o3\"],\n",
    "            \"o3\": self.mmi_out.ports[\"o4\"],\n",
    "        }\n",
    "\n",
    "\n",
    "mzi()"
   ]
  },
  {
   "cell_type": "code",
   "execution_count": null,
   "id": "2",
   "metadata": {},
   "outputs": [],
   "source": [
    "mzi(delta_length=100)"
   ]
  }
 ],
 "metadata": {
  "jupytext": {
   "cell_metadata_filter": "-all",
   "main_language": "python",
   "notebook_metadata_filter": "-all"
  }
 },
 "nbformat": 4,
 "nbformat_minor": 5
}
