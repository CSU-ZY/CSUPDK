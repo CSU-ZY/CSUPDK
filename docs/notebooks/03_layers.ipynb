{
 "cells": [
  {
   "cell_type": "markdown",
   "metadata": {},
   "source": [
    "# Technology\n",
    "\n",
    "gdsfactory inclues all the defaults for the generic Technology in `TECH` dataclass that you can customize.\n",
    "\n",
    "\n",
    "## Layers\n",
    "\n",
    "A GDS has different layers to describe the different fabrication process steps.\n",
    "\n",
    "GDS layers have 2 integer numbers: GDSlayer, GDSpurpose\n",
    "\n",
    "Klayout shows Layers with a color, style and transparency when showing GDS layouts."
   ]
  },
  {
   "cell_type": "code",
   "execution_count": null,
   "metadata": {},
   "outputs": [],
   "source": [
    "import omegaconf\n",
    "import dataclasses\n",
    "import pp\n",
    "from pp.layers import preview_layerset"
   ]
  },
  {
   "cell_type": "code",
   "execution_count": null,
   "metadata": {},
   "outputs": [],
   "source": [
    "layer_wg = pp.LAYER.WG\n",
    "print(layer_wg)"
   ]
  },
  {
   "cell_type": "code",
   "execution_count": null,
   "metadata": {},
   "outputs": [],
   "source": [
    "c = preview_layerset()\n",
    "c"
   ]
  },
  {
   "cell_type": "markdown",
   "metadata": {},
   "source": [
    "### Remove layers\n",
    "\n",
    "You can remove layers using the `remove_layers()` function."
   ]
  },
  {
   "cell_type": "code",
   "execution_count": null,
   "metadata": {},
   "outputs": [],
   "source": [
    "c.remove_layers(layers=(pp.LAYER.WG, pp.LAYER.WGN))"
   ]
  },
  {
   "cell_type": "markdown",
   "metadata": {},
   "source": [
    "### Remap layers\n",
    "\n",
    "You can remap layers using the `remap_layer` to remap some layers"
   ]
  },
  {
   "cell_type": "code",
   "execution_count": null,
   "metadata": {},
   "outputs": [],
   "source": [
    "c.remap_layers(layermap={(2,0): pp.LAYER.WGN})"
   ]
  },
  {
   "cell_type": "markdown",
   "metadata": {},
   "source": [
    "### Extract layers\n",
    "\n",
    "You can also extract layers using the `extract` function. This function returns a flattened component that contains the extracted layers."
   ]
  },
  {
   "cell_type": "code",
   "execution_count": null,
   "metadata": {},
   "outputs": [],
   "source": [
    "c.extract(layers=(pp.LAYER.WGN,))"
   ]
  },
  {
   "cell_type": "markdown",
   "metadata": {},
   "source": [
    "## TECH\n",
    "\n",
    "As you can see in `pp.tech.TECH` you can define all your technology constants in dataclasses. \n",
    "This is a convenient way to group all the specific constants for a technology. "
   ]
  },
  {
   "cell_type": "code",
   "execution_count": null,
   "metadata": {},
   "outputs": [],
   "source": [
    "import pp\n",
    "\n",
    "waveguide_pn = pp.tech.Waveguide(\n",
    "    width=0.5,\n",
    "    layer=pp.LAYER.WG,\n",
    "    sections=(\n",
    "        pp.tech.Section(width=2, layer=pp.LAYER.N, offset=+1),\n",
    "        pp.tech.Section(width=2, layer=pp.LAYER.P, offset=-1),\n",
    "    ))\n",
    "\n",
    "pp.TECH.waveguide.pn = waveguide_pn"
   ]
  },
  {
   "cell_type": "code",
   "execution_count": null,
   "metadata": {},
   "outputs": [],
   "source": [
    "c = pp.components.straight(waveguide='pn')\n",
    "c"
   ]
  },
  {
   "cell_type": "markdown",
   "metadata": {},
   "source": [
    "## Library\n",
    "\n",
    "How can you customize components for a particular Fab technology?\n",
    "\n",
    "You can customize the `TECH` values for your particular foundry process\n",
    "\n",
    "`PDK` stands for Process Design Kit, where you can define:\n",
    "\n",
    "- Process (Layers for each fabrication step, Design Rules, Waveguide CrossSection ...) in `TECH` `pp.tech.Tech`\n",
    "- Library of components optimized for that particular process. You can create a `Library` for that particular technology"
   ]
  },
  {
   "cell_type": "code",
   "execution_count": null,
   "metadata": {},
   "outputs": [],
   "source": [
    "import pp\n",
    "\n",
    "c = pp.components.straight(waveguide='nitride')\n",
    "c"
   ]
  },
  {
   "cell_type": "code",
   "execution_count": null,
   "metadata": {},
   "outputs": [],
   "source": [
    "wg = pp.components.straight(waveguide='nitride')\n",
    "gc = pp.components.grating_coupler_elliptical_te(layer=pp.TECH.waveguide.nitride.layer, wg_width=pp.TECH.waveguide.nitride.width)\n",
    "wg_gc = pp.routing.add_fiber_single(component=wg, grating_coupler=gc, waveguide='nitride')\n",
    "wg_gc"
   ]
  },
  {
   "cell_type": "markdown",
   "metadata": {},
   "source": [
    "### FabA\n",
    "\n",
    "Lets add to TECH the specific waveguide needed for FabA\n",
    "\n",
    "FabA only has one Metal layer available that is defined in GDS layer (30, 0)\n",
    "\n",
    "The metal layer traces are 2um wide"
   ]
  },
  {
   "cell_type": "code",
   "execution_count": null,
   "metadata": {},
   "outputs": [],
   "source": [
    "import dataclasses\n",
    "import pp\n",
    "from pp.tech import TECH, Layer, Waveguide\n",
    "\n",
    "\n",
    "@dataclasses.dataclass\n",
    "class Metal1(Waveguide):\n",
    "    width: float = 2.0\n",
    "    width_wide: float = 10.0\n",
    "    auto_widen: bool = False\n",
    "    layer: Layer = (30, 0)\n",
    "    radius: float = 10.0\n",
    "\n",
    "\n",
    "METAL1 = Metal1()\n",
    "TECH.waveguide.metal1 = METAL1\n",
    "\n",
    "\n",
    "wg = pp.components.straight(length=20, waveguide=\"metal1\")\n",
    "gc = pp.components.grating_coupler_elliptical_te(\n",
    "    layer=METAL1.layer, wg_width=METAL1.width\n",
    ")\n",
    "\n",
    "wg_gc = pp.routing.add_fiber_array(\n",
    "    component=wg, grating_coupler=gc, waveguide=\"metal1\"\n",
    ")\n",
    "wg_gc"
   ]
  },
  {
   "cell_type": "code",
   "execution_count": null,
   "metadata": {},
   "outputs": [],
   "source": [
    "coupler = pp.components.coupler(waveguide='metal1')\n",
    "coupler"
   ]
  },
  {
   "cell_type": "markdown",
   "metadata": {},
   "source": [
    "### FabB\n",
    "\n",
    "FabB has photonic waveguides that require many cladding layers to avoid dopants\n",
    "\n",
    "Lets say that the waveguides are defined in layer (2, 0) and are 0.3um wide"
   ]
  },
  {
   "cell_type": "code",
   "execution_count": null,
   "metadata": {},
   "outputs": [],
   "source": [
    "from typing import Tuple\n",
    "import dataclasses\n",
    "from pp.tech import LAYER, TECH, Layer, Waveguide\n",
    "import pp\n",
    "\n",
    "\n",
    "@dataclasses.dataclass\n",
    "class StripB(Waveguide):\n",
    "    width: float = 0.3\n",
    "    width_wide: float = 10.0\n",
    "    auto_widen: bool = False\n",
    "    layer: Layer = (2, 0)\n",
    "    radius: float = 10.0\n",
    "    layers_cladding: Tuple[Layer] = ((71, 0), (68, 0))\n",
    "\n",
    "\n",
    "STRIPB = StripB()\n",
    "TECH.waveguide.stripb = STRIPB\n",
    "wg = pp.components.straight(length=20, waveguide=\"stripb\")\n",
    "gc = pp.components.grating_coupler_elliptical_te(layer=STRIPB.layer, wg_width=STRIPB.width)\n",
    "wg_gc = pp.routing.add_fiber_array(\n",
    "    component=wg, grating_coupler=gc, waveguide=\"stripb\"\n",
    ")\n",
    "wg_gc"
   ]
  },
  {
   "cell_type": "markdown",
   "metadata": {},
   "source": [
    "### FabC\n",
    "\n",
    "Lets assume that fab C has both Silicon and Silicon Nitride components, and you need different waveguide widths for C and O band.\n",
    "\n",
    "Lets asume that O band nitride waveguide width is 0.9 and Cband Nitride waveguide width is 1um, and for 0.4um for Silicon O band and 0.5um for silicon Cband.\n",
    "\n",
    "Lets also that this foundry has an LVS flow where all components have optical pins defined in layer (100, 0)"
   ]
  },
  {
   "cell_type": "code",
   "execution_count": null,
   "metadata": {},
   "outputs": [],
   "source": [
    "from typing import Callable, Optional, Dict, Tuple\n",
    "import pydantic.dataclasses as dataclasses\n",
    "from pp.tech import LayerMap\n",
    "from pp.types import Layer\n",
    "import pp\n",
    "from pp.cell import cell\n",
    "from pp.component import Component, ComponentReference\n",
    "from pp.tech import TECH, Waveguide, Tech, Library\n",
    "from pp.add_pins import add_pin_square_inside\n",
    "\n",
    "\n",
    "@dataclasses.dataclass\n",
    "class LayerMap:\n",
    "    WG: Layer = (10, 1)\n",
    "    WG_CLAD: Layer = (10, 2)\n",
    "    WGN: Layer = (34, 0)\n",
    "    WGN_CLAD: Layer = (36, 0)\n",
    "    PIN: Layer = (100, 0)\n",
    "\n",
    "\n",
    "LAYER = LayerMap()\n",
    "WIDTH_NITRIDE_OBAND = 0.9\n",
    "WIDTH_NITRIDE_CBAND = 1.0\n",
    "PORT_TYPE_TO_LAYER = dict(optical=(100, 0))\n",
    "\n",
    "\n",
    "@dataclasses.dataclass\n",
    "class StripNitrideCband(Waveguide):\n",
    "    width: float = WIDTH_NITRIDE_CBAND\n",
    "    layer: Layer = LAYER.WGN\n",
    "    auto_widen: bool = False\n",
    "    radius: float = 10.0\n",
    "    layers_cladding: Tuple[Layer, ...] = (LAYER.WGN_CLAD,)\n",
    "\n",
    "\n",
    "@dataclasses.dataclass\n",
    "class StripNitrideOband(StripNitrideCband):\n",
    "    width: float = WIDTH_NITRIDE_OBAND\n",
    "\n",
    "\n",
    "NITRIDE_CBAND = StripNitrideCband()\n",
    "NITRIDE_OBAND = StripNitrideOband()\n",
    "\n",
    "TECH.waveguide.nitride_cband = NITRIDE_CBAND\n",
    "\n",
    "\n",
    "def add_pins_custom(\n",
    "    component: Component,\n",
    "    reference: Optional[ComponentReference] = None,\n",
    "    function: Callable = add_pin_square_inside,\n",
    "    port_type_to_layer: Dict[str, Tuple[int, int]] = PORT_TYPE_TO_LAYER,\n",
    "    pin_length:float=0.5,\n",
    "    **kwargs,\n",
    ") -> None:\n",
    "    \"\"\"Add Pin port markers.\n",
    "\n",
    "    Args:\n",
    "        component: to add ports\n",
    "        function:\n",
    "        port_type_to_layer: dict mapping port types to marker layers for ports\n",
    "\n",
    "    \"\"\"\n",
    "    reference = reference or component\n",
    "    for p in reference.ports.values():\n",
    "        layer = port_type_to_layer[p.port_type]\n",
    "        function(component=component, port=p, layer=layer, label_layer=layer, pin_length=pin_length, **kwargs)\n",
    "\n",
    "\n",
    "@cell\n",
    "def mmi1x2_nitride_cband(\n",
    "    width: float = WIDTH_NITRIDE_CBAND,\n",
    "    width_taper: float = 1.5,\n",
    "    length_taper: float = 10.0,\n",
    "    length_mmi: float = 5.5,\n",
    "    width_mmi: float = 4.5,\n",
    "    gap_mmi: float = 0.25,\n",
    "    with_cladding_box: bool = True,\n",
    "    waveguide: str = \"nitride_cband\",\n",
    "    **kwargs,\n",
    ") -> Component:\n",
    "    c = pp.components.mmi1x2(\n",
    "        width=width,\n",
    "        width_taper=width_taper,\n",
    "        length_taper=length_taper,\n",
    "        length_mmi=length_mmi,\n",
    "        width_mmi=width_mmi,\n",
    "        gap_mmi=gap_mmi,\n",
    "        with_cladding_box=with_cladding_box,\n",
    "        waveguide=waveguide,\n",
    "        **kwargs,\n",
    "    )\n",
    "    return c\n",
    "\n",
    "LIBRARY_FABC = Library(name='fab_c', post_init=add_pins_custom)\n",
    "LIBRARY_FABC.register([\n",
    "    mmi1x2_nitride_cband,\n",
    "    pp.components.straight,\n",
    "    pp.components.bend_euler\n",
    "])\n",
    "\n",
    "@cell\n",
    "def grating_coupler_nitride_cband(\n",
    "    grating_line_width: float = 0.6,\n",
    "    wg_width: float = WIDTH_NITRIDE_CBAND,\n",
    "    layer: Tuple[int, int] = LAYER.WGN,\n",
    "):\n",
    "    return pp.components.grating_coupler_elliptical_te(\n",
    "        grating_line_width=grating_line_width,\n",
    "        wg_width=wg_width,\n",
    "        layer=layer\n",
    "    )\n",
    "\n",
    "\n",
    "@cell\n",
    "def mzi_nitride_cband(delta_length: float = 10.0) -> Component:\n",
    "    c = pp.c.mzi(\n",
    "        delta_length=delta_length,\n",
    "        splitter='mmi1x2_nitride_cband',\n",
    "        waveguide=\"nitride_cband\",\n",
    "        width=WIDTH_NITRIDE_CBAND,\n",
    "        library=LIBRARY_FABC\n",
    "    )\n",
    "    return c\n",
    "\n",
    "\n",
    "TECH_FABC = Tech(name=\"fabc\")\n",
    "LIBRARY_FABC.register([mzi_nitride_cband])\n",
    "\n",
    "\n",
    "mzi = mzi_nitride_cband()\n",
    "mzi_gc = pp.routing.add_fiber_single(component=mzi, waveguide=\"nitride_cband\", grating_coupler=grating_coupler_nitride_cband)\n",
    "mzi_gc"
   ]
  },
  {
   "cell_type": "code",
   "execution_count": null,
   "metadata": {},
   "outputs": [],
   "source": []
  }
 ],
 "metadata": {
  "kernelspec": {
   "display_name": "Python 3",
   "language": "python",
   "name": "python3"
  },
  "language_info": {
   "codemirror_mode": {
    "name": "ipython",
    "version": 3
   },
   "file_extension": ".py",
   "mimetype": "text/x-python",
   "name": "python",
   "nbconvert_exporter": "python",
   "pygments_lexer": "ipython3",
   "version": "3.9.5"
  }
 },
 "nbformat": 4,
 "nbformat_minor": 4
}
