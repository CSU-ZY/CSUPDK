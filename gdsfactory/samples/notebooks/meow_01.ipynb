{
 "cells": [
  {
   "cell_type": "markdown",
   "id": "60fcde1b",
   "metadata": {},
   "source": [
    "# EME with MEOW\n",
    "\n",
    "Some components are more efficiently modeled with Eigenmode Expansion.\n",
    "\n",
    "Gdsfactory provides a plugin for MEOW to efficiently extract component S-parameters through EME.\n",
    "\n",
    "Currently the component needs to specifically have a single \"o1\" port facing west, and a single \"o2\" port facing east, like this taper:"
   ]
  },
  {
   "cell_type": "code",
   "execution_count": null,
   "id": "590483c8",
   "metadata": {},
   "outputs": [],
   "source": [
    "import matplotlib.pyplot as plt\n",
    "from gdsfactory.simulation.eme import MEOW\n",
    "import numpy as np\n",
    "import gdsfactory as gf\n",
    "from gdsfactory.generic_tech import get_generic_pdk\n",
    "\n",
    "gf.config.rich_output()\n",
    "PDK = get_generic_pdk()\n",
    "PDK.activate()\n",
    "\n",
    "c = gf.components.taper_cross_section_sine()\n",
    "c.plot()"
   ]
  },
  {
   "cell_type": "markdown",
   "id": "0b49f0f5",
   "metadata": {},
   "source": [
    "You also need to explicitly provide a LayerStack to define cross-sections, for instance the generic one:"
   ]
  },
  {
   "cell_type": "code",
   "execution_count": null,
   "id": "eaf6f036",
   "metadata": {},
   "outputs": [],
   "source": [
    "layerstack = gf.generic_tech.LAYER_STACK\n",
    "\n",
    "filtered_layerstack = gf.technology.LayerStack(\n",
    "    layers={\n",
    "        k: layerstack.layers[k]\n",
    "        for k in (\n",
    "            \"slab90\",\n",
    "            \"core\",\n",
    "            \"box\",\n",
    "            \"clad\",\n",
    "        )\n",
    "    }\n",
    ")"
   ]
  },
  {
   "cell_type": "markdown",
   "id": "7df6ee20",
   "metadata": {},
   "source": [
    "Since you need to make sure that your entire LayerStack has e.g. material information for all present layers, it is safer to only keep the layers that you need for your simulation:"
   ]
  },
  {
   "cell_type": "markdown",
   "id": "e417e118",
   "metadata": {},
   "source": [
    "The EME simulator can be instantiated with only these two elements, alongside parameters:"
   ]
  },
  {
   "cell_type": "code",
   "execution_count": null,
   "id": "37ff2844",
   "metadata": {},
   "outputs": [],
   "source": [
    "eme = MEOW(component=c, layerstack=filtered_layerstack, wavelength=1.55)"
   ]
  },
  {
   "cell_type": "markdown",
   "id": "1a6f23fe",
   "metadata": {},
   "source": [
    "Plotting functions allow you to check your simulation:"
   ]
  },
  {
   "cell_type": "code",
   "execution_count": null,
   "id": "29a5ea03",
   "metadata": {},
   "outputs": [],
   "source": [
    "eme.plot_structure()"
   ]
  },
  {
   "cell_type": "markdown",
   "id": "99911072",
   "metadata": {},
   "source": [
    "The cross-section themselves:"
   ]
  },
  {
   "cell_type": "code",
   "execution_count": null,
   "id": "58e6dbce",
   "metadata": {},
   "outputs": [],
   "source": [
    "eme.plot_cross_section(xs_num=0)"
   ]
  },
  {
   "cell_type": "code",
   "execution_count": null,
   "id": "ff26760f",
   "metadata": {},
   "outputs": [],
   "source": [
    "eme.plot_cross_section(xs_num=-1)"
   ]
  },
  {
   "cell_type": "markdown",
   "id": "1f132b3d",
   "metadata": {},
   "source": [
    "And the modes (after calculating them):"
   ]
  },
  {
   "cell_type": "code",
   "execution_count": null,
   "id": "abdd1a6a",
   "metadata": {},
   "outputs": [],
   "source": [
    "eme.plot_mode(xs_num=0, mode_num=0)"
   ]
  },
  {
   "cell_type": "code",
   "execution_count": null,
   "id": "a7c60a46",
   "metadata": {},
   "outputs": [],
   "source": [
    "eme.plot_mode(xs_num=-1, mode_num=0)"
   ]
  },
  {
   "cell_type": "markdown",
   "id": "95c6b0a6",
   "metadata": {},
   "source": [
    "The S-parameters can be calculated, and are returned in the same format as for the FDTD solvers (the original MEOW S-parameter results S and port_names are saved as attributes):"
   ]
  },
  {
   "cell_type": "code",
   "execution_count": null,
   "id": "5f32219e",
   "metadata": {},
   "outputs": [],
   "source": [
    "sp = eme.compute_sparameters()"
   ]
  },
  {
   "cell_type": "code",
   "execution_count": null,
   "id": "7cd01112",
   "metadata": {},
   "outputs": [],
   "source": [
    "print(np.abs(sp[\"o1@0,o2@0\"]) ** 2)"
   ]
  },
  {
   "cell_type": "code",
   "execution_count": null,
   "id": "6e1430ef",
   "metadata": {},
   "outputs": [],
   "source": [
    "print(eme.port_map)\n",
    "eme.plot_Sparams()"
   ]
  },
  {
   "cell_type": "markdown",
   "id": "c8722489",
   "metadata": {},
   "source": [
    "As you can see most light stays on the fundamental TE mode"
   ]
  },
  {
   "cell_type": "markdown",
   "id": "8bb83097",
   "metadata": {},
   "source": [
    "## Sweep EME length\n",
    "\n",
    "Lets sweep the length of the taper."
   ]
  },
  {
   "cell_type": "code",
   "execution_count": null,
   "id": "127889d8",
   "metadata": {},
   "outputs": [],
   "source": [
    "layerstack = gf.generic_tech.LAYER_STACK\n",
    "\n",
    "filtered_layerstack = gf.technology.LayerStack(\n",
    "    layers={\n",
    "        k: layerstack.layers[k]\n",
    "        for k in (\n",
    "            \"slab90\",\n",
    "            \"core\",\n",
    "            \"box\",\n",
    "            \"clad\",\n",
    "        )\n",
    "    }\n",
    ")\n",
    "\n",
    "c = gf.components.taper(width2=2)\n",
    "c.plot()"
   ]
  },
  {
   "cell_type": "markdown",
   "id": "e103bbde",
   "metadata": {},
   "source": [
    "Lets do a convergence tests on the `cell_length` parameter. This depends a lot on the structure."
   ]
  },
  {
   "cell_type": "markdown",
   "id": "6b755d88",
   "metadata": {},
   "source": [
    "```python\n",
    "import matplotlib.pyplot as plt\n",
    "\n",
    "trans = []\n",
    "cells_lengths = [0.1, 0.25, 0.5, 0.75, 1]\n",
    "\n",
    "for cell_length in cells_lengths:\n",
    "    m = MEOW(\n",
    "        component=c,\n",
    "        layerstack=filtered_layerstack,\n",
    "        wavelength=1.55,\n",
    "        resolution_x=100,\n",
    "        resolution_y=100,\n",
    "        spacing_x=1,\n",
    "        spacing_y=-3,\n",
    "        num_modes=4,\n",
    "        cell_length=cell_length,\n",
    "    )\n",
    "    sp = m.compute_sparameters()\n",
    "    te0_trans = np.abs(sp[\"o1@0,o2@0\"]) ** 2\n",
    "    trans.append(te0_trans)\n",
    "\n",
    "plt.plot(cells_lengths, trans, \".-\")\n",
    "plt.title(\"10um taper, resx = resy = 100, num_modes = 4\")\n",
    "plt.xlabel(\"Cell length (um)\")\n",
    "plt.ylabel(\"TE0 transmission\")\n",
    "```\n",
    "\n",
    "![](https://i.imgur.com/70dU6fo.png)"
   ]
  },
  {
   "cell_type": "code",
   "execution_count": null,
   "id": "35bf34cd",
   "metadata": {},
   "outputs": [],
   "source": [
    "eme = MEOW(component=c, layerstack=filtered_layerstack, wavelength=1.55)"
   ]
  },
  {
   "cell_type": "code",
   "execution_count": null,
   "id": "c8c90122",
   "metadata": {},
   "outputs": [],
   "source": [
    "eme.plot_cross_section(xs_num=0)"
   ]
  },
  {
   "cell_type": "code",
   "execution_count": null,
   "id": "c5da14c6",
   "metadata": {},
   "outputs": [],
   "source": [
    "eme.plot_mode(xs_num=0, mode_num=0)"
   ]
  },
  {
   "cell_type": "code",
   "execution_count": null,
   "id": "26185eef",
   "metadata": {},
   "outputs": [],
   "source": [
    "eme.plot_cross_section(xs_num=-1)"
   ]
  },
  {
   "cell_type": "code",
   "execution_count": null,
   "id": "15bceb5f",
   "metadata": {},
   "outputs": [],
   "source": [
    "eme.plot_mode(xs_num=-1, mode_num=0)"
   ]
  },
  {
   "cell_type": "code",
   "execution_count": null,
   "id": "da676385",
   "metadata": {},
   "outputs": [],
   "source": [
    "sp = eme.compute_sparameters()"
   ]
  },
  {
   "cell_type": "code",
   "execution_count": null,
   "id": "7ae70817",
   "metadata": {},
   "outputs": [],
   "source": [
    "print(eme.port_map)\n",
    "eme.plot_Sparams()"
   ]
  },
  {
   "cell_type": "code",
   "execution_count": null,
   "id": "220c9922",
   "metadata": {},
   "outputs": [],
   "source": [
    "T = np.abs(sp[\"o1@0,o2@0\"]) ** 2\n",
    "T"
   ]
  },
  {
   "cell_type": "code",
   "execution_count": null,
   "id": "5f7aa29c",
   "metadata": {},
   "outputs": [],
   "source": [
    "np.abs(sp[\"o1@0,o2@2\"]) ** 2"
   ]
  },
  {
   "cell_type": "code",
   "execution_count": null,
   "id": "e1927bb4",
   "metadata": {},
   "outputs": [],
   "source": [
    "lengths = np.array([1, 2, 3, 5, 10, 20])\n",
    "T = np.zeros_like(lengths, dtype=float)"
   ]
  },
  {
   "cell_type": "code",
   "execution_count": null,
   "id": "3f5f082e",
   "metadata": {},
   "outputs": [],
   "source": [
    "for length in lengths:\n",
    "    c = gf.components.taper(width2=2, length=length)\n",
    "    c.plot()"
   ]
  },
  {
   "cell_type": "code",
   "execution_count": null,
   "id": "7d069e75",
   "metadata": {},
   "outputs": [],
   "source": [
    "for i, length in enumerate(lengths):\n",
    "    c = gf.components.taper(width2=10, length=length)\n",
    "    eme = MEOW(\n",
    "        component=c, layerstack=filtered_layerstack, wavelength=1.55, cell_length=float(length/20.5)\n",
    "    )\n",
    "    sp = eme.compute_sparameters()\n",
    "    T[i] = np.abs(sp[\"o1@0,o2@0\"]) ** 2"
   ]
  },
  {
   "cell_type": "code",
   "execution_count": null,
   "id": "cb1af9a8",
   "metadata": {},
   "outputs": [],
   "source": [
    "plt.plot(lengths, T, \".\")\n",
    "plt.title(\"Fundamental mode transmission\")\n",
    "plt.ylabel(\"Transmission\")\n",
    "plt.xlabel(\"taper length (um)\")"
   ]
  },
  {
   "cell_type": "code",
   "execution_count": null,
   "id": "5f7366b4",
   "metadata": {},
   "outputs": [],
   "source": [
    "T"
   ]
  }
 ],
 "metadata": {
  "jupytext": {
   "cell_metadata_filter": "-all",
   "formats": "md,ipynb",
   "main_language": "python",
   "notebook_metadata_filter": "-all"
  }
 },
 "nbformat": 4,
 "nbformat_minor": 5
}
