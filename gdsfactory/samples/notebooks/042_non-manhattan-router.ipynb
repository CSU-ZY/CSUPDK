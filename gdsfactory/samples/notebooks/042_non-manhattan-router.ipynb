{
 "cells": [
  {
   "cell_type": "markdown",
   "id": "2172a3cc",
   "metadata": {},
   "source": [
    "# Non manhattan routing\n",
    "\n",
    "gdsfactory provides functions to connect and route components ports that are off-grid or have non manhattan orientations (0, 90, 180, 270 degrees)\n",
    "\n",
    "## Fix Non manhattan connections"
   ]
  },
  {
   "cell_type": "markdown",
   "id": "c2a2b6e9",
   "metadata": {},
   "source": [
    "The GDS format often has issues with non-manhattan shapes, due to the rounding of vertices to a unit grid and to downstream tools (i.e. DRC) which often tend to assume cell references only have rotations at 90 degree intervals. For example:"
   ]
  },
  {
   "cell_type": "code",
   "execution_count": null,
   "id": "6bfd1e26",
   "metadata": {},
   "outputs": [],
   "source": [
    "from gdsfactory.decorators import has_valid_transformations\n",
    "import gdsfactory as gf\n",
    "from gdsfactory.generic_tech import get_generic_pdk\n",
    "\n",
    "gf.config.rich_output()\n",
    "PDK = get_generic_pdk()\n",
    "PDK.activate()\n",
    "\n",
    "\n",
    "@gf.cell\n",
    "def demo_non_manhattan():\n",
    "    c = gf.Component(\"bend\")\n",
    "    b = c << gf.components.bend_circular(angle=30)\n",
    "    s = c << gf.components.straight(length=5)\n",
    "    s.connect(\"o1\", b.ports[\"o2\"])\n",
    "    return c\n",
    "\n",
    "\n",
    "c1 = demo_non_manhattan()\n",
    "print(has_valid_transformations(c1))\n",
    "c1"
   ]
  },
  {
   "cell_type": "markdown",
   "id": "f1094f09",
   "metadata": {},
   "source": [
    "if you zoom in between the bends you will see a notch between waveguides due to non-manhattan connection between the bends.\n",
    "\n",
    "![gap](https://i.imgur.com/jBEwy9T.png)\n",
    "\n",
    "You an fix it with the `flatten_invalid_refs` flag when you call `Component.write_gds()`."
   ]
  },
  {
   "cell_type": "code",
   "execution_count": null,
   "id": "5a2b7270",
   "metadata": {},
   "outputs": [],
   "source": [
    "help(c1.write_gds)"
   ]
  },
  {
   "cell_type": "code",
   "execution_count": null,
   "id": "dd93f6a5",
   "metadata": {},
   "outputs": [],
   "source": [
    "gdspath = c1.write_gds(flatten_invalid_refs=True)\n",
    "c2 = gf.import_gds(gdspath)\n",
    "has_valid_transformations(c1)  # has gap issues"
   ]
  },
  {
   "cell_type": "code",
   "execution_count": null,
   "id": "78de972b",
   "metadata": {},
   "outputs": [],
   "source": [
    "has_valid_transformations(c2)  # works perfect"
   ]
  },
  {
   "cell_type": "markdown",
   "id": "43b59216",
   "metadata": {},
   "source": [
    "If you zoom in the connection the decorator you can see it fixed the issue in `c` that we fixed in `c2` thanks to the `flatten_invalid_refs` flag.\n",
    "\n",
    "![no gap](https://i.imgur.com/VbSgIjP.png)"
   ]
  },
  {
   "cell_type": "markdown",
   "id": "c72218e2",
   "metadata": {},
   "source": [
    "### Default PDK `GdsWriteSettings`\n",
    "If you are frequently (or even sometimes!) creating geometries like this, with non-manhattan ports and/or references with non-90-degree rotations, I highly recommend that you set `flatten_invalid_refs=True` in your PDK's `GdsWriteSettings`. If you are the PDK author, you can do this in the definition of the pdk. Or, you can modify the PDK at runtime like."
   ]
  },
  {
   "cell_type": "code",
   "execution_count": null,
   "id": "26338e08",
   "metadata": {
    "lines_to_next_cell": 2
   },
   "outputs": [],
   "source": [
    "pdk = gf.get_active_pdk()\n",
    "pdk.gds_write_settings.flatten_invalid_refs = True"
   ]
  },
  {
   "cell_type": "markdown",
   "id": "cef7f526",
   "metadata": {},
   "source": [
    "With this flag set, invalid references will be flattened by default, preventing gaps and errors in downstream tools which may not support cell references with arbitrary rotation, without needing to specify this on each GDS write.\n",
    "\n",
    "You should note, however, that this will *not* fix all gaps between faces of unequal length, as it is *impossible* to guarantee this for diagonal line segments of unequal lengths constrained to end on integer grid values."
   ]
  },
  {
   "cell_type": "markdown",
   "id": "97b1ea5d",
   "metadata": {},
   "source": [
    "## Avoid Non manhattan connections\n",
    "\n",
    "### Extrude at the end (ideal)\n",
    "\n",
    "Some connections are hard to fix due to the ports of the bends being slightly off-center.\n",
    "\n",
    "For that the best is to concatenate the path first and then extrude last.\n"
   ]
  },
  {
   "cell_type": "code",
   "execution_count": null,
   "id": "ffef7706",
   "metadata": {},
   "outputs": [],
   "source": [
    "@gf.cell\n",
    "def demo_non_manhattan_extrude_fix():\n",
    "    c = gf.Component(\"bend\")\n",
    "    p1 = gf.path.arc(angle=30)\n",
    "    p2 = gf.path.straight(length=5)\n",
    "    p = p1 + p2\n",
    "    c = p.extrude(cross_section=\"strip\")\n",
    "    return c\n",
    "\n",
    "\n",
    "c1 = demo_non_manhattan_extrude_fix()\n",
    "c1"
   ]
  },
  {
   "cell_type": "markdown",
   "id": "fb585db3",
   "metadata": {},
   "source": [
    "### Fix polygons\n",
    "\n",
    "You can also fix polygons by merge"
   ]
  },
  {
   "cell_type": "code",
   "execution_count": null,
   "id": "66d3c502",
   "metadata": {},
   "outputs": [],
   "source": [
    "import gdsfactory as gf\n",
    "\n",
    "c = gf.Component(\"bend\")\n",
    "b = c << gf.components.bend_circular(angle=30)\n",
    "s = c << gf.components.straight(length=5)\n",
    "s.connect(\"o1\", b.ports[\"o2\"])\n",
    "p = c.get_polygons(as_shapely_merged=True)\n",
    "c2 = gf.Component(\"bend_fixed\")\n",
    "c2.add_polygon(p, layer=(1, 0))\n",
    "c2"
   ]
  },
  {
   "cell_type": "code",
   "execution_count": null,
   "id": "41600a38",
   "metadata": {},
   "outputs": [],
   "source": [
    "import gdsfactory as gf\n",
    "\n",
    "c = gf.Component(\"bend\")\n",
    "b = c << gf.components.bend_circular(angle=30)\n",
    "s = c << gf.components.straight(length=5)\n",
    "s.connect(\"o1\", b.ports[\"o2\"])\n",
    "p_shapely = c.get_polygons(as_shapely_merged=True)\n",
    "p = gf.Polygon.from_shapely(p_shapely, layer=(1, 0))\n",
    "p = p.snap(nm=5)\n",
    "c2 = gf.Component(\"bend_fixed\")\n",
    "c2.add_polygon(p, layer=(1, 0))\n",
    "c2"
   ]
  },
  {
   "cell_type": "code",
   "execution_count": null,
   "id": "aa29f75b",
   "metadata": {},
   "outputs": [],
   "source": [
    "p_shapely"
   ]
  },
  {
   "cell_type": "code",
   "execution_count": null,
   "id": "161602d5",
   "metadata": {},
   "outputs": [],
   "source": [
    "@gf.cell\n",
    "def demo_non_manhattan_merge_polygons():\n",
    "    c = gf.Component(\"bend\")\n",
    "    b = c << gf.components.bend_circular(angle=30)\n",
    "    s = c << gf.components.straight(length=5)\n",
    "    s.connect(\"o1\", b.ports[\"o2\"])\n",
    "    p = c.get_polygons(as_shapely_merged=True)\n",
    "    p = gf.Polygon.from_shapely(polygon=p, layer=(1, 0))\n",
    "    p.simplify(tolerance=0.1)\n",
    "\n",
    "    c2 = gf.Component()\n",
    "    p3 = c2.add_polygon(p)\n",
    "    c2.add_port(\"o1\", port=b[\"o1\"])\n",
    "    c2.add_port(\"o2\", port=s[\"o2\"])\n",
    "    return c2\n",
    "\n",
    "\n",
    "c1 = demo_non_manhattan_merge_polygons(cache=False)\n",
    "c1"
   ]
  },
  {
   "cell_type": "markdown",
   "id": "5666cf0f",
   "metadata": {},
   "source": [
    "## Non-manhattan router\n",
    "<div class=\"alert alert-block alert-warning\">\n",
    "<b>Warning:</b> It is highly advised that you follow the above instructions and set your PDK to <b>flatten invalid refs on GDS write by default</b> if you intend to use the non-manhattan router.\n",
    "</div>\n",
    "\n",
    "The non-manhattan (all-angle) router allows you to route between ports and in directions which are not aligned with the x and y axes, which is the constraint of most other gdsfactory routers. Unlike phidl's `smooth()` however, the all-angle router\n",
    "\n",
    "- has a `steps` based syntax, fully compatible with the yaml-based circuit flow\n",
    "- builds paths from available PDK components, such that routes can be simulated naturally by S-matrix-based circuit modeling tools, like SAX\n",
    "- allows for advanced logic in selecting appropriate bends, cross-sections, and automatic tapers, based on context\n",
    "- includes advanced cross-section-aware bundling logic\n",
    "\n",
    "### A simple route\n",
    "Let's start with a simple route between two non-orthogonal ports.\n",
    "Consider the yaml-based pic below."
   ]
  },
  {
   "cell_type": "code",
   "execution_count": null,
   "id": "035620d7",
   "metadata": {},
   "outputs": [],
   "source": [
    "from gdsfactory.read import cell_from_yaml_template\n",
    "from IPython.display import Code\n",
    "from pathlib import Path\n",
    "from IPython.display import display\n",
    "\n",
    "\n",
    "def show_yaml_pic(filepath):\n",
    "    gf.clear_cache()\n",
    "    cell_name = filepath.stem\n",
    "    return display(\n",
    "        Code(filename=filepath, language=\"yaml+jinja\"),\n",
    "        cell_from_yaml_template(filepath, name=cell_name)(),\n",
    "    )\n",
    "\n",
    "\n",
    "# we're going to use yaml-based PICs for our examples. you can find them in docs/notebooks/yaml_pics\n",
    "# if you'd like to tweak and play along\n",
    "sample_dir = Path(\"yaml_pics\")\n",
    "\n",
    "basic_sample_fn = sample_dir / \"aar_simple.pic.yml\"\n",
    "show_yaml_pic(basic_sample_fn)"
   ]
  },
  {
   "cell_type": "markdown",
   "id": "bc3170ff",
   "metadata": {},
   "source": [
    "You can see that even though one of the ports was non-orthogonal, the route was completed, using non-90-degree bends. The logic of how this works is explained further in the next section"
   ]
  },
  {
   "cell_type": "markdown",
   "id": "0d22eff3",
   "metadata": {},
   "source": [
    "### Bends and connectors\n",
    "Let's first consider the \"simple\" case, as shown above, where the vectors of the two ports to route between intersect at a point. The logic for how to build the route is as follows:\n",
    "\n",
    "1. Find the intersection point of the two port vectors.\n",
    "2. Place the bend at the intersection point of the two vectors by its \"handle\". The bend's handle is the point of intersetion of it's inverted port vectors (i.e. if the ports were pointed inwards rather than outwards). For any arbitrary bend, this guarantees that the ports of the bend will be in the straight line of sight of the ports which they should connect to, inset by some amount.\n",
    "3. Call the route or segment's specified connector function to generate a straight section between the bend's ports and their adjacent ports.\n",
    "\n",
    "Now, this is where it gets fun. Since we've calculated our bend first and worked backwards, we know how much room we have for the straight connector, and we can take that into consideration when creating it.\n",
    "\n",
    "The three connectors available by default are\n",
    "\n",
    "- `low_loss`: auto-tapers to the lowest-loss cross-section possible to fit in the given segment\n",
    "- `auto_taper`: auto-tapers to the cross-section specified, based on the active pdk's specified `layer_transitions`\n",
    "- `simple`: simply routes with a straight in the cross-section specified (no auto-tapering)\n",
    "\n",
    "You can also define your own connector, as a function of the two ports which should be connected and the (suggested) cross-section. See the example below, which implements a very custom connector, composed of two sine bends and a physical label."
   ]
  },
  {
   "cell_type": "code",
   "execution_count": null,
   "id": "9e8e5761",
   "metadata": {},
   "outputs": [],
   "source": [
    "import gdsfactory.routing.all_angle as aar\n",
    "import numpy as np\n",
    "\n",
    "\n",
    "def wonky_connector(port1, port2, cross_section):\n",
    "    # let's make a wavy-looking connector of two sine tapers, each half the length of the total connector\n",
    "    # we'll let cross_section define the cross-section at the *center* of the connector here\n",
    "    connector_length = np.linalg.norm(port2.center - port1.center)\n",
    "    t1 = (\n",
    "        gf.components.taper_cross_section_sine(\n",
    "            length=0.5 * connector_length,\n",
    "            cross_section1=port1.cross_section,\n",
    "            cross_section2=cross_section,\n",
    "        )\n",
    "        .ref()\n",
    "        .connect(\"o1\", port1)\n",
    "    )\n",
    "    t1.info[\"length\"] = connector_length * 0.5\n",
    "    t2 = (\n",
    "        gf.components.taper_cross_section_sine(\n",
    "            length=0.5 * connector_length,\n",
    "            cross_section1=port2.cross_section,\n",
    "            cross_section2=cross_section,\n",
    "        )\n",
    "        .ref()\n",
    "        .connect(\"o1\", port2)\n",
    "    )\n",
    "    t2.info[\"length\"] = connector_length * 0.5\n",
    "    center_port = t1.ports[\"o2\"]\n",
    "    # just for fun-- we can add a non-functional reference also\n",
    "    label = gf.components.text(\n",
    "        f\"W = {center_port.width}, L = {connector_length:.3f}\",\n",
    "        size=center_port.width * 0.5,\n",
    "        justify=\"center\",\n",
    "        layer=\"M1\",\n",
    "    ).ref()\n",
    "    label.move(\n",
    "        label.center, destination=center_port.center + (0, center_port.width)\n",
    "    ).rotate(center_port.orientation, center=center_port.center)\n",
    "    label.info[\"length\"] = 0\n",
    "    return [t1, t2, label]\n",
    "\n",
    "\n",
    "# register the connector so it can be used by name\n",
    "aar.CONNECTORS[\"wonky\"] = wonky_connector\n",
    "\n",
    "wonky_fn = sample_dir / \"aar_wonky_connector.pic.yml\"\n",
    "show_yaml_pic(wonky_fn)"
   ]
  },
  {
   "cell_type": "markdown",
   "id": "e35c575d",
   "metadata": {},
   "source": [
    "### Indirect routes\n",
    "Indirect routes are those in which the port vectors do not intersect. In this case, you will see that an S-like bend is created."
   ]
  },
  {
   "cell_type": "code",
   "execution_count": null,
   "id": "5d9aa0a8",
   "metadata": {},
   "outputs": [],
   "source": [
    "indirect_fn = sample_dir / \"aar_indirect.pic.yml\"\n",
    "show_yaml_pic(indirect_fn)"
   ]
  },
  {
   "cell_type": "markdown",
   "id": "59cd4f06",
   "metadata": {},
   "source": [
    "This is also capable of looping around, i.e. for ~180 degree connections."
   ]
  },
  {
   "cell_type": "code",
   "execution_count": null,
   "id": "5e3a47fa",
   "metadata": {},
   "outputs": [],
   "source": [
    "show_yaml_pic(sample_dir / \"aar_around_the_back.pic.yml\")"
   ]
  },
  {
   "cell_type": "markdown",
   "id": "c5d25468",
   "metadata": {},
   "source": [
    "We can fine-tune how this looks by adjusting the `start_angle` and `end_angle` of the route, which will abut a bend to the start/end ports such that they exit at the angle specified."
   ]
  },
  {
   "cell_type": "code",
   "execution_count": null,
   "id": "198be729",
   "metadata": {},
   "outputs": [],
   "source": [
    "show_yaml_pic(sample_dir / \"aar_around_the_back2.pic.yml\")"
   ]
  },
  {
   "cell_type": "markdown",
   "id": "14170a55",
   "metadata": {},
   "source": [
    "You may also want to further customize the bend used in the route, as shown below."
   ]
  },
  {
   "cell_type": "code",
   "execution_count": null,
   "id": "ca731644",
   "metadata": {},
   "outputs": [],
   "source": [
    "show_yaml_pic(sample_dir / \"aar_around_the_back3.pic.yml\")"
   ]
  },
  {
   "cell_type": "markdown",
   "id": "b4035ca2",
   "metadata": {},
   "source": [
    "### Steps\n",
    "For more complex routes, i.e. when weaving around obstacles, you may want to fine-tune the path that the route traverses. We can do this by defining `steps`."
   ]
  },
  {
   "cell_type": "code",
   "execution_count": null,
   "id": "29e81889",
   "metadata": {},
   "outputs": [],
   "source": [
    "show_yaml_pic(sample_dir / \"aar_steps01.pic.yml\")"
   ]
  },
  {
   "cell_type": "markdown",
   "id": "ded09668",
   "metadata": {},
   "source": [
    "There are many different parameters you can put in the step directives. To make a complex route like this, a great way is to first sketch it out with the klayout ruler, then convert it to a set of `ds` and `exit_angle` step directives. Combine this with `gf watch` for live file-watching, and you can quickly iterate to achieve your desired route.\n",
    "\n",
    "\n",
    "For example, consider the following circuit. Let's start with the same two MMIs and obstacle as in the previous example."
   ]
  },
  {
   "cell_type": "code",
   "execution_count": null,
   "id": "2fd4c44e",
   "metadata": {},
   "outputs": [],
   "source": [
    "show_yaml_pic(sample_dir / \"aar_steps02_initial.pic.yml\")"
   ]
  },
  {
   "cell_type": "markdown",
   "id": "ea6d8575",
   "metadata": {},
   "source": [
    "Then, translate the steps you took with the ruler into a set of steps directives."
   ]
  },
  {
   "cell_type": "code",
   "execution_count": null,
   "id": "3e605e83",
   "metadata": {},
   "outputs": [],
   "source": [
    "show_yaml_pic(sample_dir / \"aar_steps02_final.pic.yml\")"
   ]
  },
  {
   "cell_type": "markdown",
   "id": "a8e6de52",
   "metadata": {},
   "source": [
    "Perfect! Just like we sketched it!\n",
    "\n",
    "You can also start to customize cross-sections and connectors of individual segments, as shown below."
   ]
  },
  {
   "cell_type": "code",
   "execution_count": null,
   "id": "cf287e30",
   "metadata": {},
   "outputs": [],
   "source": [
    "show_yaml_pic(sample_dir / \"aar_steps03.pic.yml\")"
   ]
  },
  {
   "cell_type": "markdown",
   "id": "78014167",
   "metadata": {},
   "source": [
    "### Bundles\n",
    "You can also create all-angle bundles."
   ]
  },
  {
   "cell_type": "code",
   "execution_count": null,
   "id": "144973c3",
   "metadata": {},
   "outputs": [],
   "source": [
    "show_yaml_pic(sample_dir / \"aar_bundles01.pic.yml\")"
   ]
  },
  {
   "cell_type": "markdown",
   "id": "69463ed8",
   "metadata": {},
   "source": [
    "In addition to the parameters that can be customized for each step of a *single* route, *bundles* also let you customize the separation value step-by-step. For example, let's space out the routes of that top, horizontal segment of the bundle."
   ]
  },
  {
   "cell_type": "code",
   "execution_count": null,
   "id": "a15a98b5",
   "metadata": {},
   "outputs": [],
   "source": [
    "show_yaml_pic(sample_dir / \"aar_bundles02.pic.yml\")"
   ]
  },
  {
   "cell_type": "code",
   "execution_count": null,
   "id": "ad8ef7f4",
   "metadata": {},
   "outputs": [],
   "source": [
    "%%html\n",
    "<style>\n",
    "  table {margin-left: 0 !important;}\n",
    "</style>"
   ]
  },
  {
   "cell_type": "markdown",
   "id": "eaedf905",
   "metadata": {},
   "source": [
    "### Summary of available parameters\n",
    "We went through many examples above. Here is a quick recap of the parameters we used for the all-angle router.\n",
    "\n",
    "#### Top-level settings\n",
    "These settings can be used in the bundle's top-level `settings` block and will be applied to the whole bundle, unless overridden by an individual segment.\n",
    "\n",
    "| Name | Function |\n",
    "| :-- | :-- |\n",
    "| start_angle | Defines the starting angle of the route (attaches a bend to the starting port to exit at that angle) |\n",
    "| end_angle | Defines the angle leaving the end port of the route (attaches a bend to the end port to exit at that angle) |\n",
    "| bend | The default component to use for the bends |\n",
    "| cross_section | This cross-section will be passed to the bends and the straight connectors. However, these functions can use this information as they like (i.e. an auto-taper connector will attempt to taper to the cross-section but a low-loss connector may ignore it |\n",
    "| end_connector | Specifies the connector to use for the final straight segment of the route |\n",
    "| end_cross_section| Specifies the cross-section to use for the final straight segment of the route |\n",
    "| separation | (bundle only) Specifies the separation between adjacent routes. If `None`, it will query each segment's cross-section for the appropriate default value |\n",
    "| steps | A set of directives for custom routing. This is expected to be a list of dictionaries with parameters per step as defined below |\n",
    "\n",
    "#### Step directives\n",
    "These settings can be defined within individual steps to control the direction of each step.\n",
    "\n",
    "Please note that an error will be thrown if a step is overconstrained. For example, `x` and `y` can be defined together in a single step *only if* `exit_angle` is not defined in the previous step. If `exit_angle` is defined (or angle is otherwise constrained by the port before it), you can only define *one* of x, y, ds, dx, or dy.\n",
    "\n",
    "| Name | Function |\n",
    "| :-- | :-- |\n",
    "| x | Route to the given x coordinate (absolute) |\n",
    "| y | Route to the given y coordinate (absolute) |\n",
    "| ds | Proceed in the current orientation by this distance |\n",
    "| dx | The x-component of distance traveled should be this value |\n",
    "| dy | The y-component of distance traveled should be this value |\n",
    "| exit_angle | After this segment, place a bend to exit with this angle (degrees) |\n",
    "\n",
    "#### Step customizations\n",
    "These settings can also be set on individual steps to customize the route in that segment.\n",
    "\n",
    "| Name | Function |\n",
    "| :-- | :-- |\n",
    "| cross_section | Use this cross-section for this segment. Will fall back to an auto-taper connector by default if this is specified alone, without `connector`.\n",
    "| connector | Use this connector for this segment |\n",
    "| separation | (bundles only) The separation to use between routes of this segment |"
   ]
  },
  {
   "cell_type": "markdown",
   "id": "162aac98",
   "metadata": {},
   "source": [
    "### Python-based examples\n",
    "Most of the above examples were done in yaml syntax. Here are some additional examples creating the routes in pure python."
   ]
  },
  {
   "cell_type": "code",
   "execution_count": null,
   "id": "afdb7705",
   "metadata": {},
   "outputs": [],
   "source": [
    "import gdsfactory as gf\n",
    "\n",
    "c = gf.Component(\"demo\")\n",
    "\n",
    "mmi = gf.components.mmi2x2(width_mmi=10, gap_mmi=3)\n",
    "mmi1 = c << mmi\n",
    "mmi2 = c << mmi\n",
    "\n",
    "mmi2.move((100, 10))\n",
    "mmi2.rotate(30)\n",
    "\n",
    "routes = gf.routing.get_bundle_all_angle(\n",
    "    mmi1.get_ports_list(orientation=0),\n",
    "    [mmi2.ports[\"o2\"], mmi2.ports[\"o1\"]],\n",
    "    connector=None,\n",
    ")\n",
    "for route in routes:\n",
    "    c.add(route.references)\n",
    "c.plot()"
   ]
  },
  {
   "cell_type": "code",
   "execution_count": null,
   "id": "97c6ae6d",
   "metadata": {},
   "outputs": [],
   "source": [
    "c = gf.Component(\"demo\")\n",
    "\n",
    "mmi = gf.components.mmi2x2(width_mmi=10, gap_mmi=3)\n",
    "mmi1 = c << mmi\n",
    "mmi2 = c << mmi\n",
    "\n",
    "mmi2.move((100, 10))\n",
    "mmi2.rotate(30)\n",
    "\n",
    "routes = gf.routing.get_bundle_all_angle(\n",
    "    mmi1.get_ports_list(orientation=0),\n",
    "    [mmi2.ports[\"o2\"], mmi2.ports[\"o1\"]],\n",
    "    connector=\"low_loss\",\n",
    ")\n",
    "for route in routes:\n",
    "    c.add(route.references)\n",
    "c.plot()"
   ]
  },
  {
   "cell_type": "code",
   "execution_count": null,
   "id": "9feec31a",
   "metadata": {},
   "outputs": [],
   "source": [
    "import gdsfactory as gf\n",
    "from gdsfactory.routing.all_angle import get_bundle_all_angle\n",
    "\n",
    "NUM_WIRES = 10\n",
    "\n",
    "\n",
    "@gf.cell\n",
    "def inner_array():\n",
    "    c = gf.Component()\n",
    "    base = gf.components.straight(cross_section=gf.cross_section.strip).rotate(45)\n",
    "    for x in range(10):\n",
    "        for y in range(6):\n",
    "            base_ref = c.add_ref(base).move((x * 20 - 90, y * 20 - 50))\n",
    "            c.add_port(f\"inner_{x}_{y}\", port=base_ref.ports[\"o1\"])\n",
    "    return c\n",
    "\n",
    "\n",
    "@gf.cell\n",
    "def outer_array():\n",
    "    c = gf.Component()\n",
    "    base = gf.components.straight(cross_section=gf.cross_section.strip)\n",
    "    for idx, theta in enumerate(range(0, 360, 6)):\n",
    "        base_ref = c.add_ref(base).move((300, 0)).rotate(theta)\n",
    "        c.add_port(f\"outer_{idx}\", port=base_ref.ports[\"o1\"])\n",
    "    return c\n",
    "\n",
    "\n",
    "@gf.cell\n",
    "def chip():\n",
    "    c = gf.Component()\n",
    "    inner = c << inner_array()\n",
    "    outer = c << outer_array()\n",
    "    inner_ports = inner.get_ports_list()\n",
    "    outer_ports = outer.get_ports_list()\n",
    "    for n_route in range(NUM_WIRES):\n",
    "        routes = get_bundle_all_angle(\n",
    "            ports1=[inner_ports[n_route]],\n",
    "            ports2=[outer_ports[n_route]],\n",
    "            cross_section=gf.cross_section.strip,\n",
    "            bend=gf.components.bend_euler,\n",
    "            start_angle=-40,\n",
    "            steps=[\n",
    "                {\"ds\": (NUM_WIRES - n_route) * 20},\n",
    "            ],\n",
    "        )\n",
    "        for route in routes:\n",
    "            c.add(route.references)\n",
    "    return c\n",
    "\n",
    "\n",
    "gf.get_active_pdk().register_cross_sections(strip=gf.cross_section.strip)\n",
    "c = chip()\n",
    "c.plot()"
   ]
  }
 ],
 "metadata": {
  "jupytext": {
   "cell_metadata_filter": "-all",
   "formats": "md,ipynb",
   "main_language": "python",
   "notebook_metadata_filter": "-all"
  }
 },
 "nbformat": 4,
 "nbformat_minor": 5
}
