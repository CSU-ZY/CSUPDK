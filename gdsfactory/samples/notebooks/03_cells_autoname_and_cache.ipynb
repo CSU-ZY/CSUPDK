{
 "cells": [
  {
   "cell_type": "markdown",
   "id": "fd6d2c72",
   "metadata": {},
   "source": [
    "# Cell\n",
    "\n",
    "A cell is a function that returns a Component.\n",
    "\n",
    "Make sure you add the `@cell` decorator to each function that returns a Component.\n",
    "\n",
    "`@cell` comes from PCell `parametric cell`, where the function returns a different Component depending on the input parameters.\n",
    "\n",
    "Why do we need cells?\n",
    "\n",
    "- In GDS each component must have a unique name. Ideally the name is also consistent from run to run, in case you want to merge GDS files that were created at different times or computers.\n",
    "- Two components stored in the GDS file cannot have the same name. They need to be references (instances) of the same component. See `References tutorial`. That way we only have to store the component in memory once and all the references are just pointers to that component.\n",
    "\n",
    "What does the `@cell` decorator does?\n",
    "\n",
    "1. Gives the component a unique name depending on the parameters that you pass to it.\n",
    "2. Creates a cache of components where we use the name as the key. The first time the function runs, the cache stores the component, so the second time, you get the component directly from the cache, so you don't create the same component twice.\n",
    "\n",
    "\n",
    "A decorator is a function that runs over a function, so when you do.\n",
    "\n",
    "```python\n",
    "@gf.cell\n",
    "def mzi_with_bend():\n",
    "    c = gf.Component()\n",
    "    mzi = c << gf.components.mzi()\n",
    "    bend = c << gf.components.bend_euler()\n",
    "    return c\n",
    "```\n",
    "it's equivalent to\n",
    "\n",
    "```python\n",
    "def mzi_with_bend():\n",
    "    c = gf.Component()\n",
    "    mzi = c << gf.components.mzi()\n",
    "    bend = c << gf.components.bend_euler(radius=radius)\n",
    "    return c\n",
    "\n",
    "\n",
    "mzi_with_bend_decorated = gf.cell(mzi_with_bend)\n",
    "```\n",
    "\n",
    "Lets see how it works."
   ]
  },
  {
   "cell_type": "code",
   "execution_count": null,
   "id": "0892b476",
   "metadata": {},
   "outputs": [],
   "source": [
    "from gdsfactory.cell import print_cache\n",
    "import gdsfactory as gf\n",
    "\n",
    "gf.config.rich_output()\n",
    "\n",
    "PDK = gf.get_generic_pdk()\n",
    "PDK.activate()\n",
    "\n",
    "\n",
    "def mzi_with_bend(radius: float = 10.0) -> gf.Component:\n",
    "    c = gf.Component(\"Unnamed_cells_can_cause_issues\")\n",
    "    mzi = c << gf.components.mzi()\n",
    "    bend = c << gf.components.bend_euler(radius=radius)\n",
    "    bend.connect(\"o1\", mzi.ports[\"o2\"])\n",
    "    return c\n",
    "\n",
    "\n",
    "c = mzi_with_bend()\n",
    "print(f\"this cell {c.name!r} does NOT get automatic name\")\n",
    "c.plot()"
   ]
  },
  {
   "cell_type": "code",
   "execution_count": null,
   "id": "50ba6a73",
   "metadata": {},
   "outputs": [],
   "source": [
    "mzi_with_bend_decorated = gf.cell(mzi_with_bend)\n",
    "c = mzi_with_bend_decorated(radius=10)\n",
    "print(f\"this cell {c.name!r} gets automatic name thanks to the `cell` decorator\")\n",
    "c.plot()"
   ]
  },
  {
   "cell_type": "code",
   "execution_count": null,
   "id": "435c954f",
   "metadata": {
    "lines_to_next_cell": 2
   },
   "outputs": [],
   "source": [
    "@gf.cell\n",
    "def mzi_with_bend(radius: float = 10.0) -> gf.Component:\n",
    "    c = gf.Component()\n",
    "    mzi = c << gf.components.mzi()\n",
    "    bend = c << gf.components.bend_euler(radius=radius)\n",
    "    bend.connect(\"o1\", mzi.ports[\"o2\"])\n",
    "    return c\n",
    "\n",
    "\n",
    "print(f\"this cell {c.name!r} gets automatic name thanks to the `cell` decorator\")\n",
    "c.plot()"
   ]
  },
  {
   "cell_type": "code",
   "execution_count": null,
   "id": "cc4be56f",
   "metadata": {},
   "outputs": [],
   "source": [
    "@gf.cell\n",
    "def wg(length=10, width=1, layer=(1, 0)):\n",
    "    print(\"BUILDING waveguide\")\n",
    "    c = gf.Component()\n",
    "    c.add_polygon([(0, 0), (length, 0), (length, width), (0, width)], layer=layer)\n",
    "    c.add_port(\n",
    "        name=\"o1\", center=[0, width / 2], width=width, orientation=180, layer=layer\n",
    "    )\n",
    "    c.add_port(\n",
    "        name=\"o2\", center=[length, width / 2], width=width, orientation=0, layer=layer\n",
    "    )\n",
    "    return c"
   ]
  },
  {
   "cell_type": "markdown",
   "id": "370a937a",
   "metadata": {},
   "source": [
    "See how the cells get the name from the parameters that you pass them"
   ]
  },
  {
   "cell_type": "code",
   "execution_count": null,
   "id": "439ca68b",
   "metadata": {},
   "outputs": [],
   "source": [
    "c = wg()\n",
    "print(c)\n",
    "\n",
    "print(\"second time you get this cell from the cache\")\n",
    "c = wg()\n",
    "print(c)\n",
    "\n",
    "print(\"If you call the cell with different parameters, the cell gets a different name\")\n",
    "c = wg(width=0.5)\n",
    "print(c)"
   ]
  },
  {
   "cell_type": "markdown",
   "id": "5e896e0f",
   "metadata": {},
   "source": [
    "Sometimes when you are changing the inside code of the function, you need to use `cache=False` to **ignore** the cache."
   ]
  },
  {
   "cell_type": "code",
   "execution_count": null,
   "id": "980abe7e",
   "metadata": {},
   "outputs": [],
   "source": [
    "c = wg(cache=False)"
   ]
  },
  {
   "cell_type": "markdown",
   "id": "f055e779",
   "metadata": {},
   "source": [
    "## Metadata\n",
    "\n",
    "Together with the GDS file that you send to the foundry you can also store metadata in YAML for each cell containing all the settings that we used to build the GDS.\n",
    "\n",
    "the metadata will consists of all the parameters that were passed to the component function as well as derived properties\n",
    "\n",
    "- settings: includes all component metadata:\n",
    "    - changed: changed settings.\n",
    "    - child: child settings.\n",
    "    - default: includes the default cell function settings.\n",
    "    - full: full settings.\n",
    "    - function_name: from the cell function.\n",
    "    - info: metadata in Component.info dict.\n",
    "    - module: python module where you can find the cell function.\n",
    "    - name: for the component\n",
    "- ports: port name, width, orientation"
   ]
  },
  {
   "cell_type": "code",
   "execution_count": null,
   "id": "06899f07",
   "metadata": {},
   "outputs": [],
   "source": [
    "c = wg()"
   ]
  },
  {
   "cell_type": "code",
   "execution_count": null,
   "id": "17199c14",
   "metadata": {},
   "outputs": [],
   "source": [
    "c.metadata[\"changed\"]"
   ]
  },
  {
   "cell_type": "code",
   "execution_count": null,
   "id": "284e65f9",
   "metadata": {},
   "outputs": [],
   "source": [
    "c.metadata[\"default\"]"
   ]
  },
  {
   "cell_type": "code",
   "execution_count": null,
   "id": "3e4ac062",
   "metadata": {},
   "outputs": [],
   "source": [
    "c.metadata[\"full\"]"
   ]
  },
  {
   "cell_type": "code",
   "execution_count": null,
   "id": "8c44ffa3",
   "metadata": {},
   "outputs": [],
   "source": [
    "c.pprint()"
   ]
  },
  {
   "cell_type": "markdown",
   "id": "9f34f8a0",
   "metadata": {},
   "source": [
    "thanks to `gf.cell` you can also add any metadata `info` relevant to the cell"
   ]
  },
  {
   "cell_type": "code",
   "execution_count": null,
   "id": "801d9333",
   "metadata": {},
   "outputs": [],
   "source": [
    "c = wg(length=3, info=dict(polarization=\"te\", wavelength=1.55))"
   ]
  },
  {
   "cell_type": "code",
   "execution_count": null,
   "id": "dfc78a93",
   "metadata": {},
   "outputs": [],
   "source": [
    "c.pprint()"
   ]
  },
  {
   "cell_type": "code",
   "execution_count": null,
   "id": "d0d31aee",
   "metadata": {},
   "outputs": [],
   "source": [
    "print(c.metadata[\"info\"][\"wavelength\"])"
   ]
  },
  {
   "cell_type": "markdown",
   "id": "18392a22",
   "metadata": {},
   "source": [
    "## Cache\n",
    "\n",
    "To avoid that 2 exact cells are not references of the same cell the `cell` decorator has a\n",
    "cache where if a component has already been built it will return the component\n",
    "from the cache\n"
   ]
  },
  {
   "cell_type": "code",
   "execution_count": null,
   "id": "7e2ca327",
   "metadata": {},
   "outputs": [],
   "source": [
    "@gf.cell\n",
    "def wg(length=10, width=1):\n",
    "    c = gf.Component()\n",
    "    c.add_polygon([(0, 0), (length, 0), (length, width), (0, width)], layer=(1, 0))\n",
    "    print(\"BUILDING waveguide\")\n",
    "    return c"
   ]
  },
  {
   "cell_type": "code",
   "execution_count": null,
   "id": "8ff4894b",
   "metadata": {},
   "outputs": [],
   "source": [
    "gf.clear_cache()\n",
    "\n",
    "wg1 = wg()  # cell builds a straight\n",
    "print(wg1)"
   ]
  },
  {
   "cell_type": "code",
   "execution_count": null,
   "id": "181e9950",
   "metadata": {},
   "outputs": [],
   "source": [
    "wg2 = wg()\n",
    "# cell returns the same straight as before without having to run the function\n",
    "print(wg2)  # notice that they have the same uuid (unique identifier)"
   ]
  },
  {
   "cell_type": "code",
   "execution_count": null,
   "id": "701fd332",
   "metadata": {},
   "outputs": [],
   "source": [
    "wg2"
   ]
  },
  {
   "cell_type": "markdown",
   "id": "9783fb39",
   "metadata": {},
   "source": [
    "Lets say that you change the code of the straight function in a Jupyter Notebook like this one.  (I mostly use Vim/VsCode/Pycharm for creating new cells in python)"
   ]
  },
  {
   "cell_type": "code",
   "execution_count": null,
   "id": "d0ec35b3",
   "metadata": {},
   "outputs": [],
   "source": [
    "print_cache()"
   ]
  },
  {
   "cell_type": "code",
   "execution_count": null,
   "id": "dfe24c49",
   "metadata": {},
   "outputs": [],
   "source": [
    "wg3 = wg()\n",
    "wg4 = wg(length=11)"
   ]
  },
  {
   "cell_type": "code",
   "execution_count": null,
   "id": "082a11aa",
   "metadata": {},
   "outputs": [],
   "source": [
    "print_cache()"
   ]
  },
  {
   "cell_type": "code",
   "execution_count": null,
   "id": "3f373853",
   "metadata": {},
   "outputs": [],
   "source": [
    "gf.clear_cache()"
   ]
  },
  {
   "cell_type": "markdown",
   "id": "d9850e98",
   "metadata": {},
   "source": [
    "To enable nice notebook tutorials, every time we show a cell in Matplotlib or Klayout, you can clear the cache,\n",
    "\n",
    "in case you want to develop cells in Jupyter Notebooks or an IPython kernel"
   ]
  },
  {
   "cell_type": "code",
   "execution_count": null,
   "id": "385870d9",
   "metadata": {},
   "outputs": [],
   "source": [
    "print_cache()  # cache is now empty"
   ]
  },
  {
   "cell_type": "markdown",
   "id": "1a7d021e",
   "metadata": {
    "lines_to_next_cell": 2
   },
   "source": [
    "## Validate argument types\n",
    "\n",
    "By default, also `@cell` validates arguments based on their type annotations.\n",
    "To make sure you pass the correct arguments to the cell function it runs a validator that checks the type annotations for the function.\n",
    "\n",
    "\n",
    "For example this will be correct\n",
    "\n",
    "```python\n",
    "import gdsfactory as gf\n",
    "\n",
    "\n",
    "@gf.cell\n",
    "def straigth_waveguide(length: float):\n",
    "    return gf.components.straight(length=length)\n",
    "\n",
    "\n",
    "component = straigth_waveguide(length=3)\n",
    "```\n",
    "\n",
    "While this will raise an error, because you are passing a length that is a string, so it cannot convert it to a float\n",
    "\n",
    "\n",
    "```python\n",
    "component = straigth_waveguide(length=\"long\")\n",
    "```\n",
    "\n",
    "```bash\n",
    "ValidationError: 1 validation error for StraigthWaveguide\n",
    "length\n",
    "  value is not a valid float (type=type_error.float)\n",
    "\n",
    "```\n",
    "\n",
    "by default `@cell` validates all arguments using [pydantic](https://pydantic-docs.helpmanual.io/usage/validation_decorator/#argument-types)"
   ]
  },
  {
   "cell_type": "code",
   "execution_count": null,
   "id": "6adfcafe",
   "metadata": {},
   "outputs": [],
   "source": [
    "@gf.cell\n",
    "def straigth_waveguide(length: float):\n",
    "    print(type(length))\n",
    "    return gf.components.straight(length=length)\n",
    "\n",
    "\n",
    "# It will also convert an `int` to a `float`\n",
    "c = straigth_waveguide(length=3)"
   ]
  }
 ],
 "metadata": {
  "jupytext": {
   "cell_metadata_filter": "-all",
   "formats": "md,ipynb",
   "main_language": "python",
   "notebook_metadata_filter": "-all"
  }
 },
 "nbformat": 4,
 "nbformat_minor": 5
}
