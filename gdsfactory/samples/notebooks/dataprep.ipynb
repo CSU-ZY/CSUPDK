{
 "cells": [
  {
   "cell_type": "markdown",
   "id": "d02d0392",
   "metadata": {},
   "source": [
    "# Maskprep\n",
    "\n",
    "When building a reticle sometimes you want to do boolean operations. This is usually known as maskprep or dataprep.\n",
    "\n",
    "You can do this at the component level or at the top reticle assembled level, each having different advantages and disadvantages.\n",
    "\n",
    "\n",
    "## Component level\n",
    "\n",
    "\n",
    "Lets try to remove acute angles that can cause min space DRC violations (Design Rule Checking). This happens a lot when you have cladding layers and couplers.\n",
    "\n",
    "### Remove acute angles"
   ]
  },
  {
   "cell_type": "code",
   "execution_count": null,
   "id": "dd68fe23",
   "metadata": {},
   "outputs": [],
   "source": [
    "from gdsfactory.generic_tech.layer_map import LAYER as l\n",
    "import gdsfactory as gf\n",
    "\n",
    "gf.config.rich_output()\n",
    "PDK = gf.generic_tech.get_generic_pdk()\n",
    "PDK.activate()"
   ]
  },
  {
   "cell_type": "code",
   "execution_count": null,
   "id": "2aa6aba1",
   "metadata": {
    "lines_to_next_cell": 2
   },
   "outputs": [],
   "source": [
    "from functools import partial\n",
    "import gdsfactory as gf\n",
    "from gdsfactory.geometry.maskprep import get_polygons_over_under, over_under\n",
    "\n",
    "c = gf.components.coupler_ring(\n",
    "    cladding_layers=((2, 0),),\n",
    "    cladding_offsets=(0.2,),\n",
    ")\n",
    "c.plot()"
   ]
  },
  {
   "cell_type": "markdown",
   "id": "729eec00",
   "metadata": {},
   "source": [
    "### Decorator\n",
    "\n",
    "A decorator is a function that calls a function [see Python intro](https://gdsfactory.github.io/gdsfactory/notebooks/_0_python.html) or read some python books."
   ]
  },
  {
   "cell_type": "code",
   "execution_count": null,
   "id": "41cd63f6",
   "metadata": {},
   "outputs": [],
   "source": [
    "over_under_slab = partial(over_under, layers=((2, 0),), distances=(0.5,))\n",
    "\n",
    "c = gf.components.coupler_ring(\n",
    "    cladding_layers=((2, 0)),\n",
    "    cladding_offsets=(0.2,),\n",
    "    decorator=over_under_slab,\n",
    ")\n",
    "c.plot()"
   ]
  },
  {
   "cell_type": "markdown",
   "id": "619339ce",
   "metadata": {},
   "source": [
    "### Get polygons\n",
    "\n",
    "You can also remove acute angles by adding extra polygons on top."
   ]
  },
  {
   "cell_type": "code",
   "execution_count": null,
   "id": "979e06e6",
   "metadata": {
    "lines_to_next_cell": 2
   },
   "outputs": [],
   "source": [
    "get_polygons_over_under_slab = partial(\n",
    "    get_polygons_over_under, layers=((2, 0)), distances=(0.5,)\n",
    ")\n",
    "\n",
    "c = gf.Component(\"compnent_clean\")\n",
    "ref = c << gf.components.coupler_ring(\n",
    "    cladding_layers=((2, 0)),\n",
    "    cladding_offsets=(0.2,),  # decorator=over_under_slab_decorator\n",
    ")\n",
    "polygons = get_polygons_over_under_slab(ref)\n",
    "c.add(polygons)\n",
    "c.plot()"
   ]
  },
  {
   "cell_type": "markdown",
   "id": "bebd9179",
   "metadata": {},
   "source": [
    "### Invert tone\n",
    "\n",
    "Sometimes you need to define not what you keep (positive resist) but what you etch (negative resist).\n",
    "We have some useful functions to invert the tone."
   ]
  },
  {
   "cell_type": "code",
   "execution_count": null,
   "id": "2345926c",
   "metadata": {},
   "outputs": [],
   "source": [
    "c = gf.components.add_trenches(component=gf.components.coupler)\n",
    "c.plot()"
   ]
  },
  {
   "cell_type": "code",
   "execution_count": null,
   "id": "19e9d210",
   "metadata": {},
   "outputs": [],
   "source": [
    "c = gf.components.add_trenches(component=gf.components.ring_single)\n",
    "c.plot()"
   ]
  },
  {
   "cell_type": "code",
   "execution_count": null,
   "id": "c4eed4a3",
   "metadata": {
    "lines_to_next_cell": 2
   },
   "outputs": [],
   "source": [
    "c = gf.components.add_trenches(\n",
    "    component=gf.components.grating_coupler_elliptical_lumerical(layer_slab=None)\n",
    ")\n",
    "c.plot()"
   ]
  },
  {
   "cell_type": "code",
   "execution_count": null,
   "id": "7d27c95f",
   "metadata": {},
   "outputs": [],
   "source": [
    "c = gf.components.add_trenches90(component=gf.components.bend_euler(radius=20))\n",
    "c.plot()"
   ]
  },
  {
   "cell_type": "markdown",
   "id": "71abf31d",
   "metadata": {},
   "source": [
    "## Flatten top level\n",
    "\n",
    "You can flatten the hierarchy and use klayout LayerProcessor to create a `RegionCollection` where you can easily grow and shrink layers.\n",
    "\n",
    "The advantage is that this can easily clean up routing, proximity effects, boolean operations on big masks.\n",
    "\n",
    "The disadvantage is that the design is no longer hierarchical and can take up more space.\n",
    "\n",
    "### Size\n",
    "\n",
    "You can copy/size layers"
   ]
  },
  {
   "cell_type": "code",
   "execution_count": null,
   "id": "a28fe29c",
   "metadata": {},
   "outputs": [],
   "source": [
    "c = gf.Component()\n",
    "\n",
    "device = c << gf.components.coupler_ring()\n",
    "floorplan = c << gf.components.bbox(device.bbox, layer=l.FLOORPLAN)\n",
    "c.write_gds(\"src.gds\")\n",
    "c.plot()"
   ]
  },
  {
   "cell_type": "code",
   "execution_count": null,
   "id": "aaabc4d0",
   "metadata": {},
   "outputs": [],
   "source": [
    "import gdsfactory.geometry.maskprep_flat as dp\n",
    "\n",
    "d = dp.RegionCollection(filepath=\"src.gds\", layermap=dict(l))\n",
    "d.SLAB150 = d.WG.copy()  # copy layer\n",
    "d.SLAB150 += 4  # size layer by 4 um\n",
    "d.SLAB150 -= 2  # size layer by 2 um\n",
    "c = d.write(\"dst.gds\")\n",
    "c.plot()"
   ]
  },
  {
   "cell_type": "markdown",
   "id": "6af272c7",
   "metadata": {},
   "source": [
    "### Booleans\n",
    "\n",
    "You can derive layers and do boolean operations.\n"
   ]
  },
  {
   "cell_type": "code",
   "execution_count": null,
   "id": "9dc8f876",
   "metadata": {
    "lines_to_next_cell": 2
   },
   "outputs": [],
   "source": [
    "d = dp.RegionCollection(filepath=\"src.gds\", layermap=dict(l))\n",
    "d.SLAB150 = d.WG.copy()\n",
    "d.SLAB150 += 3  # size layer by 3 um\n",
    "d.SHALLOW_ETCH = d.SLAB150 - d.WG\n",
    "c = d.write(\"dst.gds\")\n",
    "c.plot()"
   ]
  },
  {
   "cell_type": "markdown",
   "id": "dd0a425b",
   "metadata": {},
   "source": [
    "### Fill\n",
    "\n",
    "You can add rectangular fill, using booleans to decide where to add it:"
   ]
  },
  {
   "cell_type": "code",
   "execution_count": null,
   "id": "b201c43d",
   "metadata": {},
   "outputs": [],
   "source": [
    "d = dp.RegionCollection(filepath=\"src.gds\", layermap=dict(l))\n",
    "\n",
    "fill_region = d.FLOORPLAN - d.WG\n",
    "fill_cell = d.get_fill(\n",
    "    fill_region,\n",
    "    size=[0.1, 0.1],\n",
    "    spacing=[0.1, 0.1],\n",
    "    fill_layers=[l.WG, l.M1],\n",
    "    fill_name=\"test\",\n",
    ")\n",
    "fill_cell"
   ]
  },
  {
   "cell_type": "markdown",
   "id": "3a781975",
   "metadata": {},
   "source": [
    "### KLayout operations\n",
    "\n",
    "Any operation from Klayout Region can be called directly:"
   ]
  },
  {
   "cell_type": "code",
   "execution_count": null,
   "id": "2dd19092",
   "metadata": {},
   "outputs": [],
   "source": [
    "d = dp.RegionCollection(filepath=\"src.gds\", layermap=dict(l))\n",
    "d.SLAB150 = d.WG.copy()\n",
    "d.SLAB150.round_corners(1 * 1e3, 1 * 1e3, 100)  # round corners by 1um\n",
    "c = d.write(\"dst.gds\")\n",
    "c.plot()"
   ]
  },
  {
   "cell_type": "code",
   "execution_count": null,
   "id": "801cbd65",
   "metadata": {},
   "outputs": [],
   "source": []
  }
 ],
 "metadata": {
  "jupytext": {
   "cell_metadata_filter": "-all",
   "formats": "md,ipynb",
   "main_language": "python",
   "notebook_metadata_filter": "-all"
  }
 },
 "nbformat": 4,
 "nbformat_minor": 5
}
