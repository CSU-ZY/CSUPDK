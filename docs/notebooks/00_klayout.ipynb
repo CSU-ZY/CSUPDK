{
 "cells": [
  {
   "cell_type": "markdown",
   "id": "0a9de7cf-8b74-464b-82cd-f90e1121c19c",
   "metadata": {},
   "source": [
    "# Klayout integration\n",
    "\n",
    "gdsfactory is a pure driven python flow where you define your components, circuits and masks in python  or YAML code.\n",
    "\n",
    "For rapid iteration, gdsfactory comes with a Klayout macro `klive` that runs inside klayout, so that when you run `component.show()` in python, it displays your GDS in Klayout.\n",
    "\n",
    "![](https://i.imgur.com/inzGBb5.png)\n"
   ]
  },
  {
   "cell_type": "markdown",
   "id": "02435998-fa3f-416e-9edf-f7eb8063b901",
   "metadata": {},
   "source": [
    "\n",
    "You have 2 ways to install this plugins:\n",
    "\n",
    "- from the terminal by typing `gf tool install` after installing gdsfactory `pip install gdsfactory`\n",
    "- using klayout package manager (see image below), Tools --> Manage Pacakges\n",
    "\n",
    "![](https://i.imgur.com/AkfcCms.png)\n"
   ]
  },
  {
   "cell_type": "markdown",
   "id": "cddacdba-f117-4c28-9bf0-f661f46955f7",
   "metadata": {},
   "source": [
    "What does the klayout package do?\n",
    "\n",
    "- Klive: connects python to klayout, and show GDS files directly\n",
    "- generic layermap: from the generic gdsfactory technology\n",
    "- generic DRC: from generic gdsfactory technology\n"
   ]
  },
  {
   "cell_type": "code",
   "execution_count": null,
   "id": "f6998cbe-7a48-4dbb-94fc-c284dd2b274d",
   "metadata": {},
   "outputs": [],
   "source": []
  }
 ],
 "metadata": {
  "kernelspec": {
   "display_name": "Python 3 (ipykernel)",
   "language": "python",
   "name": "python3"
  },
  "language_info": {
   "codemirror_mode": {
    "name": "ipython",
    "version": 3
   },
   "file_extension": ".py",
   "mimetype": "text/x-python",
   "name": "python",
   "nbconvert_exporter": "python",
   "pygments_lexer": "ipython3",
   "version": "3.9.10"
  }
 },
 "nbformat": 4,
 "nbformat_minor": 5
}
