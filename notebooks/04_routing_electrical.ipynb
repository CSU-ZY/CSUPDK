{
 "cells": [
  {
   "cell_type": "markdown",
   "id": "777c36ac",
   "metadata": {},
   "source": [
    "# Routing to IO\n",
    "\n",
    "## Routing electrical\n",
    "For routing low speed DC electrical ports you can use sharp corners instead of smooth bends.\n",
    "\n",
    "You can also define `port.orientation = None` to ignore the port orientation for low speed DC ports."
   ]
  },
  {
   "cell_type": "markdown",
   "id": "75346456",
   "metadata": {},
   "source": [
    "For single route between ports you can use `route_single_electrical`\n",
    "\n",
    "### route_single_electrical\n",
    "\n",
    "\n",
    "`route_single_electrical` has `bend = wire_corner` with a 90deg bend corner."
   ]
  },
  {
   "cell_type": "code",
   "execution_count": null,
   "id": "46365557",
   "metadata": {},
   "outputs": [],
   "source": [
    "from functools import partial\n",
    "\n",
    "import gdsfactory as gf\n",
    "from gdsfactory.generic_tech import get_generic_pdk\n",
    "from gdsfactory.samples.big_device import big_device\n",
    "\n",
    "gf.CONF.display_type = \"klayout\"\n",
    "gf.config.rich_output()\n",
    "PDK = get_generic_pdk()\n",
    "PDK.activate()\n",
    "\n",
    "c = gf.Component(\"pads\")\n",
    "pt = c << gf.components.pad_array(orientation=270, columns=3)\n",
    "pb = c << gf.components.pad_array(orientation=90, columns=3)\n",
    "pt.move((70, 200))\n",
    "c.plot()"
   ]
  },
  {
   "cell_type": "code",
   "execution_count": null,
   "id": "c6dad58c",
   "metadata": {},
   "outputs": [],
   "source": [
    "c = gf.Component(\"pads_with_routes_with_bends\")\n",
    "pt = c << gf.components.pad_array(orientation=270, columns=3)\n",
    "pb = c << gf.components.pad_array(orientation=90, columns=3)\n",
    "pt.move((70, 200))\n",
    "route = gf.routing.route_single_electrical(\n",
    "    pt.ports[\"e11\"], pb.ports[\"e11\"], bend=\"bend_euler\", radius=30\n",
    ")\n",
    "c.add(route.references)\n",
    "c.plot()"
   ]
  },
  {
   "cell_type": "code",
   "execution_count": null,
   "id": "592c3a83",
   "metadata": {},
   "outputs": [],
   "source": [
    "c = gf.Component(\"pads_with_routes_with_wire_corners\")\n",
    "pt = c << gf.components.pad_array(orientation=270, columns=3)\n",
    "pb = c << gf.components.pad_array(orientation=90, columns=3)\n",
    "pt.move((70, 200))\n",
    "route = gf.routing.route_single_electrical(\n",
    "    pt.ports[\"e11\"], pb.ports[\"e11\"], bend=\"wire_corner\"\n",
    ")\n",
    "c.add(route.references)\n",
    "c.plot()"
   ]
  },
  {
   "cell_type": "code",
   "execution_count": null,
   "id": "a54a7c96",
   "metadata": {},
   "outputs": [],
   "source": [
    "c = gf.Component(\"pads_with_routes_with_wire_corners_no_orientation\")\n",
    "pt = c << gf.components.pad_array(orientation=None, columns=3)\n",
    "pb = c << gf.components.pad_array(orientation=None, columns=3)\n",
    "pt.move((70, 200))\n",
    "route = gf.routing.route_single_electrical(\n",
    "    pt.ports[\"e11\"], pb.ports[\"e11\"], bend=\"wire_corner\"\n",
    ")\n",
    "c.add(route.references)\n",
    "c.plot()"
   ]
  },
  {
   "cell_type": "code",
   "execution_count": null,
   "id": "b6cf02c4",
   "metadata": {},
   "outputs": [],
   "source": [
    "c = gf.Component(\"multi-layer\")\n",
    "columns = 2\n",
    "ptop = c << gf.components.pad_array(columns=columns)\n",
    "pbot = c << gf.components.pad_array(orientation=90, columns=columns)\n",
    "\n",
    "ptop.movex(300)\n",
    "ptop.movey(300)\n",
    "route = gf.routing.route_single_electrical_multilayer(\n",
    "    ptop.ports[\"e11\"],\n",
    "    pbot.ports[\"e11\"],\n",
    "    end_straight_length=100,\n",
    ")\n",
    "c.add(route.references)\n",
    "c.plot()"
   ]
  },
  {
   "cell_type": "markdown",
   "id": "d0d194d1",
   "metadata": {},
   "source": [
    "There is also `bend = wire_corner45` for 45deg bend corner with parametrizable \"radius\":"
   ]
  },
  {
   "cell_type": "code",
   "execution_count": null,
   "id": "726d50a7",
   "metadata": {},
   "outputs": [],
   "source": [
    "c = gf.Component(\"pads_with_routes_with_wire_corner45\")\n",
    "pt = c << gf.components.pad_array(orientation=270, columns=1)\n",
    "pb = c << gf.components.pad_array(orientation=90, columns=1)\n",
    "pt.move((300, 300))\n",
    "route = gf.routing.route_single_electrical(\n",
    "    pt.ports[\"e11\"], pb.ports[\"e11\"], bend=\"wire_corner45\", radius=30\n",
    ")\n",
    "c.add(route.references)\n",
    "c.plot()"
   ]
  },
  {
   "cell_type": "code",
   "execution_count": null,
   "id": "c4cb37bb",
   "metadata": {},
   "outputs": [],
   "source": [
    "c = gf.Component(\"pads_with_routes_with_wire_corner45\")\n",
    "pt = c << gf.components.pad_array(orientation=270, columns=1)\n",
    "pb = c << gf.components.pad_array(orientation=90, columns=1)\n",
    "pt.move((300, 300))\n",
    "route = gf.routing.route_single_electrical(\n",
    "    pt.ports[\"e11\"], pb.ports[\"e11\"], bend=\"wire_corner45\", radius=100\n",
    ")\n",
    "c.add(route.references)\n",
    "c.plot()"
   ]
  },
  {
   "cell_type": "markdown",
   "id": "e5c3cea0",
   "metadata": {},
   "source": [
    "### route_quad"
   ]
  },
  {
   "cell_type": "code",
   "execution_count": null,
   "id": "0233a931",
   "metadata": {},
   "outputs": [],
   "source": [
    "c = gf.Component(\"pads_route_quad\")\n",
    "pt = c << gf.components.pad_array(orientation=270, columns=3)\n",
    "pb = c << gf.components.pad_array(orientation=90, columns=3)\n",
    "pt.move((100, 200))\n",
    "route = c << gf.routing.route_quad(pt.ports[\"e11\"], pb.ports[\"e11\"], layer=(49, 0))\n",
    "c.plot()"
   ]
  },
  {
   "cell_type": "markdown",
   "id": "55782738",
   "metadata": {},
   "source": [
    "### route_single_from_steps"
   ]
  },
  {
   "cell_type": "code",
   "execution_count": null,
   "id": "aaf215ea",
   "metadata": {},
   "outputs": [],
   "source": [
    "c = gf.Component(\"pads_route_from_steps\")\n",
    "pt = c << gf.components.pad_array(orientation=270, columns=3)\n",
    "pb = c << gf.components.pad_array(orientation=90, columns=3)\n",
    "pt.move((100, 200))\n",
    "route = gf.routing.route_single_from_steps(\n",
    "    pb.ports[\"e11\"],\n",
    "    pt.ports[\"e11\"],\n",
    "    steps=[\n",
    "        {\"y\": 200},\n",
    "    ],\n",
    "    cross_section=\"xs_metal_routing\",\n",
    "    bend=gf.components.wire_corner,\n",
    ")\n",
    "c.add(route.references)\n",
    "c.plot()"
   ]
  },
  {
   "cell_type": "code",
   "execution_count": null,
   "id": "564d32d6",
   "metadata": {},
   "outputs": [],
   "source": [
    "c = gf.Component(\"pads_route_from_steps_None_orientation\")\n",
    "pt = c << gf.components.pad_array(orientation=None, columns=3)\n",
    "pb = c << gf.components.pad_array(orientation=None, columns=3)\n",
    "pt.move((100, 200))\n",
    "route = gf.routing.route_single_from_steps(\n",
    "    pb.ports[\"e11\"],\n",
    "    pt.ports[\"e11\"],\n",
    "    steps=[\n",
    "        {\"y\": 200},\n",
    "    ],\n",
    "    cross_section=\"xs_metal_routing\",\n",
    "    bend=gf.components.wire_corner,\n",
    ")\n",
    "c.add(route.references)\n",
    "c.plot()"
   ]
  },
  {
   "cell_type": "markdown",
   "id": "14f0d7d1",
   "metadata": {},
   "source": [
    "### route_bundle_electrical\n",
    "\n",
    "For routing groups of ports you can use `route_bundle` that returns a bundle of routes using a bundle router (also known as bus or river router)"
   ]
  },
  {
   "cell_type": "code",
   "execution_count": null,
   "id": "b203e98f",
   "metadata": {},
   "outputs": [],
   "source": [
    "c = gf.Component(\"pads_bundle\")\n",
    "pt = c << gf.components.pad_array(orientation=270, columns=3)\n",
    "pb = c << gf.components.pad_array(orientation=90, columns=3)\n",
    "pt.move((100, 200))\n",
    "\n",
    "routes = gf.routing.route_bundle_electrical(\n",
    "    pb.ports, pt.ports, end_straight_length=60, separation=30\n",
    ")\n",
    "\n",
    "for route in routes:\n",
    "    c.add(route.references)\n",
    "c.plot()"
   ]
  },
  {
   "cell_type": "markdown",
   "id": "1462b589",
   "metadata": {},
   "source": [
    "### route_bundle_from_steps_electrical"
   ]
  },
  {
   "cell_type": "code",
   "execution_count": null,
   "id": "b3ea32a1",
   "metadata": {},
   "outputs": [],
   "source": [
    "c = gf.Component(\"pads_bundle_steps\")\n",
    "pt = c << gf.components.pad_array(\n",
    "    partial(gf.components.pad, size=(30, 30)),\n",
    "    orientation=270,\n",
    "    columns=3,\n",
    "    spacing=(50, 0),\n",
    ")\n",
    "pb = c << gf.components.pad_array(orientation=90, columns=3)\n",
    "pt.move((300, 500))\n",
    "\n",
    "routes = gf.routing.route_bundle_from_steps_electrical(\n",
    "    pb.ports, pt.ports, end_straight_length=60, separation=30, steps=[{\"dy\": 100}]\n",
    ")\n",
    "\n",
    "for route in routes:\n",
    "    c.add(route.references)\n",
    "\n",
    "c.plot()"
   ]
  },
  {
   "cell_type": "markdown",
   "id": "de4d1b08",
   "metadata": {},
   "source": [
    "### route_bundle_electrical_multilayer\n",
    "\n",
    "To avoid metal crossings you can use one metal layer."
   ]
  },
  {
   "cell_type": "code",
   "execution_count": null,
   "id": "401cff66",
   "metadata": {},
   "outputs": [],
   "source": [
    "c = gf.Component(\"route_bundle_multi_layer\")\n",
    "columns = 2\n",
    "ptop = c << gf.components.pad_array(columns=columns)\n",
    "pbot = c << gf.components.pad_array(orientation=90, columns=columns)\n",
    "\n",
    "ptop.movex(300)\n",
    "ptop.movey(300)\n",
    "routes = gf.routing.route_bundle_electrical_multilayer(\n",
    "    ptop.ports, pbot.ports, end_straight_length=100, separation=20\n",
    ")\n",
    "for route in routes:\n",
    "    c.add(route.references)\n",
    "c.plot()"
   ]
  },
  {
   "cell_type": "markdown",
   "id": "4243d0e2",
   "metadata": {},
   "source": [
    "## Routing to pads\n",
    "\n",
    "You can also route to electrical pads."
   ]
  },
  {
   "cell_type": "code",
   "execution_count": null,
   "id": "e2774903",
   "metadata": {},
   "outputs": [],
   "source": [
    "c = gf.components.straight_heater_metal(length=100.0)\n",
    "cc = gf.routing.add_pads_bot(component=c, port_names=(\"l_e4\", \"r_e4\"), fanout_length=50)\n",
    "cc.plot()"
   ]
  },
  {
   "cell_type": "code",
   "execution_count": null,
   "id": "04f998f9",
   "metadata": {
    "lines_to_next_cell": 2
   },
   "outputs": [],
   "source": [
    "c = gf.components.straight_heater_metal(length=100.0)\n",
    "cc = gf.routing.add_pads_top(component=c)\n",
    "cc.plot()"
   ]
  },
  {
   "cell_type": "code",
   "execution_count": null,
   "id": "4ce7214e",
   "metadata": {},
   "outputs": [],
   "source": [
    "c = gf.components.straight_heater_metal(length=100.0)\n",
    "cc = gf.routing.add_pads_top(component=c, port_names=(\"l_e2\", \"r_e2\"))\n",
    "cc.plot()"
   ]
  },
  {
   "cell_type": "code",
   "execution_count": null,
   "id": "77fef84a",
   "metadata": {},
   "outputs": [],
   "source": [
    "c = gf.c.nxn(\n",
    "    xsize=600,\n",
    "    ysize=200,\n",
    "    north=2,\n",
    "    south=3,\n",
    "    wg_width=10,\n",
    "    layer=\"M3\",\n",
    "    port_type=\"electrical\",\n",
    ")\n",
    "cc = gf.routing.add_pads_top(component=c)\n",
    "cc.plot()"
   ]
  },
  {
   "cell_type": "code",
   "execution_count": null,
   "id": "1c044381",
   "metadata": {},
   "outputs": [],
   "source": [
    "n = west = north = south = east = 10\n",
    "spacing = 20\n",
    "c = gf.components.nxn(\n",
    "    xsize=n * spacing,\n",
    "    ysize=n * spacing,\n",
    "    west=west,\n",
    "    east=east,\n",
    "    north=north,\n",
    "    south=south,\n",
    "    port_type=\"electrical\",\n",
    "    wg_width=10,\n",
    ")\n",
    "c.plot()"
   ]
  },
  {
   "cell_type": "code",
   "execution_count": null,
   "id": "e04df5f9",
   "metadata": {},
   "outputs": [],
   "source": [
    "cc = gf.routing.add_pads_top(component=c)\n",
    "cc.plot()"
   ]
  },
  {
   "cell_type": "markdown",
   "id": "ad6486d0",
   "metadata": {},
   "source": [
    "## Routing to optical terminations\n",
    "\n",
    "### Route to Fiber Array\n",
    "\n",
    "You can route to a fiber array."
   ]
  },
  {
   "cell_type": "code",
   "execution_count": null,
   "id": "ba546fd2",
   "metadata": {},
   "outputs": [],
   "source": [
    "component = big_device(nports=10)\n",
    "c = gf.routing.add_fiber_array(component=component, radius=10.0, fanout_length=60.0)\n",
    "c.plot()"
   ]
  },
  {
   "cell_type": "markdown",
   "id": "ac8aade1",
   "metadata": {},
   "source": [
    "You can also mix and match TE and TM grating couplers. Notice that the `TM` polarization grating coupler is bigger."
   ]
  },
  {
   "cell_type": "code",
   "execution_count": null,
   "id": "83d8e574",
   "metadata": {},
   "outputs": [],
   "source": [
    "import gdsfactory as gf\n",
    "\n",
    "c = gf.components.mzi_phase_shifter()\n",
    "gcte = gf.components.grating_coupler_te\n",
    "\n",
    "cc = gf.routing.add_fiber_array(\n",
    "    component=c,\n",
    "    optical_routing_type=2,\n",
    "    grating_coupler=[\n",
    "        gf.components.grating_coupler_te,\n",
    "        gf.components.grating_coupler_tm,\n",
    "    ],\n",
    "    radius=20,\n",
    ")\n",
    "cc.plot()"
   ]
  },
  {
   "cell_type": "markdown",
   "id": "e6901f10",
   "metadata": {},
   "source": [
    "### Route to Single fibers\n",
    "\n",
    "You can route to a single fiber input and single fiber output."
   ]
  },
  {
   "cell_type": "code",
   "execution_count": null,
   "id": "071d3bcd",
   "metadata": {},
   "outputs": [],
   "source": [
    "c = gf.components.ring_single()\n",
    "cc = gf.routing.add_fiber_single(component=c)\n",
    "cc.plot()"
   ]
  },
  {
   "cell_type": "markdown",
   "id": "f9532421",
   "metadata": {},
   "source": [
    "### Route to edge couplers\n",
    "\n",
    "You can also route Edge couplers to a fiber array or to both sides of the chip.\n",
    "\n",
    "For routing to both sides you can follow different strategies:\n",
    "\n",
    "1. Place the edge couplers and route your components to the edge couplers.\n",
    "2. Extend your component ports to each side.\n",
    "3. Anything you imagine ..."
   ]
  },
  {
   "cell_type": "code",
   "execution_count": null,
   "id": "82a4a44b",
   "metadata": {},
   "outputs": [],
   "source": [
    "import numpy as np\n",
    "\n",
    "import gdsfactory as gf\n",
    "from gdsfactory.generic_tech import LAYER\n",
    "\n",
    "\n",
    "@gf.cell\n",
    "def sample_die(size=(8e3, 40e3), y_spacing: float = 10) -> gf.Component:\n",
    "    \"\"\"Returns a sample die\n",
    "\n",
    "    Args:\n",
    "        size: size of the die.\n",
    "        y_spacing: spacing between components.\n",
    "\n",
    "    Returns:\n",
    "        c: a sample die.\n",
    "\n",
    "    \"\"\"\n",
    "    c = gf.Component()\n",
    "\n",
    "    die = c << gf.c.rectangle(size=np.array(size), layer=LAYER.FLOORPLAN, centered=True)\n",
    "    die = c << gf.c.rectangle(\n",
    "        size=np.array(size) - 2 * np.array((50, 50)),\n",
    "        layer=LAYER.FLOORPLAN,\n",
    "        centered=True,\n",
    "    )\n",
    "    ymin = die.ymin\n",
    "    ec = gf.components.edge_coupler_silicon()\n",
    "\n",
    "    cells = gf.components.cells\n",
    "    skip = [\n",
    "        \"component_lattice\",\n",
    "        \"component_sequence\",\n",
    "        \"extend_port\",\n",
    "        \"extend_ports_list\",\n",
    "        \"die\",\n",
    "        \"wafer\",\n",
    "    ]\n",
    "    for component_name in skip:\n",
    "        cells.pop(component_name, None)\n",
    "\n",
    "    for component in cells.values():\n",
    "        ci = component()\n",
    "        ci = (\n",
    "            gf.routing.add_pads_top(\n",
    "                ci,\n",
    "                pad=gf.components.pad,\n",
    "                pad_spacing=150,\n",
    "            )\n",
    "            if ci.get_ports_list(port_type=\"electrical\")\n",
    "            else ci\n",
    "        )\n",
    "        ref = c << ci\n",
    "        ref.ymin = ymin\n",
    "        ref.x = 0\n",
    "        ymin = ref.ymax + y_spacing\n",
    "\n",
    "        routes_left, ports_left = gf.routing.route_ports_to_side(\n",
    "            ref.get_ports_list(orientation=180),\n",
    "            cross_section=\"xs_sc\",\n",
    "            side=\"west\",\n",
    "            x=die.xmin + ec.xsize,\n",
    "        )\n",
    "        for route in routes_left:\n",
    "            c.add(route.references)\n",
    "\n",
    "        routes_right, ports_right = gf.routing.route_ports_to_side(\n",
    "            ref.get_ports_list(orientation=0),\n",
    "            cross_section=\"xs_sc\",\n",
    "            x=die.xmax - ec.xsize,\n",
    "            side=\"east\",\n",
    "        )\n",
    "        for route in routes_right:\n",
    "            c.add(route.references)\n",
    "\n",
    "        for port in ports_right:\n",
    "            ref = c << ec\n",
    "            ref.connect(\"o1\", port)\n",
    "            text = c << gf.c.text(\n",
    "                text=f\"{ci.name}-{port.name.split('_')[0]}\", size=10, layer=LAYER.MTOP\n",
    "            )\n",
    "            text.xmax = ref.xmax - 10\n",
    "            text.y = ref.y\n",
    "\n",
    "        for port in ports_left:\n",
    "            ref = c << ec\n",
    "            ref.connect(\"o1\", port)\n",
    "            text = c << gf.c.text(\n",
    "                text=f\"{ci.name}-{port.name.split('_')[0]}\", size=10, layer=LAYER.MTOP\n",
    "            )\n",
    "            text.xmin = ref.xmin + 10\n",
    "            text.y = ref.y\n",
    "\n",
    "    return c\n",
    "\n",
    "\n",
    "c = sample_die(cache=False)\n",
    "c.show()  # show in klayout\n",
    "c.plot()  # plot in notebook"
   ]
  },
  {
   "cell_type": "code",
   "execution_count": null,
   "id": "a49794f4",
   "metadata": {},
   "outputs": [],
   "source": []
  }
 ],
 "metadata": {
  "jupytext": {
   "cell_metadata_filter": "-all",
   "custom_cell_magics": "kql"
  },
  "kernelspec": {
   "display_name": "base",
   "language": "python",
   "name": "python3"
  }
 },
 "nbformat": 4,
 "nbformat_minor": 5
}
