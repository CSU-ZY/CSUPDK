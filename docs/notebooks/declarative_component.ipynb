{
 "cells": [
  {
   "cell_type": "code",
   "execution_count": null,
   "id": "aa05e15f-26a2-4d1d-9282-974aaaa09eea",
   "metadata": {
    "tags": []
   },
   "outputs": [],
   "source": [
    "import gdsfactory as gf"
   ]
  },
  {
   "cell_type": "markdown",
   "id": "58372315-af91-479c-8dda-d1172c30ed84",
   "metadata": {},
   "source": [
    "You could define a simple mzi as follows:"
   ]
  },
  {
   "cell_type": "code",
   "execution_count": null,
   "id": "ca137b48-75ba-4ab6-9a63-a84a9cecf8d4",
   "metadata": {
    "tags": []
   },
   "outputs": [],
   "source": [
    "c = gf.Component()\n",
    "\n",
    "# instances\n",
    "mmi_in = c << gf.components.mmi1x2()\n",
    "mmi_out = c << gf.components.mmi2x2()\n",
    "straight_top1 = c << gf.components.straight(length=10.0)\n",
    "straight_top2 = c << gf.components.straight(length=10.0)\n",
    "bend_top1 = c << gf.components.bend_euler()\n",
    "bend_top2 = (c << gf.components.bend_euler().mirror())\n",
    "bend_top3 = (c << gf.components.bend_euler().mirror())\n",
    "bend_top4 = c << gf.components.bend_euler()\n",
    "bend_btm1 = (c << gf.components.bend_euler().mirror())\n",
    "bend_btm2 = c << gf.components.bend_euler()\n",
    "bend_btm3 = c << gf.components.bend_euler()\n",
    "bend_btm4 = (c << gf.components.bend_euler().mirror())\n",
    "\n",
    "\n",
    "# connections\n",
    "bend_top1.connect('o1', mmi_in.ports['o2'])\n",
    "straight_top1.connect('o1', bend_top1.ports['o2'])\n",
    "bend_top2.connect('o1', straight_top1.ports['o2'])\n",
    "bend_top3.connect('o1', bend_top2.ports['o2'])\n",
    "straight_top2.connect('o1', bend_top3.ports['o2'])\n",
    "bend_top4.connect('o1', straight_top2.ports['o2'])\n",
    "\n",
    "bend_btm1.connect('o1', mmi_in.ports['o3'])\n",
    "bend_btm2.connect('o1', bend_btm1.ports['o2'])\n",
    "bend_btm3.connect('o1', bend_btm2.ports['o2'])\n",
    "bend_btm4.connect('o1', bend_btm3.ports['o2'])\n",
    "\n",
    "mmi_out.connect(\"o1\", bend_btm4.ports['o2'])\n",
    "\n",
    "# ports\n",
    "c.add_port('o1', port=mmi_in.ports['o1'], )\n",
    "c.add_port('o2', port=mmi_out.ports['o3'])\n",
    "c.add_port('o3', port=mmi_out.ports['o4'])\n",
    "\n",
    "c"
   ]
  },
  {
   "cell_type": "markdown",
   "id": "a4dd58a1-03b9-4377-81e6-dcfeef4e5332",
   "metadata": {},
   "source": [
    "But you could also define it declaratively:"
   ]
  },
  {
   "cell_type": "code",
   "execution_count": null,
   "id": "e16961a9-3287-4a55-91f1-01dc074f0d2a",
   "metadata": {
    "tags": []
   },
   "outputs": [],
   "source": [
    "@gf.declarative_component\n",
    "class declarative_simple_mzi:\n",
    "    mmi_in = gf.components.mmi1x2()\n",
    "    mmi_out = gf.components.mmi2x2()\n",
    "    straight_top1 = gf.components.straight(length=10.0)\n",
    "    straight_top2 = gf.components.straight(length=10.0)\n",
    "    bend_top1 = gf.components.bend_euler()\n",
    "    bend_top2 = gf.components.bend_euler().mirror()\n",
    "    bend_top3 = gf.components.bend_euler().mirror()\n",
    "    bend_top4 = gf.components.bend_euler()\n",
    "    bend_btm1 = gf.components.bend_euler().mirror()\n",
    "    bend_btm2 = gf.components.bend_euler()\n",
    "    bend_btm3 = gf.components.bend_euler()\n",
    "    bend_btm4 = gf.components.bend_euler().mirror()\n",
    "    \n",
    "    def connections(self):\n",
    "        return [\n",
    "            (self.bend_top1.ports['o1'], self.mmi_in.ports['o2']),\n",
    "            (self.straight_top1.ports['o1'], self.bend_top1.ports['o2']),\n",
    "            (self.bend_top2.ports['o1'], self.straight_top1.ports['o2']),\n",
    "            (self.bend_top3.ports['o1'], self.bend_top2.ports['o2']),\n",
    "            (self.straight_top2.ports['o1'], self.bend_top3.ports['o2']),\n",
    "            (self.bend_top4.ports['o1'], self.straight_top2.ports['o2']),\n",
    "            (self.bend_btm1.ports['o1'], self.mmi_in.ports['o3']),\n",
    "            (self.bend_btm2.ports['o1'], self.bend_btm1.ports['o2']),\n",
    "            (self.bend_btm3.ports['o1'], self.bend_btm2.ports['o2']),\n",
    "            (self.bend_btm4.ports['o1'], self.bend_btm3.ports['o2']),\n",
    "            (self.mmi_out.ports[\"o1\"], self.bend_btm4.ports['o2']),\n",
    "        ]\n",
    "    \n",
    "    def ports(self):\n",
    "        return {\n",
    "            'o1': self.mmi_in.ports['o1'],\n",
    "            'o2': self.mmi_out.ports['o3'],\n",
    "            'o3': self.mmi_out.ports['o4'],\n",
    "        }"
   ]
  },
  {
   "cell_type": "code",
   "execution_count": null,
   "id": "c315bd06-cfb7-4fbe-871f-fe4dc5b0c12c",
   "metadata": {
    "tags": []
   },
   "outputs": [],
   "source": [
    "declarative_simple_mzi"
   ]
  },
  {
   "cell_type": "markdown",
   "id": "bc166ae5-18b2-437c-86f1-baf2d142bdcd",
   "metadata": {},
   "source": [
    "if you need a pcell, you can obviously wrap it in a wrapping function like any other component definition:"
   ]
  },
  {
   "cell_type": "code",
   "execution_count": null,
   "id": "db6fe18a-21b6-425e-ae71-0c1e523a3d59",
   "metadata": {
    "tags": []
   },
   "outputs": [],
   "source": [
    "@gf.cell\n",
    "def declarative_simple_mzi_pcell(delay_length=20):\n",
    "    @gf.declarative_component\n",
    "    class comp:\n",
    "        mmi_in = gf.components.mmi1x2()\n",
    "        mmi_out = gf.components.mmi2x2()\n",
    "        straight_top1 = gf.components.straight(length=delay_length/2)\n",
    "        straight_top2 = gf.components.straight(length=delay_length/2)\n",
    "        bend_top1 = gf.components.bend_euler()\n",
    "        bend_top2 = gf.components.bend_euler().mirror()\n",
    "        bend_top3 = gf.components.bend_euler().mirror()\n",
    "        bend_top4 = gf.components.bend_euler()\n",
    "        bend_btm1 = gf.components.bend_euler().mirror()\n",
    "        bend_btm2 = gf.components.bend_euler()\n",
    "        bend_btm3 = gf.components.bend_euler()\n",
    "        bend_btm4 = gf.components.bend_euler().mirror()\n",
    "\n",
    "        def connections(self):\n",
    "            return [\n",
    "                (self.bend_top1.ports['o1'], self.mmi_in.ports['o2']),\n",
    "                (self.straight_top1.ports['o1'], self.bend_top1.ports['o2']),\n",
    "                (self.bend_top2.ports['o1'], self.straight_top1.ports['o2']),\n",
    "                (self.bend_top3.ports['o1'], self.bend_top2.ports['o2']),\n",
    "                (self.straight_top2.ports['o1'], self.bend_top3.ports['o2']),\n",
    "                (self.bend_top4.ports['o1'], self.straight_top2.ports['o2']),\n",
    "                (self.bend_btm1.ports['o1'], self.mmi_in.ports['o3']),\n",
    "                (self.bend_btm2.ports['o1'], self.bend_btm1.ports['o2']),\n",
    "                (self.bend_btm3.ports['o1'], self.bend_btm2.ports['o2']),\n",
    "                (self.bend_btm4.ports['o1'], self.bend_btm3.ports['o2']),\n",
    "                (self.mmi_out.ports[\"o1\"], self.bend_btm4.ports['o2']),\n",
    "            ]\n",
    "\n",
    "        def ports(self):\n",
    "            return {\n",
    "                'o1': self.mmi_in.ports['o1'],\n",
    "                'o2': self.mmi_out.ports['o3'],\n",
    "                'o3': self.mmi_out.ports['o4'],\n",
    "            }\n",
    "    return comp"
   ]
  },
  {
   "cell_type": "code",
   "execution_count": null,
   "id": "887d73fa-6879-40b2-9d77-2eb33c5b5c5e",
   "metadata": {
    "tags": []
   },
   "outputs": [],
   "source": [
    "declarative_simple_mzi_pcell(delay_length=50)"
   ]
  }
 ],
 "metadata": {
  "kernelspec": {
   "display_name": "Python 3 (ipykernel)",
   "language": "python",
   "name": "python3"
  },
  "language_info": {
   "codemirror_mode": {
    "name": "ipython",
    "version": 3
   },
   "file_extension": ".py",
   "mimetype": "text/x-python",
   "name": "python",
   "nbconvert_exporter": "python",
   "pygments_lexer": "ipython3",
   "version": "3.10.9"
  }
 },
 "nbformat": 4,
 "nbformat_minor": 5
}
