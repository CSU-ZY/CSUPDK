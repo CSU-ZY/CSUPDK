{
 "cells": [
  {
   "cell_type": "markdown",
   "metadata": {},
   "source": [
    "# Technology\n",
    "\n",
    "gdsfactory has a default `config.yml` file that inclues all the defaults for the generic Technology.\n",
    "\n",
    "[YAML](https://www.cloudbees.com/blog/yaml-tutorial-everything-you-need-get-started/) is a human friendly format\n",
    "\n",
    "To overwrite any of the defaults you can just create a `config.yml` in the current directory of your project.\n",
    "\n",
    "The `conig.yml` can define:\n",
    "\n",
    "- Layers\n",
    "\n",
    "\n",
    "\n",
    "## Layers\n",
    "\n",
    "A GDS has different layers to describe the different fabrication process steps.\n",
    "\n",
    "GDS layers have 2 integer numbers: GDSlayer, GDSpurpose\n",
    "\n",
    "Klayout shows Layers with a color, style and transparency when showing GDS layouts."
   ]
  },
  {
   "cell_type": "code",
   "execution_count": null,
   "metadata": {},
   "outputs": [],
   "source": [
    "import omegaconf\n",
    "import dataclasses\n",
    "import pp\n",
    "from pp.layers import preview_layerset\n",
    "from pp.config import print_config"
   ]
  },
  {
   "cell_type": "code",
   "execution_count": null,
   "metadata": {},
   "outputs": [],
   "source": [
    "print_config()"
   ]
  },
  {
   "cell_type": "code",
   "execution_count": null,
   "metadata": {},
   "outputs": [],
   "source": [
    "layer_wg = pp.LAYER.WG\n",
    "print(layer_wg)"
   ]
  },
  {
   "cell_type": "code",
   "execution_count": null,
   "metadata": {},
   "outputs": [],
   "source": [
    "c = preview_layerset()\n",
    "c"
   ]
  },
  {
   "cell_type": "markdown",
   "metadata": {},
   "source": [
    "## TECH\n",
    "\n",
    "As you can see in `pdk.tech` you can define all your technology constants in YAML. \n",
    "This is a convenient way to group all the specific constants for a technology. \n",
    "For example, Lets say we want to add a new layer and a new waveguide definition in YAML format in `config.yml`."
   ]
  },
  {
   "cell_type": "code",
   "execution_count": null,
   "metadata": {},
   "outputs": [],
   "source": [
    "import pp\n",
    "\n",
    "pp.tech('waveguide.pn')"
   ]
  },
  {
   "cell_type": "code",
   "execution_count": null,
   "metadata": {},
   "outputs": [],
   "source": [
    "c = pp.components.straight(**pp.TECH.waveguide.pn)\n",
    "c"
   ]
  },
  {
   "cell_type": "markdown",
   "metadata": {},
   "source": [
    "## PDK\n",
    "\n",
    "How can you customize components for a particular technology?\n",
    "\n",
    "You can customize the `components` field."
   ]
  },
  {
   "cell_type": "code",
   "execution_count": null,
   "metadata": {},
   "outputs": [],
   "source": [
    "import pp\n",
    "\n",
    "cross_section_settings=pp.TECH.waveguide.nitride\n",
    "c = pp.components.straight(width=2, cross_section_settings=cross_section_settings)\n",
    "c"
   ]
  },
  {
   "cell_type": "code",
   "execution_count": null,
   "metadata": {},
   "outputs": [],
   "source": [
    "cross_section_settings=pp.TECH.waveguide.nitride\n",
    "c = pp.components.straight(width=2, cross_section_settings=cross_section_settings)\n",
    "gc = pp.components.grating_coupler_elliptical_te(layer=pp.TECH.waveguide.nitride.layer, wg_width=pp.TECH.waveguide.nitride.width)\n",
    "cc = pp.routing.add_fiber_single(component=c, grating_coupler=gc, cross_section_settings=cross_section_settings)\n",
    "cc"
   ]
  },
  {
   "cell_type": "code",
   "execution_count": null,
   "metadata": {},
   "outputs": [],
   "source": []
  }
 ],
 "metadata": {
  "kernelspec": {
   "display_name": "Python 3",
   "language": "python",
   "name": "python3"
  },
  "language_info": {
   "codemirror_mode": {
    "name": "ipython",
    "version": 3
   },
   "file_extension": ".py",
   "mimetype": "text/x-python",
   "name": "python",
   "nbconvert_exporter": "python",
   "pygments_lexer": "ipython3",
   "version": "3.8.3"
  }
 },
 "nbformat": 4,
 "nbformat_minor": 4
}
