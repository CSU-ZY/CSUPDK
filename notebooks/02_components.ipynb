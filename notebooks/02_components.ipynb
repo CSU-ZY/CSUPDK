{
 "cells": [
  {
   "cell_type": "markdown",
   "metadata": {},
   "source": [
    "# Components\n",
    "\n",
    "We store our component functions inside the `pp.components` module. Each\n",
    "function there returns a Component object\n",
    "\n",
    "You can use `dir` or `help` over the `pp.c` module to see the all available\n",
    "components.\n",
    "\n",
    "Some of which are just shapes, but we call them components as they all inherit\n",
    "from the component class in `pp.Component`"
   ]
  },
  {
   "cell_type": "code",
   "execution_count": null,
   "metadata": {},
   "outputs": [],
   "source": [
    "import pp"
   ]
  },
  {
   "cell_type": "code",
   "execution_count": null,
   "metadata": {},
   "outputs": [],
   "source": [
    "c = pp.c.mzi()\n",
    "pp.qp(c)"
   ]
  },
  {
   "cell_type": "code",
   "execution_count": null,
   "metadata": {},
   "outputs": [],
   "source": [
    "c.ports"
   ]
  },
  {
   "cell_type": "code",
   "execution_count": null,
   "metadata": {},
   "outputs": [],
   "source": [
    "c = pp.c.ring_single_bus()\n",
    "pp.qp(c)"
   ]
  },
  {
   "cell_type": "markdown",
   "metadata": {},
   "source": [
    "You can see all the components available in `gdsfactory` by typing `help(pp.c)`"
   ]
  },
  {
   "cell_type": "markdown",
   "metadata": {},
   "source": [
    "# What is a factory?\n",
    "\n",
    "A factory is a function that returns an object.\n",
    "Functions are easier to write and read than classes so gdsfactory contains many functions and only a few clases (Component, ComponentReference, Port)\n",
    "You should be writing functions that return Components."
   ]
  },
  {
   "cell_type": "markdown",
   "metadata": {},
   "source": [
    "# How can we aggregate factories to test them?\n",
    "\n",
    "An easy way to combine multiple factories for testing is using a dictionary, where the key is the factory name.\n",
    "\n",
    "```\n",
    "my_favorite_components = dict(\n",
    "    waveguide=waveguide,\n",
    "    bend_circular=bend_circular\n",
    "    )\n",
    "```\n",
    "\n",
    "This allows you to key all the factory names as `my_favorite_components.keys()` as well as all the factory functions `my_favorite_components.values()`\n",
    "\n",
    "There is an alternative for the syntax above where you can just pass the functions. \n",
    "\n",
    "```\n",
    "my_favorite_components = pp.get_name_to_function_dict(waveguide, bend_circular)\n",
    "\n",
    "```\n"
   ]
  },
  {
   "cell_type": "markdown",
   "metadata": {},
   "source": [
    "# What factories does gdsfactory have?\n",
    "\n",
    "There are two main factories:\n",
    "    \n",
    "- component_factory\n",
    "- route_factory\n",
    "\n",
    "\n",
    "A factory is just a function that returns obects. \n",
    "\n",
    "# Why using factories?\n",
    "\n",
    "Because functions are easier to write than classes.\n",
    "\n",
    "In gdsfactory you will never have to write any classes. The only classes are for internal use (Port, Component and ComponentReference) and have already been defined for you"
   ]
  },
  {
   "cell_type": "code",
   "execution_count": null,
   "metadata": {},
   "outputs": [],
   "source": [
    "import pp\n",
    "from pp.components import component_factory"
   ]
  },
  {
   "cell_type": "code",
   "execution_count": null,
   "metadata": {},
   "outputs": [],
   "source": [
    "component_factory.keys()"
   ]
  },
  {
   "cell_type": "code",
   "execution_count": null,
   "metadata": {},
   "outputs": [],
   "source": [
    "route_factory = pp.routing.route_factory\n",
    "route_factory.keys()"
   ]
  },
  {
   "cell_type": "code",
   "execution_count": null,
   "metadata": {},
   "outputs": [],
   "source": [
    "route_optical = route_factory['optical']\n",
    "route_optical?"
   ]
  },
  {
   "cell_type": "markdown",
   "metadata": {},
   "source": [
    "# What can you do with a factory?\n",
    "\n",
    "A factory easily allows you to access and customize the functions from that `dict`. \n",
    "\n",
    "For example, lets say that you work with fab A. You can define a PDK factory of components and some custom routing waveguides for that particular technology.\n"
   ]
  },
  {
   "cell_type": "code",
   "execution_count": null,
   "metadata": {},
   "outputs": [],
   "source": [
    "def waveguide_wide(width=1.2, length=3, layer=(2,0), layers_cladding=((111, 0))):\n",
    "    return pp.c.waveguide(width=width, length=length, layer=layer, layers_cladding=layers_cladding)\n",
    "\n",
    "fabA_PDK = dict(waveguide_wide=waveguide_wide)"
   ]
  },
  {
   "cell_type": "code",
   "execution_count": null,
   "metadata": {},
   "outputs": [],
   "source": [
    "component_function = fabA_PDK['waveguide_wide']\n",
    "component = component_function()\n",
    "component"
   ]
  },
  {
   "cell_type": "code",
   "execution_count": null,
   "metadata": {},
   "outputs": [],
   "source": []
  }
 ],
 "metadata": {
  "kernelspec": {
   "display_name": "Python 3",
   "language": "python",
   "name": "python3"
  },
  "language_info": {
   "codemirror_mode": {
    "name": "ipython",
    "version": 3
   },
   "file_extension": ".py",
   "mimetype": "text/x-python",
   "name": "python",
   "nbconvert_exporter": "python",
   "pygments_lexer": "ipython3",
   "version": "3.8.3"
  }
 },
 "nbformat": 4,
 "nbformat_minor": 4
}
