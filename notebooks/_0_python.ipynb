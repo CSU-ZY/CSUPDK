{
 "cells": [
  {
   "cell_type": "markdown",
   "id": "5fb4015d",
   "metadata": {},
   "source": [
    "# Python intro\n",
    "\n",
    "gdsfactory is written in python and requires some basic knowledge of python.\n",
    "\n",
    "If you are new to python you can find many resources online\n",
    "\n",
    "- [books](https://jakevdp.github.io/PythonDataScienceHandbook/index.html)\n",
    "- [youTube videos](https://www.youtube.com/c/anthonywritescode)\n",
    "- [courses](https://github.com/joamatab/practical-python)\n",
    "\n",
    "This notebook is for you to experiment with some common python patterns in `gdsfactory`\n",
    "\n",
    "## Classes\n",
    "\n",
    "Gdsfactory has already some pre-defined classes for you.\n",
    "\n",
    "All the other classes (Component, ComponentReference, Port ...) are already available in `gf.typings`\n",
    "\n",
    "Classes are good for keeping state, which means that they store some information inside them (polygons, ports, references ...).\n",
    "\n",
    "In gdsfactory you will write functions instead of classes. Functions are easier to write and combine, and have clearly defined inputs and outputs."
   ]
  },
  {
   "cell_type": "code",
   "execution_count": null,
   "id": "7dbef7ff",
   "metadata": {},
   "outputs": [],
   "source": [
    "from functools import partial\n",
    "\n",
    "from pydantic import validate_call\n",
    "\n",
    "import gdsfactory as gf\n",
    "\n",
    "from gdsfactory.generic_tech import get_generic_pdk\n",
    "\n",
    "PDK = get_generic_pdk()\n",
    "PDK.activate()"
   ]
  },
  {
   "cell_type": "code",
   "execution_count": null,
   "id": "8d4819eb",
   "metadata": {
    "lines_to_next_cell": 2
   },
   "outputs": [],
   "source": [
    "c = gf.Component(name=\"my_fist_component\")\n",
    "c.add_polygon([(-8, 6, 7, 9), (-6, 8, 17, 5)], layer=(1, 0))\n",
    "c.plot()"
   ]
  },
  {
   "cell_type": "markdown",
   "id": "0181d2e9",
   "metadata": {
    "lines_to_next_cell": 2
   },
   "source": [
    "## Functions\n",
    "\n",
    "Functions have clear inputs and outputs, they usually accept some parameters (strings, floats, ints ...) and return other parameters\n"
   ]
  },
  {
   "cell_type": "code",
   "execution_count": null,
   "id": "1604a89f",
   "metadata": {},
   "outputs": [],
   "source": [
    "def double(x):\n",
    "    return 2 * x\n",
    "\n",
    "\n",
    "x = 1.5\n",
    "y = double(x)\n",
    "print(y)"
   ]
  },
  {
   "cell_type": "markdown",
   "id": "675ad33d",
   "metadata": {
    "lines_to_next_cell": 2
   },
   "source": [
    "It's also nice to add `type annotations` to your functions to clearly define what are the input/output types (string, int, float ...)\n"
   ]
  },
  {
   "cell_type": "code",
   "execution_count": null,
   "id": "30fe14b4",
   "metadata": {
    "lines_to_next_cell": 2
   },
   "outputs": [],
   "source": [
    "def double(x: float) -> float:\n",
    "    return 2 * x"
   ]
  },
  {
   "cell_type": "markdown",
   "id": "44a003bd",
   "metadata": {
    "lines_to_next_cell": 2
   },
   "source": [
    "## Factories\n",
    "\n",
    "A factory is a function that returns an object. In gdsfactory many functions return a `Component` object\n"
   ]
  },
  {
   "cell_type": "code",
   "execution_count": null,
   "id": "d202a2d1",
   "metadata": {
    "lines_to_next_cell": 2
   },
   "outputs": [],
   "source": [
    "def bend(radius: float = 5) -> gf.typings.Component:\n",
    "    return gf.components.bend_euler(radius=radius)\n",
    "\n",
    "\n",
    "component = bend(radius=10)\n",
    "\n",
    "print(component)\n",
    "component.plot()\n",
    "\n",
    "\n",
    "# ## Decorators\n",
    "#\n",
    "# gdsfactory has many functions, and we want to do some common operations for the ones that return a Component:\n",
    "#\n",
    "# - give a unique name (dependent on the input parameters) to a Component\n",
    "# - validate input arguments based on type annotations\n",
    "# - cache the Component that the function returns for speed and reuse cells.\n",
    "#\n",
    "# For that you will see a `@gf.cell` decorator on many component functions.\n",
    "#\n",
    "# The validation functionality comes from the [pydantic](https://pydantic-docs.helpmanual.io/) package\n",
    "# and is available to you automatically when using the `@gf.cell` decorator\n",
    "#"
   ]
  },
  {
   "cell_type": "code",
   "execution_count": null,
   "id": "0f1c6c84",
   "metadata": {},
   "outputs": [],
   "source": [
    "@validate_call\n",
    "def double(x: float) -> float:\n",
    "    return 2 * x\n",
    "\n",
    "\n",
    "x = 1.5\n",
    "y = double(x)\n",
    "print(y)"
   ]
  },
  {
   "cell_type": "markdown",
   "id": "aa6a6bf6",
   "metadata": {
    "lines_to_next_cell": 2
   },
   "source": [
    "The validator decorator is equivalent to running\n"
   ]
  },
  {
   "cell_type": "code",
   "execution_count": null,
   "id": "4754576d",
   "metadata": {},
   "outputs": [],
   "source": [
    "def double(x: float) -> float:\n",
    "    return 2 * x\n",
    "\n",
    "\n",
    "double_with_validator = validate_call(double)\n",
    "x = 1.5\n",
    "y = double_with_validator(x)\n",
    "print(y)"
   ]
  },
  {
   "cell_type": "markdown",
   "id": "3687e45b",
   "metadata": {},
   "source": [
    "The `cell` decorator also leverages that validate arguments.\n",
    "So you should add type annotations to your component factories.\n",
    "\n",
    "Lets try to create an error `x` and you will get a clear message the the function `double` does not work with strings"
   ]
  },
  {
   "cell_type": "markdown",
   "id": "4e9f4f09",
   "metadata": {},
   "source": [
    "```python\n",
    "y = double(\"not_valid_number\")\n",
    "```\n",
    "\n",
    "will raise a `ValidationError`\n",
    "\n",
    "```\n",
    "ValidationError: 0 validation error for Double\n",
    "x\n",
    "  value is not a valid float (type=type_error.float)\n",
    "\n",
    "```\n",
    "\n",
    "It will also `cast` the input type based on the type annotation. So if you pass an `int` it will convert it to `float`"
   ]
  },
  {
   "cell_type": "code",
   "execution_count": null,
   "id": "bbbfd887",
   "metadata": {},
   "outputs": [],
   "source": [
    "x = 1\n",
    "y = double_with_validator(x)\n",
    "print(y, type(x), type(y))"
   ]
  },
  {
   "cell_type": "markdown",
   "id": "ca2bb391",
   "metadata": {},
   "source": [
    "## List comprehensions\n",
    "\n",
    "You will also see some list comprehensions, which are common in python.\n",
    "\n",
    "For example, you can write many loops in one line"
   ]
  },
  {
   "cell_type": "code",
   "execution_count": null,
   "id": "8a1916dc",
   "metadata": {},
   "outputs": [],
   "source": [
    "y = []\n",
    "for x in range(3):\n",
    "    y.append(double(x))\n",
    "\n",
    "print(y)"
   ]
  },
  {
   "cell_type": "code",
   "execution_count": null,
   "id": "cc7615ab",
   "metadata": {
    "lines_to_next_cell": 2
   },
   "outputs": [],
   "source": [
    "y = [double(x) for x in range(3)]  # much shorter and easier to read\n",
    "print(y)"
   ]
  },
  {
   "cell_type": "markdown",
   "id": "928779b6",
   "metadata": {
    "lines_to_next_cell": 2
   },
   "source": [
    "## Functional programming\n",
    "\n",
    "Functional programming follows linux philosophy:\n",
    "\n",
    "- Write functions that do one thing and do it well.\n",
    "- Write functions to work together.\n",
    "- Write functions with clear **inputs** and **outputs**\n",
    "\n",
    "### partial\n",
    "\n",
    "Partial is an easy way to modify the default arguments of a function. This is useful in gdsfactory because we define PCells using functions. `from functools import partial`\n",
    "\n",
    "You can use partial to create a new function with some default arguments.\n",
    "\n",
    "The following two functions are equivalent in functionality. Notice how the second one is shorter, more readable and easier to maintain thanks to `partial`:\n"
   ]
  },
  {
   "cell_type": "code",
   "execution_count": null,
   "id": "9605ac78",
   "metadata": {},
   "outputs": [],
   "source": [
    "def ring_sc(gap=0.3, **kwargs) -> gf.Component:\n",
    "    return gf.components.ring_single(gap=gap, **kwargs)\n",
    "\n",
    "\n",
    "ring_sc = partial(gf.components.ring_single, gap=0.3)  # shorter and easier to read"
   ]
  },
  {
   "cell_type": "markdown",
   "id": "d194197c",
   "metadata": {
    "lines_to_next_cell": 2
   },
   "source": [
    "As you customize more parameters, it's more obvious that the second one is easier to maintain\n"
   ]
  },
  {
   "cell_type": "code",
   "execution_count": null,
   "id": "31ef0908",
   "metadata": {},
   "outputs": [],
   "source": [
    "def ring_sc(gap=0.3, radius=10, **kwargs):\n",
    "    return gf.components.ring_single(gap=gap, radius=radius, **kwargs)\n",
    "\n",
    "\n",
    "ring_sc = partial(gf.components.ring_single, gap=0.3, radius=10)"
   ]
  },
  {
   "cell_type": "markdown",
   "id": "aa67d177",
   "metadata": {},
   "source": [
    "### compose\n",
    "\n",
    "`gf.compose` combines two functions into one. This is useful in gdsfactory because we define PCells using functions and functions are easier to combine than classes. You can also import compose from the toolz package `from toolz import compose`"
   ]
  },
  {
   "cell_type": "code",
   "execution_count": null,
   "id": "e763f1f8",
   "metadata": {},
   "outputs": [],
   "source": [
    "ring_sc = partial(gf.components.ring_single, radius=10)\n",
    "add_gratings = gf.routing.add_fiber_array\n",
    "\n",
    "ring_sc_gc = gf.compose(add_gratings, ring_sc)\n",
    "ring_sc_gc5 = ring_sc_gc(radius=5)\n",
    "ring_sc_gc5"
   ]
  },
  {
   "cell_type": "code",
   "execution_count": null,
   "id": "55638bc9",
   "metadata": {},
   "outputs": [],
   "source": [
    "ring_sc_gc20 = ring_sc_gc(radius=20)\n",
    "ring_sc_gc20"
   ]
  },
  {
   "cell_type": "markdown",
   "id": "de50b6d4",
   "metadata": {},
   "source": [
    "This is equivalent and more readable than writing"
   ]
  },
  {
   "cell_type": "code",
   "execution_count": null,
   "id": "2155061e",
   "metadata": {},
   "outputs": [],
   "source": [
    "ring_sc_gc5 = add_gratings(ring_sc(radius=5))\n",
    "ring_sc_gc5"
   ]
  },
  {
   "cell_type": "code",
   "execution_count": null,
   "id": "97c25d40",
   "metadata": {},
   "outputs": [],
   "source": [
    "ring_sc_gc20 = add_gratings(ring_sc(radius=20))\n",
    "ring_sc_gc20"
   ]
  },
  {
   "cell_type": "code",
   "execution_count": null,
   "id": "65d53fdb",
   "metadata": {},
   "outputs": [],
   "source": [
    "print(ring_sc_gc5)"
   ]
  },
  {
   "cell_type": "markdown",
   "id": "4697effa",
   "metadata": {},
   "source": [
    "## Ipython\n",
    "\n",
    "This Jupyter Notebook uses an Interactive Python Terminal (Ipython). So you can interact with the code.\n",
    "\n",
    "For more details on Jupyter Notebooks, you can visit the [Jupyter website](https://jupyter.org/).\n",
    "\n",
    "The most common trick that you will see is that we use `?` to see the documentation of a function or `help(function)`"
   ]
  },
  {
   "cell_type": "code",
   "execution_count": null,
   "id": "0f1ce693",
   "metadata": {},
   "outputs": [],
   "source": [
    "gf.components.coupler?"
   ]
  },
  {
   "cell_type": "code",
   "execution_count": null,
   "id": "fc0009d1",
   "metadata": {},
   "outputs": [],
   "source": [
    "help(gf.components.coupler)"
   ]
  },
  {
   "cell_type": "markdown",
   "id": "ca9eb8c8",
   "metadata": {},
   "source": [
    "To see the source code of a function you can use `??`"
   ]
  },
  {
   "cell_type": "code",
   "execution_count": null,
   "id": "1e653c89",
   "metadata": {},
   "outputs": [],
   "source": [
    "gf.components.coupler??"
   ]
  },
  {
   "cell_type": "markdown",
   "id": "d55368e4",
   "metadata": {},
   "source": [
    "To see which variables you have defined in the workspace you can type `whos`"
   ]
  },
  {
   "cell_type": "markdown",
   "id": "e429184b",
   "metadata": {},
   "source": [
    "To time the execution time of a cell, you can add a `%time` on top of the cell"
   ]
  },
  {
   "cell_type": "code",
   "execution_count": null,
   "id": "6f813ffa",
   "metadata": {},
   "outputs": [],
   "source": [
    "%time\n",
    "\n",
    "\n",
    "def hi() -> None:\n",
    "    print(\"hi\")\n",
    "\n",
    "\n",
    "hi()"
   ]
  },
  {
   "cell_type": "markdown",
   "id": "07fc9678",
   "metadata": {},
   "source": [
    "For more Ipython tricks you can find many resources available online"
   ]
  }
 ],
 "metadata": {
  "jupytext": {
   "cell_metadata_filter": "-all",
   "main_language": "python",
   "notebook_metadata_filter": "-all"
  }
 },
 "nbformat": 4,
 "nbformat_minor": 5
}
