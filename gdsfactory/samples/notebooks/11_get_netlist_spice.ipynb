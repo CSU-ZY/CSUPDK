{
 "cells": [
  {
   "cell_type": "markdown",
   "id": "2a83ce33",
   "metadata": {},
   "source": [
    "# Netlist extractor SPICE\n",
    "\n",
    "You can also extract the SPICE netlist using klayout\n"
   ]
  },
  {
   "cell_type": "code",
   "execution_count": null,
   "id": "d173debd",
   "metadata": {},
   "outputs": [],
   "source": [
    "import gdsfactory as gf\n",
    "\n",
    "\n",
    "@gf.cell\n",
    "def pads_with_routes(radius: float = 10):\n",
    "    \"\"\"Returns 2 pads connected with metal wires.\"\"\"\n",
    "\n",
    "    c = gf.Component()\n",
    "    pad = gf.components.pad()\n",
    "\n",
    "    tl = c << pad\n",
    "    bl = c << pad\n",
    "\n",
    "    tr = c << pad\n",
    "    br = c << pad\n",
    "\n",
    "    tl.move((0, 300))\n",
    "    br.move((500, 0))\n",
    "    tr.move((500, 500))\n",
    "\n",
    "    ports1 = [bl.ports[\"e3\"], tl.ports[\"e3\"]]\n",
    "    ports2 = [br.ports[\"e1\"], tr.ports[\"e1\"]]\n",
    "    routes = gf.routing.get_bundle(ports1, ports2, cross_section=\"metal3\")\n",
    "\n",
    "    for route in routes:\n",
    "        c.add(route.references)\n",
    "\n",
    "    return c"
   ]
  },
  {
   "cell_type": "code",
   "execution_count": null,
   "id": "12aee15a",
   "metadata": {
    "lines_to_next_cell": 2
   },
   "outputs": [],
   "source": [
    "c = pads_with_routes(radius=100)\n",
    "gdspath = c.write_gds()\n",
    "c.plot()"
   ]
  },
  {
   "cell_type": "code",
   "execution_count": null,
   "id": "d1dc33d0",
   "metadata": {},
   "outputs": [],
   "source": [
    "import kfactory as kf\n",
    "\n",
    "lib = kf.kcell.KCLayout()\n",
    "lib.read(filename=str(gdspath))\n",
    "c = lib[0]\n",
    "\n",
    "l2n = kf.kdb.LayoutToNetlist(c.begin_shapes_rec(0))\n",
    "for l_idx in c.kcl.layer_indices():\n",
    "    l2n.connect(l2n.make_layer(l_idx, f\"layer{l_idx}\"))\n",
    "l2n.extract_netlist()\n",
    "print(l2n.netlist().to_s())"
   ]
  },
  {
   "cell_type": "code",
   "execution_count": null,
   "id": "63dfc0eb",
   "metadata": {},
   "outputs": [],
   "source": [
    "l2n.write_l2n(\"netlist_pads_correct.l2n\")"
   ]
  },
  {
   "cell_type": "code",
   "execution_count": null,
   "id": "54260f6a",
   "metadata": {
    "lines_to_next_cell": 2
   },
   "outputs": [],
   "source": [
    "@gf.cell\n",
    "def pads_with_routes_shorted(radius: float = 10):\n",
    "    \"\"\"Returns 2 pads connected with metal wires.\"\"\"\n",
    "\n",
    "    c = gf.Component()\n",
    "    pad = gf.components.pad()\n",
    "\n",
    "    tl = c << pad\n",
    "    bl = c << pad\n",
    "\n",
    "    tr = c << pad\n",
    "    br = c << pad\n",
    "\n",
    "    tl.move((0, 300))\n",
    "    br.move((500, 0))\n",
    "    tr.move((500, 500))\n",
    "\n",
    "    ports1 = [bl.ports[\"e3\"], tl.ports[\"e3\"]]\n",
    "    ports2 = [br.ports[\"e1\"], tr.ports[\"e1\"]]\n",
    "    routes = gf.routing.get_bundle(ports1, ports2, cross_section=\"metal3\")\n",
    "\n",
    "    for route in routes:\n",
    "        c.add(route.references)\n",
    "\n",
    "    route = gf.routing.get_route(bl.ports[\"e2\"], tl.ports[\"e4\"], cross_section=\"metal3\")\n",
    "    c.add(route.references)\n",
    "    return c\n",
    "\n",
    "\n",
    "c = pads_with_routes_shorted(cache=False)\n",
    "gdspath = c.write_gds()\n",
    "c.plot()"
   ]
  },
  {
   "cell_type": "code",
   "execution_count": null,
   "id": "0a9c335a",
   "metadata": {},
   "outputs": [],
   "source": [
    "import kfactory as kf\n",
    "\n",
    "lib = kf.kcell.KCLayout()\n",
    "lib.read(filename=str(gdspath))\n",
    "c = lib[0]\n",
    "\n",
    "l2n = kf.kdb.LayoutToNetlist(c.begin_shapes_rec(0))\n",
    "for l_idx in c.kcl.layer_indices():\n",
    "    l2n.connect(l2n.make_layer(l_idx, f\"layer{l_idx}\"))\n",
    "l2n.extract_netlist()\n",
    "print(l2n.netlist().to_s())"
   ]
  }
 ],
 "metadata": {
  "jupytext": {
   "cell_metadata_filter": "-all",
   "formats": "md,ipynb",
   "main_language": "python",
   "notebook_metadata_filter": "-all"
  }
 },
 "nbformat": 4,
 "nbformat_minor": 5
}
