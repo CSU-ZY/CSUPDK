{
 "cells": [
  {
   "cell_type": "markdown",
   "id": "2376a335",
   "metadata": {},
   "source": [
    "# Git: Version control intro"
   ]
  },
  {
   "cell_type": "markdown",
   "id": "292d2543",
   "metadata": {},
   "source": [
    "“Revision control, also known as version control, source control\n",
    "manages changes to documents, programs, and other information stored as computer files -- Wikipedia"
   ]
  },
  {
   "cell_type": "markdown",
   "id": "d69ed7ba",
   "metadata": {},
   "source": [
    "**Reproducibility?**\n",
    "\n",
    "* Tracking and recreating every step of your work\n",
    "* In the software world: it's called *Version Control*!\n",
    "\n",
    "What do (good) version control tools give you?\n",
    "\n",
    "* Peace of mind (backups)\n",
    "* Freedom (exploratory branching)\n",
    "* Collaboration (synchronization)"
   ]
  },
  {
   "cell_type": "markdown",
   "id": "9e8888b1",
   "metadata": {},
   "source": [
    "## Git is an enabling technology: Use version control for everything"
   ]
  },
  {
   "cell_type": "markdown",
   "id": "a4d5d59b",
   "metadata": {},
   "source": [
    "* Write documents (never get `paper_v5_john_jane_final_oct22_really_final.tex` by email again!)\n",
    "* Write code\n",
    "* Backup your computer configuration"
   ]
  },
  {
   "cell_type": "markdown",
   "id": "e6c24ec2",
   "metadata": {},
   "source": [
    "This tutorial is structured in the following way: we will begin with a brief overview of key concepts you need to understand in order for git to really make sense.  We will then dive into hands-on work: after necessary configuration we will discuss 5 \"stages of git\" with scenarios of increasing sophistication and complexity, introducing the necessary commands for each stage:\n",
    "\n",
    "1. Local, single-user, linear workflow\n",
    "2. Single local user, branching\n",
    "3. Using remotes as a single user\n",
    "4. Remotes for collaborating in a small team\n",
    "5. distributed collaboration with large teams with GitHub/GitLab"
   ]
  },
  {
   "cell_type": "markdown",
   "id": "3cb72e1c",
   "metadata": {},
   "source": [
    "## Very high level picture: an overview of key concepts"
   ]
  },
  {
   "cell_type": "markdown",
   "id": "7d4d3e65",
   "metadata": {},
   "source": [
    "The **commit**: *a snapshot of work at a point in time* Every ball in this diagram represents a commit of all the files in a code repository, that we can go later in time, compare it with. We can also add labels/tags to this commits in case we want to develop new features.\n",
    "\n",
    "![](https://i.imgur.com/YpKkBzf.png)\n",
    "\n",
    "Credit: Gitflow Atlassian"
   ]
  },
  {
   "cell_type": "markdown",
   "id": "e6e824a9",
   "metadata": {},
   "source": [
    "And this is pretty much the essence of Git!"
   ]
  },
  {
   "cell_type": "markdown",
   "id": "36c999a3",
   "metadata": {},
   "source": [
    "## First things first: git must be configured before first use"
   ]
  },
  {
   "cell_type": "markdown",
   "id": "1ca7fd5c",
   "metadata": {},
   "source": [
    "The minimal amount of configuration for git to work without pestering you is to tell it who you are:\n",
    "\n",
    "### Exercise\n",
    "\n",
    "The preceding `!` marks that this code  will execute in the `terminal` interpreter instead of in `python`\n",
    "\n",
    "Lets tell Git who you are."
   ]
  },
  {
   "cell_type": "code",
   "execution_count": null,
   "id": "69dd5c7c",
   "metadata": {},
   "outputs": [],
   "source": [
    "!git config --global user.name \"joaquin\" # replace joaquin by your name\n",
    "!git config --global user.email \"user@gmail.com\" # replace user by your email"
   ]
  },
  {
   "cell_type": "markdown",
   "id": "6f0fa6a4",
   "metadata": {},
   "source": [
    "And how you will edit text files (it will often ask you to edit messages and other information, and thus wants to know how you like to edit your files):"
   ]
  },
  {
   "cell_type": "code",
   "execution_count": null,
   "id": "f56d8f1f",
   "metadata": {},
   "outputs": [],
   "source": [
    "# Put here your preferred editor. If this is not set, git will honor the $EDITOR environment variable\n",
    "# On Windows: Notepad works, Notepad++, sublime or atom\n",
    "# On mac/linux: vim, sublime or atom as a basic option\n",
    "!git config --global core.editor nvim  # my lightweight neovim editor\n",
    "\n",
    "# And while we're at it, we also turn on the use of color, which is very useful\n",
    "!git config --global color.ui \"auto\""
   ]
  },
  {
   "cell_type": "markdown",
   "id": "8e1b2012",
   "metadata": {},
   "source": [
    "## Stage 0: Configure GIT"
   ]
  },
  {
   "cell_type": "markdown",
   "id": "48593938",
   "metadata": {},
   "source": [
    "Github is offers in its help pages instructions on how to configure the credentials helper for [Mac OSX](https://help.github.com/articles/set-up-git#platform-mac) and [Windows](https://help.github.com/articles/set-up-git#platform-windows)."
   ]
  },
  {
   "cell_type": "markdown",
   "id": "2cb07ac6",
   "metadata": {},
   "source": [
    "First we are going to create an SSH key that you can upload to GitHub to recognize you.\n",
    "The key has a private part `id_rsa` that you should keep secret, and a public part `id_rsa.pub` that can upload to GitHub knows it's you.\n",
    "\n",
    "Uncomment and execute the following line, and make sure you run it only once, so only generate one key."
   ]
  },
  {
   "cell_type": "code",
   "execution_count": null,
   "id": "31405770",
   "metadata": {},
   "outputs": [],
   "source": [
    "#! ssh-keygen -f ~/.ssh/id_rsa -t rsa -N ''"
   ]
  },
  {
   "cell_type": "code",
   "execution_count": null,
   "id": "0e753c5f",
   "metadata": {},
   "outputs": [],
   "source": [
    "! cat ~/.ssh/id_rsa.pub"
   ]
  },
  {
   "cell_type": "markdown",
   "id": "46f5e5ad",
   "metadata": {},
   "source": [
    "Then paste the key into your GitHub account. See [doc](https://jdblischak.github.io/2014-09-18-chicago/novice/git/05-sshkeys.html)\n",
    "\n",
    "![key](https://i.imgur.com/33nnXKy.png)\n",
    "![key2](https://i.imgur.com/OjA2dPs.png)"
   ]
  },
  {
   "cell_type": "markdown",
   "id": "a77eaf57",
   "metadata": {},
   "source": [
    "## Stage 1: Local, single-user, linear workflow"
   ]
  },
  {
   "cell_type": "markdown",
   "id": "5155414f",
   "metadata": {},
   "source": [
    "Simply type `git` to see a full list of all the 'core' commands.  We'll now go through most of these via small practical exercises:"
   ]
  },
  {
   "cell_type": "code",
   "execution_count": null,
   "id": "7d1fff67",
   "metadata": {},
   "outputs": [],
   "source": [
    "!git"
   ]
  },
  {
   "cell_type": "markdown",
   "id": "9e8472d6",
   "metadata": {},
   "source": [
    "We are going to create a test repo for git to play"
   ]
  },
  {
   "cell_type": "markdown",
   "id": "f8e23497",
   "metadata": {},
   "source": [
    "### `git init`: create an empty repository\n",
    "\n",
    "first we create a folder called `playground_repo`"
   ]
  },
  {
   "cell_type": "code",
   "execution_count": null,
   "id": "d901f63a",
   "metadata": {},
   "outputs": [],
   "source": [
    "! mkdir playground_repo"
   ]
  },
  {
   "cell_type": "code",
   "execution_count": null,
   "id": "b1603431",
   "metadata": {},
   "outputs": [],
   "source": [
    "cd playground_repo"
   ]
  },
  {
   "cell_type": "markdown",
   "id": "18385caa",
   "metadata": {},
   "source": [
    "Let's look at what git did:"
   ]
  },
  {
   "cell_type": "code",
   "execution_count": null,
   "id": "b091a024",
   "metadata": {},
   "outputs": [],
   "source": [
    "!ls -la"
   ]
  },
  {
   "cell_type": "markdown",
   "id": "b3d6c7b4",
   "metadata": {},
   "source": [
    "The folder is empty now.\n",
    "\n",
    "Lets create a new repo in the folder."
   ]
  },
  {
   "cell_type": "code",
   "execution_count": null,
   "id": "e3bc51f0",
   "metadata": {},
   "outputs": [],
   "source": [
    "! git init"
   ]
  },
  {
   "cell_type": "code",
   "execution_count": null,
   "id": "ad8c62be",
   "metadata": {},
   "outputs": [],
   "source": [
    "! ls -la"
   ]
  },
  {
   "cell_type": "markdown",
   "id": "18104f22",
   "metadata": {},
   "source": [
    "Now you can see that there is a hidden folder `.git` (notice the dot that marks it as a hidden folder), which is the GIT repo"
   ]
  },
  {
   "cell_type": "code",
   "execution_count": null,
   "id": "8ab1003e",
   "metadata": {},
   "outputs": [],
   "source": [
    "! ls -la .git"
   ]
  },
  {
   "cell_type": "markdown",
   "id": "7e045709",
   "metadata": {},
   "source": [
    "Now let's edit our first file in the test directory with a text editor... I'm doing it programmatically here for automation purposes, but you'd normally be editing by hand"
   ]
  },
  {
   "cell_type": "code",
   "execution_count": null,
   "id": "0726b727",
   "metadata": {},
   "outputs": [],
   "source": [
    "!echo \"My first bit of text in the repo\" > README.md"
   ]
  },
  {
   "cell_type": "markdown",
   "id": "e1870a38",
   "metadata": {},
   "source": [
    "`ls` lists the contents of the current working directory"
   ]
  },
  {
   "cell_type": "code",
   "execution_count": null,
   "id": "89294034",
   "metadata": {},
   "outputs": [],
   "source": [
    "!ls"
   ]
  },
  {
   "cell_type": "markdown",
   "id": "95b841c2",
   "metadata": {},
   "source": [
    "### `git add`: tell git about this new file"
   ]
  },
  {
   "cell_type": "code",
   "execution_count": null,
   "id": "a7a11514",
   "metadata": {},
   "outputs": [],
   "source": [
    "!git add README.md"
   ]
  },
  {
   "cell_type": "markdown",
   "id": "1216438b",
   "metadata": {},
   "source": [
    "We can now ask git about what happened with `status`:"
   ]
  },
  {
   "cell_type": "code",
   "execution_count": null,
   "id": "c786d884",
   "metadata": {},
   "outputs": [],
   "source": [
    "!git status"
   ]
  },
  {
   "cell_type": "markdown",
   "id": "68274cb2",
   "metadata": {},
   "source": [
    "### `git commit`: permanently record our changes in git's database"
   ]
  },
  {
   "cell_type": "markdown",
   "id": "8036395c",
   "metadata": {},
   "source": [
    "For now, we are *always* going to call `git commit` either with the `-a` option *or* with specific filenames (`git commit file1 file2...`).  This delays the discussion of an aspect of git called the *index* (often referred to also as the 'staging area') that we will cover later.  Most everyday work in regular scientific practice doesn't require understanding the extra moving parts that the index involves, so on a first round we'll bypass it.  Later on we will discuss how to use it to achieve more fine-grained control of what and how git records our actions."
   ]
  },
  {
   "cell_type": "code",
   "execution_count": null,
   "id": "23d436ba",
   "metadata": {},
   "outputs": [],
   "source": [
    "!git commit -a -m \"First commit\""
   ]
  },
  {
   "cell_type": "markdown",
   "id": "a8586a8a",
   "metadata": {},
   "source": [
    "In the commit above, we  used the `-m` flag to specify a message at the command line.  If we don't do that, git will open the editor we specified in our configuration above and require that we enter a message.  By default, git refuses to record changes that don't have a message to go along with them (though you can obviously 'cheat' by using an empty or meaningless string: git only tries to facilitate best practices, it's not your nanny)."
   ]
  },
  {
   "cell_type": "markdown",
   "id": "9596f5f1",
   "metadata": {},
   "source": [
    "### `git log`: what has been committed so far"
   ]
  },
  {
   "cell_type": "code",
   "execution_count": null,
   "id": "c89045fc",
   "metadata": {},
   "outputs": [],
   "source": [
    "!git log"
   ]
  },
  {
   "cell_type": "markdown",
   "id": "5ee652be",
   "metadata": {},
   "source": [
    "### `git diff`: what have I changed?"
   ]
  },
  {
   "cell_type": "markdown",
   "id": "8523733d",
   "metadata": {},
   "source": [
    "Let's do a little bit more work... Again, in practice you'll be editing the files by hand, here we do it via shell commands for the sake of automation (and therefore the reproducibility of this tutorial!)"
   ]
  },
  {
   "cell_type": "code",
   "execution_count": null,
   "id": "e3a63d86",
   "metadata": {},
   "outputs": [],
   "source": [
    "!echo \"And now we add a second line...\" >> README.md"
   ]
  },
  {
   "cell_type": "markdown",
   "id": "53571b4f",
   "metadata": {},
   "source": [
    "And now we can ask git what is different:"
   ]
  },
  {
   "cell_type": "code",
   "execution_count": null,
   "id": "6e96b24c",
   "metadata": {},
   "outputs": [],
   "source": [
    "!git diff"
   ]
  },
  {
   "cell_type": "markdown",
   "id": "2d4c1320",
   "metadata": {},
   "source": [
    "### The cycle of git virtue: work, commit, work, commit, ..."
   ]
  },
  {
   "cell_type": "code",
   "execution_count": null,
   "id": "ac199e6a",
   "metadata": {},
   "outputs": [],
   "source": [
    "!git commit -a -m \"added second line.\""
   ]
  },
  {
   "cell_type": "markdown",
   "id": "046df281",
   "metadata": {},
   "source": [
    "### `git log` revisited"
   ]
  },
  {
   "cell_type": "markdown",
   "id": "743a6e12",
   "metadata": {},
   "source": [
    "First, let's see what the log shows us now:"
   ]
  },
  {
   "cell_type": "code",
   "execution_count": null,
   "id": "a4185aa7",
   "metadata": {},
   "outputs": [],
   "source": [
    "!git log"
   ]
  },
  {
   "cell_type": "markdown",
   "id": "6585b77c",
   "metadata": {},
   "source": [
    "Sometimes it's handy to see a very summarized version of the log:"
   ]
  },
  {
   "cell_type": "code",
   "execution_count": null,
   "id": "9498c4fa",
   "metadata": {},
   "outputs": [],
   "source": [
    "!git log --oneline --topo-order --graph"
   ]
  },
  {
   "cell_type": "markdown",
   "id": "f261baef",
   "metadata": {},
   "source": [
    "Git supports *aliases:* new names given to command combinations. Let's make this handy shortlog an alias, so we only have to type `git slog` and see this compact log:"
   ]
  },
  {
   "cell_type": "code",
   "execution_count": null,
   "id": "e4095f2a",
   "metadata": {},
   "outputs": [],
   "source": [
    "# We create our alias (this saves it in git's permanent configuration file):\n",
    "!git config --global alias.slog \"log --oneline --topo-order --graph\"\n",
    "\n",
    "# And now we can use it\n",
    "!git slog"
   ]
  },
  {
   "cell_type": "markdown",
   "id": "69ba8bf7",
   "metadata": {},
   "source": [
    "### `git mv` and `rm`: moving and removing files"
   ]
  },
  {
   "cell_type": "markdown",
   "id": "7958debf",
   "metadata": {},
   "source": [
    "While `git add` is used to add fills to the list git tracks, we must also tell it if we want their  names to change or for it to stop tracking them.  In familiar Unix fashion, the `mv` and `rm` git commands do precisely this:"
   ]
  },
  {
   "cell_type": "code",
   "execution_count": null,
   "id": "37c5cd4d",
   "metadata": {},
   "outputs": [],
   "source": [
    "!git mv README.md README.markdown\n",
    "!git status"
   ]
  },
  {
   "cell_type": "markdown",
   "id": "0e66d930",
   "metadata": {},
   "source": [
    "Note that these changes must be committed too, to become permanent!  In git's world, until something hasn't been committed, it isn't permanently recorded anywhere."
   ]
  },
  {
   "cell_type": "code",
   "execution_count": null,
   "id": "684b8bab",
   "metadata": {},
   "outputs": [],
   "source": [
    "!git commit -a -m \"I like this new name better\"\n",
    "!echo \"Let's look at the log again:\"\n",
    "!git slog"
   ]
  },
  {
   "cell_type": "markdown",
   "id": "29f7d8ae",
   "metadata": {},
   "source": [
    "And `git rm` works in a similar fashion removing the file from your repo."
   ]
  },
  {
   "cell_type": "markdown",
   "id": "a8483d59",
   "metadata": {},
   "source": [
    "## Local user, branching"
   ]
  },
  {
   "cell_type": "markdown",
   "id": "d4edff72",
   "metadata": {},
   "source": [
    "What is a branch?  A branch is a label for the state of a GIT repositories. It makes it easy to develop features and go back and forth between the original `main` and the copy `feature branch` version of the files inside the GIT repo\n",
    "\n",
    "![](https://i.imgur.com/Sw95CUf.png)\n",
    "\n",
    "Credit: Gitflow Atlassian"
   ]
  },
  {
   "cell_type": "markdown",
   "id": "b9eb7015",
   "metadata": {},
   "source": [
    "There can be multiple branches alive at any point in time; the working directory is the state of a special pointer called HEAD.  In this example there are two branches, *main* and *develop*:"
   ]
  },
  {
   "cell_type": "markdown",
   "id": "b1fff3fe",
   "metadata": {},
   "source": [
    "Once new commits are made on a branch, HEAD and the branch label move with the new commits:"
   ]
  },
  {
   "cell_type": "markdown",
   "id": "c64f5ffa",
   "metadata": {},
   "source": [
    "This allows the history of both branches to diverge:"
   ]
  },
  {
   "cell_type": "markdown",
   "id": "0725c396",
   "metadata": {},
   "source": [
    "But based on this graph structure, git can compute the necessary information to merge the divergent branches back and continue with a unified line of development:"
   ]
  },
  {
   "cell_type": "markdown",
   "id": "3301c5bc",
   "metadata": {},
   "source": [
    "Let's now illustrate all of this with a concrete example."
   ]
  },
  {
   "cell_type": "code",
   "execution_count": null,
   "id": "697b2496",
   "metadata": {},
   "outputs": [],
   "source": [
    "!git status"
   ]
  },
  {
   "cell_type": "code",
   "execution_count": null,
   "id": "4a0091f6",
   "metadata": {},
   "outputs": [],
   "source": [
    "!ls"
   ]
  },
  {
   "cell_type": "markdown",
   "id": "dca2c795",
   "metadata": {},
   "source": [
    "We are now going to try two different routes of development: on the `main` branch we will add one file and on the `emojis` branch, which we will create, we will add a different one.  We will then merge the emojis branch into `main`."
   ]
  },
  {
   "cell_type": "code",
   "execution_count": null,
   "id": "13027326",
   "metadata": {},
   "outputs": [],
   "source": [
    "!git branch emojis\n",
    "!git checkout emojis"
   ]
  },
  {
   "cell_type": "code",
   "execution_count": null,
   "id": "2ce9ef0c",
   "metadata": {},
   "outputs": [],
   "source": [
    "!echo \"Some emojis :smile:, :horse:, :cat:\" > emojis.md\n",
    "!git add emojis.md\n",
    "!git commit -a -m \"Adding some emojis\"\n",
    "!git slog"
   ]
  },
  {
   "cell_type": "code",
   "execution_count": null,
   "id": "bdb8435b",
   "metadata": {},
   "outputs": [],
   "source": [
    "!git checkout main\n",
    "!git slog"
   ]
  },
  {
   "cell_type": "code",
   "execution_count": null,
   "id": "d2616714",
   "metadata": {},
   "outputs": [],
   "source": [
    "!ls"
   ]
  },
  {
   "cell_type": "markdown",
   "id": "b4064fb0",
   "metadata": {},
   "source": [
    "As you can see there are no emojis file in main yet"
   ]
  },
  {
   "cell_type": "code",
   "execution_count": null,
   "id": "62b3c42d",
   "metadata": {},
   "outputs": [],
   "source": [
    "!echo \"All the while, more work goes on in main...\" >> README.markdown\n",
    "!git commit -a -m \"The mainline keeps moving\"\n",
    "!git slog"
   ]
  },
  {
   "cell_type": "code",
   "execution_count": null,
   "id": "aed0920b",
   "metadata": {},
   "outputs": [],
   "source": [
    "!ls"
   ]
  },
  {
   "cell_type": "code",
   "execution_count": null,
   "id": "ffdb2676",
   "metadata": {},
   "outputs": [],
   "source": [
    "!git merge emojis -m 'merge emojis'\n",
    "!git slog"
   ]
  },
  {
   "cell_type": "markdown",
   "id": "caf85d78",
   "metadata": {},
   "source": [
    "## Using remotes as a single user"
   ]
  },
  {
   "cell_type": "markdown",
   "id": "6ffde9f3",
   "metadata": {},
   "source": [
    "We are now going to introduce the concept of a *remote repository*: a pointer to another copy of the repository that lives on a different location.  This can be simply a different path on the filesystem or a server on the internet.\n",
    "\n",
    "For this discussion, we'll be using remotes hosted on the [GitHub.com](http://github.com) service, but you can equally use other services like [Gitlab](http://gitlab.com)\n",
    "\n",
    "Let's see if we have any remote repositories here:"
   ]
  },
  {
   "cell_type": "code",
   "execution_count": null,
   "id": "a98622ad",
   "metadata": {},
   "outputs": [],
   "source": [
    "!git remote -v"
   ]
  },
  {
   "cell_type": "markdown",
   "id": "cbadfe9d",
   "metadata": {},
   "source": [
    "Since the above cell didn't produce any output after the `git remote -v` call, it means we have no remote repositories configured.  We will now proceed to do so.  Once logged into Github or Gitlab, go to the new repository page and make a repository called `test`.  Do **not** check the box that says `Initialize this repository with a README`, since we already have an existing repository here.  That option is useful when you're starting first at Github and don't have a repo made already on a local computer.\n",
    "\n",
    "We can now follow the instructions from the next page:"
   ]
  },
  {
   "cell_type": "markdown",
   "id": "9163b304",
   "metadata": {},
   "source": [
    "### An important aside: conflict management"
   ]
  },
  {
   "cell_type": "markdown",
   "id": "3fcfa79b",
   "metadata": {},
   "source": [
    "While git is very good at merging, if two different branches modify the same file in the same location, it simply can't decide which change should prevail.  At that point, human intervention is necessary to make the decision.  Git will help you by marking the location in the file that has a problem, but it's up to you to resolve the conflict.  Let's see how that works by intentionally creating a conflict.\n",
    "\n",
    "We start by creating a branch and making a change to our experiment file:"
   ]
  },
  {
   "cell_type": "code",
   "execution_count": null,
   "id": "e0c4d911",
   "metadata": {},
   "outputs": [],
   "source": [
    "!git branch trouble\n",
    "!git checkout trouble\n",
    "!echo \"This is going to be a problem...\" >> README.markdown\n",
    "!git commit -a -m \"Adding a file for trouble\""
   ]
  },
  {
   "cell_type": "markdown",
   "id": "69843dae",
   "metadata": {},
   "source": [
    "And now we go back to the main branch, where we change the *same* file:"
   ]
  },
  {
   "cell_type": "code",
   "execution_count": null,
   "id": "996db4b2",
   "metadata": {},
   "outputs": [],
   "source": [
    "!git checkout main\n",
    "!echo \"At the same time main keeps working on same line will cause a MERGE CONFLICT ...\" >> README.markdown\n",
    "!git commit -a -m \"Keep working on the experiment\""
   ]
  },
  {
   "cell_type": "markdown",
   "id": "470ebfd2",
   "metadata": {},
   "source": [
    "So now let's see what happens if we try to merge the `trouble` branch into `main`:"
   ]
  },
  {
   "cell_type": "code",
   "execution_count": null,
   "id": "81220883",
   "metadata": {},
   "outputs": [],
   "source": [
    "!git checkout main"
   ]
  },
  {
   "cell_type": "code",
   "execution_count": null,
   "id": "68406084",
   "metadata": {},
   "outputs": [],
   "source": [
    "!git merge trouble"
   ]
  },
  {
   "cell_type": "markdown",
   "id": "62549213",
   "metadata": {},
   "source": [
    "Let's see what git has put into our file:"
   ]
  },
  {
   "cell_type": "markdown",
   "id": "bee90197",
   "metadata": {},
   "source": [
    "At this point, we go into the file with a text editor, decide which changes to keep, and make a new commit that records our decision.  I've now made the edits, in this case I decided that both pieces of text were useful, but integrated them with some changes:"
   ]
  },
  {
   "cell_type": "markdown",
   "id": "482dcafb",
   "metadata": {},
   "source": [
    "Let's then make our new commit:"
   ]
  },
  {
   "cell_type": "code",
   "execution_count": null,
   "id": "8abb883b",
   "metadata": {},
   "outputs": [],
   "source": [
    "!git commit -a -m \"Completed merge of trouble, fixing conflicts along the way\"\n",
    "!git slog"
   ]
  },
  {
   "cell_type": "markdown",
   "id": "1e965658",
   "metadata": {},
   "source": [
    "*Note:* While it's a good idea to understand the basics of fixing merge conflicts by hand, in some cases you may find the use of an automated tool useful.  Git supports multiple [merge tools](https://www.kernel.org/pub/software/scm/git/docs/git-mergetool.html): a merge tool is a piece of software that conforms to a basic interface and knows how to merge two files into a new one.  Since these are typically graphical tools, there are various to choose from for the different operating systems, and as long as they obey a basic command structure, git can work with any of them."
   ]
  },
  {
   "cell_type": "markdown",
   "id": "5f3986b3",
   "metadata": {},
   "source": [
    "## Git resources"
   ]
  },
  {
   "cell_type": "markdown",
   "id": "88f321a1",
   "metadata": {},
   "source": [
    "this tutorial is based on  [Francisco Perez GIT notebook](https://github.com/fperez/reprosw)  and has some ideas from the other links:\n",
    "\n",
    "- [atlassian tutorial](https://www.atlassian.com/git/tutorials/what-is-version-control)\n",
    "- [Github tutorial](https://docs.github.com/en/get-started/quickstart/hello-world)\n",
    "- [tutorial on version control](http://nbviewer.ipython.org/urls/raw.github.com/jrjohansson/scientific-python-lectures/master/Lecture-7-Revision-Control-Software.ipynb)\n",
    "- [\"Git for Scientists: A Tutorial\"](https://github.com/johnmcdonnell/Git-Tutorial) by John McDonnell\n",
    "- Emanuele Olivetti's lecture notes and exercises from the G-Node summer school on [Advanced Scientific Programming in Python](https://python.g-node.org/wiki/schedule).\n",
    "- [Pro Git book](http://git-scm.com/book)\n",
    "- [Cheat sheet](https://education.github.com/git-cheat-sheet-education.pdf)\n",
    "- [Git ready](http://www.gitready.com). A great website of posts on specific git-related topics, organized by difficulty.\n",
    "- [Git Magic](http://www-cs-students.stanford.edu/~blynn/gitmagic/index.html). Another book-size guide that has useful snippets.\n",
    "- [port](http://cworth.org/hgbook-git/tour) of the Hg book"
   ]
  },
  {
   "cell_type": "markdown",
   "id": "372888e1",
   "metadata": {},
   "source": [
    "## Git repos\n",
    "\n",
    "You can `git clone` some repositories and `install` the repo\n",
    "\n",
    "Also, you can also add your fork information, `git add`, `git commit`, `git push` your changes and then send a pull request (request to merge your changes)"
   ]
  },
  {
   "cell_type": "markdown",
   "id": "6f62bb28",
   "metadata": {},
   "source": [
    "For chip design you can take a look at [gdsfactory](https://gdsfactory.github.io/gdsfactory/)\n",
    "\n",
    "\n",
    "and copy paste these lines below changing `YourGithubUserName` with you GitHub username\n",
    "```bash\n",
    "!git clone https://github.com/gdsfactory/gdsfactory.git\n",
    "!cd gdsfactory\n",
    "!make install\n",
    "!git remote add fork git@github.com:YourGithubUserName/gdsfactory.git\n",
    "```"
   ]
  },
  {
   "cell_type": "markdown",
   "id": "aab66a24",
   "metadata": {},
   "source": [
    "For an open source PDK take a look at [UBCpdk](https://gdsfactory.github.io/ubc/)\n",
    "\n",
    "\n",
    "and copy paste these lines below changing `YourGithubUserName` with you GitHub username\n",
    "```bash\n",
    "!git clone https://github.com/gdsfactory/ubc.git\n",
    "!cd ubc\n",
    "!make install\n",
    "!git remote add fork git@github.com:YourGithubUserName/ubc.git\n",
    "```"
   ]
  },
  {
   "cell_type": "markdown",
   "id": "424da57f",
   "metadata": {},
   "source": [
    "You can find other interesting packages in the [awesome-photonics](https://github.com/joamatab/awesome_photonics) list."
   ]
  }
 ],
 "metadata": {
  "jupytext": {
   "cell_metadata_filter": "-all",
   "formats": "md,ipynb",
   "main_language": "python",
   "notebook_metadata_filter": "-all"
  }
 },
 "nbformat": 4,
 "nbformat_minor": 5
}
