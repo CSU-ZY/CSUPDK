{
 "cells": [
  {
   "cell_type": "markdown",
   "id": "9d34d466",
   "metadata": {},
   "source": [
    "# Component\n",
    "\n",
    "A `Component` is like an empty canvas, where you can add polygons, references to other Components and ports (to connect to other components)\n",
    "\n",
    "![](https://i.imgur.com/oeuKGsc.png)\n",
    "\n",
    "In gdsfactory **all dimensions** are in **microns**"
   ]
  },
  {
   "cell_type": "markdown",
   "id": "5569dbf2",
   "metadata": {},
   "source": [
    "## Polygons\n",
    "\n",
    "You can add polygons to different layers."
   ]
  },
  {
   "cell_type": "code",
   "execution_count": null,
   "id": "2818a044",
   "metadata": {},
   "outputs": [],
   "source": [
    "import gdsfactory as gf\n",
    "from gdsfactory.generic_tech import get_generic_pdk\n",
    "\n",
    "gf.config.rich_output()\n",
    "\n",
    "PDK = get_generic_pdk()\n",
    "PDK.activate()\n",
    "\n",
    "# Create a blank component (essentially an empty GDS cell with some special features)\n",
    "c = gf.Component(\"myComponent\")\n",
    "\n",
    "# Create and add a polygon from separate lists of x points and y points\n",
    "# (Can also be added like [(x1,y1), (x2,y2), (x3,y3), ... ]\n",
    "poly1 = c.add_polygon(\n",
    "    [(-8, 6, 7, 9), (-6, 8, 17, 5)], layer=1\n",
    ")  # GDS layers are tuples of ints (but if we use only one number it assumes the other number is 0)\n",
    "\n",
    "# show it in matplotlib and KLayout (you need to have KLayout open and install gdsfactory from the git repo with make install)\n",
    "c.plot()"
   ]
  },
  {
   "cell_type": "markdown",
   "id": "0e798ced",
   "metadata": {},
   "source": [
    "**Exercise** :\n",
    "\n",
    "Make a component similar to the one above that has a second polygon in layer (2, 0)"
   ]
  },
  {
   "cell_type": "code",
   "execution_count": null,
   "id": "eb2acbe2",
   "metadata": {},
   "outputs": [],
   "source": [
    "c = gf.Component(\"myComponent2\")\n",
    "# Create some new geometry from the functions available in the geometry library\n",
    "t = gf.components.text(\"Hello!\")\n",
    "r = gf.components.rectangle(size=[5, 10], layer=(2, 0))\n",
    "\n",
    "# Add references to the new geometry to c, our blank component\n",
    "text1 = c.add_ref(t)  # Add the text we created as a reference\n",
    "# Using the << operator (identical to add_ref()), add the same geometry a second time\n",
    "text2 = c << t\n",
    "r = c << r  # Add the rectangle we created\n",
    "\n",
    "# Now that the geometry has been added to \"c\", we can move everything around:\n",
    "text1.movey(25)\n",
    "text2.move([5, 30])\n",
    "text2.rotate(45)\n",
    "r.movex(-15)\n",
    "r.movex(-15)\n",
    "\n",
    "print(c)\n",
    "c.plot()"
   ]
  },
  {
   "cell_type": "markdown",
   "id": "0019f808",
   "metadata": {},
   "source": [
    "You define polygons both from `gdstk` or `Shapely`"
   ]
  },
  {
   "cell_type": "code",
   "execution_count": null,
   "id": "9f28b22d",
   "metadata": {},
   "outputs": [],
   "source": [
    "from shapely.geometry.polygon import Polygon\n",
    "import gdstk\n",
    "import gdsfactory as gf\n",
    "\n",
    "c = gf.Component(\"Mixed_polygons\")\n",
    "p0 = Polygon(zip((-8, 6, 7, 9), (-6, 8, 17, 5)))\n",
    "p1 = p0.buffer(1)\n",
    "p2 = p1.simplify(tolerance=0.1)\n",
    "c.add_polygon(p0, layer=0)\n",
    "c.add_polygon(p1, layer=1)\n",
    "c.add_polygon(p2, layer=2)\n",
    "\n",
    "c.add_polygon([(-8, 6, 7, 9), (-6, 8, 17, 5)], layer=3)\n",
    "c.plot()"
   ]
  },
  {
   "cell_type": "code",
   "execution_count": null,
   "id": "c4e16cf1",
   "metadata": {},
   "outputs": [],
   "source": [
    "p0"
   ]
  },
  {
   "cell_type": "code",
   "execution_count": null,
   "id": "16afc692",
   "metadata": {},
   "outputs": [],
   "source": [
    "p1 = p0.buffer(1)\n",
    "p1"
   ]
  },
  {
   "cell_type": "code",
   "execution_count": null,
   "id": "78da761d",
   "metadata": {},
   "outputs": [],
   "source": [
    "pnot = p1 - p0\n",
    "pnot"
   ]
  },
  {
   "cell_type": "code",
   "execution_count": null,
   "id": "b066f782",
   "metadata": {},
   "outputs": [],
   "source": [
    "c = gf.Component(\"exterior\")\n",
    "c.add_polygon(pnot, layer=3)\n",
    "c.plot()"
   ]
  },
  {
   "cell_type": "code",
   "execution_count": null,
   "id": "bc9ae0d9",
   "metadata": {},
   "outputs": [],
   "source": [
    "p_small = p0.buffer(-1)\n",
    "p_small"
   ]
  },
  {
   "cell_type": "code",
   "execution_count": null,
   "id": "f7a72aec",
   "metadata": {},
   "outputs": [],
   "source": [
    "p_or = pnot | p_small\n",
    "p_or"
   ]
  },
  {
   "cell_type": "code",
   "execution_count": null,
   "id": "9f057c01",
   "metadata": {},
   "outputs": [],
   "source": [
    "c = gf.Component(\"p_or\")\n",
    "c.add_polygon(p_or, layer=1)\n",
    "c.plot()"
   ]
  },
  {
   "cell_type": "code",
   "execution_count": null,
   "id": "8fc4c95d",
   "metadata": {},
   "outputs": [],
   "source": [
    "import shapely as sp\n",
    "\n",
    "p5 = sp.envelope(p0)\n",
    "p5"
   ]
  },
  {
   "cell_type": "code",
   "execution_count": null,
   "id": "6f064c0f",
   "metadata": {},
   "outputs": [],
   "source": [
    "p6 = p5 - p0\n",
    "p6"
   ]
  },
  {
   "cell_type": "code",
   "execution_count": null,
   "id": "944c78e7",
   "metadata": {},
   "outputs": [],
   "source": [
    "c = gf.Component(\"p6\")\n",
    "c.add_polygon(p6, layer=1)\n",
    "c.plot()"
   ]
  },
  {
   "cell_type": "code",
   "execution_count": null,
   "id": "9ee3caac",
   "metadata": {},
   "outputs": [],
   "source": [
    "c = gf.Component(\"demo_multilayer\")\n",
    "p0 = c.add_polygon(p0, layer={2, 3})\n",
    "c.plot()"
   ]
  },
  {
   "cell_type": "code",
   "execution_count": null,
   "id": "ca896972",
   "metadata": {},
   "outputs": [],
   "source": [
    "c = gf.Component(\"demo_mirror\")\n",
    "p0 = c.add_polygon(p0, layer=1)\n",
    "p9 = c.add_polygon(p0, layer=2)\n",
    "p9.mirror()\n",
    "c.plot()"
   ]
  },
  {
   "cell_type": "code",
   "execution_count": null,
   "id": "2baf3602",
   "metadata": {},
   "outputs": [],
   "source": [
    "c = gf.Component(\"demo_xmin\")\n",
    "p0 = c.add_polygon(p0, layer=1)\n",
    "p9 = c.add_polygon(p0, layer=2)\n",
    "p9.mirror()\n",
    "p9.xmin = p0.xmax\n",
    "c.plot()"
   ]
  },
  {
   "cell_type": "code",
   "execution_count": null,
   "id": "44569481",
   "metadata": {
    "lines_to_next_cell": 2
   },
   "outputs": [],
   "source": [
    "c = gf.Component(\"enclosure1\")\n",
    "r = c << gf.components.ring_single()\n",
    "c.plot()"
   ]
  },
  {
   "cell_type": "code",
   "execution_count": null,
   "id": "2846f530",
   "metadata": {},
   "outputs": [],
   "source": [
    "c = gf.Component(\"enclosure2\")\n",
    "r = c << gf.components.ring_single()\n",
    "p = c.get_polygon_bbox()\n",
    "c.add_polygon(p, layer=(2, 0))\n",
    "c.plot()"
   ]
  },
  {
   "cell_type": "code",
   "execution_count": null,
   "id": "b6b03c7c",
   "metadata": {},
   "outputs": [],
   "source": [
    "c = gf.Component(\"enclosure3\")\n",
    "r = c << gf.components.ring_single()\n",
    "p = c.get_polygon_bbox(top=3, bottom=3)\n",
    "c.add_polygon(p, layer=(2, 0))\n",
    "c.plot()"
   ]
  },
  {
   "cell_type": "code",
   "execution_count": null,
   "id": "639d848a",
   "metadata": {},
   "outputs": [],
   "source": [
    "c = gf.Component(\"enclosure3\")\n",
    "r = c << gf.components.ring_single()\n",
    "p = c.get_polygon_enclosure()\n",
    "c.add_polygon(p, layer=(2, 0))\n",
    "c.plot()"
   ]
  },
  {
   "cell_type": "code",
   "execution_count": null,
   "id": "c8fb6755",
   "metadata": {},
   "outputs": [],
   "source": [
    "c = gf.Component(\"enclosure3\")\n",
    "r = c << gf.components.ring_single()\n",
    "p = c.get_polygon_enclosure()\n",
    "p2 = p.buffer(3)\n",
    "c.add_polygon(p2, layer=(2, 0))\n",
    "c.plot()"
   ]
  },
  {
   "cell_type": "markdown",
   "id": "018bb4ed",
   "metadata": {},
   "source": [
    "## Connect **ports**\n",
    "\n",
    "Components can have a \"Port\" that allows you to connect ComponentReferences together like legos.\n",
    "\n",
    "You can write a simple function to make a rectangular straight, assign ports to the ends, and then connect those rectangles together.\n",
    "\n",
    "Notice that `connect` transform each reference but things won't remain connected if you move any of the references afterwards.\n"
   ]
  },
  {
   "cell_type": "code",
   "execution_count": null,
   "id": "3d69e934",
   "metadata": {},
   "outputs": [],
   "source": [
    "@gf.cell\n",
    "def straight(length=10, width=1, layer=(1, 0)):\n",
    "    WG = gf.Component()\n",
    "    WG.add_polygon([(0, 0), (length, 0), (length, width), (0, width)], layer=layer)\n",
    "    WG.add_port(\n",
    "        name=\"o1\", center=[0, width / 2], width=width, orientation=180, layer=layer\n",
    "    )\n",
    "    WG.add_port(\n",
    "        name=\"o2\", center=[length, width / 2], width=width, orientation=0, layer=layer\n",
    "    )\n",
    "    return WG\n",
    "\n",
    "\n",
    "c = gf.Component(\"straights_not_connected\")\n",
    "\n",
    "wg1 = c << straight(length=6, width=2.5, layer=1)\n",
    "wg2 = c << straight(length=11, width=2.5, layer=2)\n",
    "wg3 = c << straight(length=15, width=2.5, layer=3)\n",
    "wg2.movey(10).rotate(10)\n",
    "wg3.movey(20).rotate(15)\n",
    "\n",
    "c.plot()"
   ]
  },
  {
   "cell_type": "markdown",
   "id": "a21cbe25",
   "metadata": {},
   "source": [
    "Now we can connect everything together using the ports:\n",
    "\n",
    "Each straight has two ports: 'o1' and 'o2', respectively on the East and West sides of the rectangular straight component. These are arbitrary\n",
    "names defined in our straight() function above"
   ]
  },
  {
   "cell_type": "code",
   "execution_count": null,
   "id": "572d9687",
   "metadata": {},
   "outputs": [],
   "source": [
    "# Let's keep wg1 in place on the bottom, and connect the other straights to it.\n",
    "# To do that, on wg2 we'll grab the \"o1\" port and connect it to the \"o2\" on wg1:\n",
    "wg2.connect(\"o1\", wg1.ports[\"o2\"])\n",
    "# Next, on wg3 let's grab the \"o1\" port and connect it to the \"o2\" on wg2:\n",
    "wg3.connect(\"o1\", wg2.ports[\"o2\"])\n",
    "\n",
    "c.plot()"
   ]
  },
  {
   "cell_type": "markdown",
   "id": "9a6c32a1",
   "metadata": {},
   "source": [
    "Ports can be added by copying existing ports. In the example below, ports are added at the component-level on c from the existing ports of children wg1 and wg3\n",
    "(i.e. eastmost and westmost ports)"
   ]
  },
  {
   "cell_type": "code",
   "execution_count": null,
   "id": "1f43252f",
   "metadata": {},
   "outputs": [],
   "source": [
    "c.add_port(\"o1\", port=wg1.ports[\"o1\"])\n",
    "c.add_port(\"o2\", port=wg3.ports[\"o2\"])\n",
    "c.plot()"
   ]
  },
  {
   "cell_type": "markdown",
   "id": "40c627e1",
   "metadata": {},
   "source": [
    "## Move and rotate references\n",
    "\n",
    "You can move, rotate, and reflect references to Components."
   ]
  },
  {
   "cell_type": "code",
   "execution_count": null,
   "id": "7dc8d7b8",
   "metadata": {},
   "outputs": [],
   "source": [
    "c = gf.Component(\"straights_connected\")\n",
    "\n",
    "wg1 = c << straight(length=1, layer=(1, 0))\n",
    "wg2 = c << straight(length=2, layer=(2, 0))\n",
    "wg3 = c << straight(length=3, layer=(3, 0))\n",
    "\n",
    "# Create and add a polygon from separate lists of x points and y points\n",
    "# e.g. [(x1, x2, x3, ...), (y1, y2, y3, ...)]\n",
    "poly1 = c.add_polygon([(8, 6, 7, 9), (6, 8, 9, 5)], layer=(4, 0))\n",
    "\n",
    "# Alternatively, create and add a polygon from a list of points\n",
    "# e.g. [(x1,y1), (x2,y2), (x3,y3), ...] using the same function\n",
    "poly2 = c.add_polygon([(0, 0), (1, 1), (1, 3), (-3, 3)], layer=(5, 0))\n",
    "\n",
    "# Shift the first straight we created over by dx = 10, dy = 5\n",
    "wg1.move([10, 5])\n",
    "\n",
    "# Shift the second straight over by dx = 10, dy = 0\n",
    "wg2.move(origin=[0, 0], destination=[10, 0])\n",
    "\n",
    "# Shift the third straight over by dx = 0, dy = 4. The translation movement consist of the difference between the values of the destination and the origin and can optionally be limited in a single axis.\n",
    "wg3.move([1, 1], [5, 5], axis=\"y\")\n",
    "\n",
    "# Then, move again the third straight \"from\" x=0 \"to\" x=10 (dx=10)\n",
    "wg3.movex(0, 10)\n",
    "\n",
    "c.plot()"
   ]
  },
  {
   "cell_type": "markdown",
   "id": "430f9985",
   "metadata": {},
   "source": [
    "## Ports\n",
    "\n",
    "Your straights wg1/wg2/wg3 are references to other waveguide components.\n",
    "\n",
    "If you want to add ports to the new Component `c` you can use `add_port`, where you can create a new port or use a reference to an existing port from the underlying reference."
   ]
  },
  {
   "cell_type": "markdown",
   "id": "b30bdef3",
   "metadata": {},
   "source": [
    "You can access the ports of a Component or ComponentReference"
   ]
  },
  {
   "cell_type": "code",
   "execution_count": null,
   "id": "75746a31",
   "metadata": {},
   "outputs": [],
   "source": [
    "wg2.ports"
   ]
  },
  {
   "cell_type": "markdown",
   "id": "be52ca73",
   "metadata": {},
   "source": [
    "## References\n",
    "\n",
    "Now that your component `c` is a multi-straight component, you can add references to that component in a new blank Component `c2`, then add two references and shift one to see the movement."
   ]
  },
  {
   "cell_type": "code",
   "execution_count": null,
   "id": "22cb7f26",
   "metadata": {},
   "outputs": [],
   "source": [
    "c2 = gf.Component(\"MultiWaveguides\")\n",
    "wg1 = straight()\n",
    "wg2 = straight(layer=(2, 0))\n",
    "mwg1_ref = c2.add_ref(wg1)\n",
    "mwg2_ref = c2.add_ref(wg2)\n",
    "mwg2_ref.move(destination=[10, 10])\n",
    "c2"
   ]
  },
  {
   "cell_type": "code",
   "execution_count": null,
   "id": "2a022cf8",
   "metadata": {},
   "outputs": [],
   "source": [
    "# Like before, let's connect mwg1 and mwg2 together\n",
    "mwg1_ref.connect(port=\"o2\", destination=mwg2_ref.ports[\"o1\"])\n",
    "c2"
   ]
  },
  {
   "cell_type": "markdown",
   "id": "c9a8408b",
   "metadata": {},
   "source": [
    "## Labels\n",
    "\n",
    "You can add abstract GDS labels to annotate your Components, in order to record information\n",
    "directly into the final GDS file without putting any extra geometry onto any layer\n",
    "This label will display in a GDS viewer, but will not be rendered or printed\n",
    "like the polygons created by `gf.components.text()`."
   ]
  },
  {
   "cell_type": "code",
   "execution_count": null,
   "id": "913ecb63",
   "metadata": {},
   "outputs": [],
   "source": [
    "c2.add_label(text=\"First label\", position=mwg1_ref.center)\n",
    "c2.add_label(text=\"Second label\", position=mwg2_ref.center)\n",
    "\n",
    "# labels are useful for recording information\n",
    "c2.add_label(\n",
    "    text=f\"The x size of this\\nlayout is {c2.xsize}\",\n",
    "    position=(c2.xmax, c2.ymax),\n",
    "    layer=(10, 0),\n",
    ")\n",
    "c2"
   ]
  },
  {
   "cell_type": "markdown",
   "id": "5d67627e",
   "metadata": {},
   "source": [
    "Another simple example"
   ]
  },
  {
   "cell_type": "code",
   "execution_count": null,
   "id": "bbe5eb9b",
   "metadata": {},
   "outputs": [],
   "source": [
    "c = gf.Component(\"rectangle_with_label\")\n",
    "r = c << gf.components.rectangle(size=(1, 1))\n",
    "r.x = 0\n",
    "r.y = 0\n",
    "c.add_label(\n",
    "    text=\"Demo label\",\n",
    "    position=(0, 0),\n",
    "    layer=(1, 0),\n",
    ")\n",
    "c.plot()"
   ]
  },
  {
   "cell_type": "markdown",
   "id": "b93d6617",
   "metadata": {},
   "source": [
    "## Boolean shapes\n",
    "\n",
    "If you want to subtract one shape from another, merge two shapes, or\n",
    "perform an XOR on them, you can do that with the `boolean()` function.\n",
    "\n",
    "\n",
    "The ``operation`` argument should be {not, and, or, xor, 'A-B', 'B-A', 'A+B'}.\n",
    "Note that 'A+B' is equivalent to 'or', 'A-B' is equivalent to 'not', and\n",
    "'B-A' is equivalent to 'not' with the operands switched"
   ]
  },
  {
   "cell_type": "code",
   "execution_count": null,
   "id": "992acea9",
   "metadata": {},
   "outputs": [],
   "source": [
    "c = gf.Component(\"boolean_demo\")\n",
    "e1 = c.add_ref(gf.components.ellipse(layer=(2, 0)))\n",
    "e2 = c.add_ref(gf.components.ellipse(radii=(10, 6), layer=(2, 0))).movex(2)\n",
    "e3 = c.add_ref(gf.components.ellipse(radii=(10, 4), layer=(2, 0))).movex(5)\n",
    "c.plot()"
   ]
  },
  {
   "cell_type": "code",
   "execution_count": null,
   "id": "4fbf8cbc",
   "metadata": {},
   "outputs": [],
   "source": [
    "c2 = gf.geometry.boolean(A=[e1, e3], B=e2, operation=\"A-B\", layer=(2, 0))\n",
    "c2"
   ]
  },
  {
   "cell_type": "markdown",
   "id": "c2ead774",
   "metadata": {},
   "source": [
    "## Move Reference by port"
   ]
  },
  {
   "cell_type": "code",
   "execution_count": null,
   "id": "8109644b",
   "metadata": {},
   "outputs": [],
   "source": [
    "c = gf.Component(\"ref_port_sample\")\n",
    "mmi = c.add_ref(gf.components.mmi1x2())\n",
    "bend = c.add_ref(gf.components.bend_circular(layer=(2, 0)))\n",
    "c.plot()"
   ]
  },
  {
   "cell_type": "code",
   "execution_count": null,
   "id": "f43adc70",
   "metadata": {},
   "outputs": [],
   "source": [
    "bend.connect(\"o1\", mmi.ports[\"o2\"])  # connects follow Source, destination syntax\n",
    "c.plot()"
   ]
  },
  {
   "cell_type": "markdown",
   "id": "0a66be0a",
   "metadata": {},
   "source": [
    "## Mirror reference\n",
    "\n",
    "By default the mirror works along the y-axis."
   ]
  },
  {
   "cell_type": "code",
   "execution_count": null,
   "id": "3495414a",
   "metadata": {},
   "outputs": [],
   "source": [
    "c = gf.Component(\"ref_mirror\")\n",
    "mmi = c.add_ref(gf.components.mmi1x2())\n",
    "bend = c.add_ref(gf.components.bend_circular(layer=(2, 0)))\n",
    "c.plot()"
   ]
  },
  {
   "cell_type": "code",
   "execution_count": null,
   "id": "43959634",
   "metadata": {
    "lines_to_next_cell": 2
   },
   "outputs": [],
   "source": [
    "mmi.mirror()\n",
    "c.plot()"
   ]
  },
  {
   "cell_type": "code",
   "execution_count": null,
   "id": "bbaefc82",
   "metadata": {},
   "outputs": [],
   "source": [
    "mmi.mirror_y()\n",
    "c.plot()"
   ]
  },
  {
   "cell_type": "code",
   "execution_count": null,
   "id": "a71eb2cd",
   "metadata": {},
   "outputs": [],
   "source": [
    "mmi.mirror_x()\n",
    "c.plot()"
   ]
  },
  {
   "cell_type": "markdown",
   "id": "298d01ec",
   "metadata": {},
   "source": [
    "## Write\n",
    "\n",
    "You can write your Component to:\n",
    "\n",
    "- GDS file (Graphical Database System) or OASIS for chips.\n",
    "- gerber for PCB.\n",
    "- STL for 3d printing."
   ]
  },
  {
   "cell_type": "code",
   "execution_count": null,
   "id": "6cdf9d94",
   "metadata": {},
   "outputs": [],
   "source": [
    "import gdsfactory as gf\n",
    "\n",
    "c = gf.components.cross()\n",
    "c.write_gds(\"demo.gds\")\n",
    "c.plot()"
   ]
  },
  {
   "cell_type": "markdown",
   "id": "e2906076",
   "metadata": {},
   "source": [
    "You can see the GDS file in Klayout viewer.\n",
    "\n",
    "Sometimes you also want to save the GDS together with metadata (settings, port names, widths, locations ...) in YAML"
   ]
  },
  {
   "cell_type": "code",
   "execution_count": null,
   "id": "148e45d2",
   "metadata": {},
   "outputs": [],
   "source": [
    "c.write_gds(\"demo.gds\", with_metadata=True)"
   ]
  },
  {
   "cell_type": "code",
   "execution_count": null,
   "id": "8e78dc60",
   "metadata": {},
   "outputs": [],
   "source": [
    "c.write_oas(\"demo.oas\")"
   ]
  },
  {
   "cell_type": "code",
   "execution_count": null,
   "id": "dca24ef4",
   "metadata": {},
   "outputs": [],
   "source": [
    "c.write_stl(\"demo.stl\")"
   ]
  },
  {
   "cell_type": "code",
   "execution_count": null,
   "id": "b4dc5ba5",
   "metadata": {},
   "outputs": [],
   "source": [
    "scene = c.to_3d()\n",
    "scene.show()"
   ]
  }
 ],
 "metadata": {
  "jupytext": {
   "cell_metadata_filter": "-all",
   "formats": "md,ipynb",
   "main_language": "python",
   "notebook_metadata_filter": "-all"
  }
 },
 "nbformat": 4,
 "nbformat_minor": 5
}
