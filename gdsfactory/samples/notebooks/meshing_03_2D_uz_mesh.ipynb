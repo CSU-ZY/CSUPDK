{
 "cells": [
  {
   "cell_type": "markdown",
   "id": "535da685",
   "metadata": {},
   "source": [
    "# 2D meshing: uz cross-section\n",
    "\n",
    "You can mesh an out of plane `Component` cross-section by supplying the argument `type=\"uz\"` and a `xsection_bounds` under the form `[[x1,y1], [x2,y2]]`, which parametrizes a line in `u`-coordinates"
   ]
  },
  {
   "cell_type": "code",
   "execution_count": null,
   "id": "901200a1",
   "metadata": {},
   "outputs": [],
   "source": [
    "from gdsfactory.pdk import get_layer_stack\n",
    "from gdsfactory.technology import LayerStack, LayerLevel\n",
    "import gdsfactory as gf\n",
    "from gdsfactory.simulation.gmsh.mesh import create_physical_mesh\n",
    "import meshio\n",
    "from skfem.io import from_meshio\n",
    "from gdsfactory.generic_tech import get_generic_pdk\n",
    "\n",
    "gf.config.rich_output()\n",
    "PDK = get_generic_pdk()\n",
    "PDK.activate()\n",
    "\n",
    "waveguide = gf.components.straight_pin(length=10, taper=None)\n",
    "waveguide_trimmed = gf.Component()\n",
    "waveguide_trimmed.add_ref(\n",
    "    gf.geometry.trim(\n",
    "        component=waveguide,\n",
    "        domain=[[3, -4], [3, 4], [5, 4], [5, -4]],\n",
    "    )\n",
    ")\n",
    "\n",
    "waveguide_trimmed"
   ]
  },
  {
   "cell_type": "code",
   "execution_count": null,
   "id": "dfee8220",
   "metadata": {},
   "outputs": [],
   "source": [
    "filtered_layerstack = LayerStack(\n",
    "    layers={\n",
    "        k: get_layer_stack().layers[k]\n",
    "        for k in (\n",
    "            \"slab90\",\n",
    "            \"core\",\n",
    "            \"via_contact\",\n",
    "        )\n",
    "    }\n",
    ")"
   ]
  },
  {
   "cell_type": "code",
   "execution_count": null,
   "id": "f736a791",
   "metadata": {},
   "outputs": [],
   "source": [
    "filename = \"mesh\"\n",
    "\n",
    "\n",
    "def mesh_with_physicals(mesh, filename):\n",
    "    mesh_from_file = meshio.read(f\"{filename}.msh\")\n",
    "    return create_physical_mesh(mesh_from_file, \"triangle\", prune_z=True)"
   ]
  },
  {
   "cell_type": "markdown",
   "id": "a205966a",
   "metadata": {},
   "source": [
    "Choosing the line going from `y=-4` to `y=4` at `x=4`, which crosses slab, via, and core:"
   ]
  },
  {
   "cell_type": "code",
   "execution_count": null,
   "id": "564b1ff9",
   "metadata": {},
   "outputs": [],
   "source": [
    "mesh = waveguide_trimmed.to_gmsh(\n",
    "    type=\"uz\",\n",
    "    xsection_bounds=[(4, -4), (4, 4)],\n",
    "    layer_stack=filtered_layerstack,\n",
    "    filename=f\"{filename}.msh\",\n",
    ")\n",
    "mesh = mesh_with_physicals(mesh, filename)\n",
    "mesh = from_meshio(mesh)\n",
    "mesh.draw().plot()"
   ]
  },
  {
   "cell_type": "markdown",
   "id": "aed7b3cc",
   "metadata": {},
   "source": [
    "We can plot as usual (note that the `u-z` coordinates we are working in still map to `xy` for the plotter):"
   ]
  },
  {
   "cell_type": "markdown",
   "id": "c0880988",
   "metadata": {},
   "source": [
    "## Mesh background\n",
    "\n",
    "You can add a convenience argument to add a background mesh around the geometry (instead of defining a dummy polygon and layer in the layerstack with low mesh_order):"
   ]
  },
  {
   "cell_type": "code",
   "execution_count": null,
   "id": "c918e7f0",
   "metadata": {},
   "outputs": [],
   "source": [
    "mesh = waveguide_trimmed.to_gmsh(\n",
    "    type=\"uz\",\n",
    "    xsection_bounds=[(4, -4), (4, 4)],\n",
    "    layer_stack=filtered_layerstack,\n",
    "    filename=f\"{filename}.msh\",\n",
    "    background_tag=\"oxide\",\n",
    "    background_padding=(2.0, 2.0, 2.0, 2.0),\n",
    ")\n",
    "mesh = mesh_with_physicals(mesh, filename)\n",
    "mesh = from_meshio(mesh)\n",
    "mesh.draw().plot()"
   ]
  }
 ],
 "metadata": {
  "jupytext": {
   "cell_metadata_filter": "-all",
   "formats": "md,ipynb",
   "main_language": "python",
   "notebook_metadata_filter": "-all"
  }
 },
 "nbformat": 4,
 "nbformat_minor": 5
}
