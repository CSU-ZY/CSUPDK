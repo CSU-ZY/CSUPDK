{
 "cells": [
  {
   "cell_type": "markdown",
   "id": "5412e241",
   "metadata": {},
   "source": [
    "# Tidy3D mode solver\n",
    "\n",
    "Tidy3d comes with an open source FDFD [mode solver](https://docs.flexcompute.com/projects/tidy3d/en/latest/notebooks/ModeSolver.html)\n",
    "\n",
    "## Waveguides\n",
    "\n",
    "Guided Electromagnetic modes are the ones that have an effective index larger than the cladding of the waveguide\n",
    "\n",
    "Here is a waveguide of Silicon (n=3.4) surrounded by SiO2 (n=1.44) cladding\n",
    "\n",
    "For a 220 nm height x 450 nm width the effective index is 2.466"
   ]
  },
  {
   "cell_type": "code",
   "execution_count": null,
   "id": "8fedfae6",
   "metadata": {},
   "outputs": [],
   "source": [
    "import numpy as np\n",
    "import gdsfactory.simulation.gtidy3d as gt\n",
    "import matplotlib.pyplot as plt\n",
    "import gdsfactory as gf\n",
    "\n",
    "gf.config.rich_output()\n",
    "PDK = gf.generic_tech.get_generic_pdk()\n",
    "PDK.activate()\n",
    "\n",
    "nm = 1e-3"
   ]
  },
  {
   "cell_type": "code",
   "execution_count": null,
   "id": "2320982b",
   "metadata": {},
   "outputs": [],
   "source": [
    "strip = gt.modes.Waveguide(\n",
    "    wavelength=1.55,\n",
    "    core_width=0.5,\n",
    "    core_thickness=0.22,\n",
    "    slab_thickness=0.0,\n",
    "    core_material=\"si\",\n",
    "    clad_material=\"sio2\",\n",
    ")\n",
    "strip.plot_index()"
   ]
  },
  {
   "cell_type": "code",
   "execution_count": null,
   "id": "6c5dfa8f",
   "metadata": {},
   "outputs": [],
   "source": [
    "strip.plot_grid()"
   ]
  },
  {
   "cell_type": "code",
   "execution_count": null,
   "id": "1c27fed8",
   "metadata": {},
   "outputs": [],
   "source": [
    "strip.plot_field(field_name=\"Ex\", mode_index=0)  # TE"
   ]
  },
  {
   "cell_type": "code",
   "execution_count": null,
   "id": "8996be67",
   "metadata": {},
   "outputs": [],
   "source": [
    "strip.plot_field(field_name=\"Ex\", mode_index=0, value=\"dB\")  # TE"
   ]
  },
  {
   "cell_type": "code",
   "execution_count": null,
   "id": "7d740e58",
   "metadata": {},
   "outputs": [],
   "source": [
    "strip.plot_field(field_name=\"Ey\", mode_index=1)  # TM"
   ]
  },
  {
   "cell_type": "code",
   "execution_count": null,
   "id": "2d186058",
   "metadata": {},
   "outputs": [],
   "source": [
    "strip.n_eff"
   ]
  },
  {
   "cell_type": "code",
   "execution_count": null,
   "id": "77eb58fc",
   "metadata": {},
   "outputs": [],
   "source": [
    "rib = gt.modes.Waveguide(\n",
    "    wavelength=1.55,\n",
    "    core_width=0.5,\n",
    "    core_thickness=0.22,\n",
    "    slab_thickness=0.15,\n",
    "    core_material=\"si\",\n",
    "    clad_material=\"sio2\",\n",
    ")\n",
    "rib.plot_index()\n",
    "rib.n_eff"
   ]
  },
  {
   "cell_type": "code",
   "execution_count": null,
   "id": "db6651e5",
   "metadata": {},
   "outputs": [],
   "source": [
    "rib.plot_field(field_name=\"Ex\", mode_index=0)  # TE"
   ]
  },
  {
   "cell_type": "code",
   "execution_count": null,
   "id": "05cf96ec",
   "metadata": {},
   "outputs": [],
   "source": [
    "nitride = gt.modes.Waveguide(\n",
    "    wavelength=1.55,\n",
    "    core_width=1.0,\n",
    "    core_thickness=400 * nm,\n",
    "    slab_thickness=0.0,\n",
    "    core_material=\"sin\",\n",
    "    clad_material=\"sio2\",\n",
    ")\n",
    "nitride.plot_index()\n",
    "nitride.n_eff"
   ]
  },
  {
   "cell_type": "code",
   "execution_count": null,
   "id": "1d450457",
   "metadata": {},
   "outputs": [],
   "source": [
    "nitride.plot_field(field_name=\"Ex\", mode_index=0)  # TE"
   ]
  },
  {
   "cell_type": "markdown",
   "id": "667d3663",
   "metadata": {},
   "source": [
    "## Sweep width\n",
    "\n",
    "You can sweep the waveguide width and compute the modes.\n",
    "\n",
    "By increasing the waveguide width, the waveguide supports many more TE and TM modes. Where TE modes have a dominant Ex field and TM modes have larger Ey fields.\n",
    "\n",
    "Notice that waveguides wider than 0.450 um support more than one TE mode. Therefore the maximum width for single mode operation is 0.450 um.\n"
   ]
  },
  {
   "cell_type": "code",
   "execution_count": null,
   "id": "a2414f72",
   "metadata": {},
   "outputs": [],
   "source": [
    "strip = gt.modes.Waveguide(\n",
    "    wavelength=1.55,\n",
    "    core_width=1.0,\n",
    "    slab_thickness=0.0,\n",
    "    core_material=\"si\",\n",
    "    clad_material=\"sio2\",\n",
    "    core_thickness=220 * nm,\n",
    "    num_modes=4,\n",
    ")\n",
    "w = np.linspace(400 * nm, 1000 * nm, 7)\n",
    "n_eff = gt.modes.sweep_n_eff(strip, core_width=w)\n",
    "fraction_te = gt.modes.sweep_fraction_te(strip, core_width=w)\n",
    "\n",
    "for i in range(4):\n",
    "    plt.plot(w, n_eff.sel(mode_index=i).real, c=\"k\")\n",
    "    plt.scatter(w, n_eff.sel(mode_index=i).real, c=fraction_te.sel(mode_index=i))\n",
    "plt.axhline(y=1.44, color=\"k\", ls=\"--\")\n",
    "plt.colorbar().set_label(\"TE fraction\")\n",
    "plt.xlabel(\"Width of waveguide µm\")\n",
    "plt.ylabel(\"Effective refractive index\")\n",
    "plt.title(\"Effective index sweep\")"
   ]
  },
  {
   "cell_type": "markdown",
   "id": "44eaeafa",
   "metadata": {},
   "source": [
    "**Exercises**\n",
    "\n",
    "- What is the maximum width to support a single TE mode at 1310 nm?\n",
    "- For a Silicon Nitride (n=2) 400nm thick waveguide surrounded by SiO2 (n=1.44), what is the maximum width to support a single TE mode at 1550 nm?\n",
    "- For two 500x220nm Silicon waveguides surrounded by SiO2, what is the coupling length (100% coupling) for 200 nm gap?\n"
   ]
  },
  {
   "cell_type": "markdown",
   "id": "6b2b1616",
   "metadata": {},
   "source": [
    "## Group index\n",
    "\n",
    "You can also compute the group index for a waveguide."
   ]
  },
  {
   "cell_type": "code",
   "execution_count": null,
   "id": "3452b5ba",
   "metadata": {},
   "outputs": [],
   "source": [
    "nm = 1e-3\n",
    "\n",
    "strip = gt.modes.Waveguide(\n",
    "    wavelength=1.55,\n",
    "    core_width=500 * nm,\n",
    "    slab_thickness=0.0,\n",
    "    core_material=\"si\",\n",
    "    clad_material=\"sio2\",\n",
    "    core_thickness=220 * nm,\n",
    "    num_modes=4,\n",
    "    group_index_step=10 * nm,\n",
    ")\n",
    "print(strip.n_group)"
   ]
  },
  {
   "cell_type": "markdown",
   "id": "c6c2a8f9",
   "metadata": {},
   "source": [
    "## Bend modes\n",
    "\n",
    "You can compute bend modes specifying the bend radius."
   ]
  },
  {
   "cell_type": "code",
   "execution_count": null,
   "id": "bee9fee6",
   "metadata": {},
   "outputs": [],
   "source": [
    "strip_bend = gt.modes.Waveguide(\n",
    "    wavelength=1.55,\n",
    "    core_width=500 * nm,\n",
    "    core_thickness=220 * nm,\n",
    "    slab_thickness=0.0,\n",
    "    bend_radius=4,\n",
    "    core_material=\"si\",\n",
    "    clad_material=\"sio2\",\n",
    ")\n",
    "strip_bend.plot_field(field_name=\"Ex\", mode_index=0)  # TE"
   ]
  },
  {
   "cell_type": "markdown",
   "id": "cec5073d",
   "metadata": {},
   "source": [
    "## Bend loss\n",
    "\n",
    "You can also compute the losses coming from the mode mismatch from the bend into a straight waveguide.\n",
    "To compute the bend loss due to mode mismatch you can calculate the mode overlap of the straight mode and the bent mode.\n",
    "Because there are two mode mismatch interfaces the total loss due to mode mismatch will be squared (from bend to straight and from straight to bend).\n",
    "\n",
    "![](https://i.imgur.com/M1Yysdr.png)\n",
    "\n",
    "[from paper](https://ieeexplore.ieee.org/ielaam/50/8720127/8684870-aam.pdf)"
   ]
  },
  {
   "cell_type": "code",
   "execution_count": null,
   "id": "bd40d5bb",
   "metadata": {
    "lines_to_next_cell": 2
   },
   "outputs": [],
   "source": [
    "radii = np.arange(4, 7)\n",
    "bend = gt.modes.Waveguide(\n",
    "    wavelength=1.55,\n",
    "    core_width=500 * nm,\n",
    "    core_thickness=220 * nm,\n",
    "    core_material=\"si\",\n",
    "    clad_material=\"sio2\",\n",
    "    num_modes=1,\n",
    "    bend_radius=radii.min(),\n",
    ")\n",
    "mismatch = gt.modes.sweep_bend_mismatch(bend, radii)\n",
    "\n",
    "plt.plot(radii, 10 * np.log10(mismatch))\n",
    "plt.title(\"Strip waveguide bend\")\n",
    "plt.xlabel(\"Radius (μm)\")\n",
    "plt.ylabel(\"Mismatch (dB)\")"
   ]
  },
  {
   "cell_type": "code",
   "execution_count": null,
   "id": "8321ee5a",
   "metadata": {},
   "outputs": [],
   "source": [
    "dB_cm = 2  # dB/cm\n",
    "length = 2 * np.pi * radii * 1e-6\n",
    "propagation_loss = dB_cm * length * 1e2\n",
    "propagation_loss\n",
    "\n",
    "plt.title(\"Bend90 loss for TE polarization\")\n",
    "plt.plot(radii, -10 * np.log10(mismatch), \".\", label=\"mode loss\")\n",
    "plt.plot(radii, propagation_loss, \".\", label=\"propagation loss\")\n",
    "plt.xlabel(\"bend radius (um)\")\n",
    "plt.ylabel(\"Loss (dB)\")\n",
    "plt.legend()"
   ]
  },
  {
   "cell_type": "code",
   "execution_count": null,
   "id": "54d5ad99",
   "metadata": {},
   "outputs": [],
   "source": [
    "rib = gt.modes.Waveguide(\n",
    "    wavelength=1.55,\n",
    "    core_width=1000 * nm,\n",
    "    core_thickness=220 * nm,\n",
    "    slab_thickness=110 * nm,\n",
    "    bend_radius=15,\n",
    "    core_material=\"si\",\n",
    "    clad_material=\"sio2\",\n",
    ")\n",
    "rib.plot_field(field_name=\"Ex\", mode_index=0)  # TE"
   ]
  },
  {
   "cell_type": "code",
   "execution_count": null,
   "id": "064fb7b3",
   "metadata": {},
   "outputs": [],
   "source": [
    "nitride_bend = gt.modes.Waveguide(\n",
    "    wavelength=1.55,\n",
    "    core_width=1000 * nm,\n",
    "    core_thickness=400 * nm,\n",
    "    slab_thickness=0.0,\n",
    "    bend_radius=30,\n",
    "    core_material=\"sin\",\n",
    "    clad_material=\"sio2\",\n",
    ")\n",
    "nitride_bend.plot_field(field_name=\"Ex\", mode_index=0, value=\"abs\")  # TE"
   ]
  },
  {
   "cell_type": "code",
   "execution_count": null,
   "id": "33a6d0ba",
   "metadata": {
    "lines_to_next_cell": 2
   },
   "outputs": [],
   "source": [
    "radii = np.array([30, 35, 40])\n",
    "bend = gt.modes.Waveguide(\n",
    "    wavelength=1.55,\n",
    "    core_width=1000 * nm,\n",
    "    core_thickness=400 * nm,\n",
    "    core_material=\"sin\",\n",
    "    clad_material=\"sio2\",\n",
    "    num_modes=1,\n",
    "    bend_radius=radii.min(),\n",
    ")\n",
    "mismatch = gt.modes.sweep_bend_mismatch(bend, radii)"
   ]
  },
  {
   "cell_type": "code",
   "execution_count": null,
   "id": "17f3c0de",
   "metadata": {},
   "outputs": [],
   "source": [
    "dB_cm = 2  # dB/cm\n",
    "length = 2 * np.pi * radii * 1e-6\n",
    "propagation_loss = dB_cm * length * 1e2\n",
    "propagation_loss\n",
    "\n",
    "plt.title(\"Bend90 loss for TE polarization\")\n",
    "plt.plot(radii, -10 * np.log10(mismatch), \".\", label=\"mode loss\")\n",
    "plt.plot(radii, propagation_loss, \".\", label=\"propagation loss\")\n",
    "plt.xlabel(\"bend radius (um)\")\n",
    "plt.ylabel(\"Loss (dB)\")\n",
    "plt.legend()"
   ]
  },
  {
   "cell_type": "markdown",
   "id": "88fd6326",
   "metadata": {},
   "source": [
    "**Exercises**\n",
    "\n",
    "- For a 500nm wide 220nm thick Silicon waveguide surrounded by SiO2, what is the minimum bend radius to have less than 0.04dB loss for TE polarization at 1550nm?\n",
    "- For a 500nm wide 220nm thick Silicon waveguide surrounded by SiO2, what is the minimum bend radius to have 99% power transmission for TM polarization at 1550nm?"
   ]
  },
  {
   "cell_type": "markdown",
   "id": "cfc862e5",
   "metadata": {},
   "source": [
    "## Waveguide coupler\n",
    "\n",
    "You can also compute the modes of a waveguide coupler.\n",
    "\n",
    "```\n",
    "       ore_width[0]  core_width[1]\n",
    "        <------->     <------->\n",
    "         _______       _______   _\n",
    "        |       |     |       | |\n",
    "        |       |     |       |\n",
    "        |       |_____|       | | core_thickness\n",
    "        |slab_thickness       |\n",
    "        |_____________________| |_\n",
    "                <----->\n",
    "                  gap\n",
    "\n",
    "\n",
    "```"
   ]
  },
  {
   "cell_type": "code",
   "execution_count": null,
   "id": "52611549",
   "metadata": {},
   "outputs": [],
   "source": [
    "c = gt.modes.WaveguideCoupler(\n",
    "    wavelength=1.55,\n",
    "    core_width=(500 * nm, 500 * nm),\n",
    "    gap=200 * nm,\n",
    "    core_thickness=220 * nm,\n",
    "    slab_thickness=100 * nm,\n",
    "    core_material=\"si\",\n",
    "    clad_material=\"sio2\",\n",
    ")\n",
    "c.plot_index()"
   ]
  },
  {
   "cell_type": "code",
   "execution_count": null,
   "id": "e026fce6",
   "metadata": {},
   "outputs": [],
   "source": [
    "c.plot_field(field_name=\"Ex\", mode_index=0)  # TE"
   ]
  },
  {
   "cell_type": "code",
   "execution_count": null,
   "id": "32b63659",
   "metadata": {},
   "outputs": [],
   "source": [
    "c.plot_field(field_name=\"Ex\", mode_index=1)  # TE"
   ]
  },
  {
   "cell_type": "code",
   "execution_count": null,
   "id": "b8f8792b",
   "metadata": {},
   "outputs": [],
   "source": [
    "coupler = gt.modes.WaveguideCoupler(\n",
    "    wavelength=1.55,\n",
    "    core_width=(450 * nm, 450 * nm),\n",
    "    core_thickness=220 * nm,\n",
    "    core_material=\"si\",\n",
    "    clad_material=\"sio2\",\n",
    "    num_modes=4,\n",
    "    gap=0.1,\n",
    ")\n",
    "\n",
    "print(\"\\nCoupler:\", coupler)\n",
    "print(\"Effective indices:\", coupler.n_eff)\n",
    "print(\"Mode areas:\", coupler.mode_area)\n",
    "print(\"Coupling length:\", coupler.coupling_length())\n",
    "\n",
    "gaps = np.linspace(0.05, 0.15, 11)\n",
    "lengths = gt.modes.sweep_coupling_length(coupler, gaps)\n",
    "\n",
    "_, ax = plt.subplots(1, 1)\n",
    "ax.plot(gaps, lengths)\n",
    "ax.set(xlabel=\"Gap (μm)\", ylabel=\"Coupling length (μm)\")\n",
    "ax.legend([\"TE\", \"TM\"])\n",
    "ax.grid()"
   ]
  }
 ],
 "metadata": {
  "jupytext": {
   "cell_metadata_filter": "-all",
   "formats": "md,ipynb",
   "main_language": "python",
   "notebook_metadata_filter": "-all"
  }
 },
 "nbformat": 4,
 "nbformat_minor": 5
}
