{
 "cells": [
  {
   "cell_type": "markdown",
   "metadata": {},
   "source": [
    "# Circuit simulations\n",
    "\n",
    "`get_netlist()` returns a dict with all the instance settings and connections for a Component\n",
    "\n",
    "There is another repo [gdslib](https://github.com/gdsfactory/gdslib) that stores all gdsfactory Sparameters (from Lumerical 3D FDTD simulations) and compact models (from [SiPANN library](https://sipann.readthedocs.io/en/latest/)) and allows you to do circuit simulations with [Simphony](https://github.com/BYUCamachoLab/simphony)\n",
    "\n",
    "This notebook is work in progress"
   ]
  },
  {
   "cell_type": "code",
   "execution_count": null,
   "metadata": {
    "attributes": {
     "classes": [],
     "id": "",
     "n": "1"
    }
   },
   "outputs": [],
   "source": [
    "import pp\n",
    "\n",
    "delta_length = 10\n",
    "DL = delta_length/2\n",
    "\n",
    "c = pp.c.mzi(DL=DL) \n",
    "pp.qp(c)\n",
    "\n",
    "n = c.get_netlist()"
   ]
  },
  {
   "cell_type": "markdown",
   "metadata": {},
   "source": [
    "`gdslib` has also an MZI model. However we can make sure we get the exact cells from the component"
   ]
  },
  {
   "cell_type": "code",
   "execution_count": null,
   "metadata": {},
   "outputs": [],
   "source": [
    "import gdslib as gl\n",
    "import pp\n",
    "from simphony.netlist import Subcircuit\n",
    "\n",
    "m = gl.components.mzi(DL=DL)\n",
    "gl.plot_circuit(m)"
   ]
  },
  {
   "cell_type": "markdown",
   "metadata": {},
   "source": [
    "In this first case we are going to use Sparameters from Lumerical simulations stored in gdslib.\n",
    "Some simulations (such as waveguides with different lengths and bends with 10um bend radius) may be missing so we ignore all the settings and will use the defaults (bends with `radius = 5` and waveguides with `length = 10`"
   ]
  },
  {
   "cell_type": "code",
   "execution_count": null,
   "metadata": {},
   "outputs": [],
   "source": [
    "component = pp.c.mzi()\n",
    "circuit = Subcircuit(component.name)\n",
    "n = component.get_netlist()\n",
    "\n",
    "model_name_tuple = []\n",
    "for i in n.instances.keys():\n",
    "    component_type = n.instances[i]['component']\n",
    "    component_settings = n.instances[i]['settings']\n",
    "    c = pp.c.component_type2factory[component_type]()\n",
    "    #c = pp.c.component_type2factory[component_type](**component_settings)\n",
    "    model = gl.model_from_gdsfactory(c)\n",
    "    #print(component_settings)\n",
    "    #model = gl.component_type2factory[component_type](**component_settings)\n",
    "    model_name_tuple.append((model, i))\n",
    "    \n",
    "e = circuit.add(model_name_tuple)\n",
    "\n",
    "for k, v in n.connections.items():\n",
    "    c1, p1 = k.split(',')\n",
    "    c2, p2 = v.split(',')\n",
    "    circuit.connect(c1, p1, c2, p2)\n",
    "\n",
    "circuit.elements[\"mmi1x2_12_0\"].pins[\"W0\"] = \"input\"\n",
    "circuit.elements[\"mmi1x2_88_0\"].pins[\"W0\"] = \"output\"\n",
    "\n",
    "gl.plot_circuit(circuit)"
   ]
  },
  {
   "cell_type": "markdown",
   "metadata": {},
   "source": [
    "As we can see from the netlist it's hard to capture all possible variations by doing lots of lumerical simulations. That is when a Compact model for the component becomes more powerful. "
   ]
  },
  {
   "cell_type": "code",
   "execution_count": null,
   "metadata": {},
   "outputs": [],
   "source": [
    "component = pp.c.mzi()\n",
    "circuit = Subcircuit(component.name)\n",
    "n = component.get_netlist()\n",
    "\n",
    "model_name_tuple = []\n",
    "for i in n.instances.keys():\n",
    "    component_type = n.instances[i]['component']\n",
    "    component_settings = n.instances[i]['settings']\n",
    "    #c = pp.c.component_type2factory[component_type]()\n",
    "    #c = pp.c.component_type2factory[component_type](**component_settings)\n",
    "    # model = gl.model_from_gdsfactory(c)\n",
    "    #print(component_settings)\n",
    "    model = gl.component_type2factory[component_type](**component_settings)\n",
    "    model_name_tuple.append((model, i))\n",
    "    \n",
    "e = circuit.add(model_name_tuple)\n",
    "\n",
    "for k, v in n.connections.items():\n",
    "    c1, p1 = k.split(',')\n",
    "    c2, p2 = v.split(',')\n",
    "    circuit.connect(c1, p1, c2, p2)\n",
    "\n",
    "circuit.elements[\"mmi1x2_12_0\"].pins[\"W0\"] = \"input\"\n",
    "circuit.elements[\"mmi1x2_88_0\"].pins[\"W0\"] = \"output\"\n",
    "\n",
    "gl.plot_circuit(circuit)"
   ]
  },
  {
   "cell_type": "code",
   "execution_count": null,
   "metadata": {},
   "outputs": [],
   "source": []
  }
 ],
 "metadata": {
  "kernelspec": {
   "display_name": "Python 3",
   "language": "python",
   "name": "python3"
  },
  "language_info": {
   "codemirror_mode": {
    "name": "ipython",
    "version": 3
   },
   "file_extension": ".py",
   "mimetype": "text/x-python",
   "name": "python",
   "nbconvert_exporter": "python",
   "pygments_lexer": "ipython3",
   "version": "3.7.7"
  }
 },
 "nbformat": 4,
 "nbformat_minor": 4
}
