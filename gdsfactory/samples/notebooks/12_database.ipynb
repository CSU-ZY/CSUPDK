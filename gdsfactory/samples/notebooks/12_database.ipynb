{
 "cells": [
  {
   "cell_type": "markdown",
   "id": "453debb7",
   "metadata": {},
   "source": [
    "# Database\n",
    "\n",
    "This notebook shows how to use a database for storing and loading simulation and measurement results.\n",
    "\n",
    "The interface employs [SQLAlchemy](https://www.sqlalchemy.org/), which is installed if you supplied the `[database]` option during gdsfactory installation.\n",
    "\n",
    "```\n",
    "pip install \"gdsfactory[database]\"\n",
    "```\n",
    "\n",
    "The idea is to store simulation, fabrication and measurement data.\n",
    "\n",
    "![database](https://i.imgur.com/6A6Xo8C.jpg)\n",
    "\n",
    "\n",
    "## Overview\n",
    "\n",
    "1. You can create an ad-hoc SQLite database, which will store data in a single file (`database.db` in this case) or use the PostgreSQL web hosted database.\n",
    "2. We add wafer and component data to the database\n",
    "3. We add simulation data to the database"
   ]
  },
  {
   "cell_type": "code",
   "execution_count": null,
   "id": "408e9a0b",
   "metadata": {},
   "outputs": [],
   "source": [
    "from sqlalchemy import text\n",
    "from sqlalchemy.orm import Session\n",
    "\n",
    "import gdsfactory.plugins.database.models as gd\n",
    "import gdsfactory as gf\n",
    "from gdsfactory.generic_tech import get_generic_pdk\n",
    "\n",
    "gf.config.rich_output()\n",
    "PDK = get_generic_pdk()\n",
    "PDK.activate()"
   ]
  },
  {
   "cell_type": "code",
   "execution_count": null,
   "id": "b84ae085",
   "metadata": {
    "lines_to_next_cell": 2
   },
   "outputs": [],
   "source": [
    "from sqlalchemy import create_engine\n",
    "from sqlalchemy.orm import Session\n",
    "import gdsfactory as gf\n",
    "from gdsfactory.plugins.database import models as m\n",
    "\n",
    "engine = create_engine(\"sqlite:///database.db\", echo=True, future=True)\n",
    "m.metadata.create_all(engine)\n",
    "\n",
    "c = gf.components.ring_single(radius=10)\n",
    "\n",
    "with Session(engine) as session:\n",
    "    w1 = m.Wafer(name=\"12\", serial_number=\"ABC\")\n",
    "    r1 = m.Reticle(name=\"sky1\", wafer_id=w1.id, wafer=w1)\n",
    "    d1 = m.Die(name=\"d00\", reticle_id=r1.id, reticle=r1)\n",
    "    c1 = m.Component(name=c.name, die_id=d1.id, die=d1)\n",
    "\n",
    "    component_settings = []\n",
    "\n",
    "    for key, value in c.settings.changed.items():\n",
    "        s = m.ComponentInfo(component=c1, component_id=c1.id, name=key, value=value)\n",
    "        component_settings.append(s)\n",
    "\n",
    "    for port in c.ports.values():\n",
    "        s = m.Port(\n",
    "            component=c1,\n",
    "            component_id=c1.id,\n",
    "            port_type=port.port_type,\n",
    "            name=port.name,\n",
    "            orientation=port.orientation,\n",
    "            position=port.center,\n",
    "        )\n",
    "        component_settings.append(s)\n",
    "\n",
    "    session.add_all([w1, r1, d1, c1])\n",
    "    session.add_all(component_settings)\n",
    "    session.commit()"
   ]
  },
  {
   "cell_type": "markdown",
   "id": "a20becb1",
   "metadata": {},
   "source": [
    "## Querying the database\n",
    "\n",
    "In this section, we show different ways to query the database using SQLAlchemy.\n",
    "\n",
    "Individual rows of a selected model, in this case `Wafer`, from the database are fetched as follows:"
   ]
  },
  {
   "cell_type": "code",
   "execution_count": null,
   "id": "350601c8",
   "metadata": {},
   "outputs": [],
   "source": [
    "with Session(engine) as session:\n",
    "    # Two ways to do the same thing\n",
    "    for wafer in session.query(gd.Wafer):\n",
    "        print(wafer.name, wafer.serial_number)\n",
    "\n",
    "    for wafer_name, wafer_serial in session.query(\n",
    "        gd.Wafer.name, gd.Wafer.serial_number\n",
    "    ):\n",
    "        print(wafer_name, wafer_serial)\n",
    "\n",
    "    # Get the `Wafer` from a child `Reticle`\n",
    "    for reticle in session.query(gd.Reticle).all():\n",
    "        print(reticle.name, reticle.wafer.name)"
   ]
  },
  {
   "cell_type": "markdown",
   "id": "291208fb",
   "metadata": {},
   "source": [
    "Manual SQL commands may naturally be used as well."
   ]
  },
  {
   "cell_type": "code",
   "execution_count": null,
   "id": "25712cd4",
   "metadata": {},
   "outputs": [],
   "source": [
    "# Notice how this is different from session\n",
    "with engine.connect() as connection:\n",
    "    if engine.dialect.name == \"postgresql\":\n",
    "        # Using postgresql type casting\n",
    "        cursor = connection.execute(text(\"SELECT * FROM wafer WHERE name = 12::text\"))\n",
    "    else:\n",
    "        cursor = connection.execute(text(\"SELECT * FROM wafer WHERE name is 12\"))\n",
    "    for row in cursor:\n",
    "        print(row)"
   ]
  },
  {
   "cell_type": "markdown",
   "id": "94ca3ffd",
   "metadata": {},
   "source": [
    "## Add binary files\n",
    "\n",
    "We can store measurements simulation results as binary blobs of data in cloud buckets (AWS S3, Google Cloud Storage ...) and index them into our database"
   ]
  }
 ],
 "metadata": {
  "jupytext": {
   "cell_metadata_filter": "-all",
   "formats": "md,ipynb",
   "main_language": "python",
   "notebook_metadata_filter": "-all"
  }
 },
 "nbformat": 4,
 "nbformat_minor": 5
}
