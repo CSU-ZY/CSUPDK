{
 "cells": [
  {
   "cell_type": "markdown",
   "metadata": {},
   "source": [
    "# Netlist driven flow (masks)\n",
    "\n",
    "You can define both circuits and masks in YAML format `gdsfactory.read.from_yaml`\n",
    "\n",
    "You need to define:\n",
    "\n",
    "- instances\n",
    "- placements\n"
   ]
  },
  {
   "cell_type": "markdown",
   "metadata": {},
   "source": [
    "## pack_doe_grid"
   ]
  },
  {
   "cell_type": "code",
   "execution_count": null,
   "metadata": {},
   "outputs": [],
   "source": [
    "import gdsfactory as gf\n",
    "\n",
    "yaml = \"\"\"\n",
    "name: mask_compact\n",
    "\n",
    "instances:\n",
    "    mmi1x2_sweep_pack:\n",
    "       component: pack_doe_grid\n",
    "       settings:\n",
    "         component: mmi1x2\n",
    "         length_mmi: [2, 100]\n",
    "         width_mmi: [4, 10]\n",
    "       pack:\n",
    "         do_permutations: True\n",
    "         spacing: [100, 100]\n",
    "         shape: [2, 2]\n",
    "         \n",
    "    mzi_sweep:\n",
    "       component: pack_doe\n",
    "       settings:\n",
    "         component: mzi\n",
    "         delta_length: [10, 100]\n",
    "       pack:\n",
    "         do_permutations: True\n",
    "         spacing: 100\n",
    "         \n",
    "placements:\n",
    "    mmi1x2_sweep_pack:\n",
    "        xmin: -100\n",
    "\n",
    "    mzi_sweep:\n",
    "        xmin: mmi1x2_sweep_pack,east\n",
    "\n",
    "\"\"\"\n",
    "\n",
    "c = gf.read.from_yaml(yaml)\n",
    "c"
   ]
  },
  {
   "cell_type": "markdown",
   "metadata": {},
   "source": [
    "## pack_doe"
   ]
  },
  {
   "cell_type": "code",
   "execution_count": null,
   "metadata": {
    "attributes": {
     "classes": [],
     "id": "",
     "n": "5"
    }
   },
   "outputs": [],
   "source": [
    "import gdsfactory as gf\n",
    "\n",
    "yaml = \"\"\"\n",
    "name: mask_compact\n",
    "\n",
    "instances:\n",
    "    mmi1x2_sweep_pack:\n",
    "       component: pack_doe\n",
    "       settings:\n",
    "         component: mmi1x2\n",
    "         length_mmi: [2, 100]\n",
    "         width_mmi: [4, 10]\n",
    "       pack:\n",
    "         do_permutations: True\n",
    "         spacing: 100\n",
    "         \n",
    "    mzi_sweep:\n",
    "       component: pack_doe\n",
    "       settings:\n",
    "         component: mzi\n",
    "         delta_length: [10, 100]\n",
    "       pack:\n",
    "         do_permutations: True\n",
    "         spacing: 100\n",
    "         \n",
    "placements:\n",
    "    mzi_sweep:\n",
    "        x: mmi1x2_sweep_pack,east\n",
    "         \n",
    "\"\"\"\n",
    "\n",
    "c = gf.read.from_yaml(yaml)\n",
    "c"
   ]
  },
  {
   "cell_type": "code",
   "execution_count": null,
   "metadata": {},
   "outputs": [],
   "source": []
  }
 ],
 "metadata": {
  "kernelspec": {
   "display_name": "Python 3 (ipykernel)",
   "language": "python",
   "name": "python3"
  },
  "language_info": {
   "codemirror_mode": {
    "name": "ipython",
    "version": 3
   },
   "file_extension": ".py",
   "mimetype": "text/x-python",
   "name": "python",
   "nbconvert_exporter": "python",
   "pygments_lexer": "ipython3",
   "version": "3.9.10"
  }
 },
 "nbformat": 4,
 "nbformat_minor": 4
}
