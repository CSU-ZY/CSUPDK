{
 "cells": [
  {
   "cell_type": "markdown",
   "id": "0fd5fd63-4798-4187-8315-f6112b7b4d7e",
   "metadata": {},
   "source": [
    "# Sweep components\n",
    "\n",
    "Lets create a Design of Experiement (DOE), where you can change any of the values\n",
    "\n",
    "Lets create a resistance sweep, where we change the resistance width\n",
    "\n",
    "\n",
    "## Pack"
   ]
  },
  {
   "cell_type": "code",
   "execution_count": null,
   "id": "624be8bc-9d7f-40e8-9217-c0d9071471e9",
   "metadata": {},
   "outputs": [],
   "source": [
    "import gdsfactory as gf\n",
    "gf.clear_cache()\n",
    "\n",
    "sweep = [gf.components.resistance_sheet(width=width) for width in [1, 10, 100]]\n",
    "m = gf.pack(sweep)\n",
    "m[0]"
   ]
  },
  {
   "cell_type": "code",
   "execution_count": null,
   "id": "b5a870bf-69d0-4088-83dc-c2a911bbdf70",
   "metadata": {},
   "outputs": [],
   "source": [
    "spiral_te = gf.routing.add_fiber_single(gf.functions.rotate(gf.components.spiral_inner_io_fiber_single, 90))\n",
    "spiral_te"
   ]
  },
  {
   "cell_type": "code",
   "execution_count": null,
   "id": "292aeb23-52b7-4b95-af3f-1218fcb3e60e",
   "metadata": {},
   "outputs": [],
   "source": [
    "# which is equivalent to\n",
    "spiral_te = gf.compose(gf.routing.add_fiber_single, gf.functions.rotate90, gf.components.spiral_inner_io_fiber_single)\n",
    "spiral_te(length=10e3)"
   ]
  },
  {
   "cell_type": "code",
   "execution_count": null,
   "id": "28642192-edaa-47de-a70c-0a6b1c60ec87",
   "metadata": {},
   "outputs": [],
   "source": [
    "import gdsfactory as gf\n",
    "\n",
    "sweep = [spiral_te(length=length) for length in [10e3, 20e3, 30e3]]\n",
    "m = gf.pack(sweep)\n",
    "m[0]"
   ]
  },
  {
   "cell_type": "markdown",
   "id": "de11e81e-fed1-49c1-b3b1-3f38ca1d7e4b",
   "metadata": {},
   "source": [
    "You can also add a `prefix` to each text label. For example `S` for the spirals at the `north-center`"
   ]
  },
  {
   "cell_type": "code",
   "execution_count": null,
   "id": "163625c7-3446-43fb-9d79-21ba1b2ef84f",
   "metadata": {},
   "outputs": [],
   "source": [
    "text_metal3 = gf.partial(gf.c.text_rectangular, layers=(gf.LAYER.M3,))\n",
    "\n",
    "m = gf.pack(sweep, text=text_metal3, text_anchors=('nc',), text_prefix='s')\n",
    "m[0]"
   ]
  },
  {
   "cell_type": "markdown",
   "id": "202f96c4-3534-492d-beb1-739b75a0caa2",
   "metadata": {},
   "source": [
    "## Grid"
   ]
  },
  {
   "cell_type": "code",
   "execution_count": null,
   "id": "c0510675-a6a0-48ab-868b-147548c9baa9",
   "metadata": {},
   "outputs": [],
   "source": [
    "g = gf.grid(sweep)\n",
    "g"
   ]
  },
  {
   "cell_type": "code",
   "execution_count": null,
   "id": "ef5c0177-ba7d-4763-bd19-25b094dcaaa1",
   "metadata": {},
   "outputs": [],
   "source": [
    "gh = gf.grid(sweep, shape=(1, len(sweep)))\n",
    "gh"
   ]
  },
  {
   "cell_type": "code",
   "execution_count": null,
   "id": "f1b19b3c-ef2a-4684-a961-057e71d057fa",
   "metadata": {},
   "outputs": [],
   "source": [
    "ghymin = gf.grid(sweep, shape=(1, len(sweep)), align_y='ymin')\n",
    "ghymin"
   ]
  },
  {
   "cell_type": "markdown",
   "id": "c906630b-d340-4f1f-9b6a-c88c39205d9d",
   "metadata": {},
   "source": [
    "You can also add text labels to each element of the sweep"
   ]
  },
  {
   "cell_type": "code",
   "execution_count": null,
   "id": "28809b6e-2fa1-4ee0-96f8-9efec4a4c871",
   "metadata": {},
   "outputs": [],
   "source": [
    "ghymin = gf.grid_with_text(sweep, shape=(1, len(sweep)), align_y='ymin', text=text_metal3)\n",
    "ghymin"
   ]
  },
  {
   "cell_type": "markdown",
   "id": "3b997412-a382-4ec5-8161-0598ea6ee774",
   "metadata": {},
   "source": [
    "## Mask\n",
    "\n",
    "You can easily define a mask using `grid` and `pack`"
   ]
  },
  {
   "cell_type": "code",
   "execution_count": null,
   "id": "60bcbcf0-503d-43b9-ac9f-6bd8a744cea7",
   "metadata": {},
   "outputs": [],
   "source": [
    "import gdsfactory as gf\n",
    "\n",
    "text_metal3 = gf.partial(gf.c.text_rectangular, layers=(gf.LAYER.M3,))\n",
    "grid = gf.partial(gf.grid_with_text, text=text_metal3)\n",
    "pack = gf.partial(gf.pack, text=text_metal3)\n",
    "\n",
    "gratings_sweep = [gf.c.grating_coupler_elliptical(taper_angle=taper_angle) for taper_angle in [20, 30, 40]]\n",
    "gratings = grid(gratings_sweep, text=None)\n",
    "gratings"
   ]
  },
  {
   "cell_type": "code",
   "execution_count": null,
   "id": "e689a444-8af9-45f7-b068-2411a3c1277f",
   "metadata": {},
   "outputs": [],
   "source": [
    "gf."
   ]
  }
 ],
 "metadata": {
  "kernelspec": {
   "display_name": "Python 3 (ipykernel)",
   "language": "python",
   "name": "python3"
  },
  "language_info": {
   "codemirror_mode": {
    "name": "ipython",
    "version": 3
   },
   "file_extension": ".py",
   "mimetype": "text/x-python",
   "name": "python",
   "nbconvert_exporter": "python",
   "pygments_lexer": "ipython3",
   "version": "3.9.7"
  }
 },
 "nbformat": 4,
 "nbformat_minor": 5
}
