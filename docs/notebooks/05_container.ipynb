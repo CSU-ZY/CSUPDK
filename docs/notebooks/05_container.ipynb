{
 "cells": [
  {
   "cell_type": "markdown",
   "metadata": {},
   "source": [
    "# Container\n",
    "\n",
    "Cells must have a unique name.\n",
    "If you change something in the cell, such as add a label, a grating coupler or just a pin and keep the same name it is very likely that you will have a name conflict when you combine two cells with the same name but different geometry.\n",
    "\n",
    "\n",
    "Containers are an easy way to take an unchanged cell, then encapsulate it in a cell with a different name and add the old cell.\n",
    "Most containers preserve the original cell name inside the cell.\n",
    "For example, if you want to add padding to a Component called 'waveguide_L3', you can use the original name and just add a suffix.\n",
    "\n",
    "`container_name = \"f{component.name}_padding\"`\n",
    "\n",
    "\n",
    "if you don't define the port of the container, it will automatically take the ports from the component that it contains.\n",
    "It will also encapsulate the component settings."
   ]
  },
  {
   "cell_type": "code",
   "execution_count": null,
   "metadata": {},
   "outputs": [],
   "source": [
    "from typing import Tuple, Optional,List\n",
    "import pp\n",
    "\n",
    "\n",
    "@pp.container\n",
    "def add_padding(\n",
    "    component: pp.Component,\n",
    "    layers: List[Tuple[int, int]] = [pp.LAYER.DEVREC],\n",
    "    suffix: str = \"p\",\n",
    "    default: float = 5.0,\n",
    "    top: Optional[float] = None,\n",
    "    bottom: Optional[float] = None,\n",
    "    right: Optional[float] = None,\n",
    "    left: Optional[float] = None,\n",
    "\n",
    ") -> pp.Component:\n",
    "    \"\"\"Adds padding layers to a container.\n",
    "\n",
    "    Args:\n",
    "        component\n",
    "        layers: list of layers\n",
    "        suffix for name\n",
    "        default: default padding\n",
    "        top: north padding\n",
    "        bottom: south padding\n",
    "        right: east padding\n",
    "        left: west padding\n",
    "    \"\"\"\n",
    "\n",
    "    container = pp.Component(name=f\"{component.name}_{suffix}\")\n",
    "    container << component\n",
    "\n",
    "    c = component\n",
    "    top = top if top else default\n",
    "    bottom = bottom if bottom else default\n",
    "    right = right if right else default\n",
    "    left = left if left else default\n",
    "\n",
    "    points =   [[c.xmin - left, c.ymin - bottom],\n",
    "        [c.xmax + right, c.ymin - bottom],\n",
    "        [c.xmax + right, c.ymax + top],\n",
    "        [c.xmin - left, c.ymax + top]]\n",
    "\n",
    "    for layer in layers:\n",
    "        container.add_polygon(points, layer=layer)\n",
    "    return container\n",
    "\n",
    "wg = pp.c.waveguide()\n",
    "wg"
   ]
  },
  {
   "cell_type": "code",
   "execution_count": null,
   "metadata": {},
   "outputs": [],
   "source": [
    "wg_padding = add_padding(wg)\n",
    "wg_padding"
   ]
  },
  {
   "cell_type": "code",
   "execution_count": null,
   "metadata": {},
   "outputs": [],
   "source": [
    "wg.settings"
   ]
  },
  {
   "cell_type": "code",
   "execution_count": null,
   "metadata": {},
   "outputs": [],
   "source": [
    "wg_padding.settings"
   ]
  },
  {
   "cell_type": "markdown",
   "metadata": {},
   "source": [
    "# useful containers"
   ]
  },
  {
   "cell_type": "code",
   "execution_count": null,
   "metadata": {},
   "outputs": [],
   "source": [
    "import pp\n",
    "\n",
    "c = pp.c.waveguide()\n",
    "c"
   ]
  },
  {
   "cell_type": "code",
   "execution_count": null,
   "metadata": {},
   "outputs": [],
   "source": [
    "pp.add_padding?"
   ]
  },
  {
   "cell_type": "code",
   "execution_count": null,
   "metadata": {},
   "outputs": [],
   "source": [
    "c = pp.c.waveguide()\n",
    "cc = pp.add_padding(c, default=5)\n",
    "cc"
   ]
  },
  {
   "cell_type": "code",
   "execution_count": null,
   "metadata": {},
   "outputs": [],
   "source": [
    "pp.add_pins?"
   ]
  },
  {
   "cell_type": "code",
   "execution_count": null,
   "metadata": {},
   "outputs": [],
   "source": [
    "c = pp.c.waveguide()\n",
    "cc = pp.add_pins(c)\n",
    "cc"
   ]
  },
  {
   "cell_type": "code",
   "execution_count": null,
   "metadata": {},
   "outputs": [],
   "source": [
    "cc = pp.extend_ports?"
   ]
  },
  {
   "cell_type": "code",
   "execution_count": null,
   "metadata": {},
   "outputs": [],
   "source": [
    "cc = pp.extend_ports"
   ]
  },
  {
   "cell_type": "code",
   "execution_count": null,
   "metadata": {},
   "outputs": [],
   "source": [
    "cc = pp.extend_ports"
   ]
  },
  {
   "cell_type": "code",
   "execution_count": null,
   "metadata": {},
   "outputs": [],
   "source": [
    "c = pp.c.waveguide()\n",
    "cc = pp.extend_ports(c)\n",
    "cc"
   ]
  },
  {
   "cell_type": "code",
   "execution_count": null,
   "metadata": {},
   "outputs": [],
   "source": [
    "c = pp.c.waveguide()\n",
    "cc = pp.add_termination(c)\n",
    "cc"
   ]
  },
  {
   "cell_type": "code",
   "execution_count": null,
   "metadata": {},
   "outputs": [],
   "source": [
    "pp.routing.add_fiber_array?"
   ]
  },
  {
   "cell_type": "code",
   "execution_count": null,
   "metadata": {},
   "outputs": [],
   "source": [
    "c = pp.c.waveguide()\n",
    "cc = pp.routing.add_fiber_array(c)\n",
    "cc"
   ]
  },
  {
   "cell_type": "code",
   "execution_count": null,
   "metadata": {},
   "outputs": [],
   "source": [
    "pp.routing.add_fiber_single?"
   ]
  },
  {
   "cell_type": "code",
   "execution_count": null,
   "metadata": {},
   "outputs": [],
   "source": [
    "c = pp.c.waveguide()\n",
    "cc = pp.routing.add_fiber_single(c)\n",
    "cc"
   ]
  },
  {
   "cell_type": "code",
   "execution_count": null,
   "metadata": {},
   "outputs": [],
   "source": []
  }
 ],
 "metadata": {
  "kernelspec": {
   "display_name": "Python 3",
   "language": "python",
   "name": "python3"
  },
  "language_info": {
   "codemirror_mode": {
    "name": "ipython",
    "version": 3
   },
   "file_extension": ".py",
   "mimetype": "text/x-python",
   "name": "python",
   "nbconvert_exporter": "python",
   "pygments_lexer": "ipython3",
   "version": "3.8.3"
  }
 },
 "nbformat": 4,
 "nbformat_minor": 4
}
