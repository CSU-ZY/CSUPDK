{
 "cells": [
  {
   "cell_type": "markdown",
   "metadata": {},
   "source": [
    "# Lumerical FDTD Sparameters\n",
    "\n",
    "gdsfactory provides you with a Lumerical FDTD interface to calculate Sparameters automatically  (without you having to click around the Lumerical GUI)\n",
    "\n",
    "The function `gdsfactory.simulation.write_sparameters_lumerical` brings up a GUI, runs simulation and then writes the Sparameters both in .CSV and .DAT (Lumerical interconnect / simphony) file formats, as well as the simulation settings in YAML format.\n",
    "\n",
    "In the CSV format each Sparameter will have 2 columns, `S12m` where `m` stands for magnitude and `S12a` where `a` stands for angle in radians.\n",
    "\n",
    "For the simulation to wor well, your components need to have ports, that will be extended automatically to go over the PML.\n",
    "\n",
    "![](https://i.imgur.com/dHAzZRw.png)\n",
    "\n",
    "\n",
    "The script calls internally the lumerical python API `lumapi` so you will need to make sure that you can run this from python.\n",
    "\n",
    "```python\n",
    "import lumapi\n",
    "\n",
    "session = luampi.FDTD()\n",
    "```\n",
    "\n",
    "In linux that may require you to export the PYTHONPATH variable in your shell environment.\n",
    "\n",
    "You can add one line into your `.bashrc` in your Linux machine. This line will depend also on your Lumerical version. For example for Lumerical 2019b\n",
    "\n",
    "\n",
    "\n",
    "\n",
    "```bash\n",
    "[ -d \"/opt/lumerical/2019b\" ] && export PATH=$PATH:/opt/lumerical/2019b/bin && export PYTHONPATH=/opt/lumerical/2019b/api/python\n",
    "```\n",
    "\n",
    "\n",
    "And for 2021v212\n",
    "\n",
    "```bash\n",
    "[ -d \"/opt/lumerical/v212\" ] && export PATH=$PATH:/opt/lumerical/v212/api/python/bin && export PYTHONPATH=/opt/lumerical/v212/api/python\n",
    "```\n",
    "\n",
    "\n",
    "Finally, You can chain the Sparameters to calculate solve of larger circuits using a circuit solver such as:\n",
    "\n",
    "- Lumerical interconnect\n",
    "- [simphony (open source)](https://simphonyphotonics.readthedocs.io/en/latest/)\n",
    "- [sax (open source)](https://sax.readthedocs.io/en/latest/index.html)\n",
    "\n"
   ]
  },
  {
   "cell_type": "code",
   "execution_count": null,
   "metadata": {},
   "outputs": [],
   "source": [
    "import gdsfactory as gf\n",
    "import gdsfactory.simulation as sim\n",
    "\n",
    "gf.tech.SIMULATION_SETTINGS"
   ]
  },
  {
   "cell_type": "code",
   "execution_count": null,
   "metadata": {},
   "outputs": [],
   "source": [
    "sim.write_sparameters_lumerical?"
   ]
  },
  {
   "cell_type": "code",
   "execution_count": null,
   "metadata": {},
   "outputs": [],
   "source": [
    "# NBVAL_SKIP\n",
    "import gdsfactory as gf\n",
    "import gdsfactory.simulation as sim\n",
    "import lumapi\n",
    "\n",
    "s = lumapi.FDTD()"
   ]
  },
  {
   "cell_type": "code",
   "execution_count": null,
   "metadata": {},
   "outputs": [],
   "source": [
    "gf.components.factory.keys()"
   ]
  },
  {
   "cell_type": "code",
   "execution_count": null,
   "metadata": {},
   "outputs": [],
   "source": [
    "components = [\n",
    "    \"bend_euler\",\n",
    "    \"bend_s\",\n",
    "    \"coupler\",\n",
    "    \"coupler_ring\",\n",
    "    \"crossing\",\n",
    "    \"mmi1x2\",\n",
    "    \"mmi2x2\",\n",
    "    \"taper\",\n",
    "    \"straight\",\n",
    "]\n",
    "need_review = []\n",
    "\n",
    "for component_name in components:\n",
    "    component = gf.components.factory[component_name]()\n",
    "    sim.write_sparameters_lumerical(component, run=False, session=s)\n",
    "    response = input(f\"does the simulation for {component_name} look good? (y/n)\")\n",
    "    if response.upper()[0] == \"N\":\n",
    "        need_review.append(componnent_name)"
   ]
  },
  {
   "cell_type": "code",
   "execution_count": null,
   "metadata": {},
   "outputs": [],
   "source": [
    "components = [\"crossing\", \"mmi1x2\", \"mmi2x2\", \"taper\", \"straight\"]\n",
    "need_review = []\n",
    "\n",
    "for component_name in components:\n",
    "    component = gf.components.factory[component_name]()\n",
    "    sim.write_sparameters_lumerical(component, run=False, session=s)\n",
    "    response = input(\"does the simulation look good? (y/n)\")\n",
    "    if response.upper()[0] == \"N\":\n",
    "        need_review.append(component_name)"
   ]
  },
  {
   "cell_type": "code",
   "execution_count": null,
   "metadata": {},
   "outputs": [],
   "source": [
    "sim.plot.plot_sparameters(gf.components.mmi1x2(), keys=[\"S23m\", \"S13m\"], logscale=True)"
   ]
  },
  {
   "cell_type": "code",
   "execution_count": null,
   "metadata": {},
   "outputs": [],
   "source": [
    "sim.write_sparameters_lumerical(gf.components.mmi1x2(), layer_to_thickness={(1, 0): 210e-3})"
   ]
  },
  {
   "cell_type": "code",
   "execution_count": null,
   "metadata": {},
   "outputs": [],
   "source": [
    "layer_to_thickness = gf.tech.LAYER_STACK.get_layer_to_thickness()\n",
    "component = gf.components.bend_circular(radius=3)\n",
    "component = component.copy()\n",
    "component.remove_layers(component.layers - set(layer_to_thickness.keys()))\n",
    "component._bb_valid = False\n",
    "\n",
    "c = gf.components.extension.extend_ports(component=component, length=1.0)\n",
    "c"
   ]
  },
  {
   "cell_type": "markdown",
   "metadata": {},
   "source": [
    "gdsfactory can also compute the Sparameters of a component that have not been simulated before."
   ]
  },
  {
   "cell_type": "code",
   "execution_count": null,
   "metadata": {},
   "outputs": [],
   "source": [
    "# NBVAL_SKIP\n",
    "\n",
    "cs = [\n",
    "    gf.components.coupler_ring(gap=gap, radius=radius)\n",
    "    for gap in [0.15, 0.2, 0.3]\n",
    "    for radius in [5, 10]\n",
    "]\n",
    "\n",
    "for c in cs:\n",
    "    c.show()\n",
    "    print(c)\n",
    "    sim.write_sparameters_lumerical(c)"
   ]
  },
  {
   "cell_type": "markdown",
   "metadata": {},
   "source": [
    "To debug a simulation you can create a Lumerical session outside the simulator, pass it to the simulator, and use `run=False` flag"
   ]
  },
  {
   "cell_type": "code",
   "execution_count": null,
   "metadata": {},
   "outputs": [],
   "source": [
    "# NBVAL_SKIP\n",
    "import lumapi\n",
    "import gdsfactory as gf\n",
    "\n",
    "s = lumapi.FDTD()\n",
    "c = gf.components.straight()\n",
    "sim.write_sparameters_lumerical(c, run=False, session=s)"
   ]
  },
  {
   "cell_type": "markdown",
   "metadata": {},
   "source": [
    "By default gdsfactory uses the generic LayerStack for 0.22um height silicon layer.\n",
    "\n",
    "You can also define your a different LayerStack"
   ]
  },
  {
   "cell_type": "code",
   "execution_count": null,
   "metadata": {},
   "outputs": [],
   "source": [
    "import gdsfactory as gf\n",
    "\n",
    "def get_layer_stack():\n",
    "    return gf.tech.LayerStack(wg=gf.tech.LayerLevel(layer=(2, 0), thickness=400e-3, zmin=0.0, material=\"sin\")\n",
    "\n",
    "\n",
    "ls = get_layer_stack()"
   ]
  },
  {
   "cell_type": "code",
   "execution_count": null,
   "metadata": {},
   "outputs": [],
   "source": [
    "# NBVAL_SKIP\n",
    "import gdsfactory as gf\n",
    "import gdsfactory.simulation as sim\n",
    "\n",
    "c = gf.components.straight()\n",
    "s = sim.write_sparameters_lumerical(c, run=False)"
   ]
  },
  {
   "cell_type": "code",
   "execution_count": null,
   "metadata": {},
   "outputs": [],
   "source": [
    "s.select('FDTD')"
   ]
  },
  {
   "cell_type": "code",
   "execution_count": null,
   "metadata": {},
   "outputs": [],
   "source": [
    "s.set('simulation time', 10e-9)"
   ]
  },
  {
   "cell_type": "code",
   "execution_count": null,
   "metadata": {},
   "outputs": [],
   "source": [
    "s.set('simulation temperature', 350)"
   ]
  },
  {
   "cell_type": "code",
   "execution_count": null,
   "metadata": {},
   "outputs": [],
   "source": [
    "# speed*time = distance\n",
    "3e8/4.2*1e-12*1e6"
   ]
  },
  {
   "cell_type": "code",
   "execution_count": null,
   "metadata": {},
   "outputs": [],
   "source": []
  }
 ],
 "metadata": {
  "kernelspec": {
   "display_name": "Python 3 (ipykernel)",
   "language": "python",
   "name": "python3"
  },
  "language_info": {
   "codemirror_mode": {
    "name": "ipython",
    "version": 3
   },
   "file_extension": ".py",
   "mimetype": "text/x-python",
   "name": "python",
   "nbconvert_exporter": "python",
   "pygments_lexer": "ipython3",
   "version": "3.9.7"
  },
  "nbsphinx": {
   "execute": "never"
  }
 },
 "nbformat": 4,
 "nbformat_minor": 4
}
