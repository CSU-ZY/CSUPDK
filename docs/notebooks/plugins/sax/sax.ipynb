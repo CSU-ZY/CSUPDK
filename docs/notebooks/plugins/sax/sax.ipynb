{
 "cells": [
  {
   "cell_type": "markdown",
   "id": "1fa09f47-ec17-4d2f-abf1-94400b45731a",
   "metadata": {},
   "source": [
    "# SAX circuit simulator\n",
    "\n",
    "[SAX](https://flaport.github.io/sax/) is a circuit solver written in JAX, writing your component models in SAX enables you not only to get the function values but the gradients, this is useful for circuit optimization\n"
   ]
  },
  {
   "cell_type": "markdown",
   "id": "7e9ca43d-8182-4443-be8d-8c7213a26ed7",
   "metadata": {},
   "source": [
    "## Waveguide model\n",
    "\n",
    "You can create a dispersive waveguide model in SAX."
   ]
  },
  {
   "cell_type": "code",
   "execution_count": null,
   "id": "0cbb9797-1aa0-4864-8fd4-bdf6b8718b0c",
   "metadata": {},
   "outputs": [],
   "source": [
    "import gdsfactory as gf\n",
    "import gdsfactory.simulation.sax as gs\n",
    "import gdsfactory.simulation.modes as gm\n",
    "import sax"
   ]
  },
  {
   "cell_type": "markdown",
   "id": "1432d022-d9da-4f5c-8089-0ace00c1461d",
   "metadata": {},
   "source": [
    "Lets compute the effective index `neff` and group index `ng` for a 1550nm 500nm straight waveguide"
   ]
  },
  {
   "cell_type": "code",
   "execution_count": null,
   "id": "b9dd95bd-8942-480a-97e2-b481bf256499",
   "metadata": {},
   "outputs": [],
   "source": [
    "m = gm.find_mode_dispersion(wavelength= 1.55)\n",
    "print(m.neff, m.ng)"
   ]
  },
  {
   "cell_type": "code",
   "execution_count": null,
   "id": "c2c01486-7d98-4240-9c82-ef6ae112bc34",
   "metadata": {},
   "outputs": [],
   "source": [
    "straight_sc = gf.partial(gs.models.straight, neff=m.neff, ng=m.ng)"
   ]
  },
  {
   "cell_type": "code",
   "execution_count": null,
   "id": "b984b918-7b58-44b7-b8f1-32a19ad7f46a",
   "metadata": {},
   "outputs": [],
   "source": [
    "gs.plot_model(straight_sc)"
   ]
  },
  {
   "cell_type": "code",
   "execution_count": null,
   "id": "cd9cf620-92df-4e3a-a584-7417223a062c",
   "metadata": {},
   "outputs": [],
   "source": [
    "gs.plot_model(straight_sc, phase=True)"
   ]
  },
  {
   "cell_type": "markdown",
   "id": "4f665628-5cab-4e25-80a7-35642cbe92d5",
   "metadata": {},
   "source": [
    "## Coupler model"
   ]
  },
  {
   "cell_type": "code",
   "execution_count": null,
   "id": "281b0de1-ceae-4e04-a004-4de0c94b3bdd",
   "metadata": {},
   "outputs": [],
   "source": [
    "gm.find_coupling_vs_gap?"
   ]
  },
  {
   "cell_type": "code",
   "execution_count": null,
   "id": "fb877b9f-a86c-4aa9-973b-5ee361b6dbd5",
   "metadata": {},
   "outputs": [],
   "source": [
    "df = gm.find_coupling_vs_gap()\n",
    "df"
   ]
  },
  {
   "cell_type": "code",
   "execution_count": null,
   "id": "6b041d26-1246-4c3d-80c9-60c5eb838e08",
   "metadata": {},
   "outputs": [],
   "source": [
    "coupler_sc = gf.partial(gs.models.coupler, coupling=0.5)"
   ]
  },
  {
   "cell_type": "markdown",
   "id": "02b7d8b5-9855-4fcf-8605-ab7cd52c86c1",
   "metadata": {},
   "source": [
    "TODO\n",
    "\n",
    "add dispersive wavelength dependent coupler\n"
   ]
  },
  {
   "cell_type": "markdown",
   "id": "9e0c22d4-16f7-4150-bb27-da05a6b8a003",
   "metadata": {},
   "source": [
    "## FDTD Sparameters model\n",
    "\n",
    "You can also import a model from Sparameter FDTD simulations"
   ]
  },
  {
   "cell_type": "code",
   "execution_count": null,
   "id": "fe47c03f-ee34-44d5-a5d7-1e2c9cb5cd4b",
   "metadata": {},
   "outputs": [],
   "source": [
    "from gdsfactory.simulation.get_sparameters_path import get_sparameters_path_lumerical\n",
    "\n",
    "filepath = get_sparameters_path_lumerical(gf.c.mmi1x2)\n",
    "model = gf.partial(gs.from_csv, filepath=filepath)\n",
    "gs.plot_model(model)"
   ]
  },
  {
   "cell_type": "code",
   "execution_count": null,
   "id": "93d1e46a-0cd8-482e-a49f-72a2d0310a03",
   "metadata": {},
   "outputs": [],
   "source": []
  }
 ],
 "metadata": {
  "kernelspec": {
   "display_name": "Python 3 (ipykernel)",
   "language": "python",
   "name": "python3"
  },
  "language_info": {
   "codemirror_mode": {
    "name": "ipython",
    "version": 3
   },
   "file_extension": ".py",
   "mimetype": "text/x-python",
   "name": "python",
   "nbconvert_exporter": "python",
   "pygments_lexer": "ipython3",
   "version": "3.9.7"
  }
 },
 "nbformat": 4,
 "nbformat_minor": 5
}
