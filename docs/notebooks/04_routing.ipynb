{
 "cells": [
  {
   "cell_type": "markdown",
   "metadata": {},
   "source": [
    "# Routing\n",
    "\n",
    "Routing allows you to define routes between component ports\n"
   ]
  },
  {
   "cell_type": "code",
   "execution_count": null,
   "metadata": {},
   "outputs": [],
   "source": [
    "import pp\n",
    "pp.set_plot_options(show_subports=False)"
   ]
  },
  {
   "cell_type": "code",
   "execution_count": null,
   "metadata": {},
   "outputs": [],
   "source": [
    "c = pp.Component()\n",
    "mmi1 = c << pp.components.mmi1x2()\n",
    "mmi2 = c << pp.components.mmi1x2()\n",
    "mmi2.move((100, 50))\n",
    "c"
   ]
  },
  {
   "cell_type": "markdown",
   "metadata": {},
   "source": [
    "## Get_route\n",
    "\n",
    "`get_route` connects using Manhattan routing"
   ]
  },
  {
   "cell_type": "code",
   "execution_count": null,
   "metadata": {},
   "outputs": [],
   "source": [
    "pp.routing.get_route?"
   ]
  },
  {
   "cell_type": "code",
   "execution_count": null,
   "metadata": {},
   "outputs": [],
   "source": [
    "c = pp.Component('sample_connect')\n",
    "mmi1 = c << pp.components.mmi1x2()\n",
    "mmi2 = c << pp.components.mmi1x2()\n",
    "mmi2.move((100, 50))\n",
    "route = pp.routing.get_route(mmi1.ports[\"E1\"], mmi2.ports[\"W0\"])\n",
    "c.add(route.references)\n",
    "c"
   ]
  },
  {
   "cell_type": "code",
   "execution_count": null,
   "metadata": {},
   "outputs": [],
   "source": [
    "route"
   ]
  },
  {
   "cell_type": "markdown",
   "metadata": {},
   "source": [
    "**Connect strip: Problem**\n",
    "\n",
    "sometimes there are obstacles that connect strip does not see!"
   ]
  },
  {
   "cell_type": "code",
   "execution_count": null,
   "metadata": {},
   "outputs": [],
   "source": [
    "c = pp.Component('sample_problem')\n",
    "mmi1 = c << pp.components.mmi1x2()\n",
    "mmi2 = c << pp.components.mmi1x2()\n",
    "mmi2.move((110, 50))\n",
    "x = c << pp.components.cross(length=20)\n",
    "x.move((135, 20))\n",
    "route = pp.routing.get_route(mmi1.ports[\"E1\"], mmi2.ports[\"E1\"])\n",
    "c.add(route.references)\n",
    "c"
   ]
  },
  {
   "cell_type": "markdown",
   "metadata": {},
   "source": [
    "**Solution: Connect strip way points**\n",
    "\n",
    "You can also specify the points along the route"
   ]
  },
  {
   "cell_type": "code",
   "execution_count": null,
   "metadata": {},
   "outputs": [],
   "source": [
    "pp.routing.get_route_waypoints?"
   ]
  },
  {
   "cell_type": "code",
   "execution_count": null,
   "metadata": {},
   "outputs": [],
   "source": [
    "c = pp.Component('sample_avoid_obstacle')\n",
    "mmi1 = c << pp.components.mmi1x2()\n",
    "mmi2 = c << pp.components.mmi1x2()\n",
    "mmi2.move((110, 50))\n",
    "x = c << pp.components.cross(length=20)\n",
    "x.move((135, 20))\n",
    "\n",
    "x0 = mmi1.ports[\"E0\"].x\n",
    "y0 = mmi1.ports[\"E0\"].y\n",
    "\n",
    "\n",
    "x2 = mmi2.ports[\"E0\"].x\n",
    "y2 = mmi2.ports[\"E0\"].y\n",
    "\n",
    "route = pp.routing.get_route_from_waypoints([(x0, y0), (x2 + 40, y0), (x2 + 40, y2), (x2, y2)])\n",
    "c.add(route.references)\n",
    "c"
   ]
  },
  {
   "cell_type": "code",
   "execution_count": null,
   "metadata": {},
   "outputs": [],
   "source": [
    "route.length"
   ]
  },
  {
   "cell_type": "code",
   "execution_count": null,
   "metadata": {},
   "outputs": [],
   "source": [
    "route.ports"
   ]
  },
  {
   "cell_type": "code",
   "execution_count": null,
   "metadata": {},
   "outputs": [],
   "source": [
    "route.references"
   ]
  },
  {
   "cell_type": "markdown",
   "metadata": {},
   "source": [
    "## Route with custom transition\n",
    "\n",
    "Lets say that we want to taper to a different waveguide crosssection, for example, a rib waveguide for lower loss."
   ]
  },
  {
   "cell_type": "code",
   "execution_count": null,
   "metadata": {},
   "outputs": [],
   "source": [
    "c = pp.Component('sample_connect')\n",
    "mmi1 = c << pp.components.mmi1x2()\n",
    "mmi2 = c << pp.components.mmi1x2()\n",
    "mmi2.move((200, 50))\n",
    "route = pp.routing.get_route(mmi1.ports[\"E1\"], mmi2.ports[\"W0\"])\n",
    "c.add(route.references)\n",
    "c"
   ]
  },
  {
   "cell_type": "code",
   "execution_count": null,
   "metadata": {},
   "outputs": [],
   "source": [
    "import pp\n",
    "\n",
    "xsection = pp.cross_section(width=0.5, layer=(2,0))\n",
    "\n",
    "c = pp.Component('sample_connect')\n",
    "mmi1 = c << pp.components.mmi1x2()\n",
    "mmi2 = c << pp.components.mmi1x2()\n",
    "mmi2.move((200, 50))\n",
    "x0 = mmi1.ports[\"E1\"].midpoint[0]\n",
    "y0 = mmi1.ports[\"E1\"].midpoint[1]\n",
    "xc = 100\n",
    "x1 = mmi2.ports[\"W0\"].midpoint[0]\n",
    "y1 = mmi2.ports[\"W0\"].midpoint[1]\n",
    "\n",
    "#path = pp.path.smooth((mmi1.ports[\"E1\"].midpoint, (100,40), mmi2.ports[\"W0\"].midpoint))\n",
    "path = pp.path.smooth([(x0, y0), (xc, y0), (xc, y1), (x1, y1)])\n",
    "wg = pp.path.extrude(path, xsection)\n",
    "c<< wg\n",
    "c"
   ]
  },
  {
   "cell_type": "markdown",
   "metadata": {},
   "source": [
    "## Routing bundles\n",
    "\n",
    "**Problem**: when connecting groups of ports there are collisions if we use a single port routing function such as `connect strip`"
   ]
  },
  {
   "cell_type": "code",
   "execution_count": null,
   "metadata": {},
   "outputs": [],
   "source": [
    "import pp\n",
    "\n",
    "xs_top = [0, 10, 20, 40, 50, 80]\n",
    "pitch = 127\n",
    "N = len(xs_top)\n",
    "xs_bottom = [(i - N / 2) * pitch for i in range(N)]\n",
    "\n",
    "top_ports = [pp.Port(\"top_{}\".format(i), (xs_top[i], 0), 0.5, 270) for i in range(N)]\n",
    "\n",
    "bottom_ports = [\n",
    "    pp.Port(\"bottom_{}\".format(i), (xs_bottom[i], -100), 0.5, 90) for i in range(N)\n",
    "]\n",
    "\n",
    "c = pp.Component(name=\"connect_bundle\")\n",
    "\n",
    "for p1, p2 in zip(top_ports, bottom_ports):\n",
    "    route = pp.routing.get_route(p1, p2)\n",
    "    c.add(route.references)\n",
    "\n",
    "c"
   ]
  },
  {
   "cell_type": "markdown",
   "metadata": {},
   "source": [
    "**solution**: river routing routes several ports without collisions"
   ]
  },
  {
   "cell_type": "code",
   "execution_count": null,
   "metadata": {},
   "outputs": [],
   "source": [
    "c = pp.Component(name=\"connect_bundle\")\n",
    "routes = pp.routing.get_bundle(top_ports, bottom_ports)\n",
    "for route in routes:\n",
    "    c.add(route.references)\n",
    "    \n",
    "c"
   ]
  },
  {
   "cell_type": "code",
   "execution_count": null,
   "metadata": {},
   "outputs": [],
   "source": [
    "import pp\n",
    "ys_right = [0, 10, 20, 40, 50, 80]\n",
    "pitch = 127.0\n",
    "N = len(ys_right)\n",
    "ys_left = [(i - N / 2) * pitch for i in range(N)]\n",
    "\n",
    "right_ports = [pp.Port(f\"R_{i}\", (0, ys_right[i]), 0.5, 180) for i in range(N)]\n",
    "left_ports = [pp.Port(f\"L_{i}\".format(i), (-400, ys_left[i]), 0.5, 0) for i in range(N)]\n",
    "\n",
    "# you can also mess up the port order and it will sort them by default\n",
    "left_ports.reverse()\n",
    "\n",
    "c = pp.Component(name=\"connect_bundle2\")\n",
    "routes = pp.routing.get_bundle(right_ports, left_ports, sort_ports=True)\n",
    "for route in routes:\n",
    "    c.add(route.references)\n",
    "c"
   ]
  },
  {
   "cell_type": "code",
   "execution_count": null,
   "metadata": {},
   "outputs": [],
   "source": [
    "xs_top = [0, 10, 20, 40, 50, 80]\n",
    "pitch = 127.0\n",
    "N = len(xs_top)\n",
    "xs_bottom = [(i - N / 2) * pitch for i in range(N)]\n",
    "\n",
    "top_ports = [pp.Port(\"top_{}\".format(i), (xs_top[i], 0), 0.5, 270) for i in range(N)]\n",
    "\n",
    "bottom_ports = [\n",
    "    pp.Port(\"bottom_{}\".format(i), (xs_bottom[i], -400), 0.5, 90) for i in range(N)\n",
    "]\n",
    "\n",
    "c = pp.Component(name=\"connect_bundle\")\n",
    "routes = pp.routing.get_bundle(top_ports, bottom_ports)\n",
    "for route in routes:\n",
    "    c.add(route.references)\n",
    "\n",
    "c"
   ]
  },
  {
   "cell_type": "markdown",
   "metadata": {},
   "source": [
    "## Routing bundles with waypoints"
   ]
  },
  {
   "cell_type": "code",
   "execution_count": null,
   "metadata": {},
   "outputs": [],
   "source": [
    "import numpy as np\n",
    "import pp\n",
    "\n",
    "\n",
    "@pp.cell\n",
    "def test_connect_bundle_waypoints():\n",
    "    \"\"\"Connect bundle of ports with bundle of routes following a list of waypoints.\"\"\"\n",
    "    xs1 = np.arange(10) * 5 - 500.0\n",
    "    N = xs1.size\n",
    "    ys2 = np.array([0, 5, 10, 20, 25, 30, 40, 55, 60, 75]) + 500.0\n",
    "\n",
    "    ports1 = [pp.Port(f\"A_{i}\", (xs1[i], 0), 0.5, 90) for i in range(N)]\n",
    "    ports2 = [pp.Port(f\"B_{i}\", (0, ys2[i]), 0.5, 180) for i in range(N)]\n",
    "\n",
    "    c = pp.Component()\n",
    "    way_points = [\n",
    "        ports1[0].position,\n",
    "        ports1[0].position + (0, 100),\n",
    "        ports1[0].position + (200, 100),\n",
    "        ports1[0].position + (200, -200),\n",
    "        ports1[0].position + (0, -200),\n",
    "        ports1[0].position + (0, -350),\n",
    "        ports1[0].position + (400, -350),\n",
    "        (ports1[0].x + 400, ports2[-1].y),\n",
    "        ports2[-1].position,\n",
    "    ]\n",
    "\n",
    "    routes = pp.routing.get_bundle_from_waypoints(ports1, ports2, way_points)\n",
    "    for route in routes:\n",
    "        c.add(route.references)\n",
    "\n",
    "    return c\n",
    "\n",
    "cell = test_connect_bundle_waypoints()\n",
    "cell"
   ]
  },
  {
   "cell_type": "markdown",
   "metadata": {},
   "source": [
    "## Route bundles through corners"
   ]
  },
  {
   "cell_type": "code",
   "execution_count": null,
   "metadata": {},
   "outputs": [],
   "source": [
    "import pp\n",
    "from pp.cell import cell\n",
    "from pp.component import Component\n",
    "from pp.port import Port\n",
    "\n",
    "@cell\n",
    "def test_connect_corner(N=6, config=\"A\"):\n",
    "\n",
    "    d = 10.0\n",
    "    sep = 5.0\n",
    "    top_cell = pp.Component(name=\"connect_corner\")\n",
    "\n",
    "    if config in [\"A\", \"B\"]:\n",
    "        a = 100.0\n",
    "        ports_A_TR = [\n",
    "            Port(\"A_TR_{}\".format(i), (d, a / 2 + i * sep), 0.5, 0) for i in range(N)\n",
    "        ]\n",
    "        ports_A_TL = [\n",
    "            Port(\"A_TL_{}\".format(i), (-d, a / 2 + i * sep), 0.5, 180) for i in range(N)\n",
    "        ]\n",
    "        ports_A_BR = [\n",
    "            Port(\"A_BR_{}\".format(i), (d, -a / 2 - i * sep), 0.5, 0) for i in range(N)\n",
    "        ]\n",
    "        ports_A_BL = [\n",
    "            Port(\"A_BL_{}\".format(i), (-d, -a / 2 - i * sep), 0.5, 180)\n",
    "            for i in range(N)\n",
    "        ]\n",
    "\n",
    "        ports_A = [ports_A_TR, ports_A_TL, ports_A_BR, ports_A_BL]\n",
    "\n",
    "        ports_B_TR = [\n",
    "            Port(\"B_TR_{}\".format(i), (a / 2 + i * sep, d), 0.5, 90) for i in range(N)\n",
    "        ]\n",
    "        ports_B_TL = [\n",
    "            Port(\"B_TL_{}\".format(i), (-a / 2 - i * sep, d), 0.5, 90) for i in range(N)\n",
    "        ]\n",
    "        ports_B_BR = [\n",
    "            Port(\"B_BR_{}\".format(i), (a / 2 + i * sep, -d), 0.5, 270) for i in range(N)\n",
    "        ]\n",
    "        ports_B_BL = [\n",
    "            Port(\"B_BL_{}\".format(i), (-a / 2 - i * sep, -d), 0.5, 270)\n",
    "            for i in range(N)\n",
    "        ]\n",
    "\n",
    "        ports_B = [ports_B_TR, ports_B_TL, ports_B_BR, ports_B_BL]\n",
    "\n",
    "    elif config in [\"C\", \"D\"]:\n",
    "        a = N * sep + 2 * d\n",
    "        ports_A_TR = [\n",
    "            Port(\"A_TR_{}\".format(i), (a, d + i * sep), 0.5, 0) for i in range(N)\n",
    "        ]\n",
    "        ports_A_TL = [\n",
    "            Port(\"A_TL_{}\".format(i), (-a, d + i * sep), 0.5, 180) for i in range(N)\n",
    "        ]\n",
    "        ports_A_BR = [\n",
    "            Port(\"A_BR_{}\".format(i), (a, -d - i * sep), 0.5, 0) for i in range(N)\n",
    "        ]\n",
    "        ports_A_BL = [\n",
    "            Port(\"A_BL_{}\".format(i), (-a, -d - i * sep), 0.5, 180) for i in range(N)\n",
    "        ]\n",
    "\n",
    "        ports_A = [ports_A_TR, ports_A_TL, ports_A_BR, ports_A_BL]\n",
    "\n",
    "        ports_B_TR = [\n",
    "            Port(\"B_TR_{}\".format(i), (d + i * sep, a), 0.5, 90) for i in range(N)\n",
    "        ]\n",
    "        ports_B_TL = [\n",
    "            Port(\"B_TL_{}\".format(i), (-d - i * sep, a), 0.5, 90) for i in range(N)\n",
    "        ]\n",
    "        ports_B_BR = [\n",
    "            Port(\"B_BR_{}\".format(i), (d + i * sep, -a), 0.5, 270) for i in range(N)\n",
    "        ]\n",
    "        ports_B_BL = [\n",
    "            Port(\"B_BL_{}\".format(i), (-d - i * sep, -a), 0.5, 270) for i in range(N)\n",
    "        ]\n",
    "\n",
    "        ports_B = [ports_B_TR, ports_B_TL, ports_B_BR, ports_B_BL]\n",
    "\n",
    "    if config in [\"A\", \"C\"]:\n",
    "        for ports1, ports2 in zip(ports_A, ports_B):\n",
    "            routes = pp.routing.get_bundle(ports1, ports2, waveguide='nitride', radius=5)\n",
    "            for route in routes:\n",
    "                top_cell.add(route.references)\n",
    "\n",
    "    elif config in [\"B\", \"D\"]:\n",
    "        for ports1, ports2 in zip(ports_A, ports_B):\n",
    "            routes = pp.routing.get_bundle(ports2, ports1, waveguide='nitride', radius=5)\n",
    "            for route in routes:\n",
    "                top_cell.add(route.references)\n",
    "\n",
    "    return top_cell\n",
    "\n",
    "\n",
    "c = test_connect_corner(config='A')\n",
    "c"
   ]
  },
  {
   "cell_type": "code",
   "execution_count": null,
   "metadata": {},
   "outputs": [],
   "source": [
    "c = test_connect_corner(config='C')\n",
    "c"
   ]
  },
  {
   "cell_type": "code",
   "execution_count": null,
   "metadata": {},
   "outputs": [],
   "source": [
    "@cell\n",
    "def test_connect_bundle_udirect(dy=200, angle=270):\n",
    "\n",
    "    xs1 = [-100, -90, -80, -55, -35, 24, 0] + [200, 210, 240]\n",
    "\n",
    "    axis = \"X\" if angle in [0, 180] else \"Y\"\n",
    "\n",
    "    pitch = 10.0\n",
    "    N = len(xs1)\n",
    "    xs2 = [70 + i * pitch for i in range(N)]\n",
    "\n",
    "    if axis == \"X\":\n",
    "        ports1 = [Port(f\"top_{i}\", (0, xs1[i]), 0.5, angle) for i in range(N)]\n",
    "\n",
    "        ports2 = [\n",
    "            Port(f\"bottom_{i}\", (dy, xs2[i]), 0.5, angle) for i in range(N)\n",
    "        ]\n",
    "\n",
    "    else:\n",
    "        ports1 = [Port(f\"top_{i}\", (xs1[i], 0), 0.5, angle) for i in range(N)]\n",
    "\n",
    "        ports2 = [\n",
    "            Port(f\"bottom_{i}\", (xs2[i], dy), 0.5, angle) for i in range(N)\n",
    "        ]\n",
    "\n",
    "    top_cell = Component(name=\"connect_bundle_udirect\")\n",
    "    routes = pp.routing.get_bundle(ports1, ports2, waveguide='nitride', radius=10.)\n",
    "    for route in routes:\n",
    "        top_cell.add(route.references)\n",
    "\n",
    "    return top_cell\n",
    "\n",
    "\n",
    "c = test_connect_bundle_udirect()\n",
    "c"
   ]
  },
  {
   "cell_type": "code",
   "execution_count": null,
   "metadata": {},
   "outputs": [],
   "source": [
    "@cell\n",
    "def test_connect_bundle_u_indirect(dy=-200, angle=180):\n",
    "    xs1 = [-100, -90, -80, -55, -35] + [200, 210, 240]\n",
    "    axis = \"X\" if angle in [0, 180] else \"Y\"\n",
    "    pitch = 10.0\n",
    "    N = len(xs1)\n",
    "    xs2 = [50 + i * pitch for i in range(N)]\n",
    "\n",
    "    a1 = angle\n",
    "    a2 = a1 + 180\n",
    "\n",
    "    if axis == \"X\":\n",
    "        ports1 = [Port(\"top_{}\".format(i), (0, xs1[i]), 0.5, a1) for i in range(N)]\n",
    "\n",
    "        ports2 = [Port(\"bottom_{}\".format(i), (dy, xs2[i]), 0.5, a2) for i in range(N)]\n",
    "\n",
    "    else:\n",
    "        ports1 = [Port(\"top_{}\".format(i), (xs1[i], 0), 0.5, a1) for i in range(N)]\n",
    "\n",
    "        ports2 = [Port(\"bottom_{}\".format(i), (xs2[i], dy), 0.5, a2) for i in range(N)]\n",
    "\n",
    "    top_cell = Component(\"connect_bundle_u_indirect\")\n",
    "    routes = pp.routing.get_bundle(ports1, ports2, bend_factory=pp.components.bend_euler, waveguide='nitride', radius=10)\n",
    "    for route in routes:\n",
    "        top_cell.add(route.references)\n",
    "\n",
    "    return top_cell\n",
    "\n",
    "\n",
    "c = test_connect_bundle_u_indirect(angle=0)\n",
    "c"
   ]
  },
  {
   "cell_type": "code",
   "execution_count": null,
   "metadata": {},
   "outputs": [],
   "source": [
    "import pp\n",
    "\n",
    "@pp.cell\n",
    "def test_north_to_south():\n",
    "    dy = 200.0\n",
    "    xs1 = [-500, -300, -100, -90, -80, -55, -35, 200, 210, 240, 500, 650]\n",
    "\n",
    "    pitch = 10.0\n",
    "    N = len(xs1)\n",
    "    xs2 = [-20 + i * pitch for i in range(N // 2)]\n",
    "    xs2 += [400 + i * pitch for i in range(N // 2)]\n",
    "\n",
    "    a1 = 90\n",
    "    a2 = a1 + 180\n",
    "\n",
    "    ports1 = [pp.Port(\"top_{}\".format(i), (xs1[i], 0), 0.5, a1) for i in range(N)]\n",
    "    ports2 = [pp.Port(\"bottom_{}\".format(i), (xs2[i], dy), 0.5, a2) for i in range(N)]\n",
    "\n",
    "    c = pp.Component()\n",
    "    routes = pp.routing.get_bundle(ports1, ports2, waveguide='nitride', auto_widen=False)\n",
    "    for route in routes:\n",
    "        c.add(route.references)\n",
    "\n",
    "    return c\n",
    "\n",
    "\n",
    "c = test_north_to_south()\n",
    "c"
   ]
  },
  {
   "cell_type": "code",
   "execution_count": null,
   "metadata": {},
   "outputs": [],
   "source": [
    "def demo_connect_bundle():\n",
    "    \"\"\" combines all the connect_bundle tests \"\"\"\n",
    "    y = 400.0\n",
    "    x = 500\n",
    "    y0 = 900\n",
    "    dy = 200.0\n",
    "    c = Component(\"connect_bundle\")\n",
    "    for j, s in enumerate([-1, 1]):\n",
    "        for i, angle in enumerate([0, 90, 180, 270]):\n",
    "            _cmp = test_connect_bundle_u_indirect(dy=s * dy, angle=angle)\n",
    "            _cmp_ref = _cmp.ref(position=(i * x, j * y))\n",
    "            c.add(_cmp_ref)\n",
    "\n",
    "            _cmp = test_connect_bundle_udirect(dy=s * dy, angle=angle)\n",
    "            _cmp_ref = _cmp.ref(position=(i * x, j * y + y0))\n",
    "            c.add(_cmp_ref)\n",
    "\n",
    "    for i, config in enumerate([\"A\", \"B\", \"C\", \"D\"]):\n",
    "        _cmp = test_connect_corner(config=config)\n",
    "        _cmp_ref = _cmp.ref(position=(i * x, 1700))\n",
    "        c.add(_cmp_ref)\n",
    "\n",
    "    #_cmp = test_facing_ports()\n",
    "    #_cmp_ref = _cmp.ref(position=(800, 1820))\n",
    "    #c.add(_cmp_ref)\n",
    "\n",
    "    return c\n",
    "\n",
    "c = demo_connect_bundle()\n",
    "c"
   ]
  },
  {
   "cell_type": "code",
   "execution_count": null,
   "metadata": {},
   "outputs": [],
   "source": [
    "import pp\n",
    "\n",
    "c = pp.Component('route_bend_5um')\n",
    "c1 = c <<pp.components.mmi2x2()\n",
    "c2 = c <<pp.components.mmi2x2()\n",
    "c2.move((100, 50))\n",
    "routes = pp.routing.get_bundle([c1.ports[\"E0\"], c1.ports['E1']], [c2.ports[\"W0\"], c2.ports['W1']], radius=5)\n",
    "for route in routes:\n",
    "    c.add(route.references)\n",
    "c"
   ]
  },
  {
   "cell_type": "code",
   "execution_count": null,
   "metadata": {},
   "outputs": [],
   "source": [
    "import pp\n",
    "\n",
    "c = pp.Component('route_bend_20um')\n",
    "c1 = c <<pp.components.mmi2x2()\n",
    "c2 = c <<pp.components.mmi2x2()\n",
    "c2.move((80, 40))\n",
    "routes = pp.routing.get_bundle([c1.ports[\"E0\"], c1.ports['E1']], [c2.ports[\"W0\"], c2.ports['W1']], radius=5)\n",
    "for route in routes:\n",
    "    c.add(route.references)\n",
    "c"
   ]
  },
  {
   "cell_type": "code",
   "execution_count": null,
   "metadata": {},
   "outputs": [],
   "source": [
    "import pp\n",
    "\n",
    "c = pp.Component('electrical')\n",
    "c1 = c <<pp.components.pad()\n",
    "c2 = c <<pp.components.pad()\n",
    "c2.move((200, 100))\n",
    "routes = pp.routing.get_bundle([c1.ports[\"E\"]], [c2.ports[\"W\"]], route_filter=pp.routing.get_route_from_waypoints_electrical, waveguide='metal_routing')\n",
    "for route in routes:\n",
    "    c.add(route.references)\n",
    "c"
   ]
  },
  {
   "cell_type": "code",
   "execution_count": null,
   "metadata": {},
   "outputs": [],
   "source": [
    "c = pp.Component(\"routes_sample\")\n",
    "pad_array = pp.components.pad_array(pitch=150, port_list=(\"S\",))\n",
    "c1 = c << pad_array\n",
    "c2 = c << pad_array\n",
    "c2.rotate(90)\n",
    "c2.movex(1000)\n",
    "c2.ymax = -200\n",
    "\n",
    "routes_bend180 = pp.routing.get_routes_bend180(\n",
    "    ports=c2.get_ports_list(), radius=75 / 2, waveguide=\"metal_routing\"\n",
    ")\n",
    "c.add(routes_bend180.references)\n",
    "\n",
    "routes = pp.routing.get_bundle(\n",
    "    c1.get_ports_list(), routes_bend180.ports, waveguide=\"metal_routing\"\n",
    ")\n",
    "for route in routes:\n",
    "    c.add(route.references)\n",
    "c"
   ]
  },
  {
   "cell_type": "code",
   "execution_count": null,
   "metadata": {},
   "outputs": [],
   "source": [
    "# Problem: sometimes 90 degrees routes do not have enough space for a Manhattan route"
   ]
  },
  {
   "cell_type": "code",
   "execution_count": null,
   "metadata": {},
   "outputs": [],
   "source": [
    "import pp\n",
    "\n",
    "c = pp.Component('route_fail_1')\n",
    "c1 = c <<pp.components.nxn(east=3, ysize=20)\n",
    "c2 = c <<pp.components.nxn(west=3)\n",
    "c2.move((80, 0))\n",
    "routes = pp.routing.get_bundle(c1.get_ports_list(prefix='E'), c2.get_ports_list(prefix='W'), auto_widen=False)\n",
    "for route in routes:\n",
    "    c.add(route.references)\n",
    "c"
   ]
  },
  {
   "cell_type": "code",
   "execution_count": null,
   "metadata": {},
   "outputs": [],
   "source": [
    "c = pp.Component(\"route_fail_2\")\n",
    "pitch = 2.0\n",
    "ys_left = [0, 10, 20]\n",
    "N = len(ys_left)\n",
    "ys_right = [(i - N / 2) * pitch for i in range(N)]\n",
    "\n",
    "right_ports = [pp.Port(f\"R_{i}\", (0, ys_right[i]), 0.5, 180) for i in range(N)]\n",
    "left_ports = [pp.Port(f\"L_{i}\", (-50, ys_left[i]), 0.5, 0) for i in range(N)]\n",
    "left_ports.reverse()\n",
    "routes = pp.routing.get_bundle(right_ports, left_ports, radius=5)\n",
    "\n",
    "for i, route in enumerate(routes):\n",
    "    c.add(route.references)\n",
    "c"
   ]
  },
  {
   "cell_type": "code",
   "execution_count": null,
   "metadata": {},
   "outputs": [],
   "source": [
    "# Solution: Add Sbend routes\n",
    "import pp\n",
    "\n",
    "c = pp.Component('route_solution_1_get_bundle_sbend')\n",
    "c1 = c <<pp.components.nxn(east=3, ysize=20)\n",
    "c2 = c <<pp.components.nxn(west=3)\n",
    "c2.move((80, 0))\n",
    "routes = pp.routing.get_bundle_sbend(c1.get_ports_list(prefix='E'), c2.get_ports_list(prefix='W'))\n",
    "c.add(routes.references)\n",
    "c"
   ]
  },
  {
   "cell_type": "code",
   "execution_count": null,
   "metadata": {},
   "outputs": [],
   "source": [
    "routes"
   ]
  },
  {
   "cell_type": "code",
   "execution_count": null,
   "metadata": {},
   "outputs": [],
   "source": [
    "c = pp.Component('route_solution_2_get_bundle_sbend')\n",
    "route = pp.routing.get_bundle_sbend(right_ports, left_ports)\n",
    "c.add(route.references)"
   ]
  },
  {
   "cell_type": "code",
   "execution_count": null,
   "metadata": {},
   "outputs": [],
   "source": [
    "import pp\n",
    "\n",
    "c = pp.Component('route_solution_1_get_routes')\n",
    "c1 = c <<pp.components.nxn(east=3, ysize=20)\n",
    "c2 = c <<pp.components.nxn(west=3)\n",
    "c2.move((80, 0))\n",
    "routes = pp.routing.get_routes(c1.get_ports_list(prefix='E'), c2.get_ports_list(prefix='W'))\n",
    "c.add(routes.references)\n",
    "c"
   ]
  },
  {
   "cell_type": "code",
   "execution_count": null,
   "metadata": {},
   "outputs": [],
   "source": [
    "c = pp.Component('route_solution_2_get_routes')\n",
    "routes = pp.routing.get_routes(right_ports, left_ports)\n",
    "c.add(routes.references)"
   ]
  },
  {
   "cell_type": "markdown",
   "metadata": {},
   "source": [
    "## Route electrical ports"
   ]
  },
  {
   "cell_type": "code",
   "execution_count": null,
   "metadata": {},
   "outputs": [],
   "source": [
    "import pp\n",
    "\n",
    "mzi = pp.components.mzi2x2(with_elec_connections=True)\n",
    "mzi"
   ]
  },
  {
   "cell_type": "code",
   "execution_count": null,
   "metadata": {},
   "outputs": [],
   "source": [
    "pp.components.pad_array?"
   ]
  },
  {
   "cell_type": "code",
   "execution_count": null,
   "metadata": {},
   "outputs": [],
   "source": [
    "import pp\n",
    "\n",
    "c = pp.Component(\"mzi_with_pads_sample\")\n",
    "mzi = pp.components.mzi2x2(with_elec_connections=True)\n",
    "pads = pp.components.pad_array(n=3, port_list=[\"S\"])\n",
    "p = c << pads\n",
    "mzir = c << mzi\n",
    "p.move((-150, 250))\n",
    "\n",
    "routes = pp.routing.get_bundle(\n",
    "    p.ports,\n",
    "    mzir.get_ports_list(port_type='dc'),\n",
    "    waveguide='metal_routing'\n",
    ")\n",
    "for route in routes:\n",
    "    c.add(route.references)\n",
    "c"
   ]
  },
  {
   "cell_type": "code",
   "execution_count": null,
   "metadata": {},
   "outputs": [],
   "source": [
    "import pp\n",
    "\n",
    "c = pp.components.mzi2x2(with_elec_connections=True)\n",
    "cc = pp.routing.add_electrical_pads_top(component=c)\n",
    "cc"
   ]
  },
  {
   "cell_type": "code",
   "execution_count": null,
   "metadata": {},
   "outputs": [],
   "source": [
    "import pp\n",
    "\n",
    "c = pp.components.straight_with_heater()\n",
    "cc = pp.routing.add_electrical_pads_top(component=c)\n",
    "cc"
   ]
  },
  {
   "cell_type": "code",
   "execution_count": null,
   "metadata": {},
   "outputs": [],
   "source": [
    "import pp\n",
    "\n",
    "c = pp.components.mzi2x2(with_elec_connections=True)\n",
    "cc = pp.routing.add_electrical_pads_shortest(component=c)\n",
    "cc"
   ]
  },
  {
   "cell_type": "code",
   "execution_count": null,
   "metadata": {},
   "outputs": [],
   "source": [
    "import pp\n",
    "\n",
    "c = pp.components.mzi2x2(with_elec_connections=True)\n",
    "cc = pp.routing.add_electrical_pads(component=c, fanout_length=100)\n",
    "cc"
   ]
  },
  {
   "cell_type": "code",
   "execution_count": null,
   "metadata": {},
   "outputs": [],
   "source": [
    "import pp\n",
    "\n",
    "c = pp.components.cross(length=100, layer=pp.LAYER.M3, port_type=\"dc\")\n",
    "c.move((20, 50))\n",
    "cc = pp.routing.add_electrical_pads_shortest(component=c)\n",
    "cc"
   ]
  },
  {
   "cell_type": "markdown",
   "metadata": {},
   "source": [
    "## Routing to grating couplers\n",
    "\n",
    "### Route to Fiber Array\n",
    "\n",
    "Routing allows you to define routes to optical or electrical IO (grating couplers or electrical pads)"
   ]
  },
  {
   "cell_type": "code",
   "execution_count": null,
   "metadata": {
    "attributes": {
     "classes": [],
     "id": "",
     "n": "1"
    }
   },
   "outputs": [],
   "source": [
    "import numpy as np\n",
    "import pp\n",
    "from pp import LAYER\n",
    "from pp import Port\n",
    "\n",
    "\n",
    "@pp.cell\n",
    "def big_device(w=400.0, h=400.0, N=16, port_pitch=15.0, layer=LAYER.WG, wg_width=0.5):\n",
    "    \"\"\" big component with N ports on each side \"\"\"\n",
    "    component = pp.Component()\n",
    "    p0 = np.array((0, 0))\n",
    "    dx = w / 2\n",
    "    dy = h / 2\n",
    "\n",
    "    points = [[dx, dy], [dx, -dy], [-dx, -dy], [-dx, dy]]\n",
    "    component.add_polygon(points, layer=layer)\n",
    "    port_params = {\"layer\": layer, \"width\": wg_width}\n",
    "    for i in range(N):\n",
    "        port = Port(\n",
    "            name=\"W{}\".format(i),\n",
    "            midpoint=p0 + (-dx, (i - N / 2) * port_pitch),\n",
    "            orientation=180,\n",
    "            **port_params\n",
    "        )\n",
    "        component.add_port(port)\n",
    "\n",
    "    for i in range(N):\n",
    "        port = Port(\n",
    "            name=\"E{}\".format(i),\n",
    "            midpoint=p0 + (dx, (i - N / 2) * port_pitch),\n",
    "            orientation=0,\n",
    "            **port_params\n",
    "        )\n",
    "        component.add_port(port)\n",
    "\n",
    "    for i in range(N):\n",
    "        port = Port(\n",
    "            name=\"N{}\".format(i),\n",
    "            midpoint=p0 + ((i - N / 2) * port_pitch, dy),\n",
    "            orientation=90,\n",
    "            **port_params\n",
    "        )\n",
    "        component.add_port(port)\n",
    "\n",
    "    for i in range(N):\n",
    "        port = Port(\n",
    "            name=\"S{}\".format(i),\n",
    "            midpoint=p0 + ((i - N / 2) * port_pitch, -dy),\n",
    "            orientation=-90,\n",
    "            **port_params\n",
    "        )\n",
    "        component.add_port(port)\n",
    "    return component\n",
    "\n",
    "\n",
    "component = big_device(N=10)\n",
    "c = pp.routing.add_fiber_array(component=component, radius=10., fanout_length=60.0)\n",
    "c"
   ]
  },
  {
   "cell_type": "code",
   "execution_count": null,
   "metadata": {},
   "outputs": [],
   "source": [
    "import pp\n",
    "\n",
    "c = pp.components.ring_double(width=0.8)\n",
    "cc = pp.routing.add_fiber_array(component=c, taper_length=150)\n",
    "cc"
   ]
  },
  {
   "cell_type": "code",
   "execution_count": null,
   "metadata": {},
   "outputs": [],
   "source": [
    "cc.get_settings()"
   ]
  },
  {
   "cell_type": "code",
   "execution_count": null,
   "metadata": {},
   "outputs": [],
   "source": [
    "cc.pprint()"
   ]
  },
  {
   "cell_type": "markdown",
   "metadata": {},
   "source": [
    "You can also mix and match `TE` and `TM` grating couplers"
   ]
  },
  {
   "cell_type": "code",
   "execution_count": null,
   "metadata": {},
   "outputs": [],
   "source": [
    "c = pp.components.mzi2x2()\n",
    "gcte = pp.components.grating_coupler_te\n",
    "gctm = pp.components.grating_coupler_tm\n",
    "\n",
    "cc = pp.routing.add_fiber_array(\n",
    "    component=c,\n",
    "    optical_routing_type=2,\n",
    "    grating_coupler=[gctm, gcte, gctm, gcte],\n",
    "    radius=20\n",
    ")\n",
    "cc"
   ]
  },
  {
   "cell_type": "markdown",
   "metadata": {},
   "source": [
    "### Route to fiber single"
   ]
  },
  {
   "cell_type": "code",
   "execution_count": null,
   "metadata": {},
   "outputs": [],
   "source": [
    "import pp\n",
    "\n",
    "c = pp.components.ring_single()\n",
    "cc = pp.routing.add_fiber_single(component=c)\n",
    "cc"
   ]
  },
  {
   "cell_type": "code",
   "execution_count": null,
   "metadata": {},
   "outputs": [],
   "source": [
    "import pp\n",
    "\n",
    "c = pp.components.ring_single()\n",
    "cc = pp.routing.add_fiber_single(component=c, with_align_ports=False)\n",
    "cc"
   ]
  },
  {
   "cell_type": "code",
   "execution_count": null,
   "metadata": {},
   "outputs": [],
   "source": [
    "c = pp.components.mmi2x2()\n",
    "cc = pp.routing.add_fiber_single(component=c, with_align_ports=False)\n",
    "cc"
   ]
  },
  {
   "cell_type": "code",
   "execution_count": null,
   "metadata": {},
   "outputs": [],
   "source": [
    "c = pp.components.mmi1x2()\n",
    "cc = pp.routing.add_fiber_single(component=c, with_align_ports=False, fiber_spacing=150)\n",
    "cc"
   ]
  },
  {
   "cell_type": "code",
   "execution_count": null,
   "metadata": {},
   "outputs": [],
   "source": [
    "c = pp.components.mmi1x2()\n",
    "cc = pp.routing.add_fiber_single(component=c, with_align_ports=False, fiber_spacing=50)\n",
    "cc"
   ]
  },
  {
   "cell_type": "code",
   "execution_count": null,
   "metadata": {},
   "outputs": [],
   "source": [
    "c = pp.components.crossing()\n",
    "cc = pp.routing.add_fiber_single(component=c, with_align_ports=False)\n",
    "cc"
   ]
  },
  {
   "cell_type": "code",
   "execution_count": null,
   "metadata": {},
   "outputs": [],
   "source": [
    "c = pp.components.cross(length=200, width=2)\n",
    "cc = pp.routing.add_fiber_single(component=c, with_align_ports=False)\n",
    "cc"
   ]
  },
  {
   "cell_type": "markdown",
   "metadata": {},
   "source": [
    "## Routing with custom waypoins\n",
    "\n",
    "Sometimes you need to set up a route with custom waypoints"
   ]
  },
  {
   "cell_type": "code",
   "execution_count": null,
   "metadata": {},
   "outputs": [],
   "source": [
    "import pp\n",
    "\n",
    "c = pp.Component('waypoints_sample')\n",
    "\n",
    "w = pp.components.straight()\n",
    "left = c << w\n",
    "right = c << w\n",
    "right.move((100, 80))\n",
    "\n",
    "obstacle = pp.components.rectangle(size=(100, 10))\n",
    "obstacle1 = c << obstacle\n",
    "obstacle2 = c << obstacle\n",
    "obstacle1.ymin=40\n",
    "obstacle2.xmin=25\n",
    "\n",
    "\n",
    "p0x, p0y = left.ports['E0'].midpoint\n",
    "p1x, p1y = right.ports['E0'].midpoint\n",
    "o = 10 # vertical offset to overcome bottom obstacle\n",
    "ytop = 20\n",
    "\n",
    "\n",
    "routes = pp.routing.get_route_from_waypoints(\n",
    "    [\n",
    "        (p0x, p0y),\n",
    "        (p0x + o, p0y),\n",
    "        (p0x + o, ytop),\n",
    "        (p1x + o, ytop),\n",
    "        (p1x + o, p1y),\n",
    "        (p1x, p1y),\n",
    "    ],\n",
    ")\n",
    "c.add(routes.references)\n",
    "      \n",
    "c"
   ]
  },
  {
   "cell_type": "markdown",
   "metadata": {},
   "source": [
    "## Routing with path length matching\n",
    "\n",
    "Sometimes you need to set up a route a bundle of ports that need to keep the same lengths"
   ]
  },
  {
   "cell_type": "code",
   "execution_count": null,
   "metadata": {},
   "outputs": [],
   "source": [
    "import pp\n",
    "\n",
    "c = pp.Component('path_length_match_sample')\n",
    "dy = 2000.0\n",
    "xs1 = [-500, -300, -100, -90, -80, -55, -35, 200, 210, 240, 500, 650]\n",
    "\n",
    "pitch = 100.0\n",
    "N = len(xs1)\n",
    "xs2 = [-20 + i * pitch for i in range(N)]\n",
    "\n",
    "a1 = 90\n",
    "a2 = a1 + 180\n",
    "\n",
    "ports1 = [pp.Port(f\"top_{i}\", (xs1[i], 0), 0.5, a1) for i in range(N)]\n",
    "ports2 = [pp.Port(f\"bottom_{i}\", (xs2[i], dy), 0.5, a2) for i in range(N)]\n",
    "\n",
    "routes = pp.routing.get_bundle_path_length_match(ports1, ports2)\n",
    "\n",
    "for route in routes:\n",
    "    c.add(route.references)\n",
    "    print(route.length)\n",
    "c"
   ]
  },
  {
   "cell_type": "markdown",
   "metadata": {},
   "source": [
    "### Add extra length\n",
    "\n",
    "You can also add some extra length to all the routes"
   ]
  },
  {
   "cell_type": "code",
   "execution_count": null,
   "metadata": {},
   "outputs": [],
   "source": [
    "import pp\n",
    "c = pp.Component(\"path_length_match_sample\")\n",
    "\n",
    "dy = 2000.0\n",
    "xs1 = [-500, -300, -100, -90, -80, -55, -35, 200, 210, 240, 500, 650]\n",
    "\n",
    "pitch = 100.0\n",
    "N = len(xs1)\n",
    "xs2 = [-20 + i * pitch for i in range(N)]\n",
    "\n",
    "a1 = 90\n",
    "a2 = a1 + 180\n",
    "\n",
    "ports1 = [pp.Port(f\"top_{i}\", (xs1[i], 0), 0.5, a1) for i in range(N)]\n",
    "ports2 = [pp.Port(f\"bottom_{i}\", (xs2[i], dy), 0.5, a2) for i in range(N)]\n",
    "\n",
    "routes = pp.routing.get_bundle_path_length_match(\n",
    "    ports1, ports2, extra_length=44, waveguide='nitride'\n",
    ")\n",
    "for route in routes:\n",
    "    c.add(route.references)\n",
    "    print(route.length)\n",
    "c"
   ]
  },
  {
   "cell_type": "markdown",
   "metadata": {},
   "source": [
    "### increase number of loops\n",
    "\n",
    "You can also increase the number of loops"
   ]
  },
  {
   "cell_type": "code",
   "execution_count": null,
   "metadata": {},
   "outputs": [],
   "source": [
    "c = pp.Component(\"path_length_match_sample\")\n",
    "\n",
    "dy = 2000.0\n",
    "xs1 = [-500, -300, -100, -90, -80, -55, -35, 200, 210, 240, 500, 650]\n",
    "\n",
    "pitch = 200.0\n",
    "N = len(xs1)\n",
    "xs2 = [-20 + i * pitch for i in range(N)]\n",
    "\n",
    "a1 = 90\n",
    "a2 = a1 + 180\n",
    "\n",
    "ports1 = [pp.Port(f\"top_{i}\", (xs1[i], 0), 0.5, a1) for i in range(N)]\n",
    "ports2 = [pp.Port(f\"bottom_{i}\", (xs2[i], dy), 0.5, a2) for i in range(N)]\n",
    "\n",
    "routes = pp.routing.get_bundle_path_length_match(ports1, ports2, nb_loops=2, auto_widen=False)\n",
    "for route in routes:\n",
    "    c.add(route.references)\n",
    "    print(route.length)\n",
    "c"
   ]
  }
 ],
 "metadata": {
  "kernelspec": {
   "display_name": "Python 3",
   "language": "python",
   "name": "python3"
  },
  "language_info": {
   "codemirror_mode": {
    "name": "ipython",
    "version": 3
   },
   "file_extension": ".py",
   "mimetype": "text/x-python",
   "name": "python",
   "nbconvert_exporter": "python",
   "pygments_lexer": "ipython3",
   "version": "3.8.3"
  }
 },
 "nbformat": 4,
 "nbformat_minor": 4
}
