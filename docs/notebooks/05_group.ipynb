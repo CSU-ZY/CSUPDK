{
 "cells": [
  {
   "cell_type": "markdown",
   "metadata": {},
   "source": [
    "# Grouping objects\n",
    "\n",
    "The `Group` class is used to group items together. This allows you to then\n",
    "manipulate the whole Group as a single object.  This is similar to the\n",
    "\"selection\" and \"group\" functionality in Inkscape/Adobe Illustrator, where you\n",
    "can highlight several objects (by e.g. shift-clicking) and move them together.\n",
    "\n",
    "This notebook is based on phidl tutorial.\n",
    "\n",
    "You can manipulate a Group like any other gdsfactory object, such as:\n",
    "\n",
    "- Direct manipulation: `move()`, `rotate()`, and `mirror()`\n",
    "- Arrange with `align()` and  `distribute()`\n",
    "- and the usual list of attributes (`xmin`, `ymax`, `center`, `bbox`, etc)\n",
    "\n",
    "## Creating and manipulating a Group"
   ]
  },
  {
   "cell_type": "code",
   "execution_count": null,
   "metadata": {
    "attributes": {
     "classes": [],
     "id": "",
     "n": "1"
    }
   },
   "outputs": [],
   "source": [
    "import numpy as np\n",
    "import pp\n",
    "\n",
    "# Create a blank Component and add number shapes to it\n",
    "D = pp.Component()\n",
    "t1 = D << pp.c.text('1')\n",
    "t2 = D << pp.c.text('2')\n",
    "t3 = D << pp.c.text('3')\n",
    "t4 = D << pp.c.text('4')\n",
    "t5 = D << pp.c.text('5')\n",
    "t6 = D << pp.c.text('6')\n",
    "\n",
    "# Spread out devices\n",
    "D.distribute(direction = 'x', spacing = 3)\n",
    "D"
   ]
  },
  {
   "cell_type": "markdown",
   "metadata": {},
   "source": [
    "Say we want to only move the even numbers. We can create a group of those\n",
    "numbers and move them them up in the Y direction a few units easily:"
   ]
  },
  {
   "cell_type": "code",
   "execution_count": null,
   "metadata": {
    "attributes": {
     "classes": [],
     "id": "",
     "n": "2"
    }
   },
   "outputs": [],
   "source": [
    "even = pp.Group([t2,t4,t6])\n",
    "even.movey(5)\n",
    "D"
   ]
  },
  {
   "cell_type": "markdown",
   "metadata": {},
   "source": [
    "Now let's make a Group out of the odd numbers so we can rotate them by 90\n",
    "degrees.  We're going to do make this Group in a slightly different way --\n",
    "simply by using the `+` operation."
   ]
  },
  {
   "cell_type": "code",
   "execution_count": null,
   "metadata": {
    "attributes": {
     "classes": [],
     "id": "",
     "n": "3"
    }
   },
   "outputs": [],
   "source": [
    "odd = t1 + t3 + t5 # Create the Group\n",
    "odd.rotate(-90)    # Rotate the Group\n",
    "D"
   ]
  },
  {
   "cell_type": "markdown",
   "metadata": {},
   "source": [
    "Any PHIDL object can be  summed in this way to create a Group -- this includes\n",
    "Component, DeviceReference, Port, Polygon, CellArray, and Label. Groups themselves\n",
    "can also be summed.\n",
    "\n",
    "We can even add items to groups if we need to:"
   ]
  },
  {
   "cell_type": "code",
   "execution_count": null,
   "metadata": {
    "attributes": {
     "classes": [],
     "id": "",
     "n": "4"
    }
   },
   "outputs": [],
   "source": [
    "one_to_five = t1 + t2    # Create the group\n",
    "one_to_five.add([t3,t4]) # Add more elements with the \"add\" method\n",
    "one_to_five += t5        # Equivalently, add more elements with the '+=' operator"
   ]
  },
  {
   "cell_type": "markdown",
   "metadata": {},
   "source": [
    "We can also perform the usual manipulations of PHIDL objects like asking where\n",
    "the center is, xmin, ymax, etc. Here we move the entire `one_to_five` group\n",
    "(which now has all numbers except for 6) down so the top is aligned with the\n",
    "y==0 axis"
   ]
  },
  {
   "cell_type": "code",
   "execution_count": null,
   "metadata": {
    "attributes": {
     "classes": [],
     "id": "",
     "n": "5"
    }
   },
   "outputs": [],
   "source": [
    "print(one_to_five.ymax)\n",
    "one_to_five.ymax = 0\n",
    "D"
   ]
  },
  {
   "cell_type": "markdown",
   "metadata": {},
   "source": [
    "## Align and distribute in Groups\n",
    "Lastly, we can also `align()` and `distribute()` a Group if we want to.  Let's\n",
    "start with some misaligned objects:"
   ]
  },
  {
   "cell_type": "code",
   "execution_count": null,
   "metadata": {
    "attributes": {
     "classes": [],
     "id": "",
     "n": "6"
    }
   },
   "outputs": [],
   "source": [
    "# Create a blank Component and add number shapes to it\n",
    "D = pp.Component()\n",
    "t1 = D << pp.c.text('1').move([-5,-5])\n",
    "t2 = D << pp.c.text('2').move([10,-15])\n",
    "t3 = D << pp.c.text('3').move([20, 5])\n",
    "t4 = D << pp.c.text('4').move([30, -7])\n",
    "t5 = D << pp.c.text('5').move([50, -13])\n",
    "t6 = D << pp.c.text('6').move([60,6])\n",
    "\n",
    "D"
   ]
  },
  {
   "cell_type": "markdown",
   "metadata": {},
   "source": [
    "By forming a Group out of all the objects and using the `align()` command, we\n",
    "can easily align them:"
   ]
  },
  {
   "cell_type": "code",
   "execution_count": null,
   "metadata": {
    "attributes": {
     "classes": [],
     "id": "",
     "n": "7"
    }
   },
   "outputs": [],
   "source": [
    "all_numbers = (t1+t2+t3+t4+t5+t6)     # Make a Group of all the numbers \n",
    "all_numbers.align(alignment = 'ymax') # Align the ymax of all the numbers\n",
    "\n",
    "D"
   ]
  },
  {
   "cell_type": "markdown",
   "metadata": {},
   "source": [
    "It's aligned now, but still not evenly distributed.  Let's fix that by using the\n",
    "`distribute()` command:"
   ]
  },
  {
   "cell_type": "code",
   "execution_count": null,
   "metadata": {
    "attributes": {
     "classes": [],
     "id": "",
     "n": "8"
    }
   },
   "outputs": [],
   "source": [
    "all_numbers.distribute(direction = 'x', spacing = 1.2, separation = True)\n"
   ]
  },
  {
   "cell_type": "markdown",
   "metadata": {},
   "source": [
    "We can even change the order of distribution -- it's determined by the order the\n",
    "objects are added to the Group.  If we want to reverse the order of the numbers,\n",
    "we simply need to make a new Group with the correct order:"
   ]
  },
  {
   "cell_type": "code",
   "execution_count": null,
   "metadata": {
    "attributes": {
     "classes": [],
     "id": "",
     "n": "9"
    }
   },
   "outputs": [],
   "source": [
    "all_numbers_reverse = (t6 + t5 + t4 + t3 + t2 + t1) # Start with t6, then t5, ...\n",
    "all_numbers_reverse.distribute(direction = 'x', spacing = 1.2, separation = True)\n",
    "D"
   ]
  }
 ],
 "metadata": {
  "kernelspec": {
   "display_name": "Python 3",
   "language": "python",
   "name": "python3"
  },
  "language_info": {
   "codemirror_mode": {
    "name": "ipython",
    "version": 3
   },
   "file_extension": ".py",
   "mimetype": "text/x-python",
   "name": "python",
   "nbconvert_exporter": "python",
   "pygments_lexer": "ipython3",
   "version": "3.8.3"
  }
 },
 "nbformat": 4,
 "nbformat_minor": 4
}
