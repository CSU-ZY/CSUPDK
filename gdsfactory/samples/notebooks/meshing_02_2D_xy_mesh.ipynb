{
 "cells": [
  {
   "cell_type": "markdown",
   "id": "c3571dee",
   "metadata": {},
   "source": [
    "# 2D meshing: xy cross-section\n",
    "\n",
    "You can supply the argument `type=\"xy\"` and a `z`-value, to mesh arbitrary `Component` planar cross-sections."
   ]
  },
  {
   "cell_type": "code",
   "execution_count": null,
   "id": "6d2364d7",
   "metadata": {},
   "outputs": [],
   "source": [
    "from gdsfactory.pdk import get_layer_stack\n",
    "from gdsfactory.technology import LayerStack, LayerLevel\n",
    "from gdsfactory.simulation.gmsh.mesh import create_physical_mesh\n",
    "import meshio\n",
    "from skfem.io import from_meshio\n",
    "import gdsfactory as gf\n",
    "from gdsfactory.generic_tech import get_generic_pdk\n",
    "\n",
    "gf.config.rich_output()\n",
    "PDK = get_generic_pdk()\n",
    "PDK.activate()\n",
    "\n",
    "waveguide = gf.components.straight_pin(length=10, taper=None)\n",
    "waveguide"
   ]
  },
  {
   "cell_type": "code",
   "execution_count": null,
   "id": "b45bf747",
   "metadata": {},
   "outputs": [],
   "source": [
    "filtered_layerstack = LayerStack(\n",
    "    layers={\n",
    "        k: get_layer_stack().layers[k]\n",
    "        for k in (\n",
    "            \"slab90\",\n",
    "            \"core\",\n",
    "            \"via_contact\",\n",
    "        )\n",
    "    }\n",
    ")"
   ]
  },
  {
   "cell_type": "code",
   "execution_count": null,
   "id": "6ee55ecd",
   "metadata": {},
   "outputs": [],
   "source": [
    "filename = \"mesh\"\n",
    "\n",
    "\n",
    "def mesh_with_physicals(mesh, filename):\n",
    "    mesh_from_file = meshio.read(f\"{filename}.msh\")\n",
    "    return create_physical_mesh(mesh_from_file, \"triangle\", prune_z=True)"
   ]
  },
  {
   "cell_type": "markdown",
   "id": "3b2b5655",
   "metadata": {},
   "source": [
    "At `z=0.09` um, according to the layer stack above we should see polygons from all three layers:"
   ]
  },
  {
   "cell_type": "code",
   "execution_count": null,
   "id": "7d6c0ba1",
   "metadata": {},
   "outputs": [],
   "source": [
    "filename = \"mesh\"\n",
    "mesh = waveguide.to_gmsh(\n",
    "    type=\"xy\", z=0.09, layer_stack=filtered_layerstack, filename=f\"{filename}.msh\"\n",
    ")\n",
    "mesh = mesh_with_physicals(mesh, filename)\n",
    "mesh = from_meshio(mesh)\n",
    "mesh.draw().plot()"
   ]
  },
  {
   "cell_type": "markdown",
   "id": "9fe03c0d",
   "metadata": {},
   "source": [
    "At `z=0`, you can see only the core and slab:"
   ]
  },
  {
   "cell_type": "code",
   "execution_count": null,
   "id": "32e67f08",
   "metadata": {},
   "outputs": [],
   "source": [
    "mesh = waveguide.to_gmsh(\n",
    "    type=\"xy\", z=0.0, layer_stack=filtered_layerstack, filename=f\"{filename}.msh\"\n",
    ")\n",
    "mesh = mesh_with_physicals(mesh, filename)\n",
    "mesh = from_meshio(mesh)\n",
    "mesh.draw().plot()"
   ]
  },
  {
   "cell_type": "markdown",
   "id": "1be5509e",
   "metadata": {},
   "source": [
    "At `z=1.0`, you can only see the vias appear:"
   ]
  },
  {
   "cell_type": "code",
   "execution_count": null,
   "id": "884c81a8",
   "metadata": {},
   "outputs": [],
   "source": [
    "mesh = waveguide.to_gmsh(\n",
    "    type=\"xy\", z=1.0, layer_stack=filtered_layerstack, filename=f\"{filename}.msh\"\n",
    ")\n",
    "mesh = mesh_with_physicals(mesh, filename)\n",
    "mesh = from_meshio(mesh)\n",
    "mesh.draw().plot()"
   ]
  },
  {
   "cell_type": "markdown",
   "id": "214f747e",
   "metadata": {},
   "source": [
    "## Controlling meshing domain\n",
    "\n",
    "You can use functions that return other components to modify the simulation domain, for instance `gdsfactory.geometry.trim`:"
   ]
  },
  {
   "cell_type": "code",
   "execution_count": null,
   "id": "d652219d",
   "metadata": {},
   "outputs": [],
   "source": [
    "waveguide_trimmed = gf.Component()\n",
    "waveguide_trimmed.add_ref(\n",
    "    gf.geometry.trim(\n",
    "        component=waveguide,\n",
    "        domain=[[3, -4], [3, 4], [5, 4], [5, -4]],\n",
    "    )\n",
    ")\n",
    "\n",
    "waveguide_trimmed"
   ]
  },
  {
   "cell_type": "code",
   "execution_count": null,
   "id": "b8000b4a",
   "metadata": {},
   "outputs": [],
   "source": [
    "mesh = waveguide_trimmed.to_gmsh(\n",
    "    type=\"xy\", z=0.09, layer_stack=filtered_layerstack, filename=f\"{filename}.msh\"\n",
    ")\n",
    "mesh = mesh_with_physicals(mesh, filename)\n",
    "mesh = from_meshio(mesh)\n",
    "mesh.draw().plot()"
   ]
  }
 ],
 "metadata": {
  "jupytext": {
   "cell_metadata_filter": "-all",
   "formats": "md,ipynb",
   "main_language": "python",
   "notebook_metadata_filter": "-all"
  }
 },
 "nbformat": 4,
 "nbformat_minor": 5
}
