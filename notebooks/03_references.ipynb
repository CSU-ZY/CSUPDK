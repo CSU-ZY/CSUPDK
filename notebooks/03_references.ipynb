{
 "cells": [
  {
   "cell_type": "markdown",
   "metadata": {},
   "source": [
    "# References\n",
    "\n",
    "GDS allows defining the component once in memory and reference to that structure in other components.\n"
   ]
  },
  {
   "cell_type": "code",
   "execution_count": null,
   "metadata": {},
   "outputs": [],
   "source": [
    "from IPython.display import Image"
   ]
  },
  {
   "cell_type": "code",
   "execution_count": null,
   "metadata": {},
   "outputs": [],
   "source": [
    "Image(\"../docs/images/gds.png\")"
   ]
  },
  {
   "cell_type": "markdown",
   "metadata": {},
   "source": [
    "## Adding a component reference\n",
    "\n",
    "As we build complex circuit we'll make circuits that combine reference to other simpler circuits. Adding a reference is like having a pointer to the other devices."
   ]
  },
  {
   "cell_type": "code",
   "execution_count": null,
   "metadata": {},
   "outputs": [],
   "source": [
    "import pp"
   ]
  },
  {
   "cell_type": "markdown",
   "metadata": {},
   "source": [
    "We have two ways to add a reference to our device:\n",
    "\n",
    "1. create the reference and add it to the component"
   ]
  },
  {
   "cell_type": "code",
   "execution_count": null,
   "metadata": {},
   "outputs": [],
   "source": [
    "c = pp.Component()\n",
    "w = pp.c.waveguide(width=0.6)\n",
    "wr = w.ref()\n",
    "c.add(wr)\n",
    "pp.qp(c)"
   ]
  },
  {
   "cell_type": "code",
   "execution_count": null,
   "metadata": {},
   "outputs": [],
   "source": [
    "wr."
   ]
  },
  {
   "cell_type": "markdown",
   "metadata": {},
   "source": [
    "2. or we can do it in a single line (my preference)"
   ]
  },
  {
   "cell_type": "code",
   "execution_count": null,
   "metadata": {},
   "outputs": [],
   "source": [
    "c = pp.Component()\n",
    "wr = c << pp.c.waveguide(width=0.6)\n",
    "pp.qp(c)"
   ]
  },
  {
   "cell_type": "markdown",
   "metadata": {},
   "source": [
    "in both cases we can move the reference `wr` after created"
   ]
  },
  {
   "cell_type": "code",
   "execution_count": null,
   "metadata": {},
   "outputs": [],
   "source": [
    "c = pp.Component()\n",
    "wr1 = c << pp.c.waveguide(width=0.6)\n",
    "wr2 = c << pp.c.waveguide(width=0.6)\n",
    "wr2.movey(10)\n",
    "pp.qp(c)"
   ]
  },
  {
   "cell_type": "markdown",
   "metadata": {},
   "source": [
    "# Adding a reference array\n",
    "\n",
    "We can also add an array of references for periodic structures. Lets create a [Distributed Bragg Reflector](https://picwriter.readthedocs.io/en/latest/components/dbr.html)\n",
    "\n",
    "\n",
    "As PHIDL tutorial says, in GDS, there's a type of structure called a \"CellArray\" which takes a cell and repeats it NxM times on a fixed grid spacing. For convenience, PHIDL includes this functionality with the add_array() function.  Note that CellArrays are not compatible with ports (since there is no way to access/modify individual elements in a GDS cellarray) "
   ]
  },
  {
   "cell_type": "code",
   "execution_count": null,
   "metadata": {},
   "outputs": [],
   "source": [
    "@pp.autoname\n",
    "def dbr_cell(w1=0.5, w2=0.6, l1=0.2, l2=0.4, waveguide_function=pp.c.waveguide):\n",
    "    c = pp.Component()\n",
    "    c1 = c << waveguide_function(length=l1, width=w1)\n",
    "    c2 = c << waveguide_function(length=l2, width=w2)\n",
    "    c2.connect(port=\"W0\", destination=c1.ports[\"E0\"])\n",
    "    c.add_port('W0', port=c1.ports['W0'])\n",
    "    c.add_port('E0', port=c2.ports['E0'])\n",
    "    return c\n",
    "\n",
    "w1=0.5\n",
    "w2=0.6\n",
    "l1=0.2\n",
    "l2=0.4\n",
    "n=3\n",
    "waveguide_function=pp.c.waveguide\n",
    "c = pp.Component()\n",
    "cell = dbr_cell(w1=w1, w2=w2, l1=l1, l2=l2, waveguide_function=waveguide_function)\n",
    "pp.qp(cell)"
   ]
  },
  {
   "cell_type": "code",
   "execution_count": null,
   "metadata": {},
   "outputs": [],
   "source": [
    "cell_array = c.add_array(device=cell, columns=n, rows=1, spacing=(l1+l2, 100))"
   ]
  },
  {
   "cell_type": "code",
   "execution_count": null,
   "metadata": {},
   "outputs": [],
   "source": [
    "pp.qp(c)"
   ]
  },
  {
   "cell_type": "markdown",
   "metadata": {},
   "source": [
    "Finally we need to add ports to the new component"
   ]
  },
  {
   "cell_type": "code",
   "execution_count": null,
   "metadata": {},
   "outputs": [],
   "source": [
    "p0 = c.add_port('W0', port=cell.ports['W0'])\n",
    "p1 = c.add_port('E0', port=cell.ports['E0'])\n",
    "p1.midpoint = [(l1+l2)*n, 0]"
   ]
  },
  {
   "cell_type": "code",
   "execution_count": null,
   "metadata": {},
   "outputs": [],
   "source": [
    "pp.qp(c)"
   ]
  }
 ],
 "metadata": {
  "kernelspec": {
   "display_name": "Python 3",
   "language": "python",
   "name": "python3"
  },
  "language_info": {
   "codemirror_mode": {
    "name": "ipython",
    "version": 3
   },
   "file_extension": ".py",
   "mimetype": "text/x-python",
   "name": "python",
   "nbconvert_exporter": "python",
   "pygments_lexer": "ipython3",
   "version": "3.7.7"
  }
 },
 "nbformat": 4,
 "nbformat_minor": 2
}
