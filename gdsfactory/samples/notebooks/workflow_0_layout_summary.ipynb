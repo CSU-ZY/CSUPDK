{
 "cells": [
  {
   "cell_type": "markdown",
   "id": "d60dba28",
   "metadata": {},
   "source": [
    "# Layout summary\n",
    "\n",
    "## Layout\n",
    "\n",
    "gdsfactory easily enables you to layout Component with as many levels of hierarchy as you need.\n",
    "\n",
    "A `Component` is a canvas where we can add polygons, references to other components or ports.\n",
    "\n",
    "Lets add two references in a component."
   ]
  },
  {
   "cell_type": "code",
   "execution_count": null,
   "id": "bab886df",
   "metadata": {},
   "outputs": [],
   "source": [
    "from typing import Optional\n",
    "\n",
    "from functools import partial\n",
    "import toolz\n",
    "from omegaconf import OmegaConf\n",
    "\n",
    "from gdsfactory.component import Component\n",
    "from gdsfactory.components.bend_euler import bend_euler\n",
    "from gdsfactory.components.coupler90 import coupler90 as coupler90function\n",
    "from gdsfactory.components.coupler_straight import (\n",
    "    coupler_straight as coupler_straight_function,\n",
    ")\n",
    "from gdsfactory.components.straight import straight\n",
    "from gdsfactory.cross_section import strip\n",
    "from gdsfactory.snap import assert_on_2nm_grid\n",
    "from gdsfactory.typings import ComponentSpec, CrossSectionSpec\n",
    "import gdsfactory as gf\n",
    "\n",
    "gf.config.rich_output()\n",
    "PDK = gf.get_generic_pdk()\n",
    "PDK.activate()\n",
    "\n",
    "c = gf.Component()\n",
    "mzi = c << gf.components.mzi()  # equivalent to mzi = c.add_ref(gf.components.mzi())\n",
    "bend = (\n",
    "    c << gf.components.bend_circular()\n",
    ")  # equivalent to bend = c.add_ref(gf.components.bend_circular())\n",
    "c.plot()"
   ]
  },
  {
   "cell_type": "markdown",
   "id": "01ef8de7",
   "metadata": {},
   "source": [
    "You can connect the bend `o1` port to the mzi `o2` port."
   ]
  },
  {
   "cell_type": "code",
   "execution_count": null,
   "id": "f59a0232",
   "metadata": {
    "lines_to_next_cell": 2
   },
   "outputs": [],
   "source": [
    "c = gf.Component()\n",
    "mzi = c << gf.components.mzi()  # equivalent to mzi = c.add_ref(gf.components.mzi())\n",
    "bend = (\n",
    "    c << gf.components.bend_circular()\n",
    ")  # equivalent to bend = c.add_ref(gf.components.bend_circular())\n",
    "bend.connect(\"o1\", mzi.ports[\"o2\"])\n",
    "c.plot()"
   ]
  },
  {
   "cell_type": "markdown",
   "id": "8ea4b710",
   "metadata": {},
   "source": [
    "You can also define a `cell` function that returns a parametric Component depending on the arguments you pass and gets automatic name.\n"
   ]
  },
  {
   "cell_type": "code",
   "execution_count": null,
   "id": "61bd73aa",
   "metadata": {},
   "outputs": [],
   "source": [
    "@gf.cell\n",
    "def mzi_with_bend(radius: float = 10):\n",
    "    c = gf.Component()\n",
    "    mzi = c << gf.components.mzi()  # equivalent to mzi = c.add_ref(gf.components.mzi())\n",
    "    bend = c << gf.components.bend_circular(\n",
    "        radius=radius\n",
    "    )  # equivalent to bend = c.add_ref(gf.components.bend_circular())\n",
    "    bend.connect(\"o1\", mzi.ports[\"o2\"])\n",
    "    return c\n",
    "\n",
    "\n",
    "c = mzi_with_bend(radius=20)\n",
    "c.plot()"
   ]
  },
  {
   "cell_type": "markdown",
   "id": "7a6a9286",
   "metadata": {},
   "source": [
    "Now to connect your component to other components you need to add ports."
   ]
  },
  {
   "cell_type": "code",
   "execution_count": null,
   "id": "1f3011ba",
   "metadata": {},
   "outputs": [],
   "source": [
    "c.ports"
   ]
  },
  {
   "cell_type": "code",
   "execution_count": null,
   "id": "f8eb6280",
   "metadata": {},
   "outputs": [],
   "source": [
    "@gf.cell\n",
    "def mzi_with_bend(radius: float = 10):\n",
    "    c = gf.Component()\n",
    "    mzi = c << gf.components.mzi()  # equivalent to mzi = c.add_ref(gf.components.mzi())\n",
    "    bend = c << gf.components.bend_circular(\n",
    "        radius=radius\n",
    "    )  # equivalent to bend = c.add_ref(gf.components.bend_circular())\n",
    "    bend.connect(\"o1\", mzi.ports[\"o2\"])\n",
    "    c.add_port(\"o1\", port=mzi.ports[\"o1\"])\n",
    "    c.add_port(\"o2\", port=bend.ports[\"o2\"])\n",
    "    return c\n",
    "\n",
    "\n",
    "c = mzi_with_bend(\n",
    "    radius=20, cache=False\n",
    ")  # as we changed the code inside the function you need to clear the cache from the cell decorator.\n",
    "c.plot()"
   ]
  },
  {
   "cell_type": "code",
   "execution_count": null,
   "id": "0a11aa21",
   "metadata": {},
   "outputs": [],
   "source": [
    "c.ports"
   ]
  },
  {
   "cell_type": "markdown",
   "id": "cc46bbad",
   "metadata": {},
   "source": [
    "Once you have ports you can route it to fiber couplers."
   ]
  },
  {
   "cell_type": "code",
   "execution_count": null,
   "id": "0b0693a9",
   "metadata": {},
   "outputs": [],
   "source": [
    "c_fiber_single = gf.routing.add_fiber_single(c)\n",
    "c_fiber_single"
   ]
  },
  {
   "cell_type": "code",
   "execution_count": null,
   "id": "37ad1c57",
   "metadata": {},
   "outputs": [],
   "source": [
    "c_fiber_array = gf.routing.add_fiber_array(c, with_loopback=False)\n",
    "c_fiber_array"
   ]
  },
  {
   "cell_type": "code",
   "execution_count": null,
   "id": "3cfffed6",
   "metadata": {
    "lines_to_next_cell": 2
   },
   "outputs": [],
   "source": [
    "scene = c_fiber_array.to_3d()\n",
    "scene.show()"
   ]
  },
  {
   "cell_type": "markdown",
   "id": "02521ac1",
   "metadata": {},
   "source": [
    "For a component it's important that you spend some time early to parametrize it correctly. Don't be afraid to spend some time using pen and paper and choosing easy to understand names.\n",
    "\n",
    "Lets for example define a ring resonator, which is already a circuit made of waveguides, bends and couplers.\n",
    "\n",
    "Components, circuits and Masks are made in Parametric `cell` functions, that can also accept other ComponentSpec.\n",
    "\n",
    "A Component Spec can be:\n",
    "\n",
    "- a parametric cell function (decorated with `cell`)\n",
    "- a string. To get a cell registered in the active pdk.\n",
    "- a dict. `dict(component='mmi2x2', length_mmi=3)`\n"
   ]
  },
  {
   "cell_type": "code",
   "execution_count": null,
   "id": "284e069c",
   "metadata": {},
   "outputs": [],
   "source": [
    "@gf.cell\n",
    "def coupler_ring(\n",
    "    gap: float = 0.2,\n",
    "    radius: float = 5.0,\n",
    "    length_x: float = 4.0,\n",
    "    coupler90: ComponentSpec = coupler90function,\n",
    "    bend: Optional[ComponentSpec] = None,\n",
    "    coupler_straight: ComponentSpec = coupler_straight_function,\n",
    "    cross_section: CrossSectionSpec = strip,\n",
    "    bend_cross_section: Optional[CrossSectionSpec] = None,\n",
    "    **kwargs,\n",
    ") -> Component:\n",
    "    r\"\"\"Coupler for ring.\n",
    "\n",
    "    Args:\n",
    "        gap: spacing between parallel coupled straight waveguides.\n",
    "        radius: of the bends.\n",
    "        length_x: length of the parallel coupled straight waveguides.\n",
    "        coupler90: straight coupled to a 90deg bend.\n",
    "        bend: bend spec.\n",
    "        coupler_straight: two parallel coupled straight waveguides.\n",
    "        cross_section: cross_section spec.\n",
    "        bend_cross_section: optional bend cross_section spec.\n",
    "        kwargs: cross_section settings for bend and coupler.\n",
    "\n",
    "    .. code::\n",
    "\n",
    "           2             3\n",
    "           |             |\n",
    "            \\           /\n",
    "             \\         /\n",
    "           ---=========---\n",
    "         1    length_x    4\n",
    "\n",
    "\n",
    "    \"\"\"\n",
    "    bend = bend or bend_euler\n",
    "\n",
    "    c = Component()\n",
    "    assert_on_2nm_grid(gap)\n",
    "\n",
    "    # define subcells\n",
    "    coupler90_component = gf.get_component(\n",
    "        coupler90,\n",
    "        gap=gap,\n",
    "        radius=radius,\n",
    "        bend=bend,\n",
    "        cross_section=cross_section,\n",
    "        bend_cross_section=bend_cross_section,\n",
    "        **kwargs,\n",
    "    )\n",
    "    coupler_straight_component = gf.get_component(\n",
    "        coupler_straight,\n",
    "        gap=gap,\n",
    "        length=length_x,\n",
    "        cross_section=cross_section,\n",
    "        **kwargs,\n",
    "    )\n",
    "\n",
    "    # add references to subcells\n",
    "    cbl = c << coupler90_component\n",
    "    cbr = c << coupler90_component\n",
    "    cs = c << coupler_straight_component\n",
    "\n",
    "    # connect references\n",
    "    y = coupler90_component.y\n",
    "    cs.connect(port=\"o4\", destination=cbr.ports[\"o1\"])\n",
    "    cbl.mirror(p1=(0, y), p2=(1, y))\n",
    "    cbl.connect(port=\"o2\", destination=cs.ports[\"o2\"])\n",
    "\n",
    "    c.add_port(\"o1\", port=cbl.ports[\"o3\"])\n",
    "    c.add_port(\"o2\", port=cbl.ports[\"o4\"])\n",
    "    c.add_port(\"o3\", port=cbr.ports[\"o3\"])\n",
    "    c.add_port(\"o4\", port=cbr.ports[\"o4\"])\n",
    "    c.auto_rename_ports()\n",
    "    return c\n",
    "\n",
    "\n",
    "coupler = coupler_ring()\n",
    "coupler"
   ]
  },
  {
   "cell_type": "markdown",
   "id": "fed3da32",
   "metadata": {},
   "source": [
    "Lets define a ring function that also accepts other component specs for the subcomponents (straight, coupler, bend)\n"
   ]
  },
  {
   "cell_type": "code",
   "execution_count": null,
   "id": "baea96df",
   "metadata": {},
   "outputs": [],
   "source": [
    "@gf.cell\n",
    "def ring_single(\n",
    "    gap: float = 0.2,\n",
    "    radius: float = 10.0,\n",
    "    length_x: float = 4.0,\n",
    "    length_y: float = 0.6,\n",
    "    coupler_ring: ComponentSpec = coupler_ring,\n",
    "    bend: ComponentSpec = bend_euler,\n",
    "    cross_section: ComponentSpec = \"strip\",\n",
    "    **kwargs,\n",
    ") -> gf.Component:\n",
    "    \"\"\"Returns a single ring.\n",
    "\n",
    "    ring coupler (cb: bottom) connects to two vertical straights (sl: left, sr: right),\n",
    "    two bends (bl, br) and horizontal straight (wg: top)\n",
    "\n",
    "    Args:\n",
    "        gap: gap between for coupler.\n",
    "        radius: for the bend and coupler.\n",
    "        length_x: ring coupler length.\n",
    "        length_y: vertical straight length.\n",
    "        coupler_ring: ring coupler spec.\n",
    "        bend: 90 degrees bend spec.\n",
    "        cross_section: cross_section spec.\n",
    "        kwargs: cross_section settings\n",
    "\n",
    "\n",
    "    .. code::\n",
    "\n",
    "          bl-st-br\n",
    "          |      |\n",
    "          sl     sr length_y\n",
    "          |      |\n",
    "         --==cb==-- gap\n",
    "\n",
    "          length_x\n",
    "\n",
    "    \"\"\"\n",
    "    gf.snap.assert_on_2nm_grid(gap)\n",
    "\n",
    "    c = gf.Component()\n",
    "    cb = c << gf.get_component(\n",
    "        coupler_ring,\n",
    "        bend=bend,\n",
    "        gap=gap,\n",
    "        radius=radius,\n",
    "        length_x=length_x,\n",
    "        cross_section=cross_section,\n",
    "        **kwargs,\n",
    "    )\n",
    "    sy = gf.get_component(\n",
    "        straight, length=length_y, cross_section=cross_section, **kwargs\n",
    "    )\n",
    "    b = gf.get_component(bend, cross_section=cross_section, radius=radius, **kwargs)\n",
    "    sx = straight(length=length_x, cross_section=cross_section, **kwargs)\n",
    "    sl = c << sy\n",
    "    sr = c << sy\n",
    "    bl = c << b\n",
    "    br = c << b\n",
    "    st = c << sx\n",
    "\n",
    "    sl.connect(port=\"o1\", destination=cb.ports[\"o2\"])\n",
    "    bl.connect(port=\"o2\", destination=sl.ports[\"o2\"])\n",
    "\n",
    "    st.connect(port=\"o2\", destination=bl.ports[\"o1\"])\n",
    "    br.connect(port=\"o2\", destination=st.ports[\"o1\"])\n",
    "    sr.connect(port=\"o1\", destination=br.ports[\"o1\"])\n",
    "    sr.connect(port=\"o2\", destination=cb.ports[\"o3\"])\n",
    "\n",
    "    c.add_port(\"o2\", port=cb.ports[\"o4\"])\n",
    "    c.add_port(\"o1\", port=cb.ports[\"o1\"])\n",
    "    return c\n",
    "\n",
    "\n",
    "ring = ring_single()\n",
    "ring"
   ]
  },
  {
   "cell_type": "markdown",
   "id": "0e772ac7",
   "metadata": {},
   "source": [
    "How do you customize components?\n",
    "\n",
    "You can use `functools.partial` to customize the default settings from any component"
   ]
  },
  {
   "cell_type": "code",
   "execution_count": null,
   "id": "3adb7d54",
   "metadata": {},
   "outputs": [],
   "source": [
    "ring_single3 = partial(ring_single, radius=3)\n",
    "ring_single3()"
   ]
  },
  {
   "cell_type": "code",
   "execution_count": null,
   "id": "70d43b6a",
   "metadata": {},
   "outputs": [],
   "source": [
    "ring_array = gf.components.ring_single_array(\n",
    "    list_of_dicts=[dict(radius=i) for i in [5, 6, 7]]\n",
    ")\n",
    "ring_array"
   ]
  },
  {
   "cell_type": "code",
   "execution_count": null,
   "id": "8b22c66a",
   "metadata": {},
   "outputs": [],
   "source": [
    "ring_with_grating_couplers = gf.routing.add_fiber_array(ring_array)\n",
    "ring_with_grating_couplers"
   ]
  },
  {
   "cell_type": "markdown",
   "id": "01501eb0",
   "metadata": {},
   "source": [
    "## Netlist driven flow\n",
    "\n",
    "You can define components as a Place and Route netlist.\n",
    "\n",
    "- instances\n",
    "- placements\n",
    "- routes"
   ]
  },
  {
   "cell_type": "code",
   "execution_count": null,
   "id": "487510f7",
   "metadata": {},
   "outputs": [],
   "source": [
    "yaml = \"\"\"\n",
    "name: sample_different_factory\n",
    "\n",
    "instances:\n",
    "    bl:\n",
    "      component: pad\n",
    "    tl:\n",
    "      component: pad\n",
    "    br:\n",
    "      component: pad\n",
    "    tr:\n",
    "      component: pad\n",
    "\n",
    "placements:\n",
    "    tl:\n",
    "        x: 0\n",
    "        y: 200\n",
    "\n",
    "    br:\n",
    "        x: 400\n",
    "        y: 400\n",
    "\n",
    "    tr:\n",
    "        x: 400\n",
    "        y: 600\n",
    "\n",
    "\n",
    "routes:\n",
    "    electrical:\n",
    "        settings:\n",
    "            separation: 20\n",
    "            layer: [41, 0]\n",
    "            width: 10\n",
    "        links:\n",
    "            tl,e3: tr,e1\n",
    "            bl,e3: br,e1\n",
    "    optical:\n",
    "        settings:\n",
    "            radius: 100\n",
    "        links:\n",
    "            bl,e4: br,e3\n",
    "\n",
    "\"\"\"\n",
    "\n",
    "mzi = gf.read.from_yaml(yaml)\n",
    "mzi"
   ]
  },
  {
   "cell_type": "markdown",
   "id": "2c6c3321",
   "metadata": {},
   "source": [
    "## Top reticle assembly\n",
    "\n",
    "Once you have your components and circuits defined, you can add them into a top reticle Component for fabrication.\n",
    "\n",
    "You need to consider:\n",
    "\n",
    "- what design variations do you want to include in the mask? You need to define your Design Of Experiment or DOE\n",
    "- obey DRC (Design rule checking) foundry rules for manufacturability. Foundry usually provides those rules for each layer (min width, min space, min density, max density)\n",
    "- make sure you will be able to test te devices after fabrication. Obey DFT (design for testing) rules. For example, if your test setup works only for fiber array, what is the fiber array spacing (127 or 250um?)\n",
    "- if you plan to package your device, make sure you follow your packaging guidelines from your packaging house (min pad size, min pad pitch, max number of rows for wire bonding ...)"
   ]
  },
  {
   "cell_type": "code",
   "execution_count": null,
   "id": "376a7159",
   "metadata": {},
   "outputs": [],
   "source": [
    "ring_te = toolz.compose(gf.routing.add_fiber_array, gf.components.ring_single)\n",
    "rings = gf.grid([ring_te(radius=r) for r in [10, 20, 50]])\n",
    "\n",
    "\n",
    "@gf.cell\n",
    "def reticle(size=(1000, 1000)):\n",
    "    c = gf.Component()\n",
    "    r = c << rings\n",
    "    m = c << gf.components.pack_doe(\n",
    "        gf.components.mzi,\n",
    "        settings=dict(delta_length=[100, 200]),\n",
    "        function=gf.routing.add_fiber_single,\n",
    "    )\n",
    "    m.xmin = r.xmax + 10\n",
    "    m.ymin = r.ymin\n",
    "    c << gf.components.seal_ring(c.bbox)\n",
    "    return c\n",
    "\n",
    "\n",
    "m = reticle(cache=False)\n",
    "m"
   ]
  },
  {
   "cell_type": "code",
   "execution_count": null,
   "id": "0ae5dc24",
   "metadata": {},
   "outputs": [],
   "source": [
    "gdspath = m.write_gds(gdspath=\"mask.gds\", with_metadata=True)"
   ]
  },
  {
   "cell_type": "markdown",
   "id": "57b7bf24",
   "metadata": {},
   "source": [
    "Make sure you save the GDS with metadata so when the chip comes back you remember what you have on it.\n",
    "\n",
    "You can also save the labels for automatic testing."
   ]
  },
  {
   "cell_type": "code",
   "execution_count": null,
   "id": "2b180a60",
   "metadata": {},
   "outputs": [],
   "source": [
    "labels_path = gdspath.with_suffix(\".csv\")\n",
    "gf.labels.write_labels.write_labels_klayout(gdspath=gdspath, layer_label=(66, 0))"
   ]
  },
  {
   "cell_type": "code",
   "execution_count": null,
   "id": "7caf87e7",
   "metadata": {},
   "outputs": [],
   "source": [
    "mask_metadata = OmegaConf.load(gdspath.with_suffix(\".yml\"))\n",
    "tm = gf.labels.merge_test_metadata(mask_metadata=mask_metadata, labels_path=labels_path)"
   ]
  },
  {
   "cell_type": "code",
   "execution_count": null,
   "id": "75878f92",
   "metadata": {},
   "outputs": [],
   "source": [
    "tm.keys()"
   ]
  }
 ],
 "metadata": {
  "jupytext": {
   "cell_metadata_filter": "-all",
   "formats": "md,ipynb",
   "main_language": "python",
   "notebook_metadata_filter": "-all"
  }
 },
 "nbformat": 4,
 "nbformat_minor": 5
}
