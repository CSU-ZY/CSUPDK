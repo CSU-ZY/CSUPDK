{
 "cells": [
  {
   "cell_type": "markdown",
   "id": "794ab904",
   "metadata": {},
   "source": [
    "# Import PDK\n",
    "\n",
    "## Import PDK from GDS files\n",
    "\n",
    "To import a PDK from GDS files into gdsfactory you need:\n",
    "\n",
    "- GDS file with all the cells that you want to import in the PDK (or separate GDS files, where each file contains a GDS design).\n",
    "\n",
    "Ideally you also get:\n",
    "\n",
    "- Klayout layer properties files, to define the Layers that you can use when creating new custom Components. This allows you to define the LayerMap that maps Layer_name to (GDS_LAYER, GDS_PuRPOSE).\n",
    "- layer_stack information (material index, thickness, z positions of each layer).\n",
    "- DRC rules. If you don't get this you can easily build one using klayout.\n",
    "\n",
    "GDS files are great for describing geometry thanks to the concept of References, where you store any geometry only once in memory.\n",
    "\n",
    "For storing device metadata (settings, port locations, port widths, port angles ...) there is no clear standard.\n",
    "\n",
    "`gdsfactory` stores the that metadata in `YAML` files, and also has functions to add pins\n",
    "\n",
    "- `Component.write_gds()` saves GDS\n",
    "- `Component.write_gds_metadata()` save GDS + YAML metadata"
   ]
  },
  {
   "cell_type": "code",
   "execution_count": null,
   "id": "90acbf4c",
   "metadata": {},
   "outputs": [],
   "source": [
    "import gdsfactory as gf\n",
    "from gdsfactory.config import PATH\n",
    "from gdsfactory.generic_tech import get_generic_pdk\n",
    "from gdsfactory.technology import lyp_to_dataclass\n",
    "\n",
    "gf.config.rich_output()"
   ]
  },
  {
   "cell_type": "code",
   "execution_count": null,
   "id": "9870af5d",
   "metadata": {},
   "outputs": [],
   "source": [
    "c = gf.components.mzi()\n",
    "c.plot()"
   ]
  },
  {
   "cell_type": "markdown",
   "id": "b9259256",
   "metadata": {},
   "source": [
    "You can write **GDS** files only"
   ]
  },
  {
   "cell_type": "code",
   "execution_count": null,
   "id": "f2e7a320",
   "metadata": {},
   "outputs": [],
   "source": [
    "gdspath = c.write_gds(\"extra/mzi.gds\")"
   ]
  },
  {
   "cell_type": "markdown",
   "id": "0c74bc18",
   "metadata": {},
   "source": [
    "Or **GDS** with **YAML** metadata information (ports, settings, cells ...)"
   ]
  },
  {
   "cell_type": "code",
   "execution_count": null,
   "id": "b0316e1a",
   "metadata": {},
   "outputs": [],
   "source": [
    "gdspath = c.write_gds(\"extra/mzi.gds\", with_metadata=True)"
   ]
  },
  {
   "cell_type": "markdown",
   "id": "8c9f318b",
   "metadata": {},
   "source": [
    "This created a `mzi.yml` file that contains:\n",
    "- ports\n",
    "- cells (flat list of cells)\n",
    "- info (function name, module, changed settings, full settings, default settings)"
   ]
  },
  {
   "cell_type": "code",
   "execution_count": null,
   "id": "f93ea348",
   "metadata": {},
   "outputs": [],
   "source": [
    "c.metadata.keys()"
   ]
  },
  {
   "cell_type": "markdown",
   "id": "4467ade5",
   "metadata": {},
   "source": [
    "You can read GDS files into gdsfactory thanks to the `import_gds` function\n",
    "\n",
    "`import_gds` reads the same GDS file from disk without losing any information"
   ]
  },
  {
   "cell_type": "code",
   "execution_count": null,
   "id": "5cccec1d",
   "metadata": {},
   "outputs": [],
   "source": [
    "gf.clear_cache()\n",
    "\n",
    "c = gf.import_gds(gdspath, read_metadata=True)\n",
    "c.plot()"
   ]
  },
  {
   "cell_type": "code",
   "execution_count": null,
   "id": "63262b59",
   "metadata": {},
   "outputs": [],
   "source": [
    "c2 = gf.import_gds(gdspath, read_metadata=True)\n",
    "c2.plot()"
   ]
  },
  {
   "cell_type": "code",
   "execution_count": null,
   "id": "c8e27379",
   "metadata": {},
   "outputs": [],
   "source": [
    "c2.name"
   ]
  },
  {
   "cell_type": "code",
   "execution_count": null,
   "id": "c838b671",
   "metadata": {},
   "outputs": [],
   "source": [
    "c3 = gf.routing.add_fiber_single(c2)\n",
    "c3.plot()"
   ]
  },
  {
   "cell_type": "code",
   "execution_count": null,
   "id": "b67782e4",
   "metadata": {},
   "outputs": [],
   "source": [
    "gdspath = c3.write_gds(\"extra/pdk.gds\", with_metadata=True)"
   ]
  },
  {
   "cell_type": "code",
   "execution_count": null,
   "id": "55dd1158",
   "metadata": {},
   "outputs": [],
   "source": [
    "gf.labels.write_labels.write_labels_klayout(gdspath, layer_label=(201, 0))"
   ]
  },
  {
   "cell_type": "markdown",
   "id": "2e0ed1e9",
   "metadata": {},
   "source": [
    "### add ports from pins\n",
    "\n",
    "Sometimes the GDS does not have YAML metadata, therefore you need to figure out the port locations, widths and orientations.\n",
    "\n",
    "gdsfactory provides you with functions that will add ports to the component by looking for pins shapes on a specific layers (port_markers or pins)\n",
    "\n",
    "There are different pin standards supported to automatically add ports to components:\n",
    "\n",
    "- PINs towards the inside of the port (port at the outer part of the PIN)\n",
    "- PINs with half of the pin inside and half outside (port at the center of the PIN)\n",
    "- PIN with only labels (no shapes). You have to manually specify the width of the port.\n",
    "\n",
    "\n",
    "Lets add pins, save a GDS and then import it back."
   ]
  },
  {
   "cell_type": "code",
   "execution_count": null,
   "id": "53dd4f82",
   "metadata": {},
   "outputs": [],
   "source": [
    "from functools import partial\n",
    "\n",
    "c = gf.components.straight()\n",
    "c_with_pins = gf.add_pins.add_pins_container(component=c)\n",
    "c_with_pins.plot(show_ports=False)"
   ]
  },
  {
   "cell_type": "code",
   "execution_count": null,
   "id": "83dfa639",
   "metadata": {},
   "outputs": [],
   "source": [
    "gdspath = c_with_pins.write_gds(\"extra/wg.gds\")"
   ]
  },
  {
   "cell_type": "code",
   "execution_count": null,
   "id": "19b55710",
   "metadata": {},
   "outputs": [],
   "source": [
    "gf.clear_cache()\n",
    "c2 = gf.import_gds(gdspath)\n",
    "c2.plot()"
   ]
  },
  {
   "cell_type": "code",
   "execution_count": null,
   "id": "8f776f6f",
   "metadata": {},
   "outputs": [],
   "source": [
    "c2.ports  # import_gds does not automatically add the pins"
   ]
  },
  {
   "cell_type": "code",
   "execution_count": null,
   "id": "b20579ab",
   "metadata": {},
   "outputs": [],
   "source": [
    "c3 = gf.import_gds(gdspath)\n",
    "c3 = gf.add_ports.add_ports_from_markers_inside(c3, port_layer=\"PORT\")\n",
    "c3.plot(show_ports=False)"
   ]
  },
  {
   "cell_type": "code",
   "execution_count": null,
   "id": "fc4851fe",
   "metadata": {},
   "outputs": [],
   "source": [
    "c3.pprint_ports()"
   ]
  },
  {
   "cell_type": "markdown",
   "id": "cbe586da",
   "metadata": {},
   "source": [
    "Foundries provide PDKs in different formats and commercial tools.\n",
    "\n",
    "The easiest way to import a PDK into gdsfactory is to:\n",
    "\n",
    "1. have each GDS cell into a separate GDS file\n",
    "2. have one GDS file with all the cells inside\n",
    "3. Have a KLayout layermap. Makes easier to create the layermap.\n",
    "\n",
    "With that you can easily create the PDK as as python package.\n",
    "\n",
    "Thanks to having a gdsfactory PDK as a python package you can:\n",
    "\n",
    "- version control your PDK using GIT to keep track of changes and work on a team\n",
    "    - write tests of your pdk components to avoid unwanted changes from one component to another.\n",
    "    - ensure you maintain the quality of the PDK with continuous integration checks\n",
    "    - pin the version of gdsfactory, so new updates of gdsfactory won't affect your code\n",
    "- name your PDK version using [semantic versioning](https://semver.org/). For example patches increase the last number (0.0.1 -> 0.0.2)\n",
    "- install your PDK easily `pip install pdk_fab_a` and easily interface with other tools\n",
    "\n",
    "\n",
    "\n",
    "To create a **Python** package you can start from a customizable template (thanks to cookiecutter)\n",
    "\n",
    "You can create a python package by running this 2 commands inside a terminal:\n",
    "\n",
    "```\n",
    "pip install cookiecutter\n",
    "cookiecutter gh:joamatab/python\n",
    "```\n",
    "\n",
    "It will ask you some questions to fill in the template for the python package.\n",
    "\n",
    "\n",
    "Then you can add the information about the GDS files and the Layers inside that package"
   ]
  },
  {
   "cell_type": "code",
   "execution_count": null,
   "id": "cd9610ef",
   "metadata": {},
   "outputs": [],
   "source": [
    "print(lyp_to_dataclass(PATH.klayout_lyp))"
   ]
  },
  {
   "cell_type": "code",
   "execution_count": null,
   "id": "77f17804",
   "metadata": {},
   "outputs": [],
   "source": [
    "# lets create a sample PDK (for demo purposes only) using GDSfactory\n",
    "# if the PDK is in a commercial tool you can also do this. Make sure you save a single pdk.gds\n",
    "\n",
    "sample_pdk_cells = gf.grid(\n",
    "    [\n",
    "        gf.components.straight,\n",
    "        gf.components.bend_euler,\n",
    "        gf.components.grating_coupler_elliptical,\n",
    "    ]\n",
    ")\n",
    "sample_pdk_cells.write_gds(\"extra/pdk.gds\")\n",
    "sample_pdk_cells"
   ]
  },
  {
   "cell_type": "code",
   "execution_count": null,
   "id": "4aa612ae",
   "metadata": {},
   "outputs": [],
   "source": [
    "sample_pdk_cells.get_dependencies()"
   ]
  },
  {
   "cell_type": "code",
   "execution_count": null,
   "id": "8812ae5a",
   "metadata": {},
   "outputs": [],
   "source": [
    "# we write the sample PDK into a single GDS file\n",
    "gf.clear_cache()\n",
    "gf.write_cells.write_cells_recursively(gdspath=\"extra/pdk.gds\", dirpath=\"extra/gds\")"
   ]
  },
  {
   "cell_type": "code",
   "execution_count": null,
   "id": "03c4aaff",
   "metadata": {},
   "outputs": [],
   "source": [
    "print(gf.write_cells.get_import_gds_script(\"extra/gds\"))"
   ]
  },
  {
   "cell_type": "markdown",
   "id": "d6c97710",
   "metadata": {},
   "source": [
    "You can also include the code to plot each fix cell in the docstring."
   ]
  },
  {
   "cell_type": "code",
   "execution_count": null,
   "id": "5852d991",
   "metadata": {},
   "outputs": [],
   "source": [
    "print(gf.write_cells.get_import_gds_script(\"extra/gds\", module=\"samplepdk.components\"))"
   ]
  },
  {
   "cell_type": "markdown",
   "id": "7ce86093",
   "metadata": {},
   "source": [
    "## Import PDK from other python packages\n",
    "\n",
    "You can Write the cells to GDS and use the\n",
    "\n",
    "Ideally you also start transitioning your legacy code Pcells into gdsfactory syntax. It's a great way to learn the gdsfactory way!\n",
    "\n",
    "Here is some advice:\n",
    "\n",
    "- Ask your foundry for the gdsfactory PDK.\n",
    "- Leverage the generic pdk cells available in gdsfactory.\n",
    "- Write tests for your cells.\n",
    "- Break the cells into small reusable functions.\n",
    "- use GIT to track changes.\n",
    "- review your code with your colleagues and other gdsfactory developers to get feedback. This is key to get better at coding gdsfactory.\n",
    "- get rid of any warnings you see."
   ]
  },
  {
   "cell_type": "markdown",
   "id": "7134c3af",
   "metadata": {},
   "source": [
    "## Import PDK from YAML uPDK\n",
    "\n",
    "gdsfactory supports read and write to [uPDK YAML definition](https://openepda.org/index.html)\n",
    "\n",
    "Lets write a PDK into uPDK YAML definition and then convert it back to a gdsfactory script.\n",
    "\n",
    "the uPDK extracts the code from the docstrings.\n",
    "\n",
    "```python\n",
    "\n",
    "def evanescent_coupler_sample() -> None:\n",
    "    \"\"\"Evanescent coupler example.\n",
    "\n",
    "    Args:\n",
    "      coupler_length: length of coupling (min: 0.0, max: 200.0, um).\n",
    "    \"\"\"\n",
    "    pass\n",
    "\n",
    "```"
   ]
  },
  {
   "cell_type": "code",
   "execution_count": null,
   "id": "0358f6f6",
   "metadata": {
    "lines_to_next_cell": 2
   },
   "outputs": [],
   "source": [
    "from gdsfactory.samples.pdk.fab_c import pdk\n",
    "\n",
    "yaml_pdk_decription = pdk.to_updk()\n",
    "print(yaml_pdk_decription)"
   ]
  },
  {
   "cell_type": "code",
   "execution_count": null,
   "id": "692c257e",
   "metadata": {},
   "outputs": [],
   "source": [
    "from gdsfactory.read.from_updk import from_updk\n",
    "\n",
    "gdsfactory_script = from_updk(yaml_pdk_decription)\n",
    "print(gdsfactory_script)"
   ]
  },
  {
   "cell_type": "markdown",
   "id": "38af7c9f",
   "metadata": {},
   "source": [
    "## Build your own PDK\n",
    "\n",
    "You can create a PDK as a python library using a cookiecutter template. For example, you can use this one.\n",
    "\n",
    "```\n",
    "pip install cookiecutter\n",
    "cookiecutter gh:joamatab/python\n",
    "```\n",
    "\n",
    "Or you can fork the ubcpdk and create new PCell functions that use the correct layers for your foundry. For example.\n",
    "\n",
    "```\n",
    "\n",
    "from pydantic import BaseModel\n",
    "\n",
    "\n",
    "class LayerMap(BaseModel):\n",
    "    WGCORE = (3, 0)\n",
    "    DEVREC: Layer = (68, 0)\n",
    "    PORT: Layer = (1, 10)  # PinRec\n",
    "    PORTE: Layer = (1, 11)  # PinRecM\n",
    "    FLOORPLAN: Layer = (99, 0)\n",
    "\n",
    "    TE: Layer = (203, 0)\n",
    "    TM: Layer = (204, 0)\n",
    "    TEXT: Layer = (66, 0)\n",
    "    LABEL_INSTANCE: Layer = (66, 0)\n",
    "\n",
    "\n",
    "LAYER = LayerMap()\n",
    "\n",
    "```"
   ]
  }
 ],
 "metadata": {
  "jupytext": {
   "cell_metadata_filter": "-all",
   "custom_cell_magics": "kql"
  },
  "kernelspec": {
   "display_name": "base",
   "language": "python",
   "name": "python3"
  },
  "language_info": {
   "codemirror_mode": {
    "name": "ipython",
    "version": 3
   },
   "file_extension": ".py",
   "mimetype": "text/x-python",
   "name": "python",
   "nbconvert_exporter": "python",
   "pygments_lexer": "ipython3",
   "version": "3.11.5"
  }
 },
 "nbformat": 4,
 "nbformat_minor": 5
}
