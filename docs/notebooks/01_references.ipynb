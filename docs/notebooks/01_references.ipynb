{
 "cells": [
  {
   "cell_type": "markdown",
   "metadata": {},
   "source": [
    "# References\n",
    "\n",
    "GDS allows defining the component once in memory and reference to that structure in other components.\n",
    "\n",
    "![](https://i.imgur.com/D4qaJpi.png)"
   ]
  },
  {
   "cell_type": "markdown",
   "metadata": {},
   "source": [
    "As you build complex circuit you will make circuits that combine reference to other simpler circuits. Adding a reference is like having a pointer to the other devices.\n",
    "\n",
    "The GDSII specification allows the use of references, and similarly gdsfactory uses them (with the `add_ref()` function).  So what is a reference? Simply put:  **A reference does not contain any geometry. It only *points* to an existing geometry**.  \n",
    "\n",
    "Say Alice has a ridiculously large polygon with 100 billion vertices in it that we'll call BigPolygon. It's huge, and she needs to use it in her design 250 times.  Well, a single copy of BigPolygon takes up 100GB of memory just by itself, so she doesn't want to make 250 copies of it. Since Alice is clever, she instead *references* the polygon 250 times.  Each reference only uses a few bytes of memory -- it only needs to know the memory address of BigPolygon and a few other things. In this way, she can keep one copy of BigPolygon and use it again and again wherever she needs to.\n",
    "\n",
    "\n",
    "Let's start by making a blank geometry (`Component`) then adding a single polygon\n",
    "to it. "
   ]
  },
  {
   "cell_type": "code",
   "execution_count": null,
   "metadata": {},
   "outputs": [],
   "source": [
    "import numpy as np\n",
    "import pp\n",
    "\n",
    "\n",
    "# Create a blank Component\n",
    "p = pp.Component()\n",
    "\n",
    "# Add a polygon\n",
    "xpts = [0,0,5,6,9,12]\n",
    "ypts = [0,1,1,2,2,0]\n",
    "p.add_polygon([xpts,ypts])\n",
    "\n",
    "# Quickplot the Component with the polygon in it\n",
    "p"
   ]
  },
  {
   "cell_type": "markdown",
   "metadata": {},
   "source": [
    "Now, pretend we're in the same position as Alice: We want to reuse this polygon\n",
    "repeatedly but do not want to make multiple copies of it.  To do so, we need to\n",
    "make a second blank `Component`, this time called `D`.  In this new Component we'll\n",
    "*reference* our Component `P` which contains our polygon."
   ]
  },
  {
   "cell_type": "code",
   "execution_count": null,
   "metadata": {},
   "outputs": [],
   "source": [
    "c = pp.Component()             # Create a new blank Component\n",
    "poly_ref = c.add_ref(p)  # Reference the Component \"p\" that has the polygon in it\n",
    "c # Quickplot the reference-containing Component \"c\""
   ]
  },
  {
   "cell_type": "markdown",
   "metadata": {},
   "source": [
    "OK, well that seemed to work, but it also seems thoroughly useless!  It looks\n",
    "like you just made a copy of your polygon -- but remember, you didn't actually\n",
    "make a second polygon, you just made a reference (aka pointer) to the original\n",
    "polygon.  Let's add two more references to `c`:"
   ]
  },
  {
   "cell_type": "code",
   "execution_count": null,
   "metadata": {},
   "outputs": [],
   "source": [
    "poly_ref2 = c.add_ref(p)  # Reference the Component \"p\" that has the polygon in it\n",
    "poly_ref3 = c.add_ref(p)  # Reference the Component \"p\" that has the polygon in it\n",
    "\n",
    "c # Quickplot the reference-containing Component \"c\""
   ]
  },
  {
   "cell_type": "markdown",
   "metadata": {},
   "source": [
    "Now you have 3x polygons all on top of each other.  Again, this would appear\n",
    "useless, except that you can manipulate each reference indepedently. Notice that\n",
    "when you called `c.add_ref(p)` above, we saved the result to a new variable each\n",
    "time (`poly_ref`, `poly_ref2`, and `poly_ref3`)?  You can use those variables to\n",
    "reposition the references. "
   ]
  },
  {
   "cell_type": "code",
   "execution_count": null,
   "metadata": {},
   "outputs": [],
   "source": [
    "poly_ref2.rotate(15) # Rotate the 2nd reference we made 15 degrees\n",
    "poly_ref3.rotate(30) # Rotate the 3rd reference we made 30 degrees\n",
    "c"
   ]
  },
  {
   "cell_type": "markdown",
   "metadata": {},
   "source": [
    "Now you're getting somewhere!  You've only had to make the polygon once, but you're\n",
    "able to reuse it as many times as you want.\n",
    "\n",
    "## Modifying the referenced geometry\n",
    "\n",
    "What happens when you change the original geometry that the reference points to?  In your case, your references in\n",
    "`c` all point to the Component `p` that with the original polygon.  Let's try\n",
    "adding a second polygon to `p`.\n",
    "\n",
    "First you add the second polygon and make sure `P` looks like you expect:"
   ]
  },
  {
   "cell_type": "code",
   "execution_count": null,
   "metadata": {},
   "outputs": [],
   "source": [
    "# Add a 2nd polygon to \"p\"\n",
    "xpts = [14,14,16,16]\n",
    "ypts = [0,2,2,0]\n",
    "p.add_polygon([xpts,ypts], layer = (1,0))\n",
    "p"
   ]
  },
  {
   "cell_type": "markdown",
   "metadata": {},
   "source": [
    "That looks good.  Now let's find out what happened to `c` that contains the\n",
    "three references.  Keep in mind that you have not modified `c` or executed any\n",
    "functions/operations on `c` -- all you have done is modify `p`."
   ]
  },
  {
   "cell_type": "code",
   "execution_count": null,
   "metadata": {},
   "outputs": [],
   "source": [
    "c"
   ]
  },
  {
   "cell_type": "markdown",
   "metadata": {},
   "source": [
    " **When you modify the original geometry, all of the\n",
    "references automatically reflect the modifications.**  This is very powerful,\n",
    "because you can use this to make very complicated designs from relatively simple\n",
    "elements in a computation- and memory-efficienct way.\n",
    "\n",
    "Let's try making references a level deeper by referencing `c`.  Note here we use\n",
    "the `<<` operator to add the references -- this is just shorthand, and is\n",
    "exactly equivalent to using `add_ref()`"
   ]
  },
  {
   "cell_type": "code",
   "execution_count": null,
   "metadata": {},
   "outputs": [],
   "source": [
    "c2 = pp.Component()             # Create a new blank Component\n",
    "d_ref1 = c2.add_ref(c)  # Reference the Component \"c\" that 3 references in it\n",
    "d_ref2 = c2 << c        # Use the \"<<\" operator to create a 2nd reference to c\n",
    "d_ref3 = c2 << c        # Use the \"<<\" operator to create a 3rd reference to c\n",
    "\n",
    "d_ref1.move([20,0])\n",
    "d_ref2.move([40,0])\n",
    "\n",
    "c2"
   ]
  },
  {
   "cell_type": "markdown",
   "metadata": {},
   "source": [
    "## Arrays of references\n",
    "\n",
    "Sometimes it's convenient to make an array or grid of the same geometry.  For\n",
    "that purpose, the GDSII spec allows you to define arrays of references.  In\n",
    "gdsfactory, these are added with the `add_array()` function. Note that by GDSII\n",
    "definition these arrays are on a fixed grid -- gdsfactory does however have more\n",
    "flexible arrangement options if desired, see for example `grid()` and\n",
    "`packer()`.\n",
    "\n",
    "Let's make a new Component and put a big array of our Component `c` in it:"
   ]
  },
  {
   "cell_type": "code",
   "execution_count": null,
   "metadata": {},
   "outputs": [],
   "source": [
    "c3 = pp.Component() # Create a new blank Component\n",
    "d_ref1 = c3.add_array(c, columns = 6, rows = 3, spacing = [20, 15])  # Reference the Component \"c\" 3 references in it with a 3 rows, 6 columns array\n",
    "c3"
   ]
  },
  {
   "cell_type": "markdown",
   "metadata": {},
   "source": [
    "As you've seen you have two ways to add a reference to our component:\n",
    "\n",
    "1. create the reference and add it to the component"
   ]
  },
  {
   "cell_type": "code",
   "execution_count": null,
   "metadata": {},
   "outputs": [],
   "source": [
    "c = pp.Component('reference_sample')\n",
    "w = pp.c.waveguide(width=0.6)\n",
    "wr = w.ref()\n",
    "c.add(wr)\n",
    "c"
   ]
  },
  {
   "cell_type": "markdown",
   "metadata": {},
   "source": [
    "2. or do it in a single line"
   ]
  },
  {
   "cell_type": "code",
   "execution_count": null,
   "metadata": {},
   "outputs": [],
   "source": [
    "c = pp.Component('reference_sample_shorter_syntax')\n",
    "wr = c << pp.c.waveguide(width=0.6)\n",
    "c"
   ]
  },
  {
   "cell_type": "markdown",
   "metadata": {},
   "source": [
    "in both cases you can move the reference `wr` after created"
   ]
  },
  {
   "cell_type": "code",
   "execution_count": null,
   "metadata": {},
   "outputs": [],
   "source": [
    "c = pp.Component('two_references')\n",
    "wr1 = c << pp.c.waveguide(width=0.6)\n",
    "wr2 = c << pp.c.waveguide(width=0.6)\n",
    "wr2.movey(10)\n",
    "c"
   ]
  },
  {
   "cell_type": "markdown",
   "metadata": {},
   "source": [
    "\n",
    "You can also add an array of references for periodic structures. Lets create a [Distributed Bragg Reflector](https://picwriter.readthedocs.io/en/latest/components/dbr.html)\n",
    "\n",
    "In GDS, there's a type of structure called a \"CellArray\" which takes a cell and repeats it NxM times on a fixed grid spacing. For convenience, `Component` includes this functionality with the add_array() function.  Note that CellArrays are not compatible with ports (since there is no way to access/modify individual elements in a GDS cellarray) "
   ]
  },
  {
   "cell_type": "code",
   "execution_count": null,
   "metadata": {},
   "outputs": [],
   "source": [
    "@pp.cell\n",
    "def dbr_cell(w1=0.5, w2=0.6, l1=0.2, l2=0.4, waveguide_function=pp.c.waveguide):\n",
    "    c = pp.Component()\n",
    "    c1 = c << waveguide_function(length=l1, width=w1)\n",
    "    c2 = c << waveguide_function(length=l2, width=w2)\n",
    "    c2.connect(port=\"W0\", destination=c1.ports[\"E0\"])\n",
    "    c.add_port(\"W0\", port=c1.ports[\"W0\"])\n",
    "    c.add_port(\"E0\", port=c2.ports[\"E0\"])\n",
    "    return c\n",
    "\n",
    "\n",
    "w1 = 0.5\n",
    "w2 = 0.6\n",
    "l1 = 0.2\n",
    "l2 = 0.4\n",
    "n = 3\n",
    "waveguide_function = pp.c.waveguide\n",
    "c = pp.Component('reference_array')\n",
    "cell = dbr_cell(w1=w1, w2=w2, l1=l1, l2=l2, waveguide_function=waveguide_function)\n",
    "cell"
   ]
  },
  {
   "cell_type": "code",
   "execution_count": null,
   "metadata": {},
   "outputs": [],
   "source": [
    "c = pp.Component('DBR')\n",
    "c.add_array(cell, columns=n, rows=1, spacing=(l1 + l2, 100))\n",
    "c"
   ]
  },
  {
   "cell_type": "markdown",
   "metadata": {},
   "source": [
    "Finally we need to add ports to the new component"
   ]
  },
  {
   "cell_type": "code",
   "execution_count": null,
   "metadata": {},
   "outputs": [],
   "source": [
    "p0 = c.add_port(\"W0\", port=cell.ports[\"W0\"])\n",
    "p1 = c.add_port(\"E0\", port=cell.ports[\"E0\"])\n",
    "p1.midpoint = [(l1 + l2) * n, 0]\n",
    "c"
   ]
  },
  {
   "cell_type": "markdown",
   "metadata": {},
   "source": [
    "## Connect references\n",
    "\n",
    "We have seen that once you create a reference you can manipulate the reference to move it to a location. Here we are going to connect that reference to a port. Remeber that we follow that a certain reference `source` connects to a `destination` port"
   ]
  },
  {
   "cell_type": "code",
   "execution_count": null,
   "metadata": {},
   "outputs": [],
   "source": [
    "pp.c.bend_circular()"
   ]
  },
  {
   "cell_type": "code",
   "execution_count": null,
   "metadata": {},
   "outputs": [],
   "source": [
    "c = pp.Component(\"sample_reference_connect\")\n",
    "\n",
    "mmi = c << pp.c.mmi1x2()\n",
    "b = c << pp.c.bend_circular()\n",
    "\n",
    "b.connect(\"W0\", destination=mmi.ports[\"E1\"])\n",
    "c"
   ]
  },
  {
   "cell_type": "markdown",
   "metadata": {},
   "source": [
    "## component_sequence\n",
    "\n",
    "When you have repetitive connections you can describe the connectivity as an ASCII map"
   ]
  },
  {
   "cell_type": "code",
   "execution_count": null,
   "metadata": {},
   "outputs": [],
   "source": [
    "import pp"
   ]
  },
  {
   "cell_type": "code",
   "execution_count": null,
   "metadata": {},
   "outputs": [],
   "source": [
    "bend180 = pp.c.bend_circular180()\n",
    "wg_heater = pp.c.waveguide_heater()\n",
    "wg = pp.c.waveguide()\n",
    "\n",
    "# Define a map between symbols and (component, input port, output port)\n",
    "string_to_device_in_out_ports = {\n",
    "    \"A\": (bend180, \"W0\", \"W1\"),\n",
    "    \"B\": (bend180, \"W1\", \"W0\"),\n",
    "    \"H\": (wg_heater, \"W0\", \"E0\"),\n",
    "    \"-\": (wg, \"W0\", \"E0\"),\n",
    "}\n",
    "\n",
    "# Generate a sequence\n",
    "# This is simply a chain of characters. Each of them represents a component\n",
    "# with a given input and and a given output\n",
    "\n",
    "sequence = \"AB-H-H-H-H-BA\"\n",
    "component = pp.c.component_sequence(sequence, string_to_device_in_out_ports)\n",
    "component.name = 'component_sequence'\n",
    "component"
   ]
  },
  {
   "cell_type": "markdown",
   "metadata": {},
   "source": [
    "As the sequence is defined as a string you can use the string operations to build complicated sequences"
   ]
  },
  {
   "cell_type": "code",
   "execution_count": null,
   "metadata": {},
   "outputs": [],
   "source": [
    "\n",
    "@pp.cell\n",
    "def test_cutback_phase(straight_length=100.0, bend_radius=10.0, n=2):\n",
    "    bend180 = pp.c.bend_circular(radius=bend_radius, angle=180)\n",
    "    pm_wg = pp.c.waveguide_pin(length=straight_length)\n",
    "    wg_short = pp.c.waveguide(length=1.0)\n",
    "    wg_short2 = pp.c.waveguide(length=2.0)\n",
    "    wg_heater = pp.c.waveguide_heater(length=10.0)\n",
    "    taper = pp.c.taper_strip_to_ridge()\n",
    "\n",
    "    # Define a map between symbols and (component, input port, output port)\n",
    "    string_to_device_in_out_ports = {\n",
    "        \"I\": (taper, \"1\", \"wg_2\"),\n",
    "        \"O\": (taper, \"wg_2\", \"1\"),\n",
    "        \"S\": (wg_short, \"W0\", \"E0\"),\n",
    "        \"P\": (pm_wg, \"W0\", \"E0\"),\n",
    "        \"A\": (bend180, \"W0\", \"W1\"),\n",
    "        \"B\": (bend180, \"W1\", \"W0\"),\n",
    "        \"H\": (wg_heater, \"W0\", \"E0\"),\n",
    "        \"-\": (wg_short2, \"W0\", \"E0\"),\n",
    "    }\n",
    "\n",
    "    # Generate a sequence\n",
    "    # This is simply a chain of characters. Each of them represents a component\n",
    "    # with a given input and and a given output\n",
    "\n",
    "    repeated_sequence = \"SIPOSASIPOSB\"\n",
    "    heater_seq = \"-H-H-H-H-\"\n",
    "    sequence = repeated_sequence * n + \"SIPO\" + heater_seq\n",
    "    return pp.c.component_sequence(sequence, string_to_device_in_out_ports)"
   ]
  },
  {
   "cell_type": "code",
   "execution_count": null,
   "metadata": {},
   "outputs": [],
   "source": [
    "c = test_cutback_phase(n=1)\n",
    "c"
   ]
  },
  {
   "cell_type": "code",
   "execution_count": null,
   "metadata": {},
   "outputs": [],
   "source": [
    "c = test_cutback_phase(n=2)\n",
    "c"
   ]
  }
 ],
 "metadata": {
  "kernelspec": {
   "display_name": "Python 3",
   "language": "python",
   "name": "python3"
  },
  "language_info": {
   "codemirror_mode": {
    "name": "ipython",
    "version": 3
   },
   "file_extension": ".py",
   "mimetype": "text/x-python",
   "name": "python",
   "nbconvert_exporter": "python",
   "pygments_lexer": "ipython3",
   "version": "3.8.3"
  }
 },
 "nbformat": 4,
 "nbformat_minor": 4
}
