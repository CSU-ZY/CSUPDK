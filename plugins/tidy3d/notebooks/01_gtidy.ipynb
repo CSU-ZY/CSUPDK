{
 "cells": [
  {
   "cell_type": "markdown",
   "id": "9b829983-7d64-439e-ac09-5ba9000d58a6",
   "metadata": {},
   "source": [
    "# gtidy3d\n",
    "\n",
    "gdsfactory plugin for tidy3d"
   ]
  },
  {
   "cell_type": "code",
   "execution_count": null,
   "id": "8663bc31-aa1d-4323-b345-e3a76c0e06ce",
   "metadata": {},
   "outputs": [],
   "source": [
    "# basic ipython configuration (reload source code automatically and plots inline)\n",
    "%load_ext autoreload\n",
    "%autoreload 2\n",
    "%matplotlib inline\n",
    "\n",
    "import numpy as np\n",
    "import matplotlib.pyplot as plt\n",
    "import gdspy\n",
    "import os\n",
    "\n",
    "import tidy3d as td\n",
    "from tidy3d import web\n",
    "import gtidy3d as gm\n",
    "import pp\n",
    "\n",
    "td.logging_level('error')"
   ]
  },
  {
   "cell_type": "markdown",
   "id": "b35d573e-54c4-42b9-9009-4c7717eeba4f",
   "metadata": {},
   "source": [
    "## Review simulation\n",
    "\n",
    "you can review a simulation before submitting to ensure it's correct."
   ]
  },
  {
   "cell_type": "code",
   "execution_count": null,
   "id": "0c161d9b-8b4f-42eb-86c0-070f70065711",
   "metadata": {},
   "outputs": [],
   "source": [
    "c = pp.components.mmi1x2()\n",
    "c = pp.add_padding(c, default=0, bottom=2, top=2, layers=[(100, 0)])\n",
    "\n",
    "c = pp.components.bend_circular(radius=2)\n",
    "# c = pp.add_padding(c, default=0, bottom=2, right=2, layers=[(100, 0)])\n",
    "\n",
    "c = pp.components.straight(length=2)\n",
    "# c = pp.add_padding(c, default=0, bottom=2, top=2, layers=[(100, 0)])\n",
    "\n",
    "sim = gm.get_simulation(c)\n",
    "fig, (ax1, ax2) = plt.subplots(1, 2, figsize=(14, 4))\n",
    "sim.viz_eps_2D(normal=\"z\", position=0, ax=ax1)\n",
    "sim.viz_eps_2D(normal=\"x\", ax=ax2, source_alpha=1, cbar=True)"
   ]
  },
  {
   "cell_type": "code",
   "execution_count": null,
   "id": "4bc6250a-2c2a-455a-9845-e61ac06c1c90",
   "metadata": {},
   "outputs": [],
   "source": [
    "sim.viz_eps_2D(cbar=True)"
   ]
  },
  {
   "cell_type": "code",
   "execution_count": null,
   "id": "fe65a7b3-384b-4f34-a725-afdac3e48e23",
   "metadata": {},
   "outputs": [],
   "source": [
    "fig = sim.viz_modes(sim.sources[0])"
   ]
  },
  {
   "cell_type": "code",
   "execution_count": null,
   "id": "1798e4fa-0b27-4748-9294-8c6237cb4f5d",
   "metadata": {},
   "outputs": [],
   "source": [
    "import pp\n",
    "import gtidy3d as gm\n",
    "import matplotlib.pyplot as plt\n",
    "\n",
    "components =  ['bend_euler', 'bend_s', 'coupler', 'coupler_ring', 'crossing', 'mmi1x2', 'mmi2x2', 'taper',  'straight']\n",
    "\n",
    "for component_name in components:\n",
    "    c = pp.c.LIBRARY.get_component(component_name)\n",
    "    print(c)\n",
    "    sim = gm.get_simulation(c)\n",
    "    fig, (ax1, ax2) = plt.subplots(1, 2, figsize=(14, 4))\n",
    "    sim.viz_eps_2D(normal=\"x\", ax=ax2, source_alpha=1, cbar=True)\n",
    "    sim.viz_eps_2D(normal=\"z\", position=0, ax=ax1)\n",
    "    plt.plot()"
   ]
  },
  {
   "cell_type": "code",
   "execution_count": null,
   "id": "f15550b3-4e5d-4f42-ad24-80835b956156",
   "metadata": {},
   "outputs": [],
   "source": [
    "c = pp.components.mmi1x2()\n",
    "#c = pp.add_padding(c, default=0, bottom=2, top=2, layers=[(100, 0)])\n",
    "\n",
    "sim = gm.get_simulation(c)\n",
    "fig, (ax1, ax2) = plt.subplots(1, 2, figsize=(14, 4))\n",
    "sim.viz_eps_2D(normal=\"z\", position=0, ax=ax1)\n",
    "sim.viz_eps_2D(normal=\"x\", ax=ax2, source_alpha=1)\n",
    "ax2.set_xlim([-3, 3])\n",
    "plt.show()"
   ]
  },
  {
   "cell_type": "code",
   "execution_count": null,
   "id": "b7141a9c-6347-40ad-8695-f140933c8868",
   "metadata": {},
   "outputs": [],
   "source": [
    "c = pp.components.straight()\n",
    "sim = gm.get_simulation(c)\n",
    "fig = gm.plot_simulation(sim)"
   ]
  },
  {
   "cell_type": "markdown",
   "id": "890f7949-de25-4cb6-a59b-e4e3a5f60d30",
   "metadata": {},
   "source": [
    "## Run simulation"
   ]
  },
  {
   "cell_type": "code",
   "execution_count": null,
   "id": "7102b222-a604-41a0-baa5-e7dcab6ffeb5",
   "metadata": {},
   "outputs": [],
   "source": [
    "c = pp.components.straight()\n",
    "sim = gm.get_simulation(c)\n",
    "s = gm.get_sparameters(sim)"
   ]
  },
  {
   "cell_type": "code",
   "execution_count": null,
   "id": "f5cc6948-4637-466d-9c34-25aa73ac50c6",
   "metadata": {},
   "outputs": [],
   "source": [
    "sim.export()"
   ]
  },
  {
   "cell_type": "code",
   "execution_count": null,
   "id": "ccf00d28-19ad-4bd3-bb95-9073ef4805e7",
   "metadata": {},
   "outputs": [],
   "source": [
    "c = pp.c.straight()"
   ]
  },
  {
   "cell_type": "code",
   "execution_count": null,
   "id": "0e1ff929-a1d4-4583-a7c4-09df27be7554",
   "metadata": {},
   "outputs": [],
   "source": [
    "d = {}\n",
    "layer_to_polygons = c.get_polygons(by_spec=True)\n",
    "\n",
    "for layer, polygons in layer_to_polygons.items():\n",
    "    for polygon in polygons:\n",
    "        d[layer] = [tuple(v) for v in polygon]"
   ]
  },
  {
   "cell_type": "code",
   "execution_count": null,
   "id": "f245d289-17e6-498a-9d44-f0844e359bf2",
   "metadata": {},
   "outputs": [],
   "source": [
    "d"
   ]
  },
  {
   "cell_type": "code",
   "execution_count": null,
   "id": "3f93568f-22d6-4f03-973a-db0a0521c39a",
   "metadata": {},
   "outputs": [],
   "source": [
    "web.get_last_projects()"
   ]
  }
 ],
 "metadata": {
  "kernelspec": {
   "display_name": "Python 3 (ipykernel)",
   "language": "python",
   "name": "python3"
  },
  "language_info": {
   "codemirror_mode": {
    "name": "ipython",
    "version": 3
   },
   "file_extension": ".py",
   "mimetype": "text/x-python",
   "name": "python",
   "nbconvert_exporter": "python",
   "pygments_lexer": "ipython3",
   "version": "3.9.5"
  }
 },
 "nbformat": 4,
 "nbformat_minor": 5
}
