{
 "cells": [
  {
   "cell_type": "markdown",
   "id": "64bf9fd9",
   "metadata": {},
   "source": [
    "# PDK\n",
    "\n",
    "gdsfactory includes a generic Process Design Kit (PDK), that you can use as an inspiration to create your own.\n",
    "\n",
    "A process design kit (PDK) includes:\n",
    "\n",
    "1. LayerStack: different layers with different thickness, z-position, materials and colors.\n",
    "2. Design rule checking deck DRC: Manufacturing rules capturing min feature size, min spacing ... for the process.\n",
    "3. A library of Fixed or Parametric cells.\n",
    "\n",
    "The PDK allows you to register:\n",
    "\n",
    "- `cell` parametric cells that return Components from a ComponentSpec (string, Component, ComponentFactory or dict). Also known as parametric cell functions.\n",
    "- `cross_section` functions that return CrossSection from a CrossSection Spec (string, CrossSection, CrossSectionFactory or dict).\n",
    "- `layers` that return a GDS Layer (gdslayer, gdspurpose) from a string, an int or a Tuple[int, int].\n",
    "\n",
    "\n",
    "Thanks to activating a PDK you can access components, cross_sections or layers using a string, a function or a dict.\n",
    "\n",
    "Depending on the active pdk:\n",
    "\n",
    "- `get_layer` returns a Layer from the registered layers.\n",
    "- `get_component` returns a Component from the registered cells or containers.\n",
    "- `get_cross_section` returns a CrossSection from the registered cross_sections."
   ]
  },
  {
   "cell_type": "markdown",
   "id": "4233b6fd",
   "metadata": {},
   "source": [
    "## layers\n",
    "\n",
    "GDS layers are a tuple of two integer number `gdslayer/gdspurpose`\n",
    "\n",
    "You can define all the layers from your PDK:\n",
    "\n",
    "1. From a Klayout `lyp` (layer properties file).\n",
    "2. From scratch, adding all your layers into a class.\n",
    "\n",
    "\n",
    "Lets generate the layers definition code from a KLayout `lyp` file."
   ]
  },
  {
   "cell_type": "code",
   "execution_count": null,
   "id": "a2d71afa",
   "metadata": {},
   "outputs": [],
   "source": [
    "import pathlib\n",
    "from typing import Callable, Tuple\n",
    "from functools import partial\n",
    "\n",
    "import pytest\n",
    "from pydantic import BaseModel\n",
    "from pytest_regressions.data_regression import DataRegressionFixture\n",
    "\n",
    "from gdsfactory.add_pins import add_pin_rectangle_inside\n",
    "from gdsfactory.component import Component\n",
    "from gdsfactory.config import PATH\n",
    "from gdsfactory.cross_section import cross_section\n",
    "from gdsfactory.decorators import flatten_invalid_refs, has_valid_transformations\n",
    "from gdsfactory.difftest import difftest\n",
    "from gdsfactory.generic_tech import get_generic_pdk\n",
    "from gdsfactory.technology import (\n",
    "    LayerLevel,\n",
    "    LayerStack,\n",
    "    LayerView,\n",
    "    LayerViews,\n",
    "    lyp_to_dataclass,\n",
    ")\n",
    "from gdsfactory.typings import Layer, LayerSpec\n",
    "\n",
    "import gdsfactory as gf\n",
    "from gdsfactory.generic_tech import get_generic_pdk\n",
    "\n",
    "gf.config.rich_output()\n",
    "PDK = get_generic_pdk()\n",
    "PDK.activate()\n",
    "\n",
    "nm = 1e-3\n",
    "\n",
    "print(lyp_to_dataclass(PATH.klayout_lyp))"
   ]
  },
  {
   "cell_type": "code",
   "execution_count": null,
   "id": "32357c86",
   "metadata": {},
   "outputs": [],
   "source": [
    "class LayerMap(BaseModel):\n",
    "    WG: Layer = (1, 0)\n",
    "    DEVREC: Layer = (68, 0)\n",
    "    PORT: Layer = (1, 10)\n",
    "    PORTE: Layer = (1, 11)\n",
    "    LABEL: Layer = (201, 0)\n",
    "    LABEL_INSTANCES: Layer = (206, 0)\n",
    "    LABEL_SETTINGS: Layer = (202, 0)\n",
    "    LUMERICAL: Layer = (733, 0)\n",
    "    M1: Layer = (41, 0)\n",
    "    M2: Layer = (45, 0)\n",
    "    M3: Layer = (49, 0)\n",
    "    N: Layer = (20, 0)\n",
    "    NP: Layer = (22, 0)\n",
    "    NPP: Layer = (24, 0)\n",
    "    OXIDE_ETCH: Layer = (6, 0)\n",
    "    P: Layer = (21, 0)\n",
    "    PDPP: Layer = (27, 0)\n",
    "    PP: Layer = (23, 0)\n",
    "    PPP: Layer = (25, 0)\n",
    "    PinRec: Layer = (1, 10)\n",
    "    PinRecM: Layer = (1, 11)\n",
    "    SHALLOWETCH: Layer = (2, 6)\n",
    "    SILICIDE: Layer = (39, 0)\n",
    "    SIM_REGION: Layer = (100, 0)\n",
    "    SITILES: Layer = (190, 0)\n",
    "    SLAB150: Layer = (2, 0)\n",
    "    SLAB150CLAD: Layer = (2, 9)\n",
    "    SLAB90: Layer = (3, 0)\n",
    "    SLAB90CLAD: Layer = (3, 1)\n",
    "    SOURCE: Layer = (110, 0)\n",
    "    TE: Layer = (203, 0)\n",
    "    TEXT: Layer = (66, 0)\n",
    "    TM: Layer = (204, 0)\n",
    "    Text: Layer = (66, 0)\n",
    "    VIA1: Layer = (44, 0)\n",
    "    VIA2: Layer = (43, 0)\n",
    "    VIAC: Layer = (40, 0)\n",
    "    WGCLAD: Layer = (111, 0)\n",
    "    WGN: Layer = (34, 0)\n",
    "    WGclad_material: Layer = (36, 0)\n",
    "\n",
    "    class Config:\n",
    "        frozen = True\n",
    "        extra = \"forbid\"\n",
    "\n",
    "\n",
    "LAYER = LayerMap()"
   ]
  },
  {
   "cell_type": "markdown",
   "id": "8f76c387",
   "metadata": {},
   "source": [
    "There are some default layers in some generic components and cross_sections, that it may be convenient adding.\n",
    "\n",
    "| Layer          | Purpose                                                      |\n",
    "| -------------- | ------------------------------------------------------------ |\n",
    "| DEVREC         | device recognition layer. For connectivity checks.           |\n",
    "| PORT           | optical port pins. For connectivity checks.                  |\n",
    "| PORTE          | electrical port pins. For connectivity checks.               |\n",
    "| SHOW_PORTS     | add port pin markers when `Component.show(show_ports=True)`  |\n",
    "| LABEL          | for adding labels to grating couplers for automatic testing. |\n",
    "| LABEL_INSTANCE | for adding instance labels on `gf.read.from_yaml`            |\n",
    "| TE             | for TE polarization fiber marker.                            |\n",
    "| TM             | for TM polarization fiber marker.                            |\n",
    "\n",
    "\n",
    "```python\n",
    "class LayersConvenient(BaseModel):\n",
    "    DEVREC: Layer = (68, 0)\n",
    "    PORT: Layer = (1, 10)  # PinRec optical\n",
    "    PORTE: Layer = (1, 11)  # PinRec electrical\n",
    "    SHOW_PORTS: Layer = (1, 12)\n",
    "\n",
    "    LABEL: Layer = (201, 0)\n",
    "    LABEL_INSTANCE: Layer = (66, 0)\n",
    "    TE: Layer = (203, 0)\n",
    "    TM: Layer = (204, 0)\n",
    "```"
   ]
  },
  {
   "cell_type": "markdown",
   "id": "437e53ba",
   "metadata": {},
   "source": [
    "## cross_sections\n",
    "\n",
    "You can create a `CrossSection` from scratch or you can customize the cross_section functions in `gf.cross_section`"
   ]
  },
  {
   "cell_type": "code",
   "execution_count": null,
   "id": "f9786ebe",
   "metadata": {},
   "outputs": [],
   "source": [
    "strip2 = partial(gf.cross_section.strip, layer=(2, 0))"
   ]
  },
  {
   "cell_type": "code",
   "execution_count": null,
   "id": "11673d82",
   "metadata": {},
   "outputs": [],
   "source": [
    "c = gf.components.straight(cross_section=strip2)\n",
    "c.plot()"
   ]
  },
  {
   "cell_type": "code",
   "execution_count": null,
   "id": "41a8fecf",
   "metadata": {},
   "outputs": [],
   "source": [
    "pin = partial(\n",
    "    gf.cross_section.strip,\n",
    "    sections=(\n",
    "        gf.Section(width=2, layer=gf.LAYER.N, offset=+1),\n",
    "        gf.Section(width=2, layer=gf.LAYER.P, offset=-1),\n",
    "    ),\n",
    ")\n",
    "c = gf.components.straight(cross_section=pin)\n",
    "c.plot()"
   ]
  },
  {
   "cell_type": "code",
   "execution_count": null,
   "id": "6f640aa9",
   "metadata": {
    "lines_to_next_cell": 2
   },
   "outputs": [],
   "source": [
    "strip_wide = partial(gf.cross_section.strip, width=3)"
   ]
  },
  {
   "cell_type": "code",
   "execution_count": null,
   "id": "9f673a78",
   "metadata": {},
   "outputs": [],
   "source": [
    "strip = partial(\n",
    "    gf.cross_section.strip, auto_widen=True\n",
    ")  # auto_widen tapers to wider waveguides for lower loss in long straight sections."
   ]
  },
  {
   "cell_type": "code",
   "execution_count": null,
   "id": "b964ce6a",
   "metadata": {},
   "outputs": [],
   "source": [
    "cross_sections = dict(strip_wide=strip_wide, pin=pin, strip=strip)"
   ]
  },
  {
   "cell_type": "markdown",
   "id": "3ba4a556",
   "metadata": {},
   "source": [
    "## cells\n",
    "\n",
    "Cells are functions that return Components. They are parametrized and accept also cells as parameters, so you can build many levels of complexity. Cells are also known as PCells or parametric cells.\n",
    "\n",
    "You can customize the function default arguments easily thanks to `functools.partial`\n",
    "Lets customize the default arguments of a library of cells.\n",
    "\n",
    "For example, you can make some wide MMIs for a particular technology. Lets say the best MMI width you found it to be 9um."
   ]
  },
  {
   "cell_type": "code",
   "execution_count": null,
   "id": "e2c7df68",
   "metadata": {},
   "outputs": [],
   "source": [
    "mmi1x2 = partial(gf.components.mmi1x2, width_mmi=9)\n",
    "mmi2x2 = partial(gf.components.mmi2x2, width_mmi=9)\n",
    "\n",
    "cells = dict(mmi1x2=mmi1x2, mmi2x2=mmi2x2)"
   ]
  },
  {
   "cell_type": "markdown",
   "id": "e9e2e875",
   "metadata": {},
   "source": [
    "## PDK\n",
    "\n",
    "You can register Layers, ComponentFactories (Parametric cells) and CrossSectionFactories (cross_sections) into a PDK.\n",
    "Then you can access them by a string after you activate the pdk `PDK.activate()`.\n",
    "\n",
    "### LayerSpec\n",
    "\n",
    "You can access layers from the active Pdk using the layer name or a tuple/list of two numbers."
   ]
  },
  {
   "cell_type": "code",
   "execution_count": null,
   "id": "515d887c",
   "metadata": {},
   "outputs": [],
   "source": [
    "from gdsfactory.generic_tech import get_generic_pdk\n",
    "\n",
    "generic_pdk = get_generic_pdk()\n",
    "\n",
    "pdk1 = gf.Pdk(\n",
    "    name=\"fab1\",\n",
    "    layers=LAYER.dict(),\n",
    "    cross_sections=cross_sections,\n",
    "    cells=cells,\n",
    "    base_pdk=generic_pdk,\n",
    "    sparameters_path=gf.config.sparameters_path,\n",
    "    layer_views=generic_pdk.layer_views,\n",
    ")\n",
    "pdk1.activate()"
   ]
  },
  {
   "cell_type": "code",
   "execution_count": null,
   "id": "1994082e",
   "metadata": {},
   "outputs": [],
   "source": [
    "pdk1.get_layer(\"WG\")"
   ]
  },
  {
   "cell_type": "code",
   "execution_count": null,
   "id": "7c61baa9",
   "metadata": {},
   "outputs": [],
   "source": [
    "pdk1.get_layer([1, 0])"
   ]
  },
  {
   "cell_type": "markdown",
   "id": "e445daf2",
   "metadata": {},
   "source": [
    "### CrossSectionSpec\n",
    "\n",
    "You can access cross_sections from the pdk from the cross_section name, or using a dict to customize the CrossSection"
   ]
  },
  {
   "cell_type": "code",
   "execution_count": null,
   "id": "1b140452",
   "metadata": {},
   "outputs": [],
   "source": [
    "pdk1.get_cross_section(\"pin\")"
   ]
  },
  {
   "cell_type": "code",
   "execution_count": null,
   "id": "df4edc50",
   "metadata": {},
   "outputs": [],
   "source": [
    "cross_section_spec_string = \"pin\"\n",
    "gf.components.straight(cross_section=cross_section_spec_string)"
   ]
  },
  {
   "cell_type": "code",
   "execution_count": null,
   "id": "28ede1df",
   "metadata": {},
   "outputs": [],
   "source": [
    "cross_section_spec_dict = dict(cross_section=\"pin\", settings=dict(width=2))\n",
    "print(pdk1.get_cross_section(cross_section_spec_dict))\n",
    "wg_pin = gf.components.straight(cross_section=cross_section_spec_dict)\n",
    "wg_pin"
   ]
  },
  {
   "cell_type": "markdown",
   "id": "e538e4dc",
   "metadata": {},
   "source": [
    "### ComponentSpec\n",
    "\n",
    "You can get Component from the active pdk using the cell name (string) or a dict."
   ]
  },
  {
   "cell_type": "code",
   "execution_count": null,
   "id": "cfa1e0b7",
   "metadata": {},
   "outputs": [],
   "source": [
    "pdk1.get_component(\"mmi1x2\")"
   ]
  },
  {
   "cell_type": "code",
   "execution_count": null,
   "id": "b3dab11e",
   "metadata": {},
   "outputs": [],
   "source": [
    "pdk1.get_component(dict(component=\"mmi1x2\", settings=dict(length_mmi=10)))"
   ]
  },
  {
   "cell_type": "markdown",
   "id": "6b967016",
   "metadata": {},
   "source": [
    "## Testing PDK cells\n",
    "\n",
    "To make sure all your PDK PCells produce the components that you want, it's important to test your PDK cells.\n",
    "\n",
    "As you write your own cell functions you want to make sure you do not break or produced unwanted regressions later on. You should write tests for this.\n",
    "\n",
    "Make sure you create a `test_components.py` file for pytest to test your PDK. See for example the tests in the [ubc PDK](https://github.com/gdsfactory/ubc)\n",
    "\n",
    "Pytest-regressions automatically creates the CSV and YAML files for you, as well `gdsfactory.gdsdiff` will store the reference GDS in ref_layouts and check for geometry differences using XOR.\n",
    "\n",
    "gdsfactory is **not** backwards compatible, which means that the package will keep improving and evolving.\n",
    "\n",
    "1. To make your work stable you should install a specific version and [pin the version](https://martin-thoma.com/python-requirements/) in your `requirements.txt` or `pyproject.toml` as `gdsfactory==6.107.7` replacing `6.107.7` by whatever version you end up using.\n",
    "2. Before you upgrade gdsfactory to a newer version make sure your tests pass to make sure that things behave as expected\n",
    "\n"
   ]
  },
  {
   "cell_type": "code",
   "execution_count": null,
   "id": "0273e427",
   "metadata": {},
   "outputs": [],
   "source": [
    "\"\"\"This code tests all your cells in the PDK\n",
    "\n",
    "it will test 3 things:\n",
    "\n",
    "1. difftest: will test the GDS geometry of a new GDS compared to a reference. Thanks to Klayout fast booleans.add()\n",
    "2. settings test: will compare the settings in YAML with a reference YAML file.add()\n",
    "3. ensure ports are on grid, to avoid port snapping errors that can create 1nm gaps later on when you build circuits.\n",
    "\n",
    "\"\"\"\n",
    "\n",
    "try:\n",
    "    dirpath = pathlib.Path(__file__).absolute().with_suffix(\".gds\")\n",
    "except Exception:\n",
    "    dirpath = pathlib.Path.cwd()\n",
    "\n",
    "\n",
    "component_names = list(pdk1.cells.keys())\n",
    "factory = pdk1.cells\n",
    "\n",
    "\n",
    "@pytest.fixture(params=component_names, scope=\"function\")\n",
    "def component_name(request) -> str:\n",
    "    return request.param\n",
    "\n",
    "\n",
    "def test_gds(component_name: str) -> None:\n",
    "    \"\"\"Avoid regressions in GDS names, shapes and layers.\n",
    "    Runs XOR and computes the area.\"\"\"\n",
    "    component = factory[component_name]()\n",
    "    test_name = f\"fabc_{component_name}\"\n",
    "    difftest(component, test_name=test_name, dirpath=dirpath)\n",
    "\n",
    "\n",
    "def test_settings(component_name: str, data_regression: DataRegressionFixture) -> None:\n",
    "    \"\"\"Avoid regressions in component settings and ports.\"\"\"\n",
    "    component = factory[component_name]()\n",
    "    data_regression.check(component.to_dict())\n",
    "\n",
    "\n",
    "def test_assert_ports_on_grid(component_name: str):\n",
    "    \"\"\"Ensures all ports are on grid to avoid 1nm gaps\"\"\"\n",
    "    component = factory[component_name]()\n",
    "    component.assert_ports_on_grid()"
   ]
  },
  {
   "cell_type": "markdown",
   "id": "5ab4f21b",
   "metadata": {},
   "source": [
    "## Compare gds files\n",
    "\n",
    "You can use the command line `gf gds diff gds1.gds gds2.gds` to overlay `gds1.gds` and `gds2.gds` files and show them in KLayout.\n",
    "\n",
    "For example, if you changed the mmi1x2 and made it 5um longer by mistake, you could `gf gds diff ref_layouts/mmi1x2.gds run_layouts/mmi1x2.gds` and see the GDS differences in Klayout."
   ]
  },
  {
   "cell_type": "code",
   "execution_count": null,
   "id": "62a21fae",
   "metadata": {},
   "outputs": [],
   "source": [
    "help(gf.diff)"
   ]
  },
  {
   "cell_type": "code",
   "execution_count": null,
   "id": "46cb71ff",
   "metadata": {},
   "outputs": [],
   "source": [
    "mmi1 = gf.components.mmi1x2(length_mmi=5)\n",
    "mmi2 = gf.components.mmi1x2(length_mmi=6)\n",
    "gds1 = mmi1.write_gds()\n",
    "gds2 = mmi2.write_gds()\n",
    "gf.diff(gds1, gds2)"
   ]
  },
  {
   "cell_type": "markdown",
   "id": "79ad7597",
   "metadata": {},
   "source": [
    "## PDK decorator\n",
    "\n",
    "You can also define a PDK decorator (function) that runs over every PDK PCell."
   ]
  },
  {
   "cell_type": "code",
   "execution_count": null,
   "id": "25e58af0",
   "metadata": {},
   "outputs": [],
   "source": [
    "from gdsfactory.add_pins import add_pins_siepic\n",
    "from gdsfactory.technology import LayerViews\n",
    "\n",
    "LAYER_VIEWS = LayerViews(filepath=PATH.klayout_yaml)\n",
    "\n",
    "\n",
    "def add_pins_bbox_siepic(\n",
    "    component: Component,\n",
    "    port_type: str = \"optical\",\n",
    "    layer_pin: LayerSpec = \"PORT\",\n",
    "    pin_length: float = 2 * nm,\n",
    "    bbox_layer: LayerSpec = \"DEVREC\",\n",
    "    padding: float = 0,\n",
    ") -> Component:\n",
    "    \"\"\"Add bounding box device recognition layer and pins.\n",
    "\n",
    "    Args:\n",
    "        component: to add pins.\n",
    "        function: to add pins.\n",
    "        port_type: optical, electrical...\n",
    "        layer_pin: for pin.\n",
    "        pin_length: in um.\n",
    "        bbox_layer: bounding box layer.\n",
    "        padding: around device.\n",
    "    \"\"\"\n",
    "    c = component\n",
    "    c.add_padding(default=padding, layers=(bbox_layer,))\n",
    "    c = add_pins_siepic(\n",
    "        component=component,\n",
    "        port_type=port_type,\n",
    "        layer_pin=layer_pin,\n",
    "        pin_length=pin_length,\n",
    "    )\n",
    "    return c\n",
    "\n",
    "\n",
    "pdk = gf.Pdk(\n",
    "    name=\"fab_c\",\n",
    "    cells=cells,\n",
    "    cross_sections=cross_sections,\n",
    "    layers=LAYER.dict(),\n",
    "    sparameters_path=gf.config.sparameters_path,\n",
    "    layer_views=LAYER_VIEWS,\n",
    "    # layer_stack=LAYER_STACK,\n",
    "    # default_decorator=add_pins_bbox_siepic\n",
    ")\n",
    "pdk.activate()\n",
    "\n",
    "c1 = gf.components.straight(length=5)\n",
    "print(has_valid_transformations(c1))\n",
    "c1.layers"
   ]
  },
  {
   "cell_type": "code",
   "execution_count": null,
   "id": "3fc73a91",
   "metadata": {},
   "outputs": [],
   "source": [
    "pdk = gf.Pdk(\n",
    "    name=\"fab_c\",\n",
    "    cells=cells,\n",
    "    cross_sections=cross_sections,\n",
    "    layers=LAYER.dict(),\n",
    "    sparameters_path=gf.config.sparameters_path,\n",
    "    layer_views=LAYER_VIEWS,\n",
    "    # layer_stack=LAYER_STACK,\n",
    "    default_decorator=add_pins_bbox_siepic,\n",
    ")\n",
    "pdk.activate()\n",
    "\n",
    "c1 = gf.components.straight(length=5)\n",
    "print(has_valid_transformations(c1))\n",
    "c1.layers\n",
    "c1"
   ]
  },
  {
   "cell_type": "markdown",
   "id": "66d1d78d",
   "metadata": {},
   "source": [
    "You can see a waveguide with device recognition layer and pins.\n"
   ]
  },
  {
   "cell_type": "markdown",
   "id": "6922cc6d",
   "metadata": {},
   "source": [
    "## Version control components\n",
    "\n",
    "For version control your component library you can use GIT\n",
    "\n",
    "For tracking changes you can add `Component` changelog in the PCell docstring."
   ]
  },
  {
   "cell_type": "code",
   "execution_count": null,
   "id": "84374def",
   "metadata": {},
   "outputs": [],
   "source": [
    "from gdsfactory.generic_tech import get_generic_pdk\n",
    "import gdsfactory as gf\n",
    "from gdsfactory.typings import LayerSpec, Tuple\n",
    "\n",
    "PDK = get_generic_pdk()\n",
    "PDK.activate()\n",
    "\n",
    "\n",
    "@gf.cell\n",
    "def litho_ruler(\n",
    "    height: float = 2,\n",
    "    width: float = 0.5,\n",
    "    spacing: float = 2.0,\n",
    "    scale: Tuple[float, ...] = (3, 1, 1, 1, 1, 2, 1, 1, 1, 1),\n",
    "    num_marks: int = 21,\n",
    "    layer: LayerSpec = (1, 0),\n",
    ") -> gf.Component:\n",
    "    \"\"\"Ruler structure for lithographic measurement.\n",
    "\n",
    "    Includes marks of varying scales to allow for easy reading by eye.\n",
    "\n",
    "    Args:\n",
    "        height: Height of the ruling marks in um.\n",
    "        width: Width of the ruling marks in um.\n",
    "        spacing: Center-to-center spacing of the ruling marks in um.\n",
    "        scale: Height scale pattern of marks.\n",
    "        num_marks: Total number of marks to generate.\n",
    "        layer: Specific layer to put the ruler geometry on.\n",
    "    \"\"\"\n",
    "    D = gf.Component()\n",
    "    for n in range(num_marks):\n",
    "        h = height * scale[n % len(scale)]\n",
    "        D << gf.components.rectangle(size=(width, h), layer=layer)\n",
    "\n",
    "    D.distribute(direction=\"x\", spacing=spacing, separation=False, edge=\"x\")\n",
    "    D.align(alignment=\"ymin\")\n",
    "    return D\n",
    "\n",
    "\n",
    "c = litho_ruler()\n",
    "c.plot()"
   ]
  },
  {
   "cell_type": "markdown",
   "id": "3199666d",
   "metadata": {},
   "source": [
    "Lets assume that later on you change the code inside the PCell and want to keep a changelog.\n",
    "You can use the docstring Notes to document any significant changes in the component.\n"
   ]
  },
  {
   "cell_type": "code",
   "execution_count": null,
   "id": "6395125f",
   "metadata": {},
   "outputs": [],
   "source": [
    "@gf.cell\n",
    "def litho_ruler(\n",
    "    height: float = 2,\n",
    "    width: float = 0.5,\n",
    "    spacing: float = 2.0,\n",
    "    scale: Tuple[float, ...] = (3, 1, 1, 1, 1, 2, 1, 1, 1, 1),\n",
    "    num_marks: int = 21,\n",
    "    layer: LayerSpec = (1, 0),\n",
    ") -> gf.Component:\n",
    "    \"\"\"Ruler structure for lithographic measurement.\n",
    "\n",
    "    Args:\n",
    "        height: Height of the ruling marks in um.\n",
    "        width: Width of the ruling marks in um.\n",
    "        spacing: Center-to-center spacing of the ruling marks in um.\n",
    "        scale: Height scale pattern of marks.\n",
    "        num_marks: Total number of marks to generate.\n",
    "        layer: Specific layer to put the ruler geometry on.\n",
    "\n",
    "    Notes:\n",
    "        5.6.7: distribute across y instead of x.\n",
    "    \"\"\"\n",
    "    D = gf.Component()\n",
    "    for n in range(num_marks):\n",
    "        h = height * scale[n % len(scale)]\n",
    "        ref = D << gf.components.rectangle(size=(width, h), layer=layer)\n",
    "        ref.rotate(90)\n",
    "\n",
    "    D.distribute(direction=\"y\", spacing=spacing, separation=False, edge=\"y\")\n",
    "    D.align(alignment=\"xmin\")\n",
    "    return D\n",
    "\n",
    "\n",
    "c = litho_ruler(cache=False)\n",
    "c.plot()"
   ]
  },
  {
   "cell_type": "code",
   "execution_count": null,
   "id": "145d8475",
   "metadata": {},
   "outputs": [],
   "source": []
  }
 ],
 "metadata": {
  "jupytext": {
   "cell_metadata_filter": "-all",
   "formats": "md,ipynb",
   "main_language": "python",
   "notebook_metadata_filter": "-all"
  }
 },
 "nbformat": 4,
 "nbformat_minor": 5
}
