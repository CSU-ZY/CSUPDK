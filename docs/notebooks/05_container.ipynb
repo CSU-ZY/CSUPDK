{
 "cells": [
  {
   "cell_type": "markdown",
   "metadata": {},
   "source": [
    "# Cells inside cells (containers)\n",
    "\n",
    "Cells must have a unique name.\n",
    "If you change something in the cell, such as add a label, a grating coupler or just a pin and keep the same name it is very likely that you will have a name conflict when you combine two cells with the same name but different geometry.\n",
    "\n",
    "To solve this name collision, you can create a new component and add a reference of the old cell into the new cell.\n",
    "For example, if you can add padding to a Component called 'straight_L3' and you can define a function that returns a new cell that also contains a reference to the original cell.\n",
    "\n",
    "Cells that have a component argument automatically will copy the component settings into the new cell."
   ]
  },
  {
   "cell_type": "code",
   "execution_count": null,
   "metadata": {},
   "outputs": [],
   "source": [
    "from typing import Tuple, Optional, List\n",
    "import gdsfactory as gf\n",
    "\n",
    "\n",
    "@gf.cell\n",
    "def add_padding(\n",
    "    component: gf.Component,\n",
    "    layers: List[Tuple[int, int]] = [gf.LAYER.DEVREC],\n",
    "    default: float = 5.0,\n",
    "    top: Optional[float] = None,\n",
    "    bottom: Optional[float] = None,\n",
    "    right: Optional[float] = None,\n",
    "    left: Optional[float] = None,\n",
    ") -> gf.Component:\n",
    "    \"\"\"Adds padding layers to a container.\n",
    "\n",
    "    Args:\n",
    "        component\n",
    "        layers: list of layers\n",
    "        suffix for name\n",
    "        default: default padding\n",
    "        top: north padding\n",
    "        bottom: south padding\n",
    "        right: east padding\n",
    "        left: west padding\n",
    "    \"\"\"\n",
    "\n",
    "    container = gf.Component()\n",
    "    container << component\n",
    "\n",
    "    c = component\n",
    "    top = top if top else default\n",
    "    bottom = bottom if bottom else default\n",
    "    right = right if right else default\n",
    "    left = left if left else default\n",
    "\n",
    "    points = [\n",
    "        [c.xmin - left, c.ymin - bottom],\n",
    "        [c.xmax + right, c.ymin - bottom],\n",
    "        [c.xmax + right, c.ymax + top],\n",
    "        [c.xmin - left, c.ymax + top],\n",
    "    ]\n",
    "\n",
    "    for layer in layers:\n",
    "        container.add_polygon(points, layer=layer)\n",
    "    return container\n",
    "\n",
    "\n",
    "wg = gf.components.straight()\n",
    "wg"
   ]
  },
  {
   "cell_type": "code",
   "execution_count": null,
   "metadata": {},
   "outputs": [],
   "source": [
    "wg_padding = add_padding(component=wg)\n",
    "wg_padding"
   ]
  },
  {
   "cell_type": "code",
   "execution_count": null,
   "metadata": {},
   "outputs": [],
   "source": [
    "wg.settings"
   ]
  },
  {
   "cell_type": "code",
   "execution_count": null,
   "metadata": {},
   "outputs": [],
   "source": [
    "wg_padding.settings"
   ]
  },
  {
   "cell_type": "markdown",
   "metadata": {},
   "source": [
    "You can use many containers from gf. Also **note** that many functions have a container version that creates a new cell and a non container version that operates over the cell.\n",
    "\n",
    "Make sure you only use the function that operate over the cell if you plan to only use that new version of the cell (to avoid name conflicts)"
   ]
  },
  {
   "cell_type": "code",
   "execution_count": null,
   "metadata": {},
   "outputs": [],
   "source": [
    "import gdsfactory as gf\n",
    "\n",
    "c = gf.components.straight()\n",
    "c"
   ]
  },
  {
   "cell_type": "code",
   "execution_count": null,
   "metadata": {},
   "outputs": [],
   "source": [
    "c = gf.components.straight()\n",
    "cc = gf.add_padding(component=c, default=5)\n",
    "cc"
   ]
  },
  {
   "cell_type": "code",
   "execution_count": null,
   "metadata": {},
   "outputs": [],
   "source": [
    "print(cc.name)  # matches original name"
   ]
  },
  {
   "cell_type": "code",
   "execution_count": null,
   "metadata": {},
   "outputs": [],
   "source": [
    "c = gf.components.straight()\n",
    "cc = gf.add_padding_container(component=c, default=5)\n",
    "cc"
   ]
  },
  {
   "cell_type": "code",
   "execution_count": null,
   "metadata": {},
   "outputs": [],
   "source": [
    "print(cc.name)  # new name"
   ]
  },
  {
   "cell_type": "code",
   "execution_count": null,
   "metadata": {},
   "outputs": [],
   "source": [
    "c = gf.components.straight()\n",
    "cc = gf.components.extension.extend_ports(component=c)\n",
    "cc"
   ]
  },
  {
   "cell_type": "code",
   "execution_count": null,
   "metadata": {},
   "outputs": [],
   "source": [
    "c = gf.components.spiral_inner_io()\n",
    "cc = gf.add_grating_couplers.add_grating_couplers_with_loopback_fiber_array(component=c, with_loopback=False)\n",
    "cc"
   ]
  },
  {
   "cell_type": "code",
   "execution_count": null,
   "metadata": {},
   "outputs": [],
   "source": [
    "c = gf.components.straight()\n",
    "cc = gf.routing.add_fiber_array(component=c)\n",
    "cc"
   ]
  },
  {
   "cell_type": "code",
   "execution_count": null,
   "metadata": {},
   "outputs": [],
   "source": [
    "c = gf.components.straight()\n",
    "cc = gf.routing.add_fiber_single(component=c)\n",
    "cc"
   ]
  },
  {
   "cell_type": "markdown",
   "metadata": {},
   "source": [
    "## Composing functions\n",
    "\n",
    "You can combine more complex functions out of smaller functions.\n",
    "\n",
    "Lets say that we want to add tapers and grating couplers to a wide waveguide."
   ]
  },
  {
   "cell_type": "code",
   "execution_count": null,
   "metadata": {},
   "outputs": [],
   "source": [
    "c1 = gf.c.straight()\n",
    "c1"
   ]
  },
  {
   "cell_type": "code",
   "execution_count": null,
   "metadata": {},
   "outputs": [],
   "source": [
    "straight_wide = gf.partial(gf.components.straight, width=3)\n",
    "c3 = straight_wide()\n",
    "c3"
   ]
  },
  {
   "cell_type": "code",
   "execution_count": null,
   "metadata": {},
   "outputs": [],
   "source": [
    "c1 = gf.c.straight(width=3)\n",
    "c1"
   ]
  },
  {
   "cell_type": "code",
   "execution_count": null,
   "metadata": {},
   "outputs": [],
   "source": [
    "c2 = gf.add_tapers(c1)\n",
    "c2"
   ]
  },
  {
   "cell_type": "code",
   "execution_count": null,
   "metadata": {},
   "outputs": [],
   "source": [
    "c3 = gf.routing.add_fiber_array(c2, with_loopback=False)\n",
    "c3"
   ]
  },
  {
   "cell_type": "markdown",
   "metadata": {},
   "source": [
    "Lets do it with a **single** step thanks to `toolz.pipe`"
   ]
  },
  {
   "cell_type": "code",
   "execution_count": null,
   "metadata": {},
   "outputs": [],
   "source": [
    "import toolz\n",
    "\n",
    "add_fiber_array = gf.partial(gf.routing.add_fiber_array, with_loopback=False)\n",
    "add_tapers = gf.add_tapers\n",
    "\n",
    "# pipe is more readable than the equivalent add_fiber_array(add_tapers(c1))\n",
    "c3 = toolz.pipe(c1, add_tapers, add_fiber_array)\n",
    "c3"
   ]
  },
  {
   "cell_type": "markdown",
   "metadata": {},
   "source": [
    "we can even combine `add_tapers` and `add_fiber_array` thanks to `toolz.compose` or `toolz.compose`"
   ]
  },
  {
   "cell_type": "code",
   "execution_count": null,
   "metadata": {},
   "outputs": [],
   "source": [
    "add_tapers_fiber_array = toolz.compose_left(add_tapers, add_fiber_array)\n",
    "add_tapers_fiber_array(c1)"
   ]
  },
  {
   "cell_type": "code",
   "execution_count": null,
   "metadata": {},
   "outputs": [],
   "source": [
    "add_tapers_fiber_array = toolz.compose(add_fiber_array, add_tapers)\n",
    "add_tapers_fiber_array(c1)"
   ]
  },
  {
   "cell_type": "code",
   "execution_count": null,
   "metadata": {},
   "outputs": [],
   "source": [
    "toolz.pipe?"
   ]
  },
  {
   "cell_type": "code",
   "execution_count": null,
   "metadata": {},
   "outputs": [],
   "source": [
    "toolz.compose?"
   ]
  }
 ],
 "metadata": {
  "kernelspec": {
   "display_name": "Python 3 (ipykernel)",
   "language": "python",
   "name": "python3"
  },
  "language_info": {
   "codemirror_mode": {
    "name": "ipython",
    "version": 3
   },
   "file_extension": ".py",
   "mimetype": "text/x-python",
   "name": "python",
   "nbconvert_exporter": "python",
   "pygments_lexer": "ipython3",
   "version": "3.9.5"
  }
 },
 "nbformat": 4,
 "nbformat_minor": 4
}
