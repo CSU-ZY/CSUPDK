{
 "cells": [
  {
   "cell_type": "code",
   "execution_count": null,
   "metadata": {},
   "outputs": [],
   "source": [
    "import numpy as np\n",
    "import matplotlib.pyplot as plt\n",
    "import meep as mp\n",
    "import gmeep as gm"
   ]
  },
  {
   "cell_type": "code",
   "execution_count": null,
   "metadata": {},
   "outputs": [],
   "source": [
    "import pathlib\n",
    "import tempfile\n",
    "from typing import Dict, Union\n",
    "import pydantic\n",
    "\n",
    "import meep as mp\n",
    "from meep import mpb\n",
    "\n",
    "from gmeep.config import disable_print, enable_print\n",
    "from gmeep.types import Mode\n",
    "\n",
    "mpb.Verbosity(0)\n",
    "\n",
    "tmp = pathlib.Path(tempfile.TemporaryDirectory().name).parent / \"meep\"\n",
    "tmp.mkdir(exist_ok=True)\n",
    "\n",
    "\n",
    "@pydantic.validate_arguments\n",
    "def get_mode_solver_rib(\n",
    "    wg_width: float = 0.45,\n",
    "    wg_thickness: float = 0.22,\n",
    "    slab_thickness: int = 0.0,\n",
    "    ncore: float = 3.47,\n",
    "    nclad: float = 1.44,\n",
    "    sx: float = 2.0,\n",
    "    sy: float = 2.0,\n",
    "    res: int = 32,\n",
    "    nmodes: int = 4,\n",
    "):\n",
    "    \"\"\"Returns a mode_solver simulation.\n",
    "\n",
    "    Args:\n",
    "        wg_width: wg_width (um)\n",
    "        wg_thickness: wg height (um)\n",
    "        slab_thickness: thickness for the waveguide slab\n",
    "        ncore: core material refractive index\n",
    "        nclad: clad material refractive index\n",
    "        sx: simulation region width (um)\n",
    "        sy: simulation region height (um)\n",
    "        res: resolution (pixels/um)\n",
    "        nmodes: number of modes\n",
    "    \"\"\"\n",
    "    material_core = mp.Medium(index=ncore)\n",
    "    material_clad = mp.Medium(index=nclad)\n",
    "\n",
    "    # Define the computational cell.  We'll make x the propagation direction.\n",
    "    # the other cell sizes should be big enough so that the boundaries are\n",
    "    # far away from the mode field.\n",
    "    geometry_lattice = mp.Lattice(size=mp.Vector3(0, sx, sy))\n",
    "\n",
    "    # define the 2d blocks for the strip and substrate\n",
    "    geometry = [\n",
    "        mp.Block(\n",
    "            size=mp.Vector3(mp.inf, mp.inf, mp.inf),\n",
    "            material=material_clad,\n",
    "        ),\n",
    "        # uncomment this for air cladded waveguides\n",
    "        # mp.Block(\n",
    "        #     size=mp.Vector3(mp.inf, mp.inf, 0.5 * (sy - wg_thickness)),\n",
    "        #     center=mp.Vector3(z=0.25 * (sy + wg_thickness)),\n",
    "        #     material=material_clad,\n",
    "        # ),\n",
    "        mp.Block(\n",
    "            size=mp.Vector3(mp.inf, mp.inf, slab_thickness),\n",
    "            material=material_core,\n",
    "            center=mp.Vector3(z=-0.5 * slab_thickness),\n",
    "        ),\n",
    "        mp.Block(\n",
    "            size=mp.Vector3(mp.inf, wg_width, wg_thickness),\n",
    "            material=material_core,\n",
    "            center=mp.Vector3(z=-0.5 * wg_thickness),\n",
    "        ),\n",
    "    ]\n",
    "\n",
    "    # The k (i.e. beta, i.e. propagation constant) points to look at, in\n",
    "    # units of 2*pi/um.  We'll look at num_k points from k_min to k_max.\n",
    "    num_k = 9\n",
    "    k_min = 0.1\n",
    "    k_max = 3.0\n",
    "    k_points = mp.interpolate(num_k, [mp.Vector3(k_min), mp.Vector3(k_max)])\n",
    "\n",
    "    # Increase this to see more modes.  (The guided ones are the ones below the\n",
    "    # light line, i.e. those with frequencies < kmag / 1.45, where kmag\n",
    "    # is the corresponding column in the output if you grep for \"freqs:\".)\n",
    "    # use this prefix for output files\n",
    "\n",
    "    filename_prefix = tmp / f\"rib_{wg_width}_{wg_thickness}_{slab_thickness}\"\n",
    "\n",
    "    mode_solver = mpb.ModeSolver(\n",
    "        geometry_lattice=geometry_lattice,\n",
    "        geometry=geometry,\n",
    "        k_points=k_points,\n",
    "        resolution=res,\n",
    "        num_bands=nmodes,\n",
    "        filename_prefix=str(filename_prefix),\n",
    "    )\n",
    "    return mode_solver\n",
    "\n",
    "\n",
    "@pydantic.validate_arguments\n",
    "def find_modes(\n",
    "    get_mode_solver=get_mode_solver_rib,\n",
    "    tol: float = 1e-6,\n",
    "    wavelength: float = 1.55,\n",
    "    mode_number: int = 1,\n",
    "    parity=mp.NO_PARITY,\n",
    ") -> Dict[str, Union[mpb.ModeSolver, float]]:\n",
    "    \"\"\"Returns effective index and group index for a mode.\n",
    "\n",
    "    Args:\n",
    "        mode_solver_function: function that returns mpb.ModeSolver\n",
    "        wg_width: wg_width (um)\n",
    "        wg_thickness: wg height (um)\n",
    "        ncore: core material refractive index\n",
    "        nclad: clad material refractive index\n",
    "        sx: supercell width (um)\n",
    "        sy: supercell height (um)\n",
    "        res: (pixels/um)\n",
    "        wavelength: wavelength\n",
    "        mode_number: mode order\n",
    "        paririty: mp.ODD_Y mp.EVEN_X for TE, mp.EVEN_Y for TM. Reduces spurious modes.\n",
    "\n",
    "    Returns: Dict\n",
    "        mode_solver\n",
    "        neff\n",
    "        ng\n",
    "\n",
    "\n",
    "    compute mode_number lowest frequencies as a function of k. Also display\n",
    "    \"parities\", i.e. whether the mode is symmetric or anti_symmetric\n",
    "    through the y=0 and z=0 planes.\n",
    "    mode_solver.run(mpb.display_yparities, mpb.display_zparities)\n",
    "\n",
    "    Above, we outputed the dispersion relation: frequency (omega) as a\n",
    "    function of wavevector kx (beta).  Alternatively, you can compute\n",
    "    beta for a given omega -- for example, you might want to find the\n",
    "    modes and wavevectors at a fixed wavelength of 1.55 microns.  You\n",
    "    can do that using the find_k function:\n",
    "    \"\"\"\n",
    "    mode_solver = get_mode_solver()\n",
    "    omega = 1 / wavelength\n",
    "\n",
    "    # Output the x component of the Poynting vector for mode_number bands at omega\n",
    "    disable_print()\n",
    "    k = mode_solver.find_k(\n",
    "        parity,\n",
    "        omega,\n",
    "        mode_number,\n",
    "        mode_number,\n",
    "        mp.Vector3(1),\n",
    "        tol,\n",
    "        omega * 2.02,\n",
    "        omega * 0.01,\n",
    "        omega * 10,\n",
    "        mpb.output_poynting_x,\n",
    "        mpb.display_yparities,\n",
    "        mpb.display_group_velocities,\n",
    "    )\n",
    "    enable_print()\n",
    "    vg = mode_solver.compute_group_velocities()\n",
    "    k = k[0]\n",
    "    vg = vg[0][0]\n",
    "    neff = wavelength * k\n",
    "    ng = 1 / vg\n",
    "    return Mode(neff=neff, ng=ng, solver=mode_solver)\n",
    "\n"
   ]
  },
  {
   "cell_type": "code",
   "execution_count": null,
   "metadata": {},
   "outputs": [],
   "source": [
    "get_mode_solver=get_mode_solver_rib\n",
    "tol: float = 1e-6\n",
    "wavelength: float = 1.55\n",
    "mode_number: int = 1\n",
    "parity=mp.NO_PARITY\n",
    "\n",
    "mode_solver = get_mode_solver()\n",
    "omega = 1 / wavelength\n",
    "\n",
    "# Output the x component of the Poynting vector for mode_number bands at omega\n",
    "disable_print()\n",
    "k = mode_solver.find_k(\n",
    "    parity,\n",
    "    omega,\n",
    "    mode_number,\n",
    "    mode_number+2,\n",
    "    mp.Vector3(1),\n",
    "    tol,\n",
    "    omega * 2.02,\n",
    "    omega * 0.01,\n",
    "    omega * 10,\n",
    "    mpb.output_poynting_x,\n",
    "    mpb.display_yparities,\n",
    "    mpb.display_group_velocities,\n",
    ")\n",
    "enable_print()\n",
    "vg = mode_solver.compute_group_velocities()\n",
    "k0 = k[0]\n",
    "vg = vg[0][0]\n",
    "neff = wavelength * k0\n",
    "ng = 1 / vg\n"
   ]
  },
  {
   "cell_type": "code",
   "execution_count": null,
   "metadata": {},
   "outputs": [],
   "source": [
    "np.array(k)*wavelength"
   ]
  },
  {
   "cell_type": "markdown",
   "metadata": {},
   "source": [
    "# MPB modes\n",
    "\n",
    "MPB has periodic boundary conditions.\n"
   ]
  },
  {
   "cell_type": "code",
   "execution_count": null,
   "metadata": {},
   "outputs": [],
   "source": [
    "# plot TE mode (plot_mode_order=1)\n",
    "m = gm.find_modes(wg_width=0.4, ncore=3.47, nclad=1.44, wg_thickness=.22, res=32, sx=6, sy=6, mode_number=1, parity=mp.NO_PARITY)\n",
    "m"
   ]
  },
  {
   "cell_type": "code",
   "execution_count": null,
   "metadata": {},
   "outputs": [],
   "source": [
    "gm.plot_modes(r.solver)"
   ]
  },
  {
   "cell_type": "code",
   "execution_count": null,
   "metadata": {},
   "outputs": [],
   "source": [
    "# plot TM mode (plot_mode_order=2)\n",
    "r = gm.find_modes(wg_width=0.5, ncore=3.47, nclad=1.44, wg_thickness=.22, res=32, sx=6, sy=6, mode_number=2, parity=mp.NO_PARITY)\n",
    "r"
   ]
  },
  {
   "cell_type": "code",
   "execution_count": null,
   "metadata": {},
   "outputs": [],
   "source": [
    "gm.plot_modes(r['mode_solver'])"
   ]
  },
  {
   "cell_type": "code",
   "execution_count": null,
   "metadata": {},
   "outputs": [],
   "source": [
    "# plot TM mode (plot_mode_order=1)\n",
    "import gmeep as gm\n",
    "import meep as mp\n",
    "\n",
    "r = gm.find_modes(wg_width=0.5, ncore=3.47, nclad=1.44, wg_thickness=.22, res=32, sx=6, sy=6, parity=mp.EVEN_Y, mode_number=1)\n",
    "r"
   ]
  },
  {
   "cell_type": "code",
   "execution_count": null,
   "metadata": {},
   "outputs": [],
   "source": [
    "gm.plot_modes(r['mode_solver'])"
   ]
  },
  {
   "cell_type": "code",
   "execution_count": null,
   "metadata": {},
   "outputs": [],
   "source": [
    "# TM mode has some issue if no parity is applied\n",
    "#neff, ng = gm.find_modes(wg_width=0.5, ncore=3.47, nclad=1.44, wg_thickness=.22, plot=True, res=32, sx=6, sy=6, mode_number=2)\n",
    "#neff, ng"
   ]
  },
  {
   "cell_type": "code",
   "execution_count": null,
   "metadata": {},
   "outputs": [],
   "source": [
    "import gmeep as gm\n",
    "import meep as mp\n",
    "r = gm.find_modes(wg_width=0.8, ncore=3.47, nclad=1.44, wg_thickness=.22, res=32, sx=6, sy=6, mode_number=1, parity=mp.EVEN_Y)\n",
    "r"
   ]
  },
  {
   "cell_type": "code",
   "execution_count": null,
   "metadata": {},
   "outputs": [],
   "source": [
    "wg_widths = np.arange(200, 2000, 100)*1e-3\n",
    "n_te0 = [gm.find_modes(wg_width=wg_width, ncore=3.55, wg_thickness=.22) for wg_width in wg_widths]"
   ]
  },
  {
   "cell_type": "code",
   "execution_count": null,
   "metadata": {},
   "outputs": [],
   "source": [
    "neffs_te0 = [ni['neff'] for ni in n_te0]\n",
    "ngs_te0 = [ni['ng'] for ni in n_te0]\n",
    "\n",
    "plt.plot(wg_widths, neffs_te0, '.-')\n",
    "plt.xlabel('wg_width')\n",
    "plt.ylabel('neff')\n",
    "plt.title('Silicon strip waveguide (0nm slab)')"
   ]
  },
  {
   "cell_type": "code",
   "execution_count": null,
   "metadata": {},
   "outputs": [],
   "source": [
    "plt.plot(wg_widths, ngs_te0)\n",
    "plt.xlabel('wg_width')\n",
    "plt.ylabel('ng')"
   ]
  },
  {
   "cell_type": "code",
   "execution_count": null,
   "metadata": {},
   "outputs": [],
   "source": [
    "wg_widths = np.arange(200, 2000, 100)*1e-3\n",
    "n_tm0 = [gm.find_modes(wg_width=wg_width, ncore=3.55, wg_thickness=.22, parity=mp.EVEN_Y) for wg_width in wg_widths]"
   ]
  },
  {
   "cell_type": "code",
   "execution_count": null,
   "metadata": {},
   "outputs": [],
   "source": [
    "neffs_tm0 = [ni['neff'] for ni in n_tm0]\n",
    "ngs_tm0 = [ni['ng'] for ni in n_tm0]\n",
    "\n",
    "plt.plot(wg_widths, neffs_te0, '.-', label='TE0')\n",
    "plt.plot(wg_widths, neffs_tm0, '.-', label='TM0')\n",
    "plt.xlabel('wg_width')\n",
    "plt.ylabel('neff')\n",
    "plt.title('Silicon strip waveguide (0nm slab)')\n",
    "plt.legend()"
   ]
  },
  {
   "cell_type": "markdown",
   "metadata": {},
   "source": [
    "# Rib waveguides"
   ]
  },
  {
   "cell_type": "code",
   "execution_count": null,
   "metadata": {},
   "outputs": [],
   "source": [
    "# plot TE mode (plot_mode_order=1)\n",
    "r = gm.find_modes(wg_width=0.5, ncore=3.55, wg_thickness=.22, slab_thickness=90e-3, res=128)\n",
    "gm.plot_modes(r['mode_solver'])\n",
    "r"
   ]
  },
  {
   "cell_type": "code",
   "execution_count": null,
   "metadata": {},
   "outputs": [],
   "source": [
    "neff, ng  = r['neff'], r['ng']\n",
    "print(neff, ng)"
   ]
  },
  {
   "cell_type": "code",
   "execution_count": null,
   "metadata": {},
   "outputs": [],
   "source": [
    "wg_widths = np.arange(200, 2000, 100)*1e-3\n",
    "n_te0 = [gm.find_modes(wg_width=wg_width, ncore=3.55, wg_thickness=.22, slab_thickness=90e-3) for wg_width in wg_widths]\n",
    "neffs_te0 = [ni['neff'] for ni in n_te0]\n",
    "ngs_te0 = [ni['ng'] for ni in n_te0]"
   ]
  },
  {
   "cell_type": "code",
   "execution_count": null,
   "metadata": {},
   "outputs": [],
   "source": [
    "plt.title('Silicon rib waveguide (90nm slab)')\n",
    "plt.plot(wg_widths, neffs_te0, '.-')\n",
    "plt.xlabel('wg_width')\n",
    "plt.ylabel('neff')"
   ]
  },
  {
   "cell_type": "markdown",
   "metadata": {},
   "source": [
    "## Dispersion"
   ]
  },
  {
   "cell_type": "code",
   "execution_count": null,
   "metadata": {},
   "outputs": [],
   "source": [
    "from gmeep.find_neff_ng_dw_dh import plot_neff_ng_dw_dh\n",
    "import pandas as pd\n",
    "import pathlib\n",
    "from scipy.interpolate import interp2d\n",
    "import numpy as np\n",
    "import gmeep as gm"
   ]
  },
  {
   "cell_type": "code",
   "execution_count": null,
   "metadata": {},
   "outputs": [],
   "source": [
    "plot_neff_ng_dw_dh(with_dispersion=True)"
   ]
  },
  {
   "cell_type": "code",
   "execution_count": null,
   "metadata": {},
   "outputs": [],
   "source": [
    "plot_neff_ng_dw_dh(with_dispersion=False)"
   ]
  },
  {
   "cell_type": "markdown",
   "metadata": {},
   "source": [
    "## Convergence tests\n",
    "\n",
    "Before launching a set of simulations you need to make sure you have the correct simulation settings:\n",
    "\n",
    "- res: resolution\n",
    "- sx: Size of the simulation region in the x-direction (default=4.0)\n",
    "- sy: Size of the simulation region in the y-direction (default=4.0)\n"
   ]
  },
  {
   "cell_type": "code",
   "execution_count": null,
   "metadata": {},
   "outputs": [],
   "source": [
    "resolutions = np.linspace(10, 100, 50)\n",
    "neffs = []\n",
    "ngs= []\n",
    "\n",
    "for res in resolutions:\n",
    "    r = gm.find_modes(wg_width=0.5, ncore=3.5, nclad=1.44, wg_thickness=.22, res=res)\n",
    "    ngs.append(r['ng'])\n",
    "    neffs.append(r['neff'])"
   ]
  },
  {
   "cell_type": "code",
   "execution_count": null,
   "metadata": {},
   "outputs": [],
   "source": [
    "plt.plot(resolutions, ngs, 'o-')\n",
    "plt.ylabel('ng')\n",
    "plt.xlabel('resolution (pixels/um)')"
   ]
  },
  {
   "cell_type": "code",
   "execution_count": null,
   "metadata": {},
   "outputs": [],
   "source": [
    "plt.plot(resolutions, neffs, 'o-')\n",
    "plt.ylabel('neff')\n",
    "plt.xlabel('resolution (pixels/um)')"
   ]
  },
  {
   "cell_type": "code",
   "execution_count": null,
   "metadata": {},
   "outputs": [],
   "source": [
    "sxs = np.linspace(4, 6, 6)\n",
    "neffs = []\n",
    "ngs= []\n",
    "\n",
    "for sx in sxs:\n",
    "    r = gm.find_modes(\n",
    "        wg_width=0.5, ncore=3.5, nclad=1.44, wg_thickness=.22, res=20, sx=sx\n",
    "    )\n",
    "    ngs.append(r['ng'])\n",
    "    neffs.append(r['neff'])"
   ]
  },
  {
   "cell_type": "code",
   "execution_count": null,
   "metadata": {},
   "outputs": [],
   "source": [
    "plt.plot(sxs, neffs, 'o-')\n",
    "plt.ylabel('neff')\n",
    "plt.xlabel('simulation size in x(um)')"
   ]
  },
  {
   "cell_type": "code",
   "execution_count": null,
   "metadata": {},
   "outputs": [],
   "source": [
    "sys = np.linspace(2, 6, 6)\n",
    "neffs = []\n",
    "ngs= []\n",
    "\n",
    "for sy in sys:\n",
    "    r = gm.find_modes(\n",
    "        wg_width=0.5, ncore=3.5, nclad=1.44, wg_thickness=.22, res=20, sy=sy\n",
    "    )\n",
    "    ngs.append(r['ng'])\n",
    "    neffs.append(r['neff'])"
   ]
  },
  {
   "cell_type": "code",
   "execution_count": null,
   "metadata": {},
   "outputs": [],
   "source": [
    "plt.plot(sxs, neffs, 'o-')\n",
    "plt.ylabel('neff')\n",
    "plt.xlabel('simulation size in y (um)')"
   ]
  }
 ],
 "metadata": {
  "kernelspec": {
   "display_name": "Python 3 (ipykernel)",
   "language": "python",
   "name": "python3"
  },
  "language_info": {
   "codemirror_mode": {
    "name": "ipython",
    "version": 3
   },
   "file_extension": ".py",
   "mimetype": "text/x-python",
   "name": "python",
   "nbconvert_exporter": "python",
   "pygments_lexer": "ipython3",
   "version": "3.9.5"
  }
 },
 "nbformat": 4,
 "nbformat_minor": 4
}
