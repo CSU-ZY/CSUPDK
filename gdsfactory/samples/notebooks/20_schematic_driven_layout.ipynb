{
 "cells": [
  {
   "cell_type": "markdown",
   "id": "83b04125",
   "metadata": {},
   "source": [
    "# Schematic Driven layout\n",
    "\n",
    "The Schematic driven layout uses a schematic format similar to our `*.pic.yml`.\n",
    "\n",
    "The Jupyter notebook interface allows you to get the best of both worlds of GUI and python driven based flows."
   ]
  },
  {
   "cell_type": "code",
   "execution_count": null,
   "id": "5a869fd5",
   "metadata": {},
   "outputs": [],
   "source": [
    "from bokeh.io import output_notebook\n",
    "\n",
    "from gdsfactory.schematic_editor import SchematicEditor\n",
    "from gdsfactory.config import rich_output\n",
    "import gdsfactory as gf\n",
    "from gdsfactory.generic_tech import get_generic_pdk\n",
    "\n",
    "gf.config.rich_output()\n",
    "PDK = get_generic_pdk()\n",
    "PDK.activate()\n",
    "\n",
    "%env BOKEH_ALLOW_WS_ORIGIN=127.0.0.1:8888,localhost:8888\n",
    "\n",
    "output_notebook()\n",
    "rich_output()"
   ]
  },
  {
   "cell_type": "markdown",
   "id": "ad15e9ee",
   "metadata": {},
   "source": [
    "First you initialize a session of the schematic editor.\n",
    "The editor is synced to a file.\n",
    "If file exist, it loads the schematic for editing. If it does not exist, it creates it.\n",
    "The schematic file is continuously auto-saved as you edit the schematic in your notebook, so you can track changes with GIT."
   ]
  },
  {
   "cell_type": "code",
   "execution_count": null,
   "id": "b49dd9d6",
   "metadata": {},
   "outputs": [],
   "source": [
    "se = SchematicEditor(\"test.schem.yml\")"
   ]
  },
  {
   "cell_type": "markdown",
   "id": "76761993",
   "metadata": {},
   "source": [
    "## Define instances\n",
    "\n",
    "First you need to define which instances to include. We do this through this grid-like editor.\n",
    "Components are auto-populated from your active PDK.\n",
    "\n",
    "instance name | Component type\n",
    "--------------| --------------\n",
    "mmi1          | mmi1x2"
   ]
  },
  {
   "cell_type": "code",
   "execution_count": null,
   "id": "8c6f9b78",
   "metadata": {},
   "outputs": [],
   "source": [
    "se.instance_widget"
   ]
  },
  {
   "cell_type": "code",
   "execution_count": null,
   "id": "16a1c66f",
   "metadata": {},
   "outputs": [],
   "source": [
    "se.instances.keys()"
   ]
  },
  {
   "cell_type": "markdown",
   "id": "547b1c1e",
   "metadata": {},
   "source": [
    "You can also **add your instances through code**, and since it is just a dictionary update, *the integrity of your schematic will be maintained, even after re-running the notebook* as-is.\n",
    "You can here specify a component either by name or as an actual component, using auto-completion to specify your settings as well."
   ]
  },
  {
   "cell_type": "code",
   "execution_count": null,
   "id": "21cbd75b",
   "metadata": {},
   "outputs": [],
   "source": [
    "se.add_instance(\"s1\", gf.components.straight(length=20))\n",
    "se.add_instance(\"s2\", gf.components.straight(length=40))"
   ]
  },
  {
   "cell_type": "markdown",
   "id": "d067748a",
   "metadata": {},
   "source": [
    "But you can even query the parameters of default components, set only by name through the widget grid, like so:"
   ]
  },
  {
   "cell_type": "code",
   "execution_count": null,
   "id": "9538cf11",
   "metadata": {},
   "outputs": [],
   "source": [
    "se.instances[\"mmi1\"].settings.full"
   ]
  },
  {
   "cell_type": "markdown",
   "id": "1413023a",
   "metadata": {},
   "source": [
    "It is also possible to *instantiate through the widget, then set the settings of our component later, through code.*\n",
    "\n",
    "By doing this through code, we have the full power of python at our disposal to easily use shared variables between components, or set complex Class or dictionary-based settings, without fumbling through a UI."
   ]
  },
  {
   "cell_type": "code",
   "execution_count": null,
   "id": "de810aa9",
   "metadata": {},
   "outputs": [],
   "source": [
    "se.update_settings(\"mmi1\", gap_mmi=1.0)\n",
    "se.update_settings(\"mmi2\", gap_mmi=0.7)\n",
    "\n",
    "for inst_name, inst in se.instances.items():\n",
    "    if inst.settings.changed:\n",
    "        print(f\"{inst_name}: {inst.settings.changed}\")"
   ]
  },
  {
   "cell_type": "markdown",
   "id": "8d5252bb",
   "metadata": {},
   "source": [
    "## Define nets\n",
    "\n",
    "Now, you define your logical connections between instances in your netlist. Each row in the grid represents one logical connection."
   ]
  },
  {
   "cell_type": "code",
   "execution_count": null,
   "id": "26614544",
   "metadata": {},
   "outputs": [],
   "source": [
    "se.net_widget"
   ]
  },
  {
   "cell_type": "markdown",
   "id": "362a98a1",
   "metadata": {},
   "source": [
    "Similarly, you can programmatically add nets.\n",
    "Adding a net which already exists will have no effect, such that the notebook can be rerun without consequence.\n",
    "However, trying to connect to a port which is already otherwise connected will throw an error."
   ]
  },
  {
   "cell_type": "code",
   "execution_count": null,
   "id": "f42464c9",
   "metadata": {},
   "outputs": [],
   "source": [
    "se.add_net(\n",
    "    inst1=\"mmi1\", port1=\"o2\", inst2=\"s1\", port2=\"o1\"\n",
    ")  # can be re-run without consequence\n",
    "se.add_net(inst1=\"s1\", port1=\"o1\", inst2=\"mmi1\", port2=\"o2\")  # also ok\n",
    "# se.add_net(inst1=\"s1\", port1=\"o2\", inst2=\"mmi1\", port2=\"o2\")  # throws error -- already connected to a different port"
   ]
  },
  {
   "cell_type": "code",
   "execution_count": null,
   "id": "f9c4f964",
   "metadata": {},
   "outputs": [],
   "source": [
    "se.schematic"
   ]
  },
  {
   "cell_type": "markdown",
   "id": "11211f75",
   "metadata": {},
   "source": [
    "## Define ports\n",
    "\n",
    "Now, you define the Component ports following the syntax\n",
    "\n",
    "PortName | InstanceName,PortName"
   ]
  },
  {
   "cell_type": "code",
   "execution_count": null,
   "id": "ae766471",
   "metadata": {},
   "outputs": [],
   "source": [
    "se.port_widget"
   ]
  },
  {
   "cell_type": "markdown",
   "id": "6241f47a",
   "metadata": {},
   "source": [
    "## Visualize\n",
    "\n",
    "You can visualize your schematic down below. After you've initialized the plot below, you should see it live-update after every change we make above.\n",
    "\n",
    "Currently the size of component symbols and port locations are **layout-realistic**.\n",
    "This may be a nice default if you don't care to bother making symbols for your components.\n",
    "But it would be a nice improvement for the future to allow associating symbols with components, to make the schematic easier to read.\n",
    "\n",
    "If you activate the `Point Draw Tool` in the plot, you should see that you are able to arrange components freely on the schematic, and changes are saved back to the `*.schem.yml` file in realtime.\n",
    "\n",
    "![pointdraw](https://i.imgur.com/mlfsd13.png)"
   ]
  },
  {
   "cell_type": "code",
   "execution_count": null,
   "id": "7ec02862",
   "metadata": {},
   "outputs": [],
   "source": [
    "se.visualize()"
   ]
  },
  {
   "cell_type": "markdown",
   "id": "e96d8f1e",
   "metadata": {},
   "source": [
    "## generate Layout\n",
    "\n",
    "You can use your schematic to generate a preliminary layout, and view in the notebook and/or KLayout. Initial placements come from schematic placements and Routes are auto-generated from nets."
   ]
  },
  {
   "cell_type": "code",
   "execution_count": null,
   "id": "5a2efbf1",
   "metadata": {},
   "outputs": [],
   "source": [
    "layout_filename = \"sdl_demo.pic.yml\"\n",
    "se.instantiate_layout(layout_filename, default_router=\"get_bundle\")\n",
    "c = gf.read.from_yaml(layout_filename)\n",
    "f = c.plot()"
   ]
  },
  {
   "cell_type": "code",
   "execution_count": null,
   "id": "62a4cdd6",
   "metadata": {},
   "outputs": [],
   "source": [
    "# you can save your schematic to a standalone html file once you are satisfied\n",
    "# se.save_schematic_html('demo_schem.html')"
   ]
  },
  {
   "cell_type": "markdown",
   "id": "e710a46c",
   "metadata": {},
   "source": [
    "## Circuit simulations"
   ]
  },
  {
   "cell_type": "code",
   "execution_count": null,
   "id": "56ba7825",
   "metadata": {},
   "outputs": [],
   "source": [
    "import numpy as np\n",
    "import matplotlib.pyplot as plt\n",
    "import gdsfactory.simulation.sax as gs\n",
    "import jax.numpy as jnp\n",
    "import sax\n",
    "\n",
    "netlist = c.get_netlist()\n",
    "\n",
    "models = {\n",
    "    \"bend_euler\": gs.models.bend,\n",
    "    \"mmi1x2\": gs.models.mmi1x2,\n",
    "    \"mmi2x2\": gs.models.mmi2x2,\n",
    "    \"straight\": gs.models.straight,\n",
    "}\n",
    "\n",
    "circuit, _ = sax.circuit(netlist=netlist, models=models)"
   ]
  },
  {
   "cell_type": "code",
   "execution_count": null,
   "id": "95072e02",
   "metadata": {},
   "outputs": [],
   "source": [
    "wl = np.linspace(1.5, 1.6)\n",
    "S = circuit(wl=wl)\n",
    "\n",
    "plt.figure(figsize=(14, 4))\n",
    "plt.title(\"MZI\")\n",
    "plt.plot(1e3 * wl, jnp.abs(S[\"o1\", \"o2\"]) ** 2)\n",
    "plt.xlabel(\"λ [nm]\")\n",
    "plt.ylabel(\"T\")\n",
    "plt.grid(True)\n",
    "plt.show()"
   ]
  }
 ],
 "metadata": {
  "jupytext": {
   "cell_metadata_filter": "-all",
   "formats": "md,ipynb",
   "main_language": "python",
   "notebook_metadata_filter": "-all"
  }
 },
 "nbformat": 4,
 "nbformat_minor": 5
}
