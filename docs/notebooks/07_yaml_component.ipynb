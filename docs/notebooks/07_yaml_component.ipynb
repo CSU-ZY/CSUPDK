{
 "cells": [
  {
   "cell_type": "markdown",
   "metadata": {},
   "source": [
    "# component_from_yaml \n",
    "\n",
    "You can define a component using a YAML netlist.\n",
    "\n",
    "YAML -> Component\n",
    "\n",
    "\n",
    "## instances\n",
    "\n",
    "Lets start by defining the `instances` in YAML"
   ]
  },
  {
   "cell_type": "code",
   "execution_count": null,
   "metadata": {
    "attributes": {
     "classes": [],
     "id": "",
     "n": "5"
    }
   },
   "outputs": [],
   "source": [
    "import pp\n",
    "\n",
    "yaml = \"\"\"\n",
    "instances:\n",
    "    mmi_long:\n",
    "      component: mmi1x2\n",
    "      settings:\n",
    "        width_mmi: 4.5\n",
    "        length_mmi: 10\n",
    "    mmi_short:\n",
    "      component: mmi1x2\n",
    "      settings:\n",
    "        width_mmi: 4.5\n",
    "        length_mmi: 5\n",
    "\"\"\"\n",
    "\n",
    "c = pp.component_from_yaml(yaml)\n",
    "c"
   ]
  },
  {
   "cell_type": "code",
   "execution_count": null,
   "metadata": {},
   "outputs": [],
   "source": [
    "c.instances"
   ]
  },
  {
   "cell_type": "markdown",
   "metadata": {},
   "source": [
    "You can modify the instances later (not recommended).\n",
    "\n",
    "I recommend that you define that using `placements` in the `YAML` file"
   ]
  },
  {
   "cell_type": "code",
   "execution_count": null,
   "metadata": {},
   "outputs": [],
   "source": [
    "c.instances['mmi_long'].x = 100\n",
    "c.show()\n",
    "c.plot()"
   ]
  },
  {
   "cell_type": "markdown",
   "metadata": {},
   "source": [
    "## placements\n",
    "\n",
    "Lets define the placecemts of each instance by defining a `placements` section in YAML\n",
    "\n",
    "Lets place an `mmi_long` where you can place the `W0` port at `x=20, y=10`"
   ]
  },
  {
   "cell_type": "code",
   "execution_count": null,
   "metadata": {},
   "outputs": [],
   "source": [
    "import pp\n",
    "\n",
    "yaml = \"\"\"\n",
    "instances:\n",
    "    mmi_long:\n",
    "      component: mmi1x2\n",
    "      settings:\n",
    "        width_mmi: 4.5\n",
    "        length_mmi: 5\n",
    "placements:        \n",
    "    mmi_long:\n",
    "        port: W0\n",
    "        x: 20\n",
    "        y: 10\n",
    "\"\"\"\n",
    "\n",
    "c = pp.component_from_yaml(yaml)\n",
    "c.show()\n",
    "c.plot()"
   ]
  },
  {
   "cell_type": "markdown",
   "metadata": {},
   "source": [
    "You can also mirror it"
   ]
  },
  {
   "cell_type": "code",
   "execution_count": null,
   "metadata": {},
   "outputs": [],
   "source": [
    "import pp\n",
    "\n",
    "yaml = \"\"\"\n",
    "instances:\n",
    "    mmi_long:\n",
    "      component: mmi1x2\n",
    "      settings:\n",
    "        width_mmi: 4.5\n",
    "        length_mmi: 5\n",
    "placements:        \n",
    "    mmi_long:\n",
    "        port: W0\n",
    "        x: 20\n",
    "        y: 10\n",
    "        mirror: True\n",
    "\"\"\"\n",
    "\n",
    "c = pp.component_from_yaml(yaml)\n",
    "c"
   ]
  },
  {
   "cell_type": "markdown",
   "metadata": {},
   "source": [
    "## ports\n",
    "\n",
    "You can export the ports of any instance to the new `component_from_yaml` Component.\n",
    "\n",
    "You will need to define a `ports` section in YAML\n",
    "\n",
    "Lets expose all the ports from `mmi_long` into the new component.\n",
    "\n",
    "Ports are exposed as `new_port_name: instance_name, port_name`"
   ]
  },
  {
   "cell_type": "code",
   "execution_count": null,
   "metadata": {},
   "outputs": [],
   "source": [
    "import pp\n",
    "\n",
    "yaml = \"\"\"\n",
    "instances:\n",
    "    mmi_long:\n",
    "      component: mmi1x2\n",
    "      settings:\n",
    "        width_mmi: 4.5\n",
    "        length_mmi: 5\n",
    "placements:        \n",
    "    mmi_long:\n",
    "        port: W0\n",
    "        x: 20\n",
    "        y: 10\n",
    "        mirror: True\n",
    "        \n",
    "ports:\n",
    "    W0: mmi_long,E0\n",
    "    W1: mmi_long,E1\n",
    "    E0: mmi_long,W0\n",
    "\"\"\"\n",
    "\n",
    "c = pp.component_from_yaml(yaml)\n",
    "c.show()\n",
    "c.plot()"
   ]
  },
  {
   "cell_type": "markdown",
   "metadata": {},
   "source": [
    "You can also define a mirror placement using a port"
   ]
  },
  {
   "cell_type": "code",
   "execution_count": null,
   "metadata": {},
   "outputs": [],
   "source": [
    "import pp\n",
    "\n",
    "yaml = \"\"\"\n",
    "instances:\n",
    "    mmi_long:\n",
    "      component: mmi1x2\n",
    "      settings:\n",
    "        width_mmi: 4.5\n",
    "        length_mmi: 5\n",
    "placements:        \n",
    "    mmi_long:\n",
    "        x: 0\n",
    "        y: 0\n",
    "        mirror: W0\n",
    "\"\"\"\n",
    "\n",
    "c = pp.component_from_yaml(yaml)\n",
    "c"
   ]
  },
  {
   "cell_type": "code",
   "execution_count": null,
   "metadata": {},
   "outputs": [],
   "source": [
    "import pp\n",
    "\n",
    "yaml = \"\"\"\n",
    "instances:\n",
    "    mmi_long:\n",
    "      component: mmi1x2\n",
    "      settings:\n",
    "        width_mmi: 4.5\n",
    "        length_mmi: 5\n",
    "placements:        \n",
    "    mmi_long:\n",
    "        x: 0\n",
    "        y: 0\n",
    "\"\"\"\n",
    "\n",
    "c = pp.component_from_yaml(yaml)\n",
    "c.show()\n",
    "c.plot()"
   ]
  },
  {
   "cell_type": "code",
   "execution_count": null,
   "metadata": {},
   "outputs": [],
   "source": [
    "import pp\n",
    "\n",
    "yaml = \"\"\"\n",
    "instances:\n",
    "    mmi_long:\n",
    "      component: mmi1x2\n",
    "      settings:\n",
    "        width_mmi: 4.5\n",
    "        length_mmi: 5\n",
    "placements:        \n",
    "    mmi_long:\n",
    "        x: 0\n",
    "        y: 0\n",
    "        mirror: 25\n",
    "ports:\n",
    "    W0: mmi_long,E0\n",
    "    W1: mmi_long,E1\n",
    "    E0: mmi_long,W0\n",
    "\"\"\"\n",
    "\n",
    "c = pp.component_from_yaml(yaml)\n",
    "c.show()\n",
    "c.plot()"
   ]
  },
  {
   "cell_type": "code",
   "execution_count": null,
   "metadata": {},
   "outputs": [],
   "source": [
    "import pp\n",
    "\n",
    "yaml = \"\"\"\n",
    "instances:\n",
    "    mmi_long:\n",
    "      component: mmi1x2\n",
    "      settings:\n",
    "        width_mmi: 4.5\n",
    "        length_mmi: 5\n",
    "placements:        \n",
    "    mmi_long:\n",
    "        port: W0\n",
    "        x: 10\n",
    "        y: 20\n",
    "        rotation: 90\n",
    "\"\"\"\n",
    "\n",
    "c = pp.component_from_yaml(yaml)\n",
    "c.show()\n",
    "c.plot()"
   ]
  },
  {
   "cell_type": "code",
   "execution_count": null,
   "metadata": {},
   "outputs": [],
   "source": [
    "import pp\n",
    "\n",
    "yaml = \"\"\"\n",
    "instances:\n",
    "    mmi_long:\n",
    "      component: mmi1x2\n",
    "      settings:\n",
    "        width_mmi: 4.5\n",
    "        length_mmi: 5\n",
    "placements:        \n",
    "    mmi_long:\n",
    "        port: W0\n",
    "        x: 10\n",
    "        y: 20\n",
    "        rotation: 90\n",
    "ports:\n",
    "    N0: mmi_long,E0\n",
    "    N1: mmi_long,E1\n",
    "    S0: mmi_long,W0\n",
    "\"\"\"\n",
    "\n",
    "c = pp.component_from_yaml(yaml)\n",
    "c.show()\n",
    "c.plot()"
   ]
  },
  {
   "cell_type": "code",
   "execution_count": null,
   "metadata": {},
   "outputs": [],
   "source": [
    "c.size_info.north"
   ]
  },
  {
   "cell_type": "code",
   "execution_count": null,
   "metadata": {},
   "outputs": [],
   "source": [
    "c.size_info.east"
   ]
  },
  {
   "cell_type": "markdown",
   "metadata": {},
   "source": [
    "## connections\n",
    "\n",
    "You can connect any two instances by defining a `connections` section in the YAML file.\n",
    "\n",
    "it follows the syntax.\n",
    "\n",
    "`instance_source,port : instance_destination,port`"
   ]
  },
  {
   "cell_type": "code",
   "execution_count": null,
   "metadata": {},
   "outputs": [],
   "source": [
    "import pp\n",
    "\n",
    "yaml = \"\"\"\n",
    "instances:\n",
    "    b:\n",
    "      component: bend_circular\n",
    "    mmi_long:\n",
    "      component: mmi1x2\n",
    "      settings:\n",
    "        width_mmi: 4.5\n",
    "        length_mmi: 10\n",
    "    mmi_short:\n",
    "      component: mmi1x2\n",
    "      settings:\n",
    "        width_mmi: 4.5\n",
    "        length_mmi: 5\n",
    "placements:\n",
    "    mmi_short:\n",
    "        port: W0\n",
    "        x: 10\n",
    "        y: 20\n",
    "connections:\n",
    "    b,W0 : mmi_short,E1\n",
    "    mmi_long,W0: b, N0\n",
    "\n",
    "ports:\n",
    "    W0: mmi_short,W0\n",
    "\"\"\"\n",
    "\n",
    "\n",
    "c = pp.component_from_yaml(yaml)\n",
    "c.show()\n",
    "c.plot()"
   ]
  },
  {
   "cell_type": "code",
   "execution_count": null,
   "metadata": {},
   "outputs": [],
   "source": [
    "from omegaconf import OmegaConf\n",
    "import io"
   ]
  },
  {
   "cell_type": "code",
   "execution_count": null,
   "metadata": {},
   "outputs": [],
   "source": [
    "d = OmegaConf.load(io.StringIO(\n",
    "\"\"\"\n",
    "x: mmi_short,E0 10\n",
    "dx: 10\n",
    "\n",
    "\"\"\"\n",
    "))\n",
    "d"
   ]
  },
  {
   "cell_type": "code",
   "execution_count": null,
   "metadata": {},
   "outputs": [],
   "source": [
    "d.keys()"
   ]
  },
  {
   "cell_type": "markdown",
   "metadata": {},
   "source": [
    "**Relative port placing**\n",
    "\n",
    "You can also place a component with respect to another instance port\n",
    "\n",
    "You can also define an x and y offset with `dx` and `dy`"
   ]
  },
  {
   "cell_type": "code",
   "execution_count": null,
   "metadata": {},
   "outputs": [],
   "source": [
    "import pp\n",
    "\n",
    "yaml = \"\"\"\n",
    "instances:\n",
    "    mmi_long:\n",
    "      component: mmi1x2\n",
    "      settings:\n",
    "        width_mmi: 4.5\n",
    "        length_mmi: 10\n",
    "    mmi_short:\n",
    "      component: mmi1x2\n",
    "      settings:\n",
    "        width_mmi: 4.5\n",
    "        length_mmi: 5\n",
    "\n",
    "placements:\n",
    "    mmi_short:\n",
    "        port: W0\n",
    "        x: 0\n",
    "        y: 0\n",
    "    mmi_long:\n",
    "        port: W0\n",
    "        x: mmi_short,E1\n",
    "        y: mmi_short,E1\n",
    "        dx : 10\n",
    "        dy: -10\n",
    "\"\"\"\n",
    "\n",
    "\n",
    "c = pp.component_from_yaml(yaml)\n",
    "c.show()\n",
    "c.plot()"
   ]
  },
  {
   "cell_type": "markdown",
   "metadata": {},
   "source": [
    "**Cicular reference warning**\n",
    "\n",
    "You have to be careful not doing a circuilar reference"
   ]
  },
  {
   "cell_type": "code",
   "execution_count": null,
   "metadata": {},
   "outputs": [],
   "source": [
    "import pp\n",
    "\n",
    "yaml = \"\"\"\n",
    "instances:\n",
    "    mmi_long:\n",
    "      component: mmi1x2\n",
    "      settings:\n",
    "        width_mmi: 4.5\n",
    "        length_mmi: 10\n",
    "    mmi_short:\n",
    "      component: mmi1x2\n",
    "      settings:\n",
    "        width_mmi: 4.5\n",
    "        length_mmi: 5\n",
    "\n",
    "placements:\n",
    "    mmi_short:\n",
    "        port: W0\n",
    "        x: mmi_long,E1\n",
    "        y: mmi_long,E1\n",
    "    mmi_long:\n",
    "        port: W0\n",
    "        x: mmi_short,E1\n",
    "        y: mmi_short,E1\n",
    "        dx : 10\n",
    "        dy: 20\n",
    "\"\"\"\n",
    "\n",
    "pp.component_from_yaml(yaml) "
   ]
  },
  {
   "cell_type": "markdown",
   "metadata": {},
   "source": [
    "## routes\n",
    "\n",
    "You can define routes between two instanes by defining a `routes` section in YAML\n",
    "\n",
    "it follows the syntax\n",
    "\n",
    "```YAML\n",
    "\n",
    "routes:\n",
    "    route_name:\n",
    "        links:\n",
    "            instance_source,port: instance_destination,port\n",
    "        settings:  # for the route (optional)\n",
    "            waveguide: strip\n",
    "            width: 1.2\n",
    "\n",
    "```"
   ]
  },
  {
   "cell_type": "code",
   "execution_count": null,
   "metadata": {},
   "outputs": [],
   "source": [
    "import pp\n",
    "\n",
    "yaml = \"\"\"\n",
    "instances:\n",
    "    mmi_long:\n",
    "      component: mmi1x2\n",
    "      settings:\n",
    "        width_mmi: 4.5\n",
    "        length_mmi: 10\n",
    "    mmi_short:\n",
    "      component: mmi1x2\n",
    "      settings:\n",
    "        width_mmi: 4.5\n",
    "        length_mmi: 5\n",
    "placements:\n",
    "    mmi_long:\n",
    "        x: 100\n",
    "        y: 100\n",
    "routes:\n",
    "    optical:\n",
    "        links:\n",
    "            mmi_short,E1: mmi_long,W0\n",
    "        settings:\n",
    "            waveguide: strip_heater\n",
    "\"\"\"\n",
    "\n",
    "\n",
    "c = pp.component_from_yaml(yaml)\n",
    "c.show()\n",
    "c.plot()"
   ]
  },
  {
   "cell_type": "markdown",
   "metadata": {},
   "source": [
    "You can **rotate** and instance specifying the angle in degrees"
   ]
  },
  {
   "cell_type": "markdown",
   "metadata": {},
   "source": [
    "You can also define ports for the component"
   ]
  },
  {
   "cell_type": "code",
   "execution_count": null,
   "metadata": {},
   "outputs": [],
   "source": [
    "import pp\n",
    "\n",
    "yaml = \"\"\"\n",
    "instances:\n",
    "    mmi_long:\n",
    "      component: mmi1x2\n",
    "      settings:\n",
    "        width_mmi: 4.5\n",
    "        length_mmi: 10\n",
    "    mmi_short:\n",
    "      component: mmi1x2\n",
    "      settings:\n",
    "        width_mmi: 4.5\n",
    "        length_mmi: 5\n",
    "        \n",
    "placements:\n",
    "    mmi_long:\n",
    "        rotation: 180\n",
    "        x: 100\n",
    "        y: 100\n",
    "        \n",
    "routes:\n",
    "    optical:\n",
    "        links:\n",
    "            mmi_short,E1: mmi_long,E0\n",
    "    \n",
    "ports:\n",
    "    E0: mmi_short,W0\n",
    "    W0: mmi_long,W0\n",
    "    \n",
    "\"\"\"\n",
    "\n",
    "c = pp.component_from_yaml(yaml)\n",
    "c.show()\n",
    "c.plot()"
   ]
  },
  {
   "cell_type": "markdown",
   "metadata": {},
   "source": [
    "You can also access the routes in the newly created component"
   ]
  },
  {
   "cell_type": "code",
   "execution_count": null,
   "metadata": {},
   "outputs": [],
   "source": [
    "r = c.routes['mmi_short,E1:mmi_long,E0']\n",
    "r"
   ]
  },
  {
   "cell_type": "markdown",
   "metadata": {},
   "source": [
    "As well as the instances"
   ]
  },
  {
   "cell_type": "code",
   "execution_count": null,
   "metadata": {},
   "outputs": [],
   "source": [
    "c.instances"
   ]
  },
  {
   "cell_type": "markdown",
   "metadata": {},
   "source": [
    "## instances, placements, connections, ports, routes\n",
    "\n",
    "Lets combine all you learned so far.\n",
    "\n",
    "You can define the netlist connections of a component by a netlist in YAML format\n",
    "\n",
    "Note that you define the connections as `instance_source.port ->\n",
    "instance_destination.port` so the order is important and therefore you can only\n",
    "change the position of the `instance_destination`\n",
    "\n",
    "For example, this coupler has the center coupling region at (100, 0)"
   ]
  },
  {
   "cell_type": "code",
   "execution_count": null,
   "metadata": {},
   "outputs": [],
   "source": [
    "pp.components.coupler_symmetric()"
   ]
  },
  {
   "cell_type": "code",
   "execution_count": null,
   "metadata": {
    "attributes": {
     "classes": [],
     "id": "",
     "n": "5"
    }
   },
   "outputs": [],
   "source": [
    "import pp\n",
    "\n",
    "gap = 0.2\n",
    "wg_width = 0.5\n",
    "length = 10\n",
    "\n",
    "yaml = f\"\"\"\n",
    "instances:\n",
    "    left:\n",
    "      component: coupler_symmetric\n",
    "      settings:\n",
    "        gap: {gap}\n",
    "        width: {wg_width}\n",
    "    right:\n",
    "      component: coupler_symmetric\n",
    "      settings:\n",
    "        gap: {gap}\n",
    "        width: {wg_width}\n",
    "    center:\n",
    "      component: coupler_straight\n",
    "      settings:\n",
    "        gap: {gap}\n",
    "        width: {wg_width}\n",
    "        length: {length}\n",
    "\n",
    "placements:\n",
    "    center:\n",
    "        x: 100\n",
    "        y: 0\n",
    "    left:\n",
    "        mirror: True\n",
    "\n",
    "connections:\n",
    "    center,W0: left,W0\n",
    "    right,W0: center,E0\n",
    "\n",
    "ports:\n",
    "    w0: left,E0\n",
    "    w1: left,E1\n",
    "    e0: right,E0\n",
    "    e1: right,E1\n",
    "\n",
    "\"\"\"\n",
    "\n",
    "c = pp.component_from_yaml(yaml)\n",
    "c"
   ]
  },
  {
   "cell_type": "markdown",
   "metadata": {},
   "source": [
    "While this one has the sbend_left_coupler `sl` centered at (100, 0)"
   ]
  },
  {
   "cell_type": "code",
   "execution_count": null,
   "metadata": {},
   "outputs": [],
   "source": [
    "import pp\n",
    "\n",
    "yaml = \"\"\"\n",
    "instances:\n",
    "    mmi_long:\n",
    "      component: mmi1x2\n",
    "      settings:\n",
    "        width_mmi: 4.5\n",
    "        length_mmi: 10\n",
    "    mmi_short:\n",
    "      component: mmi1x2\n",
    "      settings:\n",
    "        width_mmi: 4.5\n",
    "        length_mmi: 5\n",
    "placements:\n",
    "    mmi_long:\n",
    "        x: 100\n",
    "        y: 100\n",
    "routes:\n",
    "    route1:\n",
    "        links:\n",
    "            mmi_short,E1: mmi_long,W0\n",
    "\"\"\"\n",
    "\n",
    "\n",
    "c = pp.component_from_yaml(yaml)\n",
    "c"
   ]
  },
  {
   "cell_type": "markdown",
   "metadata": {},
   "source": [
    "You can **rotate** and instance specifying the angle in degrees"
   ]
  },
  {
   "cell_type": "code",
   "execution_count": null,
   "metadata": {},
   "outputs": [],
   "source": [
    "import pp\n",
    "\n",
    "yaml = \"\"\"\n",
    "instances:\n",
    "    mmi_long:\n",
    "      component: mmi1x2\n",
    "      settings:\n",
    "        width_mmi: 4.5\n",
    "        length_mmi: 10\n",
    "    mmi_short:\n",
    "      component: mmi1x2\n",
    "      settings:\n",
    "        width_mmi: 4.5\n",
    "        length_mmi: 5\n",
    "        \n",
    "placements:\n",
    "    mmi_long:\n",
    "        rotation: 180\n",
    "        x: 100\n",
    "        y: 100\n",
    "routes:\n",
    "    mmi_connect:\n",
    "        links:\n",
    "            mmi_short,E1: mmi_long,E0\n",
    "\"\"\"\n",
    "\n",
    "\n",
    "c = pp.component_from_yaml(yaml)\n",
    "c"
   ]
  },
  {
   "cell_type": "markdown",
   "metadata": {},
   "source": [
    "You can also define ports for the component"
   ]
  },
  {
   "cell_type": "code",
   "execution_count": null,
   "metadata": {},
   "outputs": [],
   "source": [
    "import pp\n",
    "\n",
    "yaml = \"\"\"\n",
    "instances:\n",
    "    mmi_long:\n",
    "      component: mmi1x2\n",
    "      settings:\n",
    "        width_mmi: 4.5\n",
    "        length_mmi: 10\n",
    "    mmi_short:\n",
    "      component: mmi1x2\n",
    "      settings:\n",
    "        width_mmi: 4.5\n",
    "        length_mmi: 5\n",
    "        \n",
    "placements:\n",
    "    mmi_long:\n",
    "        rotation: 180\n",
    "        x: 100\n",
    "        y: 100\n",
    "        \n",
    "routes:\n",
    "    optical:\n",
    "        links:\n",
    "            mmi_short,E1: mmi_long,E0\n",
    "    \n",
    "ports:\n",
    "    E0: mmi_short,W0\n",
    "    W0: mmi_long,W0\n",
    "\"\"\"\n",
    "\n",
    "c = pp.component_from_yaml(yaml)\n",
    "c"
   ]
  },
  {
   "cell_type": "code",
   "execution_count": null,
   "metadata": {},
   "outputs": [],
   "source": [
    "c.routes"
   ]
  },
  {
   "cell_type": "code",
   "execution_count": null,
   "metadata": {},
   "outputs": [],
   "source": [
    "r = c.routes['mmi_short,E1:mmi_long,E0']\n",
    "r"
   ]
  },
  {
   "cell_type": "code",
   "execution_count": null,
   "metadata": {},
   "outputs": [],
   "source": [
    "c.instances"
   ]
  },
  {
   "cell_type": "code",
   "execution_count": null,
   "metadata": {},
   "outputs": [],
   "source": [
    "c.routes"
   ]
  },
  {
   "cell_type": "markdown",
   "metadata": {},
   "source": [
    "You can define several routes that will be connected using `pp.routing.get_bundle` "
   ]
  },
  {
   "cell_type": "code",
   "execution_count": null,
   "metadata": {},
   "outputs": [],
   "source": [
    "import pp\n",
    "\n",
    "sample_2x2_connections_solution = \"\"\"\n",
    "name:\n",
    "    connections_2x2_problem\n",
    "\n",
    "instances:\n",
    "    mmi_bottom:\n",
    "      component: mmi2x2\n",
    "    mmi_top:\n",
    "      component: mmi2x2\n",
    "\n",
    "placements:\n",
    "    mmi_top:\n",
    "        x: 100\n",
    "        y: 100\n",
    "\n",
    "routes:\n",
    "    optical:\n",
    "        links:\n",
    "            mmi_bottom,E0: mmi_top,W0\n",
    "            mmi_bottom,E1: mmi_top,W1\n",
    "\n",
    "\"\"\"\n",
    "\n",
    "c = pp.component_from_yaml(sample_2x2_connections_solution)\n",
    "c"
   ]
  },
  {
   "cell_type": "markdown",
   "metadata": {},
   "source": [
    "You can also add custom component_factories to `pp.component_from_yaml`"
   ]
  },
  {
   "cell_type": "code",
   "execution_count": null,
   "metadata": {},
   "outputs": [],
   "source": [
    "@pp.cell\n",
    "def pad_new(size=(100, 100), layer=pp.LAYER.WG):\n",
    "    c = pp.Component()\n",
    "    compass = c << pp.components.compass(size=size, layer=layer)\n",
    "    c.ports = compass.ports\n",
    "    return c\n",
    "\n",
    "c = pad_new(cache=False)\n",
    "c"
   ]
  },
  {
   "cell_type": "code",
   "execution_count": null,
   "metadata": {},
   "outputs": [],
   "source": [
    "import pp\n",
    "from pp.components import LIBRARY\n",
    "\n",
    "LIBRARY.register(pad_new)\n",
    "\n",
    "sample_custom_component = \"\"\"\n",
    "name:\n",
    "    connections_2x2_problem\n",
    "\n",
    "instances:\n",
    "    bot:\n",
    "      component: pad_new\n",
    "    top:\n",
    "      component: pad_new\n",
    "\n",
    "placements:\n",
    "    top:\n",
    "        x: 0\n",
    "        y: 200\n",
    "\"\"\"\n",
    "\n",
    "c = pp.component_from_yaml(sample_custom_component, library=LIBRARY)\n",
    "c"
   ]
  },
  {
   "cell_type": "code",
   "execution_count": null,
   "metadata": {},
   "outputs": [],
   "source": [
    "sample_custom_component = \"\"\"\n",
    "name:\n",
    "    custom_routes\n",
    "\n",
    "instances:\n",
    "    t:\n",
    "      component: pad_array\n",
    "      settings:\n",
    "          port_list: ['S']\n",
    "    b:\n",
    "      component: pad_array\n",
    "\n",
    "placements:\n",
    "    t:\n",
    "        x: 200\n",
    "        y: 400\n",
    "routes:\n",
    "    electrical:\n",
    "        settings:\n",
    "            radius: 5\n",
    "            waveguide: metal_routing\n",
    "        links:\n",
    "            t,S0: b,N0\n",
    "            t,S5: b,N5\n",
    "\"\"\"\n",
    "\n",
    "\n",
    "c = pp.component_from_yaml(sample_custom_component)\n",
    "c"
   ]
  },
  {
   "cell_type": "markdown",
   "metadata": {},
   "source": [
    "\n",
    "Also, you can define route aliases, that have different settings and specify the route `factory` as a parameter as well as the `settings` for that particular route alias."
   ]
  },
  {
   "cell_type": "code",
   "execution_count": null,
   "metadata": {},
   "outputs": [],
   "source": [
    "import pp\n",
    "\n",
    "sample_settings = \"\"\"\n",
    "name: sample_settings\n",
    "\n",
    "instances:\n",
    "    bl:\n",
    "      component: pad\n",
    "    tl:\n",
    "      component: pad\n",
    "    br:\n",
    "      component: pad\n",
    "    tr:\n",
    "      component: pad\n",
    "\n",
    "placements:\n",
    "    tl:\n",
    "        x: 0\n",
    "        y: 200\n",
    "\n",
    "    br:\n",
    "        x: 400\n",
    "        y: 400\n",
    "\n",
    "    tr:\n",
    "        x: 400\n",
    "        y: 600\n",
    "\n",
    "routes:\n",
    "    optical_r100:\n",
    "        settings:\n",
    "            radius: 100\n",
    "            waveguide: metal_routing\n",
    "        links:\n",
    "            tl,N: tr,N\n",
    "    optical_r200:\n",
    "        settings:\n",
    "            radius: 200\n",
    "            waveguide: metal_routing\n",
    "        links:\n",
    "            bl,S: br,E\n",
    "\"\"\"\n",
    "pp.component_from_yaml(sample_settings)"
   ]
  },
  {
   "cell_type": "code",
   "execution_count": null,
   "metadata": {},
   "outputs": [],
   "source": [
    "sample_custom_component = \"\"\"\n",
    "\n",
    "instances:\n",
    "    t:\n",
    "      component: pad_array\n",
    "      settings:\n",
    "          port_list: ['S']\n",
    "    b:\n",
    "      component: pad_array\n",
    "\n",
    "placements:\n",
    "    t:\n",
    "        x: 200\n",
    "        y: 400\n",
    "routes:\n",
    "    optical:\n",
    "        settings: \n",
    "            radius: 50\n",
    "            waveguide: metal_routing\n",
    "        links:\n",
    "            t,S0: b,N0\n",
    "            t,S5: b,N5\n",
    "\"\"\"\n",
    "\n",
    "pp.component_from_yaml(sample_custom_component)"
   ]
  },
  {
   "cell_type": "code",
   "execution_count": null,
   "metadata": {},
   "outputs": [],
   "source": [
    "import pp\n",
    "\n",
    "sample = \"\"\"\n",
    "\n",
    "instances:\n",
    "    t:\n",
    "      component: pad_array\n",
    "      settings:\n",
    "          port_list: ['S']\n",
    "    b:\n",
    "      component: pad_array\n",
    "\n",
    "placements:\n",
    "    t:\n",
    "        x: 100\n",
    "        y: 1000\n",
    "routes:\n",
    "    route1:\n",
    "        routing_strategy: get_bundle_path_length_match\n",
    "        settings: \n",
    "            extra_length: 500\n",
    "            waveguide: metal_routing\n",
    "        links:\n",
    "            t,S0: b,N0\n",
    "            t,S5: b,N4\n",
    "\"\"\"\n",
    "\n",
    "c = pp.component_from_yaml(sample)\n",
    "print(c.routes['t,S0:b,N0'])\n",
    "c"
   ]
  },
  {
   "cell_type": "code",
   "execution_count": null,
   "metadata": {},
   "outputs": [],
   "source": [
    "import pp\n",
    "\n",
    "sample = \"\"\"\n",
    "instances:\n",
    "    t:\n",
    "      component: pad_array\n",
    "      settings:\n",
    "          port_list: ['S']\n",
    "    b:\n",
    "      component: pad_array\n",
    "      settings:\n",
    "          port_list: ['N']\n",
    "\n",
    "placements:\n",
    "    t:\n",
    "        x: -250\n",
    "        y: 1000\n",
    "routes:\n",
    "    route1:\n",
    "        routing_strategy: get_bundle_from_waypoints\n",
    "        settings:\n",
    "            waypoints:\n",
    "                - [0, 300]\n",
    "                - [400, 300]\n",
    "                - [400, 400]\n",
    "                - [-250, 400]\n",
    "            auto_widen: False\n",
    "        links:\n",
    "            b,N0: t,S0\n",
    "            b,N1: t,S1\n",
    "\n",
    "\"\"\"\n",
    "\n",
    "c = pp.component_from_yaml(sample)\n",
    "c"
   ]
  },
  {
   "cell_type": "code",
   "execution_count": null,
   "metadata": {},
   "outputs": [],
   "source": [
    "from omegaconf import OmegaConf\n",
    "import io\n",
    "\n",
    "d = OmegaConf.load(io.StringIO(\"\"\"\n",
    "way_points: \n",
    "    - [0,0]\n",
    "    - [0, 600]\n",
    "    - [-250, 600]\n",
    "    - [-250, 1000]\n",
    "\n",
    "demo: a\n",
    "\"\"\"))"
   ]
  },
  {
   "cell_type": "code",
   "execution_count": null,
   "metadata": {},
   "outputs": [],
   "source": [
    "d = OmegaConf.load(io.StringIO(\"way_points:  [[0,0], [0, 600], [-250, 600], [-250, 1000]]\"))"
   ]
  },
  {
   "cell_type": "code",
   "execution_count": null,
   "metadata": {},
   "outputs": [],
   "source": [
    "d"
   ]
  },
  {
   "cell_type": "code",
   "execution_count": null,
   "metadata": {},
   "outputs": [],
   "source": [
    "import numpy as np\n",
    "\n",
    "c = pp.Component('waypoints_sample')\n",
    "route = pp.routing.get_route_from_waypoints(\n",
    "    waypoints=np.array(d['way_points'])\n",
    ")\n",
    "\n",
    "c.add(route.references)\n",
    "c"
   ]
  },
  {
   "cell_type": "markdown",
   "metadata": {},
   "source": [
    "Note that you define the connections as `instance_source.port -> instance_destination.port` so the order is important and therefore you can only change the position of the `instance_destination`"
   ]
  },
  {
   "cell_type": "markdown",
   "metadata": {},
   "source": [
    "**Custom factories**\n",
    "\n",
    "You can leverage netlist defined components to define more complex circuits"
   ]
  },
  {
   "cell_type": "code",
   "execution_count": null,
   "metadata": {},
   "outputs": [],
   "source": [
    "import pp\n",
    "\n",
    "@pp.cell\n",
    "def mzi_custom(length_x=0):\n",
    "    netlist = f\"\"\"\n",
    "instances:\n",
    "    mzi:\n",
    "        component: mzi_phase_shifter\n",
    "        \n",
    "    pads:\n",
    "        component: pad_array\n",
    "        settings:\n",
    "            n: 2\n",
    "            port_list: \n",
    "                - S\n",
    "\n",
    "placements:\n",
    "    mzi:\n",
    "        x: 0\n",
    "    pads:\n",
    "        y: 200\n",
    "        x:  50\n",
    "ports:\n",
    "    W0: mzi,W0\n",
    "    E0: mzi,E0\n",
    "    \n",
    "    \n",
    "routes:\n",
    "    electrical:\n",
    "        links:\n",
    "            mzi,N0: pads,S0\n",
    "            mzi,N1: pads,S1\n",
    "            \n",
    "        settings:\n",
    "            waveguide: metal_routing\n",
    "\n",
    "\"\"\"\n",
    "    return pp.component_from_yaml(netlist)\n",
    "\n",
    "\n",
    "c = mzi_custom(length_x=10, cache=False)\n",
    "c.show()\n",
    "c.plot()"
   ]
  },
  {
   "cell_type": "code",
   "execution_count": null,
   "metadata": {},
   "outputs": [],
   "source": [
    "c = pp.components.mzi()"
   ]
  },
  {
   "cell_type": "code",
   "execution_count": null,
   "metadata": {},
   "outputs": [],
   "source": [
    "c.plot_netlist()"
   ]
  },
  {
   "cell_type": "code",
   "execution_count": null,
   "metadata": {},
   "outputs": [],
   "source": [
    "n = c.get_netlist()"
   ]
  },
  {
   "cell_type": "code",
   "execution_count": null,
   "metadata": {},
   "outputs": [],
   "source": [
    "print(c.get_netlist_yaml())"
   ]
  },
  {
   "cell_type": "markdown",
   "metadata": {},
   "source": [
    "## get_netlist (Component -> YAML)\n",
    "\n",
    "Any component exports its netlist `get_netlist` and returns an `OmegaConf` dict that can be easily converted into JSON and YAML.\n",
    "\n",
    "While `component_from_yaml` converts YAML -> Component\n",
    "\n",
    "`get_netlist` converts Component -> YAML"
   ]
  },
  {
   "cell_type": "code",
   "execution_count": null,
   "metadata": {},
   "outputs": [],
   "source": [
    "import io\n",
    "from omegaconf import OmegaConf\n",
    "import pp"
   ]
  },
  {
   "cell_type": "code",
   "execution_count": null,
   "metadata": {},
   "outputs": [],
   "source": [
    "c = pp.components.mzi()\n",
    "c"
   ]
  },
  {
   "cell_type": "code",
   "execution_count": null,
   "metadata": {},
   "outputs": [],
   "source": [
    "c.plot_netlist()"
   ]
  },
  {
   "cell_type": "code",
   "execution_count": null,
   "metadata": {},
   "outputs": [],
   "source": [
    "netlist = c.get_netlist()"
   ]
  },
  {
   "cell_type": "code",
   "execution_count": null,
   "metadata": {},
   "outputs": [],
   "source": [
    "c.write_netlist('mzi.yml', full_settings=True)"
   ]
  },
  {
   "cell_type": "code",
   "execution_count": null,
   "metadata": {},
   "outputs": [],
   "source": [
    "n = OmegaConf.load('mzi.yml')"
   ]
  },
  {
   "cell_type": "code",
   "execution_count": null,
   "metadata": {},
   "outputs": [],
   "source": [
    "i = list(n['instances'].keys())\n",
    "i"
   ]
  },
  {
   "cell_type": "code",
   "execution_count": null,
   "metadata": {},
   "outputs": [],
   "source": [
    "n['instances'][i[0]]['settings']"
   ]
  },
  {
   "cell_type": "code",
   "execution_count": null,
   "metadata": {},
   "outputs": [],
   "source": [
    "import pp\n",
    "from omegaconf import OmegaConf\n",
    "import pathlib\n",
    "\n",
    "c1 = pp.component_from_yaml('mzi.yml')\n",
    "c1"
   ]
  },
  {
   "cell_type": "code",
   "execution_count": null,
   "metadata": {},
   "outputs": [],
   "source": [
    "n = c1.get_netlist(full_settings=True)\n",
    "connections = n['connections']\n",
    "len(connections)"
   ]
  },
  {
   "cell_type": "markdown",
   "metadata": {},
   "source": [
    "## Plot netlist\n",
    "\n",
    "You can plot the netlist of components.\n",
    "\n",
    "Every gdsfactory component can either be defined by its netlist or using layout friendly functions such as component sequence to define it and then `get_netlist()` method.\n",
    "\n",
    "Connections are determined by extracting all the ports of a component, and asuming that ports with the same (x, y) are connected.\n",
    "\n",
    " When you do `get_netlist()` for a component it will only show connections for the instances that belong to that component (it trims the netlist). So despite having  a lot of connections, it will show only the meaningful connections for that component. For example, a ring has a ring_coupler. but if you want to digg deeper, the connections that made that ring coupler are still available."
   ]
  },
  {
   "cell_type": "code",
   "execution_count": null,
   "metadata": {},
   "outputs": [],
   "source": [
    "import pp"
   ]
  },
  {
   "cell_type": "code",
   "execution_count": null,
   "metadata": {},
   "outputs": [],
   "source": [
    "c = pp.components.mzi()\n",
    "c"
   ]
  },
  {
   "cell_type": "code",
   "execution_count": null,
   "metadata": {},
   "outputs": [],
   "source": [
    "c = pp.components.mzi()\n",
    "n = c.get_netlist()\n",
    "print(c.get_netlist_yaml())"
   ]
  },
  {
   "cell_type": "code",
   "execution_count": null,
   "metadata": {},
   "outputs": [],
   "source": [
    "c.plot_netlist()"
   ]
  },
  {
   "cell_type": "code",
   "execution_count": null,
   "metadata": {},
   "outputs": [],
   "source": [
    "n.keys()"
   ]
  },
  {
   "cell_type": "code",
   "execution_count": null,
   "metadata": {},
   "outputs": [],
   "source": [
    "import pp\n",
    "\n",
    "yaml =  \"\"\"\n",
    "instances:\n",
    "\n",
    "    mmi1x2_12_0:\n",
    "        component: mmi1x2\n",
    "\n",
    "    bend_circular_R10p00_32_4:\n",
    "      component: bend_circular\n",
    "    \n",
    "    straight_L1p00_35_11:\n",
    "        component: straight\n",
    "        settings:\n",
    "            length: 10\n",
    "            layer: [2, 0]\n",
    "\n",
    "connections:\n",
    "    bend_circular_R10p00_32_4,W0: mmi1x2_12_0,E1\n",
    "    straight_L1p00_35_11,W0: bend_circular_R10p00_32_4,N0\n",
    "\"\"\"\n",
    "\n",
    "c = pp.component_from_yaml(yaml)\n",
    "c.show()\n",
    "c.plot()\n",
    "c.name = \"mmi_with_bend_circular\"\n",
    "print(c.name)"
   ]
  },
  {
   "cell_type": "code",
   "execution_count": null,
   "metadata": {},
   "outputs": [],
   "source": [
    "n = c.get_netlist()"
   ]
  },
  {
   "cell_type": "code",
   "execution_count": null,
   "metadata": {},
   "outputs": [],
   "source": [
    "print(c.get_netlist_yaml())"
   ]
  },
  {
   "cell_type": "code",
   "execution_count": null,
   "metadata": {},
   "outputs": [],
   "source": [
    "n['connections']"
   ]
  },
  {
   "cell_type": "code",
   "execution_count": null,
   "metadata": {},
   "outputs": [],
   "source": [
    "c.plot_netlist()"
   ]
  },
  {
   "cell_type": "code",
   "execution_count": null,
   "metadata": {},
   "outputs": [],
   "source": [
    "c = pp.components.mzi()\n",
    "c.plot()\n",
    "c.plot_netlist()"
   ]
  },
  {
   "cell_type": "code",
   "execution_count": null,
   "metadata": {},
   "outputs": [],
   "source": [
    "c = pp.components.ring_single()\n",
    "c"
   ]
  },
  {
   "cell_type": "code",
   "execution_count": null,
   "metadata": {},
   "outputs": [],
   "source": [
    "c.plot_netlist()"
   ]
  },
  {
   "cell_type": "code",
   "execution_count": null,
   "metadata": {},
   "outputs": [],
   "source": [
    "c = pp.components.ring_double()\n",
    "c"
   ]
  },
  {
   "cell_type": "code",
   "execution_count": null,
   "metadata": {},
   "outputs": [],
   "source": [
    "c.plot_netlist()"
   ]
  },
  {
   "cell_type": "code",
   "execution_count": null,
   "metadata": {},
   "outputs": [],
   "source": [
    "import pp\n",
    "\n",
    "c = pp.components.ring_single()\n",
    "c"
   ]
  },
  {
   "cell_type": "code",
   "execution_count": null,
   "metadata": {},
   "outputs": [],
   "source": [
    "c.plot_netlist()"
   ]
  },
  {
   "cell_type": "code",
   "execution_count": null,
   "metadata": {},
   "outputs": [],
   "source": [
    "c = pp.components.ring_double()\n",
    "c"
   ]
  },
  {
   "cell_type": "code",
   "execution_count": null,
   "metadata": {},
   "outputs": [],
   "source": [
    "c.plot_netlist()"
   ]
  },
  {
   "cell_type": "code",
   "execution_count": null,
   "metadata": {},
   "outputs": [],
   "source": [
    "print(c.get_netlist_yaml())"
   ]
  },
  {
   "cell_type": "code",
   "execution_count": null,
   "metadata": {},
   "outputs": [],
   "source": [
    "c = pp.components.mzi()\n",
    "c"
   ]
  },
  {
   "cell_type": "code",
   "execution_count": null,
   "metadata": {},
   "outputs": [],
   "source": [
    "c.plot_netlist()"
   ]
  },
  {
   "cell_type": "code",
   "execution_count": null,
   "metadata": {},
   "outputs": [],
   "source": [
    "c = pp.components.mzit()\n",
    "c"
   ]
  },
  {
   "cell_type": "code",
   "execution_count": null,
   "metadata": {},
   "outputs": [],
   "source": [
    "c.plot_netlist()"
   ]
  },
  {
   "cell_type": "code",
   "execution_count": null,
   "metadata": {},
   "outputs": [],
   "source": [
    "c = pp.components.mzi_lattice()\n",
    "c"
   ]
  },
  {
   "cell_type": "code",
   "execution_count": null,
   "metadata": {},
   "outputs": [],
   "source": [
    "import pp\n",
    "coupler_lengths = [10, 20, 30]\n",
    "coupler_gaps = [0.1, 0.2, 0.3]\n",
    "delta_lengths = [10, 100]\n",
    "\n",
    "c = pp.components.mzi_lattice(coupler_lengths=coupler_lengths, coupler_gaps=coupler_gaps, delta_lengths=delta_lengths)\n",
    "c"
   ]
  },
  {
   "cell_type": "code",
   "execution_count": null,
   "metadata": {},
   "outputs": [],
   "source": [
    "print(c.get_netlist_yaml())"
   ]
  },
  {
   "cell_type": "code",
   "execution_count": null,
   "metadata": {},
   "outputs": [],
   "source": [
    "c.plot_netlist()"
   ]
  },
  {
   "cell_type": "code",
   "execution_count": null,
   "metadata": {},
   "outputs": [],
   "source": [
    "coupler_lengths = [10, 20, 30, 40]\n",
    "coupler_gaps = [0.1, 0.2, 0.4, 0.5]\n",
    "delta_lengths = [10, 100, 200]\n",
    "\n",
    "c = pp.components.mzi_lattice(coupler_lengths=coupler_lengths, coupler_gaps=coupler_gaps, delta_lengths=delta_lengths)\n",
    "c"
   ]
  },
  {
   "cell_type": "code",
   "execution_count": null,
   "metadata": {},
   "outputs": [],
   "source": [
    "n = c.get_netlist()"
   ]
  },
  {
   "cell_type": "code",
   "execution_count": null,
   "metadata": {},
   "outputs": [],
   "source": [
    "c.plot_netlist()"
   ]
  },
  {
   "cell_type": "code",
   "execution_count": null,
   "metadata": {},
   "outputs": [],
   "source": []
  }
 ],
 "metadata": {
  "kernelspec": {
   "display_name": "Python 3 (ipykernel)",
   "language": "python",
   "name": "python3"
  },
  "language_info": {
   "codemirror_mode": {
    "name": "ipython",
    "version": 3
   },
   "file_extension": ".py",
   "mimetype": "text/x-python",
   "name": "python",
   "nbconvert_exporter": "python",
   "pygments_lexer": "ipython3",
   "version": "3.9.5"
  }
 },
 "nbformat": 4,
 "nbformat_minor": 4
}
