{
 "cells": [
  {
   "cell_type": "markdown",
   "id": "2602414c-b4b5-450e-96c0-a41578706d02",
   "metadata": {},
   "source": [
    "# Electrical routes\n",
    "\n",
    "You can use the same optical routing functions to route metal"
   ]
  },
  {
   "cell_type": "code",
   "execution_count": null,
   "id": "b036a704-f9db-48be-912d-aa8d6eaa94a4",
   "metadata": {},
   "outputs": [],
   "source": [
    "import gdsfactory as gf\n",
    "\n",
    "c = gf.Component(\"pads\")\n",
    "pt = c << gf.c.pad_array(orientation=270, columns=3)\n",
    "pb = c << gf.c.pad_array(orientation=90, columns=3)\n",
    "pt.move((50, 200))\n",
    "c"
   ]
  },
  {
   "cell_type": "markdown",
   "id": "44806be0-9c31-471b-ab3d-a9bc4202f71d",
   "metadata": {},
   "source": [
    "## Single route functions\n",
    "\n",
    "### get_route_electrical\n"
   ]
  },
  {
   "cell_type": "code",
   "execution_count": null,
   "id": "40e52842-c05d-49ed-a09a-d31d4ab7cdd7",
   "metadata": {},
   "outputs": [],
   "source": [
    "route = gf.routing.get_route_electrical(pt.ports[\"e11\"], pb.ports[\"e11\"])\n",
    "c.add(route.references)\n",
    "c"
   ]
  },
  {
   "cell_type": "markdown",
   "id": "e8614758-8437-4d6f-b309-9f607ec84499",
   "metadata": {},
   "source": [
    "### route_quad"
   ]
  },
  {
   "cell_type": "code",
   "execution_count": null,
   "id": "7b374725-3521-4598-814f-eb100f328f24",
   "metadata": {},
   "outputs": [],
   "source": [
    "c = gf.Component(\"pads_routed_quad\")\n",
    "pt = c << gf.c.pad_array(orientation=270, columns=3)\n",
    "pb = c << gf.c.pad_array(orientation=90, columns=3)\n",
    "pt.move((100, 200))\n",
    "route = gf.routing.route_quad(pt.ports[\"e11\"], pb.ports[\"e11\"], layer=(49, 0))\n",
    "c.add(route)"
   ]
  },
  {
   "cell_type": "markdown",
   "id": "45e77af1-7971-43ac-9edf-e342aef27a69",
   "metadata": {},
   "source": [
    "## get_route_from_steps"
   ]
  },
  {
   "cell_type": "code",
   "execution_count": null,
   "id": "b1a684a1-bd56-43e5-b2e9-cce2b6a90d0b",
   "metadata": {},
   "outputs": [],
   "source": [
    "c = gf.Component(\"pads_route_from_steps\")\n",
    "pt = c << gf.c.pad_array(orientation=270, columns=3)\n",
    "pb = c << gf.c.pad_array(orientation=90, columns=3)\n",
    "pt.move((100, 200))\n",
    "route = gf.routing.get_route_from_steps(\n",
    "    pb.ports[\"e11\"],\n",
    "    pt.ports[\"e11\"],\n",
    "    steps=[\n",
    "        {\"y\": 200},\n",
    "    ],\n",
    "    cross_section=gf.cross_section.metal3,\n",
    "    bend=gf.components.wire_corner,\n",
    ")\n",
    "c.add(route.references)\n",
    "c"
   ]
  },
  {
   "cell_type": "markdown",
   "id": "cce19052-dc3d-4e0f-8ed3-bef17fd3c706",
   "metadata": {},
   "source": [
    "## Bundle of routes (get_bundle_electrical)"
   ]
  },
  {
   "cell_type": "code",
   "execution_count": null,
   "id": "eca9f955-6b97-4144-9e94-903c4591744d",
   "metadata": {},
   "outputs": [],
   "source": [
    "import gdsfactory as gf\n",
    "\n",
    "c = gf.Component(\"pads_bundle\")\n",
    "pt = c << gf.c.pad_array(orientation=270, columns=3)\n",
    "pb = c << gf.c.pad_array(orientation=90, columns=3)\n",
    "pt.move((100, 200))\n",
    "c"
   ]
  },
  {
   "cell_type": "code",
   "execution_count": null,
   "id": "433bd44f-f3c8-4fc7-b1f8-e9cab45a25a0",
   "metadata": {},
   "outputs": [],
   "source": [
    "c = gf.Component(\"pads_bundle_steps\")\n",
    "pt = c << gf.c.pad_array(orientation=270, columns=3)\n",
    "pb = c << gf.c.pad_array(orientation=90, columns=3)\n",
    "pt.move((100, 500))\n",
    "\n",
    "routes = gf.routing.get_bundle_from_steps_electrical(\n",
    "    list(reversed(pt.ports.values())),\n",
    "    list(reversed(pb.ports.values())),\n",
    "    end_straight_length=60)\n",
    "\n",
    "for route in routes:\n",
    "    c.add(route.references)\n",
    "c"
   ]
  },
  {
   "cell_type": "code",
   "execution_count": null,
   "id": "28c83646-21c1-4a0f-b03e-a56873b2c71e",
   "metadata": {},
   "outputs": [],
   "source": [
    "c = gf.Component(\"pads_bundle\")\n",
    "pt = c << gf.c.pad_array(orientation=270, columns=3)\n",
    "pb = c << gf.c.pad_array(orientation=90, columns=3)\n",
    "pt.move((100, 200))\n",
    "\n",
    "routes = gf.routing.get_bundle_electrical(pt.ports, pb.ports, end_straight_length=60)\n",
    "\n",
    "for route in routes:\n",
    "    c.add(route.references)\n",
    "c"
   ]
  },
  {
   "cell_type": "code",
   "execution_count": null,
   "id": "b0d89acf-f5a3-4682-97ce-11e593a1d500",
   "metadata": {},
   "outputs": [],
   "source": [
    "c = gf.Component(\"pads_bundle_steps\")\n",
    "pt = c << gf.c.pad_array(orientation=270, columns=3)\n",
    "pb = c << gf.c.pad_array(orientation=90, columns=3)\n",
    "pt.move((100, 500))\n",
    "\n",
    "routes = gf.routing.get_bundle_from_steps_electrical(\n",
    "    list(reversed(pt.ports.values())),\n",
    "    list(reversed(pb.ports.values())),\n",
    "    end_straight_length=60)\n",
    "\n",
    "for route in routes:\n",
    "    c.add(route.references)\n",
    "c"
   ]
  },
  {
   "cell_type": "code",
   "execution_count": null,
   "id": "da271cc6-e761-49b5-9b1a-83bc7a335f62",
   "metadata": {},
   "outputs": [],
   "source": [
    "list(pt.ports).reverse()"
   ]
  },
  {
   "cell_type": "code",
   "execution_count": null,
   "id": "3c1d70e2-eeff-4dfd-b7a0-6fa65e5d7c30",
   "metadata": {},
   "outputs": [],
   "source": []
  }
 ],
 "metadata": {
  "kernelspec": {
   "display_name": "Python 3 (ipykernel)",
   "language": "python",
   "name": "python3"
  },
  "language_info": {
   "codemirror_mode": {
    "name": "ipython",
    "version": 3
   },
   "file_extension": ".py",
   "mimetype": "text/x-python",
   "name": "python",
   "nbconvert_exporter": "python",
   "pygments_lexer": "ipython3",
   "version": "3.9.7"
  }
 },
 "nbformat": 4,
 "nbformat_minor": 5
}
