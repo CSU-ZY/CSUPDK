{
 "cells": [
  {
   "cell_type": "markdown",
   "metadata": {},
   "source": [
    "# Grating coupler"
   ]
  },
  {
   "cell_type": "markdown",
   "metadata": {},
   "source": [
    "Based on tidy3D example notebook on [github](https://github.com/flexcompute/tidy3d-notebooks/blob/main/GratingCoupler.ipynb)\n"
   ]
  },
  {
   "cell_type": "code",
   "execution_count": null,
   "metadata": {
    "tags": []
   },
   "outputs": [],
   "source": [
    "# get the most recent version of tidy3d\n",
    "#pip install -q --upgrade tidy3d\n",
    "\n",
    "# make sure notebook plots inline\n",
    "%matplotlib inline\n",
    "\n",
    "# basic imports\n",
    "import numpy as np\n",
    "import matplotlib.pylab as plt\n",
    "\n",
    "# tidy3d imports\n",
    "import tidy3d as td\n",
    "import tidy3d.web as web"
   ]
  },
  {
   "cell_type": "markdown",
   "metadata": {},
   "source": [
    "## Problem Setup\n",
    "\n",
    "In this example, we model a 3D grating coupler in a Silicon on Insulator (SOI) platform.\n",
    "\n",
    "A basic schematic of the design is shown below.  The simulation is about 19um x 4um x 5um with a wavelength of 1.55um and takes about 1 minute to simulate 10,000 time steps.\n",
    "\n",
    "In the simulation, we inject a modal source into the waveguide and propagate it towards the grating structure.  The radiation from the grating coupler is then measured with a near field monitor and we use a far field projection to inspect the angular dependence of the radiation.\n",
    "\n",
    "\n",
    "<img src=\"img/grating_coupler.png\" width=600>"
   ]
  },
  {
   "cell_type": "code",
   "execution_count": null,
   "metadata": {
    "tags": []
   },
   "outputs": [],
   "source": [
    "# basic parameters (note, all length units are microns)\n",
    "nm = 1e-3\n",
    "wavelength = 1550 * nm\n",
    "\n",
    "# resolution\n",
    "grids_per_wavelength = 50.0\n",
    "dl = wavelength / grids_per_wavelength\n",
    "\n",
    "# waveguide\n",
    "wg_width = 400 * nm\n",
    "wg_height = 220 * nm\n",
    "wg_length = 2 * wavelength\n",
    "\n",
    "# surrounding\n",
    "sub_height = 2.0\n",
    "clad_height = 2.0\n",
    "buffer = 0.5 * wavelength\n",
    "\n",
    "# coupler\n",
    "cp_width = 2 * wavelength\n",
    "cp_length = 10 * wavelength\n",
    "taper_length = 4 * wavelength"
   ]
  },
  {
   "cell_type": "code",
   "execution_count": null,
   "metadata": {
    "tags": []
   },
   "outputs": [],
   "source": [
    "# sizes\n",
    "Lx = buffer + wg_length + taper_length + cp_length\n",
    "Ly = buffer + cp_width + buffer\n",
    "Lz = sub_height + wg_height + clad_height\n",
    "sim_size = [Lx, Ly, Lz]\n",
    "\n",
    "# convenience variables to store center of coupler and waveguide\n",
    "wg_center_x = +Lx/2 - buffer - (wg_length + taper_length)/2\n",
    "cp_center_x = -Lx/2 + buffer + cp_length/2\n",
    "wg_center_z = -Lz/2 + sub_height + wg_height/2\n",
    "cp_center_z = -Lz/2 + sub_height + wg_height/2\n",
    "\n",
    "# materials\n",
    "Clad = td.Medium(epsilon=1.44**2)\n",
    "Si = td.Medium(epsilon=3.47**2)\n",
    "SiO2 = td.Medium(epsilon=1.44**2)\n",
    "\n",
    "# source parameters\n",
    "freq0 = td.constants.C_0 / wavelength\n",
    "fwidth = freq0 / 10\n",
    "run_time = 100 / fwidth\n",
    "\n",
    "# PML layers\n",
    "npml = 15"
   ]
  },
  {
   "cell_type": "markdown",
   "metadata": {},
   "source": [
    "## Mode Solve\n",
    "\n",
    "To determine the pitch of the waveguide for a given design angle, we need to compute the effective index of the waveguide mode being coupled into.  For this, we set up a simple simulation of the coupler region and use the mode solver to get the effective index. We will not run this simulation, we just add a ``ModeMonitor`` object in order to call the mode solver, ``sim.compute_modes()`` below, and get the effective index of the wide-waveguide region."
   ]
  },
  {
   "cell_type": "code",
   "execution_count": null,
   "metadata": {
    "tags": []
   },
   "outputs": [],
   "source": [
    "# grating parameters\n",
    "design_theta_deg = 30\n",
    "design_theta_rad = np.pi * design_theta_deg / 180\n",
    "grating_height = 70 * nm\n",
    "\n",
    "# do a mode solve to get neff of the coupler\n",
    "\n",
    "sub = td.Box(\n",
    "    center=[0, 0, -Lz/2],\n",
    "    size=[td.inf, td.inf, 2 * sub_height],\n",
    "    material=SiO2,\n",
    "    name='substrate')\n",
    "\n",
    "clad = td.Box(\n",
    "    center=[0, 0, Lz/2],\n",
    "    size=[td.inf, td.inf, td.inf],\n",
    "    material=SiO2,\n",
    "    name='clad')\n",
    "\n",
    "cp = td.Box(\n",
    "    center=[0, 0, cp_center_z-grating_height/4],\n",
    "    size=[td.inf, cp_width, wg_height-grating_height/2],\n",
    "    material=Si,\n",
    "    name='coupler')\n",
    "\n",
    "mode_mnt = td.ModeMonitor(\n",
    "    center=[0, 0, 0],\n",
    "    size=[0, 8*cp_width, 8*wg_height],\n",
    "    freqs=freq0)\n",
    "\n",
    "sim = td.Simulation(\n",
    "    size=sim_size,\n",
    "    mesh_step=[dl, dl, dl],\n",
    "    structures=[clad, sub, cp],\n",
    "    sources=[],\n",
    "    monitors=[mode_mnt],\n",
    "    run_time=run_time,\n",
    "    pml_layers=[npml, npml, npml])\n",
    "\n",
    "sim.viz_mat_2D(normal='x');"
   ]
  },
  {
   "cell_type": "code",
   "execution_count": null,
   "metadata": {},
   "outputs": [],
   "source": [
    "sim.viz_eps_2D(normal='x', cbar=True)"
   ]
  },
  {
   "cell_type": "code",
   "execution_count": null,
   "metadata": {
    "tags": []
   },
   "outputs": [],
   "source": [
    "# Compute and visualize the first two modes of the monitor\n",
    "sim.compute_modes(mode_mnt, Nmodes=2)\n",
    "sim.viz_modes(mode_mnt)\n",
    "\n",
    "# Get the data for the mode corresponding to frequency index 0 and mode index 0\n",
    "mode = sim.data(mode_mnt)[\"modes\"][0][0]\n",
    "neff = mode.neff\n",
    "print(f'\\n\\neffective index of coupler region, mode 0 = {neff}')"
   ]
  },
  {
   "cell_type": "markdown",
   "metadata": {},
   "source": [
    "## Create Simulation\n",
    "Now we set up the grating coupler to simulate in Tidy3D."
   ]
  },
  {
   "cell_type": "code",
   "execution_count": null,
   "metadata": {
    "tags": []
   },
   "outputs": [],
   "source": [
    "# gratings\n",
    "design_theta_deg = 10\n",
    "design_theta_rad = np.pi * design_theta_deg / 180\n",
    "pitch = wavelength / (neff - np.sin(design_theta_rad))\n",
    "grating_length = pitch / 2.0\n",
    "num_gratings = int(cp_length / pitch)\n",
    "\n",
    "sub = td.Box(\n",
    "    center=[0, 0, -Lz/2],\n",
    "    size=[td.inf, td.inf, 2 * sub_height],\n",
    "    material=SiO2,\n",
    "    name='substrate')\n",
    "\n",
    "wg = td.Box(\n",
    "    center=[wg_center_x, 0, wg_center_z],\n",
    "    size=[buffer + wg_length + taper_length + cp_length/2, wg_width, wg_height],\n",
    "    material=Si,\n",
    "    name='waveguide')\n",
    "\n",
    "cp = td.Box(\n",
    "    center=[cp_center_x, 0, cp_center_z],\n",
    "    size=[cp_length, cp_width, wg_height],\n",
    "    material=Si,\n",
    "    name='coupler')\n",
    "\n",
    "tp = td.PolySlab(\n",
    "    vertices=[\n",
    "        [cp_center_x + cp_length/2 + taper_length, + wg_width/2],\n",
    "        [cp_center_x + cp_length/2 + taper_length, - wg_width/2],\n",
    "        [cp_center_x + cp_length/2, - cp_width/2],\n",
    "        [cp_center_x + cp_length/2, + cp_width/2]],\n",
    "    z_cent=wg_center_z,\n",
    "    z_size=wg_height,\n",
    "    material=Si,\n",
    "    name='taper')\n",
    "\n",
    "grating_left_x = cp_center_x - cp_length/2\n",
    "gratings = [\n",
    "    td.Box(\n",
    "        center=[grating_left_x + (i + 0.5) * pitch, 0, cp_center_z + wg_height/2 - grating_height/2],\n",
    "        size=[grating_length, cp_width, grating_height],\n",
    "        material=Clad,\n",
    "        name=f'{i}th_grating')\n",
    "    for i in range(num_gratings)]"
   ]
  },
  {
   "cell_type": "code",
   "execution_count": null,
   "metadata": {
    "tags": []
   },
   "outputs": [],
   "source": [
    "mode_source = td.ModeSource(\n",
    "    td.GaussianPulse(freq0, fwidth, phase=0),\n",
    "    center=[Lx/2 - buffer, 0, cp_center_z],\n",
    "    size=[0, 8*wg_width, 8*wg_height],\n",
    "    direction='backward',\n",
    "    amplitude=1.0,\n",
    "    name='modal_source')"
   ]
  },
  {
   "cell_type": "code",
   "execution_count": null,
   "metadata": {
    "tags": []
   },
   "outputs": [],
   "source": [
    "# distance to near field monitor\n",
    "nf_offset = 50 * nm\n",
    "\n",
    "plane_monitor = td.FreqMonitor(\n",
    "    center=[0, 0, cp_center_z],\n",
    "    size=[Lx, Ly, 0],\n",
    "    freqs=freq0,\n",
    "    name='full_domain_fields')\n",
    "\n",
    "rad_monitor = td.FreqMonitor(\n",
    "    center=[0, 0, 0],\n",
    "    size=[Lx, 0, Lz],\n",
    "    freqs=freq0,\n",
    "    name='full_domain_fields')\n",
    "\n",
    "near_field_monitor = td.FreqMonitor(\n",
    "    center=[cp_center_x, 0, cp_center_z + wg_height/2 + nf_offset],\n",
    "    size=[cp_length, cp_width, 0],\n",
    "    freqs=freq0,\n",
    "    name='radiated_near_fields')"
   ]
  },
  {
   "cell_type": "code",
   "execution_count": null,
   "metadata": {
    "tags": []
   },
   "outputs": [],
   "source": [
    "sim = td.Simulation(\n",
    "    size=sim_size,\n",
    "    mesh_step=[dl, dl, dl],\n",
    "    structures=[sub, wg, cp, tp] + gratings,\n",
    "    sources=[mode_source],\n",
    "    monitors=[plane_monitor, rad_monitor, near_field_monitor],\n",
    "    run_time=run_time,\n",
    "    pml_layers=[npml, npml, npml])"
   ]
  },
  {
   "cell_type": "code",
   "execution_count": null,
   "metadata": {
    "tags": []
   },
   "outputs": [],
   "source": [
    "fig, axes = plt.subplots(1, 3, tight_layout=True, figsize=(14, 3))\n",
    "for val, pos, ax in zip('xyz', (0, 0, -Lz/2 + sub_height + wg_height/2), axes):\n",
    "    sim.viz_eps_2D(normal=val, position=pos, ax=ax, cbar=True)"
   ]
  },
  {
   "cell_type": "code",
   "execution_count": null,
   "metadata": {
    "tags": []
   },
   "outputs": [],
   "source": [
    "ax1, ax2 = sim.viz_source(mode_source)\n",
    "ax1.set_xlim((0, 0.1e-12))  # note the pulse extends far beyond this time, adjust lims to inspect\n",
    "plt.show()"
   ]
  },
  {
   "cell_type": "code",
   "execution_count": null,
   "metadata": {
    "tags": []
   },
   "outputs": [],
   "source": [
    "sim.compute_modes(mode_source, Nmodes=2)\n",
    "sim.viz_modes(mode_source)\n",
    "\n",
    "# Mode 0 is the Ey dominant mode, so we choose that\n",
    "mode_ind = 0\n",
    "sim.set_mode(mode_source, mode_ind)"
   ]
  },
  {
   "cell_type": "markdown",
   "metadata": {},
   "source": [
    "## Run Simulation\n",
    "\n",
    "Run the simulation and plot the field patterns"
   ]
  },
  {
   "cell_type": "code",
   "execution_count": null,
   "metadata": {
    "tags": []
   },
   "outputs": [],
   "source": [
    "# create a project, upload to our server to run\n",
    "project = web.new_project(sim.export(), task_name='grating_coupler')\n",
    "task_id = project['taskId']\n",
    "web.monitor_project(task_id)"
   ]
  },
  {
   "cell_type": "code",
   "execution_count": null,
   "metadata": {},
   "outputs": [],
   "source": [
    "# download the results and load into the original simulation\n",
    "print('downloading results...')\n",
    "web.download_results(task_id, target_folder='out')\n",
    "print('done\\n')\n",
    "sim.load_results('out/monitor_data.hdf5')\n",
    "with open(\"out/tidy3d.log\") as f:\n",
    "     print(f.read())"
   ]
  },
  {
   "cell_type": "code",
   "execution_count": null,
   "metadata": {},
   "outputs": [],
   "source": [
    "fig, axes = plt.subplots(3, 1, tight_layout=True, figsize=(10, 8))\n",
    "for monitor, cpmp, ax in zip([plane_monitor, rad_monitor, near_field_monitor], 'yyy', axes):\n",
    "    sim.viz_field_2D(monitor, comp=cpmp, ax=ax, cbar=True)"
   ]
  },
  {
   "cell_type": "markdown",
   "metadata": {},
   "source": [
    "## Far Field Projection\n",
    "Now we use the Near2Far feature of Tidy3D to compute the anglular dependence of the far field scattering based on the near field monitor."
   ]
  },
  {
   "cell_type": "code",
   "execution_count": null,
   "metadata": {},
   "outputs": [],
   "source": [
    "# create range of angles to probe (note: polar coordinates, theta = 0 corresponds to vertical (z axis))\n",
    "num_angles = 1101\n",
    "thetas = np.linspace(-np.pi/2, np.pi/2, num_angles)\n",
    "\n",
    "# make a near field to far field projector with the near field monitor data\n",
    "n2f = td.Near2Far(sim.data(near_field_monitor))\n",
    "\n",
    "# loop through angles and record the scattered cross section\n",
    "Ps = np.zeros(num_angles)\n",
    "for i in range(num_angles):\n",
    "    Ps[i] = n2f.get_radar_cross_section(thetas[i], 0.0)"
   ]
  },
  {
   "cell_type": "code",
   "execution_count": null,
   "metadata": {},
   "outputs": [],
   "source": [
    "# plot the angle dependence\n",
    "fig, ax = plt.subplots(subplot_kw={'projection': 'polar'}, figsize=(5,5))\n",
    "ax.plot(thetas, Ps, label='measured')\n",
    "ax.plot([design_theta_rad, design_theta_rad], [0, np.max(Ps)*0.7], 'r--', alpha=0.8, label='design angle')\n",
    "ax.set_theta_zero_location(\"N\")\n",
    "ax.set_yticklabels([])\n",
    "ax.set_title(\"Scattered Cross-section (arb. units)\", va='bottom')\n",
    "plt.legend()\n",
    "plt.show()"
   ]
  },
  {
   "cell_type": "code",
   "execution_count": null,
   "metadata": {},
   "outputs": [],
   "source": [
    "theta_expected = np.arcsin(np.abs(neff - wavelength / pitch))\n",
    "print(f'expect angle of {(theta_expected * 180 / np.pi):.2f} degrees')\n",
    "i_max = np.argmax(Ps)\n",
    "print(f'got maximum angle of {(thetas[i_max] * 180 / np.pi):.2f} degrees')"
   ]
  },
  {
   "cell_type": "markdown",
   "metadata": {},
   "source": [
    "The agreement between the target angle and the actual emission angle of the coupler is very good. The small difference comes from the fact that the design is very sensitive to the value of the effective index that we use in the coupler region, and that value depends on which waveguide height we pick in that region: the one with the grating comb, or without. In our setup, we used a thickness that is at the mid-point, but this is a heuristic choice which results in the small final mismatch in angles observed here."
   ]
  }
 ],
 "metadata": {
  "kernelspec": {
   "display_name": "Python 3 (ipykernel)",
   "language": "python",
   "name": "python3"
  },
  "language_info": {
   "codemirror_mode": {
    "name": "ipython",
    "version": 3
   },
   "file_extension": ".py",
   "mimetype": "text/x-python",
   "name": "python",
   "nbconvert_exporter": "python",
   "pygments_lexer": "ipython3",
   "version": "3.9.7"
  }
 },
 "nbformat": 4,
 "nbformat_minor": 4
}
