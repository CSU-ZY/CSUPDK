{
 "cells": [
  {
   "cell_type": "code",
   "execution_count": null,
   "metadata": {},
   "outputs": [],
   "source": [
    "import pp.sp.meep as ms\n",
    "from pp.components.waveguide_template import wg_strip\n",
    "\n",
    "epsSiO2 = 1.444**2\n",
    "epsSi = 3.55**2\n",
    "etch_stack = [(epsSiO2, 1.89), (epsSi, 0.07), (epsSiO2, 2.04)]\n",
    "\n",
    "mstack = ms.MaterialStack(vsize=4.0, default_stack=etch_stack, name=\"Si waveguide\")\n",
    "waveguide_stack = [(epsSiO2, 1.89), (epsSi, 0.22), (epsSiO2, 1.89)]\n",
    "clad_stack = [(epsSiO2, 1.89), (epsSi, 0.05), (epsSiO2, 2.06)]\n",
    "mstack.addVStack(layer=1, datatype=0, stack=waveguide_stack)\n",
    "mstack.addVStack(layer=2, datatype=0, stack=clad_stack)\n",
    "\n",
    "neff, ng = ms.mpb_compute_mode(wgt=wg_strip(), mstack=mstack, res=128, wavelength=1.55, sx=3.0, sy=3.0,\n",
    "                plot_mode_number=1, polarization=\"TE\")"
   ]
  },
  {
   "cell_type": "code",
   "execution_count": null,
   "metadata": {},
   "outputs": [],
   "source": []
  },
  {
   "cell_type": "code",
   "execution_count": null,
   "metadata": {},
   "outputs": [],
   "source": [
    "neff"
   ]
  },
  {
   "cell_type": "code",
   "execution_count": null,
   "metadata": {},
   "outputs": [],
   "source": [
    "ng"
   ]
  },
  {
   "cell_type": "code",
   "execution_count": null,
   "metadata": {},
   "outputs": [],
   "source": [
    "import pp.sp.meep as ms\n",
    "from pp.components.waveguide_template import wg_strip\n",
    "\n",
    "epsSiO2 = 1.444**2\n",
    "epsSi = 3.55**2\n",
    "etch_stack = [(epsSiO2, 1.89), (epsSi, 0.07), (epsSiO2, 2.04)]\n",
    "\n",
    "mstack = ms.MaterialStack(vsize=4.0, default_stack=etch_stack, name=\"Si waveguide\")\n",
    "waveguide_stack = [(epsSiO2, 1.89), (epsSi, 0.22), (epsSiO2, 1.89)]\n",
    "clad_stack = [(epsSiO2, 1.89), (epsSi, 0.05), (epsSiO2, 2.06)]\n",
    "mstack.addVStack(layer=1, datatype=0, stack=waveguide_stack)\n",
    "mstack.addVStack(layer=2, datatype=0, stack=clad_stack)\n",
    "\n",
    "neff, ng = ms.mpb_compute_mode(wgt=wg_strip(), mstack=mstack, res=128, wavelength=1.55, sx=3.0, sy=3.0,\n",
    "                plot_mode_number=1, polarization=\"TE\")"
   ]
  }
 ],
 "metadata": {
  "kernelspec": {
   "display_name": "Python 3",
   "language": "python",
   "name": "python3"
  },
  "language_info": {
   "codemirror_mode": {
    "name": "ipython",
    "version": 3
   },
   "file_extension": ".py",
   "mimetype": "text/x-python",
   "name": "python",
   "nbconvert_exporter": "python",
   "pygments_lexer": "ipython3",
   "version": "3.8.3"
  }
 },
 "nbformat": 4,
 "nbformat_minor": 4
}
