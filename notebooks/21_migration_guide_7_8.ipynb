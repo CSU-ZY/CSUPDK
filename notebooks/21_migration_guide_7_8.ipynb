{
 "cells": [
  {
   "cell_type": "markdown",
   "id": "0",
   "metadata": {},
   "source": [
    "# v7 -> v8\n",
    "\n",
    "Major differences:\n",
    "\n",
    "- xmin, xmax, ymin, ymax are integers in Database Units (1nm by default), to set/get them in um You need to use `d` (decimal) Instance.d.xmin which is in float.\n",
    "- Instance.rotate() takes 0, 1, 2 or 3. For setting arbitrary rotation angles you can use `Instance.d.rotate(30)` to rotate 30deg as an example.\n",
    "- LayerMap is an Enum of integers\n",
    "- rewrote routing functions to avoid collisions with objects bounding boxes. `get_route` -> `route_single`. `get_bundle` -> `route_bundle`\n",
    "\n",
    "\n",
    "Minor details:\n",
    "\n",
    "- replace `from gdsfactory.cell import cell` with `from gdsfactory import cell`\n",
    "\n",
    "\n",
    "Improvements:\n",
    "\n",
    "- gf.routing.route_single can avoid obstacles"
   ]
  },
  {
   "cell_type": "markdown",
   "id": "1",
   "metadata": {},
   "source": [
    "## xmin, xmax, ymin, ymax, center in DBU\n",
    "\n",
    "This is the biggest difference. By default all units are snap to grid."
   ]
  },
  {
   "cell_type": "code",
   "execution_count": null,
   "id": "2",
   "metadata": {},
   "outputs": [],
   "source": [
    "import gdsfactory as gf\n",
    "\n",
    "c = gf.Component()\n",
    "ref = c << gf.components.bend_euler(radius=5)\n",
    "c"
   ]
  },
  {
   "cell_type": "code",
   "execution_count": null,
   "id": "3",
   "metadata": {},
   "outputs": [],
   "source": [
    "print(ref.xmax)\n",
    "print(ref.d.xmax)"
   ]
  },
  {
   "cell_type": "code",
   "execution_count": null,
   "id": "4",
   "metadata": {},
   "outputs": [],
   "source": [
    "print(ref.size_info.width)\n",
    "print(ref.d.size_info.width)"
   ]
  },
  {
   "cell_type": "markdown",
   "id": "5",
   "metadata": {},
   "source": [
    "## Use instance.d.rotate for degrees\n",
    "\n",
    "Instance.rotate() takes 0, 1, 2 or 3. For setting arbitrary rotation angles you can use `Instance.d.rotate(30)` to rotate 30deg as an example."
   ]
  },
  {
   "cell_type": "code",
   "execution_count": null,
   "id": "6",
   "metadata": {},
   "outputs": [],
   "source": [
    "c = gf.Component()\n",
    "ref = c << gf.components.bend_euler(radius=5)\n",
    "ref.rotate(1)\n",
    "c"
   ]
  },
  {
   "cell_type": "code",
   "execution_count": null,
   "id": "7",
   "metadata": {},
   "outputs": [],
   "source": [
    "c = gf.Component()\n",
    "ref = c << gf.components.bend_euler(radius=5)\n",
    "ref.d.rotate(45)\n",
    "c"
   ]
  },
  {
   "cell_type": "markdown",
   "id": "8",
   "metadata": {},
   "source": [
    "## LayerMap \n",
    "\n",
    "In v7 or below, a LayerMap needs to be called\n",
    "\n",
    "```python\n",
    "\n",
    "from gdsfactory.technology import LayerMap\n",
    "\n",
    "class LayerMapFab(LayerMap):\n",
    "    WG = (1, 0)\n",
    "\n",
    "LAYER = LayerMapFab()\n",
    "```\n",
    "\n",
    "However in v8 it has a different type and does not need to be called \n",
    "\n",
    "```python\n",
    "\n",
    "from gdsfactory.technology import LayerMap\n",
    "\n",
    "class LayerMapFab(LayerMap):\n",
    "    WG = (1, 0)\n",
    "\n",
    "LAYER = LayerMapFab\n",
    "```\n",
    "\n",
    "See below:"
   ]
  },
  {
   "cell_type": "code",
   "execution_count": null,
   "id": "9",
   "metadata": {},
   "outputs": [],
   "source": [
    "from gdsfactory.technology import LayerMap\n",
    "\n",
    "\n",
    "class LayerMapFab(LayerMap):\n",
    "    WG = (1, 0)\n",
    "\n",
    "\n",
    "LAYER = LayerMapFab\n",
    "type(LAYER)"
   ]
  },
  {
   "cell_type": "code",
   "execution_count": null,
   "id": "10",
   "metadata": {},
   "outputs": [],
   "source": [
    "LAYER.WG"
   ]
  },
  {
   "cell_type": "code",
   "execution_count": null,
   "id": "11",
   "metadata": {},
   "outputs": [],
   "source": [
    "tuple(LAYER.WG)"
   ]
  },
  {
   "cell_type": "code",
   "execution_count": null,
   "id": "12",
   "metadata": {},
   "outputs": [],
   "source": [
    "str(LAYER.WG)"
   ]
  },
  {
   "cell_type": "markdown",
   "id": "13",
   "metadata": {},
   "source": [
    "## Routing functions\n",
    "\n",
    "Routing functions do no longer return the route Instances but they place the instances in a Component, so you have to pass a Component."
   ]
  },
  {
   "cell_type": "code",
   "execution_count": null,
   "id": "14",
   "metadata": {},
   "outputs": [],
   "source": [
    "c = gf.Component()\n",
    "w = gf.components.straight(cross_section=\"rib\")\n",
    "top = c << w\n",
    "bot = c << w\n",
    "bot.d.move((0, -2))\n",
    "\n",
    "p0 = top.ports[\"o2\"]\n",
    "p1 = bot.ports[\"o2\"]\n",
    "\n",
    "r = gf.routing.route_single(\n",
    "    c,\n",
    "    p0,\n",
    "    p1,\n",
    "    cross_section=\"rib\",\n",
    ")\n",
    "c"
   ]
  },
  {
   "cell_type": "code",
   "execution_count": null,
   "id": "15",
   "metadata": {},
   "outputs": [],
   "source": [
    "c = gf.Component()\n",
    "columns = 2\n",
    "ptop = c << gf.components.pad_array(columns=columns, port_orientation=270)\n",
    "pbot = c << gf.components.pad_array(port_orientation=270, columns=columns)\n",
    "\n",
    "ptop.d.movex(300)\n",
    "ptop.d.movey(300)\n",
    "routes = gf.routing.route_bundle_electrical(\n",
    "    c,\n",
    "    reversed(pbot.ports),\n",
    "    ptop.ports,\n",
    "    start_straight_length=100,\n",
    "    separation=20,\n",
    "    bboxes=[ptop.bbox(), pbot.bbox()],  # can avoid obstacles\n",
    ")\n",
    "\n",
    "c"
   ]
  },
  {
   "cell_type": "code",
   "execution_count": null,
   "id": "16",
   "metadata": {},
   "outputs": [],
   "source": [
    "c = gf.Component()\n",
    "columns = 2\n",
    "ptop = c << gf.components.pad_array(columns=columns, port_orientation=270)\n",
    "pbot = c << gf.components.pad_array(port_orientation=270, columns=columns)\n",
    "ptop.d.movex(300)\n",
    "ptop.d.movey(300)\n",
    "\n",
    "obstacle = c << gf.c.rectangle(size=(100, 100), layer=\"M3\")\n",
    "obstacle.d.ymin = pbot.d.ymax\n",
    "obstacle.d.xmin = pbot.d.xmax + 10\n",
    "\n",
    "\n",
    "routes = gf.routing.route_bundle_electrical(\n",
    "    c,\n",
    "    reversed(pbot.ports),\n",
    "    ptop.ports,\n",
    "    start_straight_length=100,\n",
    "    separation=20,\n",
    "    bboxes=[obstacle.bbox()],  # can avoid obstacles\n",
    ")\n",
    "\n",
    "c"
   ]
  },
  {
   "cell_type": "code",
   "execution_count": null,
   "id": "17",
   "metadata": {},
   "outputs": [],
   "source": []
  }
 ],
 "metadata": {
  "jupytext": {
   "cell_metadata_filter": "-all",
   "custom_cell_magics": "kql"
  },
  "kernelspec": {
   "display_name": "base",
   "language": "python",
   "name": "python3"
  },
  "language_info": {
   "codemirror_mode": {
    "name": "ipython",
    "version": 3
   },
   "file_extension": ".py",
   "mimetype": "text/x-python",
   "name": "python",
   "nbconvert_exporter": "python",
   "pygments_lexer": "ipython3",
   "version": "3.11.5"
  }
 },
 "nbformat": 4,
 "nbformat_minor": 5
}
