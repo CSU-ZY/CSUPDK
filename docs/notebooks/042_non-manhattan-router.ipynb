{
 "cells": [
  {
   "cell_type": "markdown",
   "metadata": {},
   "source": [
    "# Non manhattan routing\n",
    "\n",
    "gdsfactory provides functions to connect and route components ports that are off-grid or have non manhattan orientations (0, 90, 180, 270 degrees)\n",
    "\n",
    "## Fix Non manhattan connections"
   ]
  },
  {
   "cell_type": "code",
   "execution_count": null,
   "metadata": {},
   "outputs": [],
   "source": [
    "import gdsfactory as gf\n",
    "from gdsfactory.decorators import has_valid_transformations\n",
    "\n",
    "\n",
    "@gf.cell\n",
    "def demo_non_manhattan():\n",
    "    c = gf.Component(\"bend\")\n",
    "    b = c << gf.components.bend_circular(angle=30)\n",
    "    s = c << gf.components.straight(length=5)\n",
    "    s.connect(\"o1\", b.ports[\"o2\"])\n",
    "    return c\n",
    "\n",
    "\n",
    "c1 = demo_non_manhattan()\n",
    "print(has_valid_transformations(c1))\n",
    "c1"
   ]
  },
  {
   "cell_type": "markdown",
   "metadata": {},
   "source": [
    "if you zoom in between the bends you will see a notch between waveguides due to non-manhattan connection between the bends.\n",
    "\n",
    "![gap](https://i.imgur.com/jBEwy9T.png)\n",
    "\n",
    "You an fix it with the `flatten_invalid_refs` flag when you call `Component.write_gds()`."
   ]
  },
  {
   "cell_type": "code",
   "execution_count": null,
   "metadata": {},
   "outputs": [],
   "source": [
    "help(c1.write_gds)"
   ]
  },
  {
   "cell_type": "code",
   "execution_count": null,
   "metadata": {},
   "outputs": [],
   "source": [
    "gdspath = c1.write_gds(flatten_invalid_refs=True)\n",
    "c2 = gf.import_gds(gdspath)\n",
    "c2"
   ]
  },
  {
   "cell_type": "code",
   "execution_count": null,
   "metadata": {},
   "outputs": [],
   "source": [
    "has_valid_transformations(c1)  # has gap issues"
   ]
  },
  {
   "cell_type": "code",
   "execution_count": null,
   "metadata": {},
   "outputs": [],
   "source": [
    "has_valid_transformations(c2)  # works perfect"
   ]
  },
  {
   "cell_type": "markdown",
   "metadata": {},
   "source": [
    "If you zoom in the connection the decorator you can see it fixed the issue in `c` that we fixed in `c2` thanks to the `flatten_invalid_refs` flag.\n",
    "\n",
    "![no gap](https://i.imgur.com/VbSgIjP.png)"
   ]
  },
  {
   "cell_type": "markdown",
   "metadata": {},
   "source": [
    "### Default PDK `GdsWriteSettings`\n",
    "If you are frequently (or even sometimes!) creating geometries like this, with non-manhattan ports and/or references with non-90-degree rotations, I highly recommend that you set `flatten_invalid_refs=True` in your PDK's `GdsWriteSettings`. If you are the PDK author, you can do this in the definition of the pdk. Or, you can modify the PDK at runtime like."
   ]
  },
  {
   "cell_type": "code",
   "execution_count": null,
   "metadata": {},
   "outputs": [],
   "source": [
    "pdk = gf.get_active_pdk()\n",
    "pdk.gds_write_settings.flatten_invalid_refs = True"
   ]
  },
  {
   "cell_type": "markdown",
   "metadata": {},
   "source": [
    "With this flag set, invalid references will be flattened by default, preventing gaps and errors in downstream tools which may not support cell references with arbitrary rotation, without needing to specify this on each GDS write.\n",
    "\n",
    "You should note, however, that this will *not* fix all gaps between faces of unequal length, as it is *impossible* to guarantee this for diagonal line segments of unequal lengths constrained to end on integer grid values."
   ]
  },
  {
   "cell_type": "markdown",
   "metadata": {},
   "source": [
    "## Non-manhattan router\n",
    "<div class=\"alert alert-block alert-warning\">\n",
    "<b>Warning:</b> It is highly advised that you follow the above instructions and set your PDK to <b>flatten invalid refs on GDS write by default</b> if you intend to use the non-manhattan router.\n",
    "</div>\n",
    "\n",
    "The non-manhattan (all-angle) router allows you to route between ports and in directions which are not aligned with the x and y axes, which is the constraint of most other gdsfactory routers. Unlike phidl's `smooth()` however, the all-angle router \n",
    "- has a `steps` based syntax, fully compatible with the yaml-based circuit flow\n",
    "- builds paths from available PDK components, such that routes can be simulated naturally by S-matrix-based circuit modeling tools, like SAX\n",
    "- allows for advanced logic in selecting appropriate bends, cross-sections, and automatic tapers, based on context\n",
    "- includes advanced cross-section-aware bundling logic\n",
    "\n",
    "### A simple route\n",
    "Let's start with a simple route between two non-orthogonal ports.\n",
    "Consider the yaml-based pic below."
   ]
  },
  {
   "cell_type": "code",
   "execution_count": null,
   "metadata": {},
   "outputs": [],
   "source": [
    "from gdsfactory.read import cell_from_yaml_template\n",
    "from IPython.display import Code\n",
    "from pathlib import Path\n",
    "\n",
    "# we're going to use yaml-based PICs for our examples. you can find them in docs/notebooks/yaml_pics\n",
    "# if you'd like to tweak and play along\n",
    "sample_dir = Path('yaml_pics')\n",
    "\n",
    "basic_sample_fn = sample_dir / 'aar_simple.pic.yml'\n",
    "Code(basic_sample_fn)"
   ]
  },
  {
   "cell_type": "code",
   "execution_count": null,
   "metadata": {},
   "outputs": [],
   "source": [
    "basic_aar = cell_from_yaml_template(basic_sample_fn, name='basic_aar')\n",
    "basic_aar(cache=False)"
   ]
  },
  {
   "cell_type": "markdown",
   "metadata": {},
   "source": [
    "You can see that even though one of the ports was non-orthogonal, the route was completed, using non-90-degree bends. The logic of how this work is explained further in the next section"
   ]
  },
  {
   "cell_type": "markdown",
   "metadata": {},
   "source": [
    "### Bends and connectors\n",
    "In the \"simple\" case, when the vectors of the two ports specified intersect at a point, the logic for how to build the route is as follows:\n",
    "1. Find the intersection point of the two port vectors.\n",
    "2. Place the bend at the intersection point of the two vectors by its \"handle\". The bend's handle is the point of intersetion of it's inverted port vectors (i.e. if the ports were pointed inwards rather than outwards). For any arbitrary bend, this guarantees that the ports of the bend will be in the straight line of sight of the ports which they should connect to, inset by some amount.\n",
    "3. Call the route or segment's specified connector function to generate a straight section between the bend's ports and their adjacent ports.\n",
    "\n",
    "Now, this is where it gets fun. Since we've calculated our bend first and worked backwards, we know how much room we have to work with for the straight connector, and we can take that into consideration when creating it.\n",
    "\n",
    "The three connectors available by default are\n",
    "- `low_loss`: auto-tapers to the lowest-loss cross-section possible to fit in the given segment\n",
    "- `auto_taper`: auto-tapers to the cross-section specified, based on the active pdk's specified `layer_transitions`\n",
    "- `simple`: simply routes with a straight in the cross-section specified (no auto-tapering)\n",
    "\n",
    "You can also define your own connector, as a function of the two ports which should be connected and the (suggested) cross-section. See the example below, which implements a very custom connector, composed of two sine bends and a physical label."
   ]
  },
  {
   "cell_type": "code",
   "execution_count": null,
   "metadata": {},
   "outputs": [],
   "source": [
    "import gdsfactory.routing.all_angle as aar\n",
    "import numpy as np\n",
    "gf.clear_cache()\n",
    "\n",
    "def wonky_connector(port1, port2, cross_section):\n",
    "    # let's make a wavy-looking connector of two sine tapers, each half the length of the total connector\n",
    "    # we'll let cross_section define the cross-section at the *center* of the connector here\n",
    "    connector_length = np.linalg.norm(port2.center - port1.center)\n",
    "    t1 = gf.components.taper_cross_section_sine(length=0.5 * connector_length, \n",
    "                                                cross_section1=port1.cross_section,\n",
    "                                                cross_section2=cross_section).ref().connect('o1', port1)\n",
    "    t1.info['length'] = connector_length * 0.5\n",
    "    t2 = gf.components.taper_cross_section_sine(length=0.5 * connector_length, \n",
    "                                                cross_section1=port2.cross_section,\n",
    "                                                cross_section2=cross_section).ref().connect('o1', port2)\n",
    "    t2.info['length'] = connector_length * 0.5\n",
    "    center_port = t1.ports['o2']\n",
    "    # just for fun-- we can add a non-functional reference also\n",
    "    label = gf.components.text(f'W = {center_port.width}, L = {connector_length:.3f}', size=center_port.width * 0.5, justify=\"center\", layer=\"M1\").ref()\n",
    "    label.move(label.center, destination=center_port.center + (0, center_port.width)).rotate(center_port.orientation, center=center_port.center)\n",
    "    label.info['length'] = 0\n",
    "    return [t1, t2, label]\n",
    "\n",
    "# register the connector so it can be used by name\n",
    "aar.CONNECTORS['wonky'] = wonky_connector\n",
    "\n",
    "wonky_fn = sample_dir / 'aar_wonky_connector.pic.yml'\n",
    "Code(wonky_fn)"
   ]
  },
  {
   "cell_type": "code",
   "execution_count": null,
   "metadata": {},
   "outputs": [],
   "source": [
    "wonky_aar = cell_from_yaml_template(wonky_fn, name='wonky_aar')\n",
    "wonky_aar(cache=False)"
   ]
  },
  {
   "cell_type": "markdown",
   "metadata": {},
   "source": [
    "### Indirect routes\n",
    "Indirect routes are those in which the port vectors do not intersect. In this case, you will see that an S-like bend is created. "
   ]
  },
  {
   "cell_type": "code",
   "execution_count": null,
   "metadata": {},
   "outputs": [],
   "source": [
    "indirect_fn = sample_dir / \"aar_indirect.pic.yml\"\n",
    "Code(filename=indirect_fn)"
   ]
  },
  {
   "cell_type": "code",
   "execution_count": null,
   "metadata": {},
   "outputs": [],
   "source": [
    "cell_from_yaml_template(indirect_fn, name='aar_indirect')(cache=False)"
   ]
  },
  {
   "cell_type": "markdown",
   "metadata": {},
   "source": [
    "## TODO\n",
    "### Steps\n",
    "### Bundles"
   ]
  },
  {
   "cell_type": "code",
   "execution_count": null,
   "metadata": {},
   "outputs": [],
   "source": [
    "import gdsfactory as gf\n",
    "\n",
    "c = gf.Component(\"demo\")\n",
    "\n",
    "mmi = gf.components.mmi2x2(width_mmi=10, gap_mmi=3)\n",
    "mmi1 = c << mmi\n",
    "mmi2 = c << mmi\n",
    "\n",
    "mmi2.move((100, 10))\n",
    "mmi2.rotate(30)\n",
    "\n",
    "routes = gf.routing.get_bundle_all_angle(\n",
    "    mmi1.get_ports_list(orientation=0),\n",
    "    [mmi2.ports[\"o2\"], mmi2.ports[\"o1\"]],\n",
    "    connector=None,\n",
    ")\n",
    "for route in routes:\n",
    "    c.add(route.references)\n",
    "c"
   ]
  },
  {
   "cell_type": "code",
   "execution_count": null,
   "metadata": {},
   "outputs": [],
   "source": [
    "c = gf.Component(\"demo\")\n",
    "\n",
    "mmi = gf.components.mmi2x2(width_mmi=10, gap_mmi=3)\n",
    "mmi1 = c << mmi\n",
    "mmi2 = c << mmi\n",
    "\n",
    "mmi2.move((100, 10))\n",
    "mmi2.rotate(30)\n",
    "\n",
    "routes = gf.routing.get_bundle_all_angle(\n",
    "    mmi1.get_ports_list(orientation=0),\n",
    "    [mmi2.ports[\"o2\"], mmi2.ports[\"o1\"]],\n",
    "    connector='low_loss',\n",
    ")\n",
    "for route in routes:\n",
    "    c.add(route.references)\n",
    "c"
   ]
  },
  {
   "cell_type": "code",
   "execution_count": null,
   "metadata": {},
   "outputs": [],
   "source": [
    "import gdsfactory as gf\n",
    "from gdsfactory.routing.all_angle import get_bundle_all_angle\n",
    "\n",
    "NUM_WIRES=10\n",
    "\n",
    "@gf.cell\n",
    "def inner_array():\n",
    "    c = gf.Component()\n",
    "    base = gf.components.straight(cross_section=gf.cross_section.strip).rotate(45)\n",
    "    for x in range(10):\n",
    "        for y in range(6):\n",
    "            base_ref = c.add_ref(base).move((x*20 - 90, y*20 - 50))\n",
    "            c.add_port(f\"inner_{x}_{y}\", port=base_ref.ports['o1'])\n",
    "    return c\n",
    "\n",
    "@gf.cell\n",
    "def outer_array():\n",
    "    c = gf.Component()\n",
    "    base = gf.components.straight(cross_section=gf.cross_section.strip)\n",
    "    for idx, theta in enumerate(range(0, 360, 6)):\n",
    "        base_ref = c.add_ref(base).move((300, 0)).rotate(theta)\n",
    "        c.add_port(f\"outer_{idx}\", port=base_ref.ports['o1'])\n",
    "    return c\n",
    "\n",
    "@gf.cell\n",
    "def chip():\n",
    "    c = gf.Component()\n",
    "    inner = c << inner_array()\n",
    "    outer = c << outer_array()\n",
    "    inner_ports = inner.get_ports_list()\n",
    "    outer_ports = outer.get_ports_list()\n",
    "    for n_route in range(NUM_WIRES):\n",
    "        routes = get_bundle_all_angle(\n",
    "            ports1=[inner_ports[n_route]],\n",
    "            ports2=[outer_ports[n_route]],\n",
    "            cross_section=gf.cross_section.strip,\n",
    "            bend=gf.components.bend_euler,\n",
    "            start_angle=-40,\n",
    "            steps=[{'ds': (NUM_WIRES - n_route) * 20},]\n",
    "        )\n",
    "        for route in routes:\n",
    "            c.add(route.references)\n",
    "    return c\n",
    "\n",
    "gf.get_active_pdk().register_cross_sections(strip=gf.cross_section.strip)\n",
    "c = chip()\n",
    "c"
   ]
  },
  {
   "cell_type": "code",
   "execution_count": null,
   "metadata": {},
   "outputs": [],
   "source": []
  }
 ],
 "metadata": {
  "kernelspec": {
   "display_name": "Python 3 (ipykernel)",
   "language": "python",
   "name": "python3"
  },
  "language_info": {
   "codemirror_mode": {
    "name": "ipython",
    "version": 3
   },
   "file_extension": ".py",
   "mimetype": "text/x-python",
   "name": "python",
   "nbconvert_exporter": "python",
   "pygments_lexer": "ipython3",
   "version": "3.10.4"
  }
 },
 "nbformat": 4,
 "nbformat_minor": 4
}
