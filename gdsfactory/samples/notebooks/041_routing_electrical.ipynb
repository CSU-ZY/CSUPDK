{
 "cells": [
  {
   "cell_type": "markdown",
   "id": "7d159fb9",
   "metadata": {},
   "source": [
    "# Routing to IO\n",
    "\n",
    "## Routing electrical\n",
    "For routing low speed DC electrical ports you can use sharp corners instead of smooth bends.\n",
    "\n",
    "You can also define `port.orientation = None` to ignore the port orientation for low speed DC ports."
   ]
  },
  {
   "cell_type": "markdown",
   "id": "12fd4682",
   "metadata": {},
   "source": [
    "For single route between ports you can use `get_route_electrical`\n",
    "\n",
    "### get_route_electrical\n",
    "\n",
    "\n",
    "`get_route_electrical` has `bend = wire_corner` with a 90deg bend corner."
   ]
  },
  {
   "cell_type": "code",
   "execution_count": null,
   "id": "00b9733a",
   "metadata": {},
   "outputs": [],
   "source": [
    "from functools import partial\n",
    "import gdsfactory as gf\n",
    "from gdsfactory.generic_tech import get_generic_pdk\n",
    "from gdsfactory.samples.big_device import big_device\n",
    "\n",
    "gf.config.rich_output()\n",
    "PDK = get_generic_pdk()\n",
    "PDK.activate()\n",
    "\n",
    "c = gf.Component(\"pads\")\n",
    "pt = c << gf.components.pad_array(orientation=270, columns=3)\n",
    "pb = c << gf.components.pad_array(orientation=90, columns=3)\n",
    "pt.move((70, 200))\n",
    "c.plot()"
   ]
  },
  {
   "cell_type": "code",
   "execution_count": null,
   "id": "20608584",
   "metadata": {},
   "outputs": [],
   "source": [
    "c = gf.Component(\"pads_with_routes_with_bends\")\n",
    "pt = c << gf.components.pad_array(orientation=270, columns=3)\n",
    "pb = c << gf.components.pad_array(orientation=90, columns=3)\n",
    "pt.move((70, 200))\n",
    "route = gf.routing.get_route_electrical(\n",
    "    pt.ports[\"e11\"], pb.ports[\"e11\"], bend=\"bend_euler\", radius=30\n",
    ")\n",
    "c.add(route.references)\n",
    "c.plot()"
   ]
  },
  {
   "cell_type": "code",
   "execution_count": null,
   "id": "9c61a851",
   "metadata": {},
   "outputs": [],
   "source": [
    "c = gf.Component(\"pads_with_routes_with_wire_corners\")\n",
    "pt = c << gf.components.pad_array(orientation=270, columns=3)\n",
    "pb = c << gf.components.pad_array(orientation=90, columns=3)\n",
    "pt.move((70, 200))\n",
    "route = gf.routing.get_route_electrical(\n",
    "    pt.ports[\"e11\"], pb.ports[\"e11\"], bend=\"wire_corner\"\n",
    ")\n",
    "c.add(route.references)\n",
    "c.plot()"
   ]
  },
  {
   "cell_type": "code",
   "execution_count": null,
   "id": "eab5ba09",
   "metadata": {},
   "outputs": [],
   "source": [
    "c = gf.Component(\"pads_with_routes_with_wire_corners_no_orientation\")\n",
    "pt = c << gf.components.pad_array(orientation=None, columns=3)\n",
    "pb = c << gf.components.pad_array(orientation=None, columns=3)\n",
    "pt.move((70, 200))\n",
    "route = gf.routing.get_route_electrical(\n",
    "    pt.ports[\"e11\"], pb.ports[\"e11\"], bend=\"wire_corner\"\n",
    ")\n",
    "c.add(route.references)\n",
    "c.plot()"
   ]
  },
  {
   "cell_type": "code",
   "execution_count": null,
   "id": "c7a1962a",
   "metadata": {},
   "outputs": [],
   "source": [
    "c = gf.Component(\"multi-layer\")\n",
    "columns = 2\n",
    "ptop = c << gf.components.pad_array(columns=columns)\n",
    "pbot = c << gf.components.pad_array(orientation=90, columns=columns)\n",
    "\n",
    "ptop.movex(300)\n",
    "ptop.movey(300)\n",
    "route = gf.routing.get_route_electrical_multilayer(\n",
    "    ptop.ports[\"e11\"],\n",
    "    pbot.ports[\"e11\"],\n",
    "    end_straight_length=100,\n",
    ")\n",
    "c.add(route.references)\n",
    "c.plot()"
   ]
  },
  {
   "cell_type": "markdown",
   "id": "303a54ad",
   "metadata": {},
   "source": [
    "There is also `bend = wire_corner45` for 45deg bend corner with parametrizable \"radius\":"
   ]
  },
  {
   "cell_type": "code",
   "execution_count": null,
   "id": "73831463",
   "metadata": {},
   "outputs": [],
   "source": [
    "c = gf.Component(\"pads_with_routes_with_wire_corner45\")\n",
    "pt = c << gf.components.pad_array(orientation=270, columns=1)\n",
    "pb = c << gf.components.pad_array(orientation=90, columns=1)\n",
    "pt.move((300, 300))\n",
    "route = gf.routing.get_route_electrical(\n",
    "    pt.ports[\"e11\"], pb.ports[\"e11\"], bend=\"wire_corner45\", radius=30\n",
    ")\n",
    "c.add(route.references)\n",
    "c.plot()"
   ]
  },
  {
   "cell_type": "code",
   "execution_count": null,
   "id": "85ea729a",
   "metadata": {},
   "outputs": [],
   "source": [
    "c = gf.Component(\"pads_with_routes_with_wire_corner45\")\n",
    "pt = c << gf.components.pad_array(orientation=270, columns=1)\n",
    "pb = c << gf.components.pad_array(orientation=90, columns=1)\n",
    "pt.move((300, 300))\n",
    "route = gf.routing.get_route_electrical(\n",
    "    pt.ports[\"e11\"], pb.ports[\"e11\"], bend=\"wire_corner45\", radius=100\n",
    ")\n",
    "c.add(route.references)\n",
    "c.plot()"
   ]
  },
  {
   "cell_type": "markdown",
   "id": "4a7e83df",
   "metadata": {},
   "source": [
    "### route_quad"
   ]
  },
  {
   "cell_type": "code",
   "execution_count": null,
   "id": "a57ae20a",
   "metadata": {},
   "outputs": [],
   "source": [
    "c = gf.Component(\"pads_route_quad\")\n",
    "pt = c << gf.components.pad_array(orientation=270, columns=3)\n",
    "pb = c << gf.components.pad_array(orientation=90, columns=3)\n",
    "pt.move((100, 200))\n",
    "route = c << gf.routing.route_quad(pt.ports[\"e11\"], pb.ports[\"e11\"], layer=(49, 0))\n",
    "c.plot()"
   ]
  },
  {
   "cell_type": "markdown",
   "id": "243e77e6",
   "metadata": {},
   "source": [
    "### get_route_from_steps"
   ]
  },
  {
   "cell_type": "code",
   "execution_count": null,
   "id": "693bf0d6",
   "metadata": {},
   "outputs": [],
   "source": [
    "c = gf.Component(\"pads_route_from_steps\")\n",
    "pt = c << gf.components.pad_array(orientation=270, columns=3)\n",
    "pb = c << gf.components.pad_array(orientation=90, columns=3)\n",
    "pt.move((100, 200))\n",
    "route = gf.routing.get_route_from_steps(\n",
    "    pb.ports[\"e11\"],\n",
    "    pt.ports[\"e11\"],\n",
    "    steps=[\n",
    "        {\"y\": 200},\n",
    "    ],\n",
    "    cross_section=\"metal_routing\",\n",
    "    bend=gf.components.wire_corner,\n",
    ")\n",
    "c.add(route.references)\n",
    "c.plot()"
   ]
  },
  {
   "cell_type": "code",
   "execution_count": null,
   "id": "7a0269be",
   "metadata": {},
   "outputs": [],
   "source": [
    "c = gf.Component(\"pads_route_from_steps_None_orientation\")\n",
    "pt = c << gf.components.pad_array(orientation=None, columns=3)\n",
    "pb = c << gf.components.pad_array(orientation=None, columns=3)\n",
    "pt.move((100, 200))\n",
    "route = gf.routing.get_route_from_steps(\n",
    "    pb.ports[\"e11\"],\n",
    "    pt.ports[\"e11\"],\n",
    "    steps=[\n",
    "        {\"y\": 200},\n",
    "    ],\n",
    "    cross_section=\"metal_routing\",\n",
    "    bend=gf.components.wire_corner,\n",
    ")\n",
    "c.add(route.references)\n",
    "c.plot()"
   ]
  },
  {
   "cell_type": "markdown",
   "id": "38505643",
   "metadata": {},
   "source": [
    "### get_bundle_electrical\n",
    "\n",
    "For routing groups of ports you can use `get_bundle` that returns a bundle of routes using a bundle router (also known as bus or river router)"
   ]
  },
  {
   "cell_type": "code",
   "execution_count": null,
   "id": "73b1a19b",
   "metadata": {},
   "outputs": [],
   "source": [
    "c = gf.Component(\"pads_bundle\")\n",
    "pt = c << gf.components.pad_array(orientation=270, columns=3)\n",
    "pb = c << gf.components.pad_array(orientation=90, columns=3)\n",
    "pt.move((100, 200))\n",
    "\n",
    "routes = gf.routing.get_bundle_electrical(\n",
    "    pb.ports, pt.ports, end_straight_length=60, separation=30\n",
    ")\n",
    "\n",
    "for route in routes:\n",
    "    c.add(route.references)\n",
    "c.plot()"
   ]
  },
  {
   "cell_type": "markdown",
   "id": "5b132555",
   "metadata": {},
   "source": [
    "### get_bundle_from_steps_electrical"
   ]
  },
  {
   "cell_type": "code",
   "execution_count": null,
   "id": "acd5a8e8",
   "metadata": {},
   "outputs": [],
   "source": [
    "c = gf.Component(\"pads_bundle_steps\")\n",
    "pt = c << gf.components.pad_array(\n",
    "    partial(gf.components.pad, size=(30, 30)),\n",
    "    orientation=270,\n",
    "    columns=3,\n",
    "    spacing=(50, 0),\n",
    ")\n",
    "pb = c << gf.components.pad_array(orientation=90, columns=3)\n",
    "pt.move((300, 500))\n",
    "\n",
    "routes = gf.routing.get_bundle_from_steps_electrical(\n",
    "    pb.ports, pt.ports, end_straight_length=60, separation=30, steps=[{\"dy\": 100}]\n",
    ")\n",
    "\n",
    "for route in routes:\n",
    "    c.add(route.references)\n",
    "\n",
    "c.plot()"
   ]
  },
  {
   "cell_type": "markdown",
   "id": "02df4d26",
   "metadata": {},
   "source": [
    "### get_bundle_electrical_multilayer\n",
    "\n",
    "To avoid metal crossings you can use one metal layer."
   ]
  },
  {
   "cell_type": "code",
   "execution_count": null,
   "id": "76517053",
   "metadata": {},
   "outputs": [],
   "source": [
    "c = gf.Component(\"get_bundle_multi_layer\")\n",
    "columns = 2\n",
    "ptop = c << gf.components.pad_array(columns=columns)\n",
    "pbot = c << gf.components.pad_array(orientation=90, columns=columns)\n",
    "\n",
    "ptop.movex(300)\n",
    "ptop.movey(300)\n",
    "routes = gf.routing.get_bundle_electrical_multilayer(\n",
    "    ptop.ports, pbot.ports, end_straight_length=100, separation=20\n",
    ")\n",
    "for route in routes:\n",
    "    c.add(route.references)\n",
    "c.plot()"
   ]
  },
  {
   "cell_type": "markdown",
   "id": "561756cb",
   "metadata": {},
   "source": [
    "## Routing to pads\n",
    "\n",
    "You can also route to electrical pads."
   ]
  },
  {
   "cell_type": "code",
   "execution_count": null,
   "id": "bb5a3ca3",
   "metadata": {},
   "outputs": [],
   "source": [
    "c = gf.components.pad()\n",
    "cc = gf.routing.add_pads_bot(component=c, port_names=(\"e1\", \"e4\"), fanout_length=50)\n",
    "cc"
   ]
  },
  {
   "cell_type": "code",
   "execution_count": null,
   "id": "203bc8af",
   "metadata": {
    "lines_to_next_cell": 2
   },
   "outputs": [],
   "source": [
    "c = gf.components.straight_heater_metal(length=100.0)\n",
    "cc = gf.routing.add_pads_top(component=c)\n",
    "cc"
   ]
  },
  {
   "cell_type": "code",
   "execution_count": null,
   "id": "ea82cf07",
   "metadata": {},
   "outputs": [],
   "source": [
    "c = gf.components.straight_heater_metal(length=100.0)\n",
    "cc = gf.routing.add_pads_top(component=c, port_names=(\"e1\",))\n",
    "cc"
   ]
  },
  {
   "cell_type": "code",
   "execution_count": null,
   "id": "cb3a7a75",
   "metadata": {},
   "outputs": [],
   "source": [
    "n = west = north = south = east = 10\n",
    "spacing = 20\n",
    "c = gf.components.nxn(\n",
    "    xsize=n * spacing,\n",
    "    ysize=n * spacing,\n",
    "    west=west,\n",
    "    east=east,\n",
    "    north=north,\n",
    "    south=south,\n",
    "    port_type=\"electrical\",\n",
    "    wg_width=10,\n",
    ")\n",
    "c.plot()"
   ]
  },
  {
   "cell_type": "code",
   "execution_count": null,
   "id": "a4920857",
   "metadata": {},
   "outputs": [],
   "source": [
    "cc = gf.routing.add_pads_top(component=c)\n",
    "cc"
   ]
  },
  {
   "cell_type": "markdown",
   "id": "da1361a7",
   "metadata": {},
   "source": [
    "## Routing to optical terminations\n",
    "\n",
    "### Route to Fiber Array\n",
    "\n",
    "You can route to a fiber array."
   ]
  },
  {
   "cell_type": "code",
   "execution_count": null,
   "id": "0db8f83c",
   "metadata": {},
   "outputs": [],
   "source": [
    "component = big_device(nports=10)\n",
    "c = gf.routing.add_fiber_array(component=component, radius=10.0, fanout_length=60.0)\n",
    "c.plot()"
   ]
  },
  {
   "cell_type": "markdown",
   "id": "f5eaafb2",
   "metadata": {},
   "source": [
    "You can also mix and match TE and TM grating couplers. Notice that the `TM` polarization grating coupler is bigger."
   ]
  },
  {
   "cell_type": "code",
   "execution_count": null,
   "id": "d6aaf5df",
   "metadata": {},
   "outputs": [],
   "source": [
    "import gdsfactory as gf\n",
    "\n",
    "c = gf.components.mzi_phase_shifter()\n",
    "gcte = gf.components.grating_coupler_te\n",
    "\n",
    "cc = gf.routing.add_fiber_array(\n",
    "    component=c,\n",
    "    optical_routing_type=2,\n",
    "    grating_coupler=[\n",
    "        gf.components.grating_coupler_te,\n",
    "        gf.components.grating_coupler_tm,\n",
    "    ],\n",
    "    radius=20,\n",
    ")\n",
    "cc"
   ]
  },
  {
   "cell_type": "markdown",
   "id": "9870b4e4",
   "metadata": {},
   "source": [
    "### Route to Single fibers\n",
    "\n",
    "You can route to a single fiber input and single fiber output."
   ]
  },
  {
   "cell_type": "code",
   "execution_count": null,
   "id": "b551f3a1",
   "metadata": {},
   "outputs": [],
   "source": [
    "c = gf.components.ring_single()\n",
    "cc = gf.routing.add_fiber_single(component=c)\n",
    "cc"
   ]
  }
 ],
 "metadata": {
  "jupytext": {
   "cell_metadata_filter": "-all",
   "formats": "md,ipynb",
   "main_language": "python",
   "notebook_metadata_filter": "-all"
  }
 },
 "nbformat": 4,
 "nbformat_minor": 5
}
