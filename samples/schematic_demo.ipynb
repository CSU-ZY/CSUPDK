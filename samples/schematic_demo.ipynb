{
 "cells": [
  {
   "cell_type": "markdown",
   "id": "9c666b41-91a4-4e70-827c-62998e49bb2b",
   "metadata": {},
   "source": [
    "# Schematic Editor Demo\n",
    "\n",
    "This is a proof-of-concept demo of a Schematic Editor using gdsfactory. It uses a schematic format similar to our `*.pic.yml` format which should make it easy to enable an SDL flow. The Jupyter interface allows us to get the best of both worlds of GUI and python based flows."
   ]
  },
  {
   "cell_type": "code",
   "execution_count": null,
   "id": "a0571225-d483-43cd-b487-816daa35118b",
   "metadata": {},
   "outputs": [],
   "source": [
    "%env BOKEH_ALLOW_WS_ORIGIN=localhost:8888\n",
    "\n",
    "from gdsfactory.schematic_editor import SchematicEditor\n",
    "from bokeh.io import output_notebook\n",
    "import os\n",
    "\n",
    "output_notebook()"
   ]
  },
  {
   "cell_type": "markdown",
   "id": "186155e3-7021-4b4c-86f6-94f2ca3ca78f",
   "metadata": {},
   "source": [
    "## Initialize the Schematic Editor session\n",
    "\n",
    "First we initialize a session of the schematic editor. The editor is synced to the file specified. If it does not exist, it will be created. If it does exist, it will load the schematic for editing. The schematic file is continuously auto-saved as we edit the schematic in our notebook, so I would recommend managing it with git if you wish to create checkpoints in between sessions."
   ]
  },
  {
   "cell_type": "code",
   "execution_count": null,
   "id": "d80a7a4d-4987-454e-9486-b25d15086124",
   "metadata": {},
   "outputs": [],
   "source": [
    "se = SchematicEditor('test.schem.yml')"
   ]
  },
  {
   "cell_type": "markdown",
   "id": "7ec0e5d8-216c-4116-8d1a-8899c67cf7ce",
   "metadata": {},
   "source": [
    "## Define instances\n",
    "\n",
    "The first step in setting up a schematic is to define which instances should be included. We do this through this grid-like editor. Note how the components are auto-populated from our PDK (by default, the active PDK is used)"
   ]
  },
  {
   "cell_type": "code",
   "execution_count": null,
   "id": "9265996e-4a44-45d8-9f01-545874e2ed0a",
   "metadata": {},
   "outputs": [],
   "source": [
    "se.instance_widget"
   ]
  },
  {
   "cell_type": "code",
   "execution_count": null,
   "id": "8f537be4-2d5c-4028-8d8a-5ec1d27ca5b4",
   "metadata": {},
   "outputs": [],
   "source": [
    "se.instances.keys()"
   ]
  },
  {
   "cell_type": "code",
   "execution_count": null,
   "id": "5ff026fb-516c-4cc7-a121-34d4359618d4",
   "metadata": {},
   "outputs": [],
   "source": [
    "se.instances['mmi1'].settings.full"
   ]
  },
  {
   "cell_type": "markdown",
   "id": "ea666c75-5a90-4762-bd5e-cf8c270a3651",
   "metadata": {},
   "source": [
    "## Customize component instances\n",
    "Now we can further fine-tune settings of our components. You'll see how the schematic auto-updates as our settings change.\n",
    "\n",
    "It's nice to be able to do this in code, so we can set even the most complex settings using the full power of python."
   ]
  },
  {
   "cell_type": "code",
   "execution_count": null,
   "id": "b2eb5f85-d780-4e97-95b1-7e92f434c36b",
   "metadata": {},
   "outputs": [],
   "source": [
    "se.update_settings('mmi1', gap_mmi=1.0)\n",
    "se.update_settings('mmi2', gap_mmi=0.5)\n",
    "\n",
    "for inst_name, inst in se.instances.items():\n",
    "    if inst.settings.changed:\n",
    "        print(f'{inst_name}: {inst.settings.changed}')"
   ]
  },
  {
   "cell_type": "markdown",
   "id": "ab1ce930-5d29-46aa-bac9-96181f0c487a",
   "metadata": {},
   "source": [
    "## Define nets\n",
    "\n",
    "Now, we define our logical connections between instances in our netlist. Each row in the grid represents one logical connection"
   ]
  },
  {
   "cell_type": "code",
   "execution_count": null,
   "id": "81b60c24-fee6-4a1e-b818-e9228148a35c",
   "metadata": {},
   "outputs": [],
   "source": [
    "se.net_widget"
   ]
  },
  {
   "cell_type": "markdown",
   "id": "4ebb44ce-fe37-4609-a14e-dc5b725a355c",
   "metadata": {},
   "source": [
    "## Visualize\n",
    "We can visualize our schematic down below. After you've initialized the plot below, you should see it live-update after every change we make above.\n",
    "\n",
    "Currently the size and location of ports for our components are layout-realistic. This may be a nice default if you don't care to bother making symbols for your components. But it would be a nice improvement for the future to allow associating symbols with components, to make the schematic easier to read.\n",
    "\n",
    "If you activate the `Point Draw Tool` in the plot, you should see that you are able to arrange components freely on the schematic, and changes are saved back to the `*.schem.yml` file in realtime."
   ]
  },
  {
   "cell_type": "code",
   "execution_count": null,
   "id": "a34124a7-3f92-422b-8113-597568ca3b8a",
   "metadata": {},
   "outputs": [],
   "source": [
    "se.visualize()"
   ]
  },
  {
   "cell_type": "markdown",
   "id": "e4036ae4-c35d-412e-9ef9-f86ea6d745b5",
   "metadata": {},
   "source": [
    "## TODO\n",
    "- Demonstrate instantiation of a layout from a schematic (SDL)\n",
    "- Implement symbols for components in schematic view\n",
    "- Prettier display of nets and better control over waypoints"
   ]
  },
  {
   "cell_type": "code",
   "execution_count": null,
   "id": "6a7fd5da-7910-472a-a79a-5967b1f81237",
   "metadata": {},
   "outputs": [],
   "source": []
  }
 ],
 "metadata": {
  "kernelspec": {
   "display_name": "rpdk",
   "language": "python",
   "name": "rpdk"
  },
  "language_info": {
   "codemirror_mode": {
    "name": "ipython",
    "version": 3
   },
   "file_extension": ".py",
   "mimetype": "text/x-python",
   "name": "python",
   "nbconvert_exporter": "python",
   "pygments_lexer": "ipython3",
   "version": "3.10.0"
  }
 },
 "nbformat": 4,
 "nbformat_minor": 5
}
