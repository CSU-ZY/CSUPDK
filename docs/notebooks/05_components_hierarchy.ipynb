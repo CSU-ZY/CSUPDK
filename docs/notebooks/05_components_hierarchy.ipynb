{
 "cells": [
  {
   "cell_type": "markdown",
   "id": "151ffe48-fdf0-43ac-ae0d-76eae5e1b82e",
   "metadata": {},
   "source": [
    "# Components with hierarchy\n",
    "\n",
    "You can define some components (waveguides, bends, couplers) as a stand alone components, with basic input parameters (width, length, radius ...)\n",
    "\n",
    "Then you can re-use those components in a more complex hiearchical components.\n",
    "\n",
    "`gdsfactory` does this by passing the higher level component with the lower level functions to build the components.\n",
    "\n",
    "You can customize any of the functions thanks to `functools.partial`"
   ]
  },
  {
   "cell_type": "code",
   "execution_count": null,
   "id": "ec03cbca-b432-45c9-af70-e4834c98eecf",
   "metadata": {},
   "outputs": [],
   "source": [
    "import pp"
   ]
  },
  {
   "cell_type": "code",
   "execution_count": null,
   "id": "953398ff-f5cc-42c9-b86f-263f331b7239",
   "metadata": {},
   "outputs": [],
   "source": [
    "@pp.cell\n",
    "def mzi_sample(splitter=pp.c.mmi1x2, combiner=pp.c.mmi1x2, bend=pp.c.bend_euler, straight=pp.c.straight, delta_length:float=100.):\n",
    "    arm_top_sequence = 'BR-RB'\n",
    "    arm_top_symbol_to_component = {\n",
    "        \"B\": (bend(), \"W0\", \"N0\"),\n",
    "        \"R\": (bend(), \"N0\", \"W0\"),\n",
    "        \"-\": (straight(), \"W0\", \"E0\"),\n",
    "        \"_\": (straight(length=delta_length/2), \"W0\", \"E0\"),\n",
    "    }\n",
    "    arm_top_sequence = 'B_R-R_B'\n",
    "    arm_bot_sequence = 'RB-BR'\n",
    "    arm_top = pp.c.component_sequence(sequence=arm_top_sequence, symbol_to_component=arm_top_symbol_to_component)\n",
    "    arm_bot = pp.c.component_sequence(sequence=arm_bot_sequence, symbol_to_component=arm_top_symbol_to_component)\n",
    "    \n",
    "    c = pp.Component()\n",
    "    top = c << arm_top\n",
    "    bot = c << arm_bot\n",
    "    splitter =  c << splitter()\n",
    "    combiner = c << combiner() \n",
    "    \n",
    "    top.connect('in', splitter.ports['E1'])\n",
    "    bot.connect('in', splitter.ports['E0'])\n",
    "    combiner.connect('E1', bot.ports['out'])\n",
    "    c.add_port('W0', port=splitter.ports['W0'])\n",
    "    c.add_port('E0', port=combiner.ports['W0'])\n",
    "    return c\n",
    "\n",
    "c = mzi_sample()\n",
    "c"
   ]
  },
  {
   "cell_type": "markdown",
   "id": "855f2ed2-00cf-44ea-8435-5a304cac9a03",
   "metadata": {},
   "source": [
    "Lets **customize** the functions that we pass.\n",
    "For example, we want to increase the radius of the bend from the default 10um to 50um."
   ]
  },
  {
   "cell_type": "code",
   "execution_count": null,
   "id": "558cddd6-1c57-4461-86d4-317eeb7b46d0",
   "metadata": {},
   "outputs": [],
   "source": [
    "pp.c.bend_circular()"
   ]
  },
  {
   "cell_type": "markdown",
   "id": "71668f94-3d00-4fa7-bd16-7fca97d3ed33",
   "metadata": {},
   "source": [
    "## functools.partial\n",
    "\n",
    "Partial lets you define different default parameters for a function, so you can modify the settings for the child cells."
   ]
  },
  {
   "cell_type": "code",
   "execution_count": null,
   "id": "c8ad9ffc-d3b7-4a0a-87ca-5604f2f6347e",
   "metadata": {},
   "outputs": [],
   "source": [
    "from functools import partial"
   ]
  },
  {
   "cell_type": "code",
   "execution_count": null,
   "id": "7ab522b6-6c84-42c6-b98a-955682e3ef95",
   "metadata": {},
   "outputs": [],
   "source": [
    "bend50 = partial(pp.c.bend_circular, radius=50)\n",
    "bend50()"
   ]
  },
  {
   "cell_type": "code",
   "execution_count": null,
   "id": "4a58d796-1dc9-406e-9d08-c53df384fc14",
   "metadata": {},
   "outputs": [],
   "source": [
    "type(bend50)"
   ]
  },
  {
   "cell_type": "code",
   "execution_count": null,
   "id": "bd93b419-661d-48db-95c5-40615c4d10d8",
   "metadata": {},
   "outputs": [],
   "source": [
    "bend50.func.__name__"
   ]
  },
  {
   "cell_type": "code",
   "execution_count": null,
   "id": "55f8b903-9c09-4c03-982f-f4a9746249e0",
   "metadata": {},
   "outputs": [],
   "source": [
    "bend50.keywords"
   ]
  },
  {
   "cell_type": "code",
   "execution_count": null,
   "id": "a3fe7cee-69fc-4b02-832a-7f51c483e51c",
   "metadata": {},
   "outputs": [],
   "source": [
    "c = mzi_sample(bend=partial(pp.c.bend_circular, radius=50))\n",
    "c"
   ]
  },
  {
   "cell_type": "code",
   "execution_count": null,
   "id": "1c8641a7-9f80-47af-a373-64ef15454cca",
   "metadata": {},
   "outputs": [],
   "source": [
    "bend50(radius=10)"
   ]
  },
  {
   "cell_type": "code",
   "execution_count": null,
   "id": "6a79af82-0637-4435-b221-e2e505f178b5",
   "metadata": {},
   "outputs": [],
   "source": [
    "c = mzi_sample()\n",
    "c"
   ]
  },
  {
   "cell_type": "markdown",
   "id": "c7a11dcb-0514-4d13-81b3-8f8300d15f26",
   "metadata": {},
   "source": [
    "## PDK custom fab\n",
    "\n",
    "You can define a new PDK by creating function that customize partial parameters of the generic functions.\n",
    "\n",
    "Lets say that this PDK uses layer (41, 0) for the pads (instead of the layer used in the generic pad function).\n",
    "\n",
    "You can also access `functools.partial` from `pp.partial`"
   ]
  },
  {
   "cell_type": "code",
   "execution_count": null,
   "id": "1c4a99b7-0743-401a-9e70-6c2e18c6b1b1",
   "metadata": {},
   "outputs": [],
   "source": [
    "import pp\n",
    "\n",
    "pad = pp.partial(pp.c.pad, layer=(41, 0))"
   ]
  },
  {
   "cell_type": "code",
   "execution_count": null,
   "id": "7655c9c2-e6a9-4728-8c97-339146c1c191",
   "metadata": {},
   "outputs": [],
   "source": [
    "pad()"
   ]
  },
  {
   "cell_type": "code",
   "execution_count": null,
   "id": "a5c3f3b8-dfbd-4008-ad0a-7422c9935b72",
   "metadata": {},
   "outputs": [],
   "source": []
  }
 ],
 "metadata": {
  "kernelspec": {
   "display_name": "Python 3 (ipykernel)",
   "language": "python",
   "name": "python3"
  },
  "language_info": {
   "codemirror_mode": {
    "name": "ipython",
    "version": 3
   },
   "file_extension": ".py",
   "mimetype": "text/x-python",
   "name": "python",
   "nbconvert_exporter": "python",
   "pygments_lexer": "ipython3",
   "version": "3.9.5"
  }
 },
 "nbformat": 4,
 "nbformat_minor": 5
}
