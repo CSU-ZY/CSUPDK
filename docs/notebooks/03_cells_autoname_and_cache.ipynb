{
 "cells": [
  {
   "cell_type": "markdown",
   "metadata": {},
   "source": [
    "# Cell\n",
    "\n",
    "Problem:\n",
    "\n",
    "1. In GDS each cell must have a unique name.\n",
    "2. In GDS two cells stored in the GDS file cannot have the same name.\n",
    "\n",
    "Solution: The decorator `@gf.cell` fixes both issues:\n",
    "\n",
    "1. By giving the cell a unique name depending on the parameters that you pass\n",
    "2. By creating a cache of cells where we use the cell name as the key. This to create two cells with the same name in the same python script.\n",
    "\n",
    "Lets see how it works"
   ]
  },
  {
   "cell_type": "code",
   "execution_count": null,
   "metadata": {},
   "outputs": [],
   "source": [
    "import gdsfactory as gf\n",
    "\n",
    "@gf.cell\n",
    "def wg(length=10, width=1):\n",
    "    c = gf.Component()\n",
    "    c.add_polygon([(0, 0), (length, 0), (length, width), (0, width)], layer=(1, 0))\n",
    "    c.add_port(name='o1', midpoint=[0, width / 2], width=width, orientation=180)\n",
    "    c.add_port(name='o2', midpoint=[length, width / 2], width=width, orientation=0)\n",
    "    return c"
   ]
  },
  {
   "cell_type": "markdown",
   "metadata": {},
   "source": [
    "See how the cells get the name from the parameters that you pass them"
   ]
  },
  {
   "cell_type": "code",
   "execution_count": null,
   "metadata": {},
   "outputs": [],
   "source": [
    "c = wg()\n",
    "print(c)\n",
    "\n",
    "c = wg(width=0.5)\n",
    "print(c)"
   ]
  },
  {
   "cell_type": "markdown",
   "metadata": {},
   "source": [
    "How can you have add two different references to a cell with the same parameters?"
   ]
  },
  {
   "cell_type": "code",
   "execution_count": null,
   "metadata": {},
   "outputs": [],
   "source": [
    "# Problem\n",
    "import gdsfactory as gf\n",
    "\n",
    "c = gf.Component('problem')\n",
    "R1 = gf.components.rectangle(size=(4,2))  # Creates a rectangle (same Unique ID uid)\n",
    "R2 = gf.components.rectangle(size=(4,2))\n",
    "# Try Create a new rectangle that we want to change (but has the same name so we will get R1 from the cache)\n",
    "\n",
    "r1r = c << R1  # Add the first rectangle to c\n",
    "r2r = c << R2  # Add the second rectangle to c\n",
    "c"
   ]
  },
  {
   "cell_type": "code",
   "execution_count": null,
   "metadata": {},
   "outputs": [],
   "source": [
    "print(R1 == R2)\n",
    "print(R1)\n",
    "print(R2)\n",
    "\n",
    "# But now I want to rotate R2 -- I can't because it doesn't exist! The error is that it rotates both references!\n",
    "R2.rotate(45)\n",
    "# I think I'm rotating a second rectangle, but actually R2 points to R1 even though I specifically tried to create two rectangles\n",
    "c.plot()"
   ]
  },
  {
   "cell_type": "markdown",
   "metadata": {},
   "source": [
    "if you run the cell above you will see the cell rotating. This is a bad way to manipulate cells. That's why wrote the references tutorial."
   ]
  },
  {
   "cell_type": "code",
   "execution_count": null,
   "metadata": {},
   "outputs": [],
   "source": [
    "# Solution: use references\n",
    "import gdsfactory as gf\n",
    "\n",
    "c = gf.Component('solution')\n",
    "R = gf.components.rectangle(size=(4,2))  \n",
    "\n",
    "r1 = c << R  # Add the first rectangle reference to c\n",
    "r2 = c << R  # Add the second rectangle reference to c\n",
    "\n",
    "r2.rotate(45)\n",
    "c"
   ]
  },
  {
   "cell_type": "markdown",
   "metadata": {},
   "source": [
    "## Adding port markers\n",
    "\n",
    "When you use `component.show(show_ports=True)` it automatically adds pins markers to all ports"
   ]
  },
  {
   "cell_type": "code",
   "execution_count": null,
   "metadata": {},
   "outputs": [],
   "source": [
    "import gdsfactory as gf\n",
    "c = gf.components.straight()\n",
    "c.show(show_ports=True)\n",
    "c.plot()"
   ]
  },
  {
   "cell_type": "markdown",
   "metadata": {},
   "source": [
    "We can even show ports of all references with `component.show(show_subports=True)`"
   ]
  },
  {
   "cell_type": "code",
   "execution_count": null,
   "metadata": {},
   "outputs": [],
   "source": [
    "c = gf.components.mzi_phase_shifter(length_x=50)\n",
    "c"
   ]
  },
  {
   "cell_type": "markdown",
   "metadata": {},
   "source": [
    "## Cache\n",
    "\n",
    "To avoid that 2 exact cells are not references of the same cell the `cell` decorator has a\n",
    "cache where if component has already been build it will return the component\n",
    "from the cache\n"
   ]
  },
  {
   "cell_type": "code",
   "execution_count": null,
   "metadata": {},
   "outputs": [],
   "source": [
    "@gf.cell\n",
    "def wg(length=10, width=1):\n",
    "    c = gf.Component()\n",
    "    c.add_polygon([(0, 0), (length, 0), (length, width), (0, width)], layer=(1, 0))\n",
    "    print(\"calling wg function\")\n",
    "    return c"
   ]
  },
  {
   "cell_type": "code",
   "execution_count": null,
   "metadata": {},
   "outputs": [],
   "source": [
    "wg1 = wg()  # cell builds a straight\n",
    "print(wg1)"
   ]
  },
  {
   "cell_type": "code",
   "execution_count": null,
   "metadata": {},
   "outputs": [],
   "source": [
    "wg2 = wg()  # cell returns the same straight as before without having to run the function\n",
    "print(wg2) # notice that they have the same uuid (unique identifier)"
   ]
  },
  {
   "cell_type": "code",
   "execution_count": null,
   "metadata": {},
   "outputs": [],
   "source": [
    "wg2.plot()"
   ]
  },
  {
   "cell_type": "code",
   "execution_count": null,
   "metadata": {},
   "outputs": [],
   "source": [
    "from gdsfactory.cell import print_cache"
   ]
  },
  {
   "cell_type": "markdown",
   "metadata": {},
   "source": [
    "Lets say that you change the code of the straight function in a jupyter notebook like this one.  (I mostly use Vim/VsCode/Pycharm for creating new cells in python)"
   ]
  },
  {
   "cell_type": "code",
   "execution_count": null,
   "metadata": {},
   "outputs": [],
   "source": [
    "print_cache() # Cache gets clear with each show or plot just to be safe"
   ]
  },
  {
   "cell_type": "code",
   "execution_count": null,
   "metadata": {},
   "outputs": [],
   "source": [
    "wg3 = wg()\n",
    "wg4 = wg(length=11)"
   ]
  },
  {
   "cell_type": "code",
   "execution_count": null,
   "metadata": {},
   "outputs": [],
   "source": [
    "print_cache() "
   ]
  },
  {
   "cell_type": "code",
   "execution_count": null,
   "metadata": {},
   "outputs": [],
   "source": [
    "wg3.plot()"
   ]
  },
  {
   "cell_type": "markdown",
   "metadata": {},
   "source": [
    "To enable nice notebook tutorials, every time we show a cell in Matplotlib or Klayout, we clear the cache, in case you want to develop cells in jupyter notebooks or an IPython kernel"
   ]
  },
  {
   "cell_type": "code",
   "execution_count": null,
   "metadata": {},
   "outputs": [],
   "source": [
    "print_cache() # cache is now empty"
   ]
  },
  {
   "cell_type": "markdown",
   "metadata": {},
   "source": [
    "## Validate argument types\n",
    "\n",
    "To make sure you pass the correct arguments to the cell it runs a validator that checks the type annotations for the function.\n",
    "\n",
    "\n",
    "For example this will be correct\n",
    "\n",
    "```python\n",
    "import gdsfactory as gf\n",
    "\n",
    "@gf.cell\n",
    "def straigth_waveguide(length:float):\n",
    "    return gf.components.straigth(length=length)\n",
    "\n",
    "\n",
    "component = straigth_waveguide(length=3)\n",
    "```\n",
    "\n",
    "\n",
    "While this will raise an error\n",
    "\n",
    "```python\n",
    "import gdsfactory as gf\n",
    "\n",
    "@gf.cell\n",
    "def straigth_waveguide(length:float):\n",
    "    return gf.components.straigth(length=length)\n",
    "\n",
    "\n",
    "component = straigth_waveguide(length='long')\n",
    "```\n",
    "\n",
    "by default `@cell` validates all arguments using [pydantic](https://pydantic-docs.helpmanual.io/usage/validation_decorator/#argument-types)"
   ]
  },
  {
   "cell_type": "code",
   "execution_count": null,
   "metadata": {},
   "outputs": [],
   "source": []
  }
 ],
 "metadata": {
  "kernelspec": {
   "display_name": "Python 3 (ipykernel)",
   "language": "python",
   "name": "python3"
  },
  "language_info": {
   "codemirror_mode": {
    "name": "ipython",
    "version": 3
   },
   "file_extension": ".py",
   "mimetype": "text/x-python",
   "name": "python",
   "nbconvert_exporter": "python",
   "pygments_lexer": "ipython3",
   "version": "3.9.5"
  }
 },
 "nbformat": 4,
 "nbformat_minor": 4
}
