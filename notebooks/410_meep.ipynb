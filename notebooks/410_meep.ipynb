{
 "cells": [
  {
   "cell_type": "markdown",
   "metadata": {},
   "source": [
    "# Meep\n",
    "\n",
    "interface using GDS\n",
    "\n",
    "- add monitors\n",
    "- run simulation\n",
    "- pull coefficients, and create proper ratios to get Sparameters. Monitors are recording Fourier Transform fields. Sparameter is a relationship of those parameters. Frequency domain approach at many different frequencies. Get eigenmode coefficients.\n",
    "    - forward coefficient: how much waveguide forward mode\n",
    "    - backward coefficient: how much waveguide forward mode"
   ]
  },
  {
   "cell_type": "code",
   "execution_count": null,
   "metadata": {},
   "outputs": [],
   "source": [
    "import pp\n",
    "import gdsmp as ms"
   ]
  },
  {
   "cell_type": "code",
   "execution_count": null,
   "metadata": {},
   "outputs": [],
   "source": [
    "c = pp.c.waveguide(length=2)\n",
    "cm = ms.add_monitors(c)"
   ]
  },
  {
   "cell_type": "code",
   "execution_count": null,
   "metadata": {},
   "outputs": [],
   "source": [
    "r = ms.simulate2(cm, run=False, res=10)\n",
    "print(r)"
   ]
  },
  {
   "cell_type": "code",
   "execution_count": null,
   "metadata": {},
   "outputs": [],
   "source": [
    "r = ms.simulate2(cm, run=True, res=10, until_after_sources=100, three_d=True)\n",
    "print(r)"
   ]
  },
  {
   "cell_type": "code",
   "execution_count": null,
   "metadata": {},
   "outputs": [],
   "source": [
    "r['t']"
   ]
  },
  {
   "cell_type": "code",
   "execution_count": null,
   "metadata": {},
   "outputs": [],
   "source": [
    "s = r['sim']"
   ]
  },
  {
   "cell_type": "code",
   "execution_count": null,
   "metadata": {},
   "outputs": [],
   "source": [
    "import meep as mp"
   ]
  },
  {
   "cell_type": "code",
   "execution_count": null,
   "metadata": {},
   "outputs": [],
   "source": [
    "monitor_point = mp.Volume(center=mp.Vector3(0, 0, 0), size=mp.Vector3(0, 0, 0))\n",
    "\n"
   ]
  },
  {
   "cell_type": "code",
   "execution_count": null,
   "metadata": {},
   "outputs": [],
   "source": [
    "monitor_point = sim.add_mode_monitor(\n",
    "        freqs,\n",
    "        mp.FluxRegion(center=[0, 0, 0], size=[0, cell_size.y, cell_size.z]),\n",
    "    )\n",
    "\n"
   ]
  },
  {
   "cell_type": "code",
   "execution_count": null,
   "metadata": {},
   "outputs": [],
   "source": [
    "monitor_point = mp.Vector3((0,0,0))"
   ]
  },
  {
   "cell_type": "code",
   "execution_count": null,
   "metadata": {},
   "outputs": [],
   "source": [
    "monitor_point = (0,0,0)"
   ]
  },
  {
   "cell_type": "code",
   "execution_count": null,
   "metadata": {},
   "outputs": [],
   "source": [
    "s.get_field_point(mp.Ez, monitor_point )"
   ]
  },
  {
   "cell_type": "code",
   "execution_count": null,
   "metadata": {},
   "outputs": [],
   "source": [
    "r = ms.simulate2(cm, run=True, res=10)"
   ]
  },
  {
   "cell_type": "code",
   "execution_count": null,
   "metadata": {},
   "outputs": [],
   "source": [
    "import pp\n",
    "import gdsmp as ms\n",
    "\n",
    "c = pp.c.coupler(length=0.1)\n",
    "cm = ms.add_monitors(c)\n",
    "r2 = ms.simulate4(cm, run=True)"
   ]
  },
  {
   "cell_type": "code",
   "execution_count": null,
   "metadata": {},
   "outputs": [],
   "source": [
    "print(r2)"
   ]
  },
  {
   "cell_type": "code",
   "execution_count": null,
   "metadata": {},
   "outputs": [],
   "source": [
    "import pp\n",
    "import gdsmp as ms\n",
    "\n",
    "c = pp.c.coupler(length=0.1)\n",
    "cm = ms.add_monitors(c)\n",
    "r2 = ms.simulate4(cm, run=True)"
   ]
  },
  {
   "cell_type": "code",
   "execution_count": null,
   "metadata": {},
   "outputs": [],
   "source": [
    "print(r2)"
   ]
  },
  {
   "cell_type": "code",
   "execution_count": null,
   "metadata": {},
   "outputs": [],
   "source": [
    "r2['t4'] + r2['t3']"
   ]
  },
  {
   "cell_type": "code",
   "execution_count": null,
   "metadata": {},
   "outputs": [],
   "source": [
    "import meep as mp\n",
    "import pp\n",
    "import gdsmp as ms\n"
   ]
  },
  {
   "cell_type": "code",
   "execution_count": null,
   "metadata": {},
   "outputs": [],
   "source": [
    "mp.GDSII_vol?"
   ]
  },
  {
   "cell_type": "code",
   "execution_count": null,
   "metadata": {},
   "outputs": [],
   "source": [
    "c = pp.c.waveguide()\n",
    "gdspath = pp.write_gds(c)\n",
    "v = mp.GDSII_vol(gdspath, layer=1,zmin=0, zmax=0.22)"
   ]
  },
  {
   "cell_type": "code",
   "execution_count": null,
   "metadata": {},
   "outputs": [],
   "source": [
    "dir(v)"
   ]
  },
  {
   "cell_type": "code",
   "execution_count": null,
   "metadata": {},
   "outputs": [],
   "source": [
    "v.size"
   ]
  },
  {
   "cell_type": "code",
   "execution_count": null,
   "metadata": {},
   "outputs": [],
   "source": [
    "\n",
    "c = pp.c.waveguide(length=5)\n",
    "c = pp.c.coupler(length=5.1)\n",
    "ms.add_monitors(c)\n",
    "c = pp.extend_ports(c, length=2)\n",
    "c.flatten()\n",
    "pp.show(c)\n",
    "gdspath = pp.write_gds(c)"
   ]
  },
  {
   "cell_type": "code",
   "execution_count": null,
   "metadata": {},
   "outputs": [],
   "source": [
    "v.size"
   ]
  },
  {
   "cell_type": "code",
   "execution_count": null,
   "metadata": {},
   "outputs": [],
   "source": [
    "mp.GDSII_layers(gdspath)"
   ]
  },
  {
   "cell_type": "code",
   "execution_count": null,
   "metadata": {},
   "outputs": [],
   "source": [
    "v.size=mp.Vector3(c.xsize, c.ysize, 0.22)"
   ]
  },
  {
   "cell_type": "code",
   "execution_count": null,
   "metadata": {},
   "outputs": [],
   "source": [
    "v.size[0]"
   ]
  },
  {
   "cell_type": "code",
   "execution_count": null,
   "metadata": {},
   "outputs": [],
   "source": [
    "import meep as mp\n",
    "import numpy as np\n",
    "import math\n",
    "\n",
    "cell_size = mp.Vector3(2,2,2)\n",
    "\n",
    "# A hexagon is defined as a prism with six vertices centered on the origin\n",
    "vertices = [mp.Vector3(-1,0),\n",
    "            mp.Vector3(-0.5,math.sqrt(3)/2),\n",
    "            mp.Vector3(0.5,math.sqrt(3)/2),\n",
    "            mp.Vector3(1,0),\n",
    "            mp.Vector3(0.5,-math.sqrt(3)/2),\n",
    "            mp.Vector3(-0.5,-math.sqrt(3)/2)]\n",
    "\n",
    "geometry = [mp.Prism(vertices, height=1.0, material=mp.Medium(index=3.5)),\n",
    "            mp.Cone(radius=1.0, radius2=0.1, height=2.0, material=mp.air)]\n",
    "\n",
    "sim = mp.Simulation(resolution=50,\n",
    "                    cell_size=cell_size,\n",
    "                    geometry=geometry)\n",
    "\n",
    "sim.init_sim()\n",
    "\n",
    "eps_data = sim.get_epsilon()\n",
    "\n",
    "from mayavi import mlab\n",
    "s = mlab.contour3d(eps_data, colormap=\"YlGnBu\")\n",
    "mlab.show()"
   ]
  },
  {
   "cell_type": "code",
   "execution_count": null,
   "metadata": {},
   "outputs": [],
   "source": [
    "from omegaconf import OmegaConf\n",
    "\n",
    "config_cwd = OmegaConf.load('a')"
   ]
  },
  {
   "cell_type": "code",
   "execution_count": null,
   "metadata": {},
   "outputs": [],
   "source": [
    "c = pp.c.waveguide()"
   ]
  },
  {
   "cell_type": "code",
   "execution_count": null,
   "metadata": {},
   "outputs": [],
   "source": [
    "c.add"
   ]
  }
 ],
 "metadata": {
  "kernelspec": {
   "display_name": "Python 3",
   "language": "python",
   "name": "python3"
  },
  "language_info": {
   "codemirror_mode": {
    "name": "ipython",
    "version": 3
   },
   "file_extension": ".py",
   "mimetype": "text/x-python",
   "name": "python",
   "nbconvert_exporter": "python",
   "pygments_lexer": "ipython3",
   "version": "3.8.3"
  }
 },
 "nbformat": 4,
 "nbformat_minor": 4
}
