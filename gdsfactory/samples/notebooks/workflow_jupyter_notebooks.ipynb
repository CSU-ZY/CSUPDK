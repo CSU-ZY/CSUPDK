{
 "cells": [
  {
   "cell_type": "markdown",
   "id": "809580f0",
   "metadata": {},
   "source": [
    "# Jupyter notebooks\n",
    "\n",
    "Working with Jupyter notebooks is great for learning gdsfactory as well as running heavy simulations on Cloud servers.\n",
    "\n",
    "Thanks to [kweb](https://github.com/gdsfactory/kweb) you can use the webapp version on klayout in your browser or inside jupyter notebooks."
   ]
  },
  {
   "cell_type": "code",
   "execution_count": null,
   "id": "7a1c623f",
   "metadata": {},
   "outputs": [],
   "source": [
    "import kweb.server_jupyter as kj  # requires `pip install gdsfactory[full]` or `pip install kweb`\n",
    "import gdsfactory as gf\n",
    "\n",
    "gf.config.rich_output()\n",
    "PDK = gf.get_generic_pdk()\n",
    "PDK.activate()\n",
    "\n",
    "gf.config.set_log_level(\"DEBUG\")\n",
    "kj.start()"
   ]
  },
  {
   "cell_type": "code",
   "execution_count": null,
   "id": "bc38f4af",
   "metadata": {},
   "outputs": [],
   "source": [
    "c = gf.components.mzi()"
   ]
  },
  {
   "cell_type": "code",
   "execution_count": null,
   "id": "714996d0",
   "metadata": {},
   "outputs": [],
   "source": [
    "c.plot_jupyter()"
   ]
  },
  {
   "cell_type": "code",
   "execution_count": null,
   "id": "6df4da0b",
   "metadata": {},
   "outputs": [],
   "source": [
    "c = gf.components.bend_circular()\n",
    "c.plot_jupyter()"
   ]
  },
  {
   "cell_type": "code",
   "execution_count": null,
   "id": "4c295d72",
   "metadata": {},
   "outputs": [],
   "source": [
    "c = gf.components.straight_heater_meander()\n",
    "c.plot_jupyter()"
   ]
  },
  {
   "cell_type": "code",
   "execution_count": null,
   "id": "5a95b946",
   "metadata": {},
   "outputs": [],
   "source": [
    "c.plot()"
   ]
  },
  {
   "cell_type": "code",
   "execution_count": null,
   "id": "0f2b5e33",
   "metadata": {},
   "outputs": [],
   "source": [
    "s = c.to_3d()\n",
    "s.show()"
   ]
  }
 ],
 "metadata": {
  "jupytext": {
   "cell_metadata_filter": "-all",
   "formats": "md,ipynb",
   "main_language": "python",
   "notebook_metadata_filter": "-all"
  }
 },
 "nbformat": 4,
 "nbformat_minor": 5
}
