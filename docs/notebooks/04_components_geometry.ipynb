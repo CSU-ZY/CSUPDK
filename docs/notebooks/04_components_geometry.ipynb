{
 "cells": [
  {
   "cell_type": "markdown",
   "metadata": {},
   "source": [
    "# Geometry\n",
    "\n",
    "gdsfactory provides some geometric functions"
   ]
  },
  {
   "cell_type": "markdown",
   "metadata": {},
   "source": [
    "## Boolean / outline / offset / invert\n",
    "There are several common boolean-type operations available in the geometry library.  These include typical boolean operations (and/or/not/xor), offsetting (expanding/shrinking polygons), outlining, and inverting."
   ]
  },
  {
   "cell_type": "markdown",
   "metadata": {},
   "source": [
    "### Boolean\n",
    "\n",
    "\n",
    "The ``gf.geometry.boolean()`` function can perform AND/OR/NOT/XOR operations, and will return a new geometry with the result of that operation.\n",
    "\n",
    "Speedup note: The ``num_divisions`` argument can be used to divide up the geometry into multiple rectangular regions and process each region sequentially (which is more computationally efficient).  If you have a large geometry that takes a long time to process, try using ``num_divisions = [10,10]`` to optimize the operation."
   ]
  },
  {
   "cell_type": "code",
   "execution_count": null,
   "metadata": {},
   "outputs": [],
   "source": [
    "import gdsfactory as gf\n",
    "\n",
    "E = gf.components.ellipse(radii=(10, 5), layer=(1, 0))\n",
    "R = gf.components.rectangle(size=[15, 5], layer=(2, 0))\n",
    "C = gf.geometry.boolean(\n",
    "    A=E, B=R, operation=\"not\", precision=1e-6, num_divisions=[1, 1], layer=(3, 0)\n",
    ")\n",
    "# Other operations include 'and', 'or', 'xor', or equivalently 'A-B', 'B-A', 'A+B'\n",
    "\n",
    "# Plot the originals and the result\n",
    "D = gf.Component(\"bool\")\n",
    "D.add_ref(E)\n",
    "D.add_ref(R).movey(-1.5)\n",
    "D.add_ref(C).movex(30)\n",
    "D"
   ]
  },
  {
   "cell_type": "markdown",
   "metadata": {},
   "source": [
    "To learn how booleans work you can try all the different operations `not`, `and`, `or`, `xor`"
   ]
  },
  {
   "cell_type": "code",
   "execution_count": null,
   "metadata": {},
   "outputs": [],
   "source": [
    "import gdsfactory as gf\n",
    "\n",
    "operation = \"not\"\n",
    "operation = \"and\"\n",
    "operation = \"or\"\n",
    "operation = \"xor\"\n",
    "\n",
    "r1 = (8, 8)\n",
    "r2 = (11, 4)\n",
    "r1 = (80, 80)\n",
    "r2 = (110, 40)\n",
    "\n",
    "angle_resolution = 0.1\n",
    "\n",
    "c1 = gf.components.ellipse(radii=r1, layer=(1, 0), angle_resolution=angle_resolution)\n",
    "c2 = gf.components.ellipse(radii=r2, layer=(1, 0), angle_resolution=angle_resolution)"
   ]
  },
  {
   "cell_type": "code",
   "execution_count": null,
   "metadata": {},
   "outputs": [],
   "source": [
    "%time\n",
    "\n",
    "c3 = gf.geometry.boolean_klayout(\n",
    "    c1, c2, operation=operation, layer1=(1, 0), layer2=(1, 0), layer3=(1, 0)\n",
    ")  # KLayout booleans\n",
    "c3"
   ]
  },
  {
   "cell_type": "code",
   "execution_count": null,
   "metadata": {},
   "outputs": [],
   "source": [
    "%time\n",
    "c4 = gf.geometry.boolean(c1, c2, operation=operation)\n",
    "c4"
   ]
  },
  {
   "cell_type": "markdown",
   "metadata": {},
   "source": [
    "### Offset\n",
    "\n",
    "The ``offset()`` function takes the polygons of the input geometry, combines them together, and expands/contracts them.  The function returns polygons on a single layer -- it does not respect layers.\n",
    "\n",
    "Speedup note: The ``num_divisions`` argument can be used to divide up the geometry into multiple rectangular regions and process each region sequentially (which is more computationally efficient).  If you have a large geometry that takes a long time to process, try using ``num_divisions = [10,10]`` to optimize the operation."
   ]
  },
  {
   "cell_type": "code",
   "execution_count": null,
   "metadata": {},
   "outputs": [],
   "source": [
    "import gdsfactory as gf\n",
    "\n",
    "# Create `T`, an ellipse and rectangle which will be offset (expanded / contracted)\n",
    "T = gf.Component(\"ellipse_and_rectangle\")\n",
    "e = T << gf.components.ellipse(radii=(10, 5), layer=(1, 0))\n",
    "r = T << gf.components.rectangle(size=[15, 5], layer=(2, 0))\n",
    "r.move([3, -2.5])\n",
    "\n",
    "Texpanded = gf.geometry.offset(T, distance=2, precision=1e-6, layer=(2, 0))\n",
    "Texpanded.name = \"expanded\"\n",
    "Tshrink = gf.geometry.offset(T, distance=-1.5, precision=1e-6, layer=(2, 0))\n",
    "Tshrink.name = \"shrink\"\n",
    "\n",
    "# Plot the original geometry, the expanded, and the shrunk versions\n",
    "offsets = gf.Component(\"top\")\n",
    "t1 = offsets.add_ref(T)\n",
    "t2 = offsets.add_ref(Texpanded)\n",
    "t3 = offsets.add_ref(Tshrink)\n",
    "offsets.distribute([t1, t2, t3], direction=\"x\", spacing=5)\n",
    "offsets"
   ]
  },
  {
   "cell_type": "markdown",
   "metadata": {},
   "source": [
    "### Outline\n",
    "\n",
    "The ``outline()`` function takes the polygons of the input geometry then performs an offset and \"not\" boolean operation to create an outline.  The function returns polygons on a single layer -- it does not respect layers.\n",
    "\n",
    "Speedup note: The ``num_divisions`` argument can be used to divide up the geometry into multiple rectangular regions and process each region sequentially (which is more computationally efficient).  If you have a large geometry that takes a long time to process, try using ``num_divisions = [10,10]`` to optimize the operation."
   ]
  },
  {
   "cell_type": "code",
   "execution_count": null,
   "metadata": {},
   "outputs": [],
   "source": [
    "import gdsfactory as gf\n",
    "\n",
    "# Create a blank device and add two shapes\n",
    "X = gf.Component(\"outline_demo\")\n",
    "X.add_ref(gf.components.cross(length=25, width=1, layer=(1, 0)))\n",
    "X.add_ref(gf.components.ellipse(radii=[10, 5], layer=(2, 0)))\n",
    "\n",
    "O = gf.geometry.outline(X, distance=1.5, precision=1e-6, layer=(3, 0))\n",
    "\n",
    "# Plot the original geometry and the result\n",
    "c = gf.Component(\"outline_compare\")\n",
    "c.add_ref(X)\n",
    "c.add_ref(O).movex(30)\n",
    "c"
   ]
  },
  {
   "cell_type": "markdown",
   "metadata": {},
   "source": [
    "The ``open_ports`` argument opens holes in the outlined geometry at each Port location.\n",
    "\n",
    "- If not False, holes will be cut in the outline such that the Ports are not covered.\n",
    "- If True, the holes will have the same width as the Ports.\n",
    "- If a float, the holes will be widened by that value.\n",
    "- If a float equal to the outline ``distance``, the outline will be flush with the port (useful positive-tone processes)."
   ]
  },
  {
   "cell_type": "code",
   "execution_count": null,
   "metadata": {},
   "outputs": [],
   "source": [
    "gf.components.L(width=7, size=(10, 20), layer=(1, 0))"
   ]
  },
  {
   "cell_type": "code",
   "execution_count": null,
   "metadata": {},
   "outputs": [],
   "source": [
    "# Outline the geometry and open a hole at each port\n",
    "gf.geometry.outline(offsets, distance=5, open_ports=False, layer=(2, 0))  # No holes"
   ]
  },
  {
   "cell_type": "code",
   "execution_count": null,
   "metadata": {},
   "outputs": [],
   "source": [
    "gf.geometry.outline(\n",
    "    offsets, distance=5, open_ports=True, layer=(2, 0)\n",
    ")  # Hole is the same width as the port"
   ]
  },
  {
   "cell_type": "code",
   "execution_count": null,
   "metadata": {},
   "outputs": [],
   "source": [
    "gf.geometry.outline(\n",
    "    offsets, distance=5, open_ports=10, layer=(2, 0)\n",
    ")  # Change the hole size by entering a float"
   ]
  },
  {
   "cell_type": "code",
   "execution_count": null,
   "metadata": {},
   "outputs": [],
   "source": [
    "gf.geometry.outline(\n",
    "    offsets, distance=5, open_ports=5, layer=(2, 0)\n",
    ")  # Creates flush opening (open_ports > distance)"
   ]
  },
  {
   "cell_type": "markdown",
   "metadata": {},
   "source": [
    "### Invert\n",
    "\n",
    "The ``gf.boolean.invert()`` function creates an inverted version of the input geometry.  The function creates a rectangle around the geometry (with extra padding of distance ``border``), then subtract all polygons from all layers from that rectangle, resulting in an inverted version of the geometry.\n",
    "\n",
    "Speedup note: The ``num_divisions`` argument can be used to divide up the geometry into multiple rectangular regions and process each region sequentially (which is more computationally efficient).  If you have a large geometry that takes a long time to process, try using ``num_divisions = [10,10]`` to optimize the operation."
   ]
  },
  {
   "cell_type": "code",
   "execution_count": null,
   "metadata": {},
   "outputs": [],
   "source": [
    "import gdsfactory as gf\n",
    "\n",
    "E = gf.components.ellipse(radii=(10, 5))\n",
    "D = gf.geometry.invert(E, border=0.5, precision=1e-6, layer=(2, 0))\n",
    "D"
   ]
  },
  {
   "cell_type": "markdown",
   "metadata": {},
   "source": [
    "### Union\n",
    "\n",
    "The ``union()`` function is a \"join\" function, and is functionally identical to the \"OR\" operation of ``gf.boolean()``.  The one difference is it's able to perform this function layer-wise, so each layer can be individually combined."
   ]
  },
  {
   "cell_type": "code",
   "execution_count": null,
   "metadata": {},
   "outputs": [],
   "source": [
    "import gdsfactory as gf\n",
    "\n",
    "D = gf.Component(\"union\")\n",
    "e0 = D << gf.components.ellipse(layer=(1, 0))\n",
    "e1 = D << gf.components.ellipse(layer=(2, 0))\n",
    "e2 = D << gf.components.ellipse(layer=(3, 0))\n",
    "e3 = D << gf.components.ellipse(layer=(4, 0))\n",
    "e4 = D << gf.components.ellipse(layer=(5, 0))\n",
    "e5 = D << gf.components.ellipse(layer=(6, 0))\n",
    "\n",
    "e1.rotate(15 * 1)\n",
    "e2.rotate(15 * 2)\n",
    "e3.rotate(15 * 3)\n",
    "e4.rotate(15 * 4)\n",
    "e5.rotate(15 * 5)\n",
    "\n",
    "D"
   ]
  },
  {
   "cell_type": "code",
   "execution_count": null,
   "metadata": {},
   "outputs": [],
   "source": [
    "# We have two options to unioning - take all polygons, regardless of\n",
    "# layer, and join them together (in this case on layer (2,0) like so:\n",
    "D_joined = gf.geometry.union(D, by_layer=False, layer=(2, 0))\n",
    "D_joined"
   ]
  },
  {
   "cell_type": "code",
   "execution_count": null,
   "metadata": {},
   "outputs": [],
   "source": [
    "# Or we can perform the union operate by-layer\n",
    "D_joined_by_layer = gf.geometry.union(D, by_layer=True)\n",
    "D_joined_by_layer"
   ]
  },
  {
   "cell_type": "markdown",
   "metadata": {},
   "source": [
    "### XOR / diff\n",
    "\n",
    "The ``xor_diff()`` function can be used to compare two geometries and identify where they are different.  Specifically, it performs a layer-wise XOR operation.  If two geometries are identical, the result will be an empty Component.  If they are not identical, any areas not shared by the two geometries will remain."
   ]
  },
  {
   "cell_type": "code",
   "execution_count": null,
   "metadata": {},
   "outputs": [],
   "source": [
    "import gdsfactory as gf\n",
    "\n",
    "A = gf.Component(\"A\")\n",
    "A.add_ref(gf.components.ellipse(radii=[10, 5], layer=(1, 0)))\n",
    "A.add_ref(gf.components.text(\"A\")).move([3, 0])\n",
    "\n",
    "B = gf.Component(\"B\")\n",
    "B.add_ref(gf.components.ellipse(radii=[11, 4], layer=(1, 0))).movex(4)\n",
    "B.add_ref(gf.components.text(\"B\")).move([3.2, 0])\n",
    "X = gf.geometry.xor_diff(A=A, B=B, precision=1e-6)\n",
    "\n",
    "# Plot the original geometry and the result\n",
    "# Upper left: A / Upper right: B\n",
    "# Lower left: A and B / Lower right: A xor B \"diff\" comparison\n",
    "D = gf.Component(\"xor_diff\")\n",
    "D.add_ref(A).move([-15, 25])\n",
    "D.add_ref(B).move([15, 25])\n",
    "D.add_ref(A).movex(-15)\n",
    "D.add_ref(B).movex(-15)\n",
    "D.add_ref(X).movex(15)\n",
    "D"
   ]
  },
  {
   "cell_type": "markdown",
   "metadata": {},
   "source": [
    "## Trim\n",
    "\n",
    "`trim` returns the portion of that component within that domain preserving all layers and (possibly) ports.\n",
    "\n",
    "It's like the opposite of \"add_padding\", and also allows non-rectangular shapes for the padding removal.\n",
    "\n",
    "Useful when resizing an existing component for simulations"
   ]
  },
  {
   "cell_type": "code",
   "execution_count": null,
   "metadata": {},
   "outputs": [],
   "source": [
    "c = gf.components.straight_pin(length=10, taper=None)\n",
    "c"
   ]
  },
  {
   "cell_type": "code",
   "execution_count": null,
   "metadata": {},
   "outputs": [],
   "source": [
    "trimmed_c = gf.geometry.trim(component=c, domain=[[0, -5], [0, 5], [5, 5], [5, -5]])\n",
    "trimmed_c"
   ]
  },
  {
   "cell_type": "markdown",
   "metadata": {},
   "source": [
    "## Importing GDS files"
   ]
  },
  {
   "cell_type": "markdown",
   "metadata": {},
   "source": [
    "`gf.import_gds()` allows you to easily import external GDSII files.  It imports a single cell from the external GDS file and converts it into a gdsfactory component."
   ]
  },
  {
   "cell_type": "code",
   "execution_count": null,
   "metadata": {},
   "outputs": [],
   "source": [
    "D = gf.components.ellipse()\n",
    "D.write_gds(\"myoutput.gds\")\n",
    "D2 = gf.import_gds(gdspath=\"myoutput.gds\", cellname=None, flatten=False)\n",
    "D2"
   ]
  },
  {
   "cell_type": "markdown",
   "metadata": {},
   "source": [
    "## Copying and extracting geometry"
   ]
  },
  {
   "cell_type": "code",
   "execution_count": null,
   "metadata": {},
   "outputs": [],
   "source": [
    "E = gf.Component()\n",
    "E.add_ref(gf.components.ellipse(layer=(1, 0)))\n",
    "D = E.extract(layers=[(1, 0)])\n",
    "D"
   ]
  },
  {
   "cell_type": "code",
   "execution_count": null,
   "metadata": {},
   "outputs": [],
   "source": [
    "import gdsfactory as gf\n",
    "\n",
    "X = gf.components.ellipse(layer=(2, 0))\n",
    "c = X.copy()\n",
    "c"
   ]
  },
  {
   "cell_type": "code",
   "execution_count": null,
   "metadata": {},
   "outputs": [],
   "source": [
    "gf.components.copy_layers(gf.components.straight, layers=((1, 0), (2, 0)))"
   ]
  },
  {
   "cell_type": "markdown",
   "metadata": {},
   "source": [
    "## Dummy Fill / Tiling\n",
    "\n",
    "To keep constant density in some layers you can add dummy fill rectangles."
   ]
  },
  {
   "cell_type": "code",
   "execution_count": null,
   "metadata": {},
   "outputs": [],
   "source": [
    "coupler_lengths = [10, 20, 30, 40, 50, 60, 70, 80]\n",
    "coupler_gaps = [0.1, 0.2, 0.3, 0.4, 0.5, 0.6, 0.7, 0.8]\n",
    "delta_lengths = [10, 100, 200, 300, 400, 500, 500]\n",
    "\n",
    "mzi = gf.components.mzi_lattice(\n",
    "    coupler_lengths=coupler_lengths,\n",
    "    coupler_gaps=coupler_gaps,\n",
    "    delta_lengths=delta_lengths,\n",
    ")\n",
    "\n",
    "# Add fill\n",
    "c = gf.Component(\"component_with_fill\")\n",
    "layers = [(1, 0)]\n",
    "fill_size = [0.5, 0.5]\n",
    "\n",
    "c << gf.fill_rectangle(\n",
    "    mzi,\n",
    "    fill_size=fill_size,\n",
    "    fill_layers=layers,\n",
    "    margin=5,\n",
    "    fill_densities=[0.8] * len(layers),\n",
    "    avoid_layers=layers,\n",
    ")\n",
    "\n",
    "c << mzi\n",
    "c.show(show_ports=True)"
   ]
  }
 ],
 "metadata": {
  "kernelspec": {
   "display_name": "Python 3 (ipykernel)",
   "language": "python",
   "name": "python3"
  },
  "language_info": {
   "codemirror_mode": {
    "name": "ipython",
    "version": 3
   },
   "file_extension": ".py",
   "mimetype": "text/x-python",
   "name": "python",
   "nbconvert_exporter": "python",
   "pygments_lexer": "ipython3",
   "version": "3.10.6"
  }
 },
 "nbformat": 4,
 "nbformat_minor": 4
}
