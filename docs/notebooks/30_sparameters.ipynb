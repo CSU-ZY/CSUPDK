{
 "cells": [
  {
   "cell_type": "markdown",
   "metadata": {},
   "source": [
    "# Sparameters\n",
    "\n",
    "gdsfactory provides you with a Lumerical FDTD interface to calculate Sparameters\n",
    "\n",
    "by default another repo [gdslib](https://gdslib.readthedocs.io/en/latest/index.html) stores the Sparameters\n",
    "\n",
    "You can chain the Sparameters to calculate solve of larger\n",
    "circuits using a circuit solver such as:\n",
    "\n",
    "- Lumerical interconnect\n",
    "- [simphony (open source)](https://simphonyphotonics.readthedocs.io/en/latest/)\n",
    "\n",
    "\n",
    "If the Sparameters exists in `gdslib` you can access them really fast."
   ]
  },
  {
   "cell_type": "code",
   "execution_count": null,
   "metadata": {},
   "outputs": [],
   "source": [
    "# NBVAL_SKIP\n",
    "import gdsfactory as gf\n",
    "import gdsfactory.sp as sp\n",
    "import lumapi\n",
    "\n",
    "s = lumapi.FDTD()"
   ]
  },
  {
   "cell_type": "code",
   "execution_count": null,
   "metadata": {},
   "outputs": [],
   "source": [
    "gf.components.factory.keys()"
   ]
  },
  {
   "cell_type": "code",
   "execution_count": null,
   "metadata": {},
   "outputs": [],
   "source": [
    "components = [\n",
    "    \"bend_euler\",\n",
    "    \"bend_s\",\n",
    "    \"coupler\",\n",
    "    \"coupler_ring\",\n",
    "    \"crossing\",\n",
    "    \"mmi1x2\",\n",
    "    \"mmi2x2\",\n",
    "    \"taper\",\n",
    "    \"straight\",\n",
    "]\n",
    "need_review = []\n",
    "\n",
    "for component_name in components:\n",
    "    component = gf.components.factory[component_name]()\n",
    "    sp.write(component, run=False, session=s)\n",
    "    response = input(f\"does the simulation for {component_name} look good? (y/n)\")\n",
    "    if response.upper()[0] == \"N\":\n",
    "        need_review.append(componnent_name)"
   ]
  },
  {
   "cell_type": "code",
   "execution_count": null,
   "metadata": {},
   "outputs": [],
   "source": [
    "components = [\"crossing\", \"mmi1x2\", \"mmi2x2\", \"taper\", \"straight\"]\n",
    "need_review = []\n",
    "\n",
    "for component_name in components:\n",
    "    component = gf.components.factory[component_name]()\n",
    "    sp.write(component, run=False, session=s)\n",
    "    response = input(\"does the simulation look good? (y/n)\")\n",
    "    if response.upper()[0] == \"N\":\n",
    "        need_review.append(component_name)"
   ]
  },
  {
   "cell_type": "code",
   "execution_count": null,
   "metadata": {},
   "outputs": [],
   "source": [
    "sp.plot(gf.components.mmi1x2(), keys=[\"S23m\", \"S13m\"], logscale=True)"
   ]
  },
  {
   "cell_type": "code",
   "execution_count": null,
   "metadata": {},
   "outputs": [],
   "source": [
    "sp.write(gf.components.mmi1x2(), layer_to_thickness={(1, 0): 210})"
   ]
  },
  {
   "cell_type": "code",
   "execution_count": null,
   "metadata": {},
   "outputs": [],
   "source": [
    "layer_to_thickness = gf.tech.LAYER_STACK.get_layer_to_thickness()\n",
    "component = gf.c.bend_circular(radius=3)\n",
    "component = component.copy()\n",
    "component.remove_layers(component.layers - set(layer_to_thickness.keys()))\n",
    "component._bb_valid = False\n",
    "\n",
    "c = gf.components.extension.extend_ports(component=component, length=1.0)\n",
    "c.show()\n",
    "gdspath = c.write_gds()\n",
    "\n",
    "c"
   ]
  },
  {
   "cell_type": "markdown",
   "metadata": {},
   "source": [
    "gdsfactory can also compute the Sparameters of a component that have not been simulated before."
   ]
  },
  {
   "cell_type": "code",
   "execution_count": null,
   "metadata": {},
   "outputs": [],
   "source": [
    "# NBVAL_SKIP\n",
    "\n",
    "cs = [\n",
    "    gf.components.coupler_ring(gap=gap, radius=radius)\n",
    "    for gap in [0.15, 0.2, 0.3]\n",
    "    for radius in [5, 10]\n",
    "]\n",
    "\n",
    "for c in cs:\n",
    "    c.show()\n",
    "    print(c)\n",
    "    sp.write(c)"
   ]
  },
  {
   "cell_type": "markdown",
   "metadata": {},
   "source": [
    "To debug a simulation you can create a Lumerical session outside the simulator, pass it to the simulator, and use `run=False` flag"
   ]
  },
  {
   "cell_type": "code",
   "execution_count": null,
   "metadata": {},
   "outputs": [],
   "source": [
    "# NBVAL_SKIP\n",
    "import lumapi\n",
    "\n",
    "s = lumapi.FDTD()\n",
    "c = gf.components.straight()\n",
    "sp.write(c, run=False, session=s)"
   ]
  },
  {
   "cell_type": "markdown",
   "metadata": {},
   "source": [
    "By default gdsfactory uses the generic LayerStack for 220nm height silicon layer.\n",
    "\n",
    "You can also define your a different LayerStack"
   ]
  },
  {
   "cell_type": "code",
   "execution_count": null,
   "metadata": {},
   "outputs": [],
   "source": [
    "import gdsfactory as gf\n",
    "\n",
    "def get_layer_stack():\n",
    "    return gf.tech.LayerStack(levels = [gf.tech.LayerLevel(name='WG', layer=(2, 0), thickness=400.0, zmin=0.0, material=\"sin\")])\n",
    "\n",
    "\n",
    "ls = get_layer_stack()"
   ]
  }
 ],
 "metadata": {
  "kernelspec": {
   "display_name": "Python 3 (ipykernel)",
   "language": "python",
   "name": "python3"
  },
  "language_info": {
   "codemirror_mode": {
    "name": "ipython",
    "version": 3
   },
   "file_extension": ".py",
   "mimetype": "text/x-python",
   "name": "python",
   "nbconvert_exporter": "python",
   "pygments_lexer": "ipython3",
   "version": "3.9.5"
  },
  "nbsphinx": {
   "execute": "never"
  }
 },
 "nbformat": 4,
 "nbformat_minor": 4
}
