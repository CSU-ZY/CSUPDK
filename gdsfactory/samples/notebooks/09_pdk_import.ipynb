{
 "cells": [
  {
   "cell_type": "markdown",
   "id": "3393d22f",
   "metadata": {},
   "source": [
    "# Import PDK\n",
    "\n",
    "## Import PDK from GDS files\n",
    "\n",
    "To import a PDK from GDS files into gdsfactory you need:\n",
    "\n",
    "- GDS file with all the cells that you want to import in the PDK (or separate GDS files, where each file contains a GDS design).\n",
    "\n",
    "Ideally you also get:\n",
    "\n",
    "- Klayout layer properties files, to define the Layers that you can use when creating new custom Components. This allows you to define the LayerMap that maps Layer_name to (GDS_LAYER, GDS_PuRPOSE).\n",
    "- layer_stack information (material index, thickness, z positions of each layer).\n",
    "- DRC rules. If you don't get this you can easily build one using klayout.\n",
    "\n",
    "GDS files are great for describing geometry thanks to the concept of References, where you store any geometry only once in memory.\n",
    "\n",
    "For storing device metadata (settings, port locations, port widths, port angles ...) there is no clear standard.\n",
    "\n",
    "`gdsfactory` stores the that metadata in `YAML` files, and also has functions to add pins\n",
    "\n",
    "- `Component.write_gds()` saves GDS\n",
    "- `Component.write_gds_metadata()` save GDS + YAML metadata"
   ]
  },
  {
   "cell_type": "code",
   "execution_count": null,
   "id": "dc0951c6",
   "metadata": {},
   "outputs": [],
   "source": [
    "from typing import Dict, Tuple\n",
    "\n",
    "# Lets generate the script that we need to have to each GDS cell into gdsfactory\n",
    "from gdsfactory.component import Component\n",
    "from gdsfactory.config import PATH\n",
    "from gdsfactory.technology import lyp_to_dataclass\n",
    "import gdsfactory as gf\n",
    "from gdsfactory.generic_tech import get_generic_pdk\n",
    "\n",
    "gf.config.rich_output()\n",
    "PDK = get_generic_pdk()\n",
    "PDK.activate()\n",
    "\n",
    "c = gf.components.mzi()\n",
    "c.plot()"
   ]
  },
  {
   "cell_type": "markdown",
   "id": "c03dbc22",
   "metadata": {},
   "source": [
    "You can write **GDS** files only"
   ]
  },
  {
   "cell_type": "code",
   "execution_count": null,
   "id": "0d47b682",
   "metadata": {},
   "outputs": [],
   "source": [
    "gdspath = c.write_gds(\"extra/mzi.gds\")"
   ]
  },
  {
   "cell_type": "markdown",
   "id": "f66feb8e",
   "metadata": {},
   "source": [
    "Or **GDS** with **YAML** metadata information (ports, settings, cells ...)"
   ]
  },
  {
   "cell_type": "code",
   "execution_count": null,
   "id": "289d22ec",
   "metadata": {},
   "outputs": [],
   "source": [
    "gdspath = c.write_gds(\"extra/mzi.gds\", with_metadata=True)"
   ]
  },
  {
   "cell_type": "markdown",
   "id": "1ee81237",
   "metadata": {},
   "source": [
    "This created a `mzi.yml` file that contains:\n",
    "- ports\n",
    "- cells (flat list of cells)\n",
    "- info (function name, module, changed settings, full settings, default settings)"
   ]
  },
  {
   "cell_type": "code",
   "execution_count": null,
   "id": "16c4376a",
   "metadata": {},
   "outputs": [],
   "source": [
    "c.metadata.keys()"
   ]
  },
  {
   "cell_type": "markdown",
   "id": "bdbdd754",
   "metadata": {},
   "source": [
    "You can read GDS files into gdsfactory thanks to the `import_gds` function\n",
    "\n",
    "`import_gds` reads the same GDS file from disk without losing any information"
   ]
  },
  {
   "cell_type": "code",
   "execution_count": null,
   "id": "49d21c80",
   "metadata": {},
   "outputs": [],
   "source": [
    "gf.clear_cache()\n",
    "\n",
    "c = gf.import_gds(gdspath, read_metadata=True)\n",
    "c.plot()"
   ]
  },
  {
   "cell_type": "code",
   "execution_count": null,
   "id": "79b029f7",
   "metadata": {},
   "outputs": [],
   "source": [
    "c2 = gf.import_gds(gdspath, name=\"mzi_sample\", read_metadata=True)\n",
    "c2"
   ]
  },
  {
   "cell_type": "code",
   "execution_count": null,
   "id": "6dd27c32",
   "metadata": {},
   "outputs": [],
   "source": [
    "c2.name"
   ]
  },
  {
   "cell_type": "code",
   "execution_count": null,
   "id": "c5acdc32",
   "metadata": {},
   "outputs": [],
   "source": [
    "c3 = gf.routing.add_fiber_single(c2)\n",
    "c3"
   ]
  },
  {
   "cell_type": "code",
   "execution_count": null,
   "id": "2bfc0764",
   "metadata": {},
   "outputs": [],
   "source": [
    "gdspath = c3.write_gds(\"extra/pdk.gds\", with_metadata=True)"
   ]
  },
  {
   "cell_type": "code",
   "execution_count": null,
   "id": "35f31913",
   "metadata": {},
   "outputs": [],
   "source": [
    "gf.labels.write_labels.write_labels_klayout(gdspath, layer_label=gf.LAYER.LABEL)"
   ]
  },
  {
   "cell_type": "markdown",
   "id": "844efe05",
   "metadata": {},
   "source": [
    "### add ports from pins\n",
    "\n",
    "Sometimes the GDS does not have YAML metadata, therefore you need to figure out the port locations, widths and orientations.\n",
    "\n",
    "gdsfactory provides you with functions that will add ports to the component by looking for pins shapes on a specific layers (port_markers or pins)\n",
    "\n",
    "There are different pin standards supported to automatically add ports to components:\n",
    "\n",
    "- PINs towards the inside of the port (port at the outer part of the PIN)\n",
    "- PINs with half of the pin inside and half outside (port at the center of the PIN)\n",
    "- PIN with only labels (no shapes). You have to manually specify the width of the port.\n",
    "\n",
    "\n",
    "Lets add pins, save a GDS and then import it back."
   ]
  },
  {
   "cell_type": "code",
   "execution_count": null,
   "id": "116e3a6c",
   "metadata": {},
   "outputs": [],
   "source": [
    "c = gf.components.straight(\n",
    "    decorator=gf.add_pins.add_pins\n",
    ")  # add pins inside the component\n",
    "c.plot()"
   ]
  },
  {
   "cell_type": "code",
   "execution_count": null,
   "id": "4542029a",
   "metadata": {},
   "outputs": [],
   "source": [
    "gdspath = c.write_gds(\"extra/wg.gds\")"
   ]
  },
  {
   "cell_type": "code",
   "execution_count": null,
   "id": "2b5595a2",
   "metadata": {},
   "outputs": [],
   "source": [
    "gf.clear_cache()\n",
    "c2 = gf.import_gds(gdspath)\n",
    "c2"
   ]
  },
  {
   "cell_type": "code",
   "execution_count": null,
   "id": "09f32f38",
   "metadata": {},
   "outputs": [],
   "source": [
    "c2.ports  # import_gds does not automatically add the pins"
   ]
  },
  {
   "cell_type": "code",
   "execution_count": null,
   "id": "f606c210",
   "metadata": {},
   "outputs": [],
   "source": [
    "c3 = gf.import_gds(gdspath, decorator=gf.add_ports.add_ports_from_markers_inside)\n",
    "c3"
   ]
  },
  {
   "cell_type": "code",
   "execution_count": null,
   "id": "adbb135a",
   "metadata": {},
   "outputs": [],
   "source": [
    "c3.ports"
   ]
  },
  {
   "cell_type": "markdown",
   "id": "94a310c2",
   "metadata": {},
   "source": [
    "Foundries provide PDKs in different formats and commercial tools.\n",
    "\n",
    "The easiest way to import a PDK into gdsfactory is to:\n",
    "\n",
    "1. have each GDS cell into a separate GDS file\n",
    "2. have one GDS file with all the cells inside\n",
    "3. Have a KLayout layermap. Makes easier to create the layermap.\n",
    "\n",
    "With that you can easily create the PDK as as python package.\n",
    "\n",
    "Thanks to having a gdsfactory PDK as a python package you can:\n",
    "\n",
    "- version control your PDK using GIT to keep track of changes and work on a team\n",
    "    - write tests of your pdk components to avoid unwanted changes from one component to another.\n",
    "    - ensure you maintain the quality of the PDK with continuous integration checks\n",
    "    - pin the version of gdsfactory, so new updates of gdsfactory won't affect your code\n",
    "- name your PDK version using [semantic versioning](https://semver.org/). For example patches increase the last number (0.0.1 -> 0.0.2)\n",
    "- install your PDK easily `pip install pdk_fab_a` and easily interface with other tools\n",
    "\n",
    "\n",
    "\n",
    "To create a **Python** package you can start from a customizable template (thanks to cookiecutter)\n",
    "\n",
    "You can create a python package by running this 2 commands inside a terminal:\n",
    "\n",
    "```\n",
    "pip install cookiecutter\n",
    "cookiecutter https://github.com/joamatab/cookiecutter-pypackage-minimal\n",
    "```\n",
    "\n",
    "It will ask you some questions to fill in the template (name of the package being the most important)\n",
    "\n",
    "\n",
    "Then you can add the information about the GDS files and the Layers inside that package"
   ]
  },
  {
   "cell_type": "code",
   "execution_count": null,
   "id": "a92c0a18",
   "metadata": {},
   "outputs": [],
   "source": [
    "print(lyp_to_dataclass(PATH.klayout_lyp))"
   ]
  },
  {
   "cell_type": "code",
   "execution_count": null,
   "id": "9d96f241",
   "metadata": {},
   "outputs": [],
   "source": [
    "# lets create a sample PDK (for demo purposes only) using GDSfactory\n",
    "# if the PDK is in a commercial tool you can also do this. Make sure you save a single pdk.gds\n",
    "\n",
    "sample_pdk_cells = gf.grid(\n",
    "    [\n",
    "        gf.components.straight,\n",
    "        gf.components.bend_euler,\n",
    "        gf.components.grating_coupler_elliptical,\n",
    "    ]\n",
    ")\n",
    "sample_pdk_cells.write_gds(\"extra/pdk.gds\")\n",
    "sample_pdk_cells"
   ]
  },
  {
   "cell_type": "code",
   "execution_count": null,
   "id": "0f100542",
   "metadata": {},
   "outputs": [],
   "source": [
    "sample_pdk_cells.get_dependencies()"
   ]
  },
  {
   "cell_type": "code",
   "execution_count": null,
   "id": "3f9c2ad5",
   "metadata": {},
   "outputs": [],
   "source": [
    "# we write the sample PDK into a single GDS file\n",
    "gf.clear_cache()\n",
    "gf.write_cells.write_cells(\n",
    "    gdspath=\"extra/pdk.gds\", dirpath=\"extra/gds\", recursively=True\n",
    ")"
   ]
  },
  {
   "cell_type": "code",
   "execution_count": null,
   "id": "b336311e",
   "metadata": {},
   "outputs": [],
   "source": [
    "print(gf.write_cells.get_import_gds_script(\"extra/gds\"))"
   ]
  },
  {
   "cell_type": "markdown",
   "id": "10dbffa9",
   "metadata": {},
   "source": [
    "You can also include the code to plot each fix cell in the docstring."
   ]
  },
  {
   "cell_type": "code",
   "execution_count": null,
   "id": "21483e4e",
   "metadata": {},
   "outputs": [],
   "source": [
    "print(gf.write_cells.get_import_gds_script(\"extra/gds\", module=\"samplepdk.components\"))"
   ]
  },
  {
   "cell_type": "markdown",
   "id": "d14031ce",
   "metadata": {},
   "source": [
    "## Import PDK from other python packages\n",
    "\n",
    "You can Write the cells to GDS and use the\n",
    "\n",
    "Ideally you also start transitioning your legacy code Pcells into gdsfactory syntax. It's a great way to learn the gdsfactory way!\n",
    "\n",
    "Here is some advice:\n",
    "\n",
    "- Ask your foundry for the gdsfactory PDK.\n",
    "- Leverage the generic pdk cells available in gdsfactory.\n",
    "- Write tests for your cells.\n",
    "- Break the cells into small reusable functions.\n",
    "- use GIT to track changes.\n",
    "- review your code with your colleagues and other gdsfactory developers to get feedback. This is key to get better at coding gdsfactory.\n",
    "- get rid of any warnings you see."
   ]
  },
  {
   "cell_type": "markdown",
   "id": "ce545330",
   "metadata": {},
   "source": [
    "## Build your own PDK\n",
    "\n",
    "You can create a PDK as a python library using a cookiecutter template. For example, you can use this one.\n",
    "\n",
    "```\n",
    "pip install cookiecutter\n",
    "cookiecutter https://github.com/joamatab/cookiecutter-pypackage-minimal\n",
    "```\n",
    "\n",
    "Or you can fork the ubcpdk and create new PCell functions that use the correct layers for your foundry. For example.\n",
    "\n",
    "```\n",
    "\n",
    "from pydantic import BaseModel\n",
    "\n",
    "\n",
    "class LayerMap(BaseModel):\n",
    "    WGCORE = (3, 0)\n",
    "    LABEL = (100, 0)\n",
    "    DEVREC: Layer = (68, 0)\n",
    "    LABEL: Layer = (10, 0)\n",
    "    PORT: Layer = (1, 10)  # PinRec\n",
    "    PORTE: Layer = (1, 11)  # PinRecM\n",
    "    FLOORPLAN: Layer = (99, 0)\n",
    "\n",
    "    TE: Layer = (203, 0)\n",
    "    TM: Layer = (204, 0)\n",
    "    TEXT: Layer = (66, 0)\n",
    "    LABEL_INSTANCE: Layer = (66, 0)\n",
    "\n",
    "\n",
    "LAYER = LayerMap()\n",
    "\n",
    "```"
   ]
  }
 ],
 "metadata": {
  "jupytext": {
   "cell_metadata_filter": "-all",
   "formats": "md,ipynb",
   "main_language": "python",
   "notebook_metadata_filter": "-all"
  }
 },
 "nbformat": 4,
 "nbformat_minor": 5
}
