{
 "cells": [
  {
   "cell_type": "markdown",
   "metadata": {},
   "source": [
    "# 2D meshing: uz cross-section\n",
    "\n",
    "By supplying the argument `type=\"uz\"` and a `xsection_bounds` under the form `[[x1,y1], [x2,y2]]`, which parametrizes a line in `u`-coordinates, a out-of-plane cross-section of the `Component` can be meshed.\n",
    "\n",
    "Repeating the first notebook's example:"
   ]
  },
  {
   "cell_type": "code",
   "execution_count": 2,
   "metadata": {},
   "outputs": [
    {
     "name": "stderr",
     "output_type": "stream",
     "text": [
      "2022-12-03 13:37:48.752 | INFO     | gdsfactory.config:<module>:48 - Load '/home/bilodeaus/Github/gdsfactory8_devsim/gdsfactory/gdsfactory' 6.3.5\n",
      "/home/bilodeaus/Github/gdsfactory8_devsim/gdsfactory/gdsfactory/component.py:1472: UserWarning: Component 'Unnamed_088210f6' contains 1 Unnamed cells\n",
      "  warnings.warn(\n"
     ]
    },
    {
     "data": {
      "image/png": "[encoded data removed]",
      "text/plain": [
       "<Figure size 640x480 with 1 Axes>"
      ]
     },
     "metadata": {},
     "output_type": "display_data"
    },
    {
     "data": {
      "text/html": [
       "Unnamed_088210f6: uid 088210f6, ports [], references ['trim_1'], 0 polygons"
      ],
      "text/plain": [
       "Unnamed_088210f6: uid 088210f6, ports [], references ['trim_1'], 0 polygons"
      ]
     },
     "execution_count": 2,
     "metadata": {},
     "output_type": "execute_result"
    }
   ],
   "source": [
    "import gdsfactory as gf\n",
    "from gdsfactory.simulation.gmsh.mesh import create_physical_mesh\n",
    "import meshio\n",
    "import pyvista as pv\n",
    "\n",
    "waveguide = gf.components.straight_pin(length=10, taper=None)\n",
    "waveguide_trimmed = gf.Component()\n",
    "waveguide_trimmed.add_ref(\n",
    "    gf.geometry.trim(\n",
    "        component=waveguide,\n",
    "        domain=[[3, -4], [3, 4], [5, 4], [5, -4]],\n",
    "    )\n",
    ")\n",
    "\n",
    "waveguide_trimmed"
   ]
  },
  {
   "cell_type": "code",
   "execution_count": 3,
   "metadata": {},
   "outputs": [],
   "source": [
    "from gdsfactory.tech import LayerMap, LayerStack, LayerLevel, get_layer_stack_generic\n",
    "\n",
    "filtered_layerstack = LayerStack(\n",
    "    layers={\n",
    "        k: get_layer_stack_generic().layers[k]\n",
    "        for k in (\n",
    "            \"slab90\",\n",
    "            \"core\",\n",
    "            \"via_contact\",\n",
    "        )\n",
    "    }\n",
    ")"
   ]
  },
  {
   "cell_type": "code",
   "execution_count": 4,
   "metadata": {},
   "outputs": [],
   "source": [
    "filename = 'mesh'\n",
    "\n",
    "def mesh_with_physicals(mesh, filename):\n",
    "    mesh_from_file = meshio.read(f\"{filename}.msh\")\n",
    "    triangle_mesh = create_physical_mesh(mesh_from_file, \"triangle\", prune_z=True)\n",
    "    meshio.write(f\"{filename}.xdmf\", triangle_mesh)\n",
    "    mesh = pv.read(f\"{filename}.xdmf\")\n",
    "    return mesh"
   ]
  },
  {
   "cell_type": "markdown",
   "metadata": {},
   "source": [
    "Choosing the line going from `y=-4` to `y=4` at `x=4`, which crosses slab, via, and core:"
   ]
  },
  {
   "cell_type": "code",
   "execution_count": 5,
   "metadata": {},
   "outputs": [
    {
     "name": "stdout",
     "output_type": "stream",
     "text": [
      "\n"
     ]
    },
    {
     "name": "stderr",
     "output_type": "stream",
     "text": [
      "Warning : Gmsh has aleady been initialized\n"
     ]
    }
   ],
   "source": [
    "mesh = waveguide_trimmed.to_gmsh(type=\"uz\", xsection_bounds=[(4, -4), (4, 4)], layer_stack=filtered_layerstack, filename=f\"{filename}.msh\")\n",
    "mesh = mesh_with_physicals(mesh, filename)\n"
   ]
  },
  {
   "cell_type": "markdown",
   "metadata": {},
   "source": [
    "We can plot as usual (note that the `u-z` coordinates we are working in still map to `xy` for the plotter):"
   ]
  },
  {
   "cell_type": "code",
   "execution_count": 7,
   "metadata": {},
   "outputs": [
    {
     "ename": "ValueError",
     "evalue": "Invalid style \"wireframemesh.msh\".  Must be one of the following:\n\t\"surface\"\n\t\"wireframe\"\n\t\"points\"\n",
     "output_type": "error",
     "traceback": [
      "\u001b[0;31m---------------------------------------------------------------------------\u001b[0m",
      "\u001b[0;31mValueError\u001b[0m                                Traceback (most recent call last)",
      "Cell \u001b[0;32mIn[7], line 2\u001b[0m\n\u001b[1;32m      1\u001b[0m plotter \u001b[39m=\u001b[39m pv\u001b[39m.\u001b[39mPlotter()    \u001b[39m# instantiate the plotter\u001b[39;00m\n\u001b[0;32m----> 2\u001b[0m plotter\u001b[39m.\u001b[39;49madd_mesh(mesh, style\u001b[39m=\u001b[39;49m\u001b[39m'\u001b[39;49m\u001b[39mwireframe\u001b[39;49m\u001b[39m'\u001b[39;49m\u001b[39mf\u001b[39;49m\u001b[39m\"\u001b[39;49m\u001b[39m{\u001b[39;49;00mfilename\u001b[39m}\u001b[39;49;00m\u001b[39m.msh\u001b[39;49m\u001b[39m\"\u001b[39;49m)    \u001b[39m# add a mesh to the scene\u001b[39;00m\n\u001b[1;32m      3\u001b[0m plotter\u001b[39m.\u001b[39mcamera_position \u001b[39m=\u001b[39m \u001b[39m\"\u001b[39m\u001b[39mxy\u001b[39m\u001b[39m\"\u001b[39m\n\u001b[1;32m      4\u001b[0m plotter\u001b[39m.\u001b[39mshow()            \u001b[39m# show the rendering window\u001b[39;00m\n",
      "File \u001b[0;32m~/Github/gdsfactory8_devsim/venv/lib/python3.10/site-packages/pyvista/plotting/plotting.py:3146\u001b[0m, in \u001b[0;36mBasePlotter.add_mesh\u001b[0;34m(self, mesh, color, style, scalars, clim, show_edges, edge_color, point_size, line_width, opacity, flip_scalars, lighting, n_colors, interpolate_before_map, cmap, label, reset_camera, scalar_bar_args, show_scalar_bar, multi_colors, name, texture, render_points_as_spheres, render_lines_as_tubes, smooth_shading, split_sharp_edges, ambient, diffuse, specular, specular_power, nan_color, nan_opacity, culling, rgb, categories, silhouette, use_transparency, below_color, above_color, annotations, pickable, preference, log_scale, pbr, metallic, roughness, render, component, emissive, copy_mesh, backface_params, **kwargs)\u001b[0m\n\u001b[1;32m   3144\u001b[0m \u001b[39mif\u001b[39;00m \u001b[39misinstance\u001b[39m(opacity, (\u001b[39mfloat\u001b[39m, \u001b[39mint\u001b[39m)):\n\u001b[1;32m   3145\u001b[0m     prop_kwargs[\u001b[39m'\u001b[39m\u001b[39mopacity\u001b[39m\u001b[39m'\u001b[39m] \u001b[39m=\u001b[39m opacity\n\u001b[0;32m-> 3146\u001b[0m prop \u001b[39m=\u001b[39m Property(\u001b[39m*\u001b[39;49m\u001b[39m*\u001b[39;49mprop_kwargs)\n\u001b[1;32m   3147\u001b[0m actor\u001b[39m.\u001b[39mSetProperty(prop)\n\u001b[1;32m   3149\u001b[0m \u001b[39mif\u001b[39;00m render_points_as_spheres:\n",
      "File \u001b[0;32m~/Github/gdsfactory8_devsim/venv/lib/python3.10/site-packages/pyvista/plotting/_property.py:196\u001b[0m, in \u001b[0;36mProperty.__init__\u001b[0;34m(self, theme, interpolation, color, style, metallic, roughness, point_size, opacity, ambient, diffuse, specular, specular_power, show_edges, edge_color, render_points_as_spheres, render_lines_as_tubes, lighting, line_width, culling)\u001b[0m\n\u001b[1;32m    193\u001b[0m \u001b[39mself\u001b[39m\u001b[39m.\u001b[39mcolor \u001b[39m=\u001b[39m color\n\u001b[1;32m    195\u001b[0m \u001b[39mif\u001b[39;00m style \u001b[39mis\u001b[39;00m \u001b[39mnot\u001b[39;00m \u001b[39mNone\u001b[39;00m:\n\u001b[0;32m--> 196\u001b[0m     \u001b[39mself\u001b[39;49m\u001b[39m.\u001b[39;49mstyle \u001b[39m=\u001b[39m style\n\u001b[1;32m    198\u001b[0m \u001b[39mif\u001b[39;00m interpolation \u001b[39min\u001b[39;00m [\u001b[39m'\u001b[39m\u001b[39mPhysically based rendering\u001b[39m\u001b[39m'\u001b[39m, \u001b[39m'\u001b[39m\u001b[39mpbr\u001b[39m\u001b[39m'\u001b[39m]:\n\u001b[1;32m    199\u001b[0m     \u001b[39mif\u001b[39;00m metallic \u001b[39mis\u001b[39;00m \u001b[39mnot\u001b[39;00m \u001b[39mNone\u001b[39;00m:\n",
      "File \u001b[0;32m~/Github/gdsfactory8_devsim/venv/lib/python3.10/site-packages/pyvista/utilities/misc.py:174\u001b[0m, in \u001b[0;36mno_new_attr.<locals>.__setattr__\u001b[0;34m(self, name, value)\u001b[0m\n\u001b[1;32m    172\u001b[0m \u001b[39m\"\"\"Do not allow setting attributes.\"\"\"\u001b[39;00m\n\u001b[1;32m    173\u001b[0m \u001b[39mif\u001b[39;00m \u001b[39mhasattr\u001b[39m(\u001b[39mself\u001b[39m, name):\n\u001b[0;32m--> 174\u001b[0m     \u001b[39mobject\u001b[39;49m\u001b[39m.\u001b[39;49m\u001b[39m__setattr__\u001b[39;49m(\u001b[39mself\u001b[39;49m, name, value)\n\u001b[1;32m    175\u001b[0m \u001b[39melse\u001b[39;00m:\n\u001b[1;32m    176\u001b[0m     \u001b[39mraise\u001b[39;00m \u001b[39mAttributeError\u001b[39;00m(\n\u001b[1;32m    177\u001b[0m         \u001b[39mf\u001b[39m\u001b[39m'\u001b[39m\u001b[39mAttribute \u001b[39m\u001b[39m\"\u001b[39m\u001b[39m{\u001b[39;00mname\u001b[39m}\u001b[39;00m\u001b[39m\"\u001b[39m\u001b[39m does not exist and cannot be added to type \u001b[39m\u001b[39m'\u001b[39m\n\u001b[1;32m    178\u001b[0m         \u001b[39mf\u001b[39m\u001b[39m'\u001b[39m\u001b[39m{\u001b[39;00m\u001b[39mself\u001b[39m\u001b[39m.\u001b[39m\u001b[39m__class__\u001b[39m\u001b[39m.\u001b[39m\u001b[39m__name__\u001b[39m\u001b[39m}\u001b[39;00m\u001b[39m'\u001b[39m\n\u001b[1;32m    179\u001b[0m     )\n",
      "File \u001b[0;32m~/Github/gdsfactory8_devsim/venv/lib/python3.10/site-packages/pyvista/plotting/_property.py:284\u001b[0m, in \u001b[0;36mProperty.style\u001b[0;34m(self, new_style)\u001b[0m\n\u001b[1;32m    282\u001b[0m     \u001b[39mself\u001b[39m\u001b[39m.\u001b[39mSetRepresentationToSurface()\n\u001b[1;32m    283\u001b[0m \u001b[39melse\u001b[39;00m:\n\u001b[0;32m--> 284\u001b[0m     \u001b[39mraise\u001b[39;00m \u001b[39mValueError\u001b[39;00m(\n\u001b[1;32m    285\u001b[0m         \u001b[39mf\u001b[39m\u001b[39m'\u001b[39m\u001b[39mInvalid style \u001b[39m\u001b[39m\"\u001b[39m\u001b[39m{\u001b[39;00mnew_style\u001b[39m}\u001b[39;00m\u001b[39m\"\u001b[39m\u001b[39m.  Must be one of the following:\u001b[39m\u001b[39m\\n\u001b[39;00m\u001b[39m'\u001b[39m\n\u001b[1;32m    286\u001b[0m         \u001b[39m'\u001b[39m\u001b[39m\\t\u001b[39;00m\u001b[39m\"\u001b[39m\u001b[39msurface\u001b[39m\u001b[39m\"\u001b[39m\u001b[39m\\n\u001b[39;00m\u001b[39m'\u001b[39m\n\u001b[1;32m    287\u001b[0m         \u001b[39m'\u001b[39m\u001b[39m\\t\u001b[39;00m\u001b[39m\"\u001b[39m\u001b[39mwireframe\u001b[39m\u001b[39m\"\u001b[39m\u001b[39m\\n\u001b[39;00m\u001b[39m'\u001b[39m\n\u001b[1;32m    288\u001b[0m         \u001b[39m'\u001b[39m\u001b[39m\\t\u001b[39;00m\u001b[39m\"\u001b[39m\u001b[39mpoints\u001b[39m\u001b[39m\"\u001b[39m\u001b[39m\\n\u001b[39;00m\u001b[39m'\u001b[39m\n\u001b[1;32m    289\u001b[0m     )\n",
      "\u001b[0;31mValueError\u001b[0m: Invalid style \"wireframemesh.msh\".  Must be one of the following:\n\t\"surface\"\n\t\"wireframe\"\n\t\"points\"\n"
     ]
    }
   ],
   "source": [
    "plotter = pv.Plotter()    # instantiate the plotter\n",
    "plotter.add_mesh(mesh, style='wireframe', show_scalar=False)    # add a mesh to the scene\n",
    "plotter.camera_position = \"xy\"\n",
    "plotter.show()            # show the rendering window"
   ]
  },
  {
   "cell_type": "markdown",
   "metadata": {},
   "source": [
    "## Mesh background\n",
    "\n",
    "There is also a convenience argument to add a background mesh around the geometry (instead of defining a dummy polygon and layer in the layerstack with low mesh_order):"
   ]
  },
  {
   "cell_type": "code",
   "execution_count": null,
   "metadata": {},
   "outputs": [],
   "source": []
  }
 ],
 "metadata": {
  "kernelspec": {
   "display_name": "Python 3.10.7 ('venv': venv)",
   "language": "python",
   "name": "python3"
  },
  "language_info": {
   "codemirror_mode": {
    "name": "ipython",
    "version": 3
   },
   "file_extension": ".py",
   "mimetype": "text/x-python",
   "name": "python",
   "nbconvert_exporter": "python",
   "pygments_lexer": "ipython3",
   "version": "3.10.8"
  },
  "orig_nbformat": 4,
  "vscode": {
   "interpreter": {
    "hash": "f6aacea7c8042266f4630abbd029ef642556424f57599598f7cb395c6723dd83"
   }
  }
 },
 "nbformat": 4,
 "nbformat_minor": 2
}
