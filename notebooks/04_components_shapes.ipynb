{
 "cells": [
  {
   "cell_type": "markdown",
   "id": "d1ff20c4",
   "metadata": {},
   "source": [
    "# Shapes and generic cells\n",
    "\n",
    "gdsfactory provides some generic parametric cells in `gf.components` that you can customize for your application."
   ]
  },
  {
   "cell_type": "markdown",
   "id": "a89fcf85",
   "metadata": {},
   "source": [
    "## Basic shapes"
   ]
  },
  {
   "cell_type": "markdown",
   "id": "a0868711",
   "metadata": {},
   "source": [
    "### Rectangle\n",
    "\n",
    "To create a simple rectangle, there are two functions:\n",
    "\n",
    "``gf.components.rectangle()`` can create a basic rectangle:"
   ]
  },
  {
   "cell_type": "code",
   "execution_count": null,
   "id": "9e682301",
   "metadata": {},
   "outputs": [],
   "source": [
    "import gdsfactory as gf\n",
    "from gdsfactory.generic_tech import get_generic_pdk\n",
    "\n",
    "gf.config.rich_output()\n",
    "\n",
    "PDK = get_generic_pdk()\n",
    "PDK.activate()\n",
    "\n",
    "r1 = gf.components.rectangle(size=(4.5, 2), layer=(1, 0))\n",
    "r1.plot()"
   ]
  },
  {
   "cell_type": "markdown",
   "id": "f06f7148",
   "metadata": {},
   "source": [
    "``gf.components.bbox()`` can also create a rectangle based on a bounding box.\n",
    "This is useful if you want to create a rectangle which exactly surrounds a piece of existing geometry.\n",
    "For example, if we have an arc geometry and we want to define a box around it, we can use ``gf.components.bbox()``:"
   ]
  },
  {
   "cell_type": "code",
   "execution_count": null,
   "id": "46dde36a",
   "metadata": {},
   "outputs": [],
   "source": [
    "c = gf.Component()\n",
    "arc = c << gf.components.bend_circular(radius=10, width=0.5, angle=90, layer=(1, 0))\n",
    "arc.rotate(90)\n",
    "# Draw a rectangle around the arc we created by using the arc's bounding box\n",
    "rect = c << gf.components.bbox(bbox=arc.bbox, layer=(0, 0))\n",
    "c.plot()"
   ]
  },
  {
   "cell_type": "markdown",
   "id": "81271e93",
   "metadata": {},
   "source": [
    "### Cross\n",
    "\n",
    "The ``gf.components.cross()`` function creates a cross structure:"
   ]
  },
  {
   "cell_type": "code",
   "execution_count": null,
   "id": "b9793993",
   "metadata": {},
   "outputs": [],
   "source": [
    "c = gf.components.cross(length=10, width=0.5, layer=(1, 0))\n",
    "c.plot()"
   ]
  },
  {
   "cell_type": "markdown",
   "id": "0ff580e5",
   "metadata": {},
   "source": [
    "### Ellipse\n",
    "\n",
    "The ``gf.components.ellipse()`` function creates an ellipse by defining the major and minor radii:"
   ]
  },
  {
   "cell_type": "code",
   "execution_count": null,
   "id": "e43c2628",
   "metadata": {},
   "outputs": [],
   "source": [
    "c = gf.components.ellipse(radii=(10, 5), angle_resolution=2.5, layer=(1, 0))\n",
    "c.plot()"
   ]
  },
  {
   "cell_type": "markdown",
   "id": "13e609a8",
   "metadata": {},
   "source": [
    "### Circle\n",
    "\n",
    "The ``gf.components.circle()`` function creates a circle:"
   ]
  },
  {
   "cell_type": "code",
   "execution_count": null,
   "id": "27694a74",
   "metadata": {},
   "outputs": [],
   "source": [
    "c = gf.components.circle(radius=10, angle_resolution=2.5, layer=(1, 0))\n",
    "c.plot()"
   ]
  },
  {
   "cell_type": "markdown",
   "id": "8d46d797",
   "metadata": {},
   "source": [
    "### Ring\n",
    "\n",
    "The ``gf.components.ring()`` function creates a ring.  The radius refers to the center radius of the ring structure (halfway between the inner and outer radius)."
   ]
  },
  {
   "cell_type": "code",
   "execution_count": null,
   "id": "860b51f8",
   "metadata": {},
   "outputs": [],
   "source": [
    "c = gf.components.ring(radius=5, width=0.5, angle_resolution=2.5, layer=(1, 0))\n",
    "c.plot()"
   ]
  },
  {
   "cell_type": "code",
   "execution_count": null,
   "id": "bd30c814",
   "metadata": {},
   "outputs": [],
   "source": [
    "c = gf.components.ring_single(\n",
    "    width=0.5, gap=0.2, radius=10, length_x=4, length_y=2, layer=(1, 0)\n",
    ")\n",
    "c.plot()"
   ]
  },
  {
   "cell_type": "code",
   "execution_count": null,
   "id": "9eee7cf3",
   "metadata": {},
   "outputs": [],
   "source": [
    "import gdsfactory as gf\n",
    "\n",
    "c = gf.components.ring_double(\n",
    "    width=0.5, gap=0.2, radius=10, length_x=4, length_y=2, layer=(1, 0)\n",
    ")\n",
    "c.plot()"
   ]
  },
  {
   "cell_type": "code",
   "execution_count": null,
   "id": "d4483735",
   "metadata": {},
   "outputs": [],
   "source": [
    "c = gf.components.ring_double(\n",
    "    width=0.5,\n",
    "    gap=0.2,\n",
    "    radius=10,\n",
    "    length_x=4,\n",
    "    length_y=2,\n",
    "    layer=(1, 0),\n",
    "    bend=gf.components.bend_circular,\n",
    ")\n",
    "c.plot()"
   ]
  },
  {
   "cell_type": "markdown",
   "id": "8cdb3c69",
   "metadata": {},
   "source": [
    "### Bend circular\n",
    "\n",
    "The ``gf.components.bend_circular()`` function creates an arc.  The radius refers to the center radius of the arc (halfway between the inner and outer radius)."
   ]
  },
  {
   "cell_type": "code",
   "execution_count": null,
   "id": "30f70081",
   "metadata": {},
   "outputs": [],
   "source": [
    "c = gf.components.bend_circular(\n",
    "    radius=2.0, width=0.5, angle=90, npoints=720, layer=(1, 0)\n",
    ")\n",
    "c.plot()"
   ]
  },
  {
   "cell_type": "markdown",
   "id": "f332cfda",
   "metadata": {},
   "source": [
    "### Bend euler\n",
    "\n",
    "The ``gf.components.bend_euler()`` function creates an adiabatic bend in which the bend radius changes gradually. Euler bends have lower loss than circular bends.\n"
   ]
  },
  {
   "cell_type": "code",
   "execution_count": null,
   "id": "87950020",
   "metadata": {},
   "outputs": [],
   "source": [
    "c = gf.components.bend_euler(radius=2.0, width=0.5, angle=90, npoints=720, layer=(1, 0))\n",
    "c.plot()"
   ]
  },
  {
   "cell_type": "markdown",
   "id": "43128ae2",
   "metadata": {},
   "source": [
    "### Tapers\n",
    "\n",
    "`gf.components.taper()`is defined by setting its length and its start and end length.  It has two ports, ``1`` and ``2``, on either end, allowing you to easily connect it to other structures."
   ]
  },
  {
   "cell_type": "code",
   "execution_count": null,
   "id": "f12e0c1e",
   "metadata": {},
   "outputs": [],
   "source": [
    "c = gf.components.taper(length=10, width1=6, width2=4, port=None, layer=(1, 0))\n",
    "c.plot()"
   ]
  },
  {
   "cell_type": "markdown",
   "id": "52c1d89c",
   "metadata": {},
   "source": [
    "`gf.components.ramp()` is a structure is similar to `taper()` except it is asymmetric.  It also has two ports, ``1`` and ``2``, on either end."
   ]
  },
  {
   "cell_type": "code",
   "execution_count": null,
   "id": "a11ad343",
   "metadata": {},
   "outputs": [],
   "source": [
    "c = gf.components.ramp(length=10, width1=4, width2=8, layer=(1, 0))\n",
    "c.plot()"
   ]
  },
  {
   "cell_type": "markdown",
   "id": "d4a0800d",
   "metadata": {},
   "source": [
    "### Common compound shapes"
   ]
  },
  {
   "cell_type": "markdown",
   "id": "6566dcca",
   "metadata": {},
   "source": [
    "The `gf.components.L()` function creates a \"L\" shape with ports on either end named ``1`` and ``2``."
   ]
  },
  {
   "cell_type": "code",
   "execution_count": null,
   "id": "b63d3891",
   "metadata": {},
   "outputs": [],
   "source": [
    "c = gf.components.L(width=7, size=(10, 20), layer=(1, 0))\n",
    "c.plot()"
   ]
  },
  {
   "cell_type": "markdown",
   "id": "60a2bf2c",
   "metadata": {},
   "source": [
    "The `gf.components.C()` function creates a \"C\" shape with ports on either end named ``1`` and ``2``."
   ]
  },
  {
   "cell_type": "code",
   "execution_count": null,
   "id": "ec0f9d8d",
   "metadata": {},
   "outputs": [],
   "source": [
    "c = gf.components.C(width=7, size=(10, 20), layer=(1, 0))\n",
    "c.plot()"
   ]
  },
  {
   "cell_type": "markdown",
   "id": "d7e650eb",
   "metadata": {},
   "source": [
    "## Text\n",
    "\n",
    "Gdsfactory has an implementation of the DEPLOF font with the majority of english ASCII characters represented (thanks to phidl)"
   ]
  },
  {
   "cell_type": "code",
   "execution_count": null,
   "id": "dd850fed",
   "metadata": {},
   "outputs": [],
   "source": [
    "c = gf.components.text(\n",
    "    text=\"Hello world!\\nMultiline text\\nLeft-justified\",\n",
    "    size=10,\n",
    "    justify=\"left\",\n",
    "    layer=(1, 0),\n",
    ")\n",
    "c.plot()\n",
    "# `justify` should be either 'left', 'center', or 'right'"
   ]
  },
  {
   "cell_type": "markdown",
   "id": "d00f3400",
   "metadata": {},
   "source": [
    "## Lithography structures\n",
    "\n",
    "### Step-resolution\n",
    "\n",
    "The `gf.components.litho_steps()` function creates lithographic test structure that is useful for measuring resolution of photoresist or electron-beam resists.  It provides both positive-tone and negative-tone resolution tests."
   ]
  },
  {
   "cell_type": "code",
   "execution_count": null,
   "id": "4c24fd30",
   "metadata": {},
   "outputs": [],
   "source": [
    "c = gf.components.litho_steps(\n",
    "    line_widths=[1, 2, 4, 8, 16], line_spacing=10, height=100, layer=(1, 0)\n",
    ")\n",
    "c.plot()"
   ]
  },
  {
   "cell_type": "markdown",
   "id": "4562ca6a",
   "metadata": {},
   "source": [
    "### Calipers (inter-layer alignment)"
   ]
  },
  {
   "cell_type": "markdown",
   "id": "77fba215",
   "metadata": {},
   "source": [
    "The `gf.components.litho_calipers()` function is used to detect offsets in multilayer fabrication.  It creates a two sets of notches on different layers.  When an fabrication error/offset occurs, it is easy to detect how much the offset is because both center-notches are no longer aligned."
   ]
  },
  {
   "cell_type": "code",
   "execution_count": null,
   "id": "def3fa7a",
   "metadata": {},
   "outputs": [],
   "source": [
    "D = gf.components.litho_calipers(\n",
    "    notch_size=[1, 5],\n",
    "    notch_spacing=2,\n",
    "    num_notches=7,\n",
    "    offset_per_notch=0.1,\n",
    "    row_spacing=0,\n",
    "    layer1=(1, 0),\n",
    "    layer2=(2, 0),\n",
    ")\n",
    "D.plot()"
   ]
  },
  {
   "cell_type": "markdown",
   "id": "4b4de06f",
   "metadata": {},
   "source": [
    "## Paths\n",
    "\n",
    "See **Path tutorial** for more details -- this is just an enumeration of the available built-in Path functions"
   ]
  },
  {
   "cell_type": "markdown",
   "id": "49ac2f84",
   "metadata": {},
   "source": [
    "### Circular arc"
   ]
  },
  {
   "cell_type": "code",
   "execution_count": null,
   "id": "59cca27d",
   "metadata": {},
   "outputs": [],
   "source": [
    "P = gf.path.arc(radius=10, angle=135, npoints=720)\n",
    "f = P.plot()"
   ]
  },
  {
   "cell_type": "markdown",
   "id": "5176922b",
   "metadata": {},
   "source": [
    "### Straight"
   ]
  },
  {
   "cell_type": "code",
   "execution_count": null,
   "id": "689903ef",
   "metadata": {},
   "outputs": [],
   "source": [
    "import gdsfactory as gf\n",
    "\n",
    "P = gf.path.straight(length=5, npoints=100)\n",
    "f = P.plot()"
   ]
  },
  {
   "cell_type": "markdown",
   "id": "bbe826b0",
   "metadata": {},
   "source": [
    "### Euler curve\n",
    "\n",
    "Also known as a straight-to-bend, clothoid, racetrack, or track transition, this Path tapers adiabatically from straight to curved.  Often used to minimize losses in photonic straights.  If `p < 1.0`, will create a \"partial euler\" curve as described in Vogelbacher et. al. https://dx.doi.org/10.1364/oe.27.031394.  If the `use_eff` argument is false, `radius` corresponds to minimum radius of curvature of the bend.  If `use_eff`  is true, `radius` corresponds to the \"effective\" radius of the bend-- The curve will be scaled such that the endpoints match an arc with parameters `radius` and `angle`."
   ]
  },
  {
   "cell_type": "code",
   "execution_count": null,
   "id": "5e430c00",
   "metadata": {},
   "outputs": [],
   "source": [
    "P = gf.path.euler(radius=3, angle=90, p=1.0, use_eff=False, npoints=720)\n",
    "f = P.plot()"
   ]
  },
  {
   "cell_type": "markdown",
   "id": "f26e03c3",
   "metadata": {},
   "source": [
    "### Smooth path from waypoints"
   ]
  },
  {
   "cell_type": "code",
   "execution_count": null,
   "id": "b2e83948",
   "metadata": {},
   "outputs": [],
   "source": [
    "import numpy as np\n",
    "\n",
    "import gdsfactory as gf\n",
    "\n",
    "points = np.array([(20, 10), (40, 10), (20, 40), (50, 40), (50, 20), (70, 20)])\n",
    "\n",
    "P = gf.path.smooth(\n",
    "    points=points,\n",
    "    radius=2,\n",
    "    bend=gf.path.euler,\n",
    "    use_eff=False,\n",
    ")\n",
    "f = P.plot()"
   ]
  },
  {
   "cell_type": "markdown",
   "id": "2c78574b",
   "metadata": {},
   "source": [
    "### Delay spiral"
   ]
  },
  {
   "cell_type": "code",
   "execution_count": null,
   "id": "5dcacd35",
   "metadata": {},
   "outputs": [],
   "source": [
    "c = gf.components.spiral_double()\n",
    "c.plot()"
   ]
  },
  {
   "cell_type": "code",
   "execution_count": null,
   "id": "cd38400d",
   "metadata": {},
   "outputs": [],
   "source": [
    "c = gf.components.spiral_inner_io()\n",
    "c.plot()"
   ]
  },
  {
   "cell_type": "code",
   "execution_count": null,
   "id": "2b1797bc",
   "metadata": {},
   "outputs": [],
   "source": [
    "c = gf.components.spiral_external_io()\n",
    "c.plot()"
   ]
  },
  {
   "cell_type": "markdown",
   "id": "6184e3a9",
   "metadata": {},
   "source": [
    "## Useful contact pads / connectors\n",
    "\n",
    "These functions are common shapes with ports, often used to make contact pads"
   ]
  },
  {
   "cell_type": "code",
   "execution_count": null,
   "id": "20e456b1",
   "metadata": {},
   "outputs": [],
   "source": [
    "c = gf.components.compass(size=(4, 2), layer=(1, 0))\n",
    "c.plot()"
   ]
  },
  {
   "cell_type": "code",
   "execution_count": null,
   "id": "5721a179",
   "metadata": {},
   "outputs": [],
   "source": [
    "c = gf.components.nxn(north=3, south=4, east=0, west=0)\n",
    "c.plot()"
   ]
  },
  {
   "cell_type": "code",
   "execution_count": null,
   "id": "07901fb5",
   "metadata": {},
   "outputs": [],
   "source": [
    "c = gf.components.pad()\n",
    "c.plot()"
   ]
  },
  {
   "cell_type": "code",
   "execution_count": null,
   "id": "e6b73cbc",
   "metadata": {},
   "outputs": [],
   "source": [
    "c = gf.components.pad_array90(columns=3)\n",
    "c.plot()"
   ]
  },
  {
   "cell_type": "markdown",
   "id": "3a230c67",
   "metadata": {},
   "source": [
    "## Chip / die template"
   ]
  },
  {
   "cell_type": "code",
   "execution_count": null,
   "id": "af727e0a",
   "metadata": {},
   "outputs": [],
   "source": [
    "import gdsfactory as gf\n",
    "\n",
    "c = gf.components.die(\n",
    "    size=(10000, 5000),  # Size of die\n",
    "    street_width=100,  # Width of corner marks for die-sawing\n",
    "    street_length=1000,  # Length of corner marks for die-sawing\n",
    "    die_name=\"chip99\",  # Label text\n",
    "    text_size=500,  # Label text size\n",
    "    text_location=\"SW\",  # Label text compass location e.g. 'S', 'SE', 'SW'\n",
    "    layer=(2, 0),\n",
    "    bbox_layer=(3, 0),\n",
    ")\n",
    "c.plot()"
   ]
  },
  {
   "cell_type": "markdown",
   "id": "96854f51",
   "metadata": {},
   "source": [
    "## Optimal superconducting curves\n",
    "\n",
    "The following structures are meant to reduce \"current crowding\" in superconducting thin-film structures (such as superconducting nanowires).\n",
    "They are the result of conformal mapping equations derived in  Clem, J. & Berggren, K. \"[Geometry-dependent critical currents in superconducting nanocircuits.\" Phys. Rev. B 84, 1–27 (2011).](http://dx.doi.org/10.1103/PhysRevB.84.174510)"
   ]
  },
  {
   "cell_type": "code",
   "execution_count": null,
   "id": "14ec5749",
   "metadata": {},
   "outputs": [],
   "source": [
    "import gdsfactory as gf\n",
    "\n",
    "c = gf.components.optimal_hairpin(\n",
    "    width=0.2, pitch=0.6, length=10, turn_ratio=4, num_pts=50, layer=(2, 0)\n",
    ")\n",
    "c.plot()"
   ]
  },
  {
   "cell_type": "code",
   "execution_count": null,
   "id": "4fc2fd24",
   "metadata": {},
   "outputs": [],
   "source": [
    "c = gf.c.optimal_step(\n",
    "    start_width=10,\n",
    "    end_width=22,\n",
    "    num_pts=50,\n",
    "    width_tol=1e-3,\n",
    "    anticrowding_factor=1.2,\n",
    "    symmetric=False,\n",
    "    layer=(2, 0),\n",
    ")\n",
    "c.plot()"
   ]
  },
  {
   "cell_type": "code",
   "execution_count": null,
   "id": "c50be2d5",
   "metadata": {},
   "outputs": [],
   "source": [
    "c = gf.c.optimal_90deg(width=100.0, num_pts=15, length_adjust=1, layer=(2, 0))\n",
    "c.plot()"
   ]
  },
  {
   "cell_type": "code",
   "execution_count": null,
   "id": "96bf135b",
   "metadata": {},
   "outputs": [],
   "source": [
    "c = gf.c.snspd(\n",
    "    wire_width=0.2,\n",
    "    wire_pitch=0.6,\n",
    "    size=(10, 8),\n",
    "    num_squares=None,\n",
    "    turn_ratio=4,\n",
    "    terminals_same_side=False,\n",
    "    layer=(2, 0),\n",
    ")\n",
    "c.plot()"
   ]
  }
 ],
 "metadata": {
  "jupytext": {
   "cell_metadata_filter": "-all",
   "main_language": "python",
   "notebook_metadata_filter": "-all"
  }
 },
 "nbformat": 4,
 "nbformat_minor": 5
}
