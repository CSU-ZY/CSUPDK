{
 "cells": [
  {
   "cell_type": "markdown",
   "metadata": {},
   "source": [
    "# Movement\n",
    "\n",
    "You can move, rotate and mirror gdsfactory components.  \n",
    "You can move any object (`Component`, `ComponentReference`, `Port`, `Polygon`, `CellArray`, `Label`, and `Group`) from gdsfactory.\n"
   ]
  },
  {
   "cell_type": "code",
   "execution_count": null,
   "metadata": {
    "attributes": {
     "classes": [],
     "id": "",
     "n": "1"
    }
   },
   "outputs": [],
   "source": [
    "import pp\n",
    "\n",
    "# Start with a blank Component\n",
    "D = pp.Component()\n",
    "\n",
    "# Create some more shape Devices\n",
    "T = pp.components.text('hello', size = 10, layer = (1, 0))\n",
    "E = pp.components.ellipse(radii = (10, 5))\n",
    "R = pp.components.rectangle(size = (10, 3), layer = (2, 0))\n",
    "\n",
    "# Add the shapes to D as references\n",
    "text = D << T\n",
    "ellipse = D << E\n",
    "rect1 = D << R\n",
    "rect2 = D << R\n",
    "\n",
    "D"
   ]
  },
  {
   "cell_type": "code",
   "execution_count": null,
   "metadata": {
    "attributes": {
     "classes": [],
     "id": "",
     "n": "13"
    }
   },
   "outputs": [],
   "source": [
    "c = pp.Component('move_one_ellipse')\n",
    "e1 = c << pp.components.ellipse(radii = (10,5))\n",
    "e2 = c << pp.components.ellipse(radii = (10,5))\n",
    "e1.movex(10) \n",
    "\n",
    "c"
   ]
  },
  {
   "cell_type": "markdown",
   "metadata": {},
   "source": [
    "Now let's practice moving and rotating the objects:"
   ]
  },
  {
   "cell_type": "code",
   "execution_count": null,
   "metadata": {},
   "outputs": [],
   "source": [
    "D = pp.Component('ellipse')\n",
    "E = pp.components.ellipse(radii = (10, 5))\n",
    "e1 = D << E\n",
    "e2 = D << E\n",
    "D"
   ]
  },
  {
   "cell_type": "code",
   "execution_count": null,
   "metadata": {},
   "outputs": [],
   "source": [
    "c = pp.Component('ellipse')\n",
    "e = pp.components.ellipse(radii = (10, 5))\n",
    "e1 = c << e\n",
    "e2 = c << e\n",
    "e2.move(origin = [5, 5], destination = [10, 10]) # Translate by dx = 5, dy = 5\n",
    "c"
   ]
  },
  {
   "cell_type": "code",
   "execution_count": null,
   "metadata": {},
   "outputs": [],
   "source": [
    "c = pp.Component('ellipse')\n",
    "e = pp.components.ellipse(radii = (10,5))\n",
    "e1 = c << e\n",
    "e2 = c << e\n",
    "e2.move([5, 5]) # Translate by dx = 5, dy = 5\n",
    "c"
   ]
  },
  {
   "cell_type": "code",
   "execution_count": null,
   "metadata": {
    "attributes": {
     "classes": [],
     "id": "",
     "n": "2"
    }
   },
   "outputs": [],
   "source": [
    "c = pp.Component('rectangles')\n",
    "r = pp.components.rectangle(size = (10, 5), layer = 1)\n",
    "rect1 = c << r\n",
    "rect2 = c << r\n",
    "\n",
    "rect1.rotate(45) # Rotate the first straight by 45 degrees around (0,0)\n",
    "rect2.rotate(-30, center = [1,1]) # Rotate the second straight by -30 degrees around (1,1)\n",
    "c"
   ]
  },
  {
   "cell_type": "code",
   "execution_count": null,
   "metadata": {},
   "outputs": [],
   "source": [
    "c = pp.Component()\n",
    "text = c << pp.components.text('hello')\n",
    "\n",
    "text.mirror(p1 = [1, 1], p2 = [1, 3]) # Reflects across the line formed by p1 and p2\n",
    "c"
   ]
  },
  {
   "cell_type": "code",
   "execution_count": null,
   "metadata": {},
   "outputs": [],
   "source": [
    "c = pp.Component()\n",
    "text = c << pp.components.text('hello')\n",
    "c"
   ]
  },
  {
   "cell_type": "markdown",
   "metadata": {},
   "source": [
    "Each Component and ComponentReference object has several properties which can be\n",
    "used\n",
    "to learn information about the object (for instance where it's center coordinate\n",
    "is).  Several of these properties can actually be used to move the geometry by\n",
    "assigning them new values.\n",
    "\n",
    "Available properties are:\n",
    "\n",
    "- `xmin` / `xmax`: minimum and maximum x-values of all points within the object\n",
    "- `ymin` / `ymax`: minimum and maximum y-values of all points within the object\n",
    "- `x`: centerpoint between minimum and maximum x-values of all points within the\n",
    "object\n",
    "- `y`: centerpoint between minimum and maximum y-values of all points within the\n",
    "object\n",
    "- `bbox`: bounding box (see note below) in format ((xmin,ymin),(xmax,ymax))\n",
    "- `center`: center of bounding box"
   ]
  },
  {
   "cell_type": "code",
   "execution_count": null,
   "metadata": {
    "attributes": {
     "classes": [],
     "id": "",
     "n": "3"
    }
   },
   "outputs": [],
   "source": [
    "print('bounding box:')\n",
    "print(text.bbox) # Will print the bounding box of text in terms of [(xmin, ymin), (xmax, ymax)]\n",
    "print('xsize and ysize:')\n",
    "print(text.xsize) # Will print the width of text in the x dimension\n",
    "print(text.ysize) # Will print the height of text in the y dimension\n",
    "print('center:')\n",
    "print(text.center) # Gives you the center coordinate of its bounding box\n",
    "print('xmax')\n",
    "print(text.xmax) # Gives you the rightmost (+x) edge of the text bounding box"
   ]
  },
  {
   "cell_type": "markdown",
   "metadata": {},
   "source": [
    "Let's use these properties to manipulate our shapes to arrange them a little\n",
    "better"
   ]
  },
  {
   "cell_type": "code",
   "execution_count": null,
   "metadata": {
    "attributes": {
     "classes": [],
     "id": "",
     "n": "4"
    }
   },
   "outputs": [],
   "source": [
    "import pp\n",
    "\n",
    "c = pp.Component()\n",
    "text = c << pp.components.text('hello')\n",
    "E = pp.components.ellipse(radii = (10, 5))\n",
    "R = pp.components.rectangle(size = (10, 5), layer = 1)\n",
    "rect1 = c << R\n",
    "rect2 = c << R\n",
    "ellipse = c << E\n",
    "\n",
    "c"
   ]
  },
  {
   "cell_type": "code",
   "execution_count": null,
   "metadata": {},
   "outputs": [],
   "source": [
    "# First let's center the ellipse\n",
    "ellipse.center = [0,0] # Move the ellipse such that the bounding box center is at (0,0)\n",
    "\n",
    "# Next, let's move the text to the left edge of the ellipse\n",
    "text.y = ellipse.y # Move the text so that its y-center is equal to the y-center of the ellipse\n",
    "text.xmax = ellipse.xmin # Moves the ellipse so its xmax == the ellipse's xmin\n",
    "\n",
    "# Align the right edge of the rectangles with the x=0 axis\n",
    "rect1.xmax = 0\n",
    "rect2.xmax = 0\n",
    "\n",
    "# Move the rectangles above and below the ellipse\n",
    "rect1.ymin = ellipse.ymax + 5\n",
    "rect2.ymax = ellipse.ymin - 5\n",
    "\n",
    "c"
   ]
  },
  {
   "cell_type": "markdown",
   "metadata": {},
   "source": [
    "In addition to working with the properties of the references inside the\n",
    "Component,\n",
    "we can also manipulate the whole Component if we want.  Let's try mirroring the\n",
    "whole Component `D`:"
   ]
  },
  {
   "cell_type": "code",
   "execution_count": null,
   "metadata": {
    "attributes": {
     "classes": [],
     "id": "",
     "n": "5"
    }
   },
   "outputs": [],
   "source": [
    "print(c.xmax) # Prints out '10.0'\n",
    "\n",
    "c.mirror((0,1)) # Mirror across line made by (0,0) and (0,1)\n",
    "c"
   ]
  },
  {
   "cell_type": "markdown",
   "metadata": {},
   "source": [
    "A bounding box is the smallest enclosing box which contains all points of the geometry."
   ]
  },
  {
   "cell_type": "code",
   "execution_count": null,
   "metadata": {},
   "outputs": [],
   "source": [
    "# The pp.components.library has a handy bounding-box function\n",
    "# which takes a bounding box and returns the rectangle points for it\n",
    "import pp\n",
    "\n",
    "D = pp.components.text('hi')\n",
    "bbox = D.bbox\n",
    "D << pp.components.bbox(bbox=bbox, layer=(2, 0))\n",
    "D"
   ]
  },
  {
   "cell_type": "code",
   "execution_count": null,
   "metadata": {},
   "outputs": [],
   "source": [
    "bbox"
   ]
  },
  {
   "cell_type": "code",
   "execution_count": null,
   "metadata": {
    "attributes": {
     "classes": [],
     "id": "",
     "n": "6"
    }
   },
   "outputs": [],
   "source": [
    "# pp.get_padding_points can also add a bbox with respect to the bounding box edges\n",
    "D = pp.components.text('bye')\n",
    "device_bbox = D.bbox\n",
    "D.add_polygon(pp.get_padding_points(D, default=1), layer=(2, 0))\n",
    "D"
   ]
  },
  {
   "cell_type": "markdown",
   "metadata": {},
   "source": [
    "When we query the properties of D, they will be calculated with respect to this\n",
    "bounding-rectangle.  For instance:"
   ]
  },
  {
   "cell_type": "code",
   "execution_count": null,
   "metadata": {
    "attributes": {
     "classes": [],
     "id": "",
     "n": "7"
    }
   },
   "outputs": [],
   "source": [
    "print('Center of Component D:')\n",
    "print(D.center)\n",
    "\n",
    "print('X-max of Component D:')\n",
    "print(D.xmax)"
   ]
  },
  {
   "cell_type": "code",
   "execution_count": null,
   "metadata": {},
   "outputs": [],
   "source": [
    "D = pp.Component()\n",
    "R = pp.components.rectangle(size = (10,3), layer = 2)\n",
    "rect1 = D << R\n",
    "D.plot()"
   ]
  },
  {
   "cell_type": "markdown",
   "metadata": {},
   "source": [
    "You can chain many of the movement/manipulation functions because they all return the object they manipulate.\n",
    "\n",
    "For instance you can combine two expressions:"
   ]
  },
  {
   "cell_type": "code",
   "execution_count": null,
   "metadata": {
    "attributes": {
     "classes": [],
     "id": "",
     "n": "8"
    }
   },
   "outputs": [],
   "source": [
    "rect1.rotate(angle = 37)\n",
    "rect1.move([10,20])\n",
    "D"
   ]
  },
  {
   "cell_type": "markdown",
   "metadata": {},
   "source": [
    "...into this single-line expression"
   ]
  },
  {
   "cell_type": "code",
   "execution_count": null,
   "metadata": {
    "attributes": {
     "classes": [],
     "id": "",
     "n": "9"
    }
   },
   "outputs": [],
   "source": [
    "D = pp.Component()\n",
    "R = pp.components.rectangle(size = (10,3), layer = 2)\n",
    "rect1 = D << R\n",
    "\n",
    "rect1.rotate(angle = 37).move([10,20])\n",
    "D"
   ]
  },
  {
   "cell_type": "code",
   "execution_count": null,
   "metadata": {},
   "outputs": [],
   "source": []
  }
 ],
 "metadata": {
  "kernelspec": {
   "display_name": "Python 3",
   "language": "python",
   "name": "python3"
  },
  "language_info": {
   "codemirror_mode": {
    "name": "ipython",
    "version": 3
   },
   "file_extension": ".py",
   "mimetype": "text/x-python",
   "name": "python",
   "nbconvert_exporter": "python",
   "pygments_lexer": "ipython3",
   "version": "3.9.1"
  }
 },
 "nbformat": 4,
 "nbformat_minor": 4
}
