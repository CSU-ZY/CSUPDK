{
 "cells": [
  {
   "cell_type": "code",
   "execution_count": null,
   "id": "aa05e15f-26a2-4d1d-9282-974aaaa09eea",
   "metadata": {
    "tags": []
   },
   "outputs": [],
   "source": [
    "import gdstk\n",
    "import gdsfactory as gf"
   ]
  },
  {
   "cell_type": "code",
   "execution_count": null,
   "id": "e16961a9-3287-4a55-91f1-01dc074f0d2a",
   "metadata": {
    "tags": []
   },
   "outputs": [],
   "source": [
    "@gf.declarative_cell\n",
    "class mzi:\n",
    "    delta_length: float = 10.0\n",
    "    \n",
    "    def instances(self):\n",
    "        self.mmi_in = gf.components.mmi1x2()\n",
    "        self.mmi_out = gf.components.mmi2x2()\n",
    "        self.straight_top1 = gf.components.straight(length=self.delta_length/2)\n",
    "        self.straight_top2 = gf.components.straight(length=self.delta_length/2)\n",
    "        self.bend_top1 = gf.components.bend_euler()\n",
    "        self.bend_top2 = gf.components.bend_euler().mirror()\n",
    "        self.bend_top3 = gf.components.bend_euler().mirror()\n",
    "        self.bend_top4 = gf.components.bend_euler()\n",
    "        self.bend_btm1 = gf.components.bend_euler().mirror()\n",
    "        self.bend_btm2 = gf.components.bend_euler()\n",
    "        self.bend_btm3 = gf.components.bend_euler()\n",
    "        self.bend_btm4 = gf.components.bend_euler().mirror()\n",
    "        \n",
    "    def connections(self):\n",
    "        return [\n",
    "            (self.bend_top1.ports['o1'], self.mmi_in.ports['o2']),\n",
    "            (self.straight_top1.ports['o1'], self.bend_top1.ports['o2']),\n",
    "            (self.bend_top2.ports['o1'], self.straight_top1.ports['o2']),\n",
    "            (self.bend_top3.ports['o1'], self.bend_top2.ports['o2']),\n",
    "            (self.straight_top2.ports['o1'], self.bend_top3.ports['o2']),\n",
    "            (self.bend_top4.ports['o1'], self.straight_top2.ports['o2']),\n",
    "            (self.bend_btm1.ports['o1'], self.mmi_in.ports['o3']),\n",
    "            (self.bend_btm2.ports['o1'], self.bend_btm1.ports['o2']),\n",
    "            (self.bend_btm3.ports['o1'], self.bend_btm2.ports['o2']),\n",
    "            (self.bend_btm4.ports['o1'], self.bend_btm3.ports['o2']),\n",
    "            (self.mmi_out.ports[\"o1\"], self.bend_btm4.ports['o2']),\n",
    "        ]\n",
    "    \n",
    "    def ports(self):\n",
    "        return {\n",
    "            'o1': self.mmi_in.ports['o1'],\n",
    "            'o2': self.mmi_out.ports['o3'],\n",
    "            'o3': self.mmi_out.ports['o4'],\n",
    "        }"
   ]
  },
  {
   "cell_type": "code",
   "execution_count": null,
   "id": "32a3b220-8c69-4ee8-951b-0fb392a92531",
   "metadata": {
    "tags": []
   },
   "outputs": [],
   "source": [
    "mzi()"
   ]
  }
 ],
 "metadata": {
  "kernelspec": {
   "display_name": "gf",
   "language": "python",
   "name": "gf"
  },
  "language_info": {
   "codemirror_mode": {
    "name": "ipython",
    "version": 3
   },
   "file_extension": ".py",
   "mimetype": "text/x-python",
   "name": "python",
   "nbconvert_exporter": "python",
   "pygments_lexer": "ipython3",
   "version": "3.10.11"
  }
 },
 "nbformat": 4,
 "nbformat_minor": 5
}
