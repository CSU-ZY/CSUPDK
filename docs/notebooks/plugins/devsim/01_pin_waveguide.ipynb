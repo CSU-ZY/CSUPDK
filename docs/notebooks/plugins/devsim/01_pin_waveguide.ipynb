{
 "cells": [
  {
   "cell_type": "markdown",
   "metadata": {},
   "source": [
    "# DEVSIM circuit simulator (experimental)\n",
    "\n",
    "[DEVSIM](https://devsim.org/) is an open-source semiconductor device simulator; also see [publication](https://joss.theoj.org/papers/10.21105/joss.03898). \n",
    "\n",
    "It compares in solving capabilities for propietary tools. Some of its features include:\n",
    "* Sharfetter-Gummel discretization of the electron and hole continuity equations\n",
    "* DC, transient, small-signal AC, and noise solution algorithms\n",
    "* Solution of 1D, 2D, and 3D unstructured meshes\n",
    "* Advanced models for mobility and semiclassical approaches for quantum effects\n",
    "In addition, it operates with a symbolic model evaluation interface, easily allowing new models and their derivatives to be scripted.\n",
    "\n",
    "There is an active community over at the [DEVSIM forums](https://forum.devsim.org/).\n",
    "\n",
    "## Meshing\n",
    "\n",
    "DEVSIM solves equations on unstructured meshes. It has a built-in 1D and 2D meshing interface, currently used in gdsfactory to solve for carrier distributions in waveguide cross-sections. It also interfaces with GMSH for arbitrary 2D and 3D meshes, which we will use in the future to perform semiconductor simulations of gdsfactory components.\n",
    "\n",
    "## Installing DEVSIM and visualization dependencies\n",
    "\n",
    "To run the below notebook, you will need to install DEVSIM in your notebook's Python environment. The easiest way to do so is to [download the binary from Github](https://github.com/devsim/devsim/releases), unzip, and `pip install` the package. There are also dependencies to load and display mesh files. For the simplest install, you will need to use `conda` (`mamba` for speed) instead of `pip` to get the binaries for `vtk`.\n",
    "\n",
    "Here is an example on Ubuntu (you may need to restart your notebook after running this cell)\n",
    "\n",
    "In a fresh conda environment on Ubuntu, I am able to run this notebook after running the following commands:"
   ]
  },
  {
   "cell_type": "code",
   "execution_count": null,
   "metadata": {},
   "outputs": [],
   "source": [
    "install = False # Set True to perform\n",
    "\n",
    "if install:\n",
    "    !mkdir ~/devsim\n",
    "    !wget -P ~/devsim https://github.com/devsim/devsim/releases/download/v2.1.0/devsim_linux_v2.1.0.tgz\n",
    "    !tar --directory ~/devsim zxvf ~/devsim/devsim_linux_v2.1.0.tgz\n",
    "    !tar zxvf ~/devsim/devsim_linux_v2.1.0.tgz --directory ~/devsim\n",
    "    !python ~/devsim/devsim_linux_v2.1.0/install.py\n",
    "    import sys\n",
    "    !{sys.executable} -m pip install -e ~/devsim/devsim_linux_v2.1.0/lib # Works in this specific way\n",
    "    %conda install --yes -c conda-forge pyvista"
   ]
  },
  {
   "cell_type": "markdown",
   "metadata": {},
   "source": [
    "## DC Drift-diffusion simulation\n",
    "\n",
    "### Setup"
   ]
  },
  {
   "cell_type": "markdown",
   "metadata": {},
   "source": [
    "We setup the simulation by defining a strip waveguide cross-section. As per the docstring, we can change waveguide geometry (core thickness, slab thickness, core width), doping configuration (dopant level, dopant positions), as well as hyperparameters like adaptive mesh resolution at all the interfaces."
   ]
  },
  {
   "cell_type": "code",
   "execution_count": null,
   "metadata": {},
   "outputs": [],
   "source": [
    "%%capture\n",
    "from gdsfactory.simulation.devsim import get_simulation_xsection\n",
    "\n",
    "nm = 1E-9\n",
    "\n",
    "c = get_simulation_xsection.PINWaveguide(\n",
    "    wg_width=500 * nm,\n",
    "    wg_thickness=220 * nm,\n",
    "    slab_thickness=90 * nm,\n",
    ")\n",
    "\n",
    "# Initialize mesh and solver\n",
    "c.ddsolver()"
   ]
  },
  {
   "cell_type": "markdown",
   "metadata": {},
   "source": [
    "The device can be saved to a tecplot file named `filename.dat` with `c.save_device(filename=filename.dat)`, and can then be opened by an appropriate software such as [Paraview](https://www.paraview.org/). \n",
    "\n",
    "(Experimental) It is also possible to visualize the mesh in the Notebook with the `plot` method. By default it shows the geometry. We can also pass a string to `scalars` to plot a field as color over the mesh. For instance, acceptor concentration and donor concentration for the PN junction. The method `c.list_fields()` returns the header of the mesh, which lists all possible fields."
   ]
  },
  {
   "cell_type": "code",
   "execution_count": null,
   "metadata": {},
   "outputs": [],
   "source": [
    "c.list_fields()"
   ]
  },
  {
   "cell_type": "code",
   "execution_count": null,
   "metadata": {},
   "outputs": [],
   "source": [
    "c.plot(scalars='NetDoping')"
   ]
  },
  {
   "cell_type": "code",
   "execution_count": null,
   "metadata": {},
   "outputs": [],
   "source": [
    "c.plot(scalars='Electrons', log_scale=True)"
   ]
  },
  {
   "cell_type": "markdown",
   "metadata": {},
   "source": [
    "### Solve\n",
    "\n",
    "We iteratively solve for the self-consistent carrier distribution for 0.5V of applied forward voltage, iterating with 0.1V steps, and then visualize the electron concentration:"
   ]
  },
  {
   "cell_type": "code",
   "execution_count": null,
   "metadata": {},
   "outputs": [],
   "source": [
    "# Find a solution with 1V across the junction, ramping by 0.1V steps\n",
    "c.ramp_voltage(0.5, 0.1)"
   ]
  },
  {
   "cell_type": "code",
   "execution_count": null,
   "metadata": {},
   "outputs": [],
   "source": [
    "c.plot(scalars='Electrons', log_scale=True)"
   ]
  },
  {
   "cell_type": "markdown",
   "metadata": {},
   "source": [
    "and similarly for reverse-bias: "
   ]
  },
  {
   "cell_type": "code",
   "execution_count": null,
   "metadata": {},
   "outputs": [],
   "source": [
    "c.ramp_voltage(-0.5, -0.1)"
   ]
  },
  {
   "cell_type": "code",
   "execution_count": null,
   "metadata": {},
   "outputs": [],
   "source": [
    "c.plot(scalars='Electrons', log_scale=True)"
   ]
  }
 ],
 "metadata": {
  "kernelspec": {
   "display_name": "Python 3.10.4 ('devsimscratch': conda)",
   "language": "python",
   "name": "python3"
  },
  "language_info": {
   "codemirror_mode": {
    "name": "ipython",
    "version": 3
   },
   "file_extension": ".py",
   "mimetype": "text/x-python",
   "name": "python",
   "nbconvert_exporter": "python",
   "pygments_lexer": "ipython3",
   "version": "3.10.5"
  },
  "vscode": {
   "interpreter": {
    "hash": "64c133f3a1967b296905f90b4858707aa8b6457960082c15c2ca47266618a04c"
   }
  }
 },
 "nbformat": 4,
 "nbformat_minor": 2
}
