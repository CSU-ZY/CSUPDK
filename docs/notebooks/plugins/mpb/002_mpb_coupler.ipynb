{
 "cells": [
  {
   "cell_type": "code",
   "execution_count": null,
   "id": "7e117766-d1f9-4343-8f4a-6e5ba4d8b6c1",
   "metadata": {},
   "outputs": [],
   "source": [
    "import numpy as np\n",
    "import matplotlib.pyplot as plt\n",
    "import meep as mp\n",
    "import gdsfactory.simulation.gmpb as gm"
   ]
  },
  {
   "cell_type": "code",
   "execution_count": null,
   "id": "87468e5e-8e4f-4db6-86f3-80ff469fa71b",
   "metadata": {},
   "outputs": [],
   "source": [
    "mode_solver = gm.get_mode_solver_coupler(wg_widths=(0.5, 0.5), gaps=(0.2,), ncore=3.47, nclad=1.44, wg_thickness=.22, res=20, sz=6, nmodes=4)\n",
    "modes = gm.find_modes(mode_solver=mode_solver, parity=mp.NO_PARITY)\n",
    "m1 = modes[1]\n",
    "m2 = modes[2]\n",
    "m3 = modes[3]"
   ]
  },
  {
   "cell_type": "code",
   "execution_count": null,
   "id": "339ed84f-28ef-4cc1-b5ef-e23456706bae",
   "metadata": {},
   "outputs": [],
   "source": [
    "m1.plot_eps()"
   ]
  },
  {
   "cell_type": "code",
   "execution_count": null,
   "id": "157d7386-9df7-438d-a8b8-77a1e4f7f57f",
   "metadata": {},
   "outputs": [],
   "source": [
    "m1.plot_e()"
   ]
  },
  {
   "cell_type": "code",
   "execution_count": null,
   "id": "b52a0c12-016d-485d-b28a-43b9e4307ba0",
   "metadata": {},
   "outputs": [],
   "source": [
    "m1.plot_ey()"
   ]
  },
  {
   "cell_type": "code",
   "execution_count": null,
   "id": "e0a440e5-b69a-4040-8039-e9cb3705a2c1",
   "metadata": {},
   "outputs": [],
   "source": [
    "m2.plot_ey()"
   ]
  },
  {
   "cell_type": "code",
   "execution_count": null,
   "id": "67ab6348-1a02-4bad-8021-da29459f7634",
   "metadata": {},
   "outputs": [],
   "source": [
    "gaps = np.arange(0.15, 0.30, 0.02)"
   ]
  },
  {
   "cell_type": "code",
   "execution_count": null,
   "id": "22cdeaef-9fde-4264-8ed9-15b7e4c3fe09",
   "metadata": {},
   "outputs": [],
   "source": [
    "ne = []\n",
    "no = []\n",
    "gap_to_modes = {}\n",
    "\n",
    "for gap in gaps:\n",
    "    mode_solver = gm.get_mode_solver_coupler(wg_widths=(0.5, 0.5), gaps=(gap,), ncore=3.47, nclad=1.44, wg_thickness=.22, res=20, sz=6, nmodes=4)\n",
    "    modes = gm.find_modes(mode_solver=mode_solver, parity=mp.NO_PARITY)\n",
    "    ne.append(modes[1].neff)\n",
    "    no.append(modes[2].neff)\n",
    "    gap_to_modes[gap] = modes"
   ]
  },
  {
   "cell_type": "code",
   "execution_count": null,
   "id": "fcfbd825-52ec-42c5-bd14-0beee0e06017",
   "metadata": {},
   "outputs": [],
   "source": [
    "gap_to_modes"
   ]
  },
  {
   "cell_type": "code",
   "execution_count": null,
   "id": "94a09e3e-1bee-4c11-8a3f-0d02d6b43b5e",
   "metadata": {},
   "outputs": [],
   "source": [
    "import numpy as np\n",
    "\n",
    "def coupling_length(\n",
    "    neff1: float,\n",
    "    neff2: float,\n",
    "    power_ratio: float = 1.0,\n",
    "    wavelength: float = 1.55,\n",
    ") -> float:\n",
    "    \"\"\"\n",
    "    Returns the coupling length (um) of the directional coupler\n",
    "    to achieve power_ratio\n",
    "\n",
    "    Args:\n",
    "        wavelength: in um\n",
    "        neff1: even supermode of the directional coupler.\n",
    "        neff2: odd supermode of the directional coupler.\n",
    "        power_ratio: p2/p1, where 1 means 100% power transfer\n",
    "\n",
    "    \"\"\"\n",
    "    dneff = (neff1 - neff2).real\n",
    "    return wavelength / (np.pi * dneff) * np.arcsin(np.sqrt(power_ratio))\n"
   ]
  },
  {
   "cell_type": "code",
   "execution_count": null,
   "id": "e2555276-c1dc-439a-8b20-2696dc1b240c",
   "metadata": {},
   "outputs": [],
   "source": [
    "lc = [coupling_length(neff1=neff1, neff2=neff2) for gap, neff1, neff2 in zip(gaps, ne, no)]"
   ]
  },
  {
   "cell_type": "code",
   "execution_count": null,
   "id": "990d07cb-f933-4b29-9615-41bb6db623ca",
   "metadata": {},
   "outputs": [],
   "source": [
    "plt.plot(gaps, lc, '.-')\n",
    "plt.ylabel('100% coupling length (um)')\n",
    "plt.xlabel('gap (um)')"
   ]
  },
  {
   "cell_type": "code",
   "execution_count": null,
   "id": "6d310518-df64-46cb-9e26-15c37e57eaa9",
   "metadata": {},
   "outputs": [],
   "source": []
  }
 ],
 "metadata": {
  "kernelspec": {
   "display_name": "Python 3 (ipykernel)",
   "language": "python",
   "name": "python3"
  },
  "language_info": {
   "codemirror_mode": {
    "name": "ipython",
    "version": 3
   },
   "file_extension": ".py",
   "mimetype": "text/x-python",
   "name": "python",
   "nbconvert_exporter": "python",
   "pygments_lexer": "ipython3",
   "version": "3.9.7"
  }
 },
 "nbformat": 4,
 "nbformat_minor": 5
}
