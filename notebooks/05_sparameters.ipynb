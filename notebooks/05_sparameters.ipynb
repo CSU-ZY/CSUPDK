{
 "cells": [
  {
   "cell_type": "markdown",
   "metadata": {},
   "source": [
    "# Sparameters\n",
    "\n",
    "gdsfactory provides you with an interface to Lumerical FDTD to calculate Sparameters\n",
    "\n",
    "by default another repo [gdslib](https://gdslib.readthedocs.io/en/latest/index.html) stores the Sparameters \n",
    "\n",
    "You can chain the Sparameters to calculate solve of larger\n",
    "circuits using a circuit solver such as:\n",
    "\n",
    "- Lumerical interconnect\n",
    "- simphony (open source)\n",
    "\n",
    "\n",
    "If the Sparameters exists in `gdslib` you can access them really fast."
   ]
  },
  {
   "cell_type": "code",
   "execution_count": null,
   "metadata": {},
   "outputs": [],
   "source": [
    "import pp\n",
    "\n",
    "pp.sp.plot(pp.c.mmi1x2(), keys=['S23m', 'S13m'], logscale=True)"
   ]
  },
  {
   "cell_type": "markdown",
   "metadata": {},
   "source": [
    "Sometimes you need Sparameters of a component for some parameters that has not been simulated before.\n",
    "Therefore gdsfactory will compute them for you in Lumerical."
   ]
  },
  {
   "cell_type": "code",
   "execution_count": null,
   "metadata": {},
   "outputs": [],
   "source": [
    "import pp\n",
    "\n",
    "cs = [pp.c.coupler_ring(gap=gap, bend_radius=bend_radius) for gap in [0.15, 0.2, 0.3] for bend_radius in [5, 10]]\n",
    "\n",
    "for c in cs:\n",
    "    pp.show(c)\n",
    "    print(c)\n",
    "    pp.sp.write(c)"
   ]
  },
  {
   "cell_type": "markdown",
   "metadata": {},
   "source": [
    "By default gdsfactory uses the generic layermap for 220nm height silicon layer.\n",
    "\n",
    "You can also define your components with a different material, thicknes or GDS layermap"
   ]
  },
  {
   "cell_type": "code",
   "execution_count": null,
   "metadata": {},
   "outputs": [],
   "source": [
    "\n",
    "@pp.autoname\n",
    "def waveguide_sample(length=5, width=1):\n",
    "    wg = pp.Component(\"waveguide_sample\")\n",
    "    wg.add_polygon([(0, 0), (length, 0), (length, width), (0, width)], layer=(2, 0))\n",
    "    wg.add_port(name=\"W0\", midpoint=[0, width / 2], width=width, orientation=180)\n",
    "    wg.add_port(name=\"E0\", midpoint=[length, width / 2], width=width, orientation=0)\n",
    "    return wg\n",
    "\n",
    "\n",
    "layer2material = {\n",
    "    (2, 0): \"Si3N4 (Silicon Nitride) - Phillip\",\n",
    "}\n",
    "\n",
    "layer2nm = {(2, 0): 400}\n",
    "\n",
    "c = waveguide_sample()\n",
    "pp.sp.write(c, layer2nm=layer2nm, layer2material=layer2material)"
   ]
  }
 ],
 "metadata": {},
 "nbformat": 4,
 "nbformat_minor": 4
}
