{
 "cells": [
  {
   "cell_type": "markdown",
   "id": "0ac800e8",
   "metadata": {},
   "source": [
    "# Meep FDTD\n",
    "\n",
    "[Meep](https://meep.readthedocs.io/en/latest/) is a free and open source finite-difference time-domain (FDTD) software package for electromagnetic simulations spanning a broad range of applications.\n",
    "\n",
    "You can install Meep and the mode solver MPB (which Meep uses to compute S-parameters and launch mode sources) using one of two methods:\n",
    "\n",
    "1. Mamba (faster)\n",
    "\n",
    "```\n",
    "mamba install pymeep=*=mpi_mpich_* -y\n",
    "```\n",
    "\n",
    "2. Conda\n",
    "\n",
    "```\n",
    "conda install -c conda-forge pymeep=*=mpi_mpich_* -y\n",
    "```\n",
    "\n",
    "To update the installed package, you would do:\n",
    "\n",
    "```\n",
    "mamba update pymeep=*=mpi_mpich_* -y\n",
    "```\n",
    "\n",
    "The Mamba/Conda packages are available for Linux, macOS, or Windows [WSL](https://docs.microsoft.com/en-us/windows/wsl/). For more details on installing Meep, see the [user manual](https://meep.readthedocs.io/en/latest/Installation/#conda-packages).\n",
    "\n",
    "\n",
    "The gdsfactory `gmeep` plugin computes the transmission spectrum for planar photonic components.\n",
    "\n",
    "One advantage of using the `gmeep` plugin is that you only need to define your component geometry *once* using gdsfactory. The geometry is automatically imported into Meep. There is no need to define the geometry separately for Meep.\n",
    "\n",
    "For extracting S-parameters, `gmeep` automatically swaps the source between ports to compute the full S-matrix. This process involves:\n",
    "\n",
    "- adding monitors to each port of the device\n",
    "- extending the ports into the PML absorbing boundary layers\n",
    "- running the simulation and computing elements of the S-matrix in post-processing using the correct ratio of S-parameters. The port monitors are used to compute the discrete-time Fourier-transformed (DTFT) fields which are then decomposed into complex mode coefficients known as S-parameters. The S-parameters can be computed over a range of frequencies.\n",
    "\n",
    "The resolution is in units of pixels/μm. As a general rule, you should run with at least `resolution=30` for 1/30 μm/pixel (33 nm/pixel)\n",
    "\n",
    "Note that most of the examples use `resolution=20` in order to run fast.\n",
    "\n",
    "Here are some examples of how to extract S-parameters in Meep in planar devices.\n",
    "\n",
    "For Sparameters we follow the syntax `o1@0,o2@0` where `o1` is the input port `@0` mode 0 (usually fundamental TE mode) and `o2@0` refers to output port `o2` mode 0.\n",
    "\n",
    "\n",
    "```bash\n",
    "\n",
    "         top view\n",
    "              ________________________________\n",
    "             |                               |\n",
    "             | xmargin_left                  | port_extension\n",
    "             |<--------->       port_margin ||<-->\n",
    "          o2_|___________          _________||_o3\n",
    "             |           \\        /          |\n",
    "             |            \\      /           |\n",
    "             |             ======            |\n",
    "             |            /      \\           |\n",
    "          o1_|___________/        \\__________|_o4\n",
    "             |   |                 <-------->|\n",
    "             |   |ymargin_bot   xmargin_right|\n",
    "             |   |                           |\n",
    "             |___|___________________________|\n",
    "\n",
    "        side view\n",
    "              ________________________________\n",
    "             |                     |         |\n",
    "             |                     |         |\n",
    "             |                   zmargin_top |\n",
    "             |xmargin_left         |         |\n",
    "             |<---> _____         _|___      |\n",
    "             |     |     |       |     |     |\n",
    "             |     |     |       |     |     |\n",
    "             |     |_____|       |_____|     |\n",
    "             |       |                       |\n",
    "             |       |                       |\n",
    "             |       |zmargin_bot            |\n",
    "             |       |                       |\n",
    "             |_______|_______________________|\n",
    "\n",
    "\n",
    "\n",
    "```\n",
    "\n",
    "## Serial Simulation (single core)\n",
    "\n",
    "Running Meep using a single CPU core can be slow as the single core needs to update all the simulation grid points sequentially at each time step."
   ]
  },
  {
   "cell_type": "code",
   "execution_count": null,
   "id": "a882016b",
   "metadata": {},
   "outputs": [],
   "source": [
    "import autograd.numpy as npa\n",
    "from autograd import tensor_jacobian_product\n",
    "from meep.adjoint import (\n",
    "    conic_filter,\n",
    "    DesignRegion,\n",
    "    get_conic_radius_from_eta_e,\n",
    "    tanh_projection,\n",
    ")\n",
    "import meep.adjoint as mpa\n",
    "from meep import MaterialGrid, Medium, Vector3, Volume\n",
    "import meep as mp\n",
    "from gdsfactory.simulation.add_simulation_markers import add_simulation_markers\n",
    "import time\n",
    "import pandas as pd\n",
    "import matplotlib.pyplot as plt\n",
    "import numpy as np\n",
    "import gdsfactory.simulation.gmeep as gm\n",
    "import gdsfactory.simulation as sim\n",
    "\n",
    "import gdsfactory as gf\n",
    "from gdsfactory.generic_tech import get_generic_pdk\n",
    "\n",
    "gf.config.rich_output()\n",
    "PDK = get_generic_pdk()\n",
    "PDK.activate()"
   ]
  },
  {
   "cell_type": "code",
   "execution_count": null,
   "id": "3915f880",
   "metadata": {},
   "outputs": [],
   "source": [
    "c = gf.components.straight(length=2)\n",
    "c.plot()"
   ]
  },
  {
   "cell_type": "markdown",
   "id": "4c9d628d",
   "metadata": {},
   "source": [
    "`run=False` only plots the simulations for you to review that is set up **correctly**"
   ]
  },
  {
   "cell_type": "code",
   "execution_count": null,
   "id": "2c694274",
   "metadata": {},
   "outputs": [],
   "source": [
    "sp = gm.write_sparameters_meep(c, run=False, ymargin_top=3, ymargin_bot=3, is_3d=False)"
   ]
  },
  {
   "cell_type": "code",
   "execution_count": null,
   "id": "2771d263",
   "metadata": {},
   "outputs": [],
   "source": [
    "help(gm.write_sparameters_meep)"
   ]
  },
  {
   "cell_type": "markdown",
   "id": "51e74d9d",
   "metadata": {},
   "source": [
    "As you've noticed we added `ymargin_top` and `ymargin_bot` to ensure we have enough distance to the PML\n",
    "\n",
    "You can also do this directly with another version of the function that adds `ymargin_top` and `ymargin_bot`"
   ]
  },
  {
   "cell_type": "code",
   "execution_count": null,
   "id": "803dfc80",
   "metadata": {},
   "outputs": [],
   "source": [
    "c = gf.components.straight(length=2)\n",
    "sp = gm.write_sparameters_meep(c, run=False, is_3d=False)"
   ]
  },
  {
   "cell_type": "markdown",
   "id": "56f67e72",
   "metadata": {},
   "source": [
    "Because components with `left-right` ports are very common `write_sparameters_meep` `y_margin = 3um `"
   ]
  },
  {
   "cell_type": "code",
   "execution_count": null,
   "id": "1880be7a",
   "metadata": {},
   "outputs": [],
   "source": [
    "c = gf.components.taper(length=2.0, width1=0.5, width2=1)\n",
    "c.plot()"
   ]
  },
  {
   "cell_type": "code",
   "execution_count": null,
   "id": "c7858ccd",
   "metadata": {},
   "outputs": [],
   "source": [
    "sp = gm.write_sparameters_meep(c, run=False)"
   ]
  },
  {
   "cell_type": "markdown",
   "id": "26742fd5",
   "metadata": {},
   "source": [
    "## 2.5D Simulation\n",
    "\n",
    "For faster simulations you can do an effective mode approximation, to compute the mode of the slab and run a 2D simulation to speed your [simulations](https://www.lumerical.com/learn/whitepapers/lumericals-2-5d-fdtd-propagation-method/)"
   ]
  },
  {
   "cell_type": "code",
   "execution_count": null,
   "id": "c2ecc76f",
   "metadata": {},
   "outputs": [],
   "source": [
    "core_material = sim.get_effective_indices(\n",
    "    core_material=3.4777,\n",
    "    clad_materialding=1.444,\n",
    "    nsubstrate=1.444,\n",
    "    thickness=0.22,\n",
    "    wavelength=1.55,\n",
    "    polarization=\"te\",\n",
    ")[0]\n",
    "\n",
    "core_material"
   ]
  },
  {
   "cell_type": "code",
   "execution_count": null,
   "id": "d43d33a7",
   "metadata": {},
   "outputs": [],
   "source": [
    "sp = gm.write_sparameters_meep(\n",
    "    c, resolution=20, is_3d=False, material_name_to_meep=dict(si=core_material)\n",
    ")"
   ]
  },
  {
   "cell_type": "code",
   "execution_count": null,
   "id": "583db371",
   "metadata": {},
   "outputs": [],
   "source": [
    "gf.simulation.plot.plot_sparameters(sp)"
   ]
  },
  {
   "cell_type": "code",
   "execution_count": null,
   "id": "1ea06a8c",
   "metadata": {},
   "outputs": [],
   "source": [
    "gf.simulation.plot.plot_sparameters(sp, keys=(\"o2@0,o1@0\",))"
   ]
  },
  {
   "cell_type": "markdown",
   "id": "3f18e1d9",
   "metadata": {},
   "source": [
    "For a small taper length, the matrix element S$_{21}$ (transmission in Port 2 given a source in Port 1) is around 0 dB which is equivalent to ~100% transmission."
   ]
  },
  {
   "cell_type": "markdown",
   "id": "4691e935",
   "metadata": {},
   "source": [
    "## Port Symmetries\n",
    "\n",
    "You can skip redundant simulations in reciprocal devices.\n",
    "If the device looks the same going from in -> out as out -> in, we just need to run one simulation."
   ]
  },
  {
   "cell_type": "code",
   "execution_count": null,
   "id": "26f1b193",
   "metadata": {},
   "outputs": [],
   "source": [
    "c = gf.components.bend_euler(radius=3)\n",
    "c.plot()"
   ]
  },
  {
   "cell_type": "code",
   "execution_count": null,
   "id": "f7e9b8da",
   "metadata": {},
   "outputs": [],
   "source": [
    "sp = gm.write_sparameters_meep_1x1_bend90(c, run=False)"
   ]
  },
  {
   "cell_type": "code",
   "execution_count": null,
   "id": "78f0f10b",
   "metadata": {},
   "outputs": [],
   "source": [
    "sp = gm.write_sparameters_meep_1x1_bend90(c, run=True)"
   ]
  },
  {
   "cell_type": "code",
   "execution_count": null,
   "id": "a918bc0e",
   "metadata": {},
   "outputs": [],
   "source": [
    "list(sp.keys())"
   ]
  },
  {
   "cell_type": "code",
   "execution_count": null,
   "id": "4bfc5105",
   "metadata": {},
   "outputs": [],
   "source": [
    "gf.simulation.plot.plot_sparameters(sp)"
   ]
  },
  {
   "cell_type": "code",
   "execution_count": null,
   "id": "c32ae712",
   "metadata": {},
   "outputs": [],
   "source": [
    "gf.simulation.plot.plot_sparameters(sp, keys=(\"o2@0,o1@0\",), logscale=False)"
   ]
  },
  {
   "cell_type": "code",
   "execution_count": null,
   "id": "e17e38fd",
   "metadata": {},
   "outputs": [],
   "source": [
    "gf.simulation.plot.plot_sparameters(sp, keys=(\"o2@0,o1@0\",))"
   ]
  },
  {
   "cell_type": "code",
   "execution_count": null,
   "id": "fb813532",
   "metadata": {},
   "outputs": [],
   "source": [
    "c = gf.components.crossing()\n",
    "c.plot()"
   ]
  },
  {
   "cell_type": "markdown",
   "id": "a88bee69",
   "metadata": {},
   "source": [
    "Here are the port symmetries for a crossing\n",
    "\n",
    "```python\n",
    "port_symmetries_crossing = {\n",
    "    \"o1\": {\n",
    "        \"o1@0,o1@0\": [\"o2@0,o2@0\", \"o3@0,o3@0\", \"o4@0,o4@0\"],\n",
    "        \"o2@0,o1@0\": [\"o1@0,o2@0\", \"o3@0,o4@0\", \"o4@0,o3@0\"],\n",
    "        \"o3@0,o1@0\": [\"o1@0,o3@0\", \"o2@0,o4@0\", \"o4@0,o2@0\"],\n",
    "        \"o4@0,o1@0\": [\"o1@0,o4@0\", \"o2@0,o3@0\", \"o3@0,o2@0\"],\n",
    "    }\n",
    "}\n",
    "```"
   ]
  },
  {
   "cell_type": "code",
   "execution_count": null,
   "id": "c7a96cd4",
   "metadata": {},
   "outputs": [],
   "source": [
    "sp = gm.write_sparameters_meep(\n",
    "    c,\n",
    "    resolution=20,\n",
    "    ymargin=0,\n",
    "    port_symmetries=gm.port_symmetries.port_symmetries_crossing,\n",
    "    run=False,\n",
    ")"
   ]
  },
  {
   "cell_type": "code",
   "execution_count": null,
   "id": "e328f972",
   "metadata": {},
   "outputs": [],
   "source": [
    "sp = gm.write_sparameters_meep(\n",
    "    c,\n",
    "    resolution=20,\n",
    "    ymargin=0,\n",
    "    port_symmetries=gm.port_symmetries.port_symmetries_crossing,\n",
    "    run=True,\n",
    ")"
   ]
  },
  {
   "cell_type": "code",
   "execution_count": null,
   "id": "171d90a5",
   "metadata": {},
   "outputs": [],
   "source": [
    "gm.plot.plot_sparameters(sp)"
   ]
  },
  {
   "cell_type": "code",
   "execution_count": null,
   "id": "5c309813",
   "metadata": {},
   "outputs": [],
   "source": [
    "gm.plot.plot_sparameters(sp, keys=(\"o3@0,o1@0\",))"
   ]
  },
  {
   "cell_type": "markdown",
   "id": "b0d14d58",
   "metadata": {},
   "source": [
    "As you can see this crossing looks beautiful but is quite **lossy** (9 dB @ 1550 nm)"
   ]
  },
  {
   "cell_type": "markdown",
   "id": "f8ac82b7",
   "metadata": {},
   "source": [
    "## Parallel Simulation (multicore/MPI)\n",
    "\n",
    "Meep supports [distributed-memory parallelization via MPI](https://meep.readthedocs.io/en/latest/Parallel_Meep/) which can be used to provide a significant speedup compared to serial calculations.\n",
    "\n",
    "By default MPI just runs the same copy of the Python script everywhere, with the C++ under MEEP actually being parallelized.\n",
    "\n",
    "`divide_parallel_processes` allows us to logically split this one calculation into (in this case \"cores\") subdivisions.\n",
    "The only difference in the scripts is that a different integer n is returned depending on the subdivision it is running in.\n",
    "\n",
    "So we use that n to select different sources, and each subdivision calculates its own Sparams independently.\n",
    "Afterwards, we collect all the results in one of the subdivisions (if rank == 0)\n",
    "\n",
    "As a demonstration, lets try to reproduce the results of the directional coupler results from the [Meep manual](https://meep.readthedocs.io/en/latest/Python_Tutorials/GDSII_Import/) which indicates that to obtain a 3 dB (50%/50%) splitter you need a separation distance of 130 nm over a coupler length of 8 μm."
   ]
  },
  {
   "cell_type": "code",
   "execution_count": null,
   "id": "e720655b",
   "metadata": {},
   "outputs": [],
   "source": [
    "help(gf.components.coupler)"
   ]
  },
  {
   "cell_type": "code",
   "execution_count": null,
   "id": "307d635c",
   "metadata": {},
   "outputs": [],
   "source": [
    "c = gf.components.coupler(length=8, gap=0.13)\n",
    "c.plot()"
   ]
  },
  {
   "cell_type": "code",
   "execution_count": null,
   "id": "ce4a0dc9",
   "metadata": {},
   "outputs": [],
   "source": [
    "gm.write_sparameters_meep(component=c, run=False)"
   ]
  },
  {
   "cell_type": "code",
   "execution_count": null,
   "id": "7c1aae76",
   "metadata": {},
   "outputs": [],
   "source": [
    "filepath = gm.write_sparameters_meep_mpi(\n",
    "    component=c,\n",
    "    cores=4,\n",
    "    resolution=30,\n",
    ")"
   ]
  },
  {
   "cell_type": "code",
   "execution_count": null,
   "id": "8aabf3d4",
   "metadata": {},
   "outputs": [],
   "source": [
    "sp = np.load(filepath)"
   ]
  },
  {
   "cell_type": "code",
   "execution_count": null,
   "id": "d694ce61",
   "metadata": {},
   "outputs": [],
   "source": [
    "gf.simulation.plot.plot_sparameters(sp)"
   ]
  },
  {
   "cell_type": "code",
   "execution_count": null,
   "id": "31f59a34",
   "metadata": {},
   "outputs": [],
   "source": [
    "gf.simulation.plot.plot_sparameters(sp, keys=[\"o1@0,o3@0\", \"o1@0,o4@0\"])"
   ]
  },
  {
   "cell_type": "markdown",
   "id": "bb7d9d76",
   "metadata": {},
   "source": [
    "## Batch Simulations\n",
    "\n",
    "You can also run a batch of multicore simulations.\n",
    "\n",
    "Given a list of write_sparameters_meep keyword arguments `jobs` launches them in different cores using MPI where each simulation runs with \"cores_per_run\" cores.\n",
    "\n",
    "If there are more simulations than cores each batch runs sequentially."
   ]
  },
  {
   "cell_type": "code",
   "execution_count": null,
   "id": "ab61df7d",
   "metadata": {},
   "outputs": [],
   "source": [
    "help(gm.write_sparameters_meep_batch)"
   ]
  },
  {
   "cell_type": "code",
   "execution_count": null,
   "id": "9a856c79",
   "metadata": {},
   "outputs": [],
   "source": [
    "c = gf.components.straight(length=3.1)"
   ]
  },
  {
   "cell_type": "code",
   "execution_count": null,
   "id": "1ed35b7a",
   "metadata": {},
   "outputs": [],
   "source": [
    "gm.write_sparameters_meep(c, ymargin=3, run=False)"
   ]
  },
  {
   "cell_type": "code",
   "execution_count": null,
   "id": "35d8d33e",
   "metadata": {},
   "outputs": [],
   "source": [
    "c1_dict = {\"component\": c, \"ymargin\": 3}\n",
    "jobs = [\n",
    "    c1_dict,\n",
    "]\n",
    "\n",
    "filepaths = gm.write_sparameters_meep_batch_1x1(\n",
    "    jobs=jobs,\n",
    "    cores_per_run=4,\n",
    "    total_cores=8,\n",
    "    lazy_parallelism=True,\n",
    ")"
   ]
  },
  {
   "cell_type": "code",
   "execution_count": null,
   "id": "d6e879b5",
   "metadata": {},
   "outputs": [],
   "source": [
    "sp = np.load(filepaths[0])\n",
    "gf.simulation.plot.plot_sparameters(sp)"
   ]
  },
  {
   "cell_type": "code",
   "execution_count": null,
   "id": "4d77e494",
   "metadata": {},
   "outputs": [],
   "source": [
    "c = gf.components.coupler_ring()\n",
    "c.plot()"
   ]
  },
  {
   "cell_type": "code",
   "execution_count": null,
   "id": "532f01e1",
   "metadata": {},
   "outputs": [],
   "source": [
    "p = 2.5\n",
    "gm.write_sparameters_meep(c, ymargin=0, ymargin_bot=p, xmargin=p, run=False)"
   ]
  },
  {
   "cell_type": "code",
   "execution_count": null,
   "id": "c7dab5ba",
   "metadata": {},
   "outputs": [],
   "source": [
    "c1_dict = dict(\n",
    "    component=c,\n",
    "    ymargin=0,\n",
    "    ymargin_bot=p,\n",
    "    xmargin=p,\n",
    ")\n",
    "jobs = [c1_dict]\n",
    "\n",
    "filepaths = gm.write_sparameters_meep_batch(\n",
    "    jobs=jobs,\n",
    "    cores_per_run=4,\n",
    "    total_cores=8,\n",
    "    delete_temp_files=False,\n",
    "    lazy_parallelism=True,\n",
    ")"
   ]
  },
  {
   "cell_type": "code",
   "execution_count": null,
   "id": "d2b4aa59",
   "metadata": {},
   "outputs": [],
   "source": [
    "sp = np.load(filepaths[0])"
   ]
  },
  {
   "cell_type": "code",
   "execution_count": null,
   "id": "b61bf04a",
   "metadata": {},
   "outputs": [],
   "source": [
    "gm.plot.plot_sparameters(sp)"
   ]
  },
  {
   "cell_type": "code",
   "execution_count": null,
   "id": "a4c98705",
   "metadata": {},
   "outputs": [],
   "source": [
    "gm.plot.plot_sparameters(sp, keys=[\"o3@0,o1@0\", \"o4@0,o1@0\"])"
   ]
  },
  {
   "cell_type": "code",
   "execution_count": null,
   "id": "1621f60a",
   "metadata": {},
   "outputs": [],
   "source": [
    "gm.plot.plot_sparameters(sp, keys=[\"s31\"], with_simpler_input_keys=True)"
   ]
  },
  {
   "cell_type": "code",
   "execution_count": null,
   "id": "4fc89e75",
   "metadata": {},
   "outputs": [],
   "source": [
    "gm.plot.plot_sparameters(sp, keys=[\"s41\"], with_simpler_input_keys=True)"
   ]
  },
  {
   "cell_type": "markdown",
   "id": "a8669b6e",
   "metadata": {},
   "source": [
    "## Visualizing the 3D Geometry"
   ]
  },
  {
   "cell_type": "code",
   "execution_count": null,
   "id": "0a12e953",
   "metadata": {},
   "outputs": [],
   "source": [
    "c = gf.components.mmi1x2()\n",
    "c = add_simulation_markers(c)\n",
    "c.plot()"
   ]
  },
  {
   "cell_type": "code",
   "execution_count": null,
   "id": "51ab751b",
   "metadata": {},
   "outputs": [],
   "source": [
    "scene = c.to_3d()\n",
    "scene.show()"
   ]
  },
  {
   "cell_type": "markdown",
   "id": "3cc44e85",
   "metadata": {},
   "source": [
    "## Adjoint Optimization\n",
    "\n",
    "gdsfactory extends Meep's Adjoint Optimization features to optimize and generate primitive photonic components.\n",
    "\n",
    "This example is based on this [Meep Adjoint Optimization tutorial](https://nbviewer.org/github/NanoComp/meep/blob/master/python/examples/adjoint_optimization/04-Splitter.ipynb)"
   ]
  },
  {
   "cell_type": "markdown",
   "id": "6c073d5d",
   "metadata": {},
   "source": [
    "We define some useful variables that we will need later. We can leave out many of the small design parameters by defining a minimum length and applying that to a filter and using that as a constraint in our optimization."
   ]
  },
  {
   "cell_type": "code",
   "execution_count": null,
   "id": "83ba3caa",
   "metadata": {},
   "outputs": [],
   "source": [
    "design_region_width = 2.5\n",
    "design_region_height = 3.5\n",
    "\n",
    "eta_e = 0.55\n",
    "minimum_length = 0.1\n",
    "filter_radius = get_conic_radius_from_eta_e(minimum_length, eta_e)\n",
    "eta_i = 0.5\n",
    "eta_d = 1 - eta_e\n",
    "\n",
    "resolution = 20\n",
    "design_region_resolution = int(5 * resolution)\n",
    "\n",
    "Nx = int(design_region_resolution * design_region_width)\n",
    "Ny = int(design_region_resolution * design_region_height)\n",
    "\n",
    "pml_size = 1.0\n",
    "waveguide_length = 1.5\n",
    "waveguide_width = 0.5\n",
    "Sx = 2 * pml_size + 2 * waveguide_length + design_region_width\n",
    "Sy = 2 * pml_size + design_region_height + 0.5\n",
    "cell_size = (Sx, Sy)\n",
    "\n",
    "SiO2 = Medium(index=1.44)\n",
    "Si = Medium(index=3.4)"
   ]
  },
  {
   "cell_type": "markdown",
   "id": "97db4d49",
   "metadata": {},
   "source": [
    "We define the design region, design variables, and the component to optimize."
   ]
  },
  {
   "cell_type": "code",
   "execution_count": null,
   "id": "b59a7911",
   "metadata": {
    "lines_to_next_cell": 2
   },
   "outputs": [],
   "source": [
    "design_variables = MaterialGrid(Vector3(Nx, Ny), SiO2, Si, grid_type=\"U_MEAN\")\n",
    "design_region = DesignRegion(\n",
    "    design_variables,\n",
    "    volume=Volume(\n",
    "        center=Vector3(),\n",
    "        size=Vector3(design_region_width, design_region_height, 0),\n",
    "    ),\n",
    ")\n",
    "\n",
    "c = gf.Component(\"mmi1x2\")\n",
    "\n",
    "arm_separation = 1.0\n",
    "straight1 = c << gf.components.taper(6.5, width2=1)\n",
    "straight1.move(straight1.ports[\"o2\"], (-design_region_width / 2.0, 0))\n",
    "straight2 = c << gf.components.taper(6.5, width1=1, width2=0.5)\n",
    "straight2.move(straight2.ports[\"o1\"], (design_region_width / 2.0, 1))\n",
    "straight3 = c << gf.components.taper(6.5, width1=1, width2=0.5)\n",
    "straight3.move(straight3.ports[\"o1\"], (design_region_width / 2.0, -1))\n",
    "\n",
    "c.add_port(\"o1\", port=straight1.ports[\"o1\"])\n",
    "c.add_port(\"o2\", port=straight2.ports[\"o2\"])\n",
    "c.add_port(\"o3\", port=straight3.ports[\"o2\"])\n",
    "\n",
    "c.plot()"
   ]
  },
  {
   "cell_type": "markdown",
   "id": "751c216d",
   "metadata": {},
   "source": [
    "We define the objective function, and obtain the optimization object.\n"
   ]
  },
  {
   "cell_type": "code",
   "execution_count": null,
   "id": "1f48a316",
   "metadata": {},
   "outputs": [],
   "source": [
    "def mapping(x, eta, beta):\n",
    "    # filter\n",
    "    filtered_field = conic_filter(\n",
    "        x,\n",
    "        filter_radius,\n",
    "        design_region_width,\n",
    "        design_region_height,\n",
    "        design_region_resolution,\n",
    "    )\n",
    "\n",
    "    # projection\n",
    "    projected_field = tanh_projection(filtered_field, beta, eta)\n",
    "\n",
    "    projected_field = (\n",
    "        npa.fliplr(projected_field) + projected_field\n",
    "    ) / 2  # up-down symmetry\n",
    "\n",
    "    # interpolate to actual materials\n",
    "    return projected_field.flatten()\n",
    "\n",
    "\n",
    "seed = 240\n",
    "np.random.seed(seed)\n",
    "x0 = mapping(\n",
    "    np.random.rand(\n",
    "        Nx * Ny,\n",
    "    ),\n",
    "    eta_i,\n",
    "    128,\n",
    ")\n",
    "\n",
    "\n",
    "def J(source, top, bottom):\n",
    "    power = npa.abs(top / source) ** 2 + npa.abs(bottom / source) ** 2\n",
    "    return npa.mean(power)\n",
    "\n",
    "\n",
    "opt = gm.get_meep_adjoint_optimizer(\n",
    "    c,\n",
    "    J,\n",
    "    [design_region],\n",
    "    [design_variables],\n",
    "    x0,\n",
    "    resolution=resolution,\n",
    "    cell_size=(\n",
    "        Sx + 2 + design_region_width + 2 * pml_size,\n",
    "        design_region_height + 2 * pml_size + 1.5,\n",
    "    ),\n",
    "    tpml=1.0,\n",
    "    extend_ports_length=0,\n",
    "    port_margin=1,\n",
    "    port_source_offset=-5.5,\n",
    "    port_monitor_offset=-5.5,\n",
    "    symmetries=[mp.Mirror(direction=mp.Y)],\n",
    "    wavelength_points=10,\n",
    ")"
   ]
  },
  {
   "cell_type": "markdown",
   "id": "9cebd255",
   "metadata": {},
   "source": [
    "We'll define a simple objective function that returns the gradient, and records the figure of merit. We'll plot the new geometry after each iteration."
   ]
  },
  {
   "cell_type": "code",
   "execution_count": null,
   "id": "19e1375a",
   "metadata": {},
   "outputs": [],
   "source": [
    "evaluation_history = []\n",
    "cur_iter = [0]\n",
    "\n",
    "\n",
    "def f(v, gradient, cur_beta):\n",
    "    print(f\"Current iteration: {cur_iter[0] + 1}\")\n",
    "\n",
    "    f0, dJ_du = opt([mapping(v, eta_i, cur_beta)])\n",
    "\n",
    "    plt.figure()\n",
    "    ax = plt.gca()\n",
    "    opt.plot2D(\n",
    "        False,\n",
    "        ax=ax,\n",
    "        plot_sources_flag=False,\n",
    "        plot_monitors_flag=False,\n",
    "        plot_boundaries_flag=False,\n",
    "    )\n",
    "    plt.show()\n",
    "\n",
    "    if gradient.size > 0:\n",
    "        gradient[:] = tensor_jacobian_product(mapping, 0)(\n",
    "            v, eta_i, cur_beta, np.sum(dJ_du, axis=1)\n",
    "        )\n",
    "\n",
    "    evaluation_history.append(np.max(np.real(f0)))\n",
    "\n",
    "    cur_iter[0] = cur_iter[0] + 1\n",
    "\n",
    "    return np.real(f0)"
   ]
  },
  {
   "cell_type": "markdown",
   "id": "5b1a2712",
   "metadata": {},
   "source": [
    "We can define bitmasks to describe the boundary conditions."
   ]
  },
  {
   "cell_type": "code",
   "execution_count": null,
   "id": "ecbd0b3c",
   "metadata": {},
   "outputs": [],
   "source": [
    "# Define spatial arrays used to generate bit masks\n",
    "x_g = np.linspace(-design_region_width / 2, design_region_width / 2, Nx)\n",
    "y_g = np.linspace(-design_region_height / 2, design_region_height / 2, Ny)\n",
    "X_g, Y_g = np.meshgrid(x_g, y_g, sparse=True, indexing=\"ij\")\n",
    "\n",
    "# Define the core mask\n",
    "left_wg_mask = (X_g == -design_region_width / 2) & (np.abs(Y_g) <= waveguide_width)\n",
    "top_right_wg_mask = (X_g == design_region_width / 2) & (\n",
    "    np.abs(Y_g + arm_separation) <= waveguide_width\n",
    ")\n",
    "bottom_right_wg_mask = (X_g == design_region_width / 2) & (\n",
    "    np.abs(Y_g - arm_separation) <= waveguide_width\n",
    ")\n",
    "Si_mask = left_wg_mask | top_right_wg_mask | bottom_right_wg_mask\n",
    "\n",
    "# Define the cladding mask\n",
    "border_mask = (\n",
    "    (X_g == -design_region_width / 2)\n",
    "    | (X_g == design_region_width / 2)\n",
    "    | (Y_g == -design_region_height / 2)\n",
    "    | (Y_g == design_region_height / 2)\n",
    ")\n",
    "SiO2_mask = border_mask.copy()\n",
    "SiO2_mask[Si_mask] = False"
   ]
  },
  {
   "cell_type": "markdown",
   "id": "0e548376",
   "metadata": {},
   "source": [
    "We can then finally run the optimizer, and visualize the optimized component."
   ]
  },
  {
   "cell_type": "code",
   "execution_count": null,
   "id": "207c8e81",
   "metadata": {},
   "outputs": [],
   "source": [
    "n = Nx * Ny  # number of parameters\n",
    "\n",
    "# Initial guess\n",
    "x = np.ones((n,)) * 0.5\n",
    "x[Si_mask.flatten()] = 1  # set the edges of waveguides to silicon\n",
    "x[SiO2_mask.flatten()] = 0  # set the other edges to SiO2\n",
    "\n",
    "# lower and upper bounds\n",
    "lb = np.zeros((Nx * Ny,))\n",
    "lb[Si_mask.flatten()] = 1\n",
    "ub = np.ones((Nx * Ny,))\n",
    "ub[SiO2_mask.flatten()] = 0\n",
    "\n",
    "cur_beta = 4\n",
    "beta_scale = 2\n",
    "num_betas = 7\n",
    "update_factor = 12\n",
    "run_optimization = False\n",
    "\n",
    "if run_optimization:\n",
    "    for iters in range(num_betas):\n",
    "        print(\"current beta: \", cur_beta)\n",
    "\n",
    "        if iters != num_betas - 1:\n",
    "            x[:] = gm.run_meep_adjoint_optimizer(\n",
    "                n,\n",
    "                lambda a, g: f(a, g, cur_beta),\n",
    "                x,\n",
    "                lower_bound=lb,\n",
    "                upper_bound=ub,\n",
    "                maxeval=update_factor,\n",
    "            )\n",
    "        else:\n",
    "            optimized_component = gm.run_meep_adjoint_optimizer(\n",
    "                n,\n",
    "                lambda a, g: f(a, g, cur_beta),\n",
    "                x,\n",
    "                lower_bound=lb,\n",
    "                upper_bound=ub,\n",
    "                maxeval=update_factor,\n",
    "                get_optimized_component=True,\n",
    "                opt=opt,\n",
    "                threshold_offset_from_max=0.09,\n",
    "            )\n",
    "        cur_beta = cur_beta * beta_scale\n",
    "\n",
    "    optimized_component.plot()\n",
    "    final_figure_of_merit = 10 * np.log10(\n",
    "        0.5 * np.array(evaluation_history[-1])\n",
    "    )  # around -3.7 dB"
   ]
  },
  {
   "cell_type": "markdown",
   "id": "ab4e4e3f",
   "metadata": {},
   "source": [
    "The final optimized structure should look like this:\n",
    "\n",
    "![optimized structure](https://user-images.githubusercontent.com/100642027/194617052-5cf0de3e-0294-441e-acad-9cd5e98ccd0b.png)\n",
    "\n",
    "![optimization](https://user-images.githubusercontent.com/100642027/194617366-97b3e797-1fa4-40ed-8487-a5ac2b679493.png)"
   ]
  }
 ],
 "metadata": {
  "jupytext": {
   "cell_metadata_filter": "-all",
   "formats": "md,ipynb",
   "main_language": "python",
   "notebook_metadata_filter": "-all"
  }
 },
 "nbformat": 4,
 "nbformat_minor": 5
}
