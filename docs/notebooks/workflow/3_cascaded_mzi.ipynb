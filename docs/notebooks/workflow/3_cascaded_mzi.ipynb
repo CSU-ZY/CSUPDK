{
 "cells": [
  {
   "cell_type": "markdown",
   "id": "b0a911c3-88f6-418e-ad62-36e8982597b3",
   "metadata": {
    "tags": []
   },
   "source": [
    "# Cascaded MZI Filter\n",
    "\n",
    "This example shows how to assemble components together to form a complex component that can be simulated by integrating `gdsfactory`, `tidy3d`, and `sax`.  The design is based on the first stage of the Coarse Wavelength Division Multiplexer presented in [S. Dwivedi, P. De Heyn, P. Absil, J. Van Campenhout and W. Bogaerts, “Coarse wavelength division multiplexer on silicon-on-insulator for 100 GbE,” _2015 IEEE 12th International Conference on Group IV Photonics (GFP)_, Vancouver, BC, Canada, 2015, pp. 9-10, doi: 10.1109/Group4.2015.7305928.](https://doi.org/10.1109/Group4.2015.7305928)\n",
    "\n",
    "Each filter stage is formed by 4 cascaded Mach-Zenhder Interferometers (MZIs) with predefined delays for the central wavelength.  Symmetrical Direction Couplers (DCs) are used to mix the signals at the ends of the MZI arms.  In order to facilitate fabrication, all DC gaps are kept equal, so the power transfer ratios are defined by the coupling length of the DCs.\n",
    "\n",
    "We will design each DC through 3D FDTD simulations to guarantee the desired power ratios, which have been calculated to provide maximally flat response.  The S parameters computed through FDTD are latter used in the full circuit simulation along with models for staight and curved waveguide sections, leading to an accurate model that exhibits features similar to those found in experimental data."
   ]
  },
  {
   "cell_type": "code",
   "execution_count": null,
   "id": "97b51105-09ea-4379-8022-37c714553098",
   "metadata": {
    "tags": []
   },
   "outputs": [],
   "source": [
    "import gdsfactory as gf\n",
    "import gdsfactory.simulation.gtidy3d as gt\n",
    "\n",
    "import tidy3d as td\n",
    "\n",
    "import jax\n",
    "import jax.numpy as jnp\n",
    "\n",
    "import sax\n",
    "\n",
    "import numpy as np\n",
    "\n",
    "import matplotlib.pyplot as plt"
   ]
  },
  {
   "cell_type": "markdown",
   "id": "51e6a41a-5f6e-404b-92b7-90f708680d2c",
   "metadata": {},
   "source": [
    "We start by loading the desired PDK and setting the main geometry and filter parameters, such as DC gap and central wavelength."
   ]
  },
  {
   "cell_type": "code",
   "execution_count": null,
   "id": "a3a8f986-fa08-4cb4-ac20-330bbedb2cf4",
   "metadata": {
    "tags": []
   },
   "outputs": [],
   "source": [
    "fsr = 0.01\n",
    "gap = 0.15\n",
    "width = 0.45\n",
    "wavelengths = np.linspace(1.5, 1.6, 101)\n",
    "lda_c = wavelengths[wavelengths.size // 2]\n",
    "\n",
    "pdk = gf.get_active_pdk()\n",
    "\n",
    "cross_section = pdk.get_cross_section(\"strip\", width=width)\n",
    "\n",
    "layer_stack = pdk.get_layer_stack()\n",
    "core = layer_stack.layers[\"core\"]\n",
    "clad = layer_stack.layers[\"clad\"]\n",
    "box = layer_stack.layers[\"box\"]\n",
    "\n",
    "print(f\"\"\"Stack:\n",
    "- {clad.material} clad with {clad.thickness}µm\n",
    "- {core.material} clad with {core.thickness}µm\n",
    "- {box.material} clad with {box.thickness}µm\"\"\")"
   ]
  },
  {
   "cell_type": "markdown",
   "id": "ba027850-abee-46c8-8b66-a25c85dcab38",
   "metadata": {},
   "source": [
    "The first component we need to design is the DC.  We model the coupling reagion first:"
   ]
  },
  {
   "cell_type": "code",
   "execution_count": null,
   "id": "0d10b725-1d4d-4384-9892-170056d7370b",
   "metadata": {
    "tags": []
   },
   "outputs": [],
   "source": [
    "@gf.cell\n",
    "def coupler_straight(gap: float, length: float, cross_section: gf.types.CrossSectionSpec = \"strip\") -> gf.Component:\n",
    "    cs = gf.get_cross_section(cross_section)\n",
    "    Δy = (cs.width + gap) / 2\n",
    "    \n",
    "    sc = gf.components.straight(length, cross_section=cross_section)\n",
    "\n",
    "    c = gf.Component()\n",
    "    arm0 = c.add_ref(sc).movey(Δy)\n",
    "    arm1 = c.add_ref(sc).movey(-Δy)\n",
    "            \n",
    "    c.add_port(name=\"o1\", port=arm1.ports[\"o1\"])\n",
    "    c.add_port(name=\"o2\", port=arm0.ports[\"o1\"])\n",
    "    c.add_port(name=\"o3\", port=arm0.ports[\"o2\"])\n",
    "    c.add_port(name=\"o4\", port=arm1.ports[\"o2\"])\n",
    "\n",
    "    return c\n",
    "\n",
    "\n",
    "coupler_straight(gap, 2.0, cross_section=cross_section)"
   ]
  },
  {
   "cell_type": "markdown",
   "id": "945c269a-a24d-4344-9950-0f81c4f9e93e",
   "metadata": {},
   "source": [
    "Next, we design the waveguide separating region using S bends."
   ]
  },
  {
   "cell_type": "code",
   "execution_count": null,
   "id": "1815f600-3198-485e-8c73-5c8d164eb736",
   "metadata": {
    "tags": []
   },
   "outputs": [],
   "source": [
    "@gf.cell\n",
    "def coupler_splitter(gap: float, separation: float = 4.0, bend_factor: float = 3.0, cross_section: gf.types.CrossSectionSpec = \"strip\") -> gf.Component:\n",
    "    cs = gf.get_cross_section(cross_section)\n",
    "    Δy = (cs.width + gap) / 2\n",
    "    Δx = (separation / 2 - Δy) * bend_factor\n",
    "    assert Δy < separation / 2\n",
    "    \n",
    "    sc = gf.components.bend_s((Δx, separation / 2 - Δy), 199, cross_section=cross_section)\n",
    "\n",
    "    c = gf.Component()\n",
    "    arm0 = c.add_ref(sc).movey(Δy)\n",
    "    arm1 = c.add_ref(sc).movey(Δy).mirror((0, 0), (1, 0))\n",
    "    \n",
    "    c.add_port(name=\"o1\", port=arm1.ports[\"o1\"])\n",
    "    c.add_port(name=\"o2\", port=arm0.ports[\"o1\"])\n",
    "    c.add_port(name=\"o3\", port=arm0.ports[\"o2\"])\n",
    "    c.add_port(name=\"o4\", port=arm1.ports[\"o2\"])\n",
    "\n",
    "    return c\n",
    "\n",
    "separation = 2.0\n",
    "bend_factor = 4.0\n",
    "\n",
    "coupler_splitter(gap, separation=separation, bend_factor=bend_factor, cross_section=cross_section)"
   ]
  },
  {
   "cell_type": "markdown",
   "id": "12ce895a-a83e-45d8-99b5-7e03c5d6bfe0",
   "metadata": {},
   "source": [
    "To complete the DC, we join the previous designs in a full component."
   ]
  },
  {
   "cell_type": "code",
   "execution_count": null,
   "id": "8d986eee-09ac-4ce5-aa20-d2eb53bfffc5",
   "metadata": {
    "tags": []
   },
   "outputs": [],
   "source": [
    "@gf.cell\n",
    "def coupler_symmetric(gap: float, length: float, separation: float = 4.0, bend_factor: float = 3.0, cross_section: gf.types.CrossSectionSpec = \"strip\") -> gf.Component:\n",
    "    splitter = coupler_splitter(gap, separation=separation, bend_factor=bend_factor, cross_section=cross_section)\n",
    "    straight = coupler_straight(gap, length, cross_section=cross_section)\n",
    "\n",
    "    x = splitter.ports[\"o3\"].x\n",
    "    \n",
    "    c = gf.Component()\n",
    "    sp0 = c.add_ref(splitter).mirror((x, 0), (x, 1))\n",
    "    st = c.add_ref(straight)\n",
    "    st.connect(\"o1\", sp0.ports[\"o1\"])\n",
    "    sp1 = c.add_ref(splitter)\n",
    "    sp1.connect(\"o1\", st.ports[\"o4\"])\n",
    "    \n",
    "    c.add_port(name=\"o1\", port=sp0.ports[\"o4\"])\n",
    "    c.add_port(name=\"o2\", port=sp0.ports[\"o3\"])\n",
    "    c.add_port(name=\"o3\", port=sp1.ports[\"o3\"])\n",
    "    c.add_port(name=\"o4\", port=sp1.ports[\"o4\"])\n",
    "\n",
    "    return c\n",
    "\n",
    "\n",
    "coupler_symmetric(gap, 2.0, separation=separation, bend_factor=bend_factor, cross_section=cross_section)"
   ]
  },
  {
   "cell_type": "markdown",
   "id": "20f9e633-c6b0-4d31-9526-34a4652910b6",
   "metadata": {},
   "source": [
    "We use the `tidy3d` plugin to atumatically create an FDTD simulation of the complete DC.  We can inspect the simulation and port modes before running it to make sure our design is correct."
   ]
  },
  {
   "cell_type": "code",
   "execution_count": null,
   "id": "29b6add8-8e0f-49ab-ade3-3361c8f30fa9",
   "metadata": {
    "tags": []
   },
   "outputs": [],
   "source": [
    "coupler = coupler_symmetric(gap, 2.0, separation=separation, bend_factor=bend_factor, cross_section=cross_section)\n",
    "\n",
    "sim_specs = dict(\n",
    "    layer_stack=layer_stack,\n",
    "    wavelength_start=wavelengths[0],\n",
    "    wavelength_stop=wavelengths[-1],\n",
    "    wavelength_points=wavelengths.size,\n",
    "    grid_spec=td.GridSpec.auto(min_steps_per_wvl=20),\n",
    ")\n",
    "\n",
    "simulation = gt.get_simulation(\n",
    "    coupler,\n",
    "    ymargin=2.0,\n",
    "    num_modes=2,\n",
    "    plot_modes=True,\n",
    "    with_all_monitors=True,\n",
    "    **sim_specs,\n",
    ")\n",
    "\n",
    "simulation.plot(z=0)\n",
    "simulation.plot(x=0)"
   ]
  },
  {
   "cell_type": "markdown",
   "id": "0b80714f-32fb-4c7c-a51a-9053885aea78",
   "metadata": {},
   "source": [
    "Because of the smooth S bend regions, the usual analytical models to calculate the power ratio of the DC give only a rough estimate.  We sweep a range of DC lengths based on those estimates to find the dimensions required in our design for the given PDK."
   ]
  },
  {
   "cell_type": "code",
   "execution_count": null,
   "id": "f9a63a4f-1de2-4f7c-9885-dd78b000d711",
   "metadata": {
    "tags": []
   },
   "outputs": [],
   "source": [
    "sim_lengths = np.linspace(0.0, 12.0, 13)\n",
    "s_params_list = [\n",
    "    gt.write_sparameters(\n",
    "        component=coupler_symmetric(\n",
    "            gap, length, separation=separation, bend_factor=bend_factor, cross_section=cross_section\n",
    "        ),\n",
    "        ymargin=2.0,\n",
    "        num_modes=2,\n",
    "        port_source_names=[\"o1\"],\n",
    "        **sim_specs,\n",
    "    ) for length in sim_lengths\n",
    "]\n",
    "\n",
    "wavelengths = s_params_list[0][\"wavelengths\"]\n",
    "drop = np.array([np.abs(s[\"o3@0,o1@0\"]) ** 2 for s in s_params_list])\n",
    "thru = np.array([np.abs(s[\"o4@0,o1@0\"]) ** 2 for s in s_params_list])\n",
    "loss = 1 - (drop + thru)\n",
    "sim_ratios = drop / (drop + thru)\n",
    "\n",
    "fig, ax = plt.subplots(2, 2, figsize=(12, 6))\n",
    "\n",
    "for i in range(0, wavelengths.size, 20):\n",
    "    ax[0, 0].plot(sim_lengths, drop[:, i], label=f\"{wavelengths[i]}µm\")\n",
    "\n",
    "for i, length in enumerate(sim_lengths):\n",
    "    ax[0, 1].plot(wavelengths, drop[i, :], label=f\"{length}µm\")\n",
    "    ax[1, 0].plot(wavelengths, sim_ratios[i, :], label=f\"{length}µm\")\n",
    "    ax[1, 1].plot(wavelengths, loss[i, :], label=f\"{length}µm\")\n",
    "\n",
    "ax[0, 0].set_xlabel(\"Coupler length (µm)\")\n",
    "ax[0, 0].set_ylabel(\"Drop ratio\")\n",
    "ax[0, 1].set_xlabel(\"λ (µm)\")\n",
    "ax[0, 1].set_ylabel(\"Drop ratio\")\n",
    "ax[1, 0].set_xlabel(\"λ (µm)\")\n",
    "ax[1, 0].set_ylabel(\"Power ratio\")\n",
    "ax[1, 1].set_xlabel(\"λ (µm)\")\n",
    "ax[1, 1].set_ylabel(\"Loss\")\n",
    "ax[0, 0].legend()\n",
    "fig.tight_layout()"
   ]
  },
  {
   "cell_type": "markdown",
   "id": "8c2fd45f-63bf-4486-9954-5a7eb0a1b43b",
   "metadata": {},
   "source": [
    "Now we crete a fitting function to calculate the DC length for a given power ratio.\n",
    "\n",
    "In the filter specification, the desired ratios are 0.5, 0.13, 0.12, 0.5, and 0.25.  We calculate the DC lengths accordingly."
   ]
  },
  {
   "cell_type": "code",
   "execution_count": null,
   "id": "43c3e79c-01af-4e76-9655-773b710e4911",
   "metadata": {
    "tags": []
   },
   "outputs": [],
   "source": [
    "def coupler_length(λ: float = 1.55, power_ratio: float = 0.5):\n",
    "    i0 = np.argmin(np.abs(wavelengths - λ))\n",
    "    i1 = min(i0 + 1, len(wavelengths) - 1) if λ > wavelengths[i] else max(i0 - 1, 0)\n",
    "    if i1 != i0:\n",
    "        pr = (sim_ratios[:, i0] * (wavelengths[i1] - λ) + sim_ratios[:, i1] * (λ - wavelengths[i0])) / (wavelengths[i1] - wavelengths[i0])\n",
    "    else:\n",
    "        pr = sim_ratios[:, i0]\n",
    "    y = pr - power_ratio\n",
    "    root_indices = np.flatnonzero(y[1:] * y[:-1] <= 0)\n",
    "    if len(root_indices) == 0:\n",
    "        return sim_lengths[np.argmin(np.abs(y))]\n",
    "    j = root_indices[0]\n",
    "    return (sim_lengths[j] * (pr[j + 1] - power_ratio) + sim_lengths[j + 1] * (power_ratio - pr[j])) / (pr[j + 1] - pr[j])\n",
    "\n",
    "power_ratios = [0.50, 0.13, 0.12, 0.50, 0.25]\n",
    "lengths = [coupler_length(lda_c, pr) for pr in power_ratios]\n",
    "print(\"Power ratios:\", power_ratios)\n",
    "print(\"Lengths:\", lengths)"
   ]
  },
  {
   "cell_type": "markdown",
   "id": "da31d4c4-3fec-401c-afe8-ee507a92d862",
   "metadata": {},
   "source": [
    "Finally, we simulate the DCs with the calculated lengths to guarantee the fitting error is within tolerance.  As expected, all DCs have the correct power ratios at the central wavelength."
   ]
  },
  {
   "cell_type": "code",
   "execution_count": null,
   "id": "3f1e36e5-e32f-4d69-9059-52b80488a600",
   "metadata": {
    "tags": []
   },
   "outputs": [],
   "source": [
    "s_params_list = [\n",
    "    gt.write_sparameters(\n",
    "        component=coupler_symmetric(\n",
    "            gap, length, separation=separation, bend_factor=bend_factor, cross_section=cross_section\n",
    "        ),\n",
    "        ymargin=2.0,\n",
    "        num_modes=2,\n",
    "        port_source_names=[\"o1\"],\n",
    "        port_symmetries={\n",
    "            \"o1@0,o1@0\": {\"o2@0,o2@0\", \"o3@0,o3@0\", \"o4@0,o4@0\"},\n",
    "            \"o2@0,o1@0\": {\"o1@0,o2@0\", \"o4@0,o3@0\", \"o3@0,o4@0\"},\n",
    "            \"o3@0,o1@0\": {\"o1@0,o3@0\", \"o4@0,o2@0\", \"o2@0,o4@0\"},\n",
    "            \"o4@0,o1@0\": {\"o1@0,o4@0\", \"o3@0,o2@0\", \"o2@0,o3@0\"},\n",
    "        },\n",
    "        **sim_specs,\n",
    "    ) for length in lengths\n",
    "]\n",
    "\n",
    "fig, ax = plt.subplots(1, 3, figsize=(12, 3))\n",
    "errors = []\n",
    "i = wavelengths.size // 2\n",
    "\n",
    "for pr, sp in zip(power_ratios, s_params_list):\n",
    "    drop = np.abs(sp[\"o3@0,o1@0\"]) ** 2\n",
    "    thru = np.abs(sp[\"o4@0,o1@0\"]) ** 2\n",
    "    \n",
    "    assert lda_c == wavelengths[i]\n",
    "    errors.append(drop[i] / (thru[i] + drop[i]) - pr)\n",
    "\n",
    "    ax[0].plot(wavelengths, thru, label=f\"{1 - pr}\")\n",
    "    ax[1].plot(wavelengths, drop, label=f\"{pr}\")\n",
    "    ax[2].plot(wavelengths, 1 - thru - drop)\n",
    "\n",
    "ax[0].set_ylabel(\"Thru ratio\")\n",
    "ax[1].set_ylabel(\"Drop ratio\")\n",
    "ax[2].set_ylabel(\"Loss\")\n",
    "ax[0].set_ylim(0, 1)\n",
    "ax[1].set_ylim(0, 1)\n",
    "ax[0].legend()\n",
    "ax[1].legend()\n",
    "fig.tight_layout()\n",
    "\n",
    "print(errors)"
   ]
  },
  {
   "cell_type": "markdown",
   "id": "3e1dff6c-cf9f-45d6-9d3b-316b11bacc29",
   "metadata": {},
   "source": [
    "Now we have to design the arms of each MZI.  The most important parameter here is their free spectral range (FSR), which comes from the path length difference and the group index of the waveguide at the central wavelength:\n",
    "\n",
    "$$\\text{FSR} = \\frac{\\lambda_c^2}{n_g \\Delta L}$$\n",
    "\n",
    "We calculate the group index for our waveguides through `tidy3d`'s local mode solver.  Because we're interested in precise dispersion, we use a dense mesh and high precision in these calculations.\n",
    "\n",
    "The path length differences for the MZIs are $\\Delta L$,  $2\\Delta L$, $L_\\pi - 2\\Delta L$, and $-2\\Delta L$, with $L_\\pi$ the length required for $\\pi$ phase shift (negative values indicate a delay in the opposite arm to positive values)."
   ]
  },
  {
   "cell_type": "code",
   "execution_count": null,
   "id": "5fc5fa5a-19c5-4593-9c60-46898ab5ad90",
   "metadata": {
    "tags": []
   },
   "outputs": [],
   "source": [
    "def group_index(waveguide: gt.modes.Waveguide, mode: int = 0, wavelength_delta: float = 0.01):\n",
    "    arg_dict = waveguide.dict()\n",
    "    kwargs = {k: arg_dict[k] for k in waveguide.settings}\n",
    "    kwargs[\"wavelength\"] = waveguide.wavelength - wavelength_delta\n",
    "    w0 = gt.modes.Waveguide(**kwargs)\n",
    "    kwargs[\"wavelength\"] = waveguide.wavelength + wavelength_delta\n",
    "    w2 = gt.modes.Waveguide(**kwargs)\n",
    "    waveguide.compute_modes()\n",
    "    n1 = waveguide.neffs.flat[mode].real\n",
    "    w0.compute_modes()\n",
    "    n0 = w0.neffs.flat[mode].real\n",
    "    w2.compute_modes()\n",
    "    n2 = w2.neffs.flat[mode].real\n",
    "    return n1 - waveguide.wavelength * (n2 - n0) / (2 * wavelength_delta)\n",
    "\n",
    "\n",
    "def mzi_path_difference(waveguide: gt.modes.Waveguide, group_index: float, fsr: float):\n",
    "    return waveguide.wavelength ** 2 / (fsr * group_index)\n",
    "\n",
    "\n",
    "mode_solver_specs = dict(\n",
    "    wg_width=width,\n",
    "    wg_thickness=core.thickness,\n",
    "    slab_thickness=0,\n",
    "    ncore=core.material,\n",
    "    nclad=clad.material,\n",
    "    nmodes=2,\n",
    "    xmargin=2.0,\n",
    "    t_box=min(2.0, box.thickness),\n",
    "    t_clad=min(2.0, clad.thickness),\n",
    "    resolution=200,\n",
    "    precision=\"double\",\n",
    ")\n",
    "\n",
    "waveguide_solver = gt.modes.Waveguide(wavelength=lda_c, **mode_solver_specs)\n",
    "waveguide_solver.plot_Ex(mode_index=0, plot_power=False)\n",
    "\n",
    "ng = group_index(waveguide_solver)\n",
    "ne = waveguide_solver.neffs.flat[0].real\n",
    "print(f\"ne = {ne}, ng = {ng}\")\n",
    "\n",
    "length_delta = mzi_path_difference(waveguide_solver, ng, fsr)\n",
    "length_pi = lda_c / (2 * ne)\n",
    "mzi_deltas = [length_delta, 2 * length_delta, length_pi - 2 * length_delta, -2 * length_delta]\n",
    "print(f\"Path difference (ΔL = {length_delta}, Lπ = {length_pi}):\", mzi_deltas)"
   ]
  },
  {
   "cell_type": "markdown",
   "id": "55cb0fe5-a076-42ad-a59f-8b4aad0347b0",
   "metadata": {},
   "source": [
    "Next we create a helper function that returns the MZI arms for a given length difference, respecting the bend radius defined in our PDK."
   ]
  },
  {
   "cell_type": "code",
   "execution_count": null,
   "id": "628b828f-6db6-4189-993e-b386dd100538",
   "metadata": {
    "tags": []
   },
   "outputs": [],
   "source": [
    "def mzi_arms(mzi_delta: float, separation: float = 4.0, cross_section: gf.types.CrossSectionSpec = \"strip\") -> gf.Component:\n",
    "    bend = gf.components.bend_euler(cross_section=cross_section)\n",
    "    \n",
    "    if mzi_delta > 0:\n",
    "        arm0 = [\n",
    "            gf.ComponentReference(bend),\n",
    "            gf.ComponentReference(gf.components.straight(mzi_delta / 2, cross_section=cross_section)),\n",
    "            gf.ComponentReference(bend).mirror(),\n",
    "            gf.ComponentReference(gf.components.straight(separation * 2, cross_section=cross_section)),\n",
    "            gf.ComponentReference(bend).mirror(),\n",
    "            gf.ComponentReference(gf.components.straight(mzi_delta / 2, cross_section=cross_section)),\n",
    "            gf.ComponentReference(bend),\n",
    "        ]\n",
    "        arm1 = [\n",
    "            gf.ComponentReference(gf.components.straight(separation, cross_section=cross_section)),\n",
    "            gf.ComponentReference(bend),\n",
    "            gf.ComponentReference(bend).mirror(),\n",
    "            gf.ComponentReference(bend).mirror(),\n",
    "            gf.ComponentReference(bend),\n",
    "            gf.ComponentReference(gf.components.straight(separation, cross_section=cross_section)),\n",
    "        ]\n",
    "    else:\n",
    "        arm0 = [\n",
    "            gf.ComponentReference(gf.components.straight(separation, cross_section=cross_section)),\n",
    "            gf.ComponentReference(bend).mirror(),\n",
    "            gf.ComponentReference(bend),\n",
    "            gf.ComponentReference(bend),\n",
    "            gf.ComponentReference(bend).mirror(),\n",
    "            gf.ComponentReference(gf.components.straight(separation, cross_section=cross_section)),\n",
    "        ]\n",
    "        arm1 = [\n",
    "            gf.ComponentReference(bend).mirror((0, 0), (1, 0)),\n",
    "            gf.ComponentReference(gf.components.straight(-mzi_delta / 2, cross_section=cross_section)),\n",
    "            gf.ComponentReference(bend),\n",
    "            gf.ComponentReference(gf.components.straight(separation * 2, cross_section=cross_section)),\n",
    "            gf.ComponentReference(bend),\n",
    "            gf.ComponentReference(gf.components.straight(-mzi_delta / 2, cross_section=cross_section)),\n",
    "            gf.ComponentReference(bend).mirror(),\n",
    "        ]\n",
    "    \n",
    "    return (arm0, arm1)\n",
    "\n",
    "\n",
    "mzi_arms(mzi_deltas[0], separation=separation, cross_section=cross_section)"
   ]
  },
  {
   "cell_type": "markdown",
   "id": "03df5be2-923f-4375-905e-b8f44fa90f8f",
   "metadata": {},
   "source": [
    "Now we can put all pieces together to layout the complete cascaded MZI filter:"
   ]
  },
  {
   "cell_type": "code",
   "execution_count": null,
   "id": "3fd935a2-8d7e-4489-a330-5a53682e7632",
   "metadata": {
    "tags": []
   },
   "outputs": [],
   "source": [
    "@gf.cell\n",
    "def cascaded_mzi(coupler_gaps, coupler_lengths, mzi_deltas, separation: float = 4.0, bend_factor: float = 3.0, cross_section: gf.types.CrossSectionSpec = \"strip\") -> gf.Component:\n",
    "    assert len(coupler_lengths) > 0\n",
    "    assert len(coupler_gaps) == len(coupler_lengths)\n",
    "    assert len(mzi_deltas) + 1 == len(coupler_lengths)\n",
    "    c = gf.Component()\n",
    "    \n",
    "    coupler = c.add_ref(coupler_symmetric(coupler_gaps[0], coupler_lengths[0], separation=separation, bend_factor=bend_factor, cross_section=cross_section))\n",
    "    c.add_port(name=\"o1\", port=coupler.ports[\"o1\"])\n",
    "    c.add_port(name=\"o2\", port=coupler.ports[\"o2\"])\n",
    "\n",
    "    for g, l, dl in zip(coupler_gaps[1:], coupler_lengths[1:], mzi_deltas):\n",
    "        arm0, arm1 = mzi_arms(dl, separation=separation, cross_section=cross_section)\n",
    "        c.add(arm0)\n",
    "        c.add(arm1)\n",
    "        arm0[0].connect(\"o1\", coupler.ports[\"o3\"])\n",
    "        arm1[0].connect(\"o1\", coupler.ports[\"o4\"])\n",
    "        for arm in (arm0, arm1):\n",
    "            for r0, r1 in zip(arm[:-1], arm[1:]):\n",
    "                r1.connect(\"o1\", r0.ports[\"o2\"])\n",
    "        coupler = c.add_ref(coupler_symmetric(g, l, separation=separation, bend_factor=bend_factor, cross_section=cross_section))\n",
    "        coupler.connect(\"o1\", arm1[-1].ports[\"o2\"])\n",
    "\n",
    "    c.add_port(name=\"o3\", port=coupler.ports[\"o3\"])\n",
    "    c.add_port(name=\"o4\", port=coupler.ports[\"o4\"])\n",
    "\n",
    "    return c\n",
    "\n",
    "\n",
    "layout = cascaded_mzi(coupler_gaps=[gap] * len(lengths), coupler_lengths=lengths, mzi_deltas=mzi_deltas, separation=separation, bend_factor=bend_factor, cross_section=cross_section)\n",
    "layout"
   ]
  },
  {
   "cell_type": "markdown",
   "id": "f02c3da5-7d95-457c-bf73-1af2660434b2",
   "metadata": {},
   "source": [
    "Finally, we want to build a complete simulation of the filter based on individual models for its components.\n",
    "\n",
    "We extract the filter netlist and verify we'll need models for the straight and bend sections, as well as for the DCs."
   ]
  },
  {
   "cell_type": "code",
   "execution_count": null,
   "id": "504b90c3-d5e1-4cbf-b15c-ac947fb9fc0e",
   "metadata": {
    "tags": []
   },
   "outputs": [],
   "source": [
    "netlist = layout.get_netlist()\n",
    "set(v[\"component\"] for v in netlist[\"instances\"].values())"
   ]
  },
  {
   "cell_type": "markdown",
   "id": "f91190c8-c3b9-473f-ac18-aeab5efce29c",
   "metadata": {},
   "source": [
    "The model for the straight sections is based directly on the waveguide mode, including dispersion effects."
   ]
  },
  {
   "cell_type": "code",
   "execution_count": null,
   "id": "6ffcc7c3-912d-40c0-a7d4-49ecf2d4e6fc",
   "metadata": {
    "tags": []
   },
   "outputs": [],
   "source": [
    "straight_wavelengths = jnp.linspace(wavelengths[0], wavelengths[-1], 11)\n",
    "straight_neffs = np.empty(straight_wavelengths.size, dtype=complex)\n",
    "\n",
    "for i in range(straight_wavelengths.size):\n",
    "    waveguide_solver = gt.modes.Waveguide(wavelength=straight_wavelengths[i], **mode_solver_specs)\n",
    "    waveguide_solver.compute_modes()\n",
    "    straight_neffs[i] = waveguide_solver.neffs[0]\n",
    "\n",
    "plt.plot(straight_wavelengths, straight_neffs.real)\n",
    "plt.xlabel(\"λ (µm)\")\n",
    "plt.ylabel(\"n_eff\")"
   ]
  },
  {
   "cell_type": "code",
   "execution_count": null,
   "id": "38a099fb-c5e2-4953-8ae8-67a37c1ea50e",
   "metadata": {
    "tags": []
   },
   "outputs": [],
   "source": [
    "@jax.jit\n",
    "def straight_model(wl=1.55, length: float = 1.0):\n",
    "    s21 = jnp.exp(2j * jnp.pi * jnp.interp(wl, straight_wavelengths, straight_neffs) * length / wl)\n",
    "    zero = jnp.zeros_like(wl)\n",
    "    return {\n",
    "        (\"o1\", \"o1\"): zero,\n",
    "        (\"o1\", \"o2\"): s21,\n",
    "        (\"o2\", \"o1\"): s21,\n",
    "        (\"o2\", \"o2\"): zero,\n",
    "    }\n",
    "\n",
    "\n",
    "straight_model()"
   ]
  },
  {
   "cell_type": "markdown",
   "id": "debe087b-079c-40ab-a160-8f0cee036e0e",
   "metadata": {},
   "source": [
    "For the bends, we want to include the full S matrix, because we are not using a circular shape, so simple modal decomposition becomes less accurate.  Similarly, we want to use the full simulated S matrix from the DCs in our model, instead of analytical approximations.\n",
    "\n",
    "We encapsulate the S parameter calculation in a helper function that generates the `jax` model for each component."
   ]
  },
  {
   "cell_type": "code",
   "execution_count": null,
   "id": "37d56323-4c43-4ad2-9f96-501b8b3787e0",
   "metadata": {
    "tags": []
   },
   "outputs": [],
   "source": [
    "def bend_model(cross_section: gf.types.CrossSectionSpec = \"strip\"):\n",
    "    s = gt.write_sparameters(\n",
    "        component=gf.components.bend_euler(cross_section=cross_section),\n",
    "        num_modes=2,\n",
    "        port_source_names=[\"o1\"],\n",
    "        **sim_specs,\n",
    "    )\n",
    "    wavelengths = s.pop(\"wavelengths\")\n",
    "    \n",
    "    @jax.jit\n",
    "    def _model(wl=1.55):\n",
    "        s11 = jnp.interp(wl, wavelengths, s[\"o1@0,o1@0\"])\n",
    "        s21 = jnp.interp(wl, wavelengths, s[\"o2@0,o1@0\"])\n",
    "        return {\n",
    "            ('o1', 'o1'): s11,\n",
    "            ('o1', 'o2'): s21,\n",
    "            ('o2', 'o1'): s21,\n",
    "            ('o2', 'o2'): s11,\n",
    "        }\n",
    "    return _model\n",
    "\n",
    "\n",
    "bend_model(cross_section=cross_section)()"
   ]
  },
  {
   "cell_type": "code",
   "execution_count": null,
   "id": "5b98364e-750b-4cff-807a-709f6442367c",
   "metadata": {
    "tags": []
   },
   "outputs": [],
   "source": [
    "c = gf.Component(name=\"bend\")\n",
    "ref = c.add_ref(gf.components.bend_euler(cross_section=cross_section))\n",
    "c.add_ports(ref.ports)\n",
    "x, _ = sax.circuit(c.get_netlist(), {\"bend_euler\": bend_model(cross_section=cross_section)})\n",
    "\n",
    "s = x(wl=wavelengths)\n",
    "plt.plot(wavelengths, jnp.abs(s[(\"o1\", \"o2\")]) ** 2)\n",
    "plt.xlabel(\"λ (µm)\")"
   ]
  },
  {
   "cell_type": "code",
   "execution_count": null,
   "id": "da19c2f4-2cf9-4d8f-80f5-872bc843c515",
   "metadata": {
    "tags": []
   },
   "outputs": [],
   "source": [
    "def coupler_model(gap: float = 0.1, length: float = 1.0, separation: float = 4.0, bend_factor: float = 3.0, cross_section: gf.types.CrossSectionSpec = \"strip\"):\n",
    "    s = gt.write_sparameters(\n",
    "        component=coupler_symmetric(gap, length, separation=separation, bend_factor=bend_factor, cross_section=cross_section),\n",
    "        ymargin=2.0,\n",
    "        num_modes=2,\n",
    "        port_source_names=[\"o1\"],\n",
    "        **sim_specs,\n",
    "    )\n",
    "    wavelengths = s.pop(\"wavelengths\")\n",
    "    \n",
    "    @jax.jit\n",
    "    def _model(wl=1.55):\n",
    "        s11 = jnp.interp(wl, wavelengths, s[\"o1@0,o1@0\"])\n",
    "        s21 = jnp.interp(wl, wavelengths, s[\"o2@0,o1@0\"])\n",
    "        s31 = jnp.interp(wl, wavelengths, s[\"o3@0,o1@0\"])\n",
    "        s41 = jnp.interp(wl, wavelengths, s[\"o4@0,o1@0\"])\n",
    "        return {\n",
    "            ('o1', 'o1'): s11,\n",
    "            ('o1', 'o2'): s21,\n",
    "            ('o1', 'o3'): s31,\n",
    "            ('o1', 'o4'): s41,\n",
    "            ('o2', 'o1'): s21,\n",
    "            ('o2', 'o2'): s11,\n",
    "            ('o2', 'o3'): s41,\n",
    "            ('o2', 'o4'): s31,\n",
    "            ('o3', 'o1'): s31,\n",
    "            ('o3', 'o2'): s41,\n",
    "            ('o3', 'o3'): s11,\n",
    "            ('o3', 'o4'): s21,\n",
    "            ('o4', 'o1'): s41,\n",
    "            ('o4', 'o2'): s31,\n",
    "            ('o4', 'o3'): s21,\n",
    "            ('o4', 'o4'): s11,\n",
    "        }\n",
    "    return _model\n",
    "\n",
    "\n",
    "coupler_model(gap, lengths[0], separation=separation, bend_factor=bend_factor, cross_section=cross_section)()"
   ]
  },
  {
   "cell_type": "markdown",
   "id": "a205f1ef-aa4c-4354-891b-4a6d0c89216f",
   "metadata": {},
   "source": [
    "We must take care of using one model for each DC based on its length, so we use another helper function that iterates over the netlist instances and generates the appropriate model for each one:"
   ]
  },
  {
   "cell_type": "code",
   "execution_count": null,
   "id": "adbb6f88-a900-4451-94bd-faf469c54381",
   "metadata": {
    "tags": []
   },
   "outputs": [],
   "source": [
    "def patch_netlist(netlist, models, models_to_patch):\n",
    "    instances = netlist[\"instances\"]\n",
    "    for name in instances:\n",
    "        model = instances[name]\n",
    "        if model[\"component\"] in models_to_patch:\n",
    "            component = model[\"component\"]\n",
    "            i = 0\n",
    "            new_component = f\"{component}_v{i}\"\n",
    "            while new_component in models:\n",
    "                i += 1\n",
    "                new_component = f\"{component}_v{i}\"\n",
    "            models[new_component] = models_to_patch[model[\"component\"]](**model[\"settings\"])\n",
    "            del model[\"settings\"]\n",
    "            model[\"component\"] = new_component \n",
    "    return netlist, models\n",
    "\n",
    "\n",
    "pl_set = sorted(set((pr, l) for pr, l in zip(power_ratios, lengths)))\n",
    "fig, ax = plt.subplots(len(pl_set), 1, figsize=(4, 3 * len(pl_set)))\n",
    "\n",
    "for i, (pr, l) in enumerate(pl_set):\n",
    "    c = gf.Component(name=\"single mzi 2\")\n",
    "    ref = c.add_ref(coupler_symmetric(gap, l, separation=separation, bend_factor=bend_factor, cross_section=cross_section))\n",
    "    c.add_ports(ref.ports)\n",
    "    netlist, models = patch_netlist(c.get_netlist(), {}, {\"coupler_symmetric\": coupler_model})\n",
    "    x, _ = sax.circuit(netlist, models)\n",
    "\n",
    "    s = x(wl=wavelengths)\n",
    "    ax[i].plot(wavelengths, jnp.abs(s[(\"o1\", \"o3\")]) ** 2, label=\"Cross\")\n",
    "    ax[i].plot(wavelengths, jnp.abs(s[(\"o1\", \"o4\")]) ** 2, label=\"Through\")\n",
    "    ax[i].set_ylim(0, 1)\n",
    "    ax[i].set_xlabel(\"λ (µm)\")\n",
    "    ax[i].set_title(f\"l = {l:.2f} µm ({pr})\")\n",
    "\n",
    "ax[0].legend()\n",
    "fig.tight_layout()"
   ]
  },
  {
   "cell_type": "markdown",
   "id": "1ece2eb8-9a8f-45f2-bb9f-88238af93299",
   "metadata": {},
   "source": [
    "Finally, we can simulate the complete filter response around the central wavelength and get the desired FSR and box-like shape."
   ]
  },
  {
   "cell_type": "code",
   "execution_count": null,
   "id": "60b1fe87-a58b-413e-b817-8ec7a582851a",
   "metadata": {
    "tags": []
   },
   "outputs": [],
   "source": [
    "fig, ax = plt.subplots(1, 1, figsize=(12, 4))\n",
    "\n",
    "layout = cascaded_mzi(coupler_gaps=[gap] * len(lengths), coupler_lengths=lengths, mzi_deltas=mzi_deltas, separation=separation, bend_factor=bend_factor, cross_section=cross_section)\n",
    "netlist, models = patch_netlist(layout.get_netlist(), {\"straight\": straight_model, \"bend_euler\": bend_model(cross_section=cross_section)}, {\"coupler_symmetric\": coupler_model})\n",
    "circuit, _ = sax.circuit(netlist, models)\n",
    "\n",
    "lda = np.linspace(1.5, 1.6, 1001)\n",
    "s = circuit(wl=lda)\n",
    "ax.plot(lda, 20 * jnp.log10(jnp.abs(s[(\"o1\", \"o3\")])), label=\"Cross\")\n",
    "ax.plot(lda, 20 * jnp.log10(jnp.abs(s[(\"o1\", \"o4\")])), label=\"Thru\")\n",
    "ax.set_ylim(-30, 0)\n",
    "ax.set_xlabel(\"λ (µm)\")\n",
    "ax.legend()"
   ]
  }
 ],
 "metadata": {
  "kernelspec": {
   "display_name": "Python 3 (ipykernel)",
   "language": "python",
   "name": "python3"
  },
  "language_info": {
   "codemirror_mode": {
    "name": "ipython",
    "version": 3
   },
   "file_extension": ".py",
   "mimetype": "text/x-python",
   "name": "python",
   "nbconvert_exporter": "python",
   "pygments_lexer": "ipython3",
   "version": "3.10.6"
  }
 },
 "nbformat": 4,
 "nbformat_minor": 5
}
