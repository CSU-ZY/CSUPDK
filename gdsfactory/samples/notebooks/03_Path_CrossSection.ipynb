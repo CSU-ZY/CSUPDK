{
 "cells": [
  {
   "cell_type": "markdown",
   "id": "d8da19c0",
   "metadata": {},
   "source": [
    "# Path and CrossSection\n",
    "\n",
    "You can create a `Path` in gdsfactory and extrude it with an arbitrary `CrossSection`.\n",
    "\n",
    "Lets create a path:\n",
    "\n",
    "- Create a blank `Path`.\n",
    "- Append points to the `Path` either using the built-in functions (`arc()`, `straight()`, `euler()` ...) or by providing your own lists of points\n",
    "- Specify `CrossSection` with layers and offsets.\n",
    "- Extrude `Path` with a `CrossSection` to create a Component with the path polygons in it.\n"
   ]
  },
  {
   "cell_type": "code",
   "execution_count": null,
   "id": "88300173",
   "metadata": {},
   "outputs": [],
   "source": [
    "from functools import partial\n",
    "import matplotlib.pyplot as plt\n",
    "import numpy as np\n",
    "\n",
    "from gdsfactory.cross_section import Section\n",
    "\n",
    "import gdsfactory as gf\n",
    "from gdsfactory.generic_tech import get_generic_pdk\n",
    "\n",
    "gf.config.rich_output()\n",
    "PDK = get_generic_pdk()\n",
    "PDK.activate()"
   ]
  },
  {
   "cell_type": "markdown",
   "id": "675aef02",
   "metadata": {},
   "source": [
    "## Path\n",
    "\n",
    "The first step is to generate the list of points we want the path to follow.\n",
    "Let's start out by creating a blank `Path` and using the built-in functions to\n",
    "make a few smooth turns."
   ]
  },
  {
   "cell_type": "code",
   "execution_count": null,
   "id": "b5926afa",
   "metadata": {},
   "outputs": [],
   "source": [
    "p1 = gf.path.straight(length=5)\n",
    "p2 = gf.path.euler(radius=5, angle=45, p=0.5, use_eff=False)\n",
    "p = p1 + p2\n",
    "f = p.plot()"
   ]
  },
  {
   "cell_type": "code",
   "execution_count": null,
   "id": "27d28fdf",
   "metadata": {},
   "outputs": [],
   "source": [
    "p1 = gf.path.straight(length=5)\n",
    "p2 = gf.path.euler(radius=5, angle=45, p=0.5, use_eff=False)\n",
    "p = p2 + p1\n",
    "f = p.plot()"
   ]
  },
  {
   "cell_type": "code",
   "execution_count": null,
   "id": "7ed490bb",
   "metadata": {},
   "outputs": [],
   "source": [
    "P = gf.Path()\n",
    "P += gf.path.arc(radius=10, angle=90)  # Circular arc\n",
    "P += gf.path.straight(length=10)  # Straight section\n",
    "P += gf.path.euler(radius=3, angle=-90)  # Euler bend (aka \"racetrack\" curve)\n",
    "P += gf.path.straight(length=40)\n",
    "P += gf.path.arc(radius=8, angle=-45)\n",
    "P += gf.path.straight(length=10)\n",
    "P += gf.path.arc(radius=8, angle=45)\n",
    "P += gf.path.straight(length=10)\n",
    "\n",
    "f = P.plot()"
   ]
  },
  {
   "cell_type": "code",
   "execution_count": null,
   "id": "5755a364",
   "metadata": {},
   "outputs": [],
   "source": [
    "p2 = P.copy().rotate()\n",
    "f = p2.plot()"
   ]
  },
  {
   "cell_type": "code",
   "execution_count": null,
   "id": "ac87b04e",
   "metadata": {},
   "outputs": [],
   "source": [
    "P.points - p2.points"
   ]
  },
  {
   "cell_type": "markdown",
   "id": "0aba0b0e",
   "metadata": {},
   "source": [
    "You can also modify our Path in the same ways as any other gdsfactory object:\n",
    "\n",
    "- Manipulation with `move()`, `rotate()`, `mirror()`, etc\n",
    "- Accessing properties like `xmin`, `y`, `center`, `bbox`, etc"
   ]
  },
  {
   "cell_type": "code",
   "execution_count": null,
   "id": "ea248ad5",
   "metadata": {},
   "outputs": [],
   "source": [
    "P.movey(10)\n",
    "P.xmin = 20\n",
    "f = P.plot()"
   ]
  },
  {
   "cell_type": "markdown",
   "id": "eddbaf13",
   "metadata": {},
   "source": [
    "You can also check the length of the curve with the `length()` method:"
   ]
  },
  {
   "cell_type": "code",
   "execution_count": null,
   "id": "ad4a633b",
   "metadata": {},
   "outputs": [],
   "source": [
    "P.length()"
   ]
  },
  {
   "cell_type": "markdown",
   "id": "510e9722",
   "metadata": {},
   "source": [
    "## CrossSection\n",
    "\n",
    "Now that you've got your path defined, the next step is to define the cross-section of the path. To do this, you can create a blank `CrossSection` and add whatever cross-sections you want to it.\n",
    "You can then combine the `Path` and the `CrossSection` using the `gf.path.extrude()` function to generate a Component:\n",
    "\n",
    "\n",
    "### Option 1: Single layer and width cross-section\n",
    "\n",
    "The simplest option is to just set the cross-section to be a constant width by passing a number to `extrude()` like so:"
   ]
  },
  {
   "cell_type": "code",
   "execution_count": null,
   "id": "ed6034a8",
   "metadata": {},
   "outputs": [],
   "source": [
    "# Extrude the Path and the CrossSection\n",
    "c = gf.path.extrude(P, layer=(1, 0), width=1.5)\n",
    "c.plot()"
   ]
  },
  {
   "cell_type": "markdown",
   "id": "ef3e9ff3",
   "metadata": {},
   "source": [
    "### Option 2: Linearly-varying width\n",
    "\n",
    "A slightly more advanced version is to make the cross-section width vary linearly from start to finish by passing a 2-element list to `extrude()` like so:"
   ]
  },
  {
   "cell_type": "code",
   "execution_count": null,
   "id": "4201baaf",
   "metadata": {},
   "outputs": [],
   "source": [
    "# Extrude the Path and the CrossSection\n",
    "c = gf.path.extrude(P, layer=(1, 0), widths=(1, 3))\n",
    "c.plot()"
   ]
  },
  {
   "cell_type": "markdown",
   "id": "c0d2ba46",
   "metadata": {},
   "source": [
    "### Option 3: Arbitrary Cross-section\n",
    "\n",
    "You can also extrude an arbitrary cross_section"
   ]
  },
  {
   "cell_type": "markdown",
   "id": "54b3ed53",
   "metadata": {},
   "source": [
    "Now, what if we want a more complicated straight?  For instance, in some\n",
    "photonic applications it's helpful to have a shallow etch that appears on either\n",
    "side of the straight (often called a trench or sleeve).  Additionally, it might be nice\n",
    "to have a Port on either end of the center section so we can snap other\n",
    "geometries to it.  Let's try adding something like that in:"
   ]
  },
  {
   "cell_type": "code",
   "execution_count": null,
   "id": "c0218ef1",
   "metadata": {},
   "outputs": [],
   "source": [
    "p = gf.path.straight()\n",
    "\n",
    "# Add a few \"sections\" to the cross-section\n",
    "s1 = gf.Section(width=2, offset=2, layer=(2, 0))\n",
    "s2 = gf.Section(width=2, offset=-2, layer=(2, 0))\n",
    "x = gf.CrossSection(\n",
    "    width=1, offset=0, layer=(1, 0), port_names=(\"in\", \"out\"), sections=[s1, s2]\n",
    ")\n",
    "\n",
    "c = gf.path.extrude(p, cross_section=x)\n",
    "c.plot()"
   ]
  },
  {
   "cell_type": "code",
   "execution_count": null,
   "id": "889c0e70",
   "metadata": {},
   "outputs": [],
   "source": [
    "p = gf.path.arc()\n",
    "\n",
    "# Combine the Path and the CrossSection\n",
    "b = gf.path.extrude(p, cross_section=x)\n",
    "b.plot()"
   ]
  },
  {
   "cell_type": "markdown",
   "id": "e997dd50",
   "metadata": {},
   "source": [
    "## Building Paths quickly\n",
    "\n",
    "You can pass `append()` lists of path segments.  This makes it easy to combine\n",
    "paths very quickly.  Below we show 3 examples using this functionality:\n",
    "\n",
    "**Example 1:** Assemble a complex path by making a list of Paths and passing it\n",
    "to `append()`"
   ]
  },
  {
   "cell_type": "code",
   "execution_count": null,
   "id": "70831e44",
   "metadata": {},
   "outputs": [],
   "source": [
    "P = gf.Path()\n",
    "\n",
    "# Create the basic Path components\n",
    "left_turn = gf.path.euler(radius=4, angle=90)\n",
    "right_turn = gf.path.euler(radius=4, angle=-90)\n",
    "straight = gf.path.straight(length=10)\n",
    "\n",
    "# Assemble a complex path by making list of Paths and passing it to `append()`\n",
    "P.append(\n",
    "    [\n",
    "        straight,\n",
    "        left_turn,\n",
    "        straight,\n",
    "        right_turn,\n",
    "        straight,\n",
    "        straight,\n",
    "        right_turn,\n",
    "        left_turn,\n",
    "        straight,\n",
    "    ]\n",
    ")\n",
    "\n",
    "f = P.plot()"
   ]
  },
  {
   "cell_type": "code",
   "execution_count": null,
   "id": "558ed77f",
   "metadata": {},
   "outputs": [],
   "source": [
    "P = (\n",
    "    straight\n",
    "    + left_turn\n",
    "    + straight\n",
    "    + right_turn\n",
    "    + straight\n",
    "    + straight\n",
    "    + right_turn\n",
    "    + left_turn\n",
    "    + straight\n",
    ")\n",
    "f = P.plot()"
   ]
  },
  {
   "cell_type": "markdown",
   "id": "fd1666c1",
   "metadata": {},
   "source": [
    "**Example 2:** Create an \"S-turn\" just by making a list of `[left_turn,\n",
    "right_turn]`"
   ]
  },
  {
   "cell_type": "code",
   "execution_count": null,
   "id": "8f984345",
   "metadata": {},
   "outputs": [],
   "source": [
    "P = gf.Path()\n",
    "\n",
    "# Create an \"S-turn\" just by making a list\n",
    "s_turn = [left_turn, right_turn]\n",
    "\n",
    "P.append(s_turn)\n",
    "f = P.plot()"
   ]
  },
  {
   "cell_type": "markdown",
   "id": "9a39d40e",
   "metadata": {},
   "source": [
    "**Example 3:** Repeat the S-turn 3 times by nesting our S-turn list in another\n",
    "list"
   ]
  },
  {
   "cell_type": "code",
   "execution_count": null,
   "id": "30a0b792",
   "metadata": {},
   "outputs": [],
   "source": [
    "P = gf.Path()\n",
    "\n",
    "# Create an \"S-turn\" using a list\n",
    "s_turn = [left_turn, right_turn]\n",
    "\n",
    "# Repeat the S-turn 3 times by nesting our S-turn list 3x times in another list\n",
    "triple_s_turn = [s_turn, s_turn, s_turn]\n",
    "\n",
    "P.append(triple_s_turn)\n",
    "f = P.plot()"
   ]
  },
  {
   "cell_type": "markdown",
   "id": "7595b921",
   "metadata": {},
   "source": [
    "Note you can also use the Path() constructor to immediately construct your Path:"
   ]
  },
  {
   "cell_type": "code",
   "execution_count": null,
   "id": "ece56b29",
   "metadata": {},
   "outputs": [],
   "source": [
    "P = gf.Path([straight, left_turn, straight, right_turn, straight])\n",
    "f = P.plot()"
   ]
  },
  {
   "cell_type": "markdown",
   "id": "427ce490",
   "metadata": {},
   "source": [
    "## Waypoint smooth paths\n",
    "\n",
    "You can also build smooth paths between waypoints with the `smooth()` function"
   ]
  },
  {
   "cell_type": "code",
   "execution_count": null,
   "id": "fb155088",
   "metadata": {},
   "outputs": [],
   "source": [
    "points = np.array([(20, 10), (40, 10), (20, 40), (50, 40), (50, 20), (70, 20)])\n",
    "plt.plot(points[:, 0], points[:, 1], \".-\")\n",
    "plt.axis(\"equal\")"
   ]
  },
  {
   "cell_type": "code",
   "execution_count": null,
   "id": "95d10901",
   "metadata": {},
   "outputs": [],
   "source": [
    "points = np.array([(20, 10), (40, 10), (20, 40), (50, 40), (50, 20), (70, 20)])\n",
    "\n",
    "P = gf.path.smooth(\n",
    "    points=points,\n",
    "    radius=2,\n",
    "    bend=gf.path.euler,  # Alternatively, use pp.arc\n",
    "    use_eff=False,\n",
    ")\n",
    "f = P.plot()"
   ]
  },
  {
   "cell_type": "markdown",
   "id": "f0e363b5",
   "metadata": {},
   "source": [
    "## Waypoint sharp paths\n",
    "\n",
    "It's also possible to make more traditional angular paths (e.g. electrical wires) in a few different ways.\n",
    "\n",
    "**Example 1:** Using a simple list of points"
   ]
  },
  {
   "cell_type": "code",
   "execution_count": null,
   "id": "4452d797",
   "metadata": {},
   "outputs": [],
   "source": [
    "P = gf.Path([(20, 10), (30, 10), (40, 30), (50, 30), (50, 20), (70, 20)])\n",
    "f = P.plot()"
   ]
  },
  {
   "cell_type": "markdown",
   "id": "366461de",
   "metadata": {},
   "source": [
    "**Example 2:** Using the \"turn and move\" method, where you manipulate the end angle of the Path so that when you append points to it, they're in the correct direction.  *Note: It is crucial that the number of points per straight section is set to 2 (`gf.path.straight(length, num_pts = 2)`) otherwise the extrusion algorithm will show defects.*"
   ]
  },
  {
   "cell_type": "code",
   "execution_count": null,
   "id": "a8776b2f",
   "metadata": {},
   "outputs": [],
   "source": [
    "P = gf.Path()\n",
    "P += gf.path.straight(length=10, npoints=2)\n",
    "P.end_angle += 90  # \"Turn\" 90 deg (left)\n",
    "P += gf.path.straight(length=10, npoints=2)  # \"Walk\" length of 10\n",
    "P.end_angle += -135  # \"Turn\" -135 degrees (right)\n",
    "P += gf.path.straight(length=15, npoints=2)  # \"Walk\" length of 10\n",
    "P.end_angle = 0  # Force the direction to be 0 degrees\n",
    "P += gf.path.straight(length=10, npoints=2)  # \"Walk\" length of 10\n",
    "f = P.plot()"
   ]
  },
  {
   "cell_type": "code",
   "execution_count": null,
   "id": "c795bdff",
   "metadata": {
    "lines_to_next_cell": 2
   },
   "outputs": [],
   "source": [
    "s1 = gf.Section(width=1.5, offset=2.5, layer=(2, 0))\n",
    "s2 = gf.Section(width=1.5, offset=-2.5, layer=(3, 0))\n",
    "X = gf.CrossSection(width=1, offset=0, layer=(1, 0), sections=[s1, s2])\n",
    "component = gf.path.extrude(P, X)\n",
    "component.plot()"
   ]
  },
  {
   "cell_type": "markdown",
   "id": "5f9c713e",
   "metadata": {},
   "source": [
    "## Custom curves\n",
    "\n",
    "Now let's have some fun and try to make a loop-de-loop structure with parallel\n",
    "straights and several Ports.\n",
    "\n",
    "To create a new type of curve we simply make a function that produces an array\n",
    "of points.  The best way to do that is to create a function which allows you to\n",
    "specify a large number of points along that curve -- in the case below, the\n",
    "`looploop()` function outputs 1000 points along a looping path.  Later, if we\n",
    "want reduce the number of points in our geometry we can trivially `simplify` the\n",
    "path.\n"
   ]
  },
  {
   "cell_type": "code",
   "execution_count": null,
   "id": "0c21d87a",
   "metadata": {},
   "outputs": [],
   "source": [
    "def looploop(num_pts=1000):\n",
    "    \"\"\"Simple limacon looping curve\"\"\"\n",
    "    t = np.linspace(-np.pi, 0, num_pts)\n",
    "    r = 20 + 25 * np.sin(t)\n",
    "    x = r * np.cos(t)\n",
    "    y = r * np.sin(t)\n",
    "    return np.array((x, y)).T\n",
    "\n",
    "\n",
    "# Create the path points\n",
    "P = gf.Path()\n",
    "P.append(gf.path.arc(radius=10, angle=90))\n",
    "P.append(gf.path.straight())\n",
    "P.append(gf.path.arc(radius=5, angle=-90))\n",
    "P.append(looploop(num_pts=1000))\n",
    "P.rotate(-45)\n",
    "\n",
    "# Create the crosssection\n",
    "s1 = gf.Section(width=0.5, offset=2, layer=(2, 0))\n",
    "s2 = gf.Section(width=0.5, offset=4, layer=(3, 0))\n",
    "s3 = gf.Section(width=1, offset=0, layer=(4, 0))\n",
    "X = gf.CrossSection(\n",
    "    width=1.5, offset=0, layer=(1, 0), port_names=[\"in\", \"out\"], sections=[s1, s2, s3]\n",
    ")\n",
    "\n",
    "c = gf.path.extrude(P, X)\n",
    "c.plot()"
   ]
  },
  {
   "cell_type": "markdown",
   "id": "1e6247a8",
   "metadata": {},
   "source": [
    "You can create Paths from any array of points -- just be sure that they form\n",
    "smooth curves!  If we examine our path `P` we can see that all we've simply\n",
    "created a long list of points:"
   ]
  },
  {
   "cell_type": "code",
   "execution_count": null,
   "id": "3395e746",
   "metadata": {},
   "outputs": [],
   "source": [
    "path_points = P.points  # Curve points are stored as a numpy array in P.points\n",
    "print(np.shape(path_points))  # The shape of the array is Nx2\n",
    "print(len(P))  # Equivalently, use len(P) to see how many points are inside"
   ]
  },
  {
   "cell_type": "markdown",
   "id": "f0640d0d",
   "metadata": {},
   "source": [
    "## Simplifying / reducing point usage\n",
    "\n",
    "One of the chief concerns of generating smooth curves is that too many points\n",
    "are generated, inflating file sizes and making boolean operations\n",
    "computationally expensive.  Fortunately, PHIDL has a fast implementation of the\n",
    "[Ramer-Douglas–Peucker\n",
    "algorithm](https://en.wikipedia.org/wiki/Ramer%E2%80%93Douglas%E2%80%93Peucker_algorithm)\n",
    "that lets you reduce the number of points in a curve without changing its shape.\n",
    "All that needs to be done is when you  made a component `component()` extruding the path with a cross_section, you specify the\n",
    "`simplify` argument.\n",
    "\n",
    "If we specify `simplify = 1e-3`, the number of points in the line drops from\n",
    "12,000 to 4,000, and the remaining points form a line that is identical to\n",
    "within `1e-3` distance from the original (for the default 1 micron unit size,\n",
    "this corresponds to 1 nanometer resolution):"
   ]
  },
  {
   "cell_type": "code",
   "execution_count": null,
   "id": "5fc6875a",
   "metadata": {},
   "outputs": [],
   "source": [
    "# The remaining points form a identical line to within `1e-3` from the original\n",
    "c = gf.path.extrude(p=P, cross_section=X, simplify=1e-3)\n",
    "c.plot()"
   ]
  },
  {
   "cell_type": "markdown",
   "id": "f70ac55d",
   "metadata": {},
   "source": [
    "Let's say we need fewer points.  We can increase the simplify tolerance by\n",
    "specifying `simplify = 1e-1`.  This drops the number of points to ~400 points\n",
    "form a line that is identical to within `1e-1` distance from the original:"
   ]
  },
  {
   "cell_type": "code",
   "execution_count": null,
   "id": "a7193719",
   "metadata": {},
   "outputs": [],
   "source": [
    "c = gf.path.extrude(P, cross_section=X, simplify=1e-1)\n",
    "c.plot()"
   ]
  },
  {
   "cell_type": "markdown",
   "id": "3fcbdc1c",
   "metadata": {},
   "source": [
    "Taken to absurdity, what happens if we set `simplify = 0.3`?  Once again, the\n",
    "~200 remaining points form a line that is within `0.3` units from the original\n",
    "-- but that line looks pretty bad."
   ]
  },
  {
   "cell_type": "code",
   "execution_count": null,
   "id": "a7cf5d2a",
   "metadata": {},
   "outputs": [],
   "source": [
    "c = gf.path.extrude(P, cross_section=X, simplify=0.3)\n",
    "c.plot()"
   ]
  },
  {
   "cell_type": "markdown",
   "id": "4494e450",
   "metadata": {},
   "source": [
    "## Curvature calculation\n",
    "\n",
    "The `Path` class has a `curvature()` method that computes the curvature `K` of\n",
    "your smooth path (K = 1/(radius of curvature)).  This can be helpful for\n",
    "verifying that your curves transition smoothly such as in [track-transition\n",
    "curves](https://en.wikipedia.org/wiki/Track_transition_curve) (also known as\n",
    "\"Euler\" bends in the photonics world). Euler bends have lower mode-mismatch loss as explained in [this paper](https://www.osapublishing.org/oe/fulltext.cfm?uri=oe-27-22-31394&id=422321)\n",
    "\n",
    "Note this curvature is numerically computed so areas where the curvature jumps\n",
    "instantaneously (such as between an arc and a straight segment) will be slightly\n",
    "interpolated, and sudden changes in point density along the curve can cause\n",
    "discontinuities."
   ]
  },
  {
   "cell_type": "code",
   "execution_count": null,
   "id": "70560692",
   "metadata": {},
   "outputs": [],
   "source": [
    "straight_points = 100\n",
    "\n",
    "P = gf.Path()\n",
    "P.append(\n",
    "    [\n",
    "        gf.path.straight(\n",
    "            length=10, npoints=straight_points\n",
    "        ),  # Should have a curvature of 0\n",
    "        gf.path.euler(\n",
    "            radius=3, angle=90, p=0.5, use_eff=False\n",
    "        ),  # Euler straight-to-bend transition with min. bend radius of 3 (max curvature of 1/3)\n",
    "        gf.path.straight(\n",
    "            length=10, npoints=straight_points\n",
    "        ),  # Should have a curvature of 0\n",
    "        gf.path.arc(radius=10, angle=90),  # Should have a curvature of 1/10\n",
    "        gf.path.arc(radius=5, angle=-90),  # Should have a curvature of -1/5\n",
    "        gf.path.straight(\n",
    "            length=2, npoints=straight_points\n",
    "        ),  # Should have a curvature of 0\n",
    "    ]\n",
    ")\n",
    "\n",
    "f = P.plot()"
   ]
  },
  {
   "cell_type": "markdown",
   "id": "01cf287f",
   "metadata": {},
   "source": [
    "Arc paths are equivalent to `bend_circular` and euler paths are equivalent to `bend_euler`"
   ]
  },
  {
   "cell_type": "code",
   "execution_count": null,
   "id": "75119e88",
   "metadata": {},
   "outputs": [],
   "source": [
    "s, K = P.curvature()\n",
    "plt.plot(s, K, \".-\")\n",
    "plt.xlabel(\"Position along curve (arc length)\")\n",
    "plt.ylabel(\"Curvature\")"
   ]
  },
  {
   "cell_type": "code",
   "execution_count": null,
   "id": "e5f0a6b2",
   "metadata": {},
   "outputs": [],
   "source": [
    "P = gf.path.euler(radius=3, angle=90, p=1.0, use_eff=False)\n",
    "P.append(gf.path.euler(radius=3, angle=90, p=0.2, use_eff=False))\n",
    "P.append(gf.path.euler(radius=3, angle=90, p=0.0, use_eff=False))\n",
    "P.plot()"
   ]
  },
  {
   "cell_type": "code",
   "execution_count": null,
   "id": "9707743d",
   "metadata": {},
   "outputs": [],
   "source": [
    "s, K = P.curvature()\n",
    "plt.plot(s, K, \".-\")\n",
    "plt.xlabel(\"Position along curve (arc length)\")\n",
    "plt.ylabel(\"Curvature\")"
   ]
  },
  {
   "cell_type": "markdown",
   "id": "8a827a1a",
   "metadata": {},
   "source": [
    "You can compare two 90 degrees euler bend with 180 euler bend.\n",
    "\n",
    "A 180 euler bend is shorter, and has less loss than two 90 degrees euler bend."
   ]
  },
  {
   "cell_type": "code",
   "execution_count": null,
   "id": "2b386fd5",
   "metadata": {},
   "outputs": [],
   "source": [
    "straight_points = 100\n",
    "\n",
    "P = gf.Path()\n",
    "P.append(\n",
    "    [\n",
    "        gf.path.euler(radius=3, angle=90, p=1, use_eff=False),\n",
    "        gf.path.euler(radius=3, angle=90, p=1, use_eff=False),\n",
    "        gf.path.straight(length=6, npoints=100),\n",
    "        gf.path.euler(radius=3, angle=180, p=1, use_eff=False),\n",
    "    ]\n",
    ")\n",
    "\n",
    "f = P.plot()"
   ]
  },
  {
   "cell_type": "code",
   "execution_count": null,
   "id": "1ce52b5f",
   "metadata": {},
   "outputs": [],
   "source": [
    "s, K = P.curvature()\n",
    "plt.plot(s, K, \".-\")\n",
    "plt.xlabel(\"Position along curve (arc length)\")\n",
    "plt.ylabel(\"Curvature\")"
   ]
  },
  {
   "cell_type": "markdown",
   "id": "44caaa23",
   "metadata": {},
   "source": [
    "## Transitioning between cross-sections\n",
    "\n",
    "Often a critical element of building paths is being able to transition between\n",
    "cross-sections.  You can use the `transition()` function to do exactly this: you\n",
    "simply feed it two `CrossSection`s and it will output a new `CrossSection` that\n",
    "smoothly transitions between the two.\n",
    "\n",
    "Let's start off by creating two cross-sections we want to transition between.\n",
    "Note we give all the cross-sectional elements names by specifying the `name`\n",
    "argument in the `add()` function -- this is important because the transition\n",
    "function will try to match names between the two input cross-sections, and any\n",
    "names not present in both inputs will be skipped."
   ]
  },
  {
   "cell_type": "code",
   "execution_count": null,
   "id": "69c0af4b",
   "metadata": {},
   "outputs": [],
   "source": [
    "# Create our first CrossSection\n",
    "s1 = gf.Section(width=2.2, offset=0, layer=(3, 0), name=\"etch\")\n",
    "s2 = gf.Section(width=1.1, offset=3, layer=(1, 0), name=\"wg2\")\n",
    "X1 = gf.CrossSection(\n",
    "    width=1.2,\n",
    "    offset=0,\n",
    "    layer=(2, 0),\n",
    "    name=\"wg\",\n",
    "    port_names=(\"o1\", \"o2\"),\n",
    "    sections=[s1, s2],\n",
    ")\n",
    "\n",
    "# Create the second CrossSection that we want to transition to\n",
    "s1 = gf.Section(width=3.5, offset=0, layer=(3, 0), name=\"etch\")\n",
    "s2 = gf.Section(width=3, offset=5, layer=(1, 0), name=\"wg2\")\n",
    "X2 = gf.CrossSection(\n",
    "    width=1,\n",
    "    offset=0,\n",
    "    layer=(2, 0),\n",
    "    name=\"wg\",\n",
    "    port_names=(\"o1\", \"o2\"),\n",
    "    sections=[s1, s2],\n",
    ")\n",
    "\n",
    "# To show the cross-sections, let's create two Paths and\n",
    "# create Components by extruding them\n",
    "P1 = gf.path.straight(length=5)\n",
    "P2 = gf.path.straight(length=5)\n",
    "wg1 = gf.path.extrude(P1, X1)\n",
    "wg2 = gf.path.extrude(P2, X2)\n",
    "\n",
    "# Place both cross-section Components and quickplot them\n",
    "c = gf.Component(\"demo\")\n",
    "wg1ref = c << wg1\n",
    "wg2ref = c << wg2\n",
    "wg2ref.movex(7.5)\n",
    "\n",
    "c.plot()"
   ]
  },
  {
   "cell_type": "markdown",
   "id": "0f5b2e23",
   "metadata": {},
   "source": [
    "Now let's create the transitional CrossSection by calling `transition()` with\n",
    "these two CrossSections as input. If we want the width to vary as a smooth\n",
    "sinusoid between the sections, we can set `width_type` to `'sine'`\n",
    "(alternatively we could also use `'linear'`)."
   ]
  },
  {
   "cell_type": "code",
   "execution_count": null,
   "id": "dc43bd59",
   "metadata": {},
   "outputs": [],
   "source": [
    "# Create the transitional CrossSection\n",
    "Xtrans = gf.path.transition(cross_section1=X1, cross_section2=X2, width_type=\"sine\")\n",
    "# Create a Path for the transitional CrossSection to follow\n",
    "P3 = gf.path.straight(length=15, npoints=100)\n",
    "# Use the transitional CrossSection to create a Component\n",
    "straight_transition = gf.path.extrude(P3, Xtrans)\n",
    "straight_transition.plot()"
   ]
  },
  {
   "cell_type": "code",
   "execution_count": null,
   "id": "b4581e50",
   "metadata": {},
   "outputs": [],
   "source": [
    "wg1.plot()"
   ]
  },
  {
   "cell_type": "code",
   "execution_count": null,
   "id": "bb915a26",
   "metadata": {},
   "outputs": [],
   "source": [
    "wg2.plot()"
   ]
  },
  {
   "cell_type": "markdown",
   "id": "238d0c4b",
   "metadata": {},
   "source": [
    "Now that we have all of our components, let's `connect()` everything and see\n",
    "what it looks like"
   ]
  },
  {
   "cell_type": "code",
   "execution_count": null,
   "id": "479d82f3",
   "metadata": {},
   "outputs": [],
   "source": [
    "c = gf.Component(\"transition_demo\")\n",
    "\n",
    "wg1ref = c << wg1\n",
    "wgtref = c << straight_transition\n",
    "wg2ref = c << wg2\n",
    "\n",
    "wgtref.connect(\"o1\", wg1ref.ports[\"o2\"])\n",
    "wg2ref.connect(\"o1\", wgtref.ports[\"o2\"])\n",
    "\n",
    "c.plot()"
   ]
  },
  {
   "cell_type": "markdown",
   "id": "df2fbaf4",
   "metadata": {},
   "source": [
    "Note that since `transition()` outputs a `CrossSection`, we can make the\n",
    "transition follow an arbitrary path:"
   ]
  },
  {
   "cell_type": "code",
   "execution_count": null,
   "id": "4aa1d3b2",
   "metadata": {
    "lines_to_next_cell": 2
   },
   "outputs": [],
   "source": [
    "# Transition along a curving Path\n",
    "P4 = gf.path.euler(radius=25, angle=45, p=0.5, use_eff=False)\n",
    "wg_trans = gf.path.extrude(P4, Xtrans)\n",
    "\n",
    "c = gf.Component(\"demo_transition\")\n",
    "wg1_ref = c << wg1  # First cross-section Component\n",
    "wg2_ref = c << wg2\n",
    "wgt_ref = c << wg_trans\n",
    "\n",
    "wgt_ref.connect(\"o1\", wg1_ref.ports[\"o2\"])\n",
    "wg2_ref.connect(\"o1\", wgt_ref.ports[\"o2\"])\n",
    "\n",
    "c.plot()"
   ]
  },
  {
   "cell_type": "markdown",
   "id": "a4d641a4",
   "metadata": {},
   "source": [
    "## Variable width / offset\n",
    "\n",
    "In some instances, you may want to vary the width or offset of the path's cross-\n",
    "section as it travels.  This can be accomplished by giving the `CrossSection`\n",
    "arguments that are functions or lists.  Let's say we wanted a width that varies\n",
    "sinusoidally along the length of the Path.  To do this, we need to make a width\n",
    "function that is parameterized from 0 to 1: for an example function\n",
    "`my_width_fun(t)` where the width at `t==0` is the width at the beginning of the\n",
    "Path and the width at `t==1` is the width at the end.\n"
   ]
  },
  {
   "cell_type": "code",
   "execution_count": null,
   "id": "7ad131e6",
   "metadata": {
    "lines_to_next_cell": 2
   },
   "outputs": [],
   "source": [
    "def my_custom_width_fun(t):\n",
    "    # Note: Custom width/offset functions MUST be vectorizable--you must be able\n",
    "    # to call them with an array input like my_custom_width_fun([0, 0.1, 0.2, 0.3, 0.4])\n",
    "    num_periods = 5\n",
    "    return 3 + np.cos(2 * np.pi * t * num_periods)\n",
    "\n",
    "\n",
    "# Create the Path\n",
    "P = gf.path.straight(length=40, npoints=30)\n",
    "\n",
    "# Create two cross-sections: one fixed width, one modulated by my_custom_offset_fun\n",
    "s = gf.Section(width=my_custom_width_fun, offset=0, layer=(1, 0))\n",
    "X = gf.CrossSection(width=3, offset=-6, layer=(2, 0), sections=[s])\n",
    "\n",
    "# Extrude the Path to create the Component\n",
    "c = gf.path.extrude(P, cross_section=X)\n",
    "c.plot()"
   ]
  },
  {
   "cell_type": "markdown",
   "id": "deeb6537",
   "metadata": {},
   "source": [
    "We can do the same thing with the offset argument:\n"
   ]
  },
  {
   "cell_type": "code",
   "execution_count": null,
   "id": "c66b762f",
   "metadata": {
    "lines_to_next_cell": 2
   },
   "outputs": [],
   "source": [
    "def my_custom_offset_fun(t):\n",
    "    # Note: Custom width/offset functions MUST be vectorizable--you must be able\n",
    "    # to call them with an array input like my_custom_offset_fun([0, 0.1, 0.2, 0.3, 0.4])\n",
    "    num_periods = 3\n",
    "    return 3 + np.cos(2 * np.pi * t * num_periods)\n",
    "\n",
    "\n",
    "# Create the Path\n",
    "P = gf.path.straight(length=40, npoints=30)\n",
    "\n",
    "# Create two cross-sections: one fixed offset, one modulated by my_custom_offset_fun\n",
    "s = gf.Section(\n",
    "    width=1, offset=my_custom_offset_fun, layer=(2, 0), port_names=[\"clad1\", \"clad2\"]\n",
    ")\n",
    "X = gf.CrossSection(width=1, offset=0, layer=(1, 0), sections=[s])\n",
    "\n",
    "# Extrude the Path to create the Component\n",
    "c = gf.path.extrude(P, cross_section=X)\n",
    "c.plot()"
   ]
  },
  {
   "cell_type": "markdown",
   "id": "9b37aa5b",
   "metadata": {},
   "source": [
    "## Offsetting a Path\n",
    "\n",
    "Sometimes it's convenient to start with a simple Path and offset the line it\n",
    "follows to suit your needs (without using a custom-offset CrossSection).  Here,\n",
    "we start with two copies of  simple straight Path and use the `offset()`\n",
    "function to directly modify each Path.\n"
   ]
  },
  {
   "cell_type": "code",
   "execution_count": null,
   "id": "9f1eeb99",
   "metadata": {},
   "outputs": [],
   "source": [
    "def my_custom_offset_fun(t):\n",
    "    # Note: Custom width/offset functions MUST be vectorizable--you must be able\n",
    "    # to call them with an array input like my_custom_offset_fun([0, 0.1, 0.2, 0.3, 0.4])\n",
    "    num_periods = 3\n",
    "    return 2 + np.cos(2 * np.pi * t * num_periods)\n",
    "\n",
    "\n",
    "P1 = gf.path.straight(npoints=101)\n",
    "P2 = P1.copy()  # Make a copy of the Path\n",
    "\n",
    "P1.offset(offset=my_custom_offset_fun)\n",
    "P2.offset(offset=my_custom_offset_fun)\n",
    "P2.mirror((1, 0))  # reflect across X-axis\n",
    "\n",
    "f = P1.plot()"
   ]
  },
  {
   "cell_type": "code",
   "execution_count": null,
   "id": "8a60a8f6",
   "metadata": {},
   "outputs": [],
   "source": [
    "f2 = P2.plot()"
   ]
  },
  {
   "cell_type": "markdown",
   "id": "ad5e8fe6",
   "metadata": {},
   "source": [
    "## Modifying a CrossSection\n",
    "\n",
    "In case you need to modify the CrossSection, it can be done simply by specifying\n",
    "a `name` argument for the cross-sectional element you want to modify later.\n",
    "Here is an example where we name one of thee cross-sectional elements\n",
    "`'myelement1'` and `'myelement2'`:"
   ]
  },
  {
   "cell_type": "code",
   "execution_count": null,
   "id": "b9292f28",
   "metadata": {},
   "outputs": [],
   "source": [
    "# Create the Path\n",
    "P = gf.path.arc(radius=10, angle=45)\n",
    "\n",
    "# Create two cross-sections: one fixed width, one modulated by my_custom_offset_fun\n",
    "s = gf.Section(width=1, offset=3, layer=(2, 0), name=\"waveguide\")\n",
    "X = gf.CrossSection(\n",
    "    width=1,\n",
    "    offset=0,\n",
    "    layer=(1, 0),\n",
    "    port_names=(\"o1\", \"o2\"),\n",
    "    name=\"heater\",\n",
    "    sections=[s],\n",
    ")\n",
    "\n",
    "\n",
    "c = gf.path.extrude(P, X)\n",
    "c.plot()"
   ]
  },
  {
   "cell_type": "markdown",
   "id": "aa0b3449",
   "metadata": {},
   "source": [
    "In case we want to change any of the CrossSection elements, we simply access the\n",
    "Python dictionary that specifies that element and modify the values"
   ]
  },
  {
   "cell_type": "code",
   "execution_count": null,
   "id": "efac6590",
   "metadata": {},
   "outputs": [],
   "source": [
    "# Create our first CrossSection\n",
    "s1 = gf.Section(width=2.2, offset=0, layer=(3, 0), name=\"etch\")\n",
    "s2 = gf.Section(width=1.1, offset=3, layer=(1, 0), name=\"wg2\")\n",
    "X1 = gf.CrossSection(\n",
    "    width=1.2,\n",
    "    offset=0,\n",
    "    layer=(2, 0),\n",
    "    name=\"wg\",\n",
    "    port_names=(\"o1\", \"o2\"),\n",
    "    sections=[s1, s2],\n",
    ")\n",
    "\n",
    "# Create the second CrossSection that we want to transition to\n",
    "s1 = gf.Section(width=3.5, offset=0, layer=(3, 0), name=\"etch\")\n",
    "s2 = gf.Section(width=3, offset=5, layer=(1, 0), name=\"wg2\")\n",
    "X2 = gf.CrossSection(\n",
    "    width=1,\n",
    "    offset=0,\n",
    "    layer=(2, 0),\n",
    "    name=\"wg\",\n",
    "    port_names=(\"o1\", \"o2\"),\n",
    "    sections=[s1, s2],\n",
    ")\n",
    "\n",
    "Xtrans = gf.path.transition(cross_section1=X1, cross_section2=X2, width_type=\"sine\")\n",
    "\n",
    "\n",
    "P1 = gf.path.straight(length=5)\n",
    "P2 = gf.path.straight(length=5)\n",
    "wg1 = gf.path.extrude(P1, X1)\n",
    "wg2 = gf.path.extrude(P2, X2)\n",
    "\n",
    "P4 = gf.path.euler(radius=25, angle=45, p=0.5, use_eff=False)\n",
    "wg_trans = gf.path.extrude(P4, Xtrans)\n",
    "# WG_trans = P4.extrude(Xtrans)\n",
    "\n",
    "\n",
    "c = gf.Component(\"demo\")\n",
    "wg1_ref = c << wg1\n",
    "wg2_ref = c << wg2\n",
    "wgt_ref = c << wg_trans\n",
    "\n",
    "wgt_ref.connect(\"o1\", wg1_ref.ports[\"o2\"])\n",
    "wg2_ref.connect(\"o1\", wgt_ref.ports[\"o2\"])\n",
    "\n",
    "c.plot()"
   ]
  },
  {
   "cell_type": "code",
   "execution_count": null,
   "id": "21b58ede",
   "metadata": {},
   "outputs": [],
   "source": [
    "len(c.references)"
   ]
  },
  {
   "cell_type": "markdown",
   "id": "eb318b25",
   "metadata": {},
   "source": [
    "**Note**\n",
    "\n",
    "Any unnamed section in the CrossSection won't be transitioned.\n",
    "\n",
    "If you don't add any named sections in a cross-section it will give you an error when making a transition"
   ]
  },
  {
   "cell_type": "code",
   "execution_count": null,
   "id": "24bd0f64",
   "metadata": {},
   "outputs": [],
   "source": [
    "P = gf.Path()\n",
    "P.append(gf.path.arc(radius=10, angle=90))  # Circular arc\n",
    "P.append(gf.path.straight(length=10))  # Straight section\n",
    "P.append(gf.path.euler(radius=3, angle=-90))  # Euler bend (aka \"racetrack\" curve)\n",
    "P.append(gf.path.straight(length=40))\n",
    "P.append(gf.path.arc(radius=8, angle=-45))\n",
    "P.append(gf.path.straight(length=10))\n",
    "P.append(gf.path.arc(radius=8, angle=45))\n",
    "P.append(gf.path.straight(length=10))\n",
    "\n",
    "f = P.plot()"
   ]
  },
  {
   "cell_type": "code",
   "execution_count": null,
   "id": "4ca2fc55",
   "metadata": {},
   "outputs": [],
   "source": [
    "X1 = gf.CrossSection(width=1, offset=0, layer=(2, 0))\n",
    "c = gf.path.extrude(P, X1)\n",
    "c.plot()"
   ]
  },
  {
   "cell_type": "code",
   "execution_count": null,
   "id": "e04e3b9e",
   "metadata": {},
   "outputs": [],
   "source": [
    "X2 = gf.CrossSection(width=2, offset=0, layer=(2, 0))\n",
    "c = gf.path.extrude(P, X2)\n",
    "c.plot()"
   ]
  },
  {
   "cell_type": "markdown",
   "id": "660315ae",
   "metadata": {},
   "source": [
    "For example this will give you an error\n",
    "```\n",
    "T = gf.path.transition(X, X2)\n",
    "```\n",
    "\n",
    "**Solution**"
   ]
  },
  {
   "cell_type": "code",
   "execution_count": null,
   "id": "063f7a44",
   "metadata": {},
   "outputs": [],
   "source": [
    "P = gf.path.straight(length=10, npoints=101)\n",
    "\n",
    "s = gf.Section(width=3, offset=0, layer=gf.LAYER.SLAB90)\n",
    "X1 = gf.CrossSection(\n",
    "    width=1,\n",
    "    offset=0,\n",
    "    layer=gf.LAYER.WG,\n",
    "    name=\"core\",\n",
    "    port_names=(\"o1\", \"o2\"),\n",
    "    sections=[s],\n",
    ")\n",
    "c = gf.path.extrude(P, X1)\n",
    "c.plot()"
   ]
  },
  {
   "cell_type": "code",
   "execution_count": null,
   "id": "499841d4",
   "metadata": {},
   "outputs": [],
   "source": [
    "X2 = gf.CrossSection(\n",
    "    width=3, offset=0, layer=gf.LAYER.WG, name=\"core\", port_names=(\"o1\", \"o2\")\n",
    ")\n",
    "c2 = gf.path.extrude(P, X2)\n",
    "c2.plot()"
   ]
  },
  {
   "cell_type": "code",
   "execution_count": null,
   "id": "1a2dc00d",
   "metadata": {},
   "outputs": [],
   "source": [
    "T = gf.path.transition(X1, X2)\n",
    "c3 = gf.path.extrude(P, T)\n",
    "c3.plot()"
   ]
  },
  {
   "cell_type": "code",
   "execution_count": null,
   "id": "ee0675c3",
   "metadata": {},
   "outputs": [],
   "source": [
    "c4 = gf.Component(\"demo_transition2\")"
   ]
  },
  {
   "cell_type": "code",
   "execution_count": null,
   "id": "2b9b9a2e",
   "metadata": {},
   "outputs": [],
   "source": [
    "start_ref = c4 << c\n",
    "\n",
    "trans_ref = c4 << c3\n",
    "end_ref = c4 << c2\n",
    "\n",
    "trans_ref.connect(\"o1\", start_ref.ports[\"o2\"])\n",
    "end_ref.connect(\"o1\", trans_ref.ports[\"o2\"])"
   ]
  },
  {
   "cell_type": "code",
   "execution_count": null,
   "id": "bc2c9f7c",
   "metadata": {},
   "outputs": [],
   "source": [
    "c4.plot()"
   ]
  },
  {
   "cell_type": "markdown",
   "id": "c7f04b42",
   "metadata": {},
   "source": [
    "## cross-section\n",
    "\n",
    "You can create functions that return a cross_section in 2 ways:\n",
    "\n",
    "- `functools.partial` can customize an existing cross-section for example `gf.cross_section.strip`\n",
    "- define a function that returns a cross_section\n",
    "\n",
    "What parameters do `cross_section` take?"
   ]
  },
  {
   "cell_type": "code",
   "execution_count": null,
   "id": "a7458c03",
   "metadata": {},
   "outputs": [],
   "source": [
    "help(gf.cross_section.cross_section)"
   ]
  },
  {
   "cell_type": "code",
   "execution_count": null,
   "id": "01089267",
   "metadata": {},
   "outputs": [],
   "source": [
    "pin = partial(\n",
    "    gf.cross_section.strip,\n",
    "    layer=(2, 0),\n",
    "    sections=(\n",
    "        Section(layer=gf.LAYER.P, width=2, offset=+2),\n",
    "        Section(layer=gf.LAYER.N, width=2, offset=-2),\n",
    "    ),\n",
    ")"
   ]
  },
  {
   "cell_type": "code",
   "execution_count": null,
   "id": "fd2f1e43",
   "metadata": {},
   "outputs": [],
   "source": [
    "c = gf.components.straight(cross_section=pin)\n",
    "c.plot()"
   ]
  },
  {
   "cell_type": "code",
   "execution_count": null,
   "id": "fed2b50a",
   "metadata": {},
   "outputs": [],
   "source": [
    "pin5 = gf.components.straight(cross_section=pin, length=5)\n",
    "pin5.plot()"
   ]
  },
  {
   "cell_type": "markdown",
   "id": "8bd9c5cf",
   "metadata": {},
   "source": [
    "finally, you can also pass most components Dict that define the cross-section"
   ]
  },
  {
   "cell_type": "code",
   "execution_count": null,
   "id": "ffaf9b85",
   "metadata": {},
   "outputs": [],
   "source": [
    "gf.components.straight(\n",
    "    layer=(1, 0),\n",
    "    width=0.5,\n",
    "    sections=(\n",
    "        Section(layer=gf.LAYER.P, width=1, offset=+2),\n",
    "        Section(layer=gf.LAYER.N, width=1, offset=-2),\n",
    "    ),\n",
    ")"
   ]
  },
  {
   "cell_type": "code",
   "execution_count": null,
   "id": "4bb4f8a8",
   "metadata": {},
   "outputs": [],
   "source": [
    "# Create our first CrossSection\n",
    "s1 = gf.Section(width=0.2, offset=0, layer=(3, 0), name=\"slab\")\n",
    "X1 = gf.CrossSection(\n",
    "    width=0.5, offset=0, layer=(1, 0), name=\"wg\", port_names=(\"o1\", \"o2\"), sections=[s1]\n",
    ")\n",
    "\n",
    "\n",
    "# Create the second CrossSection that we want to transition to\n",
    "s = gf.Section(width=3.0, offset=0, layer=(3, 0), name=\"slab\")\n",
    "X2 = gf.CrossSection(\n",
    "    width=0.5, offset=0, layer=(1, 0), name=\"wg\", port_names=(\"o1\", \"o2\"), sections=[s]\n",
    ")\n",
    "\n",
    "# To show the cross-sections, let's create two Paths and\n",
    "# create Components by extruding them\n",
    "P1 = gf.path.straight(length=5)\n",
    "P2 = gf.path.straight(length=5)\n",
    "wg1 = gf.path.extrude(P1, X1)\n",
    "wg2 = gf.path.extrude(P2, X2)\n",
    "\n",
    "# Place both cross-section Components and quickplot them\n",
    "c = gf.Component()\n",
    "wg1ref = c << wg1\n",
    "wg2ref = c << wg2\n",
    "wg2ref.movex(7.5)\n",
    "\n",
    "# Create the transitional CrossSection\n",
    "Xtrans = gf.path.transition(cross_section1=X1, cross_section2=X2, width_type=\"linear\")\n",
    "# Create a Path for the transitional CrossSection to follow\n",
    "P3 = gf.path.straight(length=15, npoints=100)\n",
    "# Use the transitional CrossSection to create a Component\n",
    "straight_transition = gf.path.extrude(P3, Xtrans)\n",
    "straight_transition.plot()"
   ]
  },
  {
   "cell_type": "code",
   "execution_count": null,
   "id": "f89759a2",
   "metadata": {},
   "outputs": [],
   "source": [
    "s = straight_transition.to_3d()\n",
    "s.show()"
   ]
  },
  {
   "cell_type": "markdown",
   "id": "c940e046",
   "metadata": {},
   "source": [
    "## Waveguides with Shear Faces\n",
    "By default, an extruded path will end in a face orthogonal to the direction of the path. In some cases, it is desired to have a sheared face that tilts at a given angle from this orthogonal baseline. This can be done by supplying the parameters `shear_angle_start` and `shear_angle_end` to the `extrude()` function."
   ]
  },
  {
   "cell_type": "code",
   "execution_count": null,
   "id": "0e02a8f1",
   "metadata": {},
   "outputs": [],
   "source": [
    "P = gf.path.straight(length=10)\n",
    "\n",
    "s = gf.Section(width=3, offset=0, layer=gf.LAYER.SLAB90)\n",
    "X1 = gf.CrossSection(\n",
    "    width=1,\n",
    "    offset=0,\n",
    "    layer=gf.LAYER.WG,\n",
    "    name=\"core\",\n",
    "    port_names=(\"o1\", \"o2\"),\n",
    "    sections=[s],\n",
    ")\n",
    "c = gf.path.extrude(P, X1, shear_angle_start=10, shear_angle_end=45)\n",
    "c.plot()"
   ]
  },
  {
   "cell_type": "markdown",
   "id": "33a24b1a",
   "metadata": {},
   "source": [
    "By default, the shear angle parameters are `None`, in which case shearing will not be applied to the face."
   ]
  },
  {
   "cell_type": "code",
   "execution_count": null,
   "id": "bd9773e9",
   "metadata": {},
   "outputs": [],
   "source": [
    "c = gf.path.extrude(P, X1, shear_angle_start=None, shear_angle_end=10)\n",
    "c.plot()"
   ]
  },
  {
   "cell_type": "markdown",
   "id": "79b46af0",
   "metadata": {},
   "source": [
    "Shearing should work on paths of arbitrary orientation, as long as their end segments are sufficiently long."
   ]
  },
  {
   "cell_type": "code",
   "execution_count": null,
   "id": "9cbf9bda",
   "metadata": {},
   "outputs": [],
   "source": [
    "angle = 45\n",
    "P = gf.path.straight(length=10).rotate(angle)\n",
    "c = gf.path.extrude(P, X1, shear_angle_start=angle, shear_angle_end=angle)\n",
    "c.plot()"
   ]
  },
  {
   "cell_type": "markdown",
   "id": "e3f67110",
   "metadata": {},
   "source": [
    "For a non-linear path or width profile, the algorithm will intersect the path when sheared inwards and extrapolate linearly going outwards."
   ]
  },
  {
   "cell_type": "code",
   "execution_count": null,
   "id": "e77aae91",
   "metadata": {},
   "outputs": [],
   "source": [
    "angle = 15\n",
    "P = gf.path.euler()\n",
    "c = gf.path.extrude(P, X1, shear_angle_start=angle, shear_angle_end=angle)\n",
    "c.plot()"
   ]
  },
  {
   "cell_type": "markdown",
   "id": "1b3d167b",
   "metadata": {},
   "source": [
    "The port location, width and orientation remains the same for a sheared component. However, an additional property, `shear_angle` is set to the value of the shear angle. In general, shear ports can be safely connected together."
   ]
  },
  {
   "cell_type": "code",
   "execution_count": null,
   "id": "57eecd10",
   "metadata": {},
   "outputs": [],
   "source": [
    "p1 = gf.path.straight(length=10)\n",
    "p2 = gf.path.straight(length=0.5)\n",
    "\n",
    "s = gf.Section(width=3, offset=0, layer=gf.LAYER.SLAB90, name=\"slab\")\n",
    "xs = gf.CrossSection(\n",
    "    width=1,\n",
    "    offset=0,\n",
    "    layer=gf.LAYER.WG,\n",
    "    name=\"core\",\n",
    "    port_names=(\"o1\", \"o2\"),\n",
    "    sections=[s],\n",
    ")\n",
    "\n",
    "c1 = gf.path.extrude(p1, xs, shear_angle_start=45, shear_angle_end=45)\n",
    "c2 = gf.path.extrude(p2, xs, shear_angle_start=45, shear_angle_end=45)\n",
    "\n",
    "c = gf.Component(\"shear_sample\")\n",
    "ref1 = c << c1\n",
    "ref2 = c << c2\n",
    "ref3 = c << c1\n",
    "\n",
    "\n",
    "ref1.connect(port=\"o1\", destination=ref2.ports[\"o1\"])\n",
    "ref3.connect(port=\"o1\", destination=ref2.ports[\"o2\"])\n",
    "c.plot()"
   ]
  },
  {
   "cell_type": "markdown",
   "id": "a7268cf3",
   "metadata": {},
   "source": [
    "### Transitions with Shear faces\n",
    "\n",
    "You can also create a transition with a shear face"
   ]
  },
  {
   "cell_type": "code",
   "execution_count": null,
   "id": "8a239d15",
   "metadata": {},
   "outputs": [],
   "source": [
    "P = gf.path.straight(length=10)\n",
    "\n",
    "s = gf.Section(width=3, offset=0, layer=gf.LAYER.SLAB90, name=\"slab\")\n",
    "X1 = gf.CrossSection(\n",
    "    width=1,\n",
    "    offset=0,\n",
    "    layer=gf.LAYER.WG,\n",
    "    name=\"core\",\n",
    "    port_names=(\"o1\", \"o2\"),\n",
    "    sections=[s],\n",
    ")\n",
    "s2 = gf.Section(width=2, offset=0, layer=gf.LAYER.SLAB90, name=\"slab\")\n",
    "X2 = gf.CrossSection(\n",
    "    width=0.5,\n",
    "    offset=0,\n",
    "    layer=gf.LAYER.WG,\n",
    "    name=\"core\",\n",
    "    port_names=(\"o1\", \"o2\"),\n",
    "    sections=[s2],\n",
    ")\n",
    "t = gf.path.transition(X1, X2, width_type=\"linear\")\n",
    "c = gf.path.extrude(P, t, shear_angle_start=10, shear_angle_end=45)\n",
    "c.plot()"
   ]
  },
  {
   "cell_type": "markdown",
   "id": "a6e3451d",
   "metadata": {},
   "source": [
    "This will also work with curves and non-linear width profiles. Keep in mind that points outside the original geometry will be extrapolated linearly."
   ]
  },
  {
   "cell_type": "code",
   "execution_count": null,
   "id": "5910f207",
   "metadata": {},
   "outputs": [],
   "source": [
    "angle = 15\n",
    "P = gf.path.euler()\n",
    "c = gf.path.extrude(P, t, shear_angle_start=angle, shear_angle_end=angle)\n",
    "c.plot()"
   ]
  },
  {
   "cell_type": "markdown",
   "id": "634a4409",
   "metadata": {},
   "source": [
    "## bbox_layers vs cladding_layers\n",
    "\n",
    "For extruding waveguides you have two options:\n",
    "\n",
    "1. bbox_layers for squared bounding box\n",
    "2. cladding_layers for extruding a layer that follows the shape of the path."
   ]
  },
  {
   "cell_type": "code",
   "execution_count": null,
   "id": "945257d6",
   "metadata": {},
   "outputs": [],
   "source": [
    "xs_bbox = gf.cross_section.cross_section(bbox_layers=[(3, 0)], bbox_offsets=[3])\n",
    "w1 = gf.components.bend_euler(cross_section=xs_bbox, with_bbox=True)\n",
    "w1"
   ]
  },
  {
   "cell_type": "code",
   "execution_count": null,
   "id": "38ddc1f0",
   "metadata": {},
   "outputs": [],
   "source": [
    "xs_clad = gf.cross_section.cross_section(cladding_layers=[(3, 0)], cladding_offsets=[3])\n",
    "w2 = gf.components.bend_euler(cross_section=xs_clad)\n",
    "w2"
   ]
  },
  {
   "cell_type": "markdown",
   "id": "95054a47",
   "metadata": {},
   "source": [
    "## Insets\n",
    "\n",
    "It's handy to be able to extrude a `CrossSection` along a `Path`, while each `Section` may have a particular inset relative to the main `Section`. An example of this is a waveguide with a heater."
   ]
  },
  {
   "cell_type": "code",
   "execution_count": null,
   "id": "40ff447e",
   "metadata": {},
   "outputs": [],
   "source": [
    "import gdsfactory as gf\n",
    "\n",
    "\n",
    "@gf.xsection\n",
    "def xs_waveguide_heater():\n",
    "    return gf.cross_section.cross_section(\n",
    "        layer=\"WG\",\n",
    "        width=0.5,\n",
    "        sections=(\n",
    "            gf.cross_section.Section(\n",
    "                name=\"heater\",\n",
    "                width=1,\n",
    "                layer=\"HEATER\",\n",
    "                insets=(1, 2),\n",
    "            ),\n",
    "        ),\n",
    "    )\n",
    "\n",
    "\n",
    "c = gf.components.straight(cross_section=xs_waveguide_heater)\n",
    "c.plot()"
   ]
  },
  {
   "cell_type": "code",
   "execution_count": null,
   "id": "1b32bf41",
   "metadata": {},
   "outputs": [],
   "source": [
    "@gf.xsection\n",
    "def xs_waveguide_heater_with_ports():\n",
    "    return gf.cross_section.cross_section(\n",
    "        layer=\"WG\",\n",
    "        width=0.5,\n",
    "        sections=(\n",
    "            gf.cross_section.Section(\n",
    "                name=\"heater\",\n",
    "                width=1,\n",
    "                layer=\"HEATER\",\n",
    "                insets=(1, 2),\n",
    "                port_names=(\"e1\", \"e2\"),\n",
    "                port_types=(\"electrical\", \"electrical\"),\n",
    "            ),\n",
    "        ),\n",
    "    )\n",
    "\n",
    "\n",
    "c = gf.components.straight(cross_section=xs_waveguide_heater_with_ports)\n",
    "c.plot()"
   ]
  }
 ],
 "metadata": {
  "jupytext": {
   "cell_metadata_filter": "-all",
   "formats": "md,ipynb",
   "main_language": "python",
   "notebook_metadata_filter": "-all"
  }
 },
 "nbformat": 4,
 "nbformat_minor": 5
}
