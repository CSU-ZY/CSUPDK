{
 "cells": [
  {
   "cell_type": "markdown",
   "id": "a3213091",
   "metadata": {},
   "source": [
    "# Die assembly\n",
    "\n",
    "With gdsfactory you can easily go from a simple Component, to a Component with many references/instances.\n",
    "\n",
    "## Design for testing\n",
    "\n",
    "To measure your reticle / die after fabrication you need to decide your test configurations. This includes things like:\n",
    "\n",
    "- `Individual input and output fibers` versus `fiber array`. We recommend `fiber array` for easier testing and higher throughtput, but also understand the flexibility of single fibers.\n",
    "- Fiber array pitch (127um or 250um) if using a fiber array.\n",
    "- Pad pitch for DC and RF high speed probes (100, 125, 150, 200um). Probe configuration (GSG, GS ...)\n",
    "- Test layout for DC, RF and optical fibers.\n",
    "\n",
    "\n",
    "To enable automatic testing you can add labels the devices that you want to test. GDS labels are not fabricated and are only visible in the GDS file.\n",
    "\n",
    "Lets review some different automatic labeling schemas:\n",
    "\n",
    "1. SiEPIC ubc Ebeam PDK schema, labels only one of the grating couplers from the fiber array.\n",
    "2. EHVA automatic testers, include a Label component declaration as described in this [doc](https://drive.google.com/file/d/1kbQNrVLzPbefh3by7g2s865bcsA2vl5l/view)\n",
    "3. Label all ports"
   ]
  },
  {
   "cell_type": "markdown",
   "id": "0efabf22",
   "metadata": {},
   "source": [
    "### 1. SiEPIC labels\n",
    "\n",
    "Labels follow format `opt_in_{polarization}_{wavelength}_device_{username}_({component_name})-{gc_index}-{port.name}`"
   ]
  },
  {
   "cell_type": "code",
   "execution_count": null,
   "id": "3e864db8",
   "metadata": {},
   "outputs": [],
   "source": [
    "import ipywidgets\n",
    "from functools import partial\n",
    "from IPython.display import display\n",
    "from omegaconf import OmegaConf\n",
    "\n",
    "from gdsfactory.labels import add_label_ehva, add_label_yaml\n",
    "from gdsfactory.read.labels import add_port_markers\n",
    "import gdsfactory as gf\n",
    "from gdsfactory.generic_tech import get_generic_pdk\n",
    "\n",
    "gf.config.rich_output()\n",
    "PDK = get_generic_pdk()\n",
    "PDK.activate()"
   ]
  },
  {
   "cell_type": "code",
   "execution_count": null,
   "id": "9ddea51a",
   "metadata": {},
   "outputs": [],
   "source": [
    "mmi = gf.components.mmi2x2()\n",
    "mmi_te_siepic = gf.labels.add_fiber_array_siepic(component=mmi)\n",
    "mmi_te_siepic.plot_klayout(show_ports=False)\n",
    "mmi_te_siepic.show()"
   ]
  },
  {
   "cell_type": "code",
   "execution_count": null,
   "id": "c4eb99ba",
   "metadata": {},
   "outputs": [],
   "source": [
    "mmi_te_siepic.ports"
   ]
  },
  {
   "cell_type": "code",
   "execution_count": null,
   "id": "5abb6e0d",
   "metadata": {},
   "outputs": [],
   "source": [
    "labels = mmi_te_siepic.get_labels()\n",
    "\n",
    "for label in labels:\n",
    "    print(label.text)"
   ]
  },
  {
   "cell_type": "markdown",
   "id": "439a9457",
   "metadata": {},
   "source": [
    "### 2. EHVA labels"
   ]
  },
  {
   "cell_type": "code",
   "execution_count": null,
   "id": "005bb1f8",
   "metadata": {},
   "outputs": [],
   "source": [
    "add_label_ehva_demo = partial(add_label_ehva, die=\"demo_die\")\n",
    "mmi = gf.c.mmi2x2(length_mmi=2.2)\n",
    "mmi_te_ehva = gf.routing.add_fiber_array(\n",
    "    mmi, get_input_labels_function=None, decorator=add_label_ehva_demo\n",
    ")\n",
    "mmi_te_ehva.plot_klayout(show_ports=False)\n",
    "mmi_te_ehva.show()"
   ]
  },
  {
   "cell_type": "code",
   "execution_count": null,
   "id": "9f827d2f",
   "metadata": {},
   "outputs": [],
   "source": [
    "labels = mmi_te_ehva.get_labels(depth=0)\n",
    "\n",
    "for label in labels:\n",
    "    print(label.text)"
   ]
  },
  {
   "cell_type": "markdown",
   "id": "8869e2cc",
   "metadata": {},
   "source": [
    "One advantage of the EHVA formats is that you can track any changes on the components directly from the GDS label, as the label already stores any changes of the child device, as well as any settings that you specify.\n",
    "\n",
    "Settings can have many levels of hierarchy, but you can still access any children setting with `:` notation.\n",
    "\n",
    "```\n",
    "grating_coupler:\n",
    "    function: grating_coupler_elliptical_trenches\n",
    "    settings:\n",
    "        polarization: te\n",
    "        taper_angle: 35\n",
    "\n",
    "```"
   ]
  },
  {
   "cell_type": "code",
   "execution_count": null,
   "id": "20e7f46a",
   "metadata": {},
   "outputs": [],
   "source": [
    "add_label_ehva_demo = partial(\n",
    "    add_label_ehva,\n",
    "    die=\"demo_die\",\n",
    "    metadata_include_parent=[\"grating_coupler:settings:polarization\"],\n",
    ")\n",
    "mmi = gf.components.mmi2x2(length_mmi=10)\n",
    "mmi_te_ehva = gf.routing.add_fiber_array(\n",
    "    mmi, get_input_labels_function=None, decorator=add_label_ehva_demo\n",
    ")\n",
    "mmi_te_ehva.plot_klayout(show_ports=False)\n",
    "mmi_te_ehva.show()"
   ]
  },
  {
   "cell_type": "code",
   "execution_count": null,
   "id": "f5a9c759",
   "metadata": {},
   "outputs": [],
   "source": [
    "labels = mmi_te_ehva.get_labels(depth=0)\n",
    "\n",
    "for label in labels:\n",
    "    print(label.text)"
   ]
  },
  {
   "cell_type": "markdown",
   "id": "b1574bd5",
   "metadata": {},
   "source": [
    "### 3. Dash separated labels\n",
    "\n",
    "You can also use labels with `GratingName-ComponentName-PortName`"
   ]
  },
  {
   "cell_type": "code",
   "execution_count": null,
   "id": "4936b382",
   "metadata": {},
   "outputs": [],
   "source": [
    "from gdsfactory.routing.get_input_labels import get_input_labels_dash\n",
    "\n",
    "c1 = gf.components.mmi1x2()\n",
    "c2 = gf.routing.add_fiber_array(c1, get_input_labels_function=get_input_labels_dash)\n",
    "c2.plot_klayout(show_ports=False)\n",
    "c2.show()"
   ]
  },
  {
   "cell_type": "markdown",
   "id": "c67b7a75",
   "metadata": {},
   "source": [
    "## Pack\n",
    "\n",
    "Lets start with a resistance sweep, where you change the resistance width to measure sheet resistance."
   ]
  },
  {
   "cell_type": "code",
   "execution_count": null,
   "id": "e2048ee2",
   "metadata": {},
   "outputs": [],
   "source": [
    "sweep = [gf.components.resistance_sheet(width=width) for width in [1, 10, 100]]\n",
    "m = gf.pack(sweep)\n",
    "c = m[0]\n",
    "c.plot()"
   ]
  },
  {
   "cell_type": "markdown",
   "id": "508bbfa1",
   "metadata": {},
   "source": [
    "Then we add spirals with different lengths to measure waveguide propagation loss."
   ]
  },
  {
   "cell_type": "code",
   "execution_count": null,
   "id": "b9becbbb",
   "metadata": {},
   "outputs": [],
   "source": [
    "spiral = gf.components.spiral_inner_io_fiber_single()\n",
    "spiral"
   ]
  },
  {
   "cell_type": "code",
   "execution_count": null,
   "id": "1dcb161e",
   "metadata": {},
   "outputs": [],
   "source": [
    "spiral_te = gf.routing.add_fiber_single(\n",
    "    gf.functions.rotate(gf.components.spiral_inner_io_fiber_single, 90)\n",
    ")\n",
    "spiral_te"
   ]
  },
  {
   "cell_type": "code",
   "execution_count": null,
   "id": "61461af1",
   "metadata": {},
   "outputs": [],
   "source": [
    "# which is equivalent to\n",
    "spiral_te = gf.compose(\n",
    "    gf.routing.add_fiber_single,\n",
    "    gf.functions.rotate90,\n",
    "    gf.components.spiral_inner_io_fiber_single,\n",
    ")\n",
    "c = spiral_te(length=10e3)\n",
    "c.plot()"
   ]
  },
  {
   "cell_type": "code",
   "execution_count": null,
   "id": "150177bd",
   "metadata": {},
   "outputs": [],
   "source": [
    "add_label_ehva_mpw1 = partial(gf.labels.add_label_ehva, die=\"mpw1\")\n",
    "add_fiber_single_no_labels = partial(\n",
    "    gf.routing.add_fiber_single,\n",
    "    get_input_label_text_function=None,\n",
    "    decorator=add_label_ehva_mpw1,\n",
    ")\n",
    "\n",
    "spiral_te = gf.compose(\n",
    "    add_fiber_single_no_labels,\n",
    "    gf.functions.rotate90,\n",
    "    gf.components.spiral_inner_io_fiber_single,\n",
    ")\n",
    "sweep = [spiral_te(length=length) for length in [10e3, 20e3, 30e3]]\n",
    "m = gf.pack(sweep)\n",
    "c = m[0]\n",
    "c.plot()"
   ]
  },
  {
   "cell_type": "markdown",
   "id": "5ec3afd8",
   "metadata": {},
   "source": [
    "Together with GDS labels that are not fabricated, you can also add some physical labels that will be fabricated.\n",
    "\n",
    "For example you can add prefix `S` at the `north-center` of each spiral using `text_rectangular` which is DRC clean and anchored on `nc` (north-center)"
   ]
  },
  {
   "cell_type": "code",
   "execution_count": null,
   "id": "5999f25d",
   "metadata": {},
   "outputs": [],
   "source": [
    "text_metal3 = partial(gf.components.text_rectangular_multi_layer, layers=(gf.LAYER.M3,))\n",
    "\n",
    "m = gf.pack(sweep, text=text_metal3, text_anchors=(\"nc\",), text_prefix=\"s\")\n",
    "c = m[0]\n",
    "c.plot()"
   ]
  },
  {
   "cell_type": "code",
   "execution_count": null,
   "id": "b6a8a8e2",
   "metadata": {},
   "outputs": [],
   "source": [
    "text_metal2 = partial(gf.components.text, layer=gf.LAYER.M2)\n",
    "\n",
    "m = gf.pack(sweep, text=text_metal2, text_anchors=(\"nc\",), text_prefix=\"s\")\n",
    "c = m[0]\n",
    "c.plot()"
   ]
  },
  {
   "cell_type": "markdown",
   "id": "25273150",
   "metadata": {},
   "source": [
    "## Grid\n",
    "\n",
    "You can also pack components with a constant spacing."
   ]
  },
  {
   "cell_type": "code",
   "execution_count": null,
   "id": "0895b7b9",
   "metadata": {},
   "outputs": [],
   "source": [
    "g = gf.grid(sweep)\n",
    "g"
   ]
  },
  {
   "cell_type": "code",
   "execution_count": null,
   "id": "372b7346",
   "metadata": {},
   "outputs": [],
   "source": [
    "gh = gf.grid(sweep, shape=(1, len(sweep)))\n",
    "gh"
   ]
  },
  {
   "cell_type": "code",
   "execution_count": null,
   "id": "1b2f50cd",
   "metadata": {},
   "outputs": [],
   "source": [
    "gh_ymin = gf.grid(sweep, shape=(1, len(sweep)), align_y=\"ymin\")\n",
    "gh_ymin"
   ]
  },
  {
   "cell_type": "markdown",
   "id": "56e60814",
   "metadata": {},
   "source": [
    "You can also add text labels to each element of the sweep"
   ]
  },
  {
   "cell_type": "code",
   "execution_count": null,
   "id": "b608eee9",
   "metadata": {},
   "outputs": [],
   "source": [
    "gh_ymin = gf.grid_with_text(\n",
    "    sweep, shape=(1, len(sweep)), align_y=\"ymin\", text=text_metal3\n",
    ")\n",
    "gh_ymin"
   ]
  },
  {
   "cell_type": "markdown",
   "id": "212beae1",
   "metadata": {},
   "source": [
    "You can modify the text by customizing the `text_function` that you pass to `grid_with_text`"
   ]
  },
  {
   "cell_type": "code",
   "execution_count": null,
   "id": "7e3b3c66",
   "metadata": {},
   "outputs": [],
   "source": [
    "gh_ymin_m2 = gf.grid_with_text(\n",
    "    sweep, shape=(1, len(sweep)), align_y=\"ymin\", text=text_metal2\n",
    ")\n",
    "gh_ymin_m2"
   ]
  },
  {
   "cell_type": "markdown",
   "id": "2ca08010",
   "metadata": {},
   "source": [
    "You have 2 ways of defining a mask:\n",
    "\n",
    "1. in python\n",
    "2. in YAML\n",
    "\n",
    "\n",
    "## 1. Component in python\n",
    "\n",
    "You can define a Component top cell reticle or die using `grid` and `pack` python functions."
   ]
  },
  {
   "cell_type": "code",
   "execution_count": null,
   "id": "cac31cd5",
   "metadata": {},
   "outputs": [],
   "source": [
    "text_metal3 = partial(gf.components.text_rectangular_multi_layer, layers=(gf.LAYER.M3,))\n",
    "grid = partial(gf.grid_with_text, text=text_metal3)\n",
    "pack = partial(gf.pack, text=text_metal3)\n",
    "\n",
    "gratings_sweep = [\n",
    "    gf.components.grating_coupler_elliptical(taper_angle=taper_angle)\n",
    "    for taper_angle in [20, 30, 40]\n",
    "]\n",
    "gratings = grid(gratings_sweep, text=None)\n",
    "gratings"
   ]
  },
  {
   "cell_type": "code",
   "execution_count": null,
   "id": "c31f860a",
   "metadata": {},
   "outputs": [],
   "source": [
    "gratings_sweep = [\n",
    "    gf.components.grating_coupler_elliptical(taper_angle=taper_angle)\n",
    "    for taper_angle in [20, 30, 40]\n",
    "]\n",
    "gratings_loss_sweep = [\n",
    "    gf.components.grating_coupler_loss_fiber_single(grating_coupler=grating)\n",
    "    for grating in gratings_sweep\n",
    "]\n",
    "gratings = grid(\n",
    "    gratings_loss_sweep, shape=(1, len(gratings_loss_sweep)), spacing=(40, 0)\n",
    ")\n",
    "gratings"
   ]
  },
  {
   "cell_type": "code",
   "execution_count": null,
   "id": "bd3d0163",
   "metadata": {},
   "outputs": [],
   "source": [
    "sweep_resistance = [\n",
    "    gf.components.resistance_sheet(width=width) for width in [1, 10, 100]\n",
    "]\n",
    "resistance = gf.pack(sweep_resistance)[0]\n",
    "resistance"
   ]
  },
  {
   "cell_type": "code",
   "execution_count": null,
   "id": "a0a3b640",
   "metadata": {},
   "outputs": [],
   "source": [
    "spiral_te = gf.compose(\n",
    "    gf.routing.add_fiber_single,\n",
    "    gf.functions.rotate90,\n",
    "    gf.components.spiral_inner_io_fiber_single,\n",
    ")\n",
    "sweep_spirals = [spiral_te(length=length) for length in [10e3, 20e3, 30e3]]\n",
    "spirals = gf.pack(sweep_spirals)[0]\n",
    "spirals"
   ]
  },
  {
   "cell_type": "code",
   "execution_count": null,
   "id": "759bdcd8",
   "metadata": {},
   "outputs": [],
   "source": [
    "mask = gf.pack([spirals, resistance, gratings])[0]\n",
    "mask"
   ]
  },
  {
   "cell_type": "markdown",
   "id": "4ef6b6c1",
   "metadata": {},
   "source": [
    "As you can see you can define your mask in a single line.\n",
    "\n",
    "For more complex mask, you can also create a new cell to build up more complexity\n"
   ]
  },
  {
   "cell_type": "code",
   "execution_count": null,
   "id": "9f594bf8",
   "metadata": {},
   "outputs": [],
   "source": [
    "@gf.cell\n",
    "def mask():\n",
    "    c = gf.Component()\n",
    "    c << gf.pack([spirals, resistance, gratings])[0]\n",
    "    c << gf.components.seal_ring(c.bbox)\n",
    "    return c\n",
    "\n",
    "\n",
    "c = mask(cache=False)\n",
    "c.plot()"
   ]
  },
  {
   "cell_type": "markdown",
   "id": "36ed75e9",
   "metadata": {},
   "source": [
    "## 2. Component in YAML\n",
    "\n",
    "You can also define your component in YAML format thanks to `gdsfactory.read.from_yaml`\n",
    "\n",
    "You need to define:\n",
    "\n",
    "- instances\n",
    "- placements\n",
    "- routes (optional)\n",
    "\n",
    "and you can leverage:\n",
    "\n",
    "1. `pack_doe`\n",
    "2. `pack_doe_grid`"
   ]
  },
  {
   "cell_type": "markdown",
   "id": "66a5ffd7",
   "metadata": {},
   "source": [
    "### 2.1 pack_doe\n",
    "\n",
    "`pack_doe` places components as compact as possible"
   ]
  },
  {
   "cell_type": "markdown",
   "id": "8b963a4c",
   "metadata": {},
   "source": [
    "When running this tutorial make sure you UNCOMMENT this line `%matplotlib widget` so you can live update your changes in the YAML file\n",
    "\n",
    "`# %matplotlib widget`  -> `%matplotlib widget`"
   ]
  },
  {
   "cell_type": "code",
   "execution_count": null,
   "id": "098c9578",
   "metadata": {},
   "outputs": [],
   "source": [
    "# %matplotlib widget"
   ]
  },
  {
   "cell_type": "code",
   "execution_count": null,
   "id": "5eb56e92",
   "metadata": {},
   "outputs": [],
   "source": [
    "x = ipywidgets.Textarea(rows=20, columns=480)\n",
    "\n",
    "x.value = \"\"\"\n",
    "name: mask_grid\n",
    "\n",
    "instances:\n",
    "  rings:\n",
    "    component: pack_doe\n",
    "    settings:\n",
    "      doe: ring_single\n",
    "      settings:\n",
    "        radius: [30, 50, 20, 40]\n",
    "        length_x: [1, 2, 3]\n",
    "      do_permutations: True\n",
    "      function:\n",
    "        function: add_fiber_array\n",
    "        settings:\n",
    "            fanout_length: 200\n",
    "\n",
    "  mzis:\n",
    "    component: pack_doe\n",
    "    settings:\n",
    "      doe: mzi\n",
    "      settings:\n",
    "        delta_length: [10, 100]\n",
    "      function: add_fiber_array\n",
    "\n",
    "placements:\n",
    "  rings:\n",
    "    xmin: 50\n",
    "\n",
    "  mzis:\n",
    "    xmin: rings,east\n",
    "\"\"\"\n",
    "\n",
    "out = ipywidgets.Output()\n",
    "display(x, out)\n",
    "\n",
    "\n",
    "def f(change, out=out):\n",
    "    try:\n",
    "        c = gf.read.from_yaml(change[\"new\"])\n",
    "        # clear_output()\n",
    "        fig = c.plot()\n",
    "        c.show(show_ports=True)\n",
    "        out.clear_output()\n",
    "    except Exception as e:\n",
    "        out.clear_output()\n",
    "        with out:\n",
    "            display(e)\n",
    "\n",
    "\n",
    "x.observe(f, \"value\")\n",
    "f({\"new\": x.value})"
   ]
  },
  {
   "cell_type": "markdown",
   "id": "0af4662a",
   "metadata": {},
   "source": [
    "### 2.2 pack_doe_grid\n",
    "\n",
    "`pack_doe_grid` places each component on a regular grid"
   ]
  },
  {
   "cell_type": "code",
   "execution_count": null,
   "id": "11299e5b",
   "metadata": {},
   "outputs": [],
   "source": [
    "x.value = \"\"\"\n",
    "name: mask_compact\n",
    "\n",
    "instances:\n",
    "  rings:\n",
    "    component: pack_doe\n",
    "    settings:\n",
    "      doe: ring_single\n",
    "      settings:\n",
    "        radius: [30, 50, 20, 40]\n",
    "        length_x: [1, 2, 3]\n",
    "      do_permutations: True\n",
    "      function:\n",
    "        function: add_fiber_array\n",
    "        settings:\n",
    "            fanout_length: 200\n",
    "\n",
    "\n",
    "  mzis:\n",
    "    component: pack_doe_grid\n",
    "    settings:\n",
    "      doe: mzi\n",
    "      settings:\n",
    "        delta_length: [10, 100]\n",
    "      do_permutations: True\n",
    "      spacing: [10, 10]\n",
    "      function: add_fiber_array\n",
    "\n",
    "placements:\n",
    "  rings:\n",
    "    xmin: 50\n",
    "\n",
    "  mzis:\n",
    "    xmin: rings,east\n",
    "\"\"\"\n",
    "\n",
    "display(x, out)"
   ]
  },
  {
   "cell_type": "markdown",
   "id": "893eb604",
   "metadata": {},
   "source": [
    "## Metadata\n",
    "\n",
    "When saving GDS files is also convenient to store the metadata settings that you used to generate the GDS file."
   ]
  },
  {
   "cell_type": "code",
   "execution_count": null,
   "id": "e0373484",
   "metadata": {
    "lines_to_next_cell": 2
   },
   "outputs": [],
   "source": [
    "import gdsfactory as gf\n",
    "\n",
    "\n",
    "@gf.cell\n",
    "def wg():\n",
    "    c = gf.Component()\n",
    "    c.info[\"doe\"] = [\"rings\", 1550, \"te\", \"phase_shifter\"]\n",
    "    c.info[\"test_sequence\"] = [\"optical\", \"electrical_sweep\"]\n",
    "    c.info[\"data_analysis\"] = [\n",
    "        \"remove_baseline\",\n",
    "        \"extract_fsr\",\n",
    "        \"extract_loss\",\n",
    "        \"extract_power_per_pi\",\n",
    "    ]\n",
    "    return c\n",
    "\n",
    "\n",
    "c = wg()\n",
    "c.pprint()\n",
    "gdspath = c.write_gds(\"demo.gds\", with_metadata=True)"
   ]
  },
  {
   "cell_type": "code",
   "execution_count": null,
   "id": "3bb8728b",
   "metadata": {},
   "outputs": [],
   "source": [
    "from IPython.display import Code\n",
    "\n",
    "metadata = gdspath.with_suffix(\".yml\")\n",
    "Code(metadata)"
   ]
  },
  {
   "cell_type": "code",
   "execution_count": null,
   "id": "43171373",
   "metadata": {},
   "outputs": [],
   "source": [
    "import pandas as pd\n",
    "from omegaconf import OmegaConf\n",
    "import gdsfactory as gf\n",
    "\n",
    "\n",
    "def mzi_te(**kwargs) -> gf.Component:\n",
    "    gc = gf.c.grating_coupler_elliptical_tm()\n",
    "    c = gf.c.mzi_phase_shifter_top_heater_metal(delta_length=40)\n",
    "    c = gf.routing.add_fiber_array(c, grating_coupler=gc, **kwargs)\n",
    "    c = gf.routing.add_electrical_pads_shortest(c)\n",
    "    return c\n",
    "\n",
    "\n",
    "c = mzi_te()\n",
    "c.plot()"
   ]
  },
  {
   "cell_type": "code",
   "execution_count": null,
   "id": "991bc9e3",
   "metadata": {},
   "outputs": [],
   "source": [
    "c = gf.grid(\n",
    "    [mzi_te()] * 2,\n",
    "    decorator=gf.add_labels.add_labels_to_ports,\n",
    "    add_ports_suffix=True,\n",
    "    add_ports_prefix=False,\n",
    ")\n",
    "gdspath = c.write_gds()\n",
    "csvpath = gf.labels.write_labels.write_labels_gdstk(gdspath, debug=True)\n",
    "\n",
    "df = pd.read_csv(csvpath)\n",
    "c.plot()"
   ]
  },
  {
   "cell_type": "code",
   "execution_count": null,
   "id": "8dd4e5dd",
   "metadata": {},
   "outputs": [],
   "source": [
    "df"
   ]
  },
  {
   "cell_type": "code",
   "execution_count": null,
   "id": "fb1c4be1",
   "metadata": {},
   "outputs": [],
   "source": [
    "mzis = [mzi_te()] * 2\n",
    "spirals = [\n",
    "    gf.routing.add_fiber_array(gf.components.spiral_external_io(length=length))\n",
    "    for length in [10e3, 20e3, 30e3]\n",
    "]\n",
    "\n",
    "c = gf.pack(\n",
    "    mzis + spirals,\n",
    "    add_ports_suffix=True,\n",
    "    add_ports_prefix=False,\n",
    ")[0]\n",
    "c = gf.add_labels.add_labels_to_ports(c)\n",
    "gdspath = c.write_gds()\n",
    "csvpath = gf.labels.write_labels.write_labels_gdstk(gdspath, debug=True)\n",
    "df = pd.read_csv(csvpath)\n",
    "c.plot()"
   ]
  },
  {
   "cell_type": "code",
   "execution_count": null,
   "id": "b44ccd7c",
   "metadata": {},
   "outputs": [],
   "source": [
    "gdspath = c.write_gds(gdsdir=\"extra\", with_metadata=True)"
   ]
  },
  {
   "cell_type": "code",
   "execution_count": null,
   "id": "77e82ab0",
   "metadata": {},
   "outputs": [],
   "source": [
    "yaml_path = gdspath.with_suffix(\".yml\")"
   ]
  },
  {
   "cell_type": "code",
   "execution_count": null,
   "id": "202c90bd",
   "metadata": {},
   "outputs": [],
   "source": [
    "labels_path = gf.labels.write_labels.write_labels_gdstk(\n",
    "    gdspath=gdspath, layer_label=(201, 0)\n",
    ")"
   ]
  },
  {
   "cell_type": "code",
   "execution_count": null,
   "id": "9c79d4c4",
   "metadata": {},
   "outputs": [],
   "source": [
    "mask_metadata = OmegaConf.load(yaml_path)"
   ]
  },
  {
   "cell_type": "code",
   "execution_count": null,
   "id": "efc60af0",
   "metadata": {},
   "outputs": [],
   "source": [
    "test_metadata = tm = gf.labels.merge_test_metadata(\n",
    "    labels_path=labels_path, mask_metadata=mask_metadata\n",
    ")"
   ]
  },
  {
   "cell_type": "code",
   "execution_count": null,
   "id": "79ce467f",
   "metadata": {},
   "outputs": [],
   "source": [
    "tm.keys()"
   ]
  },
  {
   "cell_type": "markdown",
   "id": "dca078ed",
   "metadata": {},
   "source": [
    "```\n",
    "\n",
    "CSV labels  ------|\n",
    "                  |--> merge_test_metadata dict\n",
    "                  |\n",
    "YAML metadata  ---\n",
    "\n",
    "```"
   ]
  },
  {
   "cell_type": "code",
   "execution_count": null,
   "id": "34b650c6",
   "metadata": {},
   "outputs": [],
   "source": [
    "spiral_names = [s for s in test_metadata.keys() if s.startswith(\"spiral\")]\n",
    "spiral_names"
   ]
  },
  {
   "cell_type": "code",
   "execution_count": null,
   "id": "b7f14372",
   "metadata": {},
   "outputs": [],
   "source": [
    "spiral_lengths = [\n",
    "    test_metadata[spiral_name].info.length for spiral_name in spiral_names\n",
    "]\n",
    "spiral_lengths"
   ]
  },
  {
   "cell_type": "code",
   "execution_count": null,
   "id": "a6ade843",
   "metadata": {},
   "outputs": [],
   "source": []
  }
 ],
 "metadata": {
  "jupytext": {
   "cell_metadata_filter": "-all",
   "formats": "md,ipynb",
   "main_language": "python",
   "notebook_metadata_filter": "-all"
  }
 },
 "nbformat": 4,
 "nbformat_minor": 5
}
