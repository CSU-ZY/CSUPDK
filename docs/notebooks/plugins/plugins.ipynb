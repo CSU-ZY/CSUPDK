{
 "cells": [
  {
   "cell_type": "markdown",
   "id": "f0a03681-86cb-4835-b41d-fd8da98be22a",
   "metadata": {},
   "source": [
    "# Plugins\n",
    "\n",
    "- Mode solver. Frequency Domain solver to compute modes for different waveguide geometries. Single frequency/wavelength solving.\n",
    "    - MPB. See `gdsfactory.simulation.modes`\n",
    "- FDTD: Finite difference time domain wave propagation. Provides Broadband spectrum for a component. Described as Sparameters (ratio of output/input field for each port)\n",
    "    - lumerical Ansys FDTD. See `gdsfactory.simulation.lumerical`\n",
    "    - meep. See `gdsfactory.simulation.gmeep`\n",
    "    - tidy3d. See `gdsfactory.simulation.gtidy`\n",
    "- Linear circuit solver\n",
    "    - [simphony (open source)](https://simphonyphotonics.readthedocs.io/en/latest/)\n",
    "    - [sax (open source)](https://sax.readthedocs.io/en/latest/index.html)\n"
   ]
  },
  {
   "cell_type": "markdown",
   "id": "9b605da8-cad0-49f1-be85-b218ee2bbff7",
   "metadata": {},
   "source": [
    "FDTD simulators can compute the [Sparameters](https://en.wikipedia.org/wiki/Scattering_parameters) response of a component, which measures the input to output field relationship as a function of wavelength or frequency.\n",
    "\n",
    "Sparameters are common in RF and photonic simulation.\n",
    "\n",
    "Frequency circuit simulations solve the Sparameters of a circuit that connects several components, each of which is described by its Sparameters.\n",
    "\n",
    "Most plugins leverage a file based cache, where you can store simulation results in files to avoid running the same simulation twice.\n",
    "There are different types of simulation storage that you can use.\n",
    "\n",
    "- [GIT repo](https://github.com/gdsfactory/gdslib)\n",
    "- [DVC](https://dvc.org/)\n",
    "- database\n",
    "\n"
   ]
  },
  {
   "cell_type": "code",
   "execution_count": null,
   "id": "25309b35-7199-411d-a4a6-648364f81d91",
   "metadata": {},
   "outputs": [],
   "source": []
  }
 ],
 "metadata": {
  "kernelspec": {
   "display_name": "Python 3 (ipykernel)",
   "language": "python",
   "name": "python3"
  },
  "language_info": {
   "codemirror_mode": {
    "name": "ipython",
    "version": 3
   },
   "file_extension": ".py",
   "mimetype": "text/x-python",
   "name": "python",
   "nbconvert_exporter": "python",
   "pygments_lexer": "ipython3",
   "version": "3.9.7"
  }
 },
 "nbformat": 4,
 "nbformat_minor": 5
}
