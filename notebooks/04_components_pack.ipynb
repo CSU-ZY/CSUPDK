{
 "cells": [
  {
   "cell_type": "markdown",
   "id": "4eab9138",
   "metadata": {},
   "source": [
    "# Grid / pack / align / distribute"
   ]
  },
  {
   "cell_type": "markdown",
   "id": "9ec5ee79",
   "metadata": {},
   "source": [
    "## Grid\n",
    "\n",
    "\n",
    "The ``gf.components.grid()`` function can take a list (or 2D array) of objects and arrange them along a grid. This is often useful for making parameter sweeps.   If the `separation` argument is true, grid is arranged such that the elements are guaranteed not to touch, with a `spacing` distance between them.  If `separation` is false, elements are spaced evenly along a grid. The `align_x`/`align_y` arguments specify intra-row/intra-column alignment.  The `edge_x`/`edge_y` arguments specify inter-row/inter-column alignment (unused if `separation = True`)."
   ]
  },
  {
   "cell_type": "code",
   "execution_count": null,
   "id": "df38a3ef",
   "metadata": {},
   "outputs": [],
   "source": [
    "import gdsfactory as gf\n",
    "\n",
    "components_list = []\n",
    "for width1 in [1, 6, 9]:\n",
    "    for width2 in [1, 2, 4, 8]:\n",
    "        D = gf.components.taper(length=10, width1=width1, width2=width2, layer=(1, 0))\n",
    "        components_list.append(D)\n",
    "\n",
    "c = gf.grid(\n",
    "    components_list,\n",
    "    spacing=(5, 1),\n",
    "    separation=True,\n",
    "    shape=(3, 4),\n",
    "    align_x=\"x\",\n",
    "    align_y=\"y\",\n",
    "    edge_x=\"x\",\n",
    "    edge_y=\"ymax\",\n",
    ")\n",
    "c.plot()"
   ]
  },
  {
   "cell_type": "markdown",
   "id": "f0f2a3c7",
   "metadata": {},
   "source": [
    "## Pack\n",
    "\n",
    "\n",
    "The ``gf.pack()`` function packs geometries together into rectangular bins. If a ``max_size`` is specified, the function will create as many bins as is necessary to pack all the geometries and then return a list of the filled-bin Components.\n",
    "\n",
    "Here we generate several random shapes then pack them together automatically. We allow the bin to be as large as needed to fit all the Components by specifying ``max_size = (None, None)``.  By setting ``aspect_ratio = (2,1)``, we specify the rectangular bin it tries to pack them into should be twice as wide as it is tall:"
   ]
  },
  {
   "cell_type": "code",
   "execution_count": null,
   "id": "10370d09",
   "metadata": {},
   "outputs": [],
   "source": [
    "import numpy as np\n",
    "\n",
    "import gdsfactory as gf\n",
    "\n",
    "np.random.seed(5)\n",
    "D_list = [gf.components.rectangle(size=(i, i)) for i in range(1, 10)]\n",
    "\n",
    "D_packed_list = gf.pack(\n",
    "    D_list,  # Must be a list or tuple of Components\n",
    "    spacing=1.25,  # Minimum distance between adjacent shapes\n",
    "    aspect_ratio=(2, 1),  # (width, height) ratio of the rectangular bin\n",
    "    max_size=(None, None),  # Limits the size into which the shapes will be packed\n",
    "    density=1.05,  # Values closer to 1 pack tighter but require more computation\n",
    "    sort_by_area=True,  # Pre-sorts the shapes by area\n",
    ")\n",
    "D = D_packed_list[0]  # Only one bin was created, so we plot that\n",
    "D.plot()"
   ]
  },
  {
   "cell_type": "markdown",
   "id": "49d19d0b",
   "metadata": {},
   "source": [
    "Say we need to pack many shapes into multiple 500x500 unit die. If we set ``max_size = (500,500)`` the shapes will be packed into as many 500x500 unit die as required to fit them all:"
   ]
  },
  {
   "cell_type": "code",
   "execution_count": null,
   "id": "37243949",
   "metadata": {},
   "outputs": [],
   "source": [
    "np.random.seed(1)\n",
    "D_list = [\n",
    "    gf.components.ellipse(radii=tuple(np.random.rand(2) * n + 2)) for n in range(120)\n",
    "]\n",
    "D_packed_list = gf.pack(\n",
    "    D_list,  # Must be a list or tuple of Components\n",
    "    spacing=4,  # Minimum distance between adjacent shapes\n",
    "    aspect_ratio=(1, 1),  # Shape of the box\n",
    "    max_size=(500, 500),  # Limits the size into which the shapes will be packed\n",
    "    density=1.05,  # Values closer to 1 pack tighter but require more computation\n",
    "    sort_by_area=True,  # Pre-sorts the shapes by area\n",
    ")\n",
    "\n",
    "# Put all packed bins into a single device and spread them out with distribute()\n",
    "F = gf.Component(\"packed\")\n",
    "[F.add_ref(D) for D in D_packed_list]\n",
    "F.distribute(elements=\"all\", direction=\"x\", spacing=100, separation=True)\n",
    "F.plot()"
   ]
  },
  {
   "cell_type": "markdown",
   "id": "7fabfffb",
   "metadata": {},
   "source": [
    "Note that the packing problem is an NP-complete problem, so ``gf.components.packer()`` may be slow if there are more than a few hundred Components to pack (in that case, try pre-packing a few dozen at a time then packing the resulting bins). Requires the ``rectpack`` python package."
   ]
  },
  {
   "cell_type": "markdown",
   "id": "b8b666b0",
   "metadata": {
    "lines_to_next_cell": 2
   },
   "source": [
    "## Distribute\n",
    "\n",
    "\n",
    "The ``distribute()`` function allows you to space out elements within a Component evenly in the x or y direction.  It is meant to duplicate the distribute functionality present in Inkscape / Adobe Illustrator:"
   ]
  },
  {
   "cell_type": "markdown",
   "id": "07725eb0",
   "metadata": {},
   "source": [
    "![](https://i.imgur.com/dC74M8x.png)"
   ]
  },
  {
   "cell_type": "markdown",
   "id": "59bdffe1",
   "metadata": {},
   "source": [
    "Say we start out with a few random-sized rectangles we want to space out:"
   ]
  },
  {
   "cell_type": "code",
   "execution_count": null,
   "id": "33f11054",
   "metadata": {},
   "outputs": [],
   "source": [
    "c = gf.Component(\"rectangles\")\n",
    "# Create different-sized rectangles and add them to D\n",
    "[\n",
    "    c.add_ref(\n",
    "        gf.components.rectangle(size=[n * 15 + 20, n * 15 + 20], layer=(2, 0))\n",
    "    ).move([n, n * 4])\n",
    "    for n in [0, 2, 3, 1, 2]\n",
    "]\n",
    "c.plot()"
   ]
  },
  {
   "cell_type": "markdown",
   "id": "eaafbfb4",
   "metadata": {},
   "source": [
    "Oftentimes, we want to guarantee some distance between the objects.  By setting ``separation = True`` we move each object such that there is ``spacing`` distance between them:"
   ]
  },
  {
   "cell_type": "code",
   "execution_count": null,
   "id": "f08981d2",
   "metadata": {},
   "outputs": [],
   "source": [
    "D = gf.Component(\"rectangles_separated\")\n",
    "# Create different-sized rectangles and add them to D\n",
    "[\n",
    "    D.add_ref(gf.components.rectangle(size=[n * 15 + 20, n * 15 + 20])).move((n, n * 4))\n",
    "    for n in [0, 2, 3, 1, 2]\n",
    "]\n",
    "# Distribute all the rectangles in D along the x-direction with a separation of 5\n",
    "D.distribute(\n",
    "    elements=\"all\",  # either 'all' or a list of objects\n",
    "    direction=\"x\",  # 'x' or 'y'\n",
    "    spacing=5,\n",
    "    separation=True,\n",
    ")\n",
    "D.plot()"
   ]
  },
  {
   "cell_type": "markdown",
   "id": "1d6f8f5b",
   "metadata": {},
   "source": [
    "Alternatively, we can spread them out on a fixed grid by setting ``separation = False``. Here we align the left edge (``edge = 'min'``) of each object along a grid spacing of 100:"
   ]
  },
  {
   "cell_type": "code",
   "execution_count": null,
   "id": "5e5cf065",
   "metadata": {},
   "outputs": [],
   "source": [
    "D = gf.Component(\"spacing100\")\n",
    "[\n",
    "    D.add_ref(gf.components.rectangle(size=[n * 15 + 20, n * 15 + 20])).move((n, n * 4))\n",
    "    for n in [0, 2, 3, 1, 2]\n",
    "]\n",
    "D.distribute(\n",
    "    elements=\"all\", direction=\"x\", spacing=100, separation=False, edge=\"xmin\"\n",
    ")  # edge must be either 'xmin' (left), 'xmax' (right), or 'x' (center)\n",
    "D.plot()"
   ]
  },
  {
   "cell_type": "markdown",
   "id": "f54d0859",
   "metadata": {},
   "source": [
    "The alignment can be done along the right edge as well by setting ``edge = 'max'``, or along the center by setting ``edge = 'center'`` like in the following:"
   ]
  },
  {
   "cell_type": "code",
   "execution_count": null,
   "id": "c62a9bb9",
   "metadata": {},
   "outputs": [],
   "source": [
    "D = gf.Component(\"alignment\")\n",
    "[\n",
    "    D.add_ref(gf.components.rectangle(size=[n * 15 + 20, n * 15 + 20])).move(\n",
    "        (n - 10, n * 4)\n",
    "    )\n",
    "    for n in [0, 2, 3, 1, 2]\n",
    "]\n",
    "D.distribute(\n",
    "    elements=\"all\", direction=\"x\", spacing=100, separation=False, edge=\"x\"\n",
    ")  # edge must be either 'xmin' (left), 'xmax' (right), or 'x' (center)\n",
    "D.plot()"
   ]
  },
  {
   "cell_type": "markdown",
   "id": "dc170b4f",
   "metadata": {},
   "source": [
    "## Align\n",
    "\n",
    "\n",
    "The ``align()`` function allows you to elements within a Component horizontally or vertically.  It is meant to duplicate the alignment functionality present in Inkscape / Adobe Illustrator:"
   ]
  },
  {
   "cell_type": "markdown",
   "id": "b4a6124f",
   "metadata": {},
   "source": [
    "![](https://i.imgur.com/rqzunXM.png)"
   ]
  },
  {
   "cell_type": "markdown",
   "id": "cad84a53",
   "metadata": {},
   "source": [
    "Say we ``distribute()`` a few objects, but they're all misaligned:"
   ]
  },
  {
   "cell_type": "code",
   "execution_count": null,
   "id": "a94aa2ac",
   "metadata": {},
   "outputs": [],
   "source": [
    "D = gf.Component(\"distribute\")\n",
    "# Create different-sized rectangles and add them to D then distribute them\n",
    "[\n",
    "    D.add_ref(gf.components.rectangle(size=[n * 15 + 20, n * 15 + 20])).move((n, n * 4))\n",
    "    for n in [0, 2, 3, 1, 2]\n",
    "]\n",
    "D.distribute(elements=\"all\", direction=\"x\", spacing=5, separation=True)\n",
    "D.plot()"
   ]
  },
  {
   "cell_type": "markdown",
   "id": "c8ae1ae9",
   "metadata": {},
   "source": [
    "we can use the ``align()`` function to align their top edges (``alignment = 'ymax'):"
   ]
  },
  {
   "cell_type": "code",
   "execution_count": null,
   "id": "7f56486e",
   "metadata": {},
   "outputs": [],
   "source": [
    "D = gf.Component(\"align\")\n",
    "# Create different-sized rectangles and add them to D then distribute them\n",
    "[\n",
    "    D.add_ref(gf.components.rectangle(size=[n * 15 + 20, n * 15 + 20])).move((n, n * 4))\n",
    "    for n in [0, 2, 3, 1, 2]\n",
    "]\n",
    "D.distribute(elements=\"all\", direction=\"x\", spacing=5, separation=True)\n",
    "\n",
    "# Align top edges\n",
    "D.align(elements=\"all\", alignment=\"ymax\")\n",
    "D.plot()"
   ]
  },
  {
   "cell_type": "markdown",
   "id": "7e7f85f6",
   "metadata": {},
   "source": [
    "or align their centers (``alignment = 'y'):"
   ]
  },
  {
   "cell_type": "code",
   "execution_count": null,
   "id": "3c3cc514",
   "metadata": {},
   "outputs": [],
   "source": [
    "D = gf.Component(\"distribute_align_y\")\n",
    "# Create different-sized rectangles and add them to D then distribute them\n",
    "[\n",
    "    D.add_ref(gf.components.rectangle(size=[n * 15 + 20, n * 15 + 20])).move((n, n * 4))\n",
    "    for n in [0, 2, 3, 1, 2]\n",
    "]\n",
    "D.distribute(elements=\"all\", direction=\"x\", spacing=5, separation=True)\n",
    "\n",
    "# Align top edges\n",
    "D.align(elements=\"all\", alignment=\"y\")\n",
    "D.plot()"
   ]
  },
  {
   "cell_type": "markdown",
   "id": "80711c6a",
   "metadata": {},
   "source": [
    "other valid alignment options include ``'xmin', 'x', 'xmax', 'ymin', 'y', and 'ymax'``"
   ]
  }
 ],
 "metadata": {
  "jupytext": {
   "cell_metadata_filter": "-all",
   "custom_cell_magics": "kql"
  },
  "kernelspec": {
   "display_name": "base",
   "language": "python",
   "name": "python3"
  }
 },
 "nbformat": 4,
 "nbformat_minor": 5
}
