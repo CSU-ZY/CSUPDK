{
 "cells": [
  {
   "cell_type": "markdown",
   "metadata": {},
   "source": [
    "# Components\n",
    "\n",
    "gdsfactory provides a generic customizable components library in `pp.components` "
   ]
  },
  {
   "cell_type": "markdown",
   "metadata": {},
   "source": [
    "## Basic shapes"
   ]
  },
  {
   "cell_type": "markdown",
   "metadata": {},
   "source": [
    "### Rectangle\n",
    "\n",
    "To create a simple rectangle, there are two functions:\n",
    "\n",
    "``pp.components.rectangle()`` can create a basic rectangle:"
   ]
  },
  {
   "cell_type": "code",
   "execution_count": null,
   "metadata": {},
   "outputs": [],
   "source": [
    "import pp\n",
    "pp.components.rectangle(size = (4.5, 2), layer = (0, 0))"
   ]
  },
  {
   "cell_type": "markdown",
   "metadata": {},
   "source": [
    "``pp.components.bbox()`` can also create a rectangle based on a bounding box. \n",
    "This is useful if you want to create a rectangle which exactly surrounds a piece of existing geometry. \n",
    "For example, if we have an arc geometry and we want to define a box around it, we can use ``pp.components.bbox()``: "
   ]
  },
  {
   "cell_type": "code",
   "execution_count": null,
   "metadata": {},
   "outputs": [],
   "source": [
    "D = pp.Component()\n",
    "arc = D << pp.components.bend_circular(radius = 10, width = 0.5, angle = 90, layer = (1,0)).rotate(90)\n",
    "# Draw a rectangle around the arc we created by using the arc's bounding box\n",
    "rect = D << pp.components.bbox(bbox = arc.bbox, layer = (0,0))\n",
    "D"
   ]
  },
  {
   "cell_type": "markdown",
   "metadata": {},
   "source": [
    "### Cross\n",
    "\n",
    "The ``pp.components.cross()`` function creates a cross structure:"
   ]
  },
  {
   "cell_type": "code",
   "execution_count": null,
   "metadata": {},
   "outputs": [],
   "source": [
    "pp.components.cross(length = 10, width = 0.5, layer = (1,0))"
   ]
  },
  {
   "cell_type": "markdown",
   "metadata": {},
   "source": [
    "### Ellipse\n",
    "\n",
    "The ``pp.components.ellipse()`` function creates an ellipse by defining the major and minor radii:"
   ]
  },
  {
   "cell_type": "code",
   "execution_count": null,
   "metadata": {},
   "outputs": [],
   "source": [
    "pp.components.ellipse(radii = (10,5), angle_resolution = 2.5, layer = (1, 0))"
   ]
  },
  {
   "cell_type": "markdown",
   "metadata": {},
   "source": [
    "### Circle\n",
    "\n",
    "The ``pp.components.circle()`` function creates a circle:"
   ]
  },
  {
   "cell_type": "code",
   "execution_count": null,
   "metadata": {},
   "outputs": [],
   "source": [
    "pp.components.circle(radius = 10, angle_resolution = 2.5, layer = (1, 0))"
   ]
  },
  {
   "cell_type": "markdown",
   "metadata": {},
   "source": [
    "### Ring\n",
    "\n",
    "The ``pp.components.ring()`` function creates a ring.  The radius refers to the center radius of the ring structure (halfway between the inner and outer radius)."
   ]
  },
  {
   "cell_type": "code",
   "execution_count": null,
   "metadata": {},
   "outputs": [],
   "source": [
    "pp.components.ring(radius = 5, width = 0.5, angle_resolution = 2.5, layer = (1, 0))"
   ]
  },
  {
   "cell_type": "code",
   "execution_count": null,
   "metadata": {},
   "outputs": [],
   "source": [
    "pp.components.ring_single(width=0.5, gap=0.2, radius=10, length_x=4, length_y=2, layer=(1, 0))"
   ]
  },
  {
   "cell_type": "code",
   "execution_count": null,
   "metadata": {},
   "outputs": [],
   "source": [
    "import pp\n",
    "pp.components.ring_double(width=0.5, gap=0.2, radius=10, length_x=4, length_y=2, layer=(1,0))"
   ]
  },
  {
   "cell_type": "code",
   "execution_count": null,
   "metadata": {},
   "outputs": [],
   "source": [
    "pp.components.ring_double(width=0.5, gap=0.2, radius=10, length_x=4, length_y=2, layer=(1,0), bend=pp.components.bend_circular)"
   ]
  },
  {
   "cell_type": "markdown",
   "metadata": {},
   "source": [
    "### Bend circular\n",
    "\n",
    "The ``pp.components.bend_circular()`` function creates an arc.  The radius refers to the center radius of the arc (halfway between the inner and outer radius). "
   ]
  },
  {
   "cell_type": "code",
   "execution_count": null,
   "metadata": {},
   "outputs": [],
   "source": [
    "pp.components.bend_circular(radius = 2.0, width = 0.5, angle = 90, npoints = 720, layer = (1,0))"
   ]
  },
  {
   "cell_type": "markdown",
   "metadata": {},
   "source": [
    "### Bend euler\n",
    "\n",
    "The ``pp.components.bend_euler()`` function creates an adiabatic bend in which the bend radius changes gradually. Euler bends have lower loss than circular bends.\n"
   ]
  },
  {
   "cell_type": "code",
   "execution_count": null,
   "metadata": {},
   "outputs": [],
   "source": [
    "pp.components.bend_euler(radius = 2.0, width = 0.5, angle = 90, npoints = 720, layer = (1,0))"
   ]
  },
  {
   "cell_type": "markdown",
   "metadata": {},
   "source": [
    "### Tapers\n",
    "\n",
    "`pp.components.taper()`is defined by setting its length and its start and end length.  It has two ports, ``1`` and ``2``, on either end, allowing you to easily connect it to other structures."
   ]
  },
  {
   "cell_type": "code",
   "execution_count": null,
   "metadata": {},
   "outputs": [],
   "source": [
    "pp.components.taper(length = 10, width1 = 6, width2 = 4, port = None, layer = (1,0))"
   ]
  },
  {
   "cell_type": "markdown",
   "metadata": {},
   "source": [
    "`pp.components.ramp()` is a structure is similar to `taper()` except it is asymmetric.  It also has two ports, ``1`` and ``2``, on either end."
   ]
  },
  {
   "cell_type": "code",
   "execution_count": null,
   "metadata": {},
   "outputs": [],
   "source": [
    "pp.components.ramp(length = 10, width1 = 4, width2 = 8, layer = (1,0))"
   ]
  },
  {
   "cell_type": "markdown",
   "metadata": {},
   "source": [
    "### Common compound shapes"
   ]
  },
  {
   "cell_type": "markdown",
   "metadata": {},
   "source": [
    "The `pp.components.L()` function creates a \"L\" shape with ports on either end named ``1`` and ``2``."
   ]
  },
  {
   "cell_type": "code",
   "execution_count": null,
   "metadata": {},
   "outputs": [],
   "source": [
    "pp.components.L(width = 7, size = (10,20) , layer = (1,0))"
   ]
  },
  {
   "cell_type": "markdown",
   "metadata": {},
   "source": [
    "The `pp.components.C()` function creates a \"C\" shape with ports on either end named ``1`` and ``2``."
   ]
  },
  {
   "cell_type": "code",
   "execution_count": null,
   "metadata": {},
   "outputs": [],
   "source": [
    "pp.components.C(width = 7, size = (10,20) , layer = (1,0))"
   ]
  },
  {
   "cell_type": "markdown",
   "metadata": {},
   "source": [
    "## Text\n",
    "\n",
    "Gdsfactory has an implementation of the DEPLOF font with the majority of english ASCII characters represented (thanks to phidl)"
   ]
  },
  {
   "cell_type": "code",
   "execution_count": null,
   "metadata": {},
   "outputs": [],
   "source": [
    "pp.components.text(text = 'Hello world!\\nMultiline text\\nLeft-justified', size = 10,\n",
    "            justify = 'left', layer = (1,0))\n",
    "# `justify` should be either 'left', 'center', or 'right'"
   ]
  },
  {
   "cell_type": "markdown",
   "metadata": {},
   "source": [
    "## Grid / packer / align / distribute"
   ]
  },
  {
   "cell_type": "markdown",
   "metadata": {},
   "source": [
    "### Grid\n",
    "\n",
    "\n",
    "The ``pp.components.grid()`` function can take a list (or 2D array) of objects and arrange them along a grid. This is often useful for making parameter sweeps.   If the `separation` argument is true, grid is arranged such that the elements are guaranteed not to touch, with a `spacing` distance between them.  If `separation` is false, elements are spaced evenly along a grid. The `align_x`/`align_y` arguments specify intra-row/intra-column alignment.  The`edge_x`/`edge_y` arguments specify inter-row/inter-column alignment (unused if `separation = True`)."
   ]
  },
  {
   "cell_type": "code",
   "execution_count": null,
   "metadata": {},
   "outputs": [],
   "source": [
    "import pp\n",
    "\n",
    "components_list = []\n",
    "for width1 in [1, 6, 9]:\n",
    "    for width2 in [1, 2, 4, 8]:\n",
    "        D = pp.components.taper(length = 10, width1 = width1, width2 = width2, layer = (1, 0))\n",
    "        components_list.append(D)\n",
    "\n",
    "c = pp.grid(components_list,\n",
    "            spacing = (5,1),\n",
    "            separation = True,\n",
    "            shape = (3,4),\n",
    "            align_x = 'x',\n",
    "            align_y = 'y',\n",
    "            edge_x = 'x',\n",
    "            edge_y = 'ymax')\n",
    "c"
   ]
  },
  {
   "cell_type": "markdown",
   "metadata": {},
   "source": [
    "### Packer\n",
    "\n",
    "\n",
    "The ``pp.pack()`` function packs geometries together into rectangular bins. If a ``max_size`` is specified, the function will create as many bins as is necessary to pack all the geometries and then return a list of the filled-bin Devices.\n",
    "\n",
    "Here we generate several random shapes then pack them together automatically. We allow the bin to be as large as needed to fit all the Devices by specifying ``max_size = (None, None)``.  By setting ``aspect_ratio = (2,1)``, we specify the rectangular bin it tries to pack them into should be twice as wide as it is tall:"
   ]
  },
  {
   "cell_type": "code",
   "execution_count": null,
   "metadata": {},
   "outputs": [],
   "source": [
    "import numpy as np\n",
    "import pp\n",
    "\n",
    "np.random.seed(5)\n",
    "D_list = [pp.components.ellipse(radii = tuple(np.random.rand(2)*n+2)) for n in range(50)]\n",
    "D_list += [pp.components.rectangle(size = tuple(np.random.rand(2)*n+2)) for n in range(50)]\n",
    "\n",
    "D_packed_list = pp.pack(\n",
    "        D_list,                 # Must be a list or tuple of Devices\n",
    "        spacing = 1.25,         # Minimum distance between adjacent shapes\n",
    "        aspect_ratio = (2,1),   # (width, height) ratio of the rectangular bin\n",
    "        max_size = (None,None), # Limits the size into which the shapes will be packed\n",
    "        density = 1.05,         # Values closer to 1 pack tighter but require more computation\n",
    "        sort_by_area = True,    # Pre-sorts the shapes by area\n",
    "        )\n",
    "D = D_packed_list[0] # Only one bin was created, so we plot that\n",
    "D"
   ]
  },
  {
   "cell_type": "markdown",
   "metadata": {},
   "source": [
    "Say we need to pack many shapes into multiple 500x500 unit die. If we set ``max_size = (500,500)`` the shapes will be packed into as many 500x500 unit die as required to fit them all:"
   ]
  },
  {
   "cell_type": "code",
   "execution_count": null,
   "metadata": {},
   "outputs": [],
   "source": [
    "np.random.seed(1)\n",
    "D_list = [pp.components.ellipse(radii = tuple(np.random.rand(2)*n+2)) for n in range(120)]\n",
    "D_list += [pp.components.rectangle(size = tuple(np.random.rand(2)*n+2)) for n in range(120)]\n",
    "\n",
    "D_packed_list = pp.pack(\n",
    "        D_list,                 # Must be a list or tuple of Devices\n",
    "        spacing = 4,         # Minimum distance between adjacent shapes\n",
    "        aspect_ratio = (1,1),   # Shape of the box\n",
    "        max_size = (500,500),   # Limits the size into which the shapes will be packed\n",
    "        density = 1.05,         # Values closer to 1 pack tighter but require more computation\n",
    "        sort_by_area = True,    # Pre-sorts the shapes by area\n",
    "        )\n",
    "\n",
    "# Put all packed bins into a single device and spread them out with distribute()\n",
    "F = pp.Component()\n",
    "[F.add_ref(D) for D in D_packed_list]\n",
    "F.distribute(elements = 'all', direction = 'x', spacing = 100, separation = True)\n",
    "F"
   ]
  },
  {
   "cell_type": "markdown",
   "metadata": {},
   "source": [
    "Note that the packing problem is an NP-complete problem, so ``pp.components.packer()`` may be slow if there are more than a few hundred Devices to pack (in that case, try pre-packing a few dozen at a time then packing the resulting bins). Requires the ``rectpack`` python package."
   ]
  },
  {
   "cell_type": "markdown",
   "metadata": {},
   "source": [
    "### Distribute\n",
    "\n",
    "\n",
    "The ``distribute()`` function allows you to space out elements within a Device evenly in the x or y direction.  It is meant to duplicate the distribute functionality present in Inkscape / Adobe Illustrator:"
   ]
  },
  {
   "cell_type": "markdown",
   "metadata": {},
   "source": [
    "![](images/inkscape_distribute.png)"
   ]
  },
  {
   "cell_type": "markdown",
   "metadata": {},
   "source": [
    "Say we start out with a few random-sized rectangles we want to space out:"
   ]
  },
  {
   "cell_type": "code",
   "execution_count": null,
   "metadata": {},
   "outputs": [],
   "source": [
    "c = pp.Component()\n",
    "# Create different-sized rectangles and add them to D\n",
    "[c.add_ref(pp.components.rectangle(size = [n*15+20,n*15+20]).move((n,n*4))) for n in [0,2,3,1,2]]\n",
    "c"
   ]
  },
  {
   "cell_type": "markdown",
   "metadata": {},
   "source": [
    "Oftentimes, we want to guarantee some distance between the objects.  By setting ``separation = True`` we move each object such that there is ``spacing`` distance between them:"
   ]
  },
  {
   "cell_type": "code",
   "execution_count": null,
   "metadata": {},
   "outputs": [],
   "source": [
    "D = pp.Component()\n",
    "# Create different-sized rectangles and add them to D\n",
    "[D.add_ref(pp.components.rectangle(size = [n*15+20,n*15+20]).move((n,n*4))) for n in [0,2,3,1,2]]\n",
    "# Distribute all the rectangles in D along the x-direction with a separation of 5\n",
    "D.distribute(elements = 'all',   # either 'all' or a list of objects\n",
    "             direction = 'x',    # 'x' or 'y'\n",
    "             spacing = 5,\n",
    "             separation = True)\n",
    "D"
   ]
  },
  {
   "cell_type": "markdown",
   "metadata": {},
   "source": [
    "Alternatively, we can spread them out on a fixed grid by setting ``separation = False``. Here we align the left edge (``edge = 'min'``) of each object along a grid spacing of 100:"
   ]
  },
  {
   "cell_type": "code",
   "execution_count": null,
   "metadata": {},
   "outputs": [],
   "source": [
    "D = pp.Component()\n",
    "[D.add_ref(pp.components.rectangle(size = [n*15+20,n*15+20]).move((n,n*4))) for n in [0,2,3,1,2]]\n",
    "D.distribute(elements = 'all', direction = 'x', spacing = 100, separation = False,\n",
    "             edge = 'xmin') # edge must be either 'xmin' (left), 'xmax' (right), or 'x' (center)\n",
    "D"
   ]
  },
  {
   "cell_type": "markdown",
   "metadata": {},
   "source": [
    "The alignment can be done along the right edge as well by setting ``edge = 'max'``, or along the center by setting ``edge = 'center'`` like in the following:"
   ]
  },
  {
   "cell_type": "code",
   "execution_count": null,
   "metadata": {},
   "outputs": [],
   "source": [
    "D = pp.Component()\n",
    "[D.add_ref(pp.components.rectangle(size = [n*15+20,n*15+20]).move((n-10,n*4))) for n in [0,2,3,1,2]]\n",
    "D.distribute(elements = 'all', direction = 'x', spacing = 100, separation = False,\n",
    "             edge = 'x') # edge must be either 'xmin' (left), 'xmax' (right), or 'x' (center)\n",
    "D"
   ]
  },
  {
   "cell_type": "markdown",
   "metadata": {},
   "source": [
    "### Align\n",
    "\n",
    "\n",
    "The ``align()`` function allows you to elements within a Device horizontally or vertically.  It is meant to duplicate the alignment functionality present in Inkscape / Adobe Illustrator:"
   ]
  },
  {
   "cell_type": "markdown",
   "metadata": {},
   "source": [
    "![](images/inkscape_align.png)"
   ]
  },
  {
   "cell_type": "markdown",
   "metadata": {},
   "source": [
    "Say we ``distribute()`` a few objects, but they're all misaligned:"
   ]
  },
  {
   "cell_type": "code",
   "execution_count": null,
   "metadata": {},
   "outputs": [],
   "source": [
    "D = pp.Component()\n",
    "# Create different-sized rectangles and add them to D then distribute them\n",
    "[D.add_ref(pp.components.rectangle(size = [n*15+20,n*15+20]).move((n,n*4))) for n in [0,2,3,1,2]]\n",
    "D.distribute(elements = 'all', direction = 'x', spacing = 5, separation = True)\n",
    "D"
   ]
  },
  {
   "cell_type": "markdown",
   "metadata": {},
   "source": [
    "we can use the ``align()`` function to align their top edges (``alignment = 'ymax'):"
   ]
  },
  {
   "cell_type": "code",
   "execution_count": null,
   "metadata": {},
   "outputs": [],
   "source": [
    "D = pp.Component()\n",
    "# Create different-sized rectangles and add them to D then distribute them\n",
    "[D.add_ref(pp.components.rectangle(size = [n*15+20,n*15+20]).move((n,n*4))) for n in [0,2,3,1,2]]\n",
    "D.distribute(elements = 'all', direction = 'x', spacing = 5, separation = True)\n",
    "\n",
    "# Align top edges\n",
    "D.align(elements = 'all', alignment = 'ymax')\n",
    "D"
   ]
  },
  {
   "cell_type": "markdown",
   "metadata": {},
   "source": [
    "or align their centers (``alignment = 'y'):"
   ]
  },
  {
   "cell_type": "code",
   "execution_count": null,
   "metadata": {},
   "outputs": [],
   "source": [
    "D = pp.Component()\n",
    "# Create different-sized rectangles and add them to D then distribute them\n",
    "[D.add_ref(pp.components.rectangle(size = [n*15+20,n*15+20]).move((n,n*4))) for n in [0,2,3,1,2]]\n",
    "D.distribute(elements = 'all', direction = 'x', spacing = 5, separation = True)\n",
    "\n",
    "# Align top edges\n",
    "D.align(elements = 'all', alignment = 'y')\n",
    "D"
   ]
  },
  {
   "cell_type": "markdown",
   "metadata": {},
   "source": [
    "other valid alignment options include ``'xmin', 'x', 'xmax', 'ymin', 'y', and 'ymax'``"
   ]
  },
  {
   "cell_type": "markdown",
   "metadata": {},
   "source": [
    "## Boolean / outline / offset / invert\n",
    "There are several common boolean-type operations available in the geometry library.  These include typical boolean operations (and/or/not/xor), offsetting (expanding/shrinking polygons), outlining, and inverting."
   ]
  },
  {
   "cell_type": "markdown",
   "metadata": {},
   "source": [
    "### Boolean\n",
    "\n",
    "\n",
    "The ``pp.boolean()`` function can perform AND/OR/NOT/XOR operations, and will return a new geometry with the result of that operation.\n",
    "\n",
    "Speedup note: The ``num_divisions`` argument can be used to divide up the geometry into multiple rectangular regions and process each region sequentially (which is more computationally efficient).  If you have a large geometry that takes a long time to process, try using ``num_divisions = [10,10]`` to optimize the operation."
   ]
  },
  {
   "cell_type": "code",
   "execution_count": null,
   "metadata": {},
   "outputs": [],
   "source": [
    "E = pp.components.ellipse(radii = (10,5), layer = (1,0))\n",
    "R = pp.components.rectangle(size = [15,5], layer = (2,0)).movey(-1.5)\n",
    "C = pp.boolean(A = E, B = R, operation = 'not', precision = 1e-6,\n",
    "               num_divisions = [1,1], layer = 0)\n",
    "# Other operations include 'and', 'or', 'xor', or equivalently 'A-B', 'B-A', 'A+B'\n",
    "\n",
    "# Plot the originals and the result\n",
    "D = pp.Component()\n",
    "D.add_ref(E)\n",
    "D.add_ref(R)\n",
    "D.add_ref(C).movex(30)\n",
    "D"
   ]
  },
  {
   "cell_type": "markdown",
   "metadata": {},
   "source": [
    "### Offset\n",
    "\n",
    "The ``pp.offset()`` function takes the polygons of the input geometry, combines them together, and expands/contracts them.  The function returns polygons on a single layer -- it does not respect layers.\n",
    "\n",
    "Speedup note: The ``num_divisions`` argument can be used to divide up the geometry into multiple rectangular regions and process each region sequentially (which is more computationally efficient).  If you have a large geometry that takes a long time to process, try using ``num_divisions = [10,10]`` to optimize the operation."
   ]
  },
  {
   "cell_type": "code",
   "execution_count": null,
   "metadata": {},
   "outputs": [],
   "source": [
    "import pp\n",
    "\n",
    "# Create `T`, an ellipse and rectangle which will be offset (expanded / contracted)\n",
    "T = pp.Component('ellipse_and_rectangle')\n",
    "e = T << pp.components.ellipse(radii = (10,5), layer = (1,0))\n",
    "r = T << pp.components.rectangle(size = [15,5], layer = (2,0))\n",
    "r.move([3,-2.5])\n",
    "\n",
    "Texpanded = pp.offset(T, distance = 2, join_first = True, precision = 1e-6, \n",
    "        num_divisions = [1,1], layer = (0,0))\n",
    "Texpanded.name = 'expanded'\n",
    "Tshrink = pp.offset(T, distance = -1.5, join_first = True, precision = 1e-6, \n",
    "        num_divisions = [1,1], layer = (0,0))\n",
    "Tshrink.name = 'shrink'\n",
    "\n",
    "# Plot the original geometry, the expanded, and the shrunk versions\n",
    "D = pp.Component('top')\n",
    "t1 = D.add_ref(T)\n",
    "t2 = D.add_ref(Texpanded)\n",
    "t3 = D.add_ref(Tshrink)\n",
    "D.distribute([t1,t2,t3], direction = 'x', spacing = 5)\n",
    "D"
   ]
  },
  {
   "cell_type": "markdown",
   "metadata": {},
   "source": [
    "### Outline\n",
    "\n",
    "The ``pp.components.outline()`` function takes the polygons of the input geometry then performs an offset and \"not\" boolean operation to create an outline.  The function returns polygons on a single layer -- it does not respect layers.\n",
    "\n",
    "Speedup note: The ``num_divisions`` argument can be used to divide up the geometry into multiple rectangular regions and process each region sequentially (which is more computationally efficient).  If you have a large geometry that takes a long time to process, try using ``num_divisions = [10,10]`` to optimize the operation."
   ]
  },
  {
   "cell_type": "code",
   "execution_count": null,
   "metadata": {},
   "outputs": [],
   "source": [
    "import phidl.geometry as pg\n",
    "\n",
    "# Create a blank device and add two shapes\n",
    "X = pp.Component()\n",
    "X.add_ref(pp.components.cross(length = 25, width = 1, layer = (1,0)))\n",
    "X.add_ref(pp.components.ellipse(radii = [10,5], layer = (2,0)))\n",
    "\n",
    "O = pg.outline(X, distance = 1.5, precision = 1e-6, layer = (0, 0))\n",
    "\n",
    "# Plot the original geometry and the result\n",
    "D = pp.Component()\n",
    "D.add_ref(X)\n",
    "D.add_ref(O).movex(30)\n",
    "D"
   ]
  },
  {
   "cell_type": "markdown",
   "metadata": {},
   "source": [
    "The ``open_ports`` argument opens holes in the outlined geometry at each Port location. If not False, holes will be cut in the outline such that the Ports are not covered. If True, the holes will have the same width as the Ports. If a float, the holes will be widened by that value. If a float equal to the outline ``distance``, the outline will be flush with the port (useful positive-tone processes)."
   ]
  },
  {
   "cell_type": "code",
   "execution_count": null,
   "metadata": {},
   "outputs": [],
   "source": [
    "# Create a geometry with ports\n",
    "D = pp.components.L(width = 7, size = (10,20), layer = (1,0))\n",
    "\n",
    "# Outline the geometry and open a hole at each port\n",
    "N = pg.outline(D, distance = 5, open_ports = False) # No holes\n",
    "O = pg.outline(D, distance = 5, open_ports = True)  # Hole is the same width as the port\n",
    "P = pg.outline(D, distance = 5, open_ports = 2.9)  # Change the hole size by entering a float\n",
    "Q = pg.outline(D, distance = 5, open_ports = 5)     # Creates flush opening (open_ports > distance)\n",
    "\n",
    "# Plot the original geometry and the results\n",
    "(D+N+O+P+Q).distribute(spacing = 10)\n",
    "pp.plot([D,N,O,P,Q])"
   ]
  },
  {
   "cell_type": "markdown",
   "metadata": {},
   "source": [
    "### Invert\n",
    "\n",
    "The ``pg.invert()`` function creates an inverted version of the input geometry.  The function creates a rectangle around the geometry (with extra padding of distance ``border``), then subtract all polygons from all layers from that rectangle, resulting in an inverted version of the geometry.\n",
    "\n",
    "Speedup note: The ``num_divisions`` argument can be used to divide up the geometry into multiple rectangular regions and process each region sequentially (which is more computationally efficient).  If you have a large geometry that takes a long time to process, try using ``num_divisions = [10,10]`` to optimize the operation."
   ]
  },
  {
   "cell_type": "code",
   "execution_count": null,
   "metadata": {},
   "outputs": [],
   "source": [
    "import phidl.geometry as pg\n",
    "\n",
    "E = pp.components.ellipse(radii = (10,5))\n",
    "D = pg.invert(E, border = 0.5, precision = 1e-6, layer = (0,0))\n",
    "pp.plot(D)"
   ]
  },
  {
   "cell_type": "markdown",
   "metadata": {},
   "source": [
    "### Union\n",
    "\n",
    "The ``pg.union()`` function is a \"join\" function, and is functionally identical to the \"OR\" operation of ``pp.boolean()``.  The one difference is it's able to perform this function layer-wise, so each layer can be individually combined."
   ]
  },
  {
   "cell_type": "code",
   "execution_count": null,
   "metadata": {},
   "outputs": [],
   "source": [
    "import pp\n",
    "import phidl.geometry as pg\n",
    "from phidl import quickplot as plot\n",
    "\n",
    "D = pp.Component()\n",
    "D << pp.components.ellipse(layer = (0,0))\n",
    "D << pp.components.ellipse(layer = (0,0)).rotate(15*1)\n",
    "D << pp.components.ellipse(layer = (0,0)).rotate(15*2)\n",
    "D << pp.components.ellipse(layer = (0,0)).rotate(15*3)\n",
    "D << pp.components.ellipse(layer = (1,0)).rotate(15*4)\n",
    "D << pp.components.ellipse(layer = (1,0)).rotate(15*5)\n",
    "\n",
    "# We have two options to unioning - take all polygons, regardless of \n",
    "# layer, and join them together (in this case on layer 4) like so:\n",
    "D_joined = pg.union(D, by_layer = False, layer = 4)\n",
    "\n",
    "# Or we can perform the union operate by-layer\n",
    "D_joined_by_layer = pg.union(D, by_layer = True)\n",
    "\n",
    "# Space out shapes\n",
    "D.add_ref(D_joined).movex(25)\n",
    "D.add_ref(D_joined_by_layer).movex(50)\n",
    "D"
   ]
  },
  {
   "cell_type": "markdown",
   "metadata": {},
   "source": [
    "### XOR / diff\n",
    "\n",
    "The ``pg.xor_diff()`` function can be used to compare two geometries and identify where they are different.  Specifically, it performs a layer-wise XOR operation.  If two geometries are identical, the result will be an empty Device.  If they are not identical, any areas not shared by the two geometries will remain."
   ]
  },
  {
   "cell_type": "code",
   "execution_count": null,
   "metadata": {},
   "outputs": [],
   "source": [
    "import phidl.geometry as pg\n",
    "\n",
    "A = pp.Component()\n",
    "A.add_ref(pp.components.ellipse(radii = [10,5], layer = (1,0)))\n",
    "A.add_ref(pp.components.text('A')).move([3,0])\n",
    "B = pp.Component()\n",
    "B.add_ref(pp.components.ellipse(radii = [11,4], layer = (1,0)).movex(4))\n",
    "B.add_ref(pp.components.text('B')).move([3.2,0])\n",
    "X = pg.xor_diff(A = A, B = B, precision = 1e-6)\n",
    "\n",
    "# Plot the original geometry and the result\n",
    "# Upper left: A / Upper right: B\n",
    "# Lower left: A and B / Lower right: A xor B \"diff\" comparison\n",
    "D = pp.Component()\n",
    "D.add_ref(A).move([-15,25])\n",
    "D.add_ref(B).move([15,25])\n",
    "D.add_ref(A).movex(-15)\n",
    "D.add_ref(B).movex(-15)\n",
    "D.add_ref(X).movex(15)\n",
    "D"
   ]
  },
  {
   "cell_type": "markdown",
   "metadata": {},
   "source": [
    "## Lithography structures\n",
    "\n",
    "### Step-resolution\n",
    "\n",
    "The `pp.components.litho_steps()` function creates lithographic test structure that is useful for measuring resolution of photoresist or electron-beam resists.  It provides both positive-tone and negative-tone resolution tests."
   ]
  },
  {
   "cell_type": "code",
   "execution_count": null,
   "metadata": {},
   "outputs": [],
   "source": [
    "D = pp.components.litho_steps(\n",
    "        line_widths = [1,2,4,8,16],\n",
    "        line_spacing = 10,\n",
    "        height = 100,\n",
    "        layer = (1,0)\n",
    "        )\n",
    "D"
   ]
  },
  {
   "cell_type": "markdown",
   "metadata": {},
   "source": [
    "### Calipers (inter-layer alignment)"
   ]
  },
  {
   "cell_type": "markdown",
   "metadata": {},
   "source": [
    "The `pp.components.litho_calipers()` function is used to detect offsets in multilayer fabrication.  It creates a two sets of notches on different layers.  When an fabrication error/offset occurs, it is easy to detect how much the offset is because both center-notches are no longer aligned."
   ]
  },
  {
   "cell_type": "code",
   "execution_count": null,
   "metadata": {},
   "outputs": [],
   "source": [
    "D = pp.components.litho_calipers(\n",
    "        notch_size = [1,5],\n",
    "        notch_spacing = 2,\n",
    "        num_notches = 7,\n",
    "        offset_per_notch = 0.1,\n",
    "        row_spacing = 0,\n",
    "        layer1 = (1,0),\n",
    "        layer2 = (2,0))\n",
    "D"
   ]
  },
  {
   "cell_type": "markdown",
   "metadata": {},
   "source": [
    "## Paths / straights\n",
    "\n",
    "See the **Path tutorial** for more details -- this is just an enumeration of the available built-in Path functions"
   ]
  },
  {
   "cell_type": "markdown",
   "metadata": {},
   "source": [
    "### Circular arc"
   ]
  },
  {
   "cell_type": "code",
   "execution_count": null,
   "metadata": {},
   "outputs": [],
   "source": [
    "P = pp.path.arc(radius = 10, angle = 135, npoints = 720)\n",
    "pp.plot(P)"
   ]
  },
  {
   "cell_type": "markdown",
   "metadata": {},
   "source": [
    "### Straight"
   ]
  },
  {
   "cell_type": "code",
   "execution_count": null,
   "metadata": {},
   "outputs": [],
   "source": [
    "import pp\n",
    "P = pp.path.straight(length = 5, npoints = 100)\n",
    "pp.plot(P)"
   ]
  },
  {
   "cell_type": "markdown",
   "metadata": {},
   "source": [
    "### Euler curve\n",
    "\n",
    "Also known as a straight-to-bend, clothoid, racetrack, or track transition, this Path tapers adiabatically from straight to curved.  Often used to minimize losses in photonic straights.  If `p < 1.0`, will create a \"partial euler\" curve as described in Vogelbacher et. al. https://dx.doi.org/10.1364/oe.27.031394.  If the `use_eff` argument is false, `radius` corresponds to minimum radius of curvature of the bend.  If `use_eff`  is true, `radius` corresponds to the \"effective\" radius of the bend-- The curve will be scaled such that the endpoints match an arc with parameters `radius` and `angle`."
   ]
  },
  {
   "cell_type": "code",
   "execution_count": null,
   "metadata": {},
   "outputs": [],
   "source": [
    "P = pp.path.euler(radius = 3, angle = 90, p = 1.0, use_eff = False, npoints = 720)\n",
    "pp.plot(P)"
   ]
  },
  {
   "cell_type": "code",
   "execution_count": null,
   "metadata": {},
   "outputs": [],
   "source": [
    "P"
   ]
  },
  {
   "cell_type": "markdown",
   "metadata": {},
   "source": [
    "### Smooth path from waypoints"
   ]
  },
  {
   "cell_type": "code",
   "execution_count": null,
   "metadata": {},
   "outputs": [],
   "source": [
    "import numpy as np\n",
    "import pp\n",
    "\n",
    "points = np.array([(20,10), (40,10), (20,40), (50,40), (50,20), (70,20)])\n",
    "\n",
    "P = pp.path.smooth(\n",
    "    points = points, \n",
    "    radius = 2,\n",
    "    bend_path_function = pp.path.euler,\n",
    "    use_eff = False,\n",
    "    )\n",
    "pp.plot(P)"
   ]
  },
  {
   "cell_type": "markdown",
   "metadata": {},
   "source": [
    "### Delay spiral"
   ]
  },
  {
   "cell_type": "code",
   "execution_count": null,
   "metadata": {},
   "outputs": [],
   "source": [
    "pp.components.spiral()"
   ]
  },
  {
   "cell_type": "markdown",
   "metadata": {},
   "source": [
    "## Importing GDS files"
   ]
  },
  {
   "cell_type": "markdown",
   "metadata": {},
   "source": [
    "`pp.import_gds()` allows you to easily import external GDSII files.  It imports a single cell from the external GDS file and converts it into a gdsfactory component."
   ]
  },
  {
   "cell_type": "code",
   "execution_count": null,
   "metadata": {},
   "outputs": [],
   "source": [
    "D = pp.components.ellipse()\n",
    "D.write_gds('myoutput.gds')\n",
    "D = pp.import_gds(gdspath = 'myoutput.gds', cellname = None, flatten = False)\n",
    "D"
   ]
  },
  {
   "cell_type": "markdown",
   "metadata": {},
   "source": [
    "## LayerSet\n",
    "\n",
    "The `LayerSet` class allows you to predefine a collection of layers and specify their properties including: gds layer/datatype, name, and color.  It also comes with a handy preview function called `pp.layers.preview_layerset()`"
   ]
  },
  {
   "cell_type": "code",
   "execution_count": null,
   "metadata": {},
   "outputs": [],
   "source": [
    "import pp\n",
    "\n",
    "lys = pp.layers.LayerSet()\n",
    "lys.add_layer('p', color = 'lightblue', gds_layer = 1, gds_datatype = 0)\n",
    "lys.add_layer('p+', color = 'blue', gds_layer = 2, gds_datatype = 0)\n",
    "lys.add_layer('p++', color = 'darkblue', gds_layer = 3, gds_datatype = 0)\n",
    "lys.add_layer('n', color = 'lightgreen', gds_layer = 4, gds_datatype = 0)\n",
    "lys.add_layer('n+', color = 'green', gds_layer = 4, gds_datatype = 98)\n",
    "lys.add_layer('n++', color = 'darkgreen', gds_layer = 5, gds_datatype = 99)\n",
    "D = pp.layers.preview_layerset(lys, size = 100, spacing = 100)\n",
    "D"
   ]
  },
  {
   "cell_type": "markdown",
   "metadata": {},
   "source": [
    "## Useful contact pads / connectors\n",
    "\n",
    "These functions are common shapes with ports, often used to make contact pads"
   ]
  },
  {
   "cell_type": "code",
   "execution_count": null,
   "metadata": {},
   "outputs": [],
   "source": [
    "D = pp.components.compass(size = (4,2), layer = (1,0))\n",
    "D"
   ]
  },
  {
   "cell_type": "code",
   "execution_count": null,
   "metadata": {},
   "outputs": [],
   "source": [
    "import phidl.geometry as pg\n",
    "from phidl import quickplot as plot\n",
    "\n",
    "D = pg.compass_multi(size = (4,2), ports = {'N':3,'S':4}, layer = (1,0))\n",
    "plot(D) # quickplot the geometry"
   ]
  },
  {
   "cell_type": "code",
   "execution_count": null,
   "metadata": {},
   "outputs": [],
   "source": [
    "import phidl.geometry as pg\n",
    "from phidl import quickplot as plot\n",
    "\n",
    "D = pg.flagpole(size = (50,25), stub_size = (4,8), shape = 'p', taper_type = 'fillet', layer = (1,0))\n",
    "# taper_type should be None, 'fillet', or 'straight'\n",
    "\n",
    "plot(D) # quickplot the geometry"
   ]
  },
  {
   "cell_type": "code",
   "execution_count": null,
   "metadata": {},
   "outputs": [],
   "source": [
    "import phidl.geometry as pg\n",
    "from phidl import quickplot as plot\n",
    "\n",
    "D = pg.straight(size = (4,2), layer = (1,0))\n",
    "plot(D) # quickplot the geometry"
   ]
  },
  {
   "cell_type": "code",
   "execution_count": null,
   "metadata": {},
   "outputs": [],
   "source": [
    "import phidl.geometry as pg\n",
    "from phidl import quickplot as plot\n",
    "\n",
    "D = pg.connector(midpoint = (0,0), width = 1, orientation = 0)\n",
    "plot(D) # quickplot the geometry"
   ]
  },
  {
   "cell_type": "code",
   "execution_count": null,
   "metadata": {},
   "outputs": [],
   "source": [
    "import phidl.geometry as pg\n",
    "from phidl import quickplot as plot\n",
    "\n",
    "D = pg.tee(size = (8,4), stub_size = (1,2), taper_type = 'fillet', layer = (1,0))\n",
    "# taper_type should be None, 'fillet', or 'straight'\n",
    "plot(D)"
   ]
  },
  {
   "cell_type": "markdown",
   "metadata": {},
   "source": [
    "## Chip / die template"
   ]
  },
  {
   "cell_type": "code",
   "execution_count": null,
   "metadata": {},
   "outputs": [],
   "source": [
    "import phidl.geometry as pg\n",
    "from phidl import quickplot as plot\n",
    "\n",
    "D = pg.basic_die(\n",
    "              size = (10000, 5000), # Size of die\n",
    "              street_width = 100,   # Width of corner marks for die-sawing\n",
    "              street_length = 1000, # Length of corner marks for die-sawing\n",
    "              die_name = 'chip99',  # Label text\n",
    "              text_size = 500,      # Label text size\n",
    "              text_location = 'SW', # Label text compass location e.g. 'S', 'SE', 'SW'\n",
    "              layer = 0,\n",
    "              draw_bbox = False,\n",
    "              bbox_layer = 99,\n",
    "              )\n",
    "plot(D) # quickplot the geometry"
   ]
  },
  {
   "cell_type": "markdown",
   "metadata": {},
   "source": [
    "## Optimal superconducting curves\n",
    "The following structures are meant to reduce \"current crowding\" in superconducting thin-film structures (such as superconducting nanowires).  They are the result of conformal mapping equations derived in  Clem, J. & Berggren, K. \"[Geometry-dependent critical currents in superconducting nanocircuits.\" Phys. Rev. B 84, 1–27 (2011).](http://dx.doi.org/10.1103/PhysRevB.84.174510)"
   ]
  },
  {
   "cell_type": "code",
   "execution_count": null,
   "metadata": {},
   "outputs": [],
   "source": [
    "import phidl.geometry as pg\n",
    "from phidl import quickplot as plot\n",
    "\n",
    "D = pg.optimal_hairpin(width = 0.2, pitch = 0.6, length = 10,\n",
    "    turn_ratio = 4, num_pts = 50, layer = 0)\n",
    "plot(D) # quickplot the geometry"
   ]
  },
  {
   "cell_type": "code",
   "execution_count": null,
   "metadata": {},
   "outputs": [],
   "source": [
    "import phidl.geometry as pg\n",
    "from phidl import quickplot as plot\n",
    "\n",
    "D = pg.optimal_step(start_width = 10, end_width = 22, num_pts = 50, width_tol = 1e-3,\n",
    "                 anticrowding_factor = 1.2, symmetric = False, layer = 0)\n",
    "plot(D) # quickplot the geometry"
   ]
  },
  {
   "cell_type": "code",
   "execution_count": null,
   "metadata": {},
   "outputs": [],
   "source": [
    "import phidl.geometry as pg\n",
    "from phidl import quickplot as plot\n",
    "\n",
    "D = pg.optimal_90deg(width = 100.0, num_pts = 15, length_adjust = 1, layer = 0)\n",
    "plot(D) # quickplot the geometry"
   ]
  },
  {
   "cell_type": "code",
   "execution_count": null,
   "metadata": {},
   "outputs": [],
   "source": [
    "import phidl.geometry as pg\n",
    "from phidl import quickplot as plot\n",
    "\n",
    "D = pg.snspd(wire_width = 0.2, wire_pitch = 0.6, size = (10,8),\n",
    "        num_squares = None, turn_ratio = 4,\n",
    "        terminals_same_side = False, layer = 0)\n",
    "plot(D) # quickplot the geometry"
   ]
  },
  {
   "cell_type": "code",
   "execution_count": null,
   "metadata": {},
   "outputs": [],
   "source": [
    "D = pg.snspd_expanded(wire_width = 0.3, wire_pitch = 0.6, size = (10,8),\n",
    "           num_squares = None, connector_width = 1, connector_symmetric = False,\n",
    "            turn_ratio = 4, terminals_same_side = False, layer = 0)\n",
    "plot(D) # quickplot the geometry"
   ]
  },
  {
   "cell_type": "markdown",
   "metadata": {},
   "source": [
    "## Copying and extracting geometry"
   ]
  },
  {
   "cell_type": "code",
   "execution_count": null,
   "metadata": {},
   "outputs": [],
   "source": [
    "E = pp.Component()\n",
    "E.add_ref(pp.components.ellipse(layer = (1,0)))\n",
    "#X = pp.components.ellipse(layer = {0,1})\n",
    "D = pg.extract(E, layers = [(1,0)])\n",
    "plot(D) # quickplot the geometry"
   ]
  },
  {
   "cell_type": "code",
   "execution_count": null,
   "metadata": {},
   "outputs": [],
   "source": [
    "import pp\n",
    "X = pp.components.ellipse(layer=(2,0))\n",
    "c = pp.copy(X)\n",
    "c"
   ]
  },
  {
   "cell_type": "code",
   "execution_count": null,
   "metadata": {},
   "outputs": [],
   "source": []
  }
 ],
 "metadata": {
  "kernelspec": {
   "display_name": "Python 3 (ipykernel)",
   "language": "python",
   "name": "python3"
  },
  "language_info": {
   "codemirror_mode": {
    "name": "ipython",
    "version": 3
   },
   "file_extension": ".py",
   "mimetype": "text/x-python",
   "name": "python",
   "nbconvert_exporter": "python",
   "pygments_lexer": "ipython3",
   "version": "3.8.5"
  }
 },
 "nbformat": 4,
 "nbformat_minor": 4
}
