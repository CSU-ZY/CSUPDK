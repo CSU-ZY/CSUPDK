{
 "cells": [
  {
   "cell_type": "markdown",
   "metadata": {},
   "source": [
    "# Gdsfactory tutorial\n",
    "\n",
    "Lets demonstrate some basic functionality of gdsfactory. For a much more detailed tutorial go to `pp/samples`\n",
    "\n",
    "[based on phidl tutorial](https://github.com/amccaugh/phidl/blob/master/phidl/phidl_tutorial_example.py#L35)\n"
   ]
  },
  {
   "cell_type": "code",
   "execution_count": null,
   "metadata": {},
   "outputs": [],
   "source": [
    "import pp\n",
    "\n",
    "# Create a blank component (essentially an empty GDS cell with some special features)\n",
    "c = pp.Component('myComponent')\n",
    "\n",
    "# Create and add a polygon from separate lists of x points and y points\n",
    "# (Can also be added like [(x1,y1), (x2,y2), (x3,y3), ... ]\n",
    "poly1 = c.add_polygon( [(-8,6,7,9), (-6,8,17,5)], layer = 0)\n",
    "\n",
    "\n",
    "# Create some new geometry from the functions available in the geometry library\n",
    "t = pp.c.text('Hello!')\n",
    "r = pp.c.rectangle(size = [5,10], layer = 2)\n",
    "\n",
    "# Add references to the new geometry to D, our blank device\n",
    "text1 = c.add_ref(t) # Add the text we created as a reference\n",
    "text2 = c << t # Using the << operator (identical to add_ref()), add the same geometry a second time\n",
    "r = c << r # Add the rectangle we created\n",
    "\n",
    "# Now that the geometry has been added to \"D\", we can move everything around:\n",
    "text1.movey(25)\n",
    "text2.move([5,30])\n",
    "text2.rotate(45)\n",
    "r.movex(-15)\n",
    "\n",
    "pp.qp(c) # quickplot it!\n",
    "pp.show(c) # show it in klayout"
   ]
  },
  {
   "cell_type": "markdown",
   "metadata": {},
   "source": [
    "# Smarter movement with **ports**\n",
    "\n",
    "Any Component can have \"Port\"s in it which allow you to snap geometry together like legos.  Below is an example where we write a simple function to make a rectangular waveguide, assign ports to the ends of the rectangle, and then snap those rectangles together"
   ]
  },
  {
   "cell_type": "code",
   "execution_count": null,
   "metadata": {},
   "outputs": [],
   "source": [
    "\n",
    "def waveguide(width = 10, height = 1, layer = 0):\n",
    "    WG = pp.Component('waveguide')\n",
    "    WG.add_polygon( [(0, 0), (width, 0), (width, height), (0, height)], layer = layer)\n",
    "    WG.add_port(name = 'wgport1', midpoint = [0,height/2], width = height, orientation = 180)\n",
    "    WG.add_port(name = 'wgport2', midpoint = [width,height/2], width = height, orientation = 0)\n",
    "    return WG\n",
    "\n",
    "c = pp.Component('waveguides')\n",
    "\n",
    "wg1 = c << waveguide(width=6, height = 2.5, layer = 1)\n",
    "wg2 = c << waveguide(width=11, height = 2.5, layer = 2)\n",
    "wg3 = c << waveguide(width=15, height = 2.5, layer = 3)\n",
    "wg2.movey(10).rotate(10)\n",
    "wg3.movey(20).rotate(15)\n",
    "\n",
    "# And plot the result!\n",
    "pp.qp(c, new_window = True)\n",
    "pp.show(c)"
   ]
  },
  {
   "cell_type": "code",
   "execution_count": null,
   "metadata": {},
   "outputs": [],
   "source": [
    "# Now we can connect everything together using the ports:\n",
    "\n",
    "# Each waveguide has two ports: 'wgport1' and 'wgport2'.  These are arbitrary \n",
    "# names defined in our waveguide() function above\n",
    "\n",
    "# Let's keep wg1 in place on the bottom, and connect the other waveguides to it.\n",
    "# To do that, on wg2 we'll grab the \"wgport1\" port and connect it to the \"wgport2\" on wg1:\n",
    "wg2.connect('wgport1', wg1.ports['wgport2'])\n",
    "# Next, on wg3 let's grab the \"wgport1\" port and connect it to the \"wgport2\" on wg2:\n",
    "wg3.connect('wgport1', wg2.ports['wgport2'])\n",
    "\n",
    "# And plot the result!\n",
    "pp.qp(c, new_window = True)\n"
   ]
  },
  {
   "cell_type": "markdown",
   "metadata": {},
   "source": [
    "# Manipulating geometry 1 - Basic movement and rotation\n",
    "\n",
    "There are several actions we can take to move and rotate the geometry.\n",
    "\n",
    "These actions include movement, rotation, and reflection.\n"
   ]
  },
  {
   "cell_type": "code",
   "execution_count": null,
   "metadata": {},
   "outputs": [],
   "source": [
    "c = pp.Component('waveguides')\n",
    "\n",
    "wg1 = c << waveguide(width=6, height = 2.5, layer = 1)\n",
    "wg2 = c << waveguide(width=11, height = 2.5, layer = 2)\n",
    "wg3 = c << waveguide(width=15, height = 2.5, layer = 3)\n",
    "\n",
    "# Create and add a polygon from separate lists of x points and y points\n",
    "# e.g. [(x1, x2, x3, ...), (y1, y2, y3, ...)]\n",
    "poly1 = c.add_polygon( [(8,6,7,9), (6,8,9,5)] )\n",
    "\n",
    "# Alternatively, create and add a polygon from a list of points\n",
    "# e.g. [(x1,y1), (x2,y2), (x3,y3), ...] using the same function\n",
    "poly2 = c.add_polygon( [(0, 0), (1, 1), (1, 3), (-3, 3)] )\n",
    "\n",
    "\n",
    "wg1.move([10,4]) # Shift the second waveguide we created over by dx = 10, dy = 4\n",
    "wg2.move(origin = [1,1], destination = [2,2]) # Shift the second waveguide over by dx = 1, dy = 1\n",
    "wg3.move([1,1], [5,5], axis = 'y') # Shift the third waveguide over by dx = 0, dy = 4 (motion only along y-axis)\n",
    "poly1.movey(4) # Same as specifying axis='y' in the move() command\n",
    "poly2.movex(4) # Same as specifying axis='x'' in the move() command\n",
    "wg3.movex(30,40) # Moves \"from\" x=30 \"to\" x=40 (e.g. shifts wg3 by +10 in the x-direction)\n",
    "\n",
    "# wg1.rotate(45) # Rotate the first waveguide by 45 degrees around (0,0)\n",
    "# wg2.rotate(30, center = [1,1]) # Rotate the second waveguide by 30 degrees around (1,1)\n",
    "# wg1.reflect(p1 = [1,1], p2 = [1,3]) # Reflects wg3 across the line formed by p1 and p2\n",
    "\n",
    "pp.qp(c)"
   ]
  },
  {
   "cell_type": "code",
   "execution_count": null,
   "metadata": {},
   "outputs": [],
   "source": []
  }
 ],
 "metadata": {
  "kernelspec": {
   "display_name": "Python 3",
   "language": "python",
   "name": "python3"
  },
  "language_info": {
   "codemirror_mode": {
    "name": "ipython",
    "version": 3
   },
   "file_extension": ".py",
   "mimetype": "text/x-python",
   "name": "python",
   "nbconvert_exporter": "python",
   "pygments_lexer": "ipython3",
   "version": "3.7.7-final"
  }
 },
 "nbformat": 4,
 "nbformat_minor": 2
}
