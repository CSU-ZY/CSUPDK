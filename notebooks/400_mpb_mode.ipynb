{
 "cells": [
  {
   "cell_type": "code",
   "execution_count": null,
   "metadata": {},
   "outputs": [],
   "source": [
    "import numpy as np\n",
    "import matplotlib.pyplot as plt\n",
    "import gdsmp as ms"
   ]
  },
  {
   "cell_type": "markdown",
   "metadata": {},
   "source": [
    "# MPB\n",
    "\n",
    "- no lossy materials\n",
    "\n",
    "\n",
    "## converge tests\n",
    "\n",
    "converge tests, gradually increase resolution.\n",
    "\n",
    "Lumerical has PML. By default it does metalic boundary conditions.\n",
    "\n",
    "MPB has periodic boundary conditions. 2x2 is not big enough. Increase simulation region\n",
    "\n",
    "## Strip waveguide\n"
   ]
  },
  {
   "cell_type": "code",
   "execution_count": null,
   "metadata": {},
   "outputs": [],
   "source": [
    "ms.m"
   ]
  },
  {
   "cell_type": "code",
   "execution_count": null,
   "metadata": {},
   "outputs": [],
   "source": [
    "# plot TE mode (plot_mode_order=1)\n",
    "neff, ng = ms.mpb_mode(wg_width=0.5, ncore=3.55, wg_thickness=.22, plot=True, res=128)"
   ]
  },
  {
   "cell_type": "code",
   "execution_count": null,
   "metadata": {},
   "outputs": [],
   "source": [
    "neff, ng"
   ]
  },
  {
   "cell_type": "code",
   "execution_count": null,
   "metadata": {},
   "outputs": [],
   "source": [
    "# plot TM mode\n",
    "neff, ng = ms.mpb_mode(wg_width=0.5, ncore=3.55, wg_thickness=.22, plot=True, res=10, plot_mode_number=2)"
   ]
  },
  {
   "cell_type": "code",
   "execution_count": null,
   "metadata": {
    "jupyter": {
     "outputs_hidden": true
    }
   },
   "outputs": [],
   "source": [
    "# Sweep waveguide width for TE mode 1\n",
    "wg_widths = np.arange(200, 2000, 200)*1e-3\n",
    "n = [ ms.mpb_mode(wg_width=wg_width, ncore=3.55, wg_thickness=.22, plot=False) for wg_width in wg_widths]"
   ]
  },
  {
   "cell_type": "code",
   "execution_count": null,
   "metadata": {},
   "outputs": [],
   "source": [
    "neffs = [ni[0] for ni in n]\n",
    "ngs = [ni[1] for ni in n]"
   ]
  },
  {
   "cell_type": "code",
   "execution_count": null,
   "metadata": {
    "jupyter": {
     "outputs_hidden": true
    }
   },
   "outputs": [],
   "source": [
    "plt.plot(wg_widths, neffs, '.-')\n",
    "plt.xlabel('wg_width')\n",
    "plt.ylabel('neff')"
   ]
  },
  {
   "cell_type": "code",
   "execution_count": null,
   "metadata": {},
   "outputs": [],
   "source": [
    "plt.plot(wg_widths, ngs)\n",
    "plt.xlabel('wg_width')\n",
    "plt.ylabel('ng')"
   ]
  },
  {
   "cell_type": "markdown",
   "metadata": {},
   "source": [
    "# Rib waveguides"
   ]
  },
  {
   "cell_type": "code",
   "execution_count": null,
   "metadata": {},
   "outputs": [],
   "source": [
    "# plot TE mode (plot_mode_order=1)\n",
    "neff, ng = ms.mpb_mode(wg_width=0.5, ncore=3.55, wg_thickness=.22, slab_thickness=90e-3, plot=True, res=128)"
   ]
  },
  {
   "cell_type": "code",
   "execution_count": null,
   "metadata": {},
   "outputs": [],
   "source": [
    "print(neff, ng)"
   ]
  },
  {
   "cell_type": "code",
   "execution_count": null,
   "metadata": {},
   "outputs": [],
   "source": []
  }
 ],
 "metadata": {
  "kernelspec": {
   "display_name": "Python 3",
   "language": "python",
   "name": "python3"
  },
  "language_info": {
   "codemirror_mode": {
    "name": "ipython",
    "version": 3
   },
   "file_extension": ".py",
   "mimetype": "text/x-python",
   "name": "python",
   "nbconvert_exporter": "python",
   "pygments_lexer": "ipython3",
   "version": "3.8.3"
  }
 },
 "nbformat": 4,
 "nbformat_minor": 4
}
