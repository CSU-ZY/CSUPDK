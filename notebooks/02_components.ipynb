{
 "cells": [
  {
   "cell_type": "markdown",
   "metadata": {},
   "source": [
    "# Components\n",
    "\n",
    "one problem is that when we add references we have to make sure they have unique\n",
    "names\n",
    "\n",
    "The photonics package `pp` has a decorator that names the objects that it\n",
    "produces depending on the parameters that we pass them"
   ]
  },
  {
   "cell_type": "code",
   "execution_count": null,
   "metadata": {},
   "outputs": [],
   "source": [
    "import pp\n",
    "\n",
    "\n",
    "@pp.autoname\n",
    "def waveguide(width=10, height=1):\n",
    "    wg = pp.Component(\"waveguide\")\n",
    "    wg.add_polygon([(0, 0), (width, 0), (width, height), (0, height)])\n",
    "    wg.add_port(name=\"W0\", midpoint=[0, height / 2], width=height, orientation=180)\n",
    "    wg.add_port(\n",
    "        name=\"E0\", midpoint=[width, height / 2], width=height, orientation=0\n",
    "    )\n",
    "    return wg\n",
    "\n",
    "\n",
    "c = waveguide()\n",
    "print(c)\n",
    "\n",
    "c = waveguide(width=0.5)\n",
    "print(c)"
   ]
  },
  {
   "cell_type": "markdown",
   "metadata": {},
   "source": [
    "# Adding port markers\n",
    "\n",
    "When we decorate with autoname we can also pass a flat `with_ports` that will\n",
    "add port markers to our component"
   ]
  },
  {
   "cell_type": "code",
   "execution_count": null,
   "metadata": {},
   "outputs": [],
   "source": [
    "c = waveguide(with_pins=True)\n",
    "pp.qp(c)\n",
    "pp.show(c)"
   ]
  },
  {
   "cell_type": "markdown",
   "metadata": {},
   "source": [
    "We can even define the `add_pins_function` that we use to add markers to each\n",
    "port"
   ]
  },
  {
   "cell_type": "code",
   "execution_count": null,
   "metadata": {},
   "outputs": [],
   "source": [
    "from pp.add_pins import add_pins_triangle\n",
    "\n",
    "c = waveguide(with_pins=True, add_pins_function=add_pins_triangle)\n",
    "pp.qp(c)\n",
    "pp.show(c)"
   ]
  },
  {
   "cell_type": "markdown",
   "metadata": {},
   "source": [
    "# Components\n",
    "\n",
    "We store our component functions inside the `pp.components` module. Each\n",
    "function there returns a Component object\n",
    "\n",
    "You can use `dir` or `help` over the `pp.c` module to see the all available\n",
    "components.\n",
    "\n",
    "Some of which are just shapes, but we call them components as they all inherit\n",
    "from the component class in `pp.Component`"
   ]
  },
  {
   "cell_type": "code",
   "execution_count": null,
   "metadata": {},
   "outputs": [],
   "source": [
    "import pp\n",
    "help(pp.c)"
   ]
  },
  {
   "cell_type": "code",
   "execution_count": null,
   "metadata": {},
   "outputs": [],
   "source": [
    "c = pp.c.mzi()\n",
    "pp.qp(c)"
   ]
  },
  {
   "cell_type": "code",
   "execution_count": null,
   "metadata": {},
   "outputs": [],
   "source": [
    "c = pp.c.ring_single_bus()\n",
    "pp.qp(c)"
   ]
  }
 ],
 "metadata": {},
 "nbformat": 4,
 "nbformat_minor": 4
}
