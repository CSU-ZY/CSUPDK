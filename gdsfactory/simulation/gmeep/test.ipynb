{
 "cells": [
  {
   "cell_type": "code",
   "execution_count": null,
   "metadata": {},
   "outputs": [],
   "source": [
    "import pathlib\n",
    "from pathlib import Path\n",
    "from typing import Dict, Optional, Tuple\n",
    "\n",
    "import matplotlib.pyplot as plt\n",
    "import meep as mp\n",
    "import numpy as np\n",
    "import pandas as pd\n",
    "import pydantic\n",
    "import re\n",
    "\n",
    "import gdsfactory as gf\n",
    "from gdsfactory.component import Component\n",
    "from gdsfactory.config import CONFIG\n",
    "from gdsfactory.simulation.get_sparameters_path import get_sparameters_path\n",
    "from gdsfactory.simulation.gmeep.get_simulation import (\n",
    "    LAYER_TO_MATERIAL,\n",
    "    LAYER_TO_THICKNESS,\n",
    "    get_simulation,\n",
    ")\n"
   ]
  },
  {
   "cell_type": "code",
   "execution_count": null,
   "metadata": {},
   "outputs": [],
   "source": [
    "c = gf.components.mmi2x2(width = 0.5,\n",
    "    width_taper = 1.0,\n",
    "    length_taper = 3,\n",
    "    length_mmi= 5.5,\n",
    "    width_mmi= 6,\n",
    "    gap_mmi= 2,\n",
    "    )\n",
    "# c = gf.add_padding(c.copy(), default=0, bottom=2, top=2, layers=[(100, 0)])\n",
    "c"
   ]
  },
  {
   "cell_type": "code",
   "execution_count": null,
   "metadata": {},
   "outputs": [],
   "source": [
    "sim_dict = get_simulation(\n",
    "    component=c,\n",
    "    port_source_name='o1',\n",
    "    port_margin=2,\n",
    "    res=20,\n",
    "    port_monitor_offset=0.1,\n",
    "    )\n",
    "sim = sim_dict['sim']"
   ]
  },
  {
   "cell_type": "code",
   "execution_count": null,
   "metadata": {},
   "outputs": [],
   "source": [
    "sim.plot2D()"
   ]
  },
  {
   "cell_type": "code",
   "execution_count": null,
   "metadata": {},
   "outputs": [],
   "source": [
    "c = gf.components.nxn(west=1, south=1, north=1, east=1, xsize=5, ysize=5)\n",
    "c"
   ]
  },
  {
   "cell_type": "code",
   "execution_count": null,
   "metadata": {},
   "outputs": [],
   "source": []
  }
 ],
 "metadata": {
  "interpreter": {
   "hash": "776bc4ff5dc02de019fb73bc749fff902678567bf79e77e4952ca586d4b6f19a"
  },
  "kernelspec": {
   "display_name": "Python 3.7.11 64-bit ('pmp_mayavi': conda)",
   "language": "python",
   "name": "python3"
  },
  "language_info": {
   "codemirror_mode": {
    "name": "ipython",
    "version": 3
   },
   "file_extension": ".py",
   "mimetype": "text/x-python",
   "name": "python",
   "nbconvert_exporter": "python",
   "pygments_lexer": "ipython3",
   "version": "3.7.11"
  }
 },
 "nbformat": 4,
 "nbformat_minor": 2
}
