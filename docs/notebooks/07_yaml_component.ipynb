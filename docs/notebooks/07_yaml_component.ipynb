{
 "cells": [
  {
   "cell_type": "markdown",
   "metadata": {},
   "source": [
    "# component_from_yaml\n",
    "\n",
    "\n",
    "We can define a place and route component by a netlist in YAML format"
   ]
  },
  {
   "cell_type": "code",
   "execution_count": null,
   "metadata": {
    "attributes": {
     "classes": [],
     "id": "",
     "n": "5"
    }
   },
   "outputs": [],
   "source": [
    "import pp\n",
    "\n",
    "yaml = \"\"\"\n",
    "instances:\n",
    "    mmi_long:\n",
    "      component: mmi1x2\n",
    "      settings:\n",
    "        width_mmi: 4.5\n",
    "        length_mmi: 10\n",
    "    mmi_short:\n",
    "      component: mmi1x2\n",
    "      settings:\n",
    "        width_mmi: 4.5\n",
    "        length_mmi: 5\n",
    "\"\"\"\n",
    "\n",
    "c = pp.component_from_yaml(yaml)\n",
    "c"
   ]
  },
  {
   "cell_type": "code",
   "execution_count": null,
   "metadata": {},
   "outputs": [],
   "source": [
    "c.instances"
   ]
  },
  {
   "cell_type": "code",
   "execution_count": null,
   "metadata": {},
   "outputs": [],
   "source": [
    "c.instances['mmi_long'].x = 100"
   ]
  },
  {
   "cell_type": "code",
   "execution_count": null,
   "metadata": {},
   "outputs": [],
   "source": [
    "c.show()\n",
    "c.plot()"
   ]
  },
  {
   "cell_type": "markdown",
   "metadata": {},
   "source": [
    "You can also do that by using `get_component_from_yaml` from the Pdk class."
   ]
  },
  {
   "cell_type": "code",
   "execution_count": null,
   "metadata": {},
   "outputs": [],
   "source": [
    "import pp\n",
    "from pp.pdk import PDK_NITRIDE_C\n",
    "\n",
    "yaml = \"\"\"\n",
    "instances:\n",
    "    mmi_long:\n",
    "      component: mmi1x2\n",
    "      settings:\n",
    "        width_mmi: 4.5\n",
    "        length_mmi: 10\n",
    "    mmi_short:\n",
    "      component: mmi1x2\n",
    "      settings:\n",
    "        width_mmi: 4.5\n",
    "        length_mmi: 5\n",
    "\"\"\"\n",
    "\n",
    "pdk = PDK_NITRIDE_C\n",
    "c = pdk.get_component_from_yaml(yaml)\n",
    "c"
   ]
  },
  {
   "cell_type": "code",
   "execution_count": null,
   "metadata": {},
   "outputs": [],
   "source": [
    "import pp\n",
    "\n",
    "yaml = \"\"\"\n",
    "instances:\n",
    "    mmi_long:\n",
    "      component: mmi1x2\n",
    "      settings:\n",
    "        width_mmi: 4.5\n",
    "        length_mmi: 5\n",
    "placements:        \n",
    "    mmi_long:\n",
    "        port: W0\n",
    "        x: 20\n",
    "        y: 10\n",
    "\"\"\"\n",
    "\n",
    "c = pp.component_from_yaml(yaml)\n",
    "c.show()\n",
    "c.plot()"
   ]
  },
  {
   "cell_type": "code",
   "execution_count": null,
   "metadata": {},
   "outputs": [],
   "source": [
    "import pp\n",
    "\n",
    "yaml = \"\"\"\n",
    "instances:\n",
    "    mmi_long:\n",
    "      component: mmi1x2\n",
    "      settings:\n",
    "        width_mmi: 4.5\n",
    "        length_mmi: 5\n",
    "placements:        \n",
    "    mmi_long:\n",
    "        port: W0\n",
    "        x: 20\n",
    "        y: 10\n",
    "        mirror: True\n",
    "\"\"\"\n",
    "\n",
    "c = pp.component_from_yaml(yaml)\n",
    "c.show()\n",
    "c.plot()"
   ]
  },
  {
   "cell_type": "code",
   "execution_count": null,
   "metadata": {},
   "outputs": [],
   "source": [
    "import pp\n",
    "\n",
    "yaml = \"\"\"\n",
    "instances:\n",
    "    mmi_long:\n",
    "      component: mmi1x2\n",
    "      settings:\n",
    "        width_mmi: 4.5\n",
    "        length_mmi: 5\n",
    "placements:        \n",
    "    mmi_long:\n",
    "        port: W0\n",
    "        x: 20\n",
    "        y: 10\n",
    "        mirror: True\n",
    "        \n",
    "ports:\n",
    "    W0: mmi_long,E0\n",
    "    W1: mmi_long,E1\n",
    "    E0: mmi_long,W0\n",
    "\"\"\"\n",
    "\n",
    "c = pp.component_from_yaml(yaml)\n",
    "c.show()\n",
    "c.plot()"
   ]
  },
  {
   "cell_type": "code",
   "execution_count": null,
   "metadata": {},
   "outputs": [],
   "source": [
    "import pp\n",
    "\n",
    "yaml = \"\"\"\n",
    "instances:\n",
    "    mmi_long:\n",
    "      component: mmi1x2\n",
    "      settings:\n",
    "        width_mmi: 4.5\n",
    "        length_mmi: 5\n",
    "placements:        \n",
    "    mmi_long:\n",
    "        x: 0\n",
    "        y: 0\n",
    "        mirror: W0\n",
    "\"\"\"\n",
    "\n",
    "c = pp.component_from_yaml(yaml)\n",
    "c.show()\n",
    "c.plot()"
   ]
  },
  {
   "cell_type": "code",
   "execution_count": null,
   "metadata": {},
   "outputs": [],
   "source": [
    "import pp\n",
    "\n",
    "yaml = \"\"\"\n",
    "instances:\n",
    "    mmi_long:\n",
    "      component: mmi1x2\n",
    "      settings:\n",
    "        width_mmi: 4.5\n",
    "        length_mmi: 5\n",
    "placements:        \n",
    "    mmi_long:\n",
    "        x: 0\n",
    "        y: 0\n",
    "        mirror: W0\n",
    "ports:\n",
    "    W0: mmi_long,E0\n",
    "    W1: mmi_long,E1\n",
    "    E0: mmi_long,W0\n",
    "\"\"\"\n",
    "\n",
    "c = pp.component_from_yaml(yaml)\n",
    "c.show()\n",
    "c.plot()"
   ]
  },
  {
   "cell_type": "code",
   "execution_count": null,
   "metadata": {},
   "outputs": [],
   "source": [
    "import pp\n",
    "\n",
    "yaml = \"\"\"\n",
    "instances:\n",
    "    mmi_long:\n",
    "      component: mmi1x2\n",
    "      settings:\n",
    "        width_mmi: 4.5\n",
    "        length_mmi: 5\n",
    "placements:        \n",
    "    mmi_long:\n",
    "        x: 0\n",
    "        y: 0\n",
    "\"\"\"\n",
    "\n",
    "c = pp.component_from_yaml(yaml)\n",
    "c.show()\n",
    "c.plot()"
   ]
  },
  {
   "cell_type": "code",
   "execution_count": null,
   "metadata": {},
   "outputs": [],
   "source": [
    "import pp\n",
    "\n",
    "yaml = \"\"\"\n",
    "instances:\n",
    "    mmi_long:\n",
    "      component: mmi1x2\n",
    "      settings:\n",
    "        width_mmi: 4.5\n",
    "        length_mmi: 5\n",
    "placements:        \n",
    "    mmi_long:\n",
    "        x: 0\n",
    "        y: 0\n",
    "        mirror: 25\n",
    "ports:\n",
    "    W0: mmi_long,E0\n",
    "    W1: mmi_long,E1\n",
    "    E0: mmi_long,W0\n",
    "\"\"\"\n",
    "\n",
    "c = pp.component_from_yaml(yaml)\n",
    "c.show()\n",
    "c.plot()"
   ]
  },
  {
   "cell_type": "code",
   "execution_count": null,
   "metadata": {},
   "outputs": [],
   "source": [
    "import pp\n",
    "\n",
    "yaml = \"\"\"\n",
    "instances:\n",
    "    mmi_long:\n",
    "      component: mmi1x2\n",
    "      settings:\n",
    "        width_mmi: 4.5\n",
    "        length_mmi: 5\n",
    "placements:        \n",
    "    mmi_long:\n",
    "        port: W0\n",
    "        x: 10\n",
    "        y: 20\n",
    "        rotation: 90\n",
    "\"\"\"\n",
    "\n",
    "c = pp.component_from_yaml(yaml)\n",
    "c.show()\n",
    "c.plot()"
   ]
  },
  {
   "cell_type": "code",
   "execution_count": null,
   "metadata": {},
   "outputs": [],
   "source": [
    "import pp\n",
    "\n",
    "yaml = \"\"\"\n",
    "instances:\n",
    "    mmi_long:\n",
    "      component: mmi1x2\n",
    "      settings:\n",
    "        width_mmi: 4.5\n",
    "        length_mmi: 5\n",
    "placements:        \n",
    "    mmi_long:\n",
    "        port: W0\n",
    "        x: 10\n",
    "        y: 20\n",
    "        rotation: 90\n",
    "ports:\n",
    "    N0: mmi_long,E0\n",
    "    N1: mmi_long,E1\n",
    "    S0: mmi_long,W0\n",
    "\"\"\"\n",
    "\n",
    "c = pp.component_from_yaml(yaml)\n",
    "c.show()\n",
    "c.plot()"
   ]
  },
  {
   "cell_type": "code",
   "execution_count": null,
   "metadata": {},
   "outputs": [],
   "source": [
    "import pp\n",
    "\n",
    "yaml = \"\"\"\n",
    "instances:\n",
    "    mmi_long:\n",
    "      component: mmi1x2\n",
    "      settings:\n",
    "        width_mmi: 4.5\n",
    "        length_mmi: 5\n",
    "placements:        \n",
    "    mmi_long:\n",
    "        x: 0\n",
    "        y: 0\n",
    "        rotation: 90\n",
    "\"\"\"\n",
    "\n",
    "c = pp.component_from_yaml(yaml)\n",
    "c.show()\n",
    "c.plot()"
   ]
  },
  {
   "cell_type": "code",
   "execution_count": null,
   "metadata": {},
   "outputs": [],
   "source": [
    "c.size_info.north"
   ]
  },
  {
   "cell_type": "code",
   "execution_count": null,
   "metadata": {},
   "outputs": [],
   "source": [
    "c.size_info.east"
   ]
  },
  {
   "cell_type": "code",
   "execution_count": null,
   "metadata": {},
   "outputs": [],
   "source": [
    "import pp\n",
    "\n",
    "yaml = \"\"\"\n",
    "instances:\n",
    "    b:\n",
    "      component: bend_circular\n",
    "    mmi_long:\n",
    "      component: mmi1x2\n",
    "      settings:\n",
    "        width_mmi: 4.5\n",
    "        length_mmi: 10\n",
    "    mmi_short:\n",
    "      component: mmi1x2\n",
    "      settings:\n",
    "        width_mmi: 4.5\n",
    "        length_mmi: 5\n",
    "placements:\n",
    "    mmi_short:\n",
    "        port: W0\n",
    "        x: 10\n",
    "        y: 20\n",
    "connections:\n",
    "    b,W0 : mmi_short,E1\n",
    "    mmi_long,W0: b, N0\n",
    "\n",
    "ports:\n",
    "    W0: mmi_short,W0\n",
    "\"\"\"\n",
    "\n",
    "\n",
    "c = pp.component_from_yaml(yaml)\n",
    "c.show()\n",
    "c.plot()"
   ]
  },
  {
   "cell_type": "code",
   "execution_count": null,
   "metadata": {},
   "outputs": [],
   "source": [
    "from omegaconf import OmegaConf\n",
    "import io"
   ]
  },
  {
   "cell_type": "code",
   "execution_count": null,
   "metadata": {},
   "outputs": [],
   "source": [
    "d = OmegaConf.load(io.StringIO(\n",
    "\"\"\"\n",
    "x: mmi_short,E0 10\n",
    "dx: 10\n",
    "\n",
    "\"\"\"\n",
    "))\n",
    "d"
   ]
  },
  {
   "cell_type": "code",
   "execution_count": null,
   "metadata": {},
   "outputs": [],
   "source": [
    "d.keys()"
   ]
  },
  {
   "cell_type": "markdown",
   "metadata": {},
   "source": [
    "## Relative port placing with respect to another instance port\n",
    "\n",
    "You can also define an x and y offset with `dx` and `dy`"
   ]
  },
  {
   "cell_type": "code",
   "execution_count": null,
   "metadata": {},
   "outputs": [],
   "source": [
    "import pp\n",
    "\n",
    "yaml = \"\"\"\n",
    "instances:\n",
    "    mmi_long:\n",
    "      component: mmi1x2\n",
    "      settings:\n",
    "        width_mmi: 4.5\n",
    "        length_mmi: 10\n",
    "    mmi_short:\n",
    "      component: mmi1x2\n",
    "      settings:\n",
    "        width_mmi: 4.5\n",
    "        length_mmi: 5\n",
    "\n",
    "placements:\n",
    "    mmi_short:\n",
    "        port: W0\n",
    "        x: 0\n",
    "        y: 0\n",
    "    mmi_long:\n",
    "        port: W0\n",
    "        x: mmi_short,E1\n",
    "        y: mmi_short,E1\n",
    "        dx : 10\n",
    "        dy: -10\n",
    "\"\"\"\n",
    "\n",
    "\n",
    "c = pp.component_from_yaml(yaml)\n",
    "c.show()\n",
    "c.plot()"
   ]
  },
  {
   "cell_type": "code",
   "execution_count": null,
   "metadata": {},
   "outputs": [],
   "source": [
    "import pp\n",
    "\n",
    "yaml = \"\"\"\n",
    "instances:\n",
    "    mmi_long:\n",
    "      component: mmi1x2\n",
    "      settings:\n",
    "        width_mmi: 4.5\n",
    "        length_mmi: 10\n",
    "    mmi_short:\n",
    "      component: mmi1x2\n",
    "      settings:\n",
    "        width_mmi: 4.5\n",
    "        length_mmi: 5\n",
    "\n",
    "placements:\n",
    "    mmi_short:\n",
    "        port: W0\n",
    "        x: 0\n",
    "        y: 0\n",
    "    mmi_long:\n",
    "        port: W0\n",
    "        x: mmi_short,E1\n",
    "        y: mmi_short,E1\n",
    "        dx: 10\n",
    "        dy: -10\n",
    "\"\"\"\n",
    "\n",
    "\n",
    "c = pp.component_from_yaml(yaml)\n",
    "c.show()\n",
    "c.plot()"
   ]
  },
  {
   "cell_type": "markdown",
   "metadata": {},
   "source": [
    "### Cicular reference warning\n",
    "\n",
    "You have to be careful not doing a circuilar reference"
   ]
  },
  {
   "cell_type": "code",
   "execution_count": null,
   "metadata": {},
   "outputs": [],
   "source": [
    "import pp\n",
    "\n",
    "yaml = \"\"\"\n",
    "instances:\n",
    "    mmi_long:\n",
    "      component: mmi1x2\n",
    "      settings:\n",
    "        width_mmi: 4.5\n",
    "        length_mmi: 10\n",
    "    mmi_short:\n",
    "      component: mmi1x2\n",
    "      settings:\n",
    "        width_mmi: 4.5\n",
    "        length_mmi: 5\n",
    "\n",
    "placements:\n",
    "    mmi_short:\n",
    "        port: W0\n",
    "        x: mmi_long,E1\n",
    "        y: mmi_long,E1\n",
    "    mmi_long:\n",
    "        port: W0\n",
    "        x: mmi_short,E1\n",
    "        y: mmi_short,E1\n",
    "        dx : 10\n",
    "        dy: 20\n",
    "\"\"\"\n",
    "\n",
    "pp.component_from_yaml(yaml) "
   ]
  },
  {
   "cell_type": "code",
   "execution_count": null,
   "metadata": {},
   "outputs": [],
   "source": [
    "import pp\n",
    "\n",
    "yaml = \"\"\"\n",
    "instances:\n",
    "    mmi_long:\n",
    "      component: mmi1x2\n",
    "      settings:\n",
    "        width_mmi: 4.5\n",
    "        length_mmi: 10\n",
    "    mmi_short:\n",
    "      component: mmi1x2\n",
    "      settings:\n",
    "        width_mmi: 4.5\n",
    "        length_mmi: 5\n",
    "placements:\n",
    "    mmi_long:\n",
    "        x: 100\n",
    "        y: 100\n",
    "routes:\n",
    "    optical:\n",
    "        factory: optical\n",
    "        links:\n",
    "            mmi_short,E1: mmi_long,W0\n",
    "\"\"\"\n",
    "\n",
    "\n",
    "c = pp.component_from_yaml(yaml)\n",
    "c.show()\n",
    "c.plot()"
   ]
  },
  {
   "cell_type": "markdown",
   "metadata": {},
   "source": [
    "You can **rotate** and instance specifying the angle in degrees"
   ]
  },
  {
   "cell_type": "code",
   "execution_count": null,
   "metadata": {},
   "outputs": [],
   "source": [
    "import pp\n",
    "\n",
    "yaml = \"\"\"\n",
    "instances:\n",
    "    mmi_long:\n",
    "      component: mmi1x2\n",
    "      settings:\n",
    "        width_mmi: 4.5\n",
    "        length_mmi: 10\n",
    "    mmi_short:\n",
    "      component: mmi1x2\n",
    "      settings:\n",
    "        width_mmi: 4.5\n",
    "        length_mmi: 5\n",
    "        \n",
    "placements:\n",
    "    mmi_long:\n",
    "        rotation: 180\n",
    "        x: 150\n",
    "        y: 100\n",
    "routes:\n",
    "    optical:\n",
    "        factory: optical\n",
    "        links:\n",
    "            mmi_short,E1: mmi_long,E0\n",
    "\"\"\"\n",
    "\n",
    "\n",
    "c = pp.component_from_yaml(yaml)\n",
    "c.show()\n",
    "c.plot()"
   ]
  },
  {
   "cell_type": "code",
   "execution_count": null,
   "metadata": {},
   "outputs": [],
   "source": [
    "from pp.pdk import PDK_NITRIDE_C\n",
    "\n",
    "pdk = PDK_NITRIDE_C\n",
    "\n",
    "c = pdk.get_component_from_yaml(yaml)\n",
    "c"
   ]
  },
  {
   "cell_type": "markdown",
   "metadata": {},
   "source": [
    "You can also define ports for the component"
   ]
  },
  {
   "cell_type": "code",
   "execution_count": null,
   "metadata": {},
   "outputs": [],
   "source": [
    "import pp\n",
    "\n",
    "yaml = \"\"\"\n",
    "instances:\n",
    "    mmi_long:\n",
    "      component: mmi1x2\n",
    "      settings:\n",
    "        width_mmi: 4.5\n",
    "        length_mmi: 10\n",
    "    mmi_short:\n",
    "      component: mmi1x2\n",
    "      settings:\n",
    "        width_mmi: 4.5\n",
    "        length_mmi: 5\n",
    "        \n",
    "placements:\n",
    "    mmi_long:\n",
    "        rotation: 180\n",
    "        x: 100\n",
    "        y: 100\n",
    "        \n",
    "routes:\n",
    "    optical:\n",
    "        factory: optical\n",
    "        links:\n",
    "            mmi_short,E1: mmi_long,E0\n",
    "    \n",
    "ports:\n",
    "    E0: mmi_short,W0\n",
    "    W0: mmi_long,W0\n",
    "\"\"\"\n",
    "\n",
    "c = pp.component_from_yaml(yaml)\n",
    "c.show()\n",
    "c.plot()"
   ]
  },
  {
   "cell_type": "code",
   "execution_count": null,
   "metadata": {},
   "outputs": [],
   "source": [
    "r = c.routes['mmi_short,E1:mmi_long,E0']\n",
    "r"
   ]
  },
  {
   "cell_type": "code",
   "execution_count": null,
   "metadata": {},
   "outputs": [],
   "source": [
    "c.instances"
   ]
  },
  {
   "cell_type": "markdown",
   "metadata": {},
   "source": [
    "## YAML instances, placements, connections, ports, routes\n",
    "\n",
    "\n",
    "We can define the netlist connections of a component by a netlist in YAML format\n",
    "\n",
    "Note that you define the connections as `instance_source.port ->\n",
    "instance_destination.port` so the order is important and therefore you can only\n",
    "change the position of the `instance_destination`\n",
    "\n",
    "For example, this coupler has the center coupling region at (100, 0)"
   ]
  },
  {
   "cell_type": "code",
   "execution_count": null,
   "metadata": {},
   "outputs": [],
   "source": [
    "pp.components.coupler_symmetric()"
   ]
  },
  {
   "cell_type": "code",
   "execution_count": null,
   "metadata": {
    "attributes": {
     "classes": [],
     "id": "",
     "n": "5"
    }
   },
   "outputs": [],
   "source": [
    "import pp\n",
    "\n",
    "gap = 0.2\n",
    "wg_width = 0.5\n",
    "length = 10\n",
    "\n",
    "yaml = f\"\"\"\n",
    "instances:\n",
    "    left:\n",
    "      component: coupler_symmetric\n",
    "      settings:\n",
    "        gap: {gap}\n",
    "        width: {wg_width}\n",
    "    right:\n",
    "      component: coupler_symmetric\n",
    "      settings:\n",
    "        gap: {gap}\n",
    "        width: {wg_width}\n",
    "    center:\n",
    "      component: coupler_straight\n",
    "      settings:\n",
    "        gap: {gap}\n",
    "        width: {wg_width}\n",
    "        length: {length}\n",
    "\n",
    "placements:\n",
    "    center:\n",
    "        x: 100\n",
    "        y: 0\n",
    "    left:\n",
    "        mirror: True\n",
    "\n",
    "connections:\n",
    "    center,W0: left,W0\n",
    "    right,W0: center,E0\n",
    "\n",
    "ports:\n",
    "    w0: left,E0\n",
    "    w1: left,E1\n",
    "    e0: right,E0\n",
    "    e1: right,E1\n",
    "\n",
    "\"\"\"\n",
    "\n",
    "\"\"\"\n",
    "    left,W0: center,W0\n",
    "    right,W0: center,E0\n",
    "\n",
    "\"\"\"\n",
    "\n",
    "c = pp.component_from_yaml(yaml)\n",
    "c"
   ]
  },
  {
   "cell_type": "markdown",
   "metadata": {},
   "source": [
    "While this one has the sbend_left_coupler `sl` centered at (100, 0)"
   ]
  },
  {
   "cell_type": "code",
   "execution_count": null,
   "metadata": {},
   "outputs": [],
   "source": [
    "import pp\n",
    "\n",
    "yaml = \"\"\"\n",
    "instances:\n",
    "    mmi_long:\n",
    "      component: mmi1x2\n",
    "      settings:\n",
    "        width_mmi: 4.5\n",
    "        length_mmi: 10\n",
    "    mmi_short:\n",
    "      component: mmi1x2\n",
    "      settings:\n",
    "        width_mmi: 4.5\n",
    "        length_mmi: 5\n",
    "placements:        \n",
    "    mmi_long:\n",
    "        x: 100\n",
    "        y: 100\n",
    "\"\"\"\n",
    "\n",
    "c = pp.component_from_yaml(yaml)\n",
    "c"
   ]
  },
  {
   "cell_type": "code",
   "execution_count": null,
   "metadata": {},
   "outputs": [],
   "source": [
    "import pp\n",
    "\n",
    "yaml = \"\"\"\n",
    "instances:\n",
    "    mmi_long:\n",
    "      component: mmi1x2\n",
    "      settings:\n",
    "        width_mmi: 4.5\n",
    "        length_mmi: 10\n",
    "    mmi_short:\n",
    "      component: mmi1x2\n",
    "      settings:\n",
    "        width_mmi: 4.5\n",
    "        length_mmi: 5\n",
    "placements:\n",
    "    mmi_long:\n",
    "        x: 100\n",
    "        y: 100\n",
    "routes:\n",
    "    route1:\n",
    "        factory: optical\n",
    "        links:\n",
    "            mmi_short,E1: mmi_long,W0\n",
    "\"\"\"\n",
    "\n",
    "\n",
    "c = pp.component_from_yaml(yaml)\n",
    "c"
   ]
  },
  {
   "cell_type": "markdown",
   "metadata": {},
   "source": [
    "You can **rotate** and instance specifying the angle in degrees"
   ]
  },
  {
   "cell_type": "code",
   "execution_count": null,
   "metadata": {},
   "outputs": [],
   "source": [
    "import pp\n",
    "\n",
    "yaml = \"\"\"\n",
    "instances:\n",
    "    mmi_long:\n",
    "      component: mmi1x2\n",
    "      settings:\n",
    "        width_mmi: 4.5\n",
    "        length_mmi: 10\n",
    "    mmi_short:\n",
    "      component: mmi1x2\n",
    "      settings:\n",
    "        width_mmi: 4.5\n",
    "        length_mmi: 5\n",
    "        \n",
    "placements:\n",
    "    mmi_long:\n",
    "        rotation: 180\n",
    "        x: 100\n",
    "        y: 100\n",
    "routes:\n",
    "    mmi_connect:\n",
    "        factory: optical\n",
    "        links:\n",
    "            mmi_short,E1: mmi_long,E0\n",
    "\"\"\"\n",
    "\n",
    "\n",
    "c = pp.component_from_yaml(yaml)\n",
    "c"
   ]
  },
  {
   "cell_type": "markdown",
   "metadata": {},
   "source": [
    "You can also define ports for the component"
   ]
  },
  {
   "cell_type": "code",
   "execution_count": null,
   "metadata": {},
   "outputs": [],
   "source": [
    "import pp\n",
    "\n",
    "yaml = \"\"\"\n",
    "instances:\n",
    "    mmi_long:\n",
    "      component: mmi1x2\n",
    "      settings:\n",
    "        width_mmi: 4.5\n",
    "        length_mmi: 10\n",
    "    mmi_short:\n",
    "      component: mmi1x2\n",
    "      settings:\n",
    "        width_mmi: 4.5\n",
    "        length_mmi: 5\n",
    "        \n",
    "placements:\n",
    "    mmi_long:\n",
    "        rotation: 180\n",
    "        x: 100\n",
    "        y: 100\n",
    "        \n",
    "routes:\n",
    "    optical:\n",
    "        factory: optical\n",
    "        links:\n",
    "            mmi_short,E1: mmi_long,E0\n",
    "    \n",
    "ports:\n",
    "    E0: mmi_short,W0\n",
    "    W0: mmi_long,W0\n",
    "\"\"\"\n",
    "\n",
    "c = pp.component_from_yaml(yaml)\n",
    "c"
   ]
  },
  {
   "cell_type": "code",
   "execution_count": null,
   "metadata": {},
   "outputs": [],
   "source": [
    "c.routes"
   ]
  },
  {
   "cell_type": "code",
   "execution_count": null,
   "metadata": {},
   "outputs": [],
   "source": [
    "r = c.routes['mmi_short,E1:mmi_long,E0']\n",
    "r"
   ]
  },
  {
   "cell_type": "code",
   "execution_count": null,
   "metadata": {},
   "outputs": [],
   "source": [
    "c.instances"
   ]
  },
  {
   "cell_type": "code",
   "execution_count": null,
   "metadata": {},
   "outputs": [],
   "source": [
    "c.routes"
   ]
  },
  {
   "cell_type": "markdown",
   "metadata": {},
   "source": [
    "## get_bundle routes\n",
    "\n",
    "You can define several `bundle_routes` "
   ]
  },
  {
   "cell_type": "code",
   "execution_count": null,
   "metadata": {},
   "outputs": [],
   "source": [
    "import pp\n",
    "\n",
    "sample_2x2_connections_solution = \"\"\"\n",
    "name:\n",
    "    connections_2x2_problem\n",
    "\n",
    "instances:\n",
    "    mmi_bottom:\n",
    "      component: mmi2x2\n",
    "    mmi_top:\n",
    "      component: mmi2x2\n",
    "\n",
    "placements:\n",
    "    mmi_top:\n",
    "        x: 100\n",
    "        y: 100\n",
    "\n",
    "routes:\n",
    "    optical:\n",
    "        factory: optical\n",
    "        links:\n",
    "            mmi_bottom,E0: mmi_top,W0\n",
    "            mmi_bottom,E1: mmi_top,W1\n",
    "\n",
    "\"\"\"\n",
    "\n",
    "c = pp.component_from_yaml(sample_2x2_connections_solution)\n",
    "c"
   ]
  },
  {
   "cell_type": "markdown",
   "metadata": {},
   "source": [
    "## Custom component factories"
   ]
  },
  {
   "cell_type": "code",
   "execution_count": null,
   "metadata": {},
   "outputs": [],
   "source": [
    "@pp.cell\n",
    "def pad_new(size=(100, 100), layer=pp.LAYER.M3):\n",
    "    c = pp.Component()\n",
    "    compass = c << pp.components.compass(size=size, layer=layer)\n",
    "    c.ports = compass.ports\n",
    "    return c\n",
    "\n",
    "c = pad_new(cache=False)\n",
    "c"
   ]
  },
  {
   "cell_type": "code",
   "execution_count": null,
   "metadata": {},
   "outputs": [],
   "source": [
    "import pp\n",
    "from pp.components import component_factory\n",
    "\n",
    "component_factory.update(pad_new=pad_new)\n",
    "print('pad_new' in component_factory)\n",
    "\n",
    "sample_custom_component = \"\"\"\n",
    "name:\n",
    "    connections_2x2_problem\n",
    "\n",
    "instances:\n",
    "    bot:\n",
    "      component: pad_new\n",
    "    top:\n",
    "      component: pad_new\n",
    "\n",
    "placements:\n",
    "    top:\n",
    "        x: 0\n",
    "        y: 200\n",
    "\"\"\"\n",
    "\n",
    "c = pp.component_from_yaml(sample_custom_component, component_factory=component_factory)\n",
    "c"
   ]
  },
  {
   "cell_type": "markdown",
   "metadata": {},
   "source": [
    "## custom route factories"
   ]
  },
  {
   "cell_type": "code",
   "execution_count": null,
   "metadata": {},
   "outputs": [],
   "source": [
    "import pp\n",
    "from pp.components import component_factory\n",
    "from pp.routing.factories import route_factory\n",
    "from pp.routing.manhattan import round_corners\n",
    "\n",
    "component_factory.update(pad_new=pad_new)\n",
    "print('pad_new' in component_factory)\n",
    "\n",
    "\n",
    "def connect_electrical_new(\n",
    "    way_points= [],\n",
    "    bend_factory = pp.components.corner,\n",
    "    straight_factory= pp.components.wire,\n",
    "    wg_width=10,\n",
    "    bend_radius = 0.1,\n",
    "    **kwargs,\n",
    "):\n",
    "    \"\"\" Returns a custom electrical route\n",
    "    \"\"\"\n",
    "    bend90 = pp.call_if_func(bend_factory, radius=bend_radius, width=wg_width, layer=pp.LAYER.M3)\n",
    "    connector = round_corners(way_points, bend_factory=bend90, straight_factory=straight_factory)\n",
    "    return connector\n",
    "\n",
    "\n",
    "route_factory.update(electrical_new=connect_electrical_new)\n",
    "\n",
    "\n",
    "sample_custom_component = \"\"\"\n",
    "name:\n",
    "    custom_routes\n",
    "\n",
    "instances:\n",
    "    bl:\n",
    "      component: pad_new\n",
    "    tl:\n",
    "      component: pad_new\n",
    "    br:\n",
    "      component: pad_new\n",
    "    tr:\n",
    "      component: pad_new\n",
    "\n",
    "placements:\n",
    "    tl:\n",
    "        x: 0\n",
    "        y: 200\n",
    "\n",
    "    br:\n",
    "        x: 400\n",
    "        y: 400\n",
    "\n",
    "    tr:\n",
    "        x: 400\n",
    "        y: 600\n",
    "\n",
    "routes:\n",
    "    electrical1:\n",
    "        factory: electrical_new\n",
    "        links:\n",
    "            bl,E: br,W\n",
    "            tl,E: tr,W\n",
    "    electrical2:\n",
    "        factory: electrical_new\n",
    "        links:\n",
    "            bl,S: br,E\n",
    "    optical:\n",
    "        factory: optical\n",
    "        links:\n",
    "            tl,N: tr,N\n",
    "\n",
    "\"\"\"\n",
    "\n",
    "pp.component_from_yaml(sample_custom_component, component_factory=component_factory, route_factory=route_factory)"
   ]
  },
  {
   "cell_type": "code",
   "execution_count": null,
   "metadata": {},
   "outputs": [],
   "source": [
    "sample_custom_component = \"\"\"\n",
    "name:\n",
    "    custom_routes\n",
    "\n",
    "instances:\n",
    "    t:\n",
    "      component: pad_array\n",
    "      settings:\n",
    "          port_list: ['S']\n",
    "    b:\n",
    "      component: pad_array\n",
    "\n",
    "placements:\n",
    "    t:\n",
    "        x: 200\n",
    "        y: 400\n",
    "routes:\n",
    "    electrical:\n",
    "        factory: electrical\n",
    "        links:\n",
    "            t,S0: b,N0\n",
    "            t,S5: b,N5\n",
    "\"\"\"\n",
    "\n",
    "\n",
    "c = pp.component_from_yaml(sample_custom_component)\n",
    "c"
   ]
  },
  {
   "cell_type": "markdown",
   "metadata": {},
   "source": [
    "## Route settings\n",
    "\n",
    "Also, you can define route aliases, that have different settings and specify the route `factory` as a parameter as well as the `settings` for that particular route alias."
   ]
  },
  {
   "cell_type": "code",
   "execution_count": null,
   "metadata": {},
   "outputs": [],
   "source": [
    "import pp\n",
    "\n",
    "sample_settings = \"\"\"\n",
    "name: sample_settings\n",
    "\n",
    "instances:\n",
    "    bl:\n",
    "      component: pad\n",
    "    tl:\n",
    "      component: pad\n",
    "    br:\n",
    "      component: pad\n",
    "    tr:\n",
    "      component: pad\n",
    "\n",
    "placements:\n",
    "    tl:\n",
    "        x: 0\n",
    "        y: 200\n",
    "\n",
    "    br:\n",
    "        x: 400\n",
    "        y: 400\n",
    "\n",
    "    tr:\n",
    "        x: 400\n",
    "        y: 600\n",
    "\n",
    "routes:\n",
    "    optical_r100:\n",
    "        factory: optical\n",
    "        settings:\n",
    "            bend_radius: 100\n",
    "        links:\n",
    "            tl,N: tr,N\n",
    "    optical_r200:\n",
    "        factory: optical\n",
    "        settings:\n",
    "            bend_radius: 200\n",
    "        links:\n",
    "            bl,S: br,E\n",
    "\"\"\"\n",
    "pp.component_from_yaml(sample_settings)"
   ]
  },
  {
   "cell_type": "code",
   "execution_count": null,
   "metadata": {},
   "outputs": [],
   "source": [
    "sample_custom_component = \"\"\"\n",
    "\n",
    "instances:\n",
    "    t:\n",
    "      component: pad_array\n",
    "      settings:\n",
    "          port_list: ['S']\n",
    "    b:\n",
    "      component: pad_array\n",
    "\n",
    "placements:\n",
    "    t:\n",
    "        x: 200\n",
    "        y: 400\n",
    "routes:\n",
    "    optical:\n",
    "        factory: optical\n",
    "        settings: \n",
    "            bend_radius: 50\n",
    "        links:\n",
    "            t,S0: b,N0\n",
    "            t,S5: b,N5\n",
    "\"\"\"\n",
    "\n",
    "pp.component_from_yaml(sample_custom_component)"
   ]
  },
  {
   "cell_type": "code",
   "execution_count": null,
   "metadata": {},
   "outputs": [],
   "source": [
    "import pp\n",
    "\n",
    "sample = \"\"\"\n",
    "\n",
    "instances:\n",
    "    t:\n",
    "      component: pad_array\n",
    "      settings:\n",
    "          port_list: ['S']\n",
    "    b:\n",
    "      component: pad_array\n",
    "\n",
    "placements:\n",
    "    t:\n",
    "        x: 100\n",
    "        y: 1000\n",
    "routes:\n",
    "    route1:\n",
    "        factory: optical\n",
    "        link_factory: link_ports_path_length_match\n",
    "        link_settings:\n",
    "            extra_length: 200\n",
    "        links:\n",
    "            t,S0: b,N0\n",
    "            t,S5: b,N4\n",
    "\"\"\"\n",
    "\n",
    "c = pp.component_from_yaml(sample)\n",
    "print(c.routes['t,S0:b,N0'])\n",
    "c"
   ]
  },
  {
   "cell_type": "code",
   "execution_count": null,
   "metadata": {},
   "outputs": [],
   "source": [
    "import pp\n",
    "\n",
    "sample = \"\"\"\n",
    "\n",
    "instances:\n",
    "    t:\n",
    "      component: pad_array\n",
    "      settings:\n",
    "          port_list: ['S']\n",
    "    b:\n",
    "      component: pad_array\n",
    "\n",
    "placements:\n",
    "    t:\n",
    "        x: -250\n",
    "        y: 1000\n",
    "routes:\n",
    "    route1:\n",
    "        factory: optical\n",
    "        link_factory: link_optical_waypoints\n",
    "        link_settings:\n",
    "            waypoints: \n",
    "            - [0,0]\n",
    "            - [0, 600]\n",
    "            - [-250, 600]\n",
    "            - [-250, 1000]\n",
    "        links:\n",
    "            t,S5: b,N4\n",
    "\"\"\"\n",
    "\n",
    "c = pp.component_from_yaml(sample)\n",
    "c"
   ]
  },
  {
   "cell_type": "code",
   "execution_count": null,
   "metadata": {},
   "outputs": [],
   "source": [
    "import pp\n",
    "\n",
    "sample = \"\"\"\n",
    "\n",
    "instances:\n",
    "    t:\n",
    "      component: pad_array\n",
    "      settings:\n",
    "          port_list: ['S']\n",
    "    b:\n",
    "      component: pad_array\n",
    "\n",
    "placements:\n",
    "    t:\n",
    "        x: -250\n",
    "        y: 1000\n",
    "routes:\n",
    "    route1:\n",
    "        factory: optical\n",
    "        link_factory: link_optical_waypoints\n",
    "        link_settings:\n",
    "            waypoints:  [[0,0], [0, 600], [-250, 600], [-250, 1000]]\n",
    "        links:\n",
    "            t,S5: b,N4\n",
    "\"\"\"\n",
    "\n",
    "c = pp.component_from_yaml(sample)\n",
    "c"
   ]
  },
  {
   "cell_type": "code",
   "execution_count": null,
   "metadata": {},
   "outputs": [],
   "source": [
    "from omegaconf import OmegaConf\n",
    "import io\n",
    "\n",
    "d = OmegaConf.load(io.StringIO(\"\"\"\n",
    "way_points: \n",
    "    - [0,0]\n",
    "    - [0, 600]\n",
    "    - [-250, 600]\n",
    "    - [-250, 1000]\n",
    "\n",
    "demo: a\n",
    "\"\"\"))"
   ]
  },
  {
   "cell_type": "code",
   "execution_count": null,
   "metadata": {},
   "outputs": [],
   "source": [
    "d = OmegaConf.load(io.StringIO(\"way_points:  [[0,0], [0, 600], [-250, 600], [-250, 1000]]\"))"
   ]
  },
  {
   "cell_type": "code",
   "execution_count": null,
   "metadata": {},
   "outputs": [],
   "source": [
    "d"
   ]
  },
  {
   "cell_type": "code",
   "execution_count": null,
   "metadata": {},
   "outputs": [],
   "source": [
    "import numpy as np\n",
    "\n",
    "c = pp.Component('waypoints_sample')\n",
    "route = pp.routing.get_route_from_waypoints(\n",
    "    waypoints=np.array(d['way_points'])\n",
    "    #route_filter=pp.routing.connect_strip,\n",
    ")\n",
    "\n",
    "c.add(route['references'])\n",
    "c"
   ]
  },
  {
   "cell_type": "markdown",
   "metadata": {},
   "source": [
    "## YAML netlist\n",
    "\n",
    "Note that you define the connections as `instance_source.port -> instance_destination.port` so the order is important and therefore you can only change the position of the `instance_destination`"
   ]
  },
  {
   "cell_type": "code",
   "execution_count": null,
   "metadata": {},
   "outputs": [],
   "source": [
    "import pp\n",
    "\n",
    "netlist = \"\"\"\n",
    "instances:\n",
    "    CP1:\n",
    "      component: mmi1x2\n",
    "      settings:\n",
    "          width_mmi: 4.5\n",
    "          length_mmi: 10\n",
    "    CP2:\n",
    "        component: mmi1x2\n",
    "        settings:\n",
    "            width_mmi: 4.5\n",
    "            length_mmi: 5\n",
    "    arm_top:\n",
    "        component: mzi_arm\n",
    "    arm_bot:\n",
    "        component: mzi_arm\n",
    "\n",
    "placements:\n",
    "    arm_bot:\n",
    "        mirror: True\n",
    "    CP2:\n",
    "        mirror: True\n",
    "ports:\n",
    "    W0: CP1,W0\n",
    "    E0: CP2,W0\n",
    "\n",
    "connections:\n",
    "    arm_bot,W0: CP1,E0 \n",
    "    arm_top,W0: CP1,E1\n",
    "    CP2,E0: arm_bot,E0 \n",
    "    CP2,E1: arm_top,E0\n",
    "\"\"\"\n",
    "\n",
    "c = pp.component_from_yaml(netlist)\n",
    "c.show()\n",
    "c.plot()"
   ]
  },
  {
   "cell_type": "markdown",
   "metadata": {},
   "source": [
    "We can reduce the length of each of the arms"
   ]
  },
  {
   "cell_type": "code",
   "execution_count": null,
   "metadata": {},
   "outputs": [],
   "source": [
    "import pp\n",
    "\n",
    "netlist = \"\"\"\n",
    "instances:\n",
    "    CP1:\n",
    "      component: mmi1x2\n",
    "      settings:\n",
    "          width_mmi: 4.5\n",
    "          length_mmi: 10\n",
    "    CP2:\n",
    "        component: mmi1x2\n",
    "        settings:\n",
    "            width_mmi: 4.5\n",
    "            length_mmi: 5\n",
    "    arm_top:\n",
    "        component: mzi_arm\n",
    "        settings:\n",
    "            L0: 0\n",
    "            DL: 0\n",
    "    arm_bot:\n",
    "        component: mzi_arm\n",
    "        settings:\n",
    "            L0: 0\n",
    "            DL: 10\n",
    "\n",
    "placements:\n",
    "    arm_bot:\n",
    "        mirror: True\n",
    "    CP2:\n",
    "        mirror: True\n",
    "ports:\n",
    "    W0: CP1,W0\n",
    "    E0: CP2,W0\n",
    "\n",
    "connections:\n",
    "    arm_bot,W0: CP1,E0 \n",
    "    arm_top,W0: CP1,E1\n",
    "    CP2,E0: arm_bot,E0 \n",
    "    CP2,E1: arm_top,E0\n",
    "\"\"\"\n",
    "\n",
    "c = pp.component_from_yaml(netlist)\n",
    "c.show()\n",
    "c.plot()"
   ]
  },
  {
   "cell_type": "markdown",
   "metadata": {},
   "source": [
    "We can also use 2x2 couplers instead of 1x2 MMIs"
   ]
  },
  {
   "cell_type": "code",
   "execution_count": null,
   "metadata": {},
   "outputs": [],
   "source": [
    "import pp\n",
    "\n",
    "netlist = \"\"\"\n",
    "instances:\n",
    "    CP1:\n",
    "      component: mmi2x2\n",
    "      settings:\n",
    "          width_mmi: 4.5\n",
    "          length_mmi: 10\n",
    "    CP2:\n",
    "        component: mmi2x2\n",
    "        settings:\n",
    "            width_mmi: 4.5\n",
    "            length_mmi: 5\n",
    "    arm_top:\n",
    "        component: mzi_arm\n",
    "        settings:\n",
    "            L0: 0\n",
    "            DL: 0\n",
    "    arm_bot:\n",
    "        component: mzi_arm\n",
    "        settings:\n",
    "            L0: 0\n",
    "            DL: 10\n",
    "\n",
    "placements:\n",
    "    arm_bot:\n",
    "        mirror: True\n",
    "    CP2:\n",
    "        mirror: True\n",
    "ports:\n",
    "    W0: CP1,W0\n",
    "    E0: CP2,W0\n",
    "    W1: CP1,W1\n",
    "    E1: CP2,W1\n",
    "\n",
    "connections:\n",
    "    arm_bot,W0: CP1,E0 \n",
    "    arm_top,W0: CP1,E1\n",
    "    CP2,E0: arm_bot,E0 \n",
    "    CP2,E1: arm_top,E0\n",
    "\"\"\"\n",
    "\n",
    "c = pp.component_from_yaml(netlist)\n",
    "c.show()\n",
    "c.plot()"
   ]
  },
  {
   "cell_type": "markdown",
   "metadata": {},
   "source": [
    "We can also expose more ports, such as the electrical ports, so we can route electrical signals to the circuits."
   ]
  },
  {
   "cell_type": "code",
   "execution_count": null,
   "metadata": {},
   "outputs": [],
   "source": [
    "import pp\n",
    "\n",
    "netlist = \"\"\"\n",
    "instances:\n",
    "    CP1:\n",
    "      component: mmi2x2\n",
    "      settings:\n",
    "          width_mmi: 4.5\n",
    "          length_mmi: 10\n",
    "    CP2:\n",
    "        component: mmi2x2\n",
    "        settings:\n",
    "            width_mmi: 4.5\n",
    "            length_mmi: 5\n",
    "    arm_top:\n",
    "        component: mzi_arm\n",
    "        settings:\n",
    "            L0: 0\n",
    "            DL: 0\n",
    "    arm_bot:\n",
    "        component: mzi_arm\n",
    "        settings:\n",
    "            L0: 0\n",
    "            DL: 10\n",
    "\n",
    "placements:\n",
    "    arm_bot:\n",
    "        mirror: True\n",
    "    CP2:\n",
    "        mirror: True\n",
    "ports:\n",
    "    W0: CP1,W0\n",
    "    E0: CP2,W0\n",
    "    W1: CP1,W1\n",
    "    E1: CP2,W1\n",
    "    E_TOP_0: arm_top,E_0\n",
    "    E_TOP_1: arm_top,E_1\n",
    "    E_TOP_2: arm_top,E_2\n",
    "    E_TOP_3: arm_top,E_3\n",
    "    E_BOT_0: arm_bot,E_0\n",
    "    E_BOT_1: arm_bot,E_1\n",
    "    E_BOT_2: arm_bot,E_2\n",
    "    E_BOT_3: arm_bot,E_3\n",
    "\n",
    "connections:\n",
    "    arm_bot,W0: CP1,E0 \n",
    "    arm_top,W0: CP1,E1\n",
    "    CP2,E0: arm_bot,E0 \n",
    "    CP2,E1: arm_top,E0\n",
    "\"\"\"\n",
    "\n",
    "c = pp.component_from_yaml(netlist)\n",
    "c.show()\n",
    "c.plot()"
   ]
  },
  {
   "cell_type": "code",
   "execution_count": null,
   "metadata": {},
   "outputs": [],
   "source": [
    "c.ports"
   ]
  },
  {
   "cell_type": "markdown",
   "metadata": {},
   "source": [
    "## Custom factories\n",
    "\n",
    "You can leverage netlist defined components to define more complex circuits"
   ]
  },
  {
   "cell_type": "code",
   "execution_count": null,
   "metadata": {},
   "outputs": [],
   "source": [
    "import pp\n",
    "\n",
    "@pp.cell\n",
    "def mzi_custom(delta_length=0):\n",
    "    netlist = f\"\"\"\n",
    "instances:\n",
    "    CP1:\n",
    "      component: mmi2x2\n",
    "      settings:\n",
    "          width_mmi: 4.5\n",
    "          length_mmi: 10\n",
    "    CP2:\n",
    "        component: mmi2x2\n",
    "        settings:\n",
    "            width_mmi: 4.5\n",
    "            length_mmi: 5\n",
    "    arm_top:\n",
    "        component: mzi_arm\n",
    "        settings:\n",
    "            L0: 0\n",
    "            DL: 0\n",
    "            with_elec_connections: False\n",
    "    arm_bot:\n",
    "        component: mzi_arm\n",
    "        settings:\n",
    "            L0: 0\n",
    "            DL: {delta_length/2}\n",
    "            with_elec_connections: False\n",
    "\n",
    "placements:\n",
    "    arm_bot:\n",
    "        mirror: True\n",
    "    CP2:\n",
    "        mirror: True\n",
    "ports:\n",
    "    W0: CP1,W0\n",
    "    E0: CP2,W0\n",
    "    W1: CP1,W1\n",
    "    E1: CP2,W1\n",
    "\n",
    "connections:\n",
    "    arm_bot,W0: CP1,E0 \n",
    "    arm_top,W0: CP1,E1\n",
    "    CP2,E0: arm_bot,E0 \n",
    "    CP2,E1: arm_top,E0\n",
    "\"\"\"\n",
    "    return pp.component_from_yaml(netlist)\n",
    "\n",
    "\n",
    "c = mzi_custom(delta_length=10, cache=False)\n",
    "c.show()\n",
    "c.plot()"
   ]
  },
  {
   "cell_type": "code",
   "execution_count": null,
   "metadata": {},
   "outputs": [],
   "source": [
    "c.ports"
   ]
  },
  {
   "cell_type": "code",
   "execution_count": null,
   "metadata": {},
   "outputs": [],
   "source": [
    "import pp\n",
    "\n",
    "@pp.cell\n",
    "def mzi_custom(delta_length):\n",
    "    return pp.components.mzi(delta_length=delta_length/2, splitter=pp.components.mmi2x2)\n",
    "\n",
    "pp.components.component_factory.update(dict(mzi_custom=mzi_custom))\n",
    "c = pp.components.component_factory['mzi_custom'](delta_length=0, cache=False)\n",
    "c.plot()\n",
    "c.show()\n",
    "print(c.ports.keys())"
   ]
  },
  {
   "cell_type": "code",
   "execution_count": null,
   "metadata": {},
   "outputs": [],
   "source": [
    "import pp\n",
    "\n",
    "@pp.cell\n",
    "def mzi_filter(delta_lengths=(20, 40, 60), component_factory=pp.components.component_factory):\n",
    "    sample = f\"\"\"\n",
    "instances:\n",
    "    mzi1:\n",
    "      component: mzi_custom\n",
    "      settings:\n",
    "          delta_length: {delta_lengths[0]}\n",
    "\n",
    "    arm_top1:\n",
    "        component: mzi_arm\n",
    "        settings:\n",
    "            L0: 0\n",
    "            DL: 0\n",
    "            with_elec_connections: False\n",
    "    arm_bot1:\n",
    "        component: mzi_arm\n",
    "        settings:\n",
    "            L0: 0\n",
    "            DL: {delta_lengths[1]/2}\n",
    "            with_elec_connections: False\n",
    "\n",
    "    mzi3:\n",
    "        component: mzi_custom\n",
    "        settings:\n",
    "            delta_length: {delta_lengths[2]}\n",
    "\n",
    "placements:\n",
    "    arm_bot1:\n",
    "        mirror: True\n",
    "\n",
    "ports:\n",
    "    W0: mzi1,W0\n",
    "    E0: mzi3,E0\n",
    "    W1: mzi1,W1\n",
    "    E1: mzi3,E1\n",
    "\n",
    "connections:\n",
    "    arm_bot1,W0: mzi1,E0\n",
    "    arm_top1,W0: mzi1,E1\n",
    "    mzi3,W0: arm_bot1,E0\n",
    "    mzi3,W1: arm_top1,E0\n",
    "    \n",
    "\"\"\"\n",
    "\n",
    "    c = pp.component_from_yaml(sample, component_factory=component_factory)\n",
    "    return c\n",
    "\n",
    "c = mzi_filter(cache=False)\n",
    "c.show()\n",
    "c.plot()"
   ]
  },
  {
   "cell_type": "code",
   "execution_count": null,
   "metadata": {},
   "outputs": [],
   "source": [
    "c = pp.components.mzi()"
   ]
  },
  {
   "cell_type": "code",
   "execution_count": null,
   "metadata": {},
   "outputs": [],
   "source": [
    "c.plot_netlist()"
   ]
  },
  {
   "cell_type": "code",
   "execution_count": null,
   "metadata": {},
   "outputs": [],
   "source": [
    "n = c.get_netlist()"
   ]
  },
  {
   "cell_type": "code",
   "execution_count": null,
   "metadata": {},
   "outputs": [],
   "source": [
    "print(c.get_netlist_yaml())"
   ]
  },
  {
   "cell_type": "markdown",
   "metadata": {},
   "source": [
    "## Netlist export\n",
    "\n",
    "Any component exports its netlist `get_netlist` and returns an `OmegaConf` dict that can be easily converted into JSON and YAML"
   ]
  },
  {
   "cell_type": "code",
   "execution_count": null,
   "metadata": {},
   "outputs": [],
   "source": [
    "import io\n",
    "from omegaconf import OmegaConf\n",
    "import pp"
   ]
  },
  {
   "cell_type": "code",
   "execution_count": null,
   "metadata": {},
   "outputs": [],
   "source": [
    "c = pp.components.mzi()\n",
    "c"
   ]
  },
  {
   "cell_type": "code",
   "execution_count": null,
   "metadata": {},
   "outputs": [],
   "source": [
    "c.plot_netlist()"
   ]
  },
  {
   "cell_type": "code",
   "execution_count": null,
   "metadata": {},
   "outputs": [],
   "source": [
    "netlist = c.get_netlist()"
   ]
  },
  {
   "cell_type": "code",
   "execution_count": null,
   "metadata": {},
   "outputs": [],
   "source": [
    "c.write_netlist('mzi.yml', full_settings=True)"
   ]
  },
  {
   "cell_type": "code",
   "execution_count": null,
   "metadata": {},
   "outputs": [],
   "source": [
    "n = OmegaConf.load('mzi.yml')"
   ]
  },
  {
   "cell_type": "code",
   "execution_count": null,
   "metadata": {},
   "outputs": [],
   "source": [
    "i = list(n['instances'].keys())\n",
    "i"
   ]
  },
  {
   "cell_type": "code",
   "execution_count": null,
   "metadata": {},
   "outputs": [],
   "source": [
    "n['instances'][i[0]]['settings']"
   ]
  },
  {
   "cell_type": "code",
   "execution_count": null,
   "metadata": {},
   "outputs": [],
   "source": [
    "import pp\n",
    "from omegaconf import OmegaConf\n",
    "import pathlib\n",
    "\n",
    "c1 = pp.component_from_yaml('mzi.yml')\n",
    "c1"
   ]
  },
  {
   "cell_type": "code",
   "execution_count": null,
   "metadata": {},
   "outputs": [],
   "source": [
    "n = c1.get_netlist(full_settings=True)\n",
    "connections = n['connections']\n",
    "len(connections)"
   ]
  },
  {
   "cell_type": "markdown",
   "metadata": {},
   "source": [
    "## Plot netlist\n",
    "\n",
    "You can plot the netlist of components.\n",
    "\n",
    "Every gdsfactory component can either be defined by its netlist or using layout friendly functions such as component sequence to define it and then `get_netlist()` method.\n",
    "\n",
    "Connections are determined by extracting all the ports of a component, and asuming that ports with the same (x, y) are connected.\n",
    "\n",
    " When you do `get_netlist()` for a component it will only show connections for the instances that belong to that component (it trims the netlist). So despite having  a lot of connections, it will show only the meaningful connections for that component. For example, a ring has a ring_coupler. but if you want to digg deeper, the connections that made that ring coupler are still available."
   ]
  },
  {
   "cell_type": "code",
   "execution_count": null,
   "metadata": {},
   "outputs": [],
   "source": [
    "import pp"
   ]
  },
  {
   "cell_type": "code",
   "execution_count": null,
   "metadata": {},
   "outputs": [],
   "source": [
    "c = pp.components.mzi()\n",
    "c"
   ]
  },
  {
   "cell_type": "code",
   "execution_count": null,
   "metadata": {},
   "outputs": [],
   "source": [
    "c = pp.components.mzi()\n",
    "n = c.get_netlist()\n",
    "print(c.get_netlist_yaml())"
   ]
  },
  {
   "cell_type": "code",
   "execution_count": null,
   "metadata": {},
   "outputs": [],
   "source": [
    "c.plot_netlist()"
   ]
  },
  {
   "cell_type": "code",
   "execution_count": null,
   "metadata": {},
   "outputs": [],
   "source": [
    "n.keys()"
   ]
  },
  {
   "cell_type": "code",
   "execution_count": null,
   "metadata": {},
   "outputs": [],
   "source": [
    "import pp\n",
    "\n",
    "yaml =  \"\"\"\n",
    "instances:\n",
    "\n",
    "    mmi1x2_12_0:\n",
    "        component: mmi1x2\n",
    "\n",
    "    bend_circular_R10p00_32_4:\n",
    "      component: bend_circular\n",
    "    \n",
    "    waveguide_L1p00_35_11:\n",
    "        component: waveguide\n",
    "        settings:\n",
    "            length: 10\n",
    "            layer: [2, 0]\n",
    "\n",
    "connections:\n",
    "    bend_circular_R10p00_32_4,W0: mmi1x2_12_0,E1\n",
    "    waveguide_L1p00_35_11,W0: bend_circular_R10p00_32_4,N0\n",
    "\"\"\"\n",
    "\n",
    "c = pp.component_from_yaml(yaml)\n",
    "c.show()\n",
    "c.plot()\n",
    "c.name = \"mmi_with_bend_circular\"\n",
    "print(c.name)"
   ]
  },
  {
   "cell_type": "code",
   "execution_count": null,
   "metadata": {},
   "outputs": [],
   "source": [
    "n = c.get_netlist()"
   ]
  },
  {
   "cell_type": "code",
   "execution_count": null,
   "metadata": {},
   "outputs": [],
   "source": [
    "print(c.get_netlist_yaml())"
   ]
  },
  {
   "cell_type": "code",
   "execution_count": null,
   "metadata": {},
   "outputs": [],
   "source": [
    "n['connections']"
   ]
  },
  {
   "cell_type": "code",
   "execution_count": null,
   "metadata": {},
   "outputs": [],
   "source": [
    "c.plot_netlist()"
   ]
  },
  {
   "cell_type": "code",
   "execution_count": null,
   "metadata": {},
   "outputs": [],
   "source": [
    "c = pp.components.mzi()\n",
    "c.plot()\n",
    "c.plot_netlist()"
   ]
  },
  {
   "cell_type": "code",
   "execution_count": null,
   "metadata": {},
   "outputs": [],
   "source": [
    "c = pp.components.ring_single()\n",
    "c"
   ]
  },
  {
   "cell_type": "code",
   "execution_count": null,
   "metadata": {},
   "outputs": [],
   "source": [
    "c.plot_netlist()"
   ]
  },
  {
   "cell_type": "code",
   "execution_count": null,
   "metadata": {},
   "outputs": [],
   "source": [
    "c = pp.components.ring_double()\n",
    "c"
   ]
  },
  {
   "cell_type": "code",
   "execution_count": null,
   "metadata": {},
   "outputs": [],
   "source": [
    "c.plot_netlist()"
   ]
  },
  {
   "cell_type": "code",
   "execution_count": null,
   "metadata": {},
   "outputs": [],
   "source": [
    "import pp\n",
    "\n",
    "c = pp.components.ring_single()\n",
    "c"
   ]
  },
  {
   "cell_type": "code",
   "execution_count": null,
   "metadata": {},
   "outputs": [],
   "source": [
    "c.plot_netlist()"
   ]
  },
  {
   "cell_type": "code",
   "execution_count": null,
   "metadata": {},
   "outputs": [],
   "source": [
    "c = pp.components.ring_double()\n",
    "c"
   ]
  },
  {
   "cell_type": "code",
   "execution_count": null,
   "metadata": {},
   "outputs": [],
   "source": [
    "c.plot_netlist()"
   ]
  },
  {
   "cell_type": "code",
   "execution_count": null,
   "metadata": {},
   "outputs": [],
   "source": [
    "print(c.get_netlist_yaml())"
   ]
  },
  {
   "cell_type": "code",
   "execution_count": null,
   "metadata": {},
   "outputs": [],
   "source": [
    "c = pp.components.mzi()\n",
    "c"
   ]
  },
  {
   "cell_type": "code",
   "execution_count": null,
   "metadata": {},
   "outputs": [],
   "source": [
    "c.plot_netlist()"
   ]
  },
  {
   "cell_type": "code",
   "execution_count": null,
   "metadata": {},
   "outputs": [],
   "source": [
    "c = pp.components.mzit()\n",
    "c"
   ]
  },
  {
   "cell_type": "code",
   "execution_count": null,
   "metadata": {},
   "outputs": [],
   "source": [
    "c.plot_netlist()"
   ]
  },
  {
   "cell_type": "code",
   "execution_count": null,
   "metadata": {},
   "outputs": [],
   "source": [
    "c = pp.components.mzi_lattice()\n",
    "c"
   ]
  },
  {
   "cell_type": "code",
   "execution_count": null,
   "metadata": {},
   "outputs": [],
   "source": [
    "import pp\n",
    "coupler_lengths = [10, 20, 30]\n",
    "coupler_gaps = [0.1, 0.2, 0.3]\n",
    "delta_lengths = [10, 100]\n",
    "\n",
    "c = pp.components.mzi_lattice(coupler_lengths=coupler_lengths, coupler_gaps=coupler_gaps, delta_lengths=delta_lengths)\n",
    "c"
   ]
  },
  {
   "cell_type": "code",
   "execution_count": null,
   "metadata": {},
   "outputs": [],
   "source": [
    "print(c.get_netlist_yaml())"
   ]
  },
  {
   "cell_type": "code",
   "execution_count": null,
   "metadata": {},
   "outputs": [],
   "source": [
    "c.plot_netlist()"
   ]
  },
  {
   "cell_type": "code",
   "execution_count": null,
   "metadata": {},
   "outputs": [],
   "source": [
    "coupler_lengths = [10, 20, 30, 40]\n",
    "coupler_gaps = [0.1, 0.2, 0.4, 0.5]\n",
    "delta_lengths = [10, 100, 200]\n",
    "\n",
    "c = pp.components.mzi_lattice(coupler_lengths=coupler_lengths, coupler_gaps=coupler_gaps, delta_lengths=delta_lengths)\n",
    "c"
   ]
  },
  {
   "cell_type": "code",
   "execution_count": null,
   "metadata": {},
   "outputs": [],
   "source": [
    "n = c.get_netlist()"
   ]
  },
  {
   "cell_type": "code",
   "execution_count": null,
   "metadata": {},
   "outputs": [],
   "source": [
    "c.plot_netlist()"
   ]
  },
  {
   "cell_type": "code",
   "execution_count": null,
   "metadata": {},
   "outputs": [],
   "source": []
  }
 ],
 "metadata": {
  "kernelspec": {
   "display_name": "Python 3",
   "language": "python",
   "name": "python3"
  },
  "language_info": {
   "codemirror_mode": {
    "name": "ipython",
    "version": 3
   },
   "file_extension": ".py",
   "mimetype": "text/x-python",
   "name": "python",
   "nbconvert_exporter": "python",
   "pygments_lexer": "ipython3",
   "version": "3.8.3"
  }
 },
 "nbformat": 4,
 "nbformat_minor": 4
}
