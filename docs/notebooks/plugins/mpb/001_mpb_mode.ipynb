{
 "cells": [
  {
   "cell_type": "code",
   "execution_count": null,
   "metadata": {},
   "outputs": [],
   "source": [
    "import numpy as np\n",
    "import matplotlib.pyplot as plt\n",
    "import meep as mp\n",
    "import gdsfactory.simulation.mpb as gm"
   ]
  },
  {
   "cell_type": "markdown",
   "metadata": {},
   "source": [
    "# MPB modes\n",
    "\n",
    "MPB has periodic boundary conditions."
   ]
  },
  {
   "cell_type": "code",
   "execution_count": null,
   "metadata": {},
   "outputs": [],
   "source": [
    "# plot TE mode (plot_mode_order=1)\n",
    "\n",
    "mode_solver = gm.get_mode_solver_rib(wg_width=0.4, ncore=3.47, nclad=1.44, wg_thickness=.22, res=20, sy=6, sz=6, nmodes=4)\n",
    "modes = gm.find_neff(mode_solver=mode_solver, parity=mp.NO_PARITY)\n",
    "m1 = modes[1]\n",
    "m2 = modes[2]\n",
    "m3 = modes[3]"
   ]
  },
  {
   "cell_type": "code",
   "execution_count": null,
   "metadata": {},
   "outputs": [],
   "source": [
    "gm.plot_modes(mode_solver, mode_number=1)\n",
    "m1.neff"
   ]
  },
  {
   "cell_type": "code",
   "execution_count": null,
   "metadata": {},
   "outputs": [],
   "source": [
    "gm.plot_modes(m1.solver, mode_number=2)\n",
    "m2.neff"
   ]
  },
  {
   "cell_type": "code",
   "execution_count": null,
   "metadata": {},
   "outputs": [],
   "source": [
    "# the third mode does not propagate\n",
    "gm.plot_modes(m1.solver, mode_number=3)"
   ]
  },
  {
   "cell_type": "markdown",
   "metadata": {},
   "source": [
    "# Symmetries\n",
    "\n",
    "You can exploit symmetries to reduce computation time as well as finding only (TE or TM) modes\n",
    "\n",
    "asuming propagating in X direction\n",
    "\n",
    "- TE: mp.ODD_Y + mp.EVEN_Z\n",
    "- TM: mp.EVEN+Y + mp.ODD_Z, all energy in z component\n",
    "\n",
    "## TM: mp.ODD_Y + mp.EVEN_Z\n",
    "\n",
    "You can define an even Y parity to find only the TM modes"
   ]
  },
  {
   "cell_type": "code",
   "execution_count": null,
   "metadata": {},
   "outputs": [],
   "source": [
    "mode_solver = gm.get_mode_solver_rib(wg_width=1.0, ncore=3.47, nclad=1.44, wg_thickness=.22, res=32, sy=6, sz=6)\n",
    "modes = gm.find_neff(mode_solver=mode_solver, mode_number=1, parity= mp.EVEN_Y+mp.ODD_Z, nmodes=2)\n",
    "m1 = modes[1]\n",
    "m2 = modes[2]"
   ]
  },
  {
   "cell_type": "code",
   "execution_count": null,
   "metadata": {},
   "outputs": [],
   "source": [
    "gm.plot_modes(m1.solver, mode_number=1)"
   ]
  },
  {
   "cell_type": "code",
   "execution_count": null,
   "metadata": {},
   "outputs": [],
   "source": [
    "mode_solver = gm.get_mode_solver_rib(wg_width=1.0, ncore=3.47, nclad=1.44, wg_thickness=.22, res=32, sx=6, sy=6)\n",
    "modes = gm.find_neff(mode_solver=mode_solver, mode_number=1, parity= mp.EVEN_Y+mp.ODD_Z, nmodes=2)\n",
    "m1 = modes[1]\n",
    "m2 = modes[2]"
   ]
  },
  {
   "cell_type": "code",
   "execution_count": null,
   "metadata": {},
   "outputs": [],
   "source": [
    "gm.plot_modes(m1.solver, mode_number=1)"
   ]
  },
  {
   "cell_type": "code",
   "execution_count": null,
   "metadata": {},
   "outputs": [],
   "source": [
    "gm.plot_modes(m1.solver, mode_number=2)"
   ]
  },
  {
   "cell_type": "markdown",
   "metadata": {},
   "source": [
    "## ODD_Y (TE)"
   ]
  },
  {
   "cell_type": "code",
   "execution_count": null,
   "metadata": {},
   "outputs": [],
   "source": [
    "mode_solver = gm.get_mode_solver_rib(wg_width=0.20, ncore=3.47, nclad=1.44, wg_thickness=.22, res=32, sy=6, sz=6)\n",
    "modes = gm.find_neff(mode_solver=mode_solver, mode_number=1, parity=mp.ODD_Y, nmodes=2)\n",
    "m1 = modes[1]\n",
    "m2 = modes[2]"
   ]
  },
  {
   "cell_type": "code",
   "execution_count": null,
   "metadata": {},
   "outputs": [],
   "source": [
    "gm.plot_modes(m1.solver, mode_number=1)"
   ]
  },
  {
   "cell_type": "code",
   "execution_count": null,
   "metadata": {},
   "outputs": [],
   "source": [
    "import meep as mp\n",
    "import matplotlib.pyplot as plt\n",
    "\n",
    "ws = gm.find_neff_vs_width()\n",
    "ws"
   ]
  },
  {
   "cell_type": "code",
   "execution_count": null,
   "metadata": {},
   "outputs": [],
   "source": [
    "import matplotlib.pyplot as plt"
   ]
  },
  {
   "cell_type": "code",
   "execution_count": null,
   "metadata": {},
   "outputs": [],
   "source": [
    "for mode_number, neff in ws.neff.items():\n",
    "    plt.plot(ws.width, neff, '.-', label= str(mode_number))\n",
    "\n",
    "plt.legend()"
   ]
  },
  {
   "cell_type": "markdown",
   "metadata": {},
   "source": [
    "# Rib waveguides"
   ]
  },
  {
   "cell_type": "code",
   "execution_count": null,
   "metadata": {},
   "outputs": [],
   "source": [
    "mode_solver = gm.get_mode_solver_rib(wg_width=0.4, ncore=3.47, nclad=1.44, wg_thickness=.22, res=32, sx=6, sy=6, nmodes=4, slab_thickness=90e-3)\n",
    "modes = gm.find_neff(mode_solver=mode_solver, parity=mp.NO_PARITY)\n",
    "m1 = modes[1]\n",
    "m2 = modes[2]\n",
    "m3 = modes[3]"
   ]
  },
  {
   "cell_type": "code",
   "execution_count": null,
   "metadata": {},
   "outputs": [],
   "source": [
    "gm.plot_modes(mode_solver, mode_number=1)\n",
    "m1.neff"
   ]
  },
  {
   "cell_type": "code",
   "execution_count": null,
   "metadata": {},
   "outputs": [],
   "source": [
    "gm.plot_modes(mode_solver, mode_number=2)\n",
    "m2.neff"
   ]
  },
  {
   "cell_type": "code",
   "execution_count": null,
   "metadata": {},
   "outputs": [],
   "source": [
    "ws = gm.find_neff_vs_width()\n",
    "gm.plot_neff_vs_width(ws)"
   ]
  },
  {
   "cell_type": "markdown",
   "metadata": {},
   "source": [
    "## Dispersion"
   ]
  },
  {
   "cell_type": "code",
   "execution_count": null,
   "metadata": {},
   "outputs": [],
   "source": [
    "import pandas as pd\n",
    "import pathlib\n",
    "from scipy.interpolate import interp2d\n",
    "import numpy as np"
   ]
  },
  {
   "cell_type": "code",
   "execution_count": null,
   "metadata": {},
   "outputs": [],
   "source": [
    "plot_neff_ng_dw_dh(with_dispersion=True)"
   ]
  },
  {
   "cell_type": "code",
   "execution_count": null,
   "metadata": {},
   "outputs": [],
   "source": [
    "plot_neff_ng_dw_dh(with_dispersion=False)"
   ]
  },
  {
   "cell_type": "markdown",
   "metadata": {},
   "source": [
    "## Convergence tests\n",
    "\n",
    "Before launching a set of simulations you need to make sure you have the correct simulation settings:\n",
    "\n",
    "- res: resolution\n",
    "- sx: Size of the simulation region in the x-direction (default=4.0)\n",
    "- sy: Size of the simulation region in the y-direction (default=4.0)\n"
   ]
  },
  {
   "cell_type": "code",
   "execution_count": null,
   "metadata": {},
   "outputs": [],
   "source": [
    "resolutions = np.linspace(10, 100, 50)\n",
    "neffs = []\n",
    "ngs= []\n",
    "\n",
    "for res in resolutions:\n",
    "    r = gm.find_modes(wg_width=0.5, ncore=3.5, nclad=1.44, wg_thickness=.22, res=res)\n",
    "    ngs.append(r['ng'])\n",
    "    neffs.append(r['neff'])"
   ]
  },
  {
   "cell_type": "code",
   "execution_count": null,
   "metadata": {},
   "outputs": [],
   "source": [
    "plt.plot(resolutions, ngs, 'o-')\n",
    "plt.ylabel('ng')\n",
    "plt.xlabel('resolution (pixels/um)')"
   ]
  },
  {
   "cell_type": "code",
   "execution_count": null,
   "metadata": {},
   "outputs": [],
   "source": [
    "plt.plot(resolutions, neffs, 'o-')\n",
    "plt.ylabel('neff')\n",
    "plt.xlabel('resolution (pixels/um)')"
   ]
  },
  {
   "cell_type": "code",
   "execution_count": null,
   "metadata": {},
   "outputs": [],
   "source": [
    "sxs = np.linspace(4, 6, 6)\n",
    "neffs = []\n",
    "ngs= []\n",
    "\n",
    "for sx in sxs:\n",
    "    r = gm.find_modes(\n",
    "        wg_width=0.5, ncore=3.5, nclad=1.44, wg_thickness=.22, res=20, sx=sx\n",
    "    )\n",
    "    ngs.append(r['ng'])\n",
    "    neffs.append(r['neff'])"
   ]
  },
  {
   "cell_type": "code",
   "execution_count": null,
   "metadata": {},
   "outputs": [],
   "source": [
    "plt.plot(sxs, neffs, 'o-')\n",
    "plt.ylabel('neff')\n",
    "plt.xlabel('simulation size in x(um)')"
   ]
  },
  {
   "cell_type": "code",
   "execution_count": null,
   "metadata": {},
   "outputs": [],
   "source": [
    "sys = np.linspace(2, 6, 6)\n",
    "neffs = []\n",
    "ngs= []\n",
    "\n",
    "for sy in sys:\n",
    "    r = gm.find_modes(\n",
    "        wg_width=0.5, ncore=3.5, nclad=1.44, wg_thickness=.22, res=20, sy=sy\n",
    "    )\n",
    "    ngs.append(r['ng'])\n",
    "    neffs.append(r['neff'])"
   ]
  },
  {
   "cell_type": "code",
   "execution_count": null,
   "metadata": {},
   "outputs": [],
   "source": [
    "plt.plot(sxs, neffs, 'o-')\n",
    "plt.ylabel('neff')\n",
    "plt.xlabel('simulation size in y (um)')"
   ]
  }
 ],
 "metadata": {
  "kernelspec": {
   "display_name": "Python 3 (ipykernel)",
   "language": "python",
   "name": "python3"
  },
  "language_info": {
   "codemirror_mode": {
    "name": "ipython",
    "version": 3
   },
   "file_extension": ".py",
   "mimetype": "text/x-python",
   "name": "python",
   "nbconvert_exporter": "python",
   "pygments_lexer": "ipython3",
   "version": "3.9.7"
  }
 },
 "nbformat": 4,
 "nbformat_minor": 4
}
