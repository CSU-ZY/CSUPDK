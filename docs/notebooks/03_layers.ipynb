{
 "cells": [
  {
   "cell_type": "markdown",
   "metadata": {},
   "source": [
    "# Layers\n",
    "\n",
    "GDS layers have 2 integer numbers: GDSlayer, GDSpurpose\n",
    "\n",
    "Layers also need to be represented with a color and a level of opacity when showing the circuits."
   ]
  },
  {
   "cell_type": "code",
   "execution_count": null,
   "metadata": {},
   "outputs": [],
   "source": [
    "import dataclasses\n",
    "import pp\n",
    "from pp.layers import preview_layerset"
   ]
  },
  {
   "cell_type": "code",
   "execution_count": null,
   "metadata": {},
   "outputs": [],
   "source": [
    "layer_wg = pp.LAYER.WG\n",
    "print(layer_wg)"
   ]
  },
  {
   "cell_type": "code",
   "execution_count": null,
   "metadata": {},
   "outputs": [],
   "source": [
    "c = preview_layerset()\n",
    "c"
   ]
  },
  {
   "cell_type": "markdown",
   "metadata": {},
   "source": [
    "As you can see in the [UBC PDK](https://github.com/gdsfactory/ubc) you can combine all your layers in a dataclass."
   ]
  },
  {
   "cell_type": "code",
   "execution_count": null,
   "metadata": {},
   "outputs": [],
   "source": [
    "@dataclasses.dataclass\n",
    "class Layer:\n",
    "    WG = (1, 0)\n",
    "    DEVREC = (68, 0)\n",
    "    LABEL = (10, 0)\n",
    "    PORT = (1, 10)\n",
    "    FLOORPLAN = (99, 0)\n",
    "    WGN = (34, 0)\n",
    "    WGN_CLAD = (36, 0)\n",
    "\n",
    "\n",
    "LAYER = Layer()\n",
    "port_layer2type = {LAYER.PORT: \"optical\"}\n",
    "port_type2layer = {v: k for k, v in port_layer2type.items()}\n",
    "\n",
    "LAYER.DEVREC"
   ]
  },
  {
   "cell_type": "markdown",
   "metadata": {},
   "source": [
    "As you can see in `pdk.tech` you can also define all your technology constants in a dataclass"
   ]
  },
  {
   "cell_type": "code",
   "execution_count": null,
   "metadata": {},
   "outputs": [],
   "source": [
    "from typing import Tuple\n",
    "from pp.tech import Tech, TechNitrideCband"
   ]
  },
  {
   "cell_type": "code",
   "execution_count": null,
   "metadata": {},
   "outputs": [],
   "source": [
    "@dataclasses.dataclass(frozen=True)\n",
    "class TechNitrideOband(TechNitrideCband):\n",
    "    name: str = \"nitride_oband\"\n",
    "    wg_width: float = 1.0\n",
    "    bend_radius: float = 20.0\n",
    "    cladding_offset: float = 3.0\n",
    "    layer_wg: Layer = LAYER.WGN\n",
    "    layers_cladding: Tuple[Layer, ...] = (LAYER.WGN_CLAD,)\n",
    "    layer_label: Layer = LAYER.LABEL\n",
    "    taper_length: float = 20.0\n",
    "    taper_width: float = 1.0\n"
   ]
  },
  {
   "cell_type": "code",
   "execution_count": null,
   "metadata": {},
   "outputs": [],
   "source": [
    "TECH_NITRIDE_O = TechNitrideOband()"
   ]
  },
  {
   "cell_type": "code",
   "execution_count": null,
   "metadata": {},
   "outputs": [],
   "source": [
    "TECH_NITRIDE_O"
   ]
  },
  {
   "cell_type": "markdown",
   "metadata": {},
   "source": [
    "How do you customize components with a particular technology?\n",
    "\n",
    "You can create a `Pdk` with the custom `tech` technology."
   ]
  },
  {
   "cell_type": "code",
   "execution_count": null,
   "metadata": {},
   "outputs": [],
   "source": [
    "from pp.pdk import PdkNitrideCband\n",
    "\n",
    "@dataclasses.dataclass\n",
    "class PdkNitrideOband(PdkNitrideCband):\n",
    "    tech: Tech = TECH_NITRIDE_O\n",
    "\n",
    "PDK_NITRIDE_O = PdkNitrideOband()"
   ]
  },
  {
   "cell_type": "code",
   "execution_count": null,
   "metadata": {},
   "outputs": [],
   "source": [
    "p = PDK_NITRIDE_O"
   ]
  },
  {
   "cell_type": "code",
   "execution_count": null,
   "metadata": {},
   "outputs": [],
   "source": [
    "c = p.ring_single()\n",
    "c"
   ]
  },
  {
   "cell_type": "code",
   "execution_count": null,
   "metadata": {},
   "outputs": [],
   "source": [
    "cc = p.add_fiber_array(c, optical_routing_type=0, with_align_ports=False)\n",
    "cc"
   ]
  },
  {
   "cell_type": "markdown",
   "metadata": {},
   "source": [
    "You can also mix elements from different PDKs"
   ]
  },
  {
   "cell_type": "code",
   "execution_count": null,
   "metadata": {},
   "outputs": [],
   "source": [
    "from pp.pdk import PDK_METAL1"
   ]
  },
  {
   "cell_type": "code",
   "execution_count": null,
   "metadata": {},
   "outputs": [],
   "source": [
    "c = pp.Component('rings_from_different_pdks')\n",
    "ring_metal = PDK_METAL1.ring_single()\n",
    "ring_nitride = PDK_NITRIDE_O.ring_single()\n",
    "\n",
    "ring_nitride_ref = c.add_ref(ring_nitride)\n",
    "ring_metal_ref = c.add_ref(ring_metal)\n",
    "ring_metal_ref.ymin = ring_nitride.ymax + 10\n",
    "c"
   ]
  },
  {
   "cell_type": "code",
   "execution_count": null,
   "metadata": {},
   "outputs": [],
   "source": []
  }
 ],
 "metadata": {
  "kernelspec": {
   "display_name": "Python 3",
   "language": "python",
   "name": "python3"
  },
  "language_info": {
   "codemirror_mode": {
    "name": "ipython",
    "version": 3
   },
   "file_extension": ".py",
   "mimetype": "text/x-python",
   "name": "python",
   "nbconvert_exporter": "python",
   "pygments_lexer": "ipython3",
   "version": "3.8.3"
  }
 },
 "nbformat": 4,
 "nbformat_minor": 4
}
