{
 "cells": [
  {
   "cell_type": "markdown",
   "metadata": {},
   "source": [
    "# Sparameters\n",
    "\n",
    "gdslib contains Sparameters from Lumerical FDTD.\n",
    "\n",
    "You can chain the Sparameters to calculate the spectral response of larger circuits using a circuit solver such as:\n",
    "\n",
    "- Lumerical interconnect (comercial)\n",
    "- simphony (open source)"
   ]
  },
  {
   "cell_type": "code",
   "execution_count": null,
   "metadata": {},
   "outputs": [],
   "source": [
    "import pp\n",
    "\n",
    "pp.sp.plot(pp.c.mmi1x2(), keys=['S23m', 'S13m'], logscale=True)"
   ]
  },
  {
   "cell_type": "markdown",
   "metadata": {},
   "source": [
    "Sometimes you want to calculate the Sparameters of a component in a region that has not been calulated and you need to calculate them"
   ]
  },
  {
   "cell_type": "code",
   "execution_count": null,
   "metadata": {},
   "outputs": [],
   "source": [
    "import pp\n",
    "\n",
    "cs = [pp.c.coupler_ring(gap=gap, bend_radius=bend_radius) for gap in [0.15, 0.2, 0.3] for bend_radius in [5, 10]]\n",
    "\n",
    "for c in cs:\n",
    "    pp.show(c)\n",
    "    print(c)\n",
    "    pp.sp.write(c)"
   ]
  }
 ],
 "metadata": {},
 "nbformat": 4,
 "nbformat_minor": 4
}
