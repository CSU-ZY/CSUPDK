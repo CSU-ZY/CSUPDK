{
 "cells": [
  {
   "cell_type": "markdown",
   "id": "29c266a3",
   "metadata": {},
   "source": [
    "# DEVSIM TCAD simulator\n",
    "\n",
    "[DEVSIM](https://devsim.org/) is an open-source semiconductor device simulator. See [publication](https://joss.theoj.org/papers/10.21105/joss.03898).\n",
    "\n",
    "Some of its features include:\n",
    "\n",
    "* Sharfetter-Gummel discretization of the electron and hole continuity equations\n",
    "* DC, transient, small-signal AC, and noise solution algorithms\n",
    "* Solution of 1D, 2D, and 3D unstructured meshes\n",
    "* Advanced models for mobility and semiclassical approaches for quantum effects\n",
    "\n",
    "\n",
    "It allows scripting new models and derivatives thanks to its a symbolic model evaluation interface\n",
    "\n",
    "There is an active community over at the [DEVSIM forums](https://forum.devsim.org/).\n",
    "\n",
    "## Meshing\n",
    "\n",
    "DEVSIM solves equations on unstructured meshes.\n",
    "It has a built-in 1D and 2D meshing interface, you can solve carrier distributions in waveguide cross-sections.\n",
    "It also interfaces with GMSH for arbitrary 2D and 3D meshes, which you can use for running semiconductor simulations with gdsfactory components.\n",
    "\n",
    "![](https://i.imgur.com/hsuzB5K.png)\n",
    "\n",
    "## Install DEVSIM\n",
    "\n",
    "To install DEVSIM you can run `pip install devsim` or `pip install gdsfactory[full]`."
   ]
  },
  {
   "cell_type": "markdown",
   "id": "55fa69b5",
   "metadata": {},
   "source": [
    "## DC Drift-diffusion simulation\n"
   ]
  },
  {
   "cell_type": "markdown",
   "id": "86fe1c8a",
   "metadata": {},
   "source": [
    "You can setup the simulation by defining a strip waveguide cross-section.\n",
    "You can change waveguide geometry (core thickness, slab thickness, core width), doping configuration (dopant level, dopant positions), as well as hyperparameters like adaptive mesh resolution at all the interfaces."
   ]
  },
  {
   "cell_type": "code",
   "execution_count": null,
   "id": "f489e663",
   "metadata": {},
   "outputs": [],
   "source": [
    "import numpy as np\n",
    "import matplotlib.pyplot as plt\n",
    "from gdsfactory.simulation.devsim import get_simulation_xsection\n",
    "from gdsfactory.simulation.devsim.get_simulation_xsection import k_to_alpha\n",
    "import gdsfactory as gf\n",
    "\n",
    "gf.config.rich_output()\n",
    "PDK = gf.get_generic_pdk()\n",
    "PDK.activate()"
   ]
  },
  {
   "cell_type": "code",
   "execution_count": null,
   "id": "68282cf9",
   "metadata": {},
   "outputs": [],
   "source": [
    "%%capture\n",
    "\n",
    "nm = 1e-9\n",
    "c = get_simulation_xsection.PINWaveguide(\n",
    "    core_width=500 * nm,\n",
    "    core_thickness=220 * nm,\n",
    "    slab_thickness=90 * nm,\n",
    ")\n",
    "\n",
    "# Initialize mesh and solver\n",
    "c.ddsolver()"
   ]
  },
  {
   "cell_type": "markdown",
   "id": "f2209cc2",
   "metadata": {},
   "source": [
    "You can save the device to a tecplot file named `filename.dat` with `c.save_device(filename=filename.dat)`, and then open with [Paraview](https://www.paraview.org/).\n",
    "\n",
    "You can also plot the mesh in the Notebook with the `plot` method. By default it shows the geometry.\n",
    "You can also pass a string to `scalars` to plot a field as color over the mesh.\n",
    "For instance, acceptor concentration and donor concentration for the PN junction.\n",
    "\n",
    "`list_fields()` returns the header of the mesh, which lists all possible fields."
   ]
  },
  {
   "cell_type": "code",
   "execution_count": null,
   "id": "2a62f0f7",
   "metadata": {},
   "outputs": [],
   "source": [
    "c.list_fields()"
   ]
  },
  {
   "cell_type": "markdown",
   "id": "ada8c640",
   "metadata": {},
   "source": [
    "Finite-element field information can be plotted using pyvista (note that lengths in DEVSIM are cm by default):"
   ]
  },
  {
   "cell_type": "code",
   "execution_count": null,
   "id": "d63f7af2",
   "metadata": {},
   "outputs": [],
   "source": [
    "c.plot(scalars=\"NetDoping\")"
   ]
  },
  {
   "cell_type": "code",
   "execution_count": null,
   "id": "a5526f2c",
   "metadata": {},
   "outputs": [],
   "source": [
    "c.plot(scalars=\"Electrons\", log_scale=True)"
   ]
  },
  {
   "cell_type": "markdown",
   "id": "6d4d73ac",
   "metadata": {},
   "source": [
    "### Solve\n",
    "\n",
    "Using default DEVSIM silicon models, we iteratively solve for the self-consistent carrier distribution for 0.5V of applied forward voltage, iterating with 0.1V steps, and then visualize the electron concentration:"
   ]
  },
  {
   "cell_type": "code",
   "execution_count": null,
   "id": "1aac38a8",
   "metadata": {},
   "outputs": [],
   "source": [
    "%%capture\n",
    "# Find a solution with 1V across the junction, ramping by 0.1V steps\n",
    "c.ramp_voltage(Vfinal=0.5, Vstep=0.1)"
   ]
  },
  {
   "cell_type": "code",
   "execution_count": null,
   "id": "aea11b6a",
   "metadata": {},
   "outputs": [],
   "source": [
    "c.plot(scalars=\"Electrons\", log_scale=True)"
   ]
  },
  {
   "cell_type": "markdown",
   "id": "edc662bd",
   "metadata": {},
   "source": [
    "and similarly for reverse-bias:"
   ]
  },
  {
   "cell_type": "code",
   "execution_count": null,
   "id": "f993b0ce",
   "metadata": {},
   "outputs": [],
   "source": [
    "%%capture\n",
    "c.ramp_voltage(Vfinal=-0.5, Vstep=-0.1)"
   ]
  },
  {
   "cell_type": "code",
   "execution_count": null,
   "id": "d9ce1a04",
   "metadata": {},
   "outputs": [],
   "source": [
    "c.plot(scalars=\"Electrons\", log_scale=True)"
   ]
  },
  {
   "cell_type": "markdown",
   "id": "bec3708b",
   "metadata": {},
   "source": [
    "# mode solver interface\n",
    "\n",
    "The carrier distribution can be used to create a mode solver object with perturbed index, and to acquire the effective index as a function of applied voltage:"
   ]
  },
  {
   "cell_type": "code",
   "execution_count": null,
   "id": "7594492c",
   "metadata": {},
   "outputs": [],
   "source": [
    "%%capture\n",
    "voltages = [0, -0.5, -1, -1.5, -2, -2.5, -3, -3.5, -4]\n",
    "ramp_rate = -0.1\n",
    "\n",
    "n_dist = {}\n",
    "neffs = {}\n",
    "\n",
    "for ind, voltage in enumerate(voltages):\n",
    "    Vinit = 0 if ind == 0 else voltages[ind - 1]\n",
    "    c.ramp_voltage(Vfinal=voltage, Vstep=ramp_rate, Vinit=Vinit)\n",
    "    waveguide = c.make_waveguide(wavelength=1.55)\n",
    "    n_dist[voltage] = waveguide.index.values\n",
    "    neffs[voltage] = waveguide.n_eff[0]"
   ]
  },
  {
   "cell_type": "code",
   "execution_count": null,
   "id": "0aef2be7",
   "metadata": {},
   "outputs": [],
   "source": [
    "voltage_list = sorted(neffs.items())\n",
    "x, y = zip(*voltage_list)\n",
    "\n",
    "plt.plot(x, np.real(y) - neffs[0])\n",
    "\n",
    "plt.xlabel(\"Voltage (V)\")\n",
    "plt.ylabel(r\"$\\Delta n_{eff}$\")"
   ]
  },
  {
   "cell_type": "code",
   "execution_count": null,
   "id": "656ad38d",
   "metadata": {},
   "outputs": [],
   "source": [
    "voltage_list = sorted(neffs.items())\n",
    "x, y = zip(*voltage_list)\n",
    "\n",
    "plt.plot(x, -10 * np.log10(1 - k_to_alpha(np.imag(y), wavelength=1.55)))\n",
    "\n",
    "plt.xlabel(\"Voltage (V)\")\n",
    "plt.ylabel(r\"$\\alpha (dB/cm)$\")"
   ]
  },
  {
   "cell_type": "markdown",
   "id": "eef37f70",
   "metadata": {},
   "source": [
    "We can compare the index distribution the same undoped waveguide:"
   ]
  },
  {
   "cell_type": "code",
   "execution_count": null,
   "id": "3a3a7006",
   "metadata": {},
   "outputs": [],
   "source": [
    "c_undoped = c.make_waveguide(wavelength=1.55, perturb=False, precision=\"double\")\n",
    "c_undoped.compute_modes()\n",
    "n_undoped = c_undoped.index.values"
   ]
  },
  {
   "cell_type": "code",
   "execution_count": null,
   "id": "a6d61378",
   "metadata": {},
   "outputs": [],
   "source": [
    "plt.imshow(\n",
    "    np.log(np.abs(np.real(n_dist[0].T - n_undoped.T))),\n",
    "    origin=\"lower\",\n",
    "    extent=[\n",
    "        -c.xmargin - c.ppp_offset - c.core_width / 2,\n",
    "        c.xmargin + c.npp_offset + c.core_width / 2,\n",
    "        0,\n",
    "        c.clad_thickness + c.box_thickness + c.core_thickness,\n",
    "    ],\n",
    ")\n",
    "plt.colorbar(label=\"$log10(|n_{doped} - n_{undoped}|)$\")\n",
    "plt.xlabel(\"x (m)\")\n",
    "plt.ylabel(\"y (m)\")\n",
    "plt.ylim(1.72e-6, 2.5e-6)\n",
    "plt.title(\"Voltage = 0V\")"
   ]
  },
  {
   "cell_type": "code",
   "execution_count": null,
   "id": "afdb9219",
   "metadata": {},
   "outputs": [],
   "source": [
    "plt.imshow(\n",
    "    np.log(np.abs(np.real(n_dist[-4].T - n_undoped.T))),\n",
    "    origin=\"lower\",\n",
    "    extent=[\n",
    "        -c.xmargin - c.ppp_offset - c.core_width / 2,\n",
    "        c.xmargin + c.npp_offset + c.core_width / 2,\n",
    "        0,\n",
    "        c.clad_thickness + c.box_thickness + c.core_thickness,\n",
    "    ],\n",
    ")\n",
    "plt.colorbar(label=\"$log10(|n_{doped} - n_{undoped}|)$\")\n",
    "plt.xlabel(\"x (m)\")\n",
    "plt.ylabel(\"y (m)\")\n",
    "plt.ylim(1.72e-6, 2.5e-6)\n",
    "plt.title(\"Voltage = -4V\")"
   ]
  },
  {
   "cell_type": "code",
   "execution_count": null,
   "id": "8adbf293",
   "metadata": {},
   "outputs": [],
   "source": [
    "plt.imshow(\n",
    "    np.log(np.abs(np.imag(n_dist[0].T - n_undoped.T))),\n",
    "    origin=\"lower\",\n",
    "    extent=[\n",
    "        -c.xmargin - c.ppp_offset - c.core_width / 2,\n",
    "        c.xmargin + c.npp_offset + c.core_width / 2,\n",
    "        0,\n",
    "        c.clad_thickness + c.box_thickness + c.core_thickness,\n",
    "    ],\n",
    ")\n",
    "plt.colorbar(label=r\"$log10(|\\kappa_{doped} - \\kappa_{undoped}|)$\")\n",
    "plt.xlabel(\"x (m)\")\n",
    "plt.ylabel(\"y (m)\")\n",
    "plt.ylim(1.72e-6, 2.5e-6)\n",
    "plt.title(\"Voltage = 0V\")"
   ]
  },
  {
   "cell_type": "code",
   "execution_count": null,
   "id": "d8fdc4a8",
   "metadata": {},
   "outputs": [],
   "source": [
    "plt.imshow(\n",
    "    np.log(np.abs(np.imag(n_dist[-4].T))),\n",
    "    origin=\"lower\",\n",
    "    extent=[\n",
    "        -c.xmargin - c.ppp_offset - c.core_width / 2,\n",
    "        c.xmargin + c.npp_offset + c.core_width / 2,\n",
    "        0,\n",
    "        c.clad_thickness + c.box_thickness + c.core_thickness,\n",
    "    ],\n",
    ")\n",
    "plt.colorbar(label=r\"$log10(|\\kappa_{doped} - \\kappa_{undoped}|)$\")\n",
    "plt.xlabel(\"x (m)\")\n",
    "plt.ylabel(\"y (m)\")\n",
    "plt.ylim(1.72e-6, 2.5e-6)\n",
    "plt.title(\"Voltage = -4V\")"
   ]
  }
 ],
 "metadata": {
  "jupytext": {
   "cell_metadata_filter": "-all",
   "formats": "md,ipynb",
   "main_language": "python",
   "notebook_metadata_filter": "-all"
  }
 },
 "nbformat": 4,
 "nbformat_minor": 5
}
